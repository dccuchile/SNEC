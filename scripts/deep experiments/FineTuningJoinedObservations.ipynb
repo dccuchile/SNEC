{
  "nbformat": 4,
  "nbformat_minor": 0,
  "metadata": {
    "colab": {
      "name": "FlairExperimentsLinear.ipynb",
      "provenance": []
    },
    "accelerator": "GPU"
  },
  "cells": [
    {
      "cell_type": "code",
      "metadata": {
        "id": "Wj9ptIGwtvUt",
        "jupyter": {
          "outputs_hidden": false
        }
      },
      "source": [
        "# !pip install --upgrade gensim\n",
        "# # !pip install \"transformers==3.5.1\"\n",
        "# !pip install -U sentence-transformers\n",
        "# !pip install kornia\n",
        "# # !pip install \"torch==1.7.0\"\n",
        "# !pip install flair"
      ],
      "execution_count": null,
      "outputs": []
    },
    {
      "cell_type": "code",
      "metadata": {
        "id": "UoZY0qQktvU0",
        "jupyter": {
          "outputs_hidden": false
        }
      },
      "source": [
        "import os\n",
        "os.environ['CUDA_LAUNCH_BLOCKING'] = \"1\"\n",
        "\n",
        "import torch\n",
        "import pandas as pd\n",
        "import numpy as np\n",
        "from sklearn.preprocessing import LabelEncoder\n",
        "import re\n",
        "from sklearn.model_selection import train_test_split\n",
        "from sklearn.metrics import accuracy_score, f1_score, hamming_loss, confusion_matrix\n",
        "from transformers import BertTokenizer\n",
        "from transformers import BertForSequenceClassification, AdamW, BertConfig\n",
        "from torch.utils.data import TensorDataset, DataLoader, RandomSampler, SequentialSampler\n",
        "\n",
        "import torch.nn as nn\n",
        "from torch.utils.data import Dataset, DataLoader, random_split\n",
        "from torch.utils.data.sampler import SubsetRandomSampler\n",
        "import transformers\n",
        "from transformers import RobertaTokenizer, BertTokenizer, RobertaModel, BertModel, AdamW\n",
        "from transformers import get_linear_schedule_with_warmup\n",
        "import time\n",
        "from kornia.losses import BinaryFocalLossWithLogits\n",
        "\n",
        "import flair\n",
        "from flair.data import Sentence\n",
        "from flair.embeddings import TransformerDocumentEmbeddings\n",
        "from flair.embeddings import SentenceTransformerDocumentEmbeddings\n",
        "\n",
        "import warnings\n",
        "import traceback"
      ],
      "execution_count": null,
      "outputs": []
    },
    {
      "cell_type": "code",
      "metadata": {
        "colab": {
          "base_uri": "https://localhost:8080/"
        },
        "id": "ypzJyW9AtvU1",
        "jupyter": {
          "outputs_hidden": false
        },
        "outputId": "9b5e881a-6623-48f5-8caf-9dfc6835683c"
      },
      "source": [
        "!nvidia-smi"
      ],
      "execution_count": null,
      "outputs": [
        {
          "output_type": "stream",
          "text": [
            "Sun Jul  4 23:17:39 2021       \r\n",
            "+-----------------------------------------------------------------------------+\r\n",
            "| NVIDIA-SMI 450.119.04   Driver Version: 450.119.04   CUDA Version: 11.0     |\r\n",
            "|-------------------------------+----------------------+----------------------+\r\n",
            "| GPU  Name        Persistence-M| Bus-Id        Disp.A | Volatile Uncorr. ECC |\r\n",
            "| Fan  Temp  Perf  Pwr:Usage/Cap|         Memory-Usage | GPU-Util  Compute M. |\r\n",
            "|                               |                      |               MIG M. |\r\n",
            "|===============================+======================+======================|\r\n",
            "|   0  GeForce RTX 2080    Off  | 00000000:03:00.0 Off |                  N/A |\r\n",
            "|  0%   47C    P0    43W / 260W |      3MiB /  7982MiB |      0%      Default |\r\n",
            "|                               |                      |                  N/A |\r\n",
            "+-------------------------------+----------------------+----------------------+\r\n",
            "|   1  GeForce RTX 2080    Off  | 00000000:05:00.0 Off |                  N/A |\r\n",
            "|  0%   39C    P0    53W / 260W |      3MiB /  7982MiB |      0%      Default |\r\n",
            "|                               |                      |                  N/A |\r\n",
            "+-------------------------------+----------------------+----------------------+\r\n",
            "                                                                               \r\n",
            "+-----------------------------------------------------------------------------+\r\n",
            "| Processes:                                                                  |\r\n",
            "|  GPU   GI   CI        PID   Type   Process name                  GPU Memory |\r\n",
            "|        ID   ID                                                   Usage      |\r\n",
            "|=============================================================================|\r\n",
            "|  No running processes found                                                 |\r\n",
            "+-----------------------------------------------------------------------------+\r\n"
          ],
          "name": "stdout"
        }
      ]
    },
    {
      "cell_type": "code",
      "metadata": {
        "colab": {
          "base_uri": "https://localhost:8080/"
        },
        "id": "6G2-fISXQyfr",
        "jupyter": {
          "outputs_hidden": false
        },
        "outputId": "4c5e7cd6-ea29-430e-bfd8-55c782e60aba"
      },
      "source": [
        "# If there's a GPU available...\n",
        "if torch.cuda.is_available():    \n",
        "\n",
        "    # Tell PyTorch to use the GPU.    \n",
        "    device = torch.device(\"cuda:0\")\n",
        "\n",
        "    print('There are %d GPU(s) available.' % torch.cuda.device_count())\n",
        "\n",
        "    print('We will use the GPU:', torch.cuda.get_device_name(0))\n",
        "\n",
        "# If not...\n",
        "else:\n",
        "    print('No GPU available, using the CPU instead.')\n",
        "    device = torch.device(\"cpu\")\n",
        "\n",
        "flair.device = device"
      ],
      "execution_count": null,
      "outputs": [
        {
          "output_type": "stream",
          "text": [
            "There are 2 GPU(s) available.\n",
            "We will use the GPU: GeForce RTX 2080\n"
          ],
          "name": "stdout"
        }
      ]
    },
    {
      "cell_type": "markdown",
      "metadata": {
        "id": "RonQHx7OJfXj"
      },
      "source": [
        "##Preparing Dataset"
      ]
    },
    {
      "cell_type": "markdown",
      "metadata": {
        "id": "CUgSQCJlNl2r"
      },
      "source": [
        "###Load dataset"
      ]
    },
    {
      "cell_type": "code",
      "metadata": {
        "id": "JdipkFQDJi6p",
        "jupyter": {
          "outputs_hidden": false
        }
      },
      "source": [
        "categories_number_words = {\n",
        "        1: \"Apoyo Pedagógico en asignaturas\",\n",
        "        3: \"Apoyo pedagógico personal\",\n",
        "        4: \"Tutoría entre pares\",\n",
        "        7: \"Hacer a la familia partícipe del proceso\",\n",
        "        8: \"Apoyo psicóloga(o)\",\n",
        "        9: \"Apoyo fonoaudióloga(o)\",\n",
        "        10: \"Apoyo Educador(a) Diferencial\",\n",
        "        11: \"Apoyo Kinesióloga(o)\",\n",
        "        12: \"Apoyo Médico General\",\n",
        "        13: \"Apoyo Terapeuta Ocupacional\",\n",
        "        14: \"Control Neurólogo\",\n",
        "        15: \"Apoyo Interdisciplinario\",\n",
        "        16: \"Adecuación curricular de acceso\",\n",
        "        17: \"Adecuación curricular de objetivos\"\n",
        "    }\n",
        "categories_words_number = {v: k for k, v in categories_number_words.items()}\n",
        "\n",
        "diagnoses_codes = {\n",
        "    \"Trastorno específico del lenguaje\": 0,\n",
        "    \"Trastorno por déficit atencional\": 1,\n",
        "    \"Dificultad específica de aprendizaje\": 2,\n",
        "    \"Discapacidad intelectual\": 3,\n",
        "    \"Discapacidad visual\": 4,\n",
        "    \"Trastorno del espectro autista\": 5,\n",
        "    \"Discapacidad auditiva - Hipoacusia\": 6,\n",
        "    \"Funcionamiento intelectual limítrofe\": 7,\n",
        "    \"Síndrome de Down\": 8,\n",
        "    \"Trastorno motor\": 9,\n",
        "    \"Multidéficit\": 10,\n",
        "    \"Retraso global del desarrollo\": 11\n",
        "}\n",
        "\n",
        "diagnoses_keys = list(diagnoses_codes.keys())\n",
        "\n",
        "def transform_diag_to_array(code):\n",
        "    arr = np.zeros(len(diagnoses_keys), dtype=int)\n",
        "    for (index, label) in enumerate(diagnoses_keys):\n",
        "        if diagnoses_codes[label]==code:\n",
        "            arr[index] = 1\n",
        "    return arr"
      ],
      "execution_count": null,
      "outputs": []
    },
    {
      "cell_type": "code",
      "metadata": {
        "id": "69bH3NpmMBFs",
        "jupyter": {
          "outputs_hidden": false
        }
      },
      "source": [
        "train_dataset = pd.read_csv('/research/jamunoz/datasets/train_ds.csv', keep_default_na=False)\n",
        "val_dataset = pd.read_csv('/research/jamunoz/datasets/val_ds.csv', keep_default_na=False)\n",
        "test_dataset = pd.read_csv('/research/jamunoz/datasets/test_ds.csv', keep_default_na=False)\n",
        "# train_dataset = pd.read_csv('gdrive/My Drive/magister/train_ds.csv', keep_default_na=False)\n",
        "# val_dataset = pd.read_csv('gdrive/My Drive/magister/val_ds.csv', keep_default_na=False)\n",
        "# test_dataset = pd.read_csv('gdrive/My Drive/magister/test_ds.csv', keep_default_na=False)\n",
        "\n",
        "\n",
        "# Add OHE diagnosis\n",
        "train_OHE_diags = []\n",
        "for diag in train_dataset['Encoded Diagnosis']:\n",
        "    train_OHE_diags.append(transform_diag_to_array(diag))\n",
        "temp_train_diags_df = pd.DataFrame(train_OHE_diags, columns=diagnoses_keys)\n",
        "train_dataset = pd.concat([train_dataset, temp_train_diags_df], axis=1)\n",
        "\n",
        "val_OHE_diags = []\n",
        "for diag in val_dataset['Encoded Diagnosis']:\n",
        "    val_OHE_diags.append(transform_diag_to_array(diag))\n",
        "temp_val_diags_df = pd.DataFrame(val_OHE_diags, columns=diagnoses_keys)\n",
        "val_dataset = pd.concat([val_dataset, temp_val_diags_df], axis=1)\n",
        "\n",
        "test_OHE_diags = []\n",
        "for diag in test_dataset['Encoded Diagnosis']:\n",
        "    test_OHE_diags.append(transform_diag_to_array(diag))\n",
        "temp_test_diags_df = pd.DataFrame(test_OHE_diags, columns=diagnoses_keys)\n",
        "test_dataset = pd.concat([test_dataset, temp_test_diags_df], axis=1)"
      ],
      "execution_count": null,
      "outputs": []
    },
    {
      "cell_type": "code",
      "metadata": {
        "id": "2CsWWAVbMHrI",
        "jupyter": {
          "outputs_hidden": false
        }
      },
      "source": [
        "# y_keys = list(strat_present.keys())\n",
        "Y_KEYS = list(categories_words_number.keys())\n",
        "\n",
        "# df = pd.DataFrame(data=new_dataset_to_export)\n",
        "# X = df\n",
        "# Y = df[y_keys]\n",
        "X_train = train_dataset.drop(Y_KEYS, axis=1)\n",
        "Y_train = train_dataset[Y_KEYS]\n",
        "X_val = val_dataset.drop(Y_KEYS, axis=1)\n",
        "Y_val = val_dataset[Y_KEYS]\n",
        "X_test = test_dataset.drop(Y_KEYS, axis=1)\n",
        "Y_test = test_dataset[Y_KEYS]\n",
        "\n",
        "strats_amounts = {\n",
        "              'Adecuación curricular de acceso': 2264,\n",
        "              'Hacer a la familia partícipe del proceso': 2048,\n",
        "              'Apoyo Interdisciplinario': 1441, \n",
        "              'Apoyo Educador(a) Diferencial': 1311,\n",
        "              'Apoyo pedagógico personal': 1240,\n",
        "              'Apoyo fonoaudióloga(o)': 378,\n",
        "              'Apoyo psicóloga(o)': 588,\n",
        "              'Apoyo Terapeuta Ocupacional': 153,\n",
        "              'Tutoría entre pares': 350,\n",
        "              'Control Neurólogo': 63,\n",
        "              'Apoyo Médico General': 64,\n",
        "              'Apoyo Kinesióloga(o)': 32,\n",
        "              'Adecuación curricular de objetivos': 281,\n",
        "              'Apoyo Pedagógico en asignaturas': 1314\n",
        "}\n",
        "most_unbalanced_strategies = [strategy for strategy in Y_KEYS if (\n",
        "    strats_amounts[strategy] < (len(X_train) + len(X_val) + len(X_test))*0.15 or strats_amounts[strategy] > (len(X_train) + len(X_val) + len(X_test))*0.85)]\n",
        "less_unbalanced_strategies = [strategy for strategy in Y_KEYS if strategy not in most_unbalanced_strategies]\n",
        "only_one_strat = [Y_KEYS[0]]"
      ],
      "execution_count": null,
      "outputs": []
    },
    {
      "cell_type": "markdown",
      "metadata": {
        "id": "ONu-YYe8PIlF"
      },
      "source": [
        "###Dataset"
      ]
    },
    {
      "cell_type": "code",
      "metadata": {
        "id": "nymd7231RqJJ",
        "jupyter": {
          "outputs_hidden": false
        }
      },
      "source": [
        "class AllJoinedObservationsDataset(Dataset):\n",
        "\n",
        "    def __init__(self, data):\n",
        "        self.data = data\n",
        "\n",
        "    def __len__(self):\n",
        "        return len(self.data)\n",
        "\n",
        "    def __getitem__(self, idx):\n",
        "      data_row = self.data.iloc[idx]\n",
        "      labels =  data_row[Y_KEYS]\n",
        "\n",
        "      tensor_labels = torch.tensor(labels, dtype=torch.int)\n",
        "      tensor_diags = torch.tensor(data_row[diagnoses_keys], dtype=torch.int)\n",
        "\n",
        "      dict_to_return = dict(\n",
        "          all_perceptions=data_row['All perceptions'],\n",
        "          sne_perceptions=data_row['Special Education Teacher Perceptions'],\n",
        "          st_perceptions=data_row['Speech Therapist Perceptions'],\n",
        "          p_perceptions=data_row['Psychologist Perceptions'],\n",
        "          m_perceptions=data_row['Medical Perceptions'],\n",
        "          labels=tensor_labels,\n",
        "          diagnostics=tensor_diags\n",
        "      )\n",
        "\n",
        "      return dict_to_return"
      ],
      "execution_count": null,
      "outputs": []
    },
    {
      "cell_type": "markdown",
      "metadata": {
        "id": "1kXynftO6NNr"
      },
      "source": [
        "###Dataloaders"
      ]
    },
    {
      "cell_type": "code",
      "metadata": {
        "id": "0m96W-bR1Is2",
        "jupyter": {
          "outputs_hidden": false
        }
      },
      "source": [
        "TRAIN_BATCH_SIZE=1\n",
        "\n",
        "def my_collate1(batches):\n",
        "  modified_batches = []\n",
        "  for batch in batches:\n",
        "    batch_dict = {}\n",
        "    for key, value in batch.items():\n",
        "      batch_dict[key] = value\n",
        "    modified_batches.append(batch_dict)\n",
        "  return modified_batches\n",
        "\n",
        "transformed_train_dataset=AllJoinedObservationsDataset(\n",
        "    train_dataset)\n",
        "\n",
        "transformed_val_dataset=AllJoinedObservationsDataset(\n",
        "    val_dataset)\n",
        "\n",
        "transformed_test_dataset=AllJoinedObservationsDataset(\n",
        "    test_dataset)\n",
        "\n",
        "train_data_loader=DataLoader(\n",
        "    transformed_train_dataset,\n",
        "    batch_size=TRAIN_BATCH_SIZE,\n",
        "    collate_fn=my_collate1)\n",
        "\n",
        "val_data_loader=DataLoader(\n",
        "    transformed_val_dataset,\n",
        "    batch_size=TRAIN_BATCH_SIZE,\n",
        "    collate_fn=my_collate1)\n",
        "\n",
        "test_data_loader=DataLoader(\n",
        "    transformed_test_dataset,\n",
        "    batch_size=TRAIN_BATCH_SIZE,\n",
        "    collate_fn=my_collate1)"
      ],
      "execution_count": null,
      "outputs": []
    },
    {
      "cell_type": "markdown",
      "metadata": {
        "id": "KOLV6bNeo9Fu"
      },
      "source": [
        "###Utils"
      ]
    },
    {
      "cell_type": "code",
      "metadata": {
        "id": "IxgILmMRpASj",
        "jupyter": {
          "outputs_hidden": false
        }
      },
      "source": [
        "import statistics\n",
        "\n",
        "def get_results(targets, outputs):\n",
        "  TN = 0\n",
        "  TP = 0\n",
        "  FP = 0\n",
        "  FN = 0\n",
        "  for (i, output) in enumerate(outputs):\n",
        "    if output==0:\n",
        "      if targets[i]==0:\n",
        "        TN += 1\n",
        "      else:\n",
        "        FN += 1\n",
        "    else:\n",
        "      if targets[i]==1:\n",
        "        TP += 1\n",
        "      else:\n",
        "        FP += 1\n",
        "  return TP, TN, FP, FN\n",
        "\n",
        "def findMinDiff(arr):\n",
        "    n = len(arr)\n",
        "    arr = sorted(arr)\n",
        "    diff = 0.5\n",
        "    for i in range(n-1):\n",
        "        if arr[i+1] - arr[i] > 0 and arr[i+1] - arr[i] < diff:\n",
        "            diff = arr[i+1] - arr[i]\n",
        "    return diff\n",
        "\n",
        "def get_thresholds(targets, outputs):\n",
        "  best_thresholds = []\n",
        "  for i in range(len(outputs[0])):\n",
        "    real_preds = outputs[:, i]\n",
        "    trues = targets[:, i]\n",
        "    max_g = 0\n",
        "#     max_f1 = 0\n",
        "    delta_threshold = 0.0001 # findMinDiff(real_preds)*0.9\n",
        "    positive_ratio = sum(trues)/len(trues)\n",
        "#     print('pr: ', positive_ratio)\n",
        "    if positive_ratio > 0.6:\n",
        "      local_best = 0\n",
        "      curr_threshold = min(real_preds)\n",
        "#       print(curr_threshold)\n",
        "      while curr_threshold < 1:\n",
        "        preds = [1 if pred > curr_threshold else 0 for pred in real_preds]\n",
        "        tp, tn, fp, fn = get_results(trues, preds)\n",
        "        recall = tp/(tp+fn)\n",
        "        specificity = tn/(tn+fp)\n",
        "        g_mean = np.sqrt(recall*specificity)\n",
        "#         f1 = f1_score(trues, preds)\n",
        "#         print(f1, max_f1, curr_threshold, local_best, tp, tn, fp, fn)\n",
        "        if tp < tn:\n",
        "          break\n",
        "        if g_mean > max_g:\n",
        "#         if f1 > max_f1:\n",
        "          max_g = g_mean\n",
        "#           max_f1 = f1\n",
        "          local_best = curr_threshold\n",
        "        curr_threshold += delta_threshold\n",
        "      best_thresholds.append(local_best)\n",
        "    elif positive_ratio < 0.4:\n",
        "      local_best = 1\n",
        "      curr_threshold = max(real_preds)\n",
        "      while curr_threshold > 0:\n",
        "        preds = [1 if pred > curr_threshold else 0 for pred in real_preds]\n",
        "        tp, tn, fp, fn = get_results(trues, preds)\n",
        "        recall = tp/(tp+fn)\n",
        "        specificity = tn/(tn+fp)\n",
        "        g_mean = np.sqrt(recall*specificity)\n",
        "#         f1 = f1_score(trues, preds)\n",
        "        if tn < tp:\n",
        "          break\n",
        "        if g_mean > max_g:\n",
        "#         if f1 > max_f1:\n",
        "          max_g = g_mean\n",
        "#           max_f1 = f1\n",
        "          local_best = curr_threshold\n",
        "        curr_threshold -= delta_threshold\n",
        "      best_thresholds.append(local_best)\n",
        "    else:\n",
        "      local_best = 0.5\n",
        "      best_thresholds.append(local_best)\n",
        "  return best_thresholds\n",
        "\n",
        "def get_individual_threshold(target, output):\n",
        "    real_preds = output\n",
        "    trues = target\n",
        "    max_g = 0\n",
        "    # max_f1 = 0\n",
        "    delta_threshold = 0.0001 # findMinDiff(real_preds)*0.9\n",
        "    positive_ratio = sum(trues)/len(trues)\n",
        "#     print('pr: ', positive_ratio)\n",
        "    if positive_ratio > 0.5:\n",
        "      local_best = 0\n",
        "      curr_threshold = min(real_preds)\n",
        "#       print(curr_threshold)\n",
        "      while curr_threshold < 1:\n",
        "        preds = [1 if pred > curr_threshold else 0 for pred in real_preds]\n",
        "        tp, tn, fp, fn = get_results(trues, preds)\n",
        "        recall = tp/(tp+fn)\n",
        "        specificity = tn/(tn+fp)\n",
        "        g_mean = np.sqrt(recall*specificity)\n",
        "        # f1 = f1_score(trues, preds)\n",
        "#         print(f1, max_f1, curr_threshold, local_best, tp, tn, fp, fn)\n",
        "        if tp < tn:\n",
        "          break\n",
        "        if g_mean > max_g:\n",
        "        # if f1 > max_f1:\n",
        "          max_g = g_mean\n",
        "          # max_f1 = f1\n",
        "          local_best = curr_threshold\n",
        "        curr_threshold += delta_threshold\n",
        "      return local_best\n",
        "    else:\n",
        "      local_best = 1\n",
        "      curr_threshold = max(real_preds)\n",
        "      while curr_threshold > 0:\n",
        "        preds = [1 if pred > curr_threshold else 0 for pred in real_preds]\n",
        "        tp, tn, fp, fn = get_results(trues, preds)\n",
        "        recall = tp/(tp+fn)\n",
        "        specificity = tn/(tn+fp)\n",
        "        g_mean = np.sqrt(recall*specificity)\n",
        "        # f1 = f1_score(trues, preds)\n",
        "        if tn < tp:\n",
        "          break\n",
        "        if g_mean > max_g:\n",
        "        # if f1 > max_f1:\n",
        "          max_g = g_mean\n",
        "          # max_f1 = f1\n",
        "          local_best = curr_threshold\n",
        "        curr_threshold -= delta_threshold\n",
        "      return local_best\n",
        "    # else:\n",
        "    #   local_best = 0.5\n",
        "    #   return local_best"
      ],
      "execution_count": null,
      "outputs": []
    },
    {
      "cell_type": "code",
      "metadata": {
        "id": "8gSsCmTCo_Cd",
        "jupyter": {
          "outputs_hidden": false
        }
      },
      "source": [
        "def loss_fun(outputs, targets):\n",
        "    loss = nn.BCEWithLogitsLoss()\n",
        "    # loss = BinaryFocalLossWithLogits(alpha=0.25, reduction='mean')\n",
        "    try:\n",
        "      return loss(outputs, targets)\n",
        "    except Exception:\n",
        "      print(outputs, targets)\n",
        "      traceback.print_exc()\n",
        "    # return nn.BCEWithLogitsLoss()(outputs, targets)\n",
        "\n",
        "def individual_evaluation(target, predicted):\n",
        "  individual = {}\n",
        "  for i in range(len(target[0])):\n",
        "    temp_t = target[:, i]\n",
        "    temp_p = predicted[:, i]\n",
        "    diction = dict(\n",
        "        accuracy=accuracy_score(temp_t, temp_p),\n",
        "        f1=f1_score(temp_t, temp_p)\n",
        "    )\n",
        "    individual[str(i)] = diction\n",
        "  return individual\n",
        "\n",
        "def evaluate(target, predicted):\n",
        "    thresholds = get_thresholds(target, predicted)\n",
        "    print('thresholds: ', thresholds)\n",
        "    true_predicted = np.array([[1 if val > thresholds[i] else 0 for (i, val) in enumerate(pred)] for pred in predicted])\n",
        "    accuracy = accuracy_score(target, true_predicted)\n",
        "    macro_f1 = f1_score(target, true_predicted, average='macro')\n",
        "    micro_f1 = f1_score(target, true_predicted, average='micro')\n",
        "    weighted_f1 = f1_score(target, true_predicted, average='weighted')\n",
        "    hl = hamming_loss(target, true_predicted)\n",
        "    js = jaccard_score(target, true_predicted)\n",
        "    macro_js = jaccard_score(target, true_predicted, average=\"macro\")\n",
        "    micro_js = jaccard_score(target, true_predicted, average=\"micro\")\n",
        "    individual = individual_evaluation(target, true_predicted)\n",
        "    return {\n",
        "        \"accuracy\": accuracy,\n",
        "        \"jaccard_score_average\": js,\n",
        "        \"jaccard_score_macro\": macro_js,\n",
        "        \"jaccard_score_micro\": micro_js,\n",
        "        \"macro-f1\": macro_f1,\n",
        "        \"micro-f1\": micro_f1,\n",
        "        \"Hamming Loss\": hl,\n",
        "        \"Individual\": individual\n",
        "    }\n",
        "\n",
        "def individual_evaluation(target, predicted):\n",
        "    threshold = get_individual_threshold(target, predicted)\n",
        "    print('threshold: ',threshold)\n",
        "    true_predicted = np.array([1 if val > threshold else 0 for val in predicted])\n",
        "    default_true_predicted = np.array([1 if val > 0.5 else 0 for val in predicted])\n",
        "    accuracy = accuracy_score(target, true_predicted)\n",
        "    f1 = f1_score(target, true_predicted)\n",
        "    tp, tn, fp, fn = get_results(target, true_predicted)\n",
        "    recall = tp/(tp+fn)\n",
        "    specificity = tn/(tn+fp)\n",
        "    pr = sum(target)/len(target)\n",
        "\n",
        "    default_accuracy = accuracy_score(target, default_true_predicted)\n",
        "    default_f1 = f1_score(target, default_true_predicted)\n",
        "    tp, tn, fp, fn = get_results(target, default_true_predicted)\n",
        "    default_recall = tp/(tp+fn)\n",
        "    default_specificity = tn/(tn+fp)\n",
        "    return {\n",
        "        \"Positive Rate\": pr,\n",
        "        \"threshold\": threshold[0],\n",
        "        \"accuracy\": accuracy,\n",
        "        \"f1\": f1,\n",
        "        \"recall\": recall,\n",
        "        \"specificity\": specificity,\n",
        "        \"default_accuracy\": default_accuracy,\n",
        "        \"default_f1\": default_f1,\n",
        "        \"default_recall\": default_recall,\n",
        "        \"default_specificity\": default_specificity,\n",
        "    }"
      ],
      "execution_count": null,
      "outputs": []
    },
    {
      "cell_type": "code",
      "metadata": {
        "jupyter": {
          "outputs_hidden": false
        },
        "id": "UqGStlSANKLr"
      },
      "source": [
        "def individual_test(target, predicted, threshold):\n",
        "    true_predicted = np.array([1 if val > threshold else 0 for val in predicted])\n",
        "    default_true_predicted = np.array([1 if val > 0.5 else 0 for val in predicted])\n",
        "    accuracy = accuracy_score(target, true_predicted)\n",
        "    f1 = f1_score(target, true_predicted)\n",
        "    tp, tn, fp, fn = get_results(target, true_predicted)\n",
        "    recall = tp/(tp+fn)\n",
        "    specificity = tn/(tn+fp)\n",
        "    pr = sum(target)/len(target)\n",
        "\n",
        "    default_accuracy = accuracy_score(target, default_true_predicted)\n",
        "    default_f1 = f1_score(target, default_true_predicted)\n",
        "    tp, tn, fp, fn = get_results(target, default_true_predicted)\n",
        "    default_recall = tp/(tp+fn)\n",
        "    default_specificity = tn/(tn+fp)\n",
        "    return {\n",
        "        \"Positive Rate\": pr,\n",
        "        \"accuracy\": accuracy,\n",
        "        \"f1\": f1,\n",
        "        \"recall\": recall,\n",
        "        \"specificity\": specificity,\n",
        "        \"default_accuracy\": default_accuracy,\n",
        "        \"default_f1\": default_f1,\n",
        "        \"default_recall\": default_recall,\n",
        "        \"default_specificity\": default_specificity,\n",
        "    }"
      ],
      "execution_count": null,
      "outputs": []
    },
    {
      "cell_type": "markdown",
      "metadata": {
        "id": "1WUZvwDfeUNH"
      },
      "source": [
        "###Models"
      ]
    },
    {
      "cell_type": "code",
      "metadata": {
        "id": "umoS3U06eWQW",
        "jupyter": {
          "outputs_hidden": false
        }
      },
      "source": [
        "class Single_Flair_Model(nn.Module):\n",
        "    \"\"\" A Model for bert fine tuning \"\"\"\n",
        "\n",
        "    def __init__(self, n_diags):\n",
        "        super(Single_Flair_Model, self).__init__()\n",
        "        self.embedding = TransformerDocumentEmbeddings(\"dccuchile/bert-base-spanish-wwm-cased\", fine_tune=True, layers='-1')\n",
        "        self.linear = nn.Linear(768, 100, 1)\n",
        "        self.out = nn.Linear(100 + n_diags, 1)\n",
        "\n",
        "    def forward(self, sentence_inp, diagnostics):\n",
        "        self.embedding.embed(sentence_inp)\n",
        "        emb = [sentence.get_embedding() for sentence in sentence_inp]\n",
        "        output = self.linear(emb[0])\n",
        "        output = torch.cat((output, diagnostics), dim=0)\n",
        "        output = self.out(output)\n",
        "        return output"
      ],
      "execution_count": null,
      "outputs": []
    },
    {
      "cell_type": "code",
      "metadata": {
        "id": "aQlIvkA_o2Pu",
        "jupyter": {
          "outputs_hidden": false
        }
      },
      "source": [
        "def individual_train_loop_fun1(data_loader, model, optimizer, device, grad_accs, scheduler=None, label_index=0):\n",
        "    model.train()\n",
        "    t0 = time.time()\n",
        "    losses = []\n",
        "    optimizer.zero_grad()\n",
        "    for batch_idx, batch in enumerate(data_loader):\n",
        "        text = [Sentence(data[\"all_perceptions\"]) for data in batch]\n",
        "        labels = [data[\"labels\"][label_index] for data in batch]\n",
        "        targets = []\n",
        "        if len(labels) > 1:\n",
        "            for label_set in labels:\n",
        "              miniset = []\n",
        "              for label in label_set:\n",
        "                miniset.append(torch.tensor([label]))\n",
        "              targets.append(torch.stack(miniset))\n",
        "        else:\n",
        "            miniset = [torch.tensor([labels[0]])]\n",
        "            targets.append(torch.stack(miniset))\n",
        "        diagnostics = [data[\"diagnostics\"] for data in batch]\n",
        "\n",
        "        # text = torch.cat(text)\n",
        "        targets = torch.cat(targets)\n",
        "        diagnostics = torch.cat(diagnostics)\n",
        "\n",
        "        # ids = text.to(device, dtype=torch.long)\n",
        "        # mask = mask.to(device, dtype=torch.long)\n",
        "        # token_type_ids = token_type_ids.to(device, dtype=torch.long)\n",
        "        targets = targets.to(device, dtype=torch.float)\n",
        "        diagnostics = diagnostics.to(device, dtype=torch.long)\n",
        "\n",
        "        outputs = torch.stack([model(sentence_inp=text, diagnostics=diagnostics)])\n",
        "        # outputs = torch.cat(torch.unbind(outputs))\n",
        "        loss = loss_fun(outputs, targets)\n",
        "        (loss / grad_accs).backward()\n",
        "        model.float()\n",
        "        if (batch_idx + 1) % grad_accs == 0:\n",
        "            optimizer.step()\n",
        "            optimizer.zero_grad()\n",
        "#             if scheduler:\n",
        "#                 scheduler.step()\n",
        "        losses.append(loss.item())\n",
        "        if batch_idx % 250 == 0:\n",
        "            print(\n",
        "                f\"___ batch index = {batch_idx} / {len(data_loader)} ({100*batch_idx / len(data_loader):.2f}%), loss = {np.mean(losses[-10:]):.4f}, time = {time.time()-t0:.2f} seconds ___\")\n",
        "            t0 = time.time()\n",
        "    return losses"
      ],
      "execution_count": null,
      "outputs": []
    },
    {
      "cell_type": "code",
      "metadata": {
        "id": "l4PXFBR_0Kr3",
        "jupyter": {
          "outputs_hidden": false
        }
      },
      "source": [
        "def individual_eval_loop_fun1(data_loader, model, device, label_index=0):\n",
        "    model.eval()\n",
        "    fin_targets = []\n",
        "    fin_outputs = []\n",
        "    losses = []\n",
        "    for batch_idx, batch in enumerate(data_loader):\n",
        "        text = [Sentence(data[\"all_perceptions\"]) for data in batch]\n",
        "        labels = [data[\"labels\"][label_index] for data in batch]\n",
        "        targets = []\n",
        "        if len(labels) > 1:\n",
        "            for label_set in labels:\n",
        "              miniset = []\n",
        "              for label in label_set:\n",
        "                miniset.append(torch.tensor([label]))\n",
        "              targets.append(torch.stack(miniset))\n",
        "        else:\n",
        "            miniset = [torch.tensor([labels[0]])]\n",
        "            targets.append(torch.stack(miniset))\n",
        "        diagnostics = [data[\"diagnostics\"] for data in batch]\n",
        "\n",
        "        # text = torch.cat(text)\n",
        "        targets = torch.cat(targets)\n",
        "        diagnostics = torch.cat(diagnostics)\n",
        "\n",
        "        # ids = text.to(device, dtype=torch.long)\n",
        "        # mask = mask.to(device, dtype=torch.long)\n",
        "        # token_type_ids = token_type_ids.to(device, dtype=torch.long)\n",
        "        targets = targets.to(device, dtype=torch.float)\n",
        "        diagnostics = diagnostics.to(device, dtype=torch.long)\n",
        "\n",
        "        with torch.no_grad():\n",
        "            outputs = torch.stack([model(sentence_inp=text, diagnostics=diagnostics)])\n",
        "            loss = loss_fun(outputs, targets)\n",
        "            losses.append(loss.item())\n",
        "            \n",
        "        outputs = torch.sigmoid(outputs)\n",
        "        fin_targets.append(targets.cpu().detach().numpy())\n",
        "        fin_outputs.append(outputs.cpu().detach().numpy())\n",
        "    return np.concatenate(fin_outputs), np.concatenate(fin_targets), losses"
      ],
      "execution_count": null,
      "outputs": []
    },
    {
      "cell_type": "code",
      "metadata": {
        "jupyter": {
          "outputs_hidden": false
        },
        "id": "gn3OspkLNKLt"
      },
      "source": [
        "def individual_test_loop_fun1(data_loader, model, device, label_index=0):\n",
        "    model.eval()\n",
        "    fin_targets = []\n",
        "    fin_outputs = []\n",
        "    for batch_idx, batch in enumerate(data_loader):\n",
        "        text = [Sentence(data[\"all_perceptions\"]) for data in batch]\n",
        "        labels = [data[\"labels\"][label_index] for data in batch]\n",
        "        targets = []\n",
        "        if len(labels) > 1:\n",
        "            for label_set in labels:\n",
        "              miniset = []\n",
        "              for label in label_set:\n",
        "                miniset.append(torch.tensor([label]))\n",
        "              targets.append(torch.stack(miniset))\n",
        "        else:\n",
        "            miniset = [torch.tensor([labels[0]])]\n",
        "            targets.append(torch.stack(miniset))\n",
        "        diagnostics = [data[\"diagnostics\"] for data in batch]\n",
        "\n",
        "        # text = torch.cat(text)\n",
        "        targets = torch.cat(targets)\n",
        "        diagnostics = torch.cat(diagnostics)\n",
        "\n",
        "        # ids = text.to(device, dtype=torch.long)\n",
        "        # mask = mask.to(device, dtype=torch.long)\n",
        "        # token_type_ids = token_type_ids.to(device, dtype=torch.long)\n",
        "        targets = targets.to(device, dtype=torch.float)\n",
        "        diagnostics = diagnostics.to(device, dtype=torch.long)\n",
        "\n",
        "        with torch.no_grad():\n",
        "            outputs = torch.stack([model(sentence_inp=text, diagnostics=diagnostics)])\n",
        "            \n",
        "        outputs = torch.sigmoid(outputs)\n",
        "        fin_targets.append(targets.cpu().detach().numpy())\n",
        "        fin_outputs.append(outputs.cpu().detach().numpy())\n",
        "    return np.concatenate(fin_outputs), np.concatenate(fin_targets)"
      ],
      "execution_count": null,
      "outputs": []
    },
    {
      "cell_type": "code",
      "metadata": {
        "colab": {
          "base_uri": "https://localhost:8080/"
        },
        "id": "mQsAPZGL0kIH",
        "jupyter": {
          "outputs_hidden": false
        },
        "scrolled": true,
        "outputId": "8d942be9-ba9b-412f-f788-07b92b334ada"
      },
      "source": [
        "EPOCH = 30\n",
        "GRADIENT_ACCUMULATIONS = 16\n",
        "num_training_steps=int(len(transformed_train_dataset) / (TRAIN_BATCH_SIZE * GRADIENT_ACCUMULATIONS) * EPOCH)\n",
        "ignore = [7,8,9,10]\n",
        "\n",
        "lr = 1e-6\n",
        "for (index, label) in enumerate(Y_KEYS):\n",
        "    if index not in ignore:\n",
        "        patience = 0\n",
        "        LABEL_INDEX = index\n",
        "        print('%%%%%%%%%%%%%%%%%%%%%%%%%%%%%%%%%%%% Para label: ', label, '%%%%%%%%%%%%%%%%%%%%%%%%%%%')\n",
        "        model=Single_Flair_Model(n_diags=len(diagnoses_keys)).to(device) # Bert_FT_Model(len(Y_KEYS)).to(device)\n",
        "        optimizer=AdamW(model.parameters(), lr=lr)\n",
        "        scheduler = get_linear_schedule_with_warmup(optimizer, \n",
        "                                              num_warmup_steps=0,\n",
        "                                              num_training_steps=num_training_steps)\n",
        "        val_losses=[]\n",
        "        batches_losses=[]\n",
        "        val_acc=[]\n",
        "\n",
        "        best_model = None\n",
        "        best_f1 = 0\n",
        "        best_th = 0\n",
        "\n",
        "        for epoch in range(EPOCH):\n",
        "          t0 = time.time()    \n",
        "          print(f\"\\n=============== EPOCH {epoch+1} / {EPOCH} ===============\\n\")\n",
        "          # Modify according to individual or all\n",
        "          batches_losses_tmp=individual_train_loop_fun1(train_data_loader, model, optimizer, device, GRADIENT_ACCUMULATIONS, scheduler=scheduler, label_index=LABEL_INDEX)\n",
        "          epoch_loss=np.mean(batches_losses_tmp)\n",
        "          print(f\"\\n*** avg_loss : {epoch_loss:.2f}, time : ~{(time.time()-t0)//60} min ({time.time()-t0:.2f} sec) ***\\n\")\n",
        "          t1=time.time()\n",
        "          # Modify according to individual or all\n",
        "          output, target, val_losses_tmp=individual_eval_loop_fun1(val_data_loader, model, device, label_index=LABEL_INDEX)\n",
        "          print(f\"==> evaluation : avg_loss = {np.mean(val_losses_tmp):.2f}, time : {time.time()-t1:.2f} sec\\n\")\n",
        "          # Modify according to individual or all\n",
        "          tmp_evaluate=individual_evaluation(target, output)\n",
        "          print(f\"=====>\\t{tmp_evaluate}\")\n",
        "          val_acc.append(tmp_evaluate['accuracy'])\n",
        "          val_losses.append(val_losses_tmp)\n",
        "          batches_losses.append(batches_losses_tmp)\n",
        "          if scheduler:\n",
        "            scheduler.step()\n",
        "          if epoch == 0:\n",
        "#             torch.save(model, \n",
        "#                        f\"/research/jamunoz/models/flair_model_variant/model_\"+str(\n",
        "#                            index)+\"_\"+str(GRADIENT_ACCUMULATIONS)+\"_\"+str(int(-1*np.log10(lr)))+\".pt\")\n",
        "            best_f1 = tmp_evaluate['f1']\n",
        "            best_model = model\n",
        "            best_th = tmp_evaluate['threshold']\n",
        "          else:\n",
        "              if tmp_evaluate['f1'] > best_f1 and tmp_evaluate['recall'] != 0 and tmp_evaluate['specificity'] != 0:\n",
        "                patience = 0\n",
        "#                 os.remove(\"/research/jamunoz/models/flair_model_variant/model_\"+str(\n",
        "#                                index)+\"_\"+str(GRADIENT_ACCUMULATIONS)+\"_\"+str(int(-1*np.log10(lr)))+\".pt\")\n",
        "#                 torch.save(model, \n",
        "#                            f\"/research/jamunoz/models/flair_model_variant/model_\"+str(\n",
        "#                                index)+\"_\"+str(GRADIENT_ACCUMULATIONS)+\"_\"+str(int(-1*np.log10(lr)))+\".pt\")\n",
        "                best_f1 = tmp_evaluate['f1']\n",
        "                best_th = tmp_evaluate['threshold']\n",
        "                del best_model\n",
        "                torch.cuda.empty_cache()\n",
        "                best_model = model\n",
        "              else:\n",
        "                patience += 1\n",
        "                if patience == 5:\n",
        "                    print(\"model did not progress for 5 followed epochs\")\n",
        "                    break\n",
        "\n",
        "        del model, optimizer, scheduler\n",
        "        torch.cuda.empty_cache()\n",
        "#         print(lr)\n",
        "#         best_model = torch.load(\"/research/jamunoz/models/flair_model_variant/model_\"+str(\n",
        "#                                index)+\"_\"+str(GRADIENT_ACCUMULATIONS)+\"_\"+str(int(-1*np.log10(lr)))+\".pt\", map_location=device)\n",
        "        output, target=individual_test_loop_fun1(test_data_loader, best_model, device, label_index=LABEL_INDEX)\n",
        "        tmp_test=individual_test(target, output, best_th)\n",
        "        # torch.save(best_model, f\"/research/jamunoz/models/flair_model/model_\"+str(index)+\".pt\")\n",
        "        print(\"-----------------BEST TH: \", best_th)\n",
        "        print(\"-----------------TEST EVALUATION\", tmp_test)\n",
        "        del best_model\n",
        "        torch.cuda.empty_cache()"
      ],
      "execution_count": null,
      "outputs": [
        {
          "output_type": "stream",
          "text": [
            "%%%%%%%%%%%%%%%%%%%%%%%%%%%%%%%%%%%% Para label:  Apoyo Pedagógico en asignaturas %%%%%%%%%%%%%%%%%%%%%%%%%%%\n"
          ],
          "name": "stdout"
        },
        {
          "output_type": "stream",
          "text": [
            "Some weights of the model checkpoint at dccuchile/bert-base-spanish-wwm-cased were not used when initializing BertModel: ['cls.predictions.transform.LayerNorm.bias', 'cls.predictions.bias', 'cls.predictions.transform.dense.weight', 'cls.predictions.transform.dense.bias', 'cls.predictions.transform.LayerNorm.weight', 'cls.predictions.decoder.weight', 'cls.predictions.decoder.bias']\n",
            "- This IS expected if you are initializing BertModel from the checkpoint of a model trained on another task or with another architecture (e.g. initializing a BertForSequenceClassification model from a BertForPreTraining model).\n",
            "- This IS NOT expected if you are initializing BertModel from the checkpoint of a model that you expect to be exactly identical (initializing a BertForSequenceClassification model from a BertForSequenceClassification model).\n"
          ],
          "name": "stderr"
        },
        {
          "output_type": "stream",
          "text": [
            "Some weights of BertModel were not initialized from the model checkpoint at dccuchile/bert-base-spanish-wwm-cased and are newly initialized: ['bert.pooler.dense.weight', 'bert.pooler.dense.bias']\n",
            "You should probably TRAIN this model on a down-stream task to be able to use it for predictions and inference.\n"
          ],
          "name": "stderr"
        },
        {
          "output_type": "stream",
          "text": [
            "\n",
            "=============== EPOCH 1 / 30 ===============\n",
            "\n",
            "___ batch index = 0 / 1836 (0.00%), loss = 0.7178, time = 0.19 seconds ___\n"
          ],
          "name": "stdout"
        },
        {
          "output_type": "stream",
          "text": [
            "___ batch index = 250 / 1836 (13.62%), loss = 0.7381, time = 21.52 seconds ___\n"
          ],
          "name": "stdout"
        },
        {
          "output_type": "stream",
          "text": [
            "___ batch index = 500 / 1836 (27.23%), loss = 0.7054, time = 20.89 seconds ___\n"
          ],
          "name": "stdout"
        },
        {
          "output_type": "stream",
          "text": [
            "___ batch index = 750 / 1836 (40.85%), loss = 0.5829, time = 19.22 seconds ___\n"
          ],
          "name": "stdout"
        },
        {
          "output_type": "stream",
          "text": [
            "___ batch index = 1000 / 1836 (54.47%), loss = 0.7154, time = 21.54 seconds ___\n"
          ],
          "name": "stdout"
        },
        {
          "output_type": "stream",
          "text": [
            "___ batch index = 1250 / 1836 (68.08%), loss = 0.7050, time = 19.77 seconds ___\n"
          ],
          "name": "stdout"
        },
        {
          "output_type": "stream",
          "text": [
            "___ batch index = 1500 / 1836 (81.70%), loss = 0.6661, time = 19.84 seconds ___\n"
          ],
          "name": "stdout"
        },
        {
          "output_type": "stream",
          "text": [
            "___ batch index = 1750 / 1836 (95.32%), loss = 0.7938, time = 21.17 seconds ___\n"
          ],
          "name": "stdout"
        },
        {
          "output_type": "stream",
          "text": [
            "\n",
            "*** avg_loss : 0.70, time : ~2.0 min (151.79 sec) ***\n",
            "\n"
          ],
          "name": "stdout"
        },
        {
          "output_type": "stream",
          "text": [
            "==> evaluation : avg_loss = 0.69, time : 20.91 sec\n",
            "\n"
          ],
          "name": "stdout"
        },
        {
          "output_type": "stream",
          "text": [
            "threshold:  [0.49833444]\n",
            "=====>\t{'Positive Rate': array([0.4332784], dtype=float32), 'threshold': 0.49833444, 'accuracy': 0.5321252059308073, 'f1': 0.5328947368421053, 'recall': 0.6159695817490495, 'specificity': 0.4680232558139535, 'default_accuracy': 0.5387149917627677, 'default_f1': 0.5189003436426117, 'default_recall': 0.5741444866920152, 'default_specificity': 0.5116279069767442}\n",
            "\n",
            "=============== EPOCH 2 / 30 ===============\n",
            "\n",
            "___ batch index = 0 / 1836 (0.00%), loss = 0.6278, time = 0.07 seconds ___\n"
          ],
          "name": "stdout"
        },
        {
          "output_type": "stream",
          "text": [
            "___ batch index = 250 / 1836 (13.62%), loss = 0.7127, time = 21.59 seconds ___\n"
          ],
          "name": "stdout"
        },
        {
          "output_type": "stream",
          "text": [
            "___ batch index = 500 / 1836 (27.23%), loss = 0.6759, time = 20.92 seconds ___\n"
          ],
          "name": "stdout"
        },
        {
          "output_type": "stream",
          "text": [
            "___ batch index = 750 / 1836 (40.85%), loss = 0.5664, time = 19.23 seconds ___\n"
          ],
          "name": "stdout"
        },
        {
          "output_type": "stream",
          "text": [
            "___ batch index = 1000 / 1836 (54.47%), loss = 0.7263, time = 21.53 seconds ___\n"
          ],
          "name": "stdout"
        },
        {
          "output_type": "stream",
          "text": [
            "___ batch index = 1250 / 1836 (68.08%), loss = 0.7065, time = 19.72 seconds ___\n"
          ],
          "name": "stdout"
        },
        {
          "output_type": "stream",
          "text": [
            "___ batch index = 1500 / 1836 (81.70%), loss = 0.6885, time = 19.91 seconds ___\n"
          ],
          "name": "stdout"
        },
        {
          "output_type": "stream",
          "text": [
            "___ batch index = 1750 / 1836 (95.32%), loss = 0.7553, time = 21.11 seconds ___\n"
          ],
          "name": "stdout"
        },
        {
          "output_type": "stream",
          "text": [
            "\n",
            "*** avg_loss : 0.69, time : ~2.0 min (151.78 sec) ***\n",
            "\n"
          ],
          "name": "stdout"
        },
        {
          "output_type": "stream",
          "text": [
            "==> evaluation : avg_loss = 0.68, time : 20.86 sec\n",
            "\n"
          ],
          "name": "stdout"
        },
        {
          "output_type": "stream",
          "text": [
            "threshold:  [0.48317483]\n",
            "=====>\t{'Positive Rate': array([0.4332784], dtype=float32), 'threshold': 0.48317483, 'accuracy': 0.5321252059308073, 'f1': 0.5328947368421053, 'recall': 0.6159695817490495, 'specificity': 0.4680232558139535, 'default_accuracy': 0.6112026359143328, 'default_f1': 0.4611872146118721, 'default_recall': 0.3840304182509506, 'default_specificity': 0.7848837209302325}\n",
            "\n",
            "=============== EPOCH 3 / 30 ===============\n",
            "\n",
            "___ batch index = 0 / 1836 (0.00%), loss = 0.5797, time = 0.07 seconds ___\n"
          ],
          "name": "stdout"
        },
        {
          "output_type": "stream",
          "text": [
            "___ batch index = 250 / 1836 (13.62%), loss = 0.7213, time = 21.59 seconds ___\n"
          ],
          "name": "stdout"
        },
        {
          "output_type": "stream",
          "text": [
            "___ batch index = 500 / 1836 (27.23%), loss = 0.6496, time = 20.92 seconds ___\n"
          ],
          "name": "stdout"
        },
        {
          "output_type": "stream",
          "text": [
            "___ batch index = 750 / 1836 (40.85%), loss = 0.5912, time = 19.28 seconds ___\n"
          ],
          "name": "stdout"
        },
        {
          "output_type": "stream",
          "text": [
            "___ batch index = 1000 / 1836 (54.47%), loss = 0.7287, time = 21.48 seconds ___\n"
          ],
          "name": "stdout"
        },
        {
          "output_type": "stream",
          "text": [
            "___ batch index = 1250 / 1836 (68.08%), loss = 0.6827, time = 19.78 seconds ___\n"
          ],
          "name": "stdout"
        },
        {
          "output_type": "stream",
          "text": [
            "___ batch index = 1500 / 1836 (81.70%), loss = 0.6745, time = 19.85 seconds ___\n"
          ],
          "name": "stdout"
        },
        {
          "output_type": "stream",
          "text": [
            "___ batch index = 1750 / 1836 (95.32%), loss = 0.7576, time = 21.17 seconds ___\n"
          ],
          "name": "stdout"
        },
        {
          "output_type": "stream",
          "text": [
            "\n",
            "*** avg_loss : 0.68, time : ~2.0 min (151.79 sec) ***\n",
            "\n"
          ],
          "name": "stdout"
        },
        {
          "output_type": "stream",
          "text": [
            "==> evaluation : avg_loss = 0.68, time : 20.91 sec\n",
            "\n"
          ],
          "name": "stdout"
        },
        {
          "output_type": "stream",
          "text": [
            "threshold:  [0.48060015]\n",
            "=====>\t{'Positive Rate': array([0.4332784], dtype=float32), 'threshold': 0.48060015, 'accuracy': 0.5551894563426688, 'f1': 0.555921052631579, 'recall': 0.6425855513307985, 'specificity': 0.4883720930232558, 'default_accuracy': 0.6062602965403624, 'default_f1': 0.48602150537634414, 'default_recall': 0.4296577946768061, 'default_specificity': 0.7412790697674418}\n",
            "\n",
            "=============== EPOCH 4 / 30 ===============\n",
            "\n",
            "___ batch index = 0 / 1836 (0.00%), loss = 0.5665, time = 0.08 seconds ___\n"
          ],
          "name": "stdout"
        },
        {
          "output_type": "stream",
          "text": [
            "___ batch index = 250 / 1836 (13.62%), loss = 0.7186, time = 21.60 seconds ___\n"
          ],
          "name": "stdout"
        },
        {
          "output_type": "stream",
          "text": [
            "___ batch index = 500 / 1836 (27.23%), loss = 0.6322, time = 20.92 seconds ___\n"
          ],
          "name": "stdout"
        },
        {
          "output_type": "stream",
          "text": [
            "___ batch index = 750 / 1836 (40.85%), loss = 0.5680, time = 19.23 seconds ___\n"
          ],
          "name": "stdout"
        },
        {
          "output_type": "stream",
          "text": [
            "___ batch index = 1000 / 1836 (54.47%), loss = 0.7142, time = 21.54 seconds ___\n"
          ],
          "name": "stdout"
        },
        {
          "output_type": "stream",
          "text": [
            "___ batch index = 1250 / 1836 (68.08%), loss = 0.7070, time = 19.72 seconds ___\n"
          ],
          "name": "stdout"
        },
        {
          "output_type": "stream",
          "text": [
            "___ batch index = 1500 / 1836 (81.70%), loss = 0.6541, time = 19.91 seconds ___\n"
          ],
          "name": "stdout"
        },
        {
          "output_type": "stream",
          "text": [
            "___ batch index = 1750 / 1836 (95.32%), loss = 0.7683, time = 21.12 seconds ___\n"
          ],
          "name": "stdout"
        },
        {
          "output_type": "stream",
          "text": [
            "\n",
            "*** avg_loss : 0.68, time : ~2.0 min (151.77 sec) ***\n",
            "\n"
          ],
          "name": "stdout"
        },
        {
          "output_type": "stream",
          "text": [
            "==> evaluation : avg_loss = 0.67, time : 20.93 sec\n",
            "\n"
          ],
          "name": "stdout"
        },
        {
          "output_type": "stream",
          "text": [
            "threshold:  [0.4756297]\n",
            "=====>\t{'Positive Rate': array([0.4332784], dtype=float32), 'threshold': 0.4756297, 'accuracy': 0.5700164744645799, 'f1': 0.5714285714285714, 'recall': 0.6615969581749049, 'specificity': 0.5, 'default_accuracy': 0.6046128500823723, 'default_f1': 0.48936170212765956, 'default_recall': 0.4372623574144487, 'default_specificity': 0.7325581395348837}\n",
            "\n",
            "=============== EPOCH 5 / 30 ===============\n",
            "\n",
            "___ batch index = 0 / 1836 (0.00%), loss = 0.5098, time = 0.08 seconds ___\n"
          ],
          "name": "stdout"
        },
        {
          "output_type": "stream",
          "text": [
            "___ batch index = 250 / 1836 (13.62%), loss = 0.6945, time = 21.60 seconds ___\n"
          ],
          "name": "stdout"
        },
        {
          "output_type": "stream",
          "text": [
            "___ batch index = 500 / 1836 (27.23%), loss = 0.6333, time = 20.92 seconds ___\n"
          ],
          "name": "stdout"
        },
        {
          "output_type": "stream",
          "text": [
            "___ batch index = 750 / 1836 (40.85%), loss = 0.5805, time = 19.23 seconds ___\n"
          ],
          "name": "stdout"
        },
        {
          "output_type": "stream",
          "text": [
            "___ batch index = 1000 / 1836 (54.47%), loss = 0.6909, time = 21.54 seconds ___\n"
          ],
          "name": "stdout"
        },
        {
          "output_type": "stream",
          "text": [
            "___ batch index = 1250 / 1836 (68.08%), loss = 0.6992, time = 19.72 seconds ___\n"
          ],
          "name": "stdout"
        },
        {
          "output_type": "stream",
          "text": [
            "___ batch index = 1500 / 1836 (81.70%), loss = 0.6462, time = 19.92 seconds ___\n"
          ],
          "name": "stdout"
        },
        {
          "output_type": "stream",
          "text": [
            "___ batch index = 1750 / 1836 (95.32%), loss = 0.7865, time = 21.12 seconds ___\n"
          ],
          "name": "stdout"
        },
        {
          "output_type": "stream",
          "text": [
            "\n",
            "*** avg_loss : 0.67, time : ~2.0 min (151.79 sec) ***\n",
            "\n"
          ],
          "name": "stdout"
        },
        {
          "output_type": "stream",
          "text": [
            "==> evaluation : avg_loss = 0.67, time : 20.92 sec\n",
            "\n"
          ],
          "name": "stdout"
        },
        {
          "output_type": "stream",
          "text": [
            "threshold:  [0.4717984]\n",
            "=====>\t{'Positive Rate': array([0.4332784], dtype=float32), 'threshold': 0.4717984, 'accuracy': 0.5815485996705108, 'f1': 0.5822368421052632, 'recall': 0.6730038022813688, 'specificity': 0.5116279069767442, 'default_accuracy': 0.6210873146622735, 'default_f1': 0.5381526104417671, 'default_recall': 0.5095057034220533, 'default_specificity': 0.7063953488372093}\n",
            "\n",
            "=============== EPOCH 6 / 30 ===============\n",
            "\n",
            "___ batch index = 0 / 1836 (0.00%), loss = 0.3943, time = 0.08 seconds ___\n"
          ],
          "name": "stdout"
        },
        {
          "output_type": "stream",
          "text": [
            "___ batch index = 250 / 1836 (13.62%), loss = 0.7093, time = 21.65 seconds ___\n"
          ],
          "name": "stdout"
        },
        {
          "output_type": "stream",
          "text": [
            "___ batch index = 500 / 1836 (27.23%), loss = 0.6215, time = 20.86 seconds ___\n"
          ],
          "name": "stdout"
        },
        {
          "output_type": "stream",
          "text": [
            "___ batch index = 750 / 1836 (40.85%), loss = 0.5549, time = 19.29 seconds ___\n"
          ],
          "name": "stdout"
        },
        {
          "output_type": "stream",
          "text": [
            "___ batch index = 1000 / 1836 (54.47%), loss = 0.6933, time = 21.49 seconds ___\n"
          ],
          "name": "stdout"
        },
        {
          "output_type": "stream",
          "text": [
            "___ batch index = 1250 / 1836 (68.08%), loss = 0.6882, time = 19.78 seconds ___\n"
          ],
          "name": "stdout"
        },
        {
          "output_type": "stream",
          "text": [
            "___ batch index = 1500 / 1836 (81.70%), loss = 0.6389, time = 19.85 seconds ___\n"
          ],
          "name": "stdout"
        },
        {
          "output_type": "stream",
          "text": [
            "___ batch index = 1750 / 1836 (95.32%), loss = 0.7946, time = 21.18 seconds ___\n"
          ],
          "name": "stdout"
        },
        {
          "output_type": "stream",
          "text": [
            "\n",
            "*** avg_loss : 0.66, time : ~2.0 min (151.84 sec) ***\n",
            "\n"
          ],
          "name": "stdout"
        },
        {
          "output_type": "stream",
          "text": [
            "==> evaluation : avg_loss = 0.66, time : 20.85 sec\n",
            "\n"
          ],
          "name": "stdout"
        },
        {
          "output_type": "stream",
          "text": [
            "threshold:  [0.4719194]\n",
            "=====>\t{'Positive Rate': array([0.4332784], dtype=float32), 'threshold': 0.4719194, 'accuracy': 0.5947281713344317, 'f1': 0.5953947368421052, 'recall': 0.688212927756654, 'specificity': 0.5232558139534884, 'default_accuracy': 0.6161449752883031, 'default_f1': 0.5493230174081238, 'default_recall': 0.5399239543726235, 'default_specificity': 0.6744186046511628}\n",
            "\n",
            "=============== EPOCH 7 / 30 ===============\n",
            "\n",
            "___ batch index = 0 / 1836 (0.00%), loss = 0.4024, time = 0.08 seconds ___\n"
          ],
          "name": "stdout"
        },
        {
          "output_type": "stream",
          "text": [
            "___ batch index = 250 / 1836 (13.62%), loss = 0.6898, time = 21.66 seconds ___\n"
          ],
          "name": "stdout"
        },
        {
          "output_type": "stream",
          "text": [
            "___ batch index = 500 / 1836 (27.23%), loss = 0.6061, time = 20.92 seconds ___\n"
          ],
          "name": "stdout"
        },
        {
          "output_type": "stream",
          "text": [
            "___ batch index = 750 / 1836 (40.85%), loss = 0.5433, time = 19.23 seconds ___\n"
          ],
          "name": "stdout"
        },
        {
          "output_type": "stream",
          "text": [
            "___ batch index = 1000 / 1836 (54.47%), loss = 0.6821, time = 21.55 seconds ___\n"
          ],
          "name": "stdout"
        },
        {
          "output_type": "stream",
          "text": [
            "___ batch index = 1250 / 1836 (68.08%), loss = 0.7022, time = 19.72 seconds ___\n"
          ],
          "name": "stdout"
        },
        {
          "output_type": "stream",
          "text": [
            "___ batch index = 1500 / 1836 (81.70%), loss = 0.6056, time = 19.91 seconds ___\n"
          ],
          "name": "stdout"
        },
        {
          "output_type": "stream",
          "text": [
            "___ batch index = 1750 / 1836 (95.32%), loss = 0.8021, time = 21.12 seconds ___\n"
          ],
          "name": "stdout"
        },
        {
          "output_type": "stream",
          "text": [
            "\n",
            "*** avg_loss : 0.65, time : ~2.0 min (151.85 sec) ***\n",
            "\n"
          ],
          "name": "stdout"
        },
        {
          "output_type": "stream",
          "text": [
            "==> evaluation : avg_loss = 0.65, time : 20.94 sec\n",
            "\n"
          ],
          "name": "stdout"
        },
        {
          "output_type": "stream",
          "text": [
            "threshold:  [0.47001827]\n",
            "=====>\t{'Positive Rate': array([0.4332784], dtype=float32), 'threshold': 0.47001827, 'accuracy': 0.6013179571663921, 'f1': 0.6019736842105263, 'recall': 0.6958174904942965, 'specificity': 0.5290697674418605, 'default_accuracy': 0.6194398682042833, 'default_f1': 0.5566218809980806, 'default_recall': 0.5513307984790875, 'default_specificity': 0.6715116279069767}\n",
            "\n",
            "=============== EPOCH 8 / 30 ===============\n",
            "\n",
            "___ batch index = 0 / 1836 (0.00%), loss = 0.3769, time = 0.08 seconds ___\n"
          ],
          "name": "stdout"
        },
        {
          "output_type": "stream",
          "text": [
            "___ batch index = 250 / 1836 (13.62%), loss = 0.6651, time = 21.61 seconds ___\n"
          ],
          "name": "stdout"
        },
        {
          "output_type": "stream",
          "text": [
            "___ batch index = 500 / 1836 (27.23%), loss = 0.6203, time = 20.92 seconds ___\n"
          ],
          "name": "stdout"
        },
        {
          "output_type": "stream",
          "text": [
            "___ batch index = 750 / 1836 (40.85%), loss = 0.5517, time = 19.29 seconds ___\n"
          ],
          "name": "stdout"
        },
        {
          "output_type": "stream",
          "text": [
            "___ batch index = 1000 / 1836 (54.47%), loss = 0.6736, time = 21.49 seconds ___\n"
          ],
          "name": "stdout"
        },
        {
          "output_type": "stream",
          "text": [
            "___ batch index = 1250 / 1836 (68.08%), loss = 0.6990, time = 19.78 seconds ___\n"
          ],
          "name": "stdout"
        },
        {
          "output_type": "stream",
          "text": [
            "___ batch index = 1500 / 1836 (81.70%), loss = 0.6059, time = 19.92 seconds ___\n"
          ],
          "name": "stdout"
        },
        {
          "output_type": "stream",
          "text": [
            "___ batch index = 1750 / 1836 (95.32%), loss = 0.7613, time = 21.12 seconds ___\n"
          ],
          "name": "stdout"
        },
        {
          "output_type": "stream",
          "text": [
            "\n",
            "*** avg_loss : 0.64, time : ~2.0 min (151.87 sec) ***\n",
            "\n"
          ],
          "name": "stdout"
        },
        {
          "output_type": "stream",
          "text": [
            "==> evaluation : avg_loss = 0.65, time : 20.93 sec\n",
            "\n"
          ],
          "name": "stdout"
        },
        {
          "output_type": "stream",
          "text": [
            "threshold:  [0.4604754]\n",
            "=====>\t{'Positive Rate': array([0.4332784], dtype=float32), 'threshold': 0.4604754, 'accuracy': 0.6013179571663921, 'f1': 0.6019736842105263, 'recall': 0.6958174904942965, 'specificity': 0.5290697674418605, 'default_accuracy': 0.6392092257001647, 'default_f1': 0.5714285714285714, 'default_recall': 0.5551330798479087, 'default_specificity': 0.7034883720930233}\n",
            "\n",
            "=============== EPOCH 9 / 30 ===============\n",
            "\n",
            "___ batch index = 0 / 1836 (0.00%), loss = 0.2513, time = 0.08 seconds ___\n"
          ],
          "name": "stdout"
        },
        {
          "output_type": "stream",
          "text": [
            "___ batch index = 250 / 1836 (13.62%), loss = 0.6397, time = 21.67 seconds ___\n"
          ],
          "name": "stdout"
        },
        {
          "output_type": "stream",
          "text": [
            "___ batch index = 500 / 1836 (27.23%), loss = 0.6183, time = 20.92 seconds ___\n"
          ],
          "name": "stdout"
        },
        {
          "output_type": "stream",
          "text": [
            "___ batch index = 750 / 1836 (40.85%), loss = 0.5117, time = 19.23 seconds ___\n"
          ],
          "name": "stdout"
        },
        {
          "output_type": "stream",
          "text": [
            "___ batch index = 1000 / 1836 (54.47%), loss = 0.6582, time = 21.49 seconds ___\n"
          ],
          "name": "stdout"
        },
        {
          "output_type": "stream",
          "text": [
            "___ batch index = 1250 / 1836 (68.08%), loss = 0.7035, time = 19.79 seconds ___\n"
          ],
          "name": "stdout"
        },
        {
          "output_type": "stream",
          "text": [
            "___ batch index = 1500 / 1836 (81.70%), loss = 0.6043, time = 19.86 seconds ___\n"
          ],
          "name": "stdout"
        },
        {
          "output_type": "stream",
          "text": [
            "___ batch index = 1750 / 1836 (95.32%), loss = 0.8255, time = 21.18 seconds ___\n"
          ],
          "name": "stdout"
        },
        {
          "output_type": "stream",
          "text": [
            "\n",
            "*** avg_loss : 0.63, time : ~2.0 min (151.88 sec) ***\n",
            "\n"
          ],
          "name": "stdout"
        },
        {
          "output_type": "stream",
          "text": [
            "==> evaluation : avg_loss = 0.64, time : 20.92 sec\n",
            "\n"
          ],
          "name": "stdout"
        },
        {
          "output_type": "stream",
          "text": [
            "threshold:  [0.45427358]\n",
            "=====>\t{'Positive Rate': array([0.4332784], dtype=float32), 'threshold': 0.45427358, 'accuracy': 0.6013179571663921, 'f1': 0.6019736842105263, 'recall': 0.6958174904942965, 'specificity': 0.5290697674418605, 'default_accuracy': 0.642504118616145, 'default_f1': 0.5736738703339882, 'default_recall': 0.5551330798479087, 'default_specificity': 0.7093023255813954}\n",
            "\n",
            "=============== EPOCH 10 / 30 ===============\n",
            "\n",
            "___ batch index = 0 / 1836 (0.00%), loss = 0.2199, time = 0.08 seconds ___\n"
          ],
          "name": "stdout"
        },
        {
          "output_type": "stream",
          "text": [
            "___ batch index = 250 / 1836 (13.62%), loss = 0.6748, time = 21.62 seconds ___\n"
          ],
          "name": "stdout"
        },
        {
          "output_type": "stream",
          "text": [
            "___ batch index = 500 / 1836 (27.23%), loss = 0.5750, time = 20.93 seconds ___\n"
          ],
          "name": "stdout"
        },
        {
          "output_type": "stream",
          "text": [
            "___ batch index = 750 / 1836 (40.85%), loss = 0.5572, time = 19.23 seconds ___\n"
          ],
          "name": "stdout"
        },
        {
          "output_type": "stream",
          "text": [
            "___ batch index = 1000 / 1836 (54.47%), loss = 0.6663, time = 21.49 seconds ___\n"
          ],
          "name": "stdout"
        },
        {
          "output_type": "stream",
          "text": [
            "___ batch index = 1250 / 1836 (68.08%), loss = 0.7079, time = 19.81 seconds ___\n"
          ],
          "name": "stdout"
        },
        {
          "output_type": "stream",
          "text": [
            "___ batch index = 1500 / 1836 (81.70%), loss = 0.5784, time = 19.95 seconds ___\n"
          ],
          "name": "stdout"
        },
        {
          "output_type": "stream",
          "text": [
            "___ batch index = 1750 / 1836 (95.32%), loss = 0.7937, time = 21.12 seconds ___\n"
          ],
          "name": "stdout"
        },
        {
          "output_type": "stream",
          "text": [
            "\n",
            "*** avg_loss : 0.61, time : ~2.0 min (151.89 sec) ***\n",
            "\n"
          ],
          "name": "stdout"
        },
        {
          "output_type": "stream",
          "text": [
            "==> evaluation : avg_loss = 0.63, time : 20.94 sec\n",
            "\n"
          ],
          "name": "stdout"
        },
        {
          "output_type": "stream",
          "text": [
            "threshold:  [0.44544297]\n",
            "=====>\t{'Positive Rate': array([0.4332784], dtype=float32), 'threshold': 0.44544297, 'accuracy': 0.6079077429983526, 'f1': 0.6085526315789473, 'recall': 0.7034220532319392, 'specificity': 0.5348837209302325, 'default_accuracy': 0.642504118616145, 'default_f1': 0.5736738703339882, 'default_recall': 0.5551330798479087, 'default_specificity': 0.7093023255813954}\n",
            "\n",
            "=============== EPOCH 11 / 30 ===============\n",
            "\n",
            "___ batch index = 0 / 1836 (0.00%), loss = 0.2097, time = 0.08 seconds ___\n"
          ],
          "name": "stdout"
        },
        {
          "output_type": "stream",
          "text": [
            "___ batch index = 250 / 1836 (13.62%), loss = 0.6478, time = 21.62 seconds ___\n"
          ],
          "name": "stdout"
        },
        {
          "output_type": "stream",
          "text": [
            "___ batch index = 500 / 1836 (27.23%), loss = 0.6163, time = 20.92 seconds ___\n"
          ],
          "name": "stdout"
        },
        {
          "output_type": "stream",
          "text": [
            "___ batch index = 750 / 1836 (40.85%), loss = 0.5040, time = 19.23 seconds ___\n"
          ],
          "name": "stdout"
        },
        {
          "output_type": "stream",
          "text": [
            "___ batch index = 1000 / 1836 (54.47%), loss = 0.6417, time = 21.55 seconds ___\n"
          ],
          "name": "stdout"
        },
        {
          "output_type": "stream",
          "text": [
            "___ batch index = 1250 / 1836 (68.08%), loss = 0.6897, time = 19.78 seconds ___\n"
          ],
          "name": "stdout"
        },
        {
          "output_type": "stream",
          "text": [
            "___ batch index = 1500 / 1836 (81.70%), loss = 0.5953, time = 19.86 seconds ___\n"
          ],
          "name": "stdout"
        },
        {
          "output_type": "stream",
          "text": [
            "___ batch index = 1750 / 1836 (95.32%), loss = 0.7465, time = 21.18 seconds ___\n"
          ],
          "name": "stdout"
        },
        {
          "output_type": "stream",
          "text": [
            "\n",
            "*** avg_loss : 0.60, time : ~2.0 min (151.89 sec) ***\n",
            "\n"
          ],
          "name": "stdout"
        },
        {
          "output_type": "stream",
          "text": [
            "==> evaluation : avg_loss = 0.62, time : 20.88 sec\n",
            "\n"
          ],
          "name": "stdout"
        },
        {
          "output_type": "stream",
          "text": [
            "threshold:  [0.4217154]\n",
            "=====>\t{'Positive Rate': array([0.4332784], dtype=float32), 'threshold': 0.4217154, 'accuracy': 0.6112026359143328, 'f1': 0.6118421052631579, 'recall': 0.7072243346007605, 'specificity': 0.5377906976744186, 'default_accuracy': 0.6540362438220758, 'default_f1': 0.5748987854251012, 'default_recall': 0.5399239543726235, 'default_specificity': 0.7412790697674418}\n",
            "\n",
            "=============== EPOCH 12 / 30 ===============\n",
            "\n",
            "___ batch index = 0 / 1836 (0.00%), loss = 0.1892, time = 0.08 seconds ___\n"
          ],
          "name": "stdout"
        },
        {
          "output_type": "stream",
          "text": [
            "___ batch index = 250 / 1836 (13.62%), loss = 0.6194, time = 21.61 seconds ___\n"
          ],
          "name": "stdout"
        },
        {
          "output_type": "stream",
          "text": [
            "___ batch index = 500 / 1836 (27.23%), loss = 0.5955, time = 20.93 seconds ___\n"
          ],
          "name": "stdout"
        },
        {
          "output_type": "stream",
          "text": [
            "___ batch index = 750 / 1836 (40.85%), loss = 0.5008, time = 19.29 seconds ___\n"
          ],
          "name": "stdout"
        },
        {
          "output_type": "stream",
          "text": [
            "___ batch index = 1000 / 1836 (54.47%), loss = 0.6442, time = 21.49 seconds ___\n"
          ],
          "name": "stdout"
        },
        {
          "output_type": "stream",
          "text": [
            "___ batch index = 1250 / 1836 (68.08%), loss = 0.6989, time = 19.79 seconds ___\n"
          ],
          "name": "stdout"
        },
        {
          "output_type": "stream",
          "text": [
            "___ batch index = 1500 / 1836 (81.70%), loss = 0.5646, time = 19.86 seconds ___\n"
          ],
          "name": "stdout"
        },
        {
          "output_type": "stream",
          "text": [
            "___ batch index = 1750 / 1836 (95.32%), loss = 0.7557, time = 21.19 seconds ___\n"
          ],
          "name": "stdout"
        },
        {
          "output_type": "stream",
          "text": [
            "\n",
            "*** avg_loss : 0.58, time : ~2.0 min (151.88 sec) ***\n",
            "\n"
          ],
          "name": "stdout"
        },
        {
          "output_type": "stream",
          "text": [
            "==> evaluation : avg_loss = 0.62, time : 20.93 sec\n",
            "\n"
          ],
          "name": "stdout"
        },
        {
          "output_type": "stream",
          "text": [
            "threshold:  [0.41161412]\n",
            "=====>\t{'Positive Rate': array([0.4332784], dtype=float32), 'threshold': 0.41161412, 'accuracy': 0.6112026359143328, 'f1': 0.6118421052631579, 'recall': 0.7072243346007605, 'specificity': 0.5377906976744186, 'default_accuracy': 0.657331136738056, 'default_f1': 0.584, 'default_recall': 0.5551330798479087, 'default_specificity': 0.7354651162790697}\n",
            "\n",
            "=============== EPOCH 13 / 30 ===============\n",
            "\n",
            "___ batch index = 0 / 1836 (0.00%), loss = 0.1657, time = 0.08 seconds ___\n"
          ],
          "name": "stdout"
        },
        {
          "output_type": "stream",
          "text": [
            "___ batch index = 250 / 1836 (13.62%), loss = 0.5884, time = 21.62 seconds ___\n"
          ],
          "name": "stdout"
        },
        {
          "output_type": "stream",
          "text": [
            "___ batch index = 500 / 1836 (27.23%), loss = 0.5834, time = 20.93 seconds ___\n"
          ],
          "name": "stdout"
        },
        {
          "output_type": "stream",
          "text": [
            "___ batch index = 750 / 1836 (40.85%), loss = 0.4679, time = 19.24 seconds ___\n"
          ],
          "name": "stdout"
        },
        {
          "output_type": "stream",
          "text": [
            "___ batch index = 1000 / 1836 (54.47%), loss = 0.6283, time = 21.55 seconds ___\n"
          ],
          "name": "stdout"
        },
        {
          "output_type": "stream",
          "text": [
            "___ batch index = 1250 / 1836 (68.08%), loss = 0.7207, time = 19.73 seconds ___\n"
          ],
          "name": "stdout"
        },
        {
          "output_type": "stream",
          "text": [
            "___ batch index = 1500 / 1836 (81.70%), loss = 0.6057, time = 19.92 seconds ___\n"
          ],
          "name": "stdout"
        },
        {
          "output_type": "stream",
          "text": [
            "___ batch index = 1750 / 1836 (95.32%), loss = 0.7218, time = 21.13 seconds ___\n"
          ],
          "name": "stdout"
        },
        {
          "output_type": "stream",
          "text": [
            "\n",
            "*** avg_loss : 0.57, time : ~2.0 min (151.85 sec) ***\n",
            "\n"
          ],
          "name": "stdout"
        },
        {
          "output_type": "stream",
          "text": [
            "==> evaluation : avg_loss = 0.61, time : 20.94 sec\n",
            "\n"
          ],
          "name": "stdout"
        },
        {
          "output_type": "stream",
          "text": [
            "threshold:  [0.39772198]\n",
            "=====>\t{'Positive Rate': array([0.4332784], dtype=float32), 'threshold': 0.39772198, 'accuracy': 0.6177924217462932, 'f1': 0.618421052631579, 'recall': 0.714828897338403, 'specificity': 0.5436046511627907, 'default_accuracy': 0.6622734761120264, 'default_f1': 0.585858585858586, 'default_recall': 0.5513307984790875, 'default_specificity': 0.747093023255814}\n",
            "\n",
            "=============== EPOCH 14 / 30 ===============\n",
            "\n",
            "___ batch index = 0 / 1836 (0.00%), loss = 0.1226, time = 0.08 seconds ___\n"
          ],
          "name": "stdout"
        },
        {
          "output_type": "stream",
          "text": [
            "___ batch index = 250 / 1836 (13.62%), loss = 0.5795, time = 21.62 seconds ___\n"
          ],
          "name": "stdout"
        },
        {
          "output_type": "stream",
          "text": [
            "___ batch index = 500 / 1836 (27.23%), loss = 0.5533, time = 20.93 seconds ___\n"
          ],
          "name": "stdout"
        },
        {
          "output_type": "stream",
          "text": [
            "___ batch index = 750 / 1836 (40.85%), loss = 0.4393, time = 19.24 seconds ___\n"
          ],
          "name": "stdout"
        },
        {
          "output_type": "stream",
          "text": [
            "___ batch index = 1000 / 1836 (54.47%), loss = 0.6174, time = 21.55 seconds ___\n"
          ],
          "name": "stdout"
        },
        {
          "output_type": "stream",
          "text": [
            "___ batch index = 1250 / 1836 (68.08%), loss = 0.6602, time = 19.73 seconds ___\n"
          ],
          "name": "stdout"
        },
        {
          "output_type": "stream",
          "text": [
            "___ batch index = 1500 / 1836 (81.70%), loss = 0.5516, time = 19.92 seconds ___\n"
          ],
          "name": "stdout"
        },
        {
          "output_type": "stream",
          "text": [
            "___ batch index = 1750 / 1836 (95.32%), loss = 0.7110, time = 21.13 seconds ___\n"
          ],
          "name": "stdout"
        },
        {
          "output_type": "stream",
          "text": [
            "\n",
            "*** avg_loss : 0.55, time : ~2.0 min (151.86 sec) ***\n",
            "\n"
          ],
          "name": "stdout"
        },
        {
          "output_type": "stream",
          "text": [
            "==> evaluation : avg_loss = 0.61, time : 20.95 sec\n",
            "\n"
          ],
          "name": "stdout"
        },
        {
          "output_type": "stream",
          "text": [
            "threshold:  [0.3740371]\n",
            "=====>\t{'Positive Rate': array([0.4332784], dtype=float32), 'threshold': 0.3740371, 'accuracy': 0.6144975288303131, 'f1': 0.6151315789473685, 'recall': 0.7110266159695817, 'specificity': 0.5406976744186046, 'default_accuracy': 0.6672158154859967, 'default_f1': 0.5826446280991735, 'default_recall': 0.5361216730038023, 'default_specificity': 0.7674418604651163}\n",
            "\n",
            "=============== EPOCH 15 / 30 ===============\n",
            "\n",
            "___ batch index = 0 / 1836 (0.00%), loss = 0.1142, time = 0.08 seconds ___\n"
          ],
          "name": "stdout"
        },
        {
          "output_type": "stream",
          "text": [
            "___ batch index = 250 / 1836 (13.62%), loss = 0.5816, time = 21.67 seconds ___\n"
          ],
          "name": "stdout"
        },
        {
          "output_type": "stream",
          "text": [
            "___ batch index = 500 / 1836 (27.23%), loss = 0.5923, time = 20.86 seconds ___\n"
          ],
          "name": "stdout"
        },
        {
          "output_type": "stream",
          "text": [
            "___ batch index = 750 / 1836 (40.85%), loss = 0.4106, time = 19.30 seconds ___\n"
          ],
          "name": "stdout"
        },
        {
          "output_type": "stream",
          "text": [
            "___ batch index = 1000 / 1836 (54.47%), loss = 0.6014, time = 21.50 seconds ___\n"
          ],
          "name": "stdout"
        },
        {
          "output_type": "stream",
          "text": [
            "___ batch index = 1250 / 1836 (68.08%), loss = 0.6956, time = 19.79 seconds ___\n"
          ],
          "name": "stdout"
        },
        {
          "output_type": "stream",
          "text": [
            "___ batch index = 1500 / 1836 (81.70%), loss = 0.4847, time = 19.88 seconds ___\n"
          ],
          "name": "stdout"
        },
        {
          "output_type": "stream",
          "text": [
            "___ batch index = 1750 / 1836 (95.32%), loss = 0.6991, time = 21.19 seconds ___\n"
          ],
          "name": "stdout"
        },
        {
          "output_type": "stream",
          "text": [
            "\n",
            "*** avg_loss : 0.54, time : ~2.0 min (151.92 sec) ***\n",
            "\n"
          ],
          "name": "stdout"
        },
        {
          "output_type": "stream",
          "text": [
            "==> evaluation : avg_loss = 0.60, time : 20.89 sec\n",
            "\n"
          ],
          "name": "stdout"
        },
        {
          "output_type": "stream",
          "text": [
            "threshold:  [0.36363196]\n",
            "=====>\t{'Positive Rate': array([0.4332784], dtype=float32), 'threshold': 0.36363196, 'accuracy': 0.6210873146622735, 'f1': 0.6217105263157895, 'recall': 0.7186311787072244, 'specificity': 0.5465116279069767, 'default_accuracy': 0.6688632619439868, 'default_f1': 0.5906313645621182, 'default_recall': 0.5513307984790875, 'default_specificity': 0.7587209302325582}\n",
            "\n",
            "=============== EPOCH 16 / 30 ===============\n",
            "\n",
            "___ batch index = 0 / 1836 (0.00%), loss = 0.1109, time = 0.08 seconds ___\n"
          ],
          "name": "stdout"
        },
        {
          "output_type": "stream",
          "text": [
            "___ batch index = 250 / 1836 (13.62%), loss = 0.5059, time = 21.68 seconds ___\n"
          ],
          "name": "stdout"
        },
        {
          "output_type": "stream",
          "text": [
            "___ batch index = 500 / 1836 (27.23%), loss = 0.5452, time = 20.93 seconds ___\n"
          ],
          "name": "stdout"
        },
        {
          "output_type": "stream",
          "text": [
            "___ batch index = 750 / 1836 (40.85%), loss = 0.4086, time = 19.24 seconds ___\n"
          ],
          "name": "stdout"
        },
        {
          "output_type": "stream",
          "text": [
            "___ batch index = 1000 / 1836 (54.47%), loss = 0.5931, time = 21.56 seconds ___\n"
          ],
          "name": "stdout"
        },
        {
          "output_type": "stream",
          "text": [
            "___ batch index = 1250 / 1836 (68.08%), loss = 0.6369, time = 19.73 seconds ___\n"
          ],
          "name": "stdout"
        },
        {
          "output_type": "stream",
          "text": [
            "___ batch index = 1500 / 1836 (81.70%), loss = 0.5237, time = 19.92 seconds ___\n"
          ],
          "name": "stdout"
        },
        {
          "output_type": "stream",
          "text": [
            "___ batch index = 1750 / 1836 (95.32%), loss = 0.6806, time = 21.13 seconds ___\n"
          ],
          "name": "stdout"
        },
        {
          "output_type": "stream",
          "text": [
            "\n",
            "*** avg_loss : 0.52, time : ~2.0 min (151.94 sec) ***\n",
            "\n"
          ],
          "name": "stdout"
        },
        {
          "output_type": "stream",
          "text": [
            "==> evaluation : avg_loss = 0.60, time : 20.95 sec\n",
            "\n"
          ],
          "name": "stdout"
        },
        {
          "output_type": "stream",
          "text": [
            "threshold:  [0.34070015]\n",
            "=====>\t{'Positive Rate': array([0.4332784], dtype=float32), 'threshold': 0.34070015, 'accuracy': 0.6177924217462932, 'f1': 0.618421052631579, 'recall': 0.714828897338403, 'specificity': 0.5436046511627907, 'default_accuracy': 0.685337726523888, 'default_f1': 0.6012526096033403, 'default_recall': 0.5475285171102662, 'default_specificity': 0.7906976744186046}\n",
            "\n",
            "=============== EPOCH 17 / 30 ===============\n",
            "\n",
            "___ batch index = 0 / 1836 (0.00%), loss = 0.1322, time = 0.08 seconds ___\n"
          ],
          "name": "stdout"
        },
        {
          "output_type": "stream",
          "text": [
            "___ batch index = 250 / 1836 (13.62%), loss = 0.4979, time = 21.62 seconds ___\n"
          ],
          "name": "stdout"
        },
        {
          "output_type": "stream",
          "text": [
            "___ batch index = 500 / 1836 (27.23%), loss = 0.4871, time = 20.93 seconds ___\n"
          ],
          "name": "stdout"
        },
        {
          "output_type": "stream",
          "text": [
            "___ batch index = 750 / 1836 (40.85%), loss = 0.3599, time = 19.30 seconds ___\n"
          ],
          "name": "stdout"
        },
        {
          "output_type": "stream",
          "text": [
            "___ batch index = 1000 / 1836 (54.47%), loss = 0.5784, time = 21.50 seconds ___\n"
          ],
          "name": "stdout"
        },
        {
          "output_type": "stream",
          "text": [
            "___ batch index = 1250 / 1836 (68.08%), loss = 0.6659, time = 19.79 seconds ___\n"
          ],
          "name": "stdout"
        },
        {
          "output_type": "stream",
          "text": [
            "___ batch index = 1500 / 1836 (81.70%), loss = 0.4748, time = 19.92 seconds ___\n"
          ],
          "name": "stdout"
        },
        {
          "output_type": "stream",
          "text": [
            "___ batch index = 1750 / 1836 (95.32%), loss = 0.6696, time = 21.13 seconds ___\n"
          ],
          "name": "stdout"
        },
        {
          "output_type": "stream",
          "text": [
            "\n",
            "*** avg_loss : 0.50, time : ~2.0 min (151.93 sec) ***\n",
            "\n"
          ],
          "name": "stdout"
        },
        {
          "output_type": "stream",
          "text": [
            "==> evaluation : avg_loss = 0.60, time : 20.95 sec\n",
            "\n"
          ],
          "name": "stdout"
        },
        {
          "output_type": "stream",
          "text": [
            "threshold:  [0.3191788]\n",
            "=====>\t{'Positive Rate': array([0.4332784], dtype=float32), 'threshold': 0.3191788, 'accuracy': 0.6309719934102141, 'f1': 0.6315789473684211, 'recall': 0.7300380228136882, 'specificity': 0.5552325581395349, 'default_accuracy': 0.6803953871499177, 'default_f1': 0.5941422594142258, 'default_recall': 0.5399239543726235, 'default_specificity': 0.7877906976744186}\n",
            "\n",
            "=============== EPOCH 18 / 30 ===============\n",
            "\n",
            "___ batch index = 0 / 1836 (0.00%), loss = 0.1124, time = 0.08 seconds ___\n"
          ],
          "name": "stdout"
        },
        {
          "output_type": "stream",
          "text": [
            "___ batch index = 250 / 1836 (13.62%), loss = 0.4695, time = 21.68 seconds ___\n"
          ],
          "name": "stdout"
        },
        {
          "output_type": "stream",
          "text": [
            "___ batch index = 500 / 1836 (27.23%), loss = 0.4514, time = 20.93 seconds ___\n"
          ],
          "name": "stdout"
        },
        {
          "output_type": "stream",
          "text": [
            "___ batch index = 750 / 1836 (40.85%), loss = 0.3614, time = 19.24 seconds ___\n"
          ],
          "name": "stdout"
        },
        {
          "output_type": "stream",
          "text": [
            "___ batch index = 1000 / 1836 (54.47%), loss = 0.5858, time = 21.50 seconds ___\n"
          ],
          "name": "stdout"
        },
        {
          "output_type": "stream",
          "text": [
            "___ batch index = 1250 / 1836 (68.08%), loss = 0.6334, time = 19.79 seconds ___\n"
          ],
          "name": "stdout"
        },
        {
          "output_type": "stream",
          "text": [
            "___ batch index = 1500 / 1836 (81.70%), loss = 0.5151, time = 19.87 seconds ___\n"
          ],
          "name": "stdout"
        },
        {
          "output_type": "stream",
          "text": [
            "___ batch index = 1750 / 1836 (95.32%), loss = 0.6757, time = 21.19 seconds ___\n"
          ],
          "name": "stdout"
        },
        {
          "output_type": "stream",
          "text": [
            "\n",
            "*** avg_loss : 0.49, time : ~2.0 min (151.94 sec) ***\n",
            "\n"
          ],
          "name": "stdout"
        },
        {
          "output_type": "stream",
          "text": [
            "==> evaluation : avg_loss = 0.60, time : 20.94 sec\n",
            "\n"
          ],
          "name": "stdout"
        },
        {
          "output_type": "stream",
          "text": [
            "threshold:  [0.31025243]\n",
            "=====>\t{'Positive Rate': array([0.4332784], dtype=float32), 'threshold': 0.31025243, 'accuracy': 0.627677100494234, 'f1': 0.6282894736842105, 'recall': 0.7262357414448669, 'specificity': 0.5523255813953488, 'default_accuracy': 0.6803953871499177, 'default_f1': 0.5907172995780591, 'default_recall': 0.532319391634981, 'default_specificity': 0.7936046511627907}\n",
            "\n",
            "=============== EPOCH 19 / 30 ===============\n",
            "\n",
            "___ batch index = 0 / 1836 (0.00%), loss = 0.0883, time = 0.08 seconds ___\n"
          ],
          "name": "stdout"
        },
        {
          "output_type": "stream",
          "text": [
            "___ batch index = 250 / 1836 (13.62%), loss = 0.4506, time = 21.62 seconds ___\n"
          ],
          "name": "stdout"
        },
        {
          "output_type": "stream",
          "text": [
            "___ batch index = 500 / 1836 (27.23%), loss = 0.4434, time = 20.94 seconds ___\n"
          ],
          "name": "stdout"
        },
        {
          "output_type": "stream",
          "text": [
            "___ batch index = 750 / 1836 (40.85%), loss = 0.2565, time = 19.24 seconds ___\n"
          ],
          "name": "stdout"
        },
        {
          "output_type": "stream",
          "text": [
            "___ batch index = 1000 / 1836 (54.47%), loss = 0.5486, time = 21.50 seconds ___\n"
          ],
          "name": "stdout"
        },
        {
          "output_type": "stream",
          "text": [
            "___ batch index = 1250 / 1836 (68.08%), loss = 0.5802, time = 19.79 seconds ___\n"
          ],
          "name": "stdout"
        },
        {
          "output_type": "stream",
          "text": [
            "___ batch index = 1500 / 1836 (81.70%), loss = 0.4681, time = 19.92 seconds ___\n"
          ],
          "name": "stdout"
        },
        {
          "output_type": "stream",
          "text": [
            "___ batch index = 1750 / 1836 (95.32%), loss = 0.5982, time = 21.13 seconds ___\n"
          ],
          "name": "stdout"
        },
        {
          "output_type": "stream",
          "text": [
            "\n",
            "*** avg_loss : 0.46, time : ~2.0 min (151.87 sec) ***\n",
            "\n"
          ],
          "name": "stdout"
        },
        {
          "output_type": "stream",
          "text": [
            "==> evaluation : avg_loss = 0.61, time : 20.94 sec\n",
            "\n"
          ],
          "name": "stdout"
        },
        {
          "output_type": "stream",
          "text": [
            "threshold:  [0.2638703]\n",
            "=====>\t{'Positive Rate': array([0.4332784], dtype=float32), 'threshold': 0.2638703, 'accuracy': 0.6408566721581549, 'f1': 0.6414473684210527, 'recall': 0.7414448669201521, 'specificity': 0.563953488372093, 'default_accuracy': 0.6968698517298187, 'default_f1': 0.5947136563876652, 'default_recall': 0.5133079847908745, 'default_specificity': 0.8372093023255814}\n",
            "\n",
            "=============== EPOCH 20 / 30 ===============\n",
            "\n",
            "___ batch index = 0 / 1836 (0.00%), loss = 0.0634, time = 0.08 seconds ___\n"
          ],
          "name": "stdout"
        },
        {
          "output_type": "stream",
          "text": [
            "___ batch index = 250 / 1836 (13.62%), loss = 0.4103, time = 21.61 seconds ___\n"
          ],
          "name": "stdout"
        },
        {
          "output_type": "stream",
          "text": [
            "___ batch index = 500 / 1836 (27.23%), loss = 0.4899, time = 20.93 seconds ___\n"
          ],
          "name": "stdout"
        },
        {
          "output_type": "stream",
          "text": [
            "___ batch index = 750 / 1836 (40.85%), loss = 0.2790, time = 19.24 seconds ___\n"
          ],
          "name": "stdout"
        },
        {
          "output_type": "stream",
          "text": [
            "___ batch index = 1000 / 1836 (54.47%), loss = 0.5214, time = 21.55 seconds ___\n"
          ],
          "name": "stdout"
        },
        {
          "output_type": "stream",
          "text": [
            "___ batch index = 1250 / 1836 (68.08%), loss = 0.5721, time = 19.79 seconds ___\n"
          ],
          "name": "stdout"
        },
        {
          "output_type": "stream",
          "text": [
            "___ batch index = 1500 / 1836 (81.70%), loss = 0.4872, time = 19.86 seconds ___\n"
          ],
          "name": "stdout"
        },
        {
          "output_type": "stream",
          "text": [
            "___ batch index = 1750 / 1836 (95.32%), loss = 0.5130, time = 21.19 seconds ___\n"
          ],
          "name": "stdout"
        },
        {
          "output_type": "stream",
          "text": [
            "\n",
            "*** avg_loss : 0.45, time : ~2.0 min (151.91 sec) ***\n",
            "\n"
          ],
          "name": "stdout"
        },
        {
          "output_type": "stream",
          "text": [
            "==> evaluation : avg_loss = 0.61, time : 20.88 sec\n",
            "\n"
          ],
          "name": "stdout"
        },
        {
          "output_type": "stream",
          "text": [
            "threshold:  [0.2601734]\n",
            "=====>\t{'Positive Rate': array([0.4332784], dtype=float32), 'threshold': 0.2601734, 'accuracy': 0.6507413509060955, 'f1': 0.6513157894736842, 'recall': 0.752851711026616, 'specificity': 0.5726744186046512, 'default_accuracy': 0.6886326194398682, 'default_f1': 0.588235294117647, 'default_recall': 0.5133079847908745, 'default_specificity': 0.8226744186046512}\n",
            "\n",
            "=============== EPOCH 21 / 30 ===============\n",
            "\n",
            "___ batch index = 0 / 1836 (0.00%), loss = 0.0619, time = 0.08 seconds ___\n"
          ],
          "name": "stdout"
        },
        {
          "output_type": "stream",
          "text": [
            "___ batch index = 250 / 1836 (13.62%), loss = 0.4351, time = 21.62 seconds ___\n"
          ],
          "name": "stdout"
        },
        {
          "output_type": "stream",
          "text": [
            "___ batch index = 500 / 1836 (27.23%), loss = 0.3411, time = 20.93 seconds ___\n"
          ],
          "name": "stdout"
        },
        {
          "output_type": "stream",
          "text": [
            "___ batch index = 750 / 1836 (40.85%), loss = 0.2563, time = 19.29 seconds ___\n"
          ],
          "name": "stdout"
        },
        {
          "output_type": "stream",
          "text": [
            "___ batch index = 1000 / 1836 (54.47%), loss = 0.5571, time = 21.49 seconds ___\n"
          ],
          "name": "stdout"
        },
        {
          "output_type": "stream",
          "text": [
            "___ batch index = 1250 / 1836 (68.08%), loss = 0.5778, time = 19.79 seconds ___\n"
          ],
          "name": "stdout"
        },
        {
          "output_type": "stream",
          "text": [
            "___ batch index = 1500 / 1836 (81.70%), loss = 0.4441, time = 19.86 seconds ___\n"
          ],
          "name": "stdout"
        },
        {
          "output_type": "stream",
          "text": [
            "___ batch index = 1750 / 1836 (95.32%), loss = 0.5798, time = 21.19 seconds ___\n"
          ],
          "name": "stdout"
        },
        {
          "output_type": "stream",
          "text": [
            "\n",
            "*** avg_loss : 0.42, time : ~2.0 min (151.92 sec) ***\n",
            "\n"
          ],
          "name": "stdout"
        },
        {
          "output_type": "stream",
          "text": [
            "==> evaluation : avg_loss = 0.62, time : 20.94 sec\n",
            "\n"
          ],
          "name": "stdout"
        },
        {
          "output_type": "stream",
          "text": [
            "threshold:  [0.23984352]\n",
            "=====>\t{'Positive Rate': array([0.4332784], dtype=float32), 'threshold': 0.23984352, 'accuracy': 0.6474464579901154, 'f1': 0.6480263157894737, 'recall': 0.7490494296577946, 'specificity': 0.5697674418604651, 'default_accuracy': 0.6869851729818781, 'default_f1': 0.5814977973568282, 'default_recall': 0.5019011406844106, 'default_specificity': 0.8284883720930233}\n",
            "\n",
            "=============== EPOCH 22 / 30 ===============\n",
            "\n",
            "___ batch index = 0 / 1836 (0.00%), loss = 0.0881, time = 0.08 seconds ___\n"
          ],
          "name": "stdout"
        },
        {
          "output_type": "stream",
          "text": [
            "___ batch index = 250 / 1836 (13.62%), loss = 0.3582, time = 21.63 seconds ___\n"
          ],
          "name": "stdout"
        },
        {
          "output_type": "stream",
          "text": [
            "___ batch index = 500 / 1836 (27.23%), loss = 0.3660, time = 20.93 seconds ___\n"
          ],
          "name": "stdout"
        },
        {
          "output_type": "stream",
          "text": [
            "___ batch index = 750 / 1836 (40.85%), loss = 0.2031, time = 19.24 seconds ___\n"
          ],
          "name": "stdout"
        },
        {
          "output_type": "stream",
          "text": [
            "___ batch index = 1000 / 1836 (54.47%), loss = 0.5801, time = 21.56 seconds ___\n"
          ],
          "name": "stdout"
        },
        {
          "output_type": "stream",
          "text": [
            "___ batch index = 1250 / 1836 (68.08%), loss = 0.5724, time = 19.73 seconds ___\n"
          ],
          "name": "stdout"
        },
        {
          "output_type": "stream",
          "text": [
            "___ batch index = 1500 / 1836 (81.70%), loss = 0.4255, time = 19.92 seconds ___\n"
          ],
          "name": "stdout"
        },
        {
          "output_type": "stream",
          "text": [
            "___ batch index = 1750 / 1836 (95.32%), loss = 0.5178, time = 21.13 seconds ___\n"
          ],
          "name": "stdout"
        },
        {
          "output_type": "stream",
          "text": [
            "\n",
            "*** avg_loss : 0.41, time : ~2.0 min (151.88 sec) ***\n",
            "\n"
          ],
          "name": "stdout"
        },
        {
          "output_type": "stream",
          "text": [
            "==> evaluation : avg_loss = 0.63, time : 20.94 sec\n",
            "\n"
          ],
          "name": "stdout"
        },
        {
          "output_type": "stream",
          "text": [
            "threshold:  [0.22004026]\n",
            "=====>\t{'Positive Rate': array([0.4332784], dtype=float32), 'threshold': 0.22004026, 'accuracy': 0.6540362438220758, 'f1': 0.6546052631578948, 'recall': 0.7566539923954373, 'specificity': 0.5755813953488372, 'default_accuracy': 0.6952224052718287, 'default_f1': 0.5934065934065934, 'default_recall': 0.5133079847908745, 'default_specificity': 0.8343023255813954}\n",
            "\n",
            "=============== EPOCH 23 / 30 ===============\n",
            "\n",
            "___ batch index = 0 / 1836 (0.00%), loss = 0.0531, time = 0.08 seconds ___\n"
          ],
          "name": "stdout"
        },
        {
          "output_type": "stream",
          "text": [
            "___ batch index = 250 / 1836 (13.62%), loss = 0.2990, time = 21.62 seconds ___\n"
          ],
          "name": "stdout"
        },
        {
          "output_type": "stream",
          "text": [
            "___ batch index = 500 / 1836 (27.23%), loss = 0.3270, time = 20.93 seconds ___\n"
          ],
          "name": "stdout"
        },
        {
          "output_type": "stream",
          "text": [
            "___ batch index = 750 / 1836 (40.85%), loss = 0.2425, time = 19.24 seconds ___\n"
          ],
          "name": "stdout"
        },
        {
          "output_type": "stream",
          "text": [
            "___ batch index = 1000 / 1836 (54.47%), loss = 0.5942, time = 21.56 seconds ___\n"
          ],
          "name": "stdout"
        },
        {
          "output_type": "stream",
          "text": [
            "___ batch index = 1250 / 1836 (68.08%), loss = 0.6347, time = 19.73 seconds ___\n"
          ],
          "name": "stdout"
        },
        {
          "output_type": "stream",
          "text": [
            "___ batch index = 1500 / 1836 (81.70%), loss = 0.4340, time = 19.92 seconds ___\n"
          ],
          "name": "stdout"
        },
        {
          "output_type": "stream",
          "text": [
            "___ batch index = 1750 / 1836 (95.32%), loss = 0.4609, time = 21.13 seconds ___\n"
          ],
          "name": "stdout"
        },
        {
          "output_type": "stream",
          "text": [
            "\n",
            "*** avg_loss : 0.39, time : ~2.0 min (151.88 sec) ***\n",
            "\n"
          ],
          "name": "stdout"
        },
        {
          "output_type": "stream",
          "text": [
            "==> evaluation : avg_loss = 0.64, time : 20.95 sec\n",
            "\n"
          ],
          "name": "stdout"
        },
        {
          "output_type": "stream",
          "text": [
            "threshold:  [0.19771297]\n",
            "=====>\t{'Positive Rate': array([0.4332784], dtype=float32), 'threshold': 0.19771297, 'accuracy': 0.6474464579901154, 'f1': 0.6480263157894737, 'recall': 0.7490494296577946, 'specificity': 0.5697674418604651, 'default_accuracy': 0.6968698517298187, 'default_f1': 0.5837104072398189, 'default_recall': 0.49049429657794674, 'default_specificity': 0.8546511627906976}\n",
            "\n",
            "=============== EPOCH 24 / 30 ===============\n",
            "\n",
            "___ batch index = 0 / 1836 (0.00%), loss = 0.0498, time = 0.08 seconds ___\n"
          ],
          "name": "stdout"
        },
        {
          "output_type": "stream",
          "text": [
            "___ batch index = 250 / 1836 (13.62%), loss = 0.2623, time = 21.68 seconds ___\n"
          ],
          "name": "stdout"
        },
        {
          "output_type": "stream",
          "text": [
            "___ batch index = 500 / 1836 (27.23%), loss = 0.3163, time = 20.88 seconds ___\n"
          ],
          "name": "stdout"
        },
        {
          "output_type": "stream",
          "text": [
            "___ batch index = 750 / 1836 (40.85%), loss = 0.2218, time = 19.30 seconds ___\n"
          ],
          "name": "stdout"
        },
        {
          "output_type": "stream",
          "text": [
            "___ batch index = 1000 / 1836 (54.47%), loss = 0.4817, time = 21.50 seconds ___\n"
          ],
          "name": "stdout"
        },
        {
          "output_type": "stream",
          "text": [
            "___ batch index = 1250 / 1836 (68.08%), loss = 0.4442, time = 19.79 seconds ___\n"
          ],
          "name": "stdout"
        },
        {
          "output_type": "stream",
          "text": [
            "___ batch index = 1500 / 1836 (81.70%), loss = 0.3862, time = 19.86 seconds ___\n"
          ],
          "name": "stdout"
        },
        {
          "output_type": "stream",
          "text": [
            "___ batch index = 1750 / 1836 (95.32%), loss = 0.4827, time = 21.19 seconds ___\n"
          ],
          "name": "stdout"
        },
        {
          "output_type": "stream",
          "text": [
            "\n",
            "*** avg_loss : 0.37, time : ~2.0 min (151.94 sec) ***\n",
            "\n"
          ],
          "name": "stdout"
        },
        {
          "output_type": "stream",
          "text": [
            "==> evaluation : avg_loss = 0.66, time : 20.90 sec\n",
            "\n"
          ],
          "name": "stdout"
        },
        {
          "output_type": "stream",
          "text": [
            "threshold:  [0.16471152]\n",
            "=====>\t{'Positive Rate': array([0.4332784], dtype=float32), 'threshold': 0.16471152, 'accuracy': 0.6540362438220758, 'f1': 0.6546052631578948, 'recall': 0.7566539923954373, 'specificity': 0.5755813953488372, 'default_accuracy': 0.6919275123558485, 'default_f1': 0.5720823798627002, 'default_recall': 0.4752851711026616, 'default_specificity': 0.8575581395348837}\n",
            "\n",
            "=============== EPOCH 25 / 30 ===============\n",
            "\n",
            "___ batch index = 0 / 1836 (0.00%), loss = 0.0474, time = 0.08 seconds ___\n"
          ],
          "name": "stdout"
        },
        {
          "output_type": "stream",
          "text": [
            "___ batch index = 250 / 1836 (13.62%), loss = 0.1925, time = 21.68 seconds ___\n"
          ],
          "name": "stdout"
        },
        {
          "output_type": "stream",
          "text": [
            "___ batch index = 500 / 1836 (27.23%), loss = 0.2466, time = 20.93 seconds ___\n"
          ],
          "name": "stdout"
        },
        {
          "output_type": "stream",
          "text": [
            "___ batch index = 750 / 1836 (40.85%), loss = 0.1696, time = 19.24 seconds ___\n"
          ],
          "name": "stdout"
        },
        {
          "output_type": "stream",
          "text": [
            "___ batch index = 1000 / 1836 (54.47%), loss = 0.4939, time = 21.57 seconds ___\n"
          ],
          "name": "stdout"
        },
        {
          "output_type": "stream",
          "text": [
            "___ batch index = 1250 / 1836 (68.08%), loss = 0.4557, time = 19.77 seconds ___\n"
          ],
          "name": "stdout"
        },
        {
          "output_type": "stream",
          "text": [
            "___ batch index = 1500 / 1836 (81.70%), loss = 0.4186, time = 19.97 seconds ___\n"
          ],
          "name": "stdout"
        },
        {
          "output_type": "stream",
          "text": [
            "___ batch index = 1750 / 1836 (95.32%), loss = 0.3956, time = 21.18 seconds ___\n"
          ],
          "name": "stdout"
        },
        {
          "output_type": "stream",
          "text": [
            "\n",
            "*** avg_loss : 0.34, time : ~2.0 min (152.09 sec) ***\n",
            "\n"
          ],
          "name": "stdout"
        },
        {
          "output_type": "stream",
          "text": [
            "==> evaluation : avg_loss = 0.68, time : 20.94 sec\n",
            "\n"
          ],
          "name": "stdout"
        },
        {
          "output_type": "stream",
          "text": [
            "threshold:  [0.14409721]\n",
            "=====>\t{'Positive Rate': array([0.4332784], dtype=float32), 'threshold': 0.14409721, 'accuracy': 0.6540362438220758, 'f1': 0.6546052631578948, 'recall': 0.7566539923954373, 'specificity': 0.5755813953488372, 'default_accuracy': 0.6886326194398682, 'default_f1': 0.5655172413793104, 'default_recall': 0.467680608365019, 'default_specificity': 0.8575581395348837}\n",
            "\n",
            "=============== EPOCH 26 / 30 ===============\n",
            "\n",
            "___ batch index = 0 / 1836 (0.00%), loss = 0.0362, time = 0.08 seconds ___\n"
          ],
          "name": "stdout"
        },
        {
          "output_type": "stream",
          "text": [
            "___ batch index = 250 / 1836 (13.62%), loss = 0.2031, time = 21.67 seconds ___\n"
          ],
          "name": "stdout"
        },
        {
          "output_type": "stream",
          "text": [
            "___ batch index = 500 / 1836 (27.23%), loss = 0.2098, time = 20.97 seconds ___\n"
          ],
          "name": "stdout"
        },
        {
          "output_type": "stream",
          "text": [
            "___ batch index = 750 / 1836 (40.85%), loss = 0.1468, time = 19.28 seconds ___\n"
          ],
          "name": "stdout"
        },
        {
          "output_type": "stream",
          "text": [
            "___ batch index = 1000 / 1836 (54.47%), loss = 0.4941, time = 21.60 seconds ___\n"
          ],
          "name": "stdout"
        },
        {
          "output_type": "stream",
          "text": [
            "___ batch index = 1250 / 1836 (68.08%), loss = 0.5214, time = 19.84 seconds ___\n"
          ],
          "name": "stdout"
        },
        {
          "output_type": "stream",
          "text": [
            "___ batch index = 1500 / 1836 (81.70%), loss = 0.3621, time = 19.91 seconds ___\n"
          ],
          "name": "stdout"
        },
        {
          "output_type": "stream",
          "text": [
            "___ batch index = 1750 / 1836 (95.32%), loss = 0.3761, time = 21.24 seconds ___\n"
          ],
          "name": "stdout"
        },
        {
          "output_type": "stream",
          "text": [
            "\n",
            "*** avg_loss : 0.32, time : ~2.0 min (152.27 sec) ***\n",
            "\n"
          ],
          "name": "stdout"
        },
        {
          "output_type": "stream",
          "text": [
            "==> evaluation : avg_loss = 0.71, time : 20.94 sec\n",
            "\n"
          ],
          "name": "stdout"
        },
        {
          "output_type": "stream",
          "text": [
            "threshold:  [0.11145476]\n",
            "=====>\t{'Positive Rate': array([0.4332784], dtype=float32), 'threshold': 0.111454755, 'accuracy': 0.6639209225700164, 'f1': 0.6644736842105263, 'recall': 0.7680608365019012, 'specificity': 0.5843023255813954, 'default_accuracy': 0.6869851729818781, 'default_f1': 0.5539906103286385, 'default_recall': 0.44866920152091255, 'default_specificity': 0.8691860465116279}\n",
            "\n",
            "=============== EPOCH 27 / 30 ===============\n",
            "\n",
            "___ batch index = 0 / 1836 (0.00%), loss = 0.0419, time = 0.08 seconds ___\n"
          ],
          "name": "stdout"
        },
        {
          "output_type": "stream",
          "text": [
            "___ batch index = 250 / 1836 (13.62%), loss = 0.1594, time = 21.67 seconds ___\n"
          ],
          "name": "stdout"
        },
        {
          "output_type": "stream",
          "text": [
            "___ batch index = 500 / 1836 (27.23%), loss = 0.1913, time = 20.98 seconds ___\n"
          ],
          "name": "stdout"
        },
        {
          "output_type": "stream",
          "text": [
            "___ batch index = 750 / 1836 (40.85%), loss = 0.1375, time = 19.28 seconds ___\n"
          ],
          "name": "stdout"
        },
        {
          "output_type": "stream",
          "text": [
            "___ batch index = 1000 / 1836 (54.47%), loss = 0.5193, time = 21.61 seconds ___\n"
          ],
          "name": "stdout"
        },
        {
          "output_type": "stream",
          "text": [
            "___ batch index = 1250 / 1836 (68.08%), loss = 0.5487, time = 19.84 seconds ___\n"
          ],
          "name": "stdout"
        },
        {
          "output_type": "stream",
          "text": [
            "___ batch index = 1500 / 1836 (81.70%), loss = 0.3150, time = 19.92 seconds ___\n"
          ],
          "name": "stdout"
        },
        {
          "output_type": "stream",
          "text": [
            "___ batch index = 1750 / 1836 (95.32%), loss = 0.3747, time = 21.24 seconds ___\n"
          ],
          "name": "stdout"
        },
        {
          "output_type": "stream",
          "text": [
            "\n",
            "*** avg_loss : 0.32, time : ~2.0 min (152.29 sec) ***\n",
            "\n"
          ],
          "name": "stdout"
        },
        {
          "output_type": "stream",
          "text": [
            "==> evaluation : avg_loss = 0.71, time : 20.90 sec\n",
            "\n"
          ],
          "name": "stdout"
        },
        {
          "output_type": "stream",
          "text": [
            "threshold:  [0.11639956]\n",
            "=====>\t{'Positive Rate': array([0.4332784], dtype=float32), 'threshold': 0.11639956, 'accuracy': 0.6606260296540363, 'f1': 0.6611842105263157, 'recall': 0.7642585551330798, 'specificity': 0.5813953488372093, 'default_accuracy': 0.6869851729818781, 'default_f1': 0.5601851851851851, 'default_recall': 0.4600760456273764, 'default_specificity': 0.8604651162790697}\n",
            "\n",
            "=============== EPOCH 28 / 30 ===============\n",
            "\n",
            "___ batch index = 0 / 1836 (0.00%), loss = 0.0248, time = 0.08 seconds ___\n"
          ],
          "name": "stdout"
        },
        {
          "output_type": "stream",
          "text": [
            "___ batch index = 250 / 1836 (13.62%), loss = 0.1573, time = 21.67 seconds ___\n"
          ],
          "name": "stdout"
        },
        {
          "output_type": "stream",
          "text": [
            "___ batch index = 500 / 1836 (27.23%), loss = 0.2249, time = 20.98 seconds ___\n"
          ],
          "name": "stdout"
        },
        {
          "output_type": "stream",
          "text": [
            "___ batch index = 750 / 1836 (40.85%), loss = 0.2373, time = 19.34 seconds ___\n"
          ],
          "name": "stdout"
        },
        {
          "output_type": "stream",
          "text": [
            "___ batch index = 1000 / 1836 (54.47%), loss = 0.4552, time = 21.55 seconds ___\n"
          ],
          "name": "stdout"
        },
        {
          "output_type": "stream",
          "text": [
            "___ batch index = 1250 / 1836 (68.08%), loss = 0.4575, time = 19.84 seconds ___\n"
          ],
          "name": "stdout"
        },
        {
          "output_type": "stream",
          "text": [
            "___ batch index = 1500 / 1836 (81.70%), loss = 0.3745, time = 19.91 seconds ___\n"
          ],
          "name": "stdout"
        },
        {
          "output_type": "stream",
          "text": [
            "___ batch index = 1750 / 1836 (95.32%), loss = 0.3666, time = 21.24 seconds ___\n"
          ],
          "name": "stdout"
        },
        {
          "output_type": "stream",
          "text": [
            "\n",
            "*** avg_loss : 0.29, time : ~2.0 min (152.28 sec) ***\n",
            "\n"
          ],
          "name": "stdout"
        },
        {
          "output_type": "stream",
          "text": [
            "==> evaluation : avg_loss = 0.74, time : 20.96 sec\n",
            "\n"
          ],
          "name": "stdout"
        },
        {
          "output_type": "stream",
          "text": [
            "threshold:  [0.092848]\n",
            "=====>\t{'Positive Rate': array([0.4332784], dtype=float32), 'threshold': 0.092848, 'accuracy': 0.6540362438220758, 'f1': 0.6546052631578948, 'recall': 0.7566539923954373, 'specificity': 0.5755813953488372, 'default_accuracy': 0.6919275123558485, 'default_f1': 0.5620608899297423, 'default_recall': 0.45627376425855515, 'default_specificity': 0.872093023255814}\n",
            "\n",
            "=============== EPOCH 29 / 30 ===============\n",
            "\n",
            "___ batch index = 0 / 1836 (0.00%), loss = 0.0345, time = 0.08 seconds ___\n"
          ],
          "name": "stdout"
        },
        {
          "output_type": "stream",
          "text": [
            "___ batch index = 250 / 1836 (13.62%), loss = 0.1127, time = 21.68 seconds ___\n"
          ],
          "name": "stdout"
        },
        {
          "output_type": "stream",
          "text": [
            "___ batch index = 500 / 1836 (27.23%), loss = 0.1680, time = 20.98 seconds ___\n"
          ],
          "name": "stdout"
        },
        {
          "output_type": "stream",
          "text": [
            "___ batch index = 750 / 1836 (40.85%), loss = 0.1131, time = 19.29 seconds ___\n"
          ],
          "name": "stdout"
        },
        {
          "output_type": "stream",
          "text": [
            "___ batch index = 1000 / 1836 (54.47%), loss = 0.4651, time = 21.61 seconds ___\n"
          ],
          "name": "stdout"
        },
        {
          "output_type": "stream",
          "text": [
            "___ batch index = 1250 / 1836 (68.08%), loss = 0.3641, time = 19.78 seconds ___\n"
          ],
          "name": "stdout"
        },
        {
          "output_type": "stream",
          "text": [
            "___ batch index = 1500 / 1836 (81.70%), loss = 0.3679, time = 19.97 seconds ___\n"
          ],
          "name": "stdout"
        },
        {
          "output_type": "stream",
          "text": [
            "___ batch index = 1750 / 1836 (95.32%), loss = 0.2674, time = 21.18 seconds ___\n"
          ],
          "name": "stdout"
        },
        {
          "output_type": "stream",
          "text": [
            "\n",
            "*** avg_loss : 0.27, time : ~2.0 min (152.24 sec) ***\n",
            "\n"
          ],
          "name": "stdout"
        },
        {
          "output_type": "stream",
          "text": [
            "==> evaluation : avg_loss = 0.76, time : 20.96 sec\n",
            "\n"
          ],
          "name": "stdout"
        },
        {
          "output_type": "stream",
          "text": [
            "threshold:  [0.07877763]\n",
            "=====>\t{'Positive Rate': array([0.4332784], dtype=float32), 'threshold': 0.078777626, 'accuracy': 0.6606260296540363, 'f1': 0.6611842105263157, 'recall': 0.7642585551330798, 'specificity': 0.5813953488372093, 'default_accuracy': 0.6869851729818781, 'default_f1': 0.5539906103286385, 'default_recall': 0.44866920152091255, 'default_specificity': 0.8691860465116279}\n",
            "\n",
            "=============== EPOCH 30 / 30 ===============\n",
            "\n",
            "___ batch index = 0 / 1836 (0.00%), loss = 0.0188, time = 0.08 seconds ___\n"
          ],
          "name": "stdout"
        },
        {
          "output_type": "stream",
          "text": [
            "___ batch index = 250 / 1836 (13.62%), loss = 0.0888, time = 21.67 seconds ___\n"
          ],
          "name": "stdout"
        },
        {
          "output_type": "stream",
          "text": [
            "___ batch index = 500 / 1836 (27.23%), loss = 0.1883, time = 20.98 seconds ___\n"
          ],
          "name": "stdout"
        },
        {
          "output_type": "stream",
          "text": [
            "___ batch index = 750 / 1836 (40.85%), loss = 0.0678, time = 19.29 seconds ___\n"
          ],
          "name": "stdout"
        },
        {
          "output_type": "stream",
          "text": [
            "___ batch index = 1000 / 1836 (54.47%), loss = 0.3981, time = 21.61 seconds ___\n"
          ],
          "name": "stdout"
        },
        {
          "output_type": "stream",
          "text": [
            "___ batch index = 1250 / 1836 (68.08%), loss = 0.5067, time = 19.78 seconds ___\n"
          ],
          "name": "stdout"
        },
        {
          "output_type": "stream",
          "text": [
            "___ batch index = 1500 / 1836 (81.70%), loss = 0.2593, time = 19.97 seconds ___\n"
          ],
          "name": "stdout"
        },
        {
          "output_type": "stream",
          "text": [
            "___ batch index = 1750 / 1836 (95.32%), loss = 0.3305, time = 21.18 seconds ___\n"
          ],
          "name": "stdout"
        },
        {
          "output_type": "stream",
          "text": [
            "\n",
            "*** avg_loss : 0.26, time : ~2.0 min (152.23 sec) ***\n",
            "\n"
          ],
          "name": "stdout"
        },
        {
          "output_type": "stream",
          "text": [
            "==> evaluation : avg_loss = 0.77, time : 20.96 sec\n",
            "\n"
          ],
          "name": "stdout"
        },
        {
          "output_type": "stream",
          "text": [
            "threshold:  [0.08135615]\n",
            "=====>\t{'Positive Rate': array([0.4332784], dtype=float32), 'threshold': 0.08135615, 'accuracy': 0.6606260296540363, 'f1': 0.6611842105263157, 'recall': 0.7642585551330798, 'specificity': 0.5813953488372093, 'default_accuracy': 0.700164744645799, 'default_f1': 0.5863636363636363, 'default_recall': 0.49049429657794674, 'default_specificity': 0.8604651162790697}\n"
          ],
          "name": "stdout"
        },
        {
          "output_type": "stream",
          "text": [
            "-----------------BEST TH:  0.111454755\n",
            "-----------------TEST EVALUATION {'Positive Rate': array([0.44425675], dtype=float32), 'accuracy': 0.6570945945945946, 'f1': 0.652991452991453, 'recall': 0.7262357414448669, 'specificity': 0.601823708206687, 'default_accuracy': 0.643581081081081, 'default_f1': 0.5193621867881548, 'default_recall': 0.43346007604562736, 'default_specificity': 0.8115501519756839}\n",
            "%%%%%%%%%%%%%%%%%%%%%%%%%%%%%%%%%%%% Para label:  Apoyo pedagógico personal %%%%%%%%%%%%%%%%%%%%%%%%%%%\n"
          ],
          "name": "stdout"
        },
        {
          "output_type": "stream",
          "text": [
            "Some weights of the model checkpoint at dccuchile/bert-base-spanish-wwm-cased were not used when initializing BertModel: ['cls.predictions.transform.LayerNorm.bias', 'cls.predictions.bias', 'cls.predictions.transform.dense.weight', 'cls.predictions.transform.dense.bias', 'cls.predictions.transform.LayerNorm.weight', 'cls.predictions.decoder.weight', 'cls.predictions.decoder.bias']\n",
            "- This IS expected if you are initializing BertModel from the checkpoint of a model trained on another task or with another architecture (e.g. initializing a BertForSequenceClassification model from a BertForPreTraining model).\n",
            "- This IS NOT expected if you are initializing BertModel from the checkpoint of a model that you expect to be exactly identical (initializing a BertForSequenceClassification model from a BertForSequenceClassification model).\n"
          ],
          "name": "stderr"
        },
        {
          "output_type": "stream",
          "text": [
            "Some weights of BertModel were not initialized from the model checkpoint at dccuchile/bert-base-spanish-wwm-cased and are newly initialized: ['bert.pooler.dense.weight', 'bert.pooler.dense.bias']\n",
            "You should probably TRAIN this model on a down-stream task to be able to use it for predictions and inference.\n"
          ],
          "name": "stderr"
        },
        {
          "output_type": "stream",
          "text": [
            "\n",
            "=============== EPOCH 1 / 30 ===============\n",
            "\n",
            "___ batch index = 0 / 1836 (0.00%), loss = 0.7061, time = 0.08 seconds ___\n"
          ],
          "name": "stdout"
        },
        {
          "output_type": "stream",
          "text": [
            "___ batch index = 250 / 1836 (13.62%), loss = 0.6706, time = 21.73 seconds ___\n"
          ],
          "name": "stdout"
        },
        {
          "output_type": "stream",
          "text": [
            "___ batch index = 500 / 1836 (27.23%), loss = 0.5818, time = 20.97 seconds ___\n"
          ],
          "name": "stdout"
        },
        {
          "output_type": "stream",
          "text": [
            "___ batch index = 750 / 1836 (40.85%), loss = 0.6730, time = 19.26 seconds ___\n"
          ],
          "name": "stdout"
        },
        {
          "output_type": "stream",
          "text": [
            "___ batch index = 1000 / 1836 (54.47%), loss = 0.8190, time = 21.56 seconds ___\n"
          ],
          "name": "stdout"
        },
        {
          "output_type": "stream",
          "text": [
            "___ batch index = 1250 / 1836 (68.08%), loss = 0.5126, time = 19.74 seconds ___\n"
          ],
          "name": "stdout"
        },
        {
          "output_type": "stream",
          "text": [
            "___ batch index = 1500 / 1836 (81.70%), loss = 0.8984, time = 19.93 seconds ___\n"
          ],
          "name": "stdout"
        },
        {
          "output_type": "stream",
          "text": [
            "___ batch index = 1750 / 1836 (95.32%), loss = 0.6596, time = 21.14 seconds ___\n"
          ],
          "name": "stdout"
        },
        {
          "output_type": "stream",
          "text": [
            "\n",
            "*** avg_loss : 0.73, time : ~2.0 min (152.05 sec) ***\n",
            "\n"
          ],
          "name": "stdout"
        },
        {
          "output_type": "stream",
          "text": [
            "==> evaluation : avg_loss = 0.68, time : 20.96 sec\n",
            "\n"
          ],
          "name": "stdout"
        },
        {
          "output_type": "stream",
          "text": [
            "threshold:  [0.43017843]\n",
            "=====>\t{'Positive Rate': array([0.4085667], dtype=float32), 'threshold': 0.43017843, 'accuracy': 0.4958813838550247, 'f1': 0.4967105263157895, 'recall': 0.6088709677419355, 'specificity': 0.4178272980501393, 'default_accuracy': 0.5782537067545305, 'default_f1': 0.07246376811594202, 'default_recall': 0.04032258064516129, 'default_specificity': 0.9498607242339833}\n",
            "\n",
            "=============== EPOCH 2 / 30 ===============\n",
            "\n",
            "___ batch index = 0 / 1836 (0.00%), loss = 0.5422, time = 0.07 seconds ___\n"
          ],
          "name": "stdout"
        },
        {
          "output_type": "stream",
          "text": [
            "___ batch index = 250 / 1836 (13.62%), loss = 0.6358, time = 21.61 seconds ___\n"
          ],
          "name": "stdout"
        },
        {
          "output_type": "stream",
          "text": [
            "___ batch index = 500 / 1836 (27.23%), loss = 0.5349, time = 20.91 seconds ___\n"
          ],
          "name": "stdout"
        },
        {
          "output_type": "stream",
          "text": [
            "___ batch index = 750 / 1836 (40.85%), loss = 0.6601, time = 19.20 seconds ___\n"
          ],
          "name": "stdout"
        },
        {
          "output_type": "stream",
          "text": [
            "___ batch index = 1000 / 1836 (54.47%), loss = 0.9289, time = 21.52 seconds ___\n"
          ],
          "name": "stdout"
        },
        {
          "output_type": "stream",
          "text": [
            "___ batch index = 1250 / 1836 (68.08%), loss = 0.6690, time = 19.75 seconds ___\n"
          ],
          "name": "stdout"
        },
        {
          "output_type": "stream",
          "text": [
            "___ batch index = 1500 / 1836 (81.70%), loss = 0.7379, time = 19.82 seconds ___\n"
          ],
          "name": "stdout"
        },
        {
          "output_type": "stream",
          "text": [
            "___ batch index = 1750 / 1836 (95.32%), loss = 0.5942, time = 21.15 seconds ___\n"
          ],
          "name": "stdout"
        },
        {
          "output_type": "stream",
          "text": [
            "\n",
            "*** avg_loss : 0.71, time : ~2.0 min (151.66 sec) ***\n",
            "\n"
          ],
          "name": "stdout"
        },
        {
          "output_type": "stream",
          "text": [
            "==> evaluation : avg_loss = 0.68, time : 20.97 sec\n",
            "\n"
          ],
          "name": "stdout"
        },
        {
          "output_type": "stream",
          "text": [
            "threshold:  [0.40932748]\n",
            "=====>\t{'Positive Rate': array([0.4085667], dtype=float32), 'threshold': 0.40932748, 'accuracy': 0.49917627677100496, 'f1': 0.5, 'recall': 0.6129032258064516, 'specificity': 0.4206128133704735, 'default_accuracy': 0.5947281713344317, 'default_f1': 0.046511627906976744, 'default_recall': 0.024193548387096774, 'default_specificity': 0.9888579387186629}\n",
            "\n",
            "=============== EPOCH 3 / 30 ===============\n",
            "\n",
            "___ batch index = 0 / 1836 (0.00%), loss = 0.4764, time = 0.08 seconds ___\n"
          ],
          "name": "stdout"
        },
        {
          "output_type": "stream",
          "text": [
            "___ batch index = 250 / 1836 (13.62%), loss = 0.6347, time = 21.62 seconds ___\n"
          ],
          "name": "stdout"
        },
        {
          "output_type": "stream",
          "text": [
            "___ batch index = 500 / 1836 (27.23%), loss = 0.5295, time = 20.97 seconds ___\n"
          ],
          "name": "stdout"
        },
        {
          "output_type": "stream",
          "text": [
            "___ batch index = 750 / 1836 (40.85%), loss = 0.6583, time = 19.28 seconds ___\n"
          ],
          "name": "stdout"
        },
        {
          "output_type": "stream",
          "text": [
            "___ batch index = 1000 / 1836 (54.47%), loss = 0.9663, time = 21.59 seconds ___\n"
          ],
          "name": "stdout"
        },
        {
          "output_type": "stream",
          "text": [
            "___ batch index = 1250 / 1836 (68.08%), loss = 0.7240, time = 19.84 seconds ___\n"
          ],
          "name": "stdout"
        },
        {
          "output_type": "stream",
          "text": [
            "___ batch index = 1500 / 1836 (81.70%), loss = 0.7109, time = 19.92 seconds ___\n"
          ],
          "name": "stdout"
        },
        {
          "output_type": "stream",
          "text": [
            "___ batch index = 1750 / 1836 (95.32%), loss = 0.5741, time = 21.24 seconds ___\n"
          ],
          "name": "stdout"
        },
        {
          "output_type": "stream",
          "text": [
            "\n",
            "*** avg_loss : 0.70, time : ~2.0 min (152.21 sec) ***\n",
            "\n"
          ],
          "name": "stdout"
        },
        {
          "output_type": "stream",
          "text": [
            "==> evaluation : avg_loss = 0.68, time : 20.90 sec\n",
            "\n"
          ],
          "name": "stdout"
        },
        {
          "output_type": "stream",
          "text": [
            "threshold:  [0.4044842]\n",
            "=====>\t{'Positive Rate': array([0.4085667], dtype=float32), 'threshold': 0.4044842, 'accuracy': 0.49917627677100496, 'f1': 0.5016393442622951, 'recall': 0.6169354838709677, 'specificity': 0.4178272980501393, 'default_accuracy': 0.5947281713344317, 'default_f1': 0.031496062992125984, 'default_recall': 0.016129032258064516, 'default_specificity': 0.9944289693593314}\n",
            "\n",
            "=============== EPOCH 4 / 30 ===============\n",
            "\n",
            "___ batch index = 0 / 1836 (0.00%), loss = 0.4567, time = 0.08 seconds ___\n"
          ],
          "name": "stdout"
        },
        {
          "output_type": "stream",
          "text": [
            "___ batch index = 250 / 1836 (13.62%), loss = 0.6361, time = 21.66 seconds ___\n"
          ],
          "name": "stdout"
        },
        {
          "output_type": "stream",
          "text": [
            "___ batch index = 500 / 1836 (27.23%), loss = 0.5260, time = 20.98 seconds ___\n"
          ],
          "name": "stdout"
        },
        {
          "output_type": "stream",
          "text": [
            "___ batch index = 750 / 1836 (40.85%), loss = 0.6642, time = 19.35 seconds ___\n"
          ],
          "name": "stdout"
        },
        {
          "output_type": "stream",
          "text": [
            "___ batch index = 1000 / 1836 (54.47%), loss = 0.9498, time = 21.55 seconds ___\n"
          ],
          "name": "stdout"
        },
        {
          "output_type": "stream",
          "text": [
            "___ batch index = 1250 / 1836 (68.08%), loss = 0.7351, time = 19.84 seconds ___\n"
          ],
          "name": "stdout"
        },
        {
          "output_type": "stream",
          "text": [
            "___ batch index = 1500 / 1836 (81.70%), loss = 0.6821, time = 19.91 seconds ___\n"
          ],
          "name": "stdout"
        },
        {
          "output_type": "stream",
          "text": [
            "___ batch index = 1750 / 1836 (95.32%), loss = 0.5606, time = 21.24 seconds ___\n"
          ],
          "name": "stdout"
        },
        {
          "output_type": "stream",
          "text": [
            "\n",
            "*** avg_loss : 0.70, time : ~2.0 min (152.28 sec) ***\n",
            "\n"
          ],
          "name": "stdout"
        },
        {
          "output_type": "stream",
          "text": [
            "==> evaluation : avg_loss = 0.68, time : 20.94 sec\n",
            "\n"
          ],
          "name": "stdout"
        },
        {
          "output_type": "stream",
          "text": [
            "threshold:  [0.40307486]\n",
            "=====>\t{'Positive Rate': array([0.4085667], dtype=float32), 'threshold': 0.40307486, 'accuracy': 0.5123558484349259, 'f1': 0.513157894736842, 'recall': 0.6290322580645161, 'specificity': 0.43175487465181056, 'default_accuracy': 0.5947281713344317, 'default_f1': 0.031496062992125984, 'default_recall': 0.016129032258064516, 'default_specificity': 0.9944289693593314}\n",
            "\n",
            "=============== EPOCH 5 / 30 ===============\n",
            "\n",
            "___ batch index = 0 / 1836 (0.00%), loss = 0.4810, time = 0.08 seconds ___\n"
          ],
          "name": "stdout"
        },
        {
          "output_type": "stream",
          "text": [
            "___ batch index = 250 / 1836 (13.62%), loss = 0.6247, time = 21.66 seconds ___\n"
          ],
          "name": "stdout"
        },
        {
          "output_type": "stream",
          "text": [
            "___ batch index = 500 / 1836 (27.23%), loss = 0.5362, time = 20.98 seconds ___\n"
          ],
          "name": "stdout"
        },
        {
          "output_type": "stream",
          "text": [
            "___ batch index = 750 / 1836 (40.85%), loss = 0.6704, time = 19.28 seconds ___\n"
          ],
          "name": "stdout"
        },
        {
          "output_type": "stream",
          "text": [
            "___ batch index = 1000 / 1836 (54.47%), loss = 0.9387, time = 21.56 seconds ___\n"
          ],
          "name": "stdout"
        },
        {
          "output_type": "stream",
          "text": [
            "___ batch index = 1250 / 1836 (68.08%), loss = 0.7361, time = 19.75 seconds ___\n"
          ],
          "name": "stdout"
        },
        {
          "output_type": "stream",
          "text": [
            "___ batch index = 1500 / 1836 (81.70%), loss = 0.6636, time = 19.94 seconds ___\n"
          ],
          "name": "stdout"
        },
        {
          "output_type": "stream",
          "text": [
            "___ batch index = 1750 / 1836 (95.32%), loss = 0.5637, time = 21.15 seconds ___\n"
          ],
          "name": "stdout"
        },
        {
          "output_type": "stream",
          "text": [
            "\n",
            "*** avg_loss : 0.69, time : ~2.0 min (152.04 sec) ***\n",
            "\n"
          ],
          "name": "stdout"
        },
        {
          "output_type": "stream",
          "text": [
            "==> evaluation : avg_loss = 0.68, time : 20.96 sec\n",
            "\n"
          ],
          "name": "stdout"
        },
        {
          "output_type": "stream",
          "text": [
            "threshold:  [0.40192232]\n",
            "=====>\t{'Positive Rate': array([0.4085667], dtype=float32), 'threshold': 0.40192232, 'accuracy': 0.5074135090609555, 'f1': 0.509031198686371, 'recall': 0.625, 'specificity': 0.42618384401114207, 'default_accuracy': 0.5947281713344317, 'default_f1': 0.031496062992125984, 'default_recall': 0.016129032258064516, 'default_specificity': 0.9944289693593314}\n",
            "\n",
            "=============== EPOCH 6 / 30 ===============\n",
            "\n",
            "___ batch index = 0 / 1836 (0.00%), loss = 0.4675, time = 0.07 seconds ___\n"
          ],
          "name": "stdout"
        },
        {
          "output_type": "stream",
          "text": [
            "___ batch index = 250 / 1836 (13.62%), loss = 0.6144, time = 21.61 seconds ___\n"
          ],
          "name": "stdout"
        },
        {
          "output_type": "stream",
          "text": [
            "___ batch index = 500 / 1836 (27.23%), loss = 0.5270, time = 20.94 seconds ___\n"
          ],
          "name": "stdout"
        },
        {
          "output_type": "stream",
          "text": [
            "___ batch index = 750 / 1836 (40.85%), loss = 0.6383, time = 19.26 seconds ___\n"
          ],
          "name": "stdout"
        },
        {
          "output_type": "stream",
          "text": [
            "___ batch index = 1000 / 1836 (54.47%), loss = 0.9430, time = 21.57 seconds ___\n"
          ],
          "name": "stdout"
        },
        {
          "output_type": "stream",
          "text": [
            "___ batch index = 1250 / 1836 (68.08%), loss = 0.7576, time = 19.74 seconds ___\n"
          ],
          "name": "stdout"
        },
        {
          "output_type": "stream",
          "text": [
            "___ batch index = 1500 / 1836 (81.70%), loss = 0.6654, time = 19.93 seconds ___\n"
          ],
          "name": "stdout"
        },
        {
          "output_type": "stream",
          "text": [
            "___ batch index = 1750 / 1836 (95.32%), loss = 0.5476, time = 21.14 seconds ___\n"
          ],
          "name": "stdout"
        },
        {
          "output_type": "stream",
          "text": [
            "\n",
            "*** avg_loss : 0.69, time : ~2.0 min (151.92 sec) ***\n",
            "\n"
          ],
          "name": "stdout"
        },
        {
          "output_type": "stream",
          "text": [
            "==> evaluation : avg_loss = 0.68, time : 20.98 sec\n",
            "\n"
          ],
          "name": "stdout"
        },
        {
          "output_type": "stream",
          "text": [
            "threshold:  [0.40198973]\n",
            "=====>\t{'Positive Rate': array([0.4085667], dtype=float32), 'threshold': 0.40198973, 'accuracy': 0.5074135090609555, 'f1': 0.509031198686371, 'recall': 0.625, 'specificity': 0.42618384401114207, 'default_accuracy': 0.5947281713344317, 'default_f1': 0.031496062992125984, 'default_recall': 0.016129032258064516, 'default_specificity': 0.9944289693593314}\n",
            "\n",
            "=============== EPOCH 7 / 30 ===============\n",
            "\n",
            "___ batch index = 0 / 1836 (0.00%), loss = 0.4512, time = 0.07 seconds ___\n"
          ],
          "name": "stdout"
        },
        {
          "output_type": "stream",
          "text": [
            "___ batch index = 250 / 1836 (13.62%), loss = 0.6031, time = 21.67 seconds ___\n"
          ],
          "name": "stdout"
        },
        {
          "output_type": "stream",
          "text": [
            "___ batch index = 500 / 1836 (27.23%), loss = 0.5160, time = 20.88 seconds ___\n"
          ],
          "name": "stdout"
        },
        {
          "output_type": "stream",
          "text": [
            "___ batch index = 750 / 1836 (40.85%), loss = 0.6567, time = 19.31 seconds ___\n"
          ],
          "name": "stdout"
        },
        {
          "output_type": "stream",
          "text": [
            "___ batch index = 1000 / 1836 (54.47%), loss = 0.9292, time = 21.51 seconds ___\n"
          ],
          "name": "stdout"
        },
        {
          "output_type": "stream",
          "text": [
            "___ batch index = 1250 / 1836 (68.08%), loss = 0.7563, time = 19.80 seconds ___\n"
          ],
          "name": "stdout"
        },
        {
          "output_type": "stream",
          "text": [
            "___ batch index = 1500 / 1836 (81.70%), loss = 0.6510, time = 19.88 seconds ___\n"
          ],
          "name": "stdout"
        },
        {
          "output_type": "stream",
          "text": [
            "___ batch index = 1750 / 1836 (95.32%), loss = 0.5721, time = 21.20 seconds ___\n"
          ],
          "name": "stdout"
        },
        {
          "output_type": "stream",
          "text": [
            "\n",
            "*** avg_loss : 0.69, time : ~2.0 min (151.99 sec) ***\n",
            "\n"
          ],
          "name": "stdout"
        },
        {
          "output_type": "stream",
          "text": [
            "==> evaluation : avg_loss = 0.68, time : 20.91 sec\n",
            "\n"
          ],
          "name": "stdout"
        },
        {
          "output_type": "stream",
          "text": [
            "threshold:  [0.40153226]\n",
            "=====>\t{'Positive Rate': array([0.4085667], dtype=float32), 'threshold': 0.40153226, 'accuracy': 0.5057660626029654, 'f1': 0.506578947368421, 'recall': 0.6209677419354839, 'specificity': 0.42618384401114207, 'default_accuracy': 0.5947281713344317, 'default_f1': 0.031496062992125984, 'default_recall': 0.016129032258064516, 'default_specificity': 0.9944289693593314}\n",
            "\n",
            "=============== EPOCH 8 / 30 ===============\n",
            "\n",
            "___ batch index = 0 / 1836 (0.00%), loss = 0.4253, time = 0.07 seconds ___\n"
          ],
          "name": "stdout"
        },
        {
          "output_type": "stream",
          "text": [
            "___ batch index = 250 / 1836 (13.62%), loss = 0.6258, time = 21.67 seconds ___\n"
          ],
          "name": "stdout"
        },
        {
          "output_type": "stream",
          "text": [
            "___ batch index = 500 / 1836 (27.23%), loss = 0.5293, time = 20.94 seconds ___\n"
          ],
          "name": "stdout"
        },
        {
          "output_type": "stream",
          "text": [
            "___ batch index = 750 / 1836 (40.85%), loss = 0.6525, time = 19.26 seconds ___\n"
          ],
          "name": "stdout"
        },
        {
          "output_type": "stream",
          "text": [
            "___ batch index = 1000 / 1836 (54.47%), loss = 0.9414, time = 21.57 seconds ___\n"
          ],
          "name": "stdout"
        },
        {
          "output_type": "stream",
          "text": [
            "___ batch index = 1250 / 1836 (68.08%), loss = 0.7614, time = 19.74 seconds ___\n"
          ],
          "name": "stdout"
        },
        {
          "output_type": "stream",
          "text": [
            "___ batch index = 1500 / 1836 (81.70%), loss = 0.6636, time = 19.93 seconds ___\n"
          ],
          "name": "stdout"
        },
        {
          "output_type": "stream",
          "text": [
            "___ batch index = 1750 / 1836 (95.32%), loss = 0.5576, time = 21.14 seconds ___\n"
          ],
          "name": "stdout"
        },
        {
          "output_type": "stream",
          "text": [
            "\n",
            "*** avg_loss : 0.68, time : ~2.0 min (151.99 sec) ***\n",
            "\n"
          ],
          "name": "stdout"
        },
        {
          "output_type": "stream",
          "text": [
            "==> evaluation : avg_loss = 0.68, time : 20.95 sec\n",
            "\n"
          ],
          "name": "stdout"
        },
        {
          "output_type": "stream",
          "text": [
            "threshold:  [0.40095457]\n",
            "=====>\t{'Positive Rate': array([0.4085667], dtype=float32), 'threshold': 0.40095457, 'accuracy': 0.5090609555189456, 'f1': 0.5098684210526315, 'recall': 0.625, 'specificity': 0.42896935933147634, 'default_accuracy': 0.5947281713344317, 'default_f1': 0.031496062992125984, 'default_recall': 0.016129032258064516, 'default_specificity': 0.9944289693593314}\n",
            "\n",
            "=============== EPOCH 9 / 30 ===============\n",
            "\n",
            "___ batch index = 0 / 1836 (0.00%), loss = 0.4660, time = 0.07 seconds ___\n"
          ],
          "name": "stdout"
        },
        {
          "output_type": "stream",
          "text": [
            "___ batch index = 250 / 1836 (13.62%), loss = 0.6318, time = 21.63 seconds ___\n"
          ],
          "name": "stdout"
        },
        {
          "output_type": "stream",
          "text": [
            "___ batch index = 500 / 1836 (27.23%), loss = 0.5350, time = 20.94 seconds ___\n"
          ],
          "name": "stdout"
        },
        {
          "output_type": "stream",
          "text": [
            "___ batch index = 750 / 1836 (40.85%), loss = 0.6675, time = 19.31 seconds ___\n"
          ],
          "name": "stdout"
        },
        {
          "output_type": "stream",
          "text": [
            "___ batch index = 1000 / 1836 (54.47%), loss = 0.9386, time = 21.51 seconds ___\n"
          ],
          "name": "stdout"
        },
        {
          "output_type": "stream",
          "text": [
            "___ batch index = 1250 / 1836 (68.08%), loss = 0.7663, time = 19.80 seconds ___\n"
          ],
          "name": "stdout"
        },
        {
          "output_type": "stream",
          "text": [
            "___ batch index = 1500 / 1836 (81.70%), loss = 0.6362, time = 19.94 seconds ___\n"
          ],
          "name": "stdout"
        },
        {
          "output_type": "stream",
          "text": [
            "___ batch index = 1750 / 1836 (95.32%), loss = 0.5618, time = 21.14 seconds ___\n"
          ],
          "name": "stdout"
        },
        {
          "output_type": "stream",
          "text": [
            "\n",
            "*** avg_loss : 0.68, time : ~2.0 min (151.99 sec) ***\n",
            "\n"
          ],
          "name": "stdout"
        },
        {
          "output_type": "stream",
          "text": [
            "==> evaluation : avg_loss = 0.67, time : 20.95 sec\n",
            "\n"
          ],
          "name": "stdout"
        },
        {
          "output_type": "stream",
          "text": [
            "threshold:  [0.39938346]\n",
            "=====>\t{'Positive Rate': array([0.4085667], dtype=float32), 'threshold': 0.39938346, 'accuracy': 0.5057660626029654, 'f1': 0.506578947368421, 'recall': 0.6209677419354839, 'specificity': 0.42618384401114207, 'default_accuracy': 0.5963756177924218, 'default_f1': 0.04669260700389105, 'default_recall': 0.024193548387096774, 'default_specificity': 0.9916434540389972}\n",
            "model did not progress for 5 followed epochs\n"
          ],
          "name": "stdout"
        },
        {
          "output_type": "stream",
          "text": [
            "-----------------BEST TH:  0.40307486\n",
            "-----------------TEST EVALUATION {'Positive Rate': array([0.4189189], dtype=float32), 'accuracy': 0.5540540540540541, 'f1': 0.5463917525773195, 'recall': 0.6411290322580645, 'specificity': 0.49127906976744184, 'default_accuracy': 0.5844594594594594, 'default_f1': 0.046511627906976744, 'default_recall': 0.024193548387096774, 'default_specificity': 0.9883720930232558}\n",
            "%%%%%%%%%%%%%%%%%%%%%%%%%%%%%%%%%%%% Para label:  Tutoría entre pares %%%%%%%%%%%%%%%%%%%%%%%%%%%\n"
          ],
          "name": "stdout"
        },
        {
          "output_type": "stream",
          "text": [
            "Some weights of the model checkpoint at dccuchile/bert-base-spanish-wwm-cased were not used when initializing BertModel: ['cls.predictions.transform.LayerNorm.bias', 'cls.predictions.bias', 'cls.predictions.transform.dense.weight', 'cls.predictions.transform.dense.bias', 'cls.predictions.transform.LayerNorm.weight', 'cls.predictions.decoder.weight', 'cls.predictions.decoder.bias']\n",
            "- This IS expected if you are initializing BertModel from the checkpoint of a model trained on another task or with another architecture (e.g. initializing a BertForSequenceClassification model from a BertForPreTraining model).\n",
            "- This IS NOT expected if you are initializing BertModel from the checkpoint of a model that you expect to be exactly identical (initializing a BertForSequenceClassification model from a BertForSequenceClassification model).\n"
          ],
          "name": "stderr"
        },
        {
          "output_type": "stream",
          "text": [
            "Some weights of BertModel were not initialized from the model checkpoint at dccuchile/bert-base-spanish-wwm-cased and are newly initialized: ['bert.pooler.dense.weight', 'bert.pooler.dense.bias']\n",
            "You should probably TRAIN this model on a down-stream task to be able to use it for predictions and inference.\n"
          ],
          "name": "stderr"
        },
        {
          "output_type": "stream",
          "text": [
            "\n",
            "=============== EPOCH 1 / 30 ===============\n",
            "\n",
            "___ batch index = 0 / 1836 (0.00%), loss = 0.7418, time = 0.08 seconds ___\n"
          ],
          "name": "stdout"
        },
        {
          "output_type": "stream",
          "text": [
            "___ batch index = 250 / 1836 (13.62%), loss = 0.5418, time = 21.64 seconds ___\n"
          ],
          "name": "stdout"
        },
        {
          "output_type": "stream",
          "text": [
            "___ batch index = 500 / 1836 (27.23%), loss = 0.9011, time = 20.93 seconds ___\n"
          ],
          "name": "stdout"
        },
        {
          "output_type": "stream",
          "text": [
            "___ batch index = 750 / 1836 (40.85%), loss = 0.4905, time = 19.24 seconds ___\n"
          ],
          "name": "stdout"
        },
        {
          "output_type": "stream",
          "text": [
            "___ batch index = 1000 / 1836 (54.47%), loss = 0.3435, time = 21.57 seconds ___\n"
          ],
          "name": "stdout"
        },
        {
          "output_type": "stream",
          "text": [
            "___ batch index = 1250 / 1836 (68.08%), loss = 0.2515, time = 19.74 seconds ___\n"
          ],
          "name": "stdout"
        },
        {
          "output_type": "stream",
          "text": [
            "___ batch index = 1500 / 1836 (81.70%), loss = 0.2001, time = 19.93 seconds ___\n"
          ],
          "name": "stdout"
        },
        {
          "output_type": "stream",
          "text": [
            "___ batch index = 1750 / 1836 (95.32%), loss = 0.1301, time = 21.19 seconds ___\n"
          ],
          "name": "stdout"
        },
        {
          "output_type": "stream",
          "text": [
            "\n",
            "*** avg_loss : 0.44, time : ~2.0 min (151.91 sec) ***\n",
            "\n"
          ],
          "name": "stdout"
        },
        {
          "output_type": "stream",
          "text": [
            "==> evaluation : avg_loss = 0.36, time : 21.00 sec\n",
            "\n"
          ],
          "name": "stdout"
        },
        {
          "output_type": "stream",
          "text": [
            "threshold:  [0.08827445]\n",
            "=====>\t{'Positive Rate': array([0.11532125], dtype=float32), 'threshold': 0.08827445, 'accuracy': 0.20593080724876442, 'f1': 0.20723684210526314, 'recall': 0.9, 'specificity': 0.1154562383612663, 'default_accuracy': 0.8846787479406919, 'default_f1': 0.0, 'default_recall': 0.0, 'default_specificity': 1.0}\n",
            "\n",
            "=============== EPOCH 2 / 30 ===============\n",
            "\n",
            "___ batch index = 0 / 1836 (0.00%), loss = 0.1109, time = 0.08 seconds ___\n"
          ],
          "name": "stdout"
        },
        {
          "output_type": "stream",
          "text": [
            "___ batch index = 250 / 1836 (13.62%), loss = 0.5030, time = 21.63 seconds ___\n"
          ],
          "name": "stdout"
        },
        {
          "output_type": "stream",
          "text": [
            "___ batch index = 500 / 1836 (27.23%), loss = 1.5940, time = 20.94 seconds ___\n"
          ],
          "name": "stdout"
        },
        {
          "output_type": "stream",
          "text": [
            "___ batch index = 750 / 1836 (40.85%), loss = 0.2301, time = 19.25 seconds ___\n"
          ],
          "name": "stdout"
        },
        {
          "output_type": "stream",
          "text": [
            "___ batch index = 1000 / 1836 (54.47%), loss = 0.1724, time = 21.56 seconds ___\n"
          ],
          "name": "stdout"
        },
        {
          "output_type": "stream",
          "text": [
            "___ batch index = 1250 / 1836 (68.08%), loss = 0.1482, time = 19.74 seconds ___\n"
          ],
          "name": "stdout"
        },
        {
          "output_type": "stream",
          "text": [
            "___ batch index = 1500 / 1836 (81.70%), loss = 0.1408, time = 19.93 seconds ___\n"
          ],
          "name": "stdout"
        },
        {
          "output_type": "stream",
          "text": [
            "___ batch index = 1750 / 1836 (95.32%), loss = 0.0997, time = 21.14 seconds ___\n"
          ],
          "name": "stdout"
        },
        {
          "output_type": "stream",
          "text": [
            "\n",
            "*** avg_loss : 0.39, time : ~2.0 min (151.92 sec) ***\n",
            "\n"
          ],
          "name": "stdout"
        },
        {
          "output_type": "stream",
          "text": [
            "==> evaluation : avg_loss = 0.36, time : 20.95 sec\n",
            "\n"
          ],
          "name": "stdout"
        },
        {
          "output_type": "stream",
          "text": [
            "threshold:  [0.07006565]\n",
            "=====>\t{'Positive Rate': array([0.11532125], dtype=float32), 'threshold': 0.07006565, 'accuracy': 0.21252059308072488, 'f1': 0.21381578947368418, 'recall': 0.9285714285714286, 'specificity': 0.1191806331471136, 'default_accuracy': 0.8846787479406919, 'default_f1': 0.0, 'default_recall': 0.0, 'default_specificity': 1.0}\n",
            "\n",
            "=============== EPOCH 3 / 30 ===============\n",
            "\n",
            "___ batch index = 0 / 1836 (0.00%), loss = 0.0861, time = 0.08 seconds ___\n"
          ],
          "name": "stdout"
        },
        {
          "output_type": "stream",
          "text": [
            "___ batch index = 250 / 1836 (13.62%), loss = 0.5440, time = 21.62 seconds ___\n"
          ],
          "name": "stdout"
        },
        {
          "output_type": "stream",
          "text": [
            "___ batch index = 500 / 1836 (27.23%), loss = 1.6793, time = 20.94 seconds ___\n"
          ],
          "name": "stdout"
        },
        {
          "output_type": "stream",
          "text": [
            "___ batch index = 750 / 1836 (40.85%), loss = 0.1824, time = 19.25 seconds ___\n"
          ],
          "name": "stdout"
        },
        {
          "output_type": "stream",
          "text": [
            "___ batch index = 1000 / 1836 (54.47%), loss = 0.1594, time = 21.56 seconds ___\n"
          ],
          "name": "stdout"
        },
        {
          "output_type": "stream",
          "text": [
            "___ batch index = 1250 / 1836 (68.08%), loss = 0.1349, time = 19.74 seconds ___\n"
          ],
          "name": "stdout"
        },
        {
          "output_type": "stream",
          "text": [
            "___ batch index = 1500 / 1836 (81.70%), loss = 0.1238, time = 19.93 seconds ___\n"
          ],
          "name": "stdout"
        },
        {
          "output_type": "stream",
          "text": [
            "___ batch index = 1750 / 1836 (95.32%), loss = 0.1000, time = 21.14 seconds ___\n"
          ],
          "name": "stdout"
        },
        {
          "output_type": "stream",
          "text": [
            "\n",
            "*** avg_loss : 0.39, time : ~2.0 min (151.95 sec) ***\n",
            "\n"
          ],
          "name": "stdout"
        },
        {
          "output_type": "stream",
          "text": [
            "==> evaluation : avg_loss = 0.36, time : 20.94 sec\n",
            "\n"
          ],
          "name": "stdout"
        },
        {
          "output_type": "stream",
          "text": [
            "threshold:  [0.06809273]\n",
            "=====>\t{'Positive Rate': array([0.11532125], dtype=float32), 'threshold': 0.06809273, 'accuracy': 0.2158154859967051, 'f1': 0.21710526315789475, 'recall': 0.9428571428571428, 'specificity': 0.12104283054003724, 'default_accuracy': 0.8846787479406919, 'default_f1': 0.0, 'default_recall': 0.0, 'default_specificity': 1.0}\n",
            "\n",
            "=============== EPOCH 4 / 30 ===============\n",
            "\n",
            "___ batch index = 0 / 1836 (0.00%), loss = 0.0768, time = 0.08 seconds ___\n"
          ],
          "name": "stdout"
        },
        {
          "output_type": "stream",
          "text": [
            "___ batch index = 250 / 1836 (13.62%), loss = 0.5148, time = 21.69 seconds ___\n"
          ],
          "name": "stdout"
        },
        {
          "output_type": "stream",
          "text": [
            "___ batch index = 500 / 1836 (27.23%), loss = 1.7520, time = 20.89 seconds ___\n"
          ],
          "name": "stdout"
        },
        {
          "output_type": "stream",
          "text": [
            "___ batch index = 750 / 1836 (40.85%), loss = 0.1718, time = 19.31 seconds ___\n"
          ],
          "name": "stdout"
        },
        {
          "output_type": "stream",
          "text": [
            "___ batch index = 1000 / 1836 (54.47%), loss = 0.1509, time = 21.51 seconds ___\n"
          ],
          "name": "stdout"
        },
        {
          "output_type": "stream",
          "text": [
            "___ batch index = 1250 / 1836 (68.08%), loss = 0.1430, time = 19.80 seconds ___\n"
          ],
          "name": "stdout"
        },
        {
          "output_type": "stream",
          "text": [
            "___ batch index = 1500 / 1836 (81.70%), loss = 0.1222, time = 19.87 seconds ___\n"
          ],
          "name": "stdout"
        },
        {
          "output_type": "stream",
          "text": [
            "___ batch index = 1750 / 1836 (95.32%), loss = 0.1028, time = 21.20 seconds ___\n"
          ],
          "name": "stdout"
        },
        {
          "output_type": "stream",
          "text": [
            "\n",
            "*** avg_loss : 0.38, time : ~2.0 min (152.03 sec) ***\n",
            "\n"
          ],
          "name": "stdout"
        },
        {
          "output_type": "stream",
          "text": [
            "==> evaluation : avg_loss = 0.36, time : 20.89 sec\n",
            "\n"
          ],
          "name": "stdout"
        },
        {
          "output_type": "stream",
          "text": [
            "threshold:  [0.06841832]\n",
            "=====>\t{'Positive Rate': array([0.11532125], dtype=float32), 'threshold': 0.068418324, 'accuracy': 0.2158154859967051, 'f1': 0.21710526315789475, 'recall': 0.9428571428571428, 'specificity': 0.12104283054003724, 'default_accuracy': 0.8846787479406919, 'default_f1': 0.0, 'default_recall': 0.0, 'default_specificity': 1.0}\n",
            "\n",
            "=============== EPOCH 5 / 30 ===============\n",
            "\n",
            "___ batch index = 0 / 1836 (0.00%), loss = 0.0799, time = 0.08 seconds ___\n"
          ],
          "name": "stdout"
        },
        {
          "output_type": "stream",
          "text": [
            "___ batch index = 250 / 1836 (13.62%), loss = 0.5156, time = 21.69 seconds ___\n"
          ],
          "name": "stdout"
        },
        {
          "output_type": "stream",
          "text": [
            "___ batch index = 500 / 1836 (27.23%), loss = 1.6796, time = 20.94 seconds ___\n"
          ],
          "name": "stdout"
        },
        {
          "output_type": "stream",
          "text": [
            "___ batch index = 750 / 1836 (40.85%), loss = 0.1554, time = 19.25 seconds ___\n"
          ],
          "name": "stdout"
        },
        {
          "output_type": "stream",
          "text": [
            "___ batch index = 1000 / 1836 (54.47%), loss = 0.1454, time = 21.57 seconds ___\n"
          ],
          "name": "stdout"
        },
        {
          "output_type": "stream",
          "text": [
            "___ batch index = 1250 / 1836 (68.08%), loss = 0.1428, time = 19.74 seconds ___\n"
          ],
          "name": "stdout"
        },
        {
          "output_type": "stream",
          "text": [
            "___ batch index = 1500 / 1836 (81.70%), loss = 0.1241, time = 19.93 seconds ___\n"
          ],
          "name": "stdout"
        },
        {
          "output_type": "stream",
          "text": [
            "___ batch index = 1750 / 1836 (95.32%), loss = 0.1051, time = 21.14 seconds ___\n"
          ],
          "name": "stdout"
        },
        {
          "output_type": "stream",
          "text": [
            "\n",
            "*** avg_loss : 0.38, time : ~2.0 min (152.00 sec) ***\n",
            "\n"
          ],
          "name": "stdout"
        },
        {
          "output_type": "stream",
          "text": [
            "==> evaluation : avg_loss = 0.36, time : 20.94 sec\n",
            "\n"
          ],
          "name": "stdout"
        },
        {
          "output_type": "stream",
          "text": [
            "threshold:  [0.06828418]\n",
            "=====>\t{'Positive Rate': array([0.11532125], dtype=float32), 'threshold': 0.068284184, 'accuracy': 0.21252059308072488, 'f1': 0.21381578947368418, 'recall': 0.9285714285714286, 'specificity': 0.1191806331471136, 'default_accuracy': 0.8846787479406919, 'default_f1': 0.0, 'default_recall': 0.0, 'default_specificity': 1.0}\n",
            "\n",
            "=============== EPOCH 6 / 30 ===============\n",
            "\n",
            "___ batch index = 0 / 1836 (0.00%), loss = 0.0700, time = 0.07 seconds ___\n"
          ],
          "name": "stdout"
        },
        {
          "output_type": "stream",
          "text": [
            "___ batch index = 250 / 1836 (13.62%), loss = 0.5218, time = 21.62 seconds ___\n"
          ],
          "name": "stdout"
        },
        {
          "output_type": "stream",
          "text": [
            "___ batch index = 500 / 1836 (27.23%), loss = 1.7051, time = 20.94 seconds ___\n"
          ],
          "name": "stdout"
        },
        {
          "output_type": "stream",
          "text": [
            "___ batch index = 750 / 1836 (40.85%), loss = 0.1543, time = 19.31 seconds ___\n"
          ],
          "name": "stdout"
        },
        {
          "output_type": "stream",
          "text": [
            "___ batch index = 1000 / 1836 (54.47%), loss = 0.1493, time = 21.51 seconds ___\n"
          ],
          "name": "stdout"
        },
        {
          "output_type": "stream",
          "text": [
            "___ batch index = 1250 / 1836 (68.08%), loss = 0.1415, time = 19.80 seconds ___\n"
          ],
          "name": "stdout"
        },
        {
          "output_type": "stream",
          "text": [
            "___ batch index = 1500 / 1836 (81.70%), loss = 0.1313, time = 19.93 seconds ___\n"
          ],
          "name": "stdout"
        },
        {
          "output_type": "stream",
          "text": [
            "___ batch index = 1750 / 1836 (95.32%), loss = 0.1054, time = 21.14 seconds ___\n"
          ],
          "name": "stdout"
        },
        {
          "output_type": "stream",
          "text": [
            "\n",
            "*** avg_loss : 0.37, time : ~2.0 min (151.98 sec) ***\n",
            "\n"
          ],
          "name": "stdout"
        },
        {
          "output_type": "stream",
          "text": [
            "==> evaluation : avg_loss = 0.36, time : 20.96 sec\n",
            "\n"
          ],
          "name": "stdout"
        },
        {
          "output_type": "stream",
          "text": [
            "threshold:  [0.06794374]\n",
            "=====>\t{'Positive Rate': array([0.11532125], dtype=float32), 'threshold': 0.06794374, 'accuracy': 0.21087314662273476, 'f1': 0.21346469622331693, 'recall': 0.9285714285714286, 'specificity': 0.11731843575418995, 'default_accuracy': 0.8846787479406919, 'default_f1': 0.0, 'default_recall': 0.0, 'default_specificity': 1.0}\n",
            "\n",
            "=============== EPOCH 7 / 30 ===============\n",
            "\n",
            "___ batch index = 0 / 1836 (0.00%), loss = 0.0687, time = 0.07 seconds ___\n"
          ],
          "name": "stdout"
        },
        {
          "output_type": "stream",
          "text": [
            "___ batch index = 250 / 1836 (13.62%), loss = 0.5325, time = 21.67 seconds ___\n"
          ],
          "name": "stdout"
        },
        {
          "output_type": "stream",
          "text": [
            "___ batch index = 500 / 1836 (27.23%), loss = 1.6706, time = 20.94 seconds ___\n"
          ],
          "name": "stdout"
        },
        {
          "output_type": "stream",
          "text": [
            "___ batch index = 750 / 1836 (40.85%), loss = 0.1514, time = 19.25 seconds ___\n"
          ],
          "name": "stdout"
        },
        {
          "output_type": "stream",
          "text": [
            "___ batch index = 1000 / 1836 (54.47%), loss = 0.1414, time = 21.51 seconds ___\n"
          ],
          "name": "stdout"
        },
        {
          "output_type": "stream",
          "text": [
            "___ batch index = 1250 / 1836 (68.08%), loss = 0.1345, time = 19.81 seconds ___\n"
          ],
          "name": "stdout"
        },
        {
          "output_type": "stream",
          "text": [
            "___ batch index = 1500 / 1836 (81.70%), loss = 0.1213, time = 19.88 seconds ___\n"
          ],
          "name": "stdout"
        },
        {
          "output_type": "stream",
          "text": [
            "___ batch index = 1750 / 1836 (95.32%), loss = 0.1009, time = 21.20 seconds ___\n"
          ],
          "name": "stdout"
        },
        {
          "output_type": "stream",
          "text": [
            "\n",
            "*** avg_loss : 0.37, time : ~2.0 min (152.00 sec) ***\n",
            "\n"
          ],
          "name": "stdout"
        },
        {
          "output_type": "stream",
          "text": [
            "==> evaluation : avg_loss = 0.36, time : 20.93 sec\n",
            "\n"
          ],
          "name": "stdout"
        },
        {
          "output_type": "stream",
          "text": [
            "threshold:  [0.06779359]\n",
            "=====>\t{'Positive Rate': array([0.11532125], dtype=float32), 'threshold': 0.06779359, 'accuracy': 0.21252059308072488, 'f1': 0.21639344262295082, 'recall': 0.9428571428571428, 'specificity': 0.11731843575418995, 'default_accuracy': 0.8846787479406919, 'default_f1': 0.0, 'default_recall': 0.0, 'default_specificity': 1.0}\n",
            "\n",
            "=============== EPOCH 8 / 30 ===============\n",
            "\n",
            "___ batch index = 0 / 1836 (0.00%), loss = 0.0710, time = 0.07 seconds ___\n"
          ],
          "name": "stdout"
        },
        {
          "output_type": "stream",
          "text": [
            "___ batch index = 250 / 1836 (13.62%), loss = 0.5052, time = 21.62 seconds ___\n"
          ],
          "name": "stdout"
        },
        {
          "output_type": "stream",
          "text": [
            "___ batch index = 500 / 1836 (27.23%), loss = 1.6462, time = 20.95 seconds ___\n"
          ],
          "name": "stdout"
        },
        {
          "output_type": "stream",
          "text": [
            "___ batch index = 750 / 1836 (40.85%), loss = 0.1533, time = 19.25 seconds ___\n"
          ],
          "name": "stdout"
        },
        {
          "output_type": "stream",
          "text": [
            "___ batch index = 1000 / 1836 (54.47%), loss = 0.1408, time = 21.51 seconds ___\n"
          ],
          "name": "stdout"
        },
        {
          "output_type": "stream",
          "text": [
            "___ batch index = 1250 / 1836 (68.08%), loss = 0.1460, time = 19.80 seconds ___\n"
          ],
          "name": "stdout"
        },
        {
          "output_type": "stream",
          "text": [
            "___ batch index = 1500 / 1836 (81.70%), loss = 0.1242, time = 19.93 seconds ___\n"
          ],
          "name": "stdout"
        },
        {
          "output_type": "stream",
          "text": [
            "___ batch index = 1750 / 1836 (95.32%), loss = 0.1045, time = 21.14 seconds ___\n"
          ],
          "name": "stdout"
        },
        {
          "output_type": "stream",
          "text": [
            "\n",
            "*** avg_loss : 0.37, time : ~2.0 min (151.94 sec) ***\n",
            "\n"
          ],
          "name": "stdout"
        },
        {
          "output_type": "stream",
          "text": [
            "==> evaluation : avg_loss = 0.36, time : 20.96 sec\n",
            "\n"
          ],
          "name": "stdout"
        },
        {
          "output_type": "stream",
          "text": [
            "threshold:  [0.06751032]\n",
            "=====>\t{'Positive Rate': array([0.11532125], dtype=float32), 'threshold': 0.06751032, 'accuracy': 0.21252059308072488, 'f1': 0.21381578947368418, 'recall': 0.9285714285714286, 'specificity': 0.1191806331471136, 'default_accuracy': 0.8846787479406919, 'default_f1': 0.0, 'default_recall': 0.0, 'default_specificity': 1.0}\n",
            "model did not progress for 5 followed epochs\n"
          ],
          "name": "stdout"
        },
        {
          "output_type": "stream",
          "text": [
            "-----------------BEST TH:  0.06809273\n",
            "-----------------TEST EVALUATION {'Positive Rate': array([0.11824324], dtype=float32), 'accuracy': 0.20945945945945946, 'f1': 0.20945945945945946, 'recall': 0.8857142857142857, 'specificity': 0.11877394636015326, 'default_accuracy': 0.8817567567567568, 'default_f1': 0.0, 'default_recall': 0.0, 'default_specificity': 1.0}\n",
            "%%%%%%%%%%%%%%%%%%%%%%%%%%%%%%%%%%%% Para label:  Hacer a la familia partícipe del proceso %%%%%%%%%%%%%%%%%%%%%%%%%%%\n"
          ],
          "name": "stdout"
        },
        {
          "output_type": "stream",
          "text": [
            "Some weights of the model checkpoint at dccuchile/bert-base-spanish-wwm-cased were not used when initializing BertModel: ['cls.predictions.transform.LayerNorm.bias', 'cls.predictions.bias', 'cls.predictions.transform.dense.weight', 'cls.predictions.transform.dense.bias', 'cls.predictions.transform.LayerNorm.weight', 'cls.predictions.decoder.weight', 'cls.predictions.decoder.bias']\n",
            "- This IS expected if you are initializing BertModel from the checkpoint of a model trained on another task or with another architecture (e.g. initializing a BertForSequenceClassification model from a BertForPreTraining model).\n",
            "- This IS NOT expected if you are initializing BertModel from the checkpoint of a model that you expect to be exactly identical (initializing a BertForSequenceClassification model from a BertForSequenceClassification model).\n"
          ],
          "name": "stderr"
        },
        {
          "output_type": "stream",
          "text": [
            "Some weights of BertModel were not initialized from the model checkpoint at dccuchile/bert-base-spanish-wwm-cased and are newly initialized: ['bert.pooler.dense.weight', 'bert.pooler.dense.bias']\n",
            "You should probably TRAIN this model on a down-stream task to be able to use it for predictions and inference.\n"
          ],
          "name": "stderr"
        },
        {
          "output_type": "stream",
          "text": [
            "\n",
            "=============== EPOCH 1 / 30 ===============\n",
            "\n",
            "___ batch index = 0 / 1836 (0.00%), loss = 0.7706, time = 0.08 seconds ___\n"
          ],
          "name": "stdout"
        },
        {
          "output_type": "stream",
          "text": [
            "___ batch index = 250 / 1836 (13.62%), loss = 0.6439, time = 21.68 seconds ___\n"
          ],
          "name": "stdout"
        },
        {
          "output_type": "stream",
          "text": [
            "___ batch index = 500 / 1836 (27.23%), loss = 0.6104, time = 20.87 seconds ___\n"
          ],
          "name": "stdout"
        },
        {
          "output_type": "stream",
          "text": [
            "___ batch index = 750 / 1836 (40.85%), loss = 0.5219, time = 19.30 seconds ___\n"
          ],
          "name": "stdout"
        },
        {
          "output_type": "stream",
          "text": [
            "___ batch index = 1000 / 1836 (54.47%), loss = 0.7753, time = 21.50 seconds ___\n"
          ],
          "name": "stdout"
        },
        {
          "output_type": "stream",
          "text": [
            "___ batch index = 1250 / 1836 (68.08%), loss = 0.5354, time = 19.80 seconds ___\n"
          ],
          "name": "stdout"
        },
        {
          "output_type": "stream",
          "text": [
            "___ batch index = 1500 / 1836 (81.70%), loss = 0.4875, time = 19.87 seconds ___\n"
          ],
          "name": "stdout"
        },
        {
          "output_type": "stream",
          "text": [
            "___ batch index = 1750 / 1836 (95.32%), loss = 0.3868, time = 21.19 seconds ___\n"
          ],
          "name": "stdout"
        },
        {
          "output_type": "stream",
          "text": [
            "\n",
            "*** avg_loss : 0.64, time : ~2.0 min (151.93 sec) ***\n",
            "\n"
          ],
          "name": "stdout"
        },
        {
          "output_type": "stream",
          "text": [
            "==> evaluation : avg_loss = 0.64, time : 20.95 sec\n",
            "\n"
          ],
          "name": "stdout"
        },
        {
          "output_type": "stream",
          "text": [
            "threshold:  [0.735037]\n",
            "=====>\t{'Positive Rate': array([0.67545307], dtype=float32), 'threshold': 0.735037, 'accuracy': 0.4299835255354201, 'f1': 0.4271523178807947, 'recall': 0.3146341463414634, 'specificity': 0.6700507614213198, 'default_accuracy': 0.6754530477759473, 'default_f1': 0.8062930186823992, 'default_recall': 1.0, 'default_specificity': 0.0}\n",
            "\n",
            "=============== EPOCH 2 / 30 ===============\n",
            "\n",
            "___ batch index = 0 / 1836 (0.00%), loss = 1.4177, time = 0.07 seconds ___\n"
          ],
          "name": "stdout"
        },
        {
          "output_type": "stream",
          "text": [
            "___ batch index = 250 / 1836 (13.62%), loss = 0.5963, time = 21.61 seconds ___\n"
          ],
          "name": "stdout"
        },
        {
          "output_type": "stream",
          "text": [
            "___ batch index = 500 / 1836 (27.23%), loss = 0.6375, time = 20.93 seconds ___\n"
          ],
          "name": "stdout"
        },
        {
          "output_type": "stream",
          "text": [
            "___ batch index = 750 / 1836 (40.85%), loss = 0.5051, time = 19.24 seconds ___\n"
          ],
          "name": "stdout"
        },
        {
          "output_type": "stream",
          "text": [
            "___ batch index = 1000 / 1836 (54.47%), loss = 0.7623, time = 21.55 seconds ___\n"
          ],
          "name": "stdout"
        },
        {
          "output_type": "stream",
          "text": [
            "___ batch index = 1250 / 1836 (68.08%), loss = 0.5335, time = 19.73 seconds ___\n"
          ],
          "name": "stdout"
        },
        {
          "output_type": "stream",
          "text": [
            "___ batch index = 1500 / 1836 (81.70%), loss = 0.4684, time = 19.92 seconds ___\n"
          ],
          "name": "stdout"
        },
        {
          "output_type": "stream",
          "text": [
            "___ batch index = 1750 / 1836 (95.32%), loss = 0.4045, time = 21.19 seconds ___\n"
          ],
          "name": "stdout"
        },
        {
          "output_type": "stream",
          "text": [
            "\n",
            "*** avg_loss : 0.64, time : ~2.0 min (151.91 sec) ***\n",
            "\n"
          ],
          "name": "stdout"
        },
        {
          "output_type": "stream",
          "text": [
            "==> evaluation : avg_loss = 0.64, time : 20.88 sec\n",
            "\n"
          ],
          "name": "stdout"
        },
        {
          "output_type": "stream",
          "text": [
            "threshold:  [0.72742134]\n",
            "=====>\t{'Positive Rate': array([0.67545307], dtype=float32), 'threshold': 0.72742134, 'accuracy': 0.4332784184514003, 'f1': 0.43234323432343236, 'recall': 0.3195121951219512, 'specificity': 0.6700507614213198, 'default_accuracy': 0.6754530477759473, 'default_f1': 0.8062930186823992, 'default_recall': 1.0, 'default_specificity': 0.0}\n",
            "\n",
            "=============== EPOCH 3 / 30 ===============\n",
            "\n",
            "___ batch index = 0 / 1836 (0.00%), loss = 1.3531, time = 0.08 seconds ___\n"
          ],
          "name": "stdout"
        },
        {
          "output_type": "stream",
          "text": [
            "___ batch index = 250 / 1836 (13.62%), loss = 0.6093, time = 21.61 seconds ___\n"
          ],
          "name": "stdout"
        },
        {
          "output_type": "stream",
          "text": [
            "___ batch index = 500 / 1836 (27.23%), loss = 0.6325, time = 20.93 seconds ___\n"
          ],
          "name": "stdout"
        },
        {
          "output_type": "stream",
          "text": [
            "___ batch index = 750 / 1836 (40.85%), loss = 0.4860, time = 19.30 seconds ___\n"
          ],
          "name": "stdout"
        },
        {
          "output_type": "stream",
          "text": [
            "___ batch index = 1000 / 1836 (54.47%), loss = 0.7796, time = 21.50 seconds ___\n"
          ],
          "name": "stdout"
        },
        {
          "output_type": "stream",
          "text": [
            "___ batch index = 1250 / 1836 (68.08%), loss = 0.5377, time = 19.80 seconds ___\n"
          ],
          "name": "stdout"
        },
        {
          "output_type": "stream",
          "text": [
            "___ batch index = 1500 / 1836 (81.70%), loss = 0.4765, time = 19.87 seconds ___\n"
          ],
          "name": "stdout"
        },
        {
          "output_type": "stream",
          "text": [
            "___ batch index = 1750 / 1836 (95.32%), loss = 0.3877, time = 21.19 seconds ___\n"
          ],
          "name": "stdout"
        },
        {
          "output_type": "stream",
          "text": [
            "\n",
            "*** avg_loss : 0.63, time : ~2.0 min (151.94 sec) ***\n",
            "\n"
          ],
          "name": "stdout"
        },
        {
          "output_type": "stream",
          "text": [
            "==> evaluation : avg_loss = 0.64, time : 20.94 sec\n",
            "\n"
          ],
          "name": "stdout"
        },
        {
          "output_type": "stream",
          "text": [
            "threshold:  [0.7288154]\n",
            "=====>\t{'Positive Rate': array([0.67545307], dtype=float32), 'threshold': 0.7288154, 'accuracy': 0.45304777594728174, 'f1': 0.45033112582781454, 'recall': 0.33170731707317075, 'specificity': 0.7055837563451777, 'default_accuracy': 0.6754530477759473, 'default_f1': 0.8062930186823992, 'default_recall': 1.0, 'default_specificity': 0.0}\n",
            "\n",
            "=============== EPOCH 4 / 30 ===============\n",
            "\n",
            "___ batch index = 0 / 1836 (0.00%), loss = 1.4770, time = 0.08 seconds ___\n"
          ],
          "name": "stdout"
        },
        {
          "output_type": "stream",
          "text": [
            "___ batch index = 250 / 1836 (13.62%), loss = 0.5818, time = 21.61 seconds ___\n"
          ],
          "name": "stdout"
        },
        {
          "output_type": "stream",
          "text": [
            "___ batch index = 500 / 1836 (27.23%), loss = 0.6302, time = 20.94 seconds ___\n"
          ],
          "name": "stdout"
        },
        {
          "output_type": "stream",
          "text": [
            "___ batch index = 750 / 1836 (40.85%), loss = 0.4895, time = 19.25 seconds ___\n"
          ],
          "name": "stdout"
        },
        {
          "output_type": "stream",
          "text": [
            "___ batch index = 1000 / 1836 (54.47%), loss = 0.7735, time = 21.56 seconds ___\n"
          ],
          "name": "stdout"
        },
        {
          "output_type": "stream",
          "text": [
            "___ batch index = 1250 / 1836 (68.08%), loss = 0.5462, time = 19.74 seconds ___\n"
          ],
          "name": "stdout"
        },
        {
          "output_type": "stream",
          "text": [
            "___ batch index = 1500 / 1836 (81.70%), loss = 0.4670, time = 19.93 seconds ___\n"
          ],
          "name": "stdout"
        },
        {
          "output_type": "stream",
          "text": [
            "___ batch index = 1750 / 1836 (95.32%), loss = 0.3927, time = 21.19 seconds ___\n"
          ],
          "name": "stdout"
        },
        {
          "output_type": "stream",
          "text": [
            "\n",
            "*** avg_loss : 0.63, time : ~2.0 min (151.96 sec) ***\n",
            "\n"
          ],
          "name": "stdout"
        },
        {
          "output_type": "stream",
          "text": [
            "==> evaluation : avg_loss = 0.63, time : 20.87 sec\n",
            "\n"
          ],
          "name": "stdout"
        },
        {
          "output_type": "stream",
          "text": [
            "threshold:  [0.73237]\n",
            "=====>\t{'Positive Rate': array([0.67545307], dtype=float32), 'threshold': 0.73237, 'accuracy': 0.45304777594728174, 'f1': 0.4521452145214521, 'recall': 0.33414634146341465, 'specificity': 0.700507614213198, 'default_accuracy': 0.6754530477759473, 'default_f1': 0.8062930186823992, 'default_recall': 1.0, 'default_specificity': 0.0}\n",
            "\n",
            "=============== EPOCH 5 / 30 ===============\n",
            "\n",
            "___ batch index = 0 / 1836 (0.00%), loss = 1.4408, time = 0.08 seconds ___\n"
          ],
          "name": "stdout"
        },
        {
          "output_type": "stream",
          "text": [
            "___ batch index = 250 / 1836 (13.62%), loss = 0.5818, time = 21.61 seconds ___\n"
          ],
          "name": "stdout"
        },
        {
          "output_type": "stream",
          "text": [
            "___ batch index = 500 / 1836 (27.23%), loss = 0.6285, time = 20.93 seconds ___\n"
          ],
          "name": "stdout"
        },
        {
          "output_type": "stream",
          "text": [
            "___ batch index = 750 / 1836 (40.85%), loss = 0.4706, time = 19.30 seconds ___\n"
          ],
          "name": "stdout"
        },
        {
          "output_type": "stream",
          "text": [
            "___ batch index = 1000 / 1836 (54.47%), loss = 0.7870, time = 21.50 seconds ___\n"
          ],
          "name": "stdout"
        },
        {
          "output_type": "stream",
          "text": [
            "___ batch index = 1250 / 1836 (68.08%), loss = 0.5397, time = 19.80 seconds ___\n"
          ],
          "name": "stdout"
        },
        {
          "output_type": "stream",
          "text": [
            "___ batch index = 1500 / 1836 (81.70%), loss = 0.4661, time = 19.87 seconds ___\n"
          ],
          "name": "stdout"
        },
        {
          "output_type": "stream",
          "text": [
            "___ batch index = 1750 / 1836 (95.32%), loss = 0.3922, time = 21.20 seconds ___\n"
          ],
          "name": "stdout"
        },
        {
          "output_type": "stream",
          "text": [
            "\n",
            "*** avg_loss : 0.63, time : ~2.0 min (151.95 sec) ***\n",
            "\n"
          ],
          "name": "stdout"
        },
        {
          "output_type": "stream",
          "text": [
            "==> evaluation : avg_loss = 0.63, time : 20.93 sec\n",
            "\n"
          ],
          "name": "stdout"
        },
        {
          "output_type": "stream",
          "text": [
            "threshold:  [0.73757994]\n",
            "=====>\t{'Positive Rate': array([0.67545307], dtype=float32), 'threshold': 0.73757994, 'accuracy': 0.45304777594728174, 'f1': 0.4521452145214521, 'recall': 0.33414634146341465, 'specificity': 0.700507614213198, 'default_accuracy': 0.6754530477759473, 'default_f1': 0.8062930186823992, 'default_recall': 1.0, 'default_specificity': 0.0}\n",
            "\n",
            "=============== EPOCH 6 / 30 ===============\n",
            "\n",
            "___ batch index = 0 / 1836 (0.00%), loss = 1.4754, time = 0.07 seconds ___\n"
          ],
          "name": "stdout"
        },
        {
          "output_type": "stream",
          "text": [
            "___ batch index = 250 / 1836 (13.62%), loss = 0.5643, time = 21.62 seconds ___\n"
          ],
          "name": "stdout"
        },
        {
          "output_type": "stream",
          "text": [
            "___ batch index = 500 / 1836 (27.23%), loss = 0.6365, time = 20.94 seconds ___\n"
          ],
          "name": "stdout"
        },
        {
          "output_type": "stream",
          "text": [
            "___ batch index = 750 / 1836 (40.85%), loss = 0.4982, time = 19.25 seconds ___\n"
          ],
          "name": "stdout"
        },
        {
          "output_type": "stream",
          "text": [
            "___ batch index = 1000 / 1836 (54.47%), loss = 0.7659, time = 21.56 seconds ___\n"
          ],
          "name": "stdout"
        },
        {
          "output_type": "stream",
          "text": [
            "___ batch index = 1250 / 1836 (68.08%), loss = 0.5431, time = 19.74 seconds ___\n"
          ],
          "name": "stdout"
        },
        {
          "output_type": "stream",
          "text": [
            "___ batch index = 1500 / 1836 (81.70%), loss = 0.4603, time = 19.93 seconds ___\n"
          ],
          "name": "stdout"
        },
        {
          "output_type": "stream",
          "text": [
            "___ batch index = 1750 / 1836 (95.32%), loss = 0.3878, time = 21.20 seconds ___\n"
          ],
          "name": "stdout"
        },
        {
          "output_type": "stream",
          "text": [
            "\n",
            "*** avg_loss : 0.62, time : ~2.0 min (151.98 sec) ***\n",
            "\n"
          ],
          "name": "stdout"
        },
        {
          "output_type": "stream",
          "text": [
            "==> evaluation : avg_loss = 0.63, time : 20.89 sec\n",
            "\n"
          ],
          "name": "stdout"
        },
        {
          "output_type": "stream",
          "text": [
            "threshold:  [0.74475265]\n",
            "=====>\t{'Positive Rate': array([0.67545307], dtype=float32), 'threshold': 0.74475265, 'accuracy': 0.4464579901153213, 'f1': 0.44554455445544555, 'recall': 0.32926829268292684, 'specificity': 0.6903553299492385, 'default_accuracy': 0.6754530477759473, 'default_f1': 0.8062930186823992, 'default_recall': 1.0, 'default_specificity': 0.0}\n",
            "\n",
            "=============== EPOCH 7 / 30 ===============\n",
            "\n",
            "___ batch index = 0 / 1836 (0.00%), loss = 1.5698, time = 0.08 seconds ___\n"
          ],
          "name": "stdout"
        },
        {
          "output_type": "stream",
          "text": [
            "___ batch index = 250 / 1836 (13.62%), loss = 0.5769, time = 21.63 seconds ___\n"
          ],
          "name": "stdout"
        },
        {
          "output_type": "stream",
          "text": [
            "___ batch index = 500 / 1836 (27.23%), loss = 0.6327, time = 20.93 seconds ___\n"
          ],
          "name": "stdout"
        },
        {
          "output_type": "stream",
          "text": [
            "___ batch index = 750 / 1836 (40.85%), loss = 0.4917, time = 19.30 seconds ___\n"
          ],
          "name": "stdout"
        },
        {
          "output_type": "stream",
          "text": [
            "___ batch index = 1000 / 1836 (54.47%), loss = 0.7689, time = 21.51 seconds ___\n"
          ],
          "name": "stdout"
        },
        {
          "output_type": "stream",
          "text": [
            "___ batch index = 1250 / 1836 (68.08%), loss = 0.5196, time = 19.80 seconds ___\n"
          ],
          "name": "stdout"
        },
        {
          "output_type": "stream",
          "text": [
            "___ batch index = 1500 / 1836 (81.70%), loss = 0.4736, time = 19.87 seconds ___\n"
          ],
          "name": "stdout"
        },
        {
          "output_type": "stream",
          "text": [
            "___ batch index = 1750 / 1836 (95.32%), loss = 0.3786, time = 21.20 seconds ___\n"
          ],
          "name": "stdout"
        },
        {
          "output_type": "stream",
          "text": [
            "\n",
            "*** avg_loss : 0.62, time : ~2.0 min (151.98 sec) ***\n",
            "\n"
          ],
          "name": "stdout"
        },
        {
          "output_type": "stream",
          "text": [
            "==> evaluation : avg_loss = 0.63, time : 20.94 sec\n",
            "\n"
          ],
          "name": "stdout"
        },
        {
          "output_type": "stream",
          "text": [
            "threshold:  [0.7566667]\n",
            "=====>\t{'Positive Rate': array([0.67545307], dtype=float32), 'threshold': 0.7566667, 'accuracy': 0.46293245469522243, 'f1': 0.4620462046204621, 'recall': 0.34146341463414637, 'specificity': 0.7157360406091371, 'default_accuracy': 0.6754530477759473, 'default_f1': 0.8062930186823992, 'default_recall': 1.0, 'default_specificity': 0.0}\n",
            "\n",
            "=============== EPOCH 8 / 30 ===============\n",
            "\n",
            "___ batch index = 0 / 1836 (0.00%), loss = 1.6138, time = 0.08 seconds ___\n"
          ],
          "name": "stdout"
        },
        {
          "output_type": "stream",
          "text": [
            "___ batch index = 250 / 1836 (13.62%), loss = 0.5470, time = 21.63 seconds ___\n"
          ],
          "name": "stdout"
        },
        {
          "output_type": "stream",
          "text": [
            "___ batch index = 500 / 1836 (27.23%), loss = 0.6336, time = 20.94 seconds ___\n"
          ],
          "name": "stdout"
        },
        {
          "output_type": "stream",
          "text": [
            "___ batch index = 750 / 1836 (40.85%), loss = 0.4818, time = 19.25 seconds ___\n"
          ],
          "name": "stdout"
        },
        {
          "output_type": "stream",
          "text": [
            "___ batch index = 1000 / 1836 (54.47%), loss = 0.7430, time = 21.56 seconds ___\n"
          ],
          "name": "stdout"
        },
        {
          "output_type": "stream",
          "text": [
            "___ batch index = 1250 / 1836 (68.08%), loss = 0.5120, time = 19.74 seconds ___\n"
          ],
          "name": "stdout"
        },
        {
          "output_type": "stream",
          "text": [
            "___ batch index = 1500 / 1836 (81.70%), loss = 0.4559, time = 19.93 seconds ___\n"
          ],
          "name": "stdout"
        },
        {
          "output_type": "stream",
          "text": [
            "___ batch index = 1750 / 1836 (95.32%), loss = 0.3944, time = 21.20 seconds ___\n"
          ],
          "name": "stdout"
        },
        {
          "output_type": "stream",
          "text": [
            "\n",
            "*** avg_loss : 0.61, time : ~2.0 min (152.00 sec) ***\n",
            "\n"
          ],
          "name": "stdout"
        },
        {
          "output_type": "stream",
          "text": [
            "==> evaluation : avg_loss = 0.64, time : 20.89 sec\n",
            "\n"
          ],
          "name": "stdout"
        },
        {
          "output_type": "stream",
          "text": [
            "threshold:  [0.77182776]\n",
            "=====>\t{'Positive Rate': array([0.67545307], dtype=float32), 'threshold': 0.77182776, 'accuracy': 0.4612850082372323, 'f1': 0.4577114427860697, 'recall': 0.33658536585365856, 'specificity': 0.7208121827411168, 'default_accuracy': 0.6754530477759473, 'default_f1': 0.8062930186823992, 'default_recall': 1.0, 'default_specificity': 0.0}\n",
            "\n",
            "=============== EPOCH 9 / 30 ===============\n",
            "\n",
            "___ batch index = 0 / 1836 (0.00%), loss = 1.6966, time = 0.08 seconds ___\n"
          ],
          "name": "stdout"
        },
        {
          "output_type": "stream",
          "text": [
            "___ batch index = 250 / 1836 (13.62%), loss = 0.5514, time = 21.64 seconds ___\n"
          ],
          "name": "stdout"
        },
        {
          "output_type": "stream",
          "text": [
            "___ batch index = 500 / 1836 (27.23%), loss = 0.6595, time = 20.94 seconds ___\n"
          ],
          "name": "stdout"
        },
        {
          "output_type": "stream",
          "text": [
            "___ batch index = 750 / 1836 (40.85%), loss = 0.4955, time = 19.30 seconds ___\n"
          ],
          "name": "stdout"
        },
        {
          "output_type": "stream",
          "text": [
            "___ batch index = 1000 / 1836 (54.47%), loss = 0.7344, time = 21.50 seconds ___\n"
          ],
          "name": "stdout"
        },
        {
          "output_type": "stream",
          "text": [
            "___ batch index = 1250 / 1836 (68.08%), loss = 0.5186, time = 19.80 seconds ___\n"
          ],
          "name": "stdout"
        },
        {
          "output_type": "stream",
          "text": [
            "___ batch index = 1500 / 1836 (81.70%), loss = 0.4603, time = 19.87 seconds ___\n"
          ],
          "name": "stdout"
        },
        {
          "output_type": "stream",
          "text": [
            "___ batch index = 1750 / 1836 (95.32%), loss = 0.3827, time = 21.20 seconds ___\n"
          ],
          "name": "stdout"
        },
        {
          "output_type": "stream",
          "text": [
            "\n",
            "*** avg_loss : 0.60, time : ~2.0 min (151.99 sec) ***\n",
            "\n"
          ],
          "name": "stdout"
        },
        {
          "output_type": "stream",
          "text": [
            "==> evaluation : avg_loss = 0.64, time : 20.97 sec\n",
            "\n"
          ],
          "name": "stdout"
        },
        {
          "output_type": "stream",
          "text": [
            "threshold:  [0.78667825]\n",
            "=====>\t{'Positive Rate': array([0.67545307], dtype=float32), 'threshold': 0.78667825, 'accuracy': 0.4695222405271829, 'f1': 0.4686468646864687, 'recall': 0.3463414634146341, 'specificity': 0.7258883248730964, 'default_accuracy': 0.6754530477759473, 'default_f1': 0.8062930186823992, 'default_recall': 1.0, 'default_specificity': 0.0}\n",
            "\n",
            "=============== EPOCH 10 / 30 ===============\n",
            "\n",
            "___ batch index = 0 / 1836 (0.00%), loss = 1.7427, time = 0.08 seconds ___\n"
          ],
          "name": "stdout"
        },
        {
          "output_type": "stream",
          "text": [
            "___ batch index = 250 / 1836 (13.62%), loss = 0.5435, time = 21.63 seconds ___\n"
          ],
          "name": "stdout"
        },
        {
          "output_type": "stream",
          "text": [
            "___ batch index = 500 / 1836 (27.23%), loss = 0.6302, time = 20.94 seconds ___\n"
          ],
          "name": "stdout"
        },
        {
          "output_type": "stream",
          "text": [
            "___ batch index = 750 / 1836 (40.85%), loss = 0.5085, time = 19.25 seconds ___\n"
          ],
          "name": "stdout"
        },
        {
          "output_type": "stream",
          "text": [
            "___ batch index = 1000 / 1836 (54.47%), loss = 0.7342, time = 21.57 seconds ___\n"
          ],
          "name": "stdout"
        },
        {
          "output_type": "stream",
          "text": [
            "___ batch index = 1250 / 1836 (68.08%), loss = 0.4719, time = 19.74 seconds ___\n"
          ],
          "name": "stdout"
        },
        {
          "output_type": "stream",
          "text": [
            "___ batch index = 1500 / 1836 (81.70%), loss = 0.4308, time = 19.94 seconds ___\n"
          ],
          "name": "stdout"
        },
        {
          "output_type": "stream",
          "text": [
            "___ batch index = 1750 / 1836 (95.32%), loss = 0.3790, time = 21.20 seconds ___\n"
          ],
          "name": "stdout"
        },
        {
          "output_type": "stream",
          "text": [
            "\n",
            "*** avg_loss : 0.59, time : ~2.0 min (152.01 sec) ***\n",
            "\n"
          ],
          "name": "stdout"
        },
        {
          "output_type": "stream",
          "text": [
            "==> evaluation : avg_loss = 0.64, time : 20.88 sec\n",
            "\n"
          ],
          "name": "stdout"
        },
        {
          "output_type": "stream",
          "text": [
            "threshold:  [0.8021191]\n",
            "=====>\t{'Positive Rate': array([0.67545307], dtype=float32), 'threshold': 0.8021191, 'accuracy': 0.4728171334431631, 'f1': 0.4719471947194719, 'recall': 0.348780487804878, 'specificity': 0.7309644670050761, 'default_accuracy': 0.6787479406919276, 'default_f1': 0.8078817733990148, 'default_recall': 1.0, 'default_specificity': 0.01015228426395939}\n",
            "\n",
            "=============== EPOCH 11 / 30 ===============\n",
            "\n",
            "___ batch index = 0 / 1836 (0.00%), loss = 1.7996, time = 0.08 seconds ___\n"
          ],
          "name": "stdout"
        },
        {
          "output_type": "stream",
          "text": [
            "___ batch index = 250 / 1836 (13.62%), loss = 0.5300, time = 21.63 seconds ___\n"
          ],
          "name": "stdout"
        },
        {
          "output_type": "stream",
          "text": [
            "___ batch index = 500 / 1836 (27.23%), loss = 0.6264, time = 20.94 seconds ___\n"
          ],
          "name": "stdout"
        },
        {
          "output_type": "stream",
          "text": [
            "___ batch index = 750 / 1836 (40.85%), loss = 0.4844, time = 19.31 seconds ___\n"
          ],
          "name": "stdout"
        },
        {
          "output_type": "stream",
          "text": [
            "___ batch index = 1000 / 1836 (54.47%), loss = 0.7281, time = 21.50 seconds ___\n"
          ],
          "name": "stdout"
        },
        {
          "output_type": "stream",
          "text": [
            "___ batch index = 1250 / 1836 (68.08%), loss = 0.4737, time = 19.80 seconds ___\n"
          ],
          "name": "stdout"
        },
        {
          "output_type": "stream",
          "text": [
            "___ batch index = 1500 / 1836 (81.70%), loss = 0.4015, time = 19.87 seconds ___\n"
          ],
          "name": "stdout"
        },
        {
          "output_type": "stream",
          "text": [
            "___ batch index = 1750 / 1836 (95.32%), loss = 0.3730, time = 21.20 seconds ___\n"
          ],
          "name": "stdout"
        },
        {
          "output_type": "stream",
          "text": [
            "\n",
            "*** avg_loss : 0.59, time : ~2.0 min (152.00 sec) ***\n",
            "\n"
          ],
          "name": "stdout"
        },
        {
          "output_type": "stream",
          "text": [
            "==> evaluation : avg_loss = 0.64, time : 20.95 sec\n",
            "\n"
          ],
          "name": "stdout"
        },
        {
          "output_type": "stream",
          "text": [
            "threshold:  [0.8148014]\n",
            "=====>\t{'Positive Rate': array([0.67545307], dtype=float32), 'threshold': 0.8148014, 'accuracy': 0.4843492586490939, 'f1': 0.48264462809917363, 'recall': 0.35609756097560974, 'specificity': 0.751269035532995, 'default_accuracy': 0.6836902800658978, 'default_f1': 0.8102766798418972, 'default_recall': 1.0, 'default_specificity': 0.025380710659898477}\n",
            "\n",
            "=============== EPOCH 12 / 30 ===============\n",
            "\n",
            "___ batch index = 0 / 1836 (0.00%), loss = 1.8751, time = 0.08 seconds ___\n"
          ],
          "name": "stdout"
        },
        {
          "output_type": "stream",
          "text": [
            "___ batch index = 250 / 1836 (13.62%), loss = 0.4750, time = 21.63 seconds ___\n"
          ],
          "name": "stdout"
        },
        {
          "output_type": "stream",
          "text": [
            "___ batch index = 500 / 1836 (27.23%), loss = 0.6139, time = 20.94 seconds ___\n"
          ],
          "name": "stdout"
        },
        {
          "output_type": "stream",
          "text": [
            "___ batch index = 750 / 1836 (40.85%), loss = 0.5400, time = 19.25 seconds ___\n"
          ],
          "name": "stdout"
        },
        {
          "output_type": "stream",
          "text": [
            "___ batch index = 1000 / 1836 (54.47%), loss = 0.7535, time = 21.56 seconds ___\n"
          ],
          "name": "stdout"
        },
        {
          "output_type": "stream",
          "text": [
            "___ batch index = 1250 / 1836 (68.08%), loss = 0.4653, time = 19.75 seconds ___\n"
          ],
          "name": "stdout"
        },
        {
          "output_type": "stream",
          "text": [
            "___ batch index = 1500 / 1836 (81.70%), loss = 0.3876, time = 19.94 seconds ___\n"
          ],
          "name": "stdout"
        },
        {
          "output_type": "stream",
          "text": [
            "___ batch index = 1750 / 1836 (95.32%), loss = 0.3791, time = 21.20 seconds ___\n"
          ],
          "name": "stdout"
        },
        {
          "output_type": "stream",
          "text": [
            "\n",
            "*** avg_loss : 0.57, time : ~2.0 min (152.02 sec) ***\n",
            "\n"
          ],
          "name": "stdout"
        },
        {
          "output_type": "stream",
          "text": [
            "==> evaluation : avg_loss = 0.64, time : 20.90 sec\n",
            "\n"
          ],
          "name": "stdout"
        },
        {
          "output_type": "stream",
          "text": [
            "threshold:  [0.8267447]\n",
            "=====>\t{'Positive Rate': array([0.67545307], dtype=float32), 'threshold': 0.8267447, 'accuracy': 0.4958813838550247, 'f1': 0.49504950495049505, 'recall': 0.36585365853658536, 'specificity': 0.766497461928934, 'default_accuracy': 0.6836902800658978, 'default_f1': 0.8087649402390439, 'default_recall': 0.9902439024390244, 'default_specificity': 0.04568527918781726}\n",
            "\n",
            "=============== EPOCH 13 / 30 ===============\n",
            "\n",
            "___ batch index = 0 / 1836 (0.00%), loss = 1.8316, time = 0.08 seconds ___\n"
          ],
          "name": "stdout"
        },
        {
          "output_type": "stream",
          "text": [
            "___ batch index = 250 / 1836 (13.62%), loss = 0.4907, time = 21.64 seconds ___\n"
          ],
          "name": "stdout"
        },
        {
          "output_type": "stream",
          "text": [
            "___ batch index = 500 / 1836 (27.23%), loss = 0.5984, time = 20.94 seconds ___\n"
          ],
          "name": "stdout"
        },
        {
          "output_type": "stream",
          "text": [
            "___ batch index = 750 / 1836 (40.85%), loss = 0.4783, time = 19.31 seconds ___\n"
          ],
          "name": "stdout"
        },
        {
          "output_type": "stream",
          "text": [
            "___ batch index = 1000 / 1836 (54.47%), loss = 0.6883, time = 21.51 seconds ___\n"
          ],
          "name": "stdout"
        },
        {
          "output_type": "stream",
          "text": [
            "___ batch index = 1250 / 1836 (68.08%), loss = 0.4851, time = 19.80 seconds ___\n"
          ],
          "name": "stdout"
        },
        {
          "output_type": "stream",
          "text": [
            "___ batch index = 1500 / 1836 (81.70%), loss = 0.3769, time = 19.87 seconds ___\n"
          ],
          "name": "stdout"
        },
        {
          "output_type": "stream",
          "text": [
            "___ batch index = 1750 / 1836 (95.32%), loss = 0.3475, time = 21.20 seconds ___\n"
          ],
          "name": "stdout"
        },
        {
          "output_type": "stream",
          "text": [
            "\n",
            "*** avg_loss : 0.56, time : ~2.0 min (152.02 sec) ***\n",
            "\n"
          ],
          "name": "stdout"
        },
        {
          "output_type": "stream",
          "text": [
            "==> evaluation : avg_loss = 0.65, time : 20.95 sec\n",
            "\n"
          ],
          "name": "stdout"
        },
        {
          "output_type": "stream",
          "text": [
            "threshold:  [0.8475553]\n",
            "=====>\t{'Positive Rate': array([0.67545307], dtype=float32), 'threshold': 0.8475553, 'accuracy': 0.49917627677100496, 'f1': 0.49834983498349833, 'recall': 0.36829268292682926, 'specificity': 0.7715736040609137, 'default_accuracy': 0.685337726523888, 'default_f1': 0.8088088088088089, 'default_recall': 0.9853658536585366, 'default_specificity': 0.06091370558375635}\n",
            "\n",
            "=============== EPOCH 14 / 30 ===============\n",
            "\n",
            "___ batch index = 0 / 1836 (0.00%), loss = 1.9427, time = 0.08 seconds ___\n"
          ],
          "name": "stdout"
        },
        {
          "output_type": "stream",
          "text": [
            "___ batch index = 250 / 1836 (13.62%), loss = 0.4308, time = 21.64 seconds ___\n"
          ],
          "name": "stdout"
        },
        {
          "output_type": "stream",
          "text": [
            "___ batch index = 500 / 1836 (27.23%), loss = 0.5901, time = 20.94 seconds ___\n"
          ],
          "name": "stdout"
        },
        {
          "output_type": "stream",
          "text": [
            "___ batch index = 750 / 1836 (40.85%), loss = 0.5106, time = 19.25 seconds ___\n"
          ],
          "name": "stdout"
        },
        {
          "output_type": "stream",
          "text": [
            "___ batch index = 1000 / 1836 (54.47%), loss = 0.7012, time = 21.57 seconds ___\n"
          ],
          "name": "stdout"
        },
        {
          "output_type": "stream",
          "text": [
            "___ batch index = 1250 / 1836 (68.08%), loss = 0.4424, time = 19.74 seconds ___\n"
          ],
          "name": "stdout"
        },
        {
          "output_type": "stream",
          "text": [
            "___ batch index = 1500 / 1836 (81.70%), loss = 0.3475, time = 19.93 seconds ___\n"
          ],
          "name": "stdout"
        },
        {
          "output_type": "stream",
          "text": [
            "___ batch index = 1750 / 1836 (95.32%), loss = 0.3270, time = 21.20 seconds ___\n"
          ],
          "name": "stdout"
        },
        {
          "output_type": "stream",
          "text": [
            "\n",
            "*** avg_loss : 0.54, time : ~2.0 min (152.03 sec) ***\n",
            "\n"
          ],
          "name": "stdout"
        },
        {
          "output_type": "stream",
          "text": [
            "==> evaluation : avg_loss = 0.66, time : 20.92 sec\n",
            "\n"
          ],
          "name": "stdout"
        },
        {
          "output_type": "stream",
          "text": [
            "threshold:  [0.8653033]\n",
            "=====>\t{'Positive Rate': array([0.67545307], dtype=float32), 'threshold': 0.8653033, 'accuracy': 0.5057660626029654, 'f1': 0.504950495049505, 'recall': 0.37317073170731707, 'specificity': 0.7817258883248731, 'default_accuracy': 0.685337726523888, 'default_f1': 0.808040201005025, 'default_recall': 0.9804878048780488, 'default_specificity': 0.07106598984771574}\n",
            "\n",
            "=============== EPOCH 15 / 30 ===============\n",
            "\n",
            "___ batch index = 0 / 1836 (0.00%), loss = 2.1971, time = 0.08 seconds ___\n"
          ],
          "name": "stdout"
        },
        {
          "output_type": "stream",
          "text": [
            "___ batch index = 250 / 1836 (13.62%), loss = 0.4057, time = 21.64 seconds ___\n"
          ],
          "name": "stdout"
        },
        {
          "output_type": "stream",
          "text": [
            "___ batch index = 500 / 1836 (27.23%), loss = 0.5835, time = 20.94 seconds ___\n"
          ],
          "name": "stdout"
        },
        {
          "output_type": "stream",
          "text": [
            "___ batch index = 750 / 1836 (40.85%), loss = 0.4506, time = 19.31 seconds ___\n"
          ],
          "name": "stdout"
        },
        {
          "output_type": "stream",
          "text": [
            "___ batch index = 1000 / 1836 (54.47%), loss = 0.6766, time = 21.51 seconds ___\n"
          ],
          "name": "stdout"
        },
        {
          "output_type": "stream",
          "text": [
            "___ batch index = 1250 / 1836 (68.08%), loss = 0.4189, time = 19.80 seconds ___\n"
          ],
          "name": "stdout"
        },
        {
          "output_type": "stream",
          "text": [
            "___ batch index = 1500 / 1836 (81.70%), loss = 0.3864, time = 19.87 seconds ___\n"
          ],
          "name": "stdout"
        },
        {
          "output_type": "stream",
          "text": [
            "___ batch index = 1750 / 1836 (95.32%), loss = 0.2691, time = 21.20 seconds ___\n"
          ],
          "name": "stdout"
        },
        {
          "output_type": "stream",
          "text": [
            "\n",
            "*** avg_loss : 0.52, time : ~2.0 min (152.03 sec) ***\n",
            "\n"
          ],
          "name": "stdout"
        },
        {
          "output_type": "stream",
          "text": [
            "==> evaluation : avg_loss = 0.67, time : 20.95 sec\n",
            "\n"
          ],
          "name": "stdout"
        },
        {
          "output_type": "stream",
          "text": [
            "threshold:  [0.87988347]\n",
            "=====>\t{'Positive Rate': array([0.67545307], dtype=float32), 'threshold': 0.87988347, 'accuracy': 0.5057660626029654, 'f1': 0.504950495049505, 'recall': 0.37317073170731707, 'specificity': 0.7817258883248731, 'default_accuracy': 0.6820428336079077, 'default_f1': 0.8052472250252269, 'default_recall': 0.973170731707317, 'default_specificity': 0.07614213197969544}\n",
            "\n",
            "=============== EPOCH 16 / 30 ===============\n",
            "\n",
            "___ batch index = 0 / 1836 (0.00%), loss = 2.1979, time = 0.08 seconds ___\n"
          ],
          "name": "stdout"
        },
        {
          "output_type": "stream",
          "text": [
            "___ batch index = 250 / 1836 (13.62%), loss = 0.4357, time = 21.63 seconds ___\n"
          ],
          "name": "stdout"
        },
        {
          "output_type": "stream",
          "text": [
            "___ batch index = 500 / 1836 (27.23%), loss = 0.6170, time = 20.94 seconds ___\n"
          ],
          "name": "stdout"
        },
        {
          "output_type": "stream",
          "text": [
            "___ batch index = 750 / 1836 (40.85%), loss = 0.4393, time = 19.26 seconds ___\n"
          ],
          "name": "stdout"
        },
        {
          "output_type": "stream",
          "text": [
            "___ batch index = 1000 / 1836 (54.47%), loss = 0.6608, time = 21.57 seconds ___\n"
          ],
          "name": "stdout"
        },
        {
          "output_type": "stream",
          "text": [
            "___ batch index = 1250 / 1836 (68.08%), loss = 0.4388, time = 19.75 seconds ___\n"
          ],
          "name": "stdout"
        },
        {
          "output_type": "stream",
          "text": [
            "___ batch index = 1500 / 1836 (81.70%), loss = 0.3388, time = 19.93 seconds ___\n"
          ],
          "name": "stdout"
        },
        {
          "output_type": "stream",
          "text": [
            "___ batch index = 1750 / 1836 (95.32%), loss = 0.3008, time = 21.20 seconds ___\n"
          ],
          "name": "stdout"
        },
        {
          "output_type": "stream",
          "text": [
            "\n",
            "*** avg_loss : 0.51, time : ~2.0 min (152.03 sec) ***\n",
            "\n"
          ],
          "name": "stdout"
        },
        {
          "output_type": "stream",
          "text": [
            "==> evaluation : avg_loss = 0.68, time : 20.89 sec\n",
            "\n"
          ],
          "name": "stdout"
        },
        {
          "output_type": "stream",
          "text": [
            "threshold:  [0.8942423]\n",
            "=====>\t{'Positive Rate': array([0.67545307], dtype=float32), 'threshold': 0.8942423, 'accuracy': 0.5090609555189456, 'f1': 0.5082508250825082, 'recall': 0.375609756097561, 'specificity': 0.7868020304568528, 'default_accuracy': 0.6820428336079077, 'default_f1': 0.8048533872598584, 'default_recall': 0.9707317073170731, 'default_specificity': 0.08121827411167512}\n",
            "\n",
            "=============== EPOCH 17 / 30 ===============\n",
            "\n",
            "___ batch index = 0 / 1836 (0.00%), loss = 2.0671, time = 0.08 seconds ___\n"
          ],
          "name": "stdout"
        },
        {
          "output_type": "stream",
          "text": [
            "___ batch index = 250 / 1836 (13.62%), loss = 0.4251, time = 21.63 seconds ___\n"
          ],
          "name": "stdout"
        },
        {
          "output_type": "stream",
          "text": [
            "___ batch index = 500 / 1836 (27.23%), loss = 0.5804, time = 20.94 seconds ___\n"
          ],
          "name": "stdout"
        },
        {
          "output_type": "stream",
          "text": [
            "___ batch index = 750 / 1836 (40.85%), loss = 0.4059, time = 19.31 seconds ___\n"
          ],
          "name": "stdout"
        },
        {
          "output_type": "stream",
          "text": [
            "___ batch index = 1000 / 1836 (54.47%), loss = 0.5788, time = 21.51 seconds ___\n"
          ],
          "name": "stdout"
        },
        {
          "output_type": "stream",
          "text": [
            "___ batch index = 1250 / 1836 (68.08%), loss = 0.3617, time = 19.81 seconds ___\n"
          ],
          "name": "stdout"
        },
        {
          "output_type": "stream",
          "text": [
            "___ batch index = 1500 / 1836 (81.70%), loss = 0.2923, time = 19.88 seconds ___\n"
          ],
          "name": "stdout"
        },
        {
          "output_type": "stream",
          "text": [
            "___ batch index = 1750 / 1836 (95.32%), loss = 0.2624, time = 21.20 seconds ___\n"
          ],
          "name": "stdout"
        },
        {
          "output_type": "stream",
          "text": [
            "\n",
            "*** avg_loss : 0.49, time : ~2.0 min (152.02 sec) ***\n",
            "\n"
          ],
          "name": "stdout"
        },
        {
          "output_type": "stream",
          "text": [
            "==> evaluation : avg_loss = 0.69, time : 20.94 sec\n",
            "\n"
          ],
          "name": "stdout"
        },
        {
          "output_type": "stream",
          "text": [
            "threshold:  [0.9066995]\n",
            "=====>\t{'Positive Rate': array([0.67545307], dtype=float32), 'threshold': 0.9066995, 'accuracy': 0.515650741350906, 'f1': 0.5148514851485149, 'recall': 0.3804878048780488, 'specificity': 0.7969543147208121, 'default_accuracy': 0.6886326194398682, 'default_f1': 0.8081218274111674, 'default_recall': 0.9707317073170731, 'default_specificity': 0.10152284263959391}\n",
            "\n",
            "=============== EPOCH 18 / 30 ===============\n",
            "\n",
            "___ batch index = 0 / 1836 (0.00%), loss = 2.0851, time = 0.08 seconds ___\n"
          ],
          "name": "stdout"
        },
        {
          "output_type": "stream",
          "text": [
            "___ batch index = 250 / 1836 (13.62%), loss = 0.3295, time = 21.64 seconds ___\n"
          ],
          "name": "stdout"
        },
        {
          "output_type": "stream",
          "text": [
            "___ batch index = 500 / 1836 (27.23%), loss = 0.4962, time = 20.94 seconds ___\n"
          ],
          "name": "stdout"
        },
        {
          "output_type": "stream",
          "text": [
            "___ batch index = 750 / 1836 (40.85%), loss = 0.3890, time = 19.26 seconds ___\n"
          ],
          "name": "stdout"
        },
        {
          "output_type": "stream",
          "text": [
            "___ batch index = 1000 / 1836 (54.47%), loss = 0.5316, time = 21.57 seconds ___\n"
          ],
          "name": "stdout"
        },
        {
          "output_type": "stream",
          "text": [
            "___ batch index = 1250 / 1836 (68.08%), loss = 0.3704, time = 19.75 seconds ___\n"
          ],
          "name": "stdout"
        },
        {
          "output_type": "stream",
          "text": [
            "___ batch index = 1500 / 1836 (81.70%), loss = 0.3102, time = 19.94 seconds ___\n"
          ],
          "name": "stdout"
        },
        {
          "output_type": "stream",
          "text": [
            "___ batch index = 1750 / 1836 (95.32%), loss = 0.2633, time = 21.20 seconds ___\n"
          ],
          "name": "stdout"
        },
        {
          "output_type": "stream",
          "text": [
            "\n",
            "*** avg_loss : 0.46, time : ~2.0 min (152.04 sec) ***\n",
            "\n"
          ],
          "name": "stdout"
        },
        {
          "output_type": "stream",
          "text": [
            "==> evaluation : avg_loss = 0.70, time : 20.90 sec\n",
            "\n"
          ],
          "name": "stdout"
        },
        {
          "output_type": "stream",
          "text": [
            "threshold:  [0.92111844]\n",
            "=====>\t{'Positive Rate': array([0.67545307], dtype=float32), 'threshold': 0.92111844, 'accuracy': 0.514003294892916, 'f1': 0.5123966942148761, 'recall': 0.3780487804878049, 'specificity': 0.7969543147208121, 'default_accuracy': 0.6836902800658978, 'default_f1': 0.8032786885245902, 'default_recall': 0.9560975609756097, 'default_specificity': 0.116751269035533}\n",
            "\n",
            "=============== EPOCH 19 / 30 ===============\n",
            "\n",
            "___ batch index = 0 / 1836 (0.00%), loss = 1.9520, time = 0.08 seconds ___\n"
          ],
          "name": "stdout"
        },
        {
          "output_type": "stream",
          "text": [
            "___ batch index = 250 / 1836 (13.62%), loss = 0.4000, time = 21.63 seconds ___\n"
          ],
          "name": "stdout"
        },
        {
          "output_type": "stream",
          "text": [
            "___ batch index = 500 / 1836 (27.23%), loss = 0.6155, time = 20.94 seconds ___\n"
          ],
          "name": "stdout"
        },
        {
          "output_type": "stream",
          "text": [
            "___ batch index = 750 / 1836 (40.85%), loss = 0.3509, time = 19.31 seconds ___\n"
          ],
          "name": "stdout"
        },
        {
          "output_type": "stream",
          "text": [
            "___ batch index = 1000 / 1836 (54.47%), loss = 0.5295, time = 21.51 seconds ___\n"
          ],
          "name": "stdout"
        },
        {
          "output_type": "stream",
          "text": [
            "___ batch index = 1250 / 1836 (68.08%), loss = 0.3821, time = 19.81 seconds ___\n"
          ],
          "name": "stdout"
        },
        {
          "output_type": "stream",
          "text": [
            "___ batch index = 1500 / 1836 (81.70%), loss = 0.2789, time = 19.88 seconds ___\n"
          ],
          "name": "stdout"
        },
        {
          "output_type": "stream",
          "text": [
            "___ batch index = 1750 / 1836 (95.32%), loss = 0.1416, time = 21.21 seconds ___\n"
          ],
          "name": "stdout"
        },
        {
          "output_type": "stream",
          "text": [
            "\n",
            "*** avg_loss : 0.44, time : ~2.0 min (152.02 sec) ***\n",
            "\n"
          ],
          "name": "stdout"
        },
        {
          "output_type": "stream",
          "text": [
            "==> evaluation : avg_loss = 0.72, time : 20.96 sec\n",
            "\n"
          ],
          "name": "stdout"
        },
        {
          "output_type": "stream",
          "text": [
            "threshold:  [0.93542296]\n",
            "=====>\t{'Positive Rate': array([0.67545307], dtype=float32), 'threshold': 0.93542296, 'accuracy': 0.5255354200988468, 'f1': 0.5247524752475248, 'recall': 0.3878048780487805, 'specificity': 0.8121827411167513, 'default_accuracy': 0.6869851729818781, 'default_f1': 0.8049281314168378, 'default_recall': 0.9560975609756097, 'default_specificity': 0.12690355329949238}\n",
            "\n",
            "=============== EPOCH 20 / 30 ===============\n",
            "\n",
            "___ batch index = 0 / 1836 (0.00%), loss = 2.4038, time = 0.08 seconds ___\n"
          ],
          "name": "stdout"
        },
        {
          "output_type": "stream",
          "text": [
            "___ batch index = 250 / 1836 (13.62%), loss = 0.4036, time = 21.64 seconds ___\n"
          ],
          "name": "stdout"
        },
        {
          "output_type": "stream",
          "text": [
            "___ batch index = 500 / 1836 (27.23%), loss = 0.6232, time = 20.95 seconds ___\n"
          ],
          "name": "stdout"
        },
        {
          "output_type": "stream",
          "text": [
            "___ batch index = 750 / 1836 (40.85%), loss = 0.3203, time = 19.26 seconds ___\n"
          ],
          "name": "stdout"
        },
        {
          "output_type": "stream",
          "text": [
            "___ batch index = 1000 / 1836 (54.47%), loss = 0.5315, time = 21.57 seconds ___\n"
          ],
          "name": "stdout"
        },
        {
          "output_type": "stream",
          "text": [
            "___ batch index = 1250 / 1836 (68.08%), loss = 0.2854, time = 19.75 seconds ___\n"
          ],
          "name": "stdout"
        },
        {
          "output_type": "stream",
          "text": [
            "___ batch index = 1500 / 1836 (81.70%), loss = 0.2758, time = 19.94 seconds ___\n"
          ],
          "name": "stdout"
        },
        {
          "output_type": "stream",
          "text": [
            "___ batch index = 1750 / 1836 (95.32%), loss = 0.1927, time = 21.20 seconds ___\n"
          ],
          "name": "stdout"
        },
        {
          "output_type": "stream",
          "text": [
            "\n",
            "*** avg_loss : 0.42, time : ~2.0 min (152.05 sec) ***\n",
            "\n"
          ],
          "name": "stdout"
        },
        {
          "output_type": "stream",
          "text": [
            "==> evaluation : avg_loss = 0.74, time : 20.91 sec\n",
            "\n"
          ],
          "name": "stdout"
        },
        {
          "output_type": "stream",
          "text": [
            "threshold:  [0.94738513]\n",
            "=====>\t{'Positive Rate': array([0.67545307], dtype=float32), 'threshold': 0.94738513, 'accuracy': 0.5255354200988468, 'f1': 0.5247524752475248, 'recall': 0.3878048780487805, 'specificity': 0.8121827411167513, 'default_accuracy': 0.6869851729818781, 'default_f1': 0.8045267489711935, 'default_recall': 0.9536585365853658, 'default_specificity': 0.1319796954314721}\n",
            "\n",
            "=============== EPOCH 21 / 30 ===============\n",
            "\n",
            "___ batch index = 0 / 1836 (0.00%), loss = 2.8700, time = 0.08 seconds ___\n"
          ],
          "name": "stdout"
        },
        {
          "output_type": "stream",
          "text": [
            "___ batch index = 250 / 1836 (13.62%), loss = 0.2993, time = 21.64 seconds ___\n"
          ],
          "name": "stdout"
        },
        {
          "output_type": "stream",
          "text": [
            "___ batch index = 500 / 1836 (27.23%), loss = 0.5990, time = 20.94 seconds ___\n"
          ],
          "name": "stdout"
        },
        {
          "output_type": "stream",
          "text": [
            "___ batch index = 750 / 1836 (40.85%), loss = 0.2588, time = 19.31 seconds ___\n"
          ],
          "name": "stdout"
        },
        {
          "output_type": "stream",
          "text": [
            "___ batch index = 1000 / 1836 (54.47%), loss = 0.3125, time = 21.51 seconds ___\n"
          ],
          "name": "stdout"
        },
        {
          "output_type": "stream",
          "text": [
            "___ batch index = 1250 / 1836 (68.08%), loss = 0.3819, time = 19.80 seconds ___\n"
          ],
          "name": "stdout"
        },
        {
          "output_type": "stream",
          "text": [
            "___ batch index = 1500 / 1836 (81.70%), loss = 0.3031, time = 19.88 seconds ___\n"
          ],
          "name": "stdout"
        },
        {
          "output_type": "stream",
          "text": [
            "___ batch index = 1750 / 1836 (95.32%), loss = 0.1448, time = 21.21 seconds ___\n"
          ],
          "name": "stdout"
        },
        {
          "output_type": "stream",
          "text": [
            "\n",
            "*** avg_loss : 0.39, time : ~2.0 min (152.04 sec) ***\n",
            "\n"
          ],
          "name": "stdout"
        },
        {
          "output_type": "stream",
          "text": [
            "==> evaluation : avg_loss = 0.76, time : 20.95 sec\n",
            "\n"
          ],
          "name": "stdout"
        },
        {
          "output_type": "stream",
          "text": [
            "threshold:  [0.9558475]\n",
            "=====>\t{'Positive Rate': array([0.67545307], dtype=float32), 'threshold': 0.9558475, 'accuracy': 0.528830313014827, 'f1': 0.5280528052805281, 'recall': 0.3902439024390244, 'specificity': 0.817258883248731, 'default_accuracy': 0.6886326194398682, 'default_f1': 0.804953560371517, 'default_recall': 0.9512195121951219, 'default_specificity': 0.14213197969543148}\n",
            "\n",
            "=============== EPOCH 22 / 30 ===============\n",
            "\n",
            "___ batch index = 0 / 1836 (0.00%), loss = 2.5518, time = 0.08 seconds ___\n"
          ],
          "name": "stdout"
        },
        {
          "output_type": "stream",
          "text": [
            "___ batch index = 250 / 1836 (13.62%), loss = 0.3857, time = 21.65 seconds ___\n"
          ],
          "name": "stdout"
        },
        {
          "output_type": "stream",
          "text": [
            "___ batch index = 500 / 1836 (27.23%), loss = 0.5594, time = 20.95 seconds ___\n"
          ],
          "name": "stdout"
        },
        {
          "output_type": "stream",
          "text": [
            "___ batch index = 750 / 1836 (40.85%), loss = 0.2863, time = 19.26 seconds ___\n"
          ],
          "name": "stdout"
        },
        {
          "output_type": "stream",
          "text": [
            "___ batch index = 1000 / 1836 (54.47%), loss = 0.3061, time = 21.57 seconds ___\n"
          ],
          "name": "stdout"
        },
        {
          "output_type": "stream",
          "text": [
            "___ batch index = 1250 / 1836 (68.08%), loss = 0.2764, time = 19.75 seconds ___\n"
          ],
          "name": "stdout"
        },
        {
          "output_type": "stream",
          "text": [
            "___ batch index = 1500 / 1836 (81.70%), loss = 0.2428, time = 19.94 seconds ___\n"
          ],
          "name": "stdout"
        },
        {
          "output_type": "stream",
          "text": [
            "___ batch index = 1750 / 1836 (95.32%), loss = 0.1263, time = 21.21 seconds ___\n"
          ],
          "name": "stdout"
        },
        {
          "output_type": "stream",
          "text": [
            "\n",
            "*** avg_loss : 0.36, time : ~2.0 min (152.06 sec) ***\n",
            "\n"
          ],
          "name": "stdout"
        },
        {
          "output_type": "stream",
          "text": [
            "==> evaluation : avg_loss = 0.76, time : 20.90 sec\n",
            "\n"
          ],
          "name": "stdout"
        },
        {
          "output_type": "stream",
          "text": [
            "threshold:  [0.9604283]\n",
            "=====>\t{'Positive Rate': array([0.67545307], dtype=float32), 'threshold': 0.9604283, 'accuracy': 0.5354200988467874, 'f1': 0.5346534653465347, 'recall': 0.3951219512195122, 'specificity': 0.8274111675126904, 'default_accuracy': 0.685337726523888, 'default_f1': 0.7983104540654701, 'default_recall': 0.9219512195121952, 'default_specificity': 0.19289340101522842}\n",
            "\n",
            "=============== EPOCH 23 / 30 ===============\n",
            "\n",
            "___ batch index = 0 / 1836 (0.00%), loss = 2.8434, time = 0.08 seconds ___\n"
          ],
          "name": "stdout"
        },
        {
          "output_type": "stream",
          "text": [
            "___ batch index = 250 / 1836 (13.62%), loss = 0.3485, time = 21.63 seconds ___\n"
          ],
          "name": "stdout"
        },
        {
          "output_type": "stream",
          "text": [
            "___ batch index = 500 / 1836 (27.23%), loss = 0.5979, time = 20.95 seconds ___\n"
          ],
          "name": "stdout"
        },
        {
          "output_type": "stream",
          "text": [
            "___ batch index = 750 / 1836 (40.85%), loss = 0.1407, time = 19.31 seconds ___\n"
          ],
          "name": "stdout"
        },
        {
          "output_type": "stream",
          "text": [
            "___ batch index = 1000 / 1836 (54.47%), loss = 0.2917, time = 21.51 seconds ___\n"
          ],
          "name": "stdout"
        },
        {
          "output_type": "stream",
          "text": [
            "___ batch index = 1250 / 1836 (68.08%), loss = 0.2957, time = 19.80 seconds ___\n"
          ],
          "name": "stdout"
        },
        {
          "output_type": "stream",
          "text": [
            "___ batch index = 1500 / 1836 (81.70%), loss = 0.1833, time = 19.88 seconds ___\n"
          ],
          "name": "stdout"
        },
        {
          "output_type": "stream",
          "text": [
            "___ batch index = 1750 / 1836 (95.32%), loss = 0.0870, time = 21.21 seconds ___\n"
          ],
          "name": "stdout"
        },
        {
          "output_type": "stream",
          "text": [
            "\n",
            "*** avg_loss : 0.34, time : ~2.0 min (152.03 sec) ***\n",
            "\n"
          ],
          "name": "stdout"
        },
        {
          "output_type": "stream",
          "text": [
            "==> evaluation : avg_loss = 0.82, time : 20.97 sec\n",
            "\n"
          ],
          "name": "stdout"
        },
        {
          "output_type": "stream",
          "text": [
            "threshold:  [0.9724178]\n",
            "=====>\t{'Positive Rate': array([0.67545307], dtype=float32), 'threshold': 0.9724178, 'accuracy': 0.528830313014827, 'f1': 0.5280528052805281, 'recall': 0.3902439024390244, 'specificity': 0.817258883248731, 'default_accuracy': 0.6902800658978583, 'default_f1': 0.8057851239669421, 'default_recall': 0.9512195121951219, 'default_specificity': 0.14720812182741116}\n",
            "\n",
            "=============== EPOCH 24 / 30 ===============\n",
            "\n",
            "___ batch index = 0 / 1836 (0.00%), loss = 2.2282, time = 0.08 seconds ___\n"
          ],
          "name": "stdout"
        },
        {
          "output_type": "stream",
          "text": [
            "___ batch index = 250 / 1836 (13.62%), loss = 0.4617, time = 21.63 seconds ___\n"
          ],
          "name": "stdout"
        },
        {
          "output_type": "stream",
          "text": [
            "___ batch index = 500 / 1836 (27.23%), loss = 0.4320, time = 20.95 seconds ___\n"
          ],
          "name": "stdout"
        },
        {
          "output_type": "stream",
          "text": [
            "___ batch index = 750 / 1836 (40.85%), loss = 0.1634, time = 19.26 seconds ___\n"
          ],
          "name": "stdout"
        },
        {
          "output_type": "stream",
          "text": [
            "___ batch index = 1000 / 1836 (54.47%), loss = 0.2875, time = 21.58 seconds ___\n"
          ],
          "name": "stdout"
        },
        {
          "output_type": "stream",
          "text": [
            "___ batch index = 1250 / 1836 (68.08%), loss = 0.2426, time = 19.75 seconds ___\n"
          ],
          "name": "stdout"
        },
        {
          "output_type": "stream",
          "text": [
            "___ batch index = 1500 / 1836 (81.70%), loss = 0.1699, time = 19.94 seconds ___\n"
          ],
          "name": "stdout"
        },
        {
          "output_type": "stream",
          "text": [
            "___ batch index = 1750 / 1836 (95.32%), loss = 0.0933, time = 21.21 seconds ___\n"
          ],
          "name": "stdout"
        },
        {
          "output_type": "stream",
          "text": [
            "\n",
            "*** avg_loss : 0.33, time : ~2.0 min (152.06 sec) ***\n",
            "\n"
          ],
          "name": "stdout"
        },
        {
          "output_type": "stream",
          "text": [
            "==> evaluation : avg_loss = 0.83, time : 20.91 sec\n",
            "\n"
          ],
          "name": "stdout"
        },
        {
          "output_type": "stream",
          "text": [
            "threshold:  [0.9754042]\n",
            "=====>\t{'Positive Rate': array([0.67545307], dtype=float32), 'threshold': 0.9754042, 'accuracy': 0.5238879736408567, 'f1': 0.5223140495867767, 'recall': 0.3853658536585366, 'specificity': 0.8121827411167513, 'default_accuracy': 0.6836902800658978, 'default_f1': 0.8, 'default_recall': 0.9365853658536586, 'default_specificity': 0.15736040609137056}\n",
            "\n",
            "=============== EPOCH 25 / 30 ===============\n",
            "\n",
            "___ batch index = 0 / 1836 (0.00%), loss = 3.4732, time = 0.08 seconds ___\n"
          ],
          "name": "stdout"
        },
        {
          "output_type": "stream",
          "text": [
            "___ batch index = 250 / 1836 (13.62%), loss = 0.3060, time = 21.64 seconds ___\n"
          ],
          "name": "stdout"
        },
        {
          "output_type": "stream",
          "text": [
            "___ batch index = 500 / 1836 (27.23%), loss = 0.4369, time = 20.95 seconds ___\n"
          ],
          "name": "stdout"
        },
        {
          "output_type": "stream",
          "text": [
            "___ batch index = 750 / 1836 (40.85%), loss = 0.1689, time = 19.32 seconds ___\n"
          ],
          "name": "stdout"
        },
        {
          "output_type": "stream",
          "text": [
            "___ batch index = 1000 / 1836 (54.47%), loss = 0.1527, time = 21.51 seconds ___\n"
          ],
          "name": "stdout"
        },
        {
          "output_type": "stream",
          "text": [
            "___ batch index = 1250 / 1836 (68.08%), loss = 0.2133, time = 19.81 seconds ___\n"
          ],
          "name": "stdout"
        },
        {
          "output_type": "stream",
          "text": [
            "___ batch index = 1500 / 1836 (81.70%), loss = 0.1722, time = 19.88 seconds ___\n"
          ],
          "name": "stdout"
        },
        {
          "output_type": "stream",
          "text": [
            "___ batch index = 1750 / 1836 (95.32%), loss = 0.1437, time = 21.21 seconds ___\n"
          ],
          "name": "stdout"
        },
        {
          "output_type": "stream",
          "text": [
            "\n",
            "*** avg_loss : 0.31, time : ~2.0 min (152.05 sec) ***\n",
            "\n"
          ],
          "name": "stdout"
        },
        {
          "output_type": "stream",
          "text": [
            "==> evaluation : avg_loss = 0.86, time : 20.97 sec\n",
            "\n"
          ],
          "name": "stdout"
        },
        {
          "output_type": "stream",
          "text": [
            "threshold:  [0.97885495]\n",
            "=====>\t{'Positive Rate': array([0.67545307], dtype=float32), 'threshold': 0.97885495, 'accuracy': 0.5271828665568369, 'f1': 0.5256198347107437, 'recall': 0.3878048780487805, 'specificity': 0.817258883248731, 'default_accuracy': 0.6771004942339374, 'default_f1': 0.7932489451476794, 'default_recall': 0.9170731707317074, 'default_specificity': 0.17766497461928935}\n",
            "\n",
            "=============== EPOCH 26 / 30 ===============\n",
            "\n",
            "___ batch index = 0 / 1836 (0.00%), loss = 2.8206, time = 0.08 seconds ___\n"
          ],
          "name": "stdout"
        },
        {
          "output_type": "stream",
          "text": [
            "___ batch index = 250 / 1836 (13.62%), loss = 0.4110, time = 21.64 seconds ___\n"
          ],
          "name": "stdout"
        },
        {
          "output_type": "stream",
          "text": [
            "___ batch index = 500 / 1836 (27.23%), loss = 0.3818, time = 20.95 seconds ___\n"
          ],
          "name": "stdout"
        },
        {
          "output_type": "stream",
          "text": [
            "___ batch index = 750 / 1836 (40.85%), loss = 0.2171, time = 19.26 seconds ___\n"
          ],
          "name": "stdout"
        },
        {
          "output_type": "stream",
          "text": [
            "___ batch index = 1000 / 1836 (54.47%), loss = 0.1486, time = 21.57 seconds ___\n"
          ],
          "name": "stdout"
        },
        {
          "output_type": "stream",
          "text": [
            "___ batch index = 1250 / 1836 (68.08%), loss = 0.3087, time = 19.75 seconds ___\n"
          ],
          "name": "stdout"
        },
        {
          "output_type": "stream",
          "text": [
            "___ batch index = 1500 / 1836 (81.70%), loss = 0.1291, time = 19.94 seconds ___\n"
          ],
          "name": "stdout"
        },
        {
          "output_type": "stream",
          "text": [
            "___ batch index = 1750 / 1836 (95.32%), loss = 0.1368, time = 21.21 seconds ___\n"
          ],
          "name": "stdout"
        },
        {
          "output_type": "stream",
          "text": [
            "\n",
            "*** avg_loss : 0.29, time : ~2.0 min (152.06 sec) ***\n",
            "\n"
          ],
          "name": "stdout"
        },
        {
          "output_type": "stream",
          "text": [
            "==> evaluation : avg_loss = 0.91, time : 20.91 sec\n",
            "\n"
          ],
          "name": "stdout"
        },
        {
          "output_type": "stream",
          "text": [
            "threshold:  [0.98314667]\n",
            "=====>\t{'Positive Rate': array([0.67545307], dtype=float32), 'threshold': 0.98314667, 'accuracy': 0.5271828665568369, 'f1': 0.5240464344941957, 'recall': 0.3853658536585366, 'specificity': 0.8223350253807107, 'default_accuracy': 0.6869851729818781, 'default_f1': 0.8004201680672269, 'default_recall': 0.9292682926829269, 'default_specificity': 0.18274111675126903}\n",
            "\n",
            "=============== EPOCH 27 / 30 ===============\n",
            "\n",
            "___ batch index = 0 / 1836 (0.00%), loss = 2.6792, time = 0.08 seconds ___\n"
          ],
          "name": "stdout"
        },
        {
          "output_type": "stream",
          "text": [
            "___ batch index = 250 / 1836 (13.62%), loss = 0.2975, time = 21.64 seconds ___\n"
          ],
          "name": "stdout"
        },
        {
          "output_type": "stream",
          "text": [
            "___ batch index = 500 / 1836 (27.23%), loss = 0.3371, time = 20.95 seconds ___\n"
          ],
          "name": "stdout"
        },
        {
          "output_type": "stream",
          "text": [
            "___ batch index = 750 / 1836 (40.85%), loss = 0.1215, time = 19.31 seconds ___\n"
          ],
          "name": "stdout"
        },
        {
          "output_type": "stream",
          "text": [
            "___ batch index = 1000 / 1836 (54.47%), loss = 0.1914, time = 21.52 seconds ___\n"
          ],
          "name": "stdout"
        },
        {
          "output_type": "stream",
          "text": [
            "___ batch index = 1250 / 1836 (68.08%), loss = 0.2749, time = 19.81 seconds ___\n"
          ],
          "name": "stdout"
        },
        {
          "output_type": "stream",
          "text": [
            "___ batch index = 1500 / 1836 (81.70%), loss = 0.1518, time = 19.88 seconds ___\n"
          ],
          "name": "stdout"
        },
        {
          "output_type": "stream",
          "text": [
            "___ batch index = 1750 / 1836 (95.32%), loss = 0.0694, time = 21.21 seconds ___\n"
          ],
          "name": "stdout"
        },
        {
          "output_type": "stream",
          "text": [
            "\n",
            "*** avg_loss : 0.28, time : ~2.0 min (152.05 sec) ***\n",
            "\n"
          ],
          "name": "stdout"
        },
        {
          "output_type": "stream",
          "text": [
            "==> evaluation : avg_loss = 0.90, time : 20.97 sec\n",
            "\n"
          ],
          "name": "stdout"
        },
        {
          "output_type": "stream",
          "text": [
            "threshold:  [0.9838018]\n",
            "=====>\t{'Positive Rate': array([0.67545307], dtype=float32), 'threshold': 0.9838018, 'accuracy': 0.5238879736408567, 'f1': 0.5223140495867767, 'recall': 0.3853658536585366, 'specificity': 0.8121827411167513, 'default_accuracy': 0.6869851729818781, 'default_f1': 0.7978723404255319, 'default_recall': 0.9146341463414634, 'default_specificity': 0.2131979695431472}\n",
            "model did not progress for 5 followed epochs\n"
          ],
          "name": "stdout"
        },
        {
          "output_type": "stream",
          "text": [
            "-----------------BEST TH:  0.9604283\n",
            "-----------------TEST EVALUATION {'Positive Rate': array([0.6908784], dtype=float32), 'accuracy': 0.668918918918919, 'f1': 0.7393617021276596, 'recall': 0.6797066014669927, 'specificity': 0.644808743169399, 'default_accuracy': 0.7179054054054054, 'default_f1': 0.8210075026795284, 'default_recall': 0.9364303178484108, 'default_specificity': 0.22950819672131148}\n",
            "%%%%%%%%%%%%%%%%%%%%%%%%%%%%%%%%%%%% Para label:  Apoyo psicóloga(o) %%%%%%%%%%%%%%%%%%%%%%%%%%%\n"
          ],
          "name": "stdout"
        },
        {
          "output_type": "stream",
          "text": [
            "Some weights of the model checkpoint at dccuchile/bert-base-spanish-wwm-cased were not used when initializing BertModel: ['cls.predictions.transform.LayerNorm.bias', 'cls.predictions.bias', 'cls.predictions.transform.dense.weight', 'cls.predictions.transform.dense.bias', 'cls.predictions.transform.LayerNorm.weight', 'cls.predictions.decoder.weight', 'cls.predictions.decoder.bias']\n",
            "- This IS expected if you are initializing BertModel from the checkpoint of a model trained on another task or with another architecture (e.g. initializing a BertForSequenceClassification model from a BertForPreTraining model).\n",
            "- This IS NOT expected if you are initializing BertModel from the checkpoint of a model that you expect to be exactly identical (initializing a BertForSequenceClassification model from a BertForSequenceClassification model).\n"
          ],
          "name": "stderr"
        },
        {
          "output_type": "stream",
          "text": [
            "Some weights of BertModel were not initialized from the model checkpoint at dccuchile/bert-base-spanish-wwm-cased and are newly initialized: ['bert.pooler.dense.weight', 'bert.pooler.dense.bias']\n",
            "You should probably TRAIN this model on a down-stream task to be able to use it for predictions and inference.\n"
          ],
          "name": "stderr"
        },
        {
          "output_type": "stream",
          "text": [
            "\n",
            "=============== EPOCH 1 / 30 ===============\n",
            "\n",
            "___ batch index = 0 / 1836 (0.00%), loss = 0.4753, time = 0.08 seconds ___\n"
          ],
          "name": "stdout"
        },
        {
          "output_type": "stream",
          "text": [
            "___ batch index = 250 / 1836 (13.62%), loss = 0.3349, time = 21.64 seconds ___\n"
          ],
          "name": "stdout"
        },
        {
          "output_type": "stream",
          "text": [
            "___ batch index = 500 / 1836 (27.23%), loss = 0.7962, time = 20.94 seconds ___\n"
          ],
          "name": "stdout"
        },
        {
          "output_type": "stream",
          "text": [
            "___ batch index = 750 / 1836 (40.85%), loss = 1.4548, time = 19.25 seconds ___\n"
          ],
          "name": "stdout"
        },
        {
          "output_type": "stream",
          "text": [
            "___ batch index = 1000 / 1836 (54.47%), loss = 0.4034, time = 21.57 seconds ___\n"
          ],
          "name": "stdout"
        },
        {
          "output_type": "stream",
          "text": [
            "___ batch index = 1250 / 1836 (68.08%), loss = 0.3964, time = 19.75 seconds ___\n"
          ],
          "name": "stdout"
        },
        {
          "output_type": "stream",
          "text": [
            "___ batch index = 1500 / 1836 (81.70%), loss = 0.3191, time = 19.93 seconds ___\n"
          ],
          "name": "stdout"
        },
        {
          "output_type": "stream",
          "text": [
            "___ batch index = 1750 / 1836 (95.32%), loss = 0.2128, time = 21.20 seconds ___\n"
          ],
          "name": "stdout"
        },
        {
          "output_type": "stream",
          "text": [
            "\n",
            "*** avg_loss : 0.54, time : ~2.0 min (152.01 sec) ***\n",
            "\n"
          ],
          "name": "stdout"
        },
        {
          "output_type": "stream",
          "text": [
            "==> evaluation : avg_loss = 0.50, time : 20.88 sec\n",
            "\n"
          ],
          "name": "stdout"
        },
        {
          "output_type": "stream",
          "text": [
            "threshold:  [0.15441918]\n",
            "=====>\t{'Positive Rate': array([0.19439869], dtype=float32), 'threshold': 0.15441918, 'accuracy': 0.3014827018121911, 'f1': 0.3026315789473684, 'recall': 0.7796610169491526, 'specificity': 0.18609406952965235, 'default_accuracy': 0.8056013179571664, 'default_f1': 0.0, 'default_recall': 0.0, 'default_specificity': 1.0}\n",
            "\n",
            "=============== EPOCH 2 / 30 ===============\n",
            "\n",
            "___ batch index = 0 / 1836 (0.00%), loss = 0.2362, time = 0.08 seconds ___\n"
          ],
          "name": "stdout"
        },
        {
          "output_type": "stream",
          "text": [
            "___ batch index = 250 / 1836 (13.62%), loss = 0.1623, time = 21.64 seconds ___\n"
          ],
          "name": "stdout"
        },
        {
          "output_type": "stream",
          "text": [
            "___ batch index = 500 / 1836 (27.23%), loss = 0.8783, time = 20.94 seconds ___\n"
          ],
          "name": "stdout"
        },
        {
          "output_type": "stream",
          "text": [
            "___ batch index = 750 / 1836 (40.85%), loss = 1.7080, time = 19.25 seconds ___\n"
          ],
          "name": "stdout"
        },
        {
          "output_type": "stream",
          "text": [
            "___ batch index = 1000 / 1836 (54.47%), loss = 0.3450, time = 21.57 seconds ___\n"
          ],
          "name": "stdout"
        },
        {
          "output_type": "stream",
          "text": [
            "___ batch index = 1250 / 1836 (68.08%), loss = 0.3480, time = 19.74 seconds ___\n"
          ],
          "name": "stdout"
        },
        {
          "output_type": "stream",
          "text": [
            "___ batch index = 1500 / 1836 (81.70%), loss = 0.2621, time = 19.93 seconds ___\n"
          ],
          "name": "stdout"
        },
        {
          "output_type": "stream",
          "text": [
            "___ batch index = 1750 / 1836 (95.32%), loss = 0.2184, time = 21.14 seconds ___\n"
          ],
          "name": "stdout"
        },
        {
          "output_type": "stream",
          "text": [
            "\n",
            "*** avg_loss : 0.53, time : ~2.0 min (151.96 sec) ***\n",
            "\n"
          ],
          "name": "stdout"
        },
        {
          "output_type": "stream",
          "text": [
            "==> evaluation : avg_loss = 0.50, time : 20.94 sec\n",
            "\n"
          ],
          "name": "stdout"
        },
        {
          "output_type": "stream",
          "text": [
            "threshold:  [0.15345907]\n",
            "=====>\t{'Positive Rate': array([0.19439869], dtype=float32), 'threshold': 0.15345907, 'accuracy': 0.30971993410214166, 'f1': 0.3119868637110016, 'recall': 0.8050847457627118, 'specificity': 0.1901840490797546, 'default_accuracy': 0.8056013179571664, 'default_f1': 0.0, 'default_recall': 0.0, 'default_specificity': 1.0}\n",
            "\n",
            "=============== EPOCH 3 / 30 ===============\n",
            "\n",
            "___ batch index = 0 / 1836 (0.00%), loss = 0.1809, time = 0.08 seconds ___\n"
          ],
          "name": "stdout"
        },
        {
          "output_type": "stream",
          "text": [
            "___ batch index = 250 / 1836 (13.62%), loss = 0.1703, time = 21.69 seconds ___\n"
          ],
          "name": "stdout"
        },
        {
          "output_type": "stream",
          "text": [
            "___ batch index = 500 / 1836 (27.23%), loss = 0.8331, time = 20.89 seconds ___\n"
          ],
          "name": "stdout"
        },
        {
          "output_type": "stream",
          "text": [
            "___ batch index = 750 / 1836 (40.85%), loss = 1.7477, time = 19.31 seconds ___\n"
          ],
          "name": "stdout"
        },
        {
          "output_type": "stream",
          "text": [
            "___ batch index = 1000 / 1836 (54.47%), loss = 0.3300, time = 21.51 seconds ___\n"
          ],
          "name": "stdout"
        },
        {
          "output_type": "stream",
          "text": [
            "___ batch index = 1250 / 1836 (68.08%), loss = 0.3375, time = 19.81 seconds ___\n"
          ],
          "name": "stdout"
        },
        {
          "output_type": "stream",
          "text": [
            "___ batch index = 1500 / 1836 (81.70%), loss = 0.2719, time = 19.88 seconds ___\n"
          ],
          "name": "stdout"
        },
        {
          "output_type": "stream",
          "text": [
            "___ batch index = 1750 / 1836 (95.32%), loss = 0.2234, time = 21.20 seconds ___\n"
          ],
          "name": "stdout"
        },
        {
          "output_type": "stream",
          "text": [
            "\n",
            "*** avg_loss : 0.52, time : ~2.0 min (152.04 sec) ***\n",
            "\n"
          ],
          "name": "stdout"
        },
        {
          "output_type": "stream",
          "text": [
            "==> evaluation : avg_loss = 0.50, time : 20.89 sec\n",
            "\n"
          ],
          "name": "stdout"
        },
        {
          "output_type": "stream",
          "text": [
            "threshold:  [0.15583494]\n",
            "=====>\t{'Positive Rate': array([0.19439869], dtype=float32), 'threshold': 0.15583494, 'accuracy': 0.3113673805601318, 'f1': 0.31249999999999994, 'recall': 0.8050847457627118, 'specificity': 0.19222903885480572, 'default_accuracy': 0.8056013179571664, 'default_f1': 0.0, 'default_recall': 0.0, 'default_specificity': 1.0}\n",
            "\n",
            "=============== EPOCH 4 / 30 ===============\n",
            "\n",
            "___ batch index = 0 / 1836 (0.00%), loss = 0.1647, time = 0.08 seconds ___\n"
          ],
          "name": "stdout"
        },
        {
          "output_type": "stream",
          "text": [
            "___ batch index = 250 / 1836 (13.62%), loss = 0.1788, time = 21.62 seconds ___\n"
          ],
          "name": "stdout"
        },
        {
          "output_type": "stream",
          "text": [
            "___ batch index = 500 / 1836 (27.23%), loss = 0.8514, time = 20.95 seconds ___\n"
          ],
          "name": "stdout"
        },
        {
          "output_type": "stream",
          "text": [
            "___ batch index = 750 / 1836 (40.85%), loss = 1.7843, time = 19.30 seconds ___\n"
          ],
          "name": "stdout"
        },
        {
          "output_type": "stream",
          "text": [
            "___ batch index = 1000 / 1836 (54.47%), loss = 0.3252, time = 21.51 seconds ___\n"
          ],
          "name": "stdout"
        },
        {
          "output_type": "stream",
          "text": [
            "___ batch index = 1250 / 1836 (68.08%), loss = 0.3302, time = 19.81 seconds ___\n"
          ],
          "name": "stdout"
        },
        {
          "output_type": "stream",
          "text": [
            "___ batch index = 1500 / 1836 (81.70%), loss = 0.2597, time = 19.88 seconds ___\n"
          ],
          "name": "stdout"
        },
        {
          "output_type": "stream",
          "text": [
            "___ batch index = 1750 / 1836 (95.32%), loss = 0.2267, time = 21.20 seconds ___\n"
          ],
          "name": "stdout"
        },
        {
          "output_type": "stream",
          "text": [
            "\n",
            "*** avg_loss : 0.52, time : ~2.0 min (152.01 sec) ***\n",
            "\n"
          ],
          "name": "stdout"
        },
        {
          "output_type": "stream",
          "text": [
            "==> evaluation : avg_loss = 0.49, time : 20.94 sec\n",
            "\n"
          ],
          "name": "stdout"
        },
        {
          "output_type": "stream",
          "text": [
            "threshold:  [0.15789533]\n",
            "=====>\t{'Positive Rate': array([0.19439869], dtype=float32), 'threshold': 0.15789533, 'accuracy': 0.3212520593080725, 'f1': 0.32236842105263164, 'recall': 0.8305084745762712, 'specificity': 0.1983640081799591, 'default_accuracy': 0.8056013179571664, 'default_f1': 0.0, 'default_recall': 0.0, 'default_specificity': 1.0}\n",
            "\n",
            "=============== EPOCH 5 / 30 ===============\n",
            "\n",
            "___ batch index = 0 / 1836 (0.00%), loss = 0.1929, time = 0.08 seconds ___\n"
          ],
          "name": "stdout"
        },
        {
          "output_type": "stream",
          "text": [
            "___ batch index = 250 / 1836 (13.62%), loss = 0.1692, time = 21.64 seconds ___\n"
          ],
          "name": "stdout"
        },
        {
          "output_type": "stream",
          "text": [
            "___ batch index = 500 / 1836 (27.23%), loss = 0.8546, time = 20.95 seconds ___\n"
          ],
          "name": "stdout"
        },
        {
          "output_type": "stream",
          "text": [
            "___ batch index = 750 / 1836 (40.85%), loss = 1.8006, time = 19.25 seconds ___\n"
          ],
          "name": "stdout"
        },
        {
          "output_type": "stream",
          "text": [
            "___ batch index = 1000 / 1836 (54.47%), loss = 0.3305, time = 21.57 seconds ___\n"
          ],
          "name": "stdout"
        },
        {
          "output_type": "stream",
          "text": [
            "___ batch index = 1250 / 1836 (68.08%), loss = 0.3197, time = 19.75 seconds ___\n"
          ],
          "name": "stdout"
        },
        {
          "output_type": "stream",
          "text": [
            "___ batch index = 1500 / 1836 (81.70%), loss = 0.2447, time = 19.94 seconds ___\n"
          ],
          "name": "stdout"
        },
        {
          "output_type": "stream",
          "text": [
            "___ batch index = 1750 / 1836 (95.32%), loss = 0.2225, time = 21.15 seconds ___\n"
          ],
          "name": "stdout"
        },
        {
          "output_type": "stream",
          "text": [
            "\n",
            "*** avg_loss : 0.51, time : ~2.0 min (152.00 sec) ***\n",
            "\n"
          ],
          "name": "stdout"
        },
        {
          "output_type": "stream",
          "text": [
            "==> evaluation : avg_loss = 0.49, time : 20.94 sec\n",
            "\n"
          ],
          "name": "stdout"
        },
        {
          "output_type": "stream",
          "text": [
            "threshold:  [0.15887776]\n",
            "=====>\t{'Positive Rate': array([0.19439869], dtype=float32), 'threshold': 0.15887776, 'accuracy': 0.3228995057660626, 'f1': 0.32512315270935965, 'recall': 0.8389830508474576, 'specificity': 0.1983640081799591, 'default_accuracy': 0.8056013179571664, 'default_f1': 0.0, 'default_recall': 0.0, 'default_specificity': 1.0}\n",
            "\n",
            "=============== EPOCH 6 / 30 ===============\n",
            "\n",
            "___ batch index = 0 / 1836 (0.00%), loss = 0.1822, time = 0.08 seconds ___\n"
          ],
          "name": "stdout"
        },
        {
          "output_type": "stream",
          "text": [
            "___ batch index = 250 / 1836 (13.62%), loss = 0.1760, time = 21.64 seconds ___\n"
          ],
          "name": "stdout"
        },
        {
          "output_type": "stream",
          "text": [
            "___ batch index = 500 / 1836 (27.23%), loss = 0.8291, time = 20.95 seconds ___\n"
          ],
          "name": "stdout"
        },
        {
          "output_type": "stream",
          "text": [
            "___ batch index = 750 / 1836 (40.85%), loss = 1.7663, time = 19.26 seconds ___\n"
          ],
          "name": "stdout"
        },
        {
          "output_type": "stream",
          "text": [
            "___ batch index = 1000 / 1836 (54.47%), loss = 0.3082, time = 21.57 seconds ___\n"
          ],
          "name": "stdout"
        },
        {
          "output_type": "stream",
          "text": [
            "___ batch index = 1250 / 1836 (68.08%), loss = 0.3135, time = 19.75 seconds ___\n"
          ],
          "name": "stdout"
        },
        {
          "output_type": "stream",
          "text": [
            "___ batch index = 1500 / 1836 (81.70%), loss = 0.2469, time = 19.94 seconds ___\n"
          ],
          "name": "stdout"
        },
        {
          "output_type": "stream",
          "text": [
            "___ batch index = 1750 / 1836 (95.32%), loss = 0.2217, time = 21.15 seconds ___\n"
          ],
          "name": "stdout"
        },
        {
          "output_type": "stream",
          "text": [
            "\n",
            "*** avg_loss : 0.51, time : ~2.0 min (152.01 sec) ***\n",
            "\n"
          ],
          "name": "stdout"
        },
        {
          "output_type": "stream",
          "text": [
            "==> evaluation : avg_loss = 0.49, time : 20.97 sec\n",
            "\n"
          ],
          "name": "stdout"
        },
        {
          "output_type": "stream",
          "text": [
            "threshold:  [0.15838186]\n",
            "=====>\t{'Positive Rate': array([0.19439869], dtype=float32), 'threshold': 0.15838186, 'accuracy': 0.3245469522240527, 'f1': 0.3256578947368421, 'recall': 0.8389830508474576, 'specificity': 0.20040899795501022, 'default_accuracy': 0.8056013179571664, 'default_f1': 0.0, 'default_recall': 0.0, 'default_specificity': 1.0}\n",
            "\n",
            "=============== EPOCH 7 / 30 ===============\n",
            "\n",
            "___ batch index = 0 / 1836 (0.00%), loss = 0.1611, time = 0.08 seconds ___\n"
          ],
          "name": "stdout"
        },
        {
          "output_type": "stream",
          "text": [
            "___ batch index = 250 / 1836 (13.62%), loss = 0.1685, time = 21.69 seconds ___\n"
          ],
          "name": "stdout"
        },
        {
          "output_type": "stream",
          "text": [
            "___ batch index = 500 / 1836 (27.23%), loss = 0.8311, time = 20.89 seconds ___\n"
          ],
          "name": "stdout"
        },
        {
          "output_type": "stream",
          "text": [
            "___ batch index = 750 / 1836 (40.85%), loss = 1.7596, time = 19.31 seconds ___\n"
          ],
          "name": "stdout"
        },
        {
          "output_type": "stream",
          "text": [
            "___ batch index = 1000 / 1836 (54.47%), loss = 0.3300, time = 21.52 seconds ___\n"
          ],
          "name": "stdout"
        },
        {
          "output_type": "stream",
          "text": [
            "___ batch index = 1250 / 1836 (68.08%), loss = 0.3175, time = 19.81 seconds ___\n"
          ],
          "name": "stdout"
        },
        {
          "output_type": "stream",
          "text": [
            "___ batch index = 1500 / 1836 (81.70%), loss = 0.2378, time = 19.88 seconds ___\n"
          ],
          "name": "stdout"
        },
        {
          "output_type": "stream",
          "text": [
            "___ batch index = 1750 / 1836 (95.32%), loss = 0.2269, time = 21.21 seconds ___\n"
          ],
          "name": "stdout"
        },
        {
          "output_type": "stream",
          "text": [
            "\n",
            "*** avg_loss : 0.50, time : ~2.0 min (152.06 sec) ***\n",
            "\n"
          ],
          "name": "stdout"
        },
        {
          "output_type": "stream",
          "text": [
            "==> evaluation : avg_loss = 0.49, time : 20.90 sec\n",
            "\n"
          ],
          "name": "stdout"
        },
        {
          "output_type": "stream",
          "text": [
            "threshold:  [0.15736811]\n",
            "=====>\t{'Positive Rate': array([0.19439869], dtype=float32), 'threshold': 0.15736811, 'accuracy': 0.31960461285008235, 'f1': 0.3218390804597701, 'recall': 0.8305084745762712, 'specificity': 0.19631901840490798, 'default_accuracy': 0.8056013179571664, 'default_f1': 0.0, 'default_recall': 0.0, 'default_specificity': 1.0}\n",
            "\n",
            "=============== EPOCH 8 / 30 ===============\n",
            "\n",
            "___ batch index = 0 / 1836 (0.00%), loss = 0.1641, time = 0.08 seconds ___\n"
          ],
          "name": "stdout"
        },
        {
          "output_type": "stream",
          "text": [
            "___ batch index = 250 / 1836 (13.62%), loss = 0.1765, time = 21.70 seconds ___\n"
          ],
          "name": "stdout"
        },
        {
          "output_type": "stream",
          "text": [
            "___ batch index = 500 / 1836 (27.23%), loss = 0.8202, time = 20.95 seconds ___\n"
          ],
          "name": "stdout"
        },
        {
          "output_type": "stream",
          "text": [
            "___ batch index = 750 / 1836 (40.85%), loss = 1.7170, time = 19.25 seconds ___\n"
          ],
          "name": "stdout"
        },
        {
          "output_type": "stream",
          "text": [
            "___ batch index = 1000 / 1836 (54.47%), loss = 0.3062, time = 21.57 seconds ___\n"
          ],
          "name": "stdout"
        },
        {
          "output_type": "stream",
          "text": [
            "___ batch index = 1250 / 1836 (68.08%), loss = 0.3179, time = 19.75 seconds ___\n"
          ],
          "name": "stdout"
        },
        {
          "output_type": "stream",
          "text": [
            "___ batch index = 1500 / 1836 (81.70%), loss = 0.2349, time = 19.94 seconds ___\n"
          ],
          "name": "stdout"
        },
        {
          "output_type": "stream",
          "text": [
            "___ batch index = 1750 / 1836 (95.32%), loss = 0.2216, time = 21.15 seconds ___\n"
          ],
          "name": "stdout"
        },
        {
          "output_type": "stream",
          "text": [
            "\n",
            "*** avg_loss : 0.50, time : ~2.0 min (152.05 sec) ***\n",
            "\n"
          ],
          "name": "stdout"
        },
        {
          "output_type": "stream",
          "text": [
            "==> evaluation : avg_loss = 0.49, time : 20.96 sec\n",
            "\n"
          ],
          "name": "stdout"
        },
        {
          "output_type": "stream",
          "text": [
            "threshold:  [0.15498339]\n",
            "=====>\t{'Positive Rate': array([0.19439869], dtype=float32), 'threshold': 0.15498339, 'accuracy': 0.31960461285008235, 'f1': 0.3218390804597701, 'recall': 0.8305084745762712, 'specificity': 0.19631901840490798, 'default_accuracy': 0.8056013179571664, 'default_f1': 0.0, 'default_recall': 0.0, 'default_specificity': 1.0}\n",
            "\n",
            "=============== EPOCH 9 / 30 ===============\n",
            "\n",
            "___ batch index = 0 / 1836 (0.00%), loss = 0.1485, time = 0.08 seconds ___\n"
          ],
          "name": "stdout"
        },
        {
          "output_type": "stream",
          "text": [
            "___ batch index = 250 / 1836 (13.62%), loss = 0.1761, time = 21.64 seconds ___\n"
          ],
          "name": "stdout"
        },
        {
          "output_type": "stream",
          "text": [
            "___ batch index = 500 / 1836 (27.23%), loss = 0.8739, time = 20.95 seconds ___\n"
          ],
          "name": "stdout"
        },
        {
          "output_type": "stream",
          "text": [
            "___ batch index = 750 / 1836 (40.85%), loss = 1.7646, time = 19.32 seconds ___\n"
          ],
          "name": "stdout"
        },
        {
          "output_type": "stream",
          "text": [
            "___ batch index = 1000 / 1836 (54.47%), loss = 0.3105, time = 21.52 seconds ___\n"
          ],
          "name": "stdout"
        },
        {
          "output_type": "stream",
          "text": [
            "___ batch index = 1250 / 1836 (68.08%), loss = 0.3056, time = 19.81 seconds ___\n"
          ],
          "name": "stdout"
        },
        {
          "output_type": "stream",
          "text": [
            "___ batch index = 1500 / 1836 (81.70%), loss = 0.2428, time = 19.94 seconds ___\n"
          ],
          "name": "stdout"
        },
        {
          "output_type": "stream",
          "text": [
            "___ batch index = 1750 / 1836 (95.32%), loss = 0.2208, time = 21.15 seconds ___\n"
          ],
          "name": "stdout"
        },
        {
          "output_type": "stream",
          "text": [
            "\n",
            "*** avg_loss : 0.50, time : ~2.0 min (152.05 sec) ***\n",
            "\n"
          ],
          "name": "stdout"
        },
        {
          "output_type": "stream",
          "text": [
            "==> evaluation : avg_loss = 0.49, time : 20.96 sec\n",
            "\n"
          ],
          "name": "stdout"
        },
        {
          "output_type": "stream",
          "text": [
            "threshold:  [0.15460318]\n",
            "=====>\t{'Positive Rate': array([0.19439869], dtype=float32), 'threshold': 0.15460318, 'accuracy': 0.31960461285008235, 'f1': 0.3218390804597701, 'recall': 0.8305084745762712, 'specificity': 0.19631901840490798, 'default_accuracy': 0.8056013179571664, 'default_f1': 0.0, 'default_recall': 0.0, 'default_specificity': 1.0}\n",
            "\n",
            "=============== EPOCH 10 / 30 ===============\n",
            "\n",
            "___ batch index = 0 / 1836 (0.00%), loss = 0.1709, time = 0.08 seconds ___\n"
          ],
          "name": "stdout"
        },
        {
          "output_type": "stream",
          "text": [
            "___ batch index = 250 / 1836 (13.62%), loss = 0.1705, time = 21.71 seconds ___\n"
          ],
          "name": "stdout"
        },
        {
          "output_type": "stream",
          "text": [
            "___ batch index = 500 / 1836 (27.23%), loss = 0.8142, time = 20.95 seconds ___\n"
          ],
          "name": "stdout"
        },
        {
          "output_type": "stream",
          "text": [
            "___ batch index = 750 / 1836 (40.85%), loss = 1.7432, time = 19.26 seconds ___\n"
          ],
          "name": "stdout"
        },
        {
          "output_type": "stream",
          "text": [
            "___ batch index = 1000 / 1836 (54.47%), loss = 0.3087, time = 21.52 seconds ___\n"
          ],
          "name": "stdout"
        },
        {
          "output_type": "stream",
          "text": [
            "___ batch index = 1250 / 1836 (68.08%), loss = 0.3094, time = 19.82 seconds ___\n"
          ],
          "name": "stdout"
        },
        {
          "output_type": "stream",
          "text": [
            "___ batch index = 1500 / 1836 (81.70%), loss = 0.2452, time = 19.88 seconds ___\n"
          ],
          "name": "stdout"
        },
        {
          "output_type": "stream",
          "text": [
            "___ batch index = 1750 / 1836 (95.32%), loss = 0.2195, time = 21.21 seconds ___\n"
          ],
          "name": "stdout"
        },
        {
          "output_type": "stream",
          "text": [
            "\n",
            "*** avg_loss : 0.49, time : ~2.0 min (152.08 sec) ***\n",
            "\n"
          ],
          "name": "stdout"
        },
        {
          "output_type": "stream",
          "text": [
            "==> evaluation : avg_loss = 0.48, time : 20.96 sec\n",
            "\n"
          ],
          "name": "stdout"
        },
        {
          "output_type": "stream",
          "text": [
            "threshold:  [0.15209891]\n",
            "=====>\t{'Positive Rate': array([0.19439869], dtype=float32), 'threshold': 0.15209891, 'accuracy': 0.3228995057660626, 'f1': 0.32512315270935965, 'recall': 0.8389830508474576, 'specificity': 0.1983640081799591, 'default_accuracy': 0.8056013179571664, 'default_f1': 0.0, 'default_recall': 0.0, 'default_specificity': 1.0}\n",
            "\n",
            "=============== EPOCH 11 / 30 ===============\n",
            "\n",
            "___ batch index = 0 / 1836 (0.00%), loss = 0.1295, time = 0.08 seconds ___\n"
          ],
          "name": "stdout"
        },
        {
          "output_type": "stream",
          "text": [
            "___ batch index = 250 / 1836 (13.62%), loss = 0.1653, time = 21.64 seconds ___\n"
          ],
          "name": "stdout"
        },
        {
          "output_type": "stream",
          "text": [
            "___ batch index = 500 / 1836 (27.23%), loss = 0.8209, time = 20.95 seconds ___\n"
          ],
          "name": "stdout"
        },
        {
          "output_type": "stream",
          "text": [
            "___ batch index = 750 / 1836 (40.85%), loss = 1.6896, time = 19.26 seconds ___\n"
          ],
          "name": "stdout"
        },
        {
          "output_type": "stream",
          "text": [
            "___ batch index = 1000 / 1836 (54.47%), loss = 0.3123, time = 21.52 seconds ___\n"
          ],
          "name": "stdout"
        },
        {
          "output_type": "stream",
          "text": [
            "___ batch index = 1250 / 1836 (68.08%), loss = 0.3128, time = 19.81 seconds ___\n"
          ],
          "name": "stdout"
        },
        {
          "output_type": "stream",
          "text": [
            "___ batch index = 1500 / 1836 (81.70%), loss = 0.2222, time = 19.94 seconds ___\n"
          ],
          "name": "stdout"
        },
        {
          "output_type": "stream",
          "text": [
            "___ batch index = 1750 / 1836 (95.32%), loss = 0.2324, time = 21.15 seconds ___\n"
          ],
          "name": "stdout"
        },
        {
          "output_type": "stream",
          "text": [
            "\n",
            "*** avg_loss : 0.49, time : ~2.0 min (152.00 sec) ***\n",
            "\n"
          ],
          "name": "stdout"
        },
        {
          "output_type": "stream",
          "text": [
            "==> evaluation : avg_loss = 0.48, time : 20.97 sec\n",
            "\n"
          ],
          "name": "stdout"
        },
        {
          "output_type": "stream",
          "text": [
            "threshold:  [0.14820653]\n",
            "=====>\t{'Positive Rate': array([0.19439869], dtype=float32), 'threshold': 0.14820653, 'accuracy': 0.3245469522240527, 'f1': 0.3256578947368421, 'recall': 0.8389830508474576, 'specificity': 0.20040899795501022, 'default_accuracy': 0.8056013179571664, 'default_f1': 0.0, 'default_recall': 0.0, 'default_specificity': 1.0}\n",
            "model did not progress for 5 followed epochs\n"
          ],
          "name": "stdout"
        },
        {
          "output_type": "stream",
          "text": [
            "-----------------BEST TH:  0.15838186\n",
            "-----------------TEST EVALUATION {'Positive Rate': array([0.19763513], dtype=float32), 'accuracy': 0.38682432432432434, 'f1': 0.3575221238938053, 'recall': 0.8632478632478633, 'specificity': 0.2694736842105263, 'default_accuracy': 0.8040540540540541, 'default_f1': 0.016949152542372885, 'default_recall': 0.008547008547008548, 'default_specificity': 1.0}\n",
            "%%%%%%%%%%%%%%%%%%%%%%%%%%%%%%%%%%%% Para label:  Apoyo fonoaudióloga(o) %%%%%%%%%%%%%%%%%%%%%%%%%%%\n"
          ],
          "name": "stdout"
        },
        {
          "output_type": "stream",
          "text": [
            "Some weights of the model checkpoint at dccuchile/bert-base-spanish-wwm-cased were not used when initializing BertModel: ['cls.predictions.transform.LayerNorm.bias', 'cls.predictions.bias', 'cls.predictions.transform.dense.weight', 'cls.predictions.transform.dense.bias', 'cls.predictions.transform.LayerNorm.weight', 'cls.predictions.decoder.weight', 'cls.predictions.decoder.bias']\n",
            "- This IS expected if you are initializing BertModel from the checkpoint of a model trained on another task or with another architecture (e.g. initializing a BertForSequenceClassification model from a BertForPreTraining model).\n",
            "- This IS NOT expected if you are initializing BertModel from the checkpoint of a model that you expect to be exactly identical (initializing a BertForSequenceClassification model from a BertForSequenceClassification model).\n"
          ],
          "name": "stderr"
        },
        {
          "output_type": "stream",
          "text": [
            "Some weights of BertModel were not initialized from the model checkpoint at dccuchile/bert-base-spanish-wwm-cased and are newly initialized: ['bert.pooler.dense.weight', 'bert.pooler.dense.bias']\n",
            "You should probably TRAIN this model on a down-stream task to be able to use it for predictions and inference.\n"
          ],
          "name": "stderr"
        },
        {
          "output_type": "stream",
          "text": [
            "\n",
            "=============== EPOCH 1 / 30 ===============\n",
            "\n",
            "___ batch index = 0 / 1836 (0.00%), loss = 0.5175, time = 0.08 seconds ___\n"
          ],
          "name": "stdout"
        },
        {
          "output_type": "stream",
          "text": [
            "___ batch index = 250 / 1836 (13.62%), loss = 0.4004, time = 21.70 seconds ___\n"
          ],
          "name": "stdout"
        },
        {
          "output_type": "stream",
          "text": [
            "___ batch index = 500 / 1836 (27.23%), loss = 0.6330, time = 20.88 seconds ___\n"
          ],
          "name": "stdout"
        },
        {
          "output_type": "stream",
          "text": [
            "___ batch index = 750 / 1836 (40.85%), loss = 0.3657, time = 19.31 seconds ___\n"
          ],
          "name": "stdout"
        },
        {
          "output_type": "stream",
          "text": [
            "___ batch index = 1000 / 1836 (54.47%), loss = 0.3196, time = 21.51 seconds ___\n"
          ],
          "name": "stdout"
        },
        {
          "output_type": "stream",
          "text": [
            "___ batch index = 1250 / 1836 (68.08%), loss = 0.2554, time = 19.81 seconds ___\n"
          ],
          "name": "stdout"
        },
        {
          "output_type": "stream",
          "text": [
            "___ batch index = 1500 / 1836 (81.70%), loss = 0.2317, time = 19.87 seconds ___\n"
          ],
          "name": "stdout"
        },
        {
          "output_type": "stream",
          "text": [
            "___ batch index = 1750 / 1836 (95.32%), loss = 0.1583, time = 21.20 seconds ___\n"
          ],
          "name": "stdout"
        },
        {
          "output_type": "stream",
          "text": [
            "\n",
            "*** avg_loss : 0.43, time : ~2.0 min (152.02 sec) ***\n",
            "\n"
          ],
          "name": "stdout"
        },
        {
          "output_type": "stream",
          "text": [
            "==> evaluation : avg_loss = 0.37, time : 20.93 sec\n",
            "\n"
          ],
          "name": "stdout"
        },
        {
          "output_type": "stream",
          "text": [
            "threshold:  [0.10848361]\n",
            "=====>\t{'Positive Rate': array([0.12520593], dtype=float32), 'threshold': 0.10848361, 'accuracy': 0.2355848434925865, 'f1': 0.23934426229508196, 'recall': 0.9605263157894737, 'specificity': 0.1318267419962335, 'default_accuracy': 0.8747940691927513, 'default_f1': 0.0, 'default_recall': 0.0, 'default_specificity': 1.0}\n",
            "\n",
            "=============== EPOCH 2 / 30 ===============\n",
            "\n",
            "___ batch index = 0 / 1836 (0.00%), loss = 0.1436, time = 0.08 seconds ___\n"
          ],
          "name": "stdout"
        },
        {
          "output_type": "stream",
          "text": [
            "___ batch index = 250 / 1836 (13.62%), loss = 0.1231, time = 21.63 seconds ___\n"
          ],
          "name": "stdout"
        },
        {
          "output_type": "stream",
          "text": [
            "___ batch index = 500 / 1836 (27.23%), loss = 0.7619, time = 20.94 seconds ___\n"
          ],
          "name": "stdout"
        },
        {
          "output_type": "stream",
          "text": [
            "___ batch index = 750 / 1836 (40.85%), loss = 0.2056, time = 19.25 seconds ___\n"
          ],
          "name": "stdout"
        },
        {
          "output_type": "stream",
          "text": [
            "___ batch index = 1000 / 1836 (54.47%), loss = 0.1850, time = 21.56 seconds ___\n"
          ],
          "name": "stdout"
        },
        {
          "output_type": "stream",
          "text": [
            "___ batch index = 1250 / 1836 (68.08%), loss = 0.1693, time = 19.74 seconds ___\n"
          ],
          "name": "stdout"
        },
        {
          "output_type": "stream",
          "text": [
            "___ batch index = 1500 / 1836 (81.70%), loss = 0.1711, time = 19.93 seconds ___\n"
          ],
          "name": "stdout"
        },
        {
          "output_type": "stream",
          "text": [
            "___ batch index = 1750 / 1836 (95.32%), loss = 0.1298, time = 21.20 seconds ___\n"
          ],
          "name": "stdout"
        },
        {
          "output_type": "stream",
          "text": [
            "\n",
            "*** avg_loss : 0.39, time : ~2.0 min (151.99 sec) ***\n",
            "\n"
          ],
          "name": "stdout"
        },
        {
          "output_type": "stream",
          "text": [
            "==> evaluation : avg_loss = 0.37, time : 20.89 sec\n",
            "\n"
          ],
          "name": "stdout"
        },
        {
          "output_type": "stream",
          "text": [
            "threshold:  [0.08238263]\n",
            "=====>\t{'Positive Rate': array([0.12520593], dtype=float32), 'threshold': 0.082382634, 'accuracy': 0.24052718286655683, 'f1': 0.2430213464696223, 'recall': 0.9736842105263158, 'specificity': 0.13559322033898305, 'default_accuracy': 0.8747940691927513, 'default_f1': 0.0, 'default_recall': 0.0, 'default_specificity': 1.0}\n",
            "\n",
            "=============== EPOCH 3 / 30 ===============\n",
            "\n",
            "___ batch index = 0 / 1836 (0.00%), loss = 0.1252, time = 0.08 seconds ___\n"
          ],
          "name": "stdout"
        },
        {
          "output_type": "stream",
          "text": [
            "___ batch index = 250 / 1836 (13.62%), loss = 0.1003, time = 21.64 seconds ___\n"
          ],
          "name": "stdout"
        },
        {
          "output_type": "stream",
          "text": [
            "___ batch index = 500 / 1836 (27.23%), loss = 0.7605, time = 20.94 seconds ___\n"
          ],
          "name": "stdout"
        },
        {
          "output_type": "stream",
          "text": [
            "___ batch index = 750 / 1836 (40.85%), loss = 0.1879, time = 19.31 seconds ___\n"
          ],
          "name": "stdout"
        },
        {
          "output_type": "stream",
          "text": [
            "___ batch index = 1000 / 1836 (54.47%), loss = 0.1590, time = 21.51 seconds ___\n"
          ],
          "name": "stdout"
        },
        {
          "output_type": "stream",
          "text": [
            "___ batch index = 1250 / 1836 (68.08%), loss = 0.1528, time = 19.80 seconds ___\n"
          ],
          "name": "stdout"
        },
        {
          "output_type": "stream",
          "text": [
            "___ batch index = 1500 / 1836 (81.70%), loss = 0.1660, time = 19.88 seconds ___\n"
          ],
          "name": "stdout"
        },
        {
          "output_type": "stream",
          "text": [
            "___ batch index = 1750 / 1836 (95.32%), loss = 0.1121, time = 21.20 seconds ___\n"
          ],
          "name": "stdout"
        },
        {
          "output_type": "stream",
          "text": [
            "\n",
            "*** avg_loss : 0.39, time : ~2.0 min (152.03 sec) ***\n",
            "\n"
          ],
          "name": "stdout"
        },
        {
          "output_type": "stream",
          "text": [
            "==> evaluation : avg_loss = 0.37, time : 20.94 sec\n",
            "\n"
          ],
          "name": "stdout"
        },
        {
          "output_type": "stream",
          "text": [
            "threshold:  [0.07556768]\n",
            "=====>\t{'Positive Rate': array([0.12520593], dtype=float32), 'threshold': 0.07556768, 'accuracy': 0.24217462932454695, 'f1': 0.24342105263157895, 'recall': 0.9736842105263158, 'specificity': 0.1374764595103578, 'default_accuracy': 0.8747940691927513, 'default_f1': 0.0, 'default_recall': 0.0, 'default_specificity': 1.0}\n",
            "\n",
            "=============== EPOCH 4 / 30 ===============\n",
            "\n",
            "___ batch index = 0 / 1836 (0.00%), loss = 0.1041, time = 0.08 seconds ___\n"
          ],
          "name": "stdout"
        },
        {
          "output_type": "stream",
          "text": [
            "___ batch index = 250 / 1836 (13.62%), loss = 0.0935, time = 21.63 seconds ___\n"
          ],
          "name": "stdout"
        },
        {
          "output_type": "stream",
          "text": [
            "___ batch index = 500 / 1836 (27.23%), loss = 0.7652, time = 20.95 seconds ___\n"
          ],
          "name": "stdout"
        },
        {
          "output_type": "stream",
          "text": [
            "___ batch index = 750 / 1836 (40.85%), loss = 0.1815, time = 19.26 seconds ___\n"
          ],
          "name": "stdout"
        },
        {
          "output_type": "stream",
          "text": [
            "___ batch index = 1000 / 1836 (54.47%), loss = 0.1555, time = 21.57 seconds ___\n"
          ],
          "name": "stdout"
        },
        {
          "output_type": "stream",
          "text": [
            "___ batch index = 1250 / 1836 (68.08%), loss = 0.1459, time = 19.75 seconds ___\n"
          ],
          "name": "stdout"
        },
        {
          "output_type": "stream",
          "text": [
            "___ batch index = 1500 / 1836 (81.70%), loss = 0.1448, time = 19.94 seconds ___\n"
          ],
          "name": "stdout"
        },
        {
          "output_type": "stream",
          "text": [
            "___ batch index = 1750 / 1836 (95.32%), loss = 0.1102, time = 21.21 seconds ___\n"
          ],
          "name": "stdout"
        },
        {
          "output_type": "stream",
          "text": [
            "\n",
            "*** avg_loss : 0.39, time : ~2.0 min (152.05 sec) ***\n",
            "\n"
          ],
          "name": "stdout"
        },
        {
          "output_type": "stream",
          "text": [
            "==> evaluation : avg_loss = 0.37, time : 20.89 sec\n",
            "\n"
          ],
          "name": "stdout"
        },
        {
          "output_type": "stream",
          "text": [
            "threshold:  [0.07288197]\n",
            "=====>\t{'Positive Rate': array([0.12520593], dtype=float32), 'threshold': 0.07288197, 'accuracy': 0.23887973640856672, 'f1': 0.2401315789473684, 'recall': 0.9605263157894737, 'specificity': 0.13559322033898305, 'default_accuracy': 0.8747940691927513, 'default_f1': 0.0, 'default_recall': 0.0, 'default_specificity': 1.0}\n",
            "\n",
            "=============== EPOCH 5 / 30 ===============\n",
            "\n",
            "___ batch index = 0 / 1836 (0.00%), loss = 0.1109, time = 0.08 seconds ___\n"
          ],
          "name": "stdout"
        },
        {
          "output_type": "stream",
          "text": [
            "___ batch index = 250 / 1836 (13.62%), loss = 0.0895, time = 21.64 seconds ___\n"
          ],
          "name": "stdout"
        },
        {
          "output_type": "stream",
          "text": [
            "___ batch index = 500 / 1836 (27.23%), loss = 0.7837, time = 20.94 seconds ___\n"
          ],
          "name": "stdout"
        },
        {
          "output_type": "stream",
          "text": [
            "___ batch index = 750 / 1836 (40.85%), loss = 0.1914, time = 19.31 seconds ___\n"
          ],
          "name": "stdout"
        },
        {
          "output_type": "stream",
          "text": [
            "___ batch index = 1000 / 1836 (54.47%), loss = 0.1541, time = 21.51 seconds ___\n"
          ],
          "name": "stdout"
        },
        {
          "output_type": "stream",
          "text": [
            "___ batch index = 1250 / 1836 (68.08%), loss = 0.1484, time = 19.81 seconds ___\n"
          ],
          "name": "stdout"
        },
        {
          "output_type": "stream",
          "text": [
            "___ batch index = 1500 / 1836 (81.70%), loss = 0.1423, time = 19.88 seconds ___\n"
          ],
          "name": "stdout"
        },
        {
          "output_type": "stream",
          "text": [
            "___ batch index = 1750 / 1836 (95.32%), loss = 0.1099, time = 21.20 seconds ___\n"
          ],
          "name": "stdout"
        },
        {
          "output_type": "stream",
          "text": [
            "\n",
            "*** avg_loss : 0.38, time : ~2.0 min (152.04 sec) ***\n",
            "\n"
          ],
          "name": "stdout"
        },
        {
          "output_type": "stream",
          "text": [
            "==> evaluation : avg_loss = 0.36, time : 20.93 sec\n",
            "\n"
          ],
          "name": "stdout"
        },
        {
          "output_type": "stream",
          "text": [
            "threshold:  [0.07052492]\n",
            "=====>\t{'Positive Rate': array([0.12520593], dtype=float32), 'threshold': 0.070524916, 'accuracy': 0.2355848434925865, 'f1': 0.23684210526315788, 'recall': 0.9473684210526315, 'specificity': 0.1337099811676083, 'default_accuracy': 0.8747940691927513, 'default_f1': 0.0, 'default_recall': 0.0, 'default_specificity': 1.0}\n",
            "\n",
            "=============== EPOCH 6 / 30 ===============\n",
            "\n",
            "___ batch index = 0 / 1836 (0.00%), loss = 0.0979, time = 0.08 seconds ___\n"
          ],
          "name": "stdout"
        },
        {
          "output_type": "stream",
          "text": [
            "___ batch index = 250 / 1836 (13.62%), loss = 0.0873, time = 21.64 seconds ___\n"
          ],
          "name": "stdout"
        },
        {
          "output_type": "stream",
          "text": [
            "___ batch index = 500 / 1836 (27.23%), loss = 0.7612, time = 20.94 seconds ___\n"
          ],
          "name": "stdout"
        },
        {
          "output_type": "stream",
          "text": [
            "___ batch index = 750 / 1836 (40.85%), loss = 0.1866, time = 19.25 seconds ___\n"
          ],
          "name": "stdout"
        },
        {
          "output_type": "stream",
          "text": [
            "___ batch index = 1000 / 1836 (54.47%), loss = 0.1377, time = 21.57 seconds ___\n"
          ],
          "name": "stdout"
        },
        {
          "output_type": "stream",
          "text": [
            "___ batch index = 1250 / 1836 (68.08%), loss = 0.1487, time = 19.75 seconds ___\n"
          ],
          "name": "stdout"
        },
        {
          "output_type": "stream",
          "text": [
            "___ batch index = 1500 / 1836 (81.70%), loss = 0.1455, time = 19.94 seconds ___\n"
          ],
          "name": "stdout"
        },
        {
          "output_type": "stream",
          "text": [
            "___ batch index = 1750 / 1836 (95.32%), loss = 0.1087, time = 21.20 seconds ___\n"
          ],
          "name": "stdout"
        },
        {
          "output_type": "stream",
          "text": [
            "\n",
            "*** avg_loss : 0.38, time : ~2.0 min (152.03 sec) ***\n",
            "\n"
          ],
          "name": "stdout"
        },
        {
          "output_type": "stream",
          "text": [
            "==> evaluation : avg_loss = 0.36, time : 20.89 sec\n",
            "\n"
          ],
          "name": "stdout"
        },
        {
          "output_type": "stream",
          "text": [
            "threshold:  [0.06848538]\n",
            "=====>\t{'Positive Rate': array([0.12520593], dtype=float32), 'threshold': 0.06848538, 'accuracy': 0.2355848434925865, 'f1': 0.23684210526315788, 'recall': 0.9473684210526315, 'specificity': 0.1337099811676083, 'default_accuracy': 0.8747940691927513, 'default_f1': 0.0, 'default_recall': 0.0, 'default_specificity': 1.0}\n",
            "\n",
            "=============== EPOCH 7 / 30 ===============\n",
            "\n",
            "___ batch index = 0 / 1836 (0.00%), loss = 0.1189, time = 0.08 seconds ___\n"
          ],
          "name": "stdout"
        },
        {
          "output_type": "stream",
          "text": [
            "___ batch index = 250 / 1836 (13.62%), loss = 0.0843, time = 21.65 seconds ___\n"
          ],
          "name": "stdout"
        },
        {
          "output_type": "stream",
          "text": [
            "___ batch index = 500 / 1836 (27.23%), loss = 0.7373, time = 20.95 seconds ___\n"
          ],
          "name": "stdout"
        },
        {
          "output_type": "stream",
          "text": [
            "___ batch index = 750 / 1836 (40.85%), loss = 0.1868, time = 19.31 seconds ___\n"
          ],
          "name": "stdout"
        },
        {
          "output_type": "stream",
          "text": [
            "___ batch index = 1000 / 1836 (54.47%), loss = 0.1462, time = 21.51 seconds ___\n"
          ],
          "name": "stdout"
        },
        {
          "output_type": "stream",
          "text": [
            "___ batch index = 1250 / 1836 (68.08%), loss = 0.1439, time = 19.81 seconds ___\n"
          ],
          "name": "stdout"
        },
        {
          "output_type": "stream",
          "text": [
            "___ batch index = 1500 / 1836 (81.70%), loss = 0.1421, time = 19.88 seconds ___\n"
          ],
          "name": "stdout"
        },
        {
          "output_type": "stream",
          "text": [
            "___ batch index = 1750 / 1836 (95.32%), loss = 0.1089, time = 21.21 seconds ___\n"
          ],
          "name": "stdout"
        },
        {
          "output_type": "stream",
          "text": [
            "\n",
            "*** avg_loss : 0.37, time : ~2.0 min (152.05 sec) ***\n",
            "\n"
          ],
          "name": "stdout"
        },
        {
          "output_type": "stream",
          "text": [
            "==> evaluation : avg_loss = 0.36, time : 20.95 sec\n",
            "\n"
          ],
          "name": "stdout"
        },
        {
          "output_type": "stream",
          "text": [
            "threshold:  [0.06558444]\n",
            "=====>\t{'Positive Rate': array([0.12520593], dtype=float32), 'threshold': 0.065584436, 'accuracy': 0.2355848434925865, 'f1': 0.23684210526315788, 'recall': 0.9473684210526315, 'specificity': 0.1337099811676083, 'default_accuracy': 0.8747940691927513, 'default_f1': 0.0, 'default_recall': 0.0, 'default_specificity': 1.0}\n",
            "\n",
            "=============== EPOCH 8 / 30 ===============\n",
            "\n",
            "___ batch index = 0 / 1836 (0.00%), loss = 0.1203, time = 0.08 seconds ___\n"
          ],
          "name": "stdout"
        },
        {
          "output_type": "stream",
          "text": [
            "___ batch index = 250 / 1836 (13.62%), loss = 0.0845, time = 21.65 seconds ___\n"
          ],
          "name": "stdout"
        },
        {
          "output_type": "stream",
          "text": [
            "___ batch index = 500 / 1836 (27.23%), loss = 0.7433, time = 20.95 seconds ___\n"
          ],
          "name": "stdout"
        },
        {
          "output_type": "stream",
          "text": [
            "___ batch index = 750 / 1836 (40.85%), loss = 0.1984, time = 19.26 seconds ___\n"
          ],
          "name": "stdout"
        },
        {
          "output_type": "stream",
          "text": [
            "___ batch index = 1000 / 1836 (54.47%), loss = 0.1439, time = 21.57 seconds ___\n"
          ],
          "name": "stdout"
        },
        {
          "output_type": "stream",
          "text": [
            "___ batch index = 1250 / 1836 (68.08%), loss = 0.1447, time = 19.75 seconds ___\n"
          ],
          "name": "stdout"
        },
        {
          "output_type": "stream",
          "text": [
            "___ batch index = 1500 / 1836 (81.70%), loss = 0.1379, time = 19.94 seconds ___\n"
          ],
          "name": "stdout"
        },
        {
          "output_type": "stream",
          "text": [
            "___ batch index = 1750 / 1836 (95.32%), loss = 0.1055, time = 21.20 seconds ___\n"
          ],
          "name": "stdout"
        },
        {
          "output_type": "stream",
          "text": [
            "\n",
            "*** avg_loss : 0.37, time : ~2.0 min (152.06 sec) ***\n",
            "\n"
          ],
          "name": "stdout"
        },
        {
          "output_type": "stream",
          "text": [
            "==> evaluation : avg_loss = 0.36, time : 20.89 sec\n",
            "\n"
          ],
          "name": "stdout"
        },
        {
          "output_type": "stream",
          "text": [
            "threshold:  [0.06174953]\n",
            "=====>\t{'Positive Rate': array([0.12520593], dtype=float32), 'threshold': 0.061749533, 'accuracy': 0.2355848434925865, 'f1': 0.23684210526315788, 'recall': 0.9473684210526315, 'specificity': 0.1337099811676083, 'default_accuracy': 0.8747940691927513, 'default_f1': 0.0, 'default_recall': 0.0, 'default_specificity': 1.0}\n",
            "model did not progress for 5 followed epochs\n"
          ],
          "name": "stdout"
        },
        {
          "output_type": "stream",
          "text": [
            "-----------------BEST TH:  0.07556768\n",
            "-----------------TEST EVALUATION {'Positive Rate': array([0.1266892], dtype=float32), 'accuracy': 0.42905405405405406, 'f1': 0.28691983122362874, 'recall': 0.9066666666666666, 'specificity': 0.3597678916827853, 'default_accuracy': 0.8733108108108109, 'default_f1': 0.0, 'default_recall': 0.0, 'default_specificity': 1.0}\n",
            "%%%%%%%%%%%%%%%%%%%%%%%%%%%%%%%%%%%% Para label:  Apoyo Educador(a) Diferencial %%%%%%%%%%%%%%%%%%%%%%%%%%%\n"
          ],
          "name": "stdout"
        },
        {
          "output_type": "stream",
          "text": [
            "Some weights of the model checkpoint at dccuchile/bert-base-spanish-wwm-cased were not used when initializing BertModel: ['cls.predictions.transform.LayerNorm.bias', 'cls.predictions.bias', 'cls.predictions.transform.dense.weight', 'cls.predictions.transform.dense.bias', 'cls.predictions.transform.LayerNorm.weight', 'cls.predictions.decoder.weight', 'cls.predictions.decoder.bias']\n",
            "- This IS expected if you are initializing BertModel from the checkpoint of a model trained on another task or with another architecture (e.g. initializing a BertForSequenceClassification model from a BertForPreTraining model).\n",
            "- This IS NOT expected if you are initializing BertModel from the checkpoint of a model that you expect to be exactly identical (initializing a BertForSequenceClassification model from a BertForSequenceClassification model).\n"
          ],
          "name": "stderr"
        },
        {
          "output_type": "stream",
          "text": [
            "Some weights of BertModel were not initialized from the model checkpoint at dccuchile/bert-base-spanish-wwm-cased and are newly initialized: ['bert.pooler.dense.weight', 'bert.pooler.dense.bias']\n",
            "You should probably TRAIN this model on a down-stream task to be able to use it for predictions and inference.\n"
          ],
          "name": "stderr"
        },
        {
          "output_type": "stream",
          "text": [
            "\n",
            "=============== EPOCH 1 / 30 ===============\n",
            "\n",
            "___ batch index = 0 / 1836 (0.00%), loss = 0.5689, time = 0.08 seconds ___\n"
          ],
          "name": "stdout"
        },
        {
          "output_type": "stream",
          "text": [
            "___ batch index = 250 / 1836 (13.62%), loss = 0.6924, time = 21.64 seconds ___\n"
          ],
          "name": "stdout"
        },
        {
          "output_type": "stream",
          "text": [
            "___ batch index = 500 / 1836 (27.23%), loss = 0.6610, time = 20.93 seconds ___\n"
          ],
          "name": "stdout"
        },
        {
          "output_type": "stream",
          "text": [
            "___ batch index = 750 / 1836 (40.85%), loss = 0.6080, time = 19.24 seconds ___\n"
          ],
          "name": "stdout"
        },
        {
          "output_type": "stream",
          "text": [
            "___ batch index = 1000 / 1836 (54.47%), loss = 0.7769, time = 21.50 seconds ___\n"
          ],
          "name": "stdout"
        },
        {
          "output_type": "stream",
          "text": [
            "___ batch index = 1250 / 1836 (68.08%), loss = 0.7598, time = 19.80 seconds ___\n"
          ],
          "name": "stdout"
        },
        {
          "output_type": "stream",
          "text": [
            "___ batch index = 1500 / 1836 (81.70%), loss = 0.6314, time = 19.93 seconds ___\n"
          ],
          "name": "stdout"
        },
        {
          "output_type": "stream",
          "text": [
            "___ batch index = 1750 / 1836 (95.32%), loss = 0.7932, time = 21.14 seconds ___\n"
          ],
          "name": "stdout"
        },
        {
          "output_type": "stream",
          "text": [
            "\n",
            "*** avg_loss : 0.71, time : ~2.0 min (151.91 sec) ***\n",
            "\n"
          ],
          "name": "stdout"
        },
        {
          "output_type": "stream",
          "text": [
            "==> evaluation : avg_loss = 0.69, time : 20.94 sec\n",
            "\n"
          ],
          "name": "stdout"
        },
        {
          "output_type": "stream",
          "text": [
            "threshold:  [0.4823049]\n",
            "=====>\t{'Positive Rate': array([0.43163097], dtype=float32), 'threshold': 0.4823049, 'accuracy': 0.528830313014827, 'f1': 0.5296052631578947, 'recall': 0.6145038167938931, 'specificity': 0.463768115942029, 'default_accuracy': 0.5436573311367381, 'default_f1': 0.4068522483940043, 'default_recall': 0.36259541984732824, 'default_specificity': 0.6811594202898551}\n",
            "\n",
            "=============== EPOCH 2 / 30 ===============\n",
            "\n",
            "___ batch index = 0 / 1836 (0.00%), loss = 0.7146, time = 0.07 seconds ___\n"
          ],
          "name": "stdout"
        },
        {
          "output_type": "stream",
          "text": [
            "___ batch index = 250 / 1836 (13.62%), loss = 0.6580, time = 21.67 seconds ___\n"
          ],
          "name": "stdout"
        },
        {
          "output_type": "stream",
          "text": [
            "___ batch index = 500 / 1836 (27.23%), loss = 0.6368, time = 20.88 seconds ___\n"
          ],
          "name": "stdout"
        },
        {
          "output_type": "stream",
          "text": [
            "___ batch index = 750 / 1836 (40.85%), loss = 0.5759, time = 19.27 seconds ___\n"
          ],
          "name": "stdout"
        },
        {
          "output_type": "stream",
          "text": [
            "___ batch index = 1000 / 1836 (54.47%), loss = 0.7966, time = 21.45 seconds ___\n"
          ],
          "name": "stdout"
        },
        {
          "output_type": "stream",
          "text": [
            "___ batch index = 1250 / 1836 (68.08%), loss = 0.7729, time = 19.76 seconds ___\n"
          ],
          "name": "stdout"
        },
        {
          "output_type": "stream",
          "text": [
            "___ batch index = 1500 / 1836 (81.70%), loss = 0.7057, time = 19.82 seconds ___\n"
          ],
          "name": "stdout"
        },
        {
          "output_type": "stream",
          "text": [
            "___ batch index = 1750 / 1836 (95.32%), loss = 0.7300, time = 21.14 seconds ___\n"
          ],
          "name": "stdout"
        },
        {
          "output_type": "stream",
          "text": [
            "\n",
            "*** avg_loss : 0.70, time : ~2.0 min (151.70 sec) ***\n",
            "\n"
          ],
          "name": "stdout"
        },
        {
          "output_type": "stream",
          "text": [
            "==> evaluation : avg_loss = 0.68, time : 20.91 sec\n",
            "\n"
          ],
          "name": "stdout"
        },
        {
          "output_type": "stream",
          "text": [
            "threshold:  [0.4659134]\n",
            "=====>\t{'Positive Rate': array([0.43163097], dtype=float32), 'threshold': 0.4659134, 'accuracy': 0.528830313014827, 'f1': 0.5296052631578947, 'recall': 0.6145038167938931, 'specificity': 0.463768115942029, 'default_accuracy': 0.5683690280065898, 'default_f1': 0.2802197802197802, 'default_recall': 0.1946564885496183, 'default_specificity': 0.8521739130434782}\n",
            "\n",
            "=============== EPOCH 3 / 30 ===============\n",
            "\n",
            "___ batch index = 0 / 1836 (0.00%), loss = 0.7542, time = 0.07 seconds ___\n"
          ],
          "name": "stdout"
        },
        {
          "output_type": "stream",
          "text": [
            "___ batch index = 250 / 1836 (13.62%), loss = 0.6621, time = 21.56 seconds ___\n"
          ],
          "name": "stdout"
        },
        {
          "output_type": "stream",
          "text": [
            "___ batch index = 500 / 1836 (27.23%), loss = 0.6203, time = 20.88 seconds ___\n"
          ],
          "name": "stdout"
        },
        {
          "output_type": "stream",
          "text": [
            "___ batch index = 750 / 1836 (40.85%), loss = 0.5860, time = 19.25 seconds ___\n"
          ],
          "name": "stdout"
        },
        {
          "output_type": "stream",
          "text": [
            "___ batch index = 1000 / 1836 (54.47%), loss = 0.7936, time = 21.45 seconds ___\n"
          ],
          "name": "stdout"
        },
        {
          "output_type": "stream",
          "text": [
            "___ batch index = 1250 / 1836 (68.08%), loss = 0.7879, time = 19.75 seconds ___\n"
          ],
          "name": "stdout"
        },
        {
          "output_type": "stream",
          "text": [
            "___ batch index = 1500 / 1836 (81.70%), loss = 0.6835, time = 19.82 seconds ___\n"
          ],
          "name": "stdout"
        },
        {
          "output_type": "stream",
          "text": [
            "___ batch index = 1750 / 1836 (95.32%), loss = 0.7052, time = 21.14 seconds ___\n"
          ],
          "name": "stdout"
        },
        {
          "output_type": "stream",
          "text": [
            "\n",
            "*** avg_loss : 0.69, time : ~2.0 min (151.56 sec) ***\n",
            "\n"
          ],
          "name": "stdout"
        },
        {
          "output_type": "stream",
          "text": [
            "==> evaluation : avg_loss = 0.68, time : 20.94 sec\n",
            "\n"
          ],
          "name": "stdout"
        },
        {
          "output_type": "stream",
          "text": [
            "threshold:  [0.45877716]\n",
            "=====>\t{'Positive Rate': array([0.43163097], dtype=float32), 'threshold': 0.45877716, 'accuracy': 0.528830313014827, 'f1': 0.5296052631578947, 'recall': 0.6145038167938931, 'specificity': 0.463768115942029, 'default_accuracy': 0.5634266886326195, 'default_f1': 0.22287390029325513, 'default_recall': 0.1450381679389313, 'default_specificity': 0.881159420289855}\n",
            "\n",
            "=============== EPOCH 4 / 30 ===============\n",
            "\n",
            "___ batch index = 0 / 1836 (0.00%), loss = 0.7321, time = 0.07 seconds ___\n"
          ],
          "name": "stdout"
        },
        {
          "output_type": "stream",
          "text": [
            "___ batch index = 250 / 1836 (13.62%), loss = 0.6533, time = 21.56 seconds ___\n"
          ],
          "name": "stdout"
        },
        {
          "output_type": "stream",
          "text": [
            "___ batch index = 500 / 1836 (27.23%), loss = 0.6192, time = 20.88 seconds ___\n"
          ],
          "name": "stdout"
        },
        {
          "output_type": "stream",
          "text": [
            "___ batch index = 750 / 1836 (40.85%), loss = 0.5719, time = 19.20 seconds ___\n"
          ],
          "name": "stdout"
        },
        {
          "output_type": "stream",
          "text": [
            "___ batch index = 1000 / 1836 (54.47%), loss = 0.8164, time = 21.50 seconds ___\n"
          ],
          "name": "stdout"
        },
        {
          "output_type": "stream",
          "text": [
            "___ batch index = 1250 / 1836 (68.08%), loss = 0.7762, time = 19.68 seconds ___\n"
          ],
          "name": "stdout"
        },
        {
          "output_type": "stream",
          "text": [
            "___ batch index = 1500 / 1836 (81.70%), loss = 0.7068, time = 19.88 seconds ___\n"
          ],
          "name": "stdout"
        },
        {
          "output_type": "stream",
          "text": [
            "___ batch index = 1750 / 1836 (95.32%), loss = 0.6974, time = 21.09 seconds ___\n"
          ],
          "name": "stdout"
        },
        {
          "output_type": "stream",
          "text": [
            "\n",
            "*** avg_loss : 0.69, time : ~2.0 min (151.51 sec) ***\n",
            "\n"
          ],
          "name": "stdout"
        },
        {
          "output_type": "stream",
          "text": [
            "==> evaluation : avg_loss = 0.68, time : 20.96 sec\n",
            "\n"
          ],
          "name": "stdout"
        },
        {
          "output_type": "stream",
          "text": [
            "threshold:  [0.45702916]\n",
            "=====>\t{'Positive Rate': array([0.43163097], dtype=float32), 'threshold': 0.45702916, 'accuracy': 0.528830313014827, 'f1': 0.5296052631578947, 'recall': 0.6145038167938931, 'specificity': 0.463768115942029, 'default_accuracy': 0.5700164744645799, 'default_f1': 0.22551928783382788, 'default_recall': 0.1450381679389313, 'default_specificity': 0.8927536231884058}\n",
            "\n",
            "=============== EPOCH 5 / 30 ===============\n",
            "\n",
            "___ batch index = 0 / 1836 (0.00%), loss = 0.7634, time = 0.07 seconds ___\n"
          ],
          "name": "stdout"
        },
        {
          "output_type": "stream",
          "text": [
            "___ batch index = 250 / 1836 (13.62%), loss = 0.6453, time = 21.56 seconds ___\n"
          ],
          "name": "stdout"
        },
        {
          "output_type": "stream",
          "text": [
            "___ batch index = 500 / 1836 (27.23%), loss = 0.6101, time = 20.89 seconds ___\n"
          ],
          "name": "stdout"
        },
        {
          "output_type": "stream",
          "text": [
            "___ batch index = 750 / 1836 (40.85%), loss = 0.5630, time = 19.20 seconds ___\n"
          ],
          "name": "stdout"
        },
        {
          "output_type": "stream",
          "text": [
            "___ batch index = 1000 / 1836 (54.47%), loss = 0.7773, time = 21.51 seconds ___\n"
          ],
          "name": "stdout"
        },
        {
          "output_type": "stream",
          "text": [
            "___ batch index = 1250 / 1836 (68.08%), loss = 0.7878, time = 19.69 seconds ___\n"
          ],
          "name": "stdout"
        },
        {
          "output_type": "stream",
          "text": [
            "___ batch index = 1500 / 1836 (81.70%), loss = 0.7132, time = 19.88 seconds ___\n"
          ],
          "name": "stdout"
        },
        {
          "output_type": "stream",
          "text": [
            "___ batch index = 1750 / 1836 (95.32%), loss = 0.6868, time = 21.08 seconds ___\n"
          ],
          "name": "stdout"
        },
        {
          "output_type": "stream",
          "text": [
            "\n",
            "*** avg_loss : 0.68, time : ~2.0 min (151.51 sec) ***\n",
            "\n"
          ],
          "name": "stdout"
        },
        {
          "output_type": "stream",
          "text": [
            "==> evaluation : avg_loss = 0.68, time : 20.97 sec\n",
            "\n"
          ],
          "name": "stdout"
        },
        {
          "output_type": "stream",
          "text": [
            "threshold:  [0.4539807]\n",
            "=====>\t{'Positive Rate': array([0.43163097], dtype=float32), 'threshold': 0.4539807, 'accuracy': 0.5321252059308073, 'f1': 0.5328947368421052, 'recall': 0.6183206106870229, 'specificity': 0.4666666666666667, 'default_accuracy': 0.5733113673805601, 'default_f1': 0.2359882005899705, 'default_recall': 0.15267175572519084, 'default_specificity': 0.8927536231884058}\n",
            "\n",
            "=============== EPOCH 6 / 30 ===============\n",
            "\n",
            "___ batch index = 0 / 1836 (0.00%), loss = 0.7125, time = 0.08 seconds ___\n"
          ],
          "name": "stdout"
        },
        {
          "output_type": "stream",
          "text": [
            "___ batch index = 250 / 1836 (13.62%), loss = 0.6447, time = 21.62 seconds ___\n"
          ],
          "name": "stdout"
        },
        {
          "output_type": "stream",
          "text": [
            "___ batch index = 500 / 1836 (27.23%), loss = 0.5897, time = 20.83 seconds ___\n"
          ],
          "name": "stdout"
        },
        {
          "output_type": "stream",
          "text": [
            "___ batch index = 750 / 1836 (40.85%), loss = 0.5567, time = 19.25 seconds ___\n"
          ],
          "name": "stdout"
        },
        {
          "output_type": "stream",
          "text": [
            "___ batch index = 1000 / 1836 (54.47%), loss = 0.7867, time = 21.46 seconds ___\n"
          ],
          "name": "stdout"
        },
        {
          "output_type": "stream",
          "text": [
            "___ batch index = 1250 / 1836 (68.08%), loss = 0.7702, time = 19.75 seconds ___\n"
          ],
          "name": "stdout"
        },
        {
          "output_type": "stream",
          "text": [
            "___ batch index = 1500 / 1836 (81.70%), loss = 0.7238, time = 19.82 seconds ___\n"
          ],
          "name": "stdout"
        },
        {
          "output_type": "stream",
          "text": [
            "___ batch index = 1750 / 1836 (95.32%), loss = 0.6760, time = 21.15 seconds ___\n"
          ],
          "name": "stdout"
        },
        {
          "output_type": "stream",
          "text": [
            "\n",
            "*** avg_loss : 0.68, time : ~2.0 min (151.60 sec) ***\n",
            "\n"
          ],
          "name": "stdout"
        },
        {
          "output_type": "stream",
          "text": [
            "==> evaluation : avg_loss = 0.68, time : 20.91 sec\n",
            "\n"
          ],
          "name": "stdout"
        },
        {
          "output_type": "stream",
          "text": [
            "threshold:  [0.45222312]\n",
            "=====>\t{'Positive Rate': array([0.43163097], dtype=float32), 'threshold': 0.45222312, 'accuracy': 0.5387149917627677, 'f1': 0.5394736842105263, 'recall': 0.6259541984732825, 'specificity': 0.47246376811594204, 'default_accuracy': 0.5848434925864909, 'default_f1': 0.27586206896551724, 'default_recall': 0.183206106870229, 'default_specificity': 0.8898550724637682}\n",
            "\n",
            "=============== EPOCH 7 / 30 ===============\n",
            "\n",
            "___ batch index = 0 / 1836 (0.00%), loss = 0.7553, time = 0.08 seconds ___\n"
          ],
          "name": "stdout"
        },
        {
          "output_type": "stream",
          "text": [
            "___ batch index = 250 / 1836 (13.62%), loss = 0.6378, time = 21.62 seconds ___\n"
          ],
          "name": "stdout"
        },
        {
          "output_type": "stream",
          "text": [
            "___ batch index = 500 / 1836 (27.23%), loss = 0.5911, time = 20.90 seconds ___\n"
          ],
          "name": "stdout"
        },
        {
          "output_type": "stream",
          "text": [
            "___ batch index = 750 / 1836 (40.85%), loss = 0.5615, time = 19.19 seconds ___\n"
          ],
          "name": "stdout"
        },
        {
          "output_type": "stream",
          "text": [
            "___ batch index = 1000 / 1836 (54.47%), loss = 0.7786, time = 21.51 seconds ___\n"
          ],
          "name": "stdout"
        },
        {
          "output_type": "stream",
          "text": [
            "___ batch index = 1250 / 1836 (68.08%), loss = 0.7699, time = 19.69 seconds ___\n"
          ],
          "name": "stdout"
        },
        {
          "output_type": "stream",
          "text": [
            "___ batch index = 1500 / 1836 (81.70%), loss = 0.7267, time = 19.87 seconds ___\n"
          ],
          "name": "stdout"
        },
        {
          "output_type": "stream",
          "text": [
            "___ batch index = 1750 / 1836 (95.32%), loss = 0.6836, time = 21.09 seconds ___\n"
          ],
          "name": "stdout"
        },
        {
          "output_type": "stream",
          "text": [
            "\n",
            "*** avg_loss : 0.67, time : ~2.0 min (151.59 sec) ***\n",
            "\n"
          ],
          "name": "stdout"
        },
        {
          "output_type": "stream",
          "text": [
            "==> evaluation : avg_loss = 0.67, time : 20.95 sec\n",
            "\n"
          ],
          "name": "stdout"
        },
        {
          "output_type": "stream",
          "text": [
            "threshold:  [0.45205712]\n",
            "=====>\t{'Positive Rate': array([0.43163097], dtype=float32), 'threshold': 0.45205712, 'accuracy': 0.5453047775947282, 'f1': 0.5460526315789473, 'recall': 0.6335877862595419, 'specificity': 0.4782608695652174, 'default_accuracy': 0.5996705107084019, 'default_f1': 0.33057851239669417, 'default_recall': 0.22900763358778625, 'default_specificity': 0.881159420289855}\n",
            "\n",
            "=============== EPOCH 8 / 30 ===============\n",
            "\n",
            "___ batch index = 0 / 1836 (0.00%), loss = 0.6967, time = 0.08 seconds ___\n"
          ],
          "name": "stdout"
        },
        {
          "output_type": "stream",
          "text": [
            "___ batch index = 250 / 1836 (13.62%), loss = 0.6327, time = 21.57 seconds ___\n"
          ],
          "name": "stdout"
        },
        {
          "output_type": "stream",
          "text": [
            "___ batch index = 500 / 1836 (27.23%), loss = 0.5615, time = 20.88 seconds ___\n"
          ],
          "name": "stdout"
        },
        {
          "output_type": "stream",
          "text": [
            "___ batch index = 750 / 1836 (40.85%), loss = 0.5669, time = 19.25 seconds ___\n"
          ],
          "name": "stdout"
        },
        {
          "output_type": "stream",
          "text": [
            "___ batch index = 1000 / 1836 (54.47%), loss = 0.7935, time = 21.52 seconds ___\n"
          ],
          "name": "stdout"
        },
        {
          "output_type": "stream",
          "text": [
            "___ batch index = 1250 / 1836 (68.08%), loss = 0.7817, time = 19.85 seconds ___\n"
          ],
          "name": "stdout"
        },
        {
          "output_type": "stream",
          "text": [
            "___ batch index = 1500 / 1836 (81.70%), loss = 0.7051, time = 19.99 seconds ___\n"
          ],
          "name": "stdout"
        },
        {
          "output_type": "stream",
          "text": [
            "___ batch index = 1750 / 1836 (95.32%), loss = 0.6887, time = 21.19 seconds ___\n"
          ],
          "name": "stdout"
        },
        {
          "output_type": "stream",
          "text": [
            "\n",
            "*** avg_loss : 0.67, time : ~2.0 min (152.01 sec) ***\n",
            "\n"
          ],
          "name": "stdout"
        },
        {
          "output_type": "stream",
          "text": [
            "==> evaluation : avg_loss = 0.67, time : 21.12 sec\n",
            "\n"
          ],
          "name": "stdout"
        },
        {
          "output_type": "stream",
          "text": [
            "threshold:  [0.4529166]\n",
            "=====>\t{'Positive Rate': array([0.43163097], dtype=float32), 'threshold': 0.4529166, 'accuracy': 0.5453047775947282, 'f1': 0.5460526315789473, 'recall': 0.6335877862595419, 'specificity': 0.4782608695652174, 'default_accuracy': 0.6013179571663921, 'default_f1': 0.3631578947368421, 'default_recall': 0.2633587786259542, 'default_specificity': 0.8579710144927536}\n",
            "\n",
            "=============== EPOCH 9 / 30 ===============\n",
            "\n",
            "___ batch index = 0 / 1836 (0.00%), loss = 0.7698, time = 0.08 seconds ___\n"
          ],
          "name": "stdout"
        },
        {
          "output_type": "stream",
          "text": [
            "___ batch index = 250 / 1836 (13.62%), loss = 0.6193, time = 21.76 seconds ___\n"
          ],
          "name": "stdout"
        },
        {
          "output_type": "stream",
          "text": [
            "___ batch index = 500 / 1836 (27.23%), loss = 0.5463, time = 21.00 seconds ___\n"
          ],
          "name": "stdout"
        },
        {
          "output_type": "stream",
          "text": [
            "___ batch index = 750 / 1836 (40.85%), loss = 0.5751, time = 19.30 seconds ___\n"
          ],
          "name": "stdout"
        },
        {
          "output_type": "stream",
          "text": [
            "___ batch index = 1000 / 1836 (54.47%), loss = 0.7825, time = 21.56 seconds ___\n"
          ],
          "name": "stdout"
        },
        {
          "output_type": "stream",
          "text": [
            "___ batch index = 1250 / 1836 (68.08%), loss = 0.7474, time = 19.87 seconds ___\n"
          ],
          "name": "stdout"
        },
        {
          "output_type": "stream",
          "text": [
            "___ batch index = 1500 / 1836 (81.70%), loss = 0.7038, time = 19.93 seconds ___\n"
          ],
          "name": "stdout"
        },
        {
          "output_type": "stream",
          "text": [
            "___ batch index = 1750 / 1836 (95.32%), loss = 0.6723, time = 21.25 seconds ___\n"
          ],
          "name": "stdout"
        },
        {
          "output_type": "stream",
          "text": [
            "\n",
            "*** avg_loss : 0.66, time : ~2.0 min (152.42 sec) ***\n",
            "\n"
          ],
          "name": "stdout"
        },
        {
          "output_type": "stream",
          "text": [
            "==> evaluation : avg_loss = 0.67, time : 21.14 sec\n",
            "\n"
          ],
          "name": "stdout"
        },
        {
          "output_type": "stream",
          "text": [
            "threshold:  [0.45053157]\n",
            "=====>\t{'Positive Rate': array([0.43163097], dtype=float32), 'threshold': 0.45053157, 'accuracy': 0.5420098846787479, 'f1': 0.542763157894737, 'recall': 0.6297709923664122, 'specificity': 0.4753623188405797, 'default_accuracy': 0.5897858319604613, 'default_f1': 0.3882063882063882, 'default_recall': 0.3015267175572519, 'default_specificity': 0.808695652173913}\n",
            "\n",
            "=============== EPOCH 10 / 30 ===============\n",
            "\n",
            "___ batch index = 0 / 1836 (0.00%), loss = 0.7462, time = 0.08 seconds ___\n"
          ],
          "name": "stdout"
        },
        {
          "output_type": "stream",
          "text": [
            "___ batch index = 250 / 1836 (13.62%), loss = 0.6318, time = 21.69 seconds ___\n"
          ],
          "name": "stdout"
        },
        {
          "output_type": "stream",
          "text": [
            "___ batch index = 500 / 1836 (27.23%), loss = 0.5631, time = 21.00 seconds ___\n"
          ],
          "name": "stdout"
        },
        {
          "output_type": "stream",
          "text": [
            "___ batch index = 750 / 1836 (40.85%), loss = 0.5793, time = 19.30 seconds ___\n"
          ],
          "name": "stdout"
        },
        {
          "output_type": "stream",
          "text": [
            "___ batch index = 1000 / 1836 (54.47%), loss = 0.7679, time = 21.56 seconds ___\n"
          ],
          "name": "stdout"
        },
        {
          "output_type": "stream",
          "text": [
            "___ batch index = 1250 / 1836 (68.08%), loss = 0.7627, time = 19.86 seconds ___\n"
          ],
          "name": "stdout"
        },
        {
          "output_type": "stream",
          "text": [
            "___ batch index = 1500 / 1836 (81.70%), loss = 0.6800, time = 19.99 seconds ___\n"
          ],
          "name": "stdout"
        },
        {
          "output_type": "stream",
          "text": [
            "___ batch index = 1750 / 1836 (95.32%), loss = 0.7039, time = 21.19 seconds ___\n"
          ],
          "name": "stdout"
        },
        {
          "output_type": "stream",
          "text": [
            "\n",
            "*** avg_loss : 0.66, time : ~2.0 min (152.34 sec) ***\n",
            "\n"
          ],
          "name": "stdout"
        },
        {
          "output_type": "stream",
          "text": [
            "==> evaluation : avg_loss = 0.67, time : 21.13 sec\n",
            "\n"
          ],
          "name": "stdout"
        },
        {
          "output_type": "stream",
          "text": [
            "threshold:  [0.44886583]\n",
            "=====>\t{'Positive Rate': array([0.43163097], dtype=float32), 'threshold': 0.44886583, 'accuracy': 0.5453047775947282, 'f1': 0.5460526315789473, 'recall': 0.6335877862595419, 'specificity': 0.4782608695652174, 'default_accuracy': 0.5815485996705108, 'default_f1': 0.3981042654028436, 'default_recall': 0.32061068702290074, 'default_specificity': 0.7797101449275362}\n",
            "\n",
            "=============== EPOCH 11 / 30 ===============\n",
            "\n",
            "___ batch index = 0 / 1836 (0.00%), loss = 0.7075, time = 0.08 seconds ___\n"
          ],
          "name": "stdout"
        },
        {
          "output_type": "stream",
          "text": [
            "___ batch index = 250 / 1836 (13.62%), loss = 0.6024, time = 21.69 seconds ___\n"
          ],
          "name": "stdout"
        },
        {
          "output_type": "stream",
          "text": [
            "___ batch index = 500 / 1836 (27.23%), loss = 0.5414, time = 21.00 seconds ___\n"
          ],
          "name": "stdout"
        },
        {
          "output_type": "stream",
          "text": [
            "___ batch index = 750 / 1836 (40.85%), loss = 0.5869, time = 19.31 seconds ___\n"
          ],
          "name": "stdout"
        },
        {
          "output_type": "stream",
          "text": [
            "___ batch index = 1000 / 1836 (54.47%), loss = 0.7542, time = 21.62 seconds ___\n"
          ],
          "name": "stdout"
        },
        {
          "output_type": "stream",
          "text": [
            "___ batch index = 1250 / 1836 (68.08%), loss = 0.7196, time = 19.85 seconds ___\n"
          ],
          "name": "stdout"
        },
        {
          "output_type": "stream",
          "text": [
            "___ batch index = 1500 / 1836 (81.70%), loss = 0.6625, time = 19.93 seconds ___\n"
          ],
          "name": "stdout"
        },
        {
          "output_type": "stream",
          "text": [
            "___ batch index = 1750 / 1836 (95.32%), loss = 0.7002, time = 21.26 seconds ___\n"
          ],
          "name": "stdout"
        },
        {
          "output_type": "stream",
          "text": [
            "\n",
            "*** avg_loss : 0.64, time : ~2.0 min (152.41 sec) ***\n",
            "\n"
          ],
          "name": "stdout"
        },
        {
          "output_type": "stream",
          "text": [
            "==> evaluation : avg_loss = 0.67, time : 21.08 sec\n",
            "\n"
          ],
          "name": "stdout"
        },
        {
          "output_type": "stream",
          "text": [
            "threshold:  [0.44945788]\n",
            "=====>\t{'Positive Rate': array([0.43163097], dtype=float32), 'threshold': 0.44945788, 'accuracy': 0.5551894563426688, 'f1': 0.5559210526315789, 'recall': 0.6450381679389313, 'specificity': 0.48695652173913045, 'default_accuracy': 0.5782537067545305, 'default_f1': 0.4260089686098655, 'default_recall': 0.36259541984732824, 'default_specificity': 0.7420289855072464}\n",
            "\n",
            "=============== EPOCH 12 / 30 ===============\n",
            "\n",
            "___ batch index = 0 / 1836 (0.00%), loss = 0.7590, time = 0.08 seconds ___\n"
          ],
          "name": "stdout"
        },
        {
          "output_type": "stream",
          "text": [
            "___ batch index = 250 / 1836 (13.62%), loss = 0.6165, time = 21.68 seconds ___\n"
          ],
          "name": "stdout"
        },
        {
          "output_type": "stream",
          "text": [
            "___ batch index = 500 / 1836 (27.23%), loss = 0.5176, time = 21.00 seconds ___\n"
          ],
          "name": "stdout"
        },
        {
          "output_type": "stream",
          "text": [
            "___ batch index = 750 / 1836 (40.85%), loss = 0.5749, time = 19.36 seconds ___\n"
          ],
          "name": "stdout"
        },
        {
          "output_type": "stream",
          "text": [
            "___ batch index = 1000 / 1836 (54.47%), loss = 0.7610, time = 21.56 seconds ___\n"
          ],
          "name": "stdout"
        },
        {
          "output_type": "stream",
          "text": [
            "___ batch index = 1250 / 1836 (68.08%), loss = 0.7295, time = 19.93 seconds ___\n"
          ],
          "name": "stdout"
        },
        {
          "output_type": "stream",
          "text": [
            "___ batch index = 1500 / 1836 (81.70%), loss = 0.6641, time = 20.01 seconds ___\n"
          ],
          "name": "stdout"
        },
        {
          "output_type": "stream",
          "text": [
            "___ batch index = 1750 / 1836 (95.32%), loss = 0.6870, time = 21.34 seconds ___\n"
          ],
          "name": "stdout"
        },
        {
          "output_type": "stream",
          "text": [
            "\n",
            "*** avg_loss : 0.64, time : ~2.0 min (152.68 sec) ***\n",
            "\n"
          ],
          "name": "stdout"
        },
        {
          "output_type": "stream",
          "text": [
            "==> evaluation : avg_loss = 0.66, time : 21.12 sec\n",
            "\n"
          ],
          "name": "stdout"
        },
        {
          "output_type": "stream",
          "text": [
            "threshold:  [0.44568872]\n",
            "=====>\t{'Positive Rate': array([0.43163097], dtype=float32), 'threshold': 0.44568872, 'accuracy': 0.5551894563426688, 'f1': 0.5559210526315789, 'recall': 0.6450381679389313, 'specificity': 0.48695652173913045, 'default_accuracy': 0.5831960461285008, 'default_f1': 0.4390243902439025, 'default_recall': 0.37786259541984735, 'default_specificity': 0.7391304347826086}\n",
            "\n",
            "=============== EPOCH 13 / 30 ===============\n",
            "\n",
            "___ batch index = 0 / 1836 (0.00%), loss = 0.7273, time = 0.08 seconds ___\n"
          ],
          "name": "stdout"
        },
        {
          "output_type": "stream",
          "text": [
            "___ batch index = 250 / 1836 (13.62%), loss = 0.5860, time = 21.78 seconds ___\n"
          ],
          "name": "stdout"
        },
        {
          "output_type": "stream",
          "text": [
            "___ batch index = 500 / 1836 (27.23%), loss = 0.5280, time = 21.08 seconds ___\n"
          ],
          "name": "stdout"
        },
        {
          "output_type": "stream",
          "text": [
            "___ batch index = 750 / 1836 (40.85%), loss = 0.5552, time = 19.39 seconds ___\n"
          ],
          "name": "stdout"
        },
        {
          "output_type": "stream",
          "text": [
            "___ batch index = 1000 / 1836 (54.47%), loss = 0.7547, time = 21.71 seconds ___\n"
          ],
          "name": "stdout"
        },
        {
          "output_type": "stream",
          "text": [
            "___ batch index = 1250 / 1836 (68.08%), loss = 0.7367, time = 19.88 seconds ___\n"
          ],
          "name": "stdout"
        },
        {
          "output_type": "stream",
          "text": [
            "___ batch index = 1500 / 1836 (81.70%), loss = 0.6508, time = 20.07 seconds ___\n"
          ],
          "name": "stdout"
        },
        {
          "output_type": "stream",
          "text": [
            "___ batch index = 1750 / 1836 (95.32%), loss = 0.7040, time = 21.28 seconds ___\n"
          ],
          "name": "stdout"
        },
        {
          "output_type": "stream",
          "text": [
            "\n",
            "*** avg_loss : 0.63, time : ~2.0 min (152.98 sec) ***\n",
            "\n"
          ],
          "name": "stdout"
        },
        {
          "output_type": "stream",
          "text": [
            "==> evaluation : avg_loss = 0.66, time : 21.13 sec\n",
            "\n"
          ],
          "name": "stdout"
        },
        {
          "output_type": "stream",
          "text": [
            "threshold:  [0.4456721]\n",
            "=====>\t{'Positive Rate': array([0.43163097], dtype=float32), 'threshold': 0.4456721, 'accuracy': 0.5617792421746294, 'f1': 0.5625, 'recall': 0.6526717557251909, 'specificity': 0.4927536231884058, 'default_accuracy': 0.5848434925864909, 'default_f1': 0.45689655172413796, 'default_recall': 0.40458015267175573, 'default_specificity': 0.7217391304347827}\n",
            "\n",
            "=============== EPOCH 14 / 30 ===============\n",
            "\n",
            "___ batch index = 0 / 1836 (0.00%), loss = 0.6327, time = 0.08 seconds ___\n"
          ],
          "name": "stdout"
        },
        {
          "output_type": "stream",
          "text": [
            "___ batch index = 250 / 1836 (13.62%), loss = 0.5846, time = 21.77 seconds ___\n"
          ],
          "name": "stdout"
        },
        {
          "output_type": "stream",
          "text": [
            "___ batch index = 500 / 1836 (27.23%), loss = 0.5138, time = 21.08 seconds ___\n"
          ],
          "name": "stdout"
        },
        {
          "output_type": "stream",
          "text": [
            "___ batch index = 750 / 1836 (40.85%), loss = 0.5481, time = 19.39 seconds ___\n"
          ],
          "name": "stdout"
        },
        {
          "output_type": "stream",
          "text": [
            "___ batch index = 1000 / 1836 (54.47%), loss = 0.7089, time = 21.71 seconds ___\n"
          ],
          "name": "stdout"
        },
        {
          "output_type": "stream",
          "text": [
            "___ batch index = 1250 / 1836 (68.08%), loss = 0.7063, time = 19.89 seconds ___\n"
          ],
          "name": "stdout"
        },
        {
          "output_type": "stream",
          "text": [
            "___ batch index = 1500 / 1836 (81.70%), loss = 0.6452, time = 20.08 seconds ___\n"
          ],
          "name": "stdout"
        },
        {
          "output_type": "stream",
          "text": [
            "___ batch index = 1750 / 1836 (95.32%), loss = 0.6581, time = 21.29 seconds ___\n"
          ],
          "name": "stdout"
        },
        {
          "output_type": "stream",
          "text": [
            "\n",
            "*** avg_loss : 0.61, time : ~2.0 min (153.02 sec) ***\n",
            "\n"
          ],
          "name": "stdout"
        },
        {
          "output_type": "stream",
          "text": [
            "==> evaluation : avg_loss = 0.66, time : 21.14 sec\n",
            "\n"
          ],
          "name": "stdout"
        },
        {
          "output_type": "stream",
          "text": [
            "threshold:  [0.44445825]\n",
            "=====>\t{'Positive Rate': array([0.43163097], dtype=float32), 'threshold': 0.44445825, 'accuracy': 0.5650741350906096, 'f1': 0.5657894736842104, 'recall': 0.6564885496183206, 'specificity': 0.4956521739130435, 'default_accuracy': 0.5980230642504119, 'default_f1': 0.4895397489539749, 'default_recall': 0.44656488549618323, 'default_specificity': 0.7130434782608696}\n",
            "\n",
            "=============== EPOCH 15 / 30 ===============\n",
            "\n",
            "___ batch index = 0 / 1836 (0.00%), loss = 0.6042, time = 0.08 seconds ___\n"
          ],
          "name": "stdout"
        },
        {
          "output_type": "stream",
          "text": [
            "___ batch index = 250 / 1836 (13.62%), loss = 0.5694, time = 21.84 seconds ___\n"
          ],
          "name": "stdout"
        },
        {
          "output_type": "stream",
          "text": [
            "___ batch index = 500 / 1836 (27.23%), loss = 0.4577, time = 21.04 seconds ___\n"
          ],
          "name": "stdout"
        },
        {
          "output_type": "stream",
          "text": [
            "___ batch index = 750 / 1836 (40.85%), loss = 0.5568, time = 19.46 seconds ___\n"
          ],
          "name": "stdout"
        },
        {
          "output_type": "stream",
          "text": [
            "___ batch index = 1000 / 1836 (54.47%), loss = 0.7040, time = 21.66 seconds ___\n"
          ],
          "name": "stdout"
        },
        {
          "output_type": "stream",
          "text": [
            "___ batch index = 1250 / 1836 (68.08%), loss = 0.7148, time = 19.95 seconds ___\n"
          ],
          "name": "stdout"
        },
        {
          "output_type": "stream",
          "text": [
            "___ batch index = 1500 / 1836 (81.70%), loss = 0.6326, time = 20.02 seconds ___\n"
          ],
          "name": "stdout"
        },
        {
          "output_type": "stream",
          "text": [
            "___ batch index = 1750 / 1836 (95.32%), loss = 0.6868, time = 21.36 seconds ___\n"
          ],
          "name": "stdout"
        },
        {
          "output_type": "stream",
          "text": [
            "\n",
            "*** avg_loss : 0.60, time : ~2.0 min (153.13 sec) ***\n",
            "\n"
          ],
          "name": "stdout"
        },
        {
          "output_type": "stream",
          "text": [
            "==> evaluation : avg_loss = 0.66, time : 21.07 sec\n",
            "\n"
          ],
          "name": "stdout"
        },
        {
          "output_type": "stream",
          "text": [
            "threshold:  [0.44467717]\n",
            "=====>\t{'Positive Rate': array([0.43163097], dtype=float32), 'threshold': 0.44467717, 'accuracy': 0.57166392092257, 'f1': 0.5723684210526316, 'recall': 0.6641221374045801, 'specificity': 0.5014492753623189, 'default_accuracy': 0.6079077429983526, 'default_f1': 0.524, 'default_recall': 0.5, 'default_specificity': 0.6898550724637681}\n",
            "\n",
            "=============== EPOCH 16 / 30 ===============\n",
            "\n",
            "___ batch index = 0 / 1836 (0.00%), loss = 0.6389, time = 0.08 seconds ___\n"
          ],
          "name": "stdout"
        },
        {
          "output_type": "stream",
          "text": [
            "___ batch index = 250 / 1836 (13.62%), loss = 0.5883, time = 21.84 seconds ___\n"
          ],
          "name": "stdout"
        },
        {
          "output_type": "stream",
          "text": [
            "___ batch index = 500 / 1836 (27.23%), loss = 0.4414, time = 21.09 seconds ___\n"
          ],
          "name": "stdout"
        },
        {
          "output_type": "stream",
          "text": [
            "___ batch index = 750 / 1836 (40.85%), loss = 0.5744, time = 19.40 seconds ___\n"
          ],
          "name": "stdout"
        },
        {
          "output_type": "stream",
          "text": [
            "___ batch index = 1000 / 1836 (54.47%), loss = 0.6731, time = 21.72 seconds ___\n"
          ],
          "name": "stdout"
        },
        {
          "output_type": "stream",
          "text": [
            "___ batch index = 1250 / 1836 (68.08%), loss = 0.6856, time = 19.89 seconds ___\n"
          ],
          "name": "stdout"
        },
        {
          "output_type": "stream",
          "text": [
            "___ batch index = 1500 / 1836 (81.70%), loss = 0.5382, time = 20.08 seconds ___\n"
          ],
          "name": "stdout"
        },
        {
          "output_type": "stream",
          "text": [
            "___ batch index = 1750 / 1836 (95.32%), loss = 0.6496, time = 21.30 seconds ___\n"
          ],
          "name": "stdout"
        },
        {
          "output_type": "stream",
          "text": [
            "\n",
            "*** avg_loss : 0.58, time : ~2.0 min (153.12 sec) ***\n",
            "\n"
          ],
          "name": "stdout"
        },
        {
          "output_type": "stream",
          "text": [
            "==> evaluation : avg_loss = 0.66, time : 21.13 sec\n",
            "\n"
          ],
          "name": "stdout"
        },
        {
          "output_type": "stream",
          "text": [
            "threshold:  [0.44248217]\n",
            "=====>\t{'Positive Rate': array([0.43163097], dtype=float32), 'threshold': 0.44248217, 'accuracy': 0.5749588138385503, 'f1': 0.5756578947368421, 'recall': 0.6679389312977099, 'specificity': 0.5043478260869565, 'default_accuracy': 0.6112026359143328, 'default_f1': 0.5335968379446641, 'default_recall': 0.5152671755725191, 'default_specificity': 0.6840579710144927}\n",
            "\n",
            "=============== EPOCH 17 / 30 ===============\n",
            "\n",
            "___ batch index = 0 / 1836 (0.00%), loss = 0.5573, time = 0.08 seconds ___\n"
          ],
          "name": "stdout"
        },
        {
          "output_type": "stream",
          "text": [
            "___ batch index = 250 / 1836 (13.62%), loss = 0.5494, time = 21.78 seconds ___\n"
          ],
          "name": "stdout"
        },
        {
          "output_type": "stream",
          "text": [
            "___ batch index = 500 / 1836 (27.23%), loss = 0.4240, time = 21.09 seconds ___\n"
          ],
          "name": "stdout"
        },
        {
          "output_type": "stream",
          "text": [
            "___ batch index = 750 / 1836 (40.85%), loss = 0.5449, time = 19.46 seconds ___\n"
          ],
          "name": "stdout"
        },
        {
          "output_type": "stream",
          "text": [
            "___ batch index = 1000 / 1836 (54.47%), loss = 0.6769, time = 21.66 seconds ___\n"
          ],
          "name": "stdout"
        },
        {
          "output_type": "stream",
          "text": [
            "___ batch index = 1250 / 1836 (68.08%), loss = 0.6843, time = 19.95 seconds ___\n"
          ],
          "name": "stdout"
        },
        {
          "output_type": "stream",
          "text": [
            "___ batch index = 1500 / 1836 (81.70%), loss = 0.5812, time = 20.08 seconds ___\n"
          ],
          "name": "stdout"
        },
        {
          "output_type": "stream",
          "text": [
            "___ batch index = 1750 / 1836 (95.32%), loss = 0.6799, time = 21.29 seconds ___\n"
          ],
          "name": "stdout"
        },
        {
          "output_type": "stream",
          "text": [
            "\n",
            "*** avg_loss : 0.57, time : ~2.0 min (153.11 sec) ***\n",
            "\n"
          ],
          "name": "stdout"
        },
        {
          "output_type": "stream",
          "text": [
            "==> evaluation : avg_loss = 0.66, time : 21.14 sec\n",
            "\n"
          ],
          "name": "stdout"
        },
        {
          "output_type": "stream",
          "text": [
            "threshold:  [0.43032494]\n",
            "=====>\t{'Positive Rate': array([0.43163097], dtype=float32), 'threshold': 0.43032494, 'accuracy': 0.5815485996705108, 'f1': 0.582236842105263, 'recall': 0.6755725190839694, 'specificity': 0.5101449275362319, 'default_accuracy': 0.6243822075782537, 'default_f1': 0.5403225806451614, 'default_recall': 0.5114503816793893, 'default_specificity': 0.7101449275362319}\n",
            "\n",
            "=============== EPOCH 18 / 30 ===============\n",
            "\n",
            "___ batch index = 0 / 1836 (0.00%), loss = 0.5885, time = 0.08 seconds ___\n"
          ],
          "name": "stdout"
        },
        {
          "output_type": "stream",
          "text": [
            "___ batch index = 250 / 1836 (13.62%), loss = 0.5141, time = 21.85 seconds ___\n"
          ],
          "name": "stdout"
        },
        {
          "output_type": "stream",
          "text": [
            "___ batch index = 500 / 1836 (27.23%), loss = 0.4336, time = 21.09 seconds ___\n"
          ],
          "name": "stdout"
        },
        {
          "output_type": "stream",
          "text": [
            "___ batch index = 750 / 1836 (40.85%), loss = 0.5771, time = 19.40 seconds ___\n"
          ],
          "name": "stdout"
        },
        {
          "output_type": "stream",
          "text": [
            "___ batch index = 1000 / 1836 (54.47%), loss = 0.6789, time = 21.71 seconds ___\n"
          ],
          "name": "stdout"
        },
        {
          "output_type": "stream",
          "text": [
            "___ batch index = 1250 / 1836 (68.08%), loss = 0.6664, time = 20.03 seconds ___\n"
          ],
          "name": "stdout"
        },
        {
          "output_type": "stream",
          "text": [
            "___ batch index = 1500 / 1836 (81.70%), loss = 0.5984, time = 20.09 seconds ___\n"
          ],
          "name": "stdout"
        },
        {
          "output_type": "stream",
          "text": [
            "___ batch index = 1750 / 1836 (95.32%), loss = 0.6531, time = 21.42 seconds ___\n"
          ],
          "name": "stdout"
        },
        {
          "output_type": "stream",
          "text": [
            "\n",
            "*** avg_loss : 0.55, time : ~2.0 min (153.42 sec) ***\n",
            "\n"
          ],
          "name": "stdout"
        },
        {
          "output_type": "stream",
          "text": [
            "==> evaluation : avg_loss = 0.65, time : 21.25 sec\n",
            "\n"
          ],
          "name": "stdout"
        },
        {
          "output_type": "stream",
          "text": [
            "threshold:  [0.43072572]\n",
            "=====>\t{'Positive Rate': array([0.43163097], dtype=float32), 'threshold': 0.43072572, 'accuracy': 0.5848434925864909, 'f1': 0.5855263157894737, 'recall': 0.6793893129770993, 'specificity': 0.5130434782608696, 'default_accuracy': 0.6144975288303131, 'default_f1': 0.5375494071146244, 'default_recall': 0.5190839694656488, 'default_specificity': 0.6869565217391305}\n",
            "\n",
            "=============== EPOCH 19 / 30 ===============\n",
            "\n",
            "___ batch index = 0 / 1836 (0.00%), loss = 0.7717, time = 0.08 seconds ___\n"
          ],
          "name": "stdout"
        },
        {
          "output_type": "stream",
          "text": [
            "___ batch index = 250 / 1836 (13.62%), loss = 0.5264, time = 21.86 seconds ___\n"
          ],
          "name": "stdout"
        },
        {
          "output_type": "stream",
          "text": [
            "___ batch index = 500 / 1836 (27.23%), loss = 0.4549, time = 21.16 seconds ___\n"
          ],
          "name": "stdout"
        },
        {
          "output_type": "stream",
          "text": [
            "___ batch index = 750 / 1836 (40.85%), loss = 0.5451, time = 19.43 seconds ___\n"
          ],
          "name": "stdout"
        },
        {
          "output_type": "stream",
          "text": [
            "___ batch index = 1000 / 1836 (54.47%), loss = 0.6125, time = 21.69 seconds ___\n"
          ],
          "name": "stdout"
        },
        {
          "output_type": "stream",
          "text": [
            "___ batch index = 1250 / 1836 (68.08%), loss = 0.6597, time = 19.98 seconds ___\n"
          ],
          "name": "stdout"
        },
        {
          "output_type": "stream",
          "text": [
            "___ batch index = 1500 / 1836 (81.70%), loss = 0.5528, time = 20.12 seconds ___\n"
          ],
          "name": "stdout"
        },
        {
          "output_type": "stream",
          "text": [
            "___ batch index = 1750 / 1836 (95.32%), loss = 0.6412, time = 21.32 seconds ___\n"
          ],
          "name": "stdout"
        },
        {
          "output_type": "stream",
          "text": [
            "\n",
            "*** avg_loss : 0.54, time : ~2.0 min (153.37 sec) ***\n",
            "\n"
          ],
          "name": "stdout"
        },
        {
          "output_type": "stream",
          "text": [
            "==> evaluation : avg_loss = 0.65, time : 21.30 sec\n",
            "\n"
          ],
          "name": "stdout"
        },
        {
          "output_type": "stream",
          "text": [
            "threshold:  [0.4356404]\n",
            "=====>\t{'Positive Rate': array([0.43163097], dtype=float32), 'threshold': 0.4356404, 'accuracy': 0.5881383855024712, 'f1': 0.5888157894736842, 'recall': 0.683206106870229, 'specificity': 0.5159420289855072, 'default_accuracy': 0.6079077429983526, 'default_f1': 0.5475285171102661, 'default_recall': 0.549618320610687, 'default_specificity': 0.6521739130434783}\n",
            "\n",
            "=============== EPOCH 20 / 30 ===============\n",
            "\n",
            "___ batch index = 0 / 1836 (0.00%), loss = 0.4586, time = 0.08 seconds ___\n"
          ],
          "name": "stdout"
        },
        {
          "output_type": "stream",
          "text": [
            "___ batch index = 250 / 1836 (13.62%), loss = 0.5220, time = 21.81 seconds ___\n"
          ],
          "name": "stdout"
        },
        {
          "output_type": "stream",
          "text": [
            "___ batch index = 500 / 1836 (27.23%), loss = 0.3630, time = 21.13 seconds ___\n"
          ],
          "name": "stdout"
        },
        {
          "output_type": "stream",
          "text": [
            "___ batch index = 750 / 1836 (40.85%), loss = 0.5545, time = 19.43 seconds ___\n"
          ],
          "name": "stdout"
        },
        {
          "output_type": "stream",
          "text": [
            "___ batch index = 1000 / 1836 (54.47%), loss = 0.5857, time = 21.75 seconds ___\n"
          ],
          "name": "stdout"
        },
        {
          "output_type": "stream",
          "text": [
            "___ batch index = 1250 / 1836 (68.08%), loss = 0.5648, time = 19.98 seconds ___\n"
          ],
          "name": "stdout"
        },
        {
          "output_type": "stream",
          "text": [
            "___ batch index = 1500 / 1836 (81.70%), loss = 0.5212, time = 19.94 seconds ___\n"
          ],
          "name": "stdout"
        },
        {
          "output_type": "stream",
          "text": [
            "___ batch index = 1750 / 1836 (95.32%), loss = 0.6174, time = 21.21 seconds ___\n"
          ],
          "name": "stdout"
        },
        {
          "output_type": "stream",
          "text": [
            "\n",
            "*** avg_loss : 0.52, time : ~2.0 min (153.01 sec) ***\n",
            "\n"
          ],
          "name": "stdout"
        },
        {
          "output_type": "stream",
          "text": [
            "==> evaluation : avg_loss = 0.65, time : 20.92 sec\n",
            "\n"
          ],
          "name": "stdout"
        },
        {
          "output_type": "stream",
          "text": [
            "threshold:  [0.41583705]\n",
            "=====>\t{'Positive Rate': array([0.43163097], dtype=float32), 'threshold': 0.41583705, 'accuracy': 0.5980230642504119, 'f1': 0.5986842105263158, 'recall': 0.6946564885496184, 'specificity': 0.5246376811594203, 'default_accuracy': 0.6227347611202636, 'default_f1': 0.5429141716566865, 'default_recall': 0.5190839694656488, 'default_specificity': 0.7014492753623188}\n",
            "\n",
            "=============== EPOCH 21 / 30 ===============\n",
            "\n",
            "___ batch index = 0 / 1836 (0.00%), loss = 0.3381, time = 0.08 seconds ___\n"
          ],
          "name": "stdout"
        },
        {
          "output_type": "stream",
          "text": [
            "___ batch index = 250 / 1836 (13.62%), loss = 0.4634, time = 21.65 seconds ___\n"
          ],
          "name": "stdout"
        },
        {
          "output_type": "stream",
          "text": [
            "___ batch index = 500 / 1836 (27.23%), loss = 0.3984, time = 20.95 seconds ___\n"
          ],
          "name": "stdout"
        },
        {
          "output_type": "stream",
          "text": [
            "___ batch index = 750 / 1836 (40.85%), loss = 0.5696, time = 19.31 seconds ___\n"
          ],
          "name": "stdout"
        },
        {
          "output_type": "stream",
          "text": [
            "___ batch index = 1000 / 1836 (54.47%), loss = 0.5617, time = 21.52 seconds ___\n"
          ],
          "name": "stdout"
        },
        {
          "output_type": "stream",
          "text": [
            "___ batch index = 1250 / 1836 (68.08%), loss = 0.5809, time = 19.81 seconds ___\n"
          ],
          "name": "stdout"
        },
        {
          "output_type": "stream",
          "text": [
            "___ batch index = 1500 / 1836 (81.70%), loss = 0.4997, time = 19.88 seconds ___\n"
          ],
          "name": "stdout"
        },
        {
          "output_type": "stream",
          "text": [
            "___ batch index = 1750 / 1836 (95.32%), loss = 0.6756, time = 21.21 seconds ___\n"
          ],
          "name": "stdout"
        },
        {
          "output_type": "stream",
          "text": [
            "\n",
            "*** avg_loss : 0.50, time : ~2.0 min (152.09 sec) ***\n",
            "\n"
          ],
          "name": "stdout"
        },
        {
          "output_type": "stream",
          "text": [
            "==> evaluation : avg_loss = 0.66, time : 20.96 sec\n",
            "\n"
          ],
          "name": "stdout"
        },
        {
          "output_type": "stream",
          "text": [
            "threshold:  [0.40777573]\n",
            "=====>\t{'Positive Rate': array([0.43163097], dtype=float32), 'threshold': 0.40777573, 'accuracy': 0.5947281713344317, 'f1': 0.5953947368421053, 'recall': 0.6908396946564885, 'specificity': 0.5217391304347826, 'default_accuracy': 0.6210873146622735, 'default_f1': 0.5490196078431372, 'default_recall': 0.5343511450381679, 'default_specificity': 0.6869565217391305}\n",
            "\n",
            "=============== EPOCH 22 / 30 ===============\n",
            "\n",
            "___ batch index = 0 / 1836 (0.00%), loss = 0.3597, time = 0.08 seconds ___\n"
          ],
          "name": "stdout"
        },
        {
          "output_type": "stream",
          "text": [
            "___ batch index = 250 / 1836 (13.62%), loss = 0.4712, time = 21.65 seconds ___\n"
          ],
          "name": "stdout"
        },
        {
          "output_type": "stream",
          "text": [
            "___ batch index = 500 / 1836 (27.23%), loss = 0.3280, time = 20.95 seconds ___\n"
          ],
          "name": "stdout"
        },
        {
          "output_type": "stream",
          "text": [
            "___ batch index = 750 / 1836 (40.85%), loss = 0.5092, time = 19.25 seconds ___\n"
          ],
          "name": "stdout"
        },
        {
          "output_type": "stream",
          "text": [
            "___ batch index = 1000 / 1836 (54.47%), loss = 0.5819, time = 21.57 seconds ___\n"
          ],
          "name": "stdout"
        },
        {
          "output_type": "stream",
          "text": [
            "___ batch index = 1250 / 1836 (68.08%), loss = 0.5437, time = 19.75 seconds ___\n"
          ],
          "name": "stdout"
        },
        {
          "output_type": "stream",
          "text": [
            "___ batch index = 1500 / 1836 (81.70%), loss = 0.5057, time = 19.94 seconds ___\n"
          ],
          "name": "stdout"
        },
        {
          "output_type": "stream",
          "text": [
            "___ batch index = 1750 / 1836 (95.32%), loss = 0.5858, time = 21.15 seconds ___\n"
          ],
          "name": "stdout"
        },
        {
          "output_type": "stream",
          "text": [
            "\n",
            "*** avg_loss : 0.48, time : ~2.0 min (152.02 sec) ***\n",
            "\n"
          ],
          "name": "stdout"
        },
        {
          "output_type": "stream",
          "text": [
            "==> evaluation : avg_loss = 0.66, time : 20.96 sec\n",
            "\n"
          ],
          "name": "stdout"
        },
        {
          "output_type": "stream",
          "text": [
            "threshold:  [0.41436282]\n",
            "=====>\t{'Positive Rate': array([0.43163097], dtype=float32), 'threshold': 0.41436282, 'accuracy': 0.5881383855024712, 'f1': 0.5888157894736842, 'recall': 0.683206106870229, 'specificity': 0.5159420289855072, 'default_accuracy': 0.6194398682042833, 'default_f1': 0.56, 'default_recall': 0.5610687022900763, 'default_specificity': 0.663768115942029}\n",
            "\n",
            "=============== EPOCH 23 / 30 ===============\n",
            "\n",
            "___ batch index = 0 / 1836 (0.00%), loss = 0.3306, time = 0.08 seconds ___\n"
          ],
          "name": "stdout"
        },
        {
          "output_type": "stream",
          "text": [
            "___ batch index = 250 / 1836 (13.62%), loss = 0.3655, time = 21.64 seconds ___\n"
          ],
          "name": "stdout"
        },
        {
          "output_type": "stream",
          "text": [
            "___ batch index = 500 / 1836 (27.23%), loss = 0.3287, time = 20.95 seconds ___\n"
          ],
          "name": "stdout"
        },
        {
          "output_type": "stream",
          "text": [
            "___ batch index = 750 / 1836 (40.85%), loss = 0.3405, time = 19.26 seconds ___\n"
          ],
          "name": "stdout"
        },
        {
          "output_type": "stream",
          "text": [
            "___ batch index = 1000 / 1836 (54.47%), loss = 0.5589, time = 21.58 seconds ___\n"
          ],
          "name": "stdout"
        },
        {
          "output_type": "stream",
          "text": [
            "___ batch index = 1250 / 1836 (68.08%), loss = 0.5269, time = 19.75 seconds ___\n"
          ],
          "name": "stdout"
        },
        {
          "output_type": "stream",
          "text": [
            "___ batch index = 1500 / 1836 (81.70%), loss = 0.5282, time = 19.94 seconds ___\n"
          ],
          "name": "stdout"
        },
        {
          "output_type": "stream",
          "text": [
            "___ batch index = 1750 / 1836 (95.32%), loss = 0.6088, time = 21.15 seconds ___\n"
          ],
          "name": "stdout"
        },
        {
          "output_type": "stream",
          "text": [
            "\n",
            "*** avg_loss : 0.47, time : ~2.0 min (152.01 sec) ***\n",
            "\n"
          ],
          "name": "stdout"
        },
        {
          "output_type": "stream",
          "text": [
            "==> evaluation : avg_loss = 0.66, time : 20.98 sec\n",
            "\n"
          ],
          "name": "stdout"
        },
        {
          "output_type": "stream",
          "text": [
            "threshold:  [0.3949311]\n",
            "=====>\t{'Positive Rate': array([0.43163097], dtype=float32), 'threshold': 0.3949311, 'accuracy': 0.5947281713344317, 'f1': 0.5953947368421053, 'recall': 0.6908396946564885, 'specificity': 0.5217391304347826, 'default_accuracy': 0.6144975288303131, 'default_f1': 0.55, 'default_recall': 0.5458015267175572, 'default_specificity': 0.6666666666666666}\n",
            "\n",
            "=============== EPOCH 24 / 30 ===============\n",
            "\n",
            "___ batch index = 0 / 1836 (0.00%), loss = 0.2754, time = 0.08 seconds ___\n"
          ],
          "name": "stdout"
        },
        {
          "output_type": "stream",
          "text": [
            "___ batch index = 250 / 1836 (13.62%), loss = 0.3483, time = 21.70 seconds ___\n"
          ],
          "name": "stdout"
        },
        {
          "output_type": "stream",
          "text": [
            "___ batch index = 500 / 1836 (27.23%), loss = 0.3027, time = 20.89 seconds ___\n"
          ],
          "name": "stdout"
        },
        {
          "output_type": "stream",
          "text": [
            "___ batch index = 750 / 1836 (40.85%), loss = 0.4113, time = 19.32 seconds ___\n"
          ],
          "name": "stdout"
        },
        {
          "output_type": "stream",
          "text": [
            "___ batch index = 1000 / 1836 (54.47%), loss = 0.4801, time = 21.52 seconds ___\n"
          ],
          "name": "stdout"
        },
        {
          "output_type": "stream",
          "text": [
            "___ batch index = 1250 / 1836 (68.08%), loss = 0.5696, time = 19.81 seconds ___\n"
          ],
          "name": "stdout"
        },
        {
          "output_type": "stream",
          "text": [
            "___ batch index = 1500 / 1836 (81.70%), loss = 0.4804, time = 19.88 seconds ___\n"
          ],
          "name": "stdout"
        },
        {
          "output_type": "stream",
          "text": [
            "___ batch index = 1750 / 1836 (95.32%), loss = 0.5350, time = 21.21 seconds ___\n"
          ],
          "name": "stdout"
        },
        {
          "output_type": "stream",
          "text": [
            "\n",
            "*** avg_loss : 0.44, time : ~2.0 min (152.09 sec) ***\n",
            "\n"
          ],
          "name": "stdout"
        },
        {
          "output_type": "stream",
          "text": [
            "==> evaluation : avg_loss = 0.67, time : 20.92 sec\n",
            "\n"
          ],
          "name": "stdout"
        },
        {
          "output_type": "stream",
          "text": [
            "threshold:  [0.3926559]\n",
            "=====>\t{'Positive Rate': array([0.43163097], dtype=float32), 'threshold': 0.3926559, 'accuracy': 0.5914332784184514, 'f1': 0.5921052631578948, 'recall': 0.6870229007633588, 'specificity': 0.518840579710145, 'default_accuracy': 0.6128500823723229, 'default_f1': 0.5506692160611855, 'default_recall': 0.549618320610687, 'default_specificity': 0.6608695652173913}\n",
            "\n",
            "=============== EPOCH 25 / 30 ===============\n",
            "\n",
            "___ batch index = 0 / 1836 (0.00%), loss = 0.2302, time = 0.08 seconds ___\n"
          ],
          "name": "stdout"
        },
        {
          "output_type": "stream",
          "text": [
            "___ batch index = 250 / 1836 (13.62%), loss = 0.2896, time = 21.70 seconds ___\n"
          ],
          "name": "stdout"
        },
        {
          "output_type": "stream",
          "text": [
            "___ batch index = 500 / 1836 (27.23%), loss = 0.3127, time = 20.95 seconds ___\n"
          ],
          "name": "stdout"
        },
        {
          "output_type": "stream",
          "text": [
            "___ batch index = 750 / 1836 (40.85%), loss = 0.3844, time = 19.26 seconds ___\n"
          ],
          "name": "stdout"
        },
        {
          "output_type": "stream",
          "text": [
            "___ batch index = 1000 / 1836 (54.47%), loss = 0.4748, time = 21.58 seconds ___\n"
          ],
          "name": "stdout"
        },
        {
          "output_type": "stream",
          "text": [
            "___ batch index = 1250 / 1836 (68.08%), loss = 0.5400, time = 19.75 seconds ___\n"
          ],
          "name": "stdout"
        },
        {
          "output_type": "stream",
          "text": [
            "___ batch index = 1500 / 1836 (81.70%), loss = 0.4007, time = 19.94 seconds ___\n"
          ],
          "name": "stdout"
        },
        {
          "output_type": "stream",
          "text": [
            "___ batch index = 1750 / 1836 (95.32%), loss = 0.4834, time = 21.15 seconds ___\n"
          ],
          "name": "stdout"
        },
        {
          "output_type": "stream",
          "text": [
            "\n",
            "*** avg_loss : 0.42, time : ~2.0 min (152.07 sec) ***\n",
            "\n"
          ],
          "name": "stdout"
        },
        {
          "output_type": "stream",
          "text": [
            "==> evaluation : avg_loss = 0.68, time : 20.99 sec\n",
            "\n"
          ],
          "name": "stdout"
        },
        {
          "output_type": "stream",
          "text": [
            "threshold:  [0.3888093]\n",
            "=====>\t{'Positive Rate': array([0.43163097], dtype=float32), 'threshold': 0.3888093, 'accuracy': 0.5947281713344317, 'f1': 0.5953947368421053, 'recall': 0.6908396946564885, 'specificity': 0.5217391304347826, 'default_accuracy': 0.6227347611202636, 'default_f1': 0.5654648956356736, 'default_recall': 0.5687022900763359, 'default_specificity': 0.663768115942029}\n",
            "model did not progress for 5 followed epochs\n"
          ],
          "name": "stdout"
        },
        {
          "output_type": "stream",
          "text": [
            "-----------------BEST TH:  0.41583705\n",
            "-----------------TEST EVALUATION {'Positive Rate': array([0.44256756], dtype=float32), 'accuracy': 0.6503378378378378, 'f1': 0.6270270270270271, 'recall': 0.6641221374045801, 'specificity': 0.6393939393939394, 'default_accuracy': 0.660472972972973, 'default_f1': 0.5955734406438633, 'default_recall': 0.5648854961832062, 'default_specificity': 0.7363636363636363}\n",
            "%%%%%%%%%%%%%%%%%%%%%%%%%%%%%%%%%%%% Para label:  Apoyo Interdisciplinario %%%%%%%%%%%%%%%%%%%%%%%%%%%\n"
          ],
          "name": "stdout"
        },
        {
          "output_type": "stream",
          "text": [
            "Some weights of the model checkpoint at dccuchile/bert-base-spanish-wwm-cased were not used when initializing BertModel: ['cls.predictions.transform.LayerNorm.bias', 'cls.predictions.bias', 'cls.predictions.transform.dense.weight', 'cls.predictions.transform.dense.bias', 'cls.predictions.transform.LayerNorm.weight', 'cls.predictions.decoder.weight', 'cls.predictions.decoder.bias']\n",
            "- This IS expected if you are initializing BertModel from the checkpoint of a model trained on another task or with another architecture (e.g. initializing a BertForSequenceClassification model from a BertForPreTraining model).\n",
            "- This IS NOT expected if you are initializing BertModel from the checkpoint of a model that you expect to be exactly identical (initializing a BertForSequenceClassification model from a BertForSequenceClassification model).\n"
          ],
          "name": "stderr"
        },
        {
          "output_type": "stream",
          "text": [
            "Some weights of BertModel were not initialized from the model checkpoint at dccuchile/bert-base-spanish-wwm-cased and are newly initialized: ['bert.pooler.dense.weight', 'bert.pooler.dense.bias']\n",
            "You should probably TRAIN this model on a down-stream task to be able to use it for predictions and inference.\n"
          ],
          "name": "stderr"
        },
        {
          "output_type": "stream",
          "text": [
            "\n",
            "=============== EPOCH 1 / 30 ===============\n",
            "\n",
            "___ batch index = 0 / 1836 (0.00%), loss = 0.8368, time = 0.08 seconds ___\n"
          ],
          "name": "stdout"
        },
        {
          "output_type": "stream",
          "text": [
            "___ batch index = 250 / 1836 (13.62%), loss = 0.6790, time = 21.68 seconds ___\n"
          ],
          "name": "stdout"
        },
        {
          "output_type": "stream",
          "text": [
            "___ batch index = 500 / 1836 (27.23%), loss = 0.7333, time = 20.88 seconds ___\n"
          ],
          "name": "stdout"
        },
        {
          "output_type": "stream",
          "text": [
            "___ batch index = 750 / 1836 (40.85%), loss = 0.6376, time = 19.30 seconds ___\n"
          ],
          "name": "stdout"
        },
        {
          "output_type": "stream",
          "text": [
            "___ batch index = 1000 / 1836 (54.47%), loss = 0.7663, time = 21.50 seconds ___\n"
          ],
          "name": "stdout"
        },
        {
          "output_type": "stream",
          "text": [
            "___ batch index = 1250 / 1836 (68.08%), loss = 0.7158, time = 19.80 seconds ___\n"
          ],
          "name": "stdout"
        },
        {
          "output_type": "stream",
          "text": [
            "___ batch index = 1500 / 1836 (81.70%), loss = 0.6907, time = 19.87 seconds ___\n"
          ],
          "name": "stdout"
        },
        {
          "output_type": "stream",
          "text": [
            "___ batch index = 1750 / 1836 (95.32%), loss = 0.7959, time = 21.19 seconds ___\n"
          ],
          "name": "stdout"
        },
        {
          "output_type": "stream",
          "text": [
            "\n",
            "*** avg_loss : 0.70, time : ~2.0 min (151.96 sec) ***\n",
            "\n"
          ],
          "name": "stdout"
        },
        {
          "output_type": "stream",
          "text": [
            "==> evaluation : avg_loss = 0.70, time : 20.96 sec\n",
            "\n"
          ],
          "name": "stdout"
        },
        {
          "output_type": "stream",
          "text": [
            "threshold:  [0.54007155]\n",
            "=====>\t{'Positive Rate': array([0.47446457], dtype=float32), 'threshold': 0.54007155, 'accuracy': 0.47611202635914335, 'f1': 0.4769736842105263, 'recall': 0.5034722222222222, 'specificity': 0.45141065830721006, 'default_accuracy': 0.4612850082372323, 'default_f1': 0.6219653179190752, 'default_recall': 0.9340277777777778, 'default_specificity': 0.034482758620689655}\n",
            "\n",
            "=============== EPOCH 2 / 30 ===============\n",
            "\n",
            "___ batch index = 0 / 1836 (0.00%), loss = 0.8332, time = 0.07 seconds ___\n"
          ],
          "name": "stdout"
        },
        {
          "output_type": "stream",
          "text": [
            "___ batch index = 250 / 1836 (13.62%), loss = 0.6588, time = 21.62 seconds ___\n"
          ],
          "name": "stdout"
        },
        {
          "output_type": "stream",
          "text": [
            "___ batch index = 500 / 1836 (27.23%), loss = 0.7336, time = 20.94 seconds ___\n"
          ],
          "name": "stdout"
        },
        {
          "output_type": "stream",
          "text": [
            "___ batch index = 750 / 1836 (40.85%), loss = 0.6339, time = 19.25 seconds ___\n"
          ],
          "name": "stdout"
        },
        {
          "output_type": "stream",
          "text": [
            "___ batch index = 1000 / 1836 (54.47%), loss = 0.7403, time = 21.57 seconds ___\n"
          ],
          "name": "stdout"
        },
        {
          "output_type": "stream",
          "text": [
            "___ batch index = 1250 / 1836 (68.08%), loss = 0.7177, time = 19.74 seconds ___\n"
          ],
          "name": "stdout"
        },
        {
          "output_type": "stream",
          "text": [
            "___ batch index = 1500 / 1836 (81.70%), loss = 0.6835, time = 19.94 seconds ___\n"
          ],
          "name": "stdout"
        },
        {
          "output_type": "stream",
          "text": [
            "___ batch index = 1750 / 1836 (95.32%), loss = 0.7769, time = 21.14 seconds ___\n"
          ],
          "name": "stdout"
        },
        {
          "output_type": "stream",
          "text": [
            "\n",
            "*** avg_loss : 0.70, time : ~2.0 min (151.92 sec) ***\n",
            "\n"
          ],
          "name": "stdout"
        },
        {
          "output_type": "stream",
          "text": [
            "==> evaluation : avg_loss = 0.70, time : 20.95 sec\n",
            "\n"
          ],
          "name": "stdout"
        },
        {
          "output_type": "stream",
          "text": [
            "threshold:  [0.5317314]\n",
            "=====>\t{'Positive Rate': array([0.47446457], dtype=float32), 'threshold': 0.5317314, 'accuracy': 0.4794069192751236, 'f1': 0.48026315789473684, 'recall': 0.5069444444444444, 'specificity': 0.45454545454545453, 'default_accuracy': 0.4546952224052718, 'default_f1': 0.6035928143712576, 'default_recall': 0.875, 'default_specificity': 0.07523510971786834}\n",
            "\n",
            "=============== EPOCH 3 / 30 ===============\n",
            "\n",
            "___ batch index = 0 / 1836 (0.00%), loss = 0.7597, time = 0.08 seconds ___\n"
          ],
          "name": "stdout"
        },
        {
          "output_type": "stream",
          "text": [
            "___ batch index = 250 / 1836 (13.62%), loss = 0.6692, time = 21.62 seconds ___\n"
          ],
          "name": "stdout"
        },
        {
          "output_type": "stream",
          "text": [
            "___ batch index = 500 / 1836 (27.23%), loss = 0.7138, time = 20.94 seconds ___\n"
          ],
          "name": "stdout"
        },
        {
          "output_type": "stream",
          "text": [
            "___ batch index = 750 / 1836 (40.85%), loss = 0.6280, time = 19.25 seconds ___\n"
          ],
          "name": "stdout"
        },
        {
          "output_type": "stream",
          "text": [
            "___ batch index = 1000 / 1836 (54.47%), loss = 0.7727, time = 21.56 seconds ___\n"
          ],
          "name": "stdout"
        },
        {
          "output_type": "stream",
          "text": [
            "___ batch index = 1250 / 1836 (68.08%), loss = 0.7029, time = 19.81 seconds ___\n"
          ],
          "name": "stdout"
        },
        {
          "output_type": "stream",
          "text": [
            "___ batch index = 1500 / 1836 (81.70%), loss = 0.7105, time = 19.87 seconds ___\n"
          ],
          "name": "stdout"
        },
        {
          "output_type": "stream",
          "text": [
            "___ batch index = 1750 / 1836 (95.32%), loss = 0.7994, time = 21.18 seconds ___\n"
          ],
          "name": "stdout"
        },
        {
          "output_type": "stream",
          "text": [
            "\n",
            "*** avg_loss : 0.69, time : ~2.0 min (151.97 sec) ***\n",
            "\n"
          ],
          "name": "stdout"
        },
        {
          "output_type": "stream",
          "text": [
            "==> evaluation : avg_loss = 0.70, time : 20.90 sec\n",
            "\n"
          ],
          "name": "stdout"
        },
        {
          "output_type": "stream",
          "text": [
            "threshold:  [0.5323589]\n",
            "=====>\t{'Positive Rate': array([0.47446457], dtype=float32), 'threshold': 0.5323589, 'accuracy': 0.48599670510708404, 'f1': 0.48852459016393446, 'recall': 0.5173611111111112, 'specificity': 0.45768025078369906, 'default_accuracy': 0.4695222405271829, 'default_f1': 0.6120481927710844, 'default_recall': 0.8819444444444444, 'default_specificity': 0.09717868338557993}\n",
            "\n",
            "=============== EPOCH 4 / 30 ===============\n",
            "\n",
            "___ batch index = 0 / 1836 (0.00%), loss = 0.7919, time = 0.08 seconds ___\n"
          ],
          "name": "stdout"
        },
        {
          "output_type": "stream",
          "text": [
            "___ batch index = 250 / 1836 (13.62%), loss = 0.6610, time = 21.56 seconds ___\n"
          ],
          "name": "stdout"
        },
        {
          "output_type": "stream",
          "text": [
            "___ batch index = 500 / 1836 (27.23%), loss = 0.7238, time = 20.89 seconds ___\n"
          ],
          "name": "stdout"
        },
        {
          "output_type": "stream",
          "text": [
            "___ batch index = 750 / 1836 (40.85%), loss = 0.6154, time = 19.26 seconds ___\n"
          ],
          "name": "stdout"
        },
        {
          "output_type": "stream",
          "text": [
            "___ batch index = 1000 / 1836 (54.47%), loss = 0.7585, time = 21.45 seconds ___\n"
          ],
          "name": "stdout"
        },
        {
          "output_type": "stream",
          "text": [
            "___ batch index = 1250 / 1836 (68.08%), loss = 0.6922, time = 19.74 seconds ___\n"
          ],
          "name": "stdout"
        },
        {
          "output_type": "stream",
          "text": [
            "___ batch index = 1500 / 1836 (81.70%), loss = 0.6953, time = 19.82 seconds ___\n"
          ],
          "name": "stdout"
        },
        {
          "output_type": "stream",
          "text": [
            "___ batch index = 1750 / 1836 (95.32%), loss = 0.8022, time = 21.16 seconds ___\n"
          ],
          "name": "stdout"
        },
        {
          "output_type": "stream",
          "text": [
            "\n",
            "*** avg_loss : 0.69, time : ~2.0 min (151.60 sec) ***\n",
            "\n"
          ],
          "name": "stdout"
        },
        {
          "output_type": "stream",
          "text": [
            "==> evaluation : avg_loss = 0.70, time : 20.95 sec\n",
            "\n"
          ],
          "name": "stdout"
        },
        {
          "output_type": "stream",
          "text": [
            "threshold:  [0.52931774]\n",
            "=====>\t{'Positive Rate': array([0.47446457], dtype=float32), 'threshold': 0.52931774, 'accuracy': 0.500823723228995, 'f1': 0.5024630541871922, 'recall': 0.53125, 'specificity': 0.47335423197492166, 'default_accuracy': 0.4843492586490939, 'default_f1': 0.6121437422552664, 'default_recall': 0.8576388888888888, 'default_specificity': 0.14733542319749215}\n",
            "\n",
            "=============== EPOCH 5 / 30 ===============\n",
            "\n",
            "___ batch index = 0 / 1836 (0.00%), loss = 0.7805, time = 0.08 seconds ___\n"
          ],
          "name": "stdout"
        },
        {
          "output_type": "stream",
          "text": [
            "___ batch index = 250 / 1836 (13.62%), loss = 0.6505, time = 21.57 seconds ___\n"
          ],
          "name": "stdout"
        },
        {
          "output_type": "stream",
          "text": [
            "___ batch index = 500 / 1836 (27.23%), loss = 0.7158, time = 20.89 seconds ___\n"
          ],
          "name": "stdout"
        },
        {
          "output_type": "stream",
          "text": [
            "___ batch index = 750 / 1836 (40.85%), loss = 0.6296, time = 19.21 seconds ___\n"
          ],
          "name": "stdout"
        },
        {
          "output_type": "stream",
          "text": [
            "___ batch index = 1000 / 1836 (54.47%), loss = 0.7528, time = 21.52 seconds ___\n"
          ],
          "name": "stdout"
        },
        {
          "output_type": "stream",
          "text": [
            "___ batch index = 1250 / 1836 (68.08%), loss = 0.6815, time = 19.70 seconds ___\n"
          ],
          "name": "stdout"
        },
        {
          "output_type": "stream",
          "text": [
            "___ batch index = 1500 / 1836 (81.70%), loss = 0.6921, time = 19.89 seconds ___\n"
          ],
          "name": "stdout"
        },
        {
          "output_type": "stream",
          "text": [
            "___ batch index = 1750 / 1836 (95.32%), loss = 0.8180, time = 21.10 seconds ___\n"
          ],
          "name": "stdout"
        },
        {
          "output_type": "stream",
          "text": [
            "\n",
            "*** avg_loss : 0.68, time : ~2.0 min (151.60 sec) ***\n",
            "\n"
          ],
          "name": "stdout"
        },
        {
          "output_type": "stream",
          "text": [
            "==> evaluation : avg_loss = 0.70, time : 20.97 sec\n",
            "\n"
          ],
          "name": "stdout"
        },
        {
          "output_type": "stream",
          "text": [
            "threshold:  [0.533909]\n",
            "=====>\t{'Positive Rate': array([0.47446457], dtype=float32), 'threshold': 0.533909, 'accuracy': 0.5057660626029654, 'f1': 0.506578947368421, 'recall': 0.5347222222222222, 'specificity': 0.47962382445141066, 'default_accuracy': 0.49917627677100496, 'default_f1': 0.6209476309226933, 'default_recall': 0.8645833333333334, 'default_specificity': 0.16927899686520376}\n",
            "\n",
            "=============== EPOCH 6 / 30 ===============\n",
            "\n",
            "___ batch index = 0 / 1836 (0.00%), loss = 0.6930, time = 0.08 seconds ___\n"
          ],
          "name": "stdout"
        },
        {
          "output_type": "stream",
          "text": [
            "___ batch index = 250 / 1836 (13.62%), loss = 0.6395, time = 21.57 seconds ___\n"
          ],
          "name": "stdout"
        },
        {
          "output_type": "stream",
          "text": [
            "___ batch index = 500 / 1836 (27.23%), loss = 0.7064, time = 20.90 seconds ___\n"
          ],
          "name": "stdout"
        },
        {
          "output_type": "stream",
          "text": [
            "___ batch index = 750 / 1836 (40.85%), loss = 0.6065, time = 19.21 seconds ___\n"
          ],
          "name": "stdout"
        },
        {
          "output_type": "stream",
          "text": [
            "___ batch index = 1000 / 1836 (54.47%), loss = 0.7444, time = 21.53 seconds ___\n"
          ],
          "name": "stdout"
        },
        {
          "output_type": "stream",
          "text": [
            "___ batch index = 1250 / 1836 (68.08%), loss = 0.6691, time = 19.70 seconds ___\n"
          ],
          "name": "stdout"
        },
        {
          "output_type": "stream",
          "text": [
            "___ batch index = 1500 / 1836 (81.70%), loss = 0.7089, time = 19.89 seconds ___\n"
          ],
          "name": "stdout"
        },
        {
          "output_type": "stream",
          "text": [
            "___ batch index = 1750 / 1836 (95.32%), loss = 0.8320, time = 21.10 seconds ___\n"
          ],
          "name": "stdout"
        },
        {
          "output_type": "stream",
          "text": [
            "\n",
            "*** avg_loss : 0.68, time : ~2.0 min (151.63 sec) ***\n",
            "\n"
          ],
          "name": "stdout"
        },
        {
          "output_type": "stream",
          "text": [
            "==> evaluation : avg_loss = 0.70, time : 20.97 sec\n",
            "\n"
          ],
          "name": "stdout"
        },
        {
          "output_type": "stream",
          "text": [
            "threshold:  [0.5335843]\n",
            "=====>\t{'Positive Rate': array([0.47446457], dtype=float32), 'threshold': 0.5335843, 'accuracy': 0.5123558484349259, 'f1': 0.5131578947368421, 'recall': 0.5416666666666666, 'specificity': 0.48589341692789967, 'default_accuracy': 0.514003294892916, 'default_f1': 0.6222791293213829, 'default_recall': 0.84375, 'default_specificity': 0.21630094043887146}\n",
            "\n",
            "=============== EPOCH 7 / 30 ===============\n",
            "\n",
            "___ batch index = 0 / 1836 (0.00%), loss = 0.6687, time = 0.08 seconds ___\n"
          ],
          "name": "stdout"
        },
        {
          "output_type": "stream",
          "text": [
            "___ batch index = 250 / 1836 (13.62%), loss = 0.6321, time = 21.63 seconds ___\n"
          ],
          "name": "stdout"
        },
        {
          "output_type": "stream",
          "text": [
            "___ batch index = 500 / 1836 (27.23%), loss = 0.7277, time = 20.84 seconds ___\n"
          ],
          "name": "stdout"
        },
        {
          "output_type": "stream",
          "text": [
            "___ batch index = 750 / 1836 (40.85%), loss = 0.5989, time = 19.27 seconds ___\n"
          ],
          "name": "stdout"
        },
        {
          "output_type": "stream",
          "text": [
            "___ batch index = 1000 / 1836 (54.47%), loss = 0.7541, time = 21.47 seconds ___\n"
          ],
          "name": "stdout"
        },
        {
          "output_type": "stream",
          "text": [
            "___ batch index = 1250 / 1836 (68.08%), loss = 0.6474, time = 19.76 seconds ___\n"
          ],
          "name": "stdout"
        },
        {
          "output_type": "stream",
          "text": [
            "___ batch index = 1500 / 1836 (81.70%), loss = 0.7241, time = 19.83 seconds ___\n"
          ],
          "name": "stdout"
        },
        {
          "output_type": "stream",
          "text": [
            "___ batch index = 1750 / 1836 (95.32%), loss = 0.8594, time = 21.16 seconds ___\n"
          ],
          "name": "stdout"
        },
        {
          "output_type": "stream",
          "text": [
            "\n",
            "*** avg_loss : 0.67, time : ~2.0 min (151.68 sec) ***\n",
            "\n"
          ],
          "name": "stdout"
        },
        {
          "output_type": "stream",
          "text": [
            "==> evaluation : avg_loss = 0.70, time : 20.92 sec\n",
            "\n"
          ],
          "name": "stdout"
        },
        {
          "output_type": "stream",
          "text": [
            "threshold:  [0.5366209]\n",
            "=====>\t{'Positive Rate': array([0.47446457], dtype=float32), 'threshold': 0.5366209, 'accuracy': 0.5189456342668863, 'f1': 0.5197368421052632, 'recall': 0.5486111111111112, 'specificity': 0.49216300940438873, 'default_accuracy': 0.5090609555189456, 'default_f1': 0.612987012987013, 'default_recall': 0.8194444444444444, 'default_specificity': 0.22884012539184953}\n",
            "\n",
            "=============== EPOCH 8 / 30 ===============\n",
            "\n",
            "___ batch index = 0 / 1836 (0.00%), loss = 0.6476, time = 0.08 seconds ___\n"
          ],
          "name": "stdout"
        },
        {
          "output_type": "stream",
          "text": [
            "___ batch index = 250 / 1836 (13.62%), loss = 0.6346, time = 21.63 seconds ___\n"
          ],
          "name": "stdout"
        },
        {
          "output_type": "stream",
          "text": [
            "___ batch index = 500 / 1836 (27.23%), loss = 0.7223, time = 20.90 seconds ___\n"
          ],
          "name": "stdout"
        },
        {
          "output_type": "stream",
          "text": [
            "___ batch index = 750 / 1836 (40.85%), loss = 0.5732, time = 19.21 seconds ___\n"
          ],
          "name": "stdout"
        },
        {
          "output_type": "stream",
          "text": [
            "___ batch index = 1000 / 1836 (54.47%), loss = 0.7257, time = 21.53 seconds ___\n"
          ],
          "name": "stdout"
        },
        {
          "output_type": "stream",
          "text": [
            "___ batch index = 1250 / 1836 (68.08%), loss = 0.6400, time = 19.70 seconds ___\n"
          ],
          "name": "stdout"
        },
        {
          "output_type": "stream",
          "text": [
            "___ batch index = 1500 / 1836 (81.70%), loss = 0.7265, time = 19.89 seconds ___\n"
          ],
          "name": "stdout"
        },
        {
          "output_type": "stream",
          "text": [
            "___ batch index = 1750 / 1836 (95.32%), loss = 0.8742, time = 21.10 seconds ___\n"
          ],
          "name": "stdout"
        },
        {
          "output_type": "stream",
          "text": [
            "\n",
            "*** avg_loss : 0.66, time : ~2.0 min (151.68 sec) ***\n",
            "\n"
          ],
          "name": "stdout"
        },
        {
          "output_type": "stream",
          "text": [
            "==> evaluation : avg_loss = 0.69, time : 20.99 sec\n",
            "\n"
          ],
          "name": "stdout"
        },
        {
          "output_type": "stream",
          "text": [
            "threshold:  [0.5410706]\n",
            "=====>\t{'Positive Rate': array([0.47446457], dtype=float32), 'threshold': 0.5410706, 'accuracy': 0.5255354200988468, 'f1': 0.5263157894736842, 'recall': 0.5555555555555556, 'specificity': 0.49843260188087773, 'default_accuracy': 0.5090609555189456, 'default_f1': 0.6058201058201057, 'default_recall': 0.7951388888888888, 'default_specificity': 0.2507836990595611}\n",
            "\n",
            "=============== EPOCH 9 / 30 ===============\n",
            "\n",
            "___ batch index = 0 / 1836 (0.00%), loss = 0.6052, time = 0.08 seconds ___\n"
          ],
          "name": "stdout"
        },
        {
          "output_type": "stream",
          "text": [
            "___ batch index = 250 / 1836 (13.62%), loss = 0.6038, time = 21.57 seconds ___\n"
          ],
          "name": "stdout"
        },
        {
          "output_type": "stream",
          "text": [
            "___ batch index = 500 / 1836 (27.23%), loss = 0.7221, time = 20.90 seconds ___\n"
          ],
          "name": "stdout"
        },
        {
          "output_type": "stream",
          "text": [
            "___ batch index = 750 / 1836 (40.85%), loss = 0.5993, time = 19.27 seconds ___\n"
          ],
          "name": "stdout"
        },
        {
          "output_type": "stream",
          "text": [
            "___ batch index = 1000 / 1836 (54.47%), loss = 0.7306, time = 21.46 seconds ___\n"
          ],
          "name": "stdout"
        },
        {
          "output_type": "stream",
          "text": [
            "___ batch index = 1250 / 1836 (68.08%), loss = 0.6323, time = 19.76 seconds ___\n"
          ],
          "name": "stdout"
        },
        {
          "output_type": "stream",
          "text": [
            "___ batch index = 1500 / 1836 (81.70%), loss = 0.7108, time = 19.89 seconds ___\n"
          ],
          "name": "stdout"
        },
        {
          "output_type": "stream",
          "text": [
            "___ batch index = 1750 / 1836 (95.32%), loss = 0.8961, time = 21.10 seconds ___\n"
          ],
          "name": "stdout"
        },
        {
          "output_type": "stream",
          "text": [
            "\n",
            "*** avg_loss : 0.65, time : ~2.0 min (151.67 sec) ***\n",
            "\n"
          ],
          "name": "stdout"
        },
        {
          "output_type": "stream",
          "text": [
            "==> evaluation : avg_loss = 0.69, time : 20.98 sec\n",
            "\n"
          ],
          "name": "stdout"
        },
        {
          "output_type": "stream",
          "text": [
            "threshold:  [0.54700154]\n",
            "=====>\t{'Positive Rate': array([0.47446457], dtype=float32), 'threshold': 0.54700154, 'accuracy': 0.528830313014827, 'f1': 0.5296052631578947, 'recall': 0.5590277777777778, 'specificity': 0.5015673981191222, 'default_accuracy': 0.515650741350906, 'default_f1': 0.6090425531914894, 'default_recall': 0.7951388888888888, 'default_specificity': 0.26332288401253917}\n",
            "\n",
            "=============== EPOCH 10 / 30 ===============\n",
            "\n",
            "___ batch index = 0 / 1836 (0.00%), loss = 0.5909, time = 0.08 seconds ___\n"
          ],
          "name": "stdout"
        },
        {
          "output_type": "stream",
          "text": [
            "___ batch index = 250 / 1836 (13.62%), loss = 0.5719, time = 21.63 seconds ___\n"
          ],
          "name": "stdout"
        },
        {
          "output_type": "stream",
          "text": [
            "___ batch index = 500 / 1836 (27.23%), loss = 0.7611, time = 20.90 seconds ___\n"
          ],
          "name": "stdout"
        },
        {
          "output_type": "stream",
          "text": [
            "___ batch index = 750 / 1836 (40.85%), loss = 0.5501, time = 19.21 seconds ___\n"
          ],
          "name": "stdout"
        },
        {
          "output_type": "stream",
          "text": [
            "___ batch index = 1000 / 1836 (54.47%), loss = 0.6742, time = 21.47 seconds ___\n"
          ],
          "name": "stdout"
        },
        {
          "output_type": "stream",
          "text": [
            "___ batch index = 1250 / 1836 (68.08%), loss = 0.5780, time = 19.77 seconds ___\n"
          ],
          "name": "stdout"
        },
        {
          "output_type": "stream",
          "text": [
            "___ batch index = 1500 / 1836 (81.70%), loss = 0.7564, time = 19.84 seconds ___\n"
          ],
          "name": "stdout"
        },
        {
          "output_type": "stream",
          "text": [
            "___ batch index = 1750 / 1836 (95.32%), loss = 0.9226, time = 21.16 seconds ___\n"
          ],
          "name": "stdout"
        },
        {
          "output_type": "stream",
          "text": [
            "\n",
            "*** avg_loss : 0.64, time : ~2.0 min (151.70 sec) ***\n",
            "\n"
          ],
          "name": "stdout"
        },
        {
          "output_type": "stream",
          "text": [
            "==> evaluation : avg_loss = 0.69, time : 20.96 sec\n",
            "\n"
          ],
          "name": "stdout"
        },
        {
          "output_type": "stream",
          "text": [
            "threshold:  [0.55101156]\n",
            "=====>\t{'Positive Rate': array([0.47446457], dtype=float32), 'threshold': 0.55101156, 'accuracy': 0.5321252059308073, 'f1': 0.5328947368421052, 'recall': 0.5625, 'specificity': 0.5047021943573667, 'default_accuracy': 0.5123558484349259, 'default_f1': 0.6053333333333334, 'default_recall': 0.7881944444444444, 'default_specificity': 0.26332288401253917}\n",
            "\n",
            "=============== EPOCH 11 / 30 ===============\n",
            "\n",
            "___ batch index = 0 / 1836 (0.00%), loss = 0.6293, time = 0.08 seconds ___\n"
          ],
          "name": "stdout"
        },
        {
          "output_type": "stream",
          "text": [
            "___ batch index = 250 / 1836 (13.62%), loss = 0.5632, time = 21.60 seconds ___\n"
          ],
          "name": "stdout"
        },
        {
          "output_type": "stream",
          "text": [
            "___ batch index = 500 / 1836 (27.23%), loss = 0.6991, time = 20.90 seconds ___\n"
          ],
          "name": "stdout"
        },
        {
          "output_type": "stream",
          "text": [
            "___ batch index = 750 / 1836 (40.85%), loss = 0.5732, time = 19.21 seconds ___\n"
          ],
          "name": "stdout"
        },
        {
          "output_type": "stream",
          "text": [
            "___ batch index = 1000 / 1836 (54.47%), loss = 0.6862, time = 21.47 seconds ___\n"
          ],
          "name": "stdout"
        },
        {
          "output_type": "stream",
          "text": [
            "___ batch index = 1250 / 1836 (68.08%), loss = 0.5737, time = 19.76 seconds ___\n"
          ],
          "name": "stdout"
        },
        {
          "output_type": "stream",
          "text": [
            "___ batch index = 1500 / 1836 (81.70%), loss = 0.6937, time = 19.89 seconds ___\n"
          ],
          "name": "stdout"
        },
        {
          "output_type": "stream",
          "text": [
            "___ batch index = 1750 / 1836 (95.32%), loss = 0.9344, time = 21.10 seconds ___\n"
          ],
          "name": "stdout"
        },
        {
          "output_type": "stream",
          "text": [
            "\n",
            "*** avg_loss : 0.63, time : ~2.0 min (151.64 sec) ***\n",
            "\n"
          ],
          "name": "stdout"
        },
        {
          "output_type": "stream",
          "text": [
            "==> evaluation : avg_loss = 0.69, time : 20.99 sec\n",
            "\n"
          ],
          "name": "stdout"
        },
        {
          "output_type": "stream",
          "text": [
            "threshold:  [0.54580694]\n",
            "=====>\t{'Positive Rate': array([0.47446457], dtype=float32), 'threshold': 0.54580694, 'accuracy': 0.5321252059308073, 'f1': 0.5328947368421052, 'recall': 0.5625, 'specificity': 0.5047021943573667, 'default_accuracy': 0.5107084019769358, 'default_f1': 0.5880721220527045, 'default_recall': 0.7361111111111112, 'default_specificity': 0.3072100313479624}\n",
            "\n",
            "=============== EPOCH 12 / 30 ===============\n",
            "\n",
            "___ batch index = 0 / 1836 (0.00%), loss = 0.5586, time = 0.08 seconds ___\n"
          ],
          "name": "stdout"
        },
        {
          "output_type": "stream",
          "text": [
            "___ batch index = 250 / 1836 (13.62%), loss = 0.5319, time = 21.59 seconds ___\n"
          ],
          "name": "stdout"
        },
        {
          "output_type": "stream",
          "text": [
            "___ batch index = 500 / 1836 (27.23%), loss = 0.6787, time = 20.90 seconds ___\n"
          ],
          "name": "stdout"
        },
        {
          "output_type": "stream",
          "text": [
            "___ batch index = 750 / 1836 (40.85%), loss = 0.5504, time = 19.21 seconds ___\n"
          ],
          "name": "stdout"
        },
        {
          "output_type": "stream",
          "text": [
            "___ batch index = 1000 / 1836 (54.47%), loss = 0.6152, time = 21.52 seconds ___\n"
          ],
          "name": "stdout"
        },
        {
          "output_type": "stream",
          "text": [
            "___ batch index = 1250 / 1836 (68.08%), loss = 0.5651, time = 19.76 seconds ___\n"
          ],
          "name": "stdout"
        },
        {
          "output_type": "stream",
          "text": [
            "___ batch index = 1500 / 1836 (81.70%), loss = 0.7066, time = 19.83 seconds ___\n"
          ],
          "name": "stdout"
        },
        {
          "output_type": "stream",
          "text": [
            "___ batch index = 1750 / 1836 (95.32%), loss = 0.9483, time = 21.16 seconds ___\n"
          ],
          "name": "stdout"
        },
        {
          "output_type": "stream",
          "text": [
            "\n",
            "*** avg_loss : 0.62, time : ~2.0 min (151.71 sec) ***\n",
            "\n"
          ],
          "name": "stdout"
        },
        {
          "output_type": "stream",
          "text": [
            "==> evaluation : avg_loss = 0.69, time : 20.94 sec\n",
            "\n"
          ],
          "name": "stdout"
        },
        {
          "output_type": "stream",
          "text": [
            "threshold:  [0.546506]\n",
            "=====>\t{'Positive Rate': array([0.47446457], dtype=float32), 'threshold': 0.546506, 'accuracy': 0.5370675453047776, 'f1': 0.5385878489326765, 'recall': 0.5694444444444444, 'specificity': 0.5078369905956113, 'default_accuracy': 0.5271828665568369, 'default_f1': 0.5929078014184397, 'default_recall': 0.7256944444444444, 'default_specificity': 0.34796238244514105}\n",
            "\n",
            "=============== EPOCH 13 / 30 ===============\n",
            "\n",
            "___ batch index = 0 / 1836 (0.00%), loss = 0.4331, time = 0.08 seconds ___\n"
          ],
          "name": "stdout"
        },
        {
          "output_type": "stream",
          "text": [
            "___ batch index = 250 / 1836 (13.62%), loss = 0.5252, time = 21.59 seconds ___\n"
          ],
          "name": "stdout"
        },
        {
          "output_type": "stream",
          "text": [
            "___ batch index = 500 / 1836 (27.23%), loss = 0.6822, time = 20.90 seconds ___\n"
          ],
          "name": "stdout"
        },
        {
          "output_type": "stream",
          "text": [
            "___ batch index = 750 / 1836 (40.85%), loss = 0.5482, time = 19.26 seconds ___\n"
          ],
          "name": "stdout"
        },
        {
          "output_type": "stream",
          "text": [
            "___ batch index = 1000 / 1836 (54.47%), loss = 0.6370, time = 21.47 seconds ___\n"
          ],
          "name": "stdout"
        },
        {
          "output_type": "stream",
          "text": [
            "___ batch index = 1250 / 1836 (68.08%), loss = 0.5498, time = 19.76 seconds ___\n"
          ],
          "name": "stdout"
        },
        {
          "output_type": "stream",
          "text": [
            "___ batch index = 1500 / 1836 (81.70%), loss = 0.6751, time = 19.83 seconds ___\n"
          ],
          "name": "stdout"
        },
        {
          "output_type": "stream",
          "text": [
            "___ batch index = 1750 / 1836 (95.32%), loss = 0.9695, time = 21.17 seconds ___\n"
          ],
          "name": "stdout"
        },
        {
          "output_type": "stream",
          "text": [
            "\n",
            "*** avg_loss : 0.60, time : ~2.0 min (151.72 sec) ***\n",
            "\n"
          ],
          "name": "stdout"
        },
        {
          "output_type": "stream",
          "text": [
            "==> evaluation : avg_loss = 0.68, time : 20.99 sec\n",
            "\n"
          ],
          "name": "stdout"
        },
        {
          "output_type": "stream",
          "text": [
            "threshold:  [0.5391363]\n",
            "=====>\t{'Positive Rate': array([0.47446457], dtype=float32), 'threshold': 0.5391363, 'accuracy': 0.5420098846787479, 'f1': 0.542763157894737, 'recall': 0.5729166666666666, 'specificity': 0.5141065830721003, 'default_accuracy': 0.5403624382207578, 'default_f1': 0.5962373371924746, 'default_recall': 0.7152777777777778, 'default_specificity': 0.3824451410658307}\n",
            "\n",
            "=============== EPOCH 14 / 30 ===============\n",
            "\n",
            "___ batch index = 0 / 1836 (0.00%), loss = 0.5188, time = 0.08 seconds ___\n"
          ],
          "name": "stdout"
        },
        {
          "output_type": "stream",
          "text": [
            "___ batch index = 250 / 1836 (13.62%), loss = 0.5090, time = 21.60 seconds ___\n"
          ],
          "name": "stdout"
        },
        {
          "output_type": "stream",
          "text": [
            "___ batch index = 500 / 1836 (27.23%), loss = 0.6814, time = 20.91 seconds ___\n"
          ],
          "name": "stdout"
        },
        {
          "output_type": "stream",
          "text": [
            "___ batch index = 750 / 1836 (40.85%), loss = 0.5309, time = 19.21 seconds ___\n"
          ],
          "name": "stdout"
        },
        {
          "output_type": "stream",
          "text": [
            "___ batch index = 1000 / 1836 (54.47%), loss = 0.6206, time = 21.53 seconds ___\n"
          ],
          "name": "stdout"
        },
        {
          "output_type": "stream",
          "text": [
            "___ batch index = 1250 / 1836 (68.08%), loss = 0.5128, time = 19.79 seconds ___\n"
          ],
          "name": "stdout"
        },
        {
          "output_type": "stream",
          "text": [
            "___ batch index = 1500 / 1836 (81.70%), loss = 0.6645, time = 19.98 seconds ___\n"
          ],
          "name": "stdout"
        },
        {
          "output_type": "stream",
          "text": [
            "___ batch index = 1750 / 1836 (95.32%), loss = 0.9609, time = 21.19 seconds ___\n"
          ],
          "name": "stdout"
        },
        {
          "output_type": "stream",
          "text": [
            "\n",
            "*** avg_loss : 0.59, time : ~2.0 min (151.97 sec) ***\n",
            "\n"
          ],
          "name": "stdout"
        },
        {
          "output_type": "stream",
          "text": [
            "==> evaluation : avg_loss = 0.68, time : 21.14 sec\n",
            "\n"
          ],
          "name": "stdout"
        },
        {
          "output_type": "stream",
          "text": [
            "threshold:  [0.53410727]\n",
            "=====>\t{'Positive Rate': array([0.47446457], dtype=float32), 'threshold': 0.53410727, 'accuracy': 0.5518945634266886, 'f1': 0.5526315789473685, 'recall': 0.5833333333333334, 'specificity': 0.5235109717868338, 'default_accuracy': 0.5453047775947282, 'default_f1': 0.5917159763313609, 'default_recall': 0.6944444444444444, 'default_specificity': 0.4106583072100313}\n",
            "\n",
            "=============== EPOCH 15 / 30 ===============\n",
            "\n",
            "___ batch index = 0 / 1836 (0.00%), loss = 0.4586, time = 0.08 seconds ___\n"
          ],
          "name": "stdout"
        },
        {
          "output_type": "stream",
          "text": [
            "___ batch index = 250 / 1836 (13.62%), loss = 0.4630, time = 21.69 seconds ___\n"
          ],
          "name": "stdout"
        },
        {
          "output_type": "stream",
          "text": [
            "___ batch index = 500 / 1836 (27.23%), loss = 0.7239, time = 20.99 seconds ___\n"
          ],
          "name": "stdout"
        },
        {
          "output_type": "stream",
          "text": [
            "___ batch index = 750 / 1836 (40.85%), loss = 0.5423, time = 19.30 seconds ___\n"
          ],
          "name": "stdout"
        },
        {
          "output_type": "stream",
          "text": [
            "___ batch index = 1000 / 1836 (54.47%), loss = 0.6268, time = 21.62 seconds ___\n"
          ],
          "name": "stdout"
        },
        {
          "output_type": "stream",
          "text": [
            "___ batch index = 1250 / 1836 (68.08%), loss = 0.4989, time = 19.79 seconds ___\n"
          ],
          "name": "stdout"
        },
        {
          "output_type": "stream",
          "text": [
            "___ batch index = 1500 / 1836 (81.70%), loss = 0.6006, time = 19.98 seconds ___\n"
          ],
          "name": "stdout"
        },
        {
          "output_type": "stream",
          "text": [
            "___ batch index = 1750 / 1836 (95.32%), loss = 0.9732, time = 21.19 seconds ___\n"
          ],
          "name": "stdout"
        },
        {
          "output_type": "stream",
          "text": [
            "\n",
            "*** avg_loss : 0.57, time : ~2.0 min (152.33 sec) ***\n",
            "\n"
          ],
          "name": "stdout"
        },
        {
          "output_type": "stream",
          "text": [
            "==> evaluation : avg_loss = 0.68, time : 21.13 sec\n",
            "\n"
          ],
          "name": "stdout"
        },
        {
          "output_type": "stream",
          "text": [
            "threshold:  [0.5343743]\n",
            "=====>\t{'Positive Rate': array([0.47446457], dtype=float32), 'threshold': 0.5343743, 'accuracy': 0.5584843492586491, 'f1': 0.5592105263157896, 'recall': 0.5902777777777778, 'specificity': 0.5297805642633229, 'default_accuracy': 0.5518945634266886, 'default_f1': 0.5928143712574849, 'default_recall': 0.6875, 'default_specificity': 0.42946708463949845}\n",
            "\n",
            "=============== EPOCH 16 / 30 ===============\n",
            "\n",
            "___ batch index = 0 / 1836 (0.00%), loss = 0.3783, time = 0.08 seconds ___\n"
          ],
          "name": "stdout"
        },
        {
          "output_type": "stream",
          "text": [
            "___ batch index = 250 / 1836 (13.62%), loss = 0.4623, time = 21.74 seconds ___\n"
          ],
          "name": "stdout"
        },
        {
          "output_type": "stream",
          "text": [
            "___ batch index = 500 / 1836 (27.23%), loss = 0.6357, time = 20.93 seconds ___\n"
          ],
          "name": "stdout"
        },
        {
          "output_type": "stream",
          "text": [
            "___ batch index = 750 / 1836 (40.85%), loss = 0.5006, time = 19.36 seconds ___\n"
          ],
          "name": "stdout"
        },
        {
          "output_type": "stream",
          "text": [
            "___ batch index = 1000 / 1836 (54.47%), loss = 0.4949, time = 21.56 seconds ___\n"
          ],
          "name": "stdout"
        },
        {
          "output_type": "stream",
          "text": [
            "___ batch index = 1250 / 1836 (68.08%), loss = 0.5091, time = 19.85 seconds ___\n"
          ],
          "name": "stdout"
        },
        {
          "output_type": "stream",
          "text": [
            "___ batch index = 1500 / 1836 (81.70%), loss = 0.6064, time = 19.92 seconds ___\n"
          ],
          "name": "stdout"
        },
        {
          "output_type": "stream",
          "text": [
            "___ batch index = 1750 / 1836 (95.32%), loss = 0.9721, time = 21.25 seconds ___\n"
          ],
          "name": "stdout"
        },
        {
          "output_type": "stream",
          "text": [
            "\n",
            "*** avg_loss : 0.56, time : ~2.0 min (152.38 sec) ***\n",
            "\n"
          ],
          "name": "stdout"
        },
        {
          "output_type": "stream",
          "text": [
            "==> evaluation : avg_loss = 0.68, time : 21.10 sec\n",
            "\n"
          ],
          "name": "stdout"
        },
        {
          "output_type": "stream",
          "text": [
            "threshold:  [0.5324391]\n",
            "=====>\t{'Positive Rate': array([0.47446457], dtype=float32), 'threshold': 0.5324391, 'accuracy': 0.57166392092257, 'f1': 0.5723684210526315, 'recall': 0.6041666666666666, 'specificity': 0.542319749216301, 'default_accuracy': 0.5634266886326195, 'default_f1': 0.5966514459665144, 'default_recall': 0.6805555555555556, 'default_specificity': 0.45768025078369906}\n",
            "\n",
            "=============== EPOCH 17 / 30 ===============\n",
            "\n",
            "___ batch index = 0 / 1836 (0.00%), loss = 0.4129, time = 0.10 seconds ___\n"
          ],
          "name": "stdout"
        },
        {
          "output_type": "stream",
          "text": [
            "___ batch index = 250 / 1836 (13.62%), loss = 0.4068, time = 21.74 seconds ___\n"
          ],
          "name": "stdout"
        },
        {
          "output_type": "stream",
          "text": [
            "___ batch index = 500 / 1836 (27.23%), loss = 0.6360, time = 20.99 seconds ___\n"
          ],
          "name": "stdout"
        },
        {
          "output_type": "stream",
          "text": [
            "___ batch index = 750 / 1836 (40.85%), loss = 0.4978, time = 19.30 seconds ___\n"
          ],
          "name": "stdout"
        },
        {
          "output_type": "stream",
          "text": [
            "___ batch index = 1000 / 1836 (54.47%), loss = 0.4947, time = 21.62 seconds ___\n"
          ],
          "name": "stdout"
        },
        {
          "output_type": "stream",
          "text": [
            "___ batch index = 1250 / 1836 (68.08%), loss = 0.4986, time = 19.80 seconds ___\n"
          ],
          "name": "stdout"
        },
        {
          "output_type": "stream",
          "text": [
            "___ batch index = 1500 / 1836 (81.70%), loss = 0.5836, time = 19.98 seconds ___\n"
          ],
          "name": "stdout"
        },
        {
          "output_type": "stream",
          "text": [
            "___ batch index = 1750 / 1836 (95.32%), loss = 0.9320, time = 21.19 seconds ___\n"
          ],
          "name": "stdout"
        },
        {
          "output_type": "stream",
          "text": [
            "\n",
            "*** avg_loss : 0.54, time : ~2.0 min (152.41 sec) ***\n",
            "\n"
          ],
          "name": "stdout"
        },
        {
          "output_type": "stream",
          "text": [
            "==> evaluation : avg_loss = 0.68, time : 21.13 sec\n",
            "\n"
          ],
          "name": "stdout"
        },
        {
          "output_type": "stream",
          "text": [
            "threshold:  [0.52800953]\n",
            "=====>\t{'Positive Rate': array([0.47446457], dtype=float32), 'threshold': 0.52800953, 'accuracy': 0.5749588138385503, 'f1': 0.5756578947368421, 'recall': 0.6076388888888888, 'specificity': 0.5454545454545454, 'default_accuracy': 0.5667215815485996, 'default_f1': 0.5922480620155038, 'default_recall': 0.6631944444444444, 'default_specificity': 0.47962382445141066}\n",
            "\n",
            "=============== EPOCH 18 / 30 ===============\n",
            "\n",
            "___ batch index = 0 / 1836 (0.00%), loss = 0.5610, time = 0.08 seconds ___\n"
          ],
          "name": "stdout"
        },
        {
          "output_type": "stream",
          "text": [
            "___ batch index = 250 / 1836 (13.62%), loss = 0.4099, time = 21.67 seconds ___\n"
          ],
          "name": "stdout"
        },
        {
          "output_type": "stream",
          "text": [
            "___ batch index = 500 / 1836 (27.23%), loss = 0.5731, time = 20.99 seconds ___\n"
          ],
          "name": "stdout"
        },
        {
          "output_type": "stream",
          "text": [
            "___ batch index = 750 / 1836 (40.85%), loss = 0.4216, time = 19.35 seconds ___\n"
          ],
          "name": "stdout"
        },
        {
          "output_type": "stream",
          "text": [
            "___ batch index = 1000 / 1836 (54.47%), loss = 0.4792, time = 21.55 seconds ___\n"
          ],
          "name": "stdout"
        },
        {
          "output_type": "stream",
          "text": [
            "___ batch index = 1250 / 1836 (68.08%), loss = 0.4908, time = 19.85 seconds ___\n"
          ],
          "name": "stdout"
        },
        {
          "output_type": "stream",
          "text": [
            "___ batch index = 1500 / 1836 (81.70%), loss = 0.5625, time = 19.98 seconds ___\n"
          ],
          "name": "stdout"
        },
        {
          "output_type": "stream",
          "text": [
            "___ batch index = 1750 / 1836 (95.32%), loss = 0.9398, time = 21.19 seconds ___\n"
          ],
          "name": "stdout"
        },
        {
          "output_type": "stream",
          "text": [
            "\n",
            "*** avg_loss : 0.52, time : ~2.0 min (152.35 sec) ***\n",
            "\n"
          ],
          "name": "stdout"
        },
        {
          "output_type": "stream",
          "text": [
            "==> evaluation : avg_loss = 0.68, time : 21.14 sec\n",
            "\n"
          ],
          "name": "stdout"
        },
        {
          "output_type": "stream",
          "text": [
            "threshold:  [0.5262112]\n",
            "=====>\t{'Positive Rate': array([0.47446457], dtype=float32), 'threshold': 0.5262112, 'accuracy': 0.5848434925864909, 'f1': 0.5855263157894737, 'recall': 0.6180555555555556, 'specificity': 0.554858934169279, 'default_accuracy': 0.5782537067545305, 'default_f1': 0.5936507936507937, 'default_recall': 0.6493055555555556, 'default_specificity': 0.5141065830721003}\n",
            "\n",
            "=============== EPOCH 19 / 30 ===============\n",
            "\n",
            "___ batch index = 0 / 1836 (0.00%), loss = 0.3301, time = 0.08 seconds ___\n"
          ],
          "name": "stdout"
        },
        {
          "output_type": "stream",
          "text": [
            "___ batch index = 250 / 1836 (13.62%), loss = 0.4072, time = 21.74 seconds ___\n"
          ],
          "name": "stdout"
        },
        {
          "output_type": "stream",
          "text": [
            "___ batch index = 500 / 1836 (27.23%), loss = 0.5413, time = 20.99 seconds ___\n"
          ],
          "name": "stdout"
        },
        {
          "output_type": "stream",
          "text": [
            "___ batch index = 750 / 1836 (40.85%), loss = 0.5097, time = 19.30 seconds ___\n"
          ],
          "name": "stdout"
        },
        {
          "output_type": "stream",
          "text": [
            "___ batch index = 1000 / 1836 (54.47%), loss = 0.4364, time = 21.55 seconds ___\n"
          ],
          "name": "stdout"
        },
        {
          "output_type": "stream",
          "text": [
            "___ batch index = 1250 / 1836 (68.08%), loss = 0.4122, time = 19.86 seconds ___\n"
          ],
          "name": "stdout"
        },
        {
          "output_type": "stream",
          "text": [
            "___ batch index = 1500 / 1836 (81.70%), loss = 0.5167, time = 19.92 seconds ___\n"
          ],
          "name": "stdout"
        },
        {
          "output_type": "stream",
          "text": [
            "___ batch index = 1750 / 1836 (95.32%), loss = 0.9308, time = 21.25 seconds ___\n"
          ],
          "name": "stdout"
        },
        {
          "output_type": "stream",
          "text": [
            "\n",
            "*** avg_loss : 0.50, time : ~2.0 min (152.37 sec) ***\n",
            "\n"
          ],
          "name": "stdout"
        },
        {
          "output_type": "stream",
          "text": [
            "==> evaluation : avg_loss = 0.68, time : 21.14 sec\n",
            "\n"
          ],
          "name": "stdout"
        },
        {
          "output_type": "stream",
          "text": [
            "threshold:  [0.5376745]\n",
            "=====>\t{'Positive Rate': array([0.47446457], dtype=float32), 'threshold': 0.5376745, 'accuracy': 0.5881383855024712, 'f1': 0.5888157894736841, 'recall': 0.6215277777777778, 'specificity': 0.5579937304075235, 'default_accuracy': 0.5848434925864909, 'default_f1': 0.6050156739811912, 'default_recall': 0.6701388888888888, 'default_specificity': 0.5078369905956113}\n",
            "\n",
            "=============== EPOCH 20 / 30 ===============\n",
            "\n",
            "___ batch index = 0 / 1836 (0.00%), loss = 0.2745, time = 0.08 seconds ___\n"
          ],
          "name": "stdout"
        },
        {
          "output_type": "stream",
          "text": [
            "___ batch index = 250 / 1836 (13.62%), loss = 0.3408, time = 21.70 seconds ___\n"
          ],
          "name": "stdout"
        },
        {
          "output_type": "stream",
          "text": [
            "___ batch index = 500 / 1836 (27.23%), loss = 0.6072, time = 20.99 seconds ___\n"
          ],
          "name": "stdout"
        },
        {
          "output_type": "stream",
          "text": [
            "___ batch index = 750 / 1836 (40.85%), loss = 0.3921, time = 19.29 seconds ___\n"
          ],
          "name": "stdout"
        },
        {
          "output_type": "stream",
          "text": [
            "___ batch index = 1000 / 1836 (54.47%), loss = 0.3757, time = 21.56 seconds ___\n"
          ],
          "name": "stdout"
        },
        {
          "output_type": "stream",
          "text": [
            "___ batch index = 1250 / 1836 (68.08%), loss = 0.4011, time = 19.85 seconds ___\n"
          ],
          "name": "stdout"
        },
        {
          "output_type": "stream",
          "text": [
            "___ batch index = 1500 / 1836 (81.70%), loss = 0.5011, time = 19.98 seconds ___\n"
          ],
          "name": "stdout"
        },
        {
          "output_type": "stream",
          "text": [
            "___ batch index = 1750 / 1836 (95.32%), loss = 0.9849, time = 21.19 seconds ___\n"
          ],
          "name": "stdout"
        },
        {
          "output_type": "stream",
          "text": [
            "\n",
            "*** avg_loss : 0.48, time : ~2.0 min (152.33 sec) ***\n",
            "\n"
          ],
          "name": "stdout"
        },
        {
          "output_type": "stream",
          "text": [
            "==> evaluation : avg_loss = 0.68, time : 21.15 sec\n",
            "\n"
          ],
          "name": "stdout"
        },
        {
          "output_type": "stream",
          "text": [
            "threshold:  [0.52174115]\n",
            "=====>\t{'Positive Rate': array([0.47446457], dtype=float32), 'threshold': 0.52174115, 'accuracy': 0.5980230642504119, 'f1': 0.5986842105263158, 'recall': 0.6319444444444444, 'specificity': 0.567398119122257, 'default_accuracy': 0.5980230642504119, 'default_f1': 0.608974358974359, 'default_recall': 0.6597222222222222, 'default_specificity': 0.542319749216301}\n",
            "\n",
            "=============== EPOCH 21 / 30 ===============\n",
            "\n",
            "___ batch index = 0 / 1836 (0.00%), loss = 0.2337, time = 0.08 seconds ___\n"
          ],
          "name": "stdout"
        },
        {
          "output_type": "stream",
          "text": [
            "___ batch index = 250 / 1836 (13.62%), loss = 0.3539, time = 21.68 seconds ___\n"
          ],
          "name": "stdout"
        },
        {
          "output_type": "stream",
          "text": [
            "___ batch index = 500 / 1836 (27.23%), loss = 0.5435, time = 20.99 seconds ___\n"
          ],
          "name": "stdout"
        },
        {
          "output_type": "stream",
          "text": [
            "___ batch index = 750 / 1836 (40.85%), loss = 0.4166, time = 19.30 seconds ___\n"
          ],
          "name": "stdout"
        },
        {
          "output_type": "stream",
          "text": [
            "___ batch index = 1000 / 1836 (54.47%), loss = 0.3447, time = 21.62 seconds ___\n"
          ],
          "name": "stdout"
        },
        {
          "output_type": "stream",
          "text": [
            "___ batch index = 1250 / 1836 (68.08%), loss = 0.3899, time = 19.85 seconds ___\n"
          ],
          "name": "stdout"
        },
        {
          "output_type": "stream",
          "text": [
            "___ batch index = 1500 / 1836 (81.70%), loss = 0.4597, time = 19.93 seconds ___\n"
          ],
          "name": "stdout"
        },
        {
          "output_type": "stream",
          "text": [
            "___ batch index = 1750 / 1836 (95.32%), loss = 0.9574, time = 21.25 seconds ___\n"
          ],
          "name": "stdout"
        },
        {
          "output_type": "stream",
          "text": [
            "\n",
            "*** avg_loss : 0.46, time : ~2.0 min (152.39 sec) ***\n",
            "\n"
          ],
          "name": "stdout"
        },
        {
          "output_type": "stream",
          "text": [
            "==> evaluation : avg_loss = 0.68, time : 21.11 sec\n",
            "\n"
          ],
          "name": "stdout"
        },
        {
          "output_type": "stream",
          "text": [
            "threshold:  [0.5089411]\n",
            "=====>\t{'Positive Rate': array([0.47446457], dtype=float32), 'threshold': 0.5089411, 'accuracy': 0.6046128500823723, 'f1': 0.6052631578947367, 'recall': 0.6388888888888888, 'specificity': 0.5736677115987461, 'default_accuracy': 0.6029654036243822, 'default_f1': 0.6068515497553018, 'default_recall': 0.6458333333333334, 'default_specificity': 0.5642633228840125}\n",
            "\n",
            "=============== EPOCH 22 / 30 ===============\n",
            "\n",
            "___ batch index = 0 / 1836 (0.00%), loss = 0.2026, time = 0.08 seconds ___\n"
          ],
          "name": "stdout"
        },
        {
          "output_type": "stream",
          "text": [
            "___ batch index = 250 / 1836 (13.62%), loss = 0.3142, time = 21.69 seconds ___\n"
          ],
          "name": "stdout"
        },
        {
          "output_type": "stream",
          "text": [
            "___ batch index = 500 / 1836 (27.23%), loss = 0.4276, time = 20.99 seconds ___\n"
          ],
          "name": "stdout"
        },
        {
          "output_type": "stream",
          "text": [
            "___ batch index = 750 / 1836 (40.85%), loss = 0.4214, time = 19.35 seconds ___\n"
          ],
          "name": "stdout"
        },
        {
          "output_type": "stream",
          "text": [
            "___ batch index = 1000 / 1836 (54.47%), loss = 0.3188, time = 21.56 seconds ___\n"
          ],
          "name": "stdout"
        },
        {
          "output_type": "stream",
          "text": [
            "___ batch index = 1250 / 1836 (68.08%), loss = 0.4197, time = 19.85 seconds ___\n"
          ],
          "name": "stdout"
        },
        {
          "output_type": "stream",
          "text": [
            "___ batch index = 1500 / 1836 (81.70%), loss = 0.4056, time = 19.92 seconds ___\n"
          ],
          "name": "stdout"
        },
        {
          "output_type": "stream",
          "text": [
            "___ batch index = 1750 / 1836 (95.32%), loss = 0.9597, time = 21.25 seconds ___\n"
          ],
          "name": "stdout"
        },
        {
          "output_type": "stream",
          "text": [
            "\n",
            "*** avg_loss : 0.44, time : ~2.0 min (152.37 sec) ***\n",
            "\n"
          ],
          "name": "stdout"
        },
        {
          "output_type": "stream",
          "text": [
            "==> evaluation : avg_loss = 0.68, time : 21.15 sec\n",
            "\n"
          ],
          "name": "stdout"
        },
        {
          "output_type": "stream",
          "text": [
            "threshold:  [0.5011315]\n",
            "=====>\t{'Positive Rate': array([0.47446457], dtype=float32), 'threshold': 0.5011315, 'accuracy': 0.6144975288303131, 'f1': 0.6151315789473685, 'recall': 0.6493055555555556, 'specificity': 0.5830721003134797, 'default_accuracy': 0.6144975288303131, 'default_f1': 0.6163934426229509, 'default_recall': 0.6527777777777778, 'default_specificity': 0.5799373040752351}\n",
            "\n",
            "=============== EPOCH 23 / 30 ===============\n",
            "\n",
            "___ batch index = 0 / 1836 (0.00%), loss = 0.5099, time = 0.08 seconds ___\n"
          ],
          "name": "stdout"
        },
        {
          "output_type": "stream",
          "text": [
            "___ batch index = 250 / 1836 (13.62%), loss = 0.3780, time = 21.69 seconds ___\n"
          ],
          "name": "stdout"
        },
        {
          "output_type": "stream",
          "text": [
            "___ batch index = 500 / 1836 (27.23%), loss = 0.5057, time = 20.99 seconds ___\n"
          ],
          "name": "stdout"
        },
        {
          "output_type": "stream",
          "text": [
            "___ batch index = 750 / 1836 (40.85%), loss = 0.3125, time = 19.30 seconds ___\n"
          ],
          "name": "stdout"
        },
        {
          "output_type": "stream",
          "text": [
            "___ batch index = 1000 / 1836 (54.47%), loss = 0.3082, time = 21.62 seconds ___\n"
          ],
          "name": "stdout"
        },
        {
          "output_type": "stream",
          "text": [
            "___ batch index = 1250 / 1836 (68.08%), loss = 0.3661, time = 19.79 seconds ___\n"
          ],
          "name": "stdout"
        },
        {
          "output_type": "stream",
          "text": [
            "___ batch index = 1500 / 1836 (81.70%), loss = 0.4458, time = 19.98 seconds ___\n"
          ],
          "name": "stdout"
        },
        {
          "output_type": "stream",
          "text": [
            "___ batch index = 1750 / 1836 (95.32%), loss = 0.9526, time = 21.19 seconds ___\n"
          ],
          "name": "stdout"
        },
        {
          "output_type": "stream",
          "text": [
            "\n",
            "*** avg_loss : 0.42, time : ~2.0 min (152.33 sec) ***\n",
            "\n"
          ],
          "name": "stdout"
        },
        {
          "output_type": "stream",
          "text": [
            "==> evaluation : avg_loss = 0.69, time : 21.15 sec\n",
            "\n"
          ],
          "name": "stdout"
        },
        {
          "output_type": "stream",
          "text": [
            "threshold:  [0.48790404]\n",
            "=====>\t{'Positive Rate': array([0.47446457], dtype=float32), 'threshold': 0.48790404, 'accuracy': 0.6210873146622735, 'f1': 0.6217105263157895, 'recall': 0.65625, 'specificity': 0.5893416927899686, 'default_accuracy': 0.6227347611202636, 'default_f1': 0.6176961602671119, 'default_recall': 0.6423611111111112, 'default_specificity': 0.6050156739811913}\n",
            "\n",
            "=============== EPOCH 24 / 30 ===============\n",
            "\n",
            "___ batch index = 0 / 1836 (0.00%), loss = 0.1254, time = 0.08 seconds ___\n"
          ],
          "name": "stdout"
        },
        {
          "output_type": "stream",
          "text": [
            "___ batch index = 250 / 1836 (13.62%), loss = 0.3243, time = 21.69 seconds ___\n"
          ],
          "name": "stdout"
        },
        {
          "output_type": "stream",
          "text": [
            "___ batch index = 500 / 1836 (27.23%), loss = 0.3300, time = 20.99 seconds ___\n"
          ],
          "name": "stdout"
        },
        {
          "output_type": "stream",
          "text": [
            "___ batch index = 750 / 1836 (40.85%), loss = 0.3853, time = 19.31 seconds ___\n"
          ],
          "name": "stdout"
        },
        {
          "output_type": "stream",
          "text": [
            "___ batch index = 1000 / 1836 (54.47%), loss = 0.3184, time = 21.69 seconds ___\n"
          ],
          "name": "stdout"
        },
        {
          "output_type": "stream",
          "text": [
            "___ batch index = 1250 / 1836 (68.08%), loss = 0.2856, time = 19.86 seconds ___\n"
          ],
          "name": "stdout"
        },
        {
          "output_type": "stream",
          "text": [
            "___ batch index = 1500 / 1836 (81.70%), loss = 0.3197, time = 20.05 seconds ___\n"
          ],
          "name": "stdout"
        },
        {
          "output_type": "stream",
          "text": [
            "___ batch index = 1750 / 1836 (95.32%), loss = 0.9789, time = 21.26 seconds ___\n"
          ],
          "name": "stdout"
        },
        {
          "output_type": "stream",
          "text": [
            "\n",
            "*** avg_loss : 0.41, time : ~2.0 min (152.63 sec) ***\n",
            "\n"
          ],
          "name": "stdout"
        },
        {
          "output_type": "stream",
          "text": [
            "==> evaluation : avg_loss = 0.70, time : 21.26 sec\n",
            "\n"
          ],
          "name": "stdout"
        },
        {
          "output_type": "stream",
          "text": [
            "threshold:  [0.48110223]\n",
            "=====>\t{'Positive Rate': array([0.47446457], dtype=float32), 'threshold': 0.48110223, 'accuracy': 0.6210873146622735, 'f1': 0.6217105263157895, 'recall': 0.65625, 'specificity': 0.5893416927899686, 'default_accuracy': 0.6293245469522241, 'default_f1': 0.6218487394957984, 'default_recall': 0.6423611111111112, 'default_specificity': 0.6175548589341693}\n",
            "\n",
            "=============== EPOCH 25 / 30 ===============\n",
            "\n",
            "___ batch index = 0 / 1836 (0.00%), loss = 0.1589, time = 0.08 seconds ___\n"
          ],
          "name": "stdout"
        },
        {
          "output_type": "stream",
          "text": [
            "___ batch index = 250 / 1836 (13.62%), loss = 0.3465, time = 21.81 seconds ___\n"
          ],
          "name": "stdout"
        },
        {
          "output_type": "stream",
          "text": [
            "___ batch index = 500 / 1836 (27.23%), loss = 0.3925, time = 21.00 seconds ___\n"
          ],
          "name": "stdout"
        },
        {
          "output_type": "stream",
          "text": [
            "___ batch index = 750 / 1836 (40.85%), loss = 0.2900, time = 19.43 seconds ___\n"
          ],
          "name": "stdout"
        },
        {
          "output_type": "stream",
          "text": [
            "___ batch index = 1000 / 1836 (54.47%), loss = 0.2063, time = 21.63 seconds ___\n"
          ],
          "name": "stdout"
        },
        {
          "output_type": "stream",
          "text": [
            "___ batch index = 1250 / 1836 (68.08%), loss = 0.2678, time = 19.92 seconds ___\n"
          ],
          "name": "stdout"
        },
        {
          "output_type": "stream",
          "text": [
            "___ batch index = 1500 / 1836 (81.70%), loss = 0.4420, time = 19.99 seconds ___\n"
          ],
          "name": "stdout"
        },
        {
          "output_type": "stream",
          "text": [
            "___ batch index = 1750 / 1836 (95.32%), loss = 0.9561, time = 21.32 seconds ___\n"
          ],
          "name": "stdout"
        },
        {
          "output_type": "stream",
          "text": [
            "\n",
            "*** avg_loss : 0.38, time : ~2.0 min (152.88 sec) ***\n",
            "\n"
          ],
          "name": "stdout"
        },
        {
          "output_type": "stream",
          "text": [
            "==> evaluation : avg_loss = 0.71, time : 21.17 sec\n",
            "\n"
          ],
          "name": "stdout"
        },
        {
          "output_type": "stream",
          "text": [
            "threshold:  [0.45853087]\n",
            "=====>\t{'Positive Rate': array([0.47446457], dtype=float32), 'threshold': 0.45853087, 'accuracy': 0.6194398682042833, 'f1': 0.6206896551724138, 'recall': 0.65625, 'specificity': 0.5862068965517241, 'default_accuracy': 0.6293245469522241, 'default_f1': 0.6179966044142614, 'default_recall': 0.6319444444444444, 'default_specificity': 0.6269592476489029}\n",
            "\n",
            "=============== EPOCH 26 / 30 ===============\n",
            "\n",
            "___ batch index = 0 / 1836 (0.00%), loss = 0.1413, time = 0.08 seconds ___\n"
          ],
          "name": "stdout"
        },
        {
          "output_type": "stream",
          "text": [
            "___ batch index = 250 / 1836 (13.62%), loss = 0.2740, time = 21.74 seconds ___\n"
          ],
          "name": "stdout"
        },
        {
          "output_type": "stream",
          "text": [
            "___ batch index = 500 / 1836 (27.23%), loss = 0.2795, time = 21.04 seconds ___\n"
          ],
          "name": "stdout"
        },
        {
          "output_type": "stream",
          "text": [
            "___ batch index = 750 / 1836 (40.85%), loss = 0.2779, time = 19.30 seconds ___\n"
          ],
          "name": "stdout"
        },
        {
          "output_type": "stream",
          "text": [
            "___ batch index = 1000 / 1836 (54.47%), loss = 0.1993, time = 21.63 seconds ___\n"
          ],
          "name": "stdout"
        },
        {
          "output_type": "stream",
          "text": [
            "___ batch index = 1250 / 1836 (68.08%), loss = 0.3112, time = 19.80 seconds ___\n"
          ],
          "name": "stdout"
        },
        {
          "output_type": "stream",
          "text": [
            "___ batch index = 1500 / 1836 (81.70%), loss = 0.2378, time = 19.99 seconds ___\n"
          ],
          "name": "stdout"
        },
        {
          "output_type": "stream",
          "text": [
            "___ batch index = 1750 / 1836 (95.32%), loss = 0.9782, time = 21.20 seconds ___\n"
          ],
          "name": "stdout"
        },
        {
          "output_type": "stream",
          "text": [
            "\n",
            "*** avg_loss : 0.36, time : ~2.0 min (152.45 sec) ***\n",
            "\n"
          ],
          "name": "stdout"
        },
        {
          "output_type": "stream",
          "text": [
            "==> evaluation : avg_loss = 0.72, time : 21.15 sec\n",
            "\n"
          ],
          "name": "stdout"
        },
        {
          "output_type": "stream",
          "text": [
            "threshold:  [0.46197298]\n",
            "=====>\t{'Positive Rate': array([0.47446457], dtype=float32), 'threshold': 0.46197298, 'accuracy': 0.6309719934102141, 'f1': 0.631578947368421, 'recall': 0.6666666666666666, 'specificity': 0.5987460815047022, 'default_accuracy': 0.6309719934102141, 'default_f1': 0.6241610738255033, 'default_recall': 0.6458333333333334, 'default_specificity': 0.6175548589341693}\n",
            "\n",
            "=============== EPOCH 27 / 30 ===============\n",
            "\n",
            "___ batch index = 0 / 1836 (0.00%), loss = 0.1663, time = 0.08 seconds ___\n"
          ],
          "name": "stdout"
        },
        {
          "output_type": "stream",
          "text": [
            "___ batch index = 250 / 1836 (13.62%), loss = 0.2112, time = 21.68 seconds ___\n"
          ],
          "name": "stdout"
        },
        {
          "output_type": "stream",
          "text": [
            "___ batch index = 500 / 1836 (27.23%), loss = 0.3209, time = 20.99 seconds ___\n"
          ],
          "name": "stdout"
        },
        {
          "output_type": "stream",
          "text": [
            "___ batch index = 750 / 1836 (40.85%), loss = 0.2378, time = 19.30 seconds ___\n"
          ],
          "name": "stdout"
        },
        {
          "output_type": "stream",
          "text": [
            "___ batch index = 1000 / 1836 (54.47%), loss = 0.2125, time = 21.63 seconds ___\n"
          ],
          "name": "stdout"
        },
        {
          "output_type": "stream",
          "text": [
            "___ batch index = 1250 / 1836 (68.08%), loss = 0.2851, time = 19.86 seconds ___\n"
          ],
          "name": "stdout"
        },
        {
          "output_type": "stream",
          "text": [
            "___ batch index = 1500 / 1836 (81.70%), loss = 0.3647, time = 19.93 seconds ___\n"
          ],
          "name": "stdout"
        },
        {
          "output_type": "stream",
          "text": [
            "___ batch index = 1750 / 1836 (95.32%), loss = 0.8936, time = 21.26 seconds ___\n"
          ],
          "name": "stdout"
        },
        {
          "output_type": "stream",
          "text": [
            "\n",
            "*** avg_loss : 0.34, time : ~2.0 min (152.41 sec) ***\n",
            "\n"
          ],
          "name": "stdout"
        },
        {
          "output_type": "stream",
          "text": [
            "==> evaluation : avg_loss = 0.73, time : 21.15 sec\n",
            "\n"
          ],
          "name": "stdout"
        },
        {
          "output_type": "stream",
          "text": [
            "threshold:  [0.4206934]\n",
            "=====>\t{'Positive Rate': array([0.47446457], dtype=float32), 'threshold': 0.4206934, 'accuracy': 0.6326194398682042, 'f1': 0.6338259441707716, 'recall': 0.6701388888888888, 'specificity': 0.5987460815047022, 'default_accuracy': 0.6293245469522241, 'default_f1': 0.614065180102916, 'default_recall': 0.6215277777777778, 'default_specificity': 0.6363636363636364}\n",
            "\n",
            "=============== EPOCH 28 / 30 ===============\n",
            "\n",
            "___ batch index = 0 / 1836 (0.00%), loss = 0.1758, time = 0.08 seconds ___\n"
          ],
          "name": "stdout"
        },
        {
          "output_type": "stream",
          "text": [
            "___ batch index = 250 / 1836 (13.62%), loss = 0.3295, time = 21.69 seconds ___\n"
          ],
          "name": "stdout"
        },
        {
          "output_type": "stream",
          "text": [
            "___ batch index = 500 / 1836 (27.23%), loss = 0.2625, time = 21.00 seconds ___\n"
          ],
          "name": "stdout"
        },
        {
          "output_type": "stream",
          "text": [
            "___ batch index = 750 / 1836 (40.85%), loss = 0.4281, time = 19.30 seconds ___\n"
          ],
          "name": "stdout"
        },
        {
          "output_type": "stream",
          "text": [
            "___ batch index = 1000 / 1836 (54.47%), loss = 0.1693, time = 21.62 seconds ___\n"
          ],
          "name": "stdout"
        },
        {
          "output_type": "stream",
          "text": [
            "___ batch index = 1250 / 1836 (68.08%), loss = 0.1827, time = 19.86 seconds ___\n"
          ],
          "name": "stdout"
        },
        {
          "output_type": "stream",
          "text": [
            "___ batch index = 1500 / 1836 (81.70%), loss = 0.3303, time = 19.93 seconds ___\n"
          ],
          "name": "stdout"
        },
        {
          "output_type": "stream",
          "text": [
            "___ batch index = 1750 / 1836 (95.32%), loss = 0.7334, time = 21.25 seconds ___\n"
          ],
          "name": "stdout"
        },
        {
          "output_type": "stream",
          "text": [
            "\n",
            "*** avg_loss : 0.32, time : ~2.0 min (152.43 sec) ***\n",
            "\n"
          ],
          "name": "stdout"
        },
        {
          "output_type": "stream",
          "text": [
            "==> evaluation : avg_loss = 0.75, time : 21.10 sec\n",
            "\n"
          ],
          "name": "stdout"
        },
        {
          "output_type": "stream",
          "text": [
            "threshold:  [0.453094]\n",
            "=====>\t{'Positive Rate': array([0.47446457], dtype=float32), 'threshold': 0.453094, 'accuracy': 0.6408566721581549, 'f1': 0.6414473684210525, 'recall': 0.6770833333333334, 'specificity': 0.6081504702194357, 'default_accuracy': 0.6309719934102141, 'default_f1': 0.6190476190476191, 'default_recall': 0.6319444444444444, 'default_specificity': 0.6300940438871473}\n",
            "\n",
            "=============== EPOCH 29 / 30 ===============\n",
            "\n",
            "___ batch index = 0 / 1836 (0.00%), loss = 0.1309, time = 0.08 seconds ___\n"
          ],
          "name": "stdout"
        },
        {
          "output_type": "stream",
          "text": [
            "___ batch index = 250 / 1836 (13.62%), loss = 0.3402, time = 21.68 seconds ___\n"
          ],
          "name": "stdout"
        },
        {
          "output_type": "stream",
          "text": [
            "___ batch index = 500 / 1836 (27.23%), loss = 0.2761, time = 21.00 seconds ___\n"
          ],
          "name": "stdout"
        },
        {
          "output_type": "stream",
          "text": [
            "___ batch index = 750 / 1836 (40.85%), loss = 0.2843, time = 19.36 seconds ___\n"
          ],
          "name": "stdout"
        },
        {
          "output_type": "stream",
          "text": [
            "___ batch index = 1000 / 1836 (54.47%), loss = 0.1805, time = 21.57 seconds ___\n"
          ],
          "name": "stdout"
        },
        {
          "output_type": "stream",
          "text": [
            "___ batch index = 1250 / 1836 (68.08%), loss = 0.2811, time = 19.86 seconds ___\n"
          ],
          "name": "stdout"
        },
        {
          "output_type": "stream",
          "text": [
            "___ batch index = 1500 / 1836 (81.70%), loss = 0.2413, time = 19.93 seconds ___\n"
          ],
          "name": "stdout"
        },
        {
          "output_type": "stream",
          "text": [
            "___ batch index = 1750 / 1836 (95.32%), loss = 0.8656, time = 21.26 seconds ___\n"
          ],
          "name": "stdout"
        },
        {
          "output_type": "stream",
          "text": [
            "\n",
            "*** avg_loss : 0.30, time : ~2.0 min (152.42 sec) ***\n",
            "\n"
          ],
          "name": "stdout"
        },
        {
          "output_type": "stream",
          "text": [
            "==> evaluation : avg_loss = 0.76, time : 21.18 sec\n",
            "\n"
          ],
          "name": "stdout"
        },
        {
          "output_type": "stream",
          "text": [
            "threshold:  [0.39604795]\n",
            "=====>\t{'Positive Rate': array([0.47446457], dtype=float32), 'threshold': 0.39604795, 'accuracy': 0.6342668863261944, 'f1': 0.6348684210526316, 'recall': 0.6701388888888888, 'specificity': 0.6018808777429467, 'default_accuracy': 0.6457990115321252, 'default_f1': 0.6273830155979202, 'default_recall': 0.6284722222222222, 'default_specificity': 0.6614420062695925}\n",
            "\n",
            "=============== EPOCH 30 / 30 ===============\n",
            "\n",
            "___ batch index = 0 / 1836 (0.00%), loss = 0.0693, time = 0.08 seconds ___\n"
          ],
          "name": "stdout"
        },
        {
          "output_type": "stream",
          "text": [
            "___ batch index = 250 / 1836 (13.62%), loss = 0.2584, time = 21.68 seconds ___\n"
          ],
          "name": "stdout"
        },
        {
          "output_type": "stream",
          "text": [
            "___ batch index = 500 / 1836 (27.23%), loss = 0.1577, time = 21.00 seconds ___\n"
          ],
          "name": "stdout"
        },
        {
          "output_type": "stream",
          "text": [
            "___ batch index = 750 / 1836 (40.85%), loss = 0.2079, time = 19.31 seconds ___\n"
          ],
          "name": "stdout"
        },
        {
          "output_type": "stream",
          "text": [
            "___ batch index = 1000 / 1836 (54.47%), loss = 0.1631, time = 21.62 seconds ___\n"
          ],
          "name": "stdout"
        },
        {
          "output_type": "stream",
          "text": [
            "___ batch index = 1250 / 1836 (68.08%), loss = 0.2011, time = 19.80 seconds ___\n"
          ],
          "name": "stdout"
        },
        {
          "output_type": "stream",
          "text": [
            "___ batch index = 1500 / 1836 (81.70%), loss = 0.1865, time = 19.99 seconds ___\n"
          ],
          "name": "stdout"
        },
        {
          "output_type": "stream",
          "text": [
            "___ batch index = 1750 / 1836 (95.32%), loss = 0.7984, time = 21.20 seconds ___\n"
          ],
          "name": "stdout"
        },
        {
          "output_type": "stream",
          "text": [
            "\n",
            "*** avg_loss : 0.27, time : ~2.0 min (152.36 sec) ***\n",
            "\n"
          ],
          "name": "stdout"
        },
        {
          "output_type": "stream",
          "text": [
            "==> evaluation : avg_loss = 0.78, time : 21.17 sec\n",
            "\n"
          ],
          "name": "stdout"
        },
        {
          "output_type": "stream",
          "text": [
            "threshold:  [0.3671253]\n",
            "=====>\t{'Positive Rate': array([0.47446457], dtype=float32), 'threshold': 0.3671253, 'accuracy': 0.6408566721581549, 'f1': 0.6414473684210525, 'recall': 0.6770833333333334, 'specificity': 0.6081504702194357, 'default_accuracy': 0.642504118616145, 'default_f1': 0.6212914485165795, 'default_recall': 0.6180555555555556, 'default_specificity': 0.664576802507837}\n"
          ],
          "name": "stdout"
        },
        {
          "output_type": "stream",
          "text": [
            "-----------------BEST TH:  0.453094\n",
            "-----------------TEST EVALUATION {'Positive Rate': array([0.4864865], dtype=float32), 'accuracy': 0.6418918918918919, 'f1': 0.6501650165016502, 'recall': 0.6840277777777778, 'specificity': 0.6019736842105263, 'default_accuracy': 0.6570945945945946, 'default_f1': 0.6588235294117646, 'default_recall': 0.6805555555555556, 'default_specificity': 0.6348684210526315}\n",
            "%%%%%%%%%%%%%%%%%%%%%%%%%%%%%%%%%%%% Para label:  Adecuación curricular de acceso %%%%%%%%%%%%%%%%%%%%%%%%%%%\n"
          ],
          "name": "stdout"
        },
        {
          "output_type": "stream",
          "text": [
            "Some weights of the model checkpoint at dccuchile/bert-base-spanish-wwm-cased were not used when initializing BertModel: ['cls.predictions.transform.LayerNorm.bias', 'cls.predictions.bias', 'cls.predictions.transform.dense.weight', 'cls.predictions.transform.dense.bias', 'cls.predictions.transform.LayerNorm.weight', 'cls.predictions.decoder.weight', 'cls.predictions.decoder.bias']\n",
            "- This IS expected if you are initializing BertModel from the checkpoint of a model trained on another task or with another architecture (e.g. initializing a BertForSequenceClassification model from a BertForPreTraining model).\n",
            "- This IS NOT expected if you are initializing BertModel from the checkpoint of a model that you expect to be exactly identical (initializing a BertForSequenceClassification model from a BertForSequenceClassification model).\n"
          ],
          "name": "stderr"
        },
        {
          "output_type": "stream",
          "text": [
            "Some weights of BertModel were not initialized from the model checkpoint at dccuchile/bert-base-spanish-wwm-cased and are newly initialized: ['bert.pooler.dense.weight', 'bert.pooler.dense.bias']\n",
            "You should probably TRAIN this model on a down-stream task to be able to use it for predictions and inference.\n"
          ],
          "name": "stderr"
        },
        {
          "output_type": "stream",
          "text": [
            "\n",
            "=============== EPOCH 1 / 30 ===============\n",
            "\n",
            "___ batch index = 0 / 1836 (0.00%), loss = 0.5788, time = 0.08 seconds ___\n"
          ],
          "name": "stdout"
        },
        {
          "output_type": "stream",
          "text": [
            "___ batch index = 250 / 1836 (13.62%), loss = 0.6222, time = 21.68 seconds ___\n"
          ],
          "name": "stdout"
        },
        {
          "output_type": "stream",
          "text": [
            "___ batch index = 500 / 1836 (27.23%), loss = 0.6512, time = 20.98 seconds ___\n"
          ],
          "name": "stdout"
        },
        {
          "output_type": "stream",
          "text": [
            "___ batch index = 750 / 1836 (40.85%), loss = 0.5047, time = 19.29 seconds ___\n"
          ],
          "name": "stdout"
        },
        {
          "output_type": "stream",
          "text": [
            "___ batch index = 1000 / 1836 (54.47%), loss = 0.9743, time = 21.60 seconds ___\n"
          ],
          "name": "stdout"
        },
        {
          "output_type": "stream",
          "text": [
            "___ batch index = 1250 / 1836 (68.08%), loss = 0.5497, time = 19.84 seconds ___\n"
          ],
          "name": "stdout"
        },
        {
          "output_type": "stream",
          "text": [
            "___ batch index = 1500 / 1836 (81.70%), loss = 0.5331, time = 19.92 seconds ___\n"
          ],
          "name": "stdout"
        },
        {
          "output_type": "stream",
          "text": [
            "___ batch index = 1750 / 1836 (95.32%), loss = 0.6956, time = 21.24 seconds ___\n"
          ],
          "name": "stdout"
        },
        {
          "output_type": "stream",
          "text": [
            "\n",
            "*** avg_loss : 0.61, time : ~2.0 min (152.30 sec) ***\n",
            "\n"
          ],
          "name": "stdout"
        },
        {
          "output_type": "stream",
          "text": [
            "==> evaluation : avg_loss = 0.53, time : 21.13 sec\n",
            "\n"
          ],
          "name": "stdout"
        },
        {
          "output_type": "stream",
          "text": [
            "threshold:  [0.7605759]\n",
            "=====>\t{'Positive Rate': array([0.78088963], dtype=float32), 'threshold': 0.7605759, 'accuracy': 0.3640856672158155, 'f1': 0.3630363036303631, 'recall': 0.2320675105485232, 'specificity': 0.8345864661654135, 'default_accuracy': 0.7808896210873146, 'default_f1': 0.8769657724329325, 'default_recall': 1.0, 'default_specificity': 0.0}\n",
            "\n",
            "=============== EPOCH 2 / 30 ===============\n",
            "\n",
            "___ batch index = 0 / 1836 (0.00%), loss = 1.1910, time = 0.08 seconds ___\n"
          ],
          "name": "stdout"
        },
        {
          "output_type": "stream",
          "text": [
            "___ batch index = 250 / 1836 (13.62%), loss = 0.3756, time = 21.67 seconds ___\n"
          ],
          "name": "stdout"
        },
        {
          "output_type": "stream",
          "text": [
            "___ batch index = 500 / 1836 (27.23%), loss = 0.6310, time = 20.98 seconds ___\n"
          ],
          "name": "stdout"
        },
        {
          "output_type": "stream",
          "text": [
            "___ batch index = 750 / 1836 (40.85%), loss = 0.4270, time = 19.29 seconds ___\n"
          ],
          "name": "stdout"
        },
        {
          "output_type": "stream",
          "text": [
            "___ batch index = 1000 / 1836 (54.47%), loss = 1.0498, time = 21.61 seconds ___\n"
          ],
          "name": "stdout"
        },
        {
          "output_type": "stream",
          "text": [
            "___ batch index = 1250 / 1836 (68.08%), loss = 0.5354, time = 19.78 seconds ___\n"
          ],
          "name": "stdout"
        },
        {
          "output_type": "stream",
          "text": [
            "___ batch index = 1500 / 1836 (81.70%), loss = 0.5074, time = 19.98 seconds ___\n"
          ],
          "name": "stdout"
        },
        {
          "output_type": "stream",
          "text": [
            "___ batch index = 1750 / 1836 (95.32%), loss = 0.7135, time = 21.18 seconds ___\n"
          ],
          "name": "stdout"
        },
        {
          "output_type": "stream",
          "text": [
            "\n",
            "*** avg_loss : 0.59, time : ~2.0 min (152.25 sec) ***\n",
            "\n"
          ],
          "name": "stdout"
        },
        {
          "output_type": "stream",
          "text": [
            "==> evaluation : avg_loss = 0.53, time : 21.12 sec\n",
            "\n"
          ],
          "name": "stdout"
        },
        {
          "output_type": "stream",
          "text": [
            "threshold:  [0.76410913]\n",
            "=====>\t{'Positive Rate': array([0.78088963], dtype=float32), 'threshold': 0.76410913, 'accuracy': 0.36079077429983525, 'f1': 0.3597359735973597, 'recall': 0.229957805907173, 'specificity': 0.8270676691729323, 'default_accuracy': 0.7808896210873146, 'default_f1': 0.8769657724329325, 'default_recall': 1.0, 'default_specificity': 0.0}\n",
            "\n",
            "=============== EPOCH 3 / 30 ===============\n",
            "\n",
            "___ batch index = 0 / 1836 (0.00%), loss = 1.3036, time = 0.08 seconds ___\n"
          ],
          "name": "stdout"
        },
        {
          "output_type": "stream",
          "text": [
            "___ batch index = 250 / 1836 (13.62%), loss = 0.3852, time = 21.67 seconds ___\n"
          ],
          "name": "stdout"
        },
        {
          "output_type": "stream",
          "text": [
            "___ batch index = 500 / 1836 (27.23%), loss = 0.6326, time = 20.98 seconds ___\n"
          ],
          "name": "stdout"
        },
        {
          "output_type": "stream",
          "text": [
            "___ batch index = 750 / 1836 (40.85%), loss = 0.4089, time = 19.29 seconds ___\n"
          ],
          "name": "stdout"
        },
        {
          "output_type": "stream",
          "text": [
            "___ batch index = 1000 / 1836 (54.47%), loss = 1.0285, time = 21.61 seconds ___\n"
          ],
          "name": "stdout"
        },
        {
          "output_type": "stream",
          "text": [
            "___ batch index = 1250 / 1836 (68.08%), loss = 0.5545, time = 19.84 seconds ___\n"
          ],
          "name": "stdout"
        },
        {
          "output_type": "stream",
          "text": [
            "___ batch index = 1500 / 1836 (81.70%), loss = 0.5227, time = 19.92 seconds ___\n"
          ],
          "name": "stdout"
        },
        {
          "output_type": "stream",
          "text": [
            "___ batch index = 1750 / 1836 (95.32%), loss = 0.7128, time = 21.24 seconds ___\n"
          ],
          "name": "stdout"
        },
        {
          "output_type": "stream",
          "text": [
            "\n",
            "*** avg_loss : 0.58, time : ~2.0 min (152.31 sec) ***\n",
            "\n"
          ],
          "name": "stdout"
        },
        {
          "output_type": "stream",
          "text": [
            "==> evaluation : avg_loss = 0.52, time : 21.15 sec\n",
            "\n"
          ],
          "name": "stdout"
        },
        {
          "output_type": "stream",
          "text": [
            "threshold:  [0.7703059]\n",
            "=====>\t{'Positive Rate': array([0.78088963], dtype=float32), 'threshold': 0.7703059, 'accuracy': 0.357495881383855, 'f1': 0.3564356435643564, 'recall': 0.22784810126582278, 'specificity': 0.8195488721804511, 'default_accuracy': 0.7808896210873146, 'default_f1': 0.8769657724329325, 'default_recall': 1.0, 'default_specificity': 0.0}\n",
            "\n",
            "=============== EPOCH 4 / 30 ===============\n",
            "\n",
            "___ batch index = 0 / 1836 (0.00%), loss = 1.3011, time = 0.08 seconds ___\n"
          ],
          "name": "stdout"
        },
        {
          "output_type": "stream",
          "text": [
            "___ batch index = 250 / 1836 (13.62%), loss = 0.3718, time = 21.69 seconds ___\n"
          ],
          "name": "stdout"
        },
        {
          "output_type": "stream",
          "text": [
            "___ batch index = 500 / 1836 (27.23%), loss = 0.6072, time = 20.99 seconds ___\n"
          ],
          "name": "stdout"
        },
        {
          "output_type": "stream",
          "text": [
            "___ batch index = 750 / 1836 (40.85%), loss = 0.4054, time = 19.29 seconds ___\n"
          ],
          "name": "stdout"
        },
        {
          "output_type": "stream",
          "text": [
            "___ batch index = 1000 / 1836 (54.47%), loss = 1.0166, time = 21.61 seconds ___\n"
          ],
          "name": "stdout"
        },
        {
          "output_type": "stream",
          "text": [
            "___ batch index = 1250 / 1836 (68.08%), loss = 0.5549, time = 19.74 seconds ___\n"
          ],
          "name": "stdout"
        },
        {
          "output_type": "stream",
          "text": [
            "___ batch index = 1500 / 1836 (81.70%), loss = 0.5124, time = 19.89 seconds ___\n"
          ],
          "name": "stdout"
        },
        {
          "output_type": "stream",
          "text": [
            "___ batch index = 1750 / 1836 (95.32%), loss = 0.7020, time = 21.09 seconds ___\n"
          ],
          "name": "stdout"
        },
        {
          "output_type": "stream",
          "text": [
            "\n",
            "*** avg_loss : 0.58, time : ~2.0 min (152.07 sec) ***\n",
            "\n"
          ],
          "name": "stdout"
        },
        {
          "output_type": "stream",
          "text": [
            "==> evaluation : avg_loss = 0.52, time : 20.92 sec\n",
            "\n"
          ],
          "name": "stdout"
        },
        {
          "output_type": "stream",
          "text": [
            "threshold:  [0.7790648]\n",
            "=====>\t{'Positive Rate': array([0.78088963], dtype=float32), 'threshold': 0.7790648, 'accuracy': 0.3673805601317957, 'f1': 0.36633663366336633, 'recall': 0.23417721518987342, 'specificity': 0.8421052631578947, 'default_accuracy': 0.7808896210873146, 'default_f1': 0.8769657724329325, 'default_recall': 1.0, 'default_specificity': 0.0}\n",
            "\n",
            "=============== EPOCH 5 / 30 ===============\n",
            "\n",
            "___ batch index = 0 / 1836 (0.00%), loss = 1.3143, time = 0.08 seconds ___\n"
          ],
          "name": "stdout"
        },
        {
          "output_type": "stream",
          "text": [
            "___ batch index = 250 / 1836 (13.62%), loss = 0.4041, time = 21.56 seconds ___\n"
          ],
          "name": "stdout"
        },
        {
          "output_type": "stream",
          "text": [
            "___ batch index = 500 / 1836 (27.23%), loss = 0.6194, time = 20.89 seconds ___\n"
          ],
          "name": "stdout"
        },
        {
          "output_type": "stream",
          "text": [
            "___ batch index = 750 / 1836 (40.85%), loss = 0.3992, time = 19.25 seconds ___\n"
          ],
          "name": "stdout"
        },
        {
          "output_type": "stream",
          "text": [
            "___ batch index = 1000 / 1836 (54.47%), loss = 0.9675, time = 21.45 seconds ___\n"
          ],
          "name": "stdout"
        },
        {
          "output_type": "stream",
          "text": [
            "___ batch index = 1250 / 1836 (68.08%), loss = 0.5589, time = 19.75 seconds ___\n"
          ],
          "name": "stdout"
        },
        {
          "output_type": "stream",
          "text": [
            "___ batch index = 1500 / 1836 (81.70%), loss = 0.5311, time = 19.82 seconds ___\n"
          ],
          "name": "stdout"
        },
        {
          "output_type": "stream",
          "text": [
            "___ batch index = 1750 / 1836 (95.32%), loss = 0.6975, time = 21.15 seconds ___\n"
          ],
          "name": "stdout"
        },
        {
          "output_type": "stream",
          "text": [
            "\n",
            "*** avg_loss : 0.57, time : ~2.0 min (151.59 sec) ***\n",
            "\n"
          ],
          "name": "stdout"
        },
        {
          "output_type": "stream",
          "text": [
            "==> evaluation : avg_loss = 0.52, time : 20.93 sec\n",
            "\n"
          ],
          "name": "stdout"
        },
        {
          "output_type": "stream",
          "text": [
            "threshold:  [0.795189]\n",
            "=====>\t{'Positive Rate': array([0.78088963], dtype=float32), 'threshold': 0.795189, 'accuracy': 0.36079077429983525, 'f1': 0.3597359735973597, 'recall': 0.229957805907173, 'specificity': 0.8270676691729323, 'default_accuracy': 0.7808896210873146, 'default_f1': 0.8769657724329325, 'default_recall': 1.0, 'default_specificity': 0.0}\n",
            "\n",
            "=============== EPOCH 6 / 30 ===============\n",
            "\n",
            "___ batch index = 0 / 1836 (0.00%), loss = 1.3220, time = 0.08 seconds ___\n"
          ],
          "name": "stdout"
        },
        {
          "output_type": "stream",
          "text": [
            "___ batch index = 250 / 1836 (13.62%), loss = 0.3618, time = 21.58 seconds ___\n"
          ],
          "name": "stdout"
        },
        {
          "output_type": "stream",
          "text": [
            "___ batch index = 500 / 1836 (27.23%), loss = 0.5937, time = 20.89 seconds ___\n"
          ],
          "name": "stdout"
        },
        {
          "output_type": "stream",
          "text": [
            "___ batch index = 750 / 1836 (40.85%), loss = 0.3865, time = 19.20 seconds ___\n"
          ],
          "name": "stdout"
        },
        {
          "output_type": "stream",
          "text": [
            "___ batch index = 1000 / 1836 (54.47%), loss = 0.9579, time = 21.51 seconds ___\n"
          ],
          "name": "stdout"
        },
        {
          "output_type": "stream",
          "text": [
            "___ batch index = 1250 / 1836 (68.08%), loss = 0.5607, time = 19.69 seconds ___\n"
          ],
          "name": "stdout"
        },
        {
          "output_type": "stream",
          "text": [
            "___ batch index = 1500 / 1836 (81.70%), loss = 0.5051, time = 19.88 seconds ___\n"
          ],
          "name": "stdout"
        },
        {
          "output_type": "stream",
          "text": [
            "___ batch index = 1750 / 1836 (95.32%), loss = 0.6823, time = 21.09 seconds ___\n"
          ],
          "name": "stdout"
        },
        {
          "output_type": "stream",
          "text": [
            "\n",
            "*** avg_loss : 0.56, time : ~2.0 min (151.55 sec) ***\n",
            "\n"
          ],
          "name": "stdout"
        },
        {
          "output_type": "stream",
          "text": [
            "==> evaluation : avg_loss = 0.52, time : 20.96 sec\n",
            "\n"
          ],
          "name": "stdout"
        },
        {
          "output_type": "stream",
          "text": [
            "threshold:  [0.803372]\n",
            "=====>\t{'Positive Rate': array([0.78088963], dtype=float32), 'threshold': 0.803372, 'accuracy': 0.3624382207578254, 'f1': 0.36033057851239664, 'recall': 0.229957805907173, 'specificity': 0.8345864661654135, 'default_accuracy': 0.7808896210873146, 'default_f1': 0.8769657724329325, 'default_recall': 1.0, 'default_specificity': 0.0}\n",
            "\n",
            "=============== EPOCH 7 / 30 ===============\n",
            "\n",
            "___ batch index = 0 / 1836 (0.00%), loss = 1.5708, time = 0.08 seconds ___\n"
          ],
          "name": "stdout"
        },
        {
          "output_type": "stream",
          "text": [
            "___ batch index = 250 / 1836 (13.62%), loss = 0.3815, time = 21.58 seconds ___\n"
          ],
          "name": "stdout"
        },
        {
          "output_type": "stream",
          "text": [
            "___ batch index = 500 / 1836 (27.23%), loss = 0.6091, time = 20.89 seconds ___\n"
          ],
          "name": "stdout"
        },
        {
          "output_type": "stream",
          "text": [
            "___ batch index = 750 / 1836 (40.85%), loss = 0.3809, time = 19.20 seconds ___\n"
          ],
          "name": "stdout"
        },
        {
          "output_type": "stream",
          "text": [
            "___ batch index = 1000 / 1836 (54.47%), loss = 0.9352, time = 21.52 seconds ___\n"
          ],
          "name": "stdout"
        },
        {
          "output_type": "stream",
          "text": [
            "___ batch index = 1250 / 1836 (68.08%), loss = 0.5802, time = 19.69 seconds ___\n"
          ],
          "name": "stdout"
        },
        {
          "output_type": "stream",
          "text": [
            "___ batch index = 1500 / 1836 (81.70%), loss = 0.4874, time = 19.88 seconds ___\n"
          ],
          "name": "stdout"
        },
        {
          "output_type": "stream",
          "text": [
            "___ batch index = 1750 / 1836 (95.32%), loss = 0.6755, time = 21.09 seconds ___\n"
          ],
          "name": "stdout"
        },
        {
          "output_type": "stream",
          "text": [
            "\n",
            "*** avg_loss : 0.56, time : ~2.0 min (151.57 sec) ***\n",
            "\n"
          ],
          "name": "stdout"
        },
        {
          "output_type": "stream",
          "text": [
            "==> evaluation : avg_loss = 0.52, time : 20.95 sec\n",
            "\n"
          ],
          "name": "stdout"
        },
        {
          "output_type": "stream",
          "text": [
            "threshold:  [0.8142588]\n",
            "=====>\t{'Positive Rate': array([0.78088963], dtype=float32), 'threshold': 0.8142588, 'accuracy': 0.3673805601317957, 'f1': 0.36633663366336633, 'recall': 0.23417721518987342, 'specificity': 0.8421052631578947, 'default_accuracy': 0.7808896210873146, 'default_f1': 0.8769657724329325, 'default_recall': 1.0, 'default_specificity': 0.0}\n",
            "\n",
            "=============== EPOCH 8 / 30 ===============\n",
            "\n",
            "___ batch index = 0 / 1836 (0.00%), loss = 1.4785, time = 0.08 seconds ___\n"
          ],
          "name": "stdout"
        },
        {
          "output_type": "stream",
          "text": [
            "___ batch index = 250 / 1836 (13.62%), loss = 0.3792, time = 21.65 seconds ___\n"
          ],
          "name": "stdout"
        },
        {
          "output_type": "stream",
          "text": [
            "___ batch index = 500 / 1836 (27.23%), loss = 0.5632, time = 20.83 seconds ___\n"
          ],
          "name": "stdout"
        },
        {
          "output_type": "stream",
          "text": [
            "___ batch index = 750 / 1836 (40.85%), loss = 0.3847, time = 19.26 seconds ___\n"
          ],
          "name": "stdout"
        },
        {
          "output_type": "stream",
          "text": [
            "___ batch index = 1000 / 1836 (54.47%), loss = 0.9141, time = 21.46 seconds ___\n"
          ],
          "name": "stdout"
        },
        {
          "output_type": "stream",
          "text": [
            "___ batch index = 1250 / 1836 (68.08%), loss = 0.5735, time = 19.75 seconds ___\n"
          ],
          "name": "stdout"
        },
        {
          "output_type": "stream",
          "text": [
            "___ batch index = 1500 / 1836 (81.70%), loss = 0.4972, time = 19.82 seconds ___\n"
          ],
          "name": "stdout"
        },
        {
          "output_type": "stream",
          "text": [
            "___ batch index = 1750 / 1836 (95.32%), loss = 0.6908, time = 21.15 seconds ___\n"
          ],
          "name": "stdout"
        },
        {
          "output_type": "stream",
          "text": [
            "\n",
            "*** avg_loss : 0.55, time : ~2.0 min (151.63 sec) ***\n",
            "\n"
          ],
          "name": "stdout"
        },
        {
          "output_type": "stream",
          "text": [
            "==> evaluation : avg_loss = 0.51, time : 20.89 sec\n",
            "\n"
          ],
          "name": "stdout"
        },
        {
          "output_type": "stream",
          "text": [
            "threshold:  [0.8243059]\n",
            "=====>\t{'Positive Rate': array([0.78088963], dtype=float32), 'threshold': 0.8243059, 'accuracy': 0.37067545304777594, 'f1': 0.36963696369636967, 'recall': 0.23628691983122363, 'specificity': 0.849624060150376, 'default_accuracy': 0.7808896210873146, 'default_f1': 0.8769657724329325, 'default_recall': 1.0, 'default_specificity': 0.0}\n",
            "\n",
            "=============== EPOCH 9 / 30 ===============\n",
            "\n",
            "___ batch index = 0 / 1836 (0.00%), loss = 1.4446, time = 0.08 seconds ___\n"
          ],
          "name": "stdout"
        },
        {
          "output_type": "stream",
          "text": [
            "___ batch index = 250 / 1836 (13.62%), loss = 0.3589, time = 21.63 seconds ___\n"
          ],
          "name": "stdout"
        },
        {
          "output_type": "stream",
          "text": [
            "___ batch index = 500 / 1836 (27.23%), loss = 0.5579, time = 20.89 seconds ___\n"
          ],
          "name": "stdout"
        },
        {
          "output_type": "stream",
          "text": [
            "___ batch index = 750 / 1836 (40.85%), loss = 0.3896, time = 19.23 seconds ___\n"
          ],
          "name": "stdout"
        },
        {
          "output_type": "stream",
          "text": [
            "___ batch index = 1000 / 1836 (54.47%), loss = 0.8806, time = 21.61 seconds ___\n"
          ],
          "name": "stdout"
        },
        {
          "output_type": "stream",
          "text": [
            "___ batch index = 1250 / 1836 (68.08%), loss = 0.5946, time = 19.69 seconds ___\n"
          ],
          "name": "stdout"
        },
        {
          "output_type": "stream",
          "text": [
            "___ batch index = 1500 / 1836 (81.70%), loss = 0.5336, time = 19.88 seconds ___\n"
          ],
          "name": "stdout"
        },
        {
          "output_type": "stream",
          "text": [
            "___ batch index = 1750 / 1836 (95.32%), loss = 0.6994, time = 21.09 seconds ___\n"
          ],
          "name": "stdout"
        },
        {
          "output_type": "stream",
          "text": [
            "\n",
            "*** avg_loss : 0.54, time : ~2.0 min (151.74 sec) ***\n",
            "\n"
          ],
          "name": "stdout"
        },
        {
          "output_type": "stream",
          "text": [
            "==> evaluation : avg_loss = 0.51, time : 20.97 sec\n",
            "\n"
          ],
          "name": "stdout"
        },
        {
          "output_type": "stream",
          "text": [
            "threshold:  [0.83450747]\n",
            "=====>\t{'Positive Rate': array([0.78088963], dtype=float32), 'threshold': 0.83450747, 'accuracy': 0.3756177924217463, 'f1': 0.37355371900826445, 'recall': 0.23839662447257384, 'specificity': 0.8646616541353384, 'default_accuracy': 0.7808896210873146, 'default_f1': 0.8769657724329325, 'default_recall': 1.0, 'default_specificity': 0.0}\n",
            "\n",
            "=============== EPOCH 10 / 30 ===============\n",
            "\n",
            "___ batch index = 0 / 1836 (0.00%), loss = 1.5181, time = 0.08 seconds ___\n"
          ],
          "name": "stdout"
        },
        {
          "output_type": "stream",
          "text": [
            "___ batch index = 250 / 1836 (13.62%), loss = 0.3982, time = 21.58 seconds ___\n"
          ],
          "name": "stdout"
        },
        {
          "output_type": "stream",
          "text": [
            "___ batch index = 500 / 1836 (27.23%), loss = 0.5535, time = 20.89 seconds ___\n"
          ],
          "name": "stdout"
        },
        {
          "output_type": "stream",
          "text": [
            "___ batch index = 750 / 1836 (40.85%), loss = 0.3816, time = 19.26 seconds ___\n"
          ],
          "name": "stdout"
        },
        {
          "output_type": "stream",
          "text": [
            "___ batch index = 1000 / 1836 (54.47%), loss = 0.8296, time = 21.45 seconds ___\n"
          ],
          "name": "stdout"
        },
        {
          "output_type": "stream",
          "text": [
            "___ batch index = 1250 / 1836 (68.08%), loss = 0.5504, time = 19.75 seconds ___\n"
          ],
          "name": "stdout"
        },
        {
          "output_type": "stream",
          "text": [
            "___ batch index = 1500 / 1836 (81.70%), loss = 0.5067, time = 19.88 seconds ___\n"
          ],
          "name": "stdout"
        },
        {
          "output_type": "stream",
          "text": [
            "___ batch index = 1750 / 1836 (95.32%), loss = 0.7230, time = 21.09 seconds ___\n"
          ],
          "name": "stdout"
        },
        {
          "output_type": "stream",
          "text": [
            "\n",
            "*** avg_loss : 0.53, time : ~2.0 min (151.62 sec) ***\n",
            "\n"
          ],
          "name": "stdout"
        },
        {
          "output_type": "stream",
          "text": [
            "==> evaluation : avg_loss = 0.51, time : 20.94 sec\n",
            "\n"
          ],
          "name": "stdout"
        },
        {
          "output_type": "stream",
          "text": [
            "threshold:  [0.8401647]\n",
            "=====>\t{'Positive Rate': array([0.78088963], dtype=float32), 'threshold': 0.8401647, 'accuracy': 0.3772652388797364, 'f1': 0.37623762376237624, 'recall': 0.24050632911392406, 'specificity': 0.8646616541353384, 'default_accuracy': 0.7808896210873146, 'default_f1': 0.8769657724329325, 'default_recall': 1.0, 'default_specificity': 0.0}\n",
            "\n",
            "=============== EPOCH 11 / 30 ===============\n",
            "\n",
            "___ batch index = 0 / 1836 (0.00%), loss = 1.4761, time = 0.08 seconds ___\n"
          ],
          "name": "stdout"
        },
        {
          "output_type": "stream",
          "text": [
            "___ batch index = 250 / 1836 (13.62%), loss = 0.3574, time = 21.64 seconds ___\n"
          ],
          "name": "stdout"
        },
        {
          "output_type": "stream",
          "text": [
            "___ batch index = 500 / 1836 (27.23%), loss = 0.5384, time = 20.89 seconds ___\n"
          ],
          "name": "stdout"
        },
        {
          "output_type": "stream",
          "text": [
            "___ batch index = 750 / 1836 (40.85%), loss = 0.3803, time = 19.20 seconds ___\n"
          ],
          "name": "stdout"
        },
        {
          "output_type": "stream",
          "text": [
            "___ batch index = 1000 / 1836 (54.47%), loss = 0.8306, time = 21.46 seconds ___\n"
          ],
          "name": "stdout"
        },
        {
          "output_type": "stream",
          "text": [
            "___ batch index = 1250 / 1836 (68.08%), loss = 0.5472, time = 19.76 seconds ___\n"
          ],
          "name": "stdout"
        },
        {
          "output_type": "stream",
          "text": [
            "___ batch index = 1500 / 1836 (81.70%), loss = 0.5019, time = 19.82 seconds ___\n"
          ],
          "name": "stdout"
        },
        {
          "output_type": "stream",
          "text": [
            "___ batch index = 1750 / 1836 (95.32%), loss = 0.7537, time = 21.15 seconds ___\n"
          ],
          "name": "stdout"
        },
        {
          "output_type": "stream",
          "text": [
            "\n",
            "*** avg_loss : 0.52, time : ~2.0 min (151.65 sec) ***\n",
            "\n"
          ],
          "name": "stdout"
        },
        {
          "output_type": "stream",
          "text": [
            "==> evaluation : avg_loss = 0.51, time : 20.95 sec\n",
            "\n"
          ],
          "name": "stdout"
        },
        {
          "output_type": "stream",
          "text": [
            "threshold:  [0.8504254]\n",
            "=====>\t{'Positive Rate': array([0.78088963], dtype=float32), 'threshold': 0.8504254, 'accuracy': 0.3772652388797364, 'f1': 0.37623762376237624, 'recall': 0.24050632911392406, 'specificity': 0.8646616541353384, 'default_accuracy': 0.7808896210873146, 'default_f1': 0.8769657724329325, 'default_recall': 1.0, 'default_specificity': 0.0}\n",
            "\n",
            "=============== EPOCH 12 / 30 ===============\n",
            "\n",
            "___ batch index = 0 / 1836 (0.00%), loss = 1.6324, time = 0.08 seconds ___\n"
          ],
          "name": "stdout"
        },
        {
          "output_type": "stream",
          "text": [
            "___ batch index = 250 / 1836 (13.62%), loss = 0.4006, time = 21.58 seconds ___\n"
          ],
          "name": "stdout"
        },
        {
          "output_type": "stream",
          "text": [
            "___ batch index = 500 / 1836 (27.23%), loss = 0.5307, time = 20.89 seconds ___\n"
          ],
          "name": "stdout"
        },
        {
          "output_type": "stream",
          "text": [
            "___ batch index = 750 / 1836 (40.85%), loss = 0.3935, time = 19.20 seconds ___\n"
          ],
          "name": "stdout"
        },
        {
          "output_type": "stream",
          "text": [
            "___ batch index = 1000 / 1836 (54.47%), loss = 0.7128, time = 21.46 seconds ___\n"
          ],
          "name": "stdout"
        },
        {
          "output_type": "stream",
          "text": [
            "___ batch index = 1250 / 1836 (68.08%), loss = 0.5599, time = 19.75 seconds ___\n"
          ],
          "name": "stdout"
        },
        {
          "output_type": "stream",
          "text": [
            "___ batch index = 1500 / 1836 (81.70%), loss = 0.4594, time = 19.88 seconds ___\n"
          ],
          "name": "stdout"
        },
        {
          "output_type": "stream",
          "text": [
            "___ batch index = 1750 / 1836 (95.32%), loss = 0.7091, time = 21.09 seconds ___\n"
          ],
          "name": "stdout"
        },
        {
          "output_type": "stream",
          "text": [
            "\n",
            "*** avg_loss : 0.51, time : ~2.0 min (151.56 sec) ***\n",
            "\n"
          ],
          "name": "stdout"
        },
        {
          "output_type": "stream",
          "text": [
            "==> evaluation : avg_loss = 0.51, time : 20.95 sec\n",
            "\n"
          ],
          "name": "stdout"
        },
        {
          "output_type": "stream",
          "text": [
            "threshold:  [0.86189735]\n",
            "=====>\t{'Positive Rate': array([0.78088963], dtype=float32), 'threshold': 0.86189735, 'accuracy': 0.37397034596375617, 'f1': 0.37293729372937295, 'recall': 0.23839662447257384, 'specificity': 0.8571428571428571, 'default_accuracy': 0.7808896210873146, 'default_f1': 0.8769657724329325, 'default_recall': 1.0, 'default_specificity': 0.0}\n",
            "\n",
            "=============== EPOCH 13 / 30 ===============\n",
            "\n",
            "___ batch index = 0 / 1836 (0.00%), loss = 1.5060, time = 0.08 seconds ___\n"
          ],
          "name": "stdout"
        },
        {
          "output_type": "stream",
          "text": [
            "___ batch index = 250 / 1836 (13.62%), loss = 0.3453, time = 21.59 seconds ___\n"
          ],
          "name": "stdout"
        },
        {
          "output_type": "stream",
          "text": [
            "___ batch index = 500 / 1836 (27.23%), loss = 0.5181, time = 20.89 seconds ___\n"
          ],
          "name": "stdout"
        },
        {
          "output_type": "stream",
          "text": [
            "___ batch index = 750 / 1836 (40.85%), loss = 0.3871, time = 19.20 seconds ___\n"
          ],
          "name": "stdout"
        },
        {
          "output_type": "stream",
          "text": [
            "___ batch index = 1000 / 1836 (54.47%), loss = 0.7528, time = 21.52 seconds ___\n"
          ],
          "name": "stdout"
        },
        {
          "output_type": "stream",
          "text": [
            "___ batch index = 1250 / 1836 (68.08%), loss = 0.5337, time = 19.75 seconds ___\n"
          ],
          "name": "stdout"
        },
        {
          "output_type": "stream",
          "text": [
            "___ batch index = 1500 / 1836 (81.70%), loss = 0.4145, time = 19.82 seconds ___\n"
          ],
          "name": "stdout"
        },
        {
          "output_type": "stream",
          "text": [
            "___ batch index = 1750 / 1836 (95.32%), loss = 0.6930, time = 21.15 seconds ___\n"
          ],
          "name": "stdout"
        },
        {
          "output_type": "stream",
          "text": [
            "\n",
            "*** avg_loss : 0.50, time : ~2.0 min (151.65 sec) ***\n",
            "\n"
          ],
          "name": "stdout"
        },
        {
          "output_type": "stream",
          "text": [
            "==> evaluation : avg_loss = 0.50, time : 20.92 sec\n",
            "\n"
          ],
          "name": "stdout"
        },
        {
          "output_type": "stream",
          "text": [
            "threshold:  [0.8736548]\n",
            "=====>\t{'Positive Rate': array([0.78088963], dtype=float32), 'threshold': 0.8736548, 'accuracy': 0.37397034596375617, 'f1': 0.37293729372937295, 'recall': 0.23839662447257384, 'specificity': 0.8571428571428571, 'default_accuracy': 0.7808896210873146, 'default_f1': 0.8769657724329325, 'default_recall': 1.0, 'default_specificity': 0.0}\n",
            "\n",
            "=============== EPOCH 14 / 30 ===============\n",
            "\n",
            "___ batch index = 0 / 1836 (0.00%), loss = 1.5923, time = 0.08 seconds ___\n"
          ],
          "name": "stdout"
        },
        {
          "output_type": "stream",
          "text": [
            "___ batch index = 250 / 1836 (13.62%), loss = 0.3581, time = 21.58 seconds ___\n"
          ],
          "name": "stdout"
        },
        {
          "output_type": "stream",
          "text": [
            "___ batch index = 500 / 1836 (27.23%), loss = 0.4813, time = 20.89 seconds ___\n"
          ],
          "name": "stdout"
        },
        {
          "output_type": "stream",
          "text": [
            "___ batch index = 750 / 1836 (40.85%), loss = 0.3670, time = 19.26 seconds ___\n"
          ],
          "name": "stdout"
        },
        {
          "output_type": "stream",
          "text": [
            "___ batch index = 1000 / 1836 (54.47%), loss = 0.6980, time = 21.46 seconds ___\n"
          ],
          "name": "stdout"
        },
        {
          "output_type": "stream",
          "text": [
            "___ batch index = 1250 / 1836 (68.08%), loss = 0.5649, time = 19.76 seconds ___\n"
          ],
          "name": "stdout"
        },
        {
          "output_type": "stream",
          "text": [
            "___ batch index = 1500 / 1836 (81.70%), loss = 0.4486, time = 19.83 seconds ___\n"
          ],
          "name": "stdout"
        },
        {
          "output_type": "stream",
          "text": [
            "___ batch index = 1750 / 1836 (95.32%), loss = 0.7401, time = 21.15 seconds ___\n"
          ],
          "name": "stdout"
        },
        {
          "output_type": "stream",
          "text": [
            "\n",
            "*** avg_loss : 0.49, time : ~2.0 min (151.65 sec) ***\n",
            "\n"
          ],
          "name": "stdout"
        },
        {
          "output_type": "stream",
          "text": [
            "==> evaluation : avg_loss = 0.50, time : 20.96 sec\n",
            "\n"
          ],
          "name": "stdout"
        },
        {
          "output_type": "stream",
          "text": [
            "threshold:  [0.885651]\n",
            "=====>\t{'Positive Rate': array([0.78088963], dtype=float32), 'threshold': 0.885651, 'accuracy': 0.3805601317957166, 'f1': 0.3795379537953796, 'recall': 0.24261603375527427, 'specificity': 0.8721804511278195, 'default_accuracy': 0.7808896210873146, 'default_f1': 0.8769657724329325, 'default_recall': 1.0, 'default_specificity': 0.0}\n",
            "\n",
            "=============== EPOCH 15 / 30 ===============\n",
            "\n",
            "___ batch index = 0 / 1836 (0.00%), loss = 1.5512, time = 0.08 seconds ___\n"
          ],
          "name": "stdout"
        },
        {
          "output_type": "stream",
          "text": [
            "___ batch index = 250 / 1836 (13.62%), loss = 0.3453, time = 21.58 seconds ___\n"
          ],
          "name": "stdout"
        },
        {
          "output_type": "stream",
          "text": [
            "___ batch index = 500 / 1836 (27.23%), loss = 0.4374, time = 20.89 seconds ___\n"
          ],
          "name": "stdout"
        },
        {
          "output_type": "stream",
          "text": [
            "___ batch index = 750 / 1836 (40.85%), loss = 0.3791, time = 19.20 seconds ___\n"
          ],
          "name": "stdout"
        },
        {
          "output_type": "stream",
          "text": [
            "___ batch index = 1000 / 1836 (54.47%), loss = 0.6937, time = 21.51 seconds ___\n"
          ],
          "name": "stdout"
        },
        {
          "output_type": "stream",
          "text": [
            "___ batch index = 1250 / 1836 (68.08%), loss = 0.4971, time = 19.69 seconds ___\n"
          ],
          "name": "stdout"
        },
        {
          "output_type": "stream",
          "text": [
            "___ batch index = 1500 / 1836 (81.70%), loss = 0.4199, time = 19.91 seconds ___\n"
          ],
          "name": "stdout"
        },
        {
          "output_type": "stream",
          "text": [
            "___ batch index = 1750 / 1836 (95.32%), loss = 0.7382, time = 21.20 seconds ___\n"
          ],
          "name": "stdout"
        },
        {
          "output_type": "stream",
          "text": [
            "\n",
            "*** avg_loss : 0.47, time : ~2.0 min (151.75 sec) ***\n",
            "\n"
          ],
          "name": "stdout"
        },
        {
          "output_type": "stream",
          "text": [
            "==> evaluation : avg_loss = 0.51, time : 21.14 sec\n",
            "\n"
          ],
          "name": "stdout"
        },
        {
          "output_type": "stream",
          "text": [
            "threshold:  [0.90006924]\n",
            "=====>\t{'Positive Rate': array([0.78088963], dtype=float32), 'threshold': 0.90006924, 'accuracy': 0.3805601317957166, 'f1': 0.3795379537953796, 'recall': 0.24261603375527427, 'specificity': 0.8721804511278195, 'default_accuracy': 0.7825370675453048, 'default_f1': 0.8773234200743495, 'default_recall': 0.9957805907172996, 'default_specificity': 0.022556390977443608}\n",
            "\n",
            "=============== EPOCH 16 / 30 ===============\n",
            "\n",
            "___ batch index = 0 / 1836 (0.00%), loss = 1.3871, time = 0.08 seconds ___\n"
          ],
          "name": "stdout"
        },
        {
          "output_type": "stream",
          "text": [
            "___ batch index = 250 / 1836 (13.62%), loss = 0.3116, time = 21.69 seconds ___\n"
          ],
          "name": "stdout"
        },
        {
          "output_type": "stream",
          "text": [
            "___ batch index = 500 / 1836 (27.23%), loss = 0.4192, time = 21.00 seconds ___\n"
          ],
          "name": "stdout"
        },
        {
          "output_type": "stream",
          "text": [
            "___ batch index = 750 / 1836 (40.85%), loss = 0.4113, time = 19.31 seconds ___\n"
          ],
          "name": "stdout"
        },
        {
          "output_type": "stream",
          "text": [
            "___ batch index = 1000 / 1836 (54.47%), loss = 0.5939, time = 21.63 seconds ___\n"
          ],
          "name": "stdout"
        },
        {
          "output_type": "stream",
          "text": [
            "___ batch index = 1250 / 1836 (68.08%), loss = 0.4791, time = 19.80 seconds ___\n"
          ],
          "name": "stdout"
        },
        {
          "output_type": "stream",
          "text": [
            "___ batch index = 1500 / 1836 (81.70%), loss = 0.3792, time = 19.99 seconds ___\n"
          ],
          "name": "stdout"
        },
        {
          "output_type": "stream",
          "text": [
            "___ batch index = 1750 / 1836 (95.32%), loss = 0.7400, time = 21.20 seconds ___\n"
          ],
          "name": "stdout"
        },
        {
          "output_type": "stream",
          "text": [
            "\n",
            "*** avg_loss : 0.46, time : ~2.0 min (152.38 sec) ***\n",
            "\n"
          ],
          "name": "stdout"
        },
        {
          "output_type": "stream",
          "text": [
            "==> evaluation : avg_loss = 0.51, time : 21.13 sec\n",
            "\n"
          ],
          "name": "stdout"
        },
        {
          "output_type": "stream",
          "text": [
            "threshold:  [0.9161909]\n",
            "=====>\t{'Positive Rate': array([0.78088963], dtype=float32), 'threshold': 0.9161909, 'accuracy': 0.3805601317957166, 'f1': 0.3795379537953796, 'recall': 0.24261603375527427, 'specificity': 0.8721804511278195, 'default_accuracy': 0.7891268533772653, 'default_f1': 0.8805970149253731, 'default_recall': 0.9957805907172996, 'default_specificity': 0.05263157894736842}\n",
            "\n",
            "=============== EPOCH 17 / 30 ===============\n",
            "\n",
            "___ batch index = 0 / 1836 (0.00%), loss = 1.5004, time = 0.08 seconds ___\n"
          ],
          "name": "stdout"
        },
        {
          "output_type": "stream",
          "text": [
            "___ batch index = 250 / 1836 (13.62%), loss = 0.2932, time = 21.76 seconds ___\n"
          ],
          "name": "stdout"
        },
        {
          "output_type": "stream",
          "text": [
            "___ batch index = 500 / 1836 (27.23%), loss = 0.3812, time = 20.94 seconds ___\n"
          ],
          "name": "stdout"
        },
        {
          "output_type": "stream",
          "text": [
            "___ batch index = 750 / 1836 (40.85%), loss = 0.3754, time = 19.37 seconds ___\n"
          ],
          "name": "stdout"
        },
        {
          "output_type": "stream",
          "text": [
            "___ batch index = 1000 / 1836 (54.47%), loss = 0.6290, time = 21.57 seconds ___\n"
          ],
          "name": "stdout"
        },
        {
          "output_type": "stream",
          "text": [
            "___ batch index = 1250 / 1836 (68.08%), loss = 0.4794, time = 19.86 seconds ___\n"
          ],
          "name": "stdout"
        },
        {
          "output_type": "stream",
          "text": [
            "___ batch index = 1500 / 1836 (81.70%), loss = 0.4187, time = 19.93 seconds ___\n"
          ],
          "name": "stdout"
        },
        {
          "output_type": "stream",
          "text": [
            "___ batch index = 1750 / 1836 (95.32%), loss = 0.7007, time = 21.26 seconds ___\n"
          ],
          "name": "stdout"
        },
        {
          "output_type": "stream",
          "text": [
            "\n",
            "*** avg_loss : 0.44, time : ~2.0 min (152.44 sec) ***\n",
            "\n"
          ],
          "name": "stdout"
        },
        {
          "output_type": "stream",
          "text": [
            "==> evaluation : avg_loss = 0.52, time : 21.09 sec\n",
            "\n"
          ],
          "name": "stdout"
        },
        {
          "output_type": "stream",
          "text": [
            "threshold:  [0.9297802]\n",
            "=====>\t{'Positive Rate': array([0.78088963], dtype=float32), 'threshold': 0.9297802, 'accuracy': 0.38385502471169686, 'f1': 0.38283828382838286, 'recall': 0.24472573839662448, 'specificity': 0.8796992481203008, 'default_accuracy': 0.7990115321252059, 'default_f1': 0.8853383458646616, 'default_recall': 0.9936708860759493, 'default_specificity': 0.10526315789473684}\n",
            "\n",
            "=============== EPOCH 18 / 30 ===============\n",
            "\n",
            "___ batch index = 0 / 1836 (0.00%), loss = 1.7545, time = 0.08 seconds ___\n"
          ],
          "name": "stdout"
        },
        {
          "output_type": "stream",
          "text": [
            "___ batch index = 250 / 1836 (13.62%), loss = 0.2625, time = 21.76 seconds ___\n"
          ],
          "name": "stdout"
        },
        {
          "output_type": "stream",
          "text": [
            "___ batch index = 500 / 1836 (27.23%), loss = 0.3766, time = 21.00 seconds ___\n"
          ],
          "name": "stdout"
        },
        {
          "output_type": "stream",
          "text": [
            "___ batch index = 750 / 1836 (40.85%), loss = 0.3729, time = 19.31 seconds ___\n"
          ],
          "name": "stdout"
        },
        {
          "output_type": "stream",
          "text": [
            "___ batch index = 1000 / 1836 (54.47%), loss = 0.5786, time = 21.63 seconds ___\n"
          ],
          "name": "stdout"
        },
        {
          "output_type": "stream",
          "text": [
            "___ batch index = 1250 / 1836 (68.08%), loss = 0.4451, time = 19.80 seconds ___\n"
          ],
          "name": "stdout"
        },
        {
          "output_type": "stream",
          "text": [
            "___ batch index = 1500 / 1836 (81.70%), loss = 0.3702, time = 19.99 seconds ___\n"
          ],
          "name": "stdout"
        },
        {
          "output_type": "stream",
          "text": [
            "___ batch index = 1750 / 1836 (95.32%), loss = 0.7142, time = 21.20 seconds ___\n"
          ],
          "name": "stdout"
        },
        {
          "output_type": "stream",
          "text": [
            "\n",
            "*** avg_loss : 0.42, time : ~2.0 min (152.45 sec) ***\n",
            "\n"
          ],
          "name": "stdout"
        },
        {
          "output_type": "stream",
          "text": [
            "==> evaluation : avg_loss = 0.52, time : 21.14 sec\n",
            "\n"
          ],
          "name": "stdout"
        },
        {
          "output_type": "stream",
          "text": [
            "threshold:  [0.9376189]\n",
            "=====>\t{'Positive Rate': array([0.78088963], dtype=float32), 'threshold': 0.9376189, 'accuracy': 0.38385502471169686, 'f1': 0.38283828382838286, 'recall': 0.24472573839662448, 'specificity': 0.8796992481203008, 'default_accuracy': 0.7957166392092258, 'default_f1': 0.8832391713747647, 'default_recall': 0.989451476793249, 'default_specificity': 0.10526315789473684}\n",
            "\n",
            "=============== EPOCH 19 / 30 ===============\n",
            "\n",
            "___ batch index = 0 / 1836 (0.00%), loss = 1.2055, time = 0.08 seconds ___\n"
          ],
          "name": "stdout"
        },
        {
          "output_type": "stream",
          "text": [
            "___ batch index = 250 / 1836 (13.62%), loss = 0.3072, time = 21.69 seconds ___\n"
          ],
          "name": "stdout"
        },
        {
          "output_type": "stream",
          "text": [
            "___ batch index = 500 / 1836 (27.23%), loss = 0.3199, time = 21.00 seconds ___\n"
          ],
          "name": "stdout"
        },
        {
          "output_type": "stream",
          "text": [
            "___ batch index = 750 / 1836 (40.85%), loss = 0.3516, time = 19.37 seconds ___\n"
          ],
          "name": "stdout"
        },
        {
          "output_type": "stream",
          "text": [
            "___ batch index = 1000 / 1836 (54.47%), loss = 0.5538, time = 21.57 seconds ___\n"
          ],
          "name": "stdout"
        },
        {
          "output_type": "stream",
          "text": [
            "___ batch index = 1250 / 1836 (68.08%), loss = 0.3163, time = 19.86 seconds ___\n"
          ],
          "name": "stdout"
        },
        {
          "output_type": "stream",
          "text": [
            "___ batch index = 1500 / 1836 (81.70%), loss = 0.2953, time = 19.99 seconds ___\n"
          ],
          "name": "stdout"
        },
        {
          "output_type": "stream",
          "text": [
            "___ batch index = 1750 / 1836 (95.32%), loss = 0.7086, time = 21.20 seconds ___\n"
          ],
          "name": "stdout"
        },
        {
          "output_type": "stream",
          "text": [
            "\n",
            "*** avg_loss : 0.40, time : ~2.0 min (152.44 sec) ***\n",
            "\n"
          ],
          "name": "stdout"
        },
        {
          "output_type": "stream",
          "text": [
            "==> evaluation : avg_loss = 0.53, time : 21.14 sec\n",
            "\n"
          ],
          "name": "stdout"
        },
        {
          "output_type": "stream",
          "text": [
            "threshold:  [0.95016754]\n",
            "=====>\t{'Positive Rate': array([0.78088963], dtype=float32), 'threshold': 0.95016754, 'accuracy': 0.38385502471169686, 'f1': 0.38283828382838286, 'recall': 0.24472573839662448, 'specificity': 0.8796992481203008, 'default_accuracy': 0.7924217462932455, 'default_f1': 0.8811320754716981, 'default_recall': 0.9852320675105485, 'default_specificity': 0.10526315789473684}\n",
            "\n",
            "=============== EPOCH 20 / 30 ===============\n",
            "\n",
            "___ batch index = 0 / 1836 (0.00%), loss = 1.5071, time = 0.08 seconds ___\n"
          ],
          "name": "stdout"
        },
        {
          "output_type": "stream",
          "text": [
            "___ batch index = 250 / 1836 (13.62%), loss = 0.2736, time = 21.75 seconds ___\n"
          ],
          "name": "stdout"
        },
        {
          "output_type": "stream",
          "text": [
            "___ batch index = 500 / 1836 (27.23%), loss = 0.3094, time = 21.00 seconds ___\n"
          ],
          "name": "stdout"
        },
        {
          "output_type": "stream",
          "text": [
            "___ batch index = 750 / 1836 (40.85%), loss = 0.3867, time = 19.31 seconds ___\n"
          ],
          "name": "stdout"
        },
        {
          "output_type": "stream",
          "text": [
            "___ batch index = 1000 / 1836 (54.47%), loss = 0.5466, time = 21.57 seconds ___\n"
          ],
          "name": "stdout"
        },
        {
          "output_type": "stream",
          "text": [
            "___ batch index = 1250 / 1836 (68.08%), loss = 0.3574, time = 19.87 seconds ___\n"
          ],
          "name": "stdout"
        },
        {
          "output_type": "stream",
          "text": [
            "___ batch index = 1500 / 1836 (81.70%), loss = 0.3155, time = 19.95 seconds ___\n"
          ],
          "name": "stdout"
        },
        {
          "output_type": "stream",
          "text": [
            "___ batch index = 1750 / 1836 (95.32%), loss = 0.6413, time = 21.33 seconds ___\n"
          ],
          "name": "stdout"
        },
        {
          "output_type": "stream",
          "text": [
            "\n",
            "*** avg_loss : 0.39, time : ~2.0 min (152.56 sec) ***\n",
            "\n"
          ],
          "name": "stdout"
        },
        {
          "output_type": "stream",
          "text": [
            "==> evaluation : avg_loss = 0.55, time : 21.28 sec\n",
            "\n"
          ],
          "name": "stdout"
        },
        {
          "output_type": "stream",
          "text": [
            "threshold:  [0.95894504]\n",
            "=====>\t{'Positive Rate': array([0.78088963], dtype=float32), 'threshold': 0.95894504, 'accuracy': 0.38385502471169686, 'f1': 0.38283828382838286, 'recall': 0.24472573839662448, 'specificity': 0.8796992481203008, 'default_accuracy': 0.7940691927512356, 'default_f1': 0.882186616399623, 'default_recall': 0.9873417721518988, 'default_specificity': 0.10526315789473684}\n",
            "\n",
            "=============== EPOCH 21 / 30 ===============\n",
            "\n",
            "___ batch index = 0 / 1836 (0.00%), loss = 0.7708, time = 0.08 seconds ___\n"
          ],
          "name": "stdout"
        },
        {
          "output_type": "stream",
          "text": [
            "___ batch index = 250 / 1836 (13.62%), loss = 0.3045, time = 21.77 seconds ___\n"
          ],
          "name": "stdout"
        },
        {
          "output_type": "stream",
          "text": [
            "___ batch index = 500 / 1836 (27.23%), loss = 0.3033, time = 21.06 seconds ___\n"
          ],
          "name": "stdout"
        },
        {
          "output_type": "stream",
          "text": [
            "___ batch index = 750 / 1836 (40.85%), loss = 0.4217, time = 19.37 seconds ___\n"
          ],
          "name": "stdout"
        },
        {
          "output_type": "stream",
          "text": [
            "___ batch index = 1000 / 1836 (54.47%), loss = 0.5680, time = 21.64 seconds ___\n"
          ],
          "name": "stdout"
        },
        {
          "output_type": "stream",
          "text": [
            "___ batch index = 1250 / 1836 (68.08%), loss = 0.2751, time = 19.93 seconds ___\n"
          ],
          "name": "stdout"
        },
        {
          "output_type": "stream",
          "text": [
            "___ batch index = 1500 / 1836 (81.70%), loss = 0.3567, time = 20.06 seconds ___\n"
          ],
          "name": "stdout"
        },
        {
          "output_type": "stream",
          "text": [
            "___ batch index = 1750 / 1836 (95.32%), loss = 0.6885, time = 21.27 seconds ___\n"
          ],
          "name": "stdout"
        },
        {
          "output_type": "stream",
          "text": [
            "\n",
            "*** avg_loss : 0.37, time : ~2.0 min (152.90 sec) ***\n",
            "\n"
          ],
          "name": "stdout"
        },
        {
          "output_type": "stream",
          "text": [
            "==> evaluation : avg_loss = 0.56, time : 21.27 sec\n",
            "\n"
          ],
          "name": "stdout"
        },
        {
          "output_type": "stream",
          "text": [
            "threshold:  [0.96386474]\n",
            "=====>\t{'Positive Rate': array([0.78088963], dtype=float32), 'threshold': 0.96386474, 'accuracy': 0.38385502471169686, 'f1': 0.38283828382838286, 'recall': 0.24472573839662448, 'specificity': 0.8796992481203008, 'default_accuracy': 0.7924217462932455, 'default_f1': 0.8809073724007561, 'default_recall': 0.9831223628691983, 'default_specificity': 0.11278195488721804}\n",
            "\n",
            "=============== EPOCH 22 / 30 ===============\n",
            "\n",
            "___ batch index = 0 / 1836 (0.00%), loss = 0.5012, time = 0.08 seconds ___\n"
          ],
          "name": "stdout"
        },
        {
          "output_type": "stream",
          "text": [
            "___ batch index = 250 / 1836 (13.62%), loss = 0.2667, time = 21.77 seconds ___\n"
          ],
          "name": "stdout"
        },
        {
          "output_type": "stream",
          "text": [
            "___ batch index = 500 / 1836 (27.23%), loss = 0.2064, time = 21.07 seconds ___\n"
          ],
          "name": "stdout"
        },
        {
          "output_type": "stream",
          "text": [
            "___ batch index = 750 / 1836 (40.85%), loss = 0.3310, time = 19.38 seconds ___\n"
          ],
          "name": "stdout"
        },
        {
          "output_type": "stream",
          "text": [
            "___ batch index = 1000 / 1836 (54.47%), loss = 0.4842, time = 21.70 seconds ___\n"
          ],
          "name": "stdout"
        },
        {
          "output_type": "stream",
          "text": [
            "___ batch index = 1250 / 1836 (68.08%), loss = 0.2728, time = 19.94 seconds ___\n"
          ],
          "name": "stdout"
        },
        {
          "output_type": "stream",
          "text": [
            "___ batch index = 1500 / 1836 (81.70%), loss = 0.2489, time = 20.00 seconds ___\n"
          ],
          "name": "stdout"
        },
        {
          "output_type": "stream",
          "text": [
            "___ batch index = 1750 / 1836 (95.32%), loss = 0.5750, time = 21.33 seconds ___\n"
          ],
          "name": "stdout"
        },
        {
          "output_type": "stream",
          "text": [
            "\n",
            "*** avg_loss : 0.33, time : ~2.0 min (152.98 sec) ***\n",
            "\n"
          ],
          "name": "stdout"
        },
        {
          "output_type": "stream",
          "text": [
            "==> evaluation : avg_loss = 0.59, time : 21.22 sec\n",
            "\n"
          ],
          "name": "stdout"
        },
        {
          "output_type": "stream",
          "text": [
            "threshold:  [0.9725932]\n",
            "=====>\t{'Positive Rate': array([0.78088963], dtype=float32), 'threshold': 0.9725932, 'accuracy': 0.38220757825370677, 'f1': 0.38016528925619836, 'recall': 0.24261603375527427, 'specificity': 0.8796992481203008, 'default_accuracy': 0.7924217462932455, 'default_f1': 0.8809073724007561, 'default_recall': 0.9831223628691983, 'default_specificity': 0.11278195488721804}\n",
            "model did not progress for 5 followed epochs\n"
          ],
          "name": "stdout"
        },
        {
          "output_type": "stream",
          "text": [
            "-----------------BEST TH:  0.9297802\n",
            "-----------------TEST EVALUATION {'Positive Rate': array([0.7685811], dtype=float32), 'accuracy': 0.6976351351351351, 'f1': 0.7911318553092184, 'recall': 0.7450549450549451, 'specificity': 0.5401459854014599, 'default_accuracy': 0.777027027027027, 'default_f1': 0.8708414872798435, 'default_recall': 0.978021978021978, 'default_specificity': 0.10948905109489052}\n",
            "%%%%%%%%%%%%%%%%%%%%%%%%%%%%%%%%%%%% Para label:  Adecuación curricular de objetivos %%%%%%%%%%%%%%%%%%%%%%%%%%%\n"
          ],
          "name": "stdout"
        },
        {
          "output_type": "stream",
          "text": [
            "Some weights of the model checkpoint at dccuchile/bert-base-spanish-wwm-cased were not used when initializing BertModel: ['cls.predictions.transform.LayerNorm.bias', 'cls.predictions.bias', 'cls.predictions.transform.dense.weight', 'cls.predictions.transform.dense.bias', 'cls.predictions.transform.LayerNorm.weight', 'cls.predictions.decoder.weight', 'cls.predictions.decoder.bias']\n",
            "- This IS expected if you are initializing BertModel from the checkpoint of a model trained on another task or with another architecture (e.g. initializing a BertForSequenceClassification model from a BertForPreTraining model).\n",
            "- This IS NOT expected if you are initializing BertModel from the checkpoint of a model that you expect to be exactly identical (initializing a BertForSequenceClassification model from a BertForSequenceClassification model).\n"
          ],
          "name": "stderr"
        },
        {
          "output_type": "stream",
          "text": [
            "Some weights of BertModel were not initialized from the model checkpoint at dccuchile/bert-base-spanish-wwm-cased and are newly initialized: ['bert.pooler.dense.weight', 'bert.pooler.dense.bias']\n",
            "You should probably TRAIN this model on a down-stream task to be able to use it for predictions and inference.\n"
          ],
          "name": "stderr"
        },
        {
          "output_type": "stream",
          "text": [
            "\n",
            "=============== EPOCH 1 / 30 ===============\n",
            "\n",
            "___ batch index = 0 / 1836 (0.00%), loss = 0.7816, time = 0.08 seconds ___\n"
          ],
          "name": "stdout"
        },
        {
          "output_type": "stream",
          "text": [
            "___ batch index = 250 / 1836 (13.62%), loss = 0.7820, time = 21.75 seconds ___\n"
          ],
          "name": "stdout"
        },
        {
          "output_type": "stream",
          "text": [
            "___ batch index = 500 / 1836 (27.23%), loss = 0.6255, time = 21.05 seconds ___\n"
          ],
          "name": "stdout"
        },
        {
          "output_type": "stream",
          "text": [
            "___ batch index = 750 / 1836 (40.85%), loss = 0.5139, time = 19.36 seconds ___\n"
          ],
          "name": "stdout"
        },
        {
          "output_type": "stream",
          "text": [
            "___ batch index = 1000 / 1836 (54.47%), loss = 0.3182, time = 21.62 seconds ___\n"
          ],
          "name": "stdout"
        },
        {
          "output_type": "stream",
          "text": [
            "___ batch index = 1250 / 1836 (68.08%), loss = 0.2270, time = 19.91 seconds ___\n"
          ],
          "name": "stdout"
        },
        {
          "output_type": "stream",
          "text": [
            "___ batch index = 1500 / 1836 (81.70%), loss = 0.1946, time = 20.04 seconds ___\n"
          ],
          "name": "stdout"
        },
        {
          "output_type": "stream",
          "text": [
            "___ batch index = 1750 / 1836 (95.32%), loss = 0.1281, time = 21.25 seconds ___\n"
          ],
          "name": "stdout"
        },
        {
          "output_type": "stream",
          "text": [
            "\n",
            "*** avg_loss : 0.43, time : ~2.0 min (152.76 sec) ***\n",
            "\n"
          ],
          "name": "stdout"
        },
        {
          "output_type": "stream",
          "text": [
            "==> evaluation : avg_loss = 0.32, time : 21.28 sec\n",
            "\n"
          ],
          "name": "stdout"
        },
        {
          "output_type": "stream",
          "text": [
            "threshold:  [0.07817025]\n",
            "=====>\t{'Positive Rate': array([0.092257], dtype=float32), 'threshold': 0.078170255, 'accuracy': 0.1696869851729819, 'f1': 0.17105263157894737, 'recall': 0.9285714285714286, 'specificity': 0.0925589836660617, 'default_accuracy': 0.9077429983525536, 'default_f1': 0.0, 'default_recall': 0.0, 'default_specificity': 1.0}\n",
            "\n",
            "=============== EPOCH 2 / 30 ===============\n",
            "\n",
            "___ batch index = 0 / 1836 (0.00%), loss = 0.1027, time = 0.08 seconds ___\n"
          ],
          "name": "stdout"
        },
        {
          "output_type": "stream",
          "text": [
            "___ batch index = 250 / 1836 (13.62%), loss = 2.4179, time = 21.76 seconds ___\n"
          ],
          "name": "stdout"
        },
        {
          "output_type": "stream",
          "text": [
            "___ batch index = 500 / 1836 (27.23%), loss = 0.1839, time = 21.05 seconds ___\n"
          ],
          "name": "stdout"
        },
        {
          "output_type": "stream",
          "text": [
            "___ batch index = 750 / 1836 (40.85%), loss = 0.1739, time = 19.36 seconds ___\n"
          ],
          "name": "stdout"
        },
        {
          "output_type": "stream",
          "text": [
            "___ batch index = 1000 / 1836 (54.47%), loss = 0.1256, time = 21.68 seconds ___\n"
          ],
          "name": "stdout"
        },
        {
          "output_type": "stream",
          "text": [
            "___ batch index = 1250 / 1836 (68.08%), loss = 0.1102, time = 19.85 seconds ___\n"
          ],
          "name": "stdout"
        },
        {
          "output_type": "stream",
          "text": [
            "___ batch index = 1500 / 1836 (81.70%), loss = 0.1190, time = 20.04 seconds ___\n"
          ],
          "name": "stdout"
        },
        {
          "output_type": "stream",
          "text": [
            "___ batch index = 1750 / 1836 (95.32%), loss = 0.0795, time = 21.26 seconds ___\n"
          ],
          "name": "stdout"
        },
        {
          "output_type": "stream",
          "text": [
            "\n",
            "*** avg_loss : 0.34, time : ~2.0 min (152.77 sec) ***\n",
            "\n"
          ],
          "name": "stdout"
        },
        {
          "output_type": "stream",
          "text": [
            "==> evaluation : avg_loss = 0.32, time : 21.23 sec\n",
            "\n"
          ],
          "name": "stdout"
        },
        {
          "output_type": "stream",
          "text": [
            "threshold:  [0.05602124]\n",
            "=====>\t{'Positive Rate': array([0.092257], dtype=float32), 'threshold': 0.056021243, 'accuracy': 0.15321252059308071, 'f1': 0.16013071895424835, 'recall': 0.875, 'specificity': 0.07985480943738657, 'default_accuracy': 0.9077429983525536, 'default_f1': 0.0, 'default_recall': 0.0, 'default_specificity': 1.0}\n",
            "\n",
            "=============== EPOCH 3 / 30 ===============\n",
            "\n",
            "___ batch index = 0 / 1836 (0.00%), loss = 0.0684, time = 0.08 seconds ___\n"
          ],
          "name": "stdout"
        },
        {
          "output_type": "stream",
          "text": [
            "___ batch index = 250 / 1836 (13.62%), loss = 2.5900, time = 21.76 seconds ___\n"
          ],
          "name": "stdout"
        },
        {
          "output_type": "stream",
          "text": [
            "___ batch index = 500 / 1836 (27.23%), loss = 0.1393, time = 21.05 seconds ___\n"
          ],
          "name": "stdout"
        },
        {
          "output_type": "stream",
          "text": [
            "___ batch index = 750 / 1836 (40.85%), loss = 0.1360, time = 19.36 seconds ___\n"
          ],
          "name": "stdout"
        },
        {
          "output_type": "stream",
          "text": [
            "___ batch index = 1000 / 1836 (54.47%), loss = 0.1054, time = 21.68 seconds ___\n"
          ],
          "name": "stdout"
        },
        {
          "output_type": "stream",
          "text": [
            "___ batch index = 1250 / 1836 (68.08%), loss = 0.0923, time = 19.86 seconds ___\n"
          ],
          "name": "stdout"
        },
        {
          "output_type": "stream",
          "text": [
            "___ batch index = 1500 / 1836 (81.70%), loss = 0.1107, time = 20.04 seconds ___\n"
          ],
          "name": "stdout"
        },
        {
          "output_type": "stream",
          "text": [
            "___ batch index = 1750 / 1836 (95.32%), loss = 0.0711, time = 21.26 seconds ___\n"
          ],
          "name": "stdout"
        },
        {
          "output_type": "stream",
          "text": [
            "\n",
            "*** avg_loss : 0.33, time : ~2.0 min (152.78 sec) ***\n",
            "\n"
          ],
          "name": "stdout"
        },
        {
          "output_type": "stream",
          "text": [
            "==> evaluation : avg_loss = 0.32, time : 21.24 sec\n",
            "\n"
          ],
          "name": "stdout"
        },
        {
          "output_type": "stream",
          "text": [
            "threshold:  [0.0532178]\n",
            "=====>\t{'Positive Rate': array([0.092257], dtype=float32), 'threshold': 0.0532178, 'accuracy': 0.15980230642504117, 'f1': 0.16118421052631576, 'recall': 0.875, 'specificity': 0.08711433756805807, 'default_accuracy': 0.9077429983525536, 'default_f1': 0.0, 'default_recall': 0.0, 'default_specificity': 1.0}\n",
            "\n",
            "=============== EPOCH 4 / 30 ===============\n",
            "\n",
            "___ batch index = 0 / 1836 (0.00%), loss = 0.0616, time = 0.08 seconds ___\n"
          ],
          "name": "stdout"
        },
        {
          "output_type": "stream",
          "text": [
            "___ batch index = 250 / 1836 (13.62%), loss = 2.6434, time = 21.75 seconds ___\n"
          ],
          "name": "stdout"
        },
        {
          "output_type": "stream",
          "text": [
            "___ batch index = 500 / 1836 (27.23%), loss = 0.1257, time = 21.05 seconds ___\n"
          ],
          "name": "stdout"
        },
        {
          "output_type": "stream",
          "text": [
            "___ batch index = 750 / 1836 (40.85%), loss = 0.1203, time = 19.37 seconds ___\n"
          ],
          "name": "stdout"
        },
        {
          "output_type": "stream",
          "text": [
            "___ batch index = 1000 / 1836 (54.47%), loss = 0.1089, time = 21.68 seconds ___\n"
          ],
          "name": "stdout"
        },
        {
          "output_type": "stream",
          "text": [
            "___ batch index = 1250 / 1836 (68.08%), loss = 0.0942, time = 19.85 seconds ___\n"
          ],
          "name": "stdout"
        },
        {
          "output_type": "stream",
          "text": [
            "___ batch index = 1500 / 1836 (81.70%), loss = 0.1039, time = 19.92 seconds ___\n"
          ],
          "name": "stdout"
        },
        {
          "output_type": "stream",
          "text": [
            "___ batch index = 1750 / 1836 (95.32%), loss = 0.0720, time = 21.25 seconds ___\n"
          ],
          "name": "stdout"
        },
        {
          "output_type": "stream",
          "text": [
            "\n",
            "*** avg_loss : 0.33, time : ~2.0 min (152.62 sec) ***\n",
            "\n"
          ],
          "name": "stdout"
        },
        {
          "output_type": "stream",
          "text": [
            "==> evaluation : avg_loss = 0.32, time : 21.08 sec\n",
            "\n"
          ],
          "name": "stdout"
        },
        {
          "output_type": "stream",
          "text": [
            "threshold:  [0.05317448]\n",
            "=====>\t{'Positive Rate': array([0.092257], dtype=float32), 'threshold': 0.05317448, 'accuracy': 0.15485996705107083, 'f1': 0.15763546798029557, 'recall': 0.8571428571428571, 'specificity': 0.08348457350272233, 'default_accuracy': 0.9077429983525536, 'default_f1': 0.0, 'default_recall': 0.0, 'default_specificity': 1.0}\n",
            "\n",
            "=============== EPOCH 5 / 30 ===============\n",
            "\n",
            "___ batch index = 0 / 1836 (0.00%), loss = 0.0586, time = 0.08 seconds ___\n"
          ],
          "name": "stdout"
        },
        {
          "output_type": "stream",
          "text": [
            "___ batch index = 250 / 1836 (13.62%), loss = 2.6546, time = 21.68 seconds ___\n"
          ],
          "name": "stdout"
        },
        {
          "output_type": "stream",
          "text": [
            "___ batch index = 500 / 1836 (27.23%), loss = 0.1214, time = 20.99 seconds ___\n"
          ],
          "name": "stdout"
        },
        {
          "output_type": "stream",
          "text": [
            "___ batch index = 750 / 1836 (40.85%), loss = 0.1183, time = 19.35 seconds ___\n"
          ],
          "name": "stdout"
        },
        {
          "output_type": "stream",
          "text": [
            "___ batch index = 1000 / 1836 (54.47%), loss = 0.1116, time = 21.55 seconds ___\n"
          ],
          "name": "stdout"
        },
        {
          "output_type": "stream",
          "text": [
            "___ batch index = 1250 / 1836 (68.08%), loss = 0.0927, time = 19.85 seconds ___\n"
          ],
          "name": "stdout"
        },
        {
          "output_type": "stream",
          "text": [
            "___ batch index = 1500 / 1836 (81.70%), loss = 0.0894, time = 19.92 seconds ___\n"
          ],
          "name": "stdout"
        },
        {
          "output_type": "stream",
          "text": [
            "___ batch index = 1750 / 1836 (95.32%), loss = 0.0700, time = 21.25 seconds ___\n"
          ],
          "name": "stdout"
        },
        {
          "output_type": "stream",
          "text": [
            "\n",
            "*** avg_loss : 0.33, time : ~2.0 min (152.36 sec) ***\n",
            "\n"
          ],
          "name": "stdout"
        },
        {
          "output_type": "stream",
          "text": [
            "==> evaluation : avg_loss = 0.32, time : 21.11 sec\n",
            "\n"
          ],
          "name": "stdout"
        },
        {
          "output_type": "stream",
          "text": [
            "threshold:  [0.05367565]\n",
            "=====>\t{'Positive Rate': array([0.092257], dtype=float32), 'threshold': 0.05367565, 'accuracy': 0.15980230642504117, 'f1': 0.16118421052631576, 'recall': 0.875, 'specificity': 0.08711433756805807, 'default_accuracy': 0.9077429983525536, 'default_f1': 0.0, 'default_recall': 0.0, 'default_specificity': 1.0}\n",
            "\n",
            "=============== EPOCH 6 / 30 ===============\n",
            "\n",
            "___ batch index = 0 / 1836 (0.00%), loss = 0.0623, time = 0.07 seconds ___\n"
          ],
          "name": "stdout"
        },
        {
          "output_type": "stream",
          "text": [
            "___ batch index = 250 / 1836 (13.62%), loss = 2.5884, time = 21.68 seconds ___\n"
          ],
          "name": "stdout"
        },
        {
          "output_type": "stream",
          "text": [
            "___ batch index = 500 / 1836 (27.23%), loss = 0.1186, time = 20.99 seconds ___\n"
          ],
          "name": "stdout"
        },
        {
          "output_type": "stream",
          "text": [
            "___ batch index = 750 / 1836 (40.85%), loss = 0.1108, time = 19.30 seconds ___\n"
          ],
          "name": "stdout"
        },
        {
          "output_type": "stream",
          "text": [
            "___ batch index = 1000 / 1836 (54.47%), loss = 0.1123, time = 21.58 seconds ___\n"
          ],
          "name": "stdout"
        },
        {
          "output_type": "stream",
          "text": [
            "___ batch index = 1250 / 1836 (68.08%), loss = 0.0891, time = 19.70 seconds ___\n"
          ],
          "name": "stdout"
        },
        {
          "output_type": "stream",
          "text": [
            "___ batch index = 1500 / 1836 (81.70%), loss = 0.0961, time = 19.89 seconds ___\n"
          ],
          "name": "stdout"
        },
        {
          "output_type": "stream",
          "text": [
            "___ batch index = 1750 / 1836 (95.32%), loss = 0.0719, time = 21.10 seconds ___\n"
          ],
          "name": "stdout"
        },
        {
          "output_type": "stream",
          "text": [
            "\n",
            "*** avg_loss : 0.33, time : ~2.0 min (151.96 sec) ***\n",
            "\n"
          ],
          "name": "stdout"
        },
        {
          "output_type": "stream",
          "text": [
            "==> evaluation : avg_loss = 0.32, time : 21.00 sec\n",
            "\n"
          ],
          "name": "stdout"
        },
        {
          "output_type": "stream",
          "text": [
            "threshold:  [0.05402181]\n",
            "=====>\t{'Positive Rate': array([0.092257], dtype=float32), 'threshold': 0.054021806, 'accuracy': 0.15980230642504117, 'f1': 0.16118421052631576, 'recall': 0.875, 'specificity': 0.08711433756805807, 'default_accuracy': 0.9077429983525536, 'default_f1': 0.0, 'default_recall': 0.0, 'default_specificity': 1.0}\n",
            "model did not progress for 5 followed epochs\n"
          ],
          "name": "stdout"
        },
        {
          "output_type": "stream",
          "text": [
            "-----------------BEST TH:  0.078170255\n",
            "-----------------TEST EVALUATION {'Positive Rate': array([0.0945946], dtype=float32), 'accuracy': 0.8243243243243243, 'f1': 0.03703703703703704, 'recall': 0.03571428571428571, 'specificity': 0.9067164179104478, 'default_accuracy': 0.9054054054054054, 'default_f1': 0.0, 'default_recall': 0.0, 'default_specificity': 1.0}\n"
          ],
          "name": "stdout"
        }
      ]
    }
  ]
}