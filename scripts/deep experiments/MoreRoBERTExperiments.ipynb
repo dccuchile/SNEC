{
  "nbformat": 4,
  "nbformat_minor": 0,
  "metadata": {
    "colab": {
      "name": "transform_text_in_representations_multiple_tests_2.ipynb",
      "provenance": [],
      "collapsed_sections": []
    },
    "accelerator": "GPU"
  },
  "cells": [
    {
      "cell_type": "code",
      "metadata": {
        "id": "Wj9ptIGwtvUt",
        "jupyter": {
          "outputs_hidden": false
        }
      },
      "source": [
        "# !pip install --upgrade gensim\n",
        "# !pip install \"transformers==3.5.1\"\n",
        "# !pip install -U sentence-transformers\n",
        "# !pip install kornia\n",
        "# !pip install \"torch==1.7.0\""
      ],
      "execution_count": null,
      "outputs": []
    },
    {
      "cell_type": "code",
      "metadata": {
        "id": "UoZY0qQktvU0",
        "jupyter": {
          "outputs_hidden": false
        }
      },
      "source": [
        "import os\n",
        "os.environ['CUDA_LAUNCH_BLOCKING'] = \"1\"\n",
        "\n",
        "import torch\n",
        "import pandas as pd\n",
        "import numpy as np\n",
        "from sklearn.preprocessing import LabelEncoder\n",
        "import re\n",
        "from sklearn.model_selection import train_test_split\n",
        "from sklearn.metrics import accuracy_score, f1_score, hamming_loss, confusion_matrix\n",
        "from transformers import BertTokenizer\n",
        "from transformers import BertForSequenceClassification, AdamW, BertConfig\n",
        "from torch.utils.data import TensorDataset, DataLoader, RandomSampler, SequentialSampler\n",
        "\n",
        "import torch.nn as nn\n",
        "from torch.utils.data import Dataset, DataLoader, random_split\n",
        "from torch.utils.data.sampler import SubsetRandomSampler\n",
        "import transformers\n",
        "from transformers import RobertaTokenizer, BertTokenizer, RobertaModel, BertModel, AdamW\n",
        "from transformers import get_linear_schedule_with_warmup\n",
        "import time\n",
        "from kornia.losses import BinaryFocalLossWithLogits\n",
        "\n",
        "import warnings\n",
        "import traceback"
      ],
      "execution_count": null,
      "outputs": []
    },
    {
      "cell_type": "code",
      "metadata": {
        "colab": {
          "base_uri": "https://localhost:8080/"
        },
        "id": "ypzJyW9AtvU1",
        "jupyter": {
          "outputs_hidden": false
        },
        "outputId": "14c66919-8e16-44ad-c437-5306d5c55b4a"
      },
      "source": [
        "!nvidia-smi"
      ],
      "execution_count": null,
      "outputs": [
        {
          "output_type": "stream",
          "text": [
            "Sat May 22 17:01:55 2021       \r\n",
            "+-----------------------------------------------------------------------------+\r\n",
            "| NVIDIA-SMI 450.119.03   Driver Version: 450.119.03   CUDA Version: 11.0     |\r\n",
            "|-------------------------------+----------------------+----------------------+\r\n",
            "| GPU  Name        Persistence-M| Bus-Id        Disp.A | Volatile Uncorr. ECC |\r\n",
            "| Fan  Temp  Perf  Pwr:Usage/Cap|         Memory-Usage | GPU-Util  Compute M. |\r\n",
            "|                               |                      |               MIG M. |\r\n",
            "|===============================+======================+======================|\r\n",
            "|   0  GeForce RTX 2080    Off  | 00000000:03:00.0 Off |                  N/A |\r\n",
            "|  0%   42C    P0    42W / 260W |      3MiB /  7982MiB |      0%      Default |\r\n",
            "|                               |                      |                  N/A |\r\n",
            "+-------------------------------+----------------------+----------------------+\r\n",
            "|   1  GeForce RTX 2080    Off  | 00000000:05:00.0 Off |                  N/A |\r\n",
            "|  0%   41C    P2    54W / 260W |   1214MiB /  7982MiB |     10%      Default |\r\n",
            "|                               |                      |                  N/A |\r\n",
            "+-------------------------------+----------------------+----------------------+\r\n",
            "                                                                               \r\n",
            "+-----------------------------------------------------------------------------+\r\n",
            "| Processes:                                                                  |\r\n",
            "|  GPU   GI   CI        PID   Type   Process name                  GPU Memory |\r\n",
            "|        ID   ID                                                   Usage      |\r\n",
            "|=============================================================================|\r\n",
            "|    1   N/A  N/A     45345      C   ...unoz/anaconda3/bin/python     1211MiB |\r\n",
            "+-----------------------------------------------------------------------------+\r\n"
          ],
          "name": "stdout"
        }
      ]
    },
    {
      "cell_type": "code",
      "metadata": {
        "colab": {
          "base_uri": "https://localhost:8080/"
        },
        "id": "6G2-fISXQyfr",
        "jupyter": {
          "outputs_hidden": false
        },
        "outputId": "dc8c86de-1d31-4f94-839c-0fdb186ed60a"
      },
      "source": [
        "# If there's a GPU available...\n",
        "if torch.cuda.is_available():    \n",
        "\n",
        "    # Tell PyTorch to use the GPU.    \n",
        "    device = torch.device(\"cuda:0\")\n",
        "\n",
        "    print('There are %d GPU(s) available.' % torch.cuda.device_count())\n",
        "\n",
        "    print('We will use the GPU:', torch.cuda.get_device_name(0))\n",
        "\n",
        "# If not...\n",
        "else:\n",
        "    print('No GPU available, using the CPU instead.')\n",
        "    device = torch.device(\"cpu\")"
      ],
      "execution_count": null,
      "outputs": [
        {
          "output_type": "stream",
          "text": [
            "There are 2 GPU(s) available.\n",
            "We will use the GPU: GeForce RTX 2080\n"
          ],
          "name": "stdout"
        }
      ]
    },
    {
      "cell_type": "markdown",
      "metadata": {
        "id": "RonQHx7OJfXj"
      },
      "source": [
        "##Preparing Dataset"
      ]
    },
    {
      "cell_type": "markdown",
      "metadata": {
        "id": "CUgSQCJlNl2r"
      },
      "source": [
        "###Load dataset"
      ]
    },
    {
      "cell_type": "code",
      "metadata": {
        "id": "JdipkFQDJi6p",
        "jupyter": {
          "outputs_hidden": false
        }
      },
      "source": [
        "categories_number_words = {\n",
        "        1: \"Apoyo Pedagógico en asignaturas\",\n",
        "        3: \"Apoyo pedagógico personal\",\n",
        "        4: \"Tutoría entre pares\",\n",
        "        7: \"Hacer a la familia partícipe del proceso\",\n",
        "        8: \"Apoyo psicóloga(o)\",\n",
        "        9: \"Apoyo fonoaudióloga(o)\",\n",
        "        10: \"Apoyo Educador(a) Diferencial\",\n",
        "        11: \"Apoyo Kinesióloga(o)\",\n",
        "        12: \"Apoyo Médico General\",\n",
        "        13: \"Apoyo Terapeuta Ocupacional\",\n",
        "        14: \"Control Neurólogo\",\n",
        "        15: \"Apoyo Interdisciplinario\",\n",
        "        16: \"Adecuación curricular de acceso\",\n",
        "        17: \"Adecuación curricular de objetivos\"\n",
        "    }\n",
        "categories_words_number = {v: k for k, v in categories_number_words.items()}\n",
        "\n",
        "diagnoses_codes = {\n",
        "    \"Trastorno específico del lenguaje\": 0,\n",
        "    \"Trastorno por déficit atencional\": 1,\n",
        "    \"Dificultad específica de aprendizaje\": 2,\n",
        "    \"Discapacidad intelectual\": 3,\n",
        "    \"Discapacidad visual\": 4,\n",
        "    \"Trastorno del espectro autista\": 5,\n",
        "    \"Discapacidad auditiva - Hipoacusia\": 6,\n",
        "    \"Funcionamiento intelectual limítrofe\": 7,\n",
        "    \"Síndrome de Down\": 8,\n",
        "    \"Trastorno motor\": 9,\n",
        "    \"Multidéficit\": 10,\n",
        "    \"Retraso global del desarrollo\": 11\n",
        "}\n",
        "\n",
        "diagnoses_keys = list(diagnoses_codes.keys())\n",
        "\n",
        "def transform_diag_to_array(code):\n",
        "    arr = np.zeros(len(diagnoses_keys), dtype=int)\n",
        "    for (index, label) in enumerate(diagnoses_keys):\n",
        "        if diagnoses_codes[label]==code:\n",
        "            arr[index] = 1\n",
        "    return arr"
      ],
      "execution_count": null,
      "outputs": []
    },
    {
      "cell_type": "code",
      "metadata": {
        "id": "69bH3NpmMBFs",
        "jupyter": {
          "outputs_hidden": false
        }
      },
      "source": [
        "train_dataset = pd.read_csv('/research/jamunoz/datasets/train_ds.csv', keep_default_na=False)\n",
        "val_dataset = pd.read_csv('/research/jamunoz/datasets/val_ds.csv', keep_default_na=False)\n",
        "test_dataset = pd.read_csv('/research/jamunoz/datasets/test_ds.csv', keep_default_na=False)\n",
        "# train_dataset = pd.read_csv('gdrive/My Drive/magister/train_ds.csv', keep_default_na=False)\n",
        "# val_dataset = pd.read_csv('gdrive/My Drive/magister/val_ds.csv', keep_default_na=False)\n",
        "# test_dataset = pd.read_csv('gdrive/My Drive/magister/test_ds.csv', keep_default_na=False)\n",
        "\n",
        "\n",
        "# Add OHE diagnosis\n",
        "train_OHE_diags = []\n",
        "for diag in train_dataset['Encoded Diagnosis']:\n",
        "    train_OHE_diags.append(transform_diag_to_array(diag))\n",
        "temp_train_diags_df = pd.DataFrame(train_OHE_diags, columns=diagnoses_keys)\n",
        "train_dataset = pd.concat([train_dataset, temp_train_diags_df], axis=1)\n",
        "\n",
        "val_OHE_diags = []\n",
        "for diag in val_dataset['Encoded Diagnosis']:\n",
        "    val_OHE_diags.append(transform_diag_to_array(diag))\n",
        "temp_val_diags_df = pd.DataFrame(val_OHE_diags, columns=diagnoses_keys)\n",
        "val_dataset = pd.concat([val_dataset, temp_val_diags_df], axis=1)\n",
        "\n",
        "test_OHE_diags = []\n",
        "for diag in test_dataset['Encoded Diagnosis']:\n",
        "    test_OHE_diags.append(transform_diag_to_array(diag))\n",
        "temp_test_diags_df = pd.DataFrame(test_OHE_diags, columns=diagnoses_keys)\n",
        "test_dataset = pd.concat([test_dataset, temp_test_diags_df], axis=1)"
      ],
      "execution_count": null,
      "outputs": []
    },
    {
      "cell_type": "code",
      "metadata": {
        "colab": {
          "base_uri": "https://localhost:8080/",
          "height": 635
        },
        "id": "nhMXQug7MF45",
        "jupyter": {
          "outputs_hidden": false
        },
        "outputId": "408c75ed-9ed3-49c4-cc30-03405fa60686"
      },
      "source": [
        "train_dataset.head()"
      ],
      "execution_count": null,
      "outputs": [
        {
          "output_type": "execute_result",
          "data": {},
          "execution_count": 7
        }
      ]
    },
    {
      "cell_type": "code",
      "metadata": {
        "id": "2CsWWAVbMHrI",
        "jupyter": {
          "outputs_hidden": false
        }
      },
      "source": [
        "# y_keys = list(strat_present.keys())\n",
        "Y_KEYS = list(categories_words_number.keys())\n",
        "\n",
        "# df = pd.DataFrame(data=new_dataset_to_export)\n",
        "# X = df\n",
        "# Y = df[y_keys]\n",
        "X_train = train_dataset.drop(Y_KEYS, axis=1)\n",
        "Y_train = train_dataset[Y_KEYS]\n",
        "X_val = val_dataset.drop(Y_KEYS, axis=1)\n",
        "Y_val = val_dataset[Y_KEYS]\n",
        "X_test = test_dataset.drop(Y_KEYS, axis=1)\n",
        "Y_test = test_dataset[Y_KEYS]\n",
        "\n",
        "strats_amounts = {\n",
        "              'Adecuación curricular de acceso': 2264,\n",
        "              'Hacer a la familia partícipe del proceso': 2048,\n",
        "              'Apoyo Interdisciplinario': 1441, \n",
        "              'Apoyo Educador(a) Diferencial': 1311,\n",
        "              'Apoyo pedagógico personal': 1240,\n",
        "              'Apoyo fonoaudióloga(o)': 378,\n",
        "              'Apoyo psicóloga(o)': 588,\n",
        "              'Apoyo Terapeuta Ocupacional': 153,\n",
        "              'Tutoría entre pares': 350,\n",
        "              'Control Neurólogo': 63,\n",
        "              'Apoyo Médico General': 64,\n",
        "              'Apoyo Kinesióloga(o)': 32,\n",
        "              'Adecuación curricular de objetivos': 281,\n",
        "              'Apoyo Pedagógico en asignaturas': 1314\n",
        "}\n",
        "most_unbalanced_strategies = [strategy for strategy in Y_KEYS if (\n",
        "    strats_amounts[strategy] < (len(X_train) + len(X_val) + len(X_test))*0.15 or strats_amounts[strategy] > (len(X_train) + len(X_val) + len(X_test))*0.85)]\n",
        "less_unbalanced_strategies = [strategy for strategy in Y_KEYS if strategy not in most_unbalanced_strategies]\n",
        "only_one_strat = [Y_KEYS[0]]"
      ],
      "execution_count": null,
      "outputs": []
    },
    {
      "cell_type": "code",
      "metadata": {
        "colab": {
          "base_uri": "https://localhost:8080/"
        },
        "id": "Evkxjz6ANjAv",
        "jupyter": {
          "outputs_hidden": false
        },
        "outputId": "5ea19493-22cb-4b81-cd57-0c2cbbaa07b6"
      },
      "source": [
        "Y_train.keys()"
      ],
      "execution_count": null,
      "outputs": [
        {
          "output_type": "execute_result",
          "data": {},
          "execution_count": 9
        }
      ]
    },
    {
      "cell_type": "markdown",
      "metadata": {
        "id": "gpIk4fSKOlwB"
      },
      "source": [
        "###Data explore"
      ]
    },
    {
      "cell_type": "code",
      "metadata": {
        "colab": {
          "base_uri": "https://localhost:8080/"
        },
        "id": "NDj63orGtvU7",
        "jupyter": {
          "outputs_hidden": false
        },
        "outputId": "0282d6c0-6a0d-4cdb-a8fd-c4724e5a0295"
      },
      "source": [
        "print('Positive rates:')\n",
        "for label in list(Y_train.keys()):\n",
        "    print(label+': ', round(sum(Y_train[label])/len(Y_train[label]), 2))"
      ],
      "execution_count": null,
      "outputs": [
        {
          "output_type": "stream",
          "text": [
            "Positive rates:\n",
            "Apoyo Pedagógico en asignaturas:  0.43\n",
            "Apoyo pedagógico personal:  0.41\n",
            "Tutoría entre pares:  0.11\n",
            "Hacer a la familia partícipe del proceso:  0.67\n",
            "Apoyo psicóloga(o):  0.19\n",
            "Apoyo fonoaudióloga(o):  0.12\n",
            "Apoyo Educador(a) Diferencial:  0.43\n",
            "Apoyo Kinesióloga(o):  0.01\n",
            "Apoyo Médico General:  0.02\n",
            "Apoyo Terapeuta Ocupacional:  0.05\n",
            "Control Neurólogo:  0.02\n",
            "Apoyo Interdisciplinario:  0.47\n",
            "Adecuación curricular de acceso:  0.73\n",
            "Adecuación curricular de objetivos:  0.09\n"
          ],
          "name": "stdout"
        }
      ]
    },
    {
      "cell_type": "markdown",
      "metadata": {
        "id": "ONu-YYe8PIlF"
      },
      "source": [
        "###Dataset"
      ]
    },
    {
      "cell_type": "code",
      "metadata": {
        "id": "nymd7231RqJJ",
        "jupyter": {
          "outputs_hidden": false
        }
      },
      "source": [
        "class AllJoinedObservationsDataset(Dataset):\n",
        "\n",
        "    def __init__(self, data, tokenizer, chunk_len=200, overlap_len=50, approach=\"all\"):\n",
        "        self.tokenizer = tokenizer\n",
        "        self.chunk_len = chunk_len\n",
        "        self.overlap_len = overlap_len\n",
        "        self.approach = approach\n",
        "        self.data = data\n",
        "\n",
        "    def __len__(self):\n",
        "        return len(self.data)\n",
        "\n",
        "    def long_terms_tokenizer(self, tokenized_data, labels):\n",
        "        long_terms_token = []\n",
        "        input_ids_list = []\n",
        "        attention_mask_list = []\n",
        "        token_type_ids_list = []\n",
        "        labels_list = []\n",
        "\n",
        "        previous_input_ids = tokenized_data[\"input_ids\"].reshape(-1)\n",
        "        previous_attention_mask = tokenized_data[\"attention_mask\"].reshape(-1)\n",
        "        previous_token_type_ids = tokenized_data[\"token_type_ids\"].reshape(-1)\n",
        "        remain = tokenized_data.get(\"overflowing_tokens\").reshape(-1)\n",
        "        labels = torch.tensor(labels, dtype=torch.int)\n",
        "\n",
        "        input_ids_list.append(previous_input_ids)\n",
        "        attention_mask_list.append(previous_attention_mask)\n",
        "        token_type_ids_list.append(previous_token_type_ids)\n",
        "        labels_list.append(labels)\n",
        "\n",
        "        if remain.size() and self.approach != 'head':\n",
        "            remain = torch.tensor(remain, dtype=torch.long)\n",
        "            idxs = range(len(remain)+self.chunk_len)\n",
        "            idxs = idxs[(self.chunk_len-self.overlap_len-2)\n",
        "                         ::(self.chunk_len-self.overlap_len-2)]\n",
        "            input_ids_first_overlap = previous_input_ids[-(\n",
        "                self.overlap_len+1):-1]\n",
        "            start_token = torch.tensor([101], dtype=torch.long)\n",
        "            end_token = torch.tensor([102], dtype=torch.long)\n",
        "\n",
        "            for i, idx in enumerate(idxs):\n",
        "                if i == 0:\n",
        "                    input_ids = torch.cat(\n",
        "                        (input_ids_first_overlap, remain[:idx]))\n",
        "                elif i == len(idxs):\n",
        "                    input_ids = remain[idx:]\n",
        "                elif previous_idx >= len(remain):\n",
        "                    break\n",
        "                else:\n",
        "                    input_ids = remain[(previous_idx-self.overlap_len):idx]\n",
        "\n",
        "                previous_idx = idx\n",
        "\n",
        "                nb_token = len(input_ids)+2\n",
        "                attention_mask = torch.ones(self.chunk_len, dtype=torch.long)\n",
        "                attention_mask[nb_token:self.chunk_len] = 0\n",
        "                token_type_ids = torch.zeros(self.chunk_len, dtype=torch.long)\n",
        "                input_ids = torch.cat((start_token, input_ids, end_token))\n",
        "                if self.chunk_len-nb_token > 0:\n",
        "                    padding = torch.zeros(\n",
        "                        self.chunk_len-nb_token, dtype=torch.long)\n",
        "                    input_ids = torch.cat((input_ids, padding))\n",
        "\n",
        "                input_ids_list.append(input_ids)\n",
        "                attention_mask_list.append(attention_mask)\n",
        "                token_type_ids_list.append(token_type_ids)\n",
        "                labels_list.append(labels)\n",
        "            if self.approach == \"tail\":\n",
        "                input_ids_list = [input_ids_list[-1]]\n",
        "                attention_mask_list = [attention_mask_list[-1]]\n",
        "                token_type_ids_list = [token_type_ids_list[-1]]\n",
        "                labels_list = [labels_list[-1]]\n",
        "\n",
        "        return({\n",
        "            'ids': input_ids_list,  # torch.tensor(ids, dtype=torch.long),\n",
        "            # torch.tensor(mask, dtype=torch.long),\n",
        "            'mask': attention_mask_list,\n",
        "            # torch.tensor(token_type_ids, dtype=torch.long),\n",
        "            'token_type_ids': token_type_ids_list,\n",
        "            'labels': labels_list,\n",
        "            'len': [torch.tensor(len(labels_list), dtype=torch.long)]\n",
        "        })\n",
        "\n",
        "\n",
        "    def __getitem__(self, idx):\n",
        "      data_row = self.data.iloc[idx]\n",
        "      labels =  data_row[Y_KEYS]\n",
        "\n",
        "      data = self.tokenizer.encode_plus(\n",
        "            data_row['All perceptions'],\n",
        "            max_length=self.chunk_len,\n",
        "            pad_to_max_length=True,\n",
        "            add_special_tokens=True,\n",
        "            return_attention_mask=True,\n",
        "            return_token_type_ids=True,\n",
        "            return_overflowing_tokens=True,\n",
        "            return_tensors='pt')\n",
        "      \n",
        "      long_token = self.long_terms_tokenizer(data, labels)\n",
        "\n",
        "      tensor_labels = torch.tensor(labels, dtype=torch.int)\n",
        "      tensor_diags = torch.tensor(data_row[diagnoses_keys], dtype=torch.int)\n",
        "\n",
        "      dict_to_return = dict(\n",
        "          text_data = long_token,\n",
        "          labels=tensor_labels,\n",
        "          diagnostics=tensor_diags\n",
        "      )\n",
        "\n",
        "      return dict_to_return"
      ],
      "execution_count": null,
      "outputs": []
    },
    {
      "cell_type": "code",
      "metadata": {
        "id": "ShKUXwwXTJxL",
        "jupyter": {
          "outputs_hidden": false
        }
      },
      "source": [
        "class SeparatedObservationsDataset(Dataset):\n",
        "\n",
        "    def __init__(self, data, tokenizer, chunk_len=200, overlap_len=50, approach=\"all\"):\n",
        "        self.tokenizer = tokenizer\n",
        "        self.chunk_len = chunk_len\n",
        "        self.overlap_len = overlap_len\n",
        "        self.approach = approach\n",
        "        self.data = data\n",
        "\n",
        "    def __len__(self):\n",
        "        return len(self.data)\n",
        "\n",
        "    def long_terms_tokenizer(self, tokenized_data, labels):\n",
        "        long_terms_token = []\n",
        "        input_ids_list = []\n",
        "        attention_mask_list = []\n",
        "        token_type_ids_list = []\n",
        "        labels_list = []\n",
        "\n",
        "        previous_input_ids = tokenized_data[\"input_ids\"].reshape(-1)\n",
        "        previous_attention_mask = tokenized_data[\"attention_mask\"].reshape(-1)\n",
        "        previous_token_type_ids = tokenized_data[\"token_type_ids\"].reshape(-1)\n",
        "        remain = tokenized_data.get(\"overflowing_tokens\").reshape(-1)\n",
        "        labels = torch.tensor(labels, dtype=torch.int)\n",
        "\n",
        "        input_ids_list.append(previous_input_ids)\n",
        "        attention_mask_list.append(previous_attention_mask)\n",
        "        token_type_ids_list.append(previous_token_type_ids)\n",
        "        labels_list.append(labels)\n",
        "\n",
        "        if remain.size() and self.approach != 'head':\n",
        "            remain = torch.tensor(remain, dtype=torch.long)\n",
        "            idxs = range(len(remain)+self.chunk_len)\n",
        "            idxs = idxs[(self.chunk_len-self.overlap_len-2)\n",
        "                         ::(self.chunk_len-self.overlap_len-2)]\n",
        "            input_ids_first_overlap = previous_input_ids[-(\n",
        "                self.overlap_len+1):-1]\n",
        "            start_token = torch.tensor([101], dtype=torch.long)\n",
        "            end_token = torch.tensor([102], dtype=torch.long)\n",
        "\n",
        "            for i, idx in enumerate(idxs):\n",
        "                if i == 0:\n",
        "                    input_ids = torch.cat(\n",
        "                        (input_ids_first_overlap, remain[:idx]))\n",
        "                elif i == len(idxs):\n",
        "                    input_ids = remain[idx:]\n",
        "                elif previous_idx >= len(remain):\n",
        "                    break\n",
        "                else:\n",
        "                    input_ids = remain[(previous_idx-self.overlap_len):idx]\n",
        "\n",
        "                previous_idx = idx\n",
        "\n",
        "                nb_token = len(input_ids)+2\n",
        "                attention_mask = torch.ones(self.chunk_len, dtype=torch.long)\n",
        "                attention_mask[nb_token:self.chunk_len] = 0\n",
        "                token_type_ids = torch.zeros(self.chunk_len, dtype=torch.long)\n",
        "                input_ids = torch.cat((start_token, input_ids, end_token))\n",
        "                if self.chunk_len-nb_token > 0:\n",
        "                    padding = torch.zeros(\n",
        "                        self.chunk_len-nb_token, dtype=torch.long)\n",
        "                    input_ids = torch.cat((input_ids, padding))\n",
        "\n",
        "                input_ids_list.append(input_ids)\n",
        "                attention_mask_list.append(attention_mask)\n",
        "                token_type_ids_list.append(token_type_ids)\n",
        "                labels_list.append(labels)\n",
        "            if self.approach == \"tail\":\n",
        "                input_ids_list = [input_ids_list[-1]]\n",
        "                attention_mask_list = [attention_mask_list[-1]]\n",
        "                token_type_ids_list = [token_type_ids_list[-1]]\n",
        "                labels_list = [labels_list[-1]]\n",
        "\n",
        "        return({\n",
        "            'ids': input_ids_list,  # torch.tensor(ids, dtype=torch.long),\n",
        "            # torch.tensor(mask, dtype=torch.long),\n",
        "            'mask': attention_mask_list,\n",
        "            # torch.tensor(token_type_ids, dtype=torch.long),\n",
        "            'token_type_ids': token_type_ids_list,\n",
        "            'labels': labels_list,\n",
        "            'len': [torch.tensor(len(labels_list), dtype=torch.long)]\n",
        "        })\n",
        "\n",
        "\n",
        "    def __getitem__(self, idx):\n",
        "      data_row = self.data.iloc[idx]\n",
        "      labels =  data_row[Y_KEYS]\n",
        "\n",
        "      set_data = self.tokenizer.encode_plus(\n",
        "            data_row['Special Education Teacher Perceptions'],\n",
        "            max_length=self.chunk_len,\n",
        "            pad_to_max_length=True,\n",
        "            add_special_tokens=True,\n",
        "            return_attention_mask=True,\n",
        "            return_token_type_ids=True,\n",
        "            return_overflowing_tokens=True,\n",
        "            return_tensors='pt')\n",
        "    \n",
        "      st_data = self.tokenizer.encode_plus(\n",
        "            data_row['Speech Therapist Perceptions'],\n",
        "            max_length=self.chunk_len,\n",
        "            pad_to_max_length=True,\n",
        "            add_special_tokens=True,\n",
        "            return_attention_mask=True,\n",
        "            return_token_type_ids=True,\n",
        "            return_overflowing_tokens=True,\n",
        "            return_tensors='pt')\n",
        "        \n",
        "      p_data = self.tokenizer.encode_plus(\n",
        "            data_row['Psychologist Perceptions'],\n",
        "            max_length=self.chunk_len,\n",
        "            pad_to_max_length=True,\n",
        "            add_special_tokens=True,\n",
        "            return_attention_mask=True,\n",
        "            return_token_type_ids=True,\n",
        "            return_overflowing_tokens=True,\n",
        "            return_tensors='pt')\n",
        "        \n",
        "      m_data = self.tokenizer.encode_plus(\n",
        "            data_row['Medical Perceptions'],\n",
        "            max_length=self.chunk_len,\n",
        "            pad_to_max_length=True,\n",
        "            add_special_tokens=True,\n",
        "            return_attention_mask=True,\n",
        "            return_token_type_ids=True,\n",
        "            return_overflowing_tokens=True,\n",
        "            return_tensors='pt')\n",
        "      \n",
        "      set_long_token = self.long_terms_tokenizer(set_data, labels)      \n",
        "      st_long_token = self.long_terms_tokenizer(st_data, labels)      \n",
        "      p_long_token = self.long_terms_tokenizer(p_data, labels)      \n",
        "      m_long_token = self.long_terms_tokenizer(m_data, labels)\n",
        "\n",
        "      tensor_labels = torch.tensor(labels, dtype=torch.int)\n",
        "      tensor_diags = torch.tensor(data_row[diagnoses_keys], dtype=torch.int)\n",
        "\n",
        "      dict_to_return = dict(\n",
        "          text_data_set = set_long_token,\n",
        "          text_data_st = st_long_token,\n",
        "          text_data_p = p_long_token,\n",
        "          text_data_m = m_long_token,\n",
        "          labels=tensor_labels,\n",
        "          diagnostics=tensor_diags\n",
        "      )\n",
        "\n",
        "      return dict_to_return"
      ],
      "execution_count": null,
      "outputs": []
    },
    {
      "cell_type": "markdown",
      "metadata": {
        "id": "1kXynftO6NNr"
      },
      "source": [
        "###Dataloaders"
      ]
    },
    {
      "cell_type": "code",
      "metadata": {
        "colab": {
          "base_uri": "https://localhost:8080/"
        },
        "id": "0m96W-bR1Is2",
        "jupyter": {
          "outputs_hidden": false
        },
        "outputId": "31d4f06c-db1e-4d2b-abd7-bd6b97d81da8"
      },
      "source": [
        "TRAIN_BATCH_SIZE=1\n",
        "CHUNK_LEN=150\n",
        "OVERLAP_LEN=30\n",
        "\n",
        "print('Loading BERT tokenizer...')\n",
        "bert_tokenizer = BertTokenizer.from_pretrained(\"dccuchile/bert-base-spanish-wwm-cased\", do_lower_case=True)\n",
        "\n",
        "def my_collate1(batches):\n",
        "  modified_batches = []\n",
        "  for batch in batches:\n",
        "    batch_dict = {}\n",
        "    for key, value in batch.items():\n",
        "      if key == \"text_data\":\n",
        "        new_dict = {}\n",
        "        for sub_key, sub_value in batch[key].items():\n",
        "          new_dict[sub_key] = torch.stack(sub_value)\n",
        "        batch_dict[key] = new_dict\n",
        "      else:\n",
        "        batch_dict[key] = value\n",
        "    modified_batches.append(batch_dict)\n",
        "  return modified_batches\n",
        "\n",
        "transformed_train_dataset=AllJoinedObservationsDataset(\n",
        "    train_dataset,\n",
        "    tokenizer=bert_tokenizer,\n",
        "    chunk_len=CHUNK_LEN,\n",
        "    overlap_len=OVERLAP_LEN)\n",
        "\n",
        "transformed_val_dataset=AllJoinedObservationsDataset(\n",
        "    val_dataset,\n",
        "    tokenizer=bert_tokenizer,\n",
        "    chunk_len=CHUNK_LEN,\n",
        "    overlap_len=OVERLAP_LEN)\n",
        "\n",
        "transformed_test_dataset=AllJoinedObservationsDataset(\n",
        "    test_dataset,\n",
        "    tokenizer=bert_tokenizer,\n",
        "    chunk_len=CHUNK_LEN,\n",
        "    overlap_len=OVERLAP_LEN)\n",
        "\n",
        "train_data_loader=DataLoader(\n",
        "    transformed_train_dataset,\n",
        "    batch_size=TRAIN_BATCH_SIZE,\n",
        "    collate_fn=my_collate1)\n",
        "\n",
        "val_data_loader=DataLoader(\n",
        "    transformed_val_dataset,\n",
        "    batch_size=TRAIN_BATCH_SIZE,\n",
        "    collate_fn=my_collate1)\n",
        "\n",
        "test_data_loader=DataLoader(\n",
        "    transformed_test_dataset,\n",
        "    batch_size=TRAIN_BATCH_SIZE,\n",
        "    collate_fn=my_collate1)\n",
        "\n",
        "############ separated observations ############\n",
        "\n",
        "def my_collate2(batches):\n",
        "  modified_batches = []\n",
        "  for batch in batches:\n",
        "    batch_dict = {}\n",
        "    for key, value in batch.items():\n",
        "      if key == \"text_data_set\" or key == \"text_data_st\" or key == \"text_data_p\" or key == \"text_data_m\":\n",
        "        new_dict = {}\n",
        "        for sub_key, sub_value in batch[key].items():\n",
        "          new_dict[sub_key] = torch.stack(sub_value)\n",
        "        batch_dict[key] = new_dict\n",
        "      else:\n",
        "        batch_dict[key] = value\n",
        "    modified_batches.append(batch_dict)\n",
        "  return modified_batches\n",
        "\n",
        "divided_transformed_train_dataset=SeparatedObservationsDataset(\n",
        "    train_dataset,\n",
        "    tokenizer=bert_tokenizer,\n",
        "    chunk_len=CHUNK_LEN,\n",
        "    overlap_len=OVERLAP_LEN)\n",
        "\n",
        "divided_transformed_val_dataset=SeparatedObservationsDataset(\n",
        "    val_dataset,\n",
        "    tokenizer=bert_tokenizer,\n",
        "    chunk_len=CHUNK_LEN,\n",
        "    overlap_len=OVERLAP_LEN)\n",
        "\n",
        "divided_transformed_test_dataset=SeparatedObservationsDataset(\n",
        "    test_dataset,\n",
        "    tokenizer=bert_tokenizer,\n",
        "    chunk_len=CHUNK_LEN,\n",
        "    overlap_len=OVERLAP_LEN)\n",
        "\n",
        "divided_train_data_loader=DataLoader(\n",
        "    divided_transformed_train_dataset,\n",
        "    batch_size=TRAIN_BATCH_SIZE,\n",
        "    collate_fn=my_collate2)\n",
        "\n",
        "divided_val_data_loader=DataLoader(\n",
        "    divided_transformed_val_dataset,\n",
        "    batch_size=TRAIN_BATCH_SIZE,\n",
        "    collate_fn=my_collate2)\n",
        "\n",
        "divided_test_data_loader=DataLoader(\n",
        "    divided_transformed_test_dataset,\n",
        "    batch_size=TRAIN_BATCH_SIZE,\n",
        "    collate_fn=my_collate2)"
      ],
      "execution_count": null,
      "outputs": [
        {
          "output_type": "stream",
          "text": [
            "Loading BERT tokenizer...\n"
          ],
          "name": "stdout"
        }
      ]
    },
    {
      "cell_type": "markdown",
      "metadata": {
        "id": "-YdpzZB_BXrg"
      },
      "source": [
        "###Fine-tunning BERT"
      ]
    },
    {
      "cell_type": "code",
      "metadata": {
        "id": "obhNNVSeB6f3",
        "jupyter": {
          "outputs_hidden": false
        }
      },
      "source": [
        "class Bert_FT_Model(nn.Module):\n",
        "    \"\"\" A Model for bert fine tuning \"\"\"\n",
        "\n",
        "    def __init__(self, n_classes):\n",
        "        super(Bert_FT_Model, self).__init__()\n",
        "        self.bert_path = \"dccuchile/bert-base-spanish-wwm-cased\"\n",
        "        self.bert = transformers.BertModel.from_pretrained(self.bert_path)\n",
        "        self.out = nn.Linear(768, n_classes)\n",
        "        self.relu = nn.ReLU()\n",
        "        self.dropout = nn.Dropout(0.3)\n",
        "\n",
        "    def forward(self, ids, mask, token_type_ids):\n",
        "        \"\"\" Define how to perfom each call\n",
        "        Parameters\n",
        "        __________\n",
        "        ids: array\n",
        "            -\n",
        "        mask: array\n",
        "            - \n",
        "        token_type_ids: array\n",
        "            -\n",
        "        Returns\n",
        "        _______\n",
        "            - \n",
        "        \"\"\"\n",
        "        _, output = self.bert(\n",
        "            ids, attention_mask=mask, token_type_ids=token_type_ids, return_dict=False)\n",
        "        output = self.relu(output)\n",
        "        output = self.dropout(output)\n",
        "        output = self.out(output)\n",
        "        # output = torch.sigmoid(output)\n",
        "        return output\n",
        "    \n",
        "    \n",
        "class Single_Bert_FT_Model(nn.Module):\n",
        "    \"\"\" A Model for bert fine tuning \"\"\"\n",
        "\n",
        "    def __init__(self):\n",
        "        super(Single_Bert_FT_Model, self).__init__()\n",
        "        self.bert_path = \"dccuchile/bert-base-spanish-wwm-cased\"\n",
        "        self.bert = transformers.BertModel.from_pretrained(self.bert_path)\n",
        "        self.out = nn.Linear(768, 1)\n",
        "        # self.relu = nn.ReLU()\n",
        "        # self.dropout = nn.Dropout(0.3)\n",
        "\n",
        "    def forward(self, ids, mask, token_type_ids, is_eval=False):\n",
        "        \"\"\" Define how to perfom each call\n",
        "        Parameters\n",
        "        __________\n",
        "        ids: array\n",
        "            -\n",
        "        mask: array\n",
        "            - \n",
        "        token_type_ids: array\n",
        "            -\n",
        "        Returns\n",
        "        _______\n",
        "            - \n",
        "        \"\"\"\n",
        "        _, output = self.bert(\n",
        "            ids, attention_mask=mask, token_type_ids=token_type_ids, return_dict=False)\n",
        "        if is_eval:\n",
        "          print('representacion: ', output)\n",
        "        # output = self.relu(output)\n",
        "        # output = self.dropout(output)\n",
        "        output = self.out(output)\n",
        "        # output = torch.sigmoid(output)\n",
        "        return output"
      ],
      "execution_count": null,
      "outputs": []
    },
    {
      "cell_type": "code",
      "metadata": {
        "id": "tLeTRY-vSEig",
        "jupyter": {
          "outputs_hidden": false
        }
      },
      "source": [
        "class Bert_Hierarchical_Model(nn.Module):\n",
        "\n",
        "    def __init__(self, n_classes, pooling_method=\"mean\"):\n",
        "        super(Bert_Hierarchical_Model, self).__init__()\n",
        "\n",
        "        self.pooling_method = pooling_method\n",
        "\n",
        "        self.bert_path = \"dccuchile/bert-base-spanish-wwm-cased\"\n",
        "        self.bert = transformers.BertModel.from_pretrained(self.bert_path)\n",
        "        self.out = nn.Linear(768, n_classes)\n",
        "        self.relu = nn.ReLU()\n",
        "        self.dropout = nn.Dropout(0.3)\n",
        "\n",
        "    def forward(self, ids, mask, token_type_ids, lengt):\n",
        "\n",
        "        _, pooled_out = self.bert(\n",
        "            ids, attention_mask=mask, token_type_ids=token_type_ids, return_dict=False)\n",
        "\n",
        "        chunks_emb = pooled_out.split_with_sizes(lengt)\n",
        "\n",
        "        if self.pooling_method == \"mean\":\n",
        "            emb_pool = torch.stack([torch.mean(x, 0) for x in chunks_emb])\n",
        "        elif self.pooling_method == \"max\":\n",
        "            emb_pool = torch.stack([torch.max(x, 0)[0] for x in chunks_emb])\n",
        "\n",
        "        output = self.relu(emb_pool)\n",
        "        output = self.dropout(output)\n",
        "        output = self.out(output)\n",
        "        # output = torch.sigmoid(output)\n",
        "\n",
        "        return output\n",
        "    \n",
        "\n",
        "class Single_Bert_Hierarchical_Model(nn.Module):\n",
        "\n",
        "    def __init__(self, pooling_method=\"mean\"):\n",
        "        super(Single_Bert_Hierarchical_Model, self).__init__()\n",
        "\n",
        "        self.pooling_method = pooling_method\n",
        "\n",
        "        self.bert_path = \"dccuchile/bert-base-spanish-wwm-cased\"\n",
        "        self.bert = transformers.BertModel.from_pretrained(self.bert_path)\n",
        "        self.out = nn.Linear(768, 1)\n",
        "#         self.relu = nn.ReLU()\n",
        "#         self.dropout = nn.Dropout(0.3)\n",
        "\n",
        "    def forward(self, ids, mask, token_type_ids, lengt):\n",
        "\n",
        "        _, pooled_out = self.bert(\n",
        "            ids, attention_mask=mask, token_type_ids=token_type_ids, return_dict=False)\n",
        "\n",
        "        chunks_emb = pooled_out.split_with_sizes(lengt)\n",
        "\n",
        "        if self.pooling_method == \"mean\":\n",
        "            output = torch.stack([torch.mean(x, 0) for x in chunks_emb])\n",
        "        elif self.pooling_method == \"max\":\n",
        "            output = torch.stack([torch.max(x, 0)[0] for x in chunks_emb])\n",
        "\n",
        "#         output = self.relu(output)\n",
        "#         output = self.dropout(output)\n",
        "        output = self.out(output)\n",
        "        # output = torch.sigmoid(output)\n",
        "\n",
        "        return output"
      ],
      "execution_count": null,
      "outputs": []
    },
    {
      "cell_type": "code",
      "metadata": {
        "id": "Xx2tUod1NMvz",
        "jupyter": {
          "outputs_hidden": false
        }
      },
      "source": [
        "import statistics\n",
        "\n",
        "def get_results(targets, outputs):\n",
        "  TN = 0\n",
        "  TP = 0\n",
        "  FP = 0\n",
        "  FN = 0\n",
        "  for (i, output) in enumerate(outputs):\n",
        "    if output==0:\n",
        "      if targets[i]==0:\n",
        "        TN += 1\n",
        "      else:\n",
        "        FN += 1\n",
        "    else:\n",
        "      if targets[i]==1:\n",
        "        TP += 1\n",
        "      else:\n",
        "        FP += 1\n",
        "  return TP, TN, FP, FN\n",
        "\n",
        "def findMinDiff(arr):\n",
        "    n = len(arr)\n",
        "    arr = sorted(arr)\n",
        "    diff = 0.5\n",
        "    for i in range(n-1):\n",
        "        if arr[i+1] - arr[i] > 0 and arr[i+1] - arr[i] < diff:\n",
        "            diff = arr[i+1] - arr[i]\n",
        "    return diff\n",
        "\n",
        "def get_thresholds(targets, outputs):\n",
        "  best_thresholds = []\n",
        "  for i in range(len(outputs[0])):\n",
        "    real_preds = outputs[:, i]\n",
        "    trues = targets[:, i]\n",
        "    max_g = 0\n",
        "#     max_f1 = 0\n",
        "    delta_threshold = 0.0001 # findMinDiff(real_preds)*0.9\n",
        "    positive_ratio = sum(trues)/len(trues)\n",
        "#     print('pr: ', positive_ratio)\n",
        "    if positive_ratio > 0.6:\n",
        "      local_best = 0\n",
        "      curr_threshold = min(real_preds)\n",
        "#       print(curr_threshold)\n",
        "      while curr_threshold < 1:\n",
        "        preds = [1 if pred > curr_threshold else 0 for pred in real_preds]\n",
        "        tp, tn, fp, fn = get_results(trues, preds)\n",
        "        recall = tp/(tp+fn)\n",
        "        specificity = tn/(tn+fp)\n",
        "        g_mean = np.sqrt(recall*specificity)\n",
        "#         f1 = f1_score(trues, preds)\n",
        "#         print(f1, max_f1, curr_threshold, local_best, tp, tn, fp, fn)\n",
        "        if tp < tn:\n",
        "          break\n",
        "        if g_mean > max_g:\n",
        "#         if f1 > max_f1:\n",
        "          max_g = g_mean\n",
        "#           max_f1 = f1\n",
        "          local_best = curr_threshold\n",
        "        curr_threshold += delta_threshold\n",
        "      best_thresholds.append(local_best)\n",
        "    elif positive_ratio < 0.4:\n",
        "      local_best = 1\n",
        "      curr_threshold = max(real_preds)\n",
        "      while curr_threshold > 0:\n",
        "        preds = [1 if pred > curr_threshold else 0 for pred in real_preds]\n",
        "        tp, tn, fp, fn = get_results(trues, preds)\n",
        "        recall = tp/(tp+fn)\n",
        "        specificity = tn/(tn+fp)\n",
        "        g_mean = np.sqrt(recall*specificity)\n",
        "#         f1 = f1_score(trues, preds)\n",
        "        if tn < tp:\n",
        "          break\n",
        "        if g_mean > max_g:\n",
        "#         if f1 > max_f1:\n",
        "          max_g = g_mean\n",
        "#           max_f1 = f1\n",
        "          local_best = curr_threshold\n",
        "        curr_threshold -= delta_threshold\n",
        "      best_thresholds.append(local_best)\n",
        "    else:\n",
        "      local_best = 0.5\n",
        "      best_thresholds.append(local_best)\n",
        "  return best_thresholds\n",
        "\n",
        "def get_individual_threshold(target, output, mode='g_mean'):\n",
        "    real_preds = output\n",
        "    trues = target\n",
        "    max_g = 0\n",
        "    max_f1 = 0\n",
        "    delta_threshold = 0.0001 # findMinDiff(real_preds)*0.9\n",
        "    positive_ratio = sum(trues)/len(trues)\n",
        "#     print('pr: ', positive_ratio)\n",
        "    if positive_ratio > 0.5:\n",
        "      local_best = 0\n",
        "      curr_threshold = min(real_preds)\n",
        "#       print(curr_threshold)\n",
        "      while curr_threshold < 1:\n",
        "        preds = [1 if pred > curr_threshold else 0 for pred in real_preds]\n",
        "        tp, tn, fp, fn = get_results(trues, preds)\n",
        "        recall = tp/(tp+fn)\n",
        "        specificity = tn/(tn+fp)\n",
        "        g_mean = np.sqrt(recall*specificity)\n",
        "        f1 = f1_score(trues, preds)\n",
        "#         print(f1, max_f1, curr_threshold, local_best, tp, tn, fp, fn)\n",
        "        if tp < tn:\n",
        "          break\n",
        "        if mode == 'g_mean':\n",
        "            if g_mean > max_g:\n",
        "                max_g = g_mean\n",
        "                local_best = curr_threshold\n",
        "        elif mode == 'f1':\n",
        "            if f1 > max_f1:\n",
        "                max_f1 = f1\n",
        "                local_best = curr_threshold\n",
        "        curr_threshold += delta_threshold\n",
        "      return local_best\n",
        "    else:\n",
        "      local_best = 1\n",
        "      curr_threshold = max(real_preds)\n",
        "      while curr_threshold > 0:\n",
        "        preds = [1 if pred > curr_threshold else 0 for pred in real_preds]\n",
        "        tp, tn, fp, fn = get_results(trues, preds)\n",
        "        recall = tp/(tp+fn)\n",
        "        specificity = tn/(tn+fp)\n",
        "        g_mean = np.sqrt(recall*specificity)\n",
        "        f1 = f1_score(trues, preds)\n",
        "        if tn < tp:\n",
        "          break\n",
        "        if mode == 'g_mean':\n",
        "            if g_mean > max_g:\n",
        "                max_g = g_mean\n",
        "                local_best = curr_threshold\n",
        "        elif mode == 'f1':\n",
        "            if f1 > max_f1:\n",
        "                max_f1 = f1\n",
        "                local_best = curr_threshold\n",
        "        curr_threshold -= delta_threshold\n",
        "      return local_best\n",
        "    # else:\n",
        "    #   local_best = 0.5\n",
        "    #   return local_best\n",
        "  "
      ],
      "execution_count": null,
      "outputs": []
    },
    {
      "cell_type": "code",
      "metadata": {
        "id": "NjY-9p49FBSB",
        "jupyter": {
          "outputs_hidden": false
        }
      },
      "source": [
        "def loss_fun(outputs, targets):\n",
        "    loss = nn.BCEWithLogitsLoss()\n",
        "    # loss = BinaryFocalLossWithLogits(alpha=0.25, reduction='mean')\n",
        "    try:\n",
        "      return loss(outputs, targets)\n",
        "    except Exception:\n",
        "      print(outputs, targets)\n",
        "      traceback.print_exc()\n",
        "    # return nn.BCEWithLogitsLoss()(outputs, targets)\n",
        "\n",
        "def individual_evaluation_1(target, predicted):\n",
        "  individual = {}\n",
        "  for i in range(len(target[0])):\n",
        "    temp_t = target[:, i]\n",
        "    temp_p = predicted[:, i]\n",
        "    diction = dict(\n",
        "        accuracy=accuracy_score(temp_t, temp_p),\n",
        "        f1=f1_score(temp_t, temp_p)\n",
        "    )\n",
        "    individual[str(i)] = diction\n",
        "  return individual\n",
        "\n",
        "def evaluate(target, predicted):\n",
        "    thresholds = get_thresholds(target, predicted)\n",
        "    print('thresholds: ', thresholds)\n",
        "    true_predicted = np.array([[1 if val > thresholds[i] else 0 for (i, val) in enumerate(pred)] for pred in predicted])\n",
        "    accuracy = accuracy_score(target, true_predicted)\n",
        "    macro_f1 = f1_score(target, true_predicted, average='macro')\n",
        "    micro_f1 = f1_score(target, true_predicted, average='micro')\n",
        "    weighted_f1 = f1_score(target, true_predicted, average='weighted')\n",
        "    hl = hamming_loss(target, true_predicted)\n",
        "    js = jaccard_score(target, true_predicted)\n",
        "    macro_js = jaccard_score(target, true_predicted, average=\"macro\")\n",
        "    micro_js = jaccard_score(target, true_predicted, average=\"micro\")\n",
        "    individual = individual_evaluation_1(target, true_predicted)\n",
        "    return {\n",
        "        \"accuracy\": accuracy,\n",
        "        \"jaccard_score_average\": js,\n",
        "        \"jaccard_score_macro\": macro_js,\n",
        "        \"jaccard_score_micro\": micro_js,\n",
        "        \"macro-f1\": macro_f1,\n",
        "        \"micro-f1\": micro_f1,\n",
        "        \"Hamming Loss\": hl,\n",
        "        \"Individual\": individual\n",
        "    }\n",
        "\n",
        "def individual_evaluation(target, predicted):\n",
        "    threshold_g = get_individual_threshold(target, predicted)\n",
        "    print('threshold (g-mean): ',threshold_g)\n",
        "    true_predicted_g = np.array([1 if val > threshold_g else 0 for val in predicted])\n",
        "    accuracy_g = accuracy_score(target, true_predicted_g)\n",
        "    f1_g = f1_score(target, true_predicted_g)\n",
        "    tp, tn, fp, fn = get_results(target, true_predicted_g)\n",
        "    recall_g = tp/(tp+fn)\n",
        "    specificity_g = tn/(tn+fp)\n",
        "    g_mean_g = np.sqrt(recall_g*specificity_g)\n",
        "    pr = sum(target)/len(target)\n",
        "    \n",
        "    threshold_f = get_individual_threshold(target, predicted, mode='f1')\n",
        "    print('threshold (f1): ',threshold_f)\n",
        "    true_predicted_f = np.array([1 if val > threshold_f else 0 for val in predicted])\n",
        "    accuracy_f = accuracy_score(target, true_predicted_f)\n",
        "    f1_f = f1_score(target, true_predicted_f)\n",
        "    tp, tn, fp, fn = get_results(target, true_predicted_f)\n",
        "    recall_f = tp/(tp+fn)\n",
        "    specificity_f = tn/(tn+fp)\n",
        "    g_mean_f = np.sqrt(recall_f*specificity_f)\n",
        "\n",
        "    default_true_predicted = np.array([1 if val > 0.5 else 0 for val in predicted])\n",
        "    default_accuracy = accuracy_score(target, default_true_predicted)\n",
        "    default_f1 = f1_score(target, default_true_predicted)\n",
        "    tp, tn, fp, fn = get_results(target, default_true_predicted)\n",
        "    default_recall = tp/(tp+fn)\n",
        "    default_specificity = tn/(tn+fp)\n",
        "    default_g_mean = np.sqrt(default_recall*default_specificity)\n",
        "    return {\n",
        "        \"Positive Rate\": pr,\n",
        "        \"max g_mean metrics\": {\n",
        "            \"threshold\": threshold_g,\n",
        "            \"accuracy\": accuracy_g,\n",
        "            \"f1\": f1_g,\n",
        "            \"recall\": recall_g,\n",
        "            \"specificity\": specificity_g,\n",
        "            \"g_mean\": g_mean_g},\n",
        "        \"max f1 metrics\": {\n",
        "            \"threshold\": threshold_f,\n",
        "            \"accuracy\": accuracy_f,\n",
        "            \"f1\": f1_f,\n",
        "            \"recall\": recall_f,\n",
        "            \"specificity\": specificity_f,\n",
        "            \"g_mean\": g_mean_f},\n",
        "        \"default_accuracy\": default_accuracy,\n",
        "        \"default_f1\": default_f1,\n",
        "        \"default_recall\": default_recall,\n",
        "        \"default_specificity\": default_specificity,\n",
        "        \"default_g_mean\": default_g_mean\n",
        "    }"
      ],
      "execution_count": null,
      "outputs": []
    },
    {
      "cell_type": "code",
      "metadata": {
        "id": "uJ6Ao0FkE3jx",
        "jupyter": {
          "outputs_hidden": false
        }
      },
      "source": [
        "def train_loop_fun1(data_loader, model, optimizer, device, grad_accs, scheduler=None):\n",
        "    model.train()\n",
        "    t0 = time.time()\n",
        "    losses = []\n",
        "    optimizer.zero_grad()\n",
        "    for batch_idx, batch in enumerate(data_loader):\n",
        "        ids = [data[\"text_data\"][\"ids\"] for data in batch]\n",
        "        mask = [data[\"text_data\"][\"mask\"] for data in batch]\n",
        "        token_type_ids = [data[\"text_data\"][\"token_type_ids\"] for data in batch]\n",
        "        targets = [data[\"text_data\"][\"labels\"] for data in batch]\n",
        "        lengt = [data[\"text_data\"]['len'] for data in batch]\n",
        "\n",
        "        ids = torch.cat(ids)\n",
        "        mask = torch.cat(mask)\n",
        "        token_type_ids = torch.cat(token_type_ids)\n",
        "        targets = torch.cat(targets)\n",
        "        lengt = torch.cat(lengt)\n",
        "\n",
        "        ids = ids.to(device, dtype=torch.long)\n",
        "        mask = mask.to(device, dtype=torch.long)\n",
        "        token_type_ids = token_type_ids.to(device, dtype=torch.long)\n",
        "        targets = targets.to(device, dtype=torch.float)\n",
        "\n",
        "        outputs = model(ids=ids, mask=mask, token_type_ids=token_type_ids)\n",
        "        loss = loss_fun(outputs, targets)\n",
        "        (loss / grad_accs).backward()\n",
        "        model.float()\n",
        "        if (batch_idx + 1) % grad_accs == 0:\n",
        "            optimizer.step()\n",
        "            optimizer.zero_grad()\n",
        "            if scheduler:\n",
        "                scheduler.step()\n",
        "        losses.append(loss.item())\n",
        "        if batch_idx % 250 == 0:\n",
        "            print(\n",
        "                f\"___ batch index = {batch_idx} / {len(data_loader)} ({100*batch_idx / len(data_loader):.2f}%), loss = {np.mean(losses[-10:]):.4f}, time = {time.time()-t0:.2f} seconds ___\")\n",
        "            t0 = time.time()\n",
        "    return losses\n",
        "\n",
        "\n",
        "def individual_train_loop_fun1(data_loader, model, optimizer, device, grad_accs, scheduler=None, label_index=0):\n",
        "    model.train()\n",
        "    t0 = time.time()\n",
        "    losses = []\n",
        "    optimizer.zero_grad()\n",
        "    for batch_idx, batch in enumerate(data_loader):\n",
        "        ids = [data[\"text_data\"][\"ids\"] for data in batch]\n",
        "        mask = [data[\"text_data\"][\"mask\"] for data in batch]\n",
        "        token_type_ids = [data[\"text_data\"][\"token_type_ids\"] for data in batch]\n",
        "        labels = [data[\"text_data\"][\"labels\"][:, label_index] for data in batch]\n",
        "        targets = []\n",
        "        for label_set in labels:\n",
        "          miniset = []\n",
        "          for label in label_set:\n",
        "            miniset.append(torch.tensor([label]))\n",
        "          targets.append(torch.stack(miniset))\n",
        "        lengt = [data[\"text_data\"]['len'] for data in batch]\n",
        "\n",
        "        ids = torch.cat(ids)\n",
        "        mask = torch.cat(mask)\n",
        "        token_type_ids = torch.cat(token_type_ids)\n",
        "        targets = torch.cat(targets)\n",
        "        lengt = torch.cat(lengt)\n",
        "\n",
        "        ids = ids.to(device, dtype=torch.long)\n",
        "        mask = mask.to(device, dtype=torch.long)\n",
        "        token_type_ids = token_type_ids.to(device, dtype=torch.long)\n",
        "        targets = targets.to(device, dtype=torch.float)\n",
        "\n",
        "        outputs = model(ids=ids, mask=mask, token_type_ids=token_type_ids)\n",
        "        # outputs = torch.cat(torch.unbind(outputs))\n",
        "        loss = loss_fun(outputs, targets)\n",
        "        (loss / grad_accs).backward()\n",
        "        model.float()\n",
        "        if (batch_idx + 1) % grad_accs == 0:\n",
        "            optimizer.step()\n",
        "            optimizer.zero_grad()\n",
        "            if scheduler:\n",
        "                scheduler.step()\n",
        "        losses.append(loss.item())\n",
        "        if batch_idx % 250 == 0:\n",
        "            print(\n",
        "                f\"___ batch index = {batch_idx} / {len(data_loader)} ({100*batch_idx / len(data_loader):.2f}%), loss = {np.mean(losses[-10:]):.4f}, time = {time.time()-t0:.2f} seconds ___\")\n",
        "            t0 = time.time()\n",
        "    return losses"
      ],
      "execution_count": null,
      "outputs": []
    },
    {
      "cell_type": "code",
      "metadata": {
        "id": "2J2zX4Oltoz7",
        "jupyter": {
          "outputs_hidden": false
        }
      },
      "source": [
        "def eval_loop_fun1(data_loader, model, device):\n",
        "    model.eval()\n",
        "    fin_targets = []\n",
        "    fin_outputs = []\n",
        "    losses = []\n",
        "    for batch_idx, batch in enumerate(data_loader):\n",
        "        ids = [data[\"text_data\"][\"ids\"] for data in batch]\n",
        "        mask = [data[\"text_data\"][\"mask\"] for data in batch]\n",
        "        token_type_ids = [data[\"text_data\"][\"token_type_ids\"] for data in batch]\n",
        "        targets = [data[\"text_data\"][\"labels\"] for data in batch]\n",
        "\n",
        "        ids = torch.cat(ids)\n",
        "        mask = torch.cat(mask)\n",
        "        token_type_ids = torch.cat(token_type_ids)\n",
        "        targets = torch.cat(targets)\n",
        "\n",
        "        ids = ids.to(device, dtype=torch.long)\n",
        "        mask = mask.to(device, dtype=torch.long)\n",
        "        token_type_ids = token_type_ids.to(device, dtype=torch.long)\n",
        "        targets = targets.to(device, dtype=torch.float)\n",
        "\n",
        "        with torch.no_grad():\n",
        "            outputs = model(ids=ids, mask=mask, token_type_ids=token_type_ids)\n",
        "            loss = loss_fun(outputs, targets)\n",
        "            losses.append(loss.item())\n",
        "\n",
        "        outputs = torch.sigmoid(outputs)\n",
        "        fin_targets.append(targets.cpu().detach().numpy())\n",
        "        fin_outputs.append(outputs.cpu().detach().numpy())\n",
        "    return np.concatenate(fin_outputs), np.concatenate(fin_targets), losses\n",
        "\n",
        "def individual_eval_loop_fun1(data_loader, model, device, label_index=0):\n",
        "    model.eval()\n",
        "    fin_targets = []\n",
        "    fin_outputs = []\n",
        "    losses = []\n",
        "    for batch_idx, batch in enumerate(data_loader):\n",
        "        ids = [data[\"text_data\"][\"ids\"] for data in batch]\n",
        "        mask = [data[\"text_data\"][\"mask\"] for data in batch]\n",
        "        token_type_ids = [data[\"text_data\"][\"token_type_ids\"] for data in batch]\n",
        "        labels = [data[\"text_data\"][\"labels\"][:, label_index] for data in batch]\n",
        "        targets = []\n",
        "        for label_set in labels:\n",
        "          miniset = []\n",
        "          for label in label_set:\n",
        "            miniset.append(torch.tensor([label]))\n",
        "          targets.append(torch.stack(miniset))\n",
        "\n",
        "        ids = torch.cat(ids)\n",
        "        mask = torch.cat(mask)\n",
        "        token_type_ids = torch.cat(token_type_ids)\n",
        "        targets = torch.cat(targets)\n",
        "\n",
        "        ids = ids.to(device, dtype=torch.long)\n",
        "        mask = mask.to(device, dtype=torch.long)\n",
        "        token_type_ids = token_type_ids.to(device, dtype=torch.long)\n",
        "        targets = targets.to(device, dtype=torch.float)\n",
        "\n",
        "        with torch.no_grad():\n",
        "            outputs = model(ids=ids, mask=mask, token_type_ids=token_type_ids)\n",
        "            # outputs = torch.cat(torch.unbind(outputs))\n",
        "            loss = loss_fun(outputs, targets)\n",
        "            losses.append(loss.item())\n",
        "\n",
        "        outputs = torch.sigmoid(outputs)\n",
        "        fin_targets.append(targets.cpu().detach().numpy())\n",
        "        fin_outputs.append(outputs.cpu().detach().numpy())\n",
        "    # print(fin_outputs)\n",
        "    return np.concatenate(fin_outputs), np.concatenate(fin_targets), losses"
      ],
      "execution_count": null,
      "outputs": []
    },
    {
      "cell_type": "code",
      "metadata": {
        "id": "Vy37VSo0Rzrt",
        "jupyter": {
          "outputs_hidden": false
        }
      },
      "source": [
        "def train_loop_fun2(data_loader, model, optimizer, device, grad_accs, scheduler=None):\n",
        "    model.train()\n",
        "    t0 = time.time()\n",
        "    losses = []\n",
        "    optimizer.zero_grad()\n",
        "    for batch_idx, batch in enumerate(data_loader):\n",
        "        ids = [data[\"text_data\"][\"ids\"] for data in batch]\n",
        "        mask = [data[\"text_data\"][\"mask\"] for data in batch]\n",
        "        token_type_ids = [data[\"text_data\"][\"token_type_ids\"] for data in batch]\n",
        "        targets = [data[\"labels\"] for data in batch]\n",
        "        lengt = [data[\"text_data\"]['len'] for data in batch]\n",
        "\n",
        "        ids = torch.cat(ids)\n",
        "        mask = torch.cat(mask)\n",
        "        token_type_ids = torch.cat(token_type_ids)\n",
        "        targets = torch.stack(targets)\n",
        "        lengt = torch.cat(lengt)\n",
        "        lengt = [x.item() for x in lengt]\n",
        "\n",
        "        ids = ids.to(device, dtype=torch.long)\n",
        "        mask = mask.to(device, dtype=torch.long)\n",
        "        token_type_ids = token_type_ids.to(device, dtype=torch.long)\n",
        "        targets = targets.to(device, dtype=torch.float)\n",
        "\n",
        "        outputs = model(ids=ids, mask=mask, token_type_ids=token_type_ids, lengt=lengt)\n",
        "        loss = loss_fun(outputs, targets)\n",
        "        # print('calcula la loss', loss)\n",
        "        # Gradient accumulation loss\n",
        "        (loss / grad_accs).backward()\n",
        "        model.float()\n",
        "        if (batch_idx + 1) % grad_accs == 0:\n",
        "            optimizer.step()\n",
        "            optimizer.zero_grad()\n",
        "            if scheduler:\n",
        "                scheduler.step()\n",
        "        losses.append(loss.item())\n",
        "        if batch_idx % 250 == 0:\n",
        "            print(\n",
        "                f\"___ batch index = {batch_idx} / {len(data_loader)} ({100*batch_idx / len(data_loader):.2f}%), loss = {np.mean(losses[-10:]):.4f}, time = {time.time()-t0:.2f} seconds ___\")\n",
        "            t0 = time.time()\n",
        "    return losses\n",
        "\n",
        "def individual_train_loop_fun2(data_loader, model, optimizer, device, grad_accs, scheduler=None, label_index=0):\n",
        "    model.train()\n",
        "    t0 = time.time()\n",
        "    losses = []\n",
        "    optimizer.zero_grad()\n",
        "    for batch_idx, batch in enumerate(data_loader):\n",
        "        ids = [data[\"text_data\"][\"ids\"] for data in batch]\n",
        "        mask = [data[\"text_data\"][\"mask\"] for data in batch]\n",
        "        token_type_ids = [data[\"text_data\"][\"token_type_ids\"] for data in batch]\n",
        "        labels = [data[\"labels\"][label_index] for data in batch]\n",
        "        targets = []\n",
        "        if len(labels) > 1:\n",
        "            for label_set in labels:\n",
        "              miniset = []\n",
        "              for label in label_set:\n",
        "                miniset.append(torch.tensor([label]))\n",
        "              targets.append(torch.stack(miniset))\n",
        "        else:\n",
        "            miniset = [torch.tensor([labels[0]])]\n",
        "            targets.append(torch.stack(miniset))\n",
        "        lengt = [data[\"text_data\"]['len'] for data in batch]\n",
        "\n",
        "        ids = torch.cat(ids)\n",
        "        mask = torch.cat(mask)\n",
        "        token_type_ids = torch.cat(token_type_ids)\n",
        "        targets = torch.cat(targets)\n",
        "        lengt = torch.cat(lengt)\n",
        "        lengt = [x.item() for x in lengt]\n",
        "\n",
        "        ids = ids.to(device, dtype=torch.long)\n",
        "        mask = mask.to(device, dtype=torch.long)\n",
        "        token_type_ids = token_type_ids.to(device, dtype=torch.long)\n",
        "        targets = targets.to(device, dtype=torch.float)\n",
        "\n",
        "        outputs = model(ids=ids, mask=mask, token_type_ids=token_type_ids, lengt=lengt)\n",
        "        # outputs = torch.cat(torch.unbind(outputs))\n",
        "        loss = loss_fun(outputs, targets)\n",
        "        (loss / grad_accs).backward()\n",
        "        model.float()\n",
        "        if (batch_idx + 1) % grad_accs == 0:\n",
        "            optimizer.step()\n",
        "            optimizer.zero_grad()\n",
        "            if scheduler:\n",
        "                scheduler.step()\n",
        "        losses.append(loss.item())\n",
        "        if batch_idx % 250 == 0:\n",
        "            print(\n",
        "                f\"___ batch index = {batch_idx} / {len(data_loader)} ({100*batch_idx / len(data_loader):.2f}%), loss = {np.mean(losses[-10:]):.4f}, time = {time.time()-t0:.2f} seconds ___\")\n",
        "            t0 = time.time()\n",
        "    return losses"
      ],
      "execution_count": null,
      "outputs": []
    },
    {
      "cell_type": "code",
      "metadata": {
        "id": "nwmyts7PRzrw",
        "jupyter": {
          "outputs_hidden": false
        }
      },
      "source": [
        "def eval_loop_fun2(data_loader, model, device):\n",
        "    model.eval()\n",
        "    fin_targets = []\n",
        "    fin_outputs = []\n",
        "    losses = []\n",
        "    for batch_idx, batch in enumerate(data_loader):\n",
        "        #         model.half()\n",
        "        ids = [data[\"text_data\"][\"ids\"] for data in batch]\n",
        "        mask = [data[\"text_data\"][\"mask\"] for data in batch]\n",
        "        token_type_ids = [data[\"text_data\"][\"token_type_ids\"] for data in batch]\n",
        "        targets = [data[\"labels\"] for data in batch]\n",
        "        lengt = [data[\"text_data\"]['len'] for data in batch]\n",
        "\n",
        "        ids = torch.cat(ids)\n",
        "        mask = torch.cat(mask)\n",
        "        token_type_ids = torch.cat(token_type_ids)\n",
        "        targets = torch.stack(targets)\n",
        "        lengt = torch.cat(lengt)\n",
        "        lengt = [x.item() for x in lengt]\n",
        "\n",
        "        ids = ids.to(device, dtype=torch.long)\n",
        "        mask = mask.to(device, dtype=torch.long)\n",
        "        token_type_ids = token_type_ids.to(device, dtype=torch.long)\n",
        "        targets = targets.to(device, dtype=torch.float)\n",
        "        with torch.no_grad():\n",
        "            outputs = model(ids=ids, mask=mask, token_type_ids=token_type_ids, lengt=lengt)\n",
        "            loss = loss_fun(outputs, targets)\n",
        "            losses.append(loss.item())\n",
        "\n",
        "        outputs = torch.sigmoid(outputs)\n",
        "        fin_targets.append(targets.cpu().detach().numpy())\n",
        "        fin_outputs.append(outputs.cpu().detach().numpy())\n",
        "    return np.concatenate(fin_outputs), np.concatenate(fin_targets), losses\n",
        "\n",
        "def individual_eval_loop_fun2(data_loader, model, device, label_index=0):\n",
        "    model.eval()\n",
        "    fin_targets = []\n",
        "    fin_outputs = []\n",
        "    losses = []\n",
        "    for batch_idx, batch in enumerate(data_loader):\n",
        "        ids = [data[\"text_data\"][\"ids\"] for data in batch]\n",
        "        mask = [data[\"text_data\"][\"mask\"] for data in batch]\n",
        "        token_type_ids = [data[\"text_data\"][\"token_type_ids\"] for data in batch]\n",
        "        labels = [data[\"labels\"][label_index] for data in batch]\n",
        "        targets = []\n",
        "        if len(labels) > 1:\n",
        "            for label_set in labels:\n",
        "              miniset = []\n",
        "              for label in label_set:\n",
        "                miniset.append(torch.tensor([label]))\n",
        "              targets.append(torch.stack(miniset))\n",
        "        else:\n",
        "            miniset = [torch.tensor([labels[0]])]\n",
        "            targets.append(torch.stack(miniset))\n",
        "        lengt = [data[\"text_data\"]['len'] for data in batch]\n",
        "\n",
        "        ids = torch.cat(ids)\n",
        "        mask = torch.cat(mask)\n",
        "        token_type_ids = torch.cat(token_type_ids)\n",
        "        targets = torch.cat(targets)\n",
        "        lengt = torch.cat(lengt)\n",
        "        lengt = [x.item() for x in lengt]\n",
        "\n",
        "        ids = ids.to(device, dtype=torch.long)\n",
        "        mask = mask.to(device, dtype=torch.long)\n",
        "        token_type_ids = token_type_ids.to(device, dtype=torch.long)\n",
        "        targets = targets.to(device, dtype=torch.float)\n",
        "        with torch.no_grad():\n",
        "            outputs = model(ids=ids, mask=mask, token_type_ids=token_type_ids, lengt=lengt)\n",
        "            loss = loss_fun(outputs, targets)\n",
        "            losses.append(loss.item())\n",
        "\n",
        "        outputs = torch.sigmoid(outputs)\n",
        "        fin_targets.append(targets.cpu().detach().numpy())\n",
        "        fin_outputs.append(outputs.cpu().detach().numpy())\n",
        "    return np.concatenate(fin_outputs), np.concatenate(fin_targets), losses"
      ],
      "execution_count": null,
      "outputs": []
    },
    {
      "cell_type": "code",
      "metadata": {
        "id": "OZCkGXj1tvVD",
        "jupyter": {
          "outputs_hidden": false
        }
      },
      "source": [
        "class Individual_RoBERT_Model(nn.Module):\n",
        "    \"\"\" Make an LSTM model over a fine tuned bert model.\n",
        "    Parameters\n",
        "    __________\n",
        "    bertFineTuned: BertModel\n",
        "        A bert fine tuned instance\n",
        "    n_classes: int\n",
        "        Number of classes\n",
        "    \"\"\"\n",
        "\n",
        "    def __init__(self, bertFineTuned, n_diags, n_layers=1):\n",
        "        super(Individual_RoBERT_Model, self).__init__()\n",
        "        self.bertFineTuned = bertFineTuned\n",
        "        self.lstm = nn.LSTM(768, 100, num_layers=n_layers, bidirectional=True)\n",
        "        self.out = nn.Linear(100 + n_diags, 1)\n",
        "\n",
        "    def forward(self, ids, mask, token_type_ids, lengt, diagnostics):\n",
        "        \"\"\" Define how to performed each call\n",
        "        Parameters\n",
        "        __________\n",
        "        ids: array\n",
        "            -\n",
        "        mask: array\n",
        "            - \n",
        "        token_type_ids: array\n",
        "            -\n",
        "        lengt: int\n",
        "            -\n",
        "        Returns:\n",
        "        _______\n",
        "        -\n",
        "        \"\"\"\n",
        "        _, pooled_out = self.bertFineTuned(\n",
        "            ids, attention_mask=mask, token_type_ids=token_type_ids)\n",
        "        chunks_emb = pooled_out.split_with_sizes(lengt)\n",
        "\n",
        "        seq_lengths = torch.LongTensor([x for x in map(len, chunks_emb)])\n",
        "\n",
        "        batch_emb_pad = nn.utils.rnn.pad_sequence(\n",
        "            chunks_emb, padding_value=-91, batch_first=True)\n",
        "        batch_emb = batch_emb_pad.transpose(0, 1)  # (B,L,D) -> (L,B,D)\n",
        "        lstm_input = nn.utils.rnn.pack_padded_sequence(\n",
        "            batch_emb, seq_lengths.cpu().numpy(), batch_first=False, enforce_sorted=False)\n",
        "\n",
        "        packed_output, (h_t, h_c) = self.lstm(lstm_input, )  # (h_t, h_c))\n",
        "#         output, _ = nn.utils.rnn.pad_packed_sequence(packed_output, padding_value=-91)\n",
        "\n",
        "        h_t = h_t.view(-1, 100)\n",
        "        output = torch.cat((h_t[0], diagnostics), dim=0)\n",
        "        output = self.out(output)\n",
        "        # output = torch.sigmoid(output)\n",
        "\n",
        "        return output"
      ],
      "execution_count": null,
      "outputs": []
    },
    {
      "cell_type": "code",
      "metadata": {
        "id": "RIrxfsi391cT",
        "jupyter": {
          "outputs_hidden": false
        }
      },
      "source": [
        "def individual_rnn_train_loop_fun1(data_loader, model, optimizer, device, grad_accs, scheduler=None, label_index=0):\n",
        "    model.train()\n",
        "    t0 = time.time()\n",
        "    losses = []\n",
        "    optimizer.zero_grad()\n",
        "    for batch_idx, batch in enumerate(data_loader):\n",
        "        ids = [data[\"text_data\"][\"ids\"] for data in batch]\n",
        "        mask = [data[\"text_data\"][\"mask\"] for data in batch]\n",
        "        token_type_ids = [data[\"text_data\"][\"token_type_ids\"] for data in batch]\n",
        "        labels = [data[\"labels\"][label_index] for data in batch]\n",
        "        targets = []\n",
        "        if len(labels) > 1:\n",
        "            for label_set in labels:\n",
        "              miniset = []\n",
        "              for label in label_set:\n",
        "                miniset.append(torch.tensor([label]))\n",
        "              targets.append(torch.stack(miniset))\n",
        "        else:\n",
        "            miniset = [torch.tensor(labels[0])]\n",
        "            targets.append(torch.stack(miniset))\n",
        "        lengt = [data[\"text_data\"]['len'] for data in batch]\n",
        "        diagnostics = [data[\"diagnostics\"] for data in batch]\n",
        "\n",
        "        ids = torch.cat(ids)\n",
        "        mask = torch.cat(mask)\n",
        "        token_type_ids = torch.cat(token_type_ids)\n",
        "        targets = torch.cat(targets)\n",
        "        lengt = torch.cat(lengt)\n",
        "        lengt = [x.item() for x in lengt]\n",
        "        diagnostics = torch.cat(diagnostics)\n",
        "\n",
        "        ids = ids.to(device, dtype=torch.long)\n",
        "        mask = mask.to(device, dtype=torch.long)\n",
        "        token_type_ids = token_type_ids.to(device, dtype=torch.long)\n",
        "        targets = targets.to(device, dtype=torch.float)\n",
        "        diagnostics = diagnostics.to(device, dtype=torch.long)\n",
        "        outputs = model(ids=ids, mask=mask,\n",
        "                        token_type_ids=token_type_ids, lengt=lengt, diagnostics=diagnostics)\n",
        "        loss = loss_fun(outputs, targets)\n",
        "        (loss / grad_accs).backward()\n",
        "        # loss.backward()\n",
        "        model.float()\n",
        "        if (batch_idx + 1) % grad_accs == 0:\n",
        "            optimizer.step()\n",
        "            optimizer.zero_grad()\n",
        "            if scheduler:\n",
        "                scheduler.step()\n",
        "        losses.append(loss.item())\n",
        "        if batch_idx % 250 == 0:\n",
        "            print(\n",
        "                f\"___ batch index = {batch_idx} / {len(data_loader)} ({100*batch_idx / len(data_loader):.2f}%), loss = {np.mean(losses[-10:]):.4f}, time = {time.time()-t0:.2f} secondes ___\")\n",
        "            t0 = time.time()\n",
        "    return losses\n",
        "\n",
        "\n",
        "def individual_rnn_eval_loop_fun1(data_loader, model, device, label_index=0):\n",
        "    model.eval()\n",
        "    fin_targets = []\n",
        "    fin_outputs = []\n",
        "    losses = []\n",
        "    for batch_idx, batch in enumerate(data_loader):\n",
        "        \n",
        "        ids = [data[\"text_data\"][\"ids\"] for data in batch]\n",
        "        mask = [data[\"text_data\"][\"mask\"] for data in batch]\n",
        "        token_type_ids = [data[\"text_data\"][\"token_type_ids\"] for data in batch]\n",
        "        labels = [data[\"labels\"][label_index] for data in batch]\n",
        "        targets = []\n",
        "        if len(labels) > 1:\n",
        "            for label_set in labels:\n",
        "              miniset = []\n",
        "              for label in label_set:\n",
        "                miniset.append(torch.tensor([label]))\n",
        "              targets.append(torch.stack(miniset))\n",
        "        else:\n",
        "            miniset = [torch.tensor(labels[0])]\n",
        "            targets.append(torch.stack(miniset))\n",
        "        lengt = [data[\"text_data\"]['len'] for data in batch]\n",
        "        diagnostics = [data[\"diagnostics\"] for data in batch]\n",
        "\n",
        "        ids = torch.cat(ids)\n",
        "        mask = torch.cat(mask)\n",
        "        token_type_ids = torch.cat(token_type_ids)\n",
        "        targets = torch.cat(targets)\n",
        "        lengt = torch.cat(lengt)\n",
        "        lengt = [x.item() for x in lengt]\n",
        "        diagnostics = torch.cat(diagnostics)\n",
        "\n",
        "        ids = ids.to(device, dtype=torch.long)\n",
        "        mask = mask.to(device, dtype=torch.long)\n",
        "        token_type_ids = token_type_ids.to(device, dtype=torch.long)\n",
        "        targets = targets.to(device, dtype=torch.float)\n",
        "        diagnostics = diagnostics.to(device, dtype=torch.long)\n",
        "        with torch.no_grad():\n",
        "            outputs = model(ids=ids, mask=mask,\n",
        "                            token_type_ids=token_type_ids, lengt=lengt, diagnostics=diagnostics)\n",
        "            loss = loss_fun(outputs, targets)\n",
        "            losses.append(loss.item())\n",
        "\n",
        "        fin_targets.append(targets.cpu().detach().numpy())\n",
        "        fin_outputs.append(outputs.cpu().detach().numpy())\n",
        "    return np.concatenate(fin_outputs), np.concatenate(fin_targets), losses"
      ],
      "execution_count": null,
      "outputs": []
    },
    {
      "cell_type": "code",
      "metadata": {
        "id": "ow4hnpwztvVE",
        "jupyter": {
          "outputs_hidden": false
        },
        "scrolled": true,
        "outputId": "2cc00119-12a5-45f4-d464-9f423f4066dc"
      },
      "source": [
        "# # label\n",
        "# multi_labs = [0]\n",
        "# learning_rates_coeffs = {\n",
        "#     0: 5,\n",
        "#     1: 10,\n",
        "#     2: 5,\n",
        "#     3: 1,\n",
        "#     4: 5,\n",
        "#     5: 1,\n",
        "#     6: 5,\n",
        "#     7: 1,\n",
        "#     8: 1,\n",
        "#     9: 1,\n",
        "#     10: 1,\n",
        "#     11: 10,\n",
        "#     12: 1,\n",
        "#     13: 5\n",
        "# }\n",
        "\n",
        "G_A =[16]\n",
        "N_L = [1] # , 3, 5]  # , 7]\n",
        "lrs = [0.1, 1]\n",
        "EPOCH = 8\n",
        "\n",
        "multi_labs = [7, 8, 9, 10, 11, 12, 13]\n",
        "\n",
        "for lab in multi_labs:\n",
        "    label = lab\n",
        "    print('#################################################### Para label: ', Y_KEYS[label], \" (\"+str(label)+\") ##############\")\n",
        "    best_model = None\n",
        "    best_f1 = 0\n",
        "    best_threshold = 0\n",
        "    \n",
        "\n",
        "    model=torch.load(\"/research/jamunoz/models/fine_tuned_bert/model_\"+str(label)+\".pt\")\n",
        "    bert_model = list(model.children())[0]\n",
        "#     bert_path = \"dccuchile/bert-base-spanish-wwm-cased\"\n",
        "#     bert_model = transformers.BertModel.from_pretrained(bert_path)\n",
        "\n",
        "    # freeze fine tuner bert\n",
        "    for param in bert_model.parameters():\n",
        "        param.requires_grad = False\n",
        "\n",
        "    for l_r in lrs:\n",
        "      lr=l_r*1e-6 # learning_rates_coeffs[lab]*1e-6#1e-3\n",
        "      num_training_steps=int(len(transformed_train_dataset) / TRAIN_BATCH_SIZE * EPOCH)\n",
        "      print(\"--------------------------------------lr: \"+str(lr)+\"-----------------------------\")\n",
        "      for n_lay in N_L:\n",
        "        print(\"+++++++++++++++++++++++++++++++++++++++++++++++++++ n layers: \"+str(n_lay)+\" ++++++++++++++++++++++++++++++++++++++++++++++++\")\n",
        "        for grad_acc in G_A:\n",
        "          print(\"/////////////////////////////////////////// GA: \"+str(grad_acc)+\" ///////////////////////////////////////////////////////\")\n",
        "\n",
        "          # model=torch.load(\"gdrive/My Drive/magister/models/fine_tuned_bert/model_\"+str(label)+\".pt\", map_location=device)\n",
        "          \n",
        "              \n",
        "          model_rnn=Individual_RoBERT_Model(bertFineTuned=bert_model, n_diags=len(diagnoses_keys), n_layers=n_lay).to(device)\n",
        "          optimizer=AdamW(model_rnn.parameters(), lr=lr)\n",
        "          scheduler = get_linear_schedule_with_warmup(optimizer, \n",
        "                                                  num_warmup_steps=0,\n",
        "                                                  num_training_steps=num_training_steps)\n",
        "\n",
        "          val_losses=[]\n",
        "          batches_losses=[]\n",
        "          val_acc=[]\n",
        "          for epoch in range(EPOCH):\n",
        "              t0 = time.time()    \n",
        "              print(f\"\\n=============== EPOCH {epoch+1} / {EPOCH} ===============\\n\")\n",
        "              batches_losses_tmp=individual_rnn_train_loop_fun1(train_data_loader, model_rnn, optimizer, device, grad_acc, scheduler=scheduler, label_index=label)\n",
        "              epoch_loss=np.mean(batches_losses_tmp)\n",
        "              print(f\"\\n*** avg_loss : {epoch_loss:.2f}, time : ~{(time.time()-t0)//60} min ({time.time()-t0:.2f} sec) ***\\n\")\n",
        "              t1=time.time()\n",
        "              output, target, val_losses_tmp=individual_rnn_eval_loop_fun1(val_data_loader, model_rnn, device)\n",
        "              print(f\"==> evaluation : avg_loss = {np.mean(val_losses_tmp):.2f}, time : {time.time()-t1:.2f} sec\\n\")\n",
        "              tmp_evaluate=individual_evaluation(target, output)\n",
        "              print(f\"=====>\\t{tmp_evaluate}\")\n",
        "              if tmp_evaluate['max f1 metrics']['f1'] > best_f1:\n",
        "                    del best_model\n",
        "                    torch.cuda.empty_cache()\n",
        "                    best_model = model_rnn\n",
        "                    best_f1 = tmp_evaluate['max f1 metrics']['f1']\n",
        "                    best_threshold = tmp_evaluate['max f1 metrics']['threshold']\n",
        "              val_acc.append(tmp_evaluate['default_accuracy'])\n",
        "              val_losses.append(val_losses_tmp)\n",
        "              batches_losses.append(batches_losses_tmp)\n",
        "              \n",
        "          del model_rnn, optimizer, scheduler\n",
        "          torch.cuda.empty_cache()\n",
        "          print(\"@@@@@@@@@@@@@@@@@@@@@@@@@@@@@@@@@@@@@@@@@@@@@ END @@@@@@@@@@@@@@@@@@@@@@@@@@@@@@@@@@@@@@@@@@@@@@@\")\n",
        "    torch.save(best_model, f\"/research/jamunoz/models/robert_lin/model_\"+str(lab)+\"_tr_\"+str(best_threshold)+\".pt\")\n",
        "    del model, bert_model, best_model\n",
        "    torch.cuda.empty_cache()\n",
        "    print(\"xxxxxxxxxxxxxxxxxxxxxxxxxxxxxxxxxxxx END Para label: \", Y_KEYS[label], \" (\"+str(label)+\") xxxxxxxxxxxxxxxxxxxxxxxxx\")\n",
        "    \n",
        "#     print(\"\\t§§ the RNN model has been saved §§\")\n",
        "#     torch.save(model_rnn, f\"/research/jamunoz/models/robert/model_rnn_epoch{epoch+1}.pt\")"
      ],
      "execution_count": null,
      "outputs": [
        {
          "output_type": "stream",
          "text": [
            "#################################################### Para label:  Apoyo Kinesióloga(o)  (7) ##############\n"
          ],
          "name": "stdout"
        },
        {
          "output_type": "stream",
          "text": [
            "--------------------------------------lr: 1e-07-----------------------------\n",
            "+++++++++++++++++++++++++++++++++++++++++++++++++++ n layers: 1 ++++++++++++++++++++++++++++++++++++++++++++++++\n",
            "/////////////////////////////////////////// GA: 16 ///////////////////////////////////////////////////////\n"
          ],
          "name": "stdout"
        },
        {
          "output_type": "stream",
          "text": [
            "Truncation was not explicitly activated but `max_length` is provided a specific value, please use `truncation=True` to explicitly truncate examples to max length. Defaulting to 'longest_first' truncation strategy. If you encode pairs of sequences (GLUE-style) with the tokenizer you can select this strategy more precisely by providing a specific strategy to `truncation`.\n"
          ],
          "name": "stderr"
        },
        {
          "output_type": "stream",
          "text": [
            "\n",
            "=============== EPOCH 1 / 8 ===============\n",
            "\n",
            "___ batch index = 0 / 1836 (0.00%), loss = 0.7341, time = 0.04 secondes ___\n"
          ],
          "name": "stdout"
        },
        {
          "output_type": "stream",
          "text": [
            "/home/jamunoz/anaconda3/lib/python3.8/site-packages/transformers/tokenization_utils_base.py:2016: FutureWarning: The `pad_to_max_length` argument is deprecated and will be removed in a future version, use `padding=True` or `padding='longest'` to pad to the longest sequence in the batch, or use `padding='max_length'` to pad to a max length. In this case, you can give a specific length with `max_length` (e.g. `max_length=45`) or leave max_length to None to pad to the maximal input size of the model (e.g. 512 for Bert).\n",
            "  warnings.warn(\n",
            "<ipython-input-11-5fb9fe6293fb>:32: UserWarning: To copy construct from a tensor, it is recommended to use sourceTensor.clone().detach() or sourceTensor.clone().detach().requires_grad_(True), rather than torch.tensor(sourceTensor).\n",
            "  remain = torch.tensor(remain, dtype=torch.long)\n",
            "<ipython-input-23-5db6513a9937>:19: UserWarning: To copy construct from a tensor, it is recommended to use sourceTensor.clone().detach() or sourceTensor.clone().detach().requires_grad_(True), rather than torch.tensor(sourceTensor).\n",
            "  miniset = [torch.tensor(labels[0])]\n"
          ],
          "name": "stderr"
        },
        {
          "output_type": "stream",
          "text": [
            "___ batch index = 250 / 1836 (13.62%), loss = 0.6256, time = 12.79 secondes ___\n"
          ],
          "name": "stdout"
        },
        {
          "output_type": "stream",
          "text": [
            "___ batch index = 500 / 1836 (27.23%), loss = 0.6110, time = 12.31 secondes ___\n"
          ],
          "name": "stdout"
        },
        {
          "output_type": "stream",
          "text": [
            "___ batch index = 750 / 1836 (40.85%), loss = 0.6309, time = 11.38 secondes ___\n"
          ],
          "name": "stdout"
        },
        {
          "output_type": "stream",
          "text": [
            "___ batch index = 1000 / 1836 (54.47%), loss = 0.6136, time = 13.08 secondes ___\n"
          ],
          "name": "stdout"
        },
        {
          "output_type": "stream",
          "text": [
            "___ batch index = 1250 / 1836 (68.08%), loss = 0.5923, time = 11.76 secondes ___\n"
          ],
          "name": "stdout"
        },
        {
          "output_type": "stream",
          "text": [
            "___ batch index = 1500 / 1836 (81.70%), loss = 0.6249, time = 11.90 secondes ___\n"
          ],
          "name": "stdout"
        },
        {
          "output_type": "stream",
          "text": [
            "___ batch index = 1750 / 1836 (95.32%), loss = 0.5949, time = 13.04 secondes ___\n"
          ],
          "name": "stdout"
        },
        {
          "output_type": "stream",
          "text": [
            "\n",
            "*** avg_loss : 0.62, time : ~1.0 min (91.28 sec) ***\n",
            "\n"
          ],
          "name": "stdout"
        },
        {
          "output_type": "stream",
          "text": [
            "<ipython-input-23-5db6513a9937>:75: UserWarning: To copy construct from a tensor, it is recommended to use sourceTensor.clone().detach() or sourceTensor.clone().detach().requires_grad_(True), rather than torch.tensor(sourceTensor).\n",
            "  miniset = [torch.tensor(labels[0])]\n"
          ],
          "name": "stderr"
        },
        {
          "output_type": "stream",
          "text": [
            "==> evaluation : avg_loss = 0.69, time : 29.26 sec\n",
            "\n"
          ],
          "name": "stdout"
        },
        {
          "output_type": "stream",
          "text": [
            "threshold (g-mean):  0.03485983406901359\n"
          ],
          "name": "stdout"
        },
        {
          "output_type": "stream",
          "text": [
            "threshold (f1):  0.03485983406901359\n",
            "=====>\t{'Positive Rate': 0.4332784184514003, 'max g_mean metrics': {'threshold': 0.03485983406901359, 'accuracy': 0.5683690280065898, 'f1': 0.007575757575757576, 'recall': 0.0038022813688212928, 'specificity': 1.0, 'g_mean': 0.06166264159782074}, 'max f1 metrics': {'threshold': 0.03485983406901359, 'accuracy': 0.5683690280065898, 'f1': 0.007575757575757576, 'recall': 0.0038022813688212928, 'specificity': 1.0, 'g_mean': 0.06166264159782074}, 'default_accuracy': 0.5667215815485996, 'default_f1': 0.0, 'default_recall': 0.0, 'default_specificity': 1.0, 'default_g_mean': 0.0}\n",
            "\n",
            "=============== EPOCH 2 / 8 ===============\n",
            "\n",
            "___ batch index = 0 / 1836 (0.00%), loss = 0.7397, time = 0.03 secondes ___\n"
          ],
          "name": "stdout"
        },
        {
          "output_type": "stream",
          "text": [
            "___ batch index = 250 / 1836 (13.62%), loss = 0.6257, time = 12.89 secondes ___\n"
          ],
          "name": "stdout"
        },
        {
          "output_type": "stream",
          "text": [
            "___ batch index = 500 / 1836 (27.23%), loss = 0.6077, time = 12.32 secondes ___\n"
          ],
          "name": "stdout"
        },
        {
          "output_type": "stream",
          "text": [
            "___ batch index = 750 / 1836 (40.85%), loss = 0.6249, time = 11.40 secondes ___\n"
          ],
          "name": "stdout"
        },
        {
          "output_type": "stream",
          "text": [
            "___ batch index = 1000 / 1836 (54.47%), loss = 0.6181, time = 13.09 secondes ___\n"
          ],
          "name": "stdout"
        },
        {
          "output_type": "stream",
          "text": [
            "___ batch index = 1250 / 1836 (68.08%), loss = 0.5892, time = 11.81 secondes ___\n"
          ],
          "name": "stdout"
        },
        {
          "output_type": "stream",
          "text": [
            "___ batch index = 1500 / 1836 (81.70%), loss = 0.6147, time = 11.94 secondes ___\n"
          ],
          "name": "stdout"
        },
        {
          "output_type": "stream",
          "text": [
            "___ batch index = 1750 / 1836 (95.32%), loss = 0.5909, time = 13.06 secondes ___\n"
          ],
          "name": "stdout"
        },
        {
          "output_type": "stream",
          "text": [
            "\n",
            "*** avg_loss : 0.62, time : ~1.0 min (91.53 sec) ***\n",
            "\n"
          ],
          "name": "stdout"
        },
        {
          "output_type": "stream",
          "text": [
            "==> evaluation : avg_loss = 0.69, time : 29.35 sec\n",
            "\n"
          ],
          "name": "stdout"
        },
        {
          "output_type": "stream",
          "text": [
            "threshold (g-mean):  0.03029545938372612\n"
          ],
          "name": "stdout"
        },
        {
          "output_type": "stream",
          "text": [
            "threshold (f1):  0.03029545938372612\n",
            "=====>\t{'Positive Rate': 0.4332784184514003, 'max g_mean metrics': {'threshold': 0.03029545938372612, 'accuracy': 0.5683690280065898, 'f1': 0.007575757575757576, 'recall': 0.0038022813688212928, 'specificity': 1.0, 'g_mean': 0.06166264159782074}, 'max f1 metrics': {'threshold': 0.03029545938372612, 'accuracy': 0.5683690280065898, 'f1': 0.007575757575757576, 'recall': 0.0038022813688212928, 'specificity': 1.0, 'g_mean': 0.06166264159782074}, 'default_accuracy': 0.5667215815485996, 'default_f1': 0.0, 'default_recall': 0.0, 'default_specificity': 1.0, 'default_g_mean': 0.0}\n",
            "\n",
            "=============== EPOCH 3 / 8 ===============\n",
            "\n",
            "___ batch index = 0 / 1836 (0.00%), loss = 0.7453, time = 0.03 secondes ___\n"
          ],
          "name": "stdout"
        },
        {
          "output_type": "stream",
          "text": [
            "___ batch index = 250 / 1836 (13.62%), loss = 0.6176, time = 12.73 secondes ___\n"
          ],
          "name": "stdout"
        },
        {
          "output_type": "stream",
          "text": [
            "___ batch index = 500 / 1836 (27.23%), loss = 0.6029, time = 12.35 secondes ___\n"
          ],
          "name": "stdout"
        },
        {
          "output_type": "stream",
          "text": [
            "___ batch index = 750 / 1836 (40.85%), loss = 0.6263, time = 11.43 secondes ___\n"
          ],
          "name": "stdout"
        },
        {
          "output_type": "stream",
          "text": [
            "___ batch index = 1000 / 1836 (54.47%), loss = 0.6073, time = 13.13 secondes ___\n"
          ],
          "name": "stdout"
        },
        {
          "output_type": "stream",
          "text": [
            "___ batch index = 1250 / 1836 (68.08%), loss = 0.5884, time = 11.87 secondes ___\n"
          ],
          "name": "stdout"
        },
        {
          "output_type": "stream",
          "text": [
            "___ batch index = 1500 / 1836 (81.70%), loss = 0.6206, time = 12.03 secondes ___\n"
          ],
          "name": "stdout"
        },
        {
          "output_type": "stream",
          "text": [
            "___ batch index = 1750 / 1836 (95.32%), loss = 0.5956, time = 13.15 secondes ___\n"
          ],
          "name": "stdout"
        },
        {
          "output_type": "stream",
          "text": [
            "\n",
            "*** avg_loss : 0.61, time : ~1.0 min (91.74 sec) ***\n",
            "\n"
          ],
          "name": "stdout"
        },
        {
          "output_type": "stream",
          "text": [
            "==> evaluation : avg_loss = 0.69, time : 29.52 sec\n",
            "\n"
          ],
          "name": "stdout"
        },
        {
          "output_type": "stream",
          "text": [
            "threshold (g-mean):  0.02576623653769493\n"
          ],
          "name": "stdout"
        },
        {
          "output_type": "stream",
          "text": [
            "threshold (f1):  0.02576623653769493\n",
            "=====>\t{'Positive Rate': 0.4332784184514003, 'max g_mean metrics': {'threshold': 0.02576623653769493, 'accuracy': 0.5683690280065898, 'f1': 0.007575757575757576, 'recall': 0.0038022813688212928, 'specificity': 1.0, 'g_mean': 0.06166264159782074}, 'max f1 metrics': {'threshold': 0.02576623653769493, 'accuracy': 0.5683690280065898, 'f1': 0.007575757575757576, 'recall': 0.0038022813688212928, 'specificity': 1.0, 'g_mean': 0.06166264159782074}, 'default_accuracy': 0.5667215815485996, 'default_f1': 0.0, 'default_recall': 0.0, 'default_specificity': 1.0, 'default_g_mean': 0.0}\n",
            "\n",
            "=============== EPOCH 4 / 8 ===============\n",
            "\n",
            "___ batch index = 0 / 1836 (0.00%), loss = 0.7495, time = 0.03 secondes ___\n"
          ],
          "name": "stdout"
        },
        {
          "output_type": "stream",
          "text": [
            "___ batch index = 250 / 1836 (13.62%), loss = 0.6191, time = 12.83 secondes ___\n"
          ],
          "name": "stdout"
        },
        {
          "output_type": "stream",
          "text": [
            "___ batch index = 500 / 1836 (27.23%), loss = 0.6042, time = 12.43 secondes ___\n"
          ],
          "name": "stdout"
        },
        {
          "output_type": "stream",
          "text": [
            "___ batch index = 750 / 1836 (40.85%), loss = 0.6220, time = 11.49 secondes ___\n"
          ],
          "name": "stdout"
        },
        {
          "output_type": "stream",
          "text": [
            "___ batch index = 1000 / 1836 (54.47%), loss = 0.6028, time = 13.18 secondes ___\n"
          ],
          "name": "stdout"
        },
        {
          "output_type": "stream",
          "text": [
            "___ batch index = 1250 / 1836 (68.08%), loss = 0.5938, time = 11.90 secondes ___\n"
          ],
          "name": "stdout"
        },
        {
          "output_type": "stream",
          "text": [
            "___ batch index = 1500 / 1836 (81.70%), loss = 0.6085, time = 12.03 secondes ___\n"
          ],
          "name": "stdout"
        },
        {
          "output_type": "stream",
          "text": [
            "___ batch index = 1750 / 1836 (95.32%), loss = 0.5911, time = 13.14 secondes ___\n"
          ],
          "name": "stdout"
        },
        {
          "output_type": "stream",
          "text": [
            "\n",
            "*** avg_loss : 0.61, time : ~1.0 min (92.03 sec) ***\n",
            "\n"
          ],
          "name": "stdout"
        },
        {
          "output_type": "stream",
          "text": [
            "==> evaluation : avg_loss = 0.69, time : 29.43 sec\n",
            "\n"
          ],
          "name": "stdout"
        },
        {
          "output_type": "stream",
          "text": [
            "threshold (g-mean):  0.021285954692959786\n"
          ],
          "name": "stdout"
        },
        {
          "output_type": "stream",
          "text": [
            "threshold (f1):  0.021285954692959786\n",
            "=====>\t{'Positive Rate': 0.4332784184514003, 'max g_mean metrics': {'threshold': 0.021285954692959786, 'accuracy': 0.5683690280065898, 'f1': 0.007575757575757576, 'recall': 0.0038022813688212928, 'specificity': 1.0, 'g_mean': 0.06166264159782074}, 'max f1 metrics': {'threshold': 0.021285954692959786, 'accuracy': 0.5683690280065898, 'f1': 0.007575757575757576, 'recall': 0.0038022813688212928, 'specificity': 1.0, 'g_mean': 0.06166264159782074}, 'default_accuracy': 0.5667215815485996, 'default_f1': 0.0, 'default_recall': 0.0, 'default_specificity': 1.0, 'default_g_mean': 0.0}\n",
            "\n",
            "=============== EPOCH 5 / 8 ===============\n",
            "\n",
            "___ batch index = 0 / 1836 (0.00%), loss = 0.7422, time = 0.03 secondes ___\n"
          ],
          "name": "stdout"
        },
        {
          "output_type": "stream",
          "text": [
            "___ batch index = 250 / 1836 (13.62%), loss = 0.6129, time = 12.75 secondes ___\n"
          ],
          "name": "stdout"
        },
        {
          "output_type": "stream",
          "text": [
            "___ batch index = 500 / 1836 (27.23%), loss = 0.5991, time = 12.32 secondes ___\n"
          ],
          "name": "stdout"
        },
        {
          "output_type": "stream",
          "text": [
            "___ batch index = 750 / 1836 (40.85%), loss = 0.6150, time = 11.44 secondes ___\n"
          ],
          "name": "stdout"
        },
        {
          "output_type": "stream",
          "text": [
            "___ batch index = 1000 / 1836 (54.47%), loss = 0.6045, time = 13.12 secondes ___\n"
          ],
          "name": "stdout"
        },
        {
          "output_type": "stream",
          "text": [
            "___ batch index = 1250 / 1836 (68.08%), loss = 0.5779, time = 11.85 secondes ___\n"
          ],
          "name": "stdout"
        },
        {
          "output_type": "stream",
          "text": [
            "___ batch index = 1500 / 1836 (81.70%), loss = 0.6021, time = 11.97 secondes ___\n"
          ],
          "name": "stdout"
        },
        {
          "output_type": "stream",
          "text": [
            "___ batch index = 1750 / 1836 (95.32%), loss = 0.5862, time = 13.10 secondes ___\n"
          ],
          "name": "stdout"
        },
        {
          "output_type": "stream",
          "text": [
            "\n",
            "*** avg_loss : 0.61, time : ~1.0 min (91.58 sec) ***\n",
            "\n"
          ],
          "name": "stdout"
        },
        {
          "output_type": "stream",
          "text": [
            "==> evaluation : avg_loss = 0.69, time : 29.44 sec\n",
            "\n"
          ],
          "name": "stdout"
        },
        {
          "output_type": "stream",
          "text": [
            "threshold (g-mean):  0.01683784259259701\n"
          ],
          "name": "stdout"
        },
        {
          "output_type": "stream",
          "text": [
            "threshold (f1):  0.01683784259259701\n",
            "=====>\t{'Positive Rate': 0.4332784184514003, 'max g_mean metrics': {'threshold': 0.01683784259259701, 'accuracy': 0.5683690280065898, 'f1': 0.007575757575757576, 'recall': 0.0038022813688212928, 'specificity': 1.0, 'g_mean': 0.06166264159782074}, 'max f1 metrics': {'threshold': 0.01683784259259701, 'accuracy': 0.5683690280065898, 'f1': 0.007575757575757576, 'recall': 0.0038022813688212928, 'specificity': 1.0, 'g_mean': 0.06166264159782074}, 'default_accuracy': 0.5667215815485996, 'default_f1': 0.0, 'default_recall': 0.0, 'default_specificity': 1.0, 'default_g_mean': 0.0}\n",
            "\n",
            "=============== EPOCH 6 / 8 ===============\n",
            "\n",
            "___ batch index = 0 / 1836 (0.00%), loss = 0.7358, time = 0.03 secondes ___\n"
          ],
          "name": "stdout"
        },
        {
          "output_type": "stream",
          "text": [
            "___ batch index = 250 / 1836 (13.62%), loss = 0.6040, time = 12.75 secondes ___\n"
          ],
          "name": "stdout"
        },
        {
          "output_type": "stream",
          "text": [
            "___ batch index = 500 / 1836 (27.23%), loss = 0.6025, time = 12.28 secondes ___\n"
          ],
          "name": "stdout"
        },
        {
          "output_type": "stream",
          "text": [
            "___ batch index = 750 / 1836 (40.85%), loss = 0.6176, time = 11.37 secondes ___\n"
          ],
          "name": "stdout"
        },
        {
          "output_type": "stream",
          "text": [
            "___ batch index = 1000 / 1836 (54.47%), loss = 0.5998, time = 13.07 secondes ___\n"
          ],
          "name": "stdout"
        },
        {
          "output_type": "stream",
          "text": [
            "___ batch index = 1250 / 1836 (68.08%), loss = 0.5819, time = 11.77 secondes ___\n"
          ],
          "name": "stdout"
        },
        {
          "output_type": "stream",
          "text": [
            "___ batch index = 1500 / 1836 (81.70%), loss = 0.6051, time = 11.90 secondes ___\n"
          ],
          "name": "stdout"
        },
        {
          "output_type": "stream",
          "text": [
            "___ batch index = 1750 / 1836 (95.32%), loss = 0.5848, time = 13.02 secondes ___\n"
          ],
          "name": "stdout"
        },
        {
          "output_type": "stream",
          "text": [
            "\n",
            "*** avg_loss : 0.60, time : ~1.0 min (91.17 sec) ***\n",
            "\n"
          ],
          "name": "stdout"
        },
        {
          "output_type": "stream",
          "text": [
            "==> evaluation : avg_loss = 0.69, time : 29.31 sec\n",
            "\n"
          ],
          "name": "stdout"
        },
        {
          "output_type": "stream",
          "text": [
            "threshold (g-mean):  0.012409604915976525\n"
          ],
          "name": "stdout"
        },
        {
          "output_type": "stream",
          "text": [
            "threshold (f1):  0.012409604915976525\n",
            "=====>\t{'Positive Rate': 0.4332784184514003, 'max g_mean metrics': {'threshold': 0.012409604915976525, 'accuracy': 0.5683690280065898, 'f1': 0.007575757575757576, 'recall': 0.0038022813688212928, 'specificity': 1.0, 'g_mean': 0.06166264159782074}, 'max f1 metrics': {'threshold': 0.012409604915976525, 'accuracy': 0.5683690280065898, 'f1': 0.007575757575757576, 'recall': 0.0038022813688212928, 'specificity': 1.0, 'g_mean': 0.06166264159782074}, 'default_accuracy': 0.5667215815485996, 'default_f1': 0.0, 'default_recall': 0.0, 'default_specificity': 1.0, 'default_g_mean': 0.0}\n",
            "\n",
            "=============== EPOCH 7 / 8 ===============\n",
            "\n",
            "___ batch index = 0 / 1836 (0.00%), loss = 0.7393, time = 0.03 secondes ___\n"
          ],
          "name": "stdout"
        },
        {
          "output_type": "stream",
          "text": [
            "___ batch index = 250 / 1836 (13.62%), loss = 0.6056, time = 12.70 secondes ___\n"
          ],
          "name": "stdout"
        },
        {
          "output_type": "stream",
          "text": [
            "___ batch index = 500 / 1836 (27.23%), loss = 0.5951, time = 12.25 secondes ___\n"
          ],
          "name": "stdout"
        },
        {
          "output_type": "stream",
          "text": [
            "___ batch index = 750 / 1836 (40.85%), loss = 0.6152, time = 11.33 secondes ___\n"
          ],
          "name": "stdout"
        },
        {
          "output_type": "stream",
          "text": [
            "___ batch index = 1000 / 1836 (54.47%), loss = 0.5967, time = 13.07 secondes ___\n"
          ],
          "name": "stdout"
        },
        {
          "output_type": "stream",
          "text": [
            "___ batch index = 1250 / 1836 (68.08%), loss = 0.5768, time = 11.78 secondes ___\n"
          ],
          "name": "stdout"
        },
        {
          "output_type": "stream",
          "text": [
            "___ batch index = 1500 / 1836 (81.70%), loss = 0.5988, time = 11.91 secondes ___\n"
          ],
          "name": "stdout"
        },
        {
          "output_type": "stream",
          "text": [
            "___ batch index = 1750 / 1836 (95.32%), loss = 0.5751, time = 13.03 secondes ___\n"
          ],
          "name": "stdout"
        },
        {
          "output_type": "stream",
          "text": [
            "\n",
            "*** avg_loss : 0.60, time : ~1.0 min (91.09 sec) ***\n",
            "\n"
          ],
          "name": "stdout"
        },
        {
          "output_type": "stream",
          "text": [
            "==> evaluation : avg_loss = 0.69, time : 29.33 sec\n",
            "\n",
            "threshold (g-mean):  0.008033020251989365\n"
          ],
          "name": "stdout"
        },
        {
          "output_type": "stream",
          "text": [
            "threshold (f1):  0.008033020251989365\n",
            "=====>\t{'Positive Rate': 0.4332784184514003, 'max g_mean metrics': {'threshold': 0.008033020251989365, 'accuracy': 0.5683690280065898, 'f1': 0.007575757575757576, 'recall': 0.0038022813688212928, 'specificity': 1.0, 'g_mean': 0.06166264159782074}, 'max f1 metrics': {'threshold': 0.008033020251989365, 'accuracy': 0.5683690280065898, 'f1': 0.007575757575757576, 'recall': 0.0038022813688212928, 'specificity': 1.0, 'g_mean': 0.06166264159782074}, 'default_accuracy': 0.5667215815485996, 'default_f1': 0.0, 'default_recall': 0.0, 'default_specificity': 1.0, 'default_g_mean': 0.0}\n",
            "\n",
            "=============== EPOCH 8 / 8 ===============\n",
            "\n",
            "___ batch index = 0 / 1836 (0.00%), loss = 0.7577, time = 0.03 secondes ___\n"
          ],
          "name": "stdout"
        },
        {
          "output_type": "stream",
          "text": [
            "___ batch index = 250 / 1836 (13.62%), loss = 0.5945, time = 12.70 secondes ___\n"
          ],
          "name": "stdout"
        },
        {
          "output_type": "stream",
          "text": [
            "___ batch index = 500 / 1836 (27.23%), loss = 0.5894, time = 12.26 secondes ___\n"
          ],
          "name": "stdout"
        },
        {
          "output_type": "stream",
          "text": [
            "___ batch index = 750 / 1836 (40.85%), loss = 0.6063, time = 11.32 secondes ___\n"
          ],
          "name": "stdout"
        },
        {
          "output_type": "stream",
          "text": [
            "___ batch index = 1000 / 1836 (54.47%), loss = 0.5921, time = 13.06 secondes ___\n"
          ],
          "name": "stdout"
        },
        {
          "output_type": "stream",
          "text": [
            "___ batch index = 1250 / 1836 (68.08%), loss = 0.5783, time = 11.79 secondes ___\n"
          ],
          "name": "stdout"
        },
        {
          "output_type": "stream",
          "text": [
            "___ batch index = 1500 / 1836 (81.70%), loss = 0.5973, time = 11.91 secondes ___\n"
          ],
          "name": "stdout"
        },
        {
          "output_type": "stream",
          "text": [
            "___ batch index = 1750 / 1836 (95.32%), loss = 0.5647, time = 13.03 secondes ___\n"
          ],
          "name": "stdout"
        },
        {
          "output_type": "stream",
          "text": [
            "\n",
            "*** avg_loss : 0.60, time : ~1.0 min (91.08 sec) ***\n",
            "\n"
          ],
          "name": "stdout"
        },
        {
          "output_type": "stream",
          "text": [
            "==> evaluation : avg_loss = 0.69, time : 29.35 sec\n",
            "\n",
            "threshold (g-mean):  0.0037011427968740465\n",
            "threshold (f1):  0.0037011427968740465\n",
            "=====>\t{'Positive Rate': 0.4332784184514003, 'max g_mean metrics': {'threshold': 0.0037011427968740465, 'accuracy': 0.5683690280065898, 'f1': 0.007575757575757576, 'recall': 0.0038022813688212928, 'specificity': 1.0, 'g_mean': 0.06166264159782074}, 'max f1 metrics': {'threshold': 0.0037011427968740465, 'accuracy': 0.5683690280065898, 'f1': 0.007575757575757576, 'recall': 0.0038022813688212928, 'specificity': 1.0, 'g_mean': 0.06166264159782074}, 'default_accuracy': 0.5667215815485996, 'default_f1': 0.0, 'default_recall': 0.0, 'default_specificity': 1.0, 'default_g_mean': 0.0}\n",
            "@@@@@@@@@@@@@@@@@@@@@@@@@@@@@@@@@@@@@@@@@@@@@ END @@@@@@@@@@@@@@@@@@@@@@@@@@@@@@@@@@@@@@@@@@@@@@@\n",
            "--------------------------------------lr: 1e-06-----------------------------\n",
            "+++++++++++++++++++++++++++++++++++++++++++++++++++ n layers: 1 ++++++++++++++++++++++++++++++++++++++++++++++++\n",
            "/////////////////////////////////////////// GA: 16 ///////////////////////////////////////////////////////\n",
            "\n",
            "=============== EPOCH 1 / 8 ===============\n",
            "\n"
          ],
          "name": "stdout"
        },
        {
          "output_type": "stream",
          "text": [
            "___ batch index = 0 / 1836 (0.00%), loss = 0.7108, time = 0.03 secondes ___\n"
          ],
          "name": "stdout"
        },
        {
          "output_type": "stream",
          "text": [
            "___ batch index = 250 / 1836 (13.62%), loss = 0.6679, time = 12.74 secondes ___\n"
          ],
          "name": "stdout"
        },
        {
          "output_type": "stream",
          "text": [
            "___ batch index = 500 / 1836 (27.23%), loss = 0.6597, time = 12.38 secondes ___\n"
          ],
          "name": "stdout"
        },
        {
          "output_type": "stream",
          "text": [
            "___ batch index = 750 / 1836 (40.85%), loss = 0.6568, time = 11.46 secondes ___\n"
          ],
          "name": "stdout"
        },
        {
          "output_type": "stream",
          "text": [
            "___ batch index = 1000 / 1836 (54.47%), loss = 0.6432, time = 13.13 secondes ___\n"
          ],
          "name": "stdout"
        },
        {
          "output_type": "stream",
          "text": [
            "___ batch index = 1250 / 1836 (68.08%), loss = 0.6356, time = 11.89 secondes ___\n"
          ],
          "name": "stdout"
        },
        {
          "output_type": "stream",
          "text": [
            "___ batch index = 1500 / 1836 (81.70%), loss = 0.6412, time = 12.03 secondes ___\n"
          ],
          "name": "stdout"
        },
        {
          "output_type": "stream",
          "text": [
            "___ batch index = 1750 / 1836 (95.32%), loss = 0.6121, time = 13.16 secondes ___\n"
          ],
          "name": "stdout"
        },
        {
          "output_type": "stream",
          "text": [
            "\n",
            "*** avg_loss : 0.65, time : ~1.0 min (91.84 sec) ***\n",
            "\n"
          ],
          "name": "stdout"
        },
        {
          "output_type": "stream",
          "text": [
            "==> evaluation : avg_loss = 0.69, time : 29.57 sec\n",
            "\n"
          ],
          "name": "stdout"
        },
        {
          "output_type": "stream",
          "text": [
            "threshold (g-mean):  0.00351074402332306\n"
          ],
          "name": "stdout"
        },
        {
          "output_type": "stream",
          "text": [
            "threshold (f1):  0.00351074402332306\n",
            "=====>\t{'Positive Rate': 0.4332784184514003, 'max g_mean metrics': {'threshold': 0.00351074402332306, 'accuracy': 0.57166392092257, 'f1': 0.02255639097744361, 'recall': 0.011406844106463879, 'specificity': 1.0, 'g_mean': 0.10680282817633566}, 'max f1 metrics': {'threshold': 0.00351074402332306, 'accuracy': 0.57166392092257, 'f1': 0.02255639097744361, 'recall': 0.011406844106463879, 'specificity': 1.0, 'g_mean': 0.10680282817633566}, 'default_accuracy': 0.5667215815485996, 'default_f1': 0.0, 'default_recall': 0.0, 'default_specificity': 1.0, 'default_g_mean': 0.0}\n",
            "\n",
            "=============== EPOCH 2 / 8 ===============\n",
            "\n",
            "___ batch index = 0 / 1836 (0.00%), loss = 0.7298, time = 0.03 secondes ___\n"
          ],
          "name": "stdout"
        },
        {
          "output_type": "stream",
          "text": [
            "___ batch index = 250 / 1836 (13.62%), loss = 0.6348, time = 12.86 secondes ___\n"
          ],
          "name": "stdout"
        },
        {
          "output_type": "stream",
          "text": [
            "___ batch index = 500 / 1836 (27.23%), loss = 0.6320, time = 12.40 secondes ___\n"
          ],
          "name": "stdout"
        },
        {
          "output_type": "stream",
          "text": [
            "___ batch index = 750 / 1836 (40.85%), loss = 0.6316, time = 11.47 secondes ___\n"
          ],
          "name": "stdout"
        },
        {
          "output_type": "stream",
          "text": [
            "___ batch index = 1000 / 1836 (54.47%), loss = 0.6135, time = 13.13 secondes ___\n"
          ],
          "name": "stdout"
        },
        {
          "output_type": "stream",
          "text": [
            "___ batch index = 1250 / 1836 (68.08%), loss = 0.6090, time = 11.89 secondes ___\n"
          ],
          "name": "stdout"
        },
        {
          "output_type": "stream",
          "text": [
            "___ batch index = 1500 / 1836 (81.70%), loss = 0.6158, time = 12.04 secondes ___\n"
          ],
          "name": "stdout"
        },
        {
          "output_type": "stream",
          "text": [
            "___ batch index = 1750 / 1836 (95.32%), loss = 0.5793, time = 13.16 secondes ___\n"
          ],
          "name": "stdout"
        },
        {
          "output_type": "stream",
          "text": [
            "\n",
            "*** avg_loss : 0.62, time : ~1.0 min (91.98 sec) ***\n",
            "\n"
          ],
          "name": "stdout"
        },
        {
          "output_type": "stream",
          "text": [
            "==> evaluation : avg_loss = 0.69, time : 29.59 sec\n",
            "\n",
            "threshold (g-mean):  1\n",
            "threshold (f1):  1\n",
            "=====>\t{'Positive Rate': 0.4332784184514003, 'max g_mean metrics': {'threshold': 1, 'accuracy': 0.5667215815485996, 'f1': 0.0, 'recall': 0.0, 'specificity': 1.0, 'g_mean': 0.0}, 'max f1 metrics': {'threshold': 1, 'accuracy': 0.5667215815485996, 'f1': 0.0, 'recall': 0.0, 'specificity': 1.0, 'g_mean': 0.0}, 'default_accuracy': 0.5667215815485996, 'default_f1': 0.0, 'default_recall': 0.0, 'default_specificity': 1.0, 'default_g_mean': 0.0}\n",
            "\n",
            "=============== EPOCH 3 / 8 ===============\n",
            "\n",
            "___ batch index = 0 / 1836 (0.00%), loss = 0.7808, time = 0.03 secondes ___\n"
          ],
          "name": "stdout"
        },
        {
          "output_type": "stream",
          "text": [
            "___ batch index = 250 / 1836 (13.62%), loss = 0.6073, time = 12.86 secondes ___\n"
          ],
          "name": "stdout"
        },
        {
          "output_type": "stream",
          "text": [
            "___ batch index = 500 / 1836 (27.23%), loss = 0.6006, time = 12.41 secondes ___\n"
          ],
          "name": "stdout"
        },
        {
          "output_type": "stream",
          "text": [
            "___ batch index = 750 / 1836 (40.85%), loss = 0.6050, time = 11.47 secondes ___\n"
          ],
          "name": "stdout"
        },
        {
          "output_type": "stream",
          "text": [
            "___ batch index = 1000 / 1836 (54.47%), loss = 0.5815, time = 13.16 secondes ___\n"
          ],
          "name": "stdout"
        },
        {
          "output_type": "stream",
          "text": [
            "___ batch index = 1250 / 1836 (68.08%), loss = 0.5732, time = 11.85 secondes ___\n"
          ],
          "name": "stdout"
        },
        {
          "output_type": "stream",
          "text": [
            "___ batch index = 1500 / 1836 (81.70%), loss = 0.5870, time = 12.03 secondes ___\n"
          ],
          "name": "stdout"
        },
        {
          "output_type": "stream",
          "text": [
            "___ batch index = 1750 / 1836 (95.32%), loss = 0.5513, time = 13.16 secondes ___\n"
          ],
          "name": "stdout"
        },
        {
          "output_type": "stream",
          "text": [
            "\n",
            "*** avg_loss : 0.60, time : ~1.0 min (91.98 sec) ***\n",
            "\n"
          ],
          "name": "stdout"
        },
        {
          "output_type": "stream",
          "text": [
            "==> evaluation : avg_loss = 0.69, time : 29.57 sec\n",
            "\n",
            "threshold (g-mean):  1\n",
            "threshold (f1):  1\n",
            "=====>\t{'Positive Rate': 0.4332784184514003, 'max g_mean metrics': {'threshold': 1, 'accuracy': 0.5667215815485996, 'f1': 0.0, 'recall': 0.0, 'specificity': 1.0, 'g_mean': 0.0}, 'max f1 metrics': {'threshold': 1, 'accuracy': 0.5667215815485996, 'f1': 0.0, 'recall': 0.0, 'specificity': 1.0, 'g_mean': 0.0}, 'default_accuracy': 0.5667215815485996, 'default_f1': 0.0, 'default_recall': 0.0, 'default_specificity': 1.0, 'default_g_mean': 0.0}\n",
            "\n",
            "=============== EPOCH 4 / 8 ===============\n",
            "\n",
            "___ batch index = 0 / 1836 (0.00%), loss = 0.7709, time = 0.03 secondes ___\n"
          ],
          "name": "stdout"
        },
        {
          "output_type": "stream",
          "text": [
            "___ batch index = 250 / 1836 (13.62%), loss = 0.5762, time = 12.85 secondes ___\n"
          ],
          "name": "stdout"
        },
        {
          "output_type": "stream",
          "text": [
            "___ batch index = 500 / 1836 (27.23%), loss = 0.5771, time = 12.41 secondes ___\n"
          ],
          "name": "stdout"
        },
        {
          "output_type": "stream",
          "text": [
            "___ batch index = 750 / 1836 (40.85%), loss = 0.5746, time = 11.47 secondes ___\n"
          ],
          "name": "stdout"
        },
        {
          "output_type": "stream",
          "text": [
            "___ batch index = 1000 / 1836 (54.47%), loss = 0.5552, time = 13.13 secondes ___\n"
          ],
          "name": "stdout"
        },
        {
          "output_type": "stream",
          "text": [
            "___ batch index = 1250 / 1836 (68.08%), loss = 0.5508, time = 11.74 secondes ___\n"
          ],
          "name": "stdout"
        },
        {
          "output_type": "stream",
          "text": [
            "___ batch index = 1500 / 1836 (81.70%), loss = 0.5598, time = 11.88 secondes ___\n"
          ],
          "name": "stdout"
        },
        {
          "output_type": "stream",
          "text": [
            "___ batch index = 1750 / 1836 (95.32%), loss = 0.5285, time = 13.02 secondes ___\n"
          ],
          "name": "stdout"
        },
        {
          "output_type": "stream",
          "text": [
            "\n",
            "*** avg_loss : 0.57, time : ~1.0 min (91.48 sec) ***\n",
            "\n"
          ],
          "name": "stdout"
        },
        {
          "output_type": "stream",
          "text": [
            "==> evaluation : avg_loss = 0.69, time : 29.29 sec\n",
            "\n",
            "threshold (g-mean):  1\n",
            "threshold (f1):  1\n",
            "=====>\t{'Positive Rate': 0.4332784184514003, 'max g_mean metrics': {'threshold': 1, 'accuracy': 0.5667215815485996, 'f1': 0.0, 'recall': 0.0, 'specificity': 1.0, 'g_mean': 0.0}, 'max f1 metrics': {'threshold': 1, 'accuracy': 0.5667215815485996, 'f1': 0.0, 'recall': 0.0, 'specificity': 1.0, 'g_mean': 0.0}, 'default_accuracy': 0.5667215815485996, 'default_f1': 0.0, 'default_recall': 0.0, 'default_specificity': 1.0, 'default_g_mean': 0.0}\n",
            "\n",
            "=============== EPOCH 5 / 8 ===============\n",
            "\n",
            "___ batch index = 0 / 1836 (0.00%), loss = 0.8229, time = 0.03 secondes ___\n"
          ],
          "name": "stdout"
        },
        {
          "output_type": "stream",
          "text": [
            "___ batch index = 250 / 1836 (13.62%), loss = 0.5531, time = 12.70 secondes ___\n"
          ],
          "name": "stdout"
        },
        {
          "output_type": "stream",
          "text": [
            "___ batch index = 500 / 1836 (27.23%), loss = 0.5491, time = 12.27 secondes ___\n"
          ],
          "name": "stdout"
        },
        {
          "output_type": "stream",
          "text": [
            "___ batch index = 750 / 1836 (40.85%), loss = 0.5496, time = 11.35 secondes ___\n"
          ],
          "name": "stdout"
        },
        {
          "output_type": "stream",
          "text": [
            "___ batch index = 1000 / 1836 (54.47%), loss = 0.5286, time = 13.02 secondes ___\n"
          ],
          "name": "stdout"
        },
        {
          "output_type": "stream",
          "text": [
            "___ batch index = 1250 / 1836 (68.08%), loss = 0.5195, time = 11.74 secondes ___\n"
          ],
          "name": "stdout"
        },
        {
          "output_type": "stream",
          "text": [
            "___ batch index = 1500 / 1836 (81.70%), loss = 0.5333, time = 11.84 secondes ___\n"
          ],
          "name": "stdout"
        },
        {
          "output_type": "stream",
          "text": [
            "___ batch index = 1750 / 1836 (95.32%), loss = 0.5025, time = 13.00 secondes ___\n"
          ],
          "name": "stdout"
        },
        {
          "output_type": "stream",
          "text": [
            "\n",
            "*** avg_loss : 0.55, time : ~1.0 min (90.93 sec) ***\n",
            "\n"
          ],
          "name": "stdout"
        },
        {
          "output_type": "stream",
          "text": [
            "==> evaluation : avg_loss = 0.69, time : 29.30 sec\n",
            "\n",
            "threshold (g-mean):  1\n",
            "threshold (f1):  1\n",
            "=====>\t{'Positive Rate': 0.4332784184514003, 'max g_mean metrics': {'threshold': 1, 'accuracy': 0.5667215815485996, 'f1': 0.0, 'recall': 0.0, 'specificity': 1.0, 'g_mean': 0.0}, 'max f1 metrics': {'threshold': 1, 'accuracy': 0.5667215815485996, 'f1': 0.0, 'recall': 0.0, 'specificity': 1.0, 'g_mean': 0.0}, 'default_accuracy': 0.5667215815485996, 'default_f1': 0.0, 'default_recall': 0.0, 'default_specificity': 1.0, 'default_g_mean': 0.0}\n",
            "\n",
            "=============== EPOCH 6 / 8 ===============\n",
            "\n",
            "___ batch index = 0 / 1836 (0.00%), loss = 0.8329, time = 0.03 secondes ___\n"
          ],
          "name": "stdout"
        },
        {
          "output_type": "stream",
          "text": [
            "___ batch index = 250 / 1836 (13.62%), loss = 0.5296, time = 12.72 secondes ___\n"
          ],
          "name": "stdout"
        },
        {
          "output_type": "stream",
          "text": [
            "___ batch index = 500 / 1836 (27.23%), loss = 0.5314, time = 12.28 secondes ___\n"
          ],
          "name": "stdout"
        },
        {
          "output_type": "stream",
          "text": [
            "___ batch index = 750 / 1836 (40.85%), loss = 0.5327, time = 11.35 secondes ___\n"
          ],
          "name": "stdout"
        },
        {
          "output_type": "stream",
          "text": [
            "___ batch index = 1000 / 1836 (54.47%), loss = 0.4968, time = 13.04 secondes ___\n"
          ],
          "name": "stdout"
        },
        {
          "output_type": "stream",
          "text": [
            "___ batch index = 1250 / 1836 (68.08%), loss = 0.4958, time = 11.74 secondes ___\n"
          ],
          "name": "stdout"
        },
        {
          "output_type": "stream",
          "text": [
            "___ batch index = 1500 / 1836 (81.70%), loss = 0.5111, time = 11.88 secondes ___\n"
          ],
          "name": "stdout"
        },
        {
          "output_type": "stream",
          "text": [
            "___ batch index = 1750 / 1836 (95.32%), loss = 0.4721, time = 12.96 secondes ___\n"
          ],
          "name": "stdout"
        },
        {
          "output_type": "stream",
          "text": [
            "\n",
            "*** avg_loss : 0.52, time : ~1.0 min (90.96 sec) ***\n",
            "\n"
          ],
          "name": "stdout"
        },
        {
          "output_type": "stream",
          "text": [
            "==> evaluation : avg_loss = 0.69, time : 29.31 sec\n",
            "\n",
            "threshold (g-mean):  1\n",
            "threshold (f1):  1\n",
            "=====>\t{'Positive Rate': 0.4332784184514003, 'max g_mean metrics': {'threshold': 1, 'accuracy': 0.5667215815485996, 'f1': 0.0, 'recall': 0.0, 'specificity': 1.0, 'g_mean': 0.0}, 'max f1 metrics': {'threshold': 1, 'accuracy': 0.5667215815485996, 'f1': 0.0, 'recall': 0.0, 'specificity': 1.0, 'g_mean': 0.0}, 'default_accuracy': 0.5667215815485996, 'default_f1': 0.0, 'default_recall': 0.0, 'default_specificity': 1.0, 'default_g_mean': 0.0}\n",
            "\n",
            "=============== EPOCH 7 / 8 ===============\n",
            "\n",
            "___ batch index = 0 / 1836 (0.00%), loss = 0.8726, time = 0.03 secondes ___\n"
          ],
          "name": "stdout"
        },
        {
          "output_type": "stream",
          "text": [
            "___ batch index = 250 / 1836 (13.62%), loss = 0.5016, time = 12.74 secondes ___\n"
          ],
          "name": "stdout"
        },
        {
          "output_type": "stream",
          "text": [
            "___ batch index = 500 / 1836 (27.23%), loss = 0.4990, time = 12.31 secondes ___\n"
          ],
          "name": "stdout"
        },
        {
          "output_type": "stream",
          "text": [
            "___ batch index = 750 / 1836 (40.85%), loss = 0.5104, time = 11.38 secondes ___\n"
          ],
          "name": "stdout"
        },
        {
          "output_type": "stream",
          "text": [
            "___ batch index = 1000 / 1836 (54.47%), loss = 0.4737, time = 13.07 secondes ___\n"
          ],
          "name": "stdout"
        },
        {
          "output_type": "stream",
          "text": [
            "___ batch index = 1250 / 1836 (68.08%), loss = 0.4681, time = 11.77 secondes ___\n"
          ],
          "name": "stdout"
        },
        {
          "output_type": "stream",
          "text": [
            "___ batch index = 1500 / 1836 (81.70%), loss = 0.4896, time = 11.95 secondes ___\n"
          ],
          "name": "stdout"
        },
        {
          "output_type": "stream",
          "text": [
            "___ batch index = 1750 / 1836 (95.32%), loss = 0.4510, time = 13.14 secondes ___\n"
          ],
          "name": "stdout"
        },
        {
          "output_type": "stream",
          "text": [
            "\n",
            "*** avg_loss : 0.50, time : ~1.0 min (91.40 sec) ***\n",
            "\n"
          ],
          "name": "stdout"
        },
        {
          "output_type": "stream",
          "text": [
            "==> evaluation : avg_loss = 0.70, time : 29.49 sec\n",
            "\n",
            "threshold (g-mean):  1\n",
            "threshold (f1):  1\n",
            "=====>\t{'Positive Rate': 0.4332784184514003, 'max g_mean metrics': {'threshold': 1, 'accuracy': 0.5667215815485996, 'f1': 0.0, 'recall': 0.0, 'specificity': 1.0, 'g_mean': 0.0}, 'max f1 metrics': {'threshold': 1, 'accuracy': 0.5667215815485996, 'f1': 0.0, 'recall': 0.0, 'specificity': 1.0, 'g_mean': 0.0}, 'default_accuracy': 0.5667215815485996, 'default_f1': 0.0, 'default_recall': 0.0, 'default_specificity': 1.0, 'default_g_mean': 0.0}\n",
            "\n",
            "=============== EPOCH 8 / 8 ===============\n",
            "\n",
            "___ batch index = 0 / 1836 (0.00%), loss = 0.8872, time = 0.03 secondes ___\n"
          ],
          "name": "stdout"
        },
        {
          "output_type": "stream",
          "text": [
            "___ batch index = 250 / 1836 (13.62%), loss = 0.4728, time = 12.80 secondes ___\n"
          ],
          "name": "stdout"
        },
        {
          "output_type": "stream",
          "text": [
            "___ batch index = 500 / 1836 (27.23%), loss = 0.4791, time = 12.37 secondes ___\n"
          ],
          "name": "stdout"
        },
        {
          "output_type": "stream",
          "text": [
            "___ batch index = 750 / 1836 (40.85%), loss = 0.4917, time = 11.45 secondes ___\n"
          ],
          "name": "stdout"
        },
        {
          "output_type": "stream",
          "text": [
            "___ batch index = 1000 / 1836 (54.47%), loss = 0.4493, time = 13.14 secondes ___\n"
          ],
          "name": "stdout"
        },
        {
          "output_type": "stream",
          "text": [
            "___ batch index = 1250 / 1836 (68.08%), loss = 0.4521, time = 11.85 secondes ___\n"
          ],
          "name": "stdout"
        },
        {
          "output_type": "stream",
          "text": [
            "___ batch index = 1500 / 1836 (81.70%), loss = 0.4626, time = 11.96 secondes ___\n"
          ],
          "name": "stdout"
        },
        {
          "output_type": "stream",
          "text": [
            "___ batch index = 1750 / 1836 (95.32%), loss = 0.4296, time = 13.08 secondes ___\n"
          ],
          "name": "stdout"
        },
        {
          "output_type": "stream",
          "text": [
            "\n",
            "*** avg_loss : 0.48, time : ~1.0 min (91.66 sec) ***\n",
            "\n"
          ],
          "name": "stdout"
        },
        {
          "output_type": "stream",
          "text": [
            "==> evaluation : avg_loss = 0.70, time : 29.48 sec\n",
            "\n",
            "threshold (g-mean):  1\n",
            "threshold (f1):  1\n",
            "=====>\t{'Positive Rate': 0.4332784184514003, 'max g_mean metrics': {'threshold': 1, 'accuracy': 0.5667215815485996, 'f1': 0.0, 'recall': 0.0, 'specificity': 1.0, 'g_mean': 0.0}, 'max f1 metrics': {'threshold': 1, 'accuracy': 0.5667215815485996, 'f1': 0.0, 'recall': 0.0, 'specificity': 1.0, 'g_mean': 0.0}, 'default_accuracy': 0.5667215815485996, 'default_f1': 0.0, 'default_recall': 0.0, 'default_specificity': 1.0, 'default_g_mean': 0.0}\n",
            "@@@@@@@@@@@@@@@@@@@@@@@@@@@@@@@@@@@@@@@@@@@@@ END @@@@@@@@@@@@@@@@@@@@@@@@@@@@@@@@@@@@@@@@@@@@@@@\n"
          ],
          "name": "stdout"
        },
        {
          "output_type": "stream",
          "text": [
            "xxxxxxxxxxxxxxxxxxxxxxxxxxxxxxxxxxxx END Para label:  Apoyo Kinesióloga(o)  (7) xxxxxxxxxxxxxxxxxxxxxxxxx\n",
            "#################################################### Para label:  Apoyo Médico General  (8) ##############\n",
            "--------------------------------------lr: 1e-07-----------------------------\n",
            "+++++++++++++++++++++++++++++++++++++++++++++++++++ n layers: 1 ++++++++++++++++++++++++++++++++++++++++++++++++\n",
            "/////////////////////////////////////////// GA: 16 ///////////////////////////////////////////////////////\n"
          ],
          "name": "stdout"
        },
        {
          "output_type": "stream",
          "text": [
            "\n",
            "=============== EPOCH 1 / 8 ===============\n",
            "\n",
            "___ batch index = 0 / 1836 (0.00%), loss = 0.7222, time = 0.03 secondes ___\n"
          ],
          "name": "stdout"
        },
        {
          "output_type": "stream",
          "text": [
            "___ batch index = 250 / 1836 (13.62%), loss = 0.7373, time = 12.82 secondes ___\n"
          ],
          "name": "stdout"
        },
        {
          "output_type": "stream",
          "text": [
            "___ batch index = 500 / 1836 (27.23%), loss = 0.7281, time = 12.37 secondes ___\n"
          ],
          "name": "stdout"
        },
        {
          "output_type": "stream",
          "text": [
            "___ batch index = 750 / 1836 (40.85%), loss = 0.7212, time = 11.46 secondes ___\n"
          ],
          "name": "stdout"
        },
        {
          "output_type": "stream",
          "text": [
            "___ batch index = 1000 / 1836 (54.47%), loss = 0.7384, time = 13.14 secondes ___\n"
          ],
          "name": "stdout"
        },
        {
          "output_type": "stream",
          "text": [
            "___ batch index = 1250 / 1836 (68.08%), loss = 0.7241, time = 11.85 secondes ___\n"
          ],
          "name": "stdout"
        },
        {
          "output_type": "stream",
          "text": [
            "___ batch index = 1500 / 1836 (81.70%), loss = 0.7463, time = 11.98 secondes ___\n"
          ],
          "name": "stdout"
        },
        {
          "output_type": "stream",
          "text": [
            "___ batch index = 1750 / 1836 (95.32%), loss = 0.7320, time = 13.09 secondes ___\n"
          ],
          "name": "stdout"
        },
        {
          "output_type": "stream",
          "text": [
            "\n",
            "*** avg_loss : 0.71, time : ~1.0 min (91.74 sec) ***\n",
            "\n"
          ],
          "name": "stdout"
        },
        {
          "output_type": "stream",
          "text": [
            "==> evaluation : avg_loss = 0.69, time : 29.45 sec\n",
            "\n"
          ],
          "name": "stdout"
        },
        {
          "output_type": "stream",
          "text": [
            "threshold (g-mean):  0.0544615303754836\n"
          ],
          "name": "stdout"
        },
        {
          "output_type": "stream",
          "text": [
            "threshold (f1):  0.022761530375482984\n",
            "=====>\t{'Positive Rate': 0.4332784184514003, 'max g_mean metrics': {'threshold': 0.0544615303754836, 'accuracy': 0.5469522240527183, 'f1': 0.4935543278084715, 'recall': 0.5095057034220533, 'specificity': 0.5755813953488372, 'g_mean': 0.5415367057862802}, 'max f1 metrics': {'threshold': 0.022761530375482984, 'accuracy': 0.5304777594728172, 'f1': 0.5289256198347108, 'recall': 0.6083650190114068, 'specificity': 0.47093023255813954, 'g_mean': 0.535254593519083}, 'default_accuracy': 0.5667215815485996, 'default_f1': 0.0, 'default_recall': 0.0, 'default_specificity': 1.0, 'default_g_mean': 0.0}\n",
            "\n",
            "=============== EPOCH 2 / 8 ===============\n",
            "\n",
            "___ batch index = 0 / 1836 (0.00%), loss = 0.7176, time = 0.03 secondes ___\n"
          ],
          "name": "stdout"
        },
        {
          "output_type": "stream",
          "text": [
            "___ batch index = 250 / 1836 (13.62%), loss = 0.7304, time = 12.83 secondes ___\n"
          ],
          "name": "stdout"
        },
        {
          "output_type": "stream",
          "text": [
            "___ batch index = 500 / 1836 (27.23%), loss = 0.7200, time = 12.38 secondes ___\n"
          ],
          "name": "stdout"
        },
        {
          "output_type": "stream",
          "text": [
            "___ batch index = 750 / 1836 (40.85%), loss = 0.7118, time = 11.46 secondes ___\n"
          ],
          "name": "stdout"
        },
        {
          "output_type": "stream",
          "text": [
            "___ batch index = 1000 / 1836 (54.47%), loss = 0.7327, time = 13.15 secondes ___\n"
          ],
          "name": "stdout"
        },
        {
          "output_type": "stream",
          "text": [
            "___ batch index = 1250 / 1836 (68.08%), loss = 0.7219, time = 11.85 secondes ___\n"
          ],
          "name": "stdout"
        },
        {
          "output_type": "stream",
          "text": [
            "___ batch index = 1500 / 1836 (81.70%), loss = 0.7342, time = 11.98 secondes ___\n"
          ],
          "name": "stdout"
        },
        {
          "output_type": "stream",
          "text": [
            "___ batch index = 1750 / 1836 (95.32%), loss = 0.7274, time = 13.05 secondes ___\n"
          ],
          "name": "stdout"
        },
        {
          "output_type": "stream",
          "text": [
            "\n",
            "*** avg_loss : 0.71, time : ~1.0 min (91.70 sec) ***\n",
            "\n"
          ],
          "name": "stdout"
        },
        {
          "output_type": "stream",
          "text": [
            "==> evaluation : avg_loss = 0.69, time : 29.31 sec\n",
            "\n"
          ],
          "name": "stdout"
        },
        {
          "output_type": "stream",
          "text": [
            "threshold (g-mean):  0.04469559583664101\n"
          ],
          "name": "stdout"
        },
        {
          "output_type": "stream",
          "text": [
            "threshold (f1):  0.01609559583664072\n",
            "=====>\t{'Positive Rate': 0.4332784184514003, 'max g_mean metrics': {'threshold': 0.04469559583664101, 'accuracy': 0.5453047775947282, 'f1': 0.49264705882352944, 'recall': 0.5095057034220533, 'specificity': 0.5726744186046512, 'g_mean': 0.5401674578156094}, 'max f1 metrics': {'threshold': 0.01609559583664072, 'accuracy': 0.528830313014827, 'f1': 0.5280528052805279, 'recall': 0.6083650190114068, 'specificity': 0.4680232558139535, 'g_mean': 0.5336000158555435}, 'default_accuracy': 0.5667215815485996, 'default_f1': 0.0, 'default_recall': 0.0, 'default_specificity': 1.0, 'default_g_mean': 0.0}\n",
            "\n",
            "=============== EPOCH 3 / 8 ===============\n",
            "\n",
            "___ batch index = 0 / 1836 (0.00%), loss = 0.7034, time = 0.03 secondes ___\n"
          ],
          "name": "stdout"
        },
        {
          "output_type": "stream",
          "text": [
            "___ batch index = 250 / 1836 (13.62%), loss = 0.7297, time = 12.76 secondes ___\n"
          ],
          "name": "stdout"
        },
        {
          "output_type": "stream",
          "text": [
            "___ batch index = 500 / 1836 (27.23%), loss = 0.7143, time = 12.30 secondes ___\n"
          ],
          "name": "stdout"
        },
        {
          "output_type": "stream",
          "text": [
            "___ batch index = 750 / 1836 (40.85%), loss = 0.7066, time = 11.39 secondes ___\n"
          ],
          "name": "stdout"
        },
        {
          "output_type": "stream",
          "text": [
            "___ batch index = 1000 / 1836 (54.47%), loss = 0.7254, time = 13.08 secondes ___\n"
          ],
          "name": "stdout"
        },
        {
          "output_type": "stream",
          "text": [
            "___ batch index = 1250 / 1836 (68.08%), loss = 0.7130, time = 11.79 secondes ___\n"
          ],
          "name": "stdout"
        },
        {
          "output_type": "stream",
          "text": [
            "___ batch index = 1500 / 1836 (81.70%), loss = 0.7212, time = 11.92 secondes ___\n"
          ],
          "name": "stdout"
        },
        {
          "output_type": "stream",
          "text": [
            "___ batch index = 1750 / 1836 (95.32%), loss = 0.7247, time = 13.02 secondes ___\n"
          ],
          "name": "stdout"
        },
        {
          "output_type": "stream",
          "text": [
            "\n",
            "*** avg_loss : 0.70, time : ~1.0 min (91.26 sec) ***\n",
            "\n"
          ],
          "name": "stdout"
        },
        {
          "output_type": "stream",
          "text": [
            "==> evaluation : avg_loss = 0.69, time : 29.33 sec\n",
            "\n"
          ],
          "name": "stdout"
        },
        {
          "output_type": "stream",
          "text": [
            "threshold (g-mean):  0.04702179517746036\n"
          ],
          "name": "stdout"
        },
        {
          "output_type": "stream",
          "text": [
            "threshold (f1):  0.006321795177460046\n",
            "=====>\t{'Positive Rate': 0.4332784184514003, 'max g_mean metrics': {'threshold': 0.04702179517746036, 'accuracy': 0.5551894563426688, 'f1': 0.4807692307692307, 'recall': 0.4752851711026616, 'specificity': 0.6162790697674418, 'g_mean': 0.5412100360501528}, 'max f1 metrics': {'threshold': 0.006321795177460046, 'accuracy': 0.528830313014827, 'f1': 0.5280528052805279, 'recall': 0.6083650190114068, 'specificity': 0.4680232558139535, 'g_mean': 0.5336000158555435}, 'default_accuracy': 0.5667215815485996, 'default_f1': 0.0, 'default_recall': 0.0, 'default_specificity': 1.0, 'default_g_mean': 0.0}\n",
            "\n",
            "=============== EPOCH 4 / 8 ===============\n",
            "\n",
            "___ batch index = 0 / 1836 (0.00%), loss = 0.6798, time = 0.03 secondes ___\n"
          ],
          "name": "stdout"
        },
        {
          "output_type": "stream",
          "text": [
            "___ batch index = 250 / 1836 (13.62%), loss = 0.7267, time = 12.77 secondes ___\n"
          ],
          "name": "stdout"
        },
        {
          "output_type": "stream",
          "text": [
            "___ batch index = 500 / 1836 (27.23%), loss = 0.7107, time = 12.29 secondes ___\n"
          ],
          "name": "stdout"
        },
        {
          "output_type": "stream",
          "text": [
            "___ batch index = 750 / 1836 (40.85%), loss = 0.7085, time = 11.38 secondes ___\n"
          ],
          "name": "stdout"
        },
        {
          "output_type": "stream",
          "text": [
            "___ batch index = 1000 / 1836 (54.47%), loss = 0.7240, time = 13.08 secondes ___\n"
          ],
          "name": "stdout"
        },
        {
          "output_type": "stream",
          "text": [
            "___ batch index = 1250 / 1836 (68.08%), loss = 0.7022, time = 11.79 secondes ___\n"
          ],
          "name": "stdout"
        },
        {
          "output_type": "stream",
          "text": [
            "___ batch index = 1500 / 1836 (81.70%), loss = 0.7200, time = 11.91 secondes ___\n"
          ],
          "name": "stdout"
        },
        {
          "output_type": "stream",
          "text": [
            "___ batch index = 1750 / 1836 (95.32%), loss = 0.7186, time = 13.03 secondes ___\n"
          ],
          "name": "stdout"
        },
        {
          "output_type": "stream",
          "text": [
            "\n",
            "*** avg_loss : 0.70, time : ~1.0 min (91.27 sec) ***\n",
            "\n"
          ],
          "name": "stdout"
        },
        {
          "output_type": "stream",
          "text": [
            "==> evaluation : avg_loss = 0.69, time : 29.33 sec\n",
            "\n"
          ],
          "name": "stdout"
        },
        {
          "output_type": "stream",
          "text": [
            "threshold (g-mean):  0.0373307257652276\n"
          ],
          "name": "stdout"
        },
        {
          "output_type": "stream",
          "text": [
            "threshold (f1):  0.0016307257652275618\n",
            "=====>\t{'Positive Rate': 0.4332784184514003, 'max g_mean metrics': {'threshold': 0.0373307257652276, 'accuracy': 0.5551894563426688, 'f1': 0.4807692307692307, 'recall': 0.4752851711026616, 'specificity': 0.6162790697674418, 'g_mean': 0.5412100360501528}, 'max f1 metrics': {'threshold': 0.0016307257652275618, 'accuracy': 0.5304777594728172, 'f1': 0.527363184079602, 'recall': 0.6045627376425855, 'specificity': 0.4738372093023256, 'g_mean': 0.5352236172411834}, 'default_accuracy': 0.5667215815485996, 'default_f1': 0.0, 'default_recall': 0.0, 'default_specificity': 1.0, 'default_g_mean': 0.0}\n",
            "\n",
            "=============== EPOCH 5 / 8 ===============\n",
            "\n",
            "___ batch index = 0 / 1836 (0.00%), loss = 0.6937, time = 0.03 secondes ___\n"
          ],
          "name": "stdout"
        },
        {
          "output_type": "stream",
          "text": [
            "___ batch index = 250 / 1836 (13.62%), loss = 0.7174, time = 12.80 secondes ___\n"
          ],
          "name": "stdout"
        },
        {
          "output_type": "stream",
          "text": [
            "___ batch index = 500 / 1836 (27.23%), loss = 0.7056, time = 12.33 secondes ___\n"
          ],
          "name": "stdout"
        },
        {
          "output_type": "stream",
          "text": [
            "___ batch index = 750 / 1836 (40.85%), loss = 0.7069, time = 11.41 secondes ___\n"
          ],
          "name": "stdout"
        },
        {
          "output_type": "stream",
          "text": [
            "___ batch index = 1000 / 1836 (54.47%), loss = 0.7262, time = 13.10 secondes ___\n"
          ],
          "name": "stdout"
        },
        {
          "output_type": "stream",
          "text": [
            "___ batch index = 1250 / 1836 (68.08%), loss = 0.7069, time = 11.81 secondes ___\n"
          ],
          "name": "stdout"
        },
        {
          "output_type": "stream",
          "text": [
            "___ batch index = 1500 / 1836 (81.70%), loss = 0.7187, time = 11.92 secondes ___\n"
          ],
          "name": "stdout"
        },
        {
          "output_type": "stream",
          "text": [
            "___ batch index = 1750 / 1836 (95.32%), loss = 0.7140, time = 13.04 secondes ___\n"
          ],
          "name": "stdout"
        },
        {
          "output_type": "stream",
          "text": [
            "\n",
            "*** avg_loss : 0.70, time : ~1.0 min (91.43 sec) ***\n",
            "\n"
          ],
          "name": "stdout"
        },
        {
          "output_type": "stream",
          "text": [
            "==> evaluation : avg_loss = 0.69, time : 29.42 sec\n",
            "\n"
          ],
          "name": "stdout"
        },
        {
          "output_type": "stream",
          "text": [
            "threshold (g-mean):  0.029131223988531164\n"
          ],
          "name": "stdout"
        },
        {
          "output_type": "stream",
          "text": [
            "threshold (f1):  0.0020312239885312863\n",
            "=====>\t{'Positive Rate': 0.4332784184514003, 'max g_mean metrics': {'threshold': 0.029131223988531164, 'accuracy': 0.5551894563426688, 'f1': 0.47876447876447875, 'recall': 0.4714828897338403, 'specificity': 0.6191860465116279, 'g_mean': 0.5403106759006103}, 'max f1 metrics': {'threshold': 0.0020312239885312863, 'accuracy': 0.5255354200988468, 'f1': 0.5068493150684932, 'recall': 0.5627376425855514, 'specificity': 0.49709302325581395, 'g_mean': 0.528897869207942}, 'default_accuracy': 0.5667215815485996, 'default_f1': 0.0, 'default_recall': 0.0, 'default_specificity': 1.0, 'default_g_mean': 0.0}\n",
            "\n",
            "=============== EPOCH 6 / 8 ===============\n",
            "\n",
            "___ batch index = 0 / 1836 (0.00%), loss = 0.7083, time = 0.03 secondes ___\n"
          ],
          "name": "stdout"
        },
        {
          "output_type": "stream",
          "text": [
            "___ batch index = 250 / 1836 (13.62%), loss = 0.7110, time = 12.79 secondes ___\n"
          ],
          "name": "stdout"
        },
        {
          "output_type": "stream",
          "text": [
            "___ batch index = 500 / 1836 (27.23%), loss = 0.7011, time = 12.32 secondes ___\n"
          ],
          "name": "stdout"
        },
        {
          "output_type": "stream",
          "text": [
            "___ batch index = 750 / 1836 (40.85%), loss = 0.6978, time = 11.39 secondes ___\n"
          ],
          "name": "stdout"
        },
        {
          "output_type": "stream",
          "text": [
            "___ batch index = 1000 / 1836 (54.47%), loss = 0.7126, time = 13.09 secondes ___\n"
          ],
          "name": "stdout"
        },
        {
          "output_type": "stream",
          "text": [
            "___ batch index = 1250 / 1836 (68.08%), loss = 0.6944, time = 11.80 secondes ___\n"
          ],
          "name": "stdout"
        },
        {
          "output_type": "stream",
          "text": [
            "___ batch index = 1500 / 1836 (81.70%), loss = 0.7169, time = 11.91 secondes ___\n"
          ],
          "name": "stdout"
        },
        {
          "output_type": "stream",
          "text": [
            "___ batch index = 1750 / 1836 (95.32%), loss = 0.7084, time = 13.04 secondes ___\n"
          ],
          "name": "stdout"
        },
        {
          "output_type": "stream",
          "text": [
            "\n",
            "*** avg_loss : 0.69, time : ~1.0 min (91.37 sec) ***\n",
            "\n"
          ],
          "name": "stdout"
        },
        {
          "output_type": "stream",
          "text": [
            "==> evaluation : avg_loss = 0.69, time : 29.43 sec\n",
            "\n"
          ],
          "name": "stdout"
        },
        {
          "output_type": "stream",
          "text": [
            "threshold (g-mean):  0.015122962021825163\n"
          ],
          "name": "stdout"
        },
        {
          "output_type": "stream",
          "text": [
            "threshold (f1):  0.003422962021825198\n",
            "=====>\t{'Positive Rate': 0.4332784184514003, 'max g_mean metrics': {'threshold': 0.015122962021825163, 'accuracy': 0.5485996705107083, 'f1': 0.48496240601503754, 'recall': 0.49049429657794674, 'specificity': 0.5930232558139535, 'g_mean': 0.5393278452989693}, 'max f1 metrics': {'threshold': 0.003422962021825198, 'accuracy': 0.5354200988467874, 'f1': 0.4928057553956835, 'recall': 0.5209125475285171, 'specificity': 0.5465116279069767, 'g_mean': 0.533558585674507}, 'default_accuracy': 0.5667215815485996, 'default_f1': 0.0, 'default_recall': 0.0, 'default_specificity': 1.0, 'default_g_mean': 0.0}\n",
            "\n",
            "=============== EPOCH 7 / 8 ===============\n",
            "\n",
            "___ batch index = 0 / 1836 (0.00%), loss = 0.7101, time = 0.03 secondes ___\n"
          ],
          "name": "stdout"
        },
        {
          "output_type": "stream",
          "text": [
            "___ batch index = 250 / 1836 (13.62%), loss = 0.7059, time = 12.88 secondes ___\n"
          ],
          "name": "stdout"
        },
        {
          "output_type": "stream",
          "text": [
            "___ batch index = 500 / 1836 (27.23%), loss = 0.6948, time = 12.44 secondes ___\n"
          ],
          "name": "stdout"
        },
        {
          "output_type": "stream",
          "text": [
            "___ batch index = 750 / 1836 (40.85%), loss = 0.7010, time = 11.52 secondes ___\n"
          ],
          "name": "stdout"
        },
        {
          "output_type": "stream",
          "text": [
            "___ batch index = 1000 / 1836 (54.47%), loss = 0.7153, time = 13.21 secondes ___\n"
          ],
          "name": "stdout"
        },
        {
          "output_type": "stream",
          "text": [
            "___ batch index = 1250 / 1836 (68.08%), loss = 0.6949, time = 11.91 secondes ___\n"
          ],
          "name": "stdout"
        },
        {
          "output_type": "stream",
          "text": [
            "___ batch index = 1500 / 1836 (81.70%), loss = 0.7061, time = 12.03 secondes ___\n"
          ],
          "name": "stdout"
        },
        {
          "output_type": "stream",
          "text": [
            "___ batch index = 1750 / 1836 (95.32%), loss = 0.7056, time = 13.16 secondes ___\n"
          ],
          "name": "stdout"
        },
        {
          "output_type": "stream",
          "text": [
            "\n",
            "*** avg_loss : 0.69, time : ~1.0 min (92.21 sec) ***\n",
            "\n"
          ],
          "name": "stdout"
        },
        {
          "output_type": "stream",
          "text": [
            "==> evaluation : avg_loss = 0.69, time : 29.40 sec\n",
            "\n"
          ],
          "name": "stdout"
        },
        {
          "output_type": "stream",
          "text": [
            "threshold (g-mean):  0.006605589687822016\n"
          ],
          "name": "stdout"
        },
        {
          "output_type": "stream",
          "text": [
            "threshold (f1):  0.006605589687822016\n",
            "=====>\t{'Positive Rate': 0.4332784184514003, 'max g_mean metrics': {'threshold': 0.006605589687822016, 'accuracy': 0.5485996705107083, 'f1': 0.48496240601503754, 'recall': 0.49049429657794674, 'specificity': 0.5930232558139535, 'g_mean': 0.5393278452989693}, 'max f1 metrics': {'threshold': 0.006605589687822016, 'accuracy': 0.5485996705107083, 'f1': 0.48496240601503754, 'recall': 0.49049429657794674, 'specificity': 0.5930232558139535, 'g_mean': 0.5393278452989693}, 'default_accuracy': 0.5667215815485996, 'default_f1': 0.0, 'default_recall': 0.0, 'default_specificity': 1.0, 'default_g_mean': 0.0}\n",
            "\n",
            "=============== EPOCH 8 / 8 ===============\n",
            "\n",
            "___ batch index = 0 / 1836 (0.00%), loss = 0.6865, time = 0.03 secondes ___\n"
          ],
          "name": "stdout"
        },
        {
          "output_type": "stream",
          "text": [
            "___ batch index = 250 / 1836 (13.62%), loss = 0.7046, time = 12.75 secondes ___\n"
          ],
          "name": "stdout"
        },
        {
          "output_type": "stream",
          "text": [
            "___ batch index = 500 / 1836 (27.23%), loss = 0.6966, time = 12.30 secondes ___\n"
          ],
          "name": "stdout"
        },
        {
          "output_type": "stream",
          "text": [
            "___ batch index = 750 / 1836 (40.85%), loss = 0.6920, time = 11.38 secondes ___\n"
          ],
          "name": "stdout"
        },
        {
          "output_type": "stream",
          "text": [
            "___ batch index = 1000 / 1836 (54.47%), loss = 0.7037, time = 13.07 secondes ___\n"
          ],
          "name": "stdout"
        },
        {
          "output_type": "stream",
          "text": [
            "___ batch index = 1250 / 1836 (68.08%), loss = 0.6908, time = 11.77 secondes ___\n"
          ],
          "name": "stdout"
        },
        {
          "output_type": "stream",
          "text": [
            "___ batch index = 1500 / 1836 (81.70%), loss = 0.7044, time = 11.89 secondes ___\n"
          ],
          "name": "stdout"
        },
        {
          "output_type": "stream",
          "text": [
            "___ batch index = 1750 / 1836 (95.32%), loss = 0.6984, time = 13.00 secondes ___\n"
          ],
          "name": "stdout"
        },
        {
          "output_type": "stream",
          "text": [
            "\n",
            "*** avg_loss : 0.69, time : ~1.0 min (91.16 sec) ***\n",
            "\n"
          ],
          "name": "stdout"
        },
        {
          "output_type": "stream",
          "text": [
            "==> evaluation : avg_loss = 0.69, time : 29.38 sec\n",
            "\n"
          ],
          "name": "stdout"
        },
        {
          "output_type": "stream",
          "text": [
            "threshold (g-mean):  0.0009700247287730448\n"
          ],
          "name": "stdout"
        },
        {
          "output_type": "stream",
          "text": [
            "threshold (f1):  0.0009700247287730448\n",
            "=====>\t{'Positive Rate': 0.4332784184514003, 'max g_mean metrics': {'threshold': 0.0009700247287730448, 'accuracy': 0.5485996705107083, 'f1': 0.47509578544061304, 'recall': 0.4714828897338403, 'specificity': 0.6075581395348837, 'g_mean': 0.5352132914168171}, 'max f1 metrics': {'threshold': 0.0009700247287730448, 'accuracy': 0.5485996705107083, 'f1': 0.47509578544061304, 'recall': 0.4714828897338403, 'specificity': 0.6075581395348837, 'g_mean': 0.5352132914168171}, 'default_accuracy': 0.5667215815485996, 'default_f1': 0.0, 'default_recall': 0.0, 'default_specificity': 1.0, 'default_g_mean': 0.0}\n",
            "@@@@@@@@@@@@@@@@@@@@@@@@@@@@@@@@@@@@@@@@@@@@@ END @@@@@@@@@@@@@@@@@@@@@@@@@@@@@@@@@@@@@@@@@@@@@@@\n",
            "--------------------------------------lr: 1e-06-----------------------------\n",
            "+++++++++++++++++++++++++++++++++++++++++++++++++++ n layers: 1 ++++++++++++++++++++++++++++++++++++++++++++++++\n",
            "/////////////////////////////////////////// GA: 16 ///////////////////////////////////////////////////////\n",
            "\n",
            "=============== EPOCH 1 / 8 ===============\n",
            "\n",
            "___ batch index = 0 / 1836 (0.00%), loss = 0.6761, time = 0.03 secondes ___\n"
          ],
          "name": "stdout"
        },
        {
          "output_type": "stream",
          "text": [
            "___ batch index = 250 / 1836 (13.62%), loss = 0.6686, time = 12.74 secondes ___\n"
          ],
          "name": "stdout"
        },
        {
          "output_type": "stream",
          "text": [
            "___ batch index = 500 / 1836 (27.23%), loss = 0.6733, time = 12.30 secondes ___\n"
          ],
          "name": "stdout"
        },
        {
          "output_type": "stream",
          "text": [
            "___ batch index = 750 / 1836 (40.85%), loss = 0.6582, time = 11.38 secondes ___\n"
          ],
          "name": "stdout"
        },
        {
          "output_type": "stream",
          "text": [
            "___ batch index = 1000 / 1836 (54.47%), loss = 0.6461, time = 13.06 secondes ___\n"
          ],
          "name": "stdout"
        },
        {
          "output_type": "stream",
          "text": [
            "___ batch index = 1250 / 1836 (68.08%), loss = 0.6487, time = 11.75 secondes ___\n"
          ],
          "name": "stdout"
        },
        {
          "output_type": "stream",
          "text": [
            "___ batch index = 1500 / 1836 (81.70%), loss = 0.6609, time = 11.89 secondes ___\n"
          ],
          "name": "stdout"
        },
        {
          "output_type": "stream",
          "text": [
            "___ batch index = 1750 / 1836 (95.32%), loss = 0.6405, time = 13.01 secondes ___\n"
          ],
          "name": "stdout"
        },
        {
          "output_type": "stream",
          "text": [
            "\n",
            "*** avg_loss : 0.66, time : ~1.0 min (91.15 sec) ***\n",
            "\n"
          ],
          "name": "stdout"
        },
        {
          "output_type": "stream",
          "text": [
            "==> evaluation : avg_loss = 0.69, time : 29.37 sec\n",
            "\n"
          ],
          "name": "stdout"
        },
        {
          "output_type": "stream",
          "text": [
            "threshold (g-mean):  0.0010587881922717592\n"
          ],
          "name": "stdout"
        },
        {
          "output_type": "stream",
          "text": [
            "threshold (f1):  0.0010587881922717592\n",
            "=====>\t{'Positive Rate': 0.4332784184514003, 'max g_mean metrics': {'threshold': 0.0010587881922717592, 'accuracy': 0.57166392092257, 'f1': 0.1390728476821192, 'recall': 0.07984790874524715, 'specificity': 0.9476744186046512, 'g_mean': 0.27508147974182}, 'max f1 metrics': {'threshold': 0.0010587881922717592, 'accuracy': 0.57166392092257, 'f1': 0.1390728476821192, 'recall': 0.07984790874524715, 'specificity': 0.9476744186046512, 'g_mean': 0.27508147974182}, 'default_accuracy': 0.5667215815485996, 'default_f1': 0.0, 'default_recall': 0.0, 'default_specificity': 1.0, 'default_g_mean': 0.0}\n",
            "\n",
            "=============== EPOCH 2 / 8 ===============\n",
            "\n",
            "___ batch index = 0 / 1836 (0.00%), loss = 0.6352, time = 0.03 secondes ___\n"
          ],
          "name": "stdout"
        },
        {
          "output_type": "stream",
          "text": [
            "___ batch index = 250 / 1836 (13.62%), loss = 0.6354, time = 12.77 secondes ___\n"
          ],
          "name": "stdout"
        },
        {
          "output_type": "stream",
          "text": [
            "___ batch index = 500 / 1836 (27.23%), loss = 0.6403, time = 12.30 secondes ___\n"
          ],
          "name": "stdout"
        },
        {
          "output_type": "stream",
          "text": [
            "___ batch index = 750 / 1836 (40.85%), loss = 0.6344, time = 11.38 secondes ___\n"
          ],
          "name": "stdout"
        },
        {
          "output_type": "stream",
          "text": [
            "___ batch index = 1000 / 1836 (54.47%), loss = 0.6127, time = 13.07 secondes ___\n"
          ],
          "name": "stdout"
        },
        {
          "output_type": "stream",
          "text": [
            "___ batch index = 1250 / 1836 (68.08%), loss = 0.6141, time = 11.76 secondes ___\n"
          ],
          "name": "stdout"
        },
        {
          "output_type": "stream",
          "text": [
            "___ batch index = 1500 / 1836 (81.70%), loss = 0.6223, time = 11.88 secondes ___\n"
          ],
          "name": "stdout"
        },
        {
          "output_type": "stream",
          "text": [
            "___ batch index = 1750 / 1836 (95.32%), loss = 0.6005, time = 13.00 secondes ___\n"
          ],
          "name": "stdout"
        },
        {
          "output_type": "stream",
          "text": [
            "\n",
            "*** avg_loss : 0.63, time : ~1.0 min (91.17 sec) ***\n",
            "\n"
          ],
          "name": "stdout"
        },
        {
          "output_type": "stream",
          "text": [
            "==> evaluation : avg_loss = 0.69, time : 29.35 sec\n",
            "\n",
            "threshold (g-mean):  1\n",
            "threshold (f1):  1\n",
            "=====>\t{'Positive Rate': 0.4332784184514003, 'max g_mean metrics': {'threshold': 1, 'accuracy': 0.5667215815485996, 'f1': 0.0, 'recall': 0.0, 'specificity': 1.0, 'g_mean': 0.0}, 'max f1 metrics': {'threshold': 1, 'accuracy': 0.5667215815485996, 'f1': 0.0, 'recall': 0.0, 'specificity': 1.0, 'g_mean': 0.0}, 'default_accuracy': 0.5667215815485996, 'default_f1': 0.0, 'default_recall': 0.0, 'default_specificity': 1.0, 'default_g_mean': 0.0}\n",
            "\n",
            "=============== EPOCH 3 / 8 ===============\n",
            "\n",
            "___ batch index = 0 / 1836 (0.00%), loss = 0.6149, time = 0.03 secondes ___\n"
          ],
          "name": "stdout"
        },
        {
          "output_type": "stream",
          "text": [
            "___ batch index = 250 / 1836 (13.62%), loss = 0.5994, time = 12.79 secondes ___\n"
          ],
          "name": "stdout"
        },
        {
          "output_type": "stream",
          "text": [
            "___ batch index = 500 / 1836 (27.23%), loss = 0.6051, time = 12.37 secondes ___\n"
          ],
          "name": "stdout"
        },
        {
          "output_type": "stream",
          "text": [
            "___ batch index = 750 / 1836 (40.85%), loss = 0.6085, time = 11.50 secondes ___\n"
          ],
          "name": "stdout"
        },
        {
          "output_type": "stream",
          "text": [
            "___ batch index = 1000 / 1836 (54.47%), loss = 0.5752, time = 13.20 secondes ___\n"
          ],
          "name": "stdout"
        },
        {
          "output_type": "stream",
          "text": [
            "___ batch index = 1250 / 1836 (68.08%), loss = 0.5770, time = 11.89 secondes ___\n"
          ],
          "name": "stdout"
        },
        {
          "output_type": "stream",
          "text": [
            "___ batch index = 1500 / 1836 (81.70%), loss = 0.5945, time = 12.01 secondes ___\n"
          ],
          "name": "stdout"
        },
        {
          "output_type": "stream",
          "text": [
            "___ batch index = 1750 / 1836 (95.32%), loss = 0.5703, time = 13.13 secondes ___\n"
          ],
          "name": "stdout"
        },
        {
          "output_type": "stream",
          "text": [
            "\n",
            "*** avg_loss : 0.60, time : ~1.0 min (91.93 sec) ***\n",
            "\n"
          ],
          "name": "stdout"
        },
        {
          "output_type": "stream",
          "text": [
            "==> evaluation : avg_loss = 0.69, time : 29.36 sec\n",
            "\n",
            "threshold (g-mean):  1\n",
            "threshold (f1):  1\n",
            "=====>\t{'Positive Rate': 0.4332784184514003, 'max g_mean metrics': {'threshold': 1, 'accuracy': 0.5667215815485996, 'f1': 0.0, 'recall': 0.0, 'specificity': 1.0, 'g_mean': 0.0}, 'max f1 metrics': {'threshold': 1, 'accuracy': 0.5667215815485996, 'f1': 0.0, 'recall': 0.0, 'specificity': 1.0, 'g_mean': 0.0}, 'default_accuracy': 0.5667215815485996, 'default_f1': 0.0, 'default_recall': 0.0, 'default_specificity': 1.0, 'default_g_mean': 0.0}\n",
            "\n",
            "=============== EPOCH 4 / 8 ===============\n",
            "\n",
            "___ batch index = 0 / 1836 (0.00%), loss = 0.6062, time = 0.03 secondes ___\n"
          ],
          "name": "stdout"
        },
        {
          "output_type": "stream",
          "text": [
            "___ batch index = 250 / 1836 (13.62%), loss = 0.5734, time = 12.73 secondes ___\n"
          ],
          "name": "stdout"
        },
        {
          "output_type": "stream",
          "text": [
            "___ batch index = 500 / 1836 (27.23%), loss = 0.5748, time = 12.32 secondes ___\n"
          ],
          "name": "stdout"
        },
        {
          "output_type": "stream",
          "text": [
            "___ batch index = 750 / 1836 (40.85%), loss = 0.5782, time = 11.38 secondes ___\n"
          ],
          "name": "stdout"
        },
        {
          "output_type": "stream",
          "text": [
            "___ batch index = 1000 / 1836 (54.47%), loss = 0.5407, time = 13.08 secondes ___\n"
          ],
          "name": "stdout"
        },
        {
          "output_type": "stream",
          "text": [
            "___ batch index = 1250 / 1836 (68.08%), loss = 0.5479, time = 11.77 secondes ___\n"
          ],
          "name": "stdout"
        },
        {
          "output_type": "stream",
          "text": [
            "___ batch index = 1500 / 1836 (81.70%), loss = 0.5664, time = 11.88 secondes ___\n"
          ],
          "name": "stdout"
        },
        {
          "output_type": "stream",
          "text": [
            "___ batch index = 1750 / 1836 (95.32%), loss = 0.5411, time = 13.01 secondes ___\n"
          ],
          "name": "stdout"
        },
        {
          "output_type": "stream",
          "text": [
            "\n",
            "*** avg_loss : 0.57, time : ~1.0 min (91.17 sec) ***\n",
            "\n"
          ],
          "name": "stdout"
        },
        {
          "output_type": "stream",
          "text": [
            "==> evaluation : avg_loss = 0.69, time : 29.36 sec\n",
            "\n",
            "threshold (g-mean):  1\n",
            "threshold (f1):  1\n",
            "=====>\t{'Positive Rate': 0.4332784184514003, 'max g_mean metrics': {'threshold': 1, 'accuracy': 0.5667215815485996, 'f1': 0.0, 'recall': 0.0, 'specificity': 1.0, 'g_mean': 0.0}, 'max f1 metrics': {'threshold': 1, 'accuracy': 0.5667215815485996, 'f1': 0.0, 'recall': 0.0, 'specificity': 1.0, 'g_mean': 0.0}, 'default_accuracy': 0.5667215815485996, 'default_f1': 0.0, 'default_recall': 0.0, 'default_specificity': 1.0, 'default_g_mean': 0.0}\n",
            "\n",
            "=============== EPOCH 5 / 8 ===============\n",
            "\n",
            "___ batch index = 0 / 1836 (0.00%), loss = 0.5728, time = 0.03 secondes ___\n"
          ],
          "name": "stdout"
        },
        {
          "output_type": "stream",
          "text": [
            "___ batch index = 250 / 1836 (13.62%), loss = 0.5397, time = 12.73 secondes ___\n"
          ],
          "name": "stdout"
        },
        {
          "output_type": "stream",
          "text": [
            "___ batch index = 500 / 1836 (27.23%), loss = 0.5525, time = 12.30 secondes ___\n"
          ],
          "name": "stdout"
        },
        {
          "output_type": "stream",
          "text": [
            "___ batch index = 750 / 1836 (40.85%), loss = 0.5493, time = 11.39 secondes ___\n"
          ],
          "name": "stdout"
        },
        {
          "output_type": "stream",
          "text": [
            "___ batch index = 1000 / 1836 (54.47%), loss = 0.5154, time = 13.08 secondes ___\n"
          ],
          "name": "stdout"
        },
        {
          "output_type": "stream",
          "text": [
            "___ batch index = 1250 / 1836 (68.08%), loss = 0.5176, time = 11.78 secondes ___\n"
          ],
          "name": "stdout"
        },
        {
          "output_type": "stream",
          "text": [
            "___ batch index = 1500 / 1836 (81.70%), loss = 0.5424, time = 11.89 secondes ___\n"
          ],
          "name": "stdout"
        },
        {
          "output_type": "stream",
          "text": [
            "___ batch index = 1750 / 1836 (95.32%), loss = 0.5092, time = 13.02 secondes ___\n"
          ],
          "name": "stdout"
        },
        {
          "output_type": "stream",
          "text": [
            "\n",
            "*** avg_loss : 0.54, time : ~1.0 min (91.19 sec) ***\n",
            "\n"
          ],
          "name": "stdout"
        },
        {
          "output_type": "stream",
          "text": [
            "==> evaluation : avg_loss = 0.69, time : 29.32 sec\n",
            "\n",
            "threshold (g-mean):  1\n",
            "threshold (f1):  1\n",
            "=====>\t{'Positive Rate': 0.4332784184514003, 'max g_mean metrics': {'threshold': 1, 'accuracy': 0.5667215815485996, 'f1': 0.0, 'recall': 0.0, 'specificity': 1.0, 'g_mean': 0.0}, 'max f1 metrics': {'threshold': 1, 'accuracy': 0.5667215815485996, 'f1': 0.0, 'recall': 0.0, 'specificity': 1.0, 'g_mean': 0.0}, 'default_accuracy': 0.5667215815485996, 'default_f1': 0.0, 'default_recall': 0.0, 'default_specificity': 1.0, 'default_g_mean': 0.0}\n",
            "\n",
            "=============== EPOCH 6 / 8 ===============\n",
            "\n",
            "___ batch index = 0 / 1836 (0.00%), loss = 0.5494, time = 0.03 secondes ___\n"
          ],
          "name": "stdout"
        },
        {
          "output_type": "stream",
          "text": [
            "___ batch index = 250 / 1836 (13.62%), loss = 0.5157, time = 12.74 secondes ___\n"
          ],
          "name": "stdout"
        },
        {
          "output_type": "stream",
          "text": [
            "___ batch index = 500 / 1836 (27.23%), loss = 0.5189, time = 12.29 secondes ___\n"
          ],
          "name": "stdout"
        },
        {
          "output_type": "stream",
          "text": [
            "___ batch index = 750 / 1836 (40.85%), loss = 0.5300, time = 11.38 secondes ___\n"
          ],
          "name": "stdout"
        },
        {
          "output_type": "stream",
          "text": [
            "___ batch index = 1000 / 1836 (54.47%), loss = 0.4817, time = 13.09 secondes ___\n"
          ],
          "name": "stdout"
        },
        {
          "output_type": "stream",
          "text": [
            "___ batch index = 1250 / 1836 (68.08%), loss = 0.4877, time = 11.78 secondes ___\n"
          ],
          "name": "stdout"
        },
        {
          "output_type": "stream",
          "text": [
            "___ batch index = 1500 / 1836 (81.70%), loss = 0.5151, time = 11.90 secondes ___\n"
          ],
          "name": "stdout"
        },
        {
          "output_type": "stream",
          "text": [
            "___ batch index = 1750 / 1836 (95.32%), loss = 0.4824, time = 13.02 secondes ___\n"
          ],
          "name": "stdout"
        },
        {
          "output_type": "stream",
          "text": [
            "\n",
            "*** avg_loss : 0.52, time : ~1.0 min (91.18 sec) ***\n",
            "\n"
          ],
          "name": "stdout"
        },
        {
          "output_type": "stream",
          "text": [
            "==> evaluation : avg_loss = 0.69, time : 29.33 sec\n",
            "\n",
            "threshold (g-mean):  1\n",
            "threshold (f1):  1\n",
            "=====>\t{'Positive Rate': 0.4332784184514003, 'max g_mean metrics': {'threshold': 1, 'accuracy': 0.5667215815485996, 'f1': 0.0, 'recall': 0.0, 'specificity': 1.0, 'g_mean': 0.0}, 'max f1 metrics': {'threshold': 1, 'accuracy': 0.5667215815485996, 'f1': 0.0, 'recall': 0.0, 'specificity': 1.0, 'g_mean': 0.0}, 'default_accuracy': 0.5667215815485996, 'default_f1': 0.0, 'default_recall': 0.0, 'default_specificity': 1.0, 'default_g_mean': 0.0}\n",
            "\n",
            "=============== EPOCH 7 / 8 ===============\n",
            "\n",
            "___ batch index = 0 / 1836 (0.00%), loss = 0.5225, time = 0.03 secondes ___\n"
          ],
          "name": "stdout"
        },
        {
          "output_type": "stream",
          "text": [
            "___ batch index = 250 / 1836 (13.62%), loss = 0.4863, time = 12.74 secondes ___\n"
          ],
          "name": "stdout"
        },
        {
          "output_type": "stream",
          "text": [
            "___ batch index = 500 / 1836 (27.23%), loss = 0.5024, time = 12.30 secondes ___\n"
          ],
          "name": "stdout"
        },
        {
          "output_type": "stream",
          "text": [
            "___ batch index = 750 / 1836 (40.85%), loss = 0.5024, time = 11.39 secondes ___\n"
          ],
          "name": "stdout"
        },
        {
          "output_type": "stream",
          "text": [
            "___ batch index = 1000 / 1836 (54.47%), loss = 0.4567, time = 13.08 secondes ___\n"
          ],
          "name": "stdout"
        },
        {
          "output_type": "stream",
          "text": [
            "___ batch index = 1250 / 1836 (68.08%), loss = 0.4676, time = 11.78 secondes ___\n"
          ],
          "name": "stdout"
        },
        {
          "output_type": "stream",
          "text": [
            "___ batch index = 1500 / 1836 (81.70%), loss = 0.4866, time = 11.90 secondes ___\n"
          ],
          "name": "stdout"
        },
        {
          "output_type": "stream",
          "text": [
            "___ batch index = 1750 / 1836 (95.32%), loss = 0.4530, time = 13.02 secondes ___\n"
          ],
          "name": "stdout"
        },
        {
          "output_type": "stream",
          "text": [
            "\n",
            "*** avg_loss : 0.49, time : ~1.0 min (91.22 sec) ***\n",
            "\n"
          ],
          "name": "stdout"
        },
        {
          "output_type": "stream",
          "text": [
            "==> evaluation : avg_loss = 0.70, time : 29.33 sec\n",
            "\n",
            "threshold (g-mean):  1\n",
            "threshold (f1):  1\n",
            "=====>\t{'Positive Rate': 0.4332784184514003, 'max g_mean metrics': {'threshold': 1, 'accuracy': 0.5667215815485996, 'f1': 0.0, 'recall': 0.0, 'specificity': 1.0, 'g_mean': 0.0}, 'max f1 metrics': {'threshold': 1, 'accuracy': 0.5667215815485996, 'f1': 0.0, 'recall': 0.0, 'specificity': 1.0, 'g_mean': 0.0}, 'default_accuracy': 0.5667215815485996, 'default_f1': 0.0, 'default_recall': 0.0, 'default_specificity': 1.0, 'default_g_mean': 0.0}\n",
            "\n",
            "=============== EPOCH 8 / 8 ===============\n",
            "\n",
            "___ batch index = 0 / 1836 (0.00%), loss = 0.5018, time = 0.03 secondes ___\n"
          ],
          "name": "stdout"
        },
        {
          "output_type": "stream",
          "text": [
            "___ batch index = 250 / 1836 (13.62%), loss = 0.4638, time = 12.74 secondes ___\n"
          ],
          "name": "stdout"
        },
        {
          "output_type": "stream",
          "text": [
            "___ batch index = 500 / 1836 (27.23%), loss = 0.4726, time = 12.30 secondes ___\n"
          ],
          "name": "stdout"
        },
        {
          "output_type": "stream",
          "text": [
            "___ batch index = 750 / 1836 (40.85%), loss = 0.4815, time = 11.39 secondes ___\n"
          ],
          "name": "stdout"
        },
        {
          "output_type": "stream",
          "text": [
            "___ batch index = 1000 / 1836 (54.47%), loss = 0.4329, time = 13.08 secondes ___\n"
          ],
          "name": "stdout"
        },
        {
          "output_type": "stream",
          "text": [
            "___ batch index = 1250 / 1836 (68.08%), loss = 0.4398, time = 11.78 secondes ___\n"
          ],
          "name": "stdout"
        },
        {
          "output_type": "stream",
          "text": [
            "___ batch index = 1500 / 1836 (81.70%), loss = 0.4628, time = 11.91 secondes ___\n"
          ],
          "name": "stdout"
        },
        {
          "output_type": "stream",
          "text": [
            "___ batch index = 1750 / 1836 (95.32%), loss = 0.4283, time = 13.03 secondes ___\n"
          ],
          "name": "stdout"
        },
        {
          "output_type": "stream",
          "text": [
            "\n",
            "*** avg_loss : 0.47, time : ~1.0 min (91.24 sec) ***\n",
            "\n"
          ],
          "name": "stdout"
        },
        {
          "output_type": "stream",
          "text": [
            "==> evaluation : avg_loss = 0.70, time : 29.35 sec\n",
            "\n",
            "threshold (g-mean):  1\n",
            "threshold (f1):  1\n",
            "=====>\t{'Positive Rate': 0.4332784184514003, 'max g_mean metrics': {'threshold': 1, 'accuracy': 0.5667215815485996, 'f1': 0.0, 'recall': 0.0, 'specificity': 1.0, 'g_mean': 0.0}, 'max f1 metrics': {'threshold': 1, 'accuracy': 0.5667215815485996, 'f1': 0.0, 'recall': 0.0, 'specificity': 1.0, 'g_mean': 0.0}, 'default_accuracy': 0.5667215815485996, 'default_f1': 0.0, 'default_recall': 0.0, 'default_specificity': 1.0, 'default_g_mean': 0.0}\n",
            "@@@@@@@@@@@@@@@@@@@@@@@@@@@@@@@@@@@@@@@@@@@@@ END @@@@@@@@@@@@@@@@@@@@@@@@@@@@@@@@@@@@@@@@@@@@@@@\n"
          ],
          "name": "stdout"
        },
        {
          "output_type": "stream",
          "text": [
            "xxxxxxxxxxxxxxxxxxxxxxxxxxxxxxxxxxxx END Para label:  Apoyo Médico General  (8) xxxxxxxxxxxxxxxxxxxxxxxxx\n",
            "#################################################### Para label:  Apoyo Terapeuta Ocupacional  (9) ##############\n",
            "--------------------------------------lr: 1e-07-----------------------------\n",
            "+++++++++++++++++++++++++++++++++++++++++++++++++++ n layers: 1 ++++++++++++++++++++++++++++++++++++++++++++++++\n",
            "/////////////////////////////////////////// GA: 16 ///////////////////////////////////////////////////////\n"
          ],
          "name": "stdout"
        },
        {
          "output_type": "stream",
          "text": [
            "\n",
            "=============== EPOCH 1 / 8 ===============\n",
            "\n",
            "___ batch index = 0 / 1836 (0.00%), loss = 0.7678, time = 0.03 secondes ___\n"
          ],
          "name": "stdout"
        },
        {
          "output_type": "stream",
          "text": [
            "___ batch index = 250 / 1836 (13.62%), loss = 0.6299, time = 12.76 secondes ___\n"
          ],
          "name": "stdout"
        },
        {
          "output_type": "stream",
          "text": [
            "___ batch index = 500 / 1836 (27.23%), loss = 0.6203, time = 12.31 secondes ___\n"
          ],
          "name": "stdout"
        },
        {
          "output_type": "stream",
          "text": [
            "___ batch index = 750 / 1836 (40.85%), loss = 0.6207, time = 11.39 secondes ___\n"
          ],
          "name": "stdout"
        },
        {
          "output_type": "stream",
          "text": [
            "___ batch index = 1000 / 1836 (54.47%), loss = 0.6188, time = 13.09 secondes ___\n"
          ],
          "name": "stdout"
        },
        {
          "output_type": "stream",
          "text": [
            "___ batch index = 1250 / 1836 (68.08%), loss = 0.6177, time = 11.80 secondes ___\n"
          ],
          "name": "stdout"
        },
        {
          "output_type": "stream",
          "text": [
            "___ batch index = 1500 / 1836 (81.70%), loss = 0.6250, time = 11.93 secondes ___\n"
          ],
          "name": "stdout"
        },
        {
          "output_type": "stream",
          "text": [
            "___ batch index = 1750 / 1836 (95.32%), loss = 0.6048, time = 13.03 secondes ___\n"
          ],
          "name": "stdout"
        },
        {
          "output_type": "stream",
          "text": [
            "\n",
            "*** avg_loss : 0.63, time : ~1.0 min (91.33 sec) ***\n",
            "\n"
          ],
          "name": "stdout"
        },
        {
          "output_type": "stream",
          "text": [
            "==> evaluation : avg_loss = 0.69, time : 29.37 sec\n",
            "\n"
          ],
          "name": "stdout"
        },
        {
          "output_type": "stream",
          "text": [
            "threshold (g-mean):  0.008059423851966382\n"
          ],
          "name": "stdout"
        },
        {
          "output_type": "stream",
          "text": [
            "threshold (f1):  0.008059423851966382\n",
            "=====>\t{'Positive Rate': 0.4332784184514003, 'max g_mean metrics': {'threshold': 0.008059423851966382, 'accuracy': 0.5650741350906096, 'f1': 0.0075187969924812035, 'recall': 0.0038022813688212928, 'specificity': 0.9941860465116279, 'g_mean': 0.06148312843206063}, 'max f1 metrics': {'threshold': 0.008059423851966382, 'accuracy': 0.5650741350906096, 'f1': 0.0075187969924812035, 'recall': 0.0038022813688212928, 'specificity': 0.9941860465116279, 'g_mean': 0.06148312843206063}, 'default_accuracy': 0.5667215815485996, 'default_f1': 0.0, 'default_recall': 0.0, 'default_specificity': 1.0, 'default_g_mean': 0.0}\n",
            "\n",
            "=============== EPOCH 2 / 8 ===============\n",
            "\n",
            "___ batch index = 0 / 1836 (0.00%), loss = 0.7737, time = 0.03 secondes ___\n"
          ],
          "name": "stdout"
        },
        {
          "output_type": "stream",
          "text": [
            "___ batch index = 250 / 1836 (13.62%), loss = 0.6365, time = 12.78 secondes ___\n"
          ],
          "name": "stdout"
        },
        {
          "output_type": "stream",
          "text": [
            "___ batch index = 500 / 1836 (27.23%), loss = 0.6205, time = 12.31 secondes ___\n"
          ],
          "name": "stdout"
        },
        {
          "output_type": "stream",
          "text": [
            "___ batch index = 750 / 1836 (40.85%), loss = 0.6196, time = 11.39 secondes ___\n"
          ],
          "name": "stdout"
        },
        {
          "output_type": "stream",
          "text": [
            "___ batch index = 1000 / 1836 (54.47%), loss = 0.6189, time = 13.09 secondes ___\n"
          ],
          "name": "stdout"
        },
        {
          "output_type": "stream",
          "text": [
            "___ batch index = 1250 / 1836 (68.08%), loss = 0.6150, time = 11.80 secondes ___\n"
          ],
          "name": "stdout"
        },
        {
          "output_type": "stream",
          "text": [
            "___ batch index = 1500 / 1836 (81.70%), loss = 0.6191, time = 11.94 secondes ___\n"
          ],
          "name": "stdout"
        },
        {
          "output_type": "stream",
          "text": [
            "___ batch index = 1750 / 1836 (95.32%), loss = 0.6035, time = 13.04 secondes ___\n"
          ],
          "name": "stdout"
        },
        {
          "output_type": "stream",
          "text": [
            "\n",
            "*** avg_loss : 0.63, time : ~1.0 min (91.37 sec) ***\n",
            "\n"
          ],
          "name": "stdout"
        },
        {
          "output_type": "stream",
          "text": [
            "==> evaluation : avg_loss = 0.69, time : 29.31 sec\n",
            "\n"
          ],
          "name": "stdout"
        },
        {
          "output_type": "stream",
          "text": [
            "threshold (g-mean):  0.0009693839550015157\n"
          ],
          "name": "stdout"
        },
        {
          "output_type": "stream",
          "text": [
            "threshold (f1):  0.0009693839550015157\n",
            "=====>\t{'Positive Rate': 0.4332784184514003, 'max g_mean metrics': {'threshold': 0.0009693839550015157, 'accuracy': 0.5650741350906096, 'f1': 0.0075187969924812035, 'recall': 0.0038022813688212928, 'specificity': 0.9941860465116279, 'g_mean': 0.06148312843206063}, 'max f1 metrics': {'threshold': 0.0009693839550015157, 'accuracy': 0.5650741350906096, 'f1': 0.0075187969924812035, 'recall': 0.0038022813688212928, 'specificity': 0.9941860465116279, 'g_mean': 0.06148312843206063}, 'default_accuracy': 0.5667215815485996, 'default_f1': 0.0, 'default_recall': 0.0, 'default_specificity': 1.0, 'default_g_mean': 0.0}\n",
            "\n",
            "=============== EPOCH 3 / 8 ===============\n",
            "\n",
            "___ batch index = 0 / 1836 (0.00%), loss = 0.7898, time = 0.03 secondes ___\n"
          ],
          "name": "stdout"
        },
        {
          "output_type": "stream",
          "text": [
            "___ batch index = 250 / 1836 (13.62%), loss = 0.6268, time = 12.77 secondes ___\n"
          ],
          "name": "stdout"
        },
        {
          "output_type": "stream",
          "text": [
            "___ batch index = 500 / 1836 (27.23%), loss = 0.6086, time = 12.31 secondes ___\n"
          ],
          "name": "stdout"
        },
        {
          "output_type": "stream",
          "text": [
            "___ batch index = 750 / 1836 (40.85%), loss = 0.6103, time = 11.37 secondes ___\n"
          ],
          "name": "stdout"
        },
        {
          "output_type": "stream",
          "text": [
            "___ batch index = 1000 / 1836 (54.47%), loss = 0.6114, time = 13.08 secondes ___\n"
          ],
          "name": "stdout"
        },
        {
          "output_type": "stream",
          "text": [
            "___ batch index = 1250 / 1836 (68.08%), loss = 0.6119, time = 11.78 secondes ___\n"
          ],
          "name": "stdout"
        },
        {
          "output_type": "stream",
          "text": [
            "___ batch index = 1500 / 1836 (81.70%), loss = 0.6279, time = 11.91 secondes ___\n"
          ],
          "name": "stdout"
        },
        {
          "output_type": "stream",
          "text": [
            "___ batch index = 1750 / 1836 (95.32%), loss = 0.5991, time = 13.04 secondes ___\n"
          ],
          "name": "stdout"
        },
        {
          "output_type": "stream",
          "text": [
            "\n",
            "*** avg_loss : 0.62, time : ~1.0 min (91.28 sec) ***\n",
            "\n"
          ],
          "name": "stdout"
        },
        {
          "output_type": "stream",
          "text": [
            "==> evaluation : avg_loss = 0.69, time : 29.28 sec\n",
            "\n"
          ],
          "name": "stdout"
        },
        {
          "output_type": "stream",
          "text": [
            "threshold (g-mean):  1\n"
          ],
          "name": "stdout"
        },
        {
          "output_type": "stream",
          "text": [
            "threshold (f1):  1\n",
            "=====>\t{'Positive Rate': 0.4332784184514003, 'max g_mean metrics': {'threshold': 1, 'accuracy': 0.5667215815485996, 'f1': 0.0, 'recall': 0.0, 'specificity': 1.0, 'g_mean': 0.0}, 'max f1 metrics': {'threshold': 1, 'accuracy': 0.5667215815485996, 'f1': 0.0, 'recall': 0.0, 'specificity': 1.0, 'g_mean': 0.0}, 'default_accuracy': 0.5667215815485996, 'default_f1': 0.0, 'default_recall': 0.0, 'default_specificity': 1.0, 'default_g_mean': 0.0}\n",
            "\n",
            "=============== EPOCH 4 / 8 ===============\n",
            "\n",
            "___ batch index = 0 / 1836 (0.00%), loss = 0.8102, time = 0.03 secondes ___\n"
          ],
          "name": "stdout"
        },
        {
          "output_type": "stream",
          "text": [
            "___ batch index = 250 / 1836 (13.62%), loss = 0.6205, time = 12.79 secondes ___\n"
          ],
          "name": "stdout"
        },
        {
          "output_type": "stream",
          "text": [
            "___ batch index = 500 / 1836 (27.23%), loss = 0.6016, time = 12.32 secondes ___\n"
          ],
          "name": "stdout"
        },
        {
          "output_type": "stream",
          "text": [
            "___ batch index = 750 / 1836 (40.85%), loss = 0.6083, time = 11.40 secondes ___\n"
          ],
          "name": "stdout"
        },
        {
          "output_type": "stream",
          "text": [
            "___ batch index = 1000 / 1836 (54.47%), loss = 0.6043, time = 13.10 secondes ___\n"
          ],
          "name": "stdout"
        },
        {
          "output_type": "stream",
          "text": [
            "___ batch index = 1250 / 1836 (68.08%), loss = 0.6141, time = 11.80 secondes ___\n"
          ],
          "name": "stdout"
        },
        {
          "output_type": "stream",
          "text": [
            "___ batch index = 1500 / 1836 (81.70%), loss = 0.6170, time = 11.94 secondes ___\n"
          ],
          "name": "stdout"
        },
        {
          "output_type": "stream",
          "text": [
            "___ batch index = 1750 / 1836 (95.32%), loss = 0.5966, time = 13.07 secondes ___\n"
          ],
          "name": "stdout"
        },
        {
          "output_type": "stream",
          "text": [
            "\n",
            "*** avg_loss : 0.62, time : ~1.0 min (91.44 sec) ***\n",
            "\n"
          ],
          "name": "stdout"
        },
        {
          "output_type": "stream",
          "text": [
            "==> evaluation : avg_loss = 0.69, time : 29.38 sec\n",
            "\n"
          ],
          "name": "stdout"
        },
        {
          "output_type": "stream",
          "text": [
            "threshold (g-mean):  1\n"
          ],
          "name": "stdout"
        },
        {
          "output_type": "stream",
          "text": [
            "threshold (f1):  1\n",
            "=====>\t{'Positive Rate': 0.4332784184514003, 'max g_mean metrics': {'threshold': 1, 'accuracy': 0.5667215815485996, 'f1': 0.0, 'recall': 0.0, 'specificity': 1.0, 'g_mean': 0.0}, 'max f1 metrics': {'threshold': 1, 'accuracy': 0.5667215815485996, 'f1': 0.0, 'recall': 0.0, 'specificity': 1.0, 'g_mean': 0.0}, 'default_accuracy': 0.5667215815485996, 'default_f1': 0.0, 'default_recall': 0.0, 'default_specificity': 1.0, 'default_g_mean': 0.0}\n",
            "\n",
            "=============== EPOCH 5 / 8 ===============\n",
            "\n",
            "___ batch index = 0 / 1836 (0.00%), loss = 0.8012, time = 0.03 secondes ___\n"
          ],
          "name": "stdout"
        },
        {
          "output_type": "stream",
          "text": [
            "___ batch index = 250 / 1836 (13.62%), loss = 0.6136, time = 12.74 secondes ___\n"
          ],
          "name": "stdout"
        },
        {
          "output_type": "stream",
          "text": [
            "___ batch index = 500 / 1836 (27.23%), loss = 0.6024, time = 12.32 secondes ___\n"
          ],
          "name": "stdout"
        },
        {
          "output_type": "stream",
          "text": [
            "___ batch index = 750 / 1836 (40.85%), loss = 0.6089, time = 11.39 secondes ___\n"
          ],
          "name": "stdout"
        },
        {
          "output_type": "stream",
          "text": [
            "___ batch index = 1000 / 1836 (54.47%), loss = 0.6018, time = 13.10 secondes ___\n"
          ],
          "name": "stdout"
        },
        {
          "output_type": "stream",
          "text": [
            "___ batch index = 1250 / 1836 (68.08%), loss = 0.6021, time = 11.81 secondes ___\n"
          ],
          "name": "stdout"
        },
        {
          "output_type": "stream",
          "text": [
            "___ batch index = 1500 / 1836 (81.70%), loss = 0.6112, time = 11.94 secondes ___\n"
          ],
          "name": "stdout"
        },
        {
          "output_type": "stream",
          "text": [
            "___ batch index = 1750 / 1836 (95.32%), loss = 0.5933, time = 13.08 secondes ___\n"
          ],
          "name": "stdout"
        },
        {
          "output_type": "stream",
          "text": [
            "\n",
            "*** avg_loss : 0.62, time : ~1.0 min (91.40 sec) ***\n",
            "\n"
          ],
          "name": "stdout"
        },
        {
          "output_type": "stream",
          "text": [
            "==> evaluation : avg_loss = 0.68, time : 29.40 sec\n",
            "\n"
          ],
          "name": "stdout"
        },
        {
          "output_type": "stream",
          "text": [
            "threshold (g-mean):  1\n"
          ],
          "name": "stdout"
        },
        {
          "output_type": "stream",
          "text": [
            "threshold (f1):  1\n",
            "=====>\t{'Positive Rate': 0.4332784184514003, 'max g_mean metrics': {'threshold': 1, 'accuracy': 0.5667215815485996, 'f1': 0.0, 'recall': 0.0, 'specificity': 1.0, 'g_mean': 0.0}, 'max f1 metrics': {'threshold': 1, 'accuracy': 0.5667215815485996, 'f1': 0.0, 'recall': 0.0, 'specificity': 1.0, 'g_mean': 0.0}, 'default_accuracy': 0.5667215815485996, 'default_f1': 0.0, 'default_recall': 0.0, 'default_specificity': 1.0, 'default_g_mean': 0.0}\n",
            "\n",
            "=============== EPOCH 6 / 8 ===============\n",
            "\n",
            "___ batch index = 0 / 1836 (0.00%), loss = 0.7946, time = 0.03 secondes ___\n"
          ],
          "name": "stdout"
        },
        {
          "output_type": "stream",
          "text": [
            "___ batch index = 250 / 1836 (13.62%), loss = 0.6079, time = 12.74 secondes ___\n"
          ],
          "name": "stdout"
        },
        {
          "output_type": "stream",
          "text": [
            "___ batch index = 500 / 1836 (27.23%), loss = 0.5961, time = 12.33 secondes ___\n"
          ],
          "name": "stdout"
        },
        {
          "output_type": "stream",
          "text": [
            "___ batch index = 750 / 1836 (40.85%), loss = 0.6010, time = 11.40 secondes ___\n"
          ],
          "name": "stdout"
        },
        {
          "output_type": "stream",
          "text": [
            "___ batch index = 1000 / 1836 (54.47%), loss = 0.6075, time = 13.11 secondes ___\n"
          ],
          "name": "stdout"
        },
        {
          "output_type": "stream",
          "text": [
            "___ batch index = 1250 / 1836 (68.08%), loss = 0.6070, time = 11.81 secondes ___\n"
          ],
          "name": "stdout"
        },
        {
          "output_type": "stream",
          "text": [
            "___ batch index = 1500 / 1836 (81.70%), loss = 0.6090, time = 11.94 secondes ___\n"
          ],
          "name": "stdout"
        },
        {
          "output_type": "stream",
          "text": [
            "___ batch index = 1750 / 1836 (95.32%), loss = 0.5871, time = 13.08 secondes ___\n"
          ],
          "name": "stdout"
        },
        {
          "output_type": "stream",
          "text": [
            "\n",
            "*** avg_loss : 0.62, time : ~1.0 min (91.44 sec) ***\n",
            "\n"
          ],
          "name": "stdout"
        },
        {
          "output_type": "stream",
          "text": [
            "==> evaluation : avg_loss = 0.68, time : 29.40 sec\n",
            "\n"
          ],
          "name": "stdout"
        },
        {
          "output_type": "stream",
          "text": [
            "threshold (g-mean):  1\n"
          ],
          "name": "stdout"
        },
        {
          "output_type": "stream",
          "text": [
            "threshold (f1):  1\n",
            "=====>\t{'Positive Rate': 0.4332784184514003, 'max g_mean metrics': {'threshold': 1, 'accuracy': 0.5667215815485996, 'f1': 0.0, 'recall': 0.0, 'specificity': 1.0, 'g_mean': 0.0}, 'max f1 metrics': {'threshold': 1, 'accuracy': 0.5667215815485996, 'f1': 0.0, 'recall': 0.0, 'specificity': 1.0, 'g_mean': 0.0}, 'default_accuracy': 0.5667215815485996, 'default_f1': 0.0, 'default_recall': 0.0, 'default_specificity': 1.0, 'default_g_mean': 0.0}\n",
            "\n",
            "=============== EPOCH 7 / 8 ===============\n",
            "\n",
            "___ batch index = 0 / 1836 (0.00%), loss = 0.8052, time = 0.03 secondes ___\n"
          ],
          "name": "stdout"
        },
        {
          "output_type": "stream",
          "text": [
            "___ batch index = 250 / 1836 (13.62%), loss = 0.6099, time = 12.71 secondes ___\n"
          ],
          "name": "stdout"
        },
        {
          "output_type": "stream",
          "text": [
            "___ batch index = 500 / 1836 (27.23%), loss = 0.5981, time = 12.33 secondes ___\n"
          ],
          "name": "stdout"
        },
        {
          "output_type": "stream",
          "text": [
            "___ batch index = 750 / 1836 (40.85%), loss = 0.6059, time = 11.46 secondes ___\n"
          ],
          "name": "stdout"
        },
        {
          "output_type": "stream",
          "text": [
            "___ batch index = 1000 / 1836 (54.47%), loss = 0.5967, time = 13.16 secondes ___\n"
          ],
          "name": "stdout"
        },
        {
          "output_type": "stream",
          "text": [
            "___ batch index = 1250 / 1836 (68.08%), loss = 0.6054, time = 11.86 secondes ___\n"
          ],
          "name": "stdout"
        },
        {
          "output_type": "stream",
          "text": [
            "___ batch index = 1500 / 1836 (81.70%), loss = 0.6036, time = 11.99 secondes ___\n"
          ],
          "name": "stdout"
        },
        {
          "output_type": "stream",
          "text": [
            "___ batch index = 1750 / 1836 (95.32%), loss = 0.5887, time = 13.13 secondes ___\n"
          ],
          "name": "stdout"
        },
        {
          "output_type": "stream",
          "text": [
            "\n",
            "*** avg_loss : 0.61, time : ~1.0 min (91.68 sec) ***\n",
            "\n"
          ],
          "name": "stdout"
        },
        {
          "output_type": "stream",
          "text": [
            "==> evaluation : avg_loss = 0.68, time : 29.47 sec\n",
            "\n"
          ],
          "name": "stdout"
        },
        {
          "output_type": "stream",
          "text": [
            "threshold (g-mean):  1\n"
          ],
          "name": "stdout"
        },
        {
          "output_type": "stream",
          "text": [
            "threshold (f1):  1\n",
            "=====>\t{'Positive Rate': 0.4332784184514003, 'max g_mean metrics': {'threshold': 1, 'accuracy': 0.5667215815485996, 'f1': 0.0, 'recall': 0.0, 'specificity': 1.0, 'g_mean': 0.0}, 'max f1 metrics': {'threshold': 1, 'accuracy': 0.5667215815485996, 'f1': 0.0, 'recall': 0.0, 'specificity': 1.0, 'g_mean': 0.0}, 'default_accuracy': 0.5667215815485996, 'default_f1': 0.0, 'default_recall': 0.0, 'default_specificity': 1.0, 'default_g_mean': 0.0}\n",
            "\n",
            "=============== EPOCH 8 / 8 ===============\n",
            "\n",
            "___ batch index = 0 / 1836 (0.00%), loss = 0.7835, time = 0.03 secondes ___\n"
          ],
          "name": "stdout"
        },
        {
          "output_type": "stream",
          "text": [
            "___ batch index = 250 / 1836 (13.62%), loss = 0.6089, time = 12.77 secondes ___\n"
          ],
          "name": "stdout"
        },
        {
          "output_type": "stream",
          "text": [
            "___ batch index = 500 / 1836 (27.23%), loss = 0.5916, time = 12.34 secondes ___\n"
          ],
          "name": "stdout"
        },
        {
          "output_type": "stream",
          "text": [
            "___ batch index = 750 / 1836 (40.85%), loss = 0.5979, time = 11.46 secondes ___\n"
          ],
          "name": "stdout"
        },
        {
          "output_type": "stream",
          "text": [
            "___ batch index = 1000 / 1836 (54.47%), loss = 0.5985, time = 13.16 secondes ___\n"
          ],
          "name": "stdout"
        },
        {
          "output_type": "stream",
          "text": [
            "___ batch index = 1250 / 1836 (68.08%), loss = 0.5947, time = 11.86 secondes ___\n"
          ],
          "name": "stdout"
        },
        {
          "output_type": "stream",
          "text": [
            "___ batch index = 1500 / 1836 (81.70%), loss = 0.5962, time = 11.99 secondes ___\n"
          ],
          "name": "stdout"
        },
        {
          "output_type": "stream",
          "text": [
            "___ batch index = 1750 / 1836 (95.32%), loss = 0.5857, time = 13.12 secondes ___\n"
          ],
          "name": "stdout"
        },
        {
          "output_type": "stream",
          "text": [
            "\n",
            "*** avg_loss : 0.61, time : ~1.0 min (91.74 sec) ***\n",
            "\n"
          ],
          "name": "stdout"
        },
        {
          "output_type": "stream",
          "text": [
            "==> evaluation : avg_loss = 0.68, time : 29.49 sec\n",
            "\n"
          ],
          "name": "stdout"
        },
        {
          "output_type": "stream",
          "text": [
            "threshold (g-mean):  1\n"
          ],
          "name": "stdout"
        },
        {
          "output_type": "stream",
          "text": [
            "threshold (f1):  1\n",
            "=====>\t{'Positive Rate': 0.4332784184514003, 'max g_mean metrics': {'threshold': 1, 'accuracy': 0.5667215815485996, 'f1': 0.0, 'recall': 0.0, 'specificity': 1.0, 'g_mean': 0.0}, 'max f1 metrics': {'threshold': 1, 'accuracy': 0.5667215815485996, 'f1': 0.0, 'recall': 0.0, 'specificity': 1.0, 'g_mean': 0.0}, 'default_accuracy': 0.5667215815485996, 'default_f1': 0.0, 'default_recall': 0.0, 'default_specificity': 1.0, 'default_g_mean': 0.0}\n",
            "@@@@@@@@@@@@@@@@@@@@@@@@@@@@@@@@@@@@@@@@@@@@@ END @@@@@@@@@@@@@@@@@@@@@@@@@@@@@@@@@@@@@@@@@@@@@@@\n",
            "--------------------------------------lr: 1e-06-----------------------------\n",
            "+++++++++++++++++++++++++++++++++++++++++++++++++++ n layers: 1 ++++++++++++++++++++++++++++++++++++++++++++++++\n",
            "/////////////////////////////////////////// GA: 16 ///////////////////////////////////////////////////////\n",
            "\n",
            "=============== EPOCH 1 / 8 ===============\n",
            "\n",
            "___ batch index = 0 / 1836 (0.00%), loss = 0.6194, time = 0.03 secondes ___\n"
          ],
          "name": "stdout"
        },
        {
          "output_type": "stream",
          "text": [
            "___ batch index = 250 / 1836 (13.62%), loss = 0.7620, time = 12.77 secondes ___\n"
          ],
          "name": "stdout"
        },
        {
          "output_type": "stream",
          "text": [
            "___ batch index = 500 / 1836 (27.23%), loss = 0.7849, time = 12.33 secondes ___\n"
          ],
          "name": "stdout"
        },
        {
          "output_type": "stream",
          "text": [
            "___ batch index = 750 / 1836 (40.85%), loss = 0.7791, time = 11.47 secondes ___\n"
          ],
          "name": "stdout"
        },
        {
          "output_type": "stream",
          "text": [
            "___ batch index = 1000 / 1836 (54.47%), loss = 0.7558, time = 13.17 secondes ___\n"
          ],
          "name": "stdout"
        },
        {
          "output_type": "stream",
          "text": [
            "___ batch index = 1250 / 1836 (68.08%), loss = 0.7808, time = 11.87 secondes ___\n"
          ],
          "name": "stdout"
        },
        {
          "output_type": "stream",
          "text": [
            "___ batch index = 1500 / 1836 (81.70%), loss = 0.7549, time = 12.01 secondes ___\n"
          ],
          "name": "stdout"
        },
        {
          "output_type": "stream",
          "text": [
            "___ batch index = 1750 / 1836 (95.32%), loss = 0.7585, time = 13.14 secondes ___\n"
          ],
          "name": "stdout"
        },
        {
          "output_type": "stream",
          "text": [
            "\n",
            "*** avg_loss : 0.76, time : ~1.0 min (91.79 sec) ***\n",
            "\n"
          ],
          "name": "stdout"
        },
        {
          "output_type": "stream",
          "text": [
            "==> evaluation : avg_loss = 0.70, time : 29.48 sec\n",
            "\n"
          ],
          "name": "stdout"
        },
        {
          "output_type": "stream",
          "text": [
            "threshold (g-mean):  0.14192327995301612\n"
          ],
          "name": "stdout"
        },
        {
          "output_type": "stream",
          "text": [
            "threshold (f1):  0.11312327995301764\n",
            "=====>\t{'Positive Rate': 0.4332784184514003, 'max g_mean metrics': {'threshold': 0.14192327995301612, 'accuracy': 0.5123558484349259, 'f1': 0.43511450381679384, 'recall': 0.43346007604562736, 'specificity': 0.5726744186046512, 'g_mean': 0.49822835832352774}, 'max f1 metrics': {'threshold': 0.11312327995301764, 'accuracy': 0.4728171334431631, 'f1': 0.46843853820598, 'recall': 0.5361216730038023, 'specificity': 0.42441860465116277, 'g_mean': 0.47701154323508854}, 'default_accuracy': 0.5667215815485996, 'default_f1': 0.0, 'default_recall': 0.0, 'default_specificity': 1.0, 'default_g_mean': 0.0}\n",
            "\n",
            "=============== EPOCH 2 / 8 ===============\n",
            "\n",
            "___ batch index = 0 / 1836 (0.00%), loss = 0.6520, time = 0.03 secondes ___\n"
          ],
          "name": "stdout"
        },
        {
          "output_type": "stream",
          "text": [
            "___ batch index = 250 / 1836 (13.62%), loss = 0.7264, time = 12.80 secondes ___\n"
          ],
          "name": "stdout"
        },
        {
          "output_type": "stream",
          "text": [
            "___ batch index = 500 / 1836 (27.23%), loss = 0.7480, time = 12.33 secondes ___\n"
          ],
          "name": "stdout"
        },
        {
          "output_type": "stream",
          "text": [
            "___ batch index = 750 / 1836 (40.85%), loss = 0.7476, time = 11.45 secondes ___\n"
          ],
          "name": "stdout"
        },
        {
          "output_type": "stream",
          "text": [
            "___ batch index = 1000 / 1836 (54.47%), loss = 0.7186, time = 13.14 secondes ___\n"
          ],
          "name": "stdout"
        },
        {
          "output_type": "stream",
          "text": [
            "___ batch index = 1250 / 1836 (68.08%), loss = 0.7526, time = 11.86 secondes ___\n"
          ],
          "name": "stdout"
        },
        {
          "output_type": "stream",
          "text": [
            "___ batch index = 1500 / 1836 (81.70%), loss = 0.7213, time = 12.03 secondes ___\n"
          ],
          "name": "stdout"
        },
        {
          "output_type": "stream",
          "text": [
            "___ batch index = 1750 / 1836 (95.32%), loss = 0.7244, time = 13.16 secondes ___\n"
          ],
          "name": "stdout"
        },
        {
          "output_type": "stream",
          "text": [
            "\n",
            "*** avg_loss : 0.74, time : ~1.0 min (91.82 sec) ***\n",
            "\n"
          ],
          "name": "stdout"
        },
        {
          "output_type": "stream",
          "text": [
            "==> evaluation : avg_loss = 0.70, time : 29.42 sec\n",
            "\n"
          ],
          "name": "stdout"
        },
        {
          "output_type": "stream",
          "text": [
            "threshold (g-mean):  0.08873294372559244\n"
          ],
          "name": "stdout"
        },
        {
          "output_type": "stream",
          "text": [
            "threshold (f1):  0.04603294372559122\n",
            "=====>\t{'Positive Rate': 0.4332784184514003, 'max g_mean metrics': {'threshold': 0.08873294372559244, 'accuracy': 0.5238879736408567, 'f1': 0.45161290322580644, 'recall': 0.4524714828897338, 'specificity': 0.5784883720930233, 'g_mean': 0.5116145927897272}, 'max f1 metrics': {'threshold': 0.04603294372559122, 'accuracy': 0.4728171334431631, 'f1': 0.46666666666666673, 'recall': 0.532319391634981, 'specificity': 0.4273255813953488, 'g_mean': 0.4769420232255034}, 'default_accuracy': 0.5667215815485996, 'default_f1': 0.0, 'default_recall': 0.0, 'default_specificity': 1.0, 'default_g_mean': 0.0}\n",
            "\n",
            "=============== EPOCH 3 / 8 ===============\n",
            "\n",
            "___ batch index = 0 / 1836 (0.00%), loss = 0.6902, time = 0.03 secondes ___\n"
          ],
          "name": "stdout"
        },
        {
          "output_type": "stream",
          "text": [
            "___ batch index = 250 / 1836 (13.62%), loss = 0.6909, time = 12.74 secondes ___\n"
          ],
          "name": "stdout"
        },
        {
          "output_type": "stream",
          "text": [
            "___ batch index = 500 / 1836 (27.23%), loss = 0.7191, time = 12.27 secondes ___\n"
          ],
          "name": "stdout"
        },
        {
          "output_type": "stream",
          "text": [
            "___ batch index = 750 / 1836 (40.85%), loss = 0.7182, time = 11.38 secondes ___\n"
          ],
          "name": "stdout"
        },
        {
          "output_type": "stream",
          "text": [
            "___ batch index = 1000 / 1836 (54.47%), loss = 0.6863, time = 13.08 secondes ___\n"
          ],
          "name": "stdout"
        },
        {
          "output_type": "stream",
          "text": [
            "___ batch index = 1250 / 1836 (68.08%), loss = 0.7176, time = 11.79 secondes ___\n"
          ],
          "name": "stdout"
        },
        {
          "output_type": "stream",
          "text": [
            "___ batch index = 1500 / 1836 (81.70%), loss = 0.6912, time = 11.93 secondes ___\n"
          ],
          "name": "stdout"
        },
        {
          "output_type": "stream",
          "text": [
            "___ batch index = 1750 / 1836 (95.32%), loss = 0.6955, time = 13.06 secondes ___\n"
          ],
          "name": "stdout"
        },
        {
          "output_type": "stream",
          "text": [
            "\n",
            "*** avg_loss : 0.71, time : ~1.0 min (91.28 sec) ***\n",
            "\n"
          ],
          "name": "stdout"
        },
        {
          "output_type": "stream",
          "text": [
            "==> evaluation : avg_loss = 0.69, time : 29.35 sec\n",
            "\n"
          ],
          "name": "stdout"
        },
        {
          "output_type": "stream",
          "text": [
            "threshold (g-mean):  0.02215442800521952\n"
          ],
          "name": "stdout"
        },
        {
          "output_type": "stream",
          "text": [
            "threshold (f1):  0.0007544280052195988\n",
            "=====>\t{'Positive Rate': 0.4332784184514003, 'max g_mean metrics': {'threshold': 0.02215442800521952, 'accuracy': 0.5189456342668863, 'f1': 0.45522388059701496, 'recall': 0.46387832699619774, 'specificity': 0.561046511627907, 'g_mean': 0.5101542092161999}, 'max f1 metrics': {'threshold': 0.0007544280052195988, 'accuracy': 0.4958813838550247, 'f1': 0.46503496503496505, 'recall': 0.5057034220532319, 'specificity': 0.4883720930232558, 'g_mean': 0.4969622105121875}, 'default_accuracy': 0.5667215815485996, 'default_f1': 0.0, 'default_recall': 0.0, 'default_specificity': 1.0, 'default_g_mean': 0.0}\n",
            "\n",
            "=============== EPOCH 4 / 8 ===============\n",
            "\n",
            "___ batch index = 0 / 1836 (0.00%), loss = 0.7005, time = 0.03 secondes ___\n"
          ],
          "name": "stdout"
        },
        {
          "output_type": "stream",
          "text": [
            "___ batch index = 250 / 1836 (13.62%), loss = 0.6672, time = 12.72 secondes ___\n"
          ],
          "name": "stdout"
        },
        {
          "output_type": "stream",
          "text": [
            "___ batch index = 500 / 1836 (27.23%), loss = 0.6823, time = 12.30 secondes ___\n"
          ],
          "name": "stdout"
        },
        {
          "output_type": "stream",
          "text": [
            "___ batch index = 750 / 1836 (40.85%), loss = 0.6881, time = 11.39 secondes ___\n"
          ],
          "name": "stdout"
        },
        {
          "output_type": "stream",
          "text": [
            "___ batch index = 1000 / 1836 (54.47%), loss = 0.6465, time = 13.08 secondes ___\n"
          ],
          "name": "stdout"
        },
        {
          "output_type": "stream",
          "text": [
            "___ batch index = 1250 / 1836 (68.08%), loss = 0.6857, time = 11.79 secondes ___\n"
          ],
          "name": "stdout"
        },
        {
          "output_type": "stream",
          "text": [
            "___ batch index = 1500 / 1836 (81.70%), loss = 0.6728, time = 11.93 secondes ___\n"
          ],
          "name": "stdout"
        },
        {
          "output_type": "stream",
          "text": [
            "___ batch index = 1750 / 1836 (95.32%), loss = 0.6650, time = 13.05 secondes ___\n"
          ],
          "name": "stdout"
        },
        {
          "output_type": "stream",
          "text": [
            "\n",
            "*** avg_loss : 0.68, time : ~1.0 min (91.28 sec) ***\n",
            "\n"
          ],
          "name": "stdout"
        },
        {
          "output_type": "stream",
          "text": [
            "==> evaluation : avg_loss = 0.69, time : 29.34 sec\n",
            "\n"
          ],
          "name": "stdout"
        },
        {
          "output_type": "stream",
          "text": [
            "threshold (g-mean):  0.001118573963639597\n"
          ],
          "name": "stdout"
        },
        {
          "output_type": "stream",
          "text": [
            "threshold (f1):  0.001118573963639597\n",
            "=====>\t{'Positive Rate': 0.4332784184514003, 'max g_mean metrics': {'threshold': 0.001118573963639597, 'accuracy': 0.500823723228995, 'f1': 0.2210796915167095, 'recall': 0.1634980988593156, 'specificity': 0.7587209302325582, 'g_mean': 0.3522065156379062}, 'max f1 metrics': {'threshold': 0.001118573963639597, 'accuracy': 0.500823723228995, 'f1': 0.2210796915167095, 'recall': 0.1634980988593156, 'specificity': 0.7587209302325582, 'g_mean': 0.3522065156379062}, 'default_accuracy': 0.5667215815485996, 'default_f1': 0.0, 'default_recall': 0.0, 'default_specificity': 1.0, 'default_g_mean': 0.0}\n",
            "\n",
            "=============== EPOCH 5 / 8 ===============\n",
            "\n",
            "___ batch index = 0 / 1836 (0.00%), loss = 0.7230, time = 0.03 secondes ___\n"
          ],
          "name": "stdout"
        },
        {
          "output_type": "stream",
          "text": [
            "___ batch index = 250 / 1836 (13.62%), loss = 0.6414, time = 12.75 secondes ___\n"
          ],
          "name": "stdout"
        },
        {
          "output_type": "stream",
          "text": [
            "___ batch index = 500 / 1836 (27.23%), loss = 0.6561, time = 12.31 secondes ___\n"
          ],
          "name": "stdout"
        },
        {
          "output_type": "stream",
          "text": [
            "___ batch index = 750 / 1836 (40.85%), loss = 0.6612, time = 11.39 secondes ___\n"
          ],
          "name": "stdout"
        },
        {
          "output_type": "stream",
          "text": [
            "___ batch index = 1000 / 1836 (54.47%), loss = 0.6260, time = 13.08 secondes ___\n"
          ],
          "name": "stdout"
        },
        {
          "output_type": "stream",
          "text": [
            "___ batch index = 1250 / 1836 (68.08%), loss = 0.6544, time = 11.80 secondes ___\n"
          ],
          "name": "stdout"
        },
        {
          "output_type": "stream",
          "text": [
            "___ batch index = 1500 / 1836 (81.70%), loss = 0.6477, time = 11.94 secondes ___\n"
          ],
          "name": "stdout"
        },
        {
          "output_type": "stream",
          "text": [
            "___ batch index = 1750 / 1836 (95.32%), loss = 0.6265, time = 13.06 secondes ___\n"
          ],
          "name": "stdout"
        },
        {
          "output_type": "stream",
          "text": [
            "\n",
            "*** avg_loss : 0.66, time : ~1.0 min (91.35 sec) ***\n",
            "\n"
          ],
          "name": "stdout"
        },
        {
          "output_type": "stream",
          "text": [
            "==> evaluation : avg_loss = 0.69, time : 29.31 sec\n",
            "\n"
          ],
          "name": "stdout"
        },
        {
          "output_type": "stream",
          "text": [
            "threshold (g-mean):  0.0016285345554336171\n"
          ],
          "name": "stdout"
        },
        {
          "output_type": "stream",
          "text": [
            "threshold (f1):  0.0016285345554336171\n",
            "=====>\t{'Positive Rate': 0.4332784184514003, 'max g_mean metrics': {'threshold': 0.0016285345554336171, 'accuracy': 0.5502471169686985, 'f1': 0.0353356890459364, 'recall': 0.019011406844106463, 'specificity': 0.9563953488372093, 'g_mean': 0.13484220808246694}, 'max f1 metrics': {'threshold': 0.0016285345554336171, 'accuracy': 0.5502471169686985, 'f1': 0.0353356890459364, 'recall': 0.019011406844106463, 'specificity': 0.9563953488372093, 'g_mean': 0.13484220808246694}, 'default_accuracy': 0.5667215815485996, 'default_f1': 0.0, 'default_recall': 0.0, 'default_specificity': 1.0, 'default_g_mean': 0.0}\n",
            "\n",
            "=============== EPOCH 6 / 8 ===============\n",
            "\n",
            "___ batch index = 0 / 1836 (0.00%), loss = 0.7726, time = 0.03 secondes ___\n"
          ],
          "name": "stdout"
        },
        {
          "output_type": "stream",
          "text": [
            "___ batch index = 250 / 1836 (13.62%), loss = 0.6088, time = 12.75 secondes ___\n"
          ],
          "name": "stdout"
        },
        {
          "output_type": "stream",
          "text": [
            "___ batch index = 500 / 1836 (27.23%), loss = 0.6314, time = 12.37 secondes ___\n"
          ],
          "name": "stdout"
        },
        {
          "output_type": "stream",
          "text": [
            "___ batch index = 750 / 1836 (40.85%), loss = 0.6472, time = 11.45 secondes ___\n"
          ],
          "name": "stdout"
        },
        {
          "output_type": "stream",
          "text": [
            "___ batch index = 1000 / 1836 (54.47%), loss = 0.5896, time = 13.15 secondes ___\n"
          ],
          "name": "stdout"
        },
        {
          "output_type": "stream",
          "text": [
            "___ batch index = 1250 / 1836 (68.08%), loss = 0.6265, time = 11.86 secondes ___\n"
          ],
          "name": "stdout"
        },
        {
          "output_type": "stream",
          "text": [
            "___ batch index = 1500 / 1836 (81.70%), loss = 0.6145, time = 11.99 secondes ___\n"
          ],
          "name": "stdout"
        },
        {
          "output_type": "stream",
          "text": [
            "___ batch index = 1750 / 1836 (95.32%), loss = 0.5960, time = 13.11 secondes ___\n"
          ],
          "name": "stdout"
        },
        {
          "output_type": "stream",
          "text": [
            "\n",
            "*** avg_loss : 0.63, time : ~1.0 min (91.73 sec) ***\n",
            "\n"
          ],
          "name": "stdout"
        },
        {
          "output_type": "stream",
          "text": [
            "==> evaluation : avg_loss = 0.69, time : 29.45 sec\n",
            "\n"
          ],
          "name": "stdout"
        },
        {
          "output_type": "stream",
          "text": [
            "threshold (g-mean):  1\n"
          ],
          "name": "stdout"
        },
        {
          "output_type": "stream",
          "text": [
            "threshold (f1):  1\n",
            "=====>\t{'Positive Rate': 0.4332784184514003, 'max g_mean metrics': {'threshold': 1, 'accuracy': 0.5667215815485996, 'f1': 0.0, 'recall': 0.0, 'specificity': 1.0, 'g_mean': 0.0}, 'max f1 metrics': {'threshold': 1, 'accuracy': 0.5667215815485996, 'f1': 0.0, 'recall': 0.0, 'specificity': 1.0, 'g_mean': 0.0}, 'default_accuracy': 0.5667215815485996, 'default_f1': 0.0, 'default_recall': 0.0, 'default_specificity': 1.0, 'default_g_mean': 0.0}\n",
            "\n",
            "=============== EPOCH 7 / 8 ===============\n",
            "\n",
            "___ batch index = 0 / 1836 (0.00%), loss = 0.7883, time = 0.03 secondes ___\n"
          ],
          "name": "stdout"
        },
        {
          "output_type": "stream",
          "text": [
            "___ batch index = 250 / 1836 (13.62%), loss = 0.5845, time = 12.83 secondes ___\n"
          ],
          "name": "stdout"
        },
        {
          "output_type": "stream",
          "text": [
            "___ batch index = 500 / 1836 (27.23%), loss = 0.6037, time = 12.38 secondes ___\n"
          ],
          "name": "stdout"
        },
        {
          "output_type": "stream",
          "text": [
            "___ batch index = 750 / 1836 (40.85%), loss = 0.6190, time = 11.45 secondes ___\n"
          ],
          "name": "stdout"
        },
        {
          "output_type": "stream",
          "text": [
            "___ batch index = 1000 / 1836 (54.47%), loss = 0.5701, time = 13.15 secondes ___\n"
          ],
          "name": "stdout"
        },
        {
          "output_type": "stream",
          "text": [
            "___ batch index = 1250 / 1836 (68.08%), loss = 0.5963, time = 11.86 secondes ___\n"
          ],
          "name": "stdout"
        },
        {
          "output_type": "stream",
          "text": [
            "___ batch index = 1500 / 1836 (81.70%), loss = 0.5935, time = 12.00 secondes ___\n"
          ],
          "name": "stdout"
        },
        {
          "output_type": "stream",
          "text": [
            "___ batch index = 1750 / 1836 (95.32%), loss = 0.5759, time = 13.12 secondes ___\n"
          ],
          "name": "stdout"
        },
        {
          "output_type": "stream",
          "text": [
            "\n",
            "*** avg_loss : 0.61, time : ~1.0 min (91.82 sec) ***\n",
            "\n"
          ],
          "name": "stdout"
        },
        {
          "output_type": "stream",
          "text": [
            "==> evaluation : avg_loss = 0.69, time : 29.44 sec\n",
            "\n"
          ],
          "name": "stdout"
        },
        {
          "output_type": "stream",
          "text": [
            "threshold (g-mean):  1\n"
          ],
          "name": "stdout"
        },
        {
          "output_type": "stream",
          "text": [
            "threshold (f1):  1\n",
            "=====>\t{'Positive Rate': 0.4332784184514003, 'max g_mean metrics': {'threshold': 1, 'accuracy': 0.5667215815485996, 'f1': 0.0, 'recall': 0.0, 'specificity': 1.0, 'g_mean': 0.0}, 'max f1 metrics': {'threshold': 1, 'accuracy': 0.5667215815485996, 'f1': 0.0, 'recall': 0.0, 'specificity': 1.0, 'g_mean': 0.0}, 'default_accuracy': 0.5667215815485996, 'default_f1': 0.0, 'default_recall': 0.0, 'default_specificity': 1.0, 'default_g_mean': 0.0}\n",
            "\n",
            "=============== EPOCH 8 / 8 ===============\n",
            "\n",
            "___ batch index = 0 / 1836 (0.00%), loss = 0.7942, time = 0.03 secondes ___\n"
          ],
          "name": "stdout"
        },
        {
          "output_type": "stream",
          "text": [
            "___ batch index = 250 / 1836 (13.62%), loss = 0.5614, time = 12.80 secondes ___\n"
          ],
          "name": "stdout"
        },
        {
          "output_type": "stream",
          "text": [
            "___ batch index = 500 / 1836 (27.23%), loss = 0.5821, time = 12.37 secondes ___\n"
          ],
          "name": "stdout"
        },
        {
          "output_type": "stream",
          "text": [
            "___ batch index = 750 / 1836 (40.85%), loss = 0.5966, time = 11.46 secondes ___\n"
          ],
          "name": "stdout"
        },
        {
          "output_type": "stream",
          "text": [
            "___ batch index = 1000 / 1836 (54.47%), loss = 0.5457, time = 13.15 secondes ___\n"
          ],
          "name": "stdout"
        },
        {
          "output_type": "stream",
          "text": [
            "___ batch index = 1250 / 1836 (68.08%), loss = 0.5730, time = 11.86 secondes ___\n"
          ],
          "name": "stdout"
        },
        {
          "output_type": "stream",
          "text": [
            "___ batch index = 1500 / 1836 (81.70%), loss = 0.5707, time = 12.00 secondes ___\n"
          ],
          "name": "stdout"
        },
        {
          "output_type": "stream",
          "text": [
            "___ batch index = 1750 / 1836 (95.32%), loss = 0.5514, time = 13.12 secondes ___\n"
          ],
          "name": "stdout"
        },
        {
          "output_type": "stream",
          "text": [
            "\n",
            "*** avg_loss : 0.59, time : ~1.0 min (91.80 sec) ***\n",
            "\n"
          ],
          "name": "stdout"
        },
        {
          "output_type": "stream",
          "text": [
            "==> evaluation : avg_loss = 0.69, time : 29.55 sec\n",
            "\n",
            "threshold (g-mean):  1\n",
            "threshold (f1):  1\n",
            "=====>\t{'Positive Rate': 0.4332784184514003, 'max g_mean metrics': {'threshold': 1, 'accuracy': 0.5667215815485996, 'f1': 0.0, 'recall': 0.0, 'specificity': 1.0, 'g_mean': 0.0}, 'max f1 metrics': {'threshold': 1, 'accuracy': 0.5667215815485996, 'f1': 0.0, 'recall': 0.0, 'specificity': 1.0, 'g_mean': 0.0}, 'default_accuracy': 0.5667215815485996, 'default_f1': 0.0, 'default_recall': 0.0, 'default_specificity': 1.0, 'default_g_mean': 0.0}\n",
            "@@@@@@@@@@@@@@@@@@@@@@@@@@@@@@@@@@@@@@@@@@@@@ END @@@@@@@@@@@@@@@@@@@@@@@@@@@@@@@@@@@@@@@@@@@@@@@\n"
          ],
          "name": "stdout"
        },
        {
          "output_type": "stream",
          "text": [
            "xxxxxxxxxxxxxxxxxxxxxxxxxxxxxxxxxxxx END Para label:  Apoyo Terapeuta Ocupacional  (9) xxxxxxxxxxxxxxxxxxxxxxxxx\n",
            "#################################################### Para label:  Control Neurólogo  (10) ##############\n",
            "--------------------------------------lr: 1e-07-----------------------------\n",
            "+++++++++++++++++++++++++++++++++++++++++++++++++++ n layers: 1 ++++++++++++++++++++++++++++++++++++++++++++++++\n",
            "/////////////////////////////////////////// GA: 16 ///////////////////////////////////////////////////////\n"
          ],
          "name": "stdout"
        },
        {
          "output_type": "stream",
          "text": [
            "\n",
            "=============== EPOCH 1 / 8 ===============\n",
            "\n",
            "___ batch index = 0 / 1836 (0.00%), loss = 0.6678, time = 0.03 secondes ___\n"
          ],
          "name": "stdout"
        },
        {
          "output_type": "stream",
          "text": [
            "___ batch index = 250 / 1836 (13.62%), loss = 0.6893, time = 12.89 secondes ___\n"
          ],
          "name": "stdout"
        },
        {
          "output_type": "stream",
          "text": [
            "___ batch index = 500 / 1836 (27.23%), loss = 0.6834, time = 12.44 secondes ___\n"
          ],
          "name": "stdout"
        },
        {
          "output_type": "stream",
          "text": [
            "___ batch index = 750 / 1836 (40.85%), loss = 0.6732, time = 11.51 secondes ___\n"
          ],
          "name": "stdout"
        },
        {
          "output_type": "stream",
          "text": [
            "___ batch index = 1000 / 1836 (54.47%), loss = 0.6822, time = 13.21 secondes ___\n"
          ],
          "name": "stdout"
        },
        {
          "output_type": "stream",
          "text": [
            "___ batch index = 1250 / 1836 (68.08%), loss = 0.6817, time = 11.92 secondes ___\n"
          ],
          "name": "stdout"
        },
        {
          "output_type": "stream",
          "text": [
            "___ batch index = 1500 / 1836 (81.70%), loss = 0.6910, time = 12.05 secondes ___\n"
          ],
          "name": "stdout"
        },
        {
          "output_type": "stream",
          "text": [
            "___ batch index = 1750 / 1836 (95.32%), loss = 0.6835, time = 13.17 secondes ___\n"
          ],
          "name": "stdout"
        },
        {
          "output_type": "stream",
          "text": [
            "\n",
            "*** avg_loss : 0.68, time : ~1.0 min (92.24 sec) ***\n",
            "\n"
          ],
          "name": "stdout"
        },
        {
          "output_type": "stream",
          "text": [
            "==> evaluation : avg_loss = 0.69, time : 29.57 sec\n",
            "\n"
          ],
          "name": "stdout"
        },
        {
          "output_type": "stream",
          "text": [
            "threshold (g-mean):  0.0010916956186285273\n"
          ],
          "name": "stdout"
        },
        {
          "output_type": "stream",
          "text": [
            "threshold (f1):  0.0010916956186285273\n",
            "=====>\t{'Positive Rate': 0.4332784184514003, 'max g_mean metrics': {'threshold': 0.0010916956186285273, 'accuracy': 0.5551894563426688, 'f1': 0.26229508196721313, 'recall': 0.18250950570342206, 'specificity': 0.8401162790697675, 'g_mean': 0.39157273503963663}, 'max f1 metrics': {'threshold': 0.0010916956186285273, 'accuracy': 0.5551894563426688, 'f1': 0.26229508196721313, 'recall': 0.18250950570342206, 'specificity': 0.8401162790697675, 'g_mean': 0.39157273503963663}, 'default_accuracy': 0.5667215815485996, 'default_f1': 0.0, 'default_recall': 0.0, 'default_specificity': 1.0, 'default_g_mean': 0.0}\n",
            "\n",
            "=============== EPOCH 2 / 8 ===============\n",
            "\n",
            "___ batch index = 0 / 1836 (0.00%), loss = 0.6435, time = 0.03 secondes ___\n"
          ],
          "name": "stdout"
        },
        {
          "output_type": "stream",
          "text": [
            "___ batch index = 250 / 1836 (13.62%), loss = 0.6883, time = 12.88 secondes ___\n"
          ],
          "name": "stdout"
        },
        {
          "output_type": "stream",
          "text": [
            "___ batch index = 500 / 1836 (27.23%), loss = 0.6845, time = 12.43 secondes ___\n"
          ],
          "name": "stdout"
        },
        {
          "output_type": "stream",
          "text": [
            "___ batch index = 750 / 1836 (40.85%), loss = 0.6760, time = 11.50 secondes ___\n"
          ],
          "name": "stdout"
        },
        {
          "output_type": "stream",
          "text": [
            "___ batch index = 1000 / 1836 (54.47%), loss = 0.6812, time = 13.20 secondes ___\n"
          ],
          "name": "stdout"
        },
        {
          "output_type": "stream",
          "text": [
            "___ batch index = 1250 / 1836 (68.08%), loss = 0.6742, time = 11.91 secondes ___\n"
          ],
          "name": "stdout"
        },
        {
          "output_type": "stream",
          "text": [
            "___ batch index = 1500 / 1836 (81.70%), loss = 0.6866, time = 12.05 secondes ___\n"
          ],
          "name": "stdout"
        },
        {
          "output_type": "stream",
          "text": [
            "___ batch index = 1750 / 1836 (95.32%), loss = 0.6848, time = 13.16 secondes ___\n"
          ],
          "name": "stdout"
        },
        {
          "output_type": "stream",
          "text": [
            "\n",
            "*** avg_loss : 0.68, time : ~1.0 min (92.19 sec) ***\n",
            "\n"
          ],
          "name": "stdout"
        },
        {
          "output_type": "stream",
          "text": [
            "==> evaluation : avg_loss = 0.69, time : 29.52 sec\n",
            "\n"
          ],
          "name": "stdout"
        },
        {
          "output_type": "stream",
          "text": [
            "threshold (g-mean):  0.000501373291014937\n"
          ],
          "name": "stdout"
        },
        {
          "output_type": "stream",
          "text": [
            "threshold (f1):  0.000501373291014937\n",
            "=====>\t{'Positive Rate': 0.4332784184514003, 'max g_mean metrics': {'threshold': 0.000501373291014937, 'accuracy': 0.5535420098846787, 'f1': 0.2099125364431487, 'recall': 0.13688212927756654, 'specificity': 0.872093023255814, 'g_mean': 0.3455053544467382}, 'max f1 metrics': {'threshold': 0.000501373291014937, 'accuracy': 0.5535420098846787, 'f1': 0.2099125364431487, 'recall': 0.13688212927756654, 'specificity': 0.872093023255814, 'g_mean': 0.3455053544467382}, 'default_accuracy': 0.5667215815485996, 'default_f1': 0.0, 'default_recall': 0.0, 'default_specificity': 1.0, 'default_g_mean': 0.0}\n",
            "\n",
            "=============== EPOCH 3 / 8 ===============\n",
            "\n",
            "___ batch index = 0 / 1836 (0.00%), loss = 0.6646, time = 0.03 secondes ___\n"
          ],
          "name": "stdout"
        },
        {
          "output_type": "stream",
          "text": [
            "___ batch index = 250 / 1836 (13.62%), loss = 0.6773, time = 12.85 secondes ___\n"
          ],
          "name": "stdout"
        },
        {
          "output_type": "stream",
          "text": [
            "___ batch index = 500 / 1836 (27.23%), loss = 0.6767, time = 12.40 secondes ___\n"
          ],
          "name": "stdout"
        },
        {
          "output_type": "stream",
          "text": [
            "___ batch index = 750 / 1836 (40.85%), loss = 0.6710, time = 11.46 secondes ___\n"
          ],
          "name": "stdout"
        },
        {
          "output_type": "stream",
          "text": [
            "___ batch index = 1000 / 1836 (54.47%), loss = 0.6779, time = 13.10 secondes ___\n"
          ],
          "name": "stdout"
        },
        {
          "output_type": "stream",
          "text": [
            "___ batch index = 1250 / 1836 (68.08%), loss = 0.6697, time = 11.79 secondes ___\n"
          ],
          "name": "stdout"
        },
        {
          "output_type": "stream",
          "text": [
            "___ batch index = 1500 / 1836 (81.70%), loss = 0.6781, time = 11.92 secondes ___\n"
          ],
          "name": "stdout"
        },
        {
          "output_type": "stream",
          "text": [
            "___ batch index = 1750 / 1836 (95.32%), loss = 0.6832, time = 13.05 secondes ___\n"
          ],
          "name": "stdout"
        },
        {
          "output_type": "stream",
          "text": [
            "\n",
            "*** avg_loss : 0.67, time : ~1.0 min (91.58 sec) ***\n",
            "\n"
          ],
          "name": "stdout"
        },
        {
          "output_type": "stream",
          "text": [
            "==> evaluation : avg_loss = 0.69, time : 29.26 sec\n",
            "\n"
          ],
          "name": "stdout"
        },
        {
          "output_type": "stream",
          "text": [
            "threshold (g-mean):  0.0006903474926944046\n"
          ],
          "name": "stdout"
        },
        {
          "output_type": "stream",
          "text": [
            "threshold (f1):  0.0006903474926944046\n",
            "=====>\t{'Positive Rate': 0.4332784184514003, 'max g_mean metrics': {'threshold': 0.0006903474926944046, 'accuracy': 0.5485996705107083, 'f1': 0.15950920245398773, 'recall': 0.09885931558935361, 'specificity': 0.8924418604651163, 'g_mean': 0.29702894055776924}, 'max f1 metrics': {'threshold': 0.0006903474926944046, 'accuracy': 0.5485996705107083, 'f1': 0.15950920245398773, 'recall': 0.09885931558935361, 'specificity': 0.8924418604651163, 'g_mean': 0.29702894055776924}, 'default_accuracy': 0.5667215815485996, 'default_f1': 0.0, 'default_recall': 0.0, 'default_specificity': 1.0, 'default_g_mean': 0.0}\n",
            "\n",
            "=============== EPOCH 4 / 8 ===============\n",
            "\n",
            "___ batch index = 0 / 1836 (0.00%), loss = 0.6626, time = 0.03 secondes ___\n"
          ],
          "name": "stdout"
        },
        {
          "output_type": "stream",
          "text": [
            "___ batch index = 250 / 1836 (13.62%), loss = 0.6776, time = 12.77 secondes ___\n"
          ],
          "name": "stdout"
        },
        {
          "output_type": "stream",
          "text": [
            "___ batch index = 500 / 1836 (27.23%), loss = 0.6769, time = 12.32 secondes ___\n"
          ],
          "name": "stdout"
        },
        {
          "output_type": "stream",
          "text": [
            "___ batch index = 750 / 1836 (40.85%), loss = 0.6651, time = 11.38 secondes ___\n"
          ],
          "name": "stdout"
        },
        {
          "output_type": "stream",
          "text": [
            "___ batch index = 1000 / 1836 (54.47%), loss = 0.6738, time = 13.07 secondes ___\n"
          ],
          "name": "stdout"
        },
        {
          "output_type": "stream",
          "text": [
            "___ batch index = 1250 / 1836 (68.08%), loss = 0.6626, time = 11.80 secondes ___\n"
          ],
          "name": "stdout"
        },
        {
          "output_type": "stream",
          "text": [
            "___ batch index = 1500 / 1836 (81.70%), loss = 0.6771, time = 11.92 secondes ___\n"
          ],
          "name": "stdout"
        },
        {
          "output_type": "stream",
          "text": [
            "___ batch index = 1750 / 1836 (95.32%), loss = 0.6697, time = 13.04 secondes ___\n"
          ],
          "name": "stdout"
        },
        {
          "output_type": "stream",
          "text": [
            "\n",
            "*** avg_loss : 0.67, time : ~1.0 min (91.31 sec) ***\n",
            "\n"
          ],
          "name": "stdout"
        },
        {
          "output_type": "stream",
          "text": [
            "==> evaluation : avg_loss = 0.69, time : 29.28 sec\n",
            "\n"
          ],
          "name": "stdout"
        },
        {
          "output_type": "stream",
          "text": [
            "threshold (g-mean):  0.00015416277646996906\n"
          ],
          "name": "stdout"
        },
        {
          "output_type": "stream",
          "text": [
            "threshold (f1):  0.00015416277646996906\n",
            "=====>\t{'Positive Rate': 0.4332784184514003, 'max g_mean metrics': {'threshold': 0.00015416277646996906, 'accuracy': 0.5518945634266886, 'f1': 0.12258064516129032, 'recall': 0.07224334600760456, 'specificity': 0.9186046511627907, 'g_mean': 0.2576103135709989}, 'max f1 metrics': {'threshold': 0.00015416277646996906, 'accuracy': 0.5518945634266886, 'f1': 0.12258064516129032, 'recall': 0.07224334600760456, 'specificity': 0.9186046511627907, 'g_mean': 0.2576103135709989}, 'default_accuracy': 0.5667215815485996, 'default_f1': 0.0, 'default_recall': 0.0, 'default_specificity': 1.0, 'default_g_mean': 0.0}\n",
            "\n",
            "=============== EPOCH 5 / 8 ===============\n",
            "\n",
            "___ batch index = 0 / 1836 (0.00%), loss = 0.6547, time = 0.03 secondes ___\n"
          ],
          "name": "stdout"
        },
        {
          "output_type": "stream",
          "text": [
            "___ batch index = 250 / 1836 (13.62%), loss = 0.6743, time = 12.82 secondes ___\n"
          ],
          "name": "stdout"
        },
        {
          "output_type": "stream",
          "text": [
            "___ batch index = 500 / 1836 (27.23%), loss = 0.6682, time = 12.37 secondes ___\n"
          ],
          "name": "stdout"
        },
        {
          "output_type": "stream",
          "text": [
            "___ batch index = 750 / 1836 (40.85%), loss = 0.6653, time = 11.45 secondes ___\n"
          ],
          "name": "stdout"
        },
        {
          "output_type": "stream",
          "text": [
            "___ batch index = 1000 / 1836 (54.47%), loss = 0.6703, time = 13.14 secondes ___\n"
          ],
          "name": "stdout"
        },
        {
          "output_type": "stream",
          "text": [
            "___ batch index = 1250 / 1836 (68.08%), loss = 0.6653, time = 11.86 secondes ___\n"
          ],
          "name": "stdout"
        },
        {
          "output_type": "stream",
          "text": [
            "___ batch index = 1500 / 1836 (81.70%), loss = 0.6751, time = 11.99 secondes ___\n"
          ],
          "name": "stdout"
        },
        {
          "output_type": "stream",
          "text": [
            "___ batch index = 1750 / 1836 (95.32%), loss = 0.6671, time = 13.12 secondes ___\n"
          ],
          "name": "stdout"
        },
        {
          "output_type": "stream",
          "text": [
            "\n",
            "*** avg_loss : 0.67, time : ~1.0 min (91.78 sec) ***\n",
            "\n"
          ],
          "name": "stdout"
        },
        {
          "output_type": "stream",
          "text": [
            "==> evaluation : avg_loss = 0.69, time : 29.43 sec\n",
            "\n"
          ],
          "name": "stdout"
        },
        {
          "output_type": "stream",
          "text": [
            "threshold (g-mean):  0.0016970957756042681\n"
          ],
          "name": "stdout"
        },
        {
          "output_type": "stream",
          "text": [
            "threshold (f1):  0.0016970957756042681\n",
            "=====>\t{'Positive Rate': 0.4332784184514003, 'max g_mean metrics': {'threshold': 0.0016970957756042681, 'accuracy': 0.556836902800659, 'f1': 0.08813559322033898, 'recall': 0.049429657794676805, 'specificity': 0.9447674418604651, 'g_mean': 0.2161007435126381}, 'max f1 metrics': {'threshold': 0.0016970957756042681, 'accuracy': 0.556836902800659, 'f1': 0.08813559322033898, 'recall': 0.049429657794676805, 'specificity': 0.9447674418604651, 'g_mean': 0.2161007435126381}, 'default_accuracy': 0.5667215815485996, 'default_f1': 0.0, 'default_recall': 0.0, 'default_specificity': 1.0, 'default_g_mean': 0.0}\n",
            "\n",
            "=============== EPOCH 6 / 8 ===============\n",
            "\n",
            "___ batch index = 0 / 1836 (0.00%), loss = 0.6383, time = 0.03 secondes ___\n"
          ],
          "name": "stdout"
        },
        {
          "output_type": "stream",
          "text": [
            "___ batch index = 250 / 1836 (13.62%), loss = 0.6673, time = 12.83 secondes ___\n"
          ],
          "name": "stdout"
        },
        {
          "output_type": "stream",
          "text": [
            "___ batch index = 500 / 1836 (27.23%), loss = 0.6692, time = 12.38 secondes ___\n"
          ],
          "name": "stdout"
        },
        {
          "output_type": "stream",
          "text": [
            "___ batch index = 750 / 1836 (40.85%), loss = 0.6656, time = 11.46 secondes ___\n"
          ],
          "name": "stdout"
        },
        {
          "output_type": "stream",
          "text": [
            "___ batch index = 1000 / 1836 (54.47%), loss = 0.6689, time = 13.15 secondes ___\n"
          ],
          "name": "stdout"
        },
        {
          "output_type": "stream",
          "text": [
            "___ batch index = 1250 / 1836 (68.08%), loss = 0.6570, time = 11.86 secondes ___\n"
          ],
          "name": "stdout"
        },
        {
          "output_type": "stream",
          "text": [
            "___ batch index = 1500 / 1836 (81.70%), loss = 0.6685, time = 12.00 secondes ___\n"
          ],
          "name": "stdout"
        },
        {
          "output_type": "stream",
          "text": [
            "___ batch index = 1750 / 1836 (95.32%), loss = 0.6616, time = 13.12 secondes ___\n"
          ],
          "name": "stdout"
        },
        {
          "output_type": "stream",
          "text": [
            "\n",
            "*** avg_loss : 0.66, time : ~1.0 min (91.84 sec) ***\n",
            "\n"
          ],
          "name": "stdout"
        },
        {
          "output_type": "stream",
          "text": [
            "==> evaluation : avg_loss = 0.69, time : 29.46 sec\n",
            "\n"
          ],
          "name": "stdout"
        },
        {
          "output_type": "stream",
          "text": [
            "threshold (g-mean):  1.8699455261340215e-05\n"
          ],
          "name": "stdout"
        },
        {
          "output_type": "stream",
          "text": [
            "threshold (f1):  1.8699455261340215e-05\n",
            "=====>\t{'Positive Rate': 0.4332784184514003, 'max g_mean metrics': {'threshold': 1.8699455261340215e-05, 'accuracy': 0.5584843492586491, 'f1': 0.06293706293706294, 'recall': 0.034220532319391636, 'specificity': 0.9593023255813954, 'g_mean': 0.1811845364169517}, 'max f1 metrics': {'threshold': 1.8699455261340215e-05, 'accuracy': 0.5584843492586491, 'f1': 0.06293706293706294, 'recall': 0.034220532319391636, 'specificity': 0.9593023255813954, 'g_mean': 0.1811845364169517}, 'default_accuracy': 0.5667215815485996, 'default_f1': 0.0, 'default_recall': 0.0, 'default_specificity': 1.0, 'default_g_mean': 0.0}\n",
            "\n",
            "=============== EPOCH 7 / 8 ===============\n",
            "\n",
            "___ batch index = 0 / 1836 (0.00%), loss = 0.6369, time = 0.03 secondes ___\n"
          ],
          "name": "stdout"
        },
        {
          "output_type": "stream",
          "text": [
            "___ batch index = 250 / 1836 (13.62%), loss = 0.6654, time = 12.79 secondes ___\n"
          ],
          "name": "stdout"
        },
        {
          "output_type": "stream",
          "text": [
            "___ batch index = 500 / 1836 (27.23%), loss = 0.6653, time = 12.39 secondes ___\n"
          ],
          "name": "stdout"
        },
        {
          "output_type": "stream",
          "text": [
            "___ batch index = 750 / 1836 (40.85%), loss = 0.6570, time = 11.46 secondes ___\n"
          ],
          "name": "stdout"
        },
        {
          "output_type": "stream",
          "text": [
            "___ batch index = 1000 / 1836 (54.47%), loss = 0.6605, time = 13.16 secondes ___\n"
          ],
          "name": "stdout"
        },
        {
          "output_type": "stream",
          "text": [
            "___ batch index = 1250 / 1836 (68.08%), loss = 0.6579, time = 11.87 secondes ___\n"
          ],
          "name": "stdout"
        },
        {
          "output_type": "stream",
          "text": [
            "___ batch index = 1500 / 1836 (81.70%), loss = 0.6708, time = 11.98 secondes ___\n"
          ],
          "name": "stdout"
        },
        {
          "output_type": "stream",
          "text": [
            "___ batch index = 1750 / 1836 (95.32%), loss = 0.6586, time = 13.06 secondes ___\n"
          ],
          "name": "stdout"
        },
        {
          "output_type": "stream",
          "text": [
            "\n",
            "*** avg_loss : 0.66, time : ~1.0 min (91.73 sec) ***\n",
            "\n"
          ],
          "name": "stdout"
        },
        {
          "output_type": "stream",
          "text": [
            "==> evaluation : avg_loss = 0.69, time : 29.32 sec\n",
            "\n"
          ],
          "name": "stdout"
        },
        {
          "output_type": "stream",
          "text": [
            "threshold (g-mean):  0.0003189365625382083\n"
          ],
          "name": "stdout"
        },
        {
          "output_type": "stream",
          "text": [
            "threshold (f1):  0.0003189365625382083\n",
            "=====>\t{'Positive Rate': 0.4332784184514003, 'max g_mean metrics': {'threshold': 0.0003189365625382083, 'accuracy': 0.5601317957166392, 'f1': 0.036101083032490974, 'recall': 0.019011406844106463, 'specificity': 0.9738372093023255, 'g_mean': 0.13606621691652845}, 'max f1 metrics': {'threshold': 0.0003189365625382083, 'accuracy': 0.5601317957166392, 'f1': 0.036101083032490974, 'recall': 0.019011406844106463, 'specificity': 0.9738372093023255, 'g_mean': 0.13606621691652845}, 'default_accuracy': 0.5667215815485996, 'default_f1': 0.0, 'default_recall': 0.0, 'default_specificity': 1.0, 'default_g_mean': 0.0}\n",
            "\n",
            "=============== EPOCH 8 / 8 ===============\n",
            "\n",
            "___ batch index = 0 / 1836 (0.00%), loss = 0.6362, time = 0.03 secondes ___\n"
          ],
          "name": "stdout"
        },
        {
          "output_type": "stream",
          "text": [
            "___ batch index = 250 / 1836 (13.62%), loss = 0.6654, time = 12.70 secondes ___\n"
          ],
          "name": "stdout"
        },
        {
          "output_type": "stream",
          "text": [
            "___ batch index = 500 / 1836 (27.23%), loss = 0.6653, time = 12.30 secondes ___\n"
          ],
          "name": "stdout"
        },
        {
          "output_type": "stream",
          "text": [
            "___ batch index = 750 / 1836 (40.85%), loss = 0.6525, time = 11.38 secondes ___\n"
          ],
          "name": "stdout"
        },
        {
          "output_type": "stream",
          "text": [
            "___ batch index = 1000 / 1836 (54.47%), loss = 0.6630, time = 13.08 secondes ___\n"
          ],
          "name": "stdout"
        },
        {
          "output_type": "stream",
          "text": [
            "___ batch index = 1250 / 1836 (68.08%), loss = 0.6532, time = 11.79 secondes ___\n"
          ],
          "name": "stdout"
        },
        {
          "output_type": "stream",
          "text": [
            "___ batch index = 1500 / 1836 (81.70%), loss = 0.6668, time = 11.92 secondes ___\n"
          ],
          "name": "stdout"
        },
        {
          "output_type": "stream",
          "text": [
            "___ batch index = 1750 / 1836 (95.32%), loss = 0.6585, time = 13.05 secondes ___\n"
          ],
          "name": "stdout"
        },
        {
          "output_type": "stream",
          "text": [
            "\n",
            "*** avg_loss : 0.66, time : ~1.0 min (91.23 sec) ***\n",
            "\n"
          ],
          "name": "stdout"
        },
        {
          "output_type": "stream",
          "text": [
            "==> evaluation : avg_loss = 0.69, time : 29.32 sec\n",
            "\n"
          ],
          "name": "stdout"
        },
        {
          "output_type": "stream",
          "text": [
            "threshold (g-mean):  0.006088009583950059\n"
          ],
          "name": "stdout"
        },
        {
          "output_type": "stream",
          "text": [
            "threshold (f1):  0.006088009583950059\n",
            "=====>\t{'Positive Rate': 0.4332784184514003, 'max g_mean metrics': {'threshold': 0.006088009583950059, 'accuracy': 0.5667215815485996, 'f1': 0.014981273408239702, 'recall': 0.0076045627376425855, 'specificity': 0.9941860465116279, 'g_mean': 0.08695027408574699}, 'max f1 metrics': {'threshold': 0.006088009583950059, 'accuracy': 0.5667215815485996, 'f1': 0.014981273408239702, 'recall': 0.0076045627376425855, 'specificity': 0.9941860465116279, 'g_mean': 0.08695027408574699}, 'default_accuracy': 0.5667215815485996, 'default_f1': 0.0, 'default_recall': 0.0, 'default_specificity': 1.0, 'default_g_mean': 0.0}\n",
            "@@@@@@@@@@@@@@@@@@@@@@@@@@@@@@@@@@@@@@@@@@@@@ END @@@@@@@@@@@@@@@@@@@@@@@@@@@@@@@@@@@@@@@@@@@@@@@\n",
            "--------------------------------------lr: 1e-06-----------------------------\n",
            "+++++++++++++++++++++++++++++++++++++++++++++++++++ n layers: 1 ++++++++++++++++++++++++++++++++++++++++++++++++\n",
            "/////////////////////////////////////////// GA: 16 ///////////////////////////////////////////////////////\n",
            "\n",
            "=============== EPOCH 1 / 8 ===============\n",
            "\n",
            "___ batch index = 0 / 1836 (0.00%), loss = 0.7018, time = 0.03 secondes ___\n"
          ],
          "name": "stdout"
        },
        {
          "output_type": "stream",
          "text": [
            "___ batch index = 250 / 1836 (13.62%), loss = 0.6700, time = 12.70 secondes ___\n"
          ],
          "name": "stdout"
        },
        {
          "output_type": "stream",
          "text": [
            "___ batch index = 500 / 1836 (27.23%), loss = 0.6718, time = 12.29 secondes ___\n"
          ],
          "name": "stdout"
        },
        {
          "output_type": "stream",
          "text": [
            "___ batch index = 750 / 1836 (40.85%), loss = 0.6693, time = 11.39 secondes ___\n"
          ],
          "name": "stdout"
        },
        {
          "output_type": "stream",
          "text": [
            "___ batch index = 1000 / 1836 (54.47%), loss = 0.6444, time = 13.08 secondes ___\n"
          ],
          "name": "stdout"
        },
        {
          "output_type": "stream",
          "text": [
            "___ batch index = 1250 / 1836 (68.08%), loss = 0.6375, time = 11.79 secondes ___\n"
          ],
          "name": "stdout"
        },
        {
          "output_type": "stream",
          "text": [
            "___ batch index = 1500 / 1836 (81.70%), loss = 0.6391, time = 11.93 secondes ___\n"
          ],
          "name": "stdout"
        },
        {
          "output_type": "stream",
          "text": [
            "___ batch index = 1750 / 1836 (95.32%), loss = 0.6205, time = 13.05 secondes ___\n"
          ],
          "name": "stdout"
        },
        {
          "output_type": "stream",
          "text": [
            "\n",
            "*** avg_loss : 0.65, time : ~1.0 min (91.24 sec) ***\n",
            "\n"
          ],
          "name": "stdout"
        },
        {
          "output_type": "stream",
          "text": [
            "==> evaluation : avg_loss = 0.69, time : 29.32 sec\n",
            "\n",
            "threshold (g-mean):  1\n",
            "threshold (f1):  1\n",
            "=====>\t{'Positive Rate': 0.4332784184514003, 'max g_mean metrics': {'threshold': 1, 'accuracy': 0.5667215815485996, 'f1': 0.0, 'recall': 0.0, 'specificity': 1.0, 'g_mean': 0.0}, 'max f1 metrics': {'threshold': 1, 'accuracy': 0.5667215815485996, 'f1': 0.0, 'recall': 0.0, 'specificity': 1.0, 'g_mean': 0.0}, 'default_accuracy': 0.5667215815485996, 'default_f1': 0.0, 'default_recall': 0.0, 'default_specificity': 1.0, 'default_g_mean': 0.0}\n",
            "\n",
            "=============== EPOCH 2 / 8 ===============\n",
            "\n",
            "___ batch index = 0 / 1836 (0.00%), loss = 0.6350, time = 0.03 secondes ___\n"
          ],
          "name": "stdout"
        },
        {
          "output_type": "stream",
          "text": [
            "___ batch index = 250 / 1836 (13.62%), loss = 0.6188, time = 12.71 secondes ___\n"
          ],
          "name": "stdout"
        },
        {
          "output_type": "stream",
          "text": [
            "___ batch index = 500 / 1836 (27.23%), loss = 0.6276, time = 12.27 secondes ___\n"
          ],
          "name": "stdout"
        },
        {
          "output_type": "stream",
          "text": [
            "___ batch index = 750 / 1836 (40.85%), loss = 0.6226, time = 11.39 secondes ___\n"
          ],
          "name": "stdout"
        },
        {
          "output_type": "stream",
          "text": [
            "___ batch index = 1000 / 1836 (54.47%), loss = 0.5937, time = 13.07 secondes ___\n"
          ],
          "name": "stdout"
        },
        {
          "output_type": "stream",
          "text": [
            "___ batch index = 1250 / 1836 (68.08%), loss = 0.5881, time = 11.79 secondes ___\n"
          ],
          "name": "stdout"
        },
        {
          "output_type": "stream",
          "text": [
            "___ batch index = 1500 / 1836 (81.70%), loss = 0.5976, time = 11.92 secondes ___\n"
          ],
          "name": "stdout"
        },
        {
          "output_type": "stream",
          "text": [
            "___ batch index = 1750 / 1836 (95.32%), loss = 0.5789, time = 13.05 secondes ___\n"
          ],
          "name": "stdout"
        },
        {
          "output_type": "stream",
          "text": [
            "\n",
            "*** avg_loss : 0.61, time : ~1.0 min (91.20 sec) ***\n",
            "\n"
          ],
          "name": "stdout"
        },
        {
          "output_type": "stream",
          "text": [
            "==> evaluation : avg_loss = 0.69, time : 29.36 sec\n",
            "\n",
            "threshold (g-mean):  1\n",
            "threshold (f1):  1\n",
            "=====>\t{'Positive Rate': 0.4332784184514003, 'max g_mean metrics': {'threshold': 1, 'accuracy': 0.5667215815485996, 'f1': 0.0, 'recall': 0.0, 'specificity': 1.0, 'g_mean': 0.0}, 'max f1 metrics': {'threshold': 1, 'accuracy': 0.5667215815485996, 'f1': 0.0, 'recall': 0.0, 'specificity': 1.0, 'g_mean': 0.0}, 'default_accuracy': 0.5667215815485996, 'default_f1': 0.0, 'default_recall': 0.0, 'default_specificity': 1.0, 'default_g_mean': 0.0}\n",
            "\n",
            "=============== EPOCH 3 / 8 ===============\n",
            "\n",
            "___ batch index = 0 / 1836 (0.00%), loss = 0.6117, time = 0.03 secondes ___\n"
          ],
          "name": "stdout"
        },
        {
          "output_type": "stream",
          "text": [
            "___ batch index = 250 / 1836 (13.62%), loss = 0.5781, time = 12.72 secondes ___\n"
          ],
          "name": "stdout"
        },
        {
          "output_type": "stream",
          "text": [
            "___ batch index = 500 / 1836 (27.23%), loss = 0.5894, time = 12.28 secondes ___\n"
          ],
          "name": "stdout"
        },
        {
          "output_type": "stream",
          "text": [
            "___ batch index = 750 / 1836 (40.85%), loss = 0.5870, time = 11.36 secondes ___\n"
          ],
          "name": "stdout"
        },
        {
          "output_type": "stream",
          "text": [
            "___ batch index = 1000 / 1836 (54.47%), loss = 0.5559, time = 13.09 secondes ___\n"
          ],
          "name": "stdout"
        },
        {
          "output_type": "stream",
          "text": [
            "___ batch index = 1250 / 1836 (68.08%), loss = 0.5443, time = 11.81 secondes ___\n"
          ],
          "name": "stdout"
        },
        {
          "output_type": "stream",
          "text": [
            "___ batch index = 1500 / 1836 (81.70%), loss = 0.5587, time = 11.94 secondes ___\n"
          ],
          "name": "stdout"
        },
        {
          "output_type": "stream",
          "text": [
            "___ batch index = 1750 / 1836 (95.32%), loss = 0.5265, time = 13.06 secondes ___\n"
          ],
          "name": "stdout"
        },
        {
          "output_type": "stream",
          "text": [
            "\n",
            "*** avg_loss : 0.57, time : ~1.0 min (91.27 sec) ***\n",
            "\n"
          ],
          "name": "stdout"
        },
        {
          "output_type": "stream",
          "text": [
            "==> evaluation : avg_loss = 0.69, time : 29.39 sec\n",
            "\n",
            "threshold (g-mean):  1\n",
            "threshold (f1):  1\n",
            "=====>\t{'Positive Rate': 0.4332784184514003, 'max g_mean metrics': {'threshold': 1, 'accuracy': 0.5667215815485996, 'f1': 0.0, 'recall': 0.0, 'specificity': 1.0, 'g_mean': 0.0}, 'max f1 metrics': {'threshold': 1, 'accuracy': 0.5667215815485996, 'f1': 0.0, 'recall': 0.0, 'specificity': 1.0, 'g_mean': 0.0}, 'default_accuracy': 0.5667215815485996, 'default_f1': 0.0, 'default_recall': 0.0, 'default_specificity': 1.0, 'default_g_mean': 0.0}\n",
            "\n",
            "=============== EPOCH 4 / 8 ===============\n",
            "\n",
            "___ batch index = 0 / 1836 (0.00%), loss = 0.5728, time = 0.03 secondes ___\n"
          ],
          "name": "stdout"
        },
        {
          "output_type": "stream",
          "text": [
            "___ batch index = 250 / 1836 (13.62%), loss = 0.5377, time = 12.73 secondes ___\n"
          ],
          "name": "stdout"
        },
        {
          "output_type": "stream",
          "text": [
            "___ batch index = 500 / 1836 (27.23%), loss = 0.5474, time = 12.29 secondes ___\n"
          ],
          "name": "stdout"
        },
        {
          "output_type": "stream",
          "text": [
            "___ batch index = 750 / 1836 (40.85%), loss = 0.5435, time = 11.36 secondes ___\n"
          ],
          "name": "stdout"
        },
        {
          "output_type": "stream",
          "text": [
            "___ batch index = 1000 / 1836 (54.47%), loss = 0.5112, time = 13.11 secondes ___\n"
          ],
          "name": "stdout"
        },
        {
          "output_type": "stream",
          "text": [
            "___ batch index = 1250 / 1836 (68.08%), loss = 0.5053, time = 11.82 secondes ___\n"
          ],
          "name": "stdout"
        },
        {
          "output_type": "stream",
          "text": [
            "___ batch index = 1500 / 1836 (81.70%), loss = 0.5210, time = 11.95 secondes ___\n"
          ],
          "name": "stdout"
        },
        {
          "output_type": "stream",
          "text": [
            "___ batch index = 1750 / 1836 (95.32%), loss = 0.4954, time = 13.08 secondes ___\n"
          ],
          "name": "stdout"
        },
        {
          "output_type": "stream",
          "text": [
            "\n",
            "*** avg_loss : 0.53, time : ~1.0 min (91.35 sec) ***\n",
            "\n"
          ],
          "name": "stdout"
        },
        {
          "output_type": "stream",
          "text": [
            "==> evaluation : avg_loss = 0.69, time : 29.45 sec\n",
            "\n",
            "threshold (g-mean):  1\n",
            "threshold (f1):  1\n",
            "=====>\t{'Positive Rate': 0.4332784184514003, 'max g_mean metrics': {'threshold': 1, 'accuracy': 0.5667215815485996, 'f1': 0.0, 'recall': 0.0, 'specificity': 1.0, 'g_mean': 0.0}, 'max f1 metrics': {'threshold': 1, 'accuracy': 0.5667215815485996, 'f1': 0.0, 'recall': 0.0, 'specificity': 1.0, 'g_mean': 0.0}, 'default_accuracy': 0.5667215815485996, 'default_f1': 0.0, 'default_recall': 0.0, 'default_specificity': 1.0, 'default_g_mean': 0.0}\n",
            "\n",
            "=============== EPOCH 5 / 8 ===============\n",
            "\n",
            "___ batch index = 0 / 1836 (0.00%), loss = 0.5358, time = 0.03 secondes ___\n"
          ],
          "name": "stdout"
        },
        {
          "output_type": "stream",
          "text": [
            "___ batch index = 250 / 1836 (13.62%), loss = 0.4979, time = 12.77 secondes ___\n"
          ],
          "name": "stdout"
        },
        {
          "output_type": "stream",
          "text": [
            "___ batch index = 500 / 1836 (27.23%), loss = 0.5098, time = 12.31 secondes ___\n"
          ],
          "name": "stdout"
        },
        {
          "output_type": "stream",
          "text": [
            "___ batch index = 750 / 1836 (40.85%), loss = 0.5157, time = 11.39 secondes ___\n"
          ],
          "name": "stdout"
        },
        {
          "output_type": "stream",
          "text": [
            "___ batch index = 1000 / 1836 (54.47%), loss = 0.4661, time = 13.07 secondes ___\n"
          ],
          "name": "stdout"
        },
        {
          "output_type": "stream",
          "text": [
            "___ batch index = 1250 / 1836 (68.08%), loss = 0.4725, time = 11.81 secondes ___\n"
          ],
          "name": "stdout"
        },
        {
          "output_type": "stream",
          "text": [
            "___ batch index = 1500 / 1836 (81.70%), loss = 0.4859, time = 11.95 secondes ___\n"
          ],
          "name": "stdout"
        },
        {
          "output_type": "stream",
          "text": [
            "___ batch index = 1750 / 1836 (95.32%), loss = 0.4546, time = 13.08 secondes ___\n"
          ],
          "name": "stdout"
        },
        {
          "output_type": "stream",
          "text": [
            "\n",
            "*** avg_loss : 0.50, time : ~1.0 min (91.39 sec) ***\n",
            "\n"
          ],
          "name": "stdout"
        },
        {
          "output_type": "stream",
          "text": [
            "==> evaluation : avg_loss = 0.70, time : 29.44 sec\n",
            "\n",
            "threshold (g-mean):  1\n",
            "threshold (f1):  1\n",
            "=====>\t{'Positive Rate': 0.4332784184514003, 'max g_mean metrics': {'threshold': 1, 'accuracy': 0.5667215815485996, 'f1': 0.0, 'recall': 0.0, 'specificity': 1.0, 'g_mean': 0.0}, 'max f1 metrics': {'threshold': 1, 'accuracy': 0.5667215815485996, 'f1': 0.0, 'recall': 0.0, 'specificity': 1.0, 'g_mean': 0.0}, 'default_accuracy': 0.5667215815485996, 'default_f1': 0.0, 'default_recall': 0.0, 'default_specificity': 1.0, 'default_g_mean': 0.0}\n",
            "\n",
            "=============== EPOCH 6 / 8 ===============\n",
            "\n",
            "___ batch index = 0 / 1836 (0.00%), loss = 0.5375, time = 0.03 secondes ___\n"
          ],
          "name": "stdout"
        },
        {
          "output_type": "stream",
          "text": [
            "___ batch index = 250 / 1836 (13.62%), loss = 0.4692, time = 12.77 secondes ___\n"
          ],
          "name": "stdout"
        },
        {
          "output_type": "stream",
          "text": [
            "___ batch index = 500 / 1836 (27.23%), loss = 0.4731, time = 12.30 secondes ___\n"
          ],
          "name": "stdout"
        },
        {
          "output_type": "stream",
          "text": [
            "___ batch index = 750 / 1836 (40.85%), loss = 0.4841, time = 11.43 secondes ___\n"
          ],
          "name": "stdout"
        },
        {
          "output_type": "stream",
          "text": [
            "___ batch index = 1000 / 1836 (54.47%), loss = 0.4380, time = 13.11 secondes ___\n"
          ],
          "name": "stdout"
        },
        {
          "output_type": "stream",
          "text": [
            "___ batch index = 1250 / 1836 (68.08%), loss = 0.4349, time = 11.83 secondes ___\n"
          ],
          "name": "stdout"
        },
        {
          "output_type": "stream",
          "text": [
            "___ batch index = 1500 / 1836 (81.70%), loss = 0.4576, time = 12.00 secondes ___\n"
          ],
          "name": "stdout"
        },
        {
          "output_type": "stream",
          "text": [
            "___ batch index = 1750 / 1836 (95.32%), loss = 0.4207, time = 13.13 secondes ___\n"
          ],
          "name": "stdout"
        },
        {
          "output_type": "stream",
          "text": [
            "\n",
            "*** avg_loss : 0.47, time : ~1.0 min (91.60 sec) ***\n",
            "\n"
          ],
          "name": "stdout"
        },
        {
          "output_type": "stream",
          "text": [
            "==> evaluation : avg_loss = 0.71, time : 29.52 sec\n",
            "\n",
            "threshold (g-mean):  1\n",
            "threshold (f1):  1\n",
            "=====>\t{'Positive Rate': 0.4332784184514003, 'max g_mean metrics': {'threshold': 1, 'accuracy': 0.5667215815485996, 'f1': 0.0, 'recall': 0.0, 'specificity': 1.0, 'g_mean': 0.0}, 'max f1 metrics': {'threshold': 1, 'accuracy': 0.5667215815485996, 'f1': 0.0, 'recall': 0.0, 'specificity': 1.0, 'g_mean': 0.0}, 'default_accuracy': 0.5667215815485996, 'default_f1': 0.0, 'default_recall': 0.0, 'default_specificity': 1.0, 'default_g_mean': 0.0}\n",
            "\n",
            "=============== EPOCH 7 / 8 ===============\n",
            "\n",
            "___ batch index = 0 / 1836 (0.00%), loss = 0.5139, time = 0.03 secondes ___\n"
          ],
          "name": "stdout"
        },
        {
          "output_type": "stream",
          "text": [
            "___ batch index = 250 / 1836 (13.62%), loss = 0.4368, time = 12.86 secondes ___\n"
          ],
          "name": "stdout"
        },
        {
          "output_type": "stream",
          "text": [
            "___ batch index = 500 / 1836 (27.23%), loss = 0.4437, time = 12.43 secondes ___\n"
          ],
          "name": "stdout"
        },
        {
          "output_type": "stream",
          "text": [
            "___ batch index = 750 / 1836 (40.85%), loss = 0.4600, time = 11.48 secondes ___\n"
          ],
          "name": "stdout"
        },
        {
          "output_type": "stream",
          "text": [
            "___ batch index = 1000 / 1836 (54.47%), loss = 0.4004, time = 13.17 secondes ___\n"
          ],
          "name": "stdout"
        },
        {
          "output_type": "stream",
          "text": [
            "___ batch index = 1250 / 1836 (68.08%), loss = 0.3998, time = 11.85 secondes ___\n"
          ],
          "name": "stdout"
        },
        {
          "output_type": "stream",
          "text": [
            "___ batch index = 1500 / 1836 (81.70%), loss = 0.4310, time = 12.04 secondes ___\n"
          ],
          "name": "stdout"
        },
        {
          "output_type": "stream",
          "text": [
            "___ batch index = 1750 / 1836 (95.32%), loss = 0.3898, time = 13.17 secondes ___\n"
          ],
          "name": "stdout"
        },
        {
          "output_type": "stream",
          "text": [
            "\n",
            "*** avg_loss : 0.44, time : ~1.0 min (92.07 sec) ***\n",
            "\n"
          ],
          "name": "stdout"
        },
        {
          "output_type": "stream",
          "text": [
            "==> evaluation : avg_loss = 0.72, time : 29.63 sec\n",
            "\n",
            "threshold (g-mean):  1\n",
            "threshold (f1):  1\n",
            "=====>\t{'Positive Rate': 0.4332784184514003, 'max g_mean metrics': {'threshold': 1, 'accuracy': 0.5667215815485996, 'f1': 0.0, 'recall': 0.0, 'specificity': 1.0, 'g_mean': 0.0}, 'max f1 metrics': {'threshold': 1, 'accuracy': 0.5667215815485996, 'f1': 0.0, 'recall': 0.0, 'specificity': 1.0, 'g_mean': 0.0}, 'default_accuracy': 0.5667215815485996, 'default_f1': 0.0, 'default_recall': 0.0, 'default_specificity': 1.0, 'default_g_mean': 0.0}\n",
            "\n",
            "=============== EPOCH 8 / 8 ===============\n",
            "\n",
            "___ batch index = 0 / 1836 (0.00%), loss = 0.4805, time = 0.03 secondes ___\n"
          ],
          "name": "stdout"
        },
        {
          "output_type": "stream",
          "text": [
            "___ batch index = 250 / 1836 (13.62%), loss = 0.4091, time = 12.87 secondes ___\n"
          ],
          "name": "stdout"
        },
        {
          "output_type": "stream",
          "text": [
            "___ batch index = 500 / 1836 (27.23%), loss = 0.4152, time = 12.43 secondes ___\n"
          ],
          "name": "stdout"
        },
        {
          "output_type": "stream",
          "text": [
            "___ batch index = 750 / 1836 (40.85%), loss = 0.4299, time = 11.49 secondes ___\n"
          ],
          "name": "stdout"
        },
        {
          "output_type": "stream",
          "text": [
            "___ batch index = 1000 / 1836 (54.47%), loss = 0.3802, time = 13.17 secondes ___\n"
          ],
          "name": "stdout"
        },
        {
          "output_type": "stream",
          "text": [
            "___ batch index = 1250 / 1836 (68.08%), loss = 0.3718, time = 11.88 secondes ___\n"
          ],
          "name": "stdout"
        },
        {
          "output_type": "stream",
          "text": [
            "___ batch index = 1500 / 1836 (81.70%), loss = 0.4040, time = 11.99 secondes ___\n"
          ],
          "name": "stdout"
        },
        {
          "output_type": "stream",
          "text": [
            "___ batch index = 1750 / 1836 (95.32%), loss = 0.3594, time = 13.18 secondes ___\n"
          ],
          "name": "stdout"
        },
        {
          "output_type": "stream",
          "text": [
            "\n",
            "*** avg_loss : 0.42, time : ~1.0 min (92.08 sec) ***\n",
            "\n"
          ],
          "name": "stdout"
        },
        {
          "output_type": "stream",
          "text": [
            "==> evaluation : avg_loss = 0.73, time : 29.63 sec\n",
            "\n",
            "threshold (g-mean):  1\n",
            "threshold (f1):  1\n",
            "=====>\t{'Positive Rate': 0.4332784184514003, 'max g_mean metrics': {'threshold': 1, 'accuracy': 0.5667215815485996, 'f1': 0.0, 'recall': 0.0, 'specificity': 1.0, 'g_mean': 0.0}, 'max f1 metrics': {'threshold': 1, 'accuracy': 0.5667215815485996, 'f1': 0.0, 'recall': 0.0, 'specificity': 1.0, 'g_mean': 0.0}, 'default_accuracy': 0.5667215815485996, 'default_f1': 0.0, 'default_recall': 0.0, 'default_specificity': 1.0, 'default_g_mean': 0.0}\n",
            "@@@@@@@@@@@@@@@@@@@@@@@@@@@@@@@@@@@@@@@@@@@@@ END @@@@@@@@@@@@@@@@@@@@@@@@@@@@@@@@@@@@@@@@@@@@@@@\n"
          ],
          "name": "stdout"
        },
        {
          "output_type": "stream",
          "text": [
            "xxxxxxxxxxxxxxxxxxxxxxxxxxxxxxxxxxxx END Para label:  Control Neurólogo  (10) xxxxxxxxxxxxxxxxxxxxxxxxx\n",
            "#################################################### Para label:  Apoyo Interdisciplinario  (11) ##############\n",
            "--------------------------------------lr: 1e-07-----------------------------\n",
            "+++++++++++++++++++++++++++++++++++++++++++++++++++ n layers: 1 ++++++++++++++++++++++++++++++++++++++++++++++++\n",
            "/////////////////////////////////////////// GA: 16 ///////////////////////////////////////////////////////\n"
          ],
          "name": "stdout"
        },
        {
          "output_type": "stream",
          "text": [
            "\n",
            "=============== EPOCH 1 / 8 ===============\n",
            "\n",
            "___ batch index = 0 / 1836 (0.00%), loss = 0.6884, time = 0.03 secondes ___\n"
          ],
          "name": "stdout"
        },
        {
          "output_type": "stream",
          "text": [
            "___ batch index = 250 / 1836 (13.62%), loss = 0.6885, time = 12.89 secondes ___\n"
          ],
          "name": "stdout"
        },
        {
          "output_type": "stream",
          "text": [
            "___ batch index = 500 / 1836 (27.23%), loss = 0.7141, time = 12.44 secondes ___\n"
          ],
          "name": "stdout"
        },
        {
          "output_type": "stream",
          "text": [
            "___ batch index = 750 / 1836 (40.85%), loss = 0.6943, time = 11.51 secondes ___\n"
          ],
          "name": "stdout"
        },
        {
          "output_type": "stream",
          "text": [
            "___ batch index = 1000 / 1836 (54.47%), loss = 0.7030, time = 13.17 secondes ___\n"
          ],
          "name": "stdout"
        },
        {
          "output_type": "stream",
          "text": [
            "___ batch index = 1250 / 1836 (68.08%), loss = 0.7062, time = 11.88 secondes ___\n"
          ],
          "name": "stdout"
        },
        {
          "output_type": "stream",
          "text": [
            "___ batch index = 1500 / 1836 (81.70%), loss = 0.6815, time = 12.00 secondes ___\n"
          ],
          "name": "stdout"
        },
        {
          "output_type": "stream",
          "text": [
            "___ batch index = 1750 / 1836 (95.32%), loss = 0.6660, time = 13.16 secondes ___\n"
          ],
          "name": "stdout"
        },
        {
          "output_type": "stream",
          "text": [
            "\n",
            "*** avg_loss : 0.70, time : ~1.0 min (92.10 sec) ***\n",
            "\n"
          ],
          "name": "stdout"
        },
        {
          "output_type": "stream",
          "text": [
            "==> evaluation : avg_loss = 0.69, time : 29.62 sec\n",
            "\n"
          ],
          "name": "stdout"
        },
        {
          "output_type": "stream",
          "text": [
            "threshold (g-mean):  0.0002967382431092964\n"
          ],
          "name": "stdout"
        },
        {
          "output_type": "stream",
          "text": [
            "threshold (f1):  0.0002967382431092964\n",
            "=====>\t{'Positive Rate': 0.4332784184514003, 'max g_mean metrics': {'threshold': 0.0002967382431092964, 'accuracy': 0.5107084019769358, 'f1': 0.28433734939759037, 'recall': 0.22433460076045628, 'specificity': 0.7296511627906976, 'g_mean': 0.4045812678548697}, 'max f1 metrics': {'threshold': 0.0002967382431092964, 'accuracy': 0.5107084019769358, 'f1': 0.28433734939759037, 'recall': 0.22433460076045628, 'specificity': 0.7296511627906976, 'g_mean': 0.4045812678548697}, 'default_accuracy': 0.5667215815485996, 'default_f1': 0.0, 'default_recall': 0.0, 'default_specificity': 1.0, 'default_g_mean': 0.0}\n",
            "\n",
            "=============== EPOCH 2 / 8 ===============\n",
            "\n",
            "___ batch index = 0 / 1836 (0.00%), loss = 0.6900, time = 0.03 secondes ___\n"
          ],
          "name": "stdout"
        },
        {
          "output_type": "stream",
          "text": [
            "___ batch index = 250 / 1836 (13.62%), loss = 0.6901, time = 12.84 secondes ___\n"
          ],
          "name": "stdout"
        },
        {
          "output_type": "stream",
          "text": [
            "___ batch index = 500 / 1836 (27.23%), loss = 0.7178, time = 12.38 secondes ___\n"
          ],
          "name": "stdout"
        },
        {
          "output_type": "stream",
          "text": [
            "___ batch index = 750 / 1836 (40.85%), loss = 0.6916, time = 11.45 secondes ___\n"
          ],
          "name": "stdout"
        },
        {
          "output_type": "stream",
          "text": [
            "___ batch index = 1000 / 1836 (54.47%), loss = 0.6929, time = 13.12 secondes ___\n"
          ],
          "name": "stdout"
        },
        {
          "output_type": "stream",
          "text": [
            "___ batch index = 1250 / 1836 (68.08%), loss = 0.7085, time = 11.83 secondes ___\n"
          ],
          "name": "stdout"
        },
        {
          "output_type": "stream",
          "text": [
            "___ batch index = 1500 / 1836 (81.70%), loss = 0.6776, time = 11.94 secondes ___\n"
          ],
          "name": "stdout"
        },
        {
          "output_type": "stream",
          "text": [
            "___ batch index = 1750 / 1836 (95.32%), loss = 0.6645, time = 13.13 secondes ___\n"
          ],
          "name": "stdout"
        },
        {
          "output_type": "stream",
          "text": [
            "\n",
            "*** avg_loss : 0.70, time : ~1.0 min (91.73 sec) ***\n",
            "\n"
          ],
          "name": "stdout"
        },
        {
          "output_type": "stream",
          "text": [
            "==> evaluation : avg_loss = 0.69, time : 29.52 sec\n",
            "\n"
          ],
          "name": "stdout"
        },
        {
          "output_type": "stream",
          "text": [
            "threshold (g-mean):  0.00034280586243299715\n"
          ],
          "name": "stdout"
        },
        {
          "output_type": "stream",
          "text": [
            "threshold (f1):  0.00034280586243299715\n",
            "=====>\t{'Positive Rate': 0.4332784184514003, 'max g_mean metrics': {'threshold': 0.00034280586243299715, 'accuracy': 0.5107084019769358, 'f1': 0.28433734939759037, 'recall': 0.22433460076045628, 'specificity': 0.7296511627906976, 'g_mean': 0.4045812678548697}, 'max f1 metrics': {'threshold': 0.00034280586243299715, 'accuracy': 0.5107084019769358, 'f1': 0.28433734939759037, 'recall': 0.22433460076045628, 'specificity': 0.7296511627906976, 'g_mean': 0.4045812678548697}, 'default_accuracy': 0.5667215815485996, 'default_f1': 0.0, 'default_recall': 0.0, 'default_specificity': 1.0, 'default_g_mean': 0.0}\n",
            "\n",
            "=============== EPOCH 3 / 8 ===============\n",
            "\n",
            "___ batch index = 0 / 1836 (0.00%), loss = 0.6713, time = 0.03 secondes ___\n"
          ],
          "name": "stdout"
        },
        {
          "output_type": "stream",
          "text": [
            "___ batch index = 250 / 1836 (13.62%), loss = 0.6875, time = 12.76 secondes ___\n"
          ],
          "name": "stdout"
        },
        {
          "output_type": "stream",
          "text": [
            "___ batch index = 500 / 1836 (27.23%), loss = 0.7124, time = 12.31 secondes ___\n"
          ],
          "name": "stdout"
        },
        {
          "output_type": "stream",
          "text": [
            "___ batch index = 750 / 1836 (40.85%), loss = 0.6951, time = 11.38 secondes ___\n"
          ],
          "name": "stdout"
        },
        {
          "output_type": "stream",
          "text": [
            "___ batch index = 1000 / 1836 (54.47%), loss = 0.7050, time = 13.05 secondes ___\n"
          ],
          "name": "stdout"
        },
        {
          "output_type": "stream",
          "text": [
            "___ batch index = 1250 / 1836 (68.08%), loss = 0.7035, time = 11.76 secondes ___\n"
          ],
          "name": "stdout"
        },
        {
          "output_type": "stream",
          "text": [
            "___ batch index = 1500 / 1836 (81.70%), loss = 0.6767, time = 11.88 secondes ___\n"
          ],
          "name": "stdout"
        },
        {
          "output_type": "stream",
          "text": [
            "___ batch index = 1750 / 1836 (95.32%), loss = 0.6622, time = 13.06 secondes ___\n"
          ],
          "name": "stdout"
        },
        {
          "output_type": "stream",
          "text": [
            "\n",
            "*** avg_loss : 0.70, time : ~1.0 min (91.22 sec) ***\n",
            "\n"
          ],
          "name": "stdout"
        },
        {
          "output_type": "stream",
          "text": [
            "==> evaluation : avg_loss = 0.69, time : 29.38 sec\n",
            "\n"
          ],
          "name": "stdout"
        },
        {
          "output_type": "stream",
          "text": [
            "threshold (g-mean):  0.0002879645109238556\n"
          ],
          "name": "stdout"
        },
        {
          "output_type": "stream",
          "text": [
            "threshold (f1):  0.0002879645109238556\n",
            "=====>\t{'Positive Rate': 0.4332784184514003, 'max g_mean metrics': {'threshold': 0.0002879645109238556, 'accuracy': 0.5107084019769358, 'f1': 0.28433734939759037, 'recall': 0.22433460076045628, 'specificity': 0.7296511627906976, 'g_mean': 0.4045812678548697}, 'max f1 metrics': {'threshold': 0.0002879645109238556, 'accuracy': 0.5107084019769358, 'f1': 0.28433734939759037, 'recall': 0.22433460076045628, 'specificity': 0.7296511627906976, 'g_mean': 0.4045812678548697}, 'default_accuracy': 0.5667215815485996, 'default_f1': 0.0, 'default_recall': 0.0, 'default_specificity': 1.0, 'default_g_mean': 0.0}\n",
            "\n",
            "=============== EPOCH 4 / 8 ===============\n",
            "\n",
            "___ batch index = 0 / 1836 (0.00%), loss = 0.6919, time = 0.03 secondes ___\n"
          ],
          "name": "stdout"
        },
        {
          "output_type": "stream",
          "text": [
            "___ batch index = 250 / 1836 (13.62%), loss = 0.6851, time = 12.75 secondes ___\n"
          ],
          "name": "stdout"
        },
        {
          "output_type": "stream",
          "text": [
            "___ batch index = 500 / 1836 (27.23%), loss = 0.7154, time = 12.31 secondes ___\n"
          ],
          "name": "stdout"
        },
        {
          "output_type": "stream",
          "text": [
            "___ batch index = 750 / 1836 (40.85%), loss = 0.6943, time = 11.38 secondes ___\n"
          ],
          "name": "stdout"
        },
        {
          "output_type": "stream",
          "text": [
            "___ batch index = 1000 / 1836 (54.47%), loss = 0.7004, time = 13.06 secondes ___\n"
          ],
          "name": "stdout"
        },
        {
          "output_type": "stream",
          "text": [
            "___ batch index = 1250 / 1836 (68.08%), loss = 0.7055, time = 11.76 secondes ___\n"
          ],
          "name": "stdout"
        },
        {
          "output_type": "stream",
          "text": [
            "___ batch index = 1500 / 1836 (81.70%), loss = 0.6733, time = 11.89 secondes ___\n"
          ],
          "name": "stdout"
        },
        {
          "output_type": "stream",
          "text": [
            "___ batch index = 1750 / 1836 (95.32%), loss = 0.6646, time = 13.05 secondes ___\n"
          ],
          "name": "stdout"
        },
        {
          "output_type": "stream",
          "text": [
            "\n",
            "*** avg_loss : 0.70, time : ~1.0 min (91.22 sec) ***\n",
            "\n"
          ],
          "name": "stdout"
        },
        {
          "output_type": "stream",
          "text": [
            "==> evaluation : avg_loss = 0.69, time : 29.36 sec\n",
            "\n"
          ],
          "name": "stdout"
        },
        {
          "output_type": "stream",
          "text": [
            "threshold (g-mean):  0.0003433155536713234\n"
          ],
          "name": "stdout"
        },
        {
          "output_type": "stream",
          "text": [
            "threshold (f1):  0.0003433155536713234\n",
            "=====>\t{'Positive Rate': 0.4332784184514003, 'max g_mean metrics': {'threshold': 0.0003433155536713234, 'accuracy': 0.5107084019769358, 'f1': 0.28433734939759037, 'recall': 0.22433460076045628, 'specificity': 0.7296511627906976, 'g_mean': 0.4045812678548697}, 'max f1 metrics': {'threshold': 0.0003433155536713234, 'accuracy': 0.5107084019769358, 'f1': 0.28433734939759037, 'recall': 0.22433460076045628, 'specificity': 0.7296511627906976, 'g_mean': 0.4045812678548697}, 'default_accuracy': 0.5667215815485996, 'default_f1': 0.0, 'default_recall': 0.0, 'default_specificity': 1.0, 'default_g_mean': 0.0}\n",
            "\n",
            "=============== EPOCH 5 / 8 ===============\n",
            "\n",
            "___ batch index = 0 / 1836 (0.00%), loss = 0.6809, time = 0.03 secondes ___\n"
          ],
          "name": "stdout"
        },
        {
          "output_type": "stream",
          "text": [
            "___ batch index = 250 / 1836 (13.62%), loss = 0.6933, time = 12.76 secondes ___\n"
          ],
          "name": "stdout"
        },
        {
          "output_type": "stream",
          "text": [
            "___ batch index = 500 / 1836 (27.23%), loss = 0.7196, time = 12.31 secondes ___\n"
          ],
          "name": "stdout"
        },
        {
          "output_type": "stream",
          "text": [
            "___ batch index = 750 / 1836 (40.85%), loss = 0.6887, time = 11.36 secondes ___\n"
          ],
          "name": "stdout"
        },
        {
          "output_type": "stream",
          "text": [
            "___ batch index = 1000 / 1836 (54.47%), loss = 0.7026, time = 13.04 secondes ___\n"
          ],
          "name": "stdout"
        },
        {
          "output_type": "stream",
          "text": [
            "___ batch index = 1250 / 1836 (68.08%), loss = 0.7104, time = 11.75 secondes ___\n"
          ],
          "name": "stdout"
        },
        {
          "output_type": "stream",
          "text": [
            "___ batch index = 1500 / 1836 (81.70%), loss = 0.6823, time = 11.89 secondes ___\n"
          ],
          "name": "stdout"
        },
        {
          "output_type": "stream",
          "text": [
            "___ batch index = 1750 / 1836 (95.32%), loss = 0.6648, time = 13.05 secondes ___\n"
          ],
          "name": "stdout"
        },
        {
          "output_type": "stream",
          "text": [
            "\n",
            "*** avg_loss : 0.70, time : ~1.0 min (91.18 sec) ***\n",
            "\n"
          ],
          "name": "stdout"
        },
        {
          "output_type": "stream",
          "text": [
            "==> evaluation : avg_loss = 0.69, time : 29.40 sec\n",
            "\n"
          ],
          "name": "stdout"
        },
        {
          "output_type": "stream",
          "text": [
            "threshold (g-mean):  0.000305655241018702\n"
          ],
          "name": "stdout"
        },
        {
          "output_type": "stream",
          "text": [
            "threshold (f1):  0.000305655241018702\n",
            "=====>\t{'Positive Rate': 0.4332784184514003, 'max g_mean metrics': {'threshold': 0.000305655241018702, 'accuracy': 0.5107084019769358, 'f1': 0.28433734939759037, 'recall': 0.22433460076045628, 'specificity': 0.7296511627906976, 'g_mean': 0.4045812678548697}, 'max f1 metrics': {'threshold': 0.000305655241018702, 'accuracy': 0.5107084019769358, 'f1': 0.28433734939759037, 'recall': 0.22433460076045628, 'specificity': 0.7296511627906976, 'g_mean': 0.4045812678548697}, 'default_accuracy': 0.5667215815485996, 'default_f1': 0.0, 'default_recall': 0.0, 'default_specificity': 1.0, 'default_g_mean': 0.0}\n",
            "\n",
            "=============== EPOCH 6 / 8 ===============\n",
            "\n",
            "___ batch index = 0 / 1836 (0.00%), loss = 0.6738, time = 0.03 secondes ___\n"
          ],
          "name": "stdout"
        },
        {
          "output_type": "stream",
          "text": [
            "___ batch index = 250 / 1836 (13.62%), loss = 0.6920, time = 12.77 secondes ___\n"
          ],
          "name": "stdout"
        },
        {
          "output_type": "stream",
          "text": [
            "___ batch index = 500 / 1836 (27.23%), loss = 0.7132, time = 12.30 secondes ___\n"
          ],
          "name": "stdout"
        },
        {
          "output_type": "stream",
          "text": [
            "___ batch index = 750 / 1836 (40.85%), loss = 0.6925, time = 11.36 secondes ___\n"
          ],
          "name": "stdout"
        },
        {
          "output_type": "stream",
          "text": [
            "___ batch index = 1000 / 1836 (54.47%), loss = 0.6996, time = 13.05 secondes ___\n"
          ],
          "name": "stdout"
        },
        {
          "output_type": "stream",
          "text": [
            "___ batch index = 1250 / 1836 (68.08%), loss = 0.7036, time = 11.74 secondes ___\n"
          ],
          "name": "stdout"
        },
        {
          "output_type": "stream",
          "text": [
            "___ batch index = 1500 / 1836 (81.70%), loss = 0.6780, time = 11.89 secondes ___\n"
          ],
          "name": "stdout"
        },
        {
          "output_type": "stream",
          "text": [
            "___ batch index = 1750 / 1836 (95.32%), loss = 0.6668, time = 13.05 secondes ___\n"
          ],
          "name": "stdout"
        },
        {
          "output_type": "stream",
          "text": [
            "\n",
            "*** avg_loss : 0.70, time : ~1.0 min (91.19 sec) ***\n",
            "\n"
          ],
          "name": "stdout"
        },
        {
          "output_type": "stream",
          "text": [
            "==> evaluation : avg_loss = 0.69, time : 29.40 sec\n",
            "\n"
          ],
          "name": "stdout"
        },
        {
          "output_type": "stream",
          "text": [
            "threshold (g-mean):  0.0002664154052795194\n"
          ],
          "name": "stdout"
        },
        {
          "output_type": "stream",
          "text": [
            "threshold (f1):  0.0002664154052795194\n",
            "=====>\t{'Positive Rate': 0.4332784184514003, 'max g_mean metrics': {'threshold': 0.0002664154052795194, 'accuracy': 0.5107084019769358, 'f1': 0.28433734939759037, 'recall': 0.22433460076045628, 'specificity': 0.7296511627906976, 'g_mean': 0.4045812678548697}, 'max f1 metrics': {'threshold': 0.0002664154052795194, 'accuracy': 0.5107084019769358, 'f1': 0.28433734939759037, 'recall': 0.22433460076045628, 'specificity': 0.7296511627906976, 'g_mean': 0.4045812678548697}, 'default_accuracy': 0.5667215815485996, 'default_f1': 0.0, 'default_recall': 0.0, 'default_specificity': 1.0, 'default_g_mean': 0.0}\n",
            "\n",
            "=============== EPOCH 7 / 8 ===============\n",
            "\n",
            "___ batch index = 0 / 1836 (0.00%), loss = 0.7063, time = 0.03 secondes ___\n"
          ],
          "name": "stdout"
        },
        {
          "output_type": "stream",
          "text": [
            "___ batch index = 250 / 1836 (13.62%), loss = 0.6910, time = 12.77 secondes ___\n"
          ],
          "name": "stdout"
        },
        {
          "output_type": "stream",
          "text": [
            "___ batch index = 500 / 1836 (27.23%), loss = 0.7183, time = 12.31 secondes ___\n"
          ],
          "name": "stdout"
        },
        {
          "output_type": "stream",
          "text": [
            "___ batch index = 750 / 1836 (40.85%), loss = 0.6980, time = 11.43 secondes ___\n"
          ],
          "name": "stdout"
        },
        {
          "output_type": "stream",
          "text": [
            "___ batch index = 1000 / 1836 (54.47%), loss = 0.7016, time = 13.12 secondes ___\n"
          ],
          "name": "stdout"
        },
        {
          "output_type": "stream",
          "text": [
            "___ batch index = 1250 / 1836 (68.08%), loss = 0.7056, time = 11.81 secondes ___\n"
          ],
          "name": "stdout"
        },
        {
          "output_type": "stream",
          "text": [
            "___ batch index = 1500 / 1836 (81.70%), loss = 0.6758, time = 11.99 secondes ___\n"
          ],
          "name": "stdout"
        },
        {
          "output_type": "stream",
          "text": [
            "___ batch index = 1750 / 1836 (95.32%), loss = 0.6678, time = 13.13 secondes ___\n"
          ],
          "name": "stdout"
        },
        {
          "output_type": "stream",
          "text": [
            "\n",
            "*** avg_loss : 0.70, time : ~1.0 min (91.61 sec) ***\n",
            "\n"
          ],
          "name": "stdout"
        },
        {
          "output_type": "stream",
          "text": [
            "==> evaluation : avg_loss = 0.69, time : 29.53 sec\n",
            "\n"
          ],
          "name": "stdout"
        },
        {
          "output_type": "stream",
          "text": [
            "threshold (g-mean):  3.0155801779123412e-05\n"
          ],
          "name": "stdout"
        },
        {
          "output_type": "stream",
          "text": [
            "threshold (f1):  3.0155801779123412e-05\n",
            "=====>\t{'Positive Rate': 0.4332784184514003, 'max g_mean metrics': {'threshold': 3.0155801779123412e-05, 'accuracy': 0.5123558484349259, 'f1': 0.2884615384615385, 'recall': 0.22813688212927757, 'specificity': 0.7296511627906976, 'g_mean': 0.4079955163002061}, 'max f1 metrics': {'threshold': 3.0155801779123412e-05, 'accuracy': 0.5123558484349259, 'f1': 0.2884615384615385, 'recall': 0.22813688212927757, 'specificity': 0.7296511627906976, 'g_mean': 0.4079955163002061}, 'default_accuracy': 0.5667215815485996, 'default_f1': 0.0, 'default_recall': 0.0, 'default_specificity': 1.0, 'default_g_mean': 0.0}\n",
            "\n",
            "=============== EPOCH 8 / 8 ===============\n",
            "\n",
            "___ batch index = 0 / 1836 (0.00%), loss = 0.6988, time = 0.03 secondes ___\n"
          ],
          "name": "stdout"
        },
        {
          "output_type": "stream",
          "text": [
            "___ batch index = 250 / 1836 (13.62%), loss = 0.6883, time = 12.84 secondes ___\n"
          ],
          "name": "stdout"
        },
        {
          "output_type": "stream",
          "text": [
            "___ batch index = 500 / 1836 (27.23%), loss = 0.7161, time = 12.36 secondes ___\n"
          ],
          "name": "stdout"
        },
        {
          "output_type": "stream",
          "text": [
            "___ batch index = 750 / 1836 (40.85%), loss = 0.6982, time = 11.42 secondes ___\n"
          ],
          "name": "stdout"
        },
        {
          "output_type": "stream",
          "text": [
            "___ batch index = 1000 / 1836 (54.47%), loss = 0.7041, time = 13.11 secondes ___\n"
          ],
          "name": "stdout"
        },
        {
          "output_type": "stream",
          "text": [
            "___ batch index = 1250 / 1836 (68.08%), loss = 0.7127, time = 11.84 secondes ___\n"
          ],
          "name": "stdout"
        },
        {
          "output_type": "stream",
          "text": [
            "___ batch index = 1500 / 1836 (81.70%), loss = 0.6764, time = 12.05 secondes ___\n"
          ],
          "name": "stdout"
        },
        {
          "output_type": "stream",
          "text": [
            "___ batch index = 1750 / 1836 (95.32%), loss = 0.6599, time = 13.17 secondes ___\n"
          ],
          "name": "stdout"
        },
        {
          "output_type": "stream",
          "text": [
            "\n",
            "*** avg_loss : 0.70, time : ~1.0 min (91.85 sec) ***\n",
            "\n"
          ],
          "name": "stdout"
        },
        {
          "output_type": "stream",
          "text": [
            "==> evaluation : avg_loss = 0.69, time : 29.64 sec\n",
            "\n"
          ],
          "name": "stdout"
        },
        {
          "output_type": "stream",
          "text": [
            "threshold (g-mean):  9.644429684285779e-05\n"
          ],
          "name": "stdout"
        },
        {
          "output_type": "stream",
          "text": [
            "threshold (f1):  9.644429684285779e-05\n",
            "=====>\t{'Positive Rate': 0.4332784184514003, 'max g_mean metrics': {'threshold': 9.644429684285779e-05, 'accuracy': 0.5123558484349259, 'f1': 0.2884615384615385, 'recall': 0.22813688212927757, 'specificity': 0.7296511627906976, 'g_mean': 0.4079955163002061}, 'max f1 metrics': {'threshold': 9.644429684285779e-05, 'accuracy': 0.5123558484349259, 'f1': 0.2884615384615385, 'recall': 0.22813688212927757, 'specificity': 0.7296511627906976, 'g_mean': 0.4079955163002061}, 'default_accuracy': 0.5667215815485996, 'default_f1': 0.0, 'default_recall': 0.0, 'default_specificity': 1.0, 'default_g_mean': 0.0}\n",
            "@@@@@@@@@@@@@@@@@@@@@@@@@@@@@@@@@@@@@@@@@@@@@ END @@@@@@@@@@@@@@@@@@@@@@@@@@@@@@@@@@@@@@@@@@@@@@@\n",
            "--------------------------------------lr: 1e-06-----------------------------\n",
            "+++++++++++++++++++++++++++++++++++++++++++++++++++ n layers: 1 ++++++++++++++++++++++++++++++++++++++++++++++++\n",
            "/////////////////////////////////////////// GA: 16 ///////////////////////////////////////////////////////\n",
            "\n",
            "=============== EPOCH 1 / 8 ===============\n",
            "\n",
            "___ batch index = 0 / 1836 (0.00%), loss = 0.5866, time = 0.03 secondes ___\n"
          ],
          "name": "stdout"
        },
        {
          "output_type": "stream",
          "text": [
            "___ batch index = 250 / 1836 (13.62%), loss = 0.6591, time = 12.89 secondes ___\n"
          ],
          "name": "stdout"
        },
        {
          "output_type": "stream",
          "text": [
            "___ batch index = 500 / 1836 (27.23%), loss = 0.7647, time = 12.42 secondes ___\n"
          ],
          "name": "stdout"
        },
        {
          "output_type": "stream",
          "text": [
            "___ batch index = 750 / 1836 (40.85%), loss = 0.6568, time = 11.47 secondes ___\n"
          ],
          "name": "stdout"
        },
        {
          "output_type": "stream",
          "text": [
            "___ batch index = 1000 / 1836 (54.47%), loss = 0.7692, time = 13.16 secondes ___\n"
          ],
          "name": "stdout"
        },
        {
          "output_type": "stream",
          "text": [
            "___ batch index = 1250 / 1836 (68.08%), loss = 0.7661, time = 11.86 secondes ___\n"
          ],
          "name": "stdout"
        },
        {
          "output_type": "stream",
          "text": [
            "___ batch index = 1500 / 1836 (81.70%), loss = 0.6460, time = 12.05 secondes ___\n"
          ],
          "name": "stdout"
        },
        {
          "output_type": "stream",
          "text": [
            "___ batch index = 1750 / 1836 (95.32%), loss = 0.5952, time = 13.17 secondes ___\n"
          ],
          "name": "stdout"
        },
        {
          "output_type": "stream",
          "text": [
            "\n",
            "*** avg_loss : 0.70, time : ~1.0 min (92.09 sec) ***\n",
            "\n"
          ],
          "name": "stdout"
        },
        {
          "output_type": "stream",
          "text": [
            "==> evaluation : avg_loss = 0.69, time : 29.61 sec\n",
            "\n"
          ],
          "name": "stdout"
        },
        {
          "output_type": "stream",
          "text": [
            "threshold (g-mean):  0.008598690247536064\n"
          ],
          "name": "stdout"
        },
        {
          "output_type": "stream",
          "text": [
            "threshold (f1):  0.008598690247536064\n",
            "=====>\t{'Positive Rate': 0.4332784184514003, 'max g_mean metrics': {'threshold': 0.008598690247536064, 'accuracy': 0.5667215815485996, 'f1': 0.014981273408239702, 'recall': 0.0076045627376425855, 'specificity': 0.9941860465116279, 'g_mean': 0.08695027408574699}, 'max f1 metrics': {'threshold': 0.008598690247536064, 'accuracy': 0.5667215815485996, 'f1': 0.014981273408239702, 'recall': 0.0076045627376425855, 'specificity': 0.9941860465116279, 'g_mean': 0.08695027408574699}, 'default_accuracy': 0.5667215815485996, 'default_f1': 0.0, 'default_recall': 0.0, 'default_specificity': 1.0, 'default_g_mean': 0.0}\n",
            "\n",
            "=============== EPOCH 2 / 8 ===============\n",
            "\n",
            "___ batch index = 0 / 1836 (0.00%), loss = 0.5905, time = 0.03 secondes ___\n"
          ],
          "name": "stdout"
        },
        {
          "output_type": "stream",
          "text": [
            "___ batch index = 250 / 1836 (13.62%), loss = 0.6626, time = 12.76 secondes ___\n"
          ],
          "name": "stdout"
        },
        {
          "output_type": "stream",
          "text": [
            "___ batch index = 500 / 1836 (27.23%), loss = 0.7584, time = 12.30 secondes ___\n"
          ],
          "name": "stdout"
        },
        {
          "output_type": "stream",
          "text": [
            "___ batch index = 750 / 1836 (40.85%), loss = 0.6559, time = 11.37 secondes ___\n"
          ],
          "name": "stdout"
        },
        {
          "output_type": "stream",
          "text": [
            "___ batch index = 1000 / 1836 (54.47%), loss = 0.7611, time = 13.12 secondes ___\n"
          ],
          "name": "stdout"
        },
        {
          "output_type": "stream",
          "text": [
            "___ batch index = 1250 / 1836 (68.08%), loss = 0.7636, time = 11.81 secondes ___\n"
          ],
          "name": "stdout"
        },
        {
          "output_type": "stream",
          "text": [
            "___ batch index = 1500 / 1836 (81.70%), loss = 0.6498, time = 12.00 secondes ___\n"
          ],
          "name": "stdout"
        },
        {
          "output_type": "stream",
          "text": [
            "___ batch index = 1750 / 1836 (95.32%), loss = 0.5998, time = 13.12 secondes ___\n"
          ],
          "name": "stdout"
        },
        {
          "output_type": "stream",
          "text": [
            "\n",
            "*** avg_loss : 0.70, time : ~1.0 min (91.52 sec) ***\n",
            "\n"
          ],
          "name": "stdout"
        },
        {
          "output_type": "stream",
          "text": [
            "==> evaluation : avg_loss = 0.69, time : 29.51 sec\n",
            "\n"
          ],
          "name": "stdout"
        },
        {
          "output_type": "stream",
          "text": [
            "threshold (g-mean):  0.01258659529685904\n"
          ],
          "name": "stdout"
        },
        {
          "output_type": "stream",
          "text": [
            "threshold (f1):  0.01258659529685904\n",
            "=====>\t{'Positive Rate': 0.4332784184514003, 'max g_mean metrics': {'threshold': 0.01258659529685904, 'accuracy': 0.5667215815485996, 'f1': 0.014981273408239702, 'recall': 0.0076045627376425855, 'specificity': 0.9941860465116279, 'g_mean': 0.08695027408574699}, 'max f1 metrics': {'threshold': 0.01258659529685904, 'accuracy': 0.5667215815485996, 'f1': 0.014981273408239702, 'recall': 0.0076045627376425855, 'specificity': 0.9941860465116279, 'g_mean': 0.08695027408574699}, 'default_accuracy': 0.5667215815485996, 'default_f1': 0.0, 'default_recall': 0.0, 'default_specificity': 1.0, 'default_g_mean': 0.0}\n",
            "\n",
            "=============== EPOCH 3 / 8 ===============\n",
            "\n",
            "___ batch index = 0 / 1836 (0.00%), loss = 0.5701, time = 0.03 secondes ___\n"
          ],
          "name": "stdout"
        },
        {
          "output_type": "stream",
          "text": [
            "___ batch index = 250 / 1836 (13.62%), loss = 0.6584, time = 12.82 secondes ___\n"
          ],
          "name": "stdout"
        },
        {
          "output_type": "stream",
          "text": [
            "___ batch index = 500 / 1836 (27.23%), loss = 0.7618, time = 12.37 secondes ___\n"
          ],
          "name": "stdout"
        },
        {
          "output_type": "stream",
          "text": [
            "___ batch index = 750 / 1836 (40.85%), loss = 0.6531, time = 11.47 secondes ___\n"
          ],
          "name": "stdout"
        },
        {
          "output_type": "stream",
          "text": [
            "___ batch index = 1000 / 1836 (54.47%), loss = 0.7637, time = 13.17 secondes ___\n"
          ],
          "name": "stdout"
        },
        {
          "output_type": "stream",
          "text": [
            "___ batch index = 1250 / 1836 (68.08%), loss = 0.7547, time = 11.93 secondes ___\n"
          ],
          "name": "stdout"
        },
        {
          "output_type": "stream",
          "text": [
            "___ batch index = 1500 / 1836 (81.70%), loss = 0.6451, time = 12.00 secondes ___\n"
          ],
          "name": "stdout"
        },
        {
          "output_type": "stream",
          "text": [
            "___ batch index = 1750 / 1836 (95.32%), loss = 0.6028, time = 13.12 secondes ___\n"
          ],
          "name": "stdout"
        },
        {
          "output_type": "stream",
          "text": [
            "\n",
            "*** avg_loss : 0.70, time : ~1.0 min (91.93 sec) ***\n",
            "\n"
          ],
          "name": "stdout"
        },
        {
          "output_type": "stream",
          "text": [
            "==> evaluation : avg_loss = 0.69, time : 29.52 sec\n",
            "\n"
          ],
          "name": "stdout"
        },
        {
          "output_type": "stream",
          "text": [
            "threshold (g-mean):  0.016346092295644966\n"
          ],
          "name": "stdout"
        },
        {
          "output_type": "stream",
          "text": [
            "threshold (f1):  0.016346092295644966\n",
            "=====>\t{'Positive Rate': 0.4332784184514003, 'max g_mean metrics': {'threshold': 0.016346092295644966, 'accuracy': 0.5667215815485996, 'f1': 0.014981273408239702, 'recall': 0.0076045627376425855, 'specificity': 0.9941860465116279, 'g_mean': 0.08695027408574699}, 'max f1 metrics': {'threshold': 0.016346092295644966, 'accuracy': 0.5667215815485996, 'f1': 0.014981273408239702, 'recall': 0.0076045627376425855, 'specificity': 0.9941860465116279, 'g_mean': 0.08695027408574699}, 'default_accuracy': 0.5667215815485996, 'default_f1': 0.0, 'default_recall': 0.0, 'default_specificity': 1.0, 'default_g_mean': 0.0}\n",
            "\n",
            "=============== EPOCH 4 / 8 ===============\n",
            "\n",
            "___ batch index = 0 / 1836 (0.00%), loss = 0.5759, time = 0.03 secondes ___\n"
          ],
          "name": "stdout"
        },
        {
          "output_type": "stream",
          "text": [
            "___ batch index = 250 / 1836 (13.62%), loss = 0.6652, time = 12.83 secondes ___\n"
          ],
          "name": "stdout"
        },
        {
          "output_type": "stream",
          "text": [
            "___ batch index = 500 / 1836 (27.23%), loss = 0.7619, time = 12.32 secondes ___\n"
          ],
          "name": "stdout"
        },
        {
          "output_type": "stream",
          "text": [
            "___ batch index = 750 / 1836 (40.85%), loss = 0.6619, time = 11.35 secondes ___\n"
          ],
          "name": "stdout"
        },
        {
          "output_type": "stream",
          "text": [
            "___ batch index = 1000 / 1836 (54.47%), loss = 0.7579, time = 13.04 secondes ___\n"
          ],
          "name": "stdout"
        },
        {
          "output_type": "stream",
          "text": [
            "___ batch index = 1250 / 1836 (68.08%), loss = 0.7526, time = 11.74 secondes ___\n"
          ],
          "name": "stdout"
        },
        {
          "output_type": "stream",
          "text": [
            "___ batch index = 1500 / 1836 (81.70%), loss = 0.6456, time = 11.92 secondes ___\n"
          ],
          "name": "stdout"
        },
        {
          "output_type": "stream",
          "text": [
            "___ batch index = 1750 / 1836 (95.32%), loss = 0.6073, time = 13.05 secondes ___\n"
          ],
          "name": "stdout"
        },
        {
          "output_type": "stream",
          "text": [
            "\n",
            "*** avg_loss : 0.70, time : ~1.0 min (91.28 sec) ***\n",
            "\n"
          ],
          "name": "stdout"
        },
        {
          "output_type": "stream",
          "text": [
            "==> evaluation : avg_loss = 0.69, time : 29.37 sec\n",
            "\n"
          ],
          "name": "stdout"
        },
        {
          "output_type": "stream",
          "text": [
            "threshold (g-mean):  0.019899600720402984\n"
          ],
          "name": "stdout"
        },
        {
          "output_type": "stream",
          "text": [
            "threshold (f1):  0.019899600720402984\n",
            "=====>\t{'Positive Rate': 0.4332784184514003, 'max g_mean metrics': {'threshold': 0.019899600720402984, 'accuracy': 0.5667215815485996, 'f1': 0.014981273408239702, 'recall': 0.0076045627376425855, 'specificity': 0.9941860465116279, 'g_mean': 0.08695027408574699}, 'max f1 metrics': {'threshold': 0.019899600720402984, 'accuracy': 0.5667215815485996, 'f1': 0.014981273408239702, 'recall': 0.0076045627376425855, 'specificity': 0.9941860465116279, 'g_mean': 0.08695027408574699}, 'default_accuracy': 0.5667215815485996, 'default_f1': 0.0, 'default_recall': 0.0, 'default_specificity': 1.0, 'default_g_mean': 0.0}\n",
            "\n",
            "=============== EPOCH 5 / 8 ===============\n",
            "\n",
            "___ batch index = 0 / 1836 (0.00%), loss = 0.5761, time = 0.03 secondes ___\n"
          ],
          "name": "stdout"
        },
        {
          "output_type": "stream",
          "text": [
            "___ batch index = 250 / 1836 (13.62%), loss = 0.6583, time = 12.76 secondes ___\n"
          ],
          "name": "stdout"
        },
        {
          "output_type": "stream",
          "text": [
            "___ batch index = 500 / 1836 (27.23%), loss = 0.7562, time = 12.29 secondes ___\n"
          ],
          "name": "stdout"
        },
        {
          "output_type": "stream",
          "text": [
            "___ batch index = 750 / 1836 (40.85%), loss = 0.6605, time = 11.35 secondes ___\n"
          ],
          "name": "stdout"
        },
        {
          "output_type": "stream",
          "text": [
            "___ batch index = 1000 / 1836 (54.47%), loss = 0.7565, time = 13.04 secondes ___\n"
          ],
          "name": "stdout"
        },
        {
          "output_type": "stream",
          "text": [
            "___ batch index = 1250 / 1836 (68.08%), loss = 0.7505, time = 11.73 secondes ___\n"
          ],
          "name": "stdout"
        },
        {
          "output_type": "stream",
          "text": [
            "___ batch index = 1500 / 1836 (81.70%), loss = 0.6549, time = 11.92 secondes ___\n"
          ],
          "name": "stdout"
        },
        {
          "output_type": "stream",
          "text": [
            "___ batch index = 1750 / 1836 (95.32%), loss = 0.6088, time = 13.05 secondes ___\n"
          ],
          "name": "stdout"
        },
        {
          "output_type": "stream",
          "text": [
            "\n",
            "*** avg_loss : 0.70, time : ~1.0 min (91.14 sec) ***\n",
            "\n"
          ],
          "name": "stdout"
        },
        {
          "output_type": "stream",
          "text": [
            "==> evaluation : avg_loss = 0.69, time : 29.35 sec\n",
            "\n"
          ],
          "name": "stdout"
        },
        {
          "output_type": "stream",
          "text": [
            "threshold (g-mean):  0.023528240799901505\n"
          ],
          "name": "stdout"
        },
        {
          "output_type": "stream",
          "text": [
            "threshold (f1):  0.023528240799901505\n",
            "=====>\t{'Positive Rate': 0.4332784184514003, 'max g_mean metrics': {'threshold': 0.023528240799901505, 'accuracy': 0.5667215815485996, 'f1': 0.014981273408239702, 'recall': 0.0076045627376425855, 'specificity': 0.9941860465116279, 'g_mean': 0.08695027408574699}, 'max f1 metrics': {'threshold': 0.023528240799901505, 'accuracy': 0.5667215815485996, 'f1': 0.014981273408239702, 'recall': 0.0076045627376425855, 'specificity': 0.9941860465116279, 'g_mean': 0.08695027408574699}, 'default_accuracy': 0.5667215815485996, 'default_f1': 0.0, 'default_recall': 0.0, 'default_specificity': 1.0, 'default_g_mean': 0.0}\n",
            "\n",
            "=============== EPOCH 6 / 8 ===============\n",
            "\n",
            "___ batch index = 0 / 1836 (0.00%), loss = 0.5867, time = 0.03 secondes ___\n"
          ],
          "name": "stdout"
        },
        {
          "output_type": "stream",
          "text": [
            "___ batch index = 250 / 1836 (13.62%), loss = 0.6574, time = 12.76 secondes ___\n"
          ],
          "name": "stdout"
        },
        {
          "output_type": "stream",
          "text": [
            "___ batch index = 500 / 1836 (27.23%), loss = 0.7464, time = 12.29 secondes ___\n"
          ],
          "name": "stdout"
        },
        {
          "output_type": "stream",
          "text": [
            "___ batch index = 750 / 1836 (40.85%), loss = 0.6633, time = 11.35 secondes ___\n"
          ],
          "name": "stdout"
        },
        {
          "output_type": "stream",
          "text": [
            "___ batch index = 1000 / 1836 (54.47%), loss = 0.7556, time = 13.04 secondes ___\n"
          ],
          "name": "stdout"
        },
        {
          "output_type": "stream",
          "text": [
            "___ batch index = 1250 / 1836 (68.08%), loss = 0.7513, time = 11.74 secondes ___\n"
          ],
          "name": "stdout"
        },
        {
          "output_type": "stream",
          "text": [
            "___ batch index = 1500 / 1836 (81.70%), loss = 0.6541, time = 11.91 secondes ___\n"
          ],
          "name": "stdout"
        },
        {
          "output_type": "stream",
          "text": [
            "___ batch index = 1750 / 1836 (95.32%), loss = 0.6099, time = 13.09 secondes ___\n"
          ],
          "name": "stdout"
        },
        {
          "output_type": "stream",
          "text": [
            "\n",
            "*** avg_loss : 0.70, time : ~1.0 min (91.23 sec) ***\n",
            "\n"
          ],
          "name": "stdout"
        },
        {
          "output_type": "stream",
          "text": [
            "==> evaluation : avg_loss = 0.69, time : 29.61 sec\n",
            "\n"
          ],
          "name": "stdout"
        },
        {
          "output_type": "stream",
          "text": [
            "threshold (g-mean):  0.02693942924737716\n"
          ],
          "name": "stdout"
        },
        {
          "output_type": "stream",
          "text": [
            "threshold (f1):  0.02693942924737716\n",
            "=====>\t{'Positive Rate': 0.4332784184514003, 'max g_mean metrics': {'threshold': 0.02693942924737716, 'accuracy': 0.5667215815485996, 'f1': 0.014981273408239702, 'recall': 0.0076045627376425855, 'specificity': 0.9941860465116279, 'g_mean': 0.08695027408574699}, 'max f1 metrics': {'threshold': 0.02693942924737716, 'accuracy': 0.5667215815485996, 'f1': 0.014981273408239702, 'recall': 0.0076045627376425855, 'specificity': 0.9941860465116279, 'g_mean': 0.08695027408574699}, 'default_accuracy': 0.5667215815485996, 'default_f1': 0.0, 'default_recall': 0.0, 'default_specificity': 1.0, 'default_g_mean': 0.0}\n",
            "\n",
            "=============== EPOCH 7 / 8 ===============\n",
            "\n",
            "___ batch index = 0 / 1836 (0.00%), loss = 0.5866, time = 0.03 secondes ___\n"
          ],
          "name": "stdout"
        },
        {
          "output_type": "stream",
          "text": [
            "___ batch index = 250 / 1836 (13.62%), loss = 0.6625, time = 12.79 secondes ___\n"
          ],
          "name": "stdout"
        },
        {
          "output_type": "stream",
          "text": [
            "___ batch index = 500 / 1836 (27.23%), loss = 0.7539, time = 12.30 secondes ___\n"
          ],
          "name": "stdout"
        },
        {
          "output_type": "stream",
          "text": [
            "___ batch index = 750 / 1836 (40.85%), loss = 0.6604, time = 11.38 secondes ___\n"
          ],
          "name": "stdout"
        },
        {
          "output_type": "stream",
          "text": [
            "___ batch index = 1000 / 1836 (54.47%), loss = 0.7475, time = 13.06 secondes ___\n"
          ],
          "name": "stdout"
        },
        {
          "output_type": "stream",
          "text": [
            "___ batch index = 1250 / 1836 (68.08%), loss = 0.7448, time = 11.76 secondes ___\n"
          ],
          "name": "stdout"
        },
        {
          "output_type": "stream",
          "text": [
            "___ batch index = 1500 / 1836 (81.70%), loss = 0.6505, time = 11.98 secondes ___\n"
          ],
          "name": "stdout"
        },
        {
          "output_type": "stream",
          "text": [
            "___ batch index = 1750 / 1836 (95.32%), loss = 0.6174, time = 13.13 secondes ___\n"
          ],
          "name": "stdout"
        },
        {
          "output_type": "stream",
          "text": [
            "\n",
            "*** avg_loss : 0.70, time : ~1.0 min (91.44 sec) ***\n",
            "\n"
          ],
          "name": "stdout"
        },
        {
          "output_type": "stream",
          "text": [
            "==> evaluation : avg_loss = 0.69, time : 29.52 sec\n",
            "\n"
          ],
          "name": "stdout"
        },
        {
          "output_type": "stream",
          "text": [
            "threshold (g-mean):  0.030267476665971745\n"
          ],
          "name": "stdout"
        },
        {
          "output_type": "stream",
          "text": [
            "threshold (f1):  0.030267476665971745\n",
            "=====>\t{'Positive Rate': 0.4332784184514003, 'max g_mean metrics': {'threshold': 0.030267476665971745, 'accuracy': 0.5667215815485996, 'f1': 0.014981273408239702, 'recall': 0.0076045627376425855, 'specificity': 0.9941860465116279, 'g_mean': 0.08695027408574699}, 'max f1 metrics': {'threshold': 0.030267476665971745, 'accuracy': 0.5667215815485996, 'f1': 0.014981273408239702, 'recall': 0.0076045627376425855, 'specificity': 0.9941860465116279, 'g_mean': 0.08695027408574699}, 'default_accuracy': 0.5667215815485996, 'default_f1': 0.0, 'default_recall': 0.0, 'default_specificity': 1.0, 'default_g_mean': 0.0}\n",
            "\n",
            "=============== EPOCH 8 / 8 ===============\n",
            "\n",
            "___ batch index = 0 / 1836 (0.00%), loss = 0.5879, time = 0.03 secondes ___\n"
          ],
          "name": "stdout"
        },
        {
          "output_type": "stream",
          "text": [
            "___ batch index = 250 / 1836 (13.62%), loss = 0.6634, time = 12.84 secondes ___\n"
          ],
          "name": "stdout"
        },
        {
          "output_type": "stream",
          "text": [
            "___ batch index = 500 / 1836 (27.23%), loss = 0.7505, time = 12.43 secondes ___\n"
          ],
          "name": "stdout"
        },
        {
          "output_type": "stream",
          "text": [
            "___ batch index = 750 / 1836 (40.85%), loss = 0.6654, time = 11.49 secondes ___\n"
          ],
          "name": "stdout"
        },
        {
          "output_type": "stream",
          "text": [
            "___ batch index = 1000 / 1836 (54.47%), loss = 0.7402, time = 13.18 secondes ___\n"
          ],
          "name": "stdout"
        },
        {
          "output_type": "stream",
          "text": [
            "___ batch index = 1250 / 1836 (68.08%), loss = 0.7460, time = 11.87 secondes ___\n"
          ],
          "name": "stdout"
        },
        {
          "output_type": "stream",
          "text": [
            "___ batch index = 1500 / 1836 (81.70%), loss = 0.6592, time = 12.00 secondes ___\n"
          ],
          "name": "stdout"
        },
        {
          "output_type": "stream",
          "text": [
            "___ batch index = 1750 / 1836 (95.32%), loss = 0.6188, time = 13.13 secondes ___\n"
          ],
          "name": "stdout"
        },
        {
          "output_type": "stream",
          "text": [
            "\n",
            "*** avg_loss : 0.70, time : ~1.0 min (92.00 sec) ***\n",
            "\n"
          ],
          "name": "stdout"
        },
        {
          "output_type": "stream",
          "text": [
            "==> evaluation : avg_loss = 0.69, time : 29.53 sec\n",
            "\n"
          ],
          "name": "stdout"
        },
        {
          "output_type": "stream",
          "text": [
            "threshold (g-mean):  0.03364698693752127\n"
          ],
          "name": "stdout"
        },
        {
          "output_type": "stream",
          "text": [
            "threshold (f1):  0.03364698693752127\n",
            "=====>\t{'Positive Rate': 0.4332784184514003, 'max g_mean metrics': {'threshold': 0.03364698693752127, 'accuracy': 0.5667215815485996, 'f1': 0.014981273408239702, 'recall': 0.0076045627376425855, 'specificity': 0.9941860465116279, 'g_mean': 0.08695027408574699}, 'max f1 metrics': {'threshold': 0.03364698693752127, 'accuracy': 0.5667215815485996, 'f1': 0.014981273408239702, 'recall': 0.0076045627376425855, 'specificity': 0.9941860465116279, 'g_mean': 0.08695027408574699}, 'default_accuracy': 0.5667215815485996, 'default_f1': 0.0, 'default_recall': 0.0, 'default_specificity': 1.0, 'default_g_mean': 0.0}\n",
            "@@@@@@@@@@@@@@@@@@@@@@@@@@@@@@@@@@@@@@@@@@@@@ END @@@@@@@@@@@@@@@@@@@@@@@@@@@@@@@@@@@@@@@@@@@@@@@\n"
          ],
          "name": "stdout"
        },
        {
          "output_type": "stream",
          "text": [
            "xxxxxxxxxxxxxxxxxxxxxxxxxxxxxxxxxxxx END Para label:  Apoyo Interdisciplinario  (11) xxxxxxxxxxxxxxxxxxxxxxxxx\n",
            "#################################################### Para label:  Adecuación curricular de acceso  (12) ##############\n",
            "--------------------------------------lr: 1e-07-----------------------------\n",
            "+++++++++++++++++++++++++++++++++++++++++++++++++++ n layers: 1 ++++++++++++++++++++++++++++++++++++++++++++++++\n",
            "/////////////////////////////////////////// GA: 16 ///////////////////////////////////////////////////////\n"
          ],
          "name": "stdout"
        },
        {
          "output_type": "stream",
          "text": [
            "\n",
            "=============== EPOCH 1 / 8 ===============\n",
            "\n",
            "___ batch index = 0 / 1836 (0.00%), loss = 0.6810, time = 0.03 secondes ___\n"
          ],
          "name": "stdout"
        },
        {
          "output_type": "stream",
          "text": [
            "___ batch index = 250 / 1836 (13.62%), loss = 0.7137, time = 12.84 secondes ___\n"
          ],
          "name": "stdout"
        },
        {
          "output_type": "stream",
          "text": [
            "___ batch index = 500 / 1836 (27.23%), loss = 0.7040, time = 12.36 secondes ___\n"
          ],
          "name": "stdout"
        },
        {
          "output_type": "stream",
          "text": [
            "___ batch index = 750 / 1836 (40.85%), loss = 0.7067, time = 11.43 secondes ___\n"
          ],
          "name": "stdout"
        },
        {
          "output_type": "stream",
          "text": [
            "___ batch index = 1000 / 1836 (54.47%), loss = 0.6743, time = 13.12 secondes ___\n"
          ],
          "name": "stdout"
        },
        {
          "output_type": "stream",
          "text": [
            "___ batch index = 1250 / 1836 (68.08%), loss = 0.7073, time = 11.87 secondes ___\n"
          ],
          "name": "stdout"
        },
        {
          "output_type": "stream",
          "text": [
            "___ batch index = 1500 / 1836 (81.70%), loss = 0.7023, time = 12.01 secondes ___\n"
          ],
          "name": "stdout"
        },
        {
          "output_type": "stream",
          "text": [
            "___ batch index = 1750 / 1836 (95.32%), loss = 0.6945, time = 13.13 secondes ___\n"
          ],
          "name": "stdout"
        },
        {
          "output_type": "stream",
          "text": [
            "\n",
            "*** avg_loss : 0.70, time : ~1.0 min (91.81 sec) ***\n",
            "\n"
          ],
          "name": "stdout"
        },
        {
          "output_type": "stream",
          "text": [
            "==> evaluation : avg_loss = 0.69, time : 29.53 sec\n",
            "\n"
          ],
          "name": "stdout"
        },
        {
          "output_type": "stream",
          "text": [
            "threshold (g-mean):  0.0006109042167716378\n"
          ],
          "name": "stdout"
        },
        {
          "output_type": "stream",
          "text": [
            "threshold (f1):  0.0006109042167716378\n",
            "=====>\t{'Positive Rate': 0.4332784184514003, 'max g_mean metrics': {'threshold': 0.0006109042167716378, 'accuracy': 0.5535420098846787, 'f1': 0.23229461756373937, 'recall': 0.155893536121673, 'specificity': 0.8575581395348837, 'g_mean': 0.36563338305195286}, 'max f1 metrics': {'threshold': 0.0006109042167716378, 'accuracy': 0.5535420098846787, 'f1': 0.23229461756373937, 'recall': 0.155893536121673, 'specificity': 0.8575581395348837, 'g_mean': 0.36563338305195286}, 'default_accuracy': 0.5667215815485996, 'default_f1': 0.0, 'default_recall': 0.0, 'default_specificity': 1.0, 'default_g_mean': 0.0}\n",
            "\n",
            "=============== EPOCH 2 / 8 ===============\n",
            "\n",
            "___ batch index = 0 / 1836 (0.00%), loss = 0.6898, time = 0.03 secondes ___\n"
          ],
          "name": "stdout"
        },
        {
          "output_type": "stream",
          "text": [
            "___ batch index = 250 / 1836 (13.62%), loss = 0.7125, time = 12.83 secondes ___\n"
          ],
          "name": "stdout"
        },
        {
          "output_type": "stream",
          "text": [
            "___ batch index = 500 / 1836 (27.23%), loss = 0.7046, time = 12.35 secondes ___\n"
          ],
          "name": "stdout"
        },
        {
          "output_type": "stream",
          "text": [
            "___ batch index = 750 / 1836 (40.85%), loss = 0.7079, time = 11.43 secondes ___\n"
          ],
          "name": "stdout"
        },
        {
          "output_type": "stream",
          "text": [
            "___ batch index = 1000 / 1836 (54.47%), loss = 0.6743, time = 13.18 secondes ___\n"
          ],
          "name": "stdout"
        },
        {
          "output_type": "stream",
          "text": [
            "___ batch index = 1250 / 1836 (68.08%), loss = 0.7027, time = 11.91 secondes ___\n"
          ],
          "name": "stdout"
        },
        {
          "output_type": "stream",
          "text": [
            "___ batch index = 1500 / 1836 (81.70%), loss = 0.7073, time = 12.00 secondes ___\n"
          ],
          "name": "stdout"
        },
        {
          "output_type": "stream",
          "text": [
            "___ batch index = 1750 / 1836 (95.32%), loss = 0.6964, time = 13.12 secondes ___\n"
          ],
          "name": "stdout"
        },
        {
          "output_type": "stream",
          "text": [
            "\n",
            "*** avg_loss : 0.70, time : ~1.0 min (91.87 sec) ***\n",
            "\n"
          ],
          "name": "stdout"
        },
        {
          "output_type": "stream",
          "text": [
            "==> evaluation : avg_loss = 0.69, time : 29.52 sec\n",
            "\n"
          ],
          "name": "stdout"
        },
        {
          "output_type": "stream",
          "text": [
            "threshold (g-mean):  0.0007253908395823108\n"
          ],
          "name": "stdout"
        },
        {
          "output_type": "stream",
          "text": [
            "threshold (f1):  0.0007253908395823108\n",
            "=====>\t{'Positive Rate': 0.4332784184514003, 'max g_mean metrics': {'threshold': 0.0007253908395823108, 'accuracy': 0.5485996705107083, 'f1': 0.2430939226519337, 'recall': 0.16730038022813687, 'specificity': 0.8401162790697675, 'g_mean': 0.3749023511852381}, 'max f1 metrics': {'threshold': 0.0007253908395823108, 'accuracy': 0.5485996705107083, 'f1': 0.2430939226519337, 'recall': 0.16730038022813687, 'specificity': 0.8401162790697675, 'g_mean': 0.3749023511852381}, 'default_accuracy': 0.5667215815485996, 'default_f1': 0.0, 'default_recall': 0.0, 'default_specificity': 1.0, 'default_g_mean': 0.0}\n",
            "\n",
            "=============== EPOCH 3 / 8 ===============\n",
            "\n",
            "___ batch index = 0 / 1836 (0.00%), loss = 0.6858, time = 0.03 secondes ___\n"
          ],
          "name": "stdout"
        },
        {
          "output_type": "stream",
          "text": [
            "___ batch index = 250 / 1836 (13.62%), loss = 0.7175, time = 12.81 secondes ___\n"
          ],
          "name": "stdout"
        },
        {
          "output_type": "stream",
          "text": [
            "___ batch index = 500 / 1836 (27.23%), loss = 0.7058, time = 12.35 secondes ___\n"
          ],
          "name": "stdout"
        },
        {
          "output_type": "stream",
          "text": [
            "___ batch index = 750 / 1836 (40.85%), loss = 0.7033, time = 11.41 secondes ___\n"
          ],
          "name": "stdout"
        },
        {
          "output_type": "stream",
          "text": [
            "___ batch index = 1000 / 1836 (54.47%), loss = 0.6756, time = 13.15 secondes ___\n"
          ],
          "name": "stdout"
        },
        {
          "output_type": "stream",
          "text": [
            "___ batch index = 1250 / 1836 (68.08%), loss = 0.7034, time = 11.87 secondes ___\n"
          ],
          "name": "stdout"
        },
        {
          "output_type": "stream",
          "text": [
            "___ batch index = 1500 / 1836 (81.70%), loss = 0.7066, time = 12.00 secondes ___\n"
          ],
          "name": "stdout"
        },
        {
          "output_type": "stream",
          "text": [
            "___ batch index = 1750 / 1836 (95.32%), loss = 0.6907, time = 13.12 secondes ___\n"
          ],
          "name": "stdout"
        },
        {
          "output_type": "stream",
          "text": [
            "\n",
            "*** avg_loss : 0.70, time : ~1.0 min (91.76 sec) ***\n",
            "\n"
          ],
          "name": "stdout"
        },
        {
          "output_type": "stream",
          "text": [
            "==> evaluation : avg_loss = 0.69, time : 29.53 sec\n",
            "\n"
          ],
          "name": "stdout"
        },
        {
          "output_type": "stream",
          "text": [
            "threshold (g-mean):  0.0005013579607068862\n"
          ],
          "name": "stdout"
        },
        {
          "output_type": "stream",
          "text": [
            "threshold (f1):  0.0005013579607068862\n",
            "=====>\t{'Positive Rate': 0.4332784184514003, 'max g_mean metrics': {'threshold': 0.0005013579607068862, 'accuracy': 0.5485996705107083, 'f1': 0.2594594594594594, 'recall': 0.18250950570342206, 'specificity': 0.8284883720930233, 'g_mean': 0.38885344703593727}, 'max f1 metrics': {'threshold': 0.0005013579607068862, 'accuracy': 0.5485996705107083, 'f1': 0.2594594594594594, 'recall': 0.18250950570342206, 'specificity': 0.8284883720930233, 'g_mean': 0.38885344703593727}, 'default_accuracy': 0.5667215815485996, 'default_f1': 0.0, 'default_recall': 0.0, 'default_specificity': 1.0, 'default_g_mean': 0.0}\n",
            "\n",
            "=============== EPOCH 4 / 8 ===============\n",
            "\n",
            "___ batch index = 0 / 1836 (0.00%), loss = 0.7120, time = 0.03 secondes ___\n"
          ],
          "name": "stdout"
        },
        {
          "output_type": "stream",
          "text": [
            "___ batch index = 250 / 1836 (13.62%), loss = 0.7065, time = 12.79 secondes ___\n"
          ],
          "name": "stdout"
        },
        {
          "output_type": "stream",
          "text": [
            "___ batch index = 500 / 1836 (27.23%), loss = 0.7026, time = 12.35 secondes ___\n"
          ],
          "name": "stdout"
        },
        {
          "output_type": "stream",
          "text": [
            "___ batch index = 750 / 1836 (40.85%), loss = 0.7046, time = 11.40 secondes ___\n"
          ],
          "name": "stdout"
        },
        {
          "output_type": "stream",
          "text": [
            "___ batch index = 1000 / 1836 (54.47%), loss = 0.6748, time = 13.15 secondes ___\n"
          ],
          "name": "stdout"
        },
        {
          "output_type": "stream",
          "text": [
            "___ batch index = 1250 / 1836 (68.08%), loss = 0.7008, time = 11.87 secondes ___\n"
          ],
          "name": "stdout"
        },
        {
          "output_type": "stream",
          "text": [
            "___ batch index = 1500 / 1836 (81.70%), loss = 0.7014, time = 12.00 secondes ___\n"
          ],
          "name": "stdout"
        },
        {
          "output_type": "stream",
          "text": [
            "___ batch index = 1750 / 1836 (95.32%), loss = 0.6959, time = 13.12 secondes ___\n"
          ],
          "name": "stdout"
        },
        {
          "output_type": "stream",
          "text": [
            "\n",
            "*** avg_loss : 0.70, time : ~1.0 min (91.72 sec) ***\n",
            "\n"
          ],
          "name": "stdout"
        },
        {
          "output_type": "stream",
          "text": [
            "==> evaluation : avg_loss = 0.69, time : 29.52 sec\n",
            "\n"
          ],
          "name": "stdout"
        },
        {
          "output_type": "stream",
          "text": [
            "threshold (g-mean):  0.00044799959660195944\n"
          ],
          "name": "stdout"
        },
        {
          "output_type": "stream",
          "text": [
            "threshold (f1):  0.00044799959660195944\n",
            "=====>\t{'Positive Rate': 0.4332784184514003, 'max g_mean metrics': {'threshold': 0.00044799959660195944, 'accuracy': 0.5436573311367381, 'f1': 0.26912928759894456, 'recall': 0.19391634980988592, 'specificity': 0.811046511627907, 'g_mean': 0.39657934774887726}, 'max f1 metrics': {'threshold': 0.00044799959660195944, 'accuracy': 0.5436573311367381, 'f1': 0.26912928759894456, 'recall': 0.19391634980988592, 'specificity': 0.811046511627907, 'g_mean': 0.39657934774887726}, 'default_accuracy': 0.5667215815485996, 'default_f1': 0.0, 'default_recall': 0.0, 'default_specificity': 1.0, 'default_g_mean': 0.0}\n",
            "\n",
            "=============== EPOCH 5 / 8 ===============\n",
            "\n",
            "___ batch index = 0 / 1836 (0.00%), loss = 0.7104, time = 0.03 secondes ___\n"
          ],
          "name": "stdout"
        },
        {
          "output_type": "stream",
          "text": [
            "___ batch index = 250 / 1836 (13.62%), loss = 0.7059, time = 12.79 secondes ___\n"
          ],
          "name": "stdout"
        },
        {
          "output_type": "stream",
          "text": [
            "___ batch index = 500 / 1836 (27.23%), loss = 0.7035, time = 12.35 secondes ___\n"
          ],
          "name": "stdout"
        },
        {
          "output_type": "stream",
          "text": [
            "___ batch index = 750 / 1836 (40.85%), loss = 0.7024, time = 11.40 secondes ___\n"
          ],
          "name": "stdout"
        },
        {
          "output_type": "stream",
          "text": [
            "___ batch index = 1000 / 1836 (54.47%), loss = 0.6770, time = 13.15 secondes ___\n"
          ],
          "name": "stdout"
        },
        {
          "output_type": "stream",
          "text": [
            "___ batch index = 1250 / 1836 (68.08%), loss = 0.7036, time = 11.81 secondes ___\n"
          ],
          "name": "stdout"
        },
        {
          "output_type": "stream",
          "text": [
            "___ batch index = 1500 / 1836 (81.70%), loss = 0.7007, time = 11.93 secondes ___\n"
          ],
          "name": "stdout"
        },
        {
          "output_type": "stream",
          "text": [
            "___ batch index = 1750 / 1836 (95.32%), loss = 0.6938, time = 13.06 secondes ___\n"
          ],
          "name": "stdout"
        },
        {
          "output_type": "stream",
          "text": [
            "\n",
            "*** avg_loss : 0.70, time : ~1.0 min (91.50 sec) ***\n",
            "\n"
          ],
          "name": "stdout"
        },
        {
          "output_type": "stream",
          "text": [
            "==> evaluation : avg_loss = 0.69, time : 29.35 sec\n",
            "\n"
          ],
          "name": "stdout"
        },
        {
          "output_type": "stream",
          "text": [
            "threshold (g-mean):  0.00036731250286751234\n"
          ],
          "name": "stdout"
        },
        {
          "output_type": "stream",
          "text": [
            "threshold (f1):  0.00036731250286751234\n",
            "=====>\t{'Positive Rate': 0.4332784184514003, 'max g_mean metrics': {'threshold': 0.00036731250286751234, 'accuracy': 0.5453047775947282, 'f1': 0.28865979381443296, 'recall': 0.21292775665399238, 'specificity': 0.7994186046511628, 'g_mean': 0.4125753387150484}, 'max f1 metrics': {'threshold': 0.00036731250286751234, 'accuracy': 0.5453047775947282, 'f1': 0.28865979381443296, 'recall': 0.21292775665399238, 'specificity': 0.7994186046511628, 'g_mean': 0.4125753387150484}, 'default_accuracy': 0.5667215815485996, 'default_f1': 0.0, 'default_recall': 0.0, 'default_specificity': 1.0, 'default_g_mean': 0.0}\n",
            "\n",
            "=============== EPOCH 6 / 8 ===============\n",
            "\n",
            "___ batch index = 0 / 1836 (0.00%), loss = 0.6839, time = 0.03 secondes ___\n"
          ],
          "name": "stdout"
        },
        {
          "output_type": "stream",
          "text": [
            "___ batch index = 250 / 1836 (13.62%), loss = 0.7041, time = 12.71 secondes ___\n"
          ],
          "name": "stdout"
        },
        {
          "output_type": "stream",
          "text": [
            "___ batch index = 500 / 1836 (27.23%), loss = 0.6996, time = 12.27 secondes ___\n"
          ],
          "name": "stdout"
        },
        {
          "output_type": "stream",
          "text": [
            "___ batch index = 750 / 1836 (40.85%), loss = 0.7040, time = 11.33 secondes ___\n"
          ],
          "name": "stdout"
        },
        {
          "output_type": "stream",
          "text": [
            "___ batch index = 1000 / 1836 (54.47%), loss = 0.6771, time = 13.07 secondes ___\n"
          ],
          "name": "stdout"
        },
        {
          "output_type": "stream",
          "text": [
            "___ batch index = 1250 / 1836 (68.08%), loss = 0.6947, time = 11.78 secondes ___\n"
          ],
          "name": "stdout"
        },
        {
          "output_type": "stream",
          "text": [
            "___ batch index = 1500 / 1836 (81.70%), loss = 0.6984, time = 11.91 secondes ___\n"
          ],
          "name": "stdout"
        },
        {
          "output_type": "stream",
          "text": [
            "___ batch index = 1750 / 1836 (95.32%), loss = 0.6930, time = 13.04 secondes ___\n"
          ],
          "name": "stdout"
        },
        {
          "output_type": "stream",
          "text": [
            "\n",
            "*** avg_loss : 0.70, time : ~1.0 min (91.13 sec) ***\n",
            "\n"
          ],
          "name": "stdout"
        },
        {
          "output_type": "stream",
          "text": [
            "==> evaluation : avg_loss = 0.69, time : 29.35 sec\n",
            "\n"
          ],
          "name": "stdout"
        },
        {
          "output_type": "stream",
          "text": [
            "threshold (g-mean):  0.0009619937896796385\n"
          ],
          "name": "stdout"
        },
        {
          "output_type": "stream",
          "text": [
            "threshold (f1):  0.0009619937896796385\n",
            "=====>\t{'Positive Rate': 0.4332784184514003, 'max g_mean metrics': {'threshold': 0.0009619937896796385, 'accuracy': 0.5436573311367381, 'f1': 0.30226700251889166, 'recall': 0.22813688212927757, 'specificity': 0.7848837209302325, 'g_mean': 0.42315591089697574}, 'max f1 metrics': {'threshold': 0.0009619937896796385, 'accuracy': 0.5436573311367381, 'f1': 0.30226700251889166, 'recall': 0.22813688212927757, 'specificity': 0.7848837209302325, 'g_mean': 0.42315591089697574}, 'default_accuracy': 0.5667215815485996, 'default_f1': 0.0, 'default_recall': 0.0, 'default_specificity': 1.0, 'default_g_mean': 0.0}\n",
            "\n",
            "=============== EPOCH 7 / 8 ===============\n",
            "\n",
            "___ batch index = 0 / 1836 (0.00%), loss = 0.6924, time = 0.03 secondes ___\n"
          ],
          "name": "stdout"
        },
        {
          "output_type": "stream",
          "text": [
            "___ batch index = 250 / 1836 (13.62%), loss = 0.7107, time = 12.73 secondes ___\n"
          ],
          "name": "stdout"
        },
        {
          "output_type": "stream",
          "text": [
            "___ batch index = 500 / 1836 (27.23%), loss = 0.7023, time = 12.27 secondes ___\n"
          ],
          "name": "stdout"
        },
        {
          "output_type": "stream",
          "text": [
            "___ batch index = 750 / 1836 (40.85%), loss = 0.7018, time = 11.33 secondes ___\n"
          ],
          "name": "stdout"
        },
        {
          "output_type": "stream",
          "text": [
            "___ batch index = 1000 / 1836 (54.47%), loss = 0.6785, time = 13.07 secondes ___\n"
          ],
          "name": "stdout"
        },
        {
          "output_type": "stream",
          "text": [
            "___ batch index = 1250 / 1836 (68.08%), loss = 0.6970, time = 11.78 secondes ___\n"
          ],
          "name": "stdout"
        },
        {
          "output_type": "stream",
          "text": [
            "___ batch index = 1500 / 1836 (81.70%), loss = 0.7009, time = 11.91 secondes ___\n"
          ],
          "name": "stdout"
        },
        {
          "output_type": "stream",
          "text": [
            "___ batch index = 1750 / 1836 (95.32%), loss = 0.6910, time = 13.04 secondes ___\n"
          ],
          "name": "stdout"
        },
        {
          "output_type": "stream",
          "text": [
            "\n",
            "*** avg_loss : 0.70, time : ~1.0 min (91.14 sec) ***\n",
            "\n"
          ],
          "name": "stdout"
        },
        {
          "output_type": "stream",
          "text": [
            "==> evaluation : avg_loss = 0.69, time : 29.35 sec\n",
            "\n"
          ],
          "name": "stdout"
        },
        {
          "output_type": "stream",
          "text": [
            "threshold (g-mean):  0.00041741051674597896\n"
          ],
          "name": "stdout"
        },
        {
          "output_type": "stream",
          "text": [
            "threshold (f1):  0.00041741051674597896\n",
            "=====>\t{'Positive Rate': 0.4332784184514003, 'max g_mean metrics': {'threshold': 0.00041741051674597896, 'accuracy': 0.5403624382207578, 'f1': 0.3178484107579462, 'recall': 0.24714828897338403, 'specificity': 0.7645348837209303, 'g_mean': 0.4346878056399708}, 'max f1 metrics': {'threshold': 0.00041741051674597896, 'accuracy': 0.5403624382207578, 'f1': 0.3178484107579462, 'recall': 0.24714828897338403, 'specificity': 0.7645348837209303, 'g_mean': 0.4346878056399708}, 'default_accuracy': 0.5667215815485996, 'default_f1': 0.0, 'default_recall': 0.0, 'default_specificity': 1.0, 'default_g_mean': 0.0}\n",
            "\n",
            "=============== EPOCH 8 / 8 ===============\n",
            "\n",
            "___ batch index = 0 / 1836 (0.00%), loss = 0.6935, time = 0.03 secondes ___\n"
          ],
          "name": "stdout"
        },
        {
          "output_type": "stream",
          "text": [
            "___ batch index = 250 / 1836 (13.62%), loss = 0.7057, time = 12.73 secondes ___\n"
          ],
          "name": "stdout"
        },
        {
          "output_type": "stream",
          "text": [
            "___ batch index = 500 / 1836 (27.23%), loss = 0.6990, time = 12.27 secondes ___\n"
          ],
          "name": "stdout"
        },
        {
          "output_type": "stream",
          "text": [
            "___ batch index = 750 / 1836 (40.85%), loss = 0.7042, time = 11.37 secondes ___\n"
          ],
          "name": "stdout"
        },
        {
          "output_type": "stream",
          "text": [
            "___ batch index = 1000 / 1836 (54.47%), loss = 0.6846, time = 13.08 secondes ___\n"
          ],
          "name": "stdout"
        },
        {
          "output_type": "stream",
          "text": [
            "___ batch index = 1250 / 1836 (68.08%), loss = 0.6999, time = 11.79 secondes ___\n"
          ],
          "name": "stdout"
        },
        {
          "output_type": "stream",
          "text": [
            "___ batch index = 1500 / 1836 (81.70%), loss = 0.6962, time = 11.92 secondes ___\n"
          ],
          "name": "stdout"
        },
        {
          "output_type": "stream",
          "text": [
            "___ batch index = 1750 / 1836 (95.32%), loss = 0.6969, time = 13.05 secondes ___\n"
          ],
          "name": "stdout"
        },
        {
          "output_type": "stream",
          "text": [
            "\n",
            "*** avg_loss : 0.70, time : ~1.0 min (91.23 sec) ***\n",
            "\n"
          ],
          "name": "stdout"
        },
        {
          "output_type": "stream",
          "text": [
            "==> evaluation : avg_loss = 0.69, time : 29.37 sec\n",
            "\n"
          ],
          "name": "stdout"
        },
        {
          "output_type": "stream",
          "text": [
            "threshold (g-mean):  5.555679798863269e-05\n"
          ],
          "name": "stdout"
        },
        {
          "output_type": "stream",
          "text": [
            "threshold (f1):  5.555679798863269e-05\n",
            "=====>\t{'Positive Rate': 0.4332784184514003, 'max g_mean metrics': {'threshold': 5.555679798863269e-05, 'accuracy': 0.5420098846787479, 'f1': 0.34433962264150947, 'recall': 0.27756653992395436, 'specificity': 0.7441860465116279, 'g_mean': 0.4544899844770174}, 'max f1 metrics': {'threshold': 5.555679798863269e-05, 'accuracy': 0.5420098846787479, 'f1': 0.34433962264150947, 'recall': 0.27756653992395436, 'specificity': 0.7441860465116279, 'g_mean': 0.4544899844770174}, 'default_accuracy': 0.5667215815485996, 'default_f1': 0.0, 'default_recall': 0.0, 'default_specificity': 1.0, 'default_g_mean': 0.0}\n",
            "@@@@@@@@@@@@@@@@@@@@@@@@@@@@@@@@@@@@@@@@@@@@@ END @@@@@@@@@@@@@@@@@@@@@@@@@@@@@@@@@@@@@@@@@@@@@@@\n",
            "--------------------------------------lr: 1e-06-----------------------------\n",
            "+++++++++++++++++++++++++++++++++++++++++++++++++++ n layers: 1 ++++++++++++++++++++++++++++++++++++++++++++++++\n",
            "/////////////////////////////////////////// GA: 16 ///////////////////////////////////////////////////////\n",
            "\n",
            "=============== EPOCH 1 / 8 ===============\n",
            "\n",
            "___ batch index = 0 / 1836 (0.00%), loss = 0.6641, time = 0.03 secondes ___\n"
          ],
          "name": "stdout"
        },
        {
          "output_type": "stream",
          "text": [
            "___ batch index = 250 / 1836 (13.62%), loss = 0.7406, time = 12.75 secondes ___\n"
          ],
          "name": "stdout"
        },
        {
          "output_type": "stream",
          "text": [
            "___ batch index = 500 / 1836 (27.23%), loss = 0.7011, time = 12.26 secondes ___\n"
          ],
          "name": "stdout"
        },
        {
          "output_type": "stream",
          "text": [
            "___ batch index = 750 / 1836 (40.85%), loss = 0.7074, time = 11.38 secondes ___\n"
          ],
          "name": "stdout"
        },
        {
          "output_type": "stream",
          "text": [
            "___ batch index = 1000 / 1836 (54.47%), loss = 0.6930, time = 13.08 secondes ___\n"
          ],
          "name": "stdout"
        },
        {
          "output_type": "stream",
          "text": [
            "___ batch index = 1250 / 1836 (68.08%), loss = 0.6949, time = 11.80 secondes ___\n"
          ],
          "name": "stdout"
        },
        {
          "output_type": "stream",
          "text": [
            "___ batch index = 1500 / 1836 (81.70%), loss = 0.7016, time = 11.92 secondes ___\n"
          ],
          "name": "stdout"
        },
        {
          "output_type": "stream",
          "text": [
            "___ batch index = 1750 / 1836 (95.32%), loss = 0.7129, time = 13.06 secondes ___\n"
          ],
          "name": "stdout"
        },
        {
          "output_type": "stream",
          "text": [
            "\n",
            "*** avg_loss : 0.70, time : ~1.0 min (91.26 sec) ***\n",
            "\n"
          ],
          "name": "stdout"
        },
        {
          "output_type": "stream",
          "text": [
            "==> evaluation : avg_loss = 0.69, time : 29.37 sec\n",
            "\n"
          ],
          "name": "stdout"
        },
        {
          "output_type": "stream",
          "text": [
            "threshold (g-mean):  0.0005481406211886345\n"
          ],
          "name": "stdout"
        },
        {
          "output_type": "stream",
          "text": [
            "threshold (f1):  0.0005481406211886345\n",
            "=====>\t{'Positive Rate': 0.4332784184514003, 'max g_mean metrics': {'threshold': 0.0005481406211886345, 'accuracy': 0.5733113673805601, 'f1': 0.5350089766606823, 'recall': 0.5665399239543726, 'specificity': 0.5784883720930233, 'g_mean': 0.572482976457877}, 'max f1 metrics': {'threshold': 0.0005481406211886345, 'accuracy': 0.5733113673805601, 'f1': 0.5350089766606823, 'recall': 0.5665399239543726, 'specificity': 0.5784883720930233, 'g_mean': 0.572482976457877}, 'default_accuracy': 0.5667215815485996, 'default_f1': 0.0, 'default_recall': 0.0, 'default_specificity': 1.0, 'default_g_mean': 0.0}\n",
            "\n",
            "=============== EPOCH 2 / 8 ===============\n",
            "\n",
            "___ batch index = 0 / 1836 (0.00%), loss = 0.6589, time = 0.03 secondes ___\n"
          ],
          "name": "stdout"
        },
        {
          "output_type": "stream",
          "text": [
            "___ batch index = 250 / 1836 (13.62%), loss = 0.7184, time = 12.74 secondes ___\n"
          ],
          "name": "stdout"
        },
        {
          "output_type": "stream",
          "text": [
            "___ batch index = 500 / 1836 (27.23%), loss = 0.6991, time = 12.25 secondes ___\n"
          ],
          "name": "stdout"
        },
        {
          "output_type": "stream",
          "text": [
            "___ batch index = 750 / 1836 (40.85%), loss = 0.6926, time = 11.38 secondes ___\n"
          ],
          "name": "stdout"
        },
        {
          "output_type": "stream",
          "text": [
            "___ batch index = 1000 / 1836 (54.47%), loss = 0.7062, time = 13.08 secondes ___\n"
          ],
          "name": "stdout"
        },
        {
          "output_type": "stream",
          "text": [
            "___ batch index = 1250 / 1836 (68.08%), loss = 0.6735, time = 11.80 secondes ___\n"
          ],
          "name": "stdout"
        },
        {
          "output_type": "stream",
          "text": [
            "___ batch index = 1500 / 1836 (81.70%), loss = 0.6864, time = 11.93 secondes ___\n"
          ],
          "name": "stdout"
        },
        {
          "output_type": "stream",
          "text": [
            "___ batch index = 1750 / 1836 (95.32%), loss = 0.7126, time = 13.05 secondes ___\n"
          ],
          "name": "stdout"
        },
        {
          "output_type": "stream",
          "text": [
            "\n",
            "*** avg_loss : 0.69, time : ~1.0 min (91.26 sec) ***\n",
            "\n"
          ],
          "name": "stdout"
        },
        {
          "output_type": "stream",
          "text": [
            "==> evaluation : avg_loss = 0.69, time : 29.38 sec\n",
            "\n"
          ],
          "name": "stdout"
        },
        {
          "output_type": "stream",
          "text": [
            "threshold (g-mean):  0.04375115787983756\n"
          ],
          "name": "stdout"
        },
        {
          "output_type": "stream",
          "text": [
            "threshold (f1):  0.02725115787983723\n",
            "=====>\t{'Positive Rate': 0.4332784184514003, 'max g_mean metrics': {'threshold': 0.04375115787983756, 'accuracy': 0.5749588138385503, 'f1': 0.5186567164179104, 'recall': 0.5285171102661597, 'specificity': 0.6104651162790697, 'g_mean': 0.5680151927317694}, 'max f1 metrics': {'threshold': 0.02725115787983723, 'accuracy': 0.5535420098846787, 'f1': 0.5535420098846786, 'recall': 0.6387832699619772, 'specificity': 0.4883720930232558, 'g_mean': 0.5585373063095878}, 'default_accuracy': 0.5667215815485996, 'default_f1': 0.0, 'default_recall': 0.0, 'default_specificity': 1.0, 'default_g_mean': 0.0}\n",
            "\n",
            "=============== EPOCH 3 / 8 ===============\n",
            "\n",
            "___ batch index = 0 / 1836 (0.00%), loss = 0.6903, time = 0.03 secondes ___\n"
          ],
          "name": "stdout"
        },
        {
          "output_type": "stream",
          "text": [
            "___ batch index = 250 / 1836 (13.62%), loss = 0.6960, time = 12.73 secondes ___\n"
          ],
          "name": "stdout"
        },
        {
          "output_type": "stream",
          "text": [
            "___ batch index = 500 / 1836 (27.23%), loss = 0.6868, time = 12.25 secondes ___\n"
          ],
          "name": "stdout"
        },
        {
          "output_type": "stream",
          "text": [
            "___ batch index = 750 / 1836 (40.85%), loss = 0.6846, time = 11.38 secondes ___\n"
          ],
          "name": "stdout"
        },
        {
          "output_type": "stream",
          "text": [
            "___ batch index = 1000 / 1836 (54.47%), loss = 0.7186, time = 13.08 secondes ___\n"
          ],
          "name": "stdout"
        },
        {
          "output_type": "stream",
          "text": [
            "___ batch index = 1250 / 1836 (68.08%), loss = 0.6689, time = 11.79 secondes ___\n"
          ],
          "name": "stdout"
        },
        {
          "output_type": "stream",
          "text": [
            "___ batch index = 1500 / 1836 (81.70%), loss = 0.6796, time = 11.92 secondes ___\n"
          ],
          "name": "stdout"
        },
        {
          "output_type": "stream",
          "text": [
            "___ batch index = 1750 / 1836 (95.32%), loss = 0.7094, time = 13.06 secondes ___\n"
          ],
          "name": "stdout"
        },
        {
          "output_type": "stream",
          "text": [
            "\n",
            "*** avg_loss : 0.69, time : ~1.0 min (91.23 sec) ***\n",
            "\n"
          ],
          "name": "stdout"
        },
        {
          "output_type": "stream",
          "text": [
            "==> evaluation : avg_loss = 0.69, time : 29.37 sec\n",
            "\n"
          ],
          "name": "stdout"
        },
        {
          "output_type": "stream",
          "text": [
            "threshold (g-mean):  0.0849897252559799\n"
          ],
          "name": "stdout"
        },
        {
          "output_type": "stream",
          "text": [
            "threshold (f1):  0.0638897252559793\n",
            "=====>\t{'Positive Rate': 0.4332784184514003, 'max g_mean metrics': {'threshold': 0.0849897252559799, 'accuracy': 0.57166392092257, 'f1': 0.49416342412451364, 'recall': 0.4828897338403042, 'specificity': 0.6395348837209303, 'g_mean': 0.5557201002137586}, 'max f1 metrics': {'threshold': 0.0638897252559793, 'accuracy': 0.5502471169686985, 'f1': 0.5487603305785124, 'recall': 0.6311787072243346, 'specificity': 0.4883720930232558, 'g_mean': 0.5552027254245615}, 'default_accuracy': 0.5667215815485996, 'default_f1': 0.0, 'default_recall': 0.0, 'default_specificity': 1.0, 'default_g_mean': 0.0}\n",
            "\n",
            "=============== EPOCH 4 / 8 ===============\n",
            "\n",
            "___ batch index = 0 / 1836 (0.00%), loss = 0.6980, time = 0.03 secondes ___\n"
          ],
          "name": "stdout"
        },
        {
          "output_type": "stream",
          "text": [
            "___ batch index = 250 / 1836 (13.62%), loss = 0.6830, time = 12.73 secondes ___\n"
          ],
          "name": "stdout"
        },
        {
          "output_type": "stream",
          "text": [
            "___ batch index = 500 / 1836 (27.23%), loss = 0.6842, time = 12.28 secondes ___\n"
          ],
          "name": "stdout"
        },
        {
          "output_type": "stream",
          "text": [
            "___ batch index = 750 / 1836 (40.85%), loss = 0.6706, time = 11.41 secondes ___\n"
          ],
          "name": "stdout"
        },
        {
          "output_type": "stream",
          "text": [
            "___ batch index = 1000 / 1836 (54.47%), loss = 0.7335, time = 13.10 secondes ___\n"
          ],
          "name": "stdout"
        },
        {
          "output_type": "stream",
          "text": [
            "___ batch index = 1250 / 1836 (68.08%), loss = 0.6527, time = 11.82 secondes ___\n"
          ],
          "name": "stdout"
        },
        {
          "output_type": "stream",
          "text": [
            "___ batch index = 1500 / 1836 (81.70%), loss = 0.6609, time = 11.94 secondes ___\n"
          ],
          "name": "stdout"
        },
        {
          "output_type": "stream",
          "text": [
            "___ batch index = 1750 / 1836 (95.32%), loss = 0.7011, time = 13.07 secondes ___\n"
          ],
          "name": "stdout"
        },
        {
          "output_type": "stream",
          "text": [
            "\n",
            "*** avg_loss : 0.68, time : ~1.0 min (91.38 sec) ***\n",
            "\n"
          ],
          "name": "stdout"
        },
        {
          "output_type": "stream",
          "text": [
            "==> evaluation : avg_loss = 0.70, time : 29.40 sec\n",
            "\n"
          ],
          "name": "stdout"
        },
        {
          "output_type": "stream",
          "text": [
            "threshold (g-mean):  0.11748271269800165\n"
          ],
          "name": "stdout"
        },
        {
          "output_type": "stream",
          "text": [
            "threshold (f1):  0.09808271269800109\n",
            "=====>\t{'Positive Rate': 0.4332784184514003, 'max g_mean metrics': {'threshold': 0.11748271269800165, 'accuracy': 0.5617792421746294, 'f1': 0.49236641221374045, 'recall': 0.49049429657794674, 'specificity': 0.6162790697674418, 'g_mean': 0.5498012084574685}, 'max f1 metrics': {'threshold': 0.09808271269800109, 'accuracy': 0.5436573311367381, 'f1': 0.5436573311367381, 'recall': 0.6273764258555133, 'specificity': 0.4796511627906977, 'g_mean': 0.5485634258397737}, 'default_accuracy': 0.5667215815485996, 'default_f1': 0.0, 'default_recall': 0.0, 'default_specificity': 1.0, 'default_g_mean': 0.0}\n",
            "\n",
            "=============== EPOCH 5 / 8 ===============\n",
            "\n",
            "___ batch index = 0 / 1836 (0.00%), loss = 0.6886, time = 0.03 secondes ___\n"
          ],
          "name": "stdout"
        },
        {
          "output_type": "stream",
          "text": [
            "___ batch index = 250 / 1836 (13.62%), loss = 0.6714, time = 12.75 secondes ___\n"
          ],
          "name": "stdout"
        },
        {
          "output_type": "stream",
          "text": [
            "___ batch index = 500 / 1836 (27.23%), loss = 0.6820, time = 12.30 secondes ___\n"
          ],
          "name": "stdout"
        },
        {
          "output_type": "stream",
          "text": [
            "___ batch index = 750 / 1836 (40.85%), loss = 0.6606, time = 11.40 secondes ___\n"
          ],
          "name": "stdout"
        },
        {
          "output_type": "stream",
          "text": [
            "___ batch index = 1000 / 1836 (54.47%), loss = 0.7470, time = 13.10 secondes ___\n"
          ],
          "name": "stdout"
        },
        {
          "output_type": "stream",
          "text": [
            "___ batch index = 1250 / 1836 (68.08%), loss = 0.6445, time = 11.80 secondes ___\n"
          ],
          "name": "stdout"
        },
        {
          "output_type": "stream",
          "text": [
            "___ batch index = 1500 / 1836 (81.70%), loss = 0.6553, time = 11.93 secondes ___\n"
          ],
          "name": "stdout"
        },
        {
          "output_type": "stream",
          "text": [
            "___ batch index = 1750 / 1836 (95.32%), loss = 0.7012, time = 13.06 secondes ___\n"
          ],
          "name": "stdout"
        },
        {
          "output_type": "stream",
          "text": [
            "\n",
            "*** avg_loss : 0.67, time : ~1.0 min (91.36 sec) ***\n",
            "\n"
          ],
          "name": "stdout"
        },
        {
          "output_type": "stream",
          "text": [
            "==> evaluation : avg_loss = 0.70, time : 29.34 sec\n",
            "\n"
          ],
          "name": "stdout"
        },
        {
          "output_type": "stream",
          "text": [
            "threshold (g-mean):  0.13173047952654215\n"
          ],
          "name": "stdout"
        },
        {
          "output_type": "stream",
          "text": [
            "threshold (f1):  0.13103047952654223\n",
            "=====>\t{'Positive Rate': 0.4332784184514003, 'max g_mean metrics': {'threshold': 0.13173047952654215, 'accuracy': 0.5453047775947282, 'f1': 0.543046357615894, 'recall': 0.623574144486692, 'specificity': 0.48546511627906974, 'g_mean': 0.5502031393602307}, 'max f1 metrics': {'threshold': 0.13103047952654223, 'accuracy': 0.5436573311367381, 'f1': 0.5436573311367381, 'recall': 0.6273764258555133, 'specificity': 0.4796511627906977, 'g_mean': 0.5485634258397737}, 'default_accuracy': 0.5667215815485996, 'default_f1': 0.0, 'default_recall': 0.0, 'default_specificity': 1.0, 'default_g_mean': 0.0}\n",
            "\n",
            "=============== EPOCH 6 / 8 ===============\n",
            "\n",
            "___ batch index = 0 / 1836 (0.00%), loss = 0.7113, time = 0.03 secondes ___\n"
          ],
          "name": "stdout"
        },
        {
          "output_type": "stream",
          "text": [
            "___ batch index = 250 / 1836 (13.62%), loss = 0.6543, time = 12.72 secondes ___\n"
          ],
          "name": "stdout"
        },
        {
          "output_type": "stream",
          "text": [
            "___ batch index = 500 / 1836 (27.23%), loss = 0.6767, time = 12.31 secondes ___\n"
          ],
          "name": "stdout"
        },
        {
          "output_type": "stream",
          "text": [
            "___ batch index = 750 / 1836 (40.85%), loss = 0.6443, time = 11.40 secondes ___\n"
          ],
          "name": "stdout"
        },
        {
          "output_type": "stream",
          "text": [
            "___ batch index = 1000 / 1836 (54.47%), loss = 0.7596, time = 13.09 secondes ___\n"
          ],
          "name": "stdout"
        },
        {
          "output_type": "stream",
          "text": [
            "___ batch index = 1250 / 1836 (68.08%), loss = 0.6349, time = 11.79 secondes ___\n"
          ],
          "name": "stdout"
        },
        {
          "output_type": "stream",
          "text": [
            "___ batch index = 1500 / 1836 (81.70%), loss = 0.6481, time = 11.93 secondes ___\n"
          ],
          "name": "stdout"
        },
        {
          "output_type": "stream",
          "text": [
            "___ batch index = 1750 / 1836 (95.32%), loss = 0.6980, time = 13.05 secondes ___\n"
          ],
          "name": "stdout"
        },
        {
          "output_type": "stream",
          "text": [
            "\n",
            "*** avg_loss : 0.66, time : ~1.0 min (91.30 sec) ***\n",
            "\n"
          ],
          "name": "stdout"
        },
        {
          "output_type": "stream",
          "text": [
            "==> evaluation : avg_loss = 0.70, time : 29.33 sec\n",
            "\n"
          ],
          "name": "stdout"
        },
        {
          "output_type": "stream",
          "text": [
            "threshold (g-mean):  0.16988290162088693\n"
          ],
          "name": "stdout"
        },
        {
          "output_type": "stream",
          "text": [
            "threshold (f1):  0.16228290162088777\n",
            "=====>\t{'Positive Rate': 0.4332784184514003, 'max g_mean metrics': {'threshold': 0.16988290162088693, 'accuracy': 0.5485996705107083, 'f1': 0.5308219178082192, 'recall': 0.5893536121673004, 'specificity': 0.5174418604651163, 'g_mean': 0.5522284215355857}, 'max f1 metrics': {'threshold': 0.16228290162088777, 'accuracy': 0.5469522240527183, 'f1': 0.5469522240527183, 'recall': 0.6311787072243346, 'specificity': 0.48255813953488375, 'g_mean': 0.5518880526630451}, 'default_accuracy': 0.5667215815485996, 'default_f1': 0.0, 'default_recall': 0.0, 'default_specificity': 1.0, 'default_g_mean': 0.0}\n",
            "\n",
            "=============== EPOCH 7 / 8 ===============\n",
            "\n",
            "___ batch index = 0 / 1836 (0.00%), loss = 0.7167, time = 0.03 secondes ___\n"
          ],
          "name": "stdout"
        },
        {
          "output_type": "stream",
          "text": [
            "___ batch index = 250 / 1836 (13.62%), loss = 0.6371, time = 12.74 secondes ___\n"
          ],
          "name": "stdout"
        },
        {
          "output_type": "stream",
          "text": [
            "___ batch index = 500 / 1836 (27.23%), loss = 0.6711, time = 12.35 secondes ___\n"
          ],
          "name": "stdout"
        },
        {
          "output_type": "stream",
          "text": [
            "___ batch index = 750 / 1836 (40.85%), loss = 0.6385, time = 11.46 secondes ___\n"
          ],
          "name": "stdout"
        },
        {
          "output_type": "stream",
          "text": [
            "___ batch index = 1000 / 1836 (54.47%), loss = 0.7745, time = 13.14 secondes ___\n"
          ],
          "name": "stdout"
        },
        {
          "output_type": "stream",
          "text": [
            "___ batch index = 1250 / 1836 (68.08%), loss = 0.6280, time = 11.87 secondes ___\n"
          ],
          "name": "stdout"
        },
        {
          "output_type": "stream",
          "text": [
            "___ batch index = 1500 / 1836 (81.70%), loss = 0.6376, time = 12.00 secondes ___\n"
          ],
          "name": "stdout"
        },
        {
          "output_type": "stream",
          "text": [
            "___ batch index = 1750 / 1836 (95.32%), loss = 0.7001, time = 13.12 secondes ___\n"
          ],
          "name": "stdout"
        },
        {
          "output_type": "stream",
          "text": [
            "\n",
            "*** avg_loss : 0.66, time : ~1.0 min (91.72 sec) ***\n",
            "\n"
          ],
          "name": "stdout"
        },
        {
          "output_type": "stream",
          "text": [
            "==> evaluation : avg_loss = 0.71, time : 29.44 sec\n",
            "\n"
          ],
          "name": "stdout"
        },
        {
          "output_type": "stream",
          "text": [
            "threshold (g-mean):  0.19794564142229443\n"
          ],
          "name": "stdout"
        },
        {
          "output_type": "stream",
          "text": [
            "threshold (f1):  0.19794564142229443\n",
            "=====>\t{'Positive Rate': 0.4332784184514003, 'max g_mean metrics': {'threshold': 0.19794564142229443, 'accuracy': 0.5502471169686985, 'f1': 0.5411764705882353, 'recall': 0.6121673003802282, 'specificity': 0.502906976744186, 'g_mean': 0.5548542207606162}, 'max f1 metrics': {'threshold': 0.19794564142229443, 'accuracy': 0.5502471169686985, 'f1': 0.5411764705882353, 'recall': 0.6121673003802282, 'specificity': 0.502906976744186, 'g_mean': 0.5548542207606162}, 'default_accuracy': 0.5667215815485996, 'default_f1': 0.0, 'default_recall': 0.0, 'default_specificity': 1.0, 'default_g_mean': 0.0}\n",
            "\n",
            "=============== EPOCH 8 / 8 ===============\n",
            "\n",
            "___ batch index = 0 / 1836 (0.00%), loss = 0.7375, time = 0.03 secondes ___\n"
          ],
          "name": "stdout"
        },
        {
          "output_type": "stream",
          "text": [
            "___ batch index = 250 / 1836 (13.62%), loss = 0.6256, time = 12.83 secondes ___\n"
          ],
          "name": "stdout"
        },
        {
          "output_type": "stream",
          "text": [
            "___ batch index = 500 / 1836 (27.23%), loss = 0.6665, time = 12.38 secondes ___\n"
          ],
          "name": "stdout"
        },
        {
          "output_type": "stream",
          "text": [
            "___ batch index = 750 / 1836 (40.85%), loss = 0.6243, time = 11.46 secondes ___\n"
          ],
          "name": "stdout"
        },
        {
          "output_type": "stream",
          "text": [
            "___ batch index = 1000 / 1836 (54.47%), loss = 0.7852, time = 13.16 secondes ___\n"
          ],
          "name": "stdout"
        },
        {
          "output_type": "stream",
          "text": [
            "___ batch index = 1250 / 1836 (68.08%), loss = 0.6166, time = 11.87 secondes ___\n"
          ],
          "name": "stdout"
        },
        {
          "output_type": "stream",
          "text": [
            "___ batch index = 1500 / 1836 (81.70%), loss = 0.6379, time = 12.00 secondes ___\n"
          ],
          "name": "stdout"
        },
        {
          "output_type": "stream",
          "text": [
            "___ batch index = 1750 / 1836 (95.32%), loss = 0.6979, time = 13.12 secondes ___\n"
          ],
          "name": "stdout"
        },
        {
          "output_type": "stream",
          "text": [
            "\n",
            "*** avg_loss : 0.65, time : ~1.0 min (91.84 sec) ***\n",
            "\n"
          ],
          "name": "stdout"
        },
        {
          "output_type": "stream",
          "text": [
            "==> evaluation : avg_loss = 0.71, time : 29.45 sec\n",
            "\n"
          ],
          "name": "stdout"
        },
        {
          "output_type": "stream",
          "text": [
            "threshold (g-mean):  0.23935400147440222\n"
          ],
          "name": "stdout"
        },
        {
          "output_type": "stream",
          "text": [
            "threshold (f1):  0.22925400147440333\n",
            "=====>\t{'Positive Rate': 0.4332784184514003, 'max g_mean metrics': {'threshold': 0.23935400147440222, 'accuracy': 0.5469522240527183, 'f1': 0.5283018867924527, 'recall': 0.5855513307984791, 'specificity': 0.5174418604651163, 'g_mean': 0.5504441570279313}, 'max f1 metrics': {'threshold': 0.22925400147440333, 'accuracy': 0.5436573311367381, 'f1': 0.5360134003350083, 'recall': 0.6083650190114068, 'specificity': 0.4941860465116279, 'g_mean': 0.54831150232438}, 'default_accuracy': 0.5667215815485996, 'default_f1': 0.0, 'default_recall': 0.0, 'default_specificity': 1.0, 'default_g_mean': 0.0}\n",
            "@@@@@@@@@@@@@@@@@@@@@@@@@@@@@@@@@@@@@@@@@@@@@ END @@@@@@@@@@@@@@@@@@@@@@@@@@@@@@@@@@@@@@@@@@@@@@@\n"
          ],
          "name": "stdout"
        },
        {
          "output_type": "stream",
          "text": [
            "xxxxxxxxxxxxxxxxxxxxxxxxxxxxxxxxxxxx END Para label:  Adecuación curricular de acceso  (12) xxxxxxxxxxxxxxxxxxxxxxxxx\n",
            "#################################################### Para label:  Adecuación curricular de objetivos  (13) ##############\n",
            "--------------------------------------lr: 1e-07-----------------------------\n",
            "+++++++++++++++++++++++++++++++++++++++++++++++++++ n layers: 1 ++++++++++++++++++++++++++++++++++++++++++++++++\n",
            "/////////////////////////////////////////// GA: 16 ///////////////////////////////////////////////////////\n"
          ],
          "name": "stdout"
        },
        {
          "output_type": "stream",
          "text": [
            "\n",
            "=============== EPOCH 1 / 8 ===============\n",
            "\n",
            "___ batch index = 0 / 1836 (0.00%), loss = 0.6437, time = 0.03 secondes ___\n"
          ],
          "name": "stdout"
        },
        {
          "output_type": "stream",
          "text": [
            "___ batch index = 250 / 1836 (13.62%), loss = 0.7043, time = 12.83 secondes ___\n"
          ],
          "name": "stdout"
        },
        {
          "output_type": "stream",
          "text": [
            "___ batch index = 500 / 1836 (27.23%), loss = 0.6514, time = 12.38 secondes ___\n"
          ],
          "name": "stdout"
        },
        {
          "output_type": "stream",
          "text": [
            "___ batch index = 750 / 1836 (40.85%), loss = 0.6701, time = 11.46 secondes ___\n"
          ],
          "name": "stdout"
        },
        {
          "output_type": "stream",
          "text": [
            "___ batch index = 1000 / 1836 (54.47%), loss = 0.6433, time = 13.14 secondes ___\n"
          ],
          "name": "stdout"
        },
        {
          "output_type": "stream",
          "text": [
            "___ batch index = 1250 / 1836 (68.08%), loss = 0.6468, time = 11.87 secondes ___\n"
          ],
          "name": "stdout"
        },
        {
          "output_type": "stream",
          "text": [
            "___ batch index = 1500 / 1836 (81.70%), loss = 0.6801, time = 12.00 secondes ___\n"
          ],
          "name": "stdout"
        },
        {
          "output_type": "stream",
          "text": [
            "___ batch index = 1750 / 1836 (95.32%), loss = 0.6404, time = 13.09 secondes ___\n"
          ],
          "name": "stdout"
        },
        {
          "output_type": "stream",
          "text": [
            "\n",
            "*** avg_loss : 0.67, time : ~1.0 min (91.81 sec) ***\n",
            "\n"
          ],
          "name": "stdout"
        },
        {
          "output_type": "stream",
          "text": [
            "==> evaluation : avg_loss = 0.69, time : 29.51 sec\n",
            "\n"
          ],
          "name": "stdout"
        },
        {
          "output_type": "stream",
          "text": [
            "threshold (g-mean):  0.0012647307395914577\n"
          ],
          "name": "stdout"
        },
        {
          "output_type": "stream",
          "text": [
            "threshold (f1):  0.0012647307395914577\n",
            "=====>\t{'Positive Rate': 0.4332784184514003, 'max g_mean metrics': {'threshold': 0.0012647307395914577, 'accuracy': 0.5518945634266886, 'f1': 0.20467836257309943, 'recall': 0.13307984790874525, 'specificity': 0.872093023255814, 'g_mean': 0.34067287373250243}, 'max f1 metrics': {'threshold': 0.0012647307395914577, 'accuracy': 0.5518945634266886, 'f1': 0.20467836257309943, 'recall': 0.13307984790874525, 'specificity': 0.872093023255814, 'g_mean': 0.34067287373250243}, 'default_accuracy': 0.5667215815485996, 'default_f1': 0.0, 'default_recall': 0.0, 'default_specificity': 1.0, 'default_g_mean': 0.0}\n",
            "\n",
            "=============== EPOCH 2 / 8 ===============\n",
            "\n",
            "___ batch index = 0 / 1836 (0.00%), loss = 0.6354, time = 0.03 secondes ___\n"
          ],
          "name": "stdout"
        },
        {
          "output_type": "stream",
          "text": [
            "___ batch index = 250 / 1836 (13.62%), loss = 0.7185, time = 12.85 secondes ___\n"
          ],
          "name": "stdout"
        },
        {
          "output_type": "stream",
          "text": [
            "___ batch index = 500 / 1836 (27.23%), loss = 0.6567, time = 12.38 secondes ___\n"
          ],
          "name": "stdout"
        },
        {
          "output_type": "stream",
          "text": [
            "___ batch index = 750 / 1836 (40.85%), loss = 0.6701, time = 11.46 secondes ___\n"
          ],
          "name": "stdout"
        },
        {
          "output_type": "stream",
          "text": [
            "___ batch index = 1000 / 1836 (54.47%), loss = 0.6371, time = 13.15 secondes ___\n"
          ],
          "name": "stdout"
        },
        {
          "output_type": "stream",
          "text": [
            "___ batch index = 1250 / 1836 (68.08%), loss = 0.6423, time = 11.86 secondes ___\n"
          ],
          "name": "stdout"
        },
        {
          "output_type": "stream",
          "text": [
            "___ batch index = 1500 / 1836 (81.70%), loss = 0.6813, time = 11.99 secondes ___\n"
          ],
          "name": "stdout"
        },
        {
          "output_type": "stream",
          "text": [
            "___ batch index = 1750 / 1836 (95.32%), loss = 0.6329, time = 13.09 secondes ___\n"
          ],
          "name": "stdout"
        },
        {
          "output_type": "stream",
          "text": [
            "\n",
            "*** avg_loss : 0.66, time : ~1.0 min (91.81 sec) ***\n",
            "\n"
          ],
          "name": "stdout"
        },
        {
          "output_type": "stream",
          "text": [
            "==> evaluation : avg_loss = 0.69, time : 29.47 sec\n",
            "\n"
          ],
          "name": "stdout"
        },
        {
          "output_type": "stream",
          "text": [
            "threshold (g-mean):  0.0013740734457950072\n"
          ],
          "name": "stdout"
        },
        {
          "output_type": "stream",
          "text": [
            "threshold (f1):  0.0013740734457950072\n",
            "=====>\t{'Positive Rate': 0.4332784184514003, 'max g_mean metrics': {'threshold': 0.0013740734457950072, 'accuracy': 0.5518945634266886, 'f1': 0.18562874251497005, 'recall': 0.11787072243346007, 'specificity': 0.8837209302325582, 'g_mean': 0.3227457582619499}, 'max f1 metrics': {'threshold': 0.0013740734457950072, 'accuracy': 0.5518945634266886, 'f1': 0.18562874251497005, 'recall': 0.11787072243346007, 'specificity': 0.8837209302325582, 'g_mean': 0.3227457582619499}, 'default_accuracy': 0.5667215815485996, 'default_f1': 0.0, 'default_recall': 0.0, 'default_specificity': 1.0, 'default_g_mean': 0.0}\n",
            "\n",
            "=============== EPOCH 3 / 8 ===============\n",
            "\n",
            "___ batch index = 0 / 1836 (0.00%), loss = 0.6227, time = 0.03 secondes ___\n"
          ],
          "name": "stdout"
        },
        {
          "output_type": "stream",
          "text": [
            "___ batch index = 250 / 1836 (13.62%), loss = 0.7223, time = 12.83 secondes ___\n"
          ],
          "name": "stdout"
        },
        {
          "output_type": "stream",
          "text": [
            "___ batch index = 500 / 1836 (27.23%), loss = 0.6560, time = 12.37 secondes ___\n"
          ],
          "name": "stdout"
        },
        {
          "output_type": "stream",
          "text": [
            "___ batch index = 750 / 1836 (40.85%), loss = 0.6698, time = 11.45 secondes ___\n"
          ],
          "name": "stdout"
        },
        {
          "output_type": "stream",
          "text": [
            "___ batch index = 1000 / 1836 (54.47%), loss = 0.6450, time = 13.14 secondes ___\n"
          ],
          "name": "stdout"
        },
        {
          "output_type": "stream",
          "text": [
            "___ batch index = 1250 / 1836 (68.08%), loss = 0.6430, time = 11.86 secondes ___\n"
          ],
          "name": "stdout"
        },
        {
          "output_type": "stream",
          "text": [
            "___ batch index = 1500 / 1836 (81.70%), loss = 0.6761, time = 11.99 secondes ___\n"
          ],
          "name": "stdout"
        },
        {
          "output_type": "stream",
          "text": [
            "___ batch index = 1750 / 1836 (95.32%), loss = 0.6229, time = 13.09 secondes ___\n"
          ],
          "name": "stdout"
        },
        {
          "output_type": "stream",
          "text": [
            "\n",
            "*** avg_loss : 0.66, time : ~1.0 min (91.79 sec) ***\n",
            "\n"
          ],
          "name": "stdout"
        },
        {
          "output_type": "stream",
          "text": [
            "==> evaluation : avg_loss = 0.69, time : 29.58 sec\n",
            "\n"
          ],
          "name": "stdout"
        },
        {
          "output_type": "stream",
          "text": [
            "threshold (g-mean):  0.0004174504041653048\n"
          ],
          "name": "stdout"
        },
        {
          "output_type": "stream",
          "text": [
            "threshold (f1):  0.0004174504041653048\n",
            "=====>\t{'Positive Rate': 0.4332784184514003, 'max g_mean metrics': {'threshold': 0.0004174504041653048, 'accuracy': 0.5535420098846787, 'f1': 0.1609907120743034, 'recall': 0.09885931558935361, 'specificity': 0.9011627906976745, 'g_mean': 0.29847669376848174}, 'max f1 metrics': {'threshold': 0.0004174504041653048, 'accuracy': 0.5535420098846787, 'f1': 0.1609907120743034, 'recall': 0.09885931558935361, 'specificity': 0.9011627906976745, 'g_mean': 0.29847669376848174}, 'default_accuracy': 0.5667215815485996, 'default_f1': 0.0, 'default_recall': 0.0, 'default_specificity': 1.0, 'default_g_mean': 0.0}\n",
            "\n",
            "=============== EPOCH 4 / 8 ===============\n",
            "\n",
            "___ batch index = 0 / 1836 (0.00%), loss = 0.6292, time = 0.03 secondes ___\n"
          ],
          "name": "stdout"
        },
        {
          "output_type": "stream",
          "text": [
            "___ batch index = 250 / 1836 (13.62%), loss = 0.7246, time = 12.90 secondes ___\n"
          ],
          "name": "stdout"
        },
        {
          "output_type": "stream",
          "text": [
            "___ batch index = 500 / 1836 (27.23%), loss = 0.6540, time = 12.44 secondes ___\n"
          ],
          "name": "stdout"
        },
        {
          "output_type": "stream",
          "text": [
            "___ batch index = 750 / 1836 (40.85%), loss = 0.6638, time = 11.51 secondes ___\n"
          ],
          "name": "stdout"
        },
        {
          "output_type": "stream",
          "text": [
            "___ batch index = 1000 / 1836 (54.47%), loss = 0.6318, time = 13.20 secondes ___\n"
          ],
          "name": "stdout"
        },
        {
          "output_type": "stream",
          "text": [
            "___ batch index = 1250 / 1836 (68.08%), loss = 0.6418, time = 11.92 secondes ___\n"
          ],
          "name": "stdout"
        },
        {
          "output_type": "stream",
          "text": [
            "___ batch index = 1500 / 1836 (81.70%), loss = 0.6686, time = 12.04 secondes ___\n"
          ],
          "name": "stdout"
        },
        {
          "output_type": "stream",
          "text": [
            "___ batch index = 1750 / 1836 (95.32%), loss = 0.6226, time = 13.09 secondes ___\n"
          ],
          "name": "stdout"
        },
        {
          "output_type": "stream",
          "text": [
            "\n",
            "*** avg_loss : 0.66, time : ~1.0 min (92.14 sec) ***\n",
            "\n"
          ],
          "name": "stdout"
        },
        {
          "output_type": "stream",
          "text": [
            "==> evaluation : avg_loss = 0.69, time : 29.46 sec\n",
            "\n"
          ],
          "name": "stdout"
        },
        {
          "output_type": "stream",
          "text": [
            "threshold (g-mean):  0.0006910394668561252\n"
          ],
          "name": "stdout"
        },
        {
          "output_type": "stream",
          "text": [
            "threshold (f1):  0.0006910394668561252\n",
            "=====>\t{'Positive Rate': 0.4332784184514003, 'max g_mean metrics': {'threshold': 0.0006910394668561252, 'accuracy': 0.5551894563426688, 'f1': 0.13461538461538464, 'recall': 0.07984790874524715, 'specificity': 0.9186046511627907, 'g_mean': 0.2708295780726435}, 'max f1 metrics': {'threshold': 0.0006910394668561252, 'accuracy': 0.5551894563426688, 'f1': 0.13461538461538464, 'recall': 0.07984790874524715, 'specificity': 0.9186046511627907, 'g_mean': 0.2708295780726435}, 'default_accuracy': 0.5667215815485996, 'default_f1': 0.0, 'default_recall': 0.0, 'default_specificity': 1.0, 'default_g_mean': 0.0}\n",
            "\n",
            "=============== EPOCH 5 / 8 ===============\n",
            "\n",
            "___ batch index = 0 / 1836 (0.00%), loss = 0.6426, time = 0.03 secondes ___\n"
          ],
          "name": "stdout"
        },
        {
          "output_type": "stream",
          "text": [
            "___ batch index = 250 / 1836 (13.62%), loss = 0.7175, time = 12.85 secondes ___\n"
          ],
          "name": "stdout"
        },
        {
          "output_type": "stream",
          "text": [
            "___ batch index = 500 / 1836 (27.23%), loss = 0.6517, time = 12.38 secondes ___\n"
          ],
          "name": "stdout"
        },
        {
          "output_type": "stream",
          "text": [
            "___ batch index = 750 / 1836 (40.85%), loss = 0.6647, time = 11.46 secondes ___\n"
          ],
          "name": "stdout"
        },
        {
          "output_type": "stream",
          "text": [
            "___ batch index = 1000 / 1836 (54.47%), loss = 0.6338, time = 13.14 secondes ___\n"
          ],
          "name": "stdout"
        },
        {
          "output_type": "stream",
          "text": [
            "___ batch index = 1250 / 1836 (68.08%), loss = 0.6398, time = 11.87 secondes ___\n"
          ],
          "name": "stdout"
        },
        {
          "output_type": "stream",
          "text": [
            "___ batch index = 1500 / 1836 (81.70%), loss = 0.6753, time = 12.00 secondes ___\n"
          ],
          "name": "stdout"
        },
        {
          "output_type": "stream",
          "text": [
            "___ batch index = 1750 / 1836 (95.32%), loss = 0.6302, time = 13.10 secondes ___\n"
          ],
          "name": "stdout"
        },
        {
          "output_type": "stream",
          "text": [
            "\n",
            "*** avg_loss : 0.66, time : ~1.0 min (91.83 sec) ***\n",
            "\n"
          ],
          "name": "stdout"
        },
        {
          "output_type": "stream",
          "text": [
            "==> evaluation : avg_loss = 0.69, time : 29.46 sec\n",
            "\n"
          ],
          "name": "stdout"
        },
        {
          "output_type": "stream",
          "text": [
            "threshold (g-mean):  0.0004894836664182838\n"
          ],
          "name": "stdout"
        },
        {
          "output_type": "stream",
          "text": [
            "threshold (f1):  0.0004894836664182838\n",
            "=====>\t{'Positive Rate': 0.4332784184514003, 'max g_mean metrics': {'threshold': 0.0004894836664182838, 'accuracy': 0.5535420098846787, 'f1': 0.12297734627831713, 'recall': 0.07224334600760456, 'specificity': 0.9215116279069767, 'g_mean': 0.25801760285863184}, 'max f1 metrics': {'threshold': 0.0004894836664182838, 'accuracy': 0.5535420098846787, 'f1': 0.12297734627831713, 'recall': 0.07224334600760456, 'specificity': 0.9215116279069767, 'g_mean': 0.25801760285863184}, 'default_accuracy': 0.5667215815485996, 'default_f1': 0.0, 'default_recall': 0.0, 'default_specificity': 1.0, 'default_g_mean': 0.0}\n",
            "\n",
            "=============== EPOCH 6 / 8 ===============\n",
            "\n",
            "___ batch index = 0 / 1836 (0.00%), loss = 0.6481, time = 0.03 secondes ___\n"
          ],
          "name": "stdout"
        },
        {
          "output_type": "stream",
          "text": [
            "___ batch index = 250 / 1836 (13.62%), loss = 0.7192, time = 12.83 secondes ___\n"
          ],
          "name": "stdout"
        },
        {
          "output_type": "stream",
          "text": [
            "___ batch index = 500 / 1836 (27.23%), loss = 0.6388, time = 12.38 secondes ___\n"
          ],
          "name": "stdout"
        },
        {
          "output_type": "stream",
          "text": [
            "___ batch index = 750 / 1836 (40.85%), loss = 0.6617, time = 11.46 secondes ___\n"
          ],
          "name": "stdout"
        },
        {
          "output_type": "stream",
          "text": [
            "___ batch index = 1000 / 1836 (54.47%), loss = 0.6325, time = 13.15 secondes ___\n"
          ],
          "name": "stdout"
        },
        {
          "output_type": "stream",
          "text": [
            "___ batch index = 1250 / 1836 (68.08%), loss = 0.6391, time = 11.86 secondes ___\n"
          ],
          "name": "stdout"
        },
        {
          "output_type": "stream",
          "text": [
            "___ batch index = 1500 / 1836 (81.70%), loss = 0.6679, time = 12.00 secondes ___\n"
          ],
          "name": "stdout"
        },
        {
          "output_type": "stream",
          "text": [
            "___ batch index = 1750 / 1836 (95.32%), loss = 0.6226, time = 13.10 secondes ___\n"
          ],
          "name": "stdout"
        },
        {
          "output_type": "stream",
          "text": [
            "\n",
            "*** avg_loss : 0.66, time : ~1.0 min (91.82 sec) ***\n",
            "\n"
          ],
          "name": "stdout"
        },
        {
          "output_type": "stream",
          "text": [
            "==> evaluation : avg_loss = 0.69, time : 29.46 sec\n",
            "\n"
          ],
          "name": "stdout"
        },
        {
          "output_type": "stream",
          "text": [
            "threshold (g-mean):  0.00031697022914725203\n"
          ],
          "name": "stdout"
        },
        {
          "output_type": "stream",
          "text": [
            "threshold (f1):  0.00031697022914725203\n",
            "=====>\t{'Positive Rate': 0.4332784184514003, 'max g_mean metrics': {'threshold': 0.00031697022914725203, 'accuracy': 0.5535420098846787, 'f1': 0.11147540983606558, 'recall': 0.06463878326996197, 'specificity': 0.9273255813953488, 'g_mean': 0.2448289142983431}, 'max f1 metrics': {'threshold': 0.00031697022914725203, 'accuracy': 0.5535420098846787, 'f1': 0.11147540983606558, 'recall': 0.06463878326996197, 'specificity': 0.9273255813953488, 'g_mean': 0.2448289142983431}, 'default_accuracy': 0.5667215815485996, 'default_f1': 0.0, 'default_recall': 0.0, 'default_specificity': 1.0, 'default_g_mean': 0.0}\n",
            "\n",
            "=============== EPOCH 7 / 8 ===============\n",
            "\n",
            "___ batch index = 0 / 1836 (0.00%), loss = 0.6286, time = 0.03 secondes ___\n"
          ],
          "name": "stdout"
        },
        {
          "output_type": "stream",
          "text": [
            "___ batch index = 250 / 1836 (13.62%), loss = 0.7286, time = 12.85 secondes ___\n"
          ],
          "name": "stdout"
        },
        {
          "output_type": "stream",
          "text": [
            "___ batch index = 500 / 1836 (27.23%), loss = 0.6388, time = 12.38 secondes ___\n"
          ],
          "name": "stdout"
        },
        {
          "output_type": "stream",
          "text": [
            "___ batch index = 750 / 1836 (40.85%), loss = 0.6516, time = 11.46 secondes ___\n"
          ],
          "name": "stdout"
        },
        {
          "output_type": "stream",
          "text": [
            "___ batch index = 1000 / 1836 (54.47%), loss = 0.6320, time = 13.15 secondes ___\n"
          ],
          "name": "stdout"
        },
        {
          "output_type": "stream",
          "text": [
            "___ batch index = 1250 / 1836 (68.08%), loss = 0.6285, time = 11.81 secondes ___\n"
          ],
          "name": "stdout"
        },
        {
          "output_type": "stream",
          "text": [
            "___ batch index = 1500 / 1836 (81.70%), loss = 0.6702, time = 11.94 secondes ___\n"
          ],
          "name": "stdout"
        },
        {
          "output_type": "stream",
          "text": [
            "___ batch index = 1750 / 1836 (95.32%), loss = 0.6222, time = 13.03 secondes ___\n"
          ],
          "name": "stdout"
        },
        {
          "output_type": "stream",
          "text": [
            "\n",
            "*** avg_loss : 0.66, time : ~1.0 min (91.64 sec) ***\n",
            "\n"
          ],
          "name": "stdout"
        },
        {
          "output_type": "stream",
          "text": [
            "==> evaluation : avg_loss = 0.69, time : 29.31 sec\n",
            "\n"
          ],
          "name": "stdout"
        },
        {
          "output_type": "stream",
          "text": [
            "threshold (g-mean):  0.0005695205450042683\n"
          ],
          "name": "stdout"
        },
        {
          "output_type": "stream",
          "text": [
            "threshold (f1):  0.0005695205450042683\n",
            "=====>\t{'Positive Rate': 0.4332784184514003, 'max g_mean metrics': {'threshold': 0.0005695205450042683, 'accuracy': 0.556836902800659, 'f1': 0.10631229235880399, 'recall': 0.060836501901140684, 'specificity': 0.936046511627907, 'g_mean': 0.2386331816495922}, 'max f1 metrics': {'threshold': 0.0005695205450042683, 'accuracy': 0.556836902800659, 'f1': 0.10631229235880399, 'recall': 0.060836501901140684, 'specificity': 0.936046511627907, 'g_mean': 0.2386331816495922}, 'default_accuracy': 0.5667215815485996, 'default_f1': 0.0, 'default_recall': 0.0, 'default_specificity': 1.0, 'default_g_mean': 0.0}\n",
            "\n",
            "=============== EPOCH 8 / 8 ===============\n",
            "\n",
            "___ batch index = 0 / 1836 (0.00%), loss = 0.6506, time = 0.03 secondes ___\n"
          ],
          "name": "stdout"
        },
        {
          "output_type": "stream",
          "text": [
            "___ batch index = 250 / 1836 (13.62%), loss = 0.7328, time = 12.90 secondes ___\n"
          ],
          "name": "stdout"
        },
        {
          "output_type": "stream",
          "text": [
            "___ batch index = 500 / 1836 (27.23%), loss = 0.6453, time = 12.43 secondes ___\n"
          ],
          "name": "stdout"
        },
        {
          "output_type": "stream",
          "text": [
            "___ batch index = 750 / 1836 (40.85%), loss = 0.6558, time = 11.37 secondes ___\n"
          ],
          "name": "stdout"
        },
        {
          "output_type": "stream",
          "text": [
            "___ batch index = 1000 / 1836 (54.47%), loss = 0.6245, time = 13.07 secondes ___\n"
          ],
          "name": "stdout"
        },
        {
          "output_type": "stream",
          "text": [
            "___ batch index = 1250 / 1836 (68.08%), loss = 0.6347, time = 11.79 secondes ___\n"
          ],
          "name": "stdout"
        },
        {
          "output_type": "stream",
          "text": [
            "___ batch index = 1500 / 1836 (81.70%), loss = 0.6674, time = 11.91 secondes ___\n"
          ],
          "name": "stdout"
        },
        {
          "output_type": "stream",
          "text": [
            "___ batch index = 1750 / 1836 (95.32%), loss = 0.6121, time = 13.02 secondes ___\n"
          ],
          "name": "stdout"
        },
        {
          "output_type": "stream",
          "text": [
            "\n",
            "*** avg_loss : 0.66, time : ~1.0 min (91.50 sec) ***\n",
            "\n"
          ],
          "name": "stdout"
        },
        {
          "output_type": "stream",
          "text": [
            "==> evaluation : avg_loss = 0.69, time : 29.27 sec\n",
            "\n"
          ],
          "name": "stdout"
        },
        {
          "output_type": "stream",
          "text": [
            "threshold (g-mean):  0.0007467918872818816\n"
          ],
          "name": "stdout"
        },
        {
          "output_type": "stream",
          "text": [
            "threshold (f1):  0.0007467918872818816\n",
            "=====>\t{'Positive Rate': 0.4332784184514003, 'max g_mean metrics': {'threshold': 0.0007467918872818816, 'accuracy': 0.5617792421746294, 'f1': 0.09523809523809523, 'recall': 0.053231939163498096, 'specificity': 0.9505813953488372, 'g_mean': 0.22494730717917572}, 'max f1 metrics': {'threshold': 0.0007467918872818816, 'accuracy': 0.5617792421746294, 'f1': 0.09523809523809523, 'recall': 0.053231939163498096, 'specificity': 0.9505813953488372, 'g_mean': 0.22494730717917572}, 'default_accuracy': 0.5667215815485996, 'default_f1': 0.0, 'default_recall': 0.0, 'default_specificity': 1.0, 'default_g_mean': 0.0}\n",
            "@@@@@@@@@@@@@@@@@@@@@@@@@@@@@@@@@@@@@@@@@@@@@ END @@@@@@@@@@@@@@@@@@@@@@@@@@@@@@@@@@@@@@@@@@@@@@@\n",
            "--------------------------------------lr: 1e-06-----------------------------\n",
            "+++++++++++++++++++++++++++++++++++++++++++++++++++ n layers: 1 ++++++++++++++++++++++++++++++++++++++++++++++++\n",
            "/////////////////////////////////////////// GA: 16 ///////////////////////////////////////////////////////\n",
            "\n",
            "=============== EPOCH 1 / 8 ===============\n",
            "\n",
            "___ batch index = 0 / 1836 (0.00%), loss = 0.7245, time = 0.03 secondes ___\n"
          ],
          "name": "stdout"
        },
        {
          "output_type": "stream",
          "text": [
            "___ batch index = 250 / 1836 (13.62%), loss = 0.7151, time = 12.75 secondes ___\n"
          ],
          "name": "stdout"
        },
        {
          "output_type": "stream",
          "text": [
            "___ batch index = 500 / 1836 (27.23%), loss = 0.6729, time = 12.29 secondes ___\n"
          ],
          "name": "stdout"
        },
        {
          "output_type": "stream",
          "text": [
            "___ batch index = 750 / 1836 (40.85%), loss = 0.6829, time = 11.37 secondes ___\n"
          ],
          "name": "stdout"
        },
        {
          "output_type": "stream",
          "text": [
            "___ batch index = 1000 / 1836 (54.47%), loss = 0.6539, time = 13.06 secondes ___\n"
          ],
          "name": "stdout"
        },
        {
          "output_type": "stream",
          "text": [
            "___ batch index = 1250 / 1836 (68.08%), loss = 0.6627, time = 11.78 secondes ___\n"
          ],
          "name": "stdout"
        },
        {
          "output_type": "stream",
          "text": [
            "___ batch index = 1500 / 1836 (81.70%), loss = 0.6555, time = 11.91 secondes ___\n"
          ],
          "name": "stdout"
        },
        {
          "output_type": "stream",
          "text": [
            "___ batch index = 1750 / 1836 (95.32%), loss = 0.6340, time = 13.02 secondes ___\n"
          ],
          "name": "stdout"
        },
        {
          "output_type": "stream",
          "text": [
            "\n",
            "*** avg_loss : 0.67, time : ~1.0 min (91.21 sec) ***\n",
            "\n"
          ],
          "name": "stdout"
        },
        {
          "output_type": "stream",
          "text": [
            "==> evaluation : avg_loss = 0.69, time : 29.45 sec\n",
            "\n"
          ],
          "name": "stdout"
        },
        {
          "output_type": "stream",
          "text": [
            "threshold (g-mean):  0.00031587576866024924\n"
          ],
          "name": "stdout"
        },
        {
          "output_type": "stream",
          "text": [
            "threshold (f1):  0.00031587576866024924\n",
            "=====>\t{'Positive Rate': 0.4332784184514003, 'max g_mean metrics': {'threshold': 0.00031587576866024924, 'accuracy': 0.5255354200988468, 'f1': 0.03355704697986577, 'recall': 0.019011406844106463, 'specificity': 0.9127906976744186, 'g_mean': 0.13173243836278198}, 'max f1 metrics': {'threshold': 0.00031587576866024924, 'accuracy': 0.5255354200988468, 'f1': 0.03355704697986577, 'recall': 0.019011406844106463, 'specificity': 0.9127906976744186, 'g_mean': 0.13173243836278198}, 'default_accuracy': 0.5667215815485996, 'default_f1': 0.0, 'default_recall': 0.0, 'default_specificity': 1.0, 'default_g_mean': 0.0}\n",
            "\n",
            "=============== EPOCH 2 / 8 ===============\n",
            "\n",
            "___ batch index = 0 / 1836 (0.00%), loss = 0.6726, time = 0.03 secondes ___\n"
          ],
          "name": "stdout"
        },
        {
          "output_type": "stream",
          "text": [
            "___ batch index = 250 / 1836 (13.62%), loss = 0.7500, time = 12.84 secondes ___\n"
          ],
          "name": "stdout"
        },
        {
          "output_type": "stream",
          "text": [
            "___ batch index = 500 / 1836 (27.23%), loss = 0.6447, time = 12.38 secondes ___\n"
          ],
          "name": "stdout"
        },
        {
          "output_type": "stream",
          "text": [
            "___ batch index = 750 / 1836 (40.85%), loss = 0.6576, time = 11.46 secondes ___\n"
          ],
          "name": "stdout"
        },
        {
          "output_type": "stream",
          "text": [
            "___ batch index = 1000 / 1836 (54.47%), loss = 0.6276, time = 13.16 secondes ___\n"
          ],
          "name": "stdout"
        },
        {
          "output_type": "stream",
          "text": [
            "___ batch index = 1250 / 1836 (68.08%), loss = 0.6351, time = 11.86 secondes ___\n"
          ],
          "name": "stdout"
        },
        {
          "output_type": "stream",
          "text": [
            "___ batch index = 1500 / 1836 (81.70%), loss = 0.6335, time = 12.00 secondes ___\n"
          ],
          "name": "stdout"
        },
        {
          "output_type": "stream",
          "text": [
            "___ batch index = 1750 / 1836 (95.32%), loss = 0.6037, time = 13.11 secondes ___\n"
          ],
          "name": "stdout"
        },
        {
          "output_type": "stream",
          "text": [
            "\n",
            "*** avg_loss : 0.65, time : ~1.0 min (91.83 sec) ***\n",
            "\n"
          ],
          "name": "stdout"
        },
        {
          "output_type": "stream",
          "text": [
            "==> evaluation : avg_loss = 0.69, time : 29.46 sec\n",
            "\n"
          ],
          "name": "stdout"
        },
        {
          "output_type": "stream",
          "text": [
            "threshold (g-mean):  0.00028172043561731436\n"
          ],
          "name": "stdout"
        },
        {
          "output_type": "stream",
          "text": [
            "threshold (f1):  0.00028172043561731436\n",
            "=====>\t{'Positive Rate': 0.4332784184514003, 'max g_mean metrics': {'threshold': 0.00028172043561731436, 'accuracy': 0.5535420098846787, 'f1': 0.014545454545454544, 'recall': 0.0076045627376425855, 'specificity': 0.9709302325581395, 'g_mean': 0.0859272940768082}, 'max f1 metrics': {'threshold': 0.00028172043561731436, 'accuracy': 0.5535420098846787, 'f1': 0.014545454545454544, 'recall': 0.0076045627376425855, 'specificity': 0.9709302325581395, 'g_mean': 0.0859272940768082}, 'default_accuracy': 0.5667215815485996, 'default_f1': 0.0, 'default_recall': 0.0, 'default_specificity': 1.0, 'default_g_mean': 0.0}\n",
            "\n",
            "=============== EPOCH 3 / 8 ===============\n",
            "\n",
            "___ batch index = 0 / 1836 (0.00%), loss = 0.6837, time = 0.03 secondes ___\n"
          ],
          "name": "stdout"
        },
        {
          "output_type": "stream",
          "text": [
            "___ batch index = 250 / 1836 (13.62%), loss = 0.7854, time = 12.84 secondes ___\n"
          ],
          "name": "stdout"
        },
        {
          "output_type": "stream",
          "text": [
            "___ batch index = 500 / 1836 (27.23%), loss = 0.6266, time = 12.40 secondes ___\n"
          ],
          "name": "stdout"
        },
        {
          "output_type": "stream",
          "text": [
            "___ batch index = 750 / 1836 (40.85%), loss = 0.6373, time = 11.47 secondes ___\n"
          ],
          "name": "stdout"
        },
        {
          "output_type": "stream",
          "text": [
            "___ batch index = 1000 / 1836 (54.47%), loss = 0.6002, time = 13.17 secondes ___\n"
          ],
          "name": "stdout"
        },
        {
          "output_type": "stream",
          "text": [
            "___ batch index = 1250 / 1836 (68.08%), loss = 0.6042, time = 11.88 secondes ___\n"
          ],
          "name": "stdout"
        },
        {
          "output_type": "stream",
          "text": [
            "___ batch index = 1500 / 1836 (81.70%), loss = 0.6032, time = 12.00 secondes ___\n"
          ],
          "name": "stdout"
        },
        {
          "output_type": "stream",
          "text": [
            "___ batch index = 1750 / 1836 (95.32%), loss = 0.5849, time = 13.11 secondes ___\n"
          ],
          "name": "stdout"
        },
        {
          "output_type": "stream",
          "text": [
            "\n",
            "*** avg_loss : 0.63, time : ~1.0 min (91.90 sec) ***\n",
            "\n"
          ],
          "name": "stdout"
        },
        {
          "output_type": "stream",
          "text": [
            "==> evaluation : avg_loss = 0.69, time : 29.47 sec\n",
            "\n"
          ],
          "name": "stdout"
        },
        {
          "output_type": "stream",
          "text": [
            "threshold (g-mean):  1\n"
          ],
          "name": "stdout"
        },
        {
          "output_type": "stream",
          "text": [
            "threshold (f1):  1\n",
            "=====>\t{'Positive Rate': 0.4332784184514003, 'max g_mean metrics': {'threshold': 1, 'accuracy': 0.5667215815485996, 'f1': 0.0, 'recall': 0.0, 'specificity': 1.0, 'g_mean': 0.0}, 'max f1 metrics': {'threshold': 1, 'accuracy': 0.5667215815485996, 'f1': 0.0, 'recall': 0.0, 'specificity': 1.0, 'g_mean': 0.0}, 'default_accuracy': 0.5667215815485996, 'default_f1': 0.0, 'default_recall': 0.0, 'default_specificity': 1.0, 'default_g_mean': 0.0}\n",
            "\n",
            "=============== EPOCH 4 / 8 ===============\n",
            "\n",
            "___ batch index = 0 / 1836 (0.00%), loss = 0.6487, time = 0.03 secondes ___\n"
          ],
          "name": "stdout"
        },
        {
          "output_type": "stream",
          "text": [
            "___ batch index = 250 / 1836 (13.62%), loss = 0.8095, time = 12.85 secondes ___\n"
          ],
          "name": "stdout"
        },
        {
          "output_type": "stream",
          "text": [
            "___ batch index = 500 / 1836 (27.23%), loss = 0.6001, time = 12.39 secondes ___\n"
          ],
          "name": "stdout"
        },
        {
          "output_type": "stream",
          "text": [
            "___ batch index = 750 / 1836 (40.85%), loss = 0.6091, time = 11.47 secondes ___\n"
          ],
          "name": "stdout"
        },
        {
          "output_type": "stream",
          "text": [
            "___ batch index = 1000 / 1836 (54.47%), loss = 0.5817, time = 13.16 secondes ___\n"
          ],
          "name": "stdout"
        },
        {
          "output_type": "stream",
          "text": [
            "___ batch index = 1250 / 1836 (68.08%), loss = 0.5711, time = 11.88 secondes ___\n"
          ],
          "name": "stdout"
        },
        {
          "output_type": "stream",
          "text": [
            "___ batch index = 1500 / 1836 (81.70%), loss = 0.5842, time = 12.00 secondes ___\n"
          ],
          "name": "stdout"
        },
        {
          "output_type": "stream",
          "text": [
            "___ batch index = 1750 / 1836 (95.32%), loss = 0.5576, time = 13.11 secondes ___\n"
          ],
          "name": "stdout"
        },
        {
          "output_type": "stream",
          "text": [
            "\n",
            "*** avg_loss : 0.62, time : ~1.0 min (91.90 sec) ***\n",
            "\n"
          ],
          "name": "stdout"
        },
        {
          "output_type": "stream",
          "text": [
            "==> evaluation : avg_loss = 0.69, time : 29.46 sec\n",
            "\n"
          ],
          "name": "stdout"
        },
        {
          "output_type": "stream",
          "text": [
            "threshold (g-mean):  1\n"
          ],
          "name": "stdout"
        },
        {
          "output_type": "stream",
          "text": [
            "threshold (f1):  1\n",
            "=====>\t{'Positive Rate': 0.4332784184514003, 'max g_mean metrics': {'threshold': 1, 'accuracy': 0.5667215815485996, 'f1': 0.0, 'recall': 0.0, 'specificity': 1.0, 'g_mean': 0.0}, 'max f1 metrics': {'threshold': 1, 'accuracy': 0.5667215815485996, 'f1': 0.0, 'recall': 0.0, 'specificity': 1.0, 'g_mean': 0.0}, 'default_accuracy': 0.5667215815485996, 'default_f1': 0.0, 'default_recall': 0.0, 'default_specificity': 1.0, 'default_g_mean': 0.0}\n",
            "\n",
            "=============== EPOCH 5 / 8 ===============\n",
            "\n",
            "___ batch index = 0 / 1836 (0.00%), loss = 0.6417, time = 0.03 secondes ___\n"
          ],
          "name": "stdout"
        },
        {
          "output_type": "stream",
          "text": [
            "___ batch index = 250 / 1836 (13.62%), loss = 0.8426, time = 12.84 secondes ___\n"
          ],
          "name": "stdout"
        },
        {
          "output_type": "stream",
          "text": [
            "___ batch index = 500 / 1836 (27.23%), loss = 0.5742, time = 12.39 secondes ___\n"
          ],
          "name": "stdout"
        },
        {
          "output_type": "stream",
          "text": [
            "___ batch index = 750 / 1836 (40.85%), loss = 0.5960, time = 11.46 secondes ___\n"
          ],
          "name": "stdout"
        },
        {
          "output_type": "stream",
          "text": [
            "___ batch index = 1000 / 1836 (54.47%), loss = 0.5544, time = 13.16 secondes ___\n"
          ],
          "name": "stdout"
        },
        {
          "output_type": "stream",
          "text": [
            "___ batch index = 1250 / 1836 (68.08%), loss = 0.5642, time = 11.87 secondes ___\n"
          ],
          "name": "stdout"
        },
        {
          "output_type": "stream",
          "text": [
            "___ batch index = 1500 / 1836 (81.70%), loss = 0.5590, time = 12.00 secondes ___\n"
          ],
          "name": "stdout"
        },
        {
          "output_type": "stream",
          "text": [
            "___ batch index = 1750 / 1836 (95.32%), loss = 0.5298, time = 13.12 secondes ___\n"
          ],
          "name": "stdout"
        },
        {
          "output_type": "stream",
          "text": [
            "\n",
            "*** avg_loss : 0.60, time : ~1.0 min (91.88 sec) ***\n",
            "\n"
          ],
          "name": "stdout"
        },
        {
          "output_type": "stream",
          "text": [
            "==> evaluation : avg_loss = 0.69, time : 29.46 sec\n",
            "\n"
          ],
          "name": "stdout"
        },
        {
          "output_type": "stream",
          "text": [
            "threshold (g-mean):  1\n"
          ],
          "name": "stdout"
        },
        {
          "output_type": "stream",
          "text": [
            "threshold (f1):  1\n",
            "=====>\t{'Positive Rate': 0.4332784184514003, 'max g_mean metrics': {'threshold': 1, 'accuracy': 0.5667215815485996, 'f1': 0.0, 'recall': 0.0, 'specificity': 1.0, 'g_mean': 0.0}, 'max f1 metrics': {'threshold': 1, 'accuracy': 0.5667215815485996, 'f1': 0.0, 'recall': 0.0, 'specificity': 1.0, 'g_mean': 0.0}, 'default_accuracy': 0.5667215815485996, 'default_f1': 0.0, 'default_recall': 0.0, 'default_specificity': 1.0, 'default_g_mean': 0.0}\n",
            "\n",
            "=============== EPOCH 6 / 8 ===============\n",
            "\n",
            "___ batch index = 0 / 1836 (0.00%), loss = 0.6014, time = 0.03 secondes ___\n"
          ],
          "name": "stdout"
        },
        {
          "output_type": "stream",
          "text": [
            "___ batch index = 250 / 1836 (13.62%), loss = 0.8594, time = 12.85 secondes ___\n"
          ],
          "name": "stdout"
        },
        {
          "output_type": "stream",
          "text": [
            "___ batch index = 500 / 1836 (27.23%), loss = 0.5573, time = 12.43 secondes ___\n"
          ],
          "name": "stdout"
        },
        {
          "output_type": "stream",
          "text": [
            "___ batch index = 750 / 1836 (40.85%), loss = 0.5740, time = 11.51 secondes ___\n"
          ],
          "name": "stdout"
        },
        {
          "output_type": "stream",
          "text": [
            "___ batch index = 1000 / 1836 (54.47%), loss = 0.5278, time = 13.20 secondes ___\n"
          ],
          "name": "stdout"
        },
        {
          "output_type": "stream",
          "text": [
            "___ batch index = 1250 / 1836 (68.08%), loss = 0.5273, time = 11.91 secondes ___\n"
          ],
          "name": "stdout"
        },
        {
          "output_type": "stream",
          "text": [
            "___ batch index = 1500 / 1836 (81.70%), loss = 0.5439, time = 12.04 secondes ___\n"
          ],
          "name": "stdout"
        },
        {
          "output_type": "stream",
          "text": [
            "___ batch index = 1750 / 1836 (95.32%), loss = 0.5045, time = 13.17 secondes ___\n"
          ],
          "name": "stdout"
        },
        {
          "output_type": "stream",
          "text": [
            "\n",
            "*** avg_loss : 0.58, time : ~1.0 min (92.16 sec) ***\n",
            "\n"
          ],
          "name": "stdout"
        },
        {
          "output_type": "stream",
          "text": [
            "==> evaluation : avg_loss = 0.69, time : 29.50 sec\n",
            "\n",
            "threshold (g-mean):  1\n",
            "threshold (f1):  1\n",
            "=====>\t{'Positive Rate': 0.4332784184514003, 'max g_mean metrics': {'threshold': 1, 'accuracy': 0.5667215815485996, 'f1': 0.0, 'recall': 0.0, 'specificity': 1.0, 'g_mean': 0.0}, 'max f1 metrics': {'threshold': 1, 'accuracy': 0.5667215815485996, 'f1': 0.0, 'recall': 0.0, 'specificity': 1.0, 'g_mean': 0.0}, 'default_accuracy': 0.5667215815485996, 'default_f1': 0.0, 'default_recall': 0.0, 'default_specificity': 1.0, 'default_g_mean': 0.0}\n",
            "\n",
            "=============== EPOCH 7 / 8 ===============\n",
            "\n",
            "___ batch index = 0 / 1836 (0.00%), loss = 0.6074, time = 0.03 secondes ___\n"
          ],
          "name": "stdout"
        },
        {
          "output_type": "stream",
          "text": [
            "___ batch index = 250 / 1836 (13.62%), loss = 0.9105, time = 12.73 secondes ___\n"
          ],
          "name": "stdout"
        },
        {
          "output_type": "stream",
          "text": [
            "___ batch index = 500 / 1836 (27.23%), loss = 0.5346, time = 12.30 secondes ___\n"
          ],
          "name": "stdout"
        },
        {
          "output_type": "stream",
          "text": [
            "___ batch index = 750 / 1836 (40.85%), loss = 0.5558, time = 11.37 secondes ___\n"
          ],
          "name": "stdout"
        },
        {
          "output_type": "stream",
          "text": [
            "___ batch index = 1000 / 1836 (54.47%), loss = 0.5064, time = 13.06 secondes ___\n"
          ],
          "name": "stdout"
        },
        {
          "output_type": "stream",
          "text": [
            "___ batch index = 1250 / 1836 (68.08%), loss = 0.5114, time = 11.78 secondes ___\n"
          ],
          "name": "stdout"
        },
        {
          "output_type": "stream",
          "text": [
            "___ batch index = 1500 / 1836 (81.70%), loss = 0.5170, time = 11.92 secondes ___\n"
          ],
          "name": "stdout"
        },
        {
          "output_type": "stream",
          "text": [
            "___ batch index = 1750 / 1836 (95.32%), loss = 0.4799, time = 13.04 secondes ___\n"
          ],
          "name": "stdout"
        },
        {
          "output_type": "stream",
          "text": [
            "\n",
            "*** avg_loss : 0.57, time : ~1.0 min (91.20 sec) ***\n",
            "\n"
          ],
          "name": "stdout"
        },
        {
          "output_type": "stream",
          "text": [
            "==> evaluation : avg_loss = 0.69, time : 29.27 sec\n",
            "\n",
            "threshold (g-mean):  1\n",
            "threshold (f1):  1\n",
            "=====>\t{'Positive Rate': 0.4332784184514003, 'max g_mean metrics': {'threshold': 1, 'accuracy': 0.5667215815485996, 'f1': 0.0, 'recall': 0.0, 'specificity': 1.0, 'g_mean': 0.0}, 'max f1 metrics': {'threshold': 1, 'accuracy': 0.5667215815485996, 'f1': 0.0, 'recall': 0.0, 'specificity': 1.0, 'g_mean': 0.0}, 'default_accuracy': 0.5667215815485996, 'default_f1': 0.0, 'default_recall': 0.0, 'default_specificity': 1.0, 'default_g_mean': 0.0}\n",
            "\n",
            "=============== EPOCH 8 / 8 ===============\n",
            "\n",
            "___ batch index = 0 / 1836 (0.00%), loss = 0.5760, time = 0.03 secondes ___\n"
          ],
          "name": "stdout"
        },
        {
          "output_type": "stream",
          "text": [
            "___ batch index = 250 / 1836 (13.62%), loss = 0.9197, time = 12.72 secondes ___\n"
          ],
          "name": "stdout"
        },
        {
          "output_type": "stream",
          "text": [
            "___ batch index = 500 / 1836 (27.23%), loss = 0.5149, time = 12.30 secondes ___\n"
          ],
          "name": "stdout"
        },
        {
          "output_type": "stream",
          "text": [
            "___ batch index = 750 / 1836 (40.85%), loss = 0.5371, time = 11.38 secondes ___\n"
          ],
          "name": "stdout"
        },
        {
          "output_type": "stream",
          "text": [
            "___ batch index = 1000 / 1836 (54.47%), loss = 0.4874, time = 13.07 secondes ___\n"
          ],
          "name": "stdout"
        },
        {
          "output_type": "stream",
          "text": [
            "___ batch index = 1250 / 1836 (68.08%), loss = 0.4925, time = 11.78 secondes ___\n"
          ],
          "name": "stdout"
        },
        {
          "output_type": "stream",
          "text": [
            "___ batch index = 1500 / 1836 (81.70%), loss = 0.5065, time = 11.92 secondes ___\n"
          ],
          "name": "stdout"
        },
        {
          "output_type": "stream",
          "text": [
            "___ batch index = 1750 / 1836 (95.32%), loss = 0.4644, time = 13.04 secondes ___\n"
          ],
          "name": "stdout"
        },
        {
          "output_type": "stream",
          "text": [
            "\n",
            "*** avg_loss : 0.55, time : ~1.0 min (91.23 sec) ***\n",
            "\n"
          ],
          "name": "stdout"
        },
        {
          "output_type": "stream",
          "text": [
            "==> evaluation : avg_loss = 0.70, time : 29.29 sec\n",
            "\n",
            "threshold (g-mean):  1\n",
            "threshold (f1):  1\n",
            "=====>\t{'Positive Rate': 0.4332784184514003, 'max g_mean metrics': {'threshold': 1, 'accuracy': 0.5667215815485996, 'f1': 0.0, 'recall': 0.0, 'specificity': 1.0, 'g_mean': 0.0}, 'max f1 metrics': {'threshold': 1, 'accuracy': 0.5667215815485996, 'f1': 0.0, 'recall': 0.0, 'specificity': 1.0, 'g_mean': 0.0}, 'default_accuracy': 0.5667215815485996, 'default_f1': 0.0, 'default_recall': 0.0, 'default_specificity': 1.0, 'default_g_mean': 0.0}\n",
            "@@@@@@@@@@@@@@@@@@@@@@@@@@@@@@@@@@@@@@@@@@@@@ END @@@@@@@@@@@@@@@@@@@@@@@@@@@@@@@@@@@@@@@@@@@@@@@\n"
          ],
          "name": "stdout"
        },
        {
          "output_type": "stream",
          "text": [
            "xxxxxxxxxxxxxxxxxxxxxxxxxxxxxxxxxxxx END Para label:  Adecuación curricular de objetivos  (13) xxxxxxxxxxxxxxxxxxxxxxxxx\n"
          ],
          "name": "stdout"
        }
      ]
    },
    {
      "cell_type": "code",
      "metadata": {
        "colab": {
          "base_uri": "https://localhost:8080/"
        },
        "id": "f6krXdWztvVE",
        "jupyter": {
          "outputs_hidden": false
        },
        "outputId": "3c481c1f-4b7d-46d4-84bf-3fb6faab2502"
      },
      "source": [
        "# label\n",
        "# G_8, L_1, lr_1, f1_0.44\n",
        "# G_8, L_1, lr_5, f1_0.04\n",
        "# G_8, L_3, lr_1, f1_0.07\n",
        "# G_8, L_3, lr_5, f1_0.07\n",
        "\n",
        "EPOCH = 6\n",
        "\n",
        "G_A =[16]\n",
        "N_L = [1] # , 3, 5]  # , 7]\n",
        "lrs = [0.1, 1]\n",
        "GRADIENT_ACCUMULATIONS = 16\n",
        "N_LAYERS = 3\n",
        "\n",
        "\n",
        "multi_labs = [7, 8, 9, 10, 11, 12, 13]\n",
        "learning_rates_coeffs = {\n",
        "    0: 5,\n",
        "    1: 10,\n",
        "    2: 5,\n",
        "    3: 1,\n",
        "    4: 5,\n",
        "    5: 1,\n",
        "    6: 5,\n",
        "    7: 1,\n",
        "    8: 1,\n",
        "    9: 1,\n",
        "    10: 1,\n",
        "    11: 10,\n",
        "    12: 1,\n",
        "    13: 5\n",
        "}\n",
        "\n",
        "for lab in multi_labs:\n",
        "    label = lab\n",
        "    print('#################################################### Para label: ', Y_KEYS[label], \" (\"+str(label)+\") ##############\")\n",
        "    best_model = None\n",
        "    best_f1 = 0\n",
        "    best_threshold = 0\n",
        "    \n",
        "    model=torch.load(\"/research/jamunoz/models/average_fine_tuned_bert/model_\"+str(label)+\".pt\")\n",
        "    bert_model = list(model.children())[0]\n",
        "\n",
        "    # freeze fine tuner bert\n",
        "    for param in bert_model.parameters():\n",
        "        param.requires_grad = False\n",
        "        \n",
        "    for l_r in lrs:\n",
        "      lr=l_r*1e-6 # learning_rates_coeffs[lab]*1e-6#1e-3\n",
        "      num_training_steps=int(len(transformed_train_dataset) / TRAIN_BATCH_SIZE * EPOCH)\n",
        "      print(\"--------------------------------------lr: \"+str(lr)+\"-----------------------------\")\n",
        "      for n_lay in N_L:\n",
        "        print(\"+++++++++++++++++++++++++++++++++++++++++++++++++++ n layers: \"+str(n_lay)+\" ++++++++++++++++++++++++++++++++++++++++++++++++\")\n",
        "        for grad_acc in G_A:\n",
        "          print(\"/////////////////////////////////////////// GA: \"+str(grad_acc)+\" ///////////////////////////////////////////////////////\")\n",
        "\n",
        "          # model=torch.load(\"gdrive/My Drive/magister/models/fine_tuned_bert/model_\"+str(label)+\".pt\", map_location=device)\n",
        "              \n",
        "          model_rnn=Individual_RoBERT_Model(bertFineTuned=bert_model, n_diags=len(diagnoses_keys), n_layers=n_lay).to(device)\n",
        "          optimizer=AdamW(model_rnn.parameters(), lr=lr)\n",
        "          scheduler = get_linear_schedule_with_warmup(optimizer, \n",
        "                                                  num_warmup_steps=0,\n",
        "                                                  num_training_steps=num_training_steps)\n",
        "\n",
        "          val_losses=[]\n",
        "          batches_losses=[]\n",
        "          val_acc=[]\n",
        "          for epoch in range(EPOCH):\n",
        "              t0 = time.time()    \n",
        "              print(f\"\\n=============== EPOCH {epoch+1} / {EPOCH} ===============\\n\")\n",
        "              batches_losses_tmp=individual_rnn_train_loop_fun1(train_data_loader, model_rnn, optimizer, device, grad_acc, scheduler=scheduler, label_index=label)\n",
        "              epoch_loss=np.mean(batches_losses_tmp)\n",
        "              print(f\"\\n*** avg_loss : {epoch_loss:.2f}, time : ~{(time.time()-t0)//60} min ({time.time()-t0:.2f} sec) ***\\n\")\n",
        "              t1=time.time()\n",
        "              output, target, val_losses_tmp=individual_rnn_eval_loop_fun1(val_data_loader, model_rnn, device)\n",
        "              print(f\"==> evaluation : avg_loss = {np.mean(val_losses_tmp):.2f}, time : {time.time()-t1:.2f} sec\\n\")\n",
        "              tmp_evaluate=individual_evaluation(target, output)\n",
        "              print(f\"=====>\\t{tmp_evaluate}\")\n",
        "              if tmp_evaluate['max f1 metrics']['f1'] > best_f1:\n",
        "                    del best_model\n",
        "                    torch.cuda.empty_cache()\n",
        "                    best_model = model_rnn\n",
        "                    best_f1 = tmp_evaluate['max f1 metrics']['f1']\n",
        "                    best_threshold = tmp_evaluate['max f1 metrics']['threshold']\n",
        "              val_acc.append(tmp_evaluate['default_accuracy'])\n",
        "              val_losses.append(val_losses_tmp)\n",
        "              batches_losses.append(batches_losses_tmp)\n",
        "              \n",
        "          del model_rnn, optimizer, scheduler\n",
        "          print(\"@@@@@@@@@@@@@@@@@@@@@@@@@@@@@@@@@@@@@@@@@@@@@ END @@@@@@@@@@@@@@@@@@@@@@@@@@@@@@@@@@@@@@@@@@@@@@@\")\n",
        "    torch.save(best_model, f\"/research/jamunoz/models/robert_avg/model_\"+str(lab)+\"_tr_\"+str(best_threshold)+\".pt\")\n",
        "    del model, bert_model, best_model\n",
        "    torch.cuda.empty_cache()\n",
        "    print(\"xxxxxxxxxxxxxxxxxxxxxxxxxxxxxxxxxxxx END Para label: \", Y_KEYS[label], \" (\"+str(label)+\") xxxxxxxxxxxxxxxxxxxxxxxxx\")"
      ],
      "execution_count": null,
      "outputs": [
        {
          "output_type": "stream",
          "text": [
            "#################################################### Para label:  Apoyo Kinesióloga(o)  (7) ##############\n",
            "--------------------------------------lr: 1e-07-----------------------------\n",
            "+++++++++++++++++++++++++++++++++++++++++++++++++++ n layers: 1 ++++++++++++++++++++++++++++++++++++++++++++++++\n",
            "/////////////////////////////////////////// GA: 16 ///////////////////////////////////////////////////////\n"
          ],
          "name": "stdout"
        },
        {
          "output_type": "stream",
          "text": [
            "\n",
            "=============== EPOCH 1 / 6 ===============\n",
            "\n",
            "___ batch index = 0 / 1836 (0.00%), loss = 0.8028, time = 0.03 secondes ___\n"
          ],
          "name": "stdout"
        },
        {
          "output_type": "stream",
          "text": [
            "<ipython-input-11-5fb9fe6293fb>:32: UserWarning: To copy construct from a tensor, it is recommended to use sourceTensor.clone().detach() or sourceTensor.clone().detach().requires_grad_(True), rather than torch.tensor(sourceTensor).\n",
            "  remain = torch.tensor(remain, dtype=torch.long)\n",
            "<ipython-input-23-5db6513a9937>:19: UserWarning: To copy construct from a tensor, it is recommended to use sourceTensor.clone().detach() or sourceTensor.clone().detach().requires_grad_(True), rather than torch.tensor(sourceTensor).\n",
            "  miniset = [torch.tensor(labels[0])]\n"
          ],
          "name": "stderr"
        },
        {
          "output_type": "stream",
          "text": [
            "___ batch index = 250 / 1836 (13.62%), loss = 0.5594, time = 12.75 secondes ___\n"
          ],
          "name": "stdout"
        },
        {
          "output_type": "stream",
          "text": [
            "___ batch index = 500 / 1836 (27.23%), loss = 0.5765, time = 12.31 secondes ___\n"
          ],
          "name": "stdout"
        },
        {
          "output_type": "stream",
          "text": [
            "___ batch index = 750 / 1836 (40.85%), loss = 0.5892, time = 11.38 secondes ___\n"
          ],
          "name": "stdout"
        },
        {
          "output_type": "stream",
          "text": [
            "___ batch index = 1000 / 1836 (54.47%), loss = 0.5581, time = 13.07 secondes ___\n"
          ],
          "name": "stdout"
        },
        {
          "output_type": "stream",
          "text": [
            "___ batch index = 1250 / 1836 (68.08%), loss = 0.5590, time = 11.79 secondes ___\n"
          ],
          "name": "stdout"
        },
        {
          "output_type": "stream",
          "text": [
            "___ batch index = 1500 / 1836 (81.70%), loss = 0.5834, time = 11.92 secondes ___\n"
          ],
          "name": "stdout"
        },
        {
          "output_type": "stream",
          "text": [
            "___ batch index = 1750 / 1836 (95.32%), loss = 0.5742, time = 13.05 secondes ___\n"
          ],
          "name": "stdout"
        },
        {
          "output_type": "stream",
          "text": [
            "\n",
            "*** avg_loss : 0.58, time : ~1.0 min (91.28 sec) ***\n",
            "\n"
          ],
          "name": "stdout"
        },
        {
          "output_type": "stream",
          "text": [
            "<ipython-input-23-5db6513a9937>:75: UserWarning: To copy construct from a tensor, it is recommended to use sourceTensor.clone().detach() or sourceTensor.clone().detach().requires_grad_(True), rather than torch.tensor(sourceTensor).\n",
            "  miniset = [torch.tensor(labels[0])]\n"
          ],
          "name": "stderr"
        },
        {
          "output_type": "stream",
          "text": [
            "==> evaluation : avg_loss = 0.69, time : 29.28 sec\n",
            "\n",
            "threshold (g-mean):  1\n",
            "threshold (f1):  1\n",
            "=====>\t{'Positive Rate': 0.4332784184514003, 'max g_mean metrics': {'threshold': 1, 'accuracy': 0.5667215815485996, 'f1': 0.0, 'recall': 0.0, 'specificity': 1.0, 'g_mean': 0.0}, 'max f1 metrics': {'threshold': 1, 'accuracy': 0.5667215815485996, 'f1': 0.0, 'recall': 0.0, 'specificity': 1.0, 'g_mean': 0.0}, 'default_accuracy': 0.5667215815485996, 'default_f1': 0.0, 'default_recall': 0.0, 'default_specificity': 1.0, 'default_g_mean': 0.0}\n",
            "\n",
            "=============== EPOCH 2 / 6 ===============\n",
            "\n",
            "___ batch index = 0 / 1836 (0.00%), loss = 0.8288, time = 0.03 secondes ___\n"
          ],
          "name": "stdout"
        },
        {
          "output_type": "stream",
          "text": [
            "___ batch index = 250 / 1836 (13.62%), loss = 0.5628, time = 12.75 secondes ___\n"
          ],
          "name": "stdout"
        },
        {
          "output_type": "stream",
          "text": [
            "___ batch index = 500 / 1836 (27.23%), loss = 0.5742, time = 12.32 secondes ___\n"
          ],
          "name": "stdout"
        },
        {
          "output_type": "stream",
          "text": [
            "___ batch index = 750 / 1836 (40.85%), loss = 0.5853, time = 11.39 secondes ___\n"
          ],
          "name": "stdout"
        },
        {
          "output_type": "stream",
          "text": [
            "___ batch index = 1000 / 1836 (54.47%), loss = 0.5512, time = 13.08 secondes ___\n"
          ],
          "name": "stdout"
        },
        {
          "output_type": "stream",
          "text": [
            "___ batch index = 1250 / 1836 (68.08%), loss = 0.5578, time = 11.79 secondes ___\n"
          ],
          "name": "stdout"
        },
        {
          "output_type": "stream",
          "text": [
            "___ batch index = 1500 / 1836 (81.70%), loss = 0.5706, time = 11.92 secondes ___\n"
          ],
          "name": "stdout"
        },
        {
          "output_type": "stream",
          "text": [
            "___ batch index = 1750 / 1836 (95.32%), loss = 0.5676, time = 13.04 secondes ___\n"
          ],
          "name": "stdout"
        },
        {
          "output_type": "stream",
          "text": [
            "\n",
            "*** avg_loss : 0.57, time : ~1.0 min (91.31 sec) ***\n",
            "\n"
          ],
          "name": "stdout"
        },
        {
          "output_type": "stream",
          "text": [
            "==> evaluation : avg_loss = 0.69, time : 29.31 sec\n",
            "\n",
            "threshold (g-mean):  1\n",
            "threshold (f1):  1\n",
            "=====>\t{'Positive Rate': 0.4332784184514003, 'max g_mean metrics': {'threshold': 1, 'accuracy': 0.5667215815485996, 'f1': 0.0, 'recall': 0.0, 'specificity': 1.0, 'g_mean': 0.0}, 'max f1 metrics': {'threshold': 1, 'accuracy': 0.5667215815485996, 'f1': 0.0, 'recall': 0.0, 'specificity': 1.0, 'g_mean': 0.0}, 'default_accuracy': 0.5667215815485996, 'default_f1': 0.0, 'default_recall': 0.0, 'default_specificity': 1.0, 'default_g_mean': 0.0}\n",
            "\n",
            "=============== EPOCH 3 / 6 ===============\n",
            "\n",
            "___ batch index = 0 / 1836 (0.00%), loss = 0.8213, time = 0.03 secondes ___\n"
          ],
          "name": "stdout"
        },
        {
          "output_type": "stream",
          "text": [
            "___ batch index = 250 / 1836 (13.62%), loss = 0.5670, time = 12.69 secondes ___\n"
          ],
          "name": "stdout"
        },
        {
          "output_type": "stream",
          "text": [
            "___ batch index = 500 / 1836 (27.23%), loss = 0.5701, time = 12.32 secondes ___\n"
          ],
          "name": "stdout"
        },
        {
          "output_type": "stream",
          "text": [
            "___ batch index = 750 / 1836 (40.85%), loss = 0.5737, time = 11.40 secondes ___\n"
          ],
          "name": "stdout"
        },
        {
          "output_type": "stream",
          "text": [
            "___ batch index = 1000 / 1836 (54.47%), loss = 0.5505, time = 13.10 secondes ___\n"
          ],
          "name": "stdout"
        },
        {
          "output_type": "stream",
          "text": [
            "___ batch index = 1250 / 1836 (68.08%), loss = 0.5533, time = 11.80 secondes ___\n"
          ],
          "name": "stdout"
        },
        {
          "output_type": "stream",
          "text": [
            "___ batch index = 1500 / 1836 (81.70%), loss = 0.5693, time = 11.94 secondes ___\n"
          ],
          "name": "stdout"
        },
        {
          "output_type": "stream",
          "text": [
            "___ batch index = 1750 / 1836 (95.32%), loss = 0.5705, time = 13.07 secondes ___\n"
          ],
          "name": "stdout"
        },
        {
          "output_type": "stream",
          "text": [
            "\n",
            "*** avg_loss : 0.57, time : ~1.0 min (91.33 sec) ***\n",
            "\n"
          ],
          "name": "stdout"
        },
        {
          "output_type": "stream",
          "text": [
            "==> evaluation : avg_loss = 0.69, time : 29.38 sec\n",
            "\n",
            "threshold (g-mean):  1\n",
            "threshold (f1):  1\n",
            "=====>\t{'Positive Rate': 0.4332784184514003, 'max g_mean metrics': {'threshold': 1, 'accuracy': 0.5667215815485996, 'f1': 0.0, 'recall': 0.0, 'specificity': 1.0, 'g_mean': 0.0}, 'max f1 metrics': {'threshold': 1, 'accuracy': 0.5667215815485996, 'f1': 0.0, 'recall': 0.0, 'specificity': 1.0, 'g_mean': 0.0}, 'default_accuracy': 0.5667215815485996, 'default_f1': 0.0, 'default_recall': 0.0, 'default_specificity': 1.0, 'default_g_mean': 0.0}\n",
            "\n",
            "=============== EPOCH 4 / 6 ===============\n",
            "\n",
            "___ batch index = 0 / 1836 (0.00%), loss = 0.8243, time = 0.03 secondes ___\n"
          ],
          "name": "stdout"
        },
        {
          "output_type": "stream",
          "text": [
            "___ batch index = 250 / 1836 (13.62%), loss = 0.5558, time = 12.73 secondes ___\n"
          ],
          "name": "stdout"
        },
        {
          "output_type": "stream",
          "text": [
            "___ batch index = 500 / 1836 (27.23%), loss = 0.5634, time = 12.28 secondes ___\n"
          ],
          "name": "stdout"
        },
        {
          "output_type": "stream",
          "text": [
            "___ batch index = 750 / 1836 (40.85%), loss = 0.5763, time = 11.40 secondes ___\n"
          ],
          "name": "stdout"
        },
        {
          "output_type": "stream",
          "text": [
            "___ batch index = 1000 / 1836 (54.47%), loss = 0.5430, time = 13.09 secondes ___\n"
          ],
          "name": "stdout"
        },
        {
          "output_type": "stream",
          "text": [
            "___ batch index = 1250 / 1836 (68.08%), loss = 0.5509, time = 11.80 secondes ___\n"
          ],
          "name": "stdout"
        },
        {
          "output_type": "stream",
          "text": [
            "___ batch index = 1500 / 1836 (81.70%), loss = 0.5753, time = 11.93 secondes ___\n"
          ],
          "name": "stdout"
        },
        {
          "output_type": "stream",
          "text": [
            "___ batch index = 1750 / 1836 (95.32%), loss = 0.5599, time = 13.05 secondes ___\n"
          ],
          "name": "stdout"
        },
        {
          "output_type": "stream",
          "text": [
            "\n",
            "*** avg_loss : 0.57, time : ~1.0 min (91.30 sec) ***\n",
            "\n"
          ],
          "name": "stdout"
        },
        {
          "output_type": "stream",
          "text": [
            "==> evaluation : avg_loss = 0.69, time : 29.36 sec\n",
            "\n",
            "threshold (g-mean):  1\n",
            "threshold (f1):  1\n",
            "=====>\t{'Positive Rate': 0.4332784184514003, 'max g_mean metrics': {'threshold': 1, 'accuracy': 0.5667215815485996, 'f1': 0.0, 'recall': 0.0, 'specificity': 1.0, 'g_mean': 0.0}, 'max f1 metrics': {'threshold': 1, 'accuracy': 0.5667215815485996, 'f1': 0.0, 'recall': 0.0, 'specificity': 1.0, 'g_mean': 0.0}, 'default_accuracy': 0.5667215815485996, 'default_f1': 0.0, 'default_recall': 0.0, 'default_specificity': 1.0, 'default_g_mean': 0.0}\n",
            "\n",
            "=============== EPOCH 5 / 6 ===============\n",
            "\n",
            "___ batch index = 0 / 1836 (0.00%), loss = 0.8390, time = 0.03 secondes ___\n"
          ],
          "name": "stdout"
        },
        {
          "output_type": "stream",
          "text": [
            "___ batch index = 250 / 1836 (13.62%), loss = 0.5545, time = 12.72 secondes ___\n"
          ],
          "name": "stdout"
        },
        {
          "output_type": "stream",
          "text": [
            "___ batch index = 500 / 1836 (27.23%), loss = 0.5602, time = 12.27 secondes ___\n"
          ],
          "name": "stdout"
        },
        {
          "output_type": "stream",
          "text": [
            "___ batch index = 750 / 1836 (40.85%), loss = 0.5720, time = 11.34 secondes ___\n"
          ],
          "name": "stdout"
        },
        {
          "output_type": "stream",
          "text": [
            "___ batch index = 1000 / 1836 (54.47%), loss = 0.5428, time = 13.09 secondes ___\n"
          ],
          "name": "stdout"
        },
        {
          "output_type": "stream",
          "text": [
            "___ batch index = 1250 / 1836 (68.08%), loss = 0.5419, time = 11.80 secondes ___\n"
          ],
          "name": "stdout"
        },
        {
          "output_type": "stream",
          "text": [
            "___ batch index = 1500 / 1836 (81.70%), loss = 0.5622, time = 11.93 secondes ___\n"
          ],
          "name": "stdout"
        },
        {
          "output_type": "stream",
          "text": [
            "___ batch index = 1750 / 1836 (95.32%), loss = 0.5560, time = 13.06 secondes ___\n"
          ],
          "name": "stdout"
        },
        {
          "output_type": "stream",
          "text": [
            "\n",
            "*** avg_loss : 0.56, time : ~1.0 min (91.24 sec) ***\n",
            "\n"
          ],
          "name": "stdout"
        },
        {
          "output_type": "stream",
          "text": [
            "==> evaluation : avg_loss = 0.69, time : 29.39 sec\n",
            "\n",
            "threshold (g-mean):  1\n",
            "threshold (f1):  1\n",
            "=====>\t{'Positive Rate': 0.4332784184514003, 'max g_mean metrics': {'threshold': 1, 'accuracy': 0.5667215815485996, 'f1': 0.0, 'recall': 0.0, 'specificity': 1.0, 'g_mean': 0.0}, 'max f1 metrics': {'threshold': 1, 'accuracy': 0.5667215815485996, 'f1': 0.0, 'recall': 0.0, 'specificity': 1.0, 'g_mean': 0.0}, 'default_accuracy': 0.5667215815485996, 'default_f1': 0.0, 'default_recall': 0.0, 'default_specificity': 1.0, 'default_g_mean': 0.0}\n",
            "\n",
            "=============== EPOCH 6 / 6 ===============\n",
            "\n",
            "___ batch index = 0 / 1836 (0.00%), loss = 0.8127, time = 0.03 secondes ___\n"
          ],
          "name": "stdout"
        },
        {
          "output_type": "stream",
          "text": [
            "___ batch index = 250 / 1836 (13.62%), loss = 0.5529, time = 12.73 secondes ___\n"
          ],
          "name": "stdout"
        },
        {
          "output_type": "stream",
          "text": [
            "___ batch index = 500 / 1836 (27.23%), loss = 0.5631, time = 12.28 secondes ___\n"
          ],
          "name": "stdout"
        },
        {
          "output_type": "stream",
          "text": [
            "___ batch index = 750 / 1836 (40.85%), loss = 0.5696, time = 11.33 secondes ___\n"
          ],
          "name": "stdout"
        },
        {
          "output_type": "stream",
          "text": [
            "___ batch index = 1000 / 1836 (54.47%), loss = 0.5513, time = 13.07 secondes ___\n"
          ],
          "name": "stdout"
        },
        {
          "output_type": "stream",
          "text": [
            "___ batch index = 1250 / 1836 (68.08%), loss = 0.5463, time = 11.81 secondes ___\n"
          ],
          "name": "stdout"
        },
        {
          "output_type": "stream",
          "text": [
            "___ batch index = 1500 / 1836 (81.70%), loss = 0.5553, time = 11.93 secondes ___\n"
          ],
          "name": "stdout"
        },
        {
          "output_type": "stream",
          "text": [
            "___ batch index = 1750 / 1836 (95.32%), loss = 0.5549, time = 13.04 secondes ___\n"
          ],
          "name": "stdout"
        },
        {
          "output_type": "stream",
          "text": [
            "\n",
            "*** avg_loss : 0.56, time : ~1.0 min (91.21 sec) ***\n",
            "\n"
          ],
          "name": "stdout"
        },
        {
          "output_type": "stream",
          "text": [
            "==> evaluation : avg_loss = 0.69, time : 29.37 sec\n",
            "\n",
            "threshold (g-mean):  1\n",
            "threshold (f1):  1\n",
            "=====>\t{'Positive Rate': 0.4332784184514003, 'max g_mean metrics': {'threshold': 1, 'accuracy': 0.5667215815485996, 'f1': 0.0, 'recall': 0.0, 'specificity': 1.0, 'g_mean': 0.0}, 'max f1 metrics': {'threshold': 1, 'accuracy': 0.5667215815485996, 'f1': 0.0, 'recall': 0.0, 'specificity': 1.0, 'g_mean': 0.0}, 'default_accuracy': 0.5667215815485996, 'default_f1': 0.0, 'default_recall': 0.0, 'default_specificity': 1.0, 'default_g_mean': 0.0}\n",
            "@@@@@@@@@@@@@@@@@@@@@@@@@@@@@@@@@@@@@@@@@@@@@ END @@@@@@@@@@@@@@@@@@@@@@@@@@@@@@@@@@@@@@@@@@@@@@@\n",
            "--------------------------------------lr: 1e-06-----------------------------\n",
            "+++++++++++++++++++++++++++++++++++++++++++++++++++ n layers: 1 ++++++++++++++++++++++++++++++++++++++++++++++++\n",
            "/////////////////////////////////////////// GA: 16 ///////////////////////////////////////////////////////\n",
            "\n",
            "=============== EPOCH 1 / 6 ===============\n",
            "\n",
            "___ batch index = 0 / 1836 (0.00%), loss = 0.8742, time = 0.03 secondes ___\n"
          ],
          "name": "stdout"
        },
        {
          "output_type": "stream",
          "text": [
            "___ batch index = 250 / 1836 (13.62%), loss = 0.5313, time = 12.73 secondes ___\n"
          ],
          "name": "stdout"
        },
        {
          "output_type": "stream",
          "text": [
            "___ batch index = 500 / 1836 (27.23%), loss = 0.5287, time = 12.28 secondes ___\n"
          ],
          "name": "stdout"
        },
        {
          "output_type": "stream",
          "text": [
            "___ batch index = 750 / 1836 (40.85%), loss = 0.5330, time = 11.35 secondes ___\n"
          ],
          "name": "stdout"
        },
        {
          "output_type": "stream",
          "text": [
            "___ batch index = 1000 / 1836 (54.47%), loss = 0.5111, time = 13.02 secondes ___\n"
          ],
          "name": "stdout"
        },
        {
          "output_type": "stream",
          "text": [
            "___ batch index = 1250 / 1836 (68.08%), loss = 0.5136, time = 11.80 secondes ___\n"
          ],
          "name": "stdout"
        },
        {
          "output_type": "stream",
          "text": [
            "___ batch index = 1500 / 1836 (81.70%), loss = 0.5250, time = 11.94 secondes ___\n"
          ],
          "name": "stdout"
        },
        {
          "output_type": "stream",
          "text": [
            "___ batch index = 1750 / 1836 (95.32%), loss = 0.4925, time = 13.08 secondes ___\n"
          ],
          "name": "stdout"
        },
        {
          "output_type": "stream",
          "text": [
            "\n",
            "*** avg_loss : 0.52, time : ~1.0 min (91.22 sec) ***\n",
            "\n"
          ],
          "name": "stdout"
        },
        {
          "output_type": "stream",
          "text": [
            "==> evaluation : avg_loss = 0.69, time : 29.41 sec\n",
            "\n",
            "threshold (g-mean):  1\n",
            "threshold (f1):  1\n",
            "=====>\t{'Positive Rate': 0.4332784184514003, 'max g_mean metrics': {'threshold': 1, 'accuracy': 0.5667215815485996, 'f1': 0.0, 'recall': 0.0, 'specificity': 1.0, 'g_mean': 0.0}, 'max f1 metrics': {'threshold': 1, 'accuracy': 0.5667215815485996, 'f1': 0.0, 'recall': 0.0, 'specificity': 1.0, 'g_mean': 0.0}, 'default_accuracy': 0.5667215815485996, 'default_f1': 0.0, 'default_recall': 0.0, 'default_specificity': 1.0, 'default_g_mean': 0.0}\n",
            "\n",
            "=============== EPOCH 2 / 6 ===============\n",
            "\n",
            "___ batch index = 0 / 1836 (0.00%), loss = 0.8943, time = 0.03 secondes ___\n"
          ],
          "name": "stdout"
        },
        {
          "output_type": "stream",
          "text": [
            "___ batch index = 250 / 1836 (13.62%), loss = 0.4975, time = 12.76 secondes ___\n"
          ],
          "name": "stdout"
        },
        {
          "output_type": "stream",
          "text": [
            "___ batch index = 500 / 1836 (27.23%), loss = 0.4928, time = 12.30 secondes ___\n"
          ],
          "name": "stdout"
        },
        {
          "output_type": "stream",
          "text": [
            "___ batch index = 750 / 1836 (40.85%), loss = 0.5013, time = 11.37 secondes ___\n"
          ],
          "name": "stdout"
        },
        {
          "output_type": "stream",
          "text": [
            "___ batch index = 1000 / 1836 (54.47%), loss = 0.4839, time = 13.05 secondes ___\n"
          ],
          "name": "stdout"
        },
        {
          "output_type": "stream",
          "text": [
            "___ batch index = 1250 / 1836 (68.08%), loss = 0.4740, time = 11.78 secondes ___\n"
          ],
          "name": "stdout"
        },
        {
          "output_type": "stream",
          "text": [
            "___ batch index = 1500 / 1836 (81.70%), loss = 0.4905, time = 12.05 secondes ___\n"
          ],
          "name": "stdout"
        },
        {
          "output_type": "stream",
          "text": [
            "___ batch index = 1750 / 1836 (95.32%), loss = 0.4643, time = 13.17 secondes ___\n"
          ],
          "name": "stdout"
        },
        {
          "output_type": "stream",
          "text": [
            "\n",
            "*** avg_loss : 0.49, time : ~1.0 min (91.56 sec) ***\n",
            "\n"
          ],
          "name": "stdout"
        },
        {
          "output_type": "stream",
          "text": [
            "==> evaluation : avg_loss = 0.70, time : 29.62 sec\n",
            "\n",
            "threshold (g-mean):  1\n",
            "threshold (f1):  1\n",
            "=====>\t{'Positive Rate': 0.4332784184514003, 'max g_mean metrics': {'threshold': 1, 'accuracy': 0.5667215815485996, 'f1': 0.0, 'recall': 0.0, 'specificity': 1.0, 'g_mean': 0.0}, 'max f1 metrics': {'threshold': 1, 'accuracy': 0.5667215815485996, 'f1': 0.0, 'recall': 0.0, 'specificity': 1.0, 'g_mean': 0.0}, 'default_accuracy': 0.5667215815485996, 'default_f1': 0.0, 'default_recall': 0.0, 'default_specificity': 1.0, 'default_g_mean': 0.0}\n",
            "\n",
            "=============== EPOCH 3 / 6 ===============\n",
            "\n",
            "___ batch index = 0 / 1836 (0.00%), loss = 0.9261, time = 0.03 secondes ___\n"
          ],
          "name": "stdout"
        },
        {
          "output_type": "stream",
          "text": [
            "___ batch index = 250 / 1836 (13.62%), loss = 0.4592, time = 12.87 secondes ___\n"
          ],
          "name": "stdout"
        },
        {
          "output_type": "stream",
          "text": [
            "___ batch index = 500 / 1836 (27.23%), loss = 0.4695, time = 12.43 secondes ___\n"
          ],
          "name": "stdout"
        },
        {
          "output_type": "stream",
          "text": [
            "___ batch index = 750 / 1836 (40.85%), loss = 0.4738, time = 11.49 secondes ___\n"
          ],
          "name": "stdout"
        },
        {
          "output_type": "stream",
          "text": [
            "___ batch index = 1000 / 1836 (54.47%), loss = 0.4493, time = 13.18 secondes ___\n"
          ],
          "name": "stdout"
        },
        {
          "output_type": "stream",
          "text": [
            "___ batch index = 1250 / 1836 (68.08%), loss = 0.4426, time = 11.89 secondes ___\n"
          ],
          "name": "stdout"
        },
        {
          "output_type": "stream",
          "text": [
            "___ batch index = 1500 / 1836 (81.70%), loss = 0.4636, time = 12.05 secondes ___\n"
          ],
          "name": "stdout"
        },
        {
          "output_type": "stream",
          "text": [
            "___ batch index = 1750 / 1836 (95.32%), loss = 0.4290, time = 13.17 secondes ___\n"
          ],
          "name": "stdout"
        },
        {
          "output_type": "stream",
          "text": [
            "\n",
            "*** avg_loss : 0.46, time : ~1.0 min (92.14 sec) ***\n",
            "\n"
          ],
          "name": "stdout"
        },
        {
          "output_type": "stream",
          "text": [
            "==> evaluation : avg_loss = 0.71, time : 29.63 sec\n",
            "\n",
            "threshold (g-mean):  1\n",
            "threshold (f1):  1\n",
            "=====>\t{'Positive Rate': 0.4332784184514003, 'max g_mean metrics': {'threshold': 1, 'accuracy': 0.5667215815485996, 'f1': 0.0, 'recall': 0.0, 'specificity': 1.0, 'g_mean': 0.0}, 'max f1 metrics': {'threshold': 1, 'accuracy': 0.5667215815485996, 'f1': 0.0, 'recall': 0.0, 'specificity': 1.0, 'g_mean': 0.0}, 'default_accuracy': 0.5667215815485996, 'default_f1': 0.0, 'default_recall': 0.0, 'default_specificity': 1.0, 'default_g_mean': 0.0}\n",
            "\n",
            "=============== EPOCH 4 / 6 ===============\n",
            "\n",
            "___ batch index = 0 / 1836 (0.00%), loss = 0.9835, time = 0.03 secondes ___\n"
          ],
          "name": "stdout"
        },
        {
          "output_type": "stream",
          "text": [
            "___ batch index = 250 / 1836 (13.62%), loss = 0.4377, time = 12.87 secondes ___\n"
          ],
          "name": "stdout"
        },
        {
          "output_type": "stream",
          "text": [
            "___ batch index = 500 / 1836 (27.23%), loss = 0.4402, time = 12.43 secondes ___\n"
          ],
          "name": "stdout"
        },
        {
          "output_type": "stream",
          "text": [
            "___ batch index = 750 / 1836 (40.85%), loss = 0.4461, time = 11.48 secondes ___\n"
          ],
          "name": "stdout"
        },
        {
          "output_type": "stream",
          "text": [
            "___ batch index = 1000 / 1836 (54.47%), loss = 0.4165, time = 13.07 secondes ___\n"
          ],
          "name": "stdout"
        },
        {
          "output_type": "stream",
          "text": [
            "___ batch index = 1250 / 1836 (68.08%), loss = 0.4119, time = 11.78 secondes ___\n"
          ],
          "name": "stdout"
        },
        {
          "output_type": "stream",
          "text": [
            "___ batch index = 1500 / 1836 (81.70%), loss = 0.4354, time = 11.96 secondes ___\n"
          ],
          "name": "stdout"
        },
        {
          "output_type": "stream",
          "text": [
            "___ batch index = 1750 / 1836 (95.32%), loss = 0.4066, time = 13.07 secondes ___\n"
          ],
          "name": "stdout"
        },
        {
          "output_type": "stream",
          "text": [
            "\n",
            "*** avg_loss : 0.44, time : ~1.0 min (91.68 sec) ***\n",
            "\n"
          ],
          "name": "stdout"
        },
        {
          "output_type": "stream",
          "text": [
            "==> evaluation : avg_loss = 0.71, time : 29.36 sec\n",
            "\n",
            "threshold (g-mean):  1\n",
            "threshold (f1):  1\n",
            "=====>\t{'Positive Rate': 0.4332784184514003, 'max g_mean metrics': {'threshold': 1, 'accuracy': 0.5667215815485996, 'f1': 0.0, 'recall': 0.0, 'specificity': 1.0, 'g_mean': 0.0}, 'max f1 metrics': {'threshold': 1, 'accuracy': 0.5667215815485996, 'f1': 0.0, 'recall': 0.0, 'specificity': 1.0, 'g_mean': 0.0}, 'default_accuracy': 0.5667215815485996, 'default_f1': 0.0, 'default_recall': 0.0, 'default_specificity': 1.0, 'default_g_mean': 0.0}\n",
            "\n",
            "=============== EPOCH 5 / 6 ===============\n",
            "\n",
            "___ batch index = 0 / 1836 (0.00%), loss = 1.0192, time = 0.03 secondes ___\n"
          ],
          "name": "stdout"
        },
        {
          "output_type": "stream",
          "text": [
            "___ batch index = 250 / 1836 (13.62%), loss = 0.4107, time = 12.75 secondes ___\n"
          ],
          "name": "stdout"
        },
        {
          "output_type": "stream",
          "text": [
            "___ batch index = 500 / 1836 (27.23%), loss = 0.4172, time = 12.30 secondes ___\n"
          ],
          "name": "stdout"
        },
        {
          "output_type": "stream",
          "text": [
            "___ batch index = 750 / 1836 (40.85%), loss = 0.4258, time = 11.37 secondes ___\n"
          ],
          "name": "stdout"
        },
        {
          "output_type": "stream",
          "text": [
            "___ batch index = 1000 / 1836 (54.47%), loss = 0.3822, time = 13.05 secondes ___\n"
          ],
          "name": "stdout"
        },
        {
          "output_type": "stream",
          "text": [
            "___ batch index = 1250 / 1836 (68.08%), loss = 0.3812, time = 11.75 secondes ___\n"
          ],
          "name": "stdout"
        },
        {
          "output_type": "stream",
          "text": [
            "___ batch index = 1500 / 1836 (81.70%), loss = 0.4072, time = 11.92 secondes ___\n"
          ],
          "name": "stdout"
        },
        {
          "output_type": "stream",
          "text": [
            "___ batch index = 1750 / 1836 (95.32%), loss = 0.3772, time = 13.06 secondes ___\n"
          ],
          "name": "stdout"
        },
        {
          "output_type": "stream",
          "text": [
            "\n",
            "*** avg_loss : 0.41, time : ~1.0 min (91.22 sec) ***\n",
            "\n"
          ],
          "name": "stdout"
        },
        {
          "output_type": "stream",
          "text": [
            "==> evaluation : avg_loss = 0.72, time : 29.39 sec\n",
            "\n",
            "threshold (g-mean):  1\n",
            "threshold (f1):  1\n",
            "=====>\t{'Positive Rate': 0.4332784184514003, 'max g_mean metrics': {'threshold': 1, 'accuracy': 0.5667215815485996, 'f1': 0.0, 'recall': 0.0, 'specificity': 1.0, 'g_mean': 0.0}, 'max f1 metrics': {'threshold': 1, 'accuracy': 0.5667215815485996, 'f1': 0.0, 'recall': 0.0, 'specificity': 1.0, 'g_mean': 0.0}, 'default_accuracy': 0.5667215815485996, 'default_f1': 0.0, 'default_recall': 0.0, 'default_specificity': 1.0, 'default_g_mean': 0.0}\n",
            "\n",
            "=============== EPOCH 6 / 6 ===============\n",
            "\n",
            "___ batch index = 0 / 1836 (0.00%), loss = 1.0542, time = 0.03 secondes ___\n"
          ],
          "name": "stdout"
        },
        {
          "output_type": "stream",
          "text": [
            "___ batch index = 250 / 1836 (13.62%), loss = 0.3805, time = 12.76 secondes ___\n"
          ],
          "name": "stdout"
        },
        {
          "output_type": "stream",
          "text": [
            "___ batch index = 500 / 1836 (27.23%), loss = 0.3841, time = 12.32 secondes ___\n"
          ],
          "name": "stdout"
        },
        {
          "output_type": "stream",
          "text": [
            "___ batch index = 750 / 1836 (40.85%), loss = 0.4033, time = 11.37 secondes ___\n"
          ],
          "name": "stdout"
        },
        {
          "output_type": "stream",
          "text": [
            "___ batch index = 1000 / 1836 (54.47%), loss = 0.3659, time = 13.06 secondes ___\n"
          ],
          "name": "stdout"
        },
        {
          "output_type": "stream",
          "text": [
            "___ batch index = 1250 / 1836 (68.08%), loss = 0.3628, time = 11.77 secondes ___\n"
          ],
          "name": "stdout"
        },
        {
          "output_type": "stream",
          "text": [
            "___ batch index = 1500 / 1836 (81.70%), loss = 0.3927, time = 11.93 secondes ___\n"
          ],
          "name": "stdout"
        },
        {
          "output_type": "stream",
          "text": [
            "___ batch index = 1750 / 1836 (95.32%), loss = 0.3479, time = 13.06 secondes ___\n"
          ],
          "name": "stdout"
        },
        {
          "output_type": "stream",
          "text": [
            "\n",
            "*** avg_loss : 0.39, time : ~1.0 min (91.28 sec) ***\n",
            "\n"
          ],
          "name": "stdout"
        },
        {
          "output_type": "stream",
          "text": [
            "==> evaluation : avg_loss = 0.74, time : 29.38 sec\n",
            "\n",
            "threshold (g-mean):  1\n",
            "threshold (f1):  1\n",
            "=====>\t{'Positive Rate': 0.4332784184514003, 'max g_mean metrics': {'threshold': 1, 'accuracy': 0.5667215815485996, 'f1': 0.0, 'recall': 0.0, 'specificity': 1.0, 'g_mean': 0.0}, 'max f1 metrics': {'threshold': 1, 'accuracy': 0.5667215815485996, 'f1': 0.0, 'recall': 0.0, 'specificity': 1.0, 'g_mean': 0.0}, 'default_accuracy': 0.5667215815485996, 'default_f1': 0.0, 'default_recall': 0.0, 'default_specificity': 1.0, 'default_g_mean': 0.0}\n",
            "@@@@@@@@@@@@@@@@@@@@@@@@@@@@@@@@@@@@@@@@@@@@@ END @@@@@@@@@@@@@@@@@@@@@@@@@@@@@@@@@@@@@@@@@@@@@@@\n",
            "xxxxxxxxxxxxxxxxxxxxxxxxxxxxxxxxxxxx END Para label:  Apoyo Kinesióloga(o)  (7) xxxxxxxxxxxxxxxxxxxxxxxxx\n",
            "#################################################### Para label:  Apoyo Médico General  (8) ##############\n"
          ],
          "name": "stdout"
        },
        {
          "output_type": "stream",
          "text": [
            "--------------------------------------lr: 1e-07-----------------------------\n",
            "+++++++++++++++++++++++++++++++++++++++++++++++++++ n layers: 1 ++++++++++++++++++++++++++++++++++++++++++++++++\n",
            "/////////////////////////////////////////// GA: 16 ///////////////////////////////////////////////////////\n",
            "\n",
            "=============== EPOCH 1 / 6 ===============\n",
            "\n",
            "___ batch index = 0 / 1836 (0.00%), loss = 0.6128, time = 0.03 secondes ___\n"
          ],
          "name": "stdout"
        },
        {
          "output_type": "stream",
          "text": [
            "___ batch index = 250 / 1836 (13.62%), loss = 0.6260, time = 12.75 secondes ___\n"
          ],
          "name": "stdout"
        },
        {
          "output_type": "stream",
          "text": [
            "___ batch index = 500 / 1836 (27.23%), loss = 0.6367, time = 12.31 secondes ___\n"
          ],
          "name": "stdout"
        },
        {
          "output_type": "stream",
          "text": [
            "___ batch index = 750 / 1836 (40.85%), loss = 0.6277, time = 11.37 secondes ___\n"
          ],
          "name": "stdout"
        },
        {
          "output_type": "stream",
          "text": [
            "___ batch index = 1000 / 1836 (54.47%), loss = 0.6139, time = 13.04 secondes ___\n"
          ],
          "name": "stdout"
        },
        {
          "output_type": "stream",
          "text": [
            "___ batch index = 1250 / 1836 (68.08%), loss = 0.6061, time = 11.75 secondes ___\n"
          ],
          "name": "stdout"
        },
        {
          "output_type": "stream",
          "text": [
            "___ batch index = 1500 / 1836 (81.70%), loss = 0.6258, time = 11.91 secondes ___\n"
          ],
          "name": "stdout"
        },
        {
          "output_type": "stream",
          "text": [
            "___ batch index = 1750 / 1836 (95.32%), loss = 0.6143, time = 13.05 secondes ___\n"
          ],
          "name": "stdout"
        },
        {
          "output_type": "stream",
          "text": [
            "\n",
            "*** avg_loss : 0.63, time : ~1.0 min (91.20 sec) ***\n",
            "\n"
          ],
          "name": "stdout"
        },
        {
          "output_type": "stream",
          "text": [
            "==> evaluation : avg_loss = 0.69, time : 29.36 sec\n",
            "\n"
          ],
          "name": "stdout"
        },
        {
          "output_type": "stream",
          "text": [
            "threshold (g-mean):  0.02013900819420733\n"
          ],
          "name": "stdout"
        },
        {
          "output_type": "stream",
          "text": [
            "threshold (f1):  0.02013900819420733\n",
            "=====>\t{'Positive Rate': 0.4332784184514003, 'max g_mean metrics': {'threshold': 0.02013900819420733, 'accuracy': 0.5700164744645799, 'f1': 0.015094339622641508, 'recall': 0.0076045627376425855, 'specificity': 1.0, 'g_mean': 0.08720414403938946}, 'max f1 metrics': {'threshold': 0.02013900819420733, 'accuracy': 0.5700164744645799, 'f1': 0.015094339622641508, 'recall': 0.0076045627376425855, 'specificity': 1.0, 'g_mean': 0.08720414403938946}, 'default_accuracy': 0.5667215815485996, 'default_f1': 0.0, 'default_recall': 0.0, 'default_specificity': 1.0, 'default_g_mean': 0.0}\n",
            "\n",
            "=============== EPOCH 2 / 6 ===============\n",
            "\n",
            "___ batch index = 0 / 1836 (0.00%), loss = 0.6152, time = 0.03 secondes ___\n"
          ],
          "name": "stdout"
        },
        {
          "output_type": "stream",
          "text": [
            "___ batch index = 250 / 1836 (13.62%), loss = 0.6250, time = 12.76 secondes ___\n"
          ],
          "name": "stdout"
        },
        {
          "output_type": "stream",
          "text": [
            "___ batch index = 500 / 1836 (27.23%), loss = 0.6226, time = 12.30 secondes ___\n"
          ],
          "name": "stdout"
        },
        {
          "output_type": "stream",
          "text": [
            "___ batch index = 750 / 1836 (40.85%), loss = 0.6290, time = 11.37 secondes ___\n"
          ],
          "name": "stdout"
        },
        {
          "output_type": "stream",
          "text": [
            "___ batch index = 1000 / 1836 (54.47%), loss = 0.6117, time = 13.05 secondes ___\n"
          ],
          "name": "stdout"
        },
        {
          "output_type": "stream",
          "text": [
            "___ batch index = 1250 / 1836 (68.08%), loss = 0.6130, time = 11.75 secondes ___\n"
          ],
          "name": "stdout"
        },
        {
          "output_type": "stream",
          "text": [
            "___ batch index = 1500 / 1836 (81.70%), loss = 0.6257, time = 11.93 secondes ___\n"
          ],
          "name": "stdout"
        },
        {
          "output_type": "stream",
          "text": [
            "___ batch index = 1750 / 1836 (95.32%), loss = 0.6181, time = 13.04 secondes ___\n"
          ],
          "name": "stdout"
        },
        {
          "output_type": "stream",
          "text": [
            "\n",
            "*** avg_loss : 0.63, time : ~1.0 min (91.23 sec) ***\n",
            "\n"
          ],
          "name": "stdout"
        },
        {
          "output_type": "stream",
          "text": [
            "==> evaluation : avg_loss = 0.69, time : 29.37 sec\n",
            "\n"
          ],
          "name": "stdout"
        },
        {
          "output_type": "stream",
          "text": [
            "threshold (g-mean):  0.012442920106648731\n"
          ],
          "name": "stdout"
        },
        {
          "output_type": "stream",
          "text": [
            "threshold (f1):  0.012442920106648731\n",
            "=====>\t{'Positive Rate': 0.4332784184514003, 'max g_mean metrics': {'threshold': 0.012442920106648731, 'accuracy': 0.5700164744645799, 'f1': 0.015094339622641508, 'recall': 0.0076045627376425855, 'specificity': 1.0, 'g_mean': 0.08720414403938946}, 'max f1 metrics': {'threshold': 0.012442920106648731, 'accuracy': 0.5700164744645799, 'f1': 0.015094339622641508, 'recall': 0.0076045627376425855, 'specificity': 1.0, 'g_mean': 0.08720414403938946}, 'default_accuracy': 0.5667215815485996, 'default_f1': 0.0, 'default_recall': 0.0, 'default_specificity': 1.0, 'default_g_mean': 0.0}\n",
            "\n",
            "=============== EPOCH 3 / 6 ===============\n",
            "\n",
            "___ batch index = 0 / 1836 (0.00%), loss = 0.6230, time = 0.03 secondes ___\n"
          ],
          "name": "stdout"
        },
        {
          "output_type": "stream",
          "text": [
            "___ batch index = 250 / 1836 (13.62%), loss = 0.6152, time = 12.75 secondes ___\n"
          ],
          "name": "stdout"
        },
        {
          "output_type": "stream",
          "text": [
            "___ batch index = 500 / 1836 (27.23%), loss = 0.6237, time = 12.30 secondes ___\n"
          ],
          "name": "stdout"
        },
        {
          "output_type": "stream",
          "text": [
            "___ batch index = 750 / 1836 (40.85%), loss = 0.6266, time = 11.38 secondes ___\n"
          ],
          "name": "stdout"
        },
        {
          "output_type": "stream",
          "text": [
            "___ batch index = 1000 / 1836 (54.47%), loss = 0.6022, time = 13.06 secondes ___\n"
          ],
          "name": "stdout"
        },
        {
          "output_type": "stream",
          "text": [
            "___ batch index = 1250 / 1836 (68.08%), loss = 0.6088, time = 11.76 secondes ___\n"
          ],
          "name": "stdout"
        },
        {
          "output_type": "stream",
          "text": [
            "___ batch index = 1500 / 1836 (81.70%), loss = 0.6177, time = 11.90 secondes ___\n"
          ],
          "name": "stdout"
        },
        {
          "output_type": "stream",
          "text": [
            "___ batch index = 1750 / 1836 (95.32%), loss = 0.6109, time = 13.06 secondes ___\n"
          ],
          "name": "stdout"
        },
        {
          "output_type": "stream",
          "text": [
            "\n",
            "*** avg_loss : 0.62, time : ~1.0 min (91.22 sec) ***\n",
            "\n"
          ],
          "name": "stdout"
        },
        {
          "output_type": "stream",
          "text": [
            "==> evaluation : avg_loss = 0.69, time : 29.38 sec\n",
            "\n"
          ],
          "name": "stdout"
        },
        {
          "output_type": "stream",
          "text": [
            "threshold (g-mean):  0.004784870958327696\n"
          ],
          "name": "stdout"
        },
        {
          "output_type": "stream",
          "text": [
            "threshold (f1):  0.004784870958327696\n",
            "=====>\t{'Positive Rate': 0.4332784184514003, 'max g_mean metrics': {'threshold': 0.004784870958327696, 'accuracy': 0.5700164744645799, 'f1': 0.015094339622641508, 'recall': 0.0076045627376425855, 'specificity': 1.0, 'g_mean': 0.08720414403938946}, 'max f1 metrics': {'threshold': 0.004784870958327696, 'accuracy': 0.5700164744645799, 'f1': 0.015094339622641508, 'recall': 0.0076045627376425855, 'specificity': 1.0, 'g_mean': 0.08720414403938946}, 'default_accuracy': 0.5667215815485996, 'default_f1': 0.0, 'default_recall': 0.0, 'default_specificity': 1.0, 'default_g_mean': 0.0}\n",
            "\n",
            "=============== EPOCH 4 / 6 ===============\n",
            "\n",
            "___ batch index = 0 / 1836 (0.00%), loss = 0.5977, time = 0.03 secondes ___\n"
          ],
          "name": "stdout"
        },
        {
          "output_type": "stream",
          "text": [
            "___ batch index = 250 / 1836 (13.62%), loss = 0.6173, time = 12.77 secondes ___\n"
          ],
          "name": "stdout"
        },
        {
          "output_type": "stream",
          "text": [
            "___ batch index = 500 / 1836 (27.23%), loss = 0.6193, time = 12.31 secondes ___\n"
          ],
          "name": "stdout"
        },
        {
          "output_type": "stream",
          "text": [
            "___ batch index = 750 / 1836 (40.85%), loss = 0.6223, time = 11.38 secondes ___\n"
          ],
          "name": "stdout"
        },
        {
          "output_type": "stream",
          "text": [
            "___ batch index = 1000 / 1836 (54.47%), loss = 0.6077, time = 13.06 secondes ___\n"
          ],
          "name": "stdout"
        },
        {
          "output_type": "stream",
          "text": [
            "___ batch index = 1250 / 1836 (68.08%), loss = 0.6086, time = 11.77 secondes ___\n"
          ],
          "name": "stdout"
        },
        {
          "output_type": "stream",
          "text": [
            "___ batch index = 1500 / 1836 (81.70%), loss = 0.6097, time = 11.94 secondes ___\n"
          ],
          "name": "stdout"
        },
        {
          "output_type": "stream",
          "text": [
            "___ batch index = 1750 / 1836 (95.32%), loss = 0.6090, time = 13.13 secondes ___\n"
          ],
          "name": "stdout"
        },
        {
          "output_type": "stream",
          "text": [
            "\n",
            "*** avg_loss : 0.62, time : ~1.0 min (91.40 sec) ***\n",
            "\n"
          ],
          "name": "stdout"
        },
        {
          "output_type": "stream",
          "text": [
            "==> evaluation : avg_loss = 0.69, time : 29.52 sec\n",
            "\n"
          ],
          "name": "stdout"
        },
        {
          "output_type": "stream",
          "text": [
            "threshold (g-mean):  0.0516677441239357\n"
          ],
          "name": "stdout"
        },
        {
          "output_type": "stream",
          "text": [
            "threshold (f1):  0.0516677441239357\n",
            "=====>\t{'Positive Rate': 0.4332784184514003, 'max g_mean metrics': {'threshold': 0.0516677441239357, 'accuracy': 0.5683690280065898, 'f1': 0.007575757575757576, 'recall': 0.0038022813688212928, 'specificity': 1.0, 'g_mean': 0.06166264159782074}, 'max f1 metrics': {'threshold': 0.0516677441239357, 'accuracy': 0.5683690280065898, 'f1': 0.007575757575757576, 'recall': 0.0038022813688212928, 'specificity': 1.0, 'g_mean': 0.06166264159782074}, 'default_accuracy': 0.5667215815485996, 'default_f1': 0.0, 'default_recall': 0.0, 'default_specificity': 1.0, 'default_g_mean': 0.0}\n",
            "\n",
            "=============== EPOCH 5 / 6 ===============\n",
            "\n",
            "___ batch index = 0 / 1836 (0.00%), loss = 0.5922, time = 0.03 secondes ___\n"
          ],
          "name": "stdout"
        },
        {
          "output_type": "stream",
          "text": [
            "___ batch index = 250 / 1836 (13.62%), loss = 0.6161, time = 12.82 secondes ___\n"
          ],
          "name": "stdout"
        },
        {
          "output_type": "stream",
          "text": [
            "___ batch index = 500 / 1836 (27.23%), loss = 0.6156, time = 12.38 secondes ___\n"
          ],
          "name": "stdout"
        },
        {
          "output_type": "stream",
          "text": [
            "___ batch index = 750 / 1836 (40.85%), loss = 0.6204, time = 11.45 secondes ___\n"
          ],
          "name": "stdout"
        },
        {
          "output_type": "stream",
          "text": [
            "___ batch index = 1000 / 1836 (54.47%), loss = 0.5937, time = 13.13 secondes ___\n"
          ],
          "name": "stdout"
        },
        {
          "output_type": "stream",
          "text": [
            "___ batch index = 1250 / 1836 (68.08%), loss = 0.6027, time = 11.83 secondes ___\n"
          ],
          "name": "stdout"
        },
        {
          "output_type": "stream",
          "text": [
            "___ batch index = 1500 / 1836 (81.70%), loss = 0.6159, time = 11.97 secondes ___\n"
          ],
          "name": "stdout"
        },
        {
          "output_type": "stream",
          "text": [
            "___ batch index = 1750 / 1836 (95.32%), loss = 0.6055, time = 13.13 secondes ___\n"
          ],
          "name": "stdout"
        },
        {
          "output_type": "stream",
          "text": [
            "\n",
            "*** avg_loss : 0.62, time : ~1.0 min (91.78 sec) ***\n",
            "\n"
          ],
          "name": "stdout"
        },
        {
          "output_type": "stream",
          "text": [
            "==> evaluation : avg_loss = 0.69, time : 29.65 sec\n",
            "\n"
          ],
          "name": "stdout"
        },
        {
          "output_type": "stream",
          "text": [
            "threshold (g-mean):  0.0482807660639286\n"
          ],
          "name": "stdout"
        },
        {
          "output_type": "stream",
          "text": [
            "threshold (f1):  0.0482807660639286\n",
            "=====>\t{'Positive Rate': 0.4332784184514003, 'max g_mean metrics': {'threshold': 0.0482807660639286, 'accuracy': 0.5683690280065898, 'f1': 0.007575757575757576, 'recall': 0.0038022813688212928, 'specificity': 1.0, 'g_mean': 0.06166264159782074}, 'max f1 metrics': {'threshold': 0.0482807660639286, 'accuracy': 0.5683690280065898, 'f1': 0.007575757575757576, 'recall': 0.0038022813688212928, 'specificity': 1.0, 'g_mean': 0.06166264159782074}, 'default_accuracy': 0.5667215815485996, 'default_f1': 0.0, 'default_recall': 0.0, 'default_specificity': 1.0, 'default_g_mean': 0.0}\n",
            "\n",
            "=============== EPOCH 6 / 6 ===============\n",
            "\n",
            "___ batch index = 0 / 1836 (0.00%), loss = 0.6057, time = 0.03 secondes ___\n"
          ],
          "name": "stdout"
        },
        {
          "output_type": "stream",
          "text": [
            "___ batch index = 250 / 1836 (13.62%), loss = 0.6141, time = 12.89 secondes ___\n"
          ],
          "name": "stdout"
        },
        {
          "output_type": "stream",
          "text": [
            "___ batch index = 500 / 1836 (27.23%), loss = 0.6204, time = 12.42 secondes ___\n"
          ],
          "name": "stdout"
        },
        {
          "output_type": "stream",
          "text": [
            "___ batch index = 750 / 1836 (40.85%), loss = 0.6169, time = 11.45 secondes ___\n"
          ],
          "name": "stdout"
        },
        {
          "output_type": "stream",
          "text": [
            "___ batch index = 1000 / 1836 (54.47%), loss = 0.6015, time = 13.13 secondes ___\n"
          ],
          "name": "stdout"
        },
        {
          "output_type": "stream",
          "text": [
            "___ batch index = 1250 / 1836 (68.08%), loss = 0.6061, time = 11.84 secondes ___\n"
          ],
          "name": "stdout"
        },
        {
          "output_type": "stream",
          "text": [
            "___ batch index = 1500 / 1836 (81.70%), loss = 0.6093, time = 11.99 secondes ___\n"
          ],
          "name": "stdout"
        },
        {
          "output_type": "stream",
          "text": [
            "___ batch index = 1750 / 1836 (95.32%), loss = 0.5970, time = 13.13 secondes ___\n"
          ],
          "name": "stdout"
        },
        {
          "output_type": "stream",
          "text": [
            "\n",
            "*** avg_loss : 0.62, time : ~1.0 min (91.89 sec) ***\n",
            "\n"
          ],
          "name": "stdout"
        },
        {
          "output_type": "stream",
          "text": [
            "==> evaluation : avg_loss = 0.69, time : 29.53 sec\n",
            "\n"
          ],
          "name": "stdout"
        },
        {
          "output_type": "stream",
          "text": [
            "threshold (g-mean):  0.04494772275686264\n"
          ],
          "name": "stdout"
        },
        {
          "output_type": "stream",
          "text": [
            "threshold (f1):  0.04494772275686264\n",
            "=====>\t{'Positive Rate': 0.4332784184514003, 'max g_mean metrics': {'threshold': 0.04494772275686264, 'accuracy': 0.5683690280065898, 'f1': 0.007575757575757576, 'recall': 0.0038022813688212928, 'specificity': 1.0, 'g_mean': 0.06166264159782074}, 'max f1 metrics': {'threshold': 0.04494772275686264, 'accuracy': 0.5683690280065898, 'f1': 0.007575757575757576, 'recall': 0.0038022813688212928, 'specificity': 1.0, 'g_mean': 0.06166264159782074}, 'default_accuracy': 0.5667215815485996, 'default_f1': 0.0, 'default_recall': 0.0, 'default_specificity': 1.0, 'default_g_mean': 0.0}\n",
            "@@@@@@@@@@@@@@@@@@@@@@@@@@@@@@@@@@@@@@@@@@@@@ END @@@@@@@@@@@@@@@@@@@@@@@@@@@@@@@@@@@@@@@@@@@@@@@\n",
            "--------------------------------------lr: 1e-06-----------------------------\n",
            "+++++++++++++++++++++++++++++++++++++++++++++++++++ n layers: 1 ++++++++++++++++++++++++++++++++++++++++++++++++\n",
            "/////////////////////////////////////////// GA: 16 ///////////////////////////////////////////////////////\n",
            "\n",
            "=============== EPOCH 1 / 6 ===============\n",
            "\n",
            "___ batch index = 0 / 1836 (0.00%), loss = 0.7558, time = 0.03 secondes ___\n"
          ],
          "name": "stdout"
        },
        {
          "output_type": "stream",
          "text": [
            "___ batch index = 250 / 1836 (13.62%), loss = 0.7974, time = 12.84 secondes ___\n"
          ],
          "name": "stdout"
        },
        {
          "output_type": "stream",
          "text": [
            "___ batch index = 500 / 1836 (27.23%), loss = 0.7864, time = 12.38 secondes ___\n"
          ],
          "name": "stdout"
        },
        {
          "output_type": "stream",
          "text": [
            "___ batch index = 750 / 1836 (40.85%), loss = 0.7749, time = 11.46 secondes ___\n"
          ],
          "name": "stdout"
        },
        {
          "output_type": "stream",
          "text": [
            "___ batch index = 1000 / 1836 (54.47%), loss = 0.7759, time = 13.12 secondes ___\n"
          ],
          "name": "stdout"
        },
        {
          "output_type": "stream",
          "text": [
            "___ batch index = 1250 / 1836 (68.08%), loss = 0.7715, time = 11.84 secondes ___\n"
          ],
          "name": "stdout"
        },
        {
          "output_type": "stream",
          "text": [
            "___ batch index = 1500 / 1836 (81.70%), loss = 0.7783, time = 11.99 secondes ___\n"
          ],
          "name": "stdout"
        },
        {
          "output_type": "stream",
          "text": [
            "___ batch index = 1750 / 1836 (95.32%), loss = 0.7570, time = 13.14 secondes ___\n"
          ],
          "name": "stdout"
        },
        {
          "output_type": "stream",
          "text": [
            "\n",
            "*** avg_loss : 0.77, time : ~1.0 min (91.82 sec) ***\n",
            "\n"
          ],
          "name": "stdout"
        },
        {
          "output_type": "stream",
          "text": [
            "==> evaluation : avg_loss = 0.70, time : 29.53 sec\n",
            "\n"
          ],
          "name": "stdout"
        },
        {
          "output_type": "stream",
          "text": [
            "threshold (g-mean):  0.1205280603885757\n"
          ],
          "name": "stdout"
        },
        {
          "output_type": "stream",
          "text": [
            "threshold (f1):  0.1062280603885753\n",
            "=====>\t{'Positive Rate': 0.4332784184514003, 'max g_mean metrics': {'threshold': 0.1205280603885757, 'accuracy': 0.514003294892916, 'f1': 0.4626593806921676, 'recall': 0.4828897338403042, 'specificity': 0.5377906976744186, 'g_mean': 0.5096014196033911}, 'max f1 metrics': {'threshold': 0.1062280603885753, 'accuracy': 0.4942339373970346, 'f1': 0.4891846921797005, 'recall': 0.55893536121673, 'specificity': 0.44476744186046513, 'g_mean': 0.49859427471012946}, 'default_accuracy': 0.5667215815485996, 'default_f1': 0.0, 'default_recall': 0.0, 'default_specificity': 1.0, 'default_g_mean': 0.0}\n",
            "\n",
            "=============== EPOCH 2 / 6 ===============\n",
            "\n",
            "___ batch index = 0 / 1836 (0.00%), loss = 0.7154, time = 0.03 secondes ___\n"
          ],
          "name": "stdout"
        },
        {
          "output_type": "stream",
          "text": [
            "___ batch index = 250 / 1836 (13.62%), loss = 0.7561, time = 12.82 secondes ___\n"
          ],
          "name": "stdout"
        },
        {
          "output_type": "stream",
          "text": [
            "___ batch index = 500 / 1836 (27.23%), loss = 0.7371, time = 12.38 secondes ___\n"
          ],
          "name": "stdout"
        },
        {
          "output_type": "stream",
          "text": [
            "___ batch index = 750 / 1836 (40.85%), loss = 0.7357, time = 11.43 secondes ___\n"
          ],
          "name": "stdout"
        },
        {
          "output_type": "stream",
          "text": [
            "___ batch index = 1000 / 1836 (54.47%), loss = 0.7296, time = 13.12 secondes ___\n"
          ],
          "name": "stdout"
        },
        {
          "output_type": "stream",
          "text": [
            "___ batch index = 1250 / 1836 (68.08%), loss = 0.7248, time = 11.84 secondes ___\n"
          ],
          "name": "stdout"
        },
        {
          "output_type": "stream",
          "text": [
            "___ batch index = 1500 / 1836 (81.70%), loss = 0.7351, time = 12.00 secondes ___\n"
          ],
          "name": "stdout"
        },
        {
          "output_type": "stream",
          "text": [
            "___ batch index = 1750 / 1836 (95.32%), loss = 0.7176, time = 13.13 secondes ___\n"
          ],
          "name": "stdout"
        },
        {
          "output_type": "stream",
          "text": [
            "\n",
            "*** avg_loss : 0.73, time : ~1.0 min (91.76 sec) ***\n",
            "\n"
          ],
          "name": "stdout"
        },
        {
          "output_type": "stream",
          "text": [
            "==> evaluation : avg_loss = 0.70, time : 29.53 sec\n",
            "\n"
          ],
          "name": "stdout"
        },
        {
          "output_type": "stream",
          "text": [
            "threshold (g-mean):  0.03889186475277165\n"
          ],
          "name": "stdout"
        },
        {
          "output_type": "stream",
          "text": [
            "threshold (f1):  0.026991864752771457\n",
            "=====>\t{'Positive Rate': 0.4332784184514003, 'max g_mean metrics': {'threshold': 0.03889186475277165, 'accuracy': 0.5024711696869851, 'f1': 0.4626334519572954, 'recall': 0.49429657794676807, 'specificity': 0.5087209302325582, 'g_mean': 0.5014568924083604}, 'max f1 metrics': {'threshold': 0.026991864752771457, 'accuracy': 0.4827018121911038, 'f1': 0.4818481848184818, 'recall': 0.5551330798479087, 'specificity': 0.4273255813953488, 'g_mean': 0.4870549928886862}, 'default_accuracy': 0.5667215815485996, 'default_f1': 0.0, 'default_recall': 0.0, 'default_specificity': 1.0, 'default_g_mean': 0.0}\n",
            "\n",
            "=============== EPOCH 3 / 6 ===============\n",
            "\n",
            "___ batch index = 0 / 1836 (0.00%), loss = 0.6829, time = 0.03 secondes ___\n"
          ],
          "name": "stdout"
        },
        {
          "output_type": "stream",
          "text": [
            "___ batch index = 250 / 1836 (13.62%), loss = 0.7084, time = 12.84 secondes ___\n"
          ],
          "name": "stdout"
        },
        {
          "output_type": "stream",
          "text": [
            "___ batch index = 500 / 1836 (27.23%), loss = 0.7177, time = 12.38 secondes ___\n"
          ],
          "name": "stdout"
        },
        {
          "output_type": "stream",
          "text": [
            "___ batch index = 750 / 1836 (40.85%), loss = 0.6951, time = 11.43 secondes ___\n"
          ],
          "name": "stdout"
        },
        {
          "output_type": "stream",
          "text": [
            "___ batch index = 1000 / 1836 (54.47%), loss = 0.6998, time = 13.12 secondes ___\n"
          ],
          "name": "stdout"
        },
        {
          "output_type": "stream",
          "text": [
            "___ batch index = 1250 / 1836 (68.08%), loss = 0.6916, time = 11.82 secondes ___\n"
          ],
          "name": "stdout"
        },
        {
          "output_type": "stream",
          "text": [
            "___ batch index = 1500 / 1836 (81.70%), loss = 0.7058, time = 12.00 secondes ___\n"
          ],
          "name": "stdout"
        },
        {
          "output_type": "stream",
          "text": [
            "___ batch index = 1750 / 1836 (95.32%), loss = 0.6710, time = 13.13 secondes ___\n"
          ],
          "name": "stdout"
        },
        {
          "output_type": "stream",
          "text": [
            "\n",
            "*** avg_loss : 0.70, time : ~1.0 min (91.77 sec) ***\n",
            "\n"
          ],
          "name": "stdout"
        },
        {
          "output_type": "stream",
          "text": [
            "==> evaluation : avg_loss = 0.69, time : 29.53 sec\n",
            "\n"
          ],
          "name": "stdout"
        },
        {
          "output_type": "stream",
          "text": [
            "threshold (g-mean):  0.005270463252065349\n"
          ],
          "name": "stdout"
        },
        {
          "output_type": "stream",
          "text": [
            "threshold (f1):  0.005270463252065349\n",
            "=====>\t{'Positive Rate': 0.4332784184514003, 'max g_mean metrics': {'threshold': 0.005270463252065349, 'accuracy': 0.5469522240527183, 'f1': 0.2506811989100818, 'recall': 0.17490494296577946, 'specificity': 0.8313953488372093, 'g_mean': 0.3813333922834275}, 'max f1 metrics': {'threshold': 0.005270463252065349, 'accuracy': 0.5469522240527183, 'f1': 0.2506811989100818, 'recall': 0.17490494296577946, 'specificity': 0.8313953488372093, 'g_mean': 0.3813333922834275}, 'default_accuracy': 0.5667215815485996, 'default_f1': 0.0, 'default_recall': 0.0, 'default_specificity': 1.0, 'default_g_mean': 0.0}\n",
            "\n",
            "=============== EPOCH 4 / 6 ===============\n",
            "\n",
            "___ batch index = 0 / 1836 (0.00%), loss = 0.6784, time = 0.03 secondes ___\n"
          ],
          "name": "stdout"
        },
        {
          "output_type": "stream",
          "text": [
            "___ batch index = 250 / 1836 (13.62%), loss = 0.6781, time = 12.85 secondes ___\n"
          ],
          "name": "stdout"
        },
        {
          "output_type": "stream",
          "text": [
            "___ batch index = 500 / 1836 (27.23%), loss = 0.6713, time = 12.39 secondes ___\n"
          ],
          "name": "stdout"
        },
        {
          "output_type": "stream",
          "text": [
            "___ batch index = 750 / 1836 (40.85%), loss = 0.6649, time = 11.44 secondes ___\n"
          ],
          "name": "stdout"
        },
        {
          "output_type": "stream",
          "text": [
            "___ batch index = 1000 / 1836 (54.47%), loss = 0.6548, time = 13.13 secondes ___\n"
          ],
          "name": "stdout"
        },
        {
          "output_type": "stream",
          "text": [
            "___ batch index = 1250 / 1836 (68.08%), loss = 0.6484, time = 11.83 secondes ___\n"
          ],
          "name": "stdout"
        },
        {
          "output_type": "stream",
          "text": [
            "___ batch index = 1500 / 1836 (81.70%), loss = 0.6705, time = 12.01 secondes ___\n"
          ],
          "name": "stdout"
        },
        {
          "output_type": "stream",
          "text": [
            "___ batch index = 1750 / 1836 (95.32%), loss = 0.6376, time = 13.13 secondes ___\n"
          ],
          "name": "stdout"
        },
        {
          "output_type": "stream",
          "text": [
            "\n",
            "*** avg_loss : 0.66, time : ~1.0 min (91.82 sec) ***\n",
            "\n"
          ],
          "name": "stdout"
        },
        {
          "output_type": "stream",
          "text": [
            "==> evaluation : avg_loss = 0.69, time : 29.53 sec\n",
            "\n"
          ],
          "name": "stdout"
        },
        {
          "output_type": "stream",
          "text": [
            "threshold (g-mean):  0.0001944428920738741\n"
          ],
          "name": "stdout"
        },
        {
          "output_type": "stream",
          "text": [
            "threshold (f1):  0.0001944428920738741\n",
            "=====>\t{'Positive Rate': 0.4332784184514003, 'max g_mean metrics': {'threshold': 0.0001944428920738741, 'accuracy': 0.5436573311367381, 'f1': 0.06734006734006734, 'recall': 0.03802281368821293, 'specificity': 0.9302325581395349, 'g_mean': 0.1880692937319892}, 'max f1 metrics': {'threshold': 0.0001944428920738741, 'accuracy': 0.5436573311367381, 'f1': 0.06734006734006734, 'recall': 0.03802281368821293, 'specificity': 0.9302325581395349, 'g_mean': 0.1880692937319892}, 'default_accuracy': 0.5667215815485996, 'default_f1': 0.0, 'default_recall': 0.0, 'default_specificity': 1.0, 'default_g_mean': 0.0}\n",
            "\n",
            "=============== EPOCH 5 / 6 ===============\n",
            "\n",
            "___ batch index = 0 / 1836 (0.00%), loss = 0.6233, time = 0.03 secondes ___\n"
          ],
          "name": "stdout"
        },
        {
          "output_type": "stream",
          "text": [
            "___ batch index = 250 / 1836 (13.62%), loss = 0.6372, time = 12.86 secondes ___\n"
          ],
          "name": "stdout"
        },
        {
          "output_type": "stream",
          "text": [
            "___ batch index = 500 / 1836 (27.23%), loss = 0.6388, time = 12.39 secondes ___\n"
          ],
          "name": "stdout"
        },
        {
          "output_type": "stream",
          "text": [
            "___ batch index = 750 / 1836 (40.85%), loss = 0.6418, time = 11.44 secondes ___\n"
          ],
          "name": "stdout"
        },
        {
          "output_type": "stream",
          "text": [
            "___ batch index = 1000 / 1836 (54.47%), loss = 0.6195, time = 13.13 secondes ___\n"
          ],
          "name": "stdout"
        },
        {
          "output_type": "stream",
          "text": [
            "___ batch index = 1250 / 1836 (68.08%), loss = 0.6194, time = 11.82 secondes ___\n"
          ],
          "name": "stdout"
        },
        {
          "output_type": "stream",
          "text": [
            "___ batch index = 1500 / 1836 (81.70%), loss = 0.6368, time = 12.01 secondes ___\n"
          ],
          "name": "stdout"
        },
        {
          "output_type": "stream",
          "text": [
            "___ batch index = 1750 / 1836 (95.32%), loss = 0.5960, time = 13.13 secondes ___\n"
          ],
          "name": "stdout"
        },
        {
          "output_type": "stream",
          "text": [
            "\n",
            "*** avg_loss : 0.63, time : ~1.0 min (91.83 sec) ***\n",
            "\n"
          ],
          "name": "stdout"
        },
        {
          "output_type": "stream",
          "text": [
            "==> evaluation : avg_loss = 0.69, time : 29.54 sec\n",
            "\n",
            "threshold (g-mean):  1\n"
          ],
          "name": "stdout"
        },
        {
          "output_type": "stream",
          "text": [
            "threshold (f1):  1\n",
            "=====>\t{'Positive Rate': 0.4332784184514003, 'max g_mean metrics': {'threshold': 1, 'accuracy': 0.5667215815485996, 'f1': 0.0, 'recall': 0.0, 'specificity': 1.0, 'g_mean': 0.0}, 'max f1 metrics': {'threshold': 1, 'accuracy': 0.5667215815485996, 'f1': 0.0, 'recall': 0.0, 'specificity': 1.0, 'g_mean': 0.0}, 'default_accuracy': 0.5667215815485996, 'default_f1': 0.0, 'default_recall': 0.0, 'default_specificity': 1.0, 'default_g_mean': 0.0}\n",
            "\n",
            "=============== EPOCH 6 / 6 ===============\n",
            "\n",
            "___ batch index = 0 / 1836 (0.00%), loss = 0.6142, time = 0.03 secondes ___\n"
          ],
          "name": "stdout"
        },
        {
          "output_type": "stream",
          "text": [
            "___ batch index = 250 / 1836 (13.62%), loss = 0.6076, time = 12.82 secondes ___\n"
          ],
          "name": "stdout"
        },
        {
          "output_type": "stream",
          "text": [
            "___ batch index = 500 / 1836 (27.23%), loss = 0.6091, time = 12.39 secondes ___\n"
          ],
          "name": "stdout"
        },
        {
          "output_type": "stream",
          "text": [
            "___ batch index = 750 / 1836 (40.85%), loss = 0.6254, time = 11.44 secondes ___\n"
          ],
          "name": "stdout"
        },
        {
          "output_type": "stream",
          "text": [
            "___ batch index = 1000 / 1836 (54.47%), loss = 0.5813, time = 13.13 secondes ___\n"
          ],
          "name": "stdout"
        },
        {
          "output_type": "stream",
          "text": [
            "___ batch index = 1250 / 1836 (68.08%), loss = 0.5800, time = 11.83 secondes ___\n"
          ],
          "name": "stdout"
        },
        {
          "output_type": "stream",
          "text": [
            "___ batch index = 1500 / 1836 (81.70%), loss = 0.6149, time = 11.97 secondes ___\n"
          ],
          "name": "stdout"
        },
        {
          "output_type": "stream",
          "text": [
            "___ batch index = 1750 / 1836 (95.32%), loss = 0.5776, time = 13.13 secondes ___\n"
          ],
          "name": "stdout"
        },
        {
          "output_type": "stream",
          "text": [
            "\n",
            "*** avg_loss : 0.60, time : ~1.0 min (91.76 sec) ***\n",
            "\n"
          ],
          "name": "stdout"
        },
        {
          "output_type": "stream",
          "text": [
            "==> evaluation : avg_loss = 0.69, time : 29.53 sec\n",
            "\n",
            "threshold (g-mean):  1\n",
            "threshold (f1):  1\n",
            "=====>\t{'Positive Rate': 0.4332784184514003, 'max g_mean metrics': {'threshold': 1, 'accuracy': 0.5667215815485996, 'f1': 0.0, 'recall': 0.0, 'specificity': 1.0, 'g_mean': 0.0}, 'max f1 metrics': {'threshold': 1, 'accuracy': 0.5667215815485996, 'f1': 0.0, 'recall': 0.0, 'specificity': 1.0, 'g_mean': 0.0}, 'default_accuracy': 0.5667215815485996, 'default_f1': 0.0, 'default_recall': 0.0, 'default_specificity': 1.0, 'default_g_mean': 0.0}\n",
            "@@@@@@@@@@@@@@@@@@@@@@@@@@@@@@@@@@@@@@@@@@@@@ END @@@@@@@@@@@@@@@@@@@@@@@@@@@@@@@@@@@@@@@@@@@@@@@\n"
          ],
          "name": "stdout"
        },
        {
          "output_type": "stream",
          "text": [
            "xxxxxxxxxxxxxxxxxxxxxxxxxxxxxxxxxxxx END Para label:  Apoyo Médico General  (8) xxxxxxxxxxxxxxxxxxxxxxxxx\n",
            "#################################################### Para label:  Apoyo Terapeuta Ocupacional  (9) ##############\n",
            "--------------------------------------lr: 1e-07-----------------------------\n",
            "+++++++++++++++++++++++++++++++++++++++++++++++++++ n layers: 1 ++++++++++++++++++++++++++++++++++++++++++++++++\n",
            "/////////////////////////////////////////// GA: 16 ///////////////////////////////////////////////////////\n"
          ],
          "name": "stdout"
        },
        {
          "output_type": "stream",
          "text": [
            "\n",
            "=============== EPOCH 1 / 6 ===============\n",
            "\n",
            "___ batch index = 0 / 1836 (0.00%), loss = 0.6666, time = 0.03 secondes ___\n"
          ],
          "name": "stdout"
        },
        {
          "output_type": "stream",
          "text": [
            "___ batch index = 250 / 1836 (13.62%), loss = 0.7261, time = 12.82 secondes ___\n"
          ],
          "name": "stdout"
        },
        {
          "output_type": "stream",
          "text": [
            "___ batch index = 500 / 1836 (27.23%), loss = 0.7359, time = 12.38 secondes ___\n"
          ],
          "name": "stdout"
        },
        {
          "output_type": "stream",
          "text": [
            "___ batch index = 750 / 1836 (40.85%), loss = 0.7213, time = 11.46 secondes ___\n"
          ],
          "name": "stdout"
        },
        {
          "output_type": "stream",
          "text": [
            "___ batch index = 1000 / 1836 (54.47%), loss = 0.7095, time = 13.12 secondes ___\n"
          ],
          "name": "stdout"
        },
        {
          "output_type": "stream",
          "text": [
            "___ batch index = 1250 / 1836 (68.08%), loss = 0.7248, time = 11.84 secondes ___\n"
          ],
          "name": "stdout"
        },
        {
          "output_type": "stream",
          "text": [
            "___ batch index = 1500 / 1836 (81.70%), loss = 0.7298, time = 11.95 secondes ___\n"
          ],
          "name": "stdout"
        },
        {
          "output_type": "stream",
          "text": [
            "___ batch index = 1750 / 1836 (95.32%), loss = 0.7058, time = 13.13 secondes ___\n"
          ],
          "name": "stdout"
        },
        {
          "output_type": "stream",
          "text": [
            "\n",
            "*** avg_loss : 0.73, time : ~1.0 min (91.74 sec) ***\n",
            "\n"
          ],
          "name": "stdout"
        },
        {
          "output_type": "stream",
          "text": [
            "==> evaluation : avg_loss = 0.70, time : 29.53 sec\n",
            "\n"
          ],
          "name": "stdout"
        },
        {
          "output_type": "stream",
          "text": [
            "threshold (g-mean):  0.06469666032792581\n"
          ],
          "name": "stdout"
        },
        {
          "output_type": "stream",
          "text": [
            "threshold (f1):  0.05649666032792558\n",
            "=====>\t{'Positive Rate': 0.4332784184514003, 'max g_mean metrics': {'threshold': 0.06469666032792581, 'accuracy': 0.47775947281713343, 'f1': 0.448695652173913, 'recall': 0.49049429657794674, 'specificity': 0.4680232558139535, 'g_mean': 0.47912705793201193}, 'max f1 metrics': {'threshold': 0.05649666032792558, 'accuracy': 0.4645799011532125, 'f1': 0.46102819237147596, 'recall': 0.5285171102661597, 'specificity': 0.41569767441860467, 'g_mean': 0.46872522188173726}, 'default_accuracy': 0.5667215815485996, 'default_f1': 0.0, 'default_recall': 0.0, 'default_specificity': 1.0, 'default_g_mean': 0.0}\n",
            "\n",
            "=============== EPOCH 2 / 6 ===============\n",
            "\n",
            "___ batch index = 0 / 1836 (0.00%), loss = 0.6599, time = 0.03 secondes ___\n"
          ],
          "name": "stdout"
        },
        {
          "output_type": "stream",
          "text": [
            "___ batch index = 250 / 1836 (13.62%), loss = 0.7287, time = 12.83 secondes ___\n"
          ],
          "name": "stdout"
        },
        {
          "output_type": "stream",
          "text": [
            "___ batch index = 500 / 1836 (27.23%), loss = 0.7334, time = 12.38 secondes ___\n"
          ],
          "name": "stdout"
        },
        {
          "output_type": "stream",
          "text": [
            "___ batch index = 750 / 1836 (40.85%), loss = 0.7097, time = 11.45 secondes ___\n"
          ],
          "name": "stdout"
        },
        {
          "output_type": "stream",
          "text": [
            "___ batch index = 1000 / 1836 (54.47%), loss = 0.7090, time = 13.13 secondes ___\n"
          ],
          "name": "stdout"
        },
        {
          "output_type": "stream",
          "text": [
            "___ batch index = 1250 / 1836 (68.08%), loss = 0.7233, time = 11.83 secondes ___\n"
          ],
          "name": "stdout"
        },
        {
          "output_type": "stream",
          "text": [
            "___ batch index = 1500 / 1836 (81.70%), loss = 0.7118, time = 11.98 secondes ___\n"
          ],
          "name": "stdout"
        },
        {
          "output_type": "stream",
          "text": [
            "___ batch index = 1750 / 1836 (95.32%), loss = 0.7119, time = 13.13 secondes ___\n"
          ],
          "name": "stdout"
        },
        {
          "output_type": "stream",
          "text": [
            "\n",
            "*** avg_loss : 0.72, time : ~1.0 min (91.78 sec) ***\n",
            "\n"
          ],
          "name": "stdout"
        },
        {
          "output_type": "stream",
          "text": [
            "==> evaluation : avg_loss = 0.70, time : 29.53 sec\n",
            "\n"
          ],
          "name": "stdout"
        },
        {
          "output_type": "stream",
          "text": [
            "threshold (g-mean):  0.057892611312879705\n"
          ],
          "name": "stdout"
        },
        {
          "output_type": "stream",
          "text": [
            "threshold (f1):  0.04859261131287944\n",
            "=====>\t{'Positive Rate': 0.4332784184514003, 'max g_mean metrics': {'threshold': 0.057892611312879705, 'accuracy': 0.4744645799011532, 'f1': 0.44714038128249567, 'recall': 0.49049429657794674, 'specificity': 0.4622093023255814, 'g_mean': 0.4761418135555515}, 'max f1 metrics': {'threshold': 0.04859261131287944, 'accuracy': 0.46293245469522243, 'f1': 0.4620462046204621, 'recall': 0.532319391634981, 'specificity': 0.40988372093023256, 'g_mean': 0.4671071108072149}, 'default_accuracy': 0.5667215815485996, 'default_f1': 0.0, 'default_recall': 0.0, 'default_specificity': 1.0, 'default_g_mean': 0.0}\n",
            "\n",
            "=============== EPOCH 3 / 6 ===============\n",
            "\n",
            "___ batch index = 0 / 1836 (0.00%), loss = 0.6988, time = 0.03 secondes ___\n"
          ],
          "name": "stdout"
        },
        {
          "output_type": "stream",
          "text": [
            "___ batch index = 250 / 1836 (13.62%), loss = 0.7295, time = 12.82 secondes ___\n"
          ],
          "name": "stdout"
        },
        {
          "output_type": "stream",
          "text": [
            "___ batch index = 500 / 1836 (27.23%), loss = 0.7180, time = 12.35 secondes ___\n"
          ],
          "name": "stdout"
        },
        {
          "output_type": "stream",
          "text": [
            "___ batch index = 750 / 1836 (40.85%), loss = 0.7047, time = 11.42 secondes ___\n"
          ],
          "name": "stdout"
        },
        {
          "output_type": "stream",
          "text": [
            "___ batch index = 1000 / 1836 (54.47%), loss = 0.7045, time = 13.13 secondes ___\n"
          ],
          "name": "stdout"
        },
        {
          "output_type": "stream",
          "text": [
            "___ batch index = 1250 / 1836 (68.08%), loss = 0.7187, time = 11.83 secondes ___\n"
          ],
          "name": "stdout"
        },
        {
          "output_type": "stream",
          "text": [
            "___ batch index = 1500 / 1836 (81.70%), loss = 0.7140, time = 11.99 secondes ___\n"
          ],
          "name": "stdout"
        },
        {
          "output_type": "stream",
          "text": [
            "___ batch index = 1750 / 1836 (95.32%), loss = 0.7024, time = 13.14 secondes ___\n"
          ],
          "name": "stdout"
        },
        {
          "output_type": "stream",
          "text": [
            "\n",
            "*** avg_loss : 0.72, time : ~1.0 min (91.73 sec) ***\n",
            "\n"
          ],
          "name": "stdout"
        },
        {
          "output_type": "stream",
          "text": [
            "==> evaluation : avg_loss = 0.70, time : 29.55 sec\n",
            "\n"
          ],
          "name": "stdout"
        },
        {
          "output_type": "stream",
          "text": [
            "threshold (g-mean):  0.0508062259197363\n"
          ],
          "name": "stdout"
        },
        {
          "output_type": "stream",
          "text": [
            "threshold (f1):  0.04240622591973606\n",
            "=====>\t{'Positive Rate': 0.4332784184514003, 'max g_mean metrics': {'threshold': 0.0508062259197363, 'accuracy': 0.4728171334431631, 'f1': 0.44636678200692037, 'recall': 0.49049429657794674, 'specificity': 0.45930232558139533, 'g_mean': 0.4746421505752113}, 'max f1 metrics': {'threshold': 0.04240622591973606, 'accuracy': 0.4645799011532125, 'f1': 0.46280991735537186, 'recall': 0.532319391634981, 'specificity': 0.4127906976744186, 'g_mean': 0.468760592476187}, 'default_accuracy': 0.5667215815485996, 'default_f1': 0.0, 'default_recall': 0.0, 'default_specificity': 1.0, 'default_g_mean': 0.0}\n",
            "\n",
            "=============== EPOCH 4 / 6 ===============\n",
            "\n",
            "___ batch index = 0 / 1836 (0.00%), loss = 0.6869, time = 0.03 secondes ___\n"
          ],
          "name": "stdout"
        },
        {
          "output_type": "stream",
          "text": [
            "___ batch index = 250 / 1836 (13.62%), loss = 0.7180, time = 12.81 secondes ___\n"
          ],
          "name": "stdout"
        },
        {
          "output_type": "stream",
          "text": [
            "___ batch index = 500 / 1836 (27.23%), loss = 0.7256, time = 12.35 secondes ___\n"
          ],
          "name": "stdout"
        },
        {
          "output_type": "stream",
          "text": [
            "___ batch index = 750 / 1836 (40.85%), loss = 0.7074, time = 11.41 secondes ___\n"
          ],
          "name": "stdout"
        },
        {
          "output_type": "stream",
          "text": [
            "___ batch index = 1000 / 1836 (54.47%), loss = 0.6976, time = 13.13 secondes ___\n"
          ],
          "name": "stdout"
        },
        {
          "output_type": "stream",
          "text": [
            "___ batch index = 1250 / 1836 (68.08%), loss = 0.7086, time = 11.83 secondes ___\n"
          ],
          "name": "stdout"
        },
        {
          "output_type": "stream",
          "text": [
            "___ batch index = 1500 / 1836 (81.70%), loss = 0.7112, time = 11.99 secondes ___\n"
          ],
          "name": "stdout"
        },
        {
          "output_type": "stream",
          "text": [
            "___ batch index = 1750 / 1836 (95.32%), loss = 0.7083, time = 13.05 secondes ___\n"
          ],
          "name": "stdout"
        },
        {
          "output_type": "stream",
          "text": [
            "\n",
            "*** avg_loss : 0.72, time : ~1.0 min (91.59 sec) ***\n",
            "\n"
          ],
          "name": "stdout"
        },
        {
          "output_type": "stream",
          "text": [
            "==> evaluation : avg_loss = 0.70, time : 29.39 sec\n",
            "\n"
          ],
          "name": "stdout"
        },
        {
          "output_type": "stream",
          "text": [
            "threshold (g-mean):  0.04384106044770514\n"
          ],
          "name": "stdout"
        },
        {
          "output_type": "stream",
          "text": [
            "threshold (f1):  0.03614106044770492\n",
            "=====>\t{'Positive Rate': 0.4332784184514003, 'max g_mean metrics': {'threshold': 0.04384106044770514, 'accuracy': 0.4728171334431631, 'f1': 0.44636678200692037, 'recall': 0.49049429657794674, 'specificity': 0.45930232558139533, 'g_mean': 0.4746421505752113}, 'max f1 metrics': {'threshold': 0.03614106044770492, 'accuracy': 0.4612850082372323, 'f1': 0.45950413223140496, 'recall': 0.5285171102661597, 'specificity': 0.40988372093023256, 'g_mean': 0.4654358814393101}, 'default_accuracy': 0.5667215815485996, 'default_f1': 0.0, 'default_recall': 0.0, 'default_specificity': 1.0, 'default_g_mean': 0.0}\n",
            "\n",
            "=============== EPOCH 5 / 6 ===============\n",
            "\n",
            "___ batch index = 0 / 1836 (0.00%), loss = 0.6609, time = 0.03 secondes ___\n"
          ],
          "name": "stdout"
        },
        {
          "output_type": "stream",
          "text": [
            "___ batch index = 250 / 1836 (13.62%), loss = 0.7134, time = 12.78 secondes ___\n"
          ],
          "name": "stdout"
        },
        {
          "output_type": "stream",
          "text": [
            "___ batch index = 500 / 1836 (27.23%), loss = 0.7281, time = 12.30 secondes ___\n"
          ],
          "name": "stdout"
        },
        {
          "output_type": "stream",
          "text": [
            "___ batch index = 750 / 1836 (40.85%), loss = 0.7053, time = 11.37 secondes ___\n"
          ],
          "name": "stdout"
        },
        {
          "output_type": "stream",
          "text": [
            "___ batch index = 1000 / 1836 (54.47%), loss = 0.6913, time = 13.05 secondes ___\n"
          ],
          "name": "stdout"
        },
        {
          "output_type": "stream",
          "text": [
            "___ batch index = 1250 / 1836 (68.08%), loss = 0.7089, time = 11.77 secondes ___\n"
          ],
          "name": "stdout"
        },
        {
          "output_type": "stream",
          "text": [
            "___ batch index = 1500 / 1836 (81.70%), loss = 0.7130, time = 11.93 secondes ___\n"
          ],
          "name": "stdout"
        },
        {
          "output_type": "stream",
          "text": [
            "___ batch index = 1750 / 1836 (95.32%), loss = 0.6955, time = 13.06 secondes ___\n"
          ],
          "name": "stdout"
        },
        {
          "output_type": "stream",
          "text": [
            "\n",
            "*** avg_loss : 0.72, time : ~1.0 min (91.29 sec) ***\n",
            "\n"
          ],
          "name": "stdout"
        },
        {
          "output_type": "stream",
          "text": [
            "==> evaluation : avg_loss = 0.70, time : 29.40 sec\n",
            "\n"
          ],
          "name": "stdout"
        },
        {
          "output_type": "stream",
          "text": [
            "threshold (g-mean):  0.03660119714738114\n"
          ],
          "name": "stdout"
        },
        {
          "output_type": "stream",
          "text": [
            "threshold (f1):  0.030001197147380993\n",
            "=====>\t{'Positive Rate': 0.4332784184514003, 'max g_mean metrics': {'threshold': 0.03660119714738114, 'accuracy': 0.4728171334431631, 'f1': 0.4482758620689655, 'recall': 0.49429657794676807, 'specificity': 0.4563953488372093, 'g_mean': 0.47496806115890994}, 'max f1 metrics': {'threshold': 0.030001197147380993, 'accuracy': 0.4596375617792422, 'f1': 0.45874587458745875, 'recall': 0.5285171102661597, 'specificity': 0.4069767441860465, 'g_mean': 0.463782462780493}, 'default_accuracy': 0.5667215815485996, 'default_f1': 0.0, 'default_recall': 0.0, 'default_specificity': 1.0, 'default_g_mean': 0.0}\n",
            "\n",
            "=============== EPOCH 6 / 6 ===============\n",
            "\n",
            "___ batch index = 0 / 1836 (0.00%), loss = 0.6803, time = 0.03 secondes ___\n"
          ],
          "name": "stdout"
        },
        {
          "output_type": "stream",
          "text": [
            "___ batch index = 250 / 1836 (13.62%), loss = 0.7155, time = 12.76 secondes ___\n"
          ],
          "name": "stdout"
        },
        {
          "output_type": "stream",
          "text": [
            "___ batch index = 500 / 1836 (27.23%), loss = 0.7225, time = 12.28 secondes ___\n"
          ],
          "name": "stdout"
        },
        {
          "output_type": "stream",
          "text": [
            "___ batch index = 750 / 1836 (40.85%), loss = 0.7076, time = 11.36 secondes ___\n"
          ],
          "name": "stdout"
        },
        {
          "output_type": "stream",
          "text": [
            "___ batch index = 1000 / 1836 (54.47%), loss = 0.6917, time = 13.04 secondes ___\n"
          ],
          "name": "stdout"
        },
        {
          "output_type": "stream",
          "text": [
            "___ batch index = 1250 / 1836 (68.08%), loss = 0.7061, time = 11.80 secondes ___\n"
          ],
          "name": "stdout"
        },
        {
          "output_type": "stream",
          "text": [
            "___ batch index = 1500 / 1836 (81.70%), loss = 0.7115, time = 11.93 secondes ___\n"
          ],
          "name": "stdout"
        },
        {
          "output_type": "stream",
          "text": [
            "___ batch index = 1750 / 1836 (95.32%), loss = 0.6962, time = 13.06 secondes ___\n"
          ],
          "name": "stdout"
        },
        {
          "output_type": "stream",
          "text": [
            "\n",
            "*** avg_loss : 0.71, time : ~1.0 min (91.25 sec) ***\n",
            "\n"
          ],
          "name": "stdout"
        },
        {
          "output_type": "stream",
          "text": [
            "==> evaluation : avg_loss = 0.70, time : 29.40 sec\n",
            "\n"
          ],
          "name": "stdout"
        },
        {
          "output_type": "stream",
          "text": [
            "threshold (g-mean):  0.03000269947053132\n"
          ],
          "name": "stdout"
        },
        {
          "output_type": "stream",
          "text": [
            "threshold (f1):  0.02320269947053136\n",
            "=====>\t{'Positive Rate': 0.4332784184514003, 'max g_mean metrics': {'threshold': 0.03000269947053132, 'accuracy': 0.4744645799011532, 'f1': 0.4509466437177281, 'recall': 0.49809885931558934, 'specificity': 0.4563953488372093, 'g_mean': 0.4767913617639842}, 'max f1 metrics': {'threshold': 0.02320269947053136, 'accuracy': 0.45799011532125206, 'f1': 0.457990115321252, 'recall': 0.5285171102661597, 'specificity': 0.40406976744186046, 'g_mean': 0.4621231284347184}, 'default_accuracy': 0.5667215815485996, 'default_f1': 0.0, 'default_recall': 0.0, 'default_specificity': 1.0, 'default_g_mean': 0.0}\n",
            "@@@@@@@@@@@@@@@@@@@@@@@@@@@@@@@@@@@@@@@@@@@@@ END @@@@@@@@@@@@@@@@@@@@@@@@@@@@@@@@@@@@@@@@@@@@@@@\n",
            "--------------------------------------lr: 1e-06-----------------------------\n",
            "+++++++++++++++++++++++++++++++++++++++++++++++++++ n layers: 1 ++++++++++++++++++++++++++++++++++++++++++++++++\n",
            "/////////////////////////////////////////// GA: 16 ///////////////////////////////////////////////////////\n",
            "\n",
            "=============== EPOCH 1 / 6 ===============\n",
            "\n",
            "___ batch index = 0 / 1836 (0.00%), loss = 0.5295, time = 0.03 secondes ___\n"
          ],
          "name": "stdout"
        },
        {
          "output_type": "stream",
          "text": [
            "___ batch index = 250 / 1836 (13.62%), loss = 0.8711, time = 12.76 secondes ___\n"
          ],
          "name": "stdout"
        },
        {
          "output_type": "stream",
          "text": [
            "___ batch index = 500 / 1836 (27.23%), loss = 0.8835, time = 12.28 secondes ___\n"
          ],
          "name": "stdout"
        },
        {
          "output_type": "stream",
          "text": [
            "___ batch index = 750 / 1836 (40.85%), loss = 0.8658, time = 11.38 secondes ___\n"
          ],
          "name": "stdout"
        },
        {
          "output_type": "stream",
          "text": [
            "___ batch index = 1000 / 1836 (54.47%), loss = 0.8870, time = 13.07 secondes ___\n"
          ],
          "name": "stdout"
        },
        {
          "output_type": "stream",
          "text": [
            "___ batch index = 1250 / 1836 (68.08%), loss = 0.8923, time = 11.80 secondes ___\n"
          ],
          "name": "stdout"
        },
        {
          "output_type": "stream",
          "text": [
            "___ batch index = 1500 / 1836 (81.70%), loss = 0.8460, time = 11.93 secondes ___\n"
          ],
          "name": "stdout"
        },
        {
          "output_type": "stream",
          "text": [
            "___ batch index = 1750 / 1836 (95.32%), loss = 0.8768, time = 13.06 secondes ___\n"
          ],
          "name": "stdout"
        },
        {
          "output_type": "stream",
          "text": [
            "\n",
            "*** avg_loss : 0.85, time : ~1.0 min (91.31 sec) ***\n",
            "\n"
          ],
          "name": "stdout"
        },
        {
          "output_type": "stream",
          "text": [
            "==> evaluation : avg_loss = 0.72, time : 29.39 sec\n",
            "\n"
          ],
          "name": "stdout"
        },
        {
          "output_type": "stream",
          "text": [
            "threshold (g-mean):  0.32858134751321\n"
          ],
          "name": "stdout"
        },
        {
          "output_type": "stream",
          "text": [
            "threshold (f1):  0.31818134751321114\n",
            "=====>\t{'Positive Rate': 0.4332784184514003, 'max g_mean metrics': {'threshold': 0.32858134751321, 'accuracy': 0.5370675453047776, 'f1': 0.4955116696588869, 'recall': 0.5247148288973384, 'specificity': 0.5465116279069767, 'g_mean': 0.5355023392363615}, 'max f1 metrics': {'threshold': 0.31818134751321114, 'accuracy': 0.514003294892916, 'f1': 0.5042016806722689, 'recall': 0.5703422053231939, 'specificity': 0.47093023255813954, 'g_mean': 0.5182580316701072}, 'default_accuracy': 0.5667215815485996, 'default_f1': 0.0, 'default_recall': 0.0, 'default_specificity': 1.0, 'default_g_mean': 0.0}\n",
            "\n",
            "=============== EPOCH 2 / 6 ===============\n",
            "\n",
            "___ batch index = 0 / 1836 (0.00%), loss = 0.5598, time = 0.03 secondes ___\n"
          ],
          "name": "stdout"
        },
        {
          "output_type": "stream",
          "text": [
            "___ batch index = 250 / 1836 (13.62%), loss = 0.8383, time = 12.74 secondes ___\n"
          ],
          "name": "stdout"
        },
        {
          "output_type": "stream",
          "text": [
            "___ batch index = 500 / 1836 (27.23%), loss = 0.8361, time = 12.29 secondes ___\n"
          ],
          "name": "stdout"
        },
        {
          "output_type": "stream",
          "text": [
            "___ batch index = 750 / 1836 (40.85%), loss = 0.8370, time = 11.38 secondes ___\n"
          ],
          "name": "stdout"
        },
        {
          "output_type": "stream",
          "text": [
            "___ batch index = 1000 / 1836 (54.47%), loss = 0.8530, time = 13.14 secondes ___\n"
          ],
          "name": "stdout"
        },
        {
          "output_type": "stream",
          "text": [
            "___ batch index = 1250 / 1836 (68.08%), loss = 0.8508, time = 11.86 secondes ___\n"
          ],
          "name": "stdout"
        },
        {
          "output_type": "stream",
          "text": [
            "___ batch index = 1500 / 1836 (81.70%), loss = 0.8127, time = 12.00 secondes ___\n"
          ],
          "name": "stdout"
        },
        {
          "output_type": "stream",
          "text": [
            "___ batch index = 1750 / 1836 (95.32%), loss = 0.8417, time = 13.12 secondes ___\n"
          ],
          "name": "stdout"
        },
        {
          "output_type": "stream",
          "text": [
            "\n",
            "*** avg_loss : 0.82, time : ~1.0 min (91.57 sec) ***\n",
            "\n"
          ],
          "name": "stdout"
        },
        {
          "output_type": "stream",
          "text": [
            "==> evaluation : avg_loss = 0.72, time : 29.51 sec\n",
            "\n"
          ],
          "name": "stdout"
        },
        {
          "output_type": "stream",
          "text": [
            "threshold (g-mean):  0.2817608808040706\n"
          ],
          "name": "stdout"
        },
        {
          "output_type": "stream",
          "text": [
            "threshold (f1):  0.25736088080407327\n",
            "=====>\t{'Positive Rate': 0.4332784184514003, 'max g_mean metrics': {'threshold': 0.2817608808040706, 'accuracy': 0.5453047775947282, 'f1': 0.43902439024390244, 'recall': 0.41064638783269963, 'specificity': 0.6482558139534884, 'g_mean': 0.5159495211661181}, 'max f1 metrics': {'threshold': 0.25736088080407327, 'accuracy': 0.5024711696869851, 'f1': 0.5016501650165016, 'recall': 0.5779467680608364, 'specificity': 0.44476744186046513, 'g_mean': 0.5070028654376046}, 'default_accuracy': 0.5667215815485996, 'default_f1': 0.0, 'default_recall': 0.0, 'default_specificity': 1.0, 'default_g_mean': 0.0}\n",
            "\n",
            "=============== EPOCH 3 / 6 ===============\n",
            "\n",
            "___ batch index = 0 / 1836 (0.00%), loss = 0.5894, time = 0.03 secondes ___\n"
          ],
          "name": "stdout"
        },
        {
          "output_type": "stream",
          "text": [
            "___ batch index = 250 / 1836 (13.62%), loss = 0.7986, time = 12.87 secondes ___\n"
          ],
          "name": "stdout"
        },
        {
          "output_type": "stream",
          "text": [
            "___ batch index = 500 / 1836 (27.23%), loss = 0.8040, time = 12.40 secondes ___\n"
          ],
          "name": "stdout"
        },
        {
          "output_type": "stream",
          "text": [
            "___ batch index = 750 / 1836 (40.85%), loss = 0.8044, time = 11.49 secondes ___\n"
          ],
          "name": "stdout"
        },
        {
          "output_type": "stream",
          "text": [
            "___ batch index = 1000 / 1836 (54.47%), loss = 0.8166, time = 13.21 secondes ___\n"
          ],
          "name": "stdout"
        },
        {
          "output_type": "stream",
          "text": [
            "___ batch index = 1250 / 1836 (68.08%), loss = 0.8173, time = 11.92 secondes ___\n"
          ],
          "name": "stdout"
        },
        {
          "output_type": "stream",
          "text": [
            "___ batch index = 1500 / 1836 (81.70%), loss = 0.7760, time = 12.05 secondes ___\n"
          ],
          "name": "stdout"
        },
        {
          "output_type": "stream",
          "text": [
            "___ batch index = 1750 / 1836 (95.32%), loss = 0.8119, time = 13.18 secondes ___\n"
          ],
          "name": "stdout"
        },
        {
          "output_type": "stream",
          "text": [
            "\n",
            "*** avg_loss : 0.79, time : ~1.0 min (92.20 sec) ***\n",
            "\n"
          ],
          "name": "stdout"
        },
        {
          "output_type": "stream",
          "text": [
            "==> evaluation : avg_loss = 0.71, time : 29.64 sec\n",
            "\n"
          ],
          "name": "stdout"
        },
        {
          "output_type": "stream",
          "text": [
            "threshold (g-mean):  0.19946547036172046\n"
          ],
          "name": "stdout"
        },
        {
          "output_type": "stream",
          "text": [
            "threshold (f1):  0.19786547036172064\n",
            "=====>\t{'Positive Rate': 0.4332784184514003, 'max g_mean metrics': {'threshold': 0.19946547036172046, 'accuracy': 0.500823723228995, 'f1': 0.49246231155778897, 'recall': 0.55893536121673, 'specificity': 0.4563953488372093, 'g_mean': 0.5050697963251822}, 'max f1 metrics': {'threshold': 0.19786547036172064, 'accuracy': 0.4975288303130148, 'f1': 0.494195688225539, 'recall': 0.5665399239543726, 'specificity': 0.44476744186046513, 'g_mean': 0.5019746135901783}, 'default_accuracy': 0.5667215815485996, 'default_f1': 0.0, 'default_recall': 0.0, 'default_specificity': 1.0, 'default_g_mean': 0.0}\n",
            "\n",
            "=============== EPOCH 4 / 6 ===============\n",
            "\n",
            "___ batch index = 0 / 1836 (0.00%), loss = 0.6099, time = 0.03 secondes ___\n"
          ],
          "name": "stdout"
        },
        {
          "output_type": "stream",
          "text": [
            "___ batch index = 250 / 1836 (13.62%), loss = 0.7763, time = 12.86 secondes ___\n"
          ],
          "name": "stdout"
        },
        {
          "output_type": "stream",
          "text": [
            "___ batch index = 500 / 1836 (27.23%), loss = 0.7807, time = 12.41 secondes ___\n"
          ],
          "name": "stdout"
        },
        {
          "output_type": "stream",
          "text": [
            "___ batch index = 750 / 1836 (40.85%), loss = 0.7811, time = 11.50 secondes ___\n"
          ],
          "name": "stdout"
        },
        {
          "output_type": "stream",
          "text": [
            "___ batch index = 1000 / 1836 (54.47%), loss = 0.7837, time = 13.21 secondes ___\n"
          ],
          "name": "stdout"
        },
        {
          "output_type": "stream",
          "text": [
            "___ batch index = 1250 / 1836 (68.08%), loss = 0.7759, time = 11.92 secondes ___\n"
          ],
          "name": "stdout"
        },
        {
          "output_type": "stream",
          "text": [
            "___ batch index = 1500 / 1836 (81.70%), loss = 0.7482, time = 12.05 secondes ___\n"
          ],
          "name": "stdout"
        },
        {
          "output_type": "stream",
          "text": [
            "___ batch index = 1750 / 1836 (95.32%), loss = 0.7799, time = 13.18 secondes ___\n"
          ],
          "name": "stdout"
        },
        {
          "output_type": "stream",
          "text": [
            "\n",
            "*** avg_loss : 0.76, time : ~1.0 min (92.17 sec) ***\n",
            "\n"
          ],
          "name": "stdout"
        },
        {
          "output_type": "stream",
          "text": [
            "==> evaluation : avg_loss = 0.70, time : 29.56 sec\n",
            "\n"
          ],
          "name": "stdout"
        },
        {
          "output_type": "stream",
          "text": [
            "threshold (g-mean):  0.13681333208085467\n"
          ],
          "name": "stdout"
        },
        {
          "output_type": "stream",
          "text": [
            "threshold (f1):  0.13681333208085467\n",
            "=====>\t{'Positive Rate': 0.4332784184514003, 'max g_mean metrics': {'threshold': 0.13681333208085467, 'accuracy': 0.4975288303130148, 'f1': 0.49752883031301487, 'recall': 0.5741444866920152, 'specificity': 0.438953488372093, 'g_mean': 0.5020186503139747}, 'max f1 metrics': {'threshold': 0.13681333208085467, 'accuracy': 0.4975288303130148, 'f1': 0.49752883031301487, 'recall': 0.5741444866920152, 'specificity': 0.438953488372093, 'g_mean': 0.5020186503139747}, 'default_accuracy': 0.5667215815485996, 'default_f1': 0.0, 'default_recall': 0.0, 'default_specificity': 1.0, 'default_g_mean': 0.0}\n",
            "\n",
            "=============== EPOCH 5 / 6 ===============\n",
            "\n",
            "___ batch index = 0 / 1836 (0.00%), loss = 0.6152, time = 0.03 secondes ___\n"
          ],
          "name": "stdout"
        },
        {
          "output_type": "stream",
          "text": [
            "___ batch index = 250 / 1836 (13.62%), loss = 0.7468, time = 12.80 secondes ___\n"
          ],
          "name": "stdout"
        },
        {
          "output_type": "stream",
          "text": [
            "___ batch index = 500 / 1836 (27.23%), loss = 0.7523, time = 12.30 secondes ___\n"
          ],
          "name": "stdout"
        },
        {
          "output_type": "stream",
          "text": [
            "___ batch index = 750 / 1836 (40.85%), loss = 0.7536, time = 11.40 secondes ___\n"
          ],
          "name": "stdout"
        },
        {
          "output_type": "stream",
          "text": [
            "___ batch index = 1000 / 1836 (54.47%), loss = 0.7510, time = 13.09 secondes ___\n"
          ],
          "name": "stdout"
        },
        {
          "output_type": "stream",
          "text": [
            "___ batch index = 1250 / 1836 (68.08%), loss = 0.7526, time = 11.79 secondes ___\n"
          ],
          "name": "stdout"
        },
        {
          "output_type": "stream",
          "text": [
            "___ batch index = 1500 / 1836 (81.70%), loss = 0.7252, time = 11.93 secondes ___\n"
          ],
          "name": "stdout"
        },
        {
          "output_type": "stream",
          "text": [
            "___ batch index = 1750 / 1836 (95.32%), loss = 0.7424, time = 13.06 secondes ___\n"
          ],
          "name": "stdout"
        },
        {
          "output_type": "stream",
          "text": [
            "\n",
            "*** avg_loss : 0.74, time : ~1.0 min (91.40 sec) ***\n",
            "\n"
          ],
          "name": "stdout"
        },
        {
          "output_type": "stream",
          "text": [
            "==> evaluation : avg_loss = 0.70, time : 29.38 sec\n",
            "\n"
          ],
          "name": "stdout"
        },
        {
          "output_type": "stream",
          "text": [
            "threshold (g-mean):  0.07727451238633146\n"
          ],
          "name": "stdout"
        },
        {
          "output_type": "stream",
          "text": [
            "threshold (f1):  0.07407451238633136\n",
            "=====>\t{'Positive Rate': 0.4332784184514003, 'max g_mean metrics': {'threshold': 0.07727451238633146, 'accuracy': 0.4958813838550247, 'f1': 0.4831081081081081, 'recall': 0.5437262357414449, 'specificity': 0.45930232558139533, 'g_mean': 0.49973465414724205}, 'max f1 metrics': {'threshold': 0.07407451238633136, 'accuracy': 0.48929159802306427, 'f1': 0.48675496688741715, 'recall': 0.55893536121673, 'specificity': 0.436046511627907, 'g_mean': 0.49368189604647167}, 'default_accuracy': 0.5667215815485996, 'default_f1': 0.0, 'default_recall': 0.0, 'default_specificity': 1.0, 'default_g_mean': 0.0}\n",
            "\n",
            "=============== EPOCH 6 / 6 ===============\n",
            "\n",
            "___ batch index = 0 / 1836 (0.00%), loss = 0.6526, time = 0.03 secondes ___\n"
          ],
          "name": "stdout"
        },
        {
          "output_type": "stream",
          "text": [
            "___ batch index = 250 / 1836 (13.62%), loss = 0.7086, time = 12.76 secondes ___\n"
          ],
          "name": "stdout"
        },
        {
          "output_type": "stream",
          "text": [
            "___ batch index = 500 / 1836 (27.23%), loss = 0.7257, time = 12.32 secondes ___\n"
          ],
          "name": "stdout"
        },
        {
          "output_type": "stream",
          "text": [
            "___ batch index = 750 / 1836 (40.85%), loss = 0.7218, time = 11.39 secondes ___\n"
          ],
          "name": "stdout"
        },
        {
          "output_type": "stream",
          "text": [
            "___ batch index = 1000 / 1836 (54.47%), loss = 0.7287, time = 13.10 secondes ___\n"
          ],
          "name": "stdout"
        },
        {
          "output_type": "stream",
          "text": [
            "___ batch index = 1250 / 1836 (68.08%), loss = 0.7181, time = 11.81 secondes ___\n"
          ],
          "name": "stdout"
        },
        {
          "output_type": "stream",
          "text": [
            "___ batch index = 1500 / 1836 (81.70%), loss = 0.7000, time = 11.95 secondes ___\n"
          ],
          "name": "stdout"
        },
        {
          "output_type": "stream",
          "text": [
            "___ batch index = 1750 / 1836 (95.32%), loss = 0.7121, time = 13.06 secondes ___\n"
          ],
          "name": "stdout"
        },
        {
          "output_type": "stream",
          "text": [
            "\n",
            "*** avg_loss : 0.71, time : ~1.0 min (91.42 sec) ***\n",
            "\n"
          ],
          "name": "stdout"
        },
        {
          "output_type": "stream",
          "text": [
            "==> evaluation : avg_loss = 0.70, time : 29.36 sec\n",
            "\n"
          ],
          "name": "stdout"
        },
        {
          "output_type": "stream",
          "text": [
            "threshold (g-mean):  0.013959127473835379\n"
          ],
          "name": "stdout"
        },
        {
          "output_type": "stream",
          "text": [
            "threshold (f1):  0.013159127473835384\n",
            "=====>\t{'Positive Rate': 0.4332784184514003, 'max g_mean metrics': {'threshold': 0.013959127473835379, 'accuracy': 0.48929159802306427, 'f1': 0.4850498338870432, 'recall': 0.5551330798479087, 'specificity': 0.438953488372093, 'g_mean': 0.4936371156122513}, 'max f1 metrics': {'threshold': 0.013159127473835384, 'accuracy': 0.48599670510708404, 'f1': 0.48514851485148514, 'recall': 0.55893536121673, 'specificity': 0.43023255813953487, 'g_mean': 0.4903796389440723}, 'default_accuracy': 0.5667215815485996, 'default_f1': 0.0, 'default_recall': 0.0, 'default_specificity': 1.0, 'default_g_mean': 0.0}\n",
            "@@@@@@@@@@@@@@@@@@@@@@@@@@@@@@@@@@@@@@@@@@@@@ END @@@@@@@@@@@@@@@@@@@@@@@@@@@@@@@@@@@@@@@@@@@@@@@\n"
          ],
          "name": "stdout"
        },
        {
          "output_type": "stream",
          "text": [
            "xxxxxxxxxxxxxxxxxxxxxxxxxxxxxxxxxxxx END Para label:  Apoyo Terapeuta Ocupacional  (9) xxxxxxxxxxxxxxxxxxxxxxxxx\n",
            "#################################################### Para label:  Control Neurólogo  (10) ##############\n",
            "--------------------------------------lr: 1e-07-----------------------------\n",
            "+++++++++++++++++++++++++++++++++++++++++++++++++++ n layers: 1 ++++++++++++++++++++++++++++++++++++++++++++++++\n",
            "/////////////////////////////////////////// GA: 16 ///////////////////////////////////////////////////////\n"
          ],
          "name": "stdout"
        },
        {
          "output_type": "stream",
          "text": [
            "\n",
            "=============== EPOCH 1 / 6 ===============\n",
            "\n",
            "___ batch index = 0 / 1836 (0.00%), loss = 0.7888, time = 0.03 secondes ___\n"
          ],
          "name": "stdout"
        },
        {
          "output_type": "stream",
          "text": [
            "___ batch index = 250 / 1836 (13.62%), loss = 0.7315, time = 12.76 secondes ___\n"
          ],
          "name": "stdout"
        },
        {
          "output_type": "stream",
          "text": [
            "___ batch index = 500 / 1836 (27.23%), loss = 0.7315, time = 12.32 secondes ___\n"
          ],
          "name": "stdout"
        },
        {
          "output_type": "stream",
          "text": [
            "___ batch index = 750 / 1836 (40.85%), loss = 0.7286, time = 11.40 secondes ___\n"
          ],
          "name": "stdout"
        },
        {
          "output_type": "stream",
          "text": [
            "___ batch index = 1000 / 1836 (54.47%), loss = 0.7547, time = 13.09 secondes ___\n"
          ],
          "name": "stdout"
        },
        {
          "output_type": "stream",
          "text": [
            "___ batch index = 1250 / 1836 (68.08%), loss = 0.7268, time = 11.81 secondes ___\n"
          ],
          "name": "stdout"
        },
        {
          "output_type": "stream",
          "text": [
            "___ batch index = 1500 / 1836 (81.70%), loss = 0.7163, time = 11.94 secondes ___\n"
          ],
          "name": "stdout"
        },
        {
          "output_type": "stream",
          "text": [
            "___ batch index = 1750 / 1836 (95.32%), loss = 0.7431, time = 13.07 secondes ___\n"
          ],
          "name": "stdout"
        },
        {
          "output_type": "stream",
          "text": [
            "\n",
            "*** avg_loss : 0.73, time : ~1.0 min (91.44 sec) ***\n",
            "\n"
          ],
          "name": "stdout"
        },
        {
          "output_type": "stream",
          "text": [
            "==> evaluation : avg_loss = 0.70, time : 29.57 sec\n",
            "\n"
          ],
          "name": "stdout"
        },
        {
          "output_type": "stream",
          "text": [
            "threshold (g-mean):  0.05562432086468641\n"
          ],
          "name": "stdout"
        },
        {
          "output_type": "stream",
          "text": [
            "threshold (f1):  0.05562432086468641\n",
            "=====>\t{'Positive Rate': 0.4332784184514003, 'max g_mean metrics': {'threshold': 0.05562432086468641, 'accuracy': 0.5189456342668863, 'f1': 0.5149501661129569, 'recall': 0.5893536121673004, 'specificity': 0.46511627906976744, 'g_mean': 0.5235627556917906}, 'max f1 metrics': {'threshold': 0.05562432086468641, 'accuracy': 0.5189456342668863, 'f1': 0.5149501661129569, 'recall': 0.5893536121673004, 'specificity': 0.46511627906976744, 'g_mean': 0.5235627556917906}, 'default_accuracy': 0.5667215815485996, 'default_f1': 0.0, 'default_recall': 0.0, 'default_specificity': 1.0, 'default_g_mean': 0.0}\n",
            "\n",
            "=============== EPOCH 2 / 6 ===============\n",
            "\n",
            "___ batch index = 0 / 1836 (0.00%), loss = 0.7820, time = 0.03 secondes ___\n"
          ],
          "name": "stdout"
        },
        {
          "output_type": "stream",
          "text": [
            "___ batch index = 250 / 1836 (13.62%), loss = 0.7278, time = 12.90 secondes ___\n"
          ],
          "name": "stdout"
        },
        {
          "output_type": "stream",
          "text": [
            "___ batch index = 500 / 1836 (27.23%), loss = 0.7276, time = 12.43 secondes ___\n"
          ],
          "name": "stdout"
        },
        {
          "output_type": "stream",
          "text": [
            "___ batch index = 750 / 1836 (40.85%), loss = 0.7345, time = 11.50 secondes ___\n"
          ],
          "name": "stdout"
        },
        {
          "output_type": "stream",
          "text": [
            "___ batch index = 1000 / 1836 (54.47%), loss = 0.7540, time = 13.20 secondes ___\n"
          ],
          "name": "stdout"
        },
        {
          "output_type": "stream",
          "text": [
            "___ batch index = 1250 / 1836 (68.08%), loss = 0.7249, time = 11.91 secondes ___\n"
          ],
          "name": "stdout"
        },
        {
          "output_type": "stream",
          "text": [
            "___ batch index = 1500 / 1836 (81.70%), loss = 0.7075, time = 12.05 secondes ___\n"
          ],
          "name": "stdout"
        },
        {
          "output_type": "stream",
          "text": [
            "___ batch index = 1750 / 1836 (95.32%), loss = 0.7356, time = 13.16 secondes ___\n"
          ],
          "name": "stdout"
        },
        {
          "output_type": "stream",
          "text": [
            "\n",
            "*** avg_loss : 0.72, time : ~1.0 min (92.21 sec) ***\n",
            "\n"
          ],
          "name": "stdout"
        },
        {
          "output_type": "stream",
          "text": [
            "==> evaluation : avg_loss = 0.70, time : 29.32 sec\n",
            "\n"
          ],
          "name": "stdout"
        },
        {
          "output_type": "stream",
          "text": [
            "threshold (g-mean):  0.04653113615513636\n"
          ],
          "name": "stdout"
        },
        {
          "output_type": "stream",
          "text": [
            "threshold (f1):  0.04653113615513636\n",
            "=====>\t{'Positive Rate': 0.4332784184514003, 'max g_mean metrics': {'threshold': 0.04653113615513636, 'accuracy': 0.5189456342668863, 'f1': 0.5181518151815181, 'recall': 0.596958174904943, 'specificity': 0.45930232558139533, 'g_mean': 0.5236260860658736}, 'max f1 metrics': {'threshold': 0.04653113615513636, 'accuracy': 0.5189456342668863, 'f1': 0.5181518151815181, 'recall': 0.596958174904943, 'specificity': 0.45930232558139533, 'g_mean': 0.5236260860658736}, 'default_accuracy': 0.5667215815485996, 'default_f1': 0.0, 'default_recall': 0.0, 'default_specificity': 1.0, 'default_g_mean': 0.0}\n",
            "\n",
            "=============== EPOCH 3 / 6 ===============\n",
            "\n",
            "___ batch index = 0 / 1836 (0.00%), loss = 0.7853, time = 0.03 secondes ___\n"
          ],
          "name": "stdout"
        },
        {
          "output_type": "stream",
          "text": [
            "___ batch index = 250 / 1836 (13.62%), loss = 0.7300, time = 12.83 secondes ___\n"
          ],
          "name": "stdout"
        },
        {
          "output_type": "stream",
          "text": [
            "___ batch index = 500 / 1836 (27.23%), loss = 0.7232, time = 12.38 secondes ___\n"
          ],
          "name": "stdout"
        },
        {
          "output_type": "stream",
          "text": [
            "___ batch index = 750 / 1836 (40.85%), loss = 0.7328, time = 11.46 secondes ___\n"
          ],
          "name": "stdout"
        },
        {
          "output_type": "stream",
          "text": [
            "___ batch index = 1000 / 1836 (54.47%), loss = 0.7449, time = 13.16 secondes ___\n"
          ],
          "name": "stdout"
        },
        {
          "output_type": "stream",
          "text": [
            "___ batch index = 1250 / 1836 (68.08%), loss = 0.7244, time = 11.86 secondes ___\n"
          ],
          "name": "stdout"
        },
        {
          "output_type": "stream",
          "text": [
            "___ batch index = 1500 / 1836 (81.70%), loss = 0.7124, time = 12.00 secondes ___\n"
          ],
          "name": "stdout"
        },
        {
          "output_type": "stream",
          "text": [
            "___ batch index = 1750 / 1836 (95.32%), loss = 0.7322, time = 13.12 secondes ___\n"
          ],
          "name": "stdout"
        },
        {
          "output_type": "stream",
          "text": [
            "\n",
            "*** avg_loss : 0.72, time : ~1.0 min (91.84 sec) ***\n",
            "\n"
          ],
          "name": "stdout"
        },
        {
          "output_type": "stream",
          "text": [
            "==> evaluation : avg_loss = 0.70, time : 29.45 sec\n",
            "\n"
          ],
          "name": "stdout"
        },
        {
          "output_type": "stream",
          "text": [
            "threshold (g-mean):  0.04029728956223222\n"
          ],
          "name": "stdout"
        },
        {
          "output_type": "stream",
          "text": [
            "threshold (f1):  0.04029728956223222\n",
            "=====>\t{'Positive Rate': 0.4332784184514003, 'max g_mean metrics': {'threshold': 0.04029728956223222, 'accuracy': 0.515650741350906, 'f1': 0.5148514851485148, 'recall': 0.5931558935361216, 'specificity': 0.4563953488372093, 'g_mean': 0.5203014423824566}, 'max f1 metrics': {'threshold': 0.04029728956223222, 'accuracy': 0.515650741350906, 'f1': 0.5148514851485148, 'recall': 0.5931558935361216, 'specificity': 0.4563953488372093, 'g_mean': 0.5203014423824566}, 'default_accuracy': 0.5667215815485996, 'default_f1': 0.0, 'default_recall': 0.0, 'default_specificity': 1.0, 'default_g_mean': 0.0}\n",
            "\n",
            "=============== EPOCH 4 / 6 ===============\n",
            "\n",
            "___ batch index = 0 / 1836 (0.00%), loss = 0.7744, time = 0.03 secondes ___\n"
          ],
          "name": "stdout"
        },
        {
          "output_type": "stream",
          "text": [
            "___ batch index = 250 / 1836 (13.62%), loss = 0.7166, time = 12.86 secondes ___\n"
          ],
          "name": "stdout"
        },
        {
          "output_type": "stream",
          "text": [
            "___ batch index = 500 / 1836 (27.23%), loss = 0.7214, time = 12.39 secondes ___\n"
          ],
          "name": "stdout"
        },
        {
          "output_type": "stream",
          "text": [
            "___ batch index = 750 / 1836 (40.85%), loss = 0.7204, time = 11.46 secondes ___\n"
          ],
          "name": "stdout"
        },
        {
          "output_type": "stream",
          "text": [
            "___ batch index = 1000 / 1836 (54.47%), loss = 0.7411, time = 13.15 secondes ___\n"
          ],
          "name": "stdout"
        },
        {
          "output_type": "stream",
          "text": [
            "___ batch index = 1250 / 1836 (68.08%), loss = 0.7186, time = 11.87 secondes ___\n"
          ],
          "name": "stdout"
        },
        {
          "output_type": "stream",
          "text": [
            "___ batch index = 1500 / 1836 (81.70%), loss = 0.7095, time = 12.00 secondes ___\n"
          ],
          "name": "stdout"
        },
        {
          "output_type": "stream",
          "text": [
            "___ batch index = 1750 / 1836 (95.32%), loss = 0.7284, time = 13.10 secondes ___\n"
          ],
          "name": "stdout"
        },
        {
          "output_type": "stream",
          "text": [
            "\n",
            "*** avg_loss : 0.72, time : ~1.0 min (91.85 sec) ***\n",
            "\n"
          ],
          "name": "stdout"
        },
        {
          "output_type": "stream",
          "text": [
            "==> evaluation : avg_loss = 0.70, time : 29.47 sec\n",
            "\n"
          ],
          "name": "stdout"
        },
        {
          "output_type": "stream",
          "text": [
            "threshold (g-mean):  0.03324381983280769\n"
          ],
          "name": "stdout"
        },
        {
          "output_type": "stream",
          "text": [
            "threshold (f1):  0.03284381983280768\n",
            "=====>\t{'Positive Rate': 0.4332784184514003, 'max g_mean metrics': {'threshold': 0.03324381983280769, 'accuracy': 0.5123558484349259, 'f1': 0.5099337748344371, 'recall': 0.5855513307984791, 'specificity': 0.4563953488372093, 'g_mean': 0.5169554176927291}, 'max f1 metrics': {'threshold': 0.03284381983280768, 'accuracy': 0.5107084019769358, 'f1': 0.5107084019769357, 'recall': 0.5893536121673004, 'specificity': 0.45058139534883723, 'g_mean': 0.5153171576070601}, 'default_accuracy': 0.5667215815485996, 'default_f1': 0.0, 'default_recall': 0.0, 'default_specificity': 1.0, 'default_g_mean': 0.0}\n",
            "\n",
            "=============== EPOCH 5 / 6 ===============\n",
            "\n",
            "___ batch index = 0 / 1836 (0.00%), loss = 0.7608, time = 0.03 secondes ___\n"
          ],
          "name": "stdout"
        },
        {
          "output_type": "stream",
          "text": [
            "___ batch index = 250 / 1836 (13.62%), loss = 0.7230, time = 12.83 secondes ___\n"
          ],
          "name": "stdout"
        },
        {
          "output_type": "stream",
          "text": [
            "___ batch index = 500 / 1836 (27.23%), loss = 0.7122, time = 12.37 secondes ___\n"
          ],
          "name": "stdout"
        },
        {
          "output_type": "stream",
          "text": [
            "___ batch index = 750 / 1836 (40.85%), loss = 0.7187, time = 11.46 secondes ___\n"
          ],
          "name": "stdout"
        },
        {
          "output_type": "stream",
          "text": [
            "___ batch index = 1000 / 1836 (54.47%), loss = 0.7371, time = 13.15 secondes ___\n"
          ],
          "name": "stdout"
        },
        {
          "output_type": "stream",
          "text": [
            "___ batch index = 1250 / 1836 (68.08%), loss = 0.7171, time = 11.87 secondes ___\n"
          ],
          "name": "stdout"
        },
        {
          "output_type": "stream",
          "text": [
            "___ batch index = 1500 / 1836 (81.70%), loss = 0.7015, time = 12.00 secondes ___\n"
          ],
          "name": "stdout"
        },
        {
          "output_type": "stream",
          "text": [
            "___ batch index = 1750 / 1836 (95.32%), loss = 0.7245, time = 13.09 secondes ___\n"
          ],
          "name": "stdout"
        },
        {
          "output_type": "stream",
          "text": [
            "\n",
            "*** avg_loss : 0.71, time : ~1.0 min (91.80 sec) ***\n",
            "\n"
          ],
          "name": "stdout"
        },
        {
          "output_type": "stream",
          "text": [
            "==> evaluation : avg_loss = 0.70, time : 29.49 sec\n",
            "\n"
          ],
          "name": "stdout"
        },
        {
          "output_type": "stream",
          "text": [
            "threshold (g-mean):  0.025058078908925745\n"
          ],
          "name": "stdout"
        },
        {
          "output_type": "stream",
          "text": [
            "threshold (f1):  0.025058078908925745\n",
            "=====>\t{'Positive Rate': 0.4332784184514003, 'max g_mean metrics': {'threshold': 0.025058078908925745, 'accuracy': 0.5107084019769358, 'f1': 0.5107084019769357, 'recall': 0.5893536121673004, 'specificity': 0.45058139534883723, 'g_mean': 0.5153171576070601}, 'max f1 metrics': {'threshold': 0.025058078908925745, 'accuracy': 0.5107084019769358, 'f1': 0.5107084019769357, 'recall': 0.5893536121673004, 'specificity': 0.45058139534883723, 'g_mean': 0.5153171576070601}, 'default_accuracy': 0.5667215815485996, 'default_f1': 0.0, 'default_recall': 0.0, 'default_specificity': 1.0, 'default_g_mean': 0.0}\n",
            "\n",
            "=============== EPOCH 6 / 6 ===============\n",
            "\n",
            "___ batch index = 0 / 1836 (0.00%), loss = 0.7859, time = 0.03 secondes ___\n"
          ],
          "name": "stdout"
        },
        {
          "output_type": "stream",
          "text": [
            "___ batch index = 250 / 1836 (13.62%), loss = 0.7163, time = 12.85 secondes ___\n"
          ],
          "name": "stdout"
        },
        {
          "output_type": "stream",
          "text": [
            "___ batch index = 500 / 1836 (27.23%), loss = 0.7126, time = 12.39 secondes ___\n"
          ],
          "name": "stdout"
        },
        {
          "output_type": "stream",
          "text": [
            "___ batch index = 750 / 1836 (40.85%), loss = 0.7190, time = 11.46 secondes ___\n"
          ],
          "name": "stdout"
        },
        {
          "output_type": "stream",
          "text": [
            "___ batch index = 1000 / 1836 (54.47%), loss = 0.7358, time = 13.15 secondes ___\n"
          ],
          "name": "stdout"
        },
        {
          "output_type": "stream",
          "text": [
            "___ batch index = 1250 / 1836 (68.08%), loss = 0.7174, time = 11.87 secondes ___\n"
          ],
          "name": "stdout"
        },
        {
          "output_type": "stream",
          "text": [
            "___ batch index = 1500 / 1836 (81.70%), loss = 0.7029, time = 11.98 secondes ___\n"
          ],
          "name": "stdout"
        },
        {
          "output_type": "stream",
          "text": [
            "___ batch index = 1750 / 1836 (95.32%), loss = 0.7216, time = 13.09 secondes ___\n"
          ],
          "name": "stdout"
        },
        {
          "output_type": "stream",
          "text": [
            "\n",
            "*** avg_loss : 0.71, time : ~1.0 min (91.83 sec) ***\n",
            "\n"
          ],
          "name": "stdout"
        },
        {
          "output_type": "stream",
          "text": [
            "==> evaluation : avg_loss = 0.70, time : 29.52 sec\n",
            "\n"
          ],
          "name": "stdout"
        },
        {
          "output_type": "stream",
          "text": [
            "threshold (g-mean):  0.01786512751579796\n"
          ],
          "name": "stdout"
        },
        {
          "output_type": "stream",
          "text": [
            "threshold (f1):  0.01786512751579796\n",
            "=====>\t{'Positive Rate': 0.4332784184514003, 'max g_mean metrics': {'threshold': 0.01786512751579796, 'accuracy': 0.5107084019769358, 'f1': 0.5107084019769357, 'recall': 0.5893536121673004, 'specificity': 0.45058139534883723, 'g_mean': 0.5153171576070601}, 'max f1 metrics': {'threshold': 0.01786512751579796, 'accuracy': 0.5107084019769358, 'f1': 0.5107084019769357, 'recall': 0.5893536121673004, 'specificity': 0.45058139534883723, 'g_mean': 0.5153171576070601}, 'default_accuracy': 0.5667215815485996, 'default_f1': 0.0, 'default_recall': 0.0, 'default_specificity': 1.0, 'default_g_mean': 0.0}\n",
            "@@@@@@@@@@@@@@@@@@@@@@@@@@@@@@@@@@@@@@@@@@@@@ END @@@@@@@@@@@@@@@@@@@@@@@@@@@@@@@@@@@@@@@@@@@@@@@\n",
            "--------------------------------------lr: 1e-06-----------------------------\n",
            "+++++++++++++++++++++++++++++++++++++++++++++++++++ n layers: 1 ++++++++++++++++++++++++++++++++++++++++++++++++\n",
            "/////////////////////////////////////////// GA: 16 ///////////////////////////////////////////////////////\n",
            "\n",
            "=============== EPOCH 1 / 6 ===============\n",
            "\n",
            "___ batch index = 0 / 1836 (0.00%), loss = 0.7447, time = 0.03 secondes ___\n"
          ],
          "name": "stdout"
        },
        {
          "output_type": "stream",
          "text": [
            "___ batch index = 250 / 1836 (13.62%), loss = 0.7517, time = 12.83 secondes ___\n"
          ],
          "name": "stdout"
        },
        {
          "output_type": "stream",
          "text": [
            "___ batch index = 500 / 1836 (27.23%), loss = 0.7396, time = 12.39 secondes ___\n"
          ],
          "name": "stdout"
        },
        {
          "output_type": "stream",
          "text": [
            "___ batch index = 750 / 1836 (40.85%), loss = 0.7491, time = 11.46 secondes ___\n"
          ],
          "name": "stdout"
        },
        {
          "output_type": "stream",
          "text": [
            "___ batch index = 1000 / 1836 (54.47%), loss = 0.7479, time = 13.15 secondes ___\n"
          ],
          "name": "stdout"
        },
        {
          "output_type": "stream",
          "text": [
            "___ batch index = 1250 / 1836 (68.08%), loss = 0.7247, time = 11.85 secondes ___\n"
          ],
          "name": "stdout"
        },
        {
          "output_type": "stream",
          "text": [
            "___ batch index = 1500 / 1836 (81.70%), loss = 0.7284, time = 11.97 secondes ___\n"
          ],
          "name": "stdout"
        },
        {
          "output_type": "stream",
          "text": [
            "___ batch index = 1750 / 1836 (95.32%), loss = 0.7181, time = 13.09 secondes ___\n"
          ],
          "name": "stdout"
        },
        {
          "output_type": "stream",
          "text": [
            "\n",
            "*** avg_loss : 0.72, time : ~1.0 min (91.78 sec) ***\n",
            "\n"
          ],
          "name": "stdout"
        },
        {
          "output_type": "stream",
          "text": [
            "==> evaluation : avg_loss = 0.69, time : 29.53 sec\n",
            "\n"
          ],
          "name": "stdout"
        },
        {
          "output_type": "stream",
          "text": [
            "threshold (g-mean):  0.05379609684944074\n"
          ],
          "name": "stdout"
        },
        {
          "output_type": "stream",
          "text": [
            "threshold (f1):  0.03659609684944025\n",
            "=====>\t{'Positive Rate': 0.4332784184514003, 'max g_mean metrics': {'threshold': 0.05379609684944074, 'accuracy': 0.5238879736408567, 'f1': 0.49387040280210154, 'recall': 0.5361216730038023, 'specificity': 0.5145348837209303, 'g_mean': 0.5252173861167222}, 'max f1 metrics': {'threshold': 0.03659609684944025, 'accuracy': 0.5189456342668863, 'f1': 0.5181518151815181, 'recall': 0.596958174904943, 'specificity': 0.45930232558139533, 'g_mean': 0.5236260860658736}, 'default_accuracy': 0.5667215815485996, 'default_f1': 0.0, 'default_recall': 0.0, 'default_specificity': 1.0, 'default_g_mean': 0.0}\n",
            "\n",
            "=============== EPOCH 2 / 6 ===============\n",
            "\n",
            "___ batch index = 0 / 1836 (0.00%), loss = 0.7042, time = 0.03 secondes ___\n"
          ],
          "name": "stdout"
        },
        {
          "output_type": "stream",
          "text": [
            "___ batch index = 250 / 1836 (13.62%), loss = 0.7193, time = 12.83 secondes ___\n"
          ],
          "name": "stdout"
        },
        {
          "output_type": "stream",
          "text": [
            "___ batch index = 500 / 1836 (27.23%), loss = 0.7043, time = 12.39 secondes ___\n"
          ],
          "name": "stdout"
        },
        {
          "output_type": "stream",
          "text": [
            "___ batch index = 750 / 1836 (40.85%), loss = 0.7167, time = 11.46 secondes ___\n"
          ],
          "name": "stdout"
        },
        {
          "output_type": "stream",
          "text": [
            "___ batch index = 1000 / 1836 (54.47%), loss = 0.7048, time = 13.16 secondes ___\n"
          ],
          "name": "stdout"
        },
        {
          "output_type": "stream",
          "text": [
            "___ batch index = 1250 / 1836 (68.08%), loss = 0.6823, time = 11.85 secondes ___\n"
          ],
          "name": "stdout"
        },
        {
          "output_type": "stream",
          "text": [
            "___ batch index = 1500 / 1836 (81.70%), loss = 0.6943, time = 11.97 secondes ___\n"
          ],
          "name": "stdout"
        },
        {
          "output_type": "stream",
          "text": [
            "___ batch index = 1750 / 1836 (95.32%), loss = 0.6904, time = 13.08 secondes ___\n"
          ],
          "name": "stdout"
        },
        {
          "output_type": "stream",
          "text": [
            "\n",
            "*** avg_loss : 0.69, time : ~1.0 min (91.76 sec) ***\n",
            "\n"
          ],
          "name": "stdout"
        },
        {
          "output_type": "stream",
          "text": [
            "==> evaluation : avg_loss = 0.69, time : 29.54 sec\n",
            "\n"
          ],
          "name": "stdout"
        },
        {
          "output_type": "stream",
          "text": [
            "threshold (g-mean):  8.068503141318941e-05\n"
          ],
          "name": "stdout"
        },
        {
          "output_type": "stream",
          "text": [
            "threshold (f1):  8.068503141318941e-05\n",
            "=====>\t{'Positive Rate': 0.4332784184514003, 'max g_mean metrics': {'threshold': 8.068503141318941e-05, 'accuracy': 0.5271828665568369, 'f1': 0.3550561797752809, 'recall': 0.30038022813688214, 'specificity': 0.7005813953488372, 'g_mean': 0.45873826891086705}, 'max f1 metrics': {'threshold': 8.068503141318941e-05, 'accuracy': 0.5271828665568369, 'f1': 0.3550561797752809, 'recall': 0.30038022813688214, 'specificity': 0.7005813953488372, 'g_mean': 0.45873826891086705}, 'default_accuracy': 0.5667215815485996, 'default_f1': 0.0, 'default_recall': 0.0, 'default_specificity': 1.0, 'default_g_mean': 0.0}\n",
            "\n",
            "=============== EPOCH 3 / 6 ===============\n",
            "\n",
            "___ batch index = 0 / 1836 (0.00%), loss = 0.6991, time = 0.03 secondes ___\n"
          ],
          "name": "stdout"
        },
        {
          "output_type": "stream",
          "text": [
            "___ batch index = 250 / 1836 (13.62%), loss = 0.6819, time = 12.84 secondes ___\n"
          ],
          "name": "stdout"
        },
        {
          "output_type": "stream",
          "text": [
            "___ batch index = 500 / 1836 (27.23%), loss = 0.6875, time = 12.38 secondes ___\n"
          ],
          "name": "stdout"
        },
        {
          "output_type": "stream",
          "text": [
            "___ batch index = 750 / 1836 (40.85%), loss = 0.6863, time = 11.47 secondes ___\n"
          ],
          "name": "stdout"
        },
        {
          "output_type": "stream",
          "text": [
            "___ batch index = 1000 / 1836 (54.47%), loss = 0.6716, time = 13.16 secondes ___\n"
          ],
          "name": "stdout"
        },
        {
          "output_type": "stream",
          "text": [
            "___ batch index = 1250 / 1836 (68.08%), loss = 0.6536, time = 11.85 secondes ___\n"
          ],
          "name": "stdout"
        },
        {
          "output_type": "stream",
          "text": [
            "___ batch index = 1500 / 1836 (81.70%), loss = 0.6635, time = 11.97 secondes ___\n"
          ],
          "name": "stdout"
        },
        {
          "output_type": "stream",
          "text": [
            "___ batch index = 1750 / 1836 (95.32%), loss = 0.6616, time = 13.09 secondes ___\n"
          ],
          "name": "stdout"
        },
        {
          "output_type": "stream",
          "text": [
            "\n",
            "*** avg_loss : 0.66, time : ~1.0 min (91.76 sec) ***\n",
            "\n"
          ],
          "name": "stdout"
        },
        {
          "output_type": "stream",
          "text": [
            "==> evaluation : avg_loss = 0.69, time : 29.53 sec\n",
            "\n"
          ],
          "name": "stdout"
        },
        {
          "output_type": "stream",
          "text": [
            "threshold (g-mean):  0.00030273171961313556\n"
          ],
          "name": "stdout"
        },
        {
          "output_type": "stream",
          "text": [
            "threshold (f1):  0.00030273171961313556\n",
            "=====>\t{'Positive Rate': 0.4332784184514003, 'max g_mean metrics': {'threshold': 0.00030273171961313556, 'accuracy': 0.5799011532125206, 'f1': 0.11149825783972125, 'recall': 0.060836501901140684, 'specificity': 0.9767441860465116, 'g_mean': 0.24376566520194495}, 'max f1 metrics': {'threshold': 0.00030273171961313556, 'accuracy': 0.5799011532125206, 'f1': 0.11149825783972125, 'recall': 0.060836501901140684, 'specificity': 0.9767441860465116, 'g_mean': 0.24376566520194495}, 'default_accuracy': 0.5667215815485996, 'default_f1': 0.0, 'default_recall': 0.0, 'default_specificity': 1.0, 'default_g_mean': 0.0}\n",
            "\n",
            "=============== EPOCH 4 / 6 ===============\n",
            "\n",
            "___ batch index = 0 / 1836 (0.00%), loss = 0.6582, time = 0.03 secondes ___\n"
          ],
          "name": "stdout"
        },
        {
          "output_type": "stream",
          "text": [
            "___ batch index = 250 / 1836 (13.62%), loss = 0.6463, time = 12.81 secondes ___\n"
          ],
          "name": "stdout"
        },
        {
          "output_type": "stream",
          "text": [
            "___ batch index = 500 / 1836 (27.23%), loss = 0.6474, time = 12.40 secondes ___\n"
          ],
          "name": "stdout"
        },
        {
          "output_type": "stream",
          "text": [
            "___ batch index = 750 / 1836 (40.85%), loss = 0.6595, time = 11.52 secondes ___\n"
          ],
          "name": "stdout"
        },
        {
          "output_type": "stream",
          "text": [
            "___ batch index = 1000 / 1836 (54.47%), loss = 0.6425, time = 13.14 secondes ___\n"
          ],
          "name": "stdout"
        },
        {
          "output_type": "stream",
          "text": [
            "___ batch index = 1250 / 1836 (68.08%), loss = 0.6229, time = 11.79 secondes ___\n"
          ],
          "name": "stdout"
        },
        {
          "output_type": "stream",
          "text": [
            "___ batch index = 1500 / 1836 (81.70%), loss = 0.6412, time = 11.90 secondes ___\n"
          ],
          "name": "stdout"
        },
        {
          "output_type": "stream",
          "text": [
            "___ batch index = 1750 / 1836 (95.32%), loss = 0.6255, time = 13.03 secondes ___\n"
          ],
          "name": "stdout"
        },
        {
          "output_type": "stream",
          "text": [
            "\n",
            "*** avg_loss : 0.63, time : ~1.0 min (91.60 sec) ***\n",
            "\n"
          ],
          "name": "stdout"
        },
        {
          "output_type": "stream",
          "text": [
            "==> evaluation : avg_loss = 0.69, time : 29.34 sec\n",
            "\n",
            "threshold (g-mean):  1\n",
            "threshold (f1):  1\n",
            "=====>\t{'Positive Rate': 0.4332784184514003, 'max g_mean metrics': {'threshold': 1, 'accuracy': 0.5667215815485996, 'f1': 0.0, 'recall': 0.0, 'specificity': 1.0, 'g_mean': 0.0}, 'max f1 metrics': {'threshold': 1, 'accuracy': 0.5667215815485996, 'f1': 0.0, 'recall': 0.0, 'specificity': 1.0, 'g_mean': 0.0}, 'default_accuracy': 0.5667215815485996, 'default_f1': 0.0, 'default_recall': 0.0, 'default_specificity': 1.0, 'default_g_mean': 0.0}\n",
            "\n",
            "=============== EPOCH 5 / 6 ===============\n",
            "\n",
            "___ batch index = 0 / 1836 (0.00%), loss = 0.6565, time = 0.03 secondes ___\n"
          ],
          "name": "stdout"
        },
        {
          "output_type": "stream",
          "text": [
            "___ batch index = 250 / 1836 (13.62%), loss = 0.6150, time = 12.75 secondes ___\n"
          ],
          "name": "stdout"
        },
        {
          "output_type": "stream",
          "text": [
            "___ batch index = 500 / 1836 (27.23%), loss = 0.6148, time = 12.32 secondes ___\n"
          ],
          "name": "stdout"
        },
        {
          "output_type": "stream",
          "text": [
            "___ batch index = 750 / 1836 (40.85%), loss = 0.6291, time = 11.39 secondes ___\n"
          ],
          "name": "stdout"
        },
        {
          "output_type": "stream",
          "text": [
            "___ batch index = 1000 / 1836 (54.47%), loss = 0.6080, time = 13.09 secondes ___\n"
          ],
          "name": "stdout"
        },
        {
          "output_type": "stream",
          "text": [
            "___ batch index = 1250 / 1836 (68.08%), loss = 0.5882, time = 11.79 secondes ___\n"
          ],
          "name": "stdout"
        },
        {
          "output_type": "stream",
          "text": [
            "___ batch index = 1500 / 1836 (81.70%), loss = 0.6071, time = 11.91 secondes ___\n"
          ],
          "name": "stdout"
        },
        {
          "output_type": "stream",
          "text": [
            "___ batch index = 1750 / 1836 (95.32%), loss = 0.5900, time = 13.03 secondes ___\n"
          ],
          "name": "stdout"
        },
        {
          "output_type": "stream",
          "text": [
            "\n",
            "*** avg_loss : 0.61, time : ~1.0 min (91.27 sec) ***\n",
            "\n"
          ],
          "name": "stdout"
        },
        {
          "output_type": "stream",
          "text": [
            "==> evaluation : avg_loss = 0.69, time : 29.33 sec\n",
            "\n",
            "threshold (g-mean):  1\n",
            "threshold (f1):  1\n",
            "=====>\t{'Positive Rate': 0.4332784184514003, 'max g_mean metrics': {'threshold': 1, 'accuracy': 0.5667215815485996, 'f1': 0.0, 'recall': 0.0, 'specificity': 1.0, 'g_mean': 0.0}, 'max f1 metrics': {'threshold': 1, 'accuracy': 0.5667215815485996, 'f1': 0.0, 'recall': 0.0, 'specificity': 1.0, 'g_mean': 0.0}, 'default_accuracy': 0.5667215815485996, 'default_f1': 0.0, 'default_recall': 0.0, 'default_specificity': 1.0, 'default_g_mean': 0.0}\n",
            "\n",
            "=============== EPOCH 6 / 6 ===============\n",
            "\n",
            "___ batch index = 0 / 1836 (0.00%), loss = 0.6171, time = 0.03 secondes ___\n"
          ],
          "name": "stdout"
        },
        {
          "output_type": "stream",
          "text": [
            "___ batch index = 250 / 1836 (13.62%), loss = 0.5905, time = 12.74 secondes ___\n"
          ],
          "name": "stdout"
        },
        {
          "output_type": "stream",
          "text": [
            "___ batch index = 500 / 1836 (27.23%), loss = 0.5859, time = 12.31 secondes ___\n"
          ],
          "name": "stdout"
        },
        {
          "output_type": "stream",
          "text": [
            "___ batch index = 750 / 1836 (40.85%), loss = 0.6012, time = 11.39 secondes ___\n"
          ],
          "name": "stdout"
        },
        {
          "output_type": "stream",
          "text": [
            "___ batch index = 1000 / 1836 (54.47%), loss = 0.5742, time = 13.09 secondes ___\n"
          ],
          "name": "stdout"
        },
        {
          "output_type": "stream",
          "text": [
            "___ batch index = 1250 / 1836 (68.08%), loss = 0.5562, time = 11.79 secondes ___\n"
          ],
          "name": "stdout"
        },
        {
          "output_type": "stream",
          "text": [
            "___ batch index = 1500 / 1836 (81.70%), loss = 0.5849, time = 11.92 secondes ___\n"
          ],
          "name": "stdout"
        },
        {
          "output_type": "stream",
          "text": [
            "___ batch index = 1750 / 1836 (95.32%), loss = 0.5586, time = 13.03 secondes ___\n"
          ],
          "name": "stdout"
        },
        {
          "output_type": "stream",
          "text": [
            "\n",
            "*** avg_loss : 0.58, time : ~1.0 min (91.29 sec) ***\n",
            "\n"
          ],
          "name": "stdout"
        },
        {
          "output_type": "stream",
          "text": [
            "==> evaluation : avg_loss = 0.69, time : 29.29 sec\n",
            "\n",
            "threshold (g-mean):  1\n",
            "threshold (f1):  1\n",
            "=====>\t{'Positive Rate': 0.4332784184514003, 'max g_mean metrics': {'threshold': 1, 'accuracy': 0.5667215815485996, 'f1': 0.0, 'recall': 0.0, 'specificity': 1.0, 'g_mean': 0.0}, 'max f1 metrics': {'threshold': 1, 'accuracy': 0.5667215815485996, 'f1': 0.0, 'recall': 0.0, 'specificity': 1.0, 'g_mean': 0.0}, 'default_accuracy': 0.5667215815485996, 'default_f1': 0.0, 'default_recall': 0.0, 'default_specificity': 1.0, 'default_g_mean': 0.0}\n",
            "@@@@@@@@@@@@@@@@@@@@@@@@@@@@@@@@@@@@@@@@@@@@@ END @@@@@@@@@@@@@@@@@@@@@@@@@@@@@@@@@@@@@@@@@@@@@@@\n"
          ],
          "name": "stdout"
        },
        {
          "output_type": "stream",
          "text": [
            "xxxxxxxxxxxxxxxxxxxxxxxxxxxxxxxxxxxx END Para label:  Control Neurólogo  (10) xxxxxxxxxxxxxxxxxxxxxxxxx\n",
            "#################################################### Para label:  Apoyo Interdisciplinario  (11) ##############\n",
            "--------------------------------------lr: 1e-07-----------------------------\n",
            "+++++++++++++++++++++++++++++++++++++++++++++++++++ n layers: 1 ++++++++++++++++++++++++++++++++++++++++++++++++\n",
            "/////////////////////////////////////////// GA: 16 ///////////////////////////////////////////////////////\n"
          ],
          "name": "stdout"
        },
        {
          "output_type": "stream",
          "text": [
            "\n",
            "=============== EPOCH 1 / 6 ===============\n",
            "\n",
            "___ batch index = 0 / 1836 (0.00%), loss = 0.5962, time = 0.03 secondes ___\n"
          ],
          "name": "stdout"
        },
        {
          "output_type": "stream",
          "text": [
            "___ batch index = 250 / 1836 (13.62%), loss = 0.6724, time = 12.76 secondes ___\n"
          ],
          "name": "stdout"
        },
        {
          "output_type": "stream",
          "text": [
            "___ batch index = 500 / 1836 (27.23%), loss = 0.7470, time = 12.31 secondes ___\n"
          ],
          "name": "stdout"
        },
        {
          "output_type": "stream",
          "text": [
            "___ batch index = 750 / 1836 (40.85%), loss = 0.6394, time = 11.38 secondes ___\n"
          ],
          "name": "stdout"
        },
        {
          "output_type": "stream",
          "text": [
            "___ batch index = 1000 / 1836 (54.47%), loss = 0.7735, time = 13.07 secondes ___\n"
          ],
          "name": "stdout"
        },
        {
          "output_type": "stream",
          "text": [
            "___ batch index = 1250 / 1836 (68.08%), loss = 0.7759, time = 11.79 secondes ___\n"
          ],
          "name": "stdout"
        },
        {
          "output_type": "stream",
          "text": [
            "___ batch index = 1500 / 1836 (81.70%), loss = 0.6249, time = 11.92 secondes ___\n"
          ],
          "name": "stdout"
        },
        {
          "output_type": "stream",
          "text": [
            "___ batch index = 1750 / 1836 (95.32%), loss = 0.5633, time = 13.04 secondes ___\n"
          ],
          "name": "stdout"
        },
        {
          "output_type": "stream",
          "text": [
            "\n",
            "*** avg_loss : 0.69, time : ~1.0 min (91.28 sec) ***\n",
            "\n"
          ],
          "name": "stdout"
        },
        {
          "output_type": "stream",
          "text": [
            "==> evaluation : avg_loss = 0.69, time : 29.27 sec\n",
            "\n"
          ],
          "name": "stdout"
        },
        {
          "output_type": "stream",
          "text": [
            "threshold (g-mean):  0.02915904095172882\n"
          ],
          "name": "stdout"
        },
        {
          "output_type": "stream",
          "text": [
            "threshold (f1):  0.02915904095172882\n",
            "=====>\t{'Positive Rate': 0.4332784184514003, 'max g_mean metrics': {'threshold': 0.02915904095172882, 'accuracy': 0.5683690280065898, 'f1': 0.007575757575757576, 'recall': 0.0038022813688212928, 'specificity': 1.0, 'g_mean': 0.06166264159782074}, 'max f1 metrics': {'threshold': 0.02915904095172882, 'accuracy': 0.5683690280065898, 'f1': 0.007575757575757576, 'recall': 0.0038022813688212928, 'specificity': 1.0, 'g_mean': 0.06166264159782074}, 'default_accuracy': 0.5667215815485996, 'default_f1': 0.0, 'default_recall': 0.0, 'default_specificity': 1.0, 'default_g_mean': 0.0}\n",
            "\n",
            "=============== EPOCH 2 / 6 ===============\n",
            "\n",
            "___ batch index = 0 / 1836 (0.00%), loss = 0.6082, time = 0.03 secondes ___\n"
          ],
          "name": "stdout"
        },
        {
          "output_type": "stream",
          "text": [
            "___ batch index = 250 / 1836 (13.62%), loss = 0.6618, time = 12.76 secondes ___\n"
          ],
          "name": "stdout"
        },
        {
          "output_type": "stream",
          "text": [
            "___ batch index = 500 / 1836 (27.23%), loss = 0.7418, time = 12.31 secondes ___\n"
          ],
          "name": "stdout"
        },
        {
          "output_type": "stream",
          "text": [
            "___ batch index = 750 / 1836 (40.85%), loss = 0.6386, time = 11.38 secondes ___\n"
          ],
          "name": "stdout"
        },
        {
          "output_type": "stream",
          "text": [
            "___ batch index = 1000 / 1836 (54.47%), loss = 0.7733, time = 13.08 secondes ___\n"
          ],
          "name": "stdout"
        },
        {
          "output_type": "stream",
          "text": [
            "___ batch index = 1250 / 1836 (68.08%), loss = 0.7744, time = 11.79 secondes ___\n"
          ],
          "name": "stdout"
        },
        {
          "output_type": "stream",
          "text": [
            "___ batch index = 1500 / 1836 (81.70%), loss = 0.6222, time = 11.92 secondes ___\n"
          ],
          "name": "stdout"
        },
        {
          "output_type": "stream",
          "text": [
            "___ batch index = 1750 / 1836 (95.32%), loss = 0.5669, time = 13.05 secondes ___\n"
          ],
          "name": "stdout"
        },
        {
          "output_type": "stream",
          "text": [
            "\n",
            "*** avg_loss : 0.69, time : ~1.0 min (91.30 sec) ***\n",
            "\n"
          ],
          "name": "stdout"
        },
        {
          "output_type": "stream",
          "text": [
            "==> evaluation : avg_loss = 0.69, time : 29.30 sec\n",
            "\n"
          ],
          "name": "stdout"
        },
        {
          "output_type": "stream",
          "text": [
            "threshold (g-mean):  0.029768386685848237\n"
          ],
          "name": "stdout"
        },
        {
          "output_type": "stream",
          "text": [
            "threshold (f1):  0.029768386685848237\n",
            "=====>\t{'Positive Rate': 0.4332784184514003, 'max g_mean metrics': {'threshold': 0.029768386685848237, 'accuracy': 0.5683690280065898, 'f1': 0.007575757575757576, 'recall': 0.0038022813688212928, 'specificity': 1.0, 'g_mean': 0.06166264159782074}, 'max f1 metrics': {'threshold': 0.029768386685848237, 'accuracy': 0.5683690280065898, 'f1': 0.007575757575757576, 'recall': 0.0038022813688212928, 'specificity': 1.0, 'g_mean': 0.06166264159782074}, 'default_accuracy': 0.5667215815485996, 'default_f1': 0.0, 'default_recall': 0.0, 'default_specificity': 1.0, 'default_g_mean': 0.0}\n",
            "\n",
            "=============== EPOCH 3 / 6 ===============\n",
            "\n",
            "___ batch index = 0 / 1836 (0.00%), loss = 0.6015, time = 0.03 secondes ___\n"
          ],
          "name": "stdout"
        },
        {
          "output_type": "stream",
          "text": [
            "___ batch index = 250 / 1836 (13.62%), loss = 0.6647, time = 12.72 secondes ___\n"
          ],
          "name": "stdout"
        },
        {
          "output_type": "stream",
          "text": [
            "___ batch index = 500 / 1836 (27.23%), loss = 0.7520, time = 12.31 secondes ___\n"
          ],
          "name": "stdout"
        },
        {
          "output_type": "stream",
          "text": [
            "___ batch index = 750 / 1836 (40.85%), loss = 0.6444, time = 11.39 secondes ___\n"
          ],
          "name": "stdout"
        },
        {
          "output_type": "stream",
          "text": [
            "___ batch index = 1000 / 1836 (54.47%), loss = 0.7736, time = 13.09 secondes ___\n"
          ],
          "name": "stdout"
        },
        {
          "output_type": "stream",
          "text": [
            "___ batch index = 1250 / 1836 (68.08%), loss = 0.7792, time = 11.79 secondes ___\n"
          ],
          "name": "stdout"
        },
        {
          "output_type": "stream",
          "text": [
            "___ batch index = 1500 / 1836 (81.70%), loss = 0.6270, time = 11.92 secondes ___\n"
          ],
          "name": "stdout"
        },
        {
          "output_type": "stream",
          "text": [
            "___ batch index = 1750 / 1836 (95.32%), loss = 0.5663, time = 13.04 secondes ___\n"
          ],
          "name": "stdout"
        },
        {
          "output_type": "stream",
          "text": [
            "\n",
            "*** avg_loss : 0.69, time : ~1.0 min (91.27 sec) ***\n",
            "\n"
          ],
          "name": "stdout"
        },
        {
          "output_type": "stream",
          "text": [
            "==> evaluation : avg_loss = 0.69, time : 29.29 sec\n",
            "\n"
          ],
          "name": "stdout"
        },
        {
          "output_type": "stream",
          "text": [
            "threshold (g-mean):  0.030346305871009827\n"
          ],
          "name": "stdout"
        },
        {
          "output_type": "stream",
          "text": [
            "threshold (f1):  0.030346305871009827\n",
            "=====>\t{'Positive Rate': 0.4332784184514003, 'max g_mean metrics': {'threshold': 0.030346305871009827, 'accuracy': 0.5683690280065898, 'f1': 0.007575757575757576, 'recall': 0.0038022813688212928, 'specificity': 1.0, 'g_mean': 0.06166264159782074}, 'max f1 metrics': {'threshold': 0.030346305871009827, 'accuracy': 0.5683690280065898, 'f1': 0.007575757575757576, 'recall': 0.0038022813688212928, 'specificity': 1.0, 'g_mean': 0.06166264159782074}, 'default_accuracy': 0.5667215815485996, 'default_f1': 0.0, 'default_recall': 0.0, 'default_specificity': 1.0, 'default_g_mean': 0.0}\n",
            "\n",
            "=============== EPOCH 4 / 6 ===============\n",
            "\n",
            "___ batch index = 0 / 1836 (0.00%), loss = 0.5919, time = 0.03 secondes ___\n"
          ],
          "name": "stdout"
        },
        {
          "output_type": "stream",
          "text": [
            "___ batch index = 250 / 1836 (13.62%), loss = 0.6652, time = 12.72 secondes ___\n"
          ],
          "name": "stdout"
        },
        {
          "output_type": "stream",
          "text": [
            "___ batch index = 500 / 1836 (27.23%), loss = 0.7425, time = 12.30 secondes ___\n"
          ],
          "name": "stdout"
        },
        {
          "output_type": "stream",
          "text": [
            "___ batch index = 750 / 1836 (40.85%), loss = 0.6410, time = 11.38 secondes ___\n"
          ],
          "name": "stdout"
        },
        {
          "output_type": "stream",
          "text": [
            "___ batch index = 1000 / 1836 (54.47%), loss = 0.7790, time = 13.07 secondes ___\n"
          ],
          "name": "stdout"
        },
        {
          "output_type": "stream",
          "text": [
            "___ batch index = 1250 / 1836 (68.08%), loss = 0.7748, time = 11.79 secondes ___\n"
          ],
          "name": "stdout"
        },
        {
          "output_type": "stream",
          "text": [
            "___ batch index = 1500 / 1836 (81.70%), loss = 0.6199, time = 11.92 secondes ___\n"
          ],
          "name": "stdout"
        },
        {
          "output_type": "stream",
          "text": [
            "___ batch index = 1750 / 1836 (95.32%), loss = 0.5656, time = 13.04 secondes ___\n"
          ],
          "name": "stdout"
        },
        {
          "output_type": "stream",
          "text": [
            "\n",
            "*** avg_loss : 0.69, time : ~1.0 min (91.23 sec) ***\n",
            "\n"
          ],
          "name": "stdout"
        },
        {
          "output_type": "stream",
          "text": [
            "==> evaluation : avg_loss = 0.69, time : 29.30 sec\n",
            "\n"
          ],
          "name": "stdout"
        },
        {
          "output_type": "stream",
          "text": [
            "threshold (g-mean):  0.03090334107875824\n"
          ],
          "name": "stdout"
        },
        {
          "output_type": "stream",
          "text": [
            "threshold (f1):  0.03090334107875824\n",
            "=====>\t{'Positive Rate': 0.4332784184514003, 'max g_mean metrics': {'threshold': 0.03090334107875824, 'accuracy': 0.5683690280065898, 'f1': 0.007575757575757576, 'recall': 0.0038022813688212928, 'specificity': 1.0, 'g_mean': 0.06166264159782074}, 'max f1 metrics': {'threshold': 0.03090334107875824, 'accuracy': 0.5683690280065898, 'f1': 0.007575757575757576, 'recall': 0.0038022813688212928, 'specificity': 1.0, 'g_mean': 0.06166264159782074}, 'default_accuracy': 0.5667215815485996, 'default_f1': 0.0, 'default_recall': 0.0, 'default_specificity': 1.0, 'default_g_mean': 0.0}\n",
            "\n",
            "=============== EPOCH 5 / 6 ===============\n",
            "\n",
            "___ batch index = 0 / 1836 (0.00%), loss = 0.5939, time = 0.03 secondes ___\n"
          ],
          "name": "stdout"
        },
        {
          "output_type": "stream",
          "text": [
            "___ batch index = 250 / 1836 (13.62%), loss = 0.6658, time = 12.71 secondes ___\n"
          ],
          "name": "stdout"
        },
        {
          "output_type": "stream",
          "text": [
            "___ batch index = 500 / 1836 (27.23%), loss = 0.7423, time = 12.30 secondes ___\n"
          ],
          "name": "stdout"
        },
        {
          "output_type": "stream",
          "text": [
            "___ batch index = 750 / 1836 (40.85%), loss = 0.6416, time = 11.38 secondes ___\n"
          ],
          "name": "stdout"
        },
        {
          "output_type": "stream",
          "text": [
            "___ batch index = 1000 / 1836 (54.47%), loss = 0.7736, time = 13.07 secondes ___\n"
          ],
          "name": "stdout"
        },
        {
          "output_type": "stream",
          "text": [
            "___ batch index = 1250 / 1836 (68.08%), loss = 0.7745, time = 11.78 secondes ___\n"
          ],
          "name": "stdout"
        },
        {
          "output_type": "stream",
          "text": [
            "___ batch index = 1500 / 1836 (81.70%), loss = 0.6253, time = 11.91 secondes ___\n"
          ],
          "name": "stdout"
        },
        {
          "output_type": "stream",
          "text": [
            "___ batch index = 1750 / 1836 (95.32%), loss = 0.5683, time = 13.04 secondes ___\n"
          ],
          "name": "stdout"
        },
        {
          "output_type": "stream",
          "text": [
            "\n",
            "*** avg_loss : 0.69, time : ~1.0 min (91.19 sec) ***\n",
            "\n"
          ],
          "name": "stdout"
        },
        {
          "output_type": "stream",
          "text": [
            "==> evaluation : avg_loss = 0.69, time : 29.31 sec\n",
            "\n"
          ],
          "name": "stdout"
        },
        {
          "output_type": "stream",
          "text": [
            "threshold (g-mean):  0.03145571967363357\n"
          ],
          "name": "stdout"
        },
        {
          "output_type": "stream",
          "text": [
            "threshold (f1):  0.03145571967363357\n",
            "=====>\t{'Positive Rate': 0.4332784184514003, 'max g_mean metrics': {'threshold': 0.03145571967363357, 'accuracy': 0.5683690280065898, 'f1': 0.007575757575757576, 'recall': 0.0038022813688212928, 'specificity': 1.0, 'g_mean': 0.06166264159782074}, 'max f1 metrics': {'threshold': 0.03145571967363357, 'accuracy': 0.5683690280065898, 'f1': 0.007575757575757576, 'recall': 0.0038022813688212928, 'specificity': 1.0, 'g_mean': 0.06166264159782074}, 'default_accuracy': 0.5667215815485996, 'default_f1': 0.0, 'default_recall': 0.0, 'default_specificity': 1.0, 'default_g_mean': 0.0}\n",
            "\n",
            "=============== EPOCH 6 / 6 ===============\n",
            "\n",
            "___ batch index = 0 / 1836 (0.00%), loss = 0.5983, time = 0.03 secondes ___\n"
          ],
          "name": "stdout"
        },
        {
          "output_type": "stream",
          "text": [
            "___ batch index = 250 / 1836 (13.62%), loss = 0.6645, time = 12.70 secondes ___\n"
          ],
          "name": "stdout"
        },
        {
          "output_type": "stream",
          "text": [
            "___ batch index = 500 / 1836 (27.23%), loss = 0.7503, time = 12.29 secondes ___\n"
          ],
          "name": "stdout"
        },
        {
          "output_type": "stream",
          "text": [
            "___ batch index = 750 / 1836 (40.85%), loss = 0.6398, time = 11.37 secondes ___\n"
          ],
          "name": "stdout"
        },
        {
          "output_type": "stream",
          "text": [
            "___ batch index = 1000 / 1836 (54.47%), loss = 0.7750, time = 13.07 secondes ___\n"
          ],
          "name": "stdout"
        },
        {
          "output_type": "stream",
          "text": [
            "___ batch index = 1250 / 1836 (68.08%), loss = 0.7710, time = 11.79 secondes ___\n"
          ],
          "name": "stdout"
        },
        {
          "output_type": "stream",
          "text": [
            "___ batch index = 1500 / 1836 (81.70%), loss = 0.6270, time = 11.92 secondes ___\n"
          ],
          "name": "stdout"
        },
        {
          "output_type": "stream",
          "text": [
            "___ batch index = 1750 / 1836 (95.32%), loss = 0.5693, time = 13.06 secondes ___\n"
          ],
          "name": "stdout"
        },
        {
          "output_type": "stream",
          "text": [
            "\n",
            "*** avg_loss : 0.69, time : ~1.0 min (91.22 sec) ***\n",
            "\n"
          ],
          "name": "stdout"
        },
        {
          "output_type": "stream",
          "text": [
            "==> evaluation : avg_loss = 0.69, time : 29.32 sec\n",
            "\n"
          ],
          "name": "stdout"
        },
        {
          "output_type": "stream",
          "text": [
            "threshold (g-mean):  0.032005922698974607\n"
          ],
          "name": "stdout"
        },
        {
          "output_type": "stream",
          "text": [
            "threshold (f1):  0.032005922698974607\n",
            "=====>\t{'Positive Rate': 0.4332784184514003, 'max g_mean metrics': {'threshold': 0.032005922698974607, 'accuracy': 0.5683690280065898, 'f1': 0.007575757575757576, 'recall': 0.0038022813688212928, 'specificity': 1.0, 'g_mean': 0.06166264159782074}, 'max f1 metrics': {'threshold': 0.032005922698974607, 'accuracy': 0.5683690280065898, 'f1': 0.007575757575757576, 'recall': 0.0038022813688212928, 'specificity': 1.0, 'g_mean': 0.06166264159782074}, 'default_accuracy': 0.5667215815485996, 'default_f1': 0.0, 'default_recall': 0.0, 'default_specificity': 1.0, 'default_g_mean': 0.0}\n",
            "@@@@@@@@@@@@@@@@@@@@@@@@@@@@@@@@@@@@@@@@@@@@@ END @@@@@@@@@@@@@@@@@@@@@@@@@@@@@@@@@@@@@@@@@@@@@@@\n",
            "--------------------------------------lr: 1e-06-----------------------------\n",
            "+++++++++++++++++++++++++++++++++++++++++++++++++++ n layers: 1 ++++++++++++++++++++++++++++++++++++++++++++++++\n",
            "/////////////////////////////////////////// GA: 16 ///////////////////////////////////////////////////////\n",
            "\n",
            "=============== EPOCH 1 / 6 ===============\n",
            "\n",
            "___ batch index = 0 / 1836 (0.00%), loss = 0.6638, time = 0.03 secondes ___\n"
          ],
          "name": "stdout"
        },
        {
          "output_type": "stream",
          "text": [
            "___ batch index = 250 / 1836 (13.62%), loss = 0.7087, time = 12.70 secondes ___\n"
          ],
          "name": "stdout"
        },
        {
          "output_type": "stream",
          "text": [
            "___ batch index = 500 / 1836 (27.23%), loss = 0.7015, time = 12.31 secondes ___\n"
          ],
          "name": "stdout"
        },
        {
          "output_type": "stream",
          "text": [
            "___ batch index = 750 / 1836 (40.85%), loss = 0.6854, time = 11.39 secondes ___\n"
          ],
          "name": "stdout"
        },
        {
          "output_type": "stream",
          "text": [
            "___ batch index = 1000 / 1836 (54.47%), loss = 0.6901, time = 13.08 secondes ___\n"
          ],
          "name": "stdout"
        },
        {
          "output_type": "stream",
          "text": [
            "___ batch index = 1250 / 1836 (68.08%), loss = 0.7030, time = 11.78 secondes ___\n"
          ],
          "name": "stdout"
        },
        {
          "output_type": "stream",
          "text": [
            "___ batch index = 1500 / 1836 (81.70%), loss = 0.7172, time = 11.92 secondes ___\n"
          ],
          "name": "stdout"
        },
        {
          "output_type": "stream",
          "text": [
            "___ batch index = 1750 / 1836 (95.32%), loss = 0.6918, time = 13.06 secondes ___\n"
          ],
          "name": "stdout"
        },
        {
          "output_type": "stream",
          "text": [
            "\n",
            "*** avg_loss : 0.69, time : ~1.0 min (91.26 sec) ***\n",
            "\n"
          ],
          "name": "stdout"
        },
        {
          "output_type": "stream",
          "text": [
            "==> evaluation : avg_loss = 0.69, time : 29.33 sec\n",
            "\n"
          ],
          "name": "stdout"
        },
        {
          "output_type": "stream",
          "text": [
            "threshold (g-mean):  0.0010638173580195256\n"
          ],
          "name": "stdout"
        },
        {
          "output_type": "stream",
          "text": [
            "threshold (f1):  0.0003638173580195254\n",
            "=====>\t{'Positive Rate': 0.4332784184514003, 'max g_mean metrics': {'threshold': 0.0010638173580195256, 'accuracy': 0.5123558484349259, 'f1': 0.46181818181818185, 'recall': 0.4828897338403042, 'specificity': 0.5348837209302325, 'g_mean': 0.508222252204202}, 'max f1 metrics': {'threshold': 0.0003638173580195254, 'accuracy': 0.5107084019769358, 'f1': 0.4629294755877035, 'recall': 0.4866920152091255, 'specificity': 0.5290697674418605, 'g_mean': 0.5074386970881335}, 'default_accuracy': 0.5667215815485996, 'default_f1': 0.0, 'default_recall': 0.0, 'default_specificity': 1.0, 'default_g_mean': 0.0}\n",
            "\n",
            "=============== EPOCH 2 / 6 ===============\n",
            "\n",
            "___ batch index = 0 / 1836 (0.00%), loss = 0.6569, time = 0.03 secondes ___\n"
          ],
          "name": "stdout"
        },
        {
          "output_type": "stream",
          "text": [
            "___ batch index = 250 / 1836 (13.62%), loss = 0.7104, time = 12.76 secondes ___\n"
          ],
          "name": "stdout"
        },
        {
          "output_type": "stream",
          "text": [
            "___ batch index = 500 / 1836 (27.23%), loss = 0.6956, time = 12.31 secondes ___\n"
          ],
          "name": "stdout"
        },
        {
          "output_type": "stream",
          "text": [
            "___ batch index = 750 / 1836 (40.85%), loss = 0.6960, time = 11.39 secondes ___\n"
          ],
          "name": "stdout"
        },
        {
          "output_type": "stream",
          "text": [
            "___ batch index = 1000 / 1836 (54.47%), loss = 0.6927, time = 13.07 secondes ___\n"
          ],
          "name": "stdout"
        },
        {
          "output_type": "stream",
          "text": [
            "___ batch index = 1250 / 1836 (68.08%), loss = 0.7103, time = 11.79 secondes ___\n"
          ],
          "name": "stdout"
        },
        {
          "output_type": "stream",
          "text": [
            "___ batch index = 1500 / 1836 (81.70%), loss = 0.7110, time = 11.92 secondes ___\n"
          ],
          "name": "stdout"
        },
        {
          "output_type": "stream",
          "text": [
            "___ batch index = 1750 / 1836 (95.32%), loss = 0.6899, time = 13.04 secondes ___\n"
          ],
          "name": "stdout"
        },
        {
          "output_type": "stream",
          "text": [
            "\n",
            "*** avg_loss : 0.69, time : ~1.0 min (91.28 sec) ***\n",
            "\n"
          ],
          "name": "stdout"
        },
        {
          "output_type": "stream",
          "text": [
            "==> evaluation : avg_loss = 0.69, time : 29.29 sec\n",
            "\n"
          ],
          "name": "stdout"
        },
        {
          "output_type": "stream",
          "text": [
            "threshold (g-mean):  0.00024363069534541324\n"
          ],
          "name": "stdout"
        },
        {
          "output_type": "stream",
          "text": [
            "threshold (f1):  0.00024363069534541324\n",
            "=====>\t{'Positive Rate': 0.4332784184514003, 'max g_mean metrics': {'threshold': 0.00024363069534541324, 'accuracy': 0.5090609555189456, 'f1': 0.4522058823529412, 'recall': 0.467680608365019, 'specificity': 0.5406976744186046, 'g_mean': 0.5028656056180856}, 'max f1 metrics': {'threshold': 0.00024363069534541324, 'accuracy': 0.5090609555189456, 'f1': 0.4522058823529412, 'recall': 0.467680608365019, 'specificity': 0.5406976744186046, 'g_mean': 0.5028656056180856}, 'default_accuracy': 0.5667215815485996, 'default_f1': 0.0, 'default_recall': 0.0, 'default_specificity': 1.0, 'default_g_mean': 0.0}\n",
            "\n",
            "=============== EPOCH 3 / 6 ===============\n",
            "\n",
            "___ batch index = 0 / 1836 (0.00%), loss = 0.6676, time = 0.03 secondes ___\n"
          ],
          "name": "stdout"
        },
        {
          "output_type": "stream",
          "text": [
            "___ batch index = 250 / 1836 (13.62%), loss = 0.7080, time = 12.75 secondes ___\n"
          ],
          "name": "stdout"
        },
        {
          "output_type": "stream",
          "text": [
            "___ batch index = 500 / 1836 (27.23%), loss = 0.6975, time = 12.31 secondes ___\n"
          ],
          "name": "stdout"
        },
        {
          "output_type": "stream",
          "text": [
            "___ batch index = 750 / 1836 (40.85%), loss = 0.6816, time = 11.38 secondes ___\n"
          ],
          "name": "stdout"
        },
        {
          "output_type": "stream",
          "text": [
            "___ batch index = 1000 / 1836 (54.47%), loss = 0.6925, time = 13.08 secondes ___\n"
          ],
          "name": "stdout"
        },
        {
          "output_type": "stream",
          "text": [
            "___ batch index = 1250 / 1836 (68.08%), loss = 0.7098, time = 11.79 secondes ___\n"
          ],
          "name": "stdout"
        },
        {
          "output_type": "stream",
          "text": [
            "___ batch index = 1500 / 1836 (81.70%), loss = 0.7121, time = 11.92 secondes ___\n"
          ],
          "name": "stdout"
        },
        {
          "output_type": "stream",
          "text": [
            "___ batch index = 1750 / 1836 (95.32%), loss = 0.6870, time = 13.05 secondes ___\n"
          ],
          "name": "stdout"
        },
        {
          "output_type": "stream",
          "text": [
            "\n",
            "*** avg_loss : 0.69, time : ~1.0 min (91.29 sec) ***\n",
            "\n"
          ],
          "name": "stdout"
        },
        {
          "output_type": "stream",
          "text": [
            "==> evaluation : avg_loss = 0.69, time : 29.30 sec\n",
            "\n"
          ],
          "name": "stdout"
        },
        {
          "output_type": "stream",
          "text": [
            "threshold (g-mean):  0.001419748544695224\n"
          ],
          "name": "stdout"
        },
        {
          "output_type": "stream",
          "text": [
            "threshold (f1):  0.00011974854469522362\n",
            "=====>\t{'Positive Rate': 0.4332784184514003, 'max g_mean metrics': {'threshold': 0.001419748544695224, 'accuracy': 0.5107084019769358, 'f1': 0.43856332703213613, 'recall': 0.44106463878326996, 'specificity': 0.563953488372093, 'g_mean': 0.49873834987837284}, 'max f1 metrics': {'threshold': 0.00011974854469522362, 'accuracy': 0.5074135090609555, 'f1': 0.4411214953271028, 'recall': 0.44866920152091255, 'specificity': 0.5523255813953488, 'g_mean': 0.4978066668740234}, 'default_accuracy': 0.5667215815485996, 'default_f1': 0.0, 'default_recall': 0.0, 'default_specificity': 1.0, 'default_g_mean': 0.0}\n",
            "\n",
            "=============== EPOCH 4 / 6 ===============\n",
            "\n",
            "___ batch index = 0 / 1836 (0.00%), loss = 0.6501, time = 0.03 secondes ___\n"
          ],
          "name": "stdout"
        },
        {
          "output_type": "stream",
          "text": [
            "___ batch index = 250 / 1836 (13.62%), loss = 0.7049, time = 12.75 secondes ___\n"
          ],
          "name": "stdout"
        },
        {
          "output_type": "stream",
          "text": [
            "___ batch index = 500 / 1836 (27.23%), loss = 0.6949, time = 12.31 secondes ___\n"
          ],
          "name": "stdout"
        },
        {
          "output_type": "stream",
          "text": [
            "___ batch index = 750 / 1836 (40.85%), loss = 0.6831, time = 11.38 secondes ___\n"
          ],
          "name": "stdout"
        },
        {
          "output_type": "stream",
          "text": [
            "___ batch index = 1000 / 1836 (54.47%), loss = 0.6932, time = 13.08 secondes ___\n"
          ],
          "name": "stdout"
        },
        {
          "output_type": "stream",
          "text": [
            "___ batch index = 1250 / 1836 (68.08%), loss = 0.7058, time = 11.79 secondes ___\n"
          ],
          "name": "stdout"
        },
        {
          "output_type": "stream",
          "text": [
            "___ batch index = 1500 / 1836 (81.70%), loss = 0.7093, time = 11.92 secondes ___\n"
          ],
          "name": "stdout"
        },
        {
          "output_type": "stream",
          "text": [
            "___ batch index = 1750 / 1836 (95.32%), loss = 0.6884, time = 13.04 secondes ___\n"
          ],
          "name": "stdout"
        },
        {
          "output_type": "stream",
          "text": [
            "\n",
            "*** avg_loss : 0.69, time : ~1.0 min (91.28 sec) ***\n",
            "\n"
          ],
          "name": "stdout"
        },
        {
          "output_type": "stream",
          "text": [
            "==> evaluation : avg_loss = 0.69, time : 29.29 sec\n",
            "\n"
          ],
          "name": "stdout"
        },
        {
          "output_type": "stream",
          "text": [
            "threshold (g-mean):  0.0002581681489965078\n"
          ],
          "name": "stdout"
        },
        {
          "output_type": "stream",
          "text": [
            "threshold (f1):  0.0002581681489965078\n",
            "=====>\t{'Positive Rate': 0.4332784184514003, 'max g_mean metrics': {'threshold': 0.0002581681489965078, 'accuracy': 0.5107084019769358, 'f1': 0.43856332703213613, 'recall': 0.44106463878326996, 'specificity': 0.563953488372093, 'g_mean': 0.49873834987837284}, 'max f1 metrics': {'threshold': 0.0002581681489965078, 'accuracy': 0.5107084019769358, 'f1': 0.43856332703213613, 'recall': 0.44106463878326996, 'specificity': 0.563953488372093, 'g_mean': 0.49873834987837284}, 'default_accuracy': 0.5667215815485996, 'default_f1': 0.0, 'default_recall': 0.0, 'default_specificity': 1.0, 'default_g_mean': 0.0}\n",
            "\n",
            "=============== EPOCH 5 / 6 ===============\n",
            "\n",
            "___ batch index = 0 / 1836 (0.00%), loss = 0.6523, time = 0.03 secondes ___\n"
          ],
          "name": "stdout"
        },
        {
          "output_type": "stream",
          "text": [
            "___ batch index = 250 / 1836 (13.62%), loss = 0.7094, time = 12.74 secondes ___\n"
          ],
          "name": "stdout"
        },
        {
          "output_type": "stream",
          "text": [
            "___ batch index = 500 / 1836 (27.23%), loss = 0.6919, time = 12.31 secondes ___\n"
          ],
          "name": "stdout"
        },
        {
          "output_type": "stream",
          "text": [
            "___ batch index = 750 / 1836 (40.85%), loss = 0.6837, time = 11.38 secondes ___\n"
          ],
          "name": "stdout"
        },
        {
          "output_type": "stream",
          "text": [
            "___ batch index = 1000 / 1836 (54.47%), loss = 0.6946, time = 13.08 secondes ___\n"
          ],
          "name": "stdout"
        },
        {
          "output_type": "stream",
          "text": [
            "___ batch index = 1250 / 1836 (68.08%), loss = 0.7049, time = 11.79 secondes ___\n"
          ],
          "name": "stdout"
        },
        {
          "output_type": "stream",
          "text": [
            "___ batch index = 1500 / 1836 (81.70%), loss = 0.7102, time = 11.92 secondes ___\n"
          ],
          "name": "stdout"
        },
        {
          "output_type": "stream",
          "text": [
            "___ batch index = 1750 / 1836 (95.32%), loss = 0.6880, time = 13.03 secondes ___\n"
          ],
          "name": "stdout"
        },
        {
          "output_type": "stream",
          "text": [
            "\n",
            "*** avg_loss : 0.69, time : ~1.0 min (91.24 sec) ***\n",
            "\n"
          ],
          "name": "stdout"
        },
        {
          "output_type": "stream",
          "text": [
            "==> evaluation : avg_loss = 0.69, time : 29.31 sec\n",
            "\n"
          ],
          "name": "stdout"
        },
        {
          "output_type": "stream",
          "text": [
            "threshold (g-mean):  0.00024093360901070014\n"
          ],
          "name": "stdout"
        },
        {
          "output_type": "stream",
          "text": [
            "threshold (f1):  0.00024093360901070014\n",
            "=====>\t{'Positive Rate': 0.4332784184514003, 'max g_mean metrics': {'threshold': 0.00024093360901070014, 'accuracy': 0.5090609555189456, 'f1': 0.4291187739463601, 'recall': 0.42585551330798477, 'specificity': 0.5726744186046512, 'g_mean': 0.49383859558891857}, 'max f1 metrics': {'threshold': 0.00024093360901070014, 'accuracy': 0.5090609555189456, 'f1': 0.4291187739463601, 'recall': 0.42585551330798477, 'specificity': 0.5726744186046512, 'g_mean': 0.49383859558891857}, 'default_accuracy': 0.5667215815485996, 'default_f1': 0.0, 'default_recall': 0.0, 'default_specificity': 1.0, 'default_g_mean': 0.0}\n",
            "\n",
            "=============== EPOCH 6 / 6 ===============\n",
            "\n",
            "___ batch index = 0 / 1836 (0.00%), loss = 0.6455, time = 0.03 secondes ___\n"
          ],
          "name": "stdout"
        },
        {
          "output_type": "stream",
          "text": [
            "___ batch index = 250 / 1836 (13.62%), loss = 0.7085, time = 12.76 secondes ___\n"
          ],
          "name": "stdout"
        },
        {
          "output_type": "stream",
          "text": [
            "___ batch index = 500 / 1836 (27.23%), loss = 0.7021, time = 12.31 secondes ___\n"
          ],
          "name": "stdout"
        },
        {
          "output_type": "stream",
          "text": [
            "___ batch index = 750 / 1836 (40.85%), loss = 0.6755, time = 11.38 secondes ___\n"
          ],
          "name": "stdout"
        },
        {
          "output_type": "stream",
          "text": [
            "___ batch index = 1000 / 1836 (54.47%), loss = 0.6891, time = 13.08 secondes ___\n"
          ],
          "name": "stdout"
        },
        {
          "output_type": "stream",
          "text": [
            "___ batch index = 1250 / 1836 (68.08%), loss = 0.7065, time = 11.78 secondes ___\n"
          ],
          "name": "stdout"
        },
        {
          "output_type": "stream",
          "text": [
            "___ batch index = 1500 / 1836 (81.70%), loss = 0.7104, time = 11.92 secondes ___\n"
          ],
          "name": "stdout"
        },
        {
          "output_type": "stream",
          "text": [
            "___ batch index = 1750 / 1836 (95.32%), loss = 0.6897, time = 13.15 secondes ___\n"
          ],
          "name": "stdout"
        },
        {
          "output_type": "stream",
          "text": [
            "\n",
            "*** avg_loss : 0.69, time : ~1.0 min (91.43 sec) ***\n",
            "\n"
          ],
          "name": "stdout"
        },
        {
          "output_type": "stream",
          "text": [
            "==> evaluation : avg_loss = 0.69, time : 29.59 sec\n",
            "\n"
          ],
          "name": "stdout"
        },
        {
          "output_type": "stream",
          "text": [
            "threshold (g-mean):  0.0006374992370623148\n"
          ],
          "name": "stdout"
        },
        {
          "output_type": "stream",
          "text": [
            "threshold (f1):  3.749923706231478e-05\n",
            "=====>\t{'Positive Rate': 0.4332784184514003, 'max g_mean metrics': {'threshold': 0.0006374992370623148, 'accuracy': 0.515650741350906, 'f1': 0.4166666666666667, 'recall': 0.39923954372623577, 'specificity': 0.6046511627906976, 'g_mean': 0.4913254057608827}, 'max f1 metrics': {'threshold': 3.749923706231478e-05, 'accuracy': 0.5123558484349259, 'f1': 0.41960784313725485, 'recall': 0.4068441064638783, 'specificity': 0.5930232558139535, 'g_mean': 0.491190407707569}, 'default_accuracy': 0.5667215815485996, 'default_f1': 0.0, 'default_recall': 0.0, 'default_specificity': 1.0, 'default_g_mean': 0.0}\n",
            "@@@@@@@@@@@@@@@@@@@@@@@@@@@@@@@@@@@@@@@@@@@@@ END @@@@@@@@@@@@@@@@@@@@@@@@@@@@@@@@@@@@@@@@@@@@@@@\n"
          ],
          "name": "stdout"
        },
        {
          "output_type": "stream",
          "text": [
            "xxxxxxxxxxxxxxxxxxxxxxxxxxxxxxxxxxxx END Para label:  Apoyo Interdisciplinario  (11) xxxxxxxxxxxxxxxxxxxxxxxxx\n",
            "#################################################### Para label:  Adecuación curricular de acceso  (12) ##############\n",
            "--------------------------------------lr: 1e-07-----------------------------\n",
            "+++++++++++++++++++++++++++++++++++++++++++++++++++ n layers: 1 ++++++++++++++++++++++++++++++++++++++++++++++++\n",
            "/////////////////////////////////////////// GA: 16 ///////////////////////////////////////////////////////\n"
          ],
          "name": "stdout"
        },
        {
          "output_type": "stream",
          "text": [
            "\n",
            "=============== EPOCH 1 / 6 ===============\n",
            "\n",
            "___ batch index = 0 / 1836 (0.00%), loss = 0.6463, time = 0.03 secondes ___\n"
          ],
          "name": "stdout"
        },
        {
          "output_type": "stream",
          "text": [
            "___ batch index = 250 / 1836 (13.62%), loss = 0.6949, time = 12.92 secondes ___\n"
          ],
          "name": "stdout"
        },
        {
          "output_type": "stream",
          "text": [
            "___ batch index = 500 / 1836 (27.23%), loss = 0.7083, time = 12.44 secondes ___\n"
          ],
          "name": "stdout"
        },
        {
          "output_type": "stream",
          "text": [
            "___ batch index = 750 / 1836 (40.85%), loss = 0.7143, time = 11.52 secondes ___\n"
          ],
          "name": "stdout"
        },
        {
          "output_type": "stream",
          "text": [
            "___ batch index = 1000 / 1836 (54.47%), loss = 0.6655, time = 13.21 secondes ___\n"
          ],
          "name": "stdout"
        },
        {
          "output_type": "stream",
          "text": [
            "___ batch index = 1250 / 1836 (68.08%), loss = 0.7388, time = 11.92 secondes ___\n"
          ],
          "name": "stdout"
        },
        {
          "output_type": "stream",
          "text": [
            "___ batch index = 1500 / 1836 (81.70%), loss = 0.7142, time = 12.04 secondes ___\n"
          ],
          "name": "stdout"
        },
        {
          "output_type": "stream",
          "text": [
            "___ batch index = 1750 / 1836 (95.32%), loss = 0.6990, time = 13.15 secondes ___\n"
          ],
          "name": "stdout"
        },
        {
          "output_type": "stream",
          "text": [
            "\n",
            "*** avg_loss : 0.71, time : ~1.0 min (92.24 sec) ***\n",
            "\n"
          ],
          "name": "stdout"
        },
        {
          "output_type": "stream",
          "text": [
            "==> evaluation : avg_loss = 0.69, time : 29.49 sec\n",
            "\n"
          ],
          "name": "stdout"
        },
        {
          "output_type": "stream",
          "text": [
            "threshold (g-mean):  0.0003465716600438523\n"
          ],
          "name": "stdout"
        },
        {
          "output_type": "stream",
          "text": [
            "threshold (f1):  0.0003465716600438523\n",
            "=====>\t{'Positive Rate': 0.4332784184514003, 'max g_mean metrics': {'threshold': 0.0003465716600438523, 'accuracy': 0.4975288303130148, 'f1': 0.11594202898550725, 'recall': 0.07604562737642585, 'specificity': 0.8197674418604651, 'g_mean': 0.24967925308092134}, 'max f1 metrics': {'threshold': 0.0003465716600438523, 'accuracy': 0.4975288303130148, 'f1': 0.11594202898550725, 'recall': 0.07604562737642585, 'specificity': 0.8197674418604651, 'g_mean': 0.24967925308092134}, 'default_accuracy': 0.5667215815485996, 'default_f1': 0.0, 'default_recall': 0.0, 'default_specificity': 1.0, 'default_g_mean': 0.0}\n",
            "\n",
            "=============== EPOCH 2 / 6 ===============\n",
            "\n",
            "___ batch index = 0 / 1836 (0.00%), loss = 0.6402, time = 0.03 secondes ___\n"
          ],
          "name": "stdout"
        },
        {
          "output_type": "stream",
          "text": [
            "___ batch index = 250 / 1836 (13.62%), loss = 0.7054, time = 12.77 secondes ___\n"
          ],
          "name": "stdout"
        },
        {
          "output_type": "stream",
          "text": [
            "___ batch index = 500 / 1836 (27.23%), loss = 0.7014, time = 12.32 secondes ___\n"
          ],
          "name": "stdout"
        },
        {
          "output_type": "stream",
          "text": [
            "___ batch index = 750 / 1836 (40.85%), loss = 0.7186, time = 11.39 secondes ___\n"
          ],
          "name": "stdout"
        },
        {
          "output_type": "stream",
          "text": [
            "___ batch index = 1000 / 1836 (54.47%), loss = 0.6601, time = 13.08 secondes ___\n"
          ],
          "name": "stdout"
        },
        {
          "output_type": "stream",
          "text": [
            "___ batch index = 1250 / 1836 (68.08%), loss = 0.7330, time = 11.79 secondes ___\n"
          ],
          "name": "stdout"
        },
        {
          "output_type": "stream",
          "text": [
            "___ batch index = 1500 / 1836 (81.70%), loss = 0.7097, time = 11.91 secondes ___\n"
          ],
          "name": "stdout"
        },
        {
          "output_type": "stream",
          "text": [
            "___ batch index = 1750 / 1836 (95.32%), loss = 0.7030, time = 13.02 secondes ___\n"
          ],
          "name": "stdout"
        },
        {
          "output_type": "stream",
          "text": [
            "\n",
            "*** avg_loss : 0.71, time : ~1.0 min (91.28 sec) ***\n",
            "\n"
          ],
          "name": "stdout"
        },
        {
          "output_type": "stream",
          "text": [
            "==> evaluation : avg_loss = 0.69, time : 29.37 sec\n",
            "\n"
          ],
          "name": "stdout"
        },
        {
          "output_type": "stream",
          "text": [
            "threshold (g-mean):  0.0020099205493949745\n"
          ],
          "name": "stdout"
        },
        {
          "output_type": "stream",
          "text": [
            "threshold (f1):  0.0020099205493949745\n",
            "=====>\t{'Positive Rate': 0.4332784184514003, 'max g_mean metrics': {'threshold': 0.0020099205493949745, 'accuracy': 0.4942339373970346, 'f1': 0.12535612535612534, 'recall': 0.08365019011406843, 'specificity': 0.8081395348837209, 'g_mean': 0.2600019725535137}, 'max f1 metrics': {'threshold': 0.0020099205493949745, 'accuracy': 0.4942339373970346, 'f1': 0.12535612535612534, 'recall': 0.08365019011406843, 'specificity': 0.8081395348837209, 'g_mean': 0.2600019725535137}, 'default_accuracy': 0.5667215815485996, 'default_f1': 0.0, 'default_recall': 0.0, 'default_specificity': 1.0, 'default_g_mean': 0.0}\n",
            "\n",
            "=============== EPOCH 3 / 6 ===============\n",
            "\n",
            "___ batch index = 0 / 1836 (0.00%), loss = 0.6567, time = 0.03 secondes ___\n"
          ],
          "name": "stdout"
        },
        {
          "output_type": "stream",
          "text": [
            "___ batch index = 250 / 1836 (13.62%), loss = 0.7033, time = 12.76 secondes ___\n"
          ],
          "name": "stdout"
        },
        {
          "output_type": "stream",
          "text": [
            "___ batch index = 500 / 1836 (27.23%), loss = 0.7078, time = 12.32 secondes ___\n"
          ],
          "name": "stdout"
        },
        {
          "output_type": "stream",
          "text": [
            "___ batch index = 750 / 1836 (40.85%), loss = 0.7152, time = 11.39 secondes ___\n"
          ],
          "name": "stdout"
        },
        {
          "output_type": "stream",
          "text": [
            "___ batch index = 1000 / 1836 (54.47%), loss = 0.6643, time = 13.08 secondes ___\n"
          ],
          "name": "stdout"
        },
        {
          "output_type": "stream",
          "text": [
            "___ batch index = 1250 / 1836 (68.08%), loss = 0.7271, time = 11.79 secondes ___\n"
          ],
          "name": "stdout"
        },
        {
          "output_type": "stream",
          "text": [
            "___ batch index = 1500 / 1836 (81.70%), loss = 0.7149, time = 11.90 secondes ___\n"
          ],
          "name": "stdout"
        },
        {
          "output_type": "stream",
          "text": [
            "___ batch index = 1750 / 1836 (95.32%), loss = 0.7013, time = 13.02 secondes ___\n"
          ],
          "name": "stdout"
        },
        {
          "output_type": "stream",
          "text": [
            "\n",
            "*** avg_loss : 0.71, time : ~1.0 min (91.27 sec) ***\n",
            "\n"
          ],
          "name": "stdout"
        },
        {
          "output_type": "stream",
          "text": [
            "==> evaluation : avg_loss = 0.69, time : 29.36 sec\n",
            "\n"
          ],
          "name": "stdout"
        },
        {
          "output_type": "stream",
          "text": [
            "threshold (g-mean):  0.000840620994570366\n"
          ],
          "name": "stdout"
        },
        {
          "output_type": "stream",
          "text": [
            "threshold (f1):  0.000840620994570366\n",
            "=====>\t{'Positive Rate': 0.4332784184514003, 'max g_mean metrics': {'threshold': 0.000840620994570366, 'accuracy': 0.49093904448105435, 'f1': 0.12957746478873242, 'recall': 0.08745247148288973, 'specificity': 0.7994186046511628, 'g_mean': 0.2644071344085619}, 'max f1 metrics': {'threshold': 0.000840620994570366, 'accuracy': 0.49093904448105435, 'f1': 0.12957746478873242, 'recall': 0.08745247148288973, 'specificity': 0.7994186046511628, 'g_mean': 0.2644071344085619}, 'default_accuracy': 0.5667215815485996, 'default_f1': 0.0, 'default_recall': 0.0, 'default_specificity': 1.0, 'default_g_mean': 0.0}\n",
            "\n",
            "=============== EPOCH 4 / 6 ===============\n",
            "\n",
            "___ batch index = 0 / 1836 (0.00%), loss = 0.6683, time = 0.03 secondes ___\n"
          ],
          "name": "stdout"
        },
        {
          "output_type": "stream",
          "text": [
            "___ batch index = 250 / 1836 (13.62%), loss = 0.6949, time = 12.77 secondes ___\n"
          ],
          "name": "stdout"
        },
        {
          "output_type": "stream",
          "text": [
            "___ batch index = 500 / 1836 (27.23%), loss = 0.7002, time = 12.32 secondes ___\n"
          ],
          "name": "stdout"
        },
        {
          "output_type": "stream",
          "text": [
            "___ batch index = 750 / 1836 (40.85%), loss = 0.7170, time = 11.39 secondes ___\n"
          ],
          "name": "stdout"
        },
        {
          "output_type": "stream",
          "text": [
            "___ batch index = 1000 / 1836 (54.47%), loss = 0.6647, time = 13.08 secondes ___\n"
          ],
          "name": "stdout"
        },
        {
          "output_type": "stream",
          "text": [
            "___ batch index = 1250 / 1836 (68.08%), loss = 0.7266, time = 11.78 secondes ___\n"
          ],
          "name": "stdout"
        },
        {
          "output_type": "stream",
          "text": [
            "___ batch index = 1500 / 1836 (81.70%), loss = 0.7077, time = 11.91 secondes ___\n"
          ],
          "name": "stdout"
        },
        {
          "output_type": "stream",
          "text": [
            "___ batch index = 1750 / 1836 (95.32%), loss = 0.7000, time = 13.02 secondes ___\n"
          ],
          "name": "stdout"
        },
        {
          "output_type": "stream",
          "text": [
            "\n",
            "*** avg_loss : 0.71, time : ~1.0 min (91.28 sec) ***\n",
            "\n"
          ],
          "name": "stdout"
        },
        {
          "output_type": "stream",
          "text": [
            "==> evaluation : avg_loss = 0.69, time : 29.36 sec\n",
            "\n"
          ],
          "name": "stdout"
        },
        {
          "output_type": "stream",
          "text": [
            "threshold (g-mean):  0.0017529632091549338\n"
          ],
          "name": "stdout"
        },
        {
          "output_type": "stream",
          "text": [
            "threshold (f1):  0.0017529632091549338\n",
            "=====>\t{'Positive Rate': 0.4332784184514003, 'max g_mean metrics': {'threshold': 0.0017529632091549338, 'accuracy': 0.48929159802306427, 'f1': 0.1340782122905028, 'recall': 0.09125475285171103, 'specificity': 0.7936046511627907, 'g_mean': 0.2691100078106141}, 'max f1 metrics': {'threshold': 0.0017529632091549338, 'accuracy': 0.48929159802306427, 'f1': 0.1340782122905028, 'recall': 0.09125475285171103, 'specificity': 0.7936046511627907, 'g_mean': 0.2691100078106141}, 'default_accuracy': 0.5667215815485996, 'default_f1': 0.0, 'default_recall': 0.0, 'default_specificity': 1.0, 'default_g_mean': 0.0}\n",
            "\n",
            "=============== EPOCH 5 / 6 ===============\n",
            "\n",
            "___ batch index = 0 / 1836 (0.00%), loss = 0.6441, time = 0.03 secondes ___\n"
          ],
          "name": "stdout"
        },
        {
          "output_type": "stream",
          "text": [
            "___ batch index = 250 / 1836 (13.62%), loss = 0.6978, time = 12.76 secondes ___\n"
          ],
          "name": "stdout"
        },
        {
          "output_type": "stream",
          "text": [
            "___ batch index = 500 / 1836 (27.23%), loss = 0.7076, time = 12.32 secondes ___\n"
          ],
          "name": "stdout"
        },
        {
          "output_type": "stream",
          "text": [
            "___ batch index = 750 / 1836 (40.85%), loss = 0.7100, time = 11.40 secondes ___\n"
          ],
          "name": "stdout"
        },
        {
          "output_type": "stream",
          "text": [
            "___ batch index = 1000 / 1836 (54.47%), loss = 0.6670, time = 13.11 secondes ___\n"
          ],
          "name": "stdout"
        },
        {
          "output_type": "stream",
          "text": [
            "___ batch index = 1250 / 1836 (68.08%), loss = 0.7305, time = 11.85 secondes ___\n"
          ],
          "name": "stdout"
        },
        {
          "output_type": "stream",
          "text": [
            "___ batch index = 1500 / 1836 (81.70%), loss = 0.7103, time = 11.97 secondes ___\n"
          ],
          "name": "stdout"
        },
        {
          "output_type": "stream",
          "text": [
            "___ batch index = 1750 / 1836 (95.32%), loss = 0.7047, time = 13.10 secondes ___\n"
          ],
          "name": "stdout"
        },
        {
          "output_type": "stream",
          "text": [
            "\n",
            "*** avg_loss : 0.71, time : ~1.0 min (91.53 sec) ***\n",
            "\n"
          ],
          "name": "stdout"
        },
        {
          "output_type": "stream",
          "text": [
            "==> evaluation : avg_loss = 0.69, time : 29.51 sec\n",
            "\n"
          ],
          "name": "stdout"
        },
        {
          "output_type": "stream",
          "text": [
            "threshold (g-mean):  0.0038494505882292513\n"
          ],
          "name": "stdout"
        },
        {
          "output_type": "stream",
          "text": [
            "threshold (f1):  0.0038494505882292513\n",
            "=====>\t{'Positive Rate': 0.4332784184514003, 'max g_mean metrics': {'threshold': 0.0038494505882292513, 'accuracy': 0.4876441515650741, 'f1': 0.13370473537604458, 'recall': 0.09125475285171103, 'specificity': 0.7906976744186046, 'g_mean': 0.26861668015872064}, 'max f1 metrics': {'threshold': 0.0038494505882292513, 'accuracy': 0.4876441515650741, 'f1': 0.13370473537604458, 'recall': 0.09125475285171103, 'specificity': 0.7906976744186046, 'g_mean': 0.26861668015872064}, 'default_accuracy': 0.5667215815485996, 'default_f1': 0.0, 'default_recall': 0.0, 'default_specificity': 1.0, 'default_g_mean': 0.0}\n",
            "\n",
            "=============== EPOCH 6 / 6 ===============\n",
            "\n",
            "___ batch index = 0 / 1836 (0.00%), loss = 0.6614, time = 0.03 secondes ___\n"
          ],
          "name": "stdout"
        },
        {
          "output_type": "stream",
          "text": [
            "___ batch index = 250 / 1836 (13.62%), loss = 0.6955, time = 12.84 secondes ___\n"
          ],
          "name": "stdout"
        },
        {
          "output_type": "stream",
          "text": [
            "___ batch index = 500 / 1836 (27.23%), loss = 0.7111, time = 12.39 secondes ___\n"
          ],
          "name": "stdout"
        },
        {
          "output_type": "stream",
          "text": [
            "___ batch index = 750 / 1836 (40.85%), loss = 0.7093, time = 11.47 secondes ___\n"
          ],
          "name": "stdout"
        },
        {
          "output_type": "stream",
          "text": [
            "___ batch index = 1000 / 1836 (54.47%), loss = 0.6627, time = 13.16 secondes ___\n"
          ],
          "name": "stdout"
        },
        {
          "output_type": "stream",
          "text": [
            "___ batch index = 1250 / 1836 (68.08%), loss = 0.7295, time = 11.86 secondes ___\n"
          ],
          "name": "stdout"
        },
        {
          "output_type": "stream",
          "text": [
            "___ batch index = 1500 / 1836 (81.70%), loss = 0.7063, time = 11.98 secondes ___\n"
          ],
          "name": "stdout"
        },
        {
          "output_type": "stream",
          "text": [
            "___ batch index = 1750 / 1836 (95.32%), loss = 0.6952, time = 13.09 secondes ___\n"
          ],
          "name": "stdout"
        },
        {
          "output_type": "stream",
          "text": [
            "\n",
            "*** avg_loss : 0.71, time : ~1.0 min (91.80 sec) ***\n",
            "\n"
          ],
          "name": "stdout"
        },
        {
          "output_type": "stream",
          "text": [
            "==> evaluation : avg_loss = 0.69, time : 29.54 sec\n",
            "\n"
          ],
          "name": "stdout"
        },
        {
          "output_type": "stream",
          "text": [
            "threshold (g-mean):  0.0013033653497727478\n"
          ],
          "name": "stdout"
        },
        {
          "output_type": "stream",
          "text": [
            "threshold (f1):  0.0013033653497727478\n",
            "=====>\t{'Positive Rate': 0.4332784184514003, 'max g_mean metrics': {'threshold': 0.0013033653497727478, 'accuracy': 0.4843492586490939, 'f1': 0.13774104683195593, 'recall': 0.09505703422053231, 'specificity': 0.7819767441860465, 'g_mean': 0.272639670869361}, 'max f1 metrics': {'threshold': 0.0013033653497727478, 'accuracy': 0.4843492586490939, 'f1': 0.13774104683195593, 'recall': 0.09505703422053231, 'specificity': 0.7819767441860465, 'g_mean': 0.272639670869361}, 'default_accuracy': 0.5667215815485996, 'default_f1': 0.0, 'default_recall': 0.0, 'default_specificity': 1.0, 'default_g_mean': 0.0}\n",
            "@@@@@@@@@@@@@@@@@@@@@@@@@@@@@@@@@@@@@@@@@@@@@ END @@@@@@@@@@@@@@@@@@@@@@@@@@@@@@@@@@@@@@@@@@@@@@@\n",
            "--------------------------------------lr: 1e-06-----------------------------\n",
            "+++++++++++++++++++++++++++++++++++++++++++++++++++ n layers: 1 ++++++++++++++++++++++++++++++++++++++++++++++++\n",
            "/////////////////////////////////////////// GA: 16 ///////////////////////////////////////////////////////\n",
            "\n",
            "=============== EPOCH 1 / 6 ===============\n",
            "\n",
            "___ batch index = 0 / 1836 (0.00%), loss = 0.6485, time = 0.03 secondes ___\n"
          ],
          "name": "stdout"
        },
        {
          "output_type": "stream",
          "text": [
            "___ batch index = 250 / 1836 (13.62%), loss = 0.7395, time = 12.87 secondes ___\n"
          ],
          "name": "stdout"
        },
        {
          "output_type": "stream",
          "text": [
            "___ batch index = 500 / 1836 (27.23%), loss = 0.7024, time = 12.40 secondes ___\n"
          ],
          "name": "stdout"
        },
        {
          "output_type": "stream",
          "text": [
            "___ batch index = 750 / 1836 (40.85%), loss = 0.7122, time = 11.47 secondes ___\n"
          ],
          "name": "stdout"
        },
        {
          "output_type": "stream",
          "text": [
            "___ batch index = 1000 / 1836 (54.47%), loss = 0.6700, time = 13.16 secondes ___\n"
          ],
          "name": "stdout"
        },
        {
          "output_type": "stream",
          "text": [
            "___ batch index = 1250 / 1836 (68.08%), loss = 0.7171, time = 11.86 secondes ___\n"
          ],
          "name": "stdout"
        },
        {
          "output_type": "stream",
          "text": [
            "___ batch index = 1500 / 1836 (81.70%), loss = 0.7037, time = 11.98 secondes ___\n"
          ],
          "name": "stdout"
        },
        {
          "output_type": "stream",
          "text": [
            "___ batch index = 1750 / 1836 (95.32%), loss = 0.6922, time = 13.09 secondes ___\n"
          ],
          "name": "stdout"
        },
        {
          "output_type": "stream",
          "text": [
            "\n",
            "*** avg_loss : 0.71, time : ~1.0 min (91.85 sec) ***\n",
            "\n"
          ],
          "name": "stdout"
        },
        {
          "output_type": "stream",
          "text": [
            "==> evaluation : avg_loss = 0.69, time : 29.54 sec\n",
            "\n"
          ],
          "name": "stdout"
        },
        {
          "output_type": "stream",
          "text": [
            "threshold (g-mean):  0.0029435824871042356\n"
          ],
          "name": "stdout"
        },
        {
          "output_type": "stream",
          "text": [
            "threshold (f1):  0.0029435824871042356\n",
            "=====>\t{'Positive Rate': 0.4332784184514003, 'max g_mean metrics': {'threshold': 0.0029435824871042356, 'accuracy': 0.5057660626029654, 'f1': 0.15730337078651688, 'recall': 0.10646387832699619, 'specificity': 0.811046511627907, 'g_mean': 0.29384886784108627}, 'max f1 metrics': {'threshold': 0.0029435824871042356, 'accuracy': 0.5057660626029654, 'f1': 0.15730337078651688, 'recall': 0.10646387832699619, 'specificity': 0.811046511627907, 'g_mean': 0.29384886784108627}, 'default_accuracy': 0.5667215815485996, 'default_f1': 0.0, 'default_recall': 0.0, 'default_specificity': 1.0, 'default_g_mean': 0.0}\n",
            "\n",
            "=============== EPOCH 2 / 6 ===============\n",
            "\n",
            "___ batch index = 0 / 1836 (0.00%), loss = 0.6393, time = 0.03 secondes ___\n"
          ],
          "name": "stdout"
        },
        {
          "output_type": "stream",
          "text": [
            "___ batch index = 250 / 1836 (13.62%), loss = 0.7215, time = 12.84 secondes ___\n"
          ],
          "name": "stdout"
        },
        {
          "output_type": "stream",
          "text": [
            "___ batch index = 500 / 1836 (27.23%), loss = 0.7052, time = 12.40 secondes ___\n"
          ],
          "name": "stdout"
        },
        {
          "output_type": "stream",
          "text": [
            "___ batch index = 750 / 1836 (40.85%), loss = 0.7015, time = 11.48 secondes ___\n"
          ],
          "name": "stdout"
        },
        {
          "output_type": "stream",
          "text": [
            "___ batch index = 1000 / 1836 (54.47%), loss = 0.6887, time = 13.17 secondes ___\n"
          ],
          "name": "stdout"
        },
        {
          "output_type": "stream",
          "text": [
            "___ batch index = 1250 / 1836 (68.08%), loss = 0.7018, time = 11.91 secondes ___\n"
          ],
          "name": "stdout"
        },
        {
          "output_type": "stream",
          "text": [
            "___ batch index = 1500 / 1836 (81.70%), loss = 0.6839, time = 12.02 secondes ___\n"
          ],
          "name": "stdout"
        },
        {
          "output_type": "stream",
          "text": [
            "___ batch index = 1750 / 1836 (95.32%), loss = 0.6932, time = 13.14 secondes ___\n"
          ],
          "name": "stdout"
        },
        {
          "output_type": "stream",
          "text": [
            "\n",
            "*** avg_loss : 0.70, time : ~1.0 min (91.99 sec) ***\n",
            "\n"
          ],
          "name": "stdout"
        },
        {
          "output_type": "stream",
          "text": [
            "==> evaluation : avg_loss = 0.70, time : 29.62 sec\n",
            "\n"
          ],
          "name": "stdout"
        },
        {
          "output_type": "stream",
          "text": [
            "threshold (g-mean):  0.00019366548061462507\n"
          ],
          "name": "stdout"
        },
        {
          "output_type": "stream",
          "text": [
            "threshold (f1):  0.00019366548061462507\n",
            "=====>\t{'Positive Rate': 0.4332784184514003, 'max g_mean metrics': {'threshold': 0.00019366548061462507, 'accuracy': 0.4728171334431631, 'f1': 0.38223938223938225, 'recall': 0.376425855513308, 'specificity': 0.5465116279069767, 'g_mean': 0.45356488740074924}, 'max f1 metrics': {'threshold': 0.00019366548061462507, 'accuracy': 0.4728171334431631, 'f1': 0.38223938223938225, 'recall': 0.376425855513308, 'specificity': 0.5465116279069767, 'g_mean': 0.45356488740074924}, 'default_accuracy': 0.5667215815485996, 'default_f1': 0.0, 'default_recall': 0.0, 'default_specificity': 1.0, 'default_g_mean': 0.0}\n",
            "\n",
            "=============== EPOCH 3 / 6 ===============\n",
            "\n",
            "___ batch index = 0 / 1836 (0.00%), loss = 0.6721, time = 0.03 secondes ___\n"
          ],
          "name": "stdout"
        },
        {
          "output_type": "stream",
          "text": [
            "___ batch index = 250 / 1836 (13.62%), loss = 0.6975, time = 12.90 secondes ___\n"
          ],
          "name": "stdout"
        },
        {
          "output_type": "stream",
          "text": [
            "___ batch index = 500 / 1836 (27.23%), loss = 0.6914, time = 12.45 secondes ___\n"
          ],
          "name": "stdout"
        },
        {
          "output_type": "stream",
          "text": [
            "___ batch index = 750 / 1836 (40.85%), loss = 0.6806, time = 11.51 secondes ___\n"
          ],
          "name": "stdout"
        },
        {
          "output_type": "stream",
          "text": [
            "___ batch index = 1000 / 1836 (54.47%), loss = 0.6942, time = 13.20 secondes ___\n"
          ],
          "name": "stdout"
        },
        {
          "output_type": "stream",
          "text": [
            "___ batch index = 1250 / 1836 (68.08%), loss = 0.6929, time = 11.89 secondes ___\n"
          ],
          "name": "stdout"
        },
        {
          "output_type": "stream",
          "text": [
            "___ batch index = 1500 / 1836 (81.70%), loss = 0.6832, time = 12.01 secondes ___\n"
          ],
          "name": "stdout"
        },
        {
          "output_type": "stream",
          "text": [
            "___ batch index = 1750 / 1836 (95.32%), loss = 0.6891, time = 13.14 secondes ___\n"
          ],
          "name": "stdout"
        },
        {
          "output_type": "stream",
          "text": [
            "\n",
            "*** avg_loss : 0.69, time : ~1.0 min (92.15 sec) ***\n",
            "\n"
          ],
          "name": "stdout"
        },
        {
          "output_type": "stream",
          "text": [
            "==> evaluation : avg_loss = 0.70, time : 29.64 sec\n",
            "\n"
          ],
          "name": "stdout"
        },
        {
          "output_type": "stream",
          "text": [
            "threshold (g-mean):  0.030524460959438185\n"
          ],
          "name": "stdout"
        },
        {
          "output_type": "stream",
          "text": [
            "threshold (f1):  0.024324460959438222\n",
            "=====>\t{'Positive Rate': 0.4332784184514003, 'max g_mean metrics': {'threshold': 0.030524460959438185, 'accuracy': 0.47611202635914335, 'f1': 0.43617021276595747, 'recall': 0.467680608365019, 'specificity': 0.48255813953488375, 'g_mean': 0.47506113740145717}, 'max f1 metrics': {'threshold': 0.024324460959438222, 'accuracy': 0.45799011532125206, 'f1': 0.45619834710743806, 'recall': 0.5247148288973384, 'specificity': 0.4069767441860465, 'g_mean': 0.46211116919068}, 'default_accuracy': 0.5667215815485996, 'default_f1': 0.0, 'default_recall': 0.0, 'default_specificity': 1.0, 'default_g_mean': 0.0}\n",
            "\n",
            "=============== EPOCH 4 / 6 ===============\n",
            "\n",
            "___ batch index = 0 / 1836 (0.00%), loss = 0.6841, time = 0.03 secondes ___\n"
          ],
          "name": "stdout"
        },
        {
          "output_type": "stream",
          "text": [
            "___ batch index = 250 / 1836 (13.62%), loss = 0.6835, time = 12.88 secondes ___\n"
          ],
          "name": "stdout"
        },
        {
          "output_type": "stream",
          "text": [
            "___ batch index = 500 / 1836 (27.23%), loss = 0.6933, time = 12.44 secondes ___\n"
          ],
          "name": "stdout"
        },
        {
          "output_type": "stream",
          "text": [
            "___ batch index = 750 / 1836 (40.85%), loss = 0.6760, time = 11.51 secondes ___\n"
          ],
          "name": "stdout"
        },
        {
          "output_type": "stream",
          "text": [
            "___ batch index = 1000 / 1836 (54.47%), loss = 0.7026, time = 13.19 secondes ___\n"
          ],
          "name": "stdout"
        },
        {
          "output_type": "stream",
          "text": [
            "___ batch index = 1250 / 1836 (68.08%), loss = 0.6836, time = 11.89 secondes ___\n"
          ],
          "name": "stdout"
        },
        {
          "output_type": "stream",
          "text": [
            "___ batch index = 1500 / 1836 (81.70%), loss = 0.6769, time = 12.01 secondes ___\n"
          ],
          "name": "stdout"
        },
        {
          "output_type": "stream",
          "text": [
            "___ batch index = 1750 / 1836 (95.32%), loss = 0.6849, time = 13.15 secondes ___\n"
          ],
          "name": "stdout"
        },
        {
          "output_type": "stream",
          "text": [
            "\n",
            "*** avg_loss : 0.68, time : ~1.0 min (92.12 sec) ***\n",
            "\n"
          ],
          "name": "stdout"
        },
        {
          "output_type": "stream",
          "text": [
            "==> evaluation : avg_loss = 0.70, time : 29.53 sec\n",
            "\n"
          ],
          "name": "stdout"
        },
        {
          "output_type": "stream",
          "text": [
            "threshold (g-mean):  0.07253464272023007\n"
          ],
          "name": "stdout"
        },
        {
          "output_type": "stream",
          "text": [
            "threshold (f1):  0.062034642720229766\n",
            "=====>\t{'Positive Rate': 0.4332784184514003, 'max g_mean metrics': {'threshold': 0.07253464272023007, 'accuracy': 0.4843492586490939, 'f1': 0.4214417744916821, 'recall': 0.43346007604562736, 'specificity': 0.5232558139534884, 'g_mean': 0.4762462649802051}, 'max f1 metrics': {'threshold': 0.062034642720229766, 'accuracy': 0.4596375617792422, 'f1': 0.45874587458745875, 'recall': 0.5285171102661597, 'specificity': 0.4069767441860465, 'g_mean': 0.463782462780493}, 'default_accuracy': 0.5667215815485996, 'default_f1': 0.0, 'default_recall': 0.0, 'default_specificity': 1.0, 'default_g_mean': 0.0}\n",
            "\n",
            "=============== EPOCH 5 / 6 ===============\n",
            "\n",
            "___ batch index = 0 / 1836 (0.00%), loss = 0.7124, time = 0.03 secondes ___\n"
          ],
          "name": "stdout"
        },
        {
          "output_type": "stream",
          "text": [
            "___ batch index = 250 / 1836 (13.62%), loss = 0.6643, time = 12.84 secondes ___\n"
          ],
          "name": "stdout"
        },
        {
          "output_type": "stream",
          "text": [
            "___ batch index = 500 / 1836 (27.23%), loss = 0.6823, time = 12.39 secondes ___\n"
          ],
          "name": "stdout"
        },
        {
          "output_type": "stream",
          "text": [
            "___ batch index = 750 / 1836 (40.85%), loss = 0.6673, time = 11.46 secondes ___\n"
          ],
          "name": "stdout"
        },
        {
          "output_type": "stream",
          "text": [
            "___ batch index = 1000 / 1836 (54.47%), loss = 0.7224, time = 13.14 secondes ___\n"
          ],
          "name": "stdout"
        },
        {
          "output_type": "stream",
          "text": [
            "___ batch index = 1250 / 1836 (68.08%), loss = 0.6716, time = 11.84 secondes ___\n"
          ],
          "name": "stdout"
        },
        {
          "output_type": "stream",
          "text": [
            "___ batch index = 1500 / 1836 (81.70%), loss = 0.6602, time = 11.98 secondes ___\n"
          ],
          "name": "stdout"
        },
        {
          "output_type": "stream",
          "text": [
            "___ batch index = 1750 / 1836 (95.32%), loss = 0.6822, time = 13.13 secondes ___\n"
          ],
          "name": "stdout"
        },
        {
          "output_type": "stream",
          "text": [
            "\n",
            "*** avg_loss : 0.67, time : ~1.0 min (91.84 sec) ***\n",
            "\n"
          ],
          "name": "stdout"
        },
        {
          "output_type": "stream",
          "text": [
            "==> evaluation : avg_loss = 0.70, time : 29.53 sec\n",
            "\n"
          ],
          "name": "stdout"
        },
        {
          "output_type": "stream",
          "text": [
            "threshold (g-mean):  0.1061600812435262\n"
          ],
          "name": "stdout"
        },
        {
          "output_type": "stream",
          "text": [
            "threshold (f1):  0.10016008124352603\n",
            "=====>\t{'Positive Rate': 0.4332784184514003, 'max g_mean metrics': {'threshold': 0.1061600812435262, 'accuracy': 0.4876441515650741, 'f1': 0.44955752212389377, 'recall': 0.4828897338403042, 'specificity': 0.49127906976744184, 'g_mean': 0.48706633967182766}, 'max f1 metrics': {'threshold': 0.10016008124352603, 'accuracy': 0.47611202635914335, 'f1': 0.46822742474916385, 'recall': 0.532319391634981, 'specificity': 0.4331395348837209, 'g_mean': 0.4801755654990797}, 'default_accuracy': 0.5667215815485996, 'default_f1': 0.0, 'default_recall': 0.0, 'default_specificity': 1.0, 'default_g_mean': 0.0}\n",
            "\n",
            "=============== EPOCH 6 / 6 ===============\n",
            "\n",
            "___ batch index = 0 / 1836 (0.00%), loss = 0.7273, time = 0.03 secondes ___\n"
          ],
          "name": "stdout"
        },
        {
          "output_type": "stream",
          "text": [
            "___ batch index = 250 / 1836 (13.62%), loss = 0.6483, time = 12.84 secondes ___\n"
          ],
          "name": "stdout"
        },
        {
          "output_type": "stream",
          "text": [
            "___ batch index = 500 / 1836 (27.23%), loss = 0.6783, time = 12.39 secondes ___\n"
          ],
          "name": "stdout"
        },
        {
          "output_type": "stream",
          "text": [
            "___ batch index = 750 / 1836 (40.85%), loss = 0.6623, time = 11.46 secondes ___\n"
          ],
          "name": "stdout"
        },
        {
          "output_type": "stream",
          "text": [
            "___ batch index = 1000 / 1836 (54.47%), loss = 0.7278, time = 13.13 secondes ___\n"
          ],
          "name": "stdout"
        },
        {
          "output_type": "stream",
          "text": [
            "___ batch index = 1250 / 1836 (68.08%), loss = 0.6614, time = 11.83 secondes ___\n"
          ],
          "name": "stdout"
        },
        {
          "output_type": "stream",
          "text": [
            "___ batch index = 1500 / 1836 (81.70%), loss = 0.6466, time = 11.99 secondes ___\n"
          ],
          "name": "stdout"
        },
        {
          "output_type": "stream",
          "text": [
            "___ batch index = 1750 / 1836 (95.32%), loss = 0.6835, time = 13.09 secondes ___\n"
          ],
          "name": "stdout"
        },
        {
          "output_type": "stream",
          "text": [
            "\n",
            "*** avg_loss : 0.67, time : ~1.0 min (91.75 sec) ***\n",
            "\n"
          ],
          "name": "stdout"
        },
        {
          "output_type": "stream",
          "text": [
            "==> evaluation : avg_loss = 0.71, time : 29.42 sec\n",
            "\n"
          ],
          "name": "stdout"
        },
        {
          "output_type": "stream",
          "text": [
            "threshold (g-mean):  0.1413767036438125\n"
          ],
          "name": "stdout"
        },
        {
          "output_type": "stream",
          "text": [
            "threshold (f1):  0.13517670364381318\n",
            "=====>\t{'Positive Rate': 0.4332784184514003, 'max g_mean metrics': {'threshold': 0.1413767036438125, 'accuracy': 0.4942339373970346, 'f1': 0.46045694200351495, 'recall': 0.49809885931558934, 'specificity': 0.49127906976744184, 'g_mean': 0.494677212186681}, 'max f1 metrics': {'threshold': 0.13517670364381318, 'accuracy': 0.4728171334431631, 'f1': 0.471947194719472, 'recall': 0.5437262357414449, 'specificity': 0.4186046511627907, 'g_mean': 0.47708105311425314}, 'default_accuracy': 0.5667215815485996, 'default_f1': 0.0, 'default_recall': 0.0, 'default_specificity': 1.0, 'default_g_mean': 0.0}\n",
            "@@@@@@@@@@@@@@@@@@@@@@@@@@@@@@@@@@@@@@@@@@@@@ END @@@@@@@@@@@@@@@@@@@@@@@@@@@@@@@@@@@@@@@@@@@@@@@\n"
          ],
          "name": "stdout"
        },
        {
          "output_type": "stream",
          "text": [
            "xxxxxxxxxxxxxxxxxxxxxxxxxxxxxxxxxxxx END Para label:  Adecuación curricular de acceso  (12) xxxxxxxxxxxxxxxxxxxxxxxxx\n",
            "#################################################### Para label:  Adecuación curricular de objetivos  (13) ##############\n",
            "--------------------------------------lr: 1e-07-----------------------------\n",
            "+++++++++++++++++++++++++++++++++++++++++++++++++++ n layers: 1 ++++++++++++++++++++++++++++++++++++++++++++++++\n",
            "/////////////////////////////////////////// GA: 16 ///////////////////////////////////////////////////////\n"
          ],
          "name": "stdout"
        },
        {
          "output_type": "stream",
          "text": [
            "\n",
            "=============== EPOCH 1 / 6 ===============\n",
            "\n",
            "___ batch index = 0 / 1836 (0.00%), loss = 0.6402, time = 0.03 secondes ___\n"
          ],
          "name": "stdout"
        },
        {
          "output_type": "stream",
          "text": [
            "___ batch index = 250 / 1836 (13.62%), loss = 0.7586, time = 12.77 secondes ___\n"
          ],
          "name": "stdout"
        },
        {
          "output_type": "stream",
          "text": [
            "___ batch index = 500 / 1836 (27.23%), loss = 0.6377, time = 12.30 secondes ___\n"
          ],
          "name": "stdout"
        },
        {
          "output_type": "stream",
          "text": [
            "___ batch index = 750 / 1836 (40.85%), loss = 0.6461, time = 11.36 secondes ___\n"
          ],
          "name": "stdout"
        },
        {
          "output_type": "stream",
          "text": [
            "___ batch index = 1000 / 1836 (54.47%), loss = 0.6210, time = 13.04 secondes ___\n"
          ],
          "name": "stdout"
        },
        {
          "output_type": "stream",
          "text": [
            "___ batch index = 1250 / 1836 (68.08%), loss = 0.6453, time = 11.78 secondes ___\n"
          ],
          "name": "stdout"
        },
        {
          "output_type": "stream",
          "text": [
            "___ batch index = 1500 / 1836 (81.70%), loss = 0.6446, time = 11.93 secondes ___\n"
          ],
          "name": "stdout"
        },
        {
          "output_type": "stream",
          "text": [
            "___ batch index = 1750 / 1836 (95.32%), loss = 0.6524, time = 13.05 secondes ___\n"
          ],
          "name": "stdout"
        },
        {
          "output_type": "stream",
          "text": [
            "\n",
            "*** avg_loss : 0.66, time : ~1.0 min (91.25 sec) ***\n",
            "\n"
          ],
          "name": "stdout"
        },
        {
          "output_type": "stream",
          "text": [
            "==> evaluation : avg_loss = 0.69, time : 29.35 sec\n",
            "\n"
          ],
          "name": "stdout"
        },
        {
          "output_type": "stream",
          "text": [
            "threshold (g-mean):  0.0031226409554473674\n"
          ],
          "name": "stdout"
        },
        {
          "output_type": "stream",
          "text": [
            "threshold (f1):  0.0031226409554473674\n",
            "=====>\t{'Positive Rate': 0.4332784184514003, 'max g_mean metrics': {'threshold': 0.0031226409554473674, 'accuracy': 0.5782537067545305, 'f1': 0.14093959731543626, 'recall': 0.07984790874524715, 'specificity': 0.9593023255813954, 'g_mean': 0.2767639509620547}, 'max f1 metrics': {'threshold': 0.0031226409554473674, 'accuracy': 0.5782537067545305, 'f1': 0.14093959731543626, 'recall': 0.07984790874524715, 'specificity': 0.9593023255813954, 'g_mean': 0.2767639509620547}, 'default_accuracy': 0.5667215815485996, 'default_f1': 0.0, 'default_recall': 0.0, 'default_specificity': 1.0, 'default_g_mean': 0.0}\n",
            "\n",
            "=============== EPOCH 2 / 6 ===============\n",
            "\n",
            "___ batch index = 0 / 1836 (0.00%), loss = 0.6174, time = 0.03 secondes ___\n"
          ],
          "name": "stdout"
        },
        {
          "output_type": "stream",
          "text": [
            "___ batch index = 250 / 1836 (13.62%), loss = 0.7631, time = 12.75 secondes ___\n"
          ],
          "name": "stdout"
        },
        {
          "output_type": "stream",
          "text": [
            "___ batch index = 500 / 1836 (27.23%), loss = 0.6325, time = 12.31 secondes ___\n"
          ],
          "name": "stdout"
        },
        {
          "output_type": "stream",
          "text": [
            "___ batch index = 750 / 1836 (40.85%), loss = 0.6438, time = 11.36 secondes ___\n"
          ],
          "name": "stdout"
        },
        {
          "output_type": "stream",
          "text": [
            "___ batch index = 1000 / 1836 (54.47%), loss = 0.6215, time = 13.04 secondes ___\n"
          ],
          "name": "stdout"
        },
        {
          "output_type": "stream",
          "text": [
            "___ batch index = 1250 / 1836 (68.08%), loss = 0.6439, time = 11.75 secondes ___\n"
          ],
          "name": "stdout"
        },
        {
          "output_type": "stream",
          "text": [
            "___ batch index = 1500 / 1836 (81.70%), loss = 0.6332, time = 11.91 secondes ___\n"
          ],
          "name": "stdout"
        },
        {
          "output_type": "stream",
          "text": [
            "___ batch index = 1750 / 1836 (95.32%), loss = 0.6480, time = 13.05 secondes ___\n"
          ],
          "name": "stdout"
        },
        {
          "output_type": "stream",
          "text": [
            "\n",
            "*** avg_loss : 0.65, time : ~1.0 min (91.18 sec) ***\n",
            "\n"
          ],
          "name": "stdout"
        },
        {
          "output_type": "stream",
          "text": [
            "==> evaluation : avg_loss = 0.69, time : 29.41 sec\n",
            "\n"
          ],
          "name": "stdout"
        },
        {
          "output_type": "stream",
          "text": [
            "threshold (g-mean):  8.329106569218794e-05\n"
          ],
          "name": "stdout"
        },
        {
          "output_type": "stream",
          "text": [
            "threshold (f1):  8.329106569218794e-05\n",
            "=====>\t{'Positive Rate': 0.4332784184514003, 'max g_mean metrics': {'threshold': 8.329106569218794e-05, 'accuracy': 0.5766062602965404, 'f1': 0.13468013468013468, 'recall': 0.07604562737642585, 'specificity': 0.9593023255813954, 'g_mean': 0.27009395993339347}, 'max f1 metrics': {'threshold': 8.329106569218794e-05, 'accuracy': 0.5766062602965404, 'f1': 0.13468013468013468, 'recall': 0.07604562737642585, 'specificity': 0.9593023255813954, 'g_mean': 0.27009395993339347}, 'default_accuracy': 0.5667215815485996, 'default_f1': 0.0, 'default_recall': 0.0, 'default_specificity': 1.0, 'default_g_mean': 0.0}\n",
            "\n",
            "=============== EPOCH 3 / 6 ===============\n",
            "\n",
            "___ batch index = 0 / 1836 (0.00%), loss = 0.6314, time = 0.03 secondes ___\n"
          ],
          "name": "stdout"
        },
        {
          "output_type": "stream",
          "text": [
            "___ batch index = 250 / 1836 (13.62%), loss = 0.7726, time = 12.77 secondes ___\n"
          ],
          "name": "stdout"
        },
        {
          "output_type": "stream",
          "text": [
            "___ batch index = 500 / 1836 (27.23%), loss = 0.6363, time = 12.32 secondes ___\n"
          ],
          "name": "stdout"
        },
        {
          "output_type": "stream",
          "text": [
            "___ batch index = 750 / 1836 (40.85%), loss = 0.6400, time = 11.37 secondes ___\n"
          ],
          "name": "stdout"
        },
        {
          "output_type": "stream",
          "text": [
            "___ batch index = 1000 / 1836 (54.47%), loss = 0.6191, time = 13.04 secondes ___\n"
          ],
          "name": "stdout"
        },
        {
          "output_type": "stream",
          "text": [
            "___ batch index = 1250 / 1836 (68.08%), loss = 0.6371, time = 11.76 secondes ___\n"
          ],
          "name": "stdout"
        },
        {
          "output_type": "stream",
          "text": [
            "___ batch index = 1500 / 1836 (81.70%), loss = 0.6429, time = 11.89 secondes ___\n"
          ],
          "name": "stdout"
        },
        {
          "output_type": "stream",
          "text": [
            "___ batch index = 1750 / 1836 (95.32%), loss = 0.6476, time = 13.06 secondes ___\n"
          ],
          "name": "stdout"
        },
        {
          "output_type": "stream",
          "text": [
            "\n",
            "*** avg_loss : 0.65, time : ~1.0 min (91.24 sec) ***\n",
            "\n"
          ],
          "name": "stdout"
        },
        {
          "output_type": "stream",
          "text": [
            "==> evaluation : avg_loss = 0.69, time : 29.39 sec\n",
            "\n"
          ],
          "name": "stdout"
        },
        {
          "output_type": "stream",
          "text": [
            "threshold (g-mean):  0.0017627203643315547\n"
          ],
          "name": "stdout"
        },
        {
          "output_type": "stream",
          "text": [
            "threshold (f1):  0.0017627203643315547\n",
            "=====>\t{'Positive Rate': 0.4332784184514003, 'max g_mean metrics': {'threshold': 0.0017627203643315547, 'accuracy': 0.5782537067545305, 'f1': 0.11724137931034481, 'recall': 0.06463878326996197, 'specificity': 0.9709302325581395, 'g_mean': 0.25051895910804706}, 'max f1 metrics': {'threshold': 0.0017627203643315547, 'accuracy': 0.5782537067545305, 'f1': 0.11724137931034481, 'recall': 0.06463878326996197, 'specificity': 0.9709302325581395, 'g_mean': 0.25051895910804706}, 'default_accuracy': 0.5667215815485996, 'default_f1': 0.0, 'default_recall': 0.0, 'default_specificity': 1.0, 'default_g_mean': 0.0}\n",
            "\n",
            "=============== EPOCH 4 / 6 ===============\n",
            "\n",
            "___ batch index = 0 / 1836 (0.00%), loss = 0.6386, time = 0.03 secondes ___\n"
          ],
          "name": "stdout"
        },
        {
          "output_type": "stream",
          "text": [
            "___ batch index = 250 / 1836 (13.62%), loss = 0.7701, time = 12.77 secondes ___\n"
          ],
          "name": "stdout"
        },
        {
          "output_type": "stream",
          "text": [
            "___ batch index = 500 / 1836 (27.23%), loss = 0.6283, time = 12.31 secondes ___\n"
          ],
          "name": "stdout"
        },
        {
          "output_type": "stream",
          "text": [
            "___ batch index = 750 / 1836 (40.85%), loss = 0.6442, time = 11.38 secondes ___\n"
          ],
          "name": "stdout"
        },
        {
          "output_type": "stream",
          "text": [
            "___ batch index = 1000 / 1836 (54.47%), loss = 0.6130, time = 13.05 secondes ___\n"
          ],
          "name": "stdout"
        },
        {
          "output_type": "stream",
          "text": [
            "___ batch index = 1250 / 1836 (68.08%), loss = 0.6354, time = 11.76 secondes ___\n"
          ],
          "name": "stdout"
        },
        {
          "output_type": "stream",
          "text": [
            "___ batch index = 1500 / 1836 (81.70%), loss = 0.6327, time = 11.88 secondes ___\n"
          ],
          "name": "stdout"
        },
        {
          "output_type": "stream",
          "text": [
            "___ batch index = 1750 / 1836 (95.32%), loss = 0.6403, time = 13.06 secondes ___\n"
          ],
          "name": "stdout"
        },
        {
          "output_type": "stream",
          "text": [
            "\n",
            "*** avg_loss : 0.65, time : ~1.0 min (91.22 sec) ***\n",
            "\n"
          ],
          "name": "stdout"
        },
        {
          "output_type": "stream",
          "text": [
            "==> evaluation : avg_loss = 0.69, time : 29.39 sec\n",
            "\n"
          ],
          "name": "stdout"
        },
        {
          "output_type": "stream",
          "text": [
            "threshold (g-mean):  0.0014062470078462564\n"
          ],
          "name": "stdout"
        },
        {
          "output_type": "stream",
          "text": [
            "threshold (f1):  0.0014062470078462564\n",
            "=====>\t{'Positive Rate': 0.4332784184514003, 'max g_mean metrics': {'threshold': 0.0014062470078462564, 'accuracy': 0.5733113673805601, 'f1': 0.0912280701754386, 'recall': 0.049429657794676805, 'specificity': 0.9738372093023255, 'g_mean': 0.2194001823233905}, 'max f1 metrics': {'threshold': 0.0014062470078462564, 'accuracy': 0.5733113673805601, 'f1': 0.0912280701754386, 'recall': 0.049429657794676805, 'specificity': 0.9738372093023255, 'g_mean': 0.2194001823233905}, 'default_accuracy': 0.5667215815485996, 'default_f1': 0.0, 'default_recall': 0.0, 'default_specificity': 1.0, 'default_g_mean': 0.0}\n",
            "\n",
            "=============== EPOCH 5 / 6 ===============\n",
            "\n",
            "___ batch index = 0 / 1836 (0.00%), loss = 0.6279, time = 0.03 secondes ___\n"
          ],
          "name": "stdout"
        },
        {
          "output_type": "stream",
          "text": [
            "___ batch index = 250 / 1836 (13.62%), loss = 0.7801, time = 12.78 secondes ___\n"
          ],
          "name": "stdout"
        },
        {
          "output_type": "stream",
          "text": [
            "___ batch index = 500 / 1836 (27.23%), loss = 0.6302, time = 12.31 secondes ___\n"
          ],
          "name": "stdout"
        },
        {
          "output_type": "stream",
          "text": [
            "___ batch index = 750 / 1836 (40.85%), loss = 0.6374, time = 11.39 secondes ___\n"
          ],
          "name": "stdout"
        },
        {
          "output_type": "stream",
          "text": [
            "___ batch index = 1000 / 1836 (54.47%), loss = 0.6099, time = 13.06 secondes ___\n"
          ],
          "name": "stdout"
        },
        {
          "output_type": "stream",
          "text": [
            "___ batch index = 1250 / 1836 (68.08%), loss = 0.6297, time = 11.77 secondes ___\n"
          ],
          "name": "stdout"
        },
        {
          "output_type": "stream",
          "text": [
            "___ batch index = 1500 / 1836 (81.70%), loss = 0.6372, time = 11.88 secondes ___\n"
          ],
          "name": "stdout"
        },
        {
          "output_type": "stream",
          "text": [
            "___ batch index = 1750 / 1836 (95.32%), loss = 0.6419, time = 13.06 secondes ___\n"
          ],
          "name": "stdout"
        },
        {
          "output_type": "stream",
          "text": [
            "\n",
            "*** avg_loss : 0.65, time : ~1.0 min (91.26 sec) ***\n",
            "\n"
          ],
          "name": "stdout"
        },
        {
          "output_type": "stream",
          "text": [
            "==> evaluation : avg_loss = 0.69, time : 29.40 sec\n",
            "\n"
          ],
          "name": "stdout"
        },
        {
          "output_type": "stream",
          "text": [
            "threshold (g-mean):  0.001169867867230859\n"
          ],
          "name": "stdout"
        },
        {
          "output_type": "stream",
          "text": [
            "threshold (f1):  0.001169867867230859\n",
            "=====>\t{'Positive Rate': 0.4332784184514003, 'max g_mean metrics': {'threshold': 0.001169867867230859, 'accuracy': 0.57166392092257, 'f1': 0.07142857142857144, 'recall': 0.03802281368821293, 'specificity': 0.9796511627906976, 'g_mean': 0.1930002425963031}, 'max f1 metrics': {'threshold': 0.001169867867230859, 'accuracy': 0.57166392092257, 'f1': 0.07142857142857144, 'recall': 0.03802281368821293, 'specificity': 0.9796511627906976, 'g_mean': 0.1930002425963031}, 'default_accuracy': 0.5667215815485996, 'default_f1': 0.0, 'default_recall': 0.0, 'default_specificity': 1.0, 'default_g_mean': 0.0}\n",
            "\n",
            "=============== EPOCH 6 / 6 ===============\n",
            "\n",
            "___ batch index = 0 / 1836 (0.00%), loss = 0.6289, time = 0.03 secondes ___\n"
          ],
          "name": "stdout"
        },
        {
          "output_type": "stream",
          "text": [
            "___ batch index = 250 / 1836 (13.62%), loss = 0.7834, time = 12.78 secondes ___\n"
          ],
          "name": "stdout"
        },
        {
          "output_type": "stream",
          "text": [
            "___ batch index = 500 / 1836 (27.23%), loss = 0.6297, time = 12.31 secondes ___\n"
          ],
          "name": "stdout"
        },
        {
          "output_type": "stream",
          "text": [
            "___ batch index = 750 / 1836 (40.85%), loss = 0.6334, time = 11.38 secondes ___\n"
          ],
          "name": "stdout"
        },
        {
          "output_type": "stream",
          "text": [
            "___ batch index = 1000 / 1836 (54.47%), loss = 0.6056, time = 13.05 secondes ___\n"
          ],
          "name": "stdout"
        },
        {
          "output_type": "stream",
          "text": [
            "___ batch index = 1250 / 1836 (68.08%), loss = 0.6335, time = 11.76 secondes ___\n"
          ],
          "name": "stdout"
        },
        {
          "output_type": "stream",
          "text": [
            "___ batch index = 1500 / 1836 (81.70%), loss = 0.6346, time = 11.88 secondes ___\n"
          ],
          "name": "stdout"
        },
        {
          "output_type": "stream",
          "text": [
            "___ batch index = 1750 / 1836 (95.32%), loss = 0.6298, time = 13.03 secondes ___\n"
          ],
          "name": "stdout"
        },
        {
          "output_type": "stream",
          "text": [
            "\n",
            "*** avg_loss : 0.65, time : ~1.0 min (91.21 sec) ***\n",
            "\n"
          ],
          "name": "stdout"
        },
        {
          "output_type": "stream",
          "text": [
            "==> evaluation : avg_loss = 0.69, time : 29.37 sec\n",
            "\n"
          ],
          "name": "stdout"
        },
        {
          "output_type": "stream",
          "text": [
            "threshold (g-mean):  0.0006404475688929915\n"
          ],
          "name": "stdout"
        },
        {
          "output_type": "stream",
          "text": [
            "threshold (f1):  0.0006404475688929915\n",
            "=====>\t{'Positive Rate': 0.4332784184514003, 'max g_mean metrics': {'threshold': 0.0006404475688929915, 'accuracy': 0.5700164744645799, 'f1': 0.050909090909090904, 'recall': 0.026615969581749048, 'specificity': 0.9854651162790697, 'g_mean': 0.16195403532718322}, 'max f1 metrics': {'threshold': 0.0006404475688929915, 'accuracy': 0.5700164744645799, 'f1': 0.050909090909090904, 'recall': 0.026615969581749048, 'specificity': 0.9854651162790697, 'g_mean': 0.16195403532718322}, 'default_accuracy': 0.5667215815485996, 'default_f1': 0.0, 'default_recall': 0.0, 'default_specificity': 1.0, 'default_g_mean': 0.0}\n",
            "@@@@@@@@@@@@@@@@@@@@@@@@@@@@@@@@@@@@@@@@@@@@@ END @@@@@@@@@@@@@@@@@@@@@@@@@@@@@@@@@@@@@@@@@@@@@@@\n",
            "--------------------------------------lr: 1e-06-----------------------------\n",
            "+++++++++++++++++++++++++++++++++++++++++++++++++++ n layers: 1 ++++++++++++++++++++++++++++++++++++++++++++++++\n",
            "/////////////////////////////////////////// GA: 16 ///////////////////////////////////////////////////////\n",
            "\n",
            "=============== EPOCH 1 / 6 ===============\n",
            "\n",
            "___ batch index = 0 / 1836 (0.00%), loss = 0.6670, time = 0.03 secondes ___\n"
          ],
          "name": "stdout"
        },
        {
          "output_type": "stream",
          "text": [
            "___ batch index = 250 / 1836 (13.62%), loss = 0.7125, time = 12.77 secondes ___\n"
          ],
          "name": "stdout"
        },
        {
          "output_type": "stream",
          "text": [
            "___ batch index = 500 / 1836 (27.23%), loss = 0.6741, time = 12.31 secondes ___\n"
          ],
          "name": "stdout"
        },
        {
          "output_type": "stream",
          "text": [
            "___ batch index = 750 / 1836 (40.85%), loss = 0.6683, time = 11.38 secondes ___\n"
          ],
          "name": "stdout"
        },
        {
          "output_type": "stream",
          "text": [
            "___ batch index = 1000 / 1836 (54.47%), loss = 0.6660, time = 13.07 secondes ___\n"
          ],
          "name": "stdout"
        },
        {
          "output_type": "stream",
          "text": [
            "___ batch index = 1250 / 1836 (68.08%), loss = 0.6714, time = 11.76 secondes ___\n"
          ],
          "name": "stdout"
        },
        {
          "output_type": "stream",
          "text": [
            "___ batch index = 1500 / 1836 (81.70%), loss = 0.6534, time = 11.90 secondes ___\n"
          ],
          "name": "stdout"
        },
        {
          "output_type": "stream",
          "text": [
            "___ batch index = 1750 / 1836 (95.32%), loss = 0.6493, time = 13.01 secondes ___\n"
          ],
          "name": "stdout"
        },
        {
          "output_type": "stream",
          "text": [
            "\n",
            "*** avg_loss : 0.67, time : ~1.0 min (91.21 sec) ***\n",
            "\n"
          ],
          "name": "stdout"
        },
        {
          "output_type": "stream",
          "text": [
            "==> evaluation : avg_loss = 0.69, time : 29.40 sec\n",
            "\n"
          ],
          "name": "stdout"
        },
        {
          "output_type": "stream",
          "text": [
            "threshold (g-mean):  0.001108736038208071\n"
          ],
          "name": "stdout"
        },
        {
          "output_type": "stream",
          "text": [
            "threshold (f1):  0.001108736038208071\n",
            "=====>\t{'Positive Rate': 0.4332784184514003, 'max g_mean metrics': {'threshold': 0.001108736038208071, 'accuracy': 0.5617792421746294, 'f1': 0.007462686567164179, 'recall': 0.0038022813688212928, 'specificity': 0.9883720930232558, 'g_mean': 0.061303089602117375}, 'max f1 metrics': {'threshold': 0.001108736038208071, 'accuracy': 0.5617792421746294, 'f1': 0.007462686567164179, 'recall': 0.0038022813688212928, 'specificity': 0.9883720930232558, 'g_mean': 0.061303089602117375}, 'default_accuracy': 0.5667215815485996, 'default_f1': 0.0, 'default_recall': 0.0, 'default_specificity': 1.0, 'default_g_mean': 0.0}\n",
            "\n",
            "=============== EPOCH 2 / 6 ===============\n",
            "\n",
            "___ batch index = 0 / 1836 (0.00%), loss = 0.6486, time = 0.03 secondes ___\n"
          ],
          "name": "stdout"
        },
        {
          "output_type": "stream",
          "text": [
            "___ batch index = 250 / 1836 (13.62%), loss = 0.7409, time = 12.75 secondes ___\n"
          ],
          "name": "stdout"
        },
        {
          "output_type": "stream",
          "text": [
            "___ batch index = 500 / 1836 (27.23%), loss = 0.6422, time = 12.32 secondes ___\n"
          ],
          "name": "stdout"
        },
        {
          "output_type": "stream",
          "text": [
            "___ batch index = 750 / 1836 (40.85%), loss = 0.6508, time = 11.44 secondes ___\n"
          ],
          "name": "stdout"
        },
        {
          "output_type": "stream",
          "text": [
            "___ batch index = 1000 / 1836 (54.47%), loss = 0.6356, time = 13.16 secondes ___\n"
          ],
          "name": "stdout"
        },
        {
          "output_type": "stream",
          "text": [
            "___ batch index = 1250 / 1836 (68.08%), loss = 0.6370, time = 11.85 secondes ___\n"
          ],
          "name": "stdout"
        },
        {
          "output_type": "stream",
          "text": [
            "___ batch index = 1500 / 1836 (81.70%), loss = 0.6241, time = 11.98 secondes ___\n"
          ],
          "name": "stdout"
        },
        {
          "output_type": "stream",
          "text": [
            "___ batch index = 1750 / 1836 (95.32%), loss = 0.6242, time = 13.12 secondes ___\n"
          ],
          "name": "stdout"
        },
        {
          "output_type": "stream",
          "text": [
            "\n",
            "*** avg_loss : 0.65, time : ~1.0 min (91.65 sec) ***\n",
            "\n"
          ],
          "name": "stdout"
        },
        {
          "output_type": "stream",
          "text": [
            "==> evaluation : avg_loss = 0.68, time : 29.55 sec\n",
            "\n",
            "threshold (g-mean):  1\n",
            "threshold (f1):  1\n",
            "=====>\t{'Positive Rate': 0.4332784184514003, 'max g_mean metrics': {'threshold': 1, 'accuracy': 0.5667215815485996, 'f1': 0.0, 'recall': 0.0, 'specificity': 1.0, 'g_mean': 0.0}, 'max f1 metrics': {'threshold': 1, 'accuracy': 0.5667215815485996, 'f1': 0.0, 'recall': 0.0, 'specificity': 1.0, 'g_mean': 0.0}, 'default_accuracy': 0.5667215815485996, 'default_f1': 0.0, 'default_recall': 0.0, 'default_specificity': 1.0, 'default_g_mean': 0.0}\n",
            "\n",
            "=============== EPOCH 3 / 6 ===============\n",
            "\n",
            "___ batch index = 0 / 1836 (0.00%), loss = 0.6459, time = 0.03 secondes ___\n"
          ],
          "name": "stdout"
        },
        {
          "output_type": "stream",
          "text": [
            "___ batch index = 250 / 1836 (13.62%), loss = 0.7811, time = 12.83 secondes ___\n"
          ],
          "name": "stdout"
        },
        {
          "output_type": "stream",
          "text": [
            "___ batch index = 500 / 1836 (27.23%), loss = 0.6101, time = 12.40 secondes ___\n"
          ],
          "name": "stdout"
        },
        {
          "output_type": "stream",
          "text": [
            "___ batch index = 750 / 1836 (40.85%), loss = 0.6179, time = 11.46 secondes ___\n"
          ],
          "name": "stdout"
        },
        {
          "output_type": "stream",
          "text": [
            "___ batch index = 1000 / 1836 (54.47%), loss = 0.6045, time = 13.15 secondes ___\n"
          ],
          "name": "stdout"
        },
        {
          "output_type": "stream",
          "text": [
            "___ batch index = 1250 / 1836 (68.08%), loss = 0.6166, time = 11.84 secondes ___\n"
          ],
          "name": "stdout"
        },
        {
          "output_type": "stream",
          "text": [
            "___ batch index = 1500 / 1836 (81.70%), loss = 0.6008, time = 11.97 secondes ___\n"
          ],
          "name": "stdout"
        },
        {
          "output_type": "stream",
          "text": [
            "___ batch index = 1750 / 1836 (95.32%), loss = 0.5979, time = 13.11 secondes ___\n"
          ],
          "name": "stdout"
        },
        {
          "output_type": "stream",
          "text": [
            "\n",
            "*** avg_loss : 0.63, time : ~1.0 min (91.79 sec) ***\n",
            "\n"
          ],
          "name": "stdout"
        },
        {
          "output_type": "stream",
          "text": [
            "==> evaluation : avg_loss = 0.68, time : 29.55 sec\n",
            "\n",
            "threshold (g-mean):  1\n",
            "threshold (f1):  1\n",
            "=====>\t{'Positive Rate': 0.4332784184514003, 'max g_mean metrics': {'threshold': 1, 'accuracy': 0.5667215815485996, 'f1': 0.0, 'recall': 0.0, 'specificity': 1.0, 'g_mean': 0.0}, 'max f1 metrics': {'threshold': 1, 'accuracy': 0.5667215815485996, 'f1': 0.0, 'recall': 0.0, 'specificity': 1.0, 'g_mean': 0.0}, 'default_accuracy': 0.5667215815485996, 'default_f1': 0.0, 'default_recall': 0.0, 'default_specificity': 1.0, 'default_g_mean': 0.0}\n",
            "\n",
            "=============== EPOCH 4 / 6 ===============\n",
            "\n",
            "___ batch index = 0 / 1836 (0.00%), loss = 0.6111, time = 0.03 secondes ___\n"
          ],
          "name": "stdout"
        },
        {
          "output_type": "stream",
          "text": [
            "___ batch index = 250 / 1836 (13.62%), loss = 0.8065, time = 12.83 secondes ___\n"
          ],
          "name": "stdout"
        },
        {
          "output_type": "stream",
          "text": [
            "___ batch index = 500 / 1836 (27.23%), loss = 0.5857, time = 12.39 secondes ___\n"
          ],
          "name": "stdout"
        },
        {
          "output_type": "stream",
          "text": [
            "___ batch index = 750 / 1836 (40.85%), loss = 0.6024, time = 11.46 secondes ___\n"
          ],
          "name": "stdout"
        },
        {
          "output_type": "stream",
          "text": [
            "___ batch index = 1000 / 1836 (54.47%), loss = 0.5782, time = 13.15 secondes ___\n"
          ],
          "name": "stdout"
        },
        {
          "output_type": "stream",
          "text": [
            "___ batch index = 1250 / 1836 (68.08%), loss = 0.5895, time = 11.85 secondes ___\n"
          ],
          "name": "stdout"
        },
        {
          "output_type": "stream",
          "text": [
            "___ batch index = 1500 / 1836 (81.70%), loss = 0.5800, time = 11.97 secondes ___\n"
          ],
          "name": "stdout"
        },
        {
          "output_type": "stream",
          "text": [
            "___ batch index = 1750 / 1836 (95.32%), loss = 0.5731, time = 13.11 secondes ___\n"
          ],
          "name": "stdout"
        },
        {
          "output_type": "stream",
          "text": [
            "\n",
            "*** avg_loss : 0.61, time : ~1.0 min (91.80 sec) ***\n",
            "\n"
          ],
          "name": "stdout"
        },
        {
          "output_type": "stream",
          "text": [
            "==> evaluation : avg_loss = 0.68, time : 29.55 sec\n",
            "\n",
            "threshold (g-mean):  1\n",
            "threshold (f1):  1\n",
            "=====>\t{'Positive Rate': 0.4332784184514003, 'max g_mean metrics': {'threshold': 1, 'accuracy': 0.5667215815485996, 'f1': 0.0, 'recall': 0.0, 'specificity': 1.0, 'g_mean': 0.0}, 'max f1 metrics': {'threshold': 1, 'accuracy': 0.5667215815485996, 'f1': 0.0, 'recall': 0.0, 'specificity': 1.0, 'g_mean': 0.0}, 'default_accuracy': 0.5667215815485996, 'default_f1': 0.0, 'default_recall': 0.0, 'default_specificity': 1.0, 'default_g_mean': 0.0}\n",
            "\n",
            "=============== EPOCH 5 / 6 ===============\n",
            "\n",
            "___ batch index = 0 / 1836 (0.00%), loss = 0.5983, time = 0.03 secondes ___\n"
          ],
          "name": "stdout"
        },
        {
          "output_type": "stream",
          "text": [
            "___ batch index = 250 / 1836 (13.62%), loss = 0.8455, time = 12.83 secondes ___\n"
          ],
          "name": "stdout"
        },
        {
          "output_type": "stream",
          "text": [
            "___ batch index = 500 / 1836 (27.23%), loss = 0.5675, time = 12.39 secondes ___\n"
          ],
          "name": "stdout"
        },
        {
          "output_type": "stream",
          "text": [
            "___ batch index = 750 / 1836 (40.85%), loss = 0.5764, time = 11.46 secondes ___\n"
          ],
          "name": "stdout"
        },
        {
          "output_type": "stream",
          "text": [
            "___ batch index = 1000 / 1836 (54.47%), loss = 0.5607, time = 13.16 secondes ___\n"
          ],
          "name": "stdout"
        },
        {
          "output_type": "stream",
          "text": [
            "___ batch index = 1250 / 1836 (68.08%), loss = 0.5618, time = 11.85 secondes ___\n"
          ],
          "name": "stdout"
        },
        {
          "output_type": "stream",
          "text": [
            "___ batch index = 1500 / 1836 (81.70%), loss = 0.5567, time = 11.98 secondes ___\n"
          ],
          "name": "stdout"
        },
        {
          "output_type": "stream",
          "text": [
            "___ batch index = 1750 / 1836 (95.32%), loss = 0.5486, time = 13.11 secondes ___\n"
          ],
          "name": "stdout"
        },
        {
          "output_type": "stream",
          "text": [
            "\n",
            "*** avg_loss : 0.59, time : ~1.0 min (91.83 sec) ***\n",
            "\n"
          ],
          "name": "stdout"
        },
        {
          "output_type": "stream",
          "text": [
            "==> evaluation : avg_loss = 0.68, time : 29.54 sec\n",
            "\n",
            "threshold (g-mean):  1\n",
            "threshold (f1):  1\n",
            "=====>\t{'Positive Rate': 0.4332784184514003, 'max g_mean metrics': {'threshold': 1, 'accuracy': 0.5667215815485996, 'f1': 0.0, 'recall': 0.0, 'specificity': 1.0, 'g_mean': 0.0}, 'max f1 metrics': {'threshold': 1, 'accuracy': 0.5667215815485996, 'f1': 0.0, 'recall': 0.0, 'specificity': 1.0, 'g_mean': 0.0}, 'default_accuracy': 0.5667215815485996, 'default_f1': 0.0, 'default_recall': 0.0, 'default_specificity': 1.0, 'default_g_mean': 0.0}\n",
            "\n",
            "=============== EPOCH 6 / 6 ===============\n",
            "\n",
            "___ batch index = 0 / 1836 (0.00%), loss = 0.5856, time = 0.03 secondes ___\n"
          ],
          "name": "stdout"
        },
        {
          "output_type": "stream",
          "text": [
            "___ batch index = 250 / 1836 (13.62%), loss = 0.8663, time = 12.84 secondes ___\n"
          ],
          "name": "stdout"
        },
        {
          "output_type": "stream",
          "text": [
            "___ batch index = 500 / 1836 (27.23%), loss = 0.5421, time = 12.39 secondes ___\n"
          ],
          "name": "stdout"
        },
        {
          "output_type": "stream",
          "text": [
            "___ batch index = 750 / 1836 (40.85%), loss = 0.5591, time = 11.46 secondes ___\n"
          ],
          "name": "stdout"
        },
        {
          "output_type": "stream",
          "text": [
            "___ batch index = 1000 / 1836 (54.47%), loss = 0.5321, time = 13.15 secondes ___\n"
          ],
          "name": "stdout"
        },
        {
          "output_type": "stream",
          "text": [
            "___ batch index = 1250 / 1836 (68.08%), loss = 0.5332, time = 11.84 secondes ___\n"
          ],
          "name": "stdout"
        },
        {
          "output_type": "stream",
          "text": [
            "___ batch index = 1500 / 1836 (81.70%), loss = 0.5359, time = 11.97 secondes ___\n"
          ],
          "name": "stdout"
        },
        {
          "output_type": "stream",
          "text": [
            "___ batch index = 1750 / 1836 (95.32%), loss = 0.5216, time = 13.11 secondes ___\n"
          ],
          "name": "stdout"
        },
        {
          "output_type": "stream",
          "text": [
            "\n",
            "*** avg_loss : 0.57, time : ~1.0 min (91.80 sec) ***\n",
            "\n"
          ],
          "name": "stdout"
        },
        {
          "output_type": "stream",
          "text": [
            "==> evaluation : avg_loss = 0.69, time : 29.54 sec\n",
            "\n",
            "threshold (g-mean):  1\n",
            "threshold (f1):  1\n",
            "=====>\t{'Positive Rate': 0.4332784184514003, 'max g_mean metrics': {'threshold': 1, 'accuracy': 0.5667215815485996, 'f1': 0.0, 'recall': 0.0, 'specificity': 1.0, 'g_mean': 0.0}, 'max f1 metrics': {'threshold': 1, 'accuracy': 0.5667215815485996, 'f1': 0.0, 'recall': 0.0, 'specificity': 1.0, 'g_mean': 0.0}, 'default_accuracy': 0.5667215815485996, 'default_f1': 0.0, 'default_recall': 0.0, 'default_specificity': 1.0, 'default_g_mean': 0.0}\n",
            "@@@@@@@@@@@@@@@@@@@@@@@@@@@@@@@@@@@@@@@@@@@@@ END @@@@@@@@@@@@@@@@@@@@@@@@@@@@@@@@@@@@@@@@@@@@@@@\n"
          ],
          "name": "stdout"
        },
        {
          "output_type": "stream",
          "text": [
            "xxxxxxxxxxxxxxxxxxxxxxxxxxxxxxxxxxxx END Para label:  Adecuación curricular de objetivos  (13) xxxxxxxxxxxxxxxxxxxxxxxxx\n"
          ],
          "name": "stdout"
        }
      ]
    }
  ]
}