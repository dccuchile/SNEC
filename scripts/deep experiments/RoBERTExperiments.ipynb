{
  "nbformat": 4,
  "nbformat_minor": 0,
  "metadata": {
    "colab": {
      "name": "new_experiments_3_5_1_1_save_models.ipynb",
      "provenance": [],
      "collapsed_sections": [],
      "toc_visible": true
    },
    "accelerator": "GPU"
  },
  "cells": [
    {
      "cell_type": "code",
      "metadata": {
        "colab": {
          "base_uri": "https://localhost:8080/"
        },
        "id": "zp0-zTHdTJwv",
        "jupyter": {
          "outputs_hidden": false
        },
        "outputId": "fcdf007a-cb15-4532-a064-d6343964c201"
      },
      "source": [
        "!pip install --upgrade gensim\n",
        "!pip install transformers\n",
        "!pip install -U sentence-transformers\n",
        "!pip install kornia"
      ],
      "execution_count": null,
      "outputs": [
        {
          "output_type": "stream",
          "text": [
            "Requirement already up-to-date: gensim in /home/jamunoz/anaconda3/lib/python3.8/site-packages (4.0.1)\r\n"
          ],
          "name": "stdout"
        },
        {
          "output_type": "stream",
          "text": [
            "Requirement already satisfied, skipping upgrade: numpy>=1.11.3 in /home/jamunoz/anaconda3/lib/python3.8/site-packages (from gensim) (1.19.1)\r\n",
            "Requirement already satisfied, skipping upgrade: smart-open>=1.8.1 in /home/jamunoz/anaconda3/lib/python3.8/site-packages (from gensim) (3.0.0)\r\n",
            "Requirement already satisfied, skipping upgrade: scipy>=0.18.1 in /home/jamunoz/anaconda3/lib/python3.8/site-packages (from gensim) (1.5.2)\r\n",
            "Requirement already satisfied, skipping upgrade: requests in /home/jamunoz/anaconda3/lib/python3.8/site-packages (from smart-open>=1.8.1->gensim) (2.24.0)\r\n",
            "Requirement already satisfied, skipping upgrade: urllib3!=1.25.0,!=1.25.1,<1.26,>=1.21.1 in /home/jamunoz/anaconda3/lib/python3.8/site-packages (from requests->smart-open>=1.8.1->gensim) (1.25.10)\r\n",
            "Requirement already satisfied, skipping upgrade: idna<3,>=2.5 in /home/jamunoz/anaconda3/lib/python3.8/site-packages (from requests->smart-open>=1.8.1->gensim) (2.10)\r\n",
            "Requirement already satisfied, skipping upgrade: certifi>=2017.4.17 in /home/jamunoz/anaconda3/lib/python3.8/site-packages (from requests->smart-open>=1.8.1->gensim) (2020.11.8)\r\n",
            "Requirement already satisfied, skipping upgrade: chardet<4,>=3.0.2 in /home/jamunoz/anaconda3/lib/python3.8/site-packages (from requests->smart-open>=1.8.1->gensim) (3.0.4)\r\n"
          ],
          "name": "stdout"
        },
        {
          "output_type": "stream",
          "text": [
            "Requirement already satisfied: transformers in /home/jamunoz/anaconda3/lib/python3.8/site-packages (3.5.1)\r\n"
          ],
          "name": "stdout"
        },
        {
          "output_type": "stream",
          "text": [
            "Requirement already satisfied: tokenizers==0.9.3 in /home/jamunoz/anaconda3/lib/python3.8/site-packages (from transformers) (0.9.3)\r\n"
          ],
          "name": "stdout"
        },
        {
          "output_type": "stream",
          "text": [
            "Requirement already satisfied: regex!=2019.12.17 in /home/jamunoz/anaconda3/lib/python3.8/site-packages (from transformers) (2020.9.27)\r\n",
            "Requirement already satisfied: sacremoses in /home/jamunoz/anaconda3/lib/python3.8/site-packages (from transformers) (0.0.43)\r\n",
            "Requirement already satisfied: numpy in /home/jamunoz/anaconda3/lib/python3.8/site-packages (from transformers) (1.19.1)\r\n",
            "Requirement already satisfied: packaging in /home/jamunoz/anaconda3/lib/python3.8/site-packages (from transformers) (20.4)\r\n",
            "Requirement already satisfied: requests in /home/jamunoz/anaconda3/lib/python3.8/site-packages (from transformers) (2.24.0)\r\n",
            "Requirement already satisfied: protobuf in /home/jamunoz/anaconda3/lib/python3.8/site-packages (from transformers) (3.14.0)\r\n",
            "Requirement already satisfied: filelock in /home/jamunoz/anaconda3/lib/python3.8/site-packages (from transformers) (3.0.12)\r\n",
            "Requirement already satisfied: tqdm>=4.27 in /home/jamunoz/anaconda3/lib/python3.8/site-packages (from transformers) (4.50.2)\r\n",
            "Requirement already satisfied: sentencepiece==0.1.91 in /home/jamunoz/anaconda3/lib/python3.8/site-packages (from transformers) (0.1.91)\r\n",
            "Requirement already satisfied: joblib in /home/jamunoz/anaconda3/lib/python3.8/site-packages (from sacremoses->transformers) (0.17.0)\r\n",
            "Requirement already satisfied: click in /home/jamunoz/anaconda3/lib/python3.8/site-packages (from sacremoses->transformers) (7.1.2)\r\n",
            "Requirement already satisfied: six in /home/jamunoz/anaconda3/lib/python3.8/site-packages (from sacremoses->transformers) (1.15.0)\r\n",
            "Requirement already satisfied: pyparsing>=2.0.2 in /home/jamunoz/anaconda3/lib/python3.8/site-packages (from packaging->transformers) (2.4.7)\r\n",
            "Requirement already satisfied: urllib3!=1.25.0,!=1.25.1,<1.26,>=1.21.1 in /home/jamunoz/anaconda3/lib/python3.8/site-packages (from requests->transformers) (1.25.10)\r\n",
            "Requirement already satisfied: certifi>=2017.4.17 in /home/jamunoz/anaconda3/lib/python3.8/site-packages (from requests->transformers) (2020.11.8)\r\n",
            "Requirement already satisfied: chardet<4,>=3.0.2 in /home/jamunoz/anaconda3/lib/python3.8/site-packages (from requests->transformers) (3.0.4)\r\n",
            "Requirement already satisfied: idna<3,>=2.5 in /home/jamunoz/anaconda3/lib/python3.8/site-packages (from requests->transformers) (2.10)\r\n"
          ],
          "name": "stdout"
        },
        {
          "output_type": "stream",
          "text": [
            "Requirement already up-to-date: sentence-transformers in /home/jamunoz/anaconda3/lib/python3.8/site-packages (1.1.1)\r\n",
            "Requirement already satisfied, skipping upgrade: torch>=1.6.0 in /home/jamunoz/anaconda3/lib/python3.8/site-packages (from sentence-transformers) (1.7.0)\r\n",
            "Requirement already satisfied, skipping upgrade: sentencepiece in /home/jamunoz/anaconda3/lib/python3.8/site-packages (from sentence-transformers) (0.1.91)\r\n",
            "Requirement already satisfied, skipping upgrade: scikit-learn in /home/jamunoz/anaconda3/lib/python3.8/site-packages (from sentence-transformers) (0.23.2)\r\n"
          ],
          "name": "stdout"
        },
        {
          "output_type": "stream",
          "text": [
            "Requirement already satisfied, skipping upgrade: numpy in /home/jamunoz/anaconda3/lib/python3.8/site-packages (from sentence-transformers) (1.19.1)\r\n",
            "Requirement already satisfied, skipping upgrade: nltk in /home/jamunoz/anaconda3/lib/python3.8/site-packages (from sentence-transformers) (3.5)\r\n",
            "Requirement already satisfied, skipping upgrade: transformers<5.0.0,>=3.1.0 in /home/jamunoz/anaconda3/lib/python3.8/site-packages (from sentence-transformers) (3.5.1)\r\n"
          ],
          "name": "stdout"
        },
        {
          "output_type": "stream",
          "text": [
            "Requirement already satisfied, skipping upgrade: scipy in /home/jamunoz/anaconda3/lib/python3.8/site-packages (from sentence-transformers) (1.5.2)\r\n",
            "Requirement already satisfied, skipping upgrade: torchvision in /home/jamunoz/anaconda3/lib/python3.8/site-packages (from sentence-transformers) (0.8.1)\r\n",
            "Requirement already satisfied, skipping upgrade: tqdm in /home/jamunoz/anaconda3/lib/python3.8/site-packages (from sentence-transformers) (4.50.2)\r\n",
            "Requirement already satisfied, skipping upgrade: future in /home/jamunoz/anaconda3/lib/python3.8/site-packages (from torch>=1.6.0->sentence-transformers) (0.18.2)\r\n",
            "Requirement already satisfied, skipping upgrade: typing_extensions in /home/jamunoz/anaconda3/lib/python3.8/site-packages (from torch>=1.6.0->sentence-transformers) (3.7.4.3)\r\n",
            "Requirement already satisfied, skipping upgrade: dataclasses in /home/jamunoz/anaconda3/lib/python3.8/site-packages (from torch>=1.6.0->sentence-transformers) (0.6)\r\n",
            "Requirement already satisfied, skipping upgrade: threadpoolctl>=2.0.0 in /home/jamunoz/anaconda3/lib/python3.8/site-packages (from scikit-learn->sentence-transformers) (2.1.0)\r\n",
            "Requirement already satisfied, skipping upgrade: joblib>=0.11 in /home/jamunoz/anaconda3/lib/python3.8/site-packages (from scikit-learn->sentence-transformers) (0.17.0)\r\n",
            "Requirement already satisfied, skipping upgrade: regex in /home/jamunoz/anaconda3/lib/python3.8/site-packages (from nltk->sentence-transformers) (2020.9.27)\r\n",
            "Requirement already satisfied, skipping upgrade: click in /home/jamunoz/anaconda3/lib/python3.8/site-packages (from nltk->sentence-transformers) (7.1.2)\r\n",
            "Requirement already satisfied, skipping upgrade: tokenizers==0.9.3 in /home/jamunoz/anaconda3/lib/python3.8/site-packages (from transformers<5.0.0,>=3.1.0->sentence-transformers) (0.9.3)\r\n",
            "Requirement already satisfied, skipping upgrade: requests in /home/jamunoz/anaconda3/lib/python3.8/site-packages (from transformers<5.0.0,>=3.1.0->sentence-transformers) (2.24.0)\r\n",
            "Requirement already satisfied, skipping upgrade: packaging in /home/jamunoz/anaconda3/lib/python3.8/site-packages (from transformers<5.0.0,>=3.1.0->sentence-transformers) (20.4)\r\n",
            "Requirement already satisfied, skipping upgrade: filelock in /home/jamunoz/anaconda3/lib/python3.8/site-packages (from transformers<5.0.0,>=3.1.0->sentence-transformers) (3.0.12)\r\n",
            "Requirement already satisfied, skipping upgrade: sacremoses in /home/jamunoz/anaconda3/lib/python3.8/site-packages (from transformers<5.0.0,>=3.1.0->sentence-transformers) (0.0.43)\r\n",
            "Requirement already satisfied, skipping upgrade: protobuf in /home/jamunoz/anaconda3/lib/python3.8/site-packages (from transformers<5.0.0,>=3.1.0->sentence-transformers) (3.14.0)\r\n",
            "Requirement already satisfied, skipping upgrade: pillow>=4.1.1 in /home/jamunoz/anaconda3/lib/python3.8/site-packages (from torchvision->sentence-transformers) (7.2.0)\r\n",
            "Requirement already satisfied, skipping upgrade: chardet<4,>=3.0.2 in /home/jamunoz/anaconda3/lib/python3.8/site-packages (from requests->transformers<5.0.0,>=3.1.0->sentence-transformers) (3.0.4)\r\n"
          ],
          "name": "stdout"
        },
        {
          "output_type": "stream",
          "text": [
            "Requirement already satisfied, skipping upgrade: idna<3,>=2.5 in /home/jamunoz/anaconda3/lib/python3.8/site-packages (from requests->transformers<5.0.0,>=3.1.0->sentence-transformers) (2.10)\r\n",
            "Requirement already satisfied, skipping upgrade: certifi>=2017.4.17 in /home/jamunoz/anaconda3/lib/python3.8/site-packages (from requests->transformers<5.0.0,>=3.1.0->sentence-transformers) (2020.11.8)\r\n",
            "Requirement already satisfied, skipping upgrade: urllib3!=1.25.0,!=1.25.1,<1.26,>=1.21.1 in /home/jamunoz/anaconda3/lib/python3.8/site-packages (from requests->transformers<5.0.0,>=3.1.0->sentence-transformers) (1.25.10)\r\n",
            "Requirement already satisfied, skipping upgrade: pyparsing>=2.0.2 in /home/jamunoz/anaconda3/lib/python3.8/site-packages (from packaging->transformers<5.0.0,>=3.1.0->sentence-transformers) (2.4.7)\r\n",
            "Requirement already satisfied, skipping upgrade: six in /home/jamunoz/anaconda3/lib/python3.8/site-packages (from packaging->transformers<5.0.0,>=3.1.0->sentence-transformers) (1.15.0)\r\n"
          ],
          "name": "stdout"
        },
        {
          "output_type": "stream",
          "text": [
            "Requirement already satisfied: kornia in /home/jamunoz/anaconda3/lib/python3.8/site-packages (0.5.0)\r\n",
            "Requirement already satisfied: torch>=1.6.0 in /home/jamunoz/anaconda3/lib/python3.8/site-packages (from kornia) (1.7.0)\r\n",
            "Requirement already satisfied: numpy in /home/jamunoz/anaconda3/lib/python3.8/site-packages (from kornia) (1.19.1)\r\n",
            "Requirement already satisfied: future in /home/jamunoz/anaconda3/lib/python3.8/site-packages (from torch>=1.6.0->kornia) (0.18.2)\r\n",
            "Requirement already satisfied: typing_extensions in /home/jamunoz/anaconda3/lib/python3.8/site-packages (from torch>=1.6.0->kornia) (3.7.4.3)\r\n",
            "Requirement already satisfied: dataclasses in /home/jamunoz/anaconda3/lib/python3.8/site-packages (from torch>=1.6.0->kornia) (0.6)\r\n"
          ],
          "name": "stdout"
        }
      ]
    },
    {
      "cell_type": "code",
      "metadata": {
        "id": "cPdKe3vxTJw6",
        "jupyter": {
          "outputs_hidden": false
        }
      },
      "source": [
        "import os\n",
        "os.environ['CUDA_LAUNCH_BLOCKING'] = \"1\"\n",
        "\n",
        "import torch\n",
        "import pandas as pd\n",
        "import numpy as np\n",
        "from sklearn.preprocessing import LabelEncoder\n",
        "import re\n",
        "from sklearn.model_selection import train_test_split\n",
        "from sklearn.metrics import accuracy_score, f1_score, hamming_loss, confusion_matrix, jaccard_score\n",
        "from transformers import BertTokenizer\n",
        "from transformers import BertForSequenceClassification, AdamW, BertConfig\n",
        "from torch.utils.data import TensorDataset, DataLoader, RandomSampler, SequentialSampler\n",
        "\n",
        "import torch.nn as nn\n",
        "from torch.utils.data import Dataset, DataLoader, random_split\n",
        "from torch.utils.data.sampler import SubsetRandomSampler\n",
        "import transformers\n",
        "from transformers import RobertaTokenizer, BertTokenizer, RobertaModel, BertModel, AdamW\n",
        "from transformers import get_linear_schedule_with_warmup\n",
        "import time\n",
        "from kornia.losses import BinaryFocalLossWithLogits\n",
        "\n",
        "import warnings\n",
        "import traceback"
      ],
      "execution_count": null,
      "outputs": []
    },
    {
      "cell_type": "code",
      "metadata": {
        "colab": {
          "base_uri": "https://localhost:8080/"
        },
        "id": "mbHBZcxATJw7",
        "jupyter": {
          "outputs_hidden": false
        },
        "outputId": "0adc9321-371b-41b9-8bdc-7ce490798e58"
      },
      "source": [
        "!nvidia-smi"
      ],
      "execution_count": null,
      "outputs": [
        {
          "output_type": "stream",
          "text": [
            "Tue May 18 22:55:50 2021       \r\n",
            "+-----------------------------------------------------------------------------+\r\n",
            "| NVIDIA-SMI 450.119.03   Driver Version: 450.119.03   CUDA Version: 11.0     |\r\n",
            "|-------------------------------+----------------------+----------------------+\r\n",
            "| GPU  Name        Persistence-M| Bus-Id        Disp.A | Volatile Uncorr. ECC |\r\n",
            "| Fan  Temp  Perf  Pwr:Usage/Cap|         Memory-Usage | GPU-Util  Compute M. |\r\n",
            "|                               |                      |               MIG M. |\r\n",
            "|===============================+======================+======================|\r\n",
            "|   0  GeForce RTX 2080    Off  | 00000000:03:00.0 Off |                  N/A |\r\n",
            "|  0%   42C    P0    39W / 260W |      3MiB /  7982MiB |      0%      Default |\r\n",
            "|                               |                      |                  N/A |\r\n",
            "+-------------------------------+----------------------+----------------------+\r\n",
            "|   1  GeForce RTX 2080    Off  | 00000000:05:00.0 Off |                  N/A |\r\n",
            "|  0%   42C    P0    55W / 260W |      3MiB /  7982MiB |      0%      Default |\r\n",
            "|                               |                      |                  N/A |\r\n",
            "+-------------------------------+----------------------+----------------------+\r\n",
            "                                                                               \r\n",
            "+-----------------------------------------------------------------------------+\r\n",
            "| Processes:                                                                  |\r\n",
            "|  GPU   GI   CI        PID   Type   Process name                  GPU Memory |\r\n",
            "|        ID   ID                                                   Usage      |\r\n",
            "|=============================================================================|\r\n",
            "|  No running processes found                                                 |\r\n",
            "+-----------------------------------------------------------------------------+\r\n"
          ],
          "name": "stdout"
        }
      ]
    },
    {
      "cell_type": "code",
      "metadata": {
        "colab": {
          "base_uri": "https://localhost:8080/"
        },
        "id": "6G2-fISXQyfr",
        "jupyter": {
          "outputs_hidden": false
        },
        "outputId": "89e652af-43d6-4081-d59b-f13b4899f2d6"
      },
      "source": [
        "# If there's a GPU available...\n",
        "if torch.cuda.is_available():    \n",
        "\n",
        "    # Tell PyTorch to use the GPU.    \n",
        "    device = torch.device(\"cuda:1\")\n",
        "\n",
        "    print('There are %d GPU(s) available.' % torch.cuda.device_count())\n",
        "\n",
        "    print('We will use the GPU:', torch.cuda.get_device_name(1))\n",
        "\n",
        "# If not...\n",
        "else:\n",
        "    print('No GPU available, using the CPU instead.')\n",
        "    device = torch.device(\"cpu\")"
      ],
      "execution_count": null,
      "outputs": [
        {
          "output_type": "stream",
          "text": [
            "There are 2 GPU(s) available.\n",
            "We will use the GPU: GeForce RTX 2080\n"
          ],
          "name": "stdout"
        }
      ]
    },
    {
      "cell_type": "markdown",
      "metadata": {
        "id": "RonQHx7OJfXj"
      },
      "source": [
        "##Preparing Dataset"
      ]
    },
    {
      "cell_type": "markdown",
      "metadata": {
        "id": "CUgSQCJlNl2r"
      },
      "source": [
        "###Load dataset"
      ]
    },
    {
      "cell_type": "code",
      "metadata": {
        "id": "JdipkFQDJi6p",
        "jupyter": {
          "outputs_hidden": false
        }
      },
      "source": [
        "categories_number_words = {\n",
        "        1: \"Apoyo Pedagógico en asignaturas\",\n",
        "        3: \"Apoyo pedagógico personal\",\n",
        "        4: \"Tutoría entre pares\",\n",
        "        7: \"Hacer a la familia partícipe del proceso\",\n",
        "        8: \"Apoyo psicóloga(o)\",\n",
        "        9: \"Apoyo fonoaudióloga(o)\",\n",
        "        10: \"Apoyo Educador(a) Diferencial\",\n",
        "        11: \"Apoyo Kinesióloga(o)\",\n",
        "        12: \"Apoyo Médico General\",\n",
        "        13: \"Apoyo Terapeuta Ocupacional\",\n",
        "        14: \"Control Neurólogo\",\n",
        "        15: \"Apoyo Interdisciplinario\",\n",
        "        16: \"Adecuación curricular de acceso\",\n",
        "        17: \"Adecuación curricular de objetivos\"\n",
        "    }\n",
        "categories_words_number = {v: k for k, v in categories_number_words.items()}\n",
        "\n",
        "diagnoses_codes = {\n",
        "    \"Trastorno específico del lenguaje\": 0,\n",
        "    \"Trastorno por déficit atencional\": 1,\n",
        "    \"Dificultad específica de aprendizaje\": 2,\n",
        "    \"Discapacidad intelectual\": 3,\n",
        "    \"Discapacidad visual\": 4,\n",
        "    \"Trastorno del espectro autista\": 5,\n",
        "    \"Discapacidad auditiva - Hipoacusia\": 6,\n",
        "    \"Funcionamiento intelectual limítrofe\": 7,\n",
        "    \"Síndrome de Down\": 8,\n",
        "    \"Trastorno motor\": 9,\n",
        "    \"Multidéficit\": 10,\n",
        "    \"Retraso global del desarrollo\": 11\n",
        "}\n",
        "\n",
        "diagnoses_keys = list(diagnoses_codes.keys())\n",
        "\n",
        "def transform_diag_to_array(code):\n",
        "    arr = np.zeros(len(diagnoses_keys), dtype=int)\n",
        "    for (index, label) in enumerate(diagnoses_keys):\n",
        "        if diagnoses_codes[label]==code:\n",
        "            arr[index] = 1\n",
        "    return arr"
      ],
      "execution_count": null,
      "outputs": []
    },
    {
      "cell_type": "code",
      "metadata": {
        "id": "69bH3NpmMBFs",
        "jupyter": {
          "outputs_hidden": false
        }
      },
      "source": [
        "train_dataset = pd.read_csv('/research/jamunoz/datasets/train_ds.csv', keep_default_na=False)\n",
        "val_dataset = pd.read_csv('/research/jamunoz/datasets/val_ds.csv', keep_default_na=False)\n",
        "test_dataset = pd.read_csv('/research/jamunoz/datasets/test_ds.csv', keep_default_na=False)\n",
        "# train_dataset = pd.read_csv('gdrive/My Drive/magister/train_ds.csv', keep_default_na=False)\n",
        "# val_dataset = pd.read_csv('gdrive/My Drive/magister/val_ds.csv', keep_default_na=False)\n",
        "# test_dataset = pd.read_csv('gdrive/My Drive/magister/test_ds.csv', keep_default_na=False)\n",
        "\n",
        "# Add OHE diagnosis\n",
        "train_OHE_diags = []\n",
        "for diag in train_dataset['Encoded Diagnosis']:\n",
        "    train_OHE_diags.append(transform_diag_to_array(diag))\n",
        "temp_train_diags_df = pd.DataFrame(train_OHE_diags, columns=diagnoses_keys)\n",
        "train_dataset = pd.concat([train_dataset, temp_train_diags_df], axis=1)\n",
        "\n",
        "val_OHE_diags = []\n",
        "for diag in val_dataset['Encoded Diagnosis']:\n",
        "    val_OHE_diags.append(transform_diag_to_array(diag))\n",
        "temp_val_diags_df = pd.DataFrame(val_OHE_diags, columns=diagnoses_keys)\n",
        "val_dataset = pd.concat([val_dataset, temp_val_diags_df], axis=1)\n",
        "\n",
        "test_OHE_diags = []\n",
        "for diag in test_dataset['Encoded Diagnosis']:\n",
        "    test_OHE_diags.append(transform_diag_to_array(diag))\n",
        "temp_test_diags_df = pd.DataFrame(test_OHE_diags, columns=diagnoses_keys)\n",
        "test_dataset = pd.concat([test_dataset, temp_test_diags_df], axis=1)"
      ],
      "execution_count": null,
      "outputs": []
    },
    {
      "cell_type": "code",
      "metadata": {
        "colab": {
          "base_uri": "https://localhost:8080/",
          "height": 635
        },
        "id": "nhMXQug7MF45",
        "jupyter": {
          "outputs_hidden": false
        },
        "outputId": "dd828d3e-0fa2-4c01-b704-6b7e13005f91"
      },
      "source": [
        "train_dataset.head()"
      ],
      "execution_count": null,
      "outputs": [
        {
          "output_type": "execute_result",
          "data": {},
          "execution_count": 7
        }
      ]
    },
    {
      "cell_type": "code",
      "metadata": {
        "id": "2CsWWAVbMHrI",
        "jupyter": {
          "outputs_hidden": false
        }
      },
      "source": [
        "# y_keys = list(strat_present.keys())\n",
        "Y_KEYS = list(categories_words_number.keys())\n",
        "\n",
        "# df = pd.DataFrame(data=new_dataset_to_export)\n",
        "# X = df\n",
        "# Y = df[y_keys]\n",
        "X_train = train_dataset.drop(Y_KEYS, axis=1)\n",
        "Y_train = train_dataset[Y_KEYS]\n",
        "X_val = val_dataset.drop(Y_KEYS, axis=1)\n",
        "Y_val = val_dataset[Y_KEYS]\n",
        "X_test = test_dataset.drop(Y_KEYS, axis=1)\n",
        "Y_test = test_dataset[Y_KEYS]\n",
        "\n",
        "strats_amounts = {\n",
        "              'Adecuación curricular de acceso': 2264,\n",
        "              'Hacer a la familia partícipe del proceso': 2048,\n",
        "              'Apoyo Interdisciplinario': 1441, \n",
        "              'Apoyo Educador(a) Diferencial': 1311,\n",
        "              'Apoyo pedagógico personal': 1240,\n",
        "              'Apoyo fonoaudióloga(o)': 378,\n",
        "              'Apoyo psicóloga(o)': 588,\n",
        "              'Apoyo Terapeuta Ocupacional': 153,\n",
        "              'Tutoría entre pares': 350,\n",
        "              'Control Neurólogo': 63,\n",
        "              'Apoyo Médico General': 64,\n",
        "              'Apoyo Kinesióloga(o)': 32,\n",
        "              'Adecuación curricular de objetivos': 281,\n",
        "              'Apoyo Pedagógico en asignaturas': 1314\n",
        "}\n",
        "most_unbalanced_strategies = [strategy for strategy in Y_KEYS if (\n",
        "    strats_amounts[strategy] < (len(X_train) + len(X_val) + len(X_test))*0.15 or strats_amounts[strategy] > (len(X_train) + len(X_val) + len(X_test))*0.85)]\n",
        "less_unbalanced_strategies = [strategy for strategy in Y_KEYS if strategy not in most_unbalanced_strategies]\n",
        "only_one_strat = [Y_KEYS[0]]"
      ],
      "execution_count": null,
      "outputs": []
    },
    {
      "cell_type": "code",
      "metadata": {
        "colab": {
          "base_uri": "https://localhost:8080/"
        },
        "id": "Evkxjz6ANjAv",
        "jupyter": {
          "outputs_hidden": false
        },
        "outputId": "056f89de-c6b4-4830-aba5-a0cd7797e5d3"
      },
      "source": [
        "Y_train.keys()"
      ],
      "execution_count": null,
      "outputs": [
        {
          "output_type": "execute_result",
          "data": {},
          "execution_count": 9
        }
      ]
    },
    {
      "cell_type": "markdown",
      "metadata": {
        "id": "gpIk4fSKOlwB"
      },
      "source": [
        "###Data explore"
      ]
    },
    {
      "cell_type": "code",
      "metadata": {
        "id": "hWRHmmAs_Jp0",
        "outputId": "08f96ab5-005b-4fc9-f9c2-13cca136d0b3"
      },
      "source": [
        "print('Positive rates:')\n",
        "for label in list(Y_train.keys()):\n",
        "    print(label+': ', round(sum(Y_train[label])/len(Y_train[label]), 2))"
      ],
      "execution_count": null,
      "outputs": [
        {
          "output_type": "stream",
          "text": [
            "Positive rates:\n",
            "Apoyo Pedagógico en asignaturas:  0.43\n",
            "Apoyo pedagógico personal:  0.41\n",
            "Tutoría entre pares:  0.11\n",
            "Hacer a la familia partícipe del proceso:  0.67\n",
            "Apoyo psicóloga(o):  0.19\n",
            "Apoyo fonoaudióloga(o):  0.12\n",
            "Apoyo Educador(a) Diferencial:  0.43\n",
            "Apoyo Kinesióloga(o):  0.01\n",
            "Apoyo Médico General:  0.02\n",
            "Apoyo Terapeuta Ocupacional:  0.05\n",
            "Control Neurólogo:  0.02\n",
            "Apoyo Interdisciplinario:  0.47\n",
            "Adecuación curricular de acceso:  0.73\n",
            "Adecuación curricular de objetivos:  0.09\n"
          ],
          "name": "stdout"
        }
      ]
    },
    {
      "cell_type": "code",
      "metadata": {
        "colab": {
          "base_uri": "https://localhost:8080/",
          "height": 285
        },
        "id": "AwHrnF4TNxDT",
        "jupyter": {
          "outputs_hidden": false
        },
        "outputId": "1b4b7434-b656-40ce-9264-e78fb5ebee65"
      },
      "source": [
        "percs = X_train['All perceptions']\n",
        "seq_len = [len(i.split()) for i in percs]\n",
        "\n",
        "pd.Series(seq_len).hist(bins = 30)"
      ],
      "execution_count": null,
      "outputs": [
        {
          "output_type": "execute_result",
          "data": {},
          "execution_count": 11
        },
        {
          "output_type": "display_data",
          "data": {}
        }
      ]
    },
    {
      "cell_type": "code",
      "metadata": {
        "colab": {
          "base_uri": "https://localhost:8080/"
        },
        "id": "_XrdNN9dNyhL",
        "jupyter": {
          "outputs_hidden": false
        },
        "outputId": "e2c4be13-e288-439a-f702-d7bc26190d2f"
      },
      "source": [
        "print(0 in seq_len)"
      ],
      "execution_count": null,
      "outputs": [
        {
          "output_type": "stream",
          "text": [
            "False\n"
          ],
          "name": "stdout"
        }
      ]
    },
    {
      "cell_type": "code",
      "metadata": {
        "colab": {
          "base_uri": "https://localhost:8080/",
          "height": 282
        },
        "id": "qrMR4M78NzQh",
        "jupyter": {
          "outputs_hidden": false
        },
        "outputId": "5b2cab32-7b4b-4324-966e-cfdc92564d3c"
      },
      "source": [
        "percs = X_train['Special Education Teacher Perceptions']\n",
        "seq_len = [len(i.split()) for i in percs]\n",
        "\n",
        "pd.Series(seq_len).hist(bins = 30)"
      ],
      "execution_count": null,
      "outputs": [
        {
          "output_type": "execute_result",
          "data": {},
          "execution_count": 13
        },
        {
          "output_type": "display_data",
          "data": {}
        }
      ]
    },
    {
      "cell_type": "code",
      "metadata": {
        "colab": {
          "base_uri": "https://localhost:8080/"
        },
        "id": "Gg-YTFVyN0vn",
        "jupyter": {
          "outputs_hidden": false
        },
        "outputId": "1bb44593-b446-4e98-b731-fe46f35c23ea"
      },
      "source": [
        "print(0 in seq_len)"
      ],
      "execution_count": null,
      "outputs": [
        {
          "output_type": "stream",
          "text": [
            "True\n"
          ],
          "name": "stdout"
        }
      ]
    },
    {
      "cell_type": "code",
      "metadata": {
        "colab": {
          "base_uri": "https://localhost:8080/",
          "height": 282
        },
        "id": "H6uMrxuXN2WJ",
        "jupyter": {
          "outputs_hidden": false
        },
        "outputId": "79d4308a-4b3d-4380-ad26-b1fb14cd52c8"
      },
      "source": [
        "percs = X_train['Speech Therapist Perceptions']\n",
        "seq_len = [len(i.split()) for i in percs]\n",
        "\n",
        "pd.Series(seq_len).hist(bins = 30)"
      ],
      "execution_count": null,
      "outputs": [
        {
          "output_type": "execute_result",
          "data": {},
          "execution_count": 15
        },
        {
          "output_type": "display_data",
          "data": {}
        }
      ]
    },
    {
      "cell_type": "code",
      "metadata": {
        "colab": {
          "base_uri": "https://localhost:8080/",
          "height": 282
        },
        "id": "qOc9_BLhN4bk",
        "jupyter": {
          "outputs_hidden": false
        },
        "outputId": "3d1c18e8-7a92-44e9-9356-bccd6fc8a416"
      },
      "source": [
        "percs = X_train['Psychologist Perceptions']\n",
        "seq_len = [len(i.split()) for i in percs]\n",
        "\n",
        "pd.Series(seq_len).hist(bins = 30)"
      ],
      "execution_count": null,
      "outputs": [
        {
          "output_type": "execute_result",
          "data": {},
          "execution_count": 16
        },
        {
          "output_type": "display_data",
          "data": {}
        }
      ]
    },
    {
      "cell_type": "code",
      "metadata": {
        "colab": {
          "base_uri": "https://localhost:8080/",
          "height": 282
        },
        "id": "nHH0E0i6N715",
        "jupyter": {
          "outputs_hidden": false
        },
        "outputId": "a44d8bd8-38f4-4d2b-adfc-39d19e43e011"
      },
      "source": [
        "percs = X_train['Medical Perceptions']\n",
        "seq_len = [len(i.split()) for i in percs]\n",
        "\n",
        "pd.Series(seq_len).hist(bins = 30)"
      ],
      "execution_count": null,
      "outputs": [
        {
          "output_type": "execute_result",
          "data": {},
          "execution_count": 17
        },
        {
          "output_type": "display_data",
          "data": {}
        }
      ]
    },
    {
      "cell_type": "markdown",
      "metadata": {
        "id": "ONu-YYe8PIlF"
      },
      "source": [
        "###Dataset"
      ]
    },
    {
      "cell_type": "code",
      "metadata": {
        "id": "nymd7231RqJJ",
        "jupyter": {
          "outputs_hidden": false
        }
      },
      "source": [
        "class AllJoinedObservationsDataset(Dataset):\n",
        "\n",
        "    def __init__(self, data, tokenizer, chunk_len=200, overlap_len=50, approach=\"all\"):\n",
        "        self.tokenizer = tokenizer\n",
        "        self.chunk_len = chunk_len\n",
        "        self.overlap_len = overlap_len\n",
        "        self.approach = approach\n",
        "        self.data = data\n",
        "\n",
        "    def __len__(self):\n",
        "        return len(self.data)\n",
        "\n",
        "    def long_terms_tokenizer(self, tokenized_data, labels):\n",
        "        long_terms_token = []\n",
        "        input_ids_list = []\n",
        "        attention_mask_list = []\n",
        "        token_type_ids_list = []\n",
        "        labels_list = []\n",
        "\n",
        "        previous_input_ids = tokenized_data[\"input_ids\"].reshape(-1)\n",
        "        previous_attention_mask = tokenized_data[\"attention_mask\"].reshape(-1)\n",
        "        previous_token_type_ids = tokenized_data[\"token_type_ids\"].reshape(-1)\n",
        "        remain = tokenized_data.get(\"overflowing_tokens\").reshape(-1)\n",
        "        labels = torch.tensor(labels, dtype=torch.int)\n",
        "\n",
        "        input_ids_list.append(previous_input_ids)\n",
        "        attention_mask_list.append(previous_attention_mask)\n",
        "        token_type_ids_list.append(previous_token_type_ids)\n",
        "        labels_list.append(labels)\n",
        "\n",
        "        if remain.size() and self.approach != 'head':\n",
        "            remain = torch.tensor(remain, dtype=torch.long)\n",
        "            idxs = range(len(remain)+self.chunk_len)\n",
        "            idxs = idxs[(self.chunk_len-self.overlap_len-2)\n",
        "                         ::(self.chunk_len-self.overlap_len-2)]\n",
        "            input_ids_first_overlap = previous_input_ids[-(\n",
        "                self.overlap_len+1):-1]\n",
        "            start_token = torch.tensor([101], dtype=torch.long)\n",
        "            end_token = torch.tensor([102], dtype=torch.long)\n",
        "\n",
        "            for i, idx in enumerate(idxs):\n",
        "                if i == 0:\n",
        "                    input_ids = torch.cat(\n",
        "                        (input_ids_first_overlap, remain[:idx]))\n",
        "                elif i == len(idxs):\n",
        "                    input_ids = remain[idx:]\n",
        "                elif previous_idx >= len(remain):\n",
        "                    break\n",
        "                else:\n",
        "                    input_ids = remain[(previous_idx-self.overlap_len):idx]\n",
        "\n",
        "                previous_idx = idx\n",
        "\n",
        "                nb_token = len(input_ids)+2\n",
        "                attention_mask = torch.ones(self.chunk_len, dtype=torch.long)\n",
        "                attention_mask[nb_token:self.chunk_len] = 0\n",
        "                token_type_ids = torch.zeros(self.chunk_len, dtype=torch.long)\n",
        "                input_ids = torch.cat((start_token, input_ids, end_token))\n",
        "                if self.chunk_len-nb_token > 0:\n",
        "                    padding = torch.zeros(\n",
        "                        self.chunk_len-nb_token, dtype=torch.long)\n",
        "                    input_ids = torch.cat((input_ids, padding))\n",
        "\n",
        "                input_ids_list.append(input_ids)\n",
        "                attention_mask_list.append(attention_mask)\n",
        "                token_type_ids_list.append(token_type_ids)\n",
        "                labels_list.append(labels)\n",
        "            if self.approach == \"tail\":\n",
        "                input_ids_list = [input_ids_list[-1]]\n",
        "                attention_mask_list = [attention_mask_list[-1]]\n",
        "                token_type_ids_list = [token_type_ids_list[-1]]\n",
        "                labels_list = [labels_list[-1]]\n",
        "\n",
        "        return({\n",
        "            'ids': input_ids_list,  # torch.tensor(ids, dtype=torch.long),\n",
        "            # torch.tensor(mask, dtype=torch.long),\n",
        "            'mask': attention_mask_list,\n",
        "            # torch.tensor(token_type_ids, dtype=torch.long),\n",
        "            'token_type_ids': token_type_ids_list,\n",
        "            'labels': labels_list,\n",
        "            'len': [torch.tensor(len(labels_list), dtype=torch.long)]\n",
        "        })\n",
        "\n",
        "\n",
        "    def __getitem__(self, idx):\n",
        "      data_row = self.data.iloc[idx]\n",
        "      labels =  data_row[Y_KEYS]\n",
        "\n",
        "      data = self.tokenizer.encode_plus(\n",
        "            data_row['All perceptions'],\n",
        "            max_length=self.chunk_len,\n",
        "            pad_to_max_length=True,\n",
        "            add_special_tokens=True,\n",
        "            return_attention_mask=True,\n",
        "            return_token_type_ids=True,\n",
        "            return_overflowing_tokens=True,\n",
        "            return_tensors='pt')\n",
        "      \n",
        "      long_token = self.long_terms_tokenizer(data, labels)\n",
        "\n",
        "      tensor_labels = torch.tensor(labels, dtype=torch.int)\n",
        "      tensor_diags = torch.tensor(data_row[diagnoses_keys], dtype=torch.int)\n",
        "\n",
        "      dict_to_return = dict(\n",
        "          text_data = long_token,\n",
        "          labels=tensor_labels,\n",
        "          diagnostics=tensor_diags\n",
        "      )\n",
        "\n",
        "      return dict_to_return"
      ],
      "execution_count": null,
      "outputs": []
    },
    {
      "cell_type": "code",
      "metadata": {
        "id": "ShKUXwwXTJxL",
        "jupyter": {
          "outputs_hidden": false
        }
      },
      "source": [
        "class SeparatedObservationsDataset(Dataset):\n",
        "\n",
        "    def __init__(self, data, tokenizer, chunk_len=200, overlap_len=50, approach=\"all\"):\n",
        "        self.tokenizer = tokenizer\n",
        "        self.chunk_len = chunk_len\n",
        "        self.overlap_len = overlap_len\n",
        "        self.approach = approach\n",
        "        self.data = data\n",
        "\n",
        "    def __len__(self):\n",
        "        return len(self.data)\n",
        "\n",
        "    def long_terms_tokenizer(self, tokenized_data, labels):\n",
        "        long_terms_token = []\n",
        "        input_ids_list = []\n",
        "        attention_mask_list = []\n",
        "        token_type_ids_list = []\n",
        "        labels_list = []\n",
        "\n",
        "        previous_input_ids = tokenized_data[\"input_ids\"].reshape(-1)\n",
        "        previous_attention_mask = tokenized_data[\"attention_mask\"].reshape(-1)\n",
        "        previous_token_type_ids = tokenized_data[\"token_type_ids\"].reshape(-1)\n",
        "        remain = tokenized_data.get(\"overflowing_tokens\").reshape(-1)\n",
        "        labels = torch.tensor(labels, dtype=torch.int)\n",
        "\n",
        "        input_ids_list.append(previous_input_ids)\n",
        "        attention_mask_list.append(previous_attention_mask)\n",
        "        token_type_ids_list.append(previous_token_type_ids)\n",
        "        labels_list.append(labels)\n",
        "\n",
        "        if remain.size() and self.approach != 'head':\n",
        "            remain = torch.tensor(remain, dtype=torch.long)\n",
        "            idxs = range(len(remain)+self.chunk_len)\n",
        "            idxs = idxs[(self.chunk_len-self.overlap_len-2)\n",
        "                         ::(self.chunk_len-self.overlap_len-2)]\n",
        "            input_ids_first_overlap = previous_input_ids[-(\n",
        "                self.overlap_len+1):-1]\n",
        "            start_token = torch.tensor([101], dtype=torch.long)\n",
        "            end_token = torch.tensor([102], dtype=torch.long)\n",
        "\n",
        "            for i, idx in enumerate(idxs):\n",
        "                if i == 0:\n",
        "                    input_ids = torch.cat(\n",
        "                        (input_ids_first_overlap, remain[:idx]))\n",
        "                elif i == len(idxs):\n",
        "                    input_ids = remain[idx:]\n",
        "                elif previous_idx >= len(remain):\n",
        "                    break\n",
        "                else:\n",
        "                    input_ids = remain[(previous_idx-self.overlap_len):idx]\n",
        "\n",
        "                previous_idx = idx\n",
        "\n",
        "                nb_token = len(input_ids)+2\n",
        "                attention_mask = torch.ones(self.chunk_len, dtype=torch.long)\n",
        "                attention_mask[nb_token:self.chunk_len] = 0\n",
        "                token_type_ids = torch.zeros(self.chunk_len, dtype=torch.long)\n",
        "                input_ids = torch.cat((start_token, input_ids, end_token))\n",
        "                if self.chunk_len-nb_token > 0:\n",
        "                    padding = torch.zeros(\n",
        "                        self.chunk_len-nb_token, dtype=torch.long)\n",
        "                    input_ids = torch.cat((input_ids, padding))\n",
        "\n",
        "                input_ids_list.append(input_ids)\n",
        "                attention_mask_list.append(attention_mask)\n",
        "                token_type_ids_list.append(token_type_ids)\n",
        "                labels_list.append(labels)\n",
        "            if self.approach == \"tail\":\n",
        "                input_ids_list = [input_ids_list[-1]]\n",
        "                attention_mask_list = [attention_mask_list[-1]]\n",
        "                token_type_ids_list = [token_type_ids_list[-1]]\n",
        "                labels_list = [labels_list[-1]]\n",
        "\n",
        "        return({\n",
        "            'ids': input_ids_list,  # torch.tensor(ids, dtype=torch.long),\n",
        "            # torch.tensor(mask, dtype=torch.long),\n",
        "            'mask': attention_mask_list,\n",
        "            # torch.tensor(token_type_ids, dtype=torch.long),\n",
        "            'token_type_ids': token_type_ids_list,\n",
        "            'labels': labels_list,\n",
        "            'len': [torch.tensor(len(labels_list), dtype=torch.long)]\n",
        "        })\n",
        "\n",
        "\n",
        "    def __getitem__(self, idx):\n",
        "      data_row = self.data.iloc[idx]\n",
        "      labels =  data_row[Y_KEYS]\n",
        "\n",
        "      set_data = self.tokenizer.encode_plus(\n",
        "            data_row['Special Education Teacher Perceptions'],\n",
        "            max_length=self.chunk_len,\n",
        "            pad_to_max_length=True,\n",
        "            add_special_tokens=True,\n",
        "            return_attention_mask=True,\n",
        "            return_token_type_ids=True,\n",
        "            return_overflowing_tokens=True,\n",
        "            return_tensors='pt')\n",
        "    \n",
        "      st_data = self.tokenizer.encode_plus(\n",
        "            data_row['Speech Therapist Perceptions'],\n",
        "            max_length=self.chunk_len,\n",
        "            pad_to_max_length=True,\n",
        "            add_special_tokens=True,\n",
        "            return_attention_mask=True,\n",
        "            return_token_type_ids=True,\n",
        "            return_overflowing_tokens=True,\n",
        "            return_tensors='pt')\n",
        "        \n",
        "      p_data = self.tokenizer.encode_plus(\n",
        "            data_row['Psychologist Perceptions'],\n",
        "            max_length=self.chunk_len,\n",
        "            pad_to_max_length=True,\n",
        "            add_special_tokens=True,\n",
        "            return_attention_mask=True,\n",
        "            return_token_type_ids=True,\n",
        "            return_overflowing_tokens=True,\n",
        "            return_tensors='pt')\n",
        "        \n",
        "      m_data = self.tokenizer.encode_plus(\n",
        "            data_row['Medical Perceptions'],\n",
        "            max_length=self.chunk_len,\n",
        "            pad_to_max_length=True,\n",
        "            add_special_tokens=True,\n",
        "            return_attention_mask=True,\n",
        "            return_token_type_ids=True,\n",
        "            return_overflowing_tokens=True,\n",
        "            return_tensors='pt')\n",
        "      \n",
        "      set_long_token = self.long_terms_tokenizer(set_data, labels)      \n",
        "      st_long_token = self.long_terms_tokenizer(st_data, labels)      \n",
        "      p_long_token = self.long_terms_tokenizer(p_data, labels)      \n",
        "      m_long_token = self.long_terms_tokenizer(m_data, labels)\n",
        "\n",
        "      tensor_labels = torch.tensor(labels, dtype=torch.int)\n",
        "      tensor_diags = torch.tensor(data_row[diagnoses_keys], dtype=torch.int)\n",
        "\n",
        "      dict_to_return = dict(\n",
        "          text_data_set = set_long_token,\n",
        "          text_data_st = st_long_token,\n",
        "          text_data_p = p_long_token,\n",
        "          text_data_m = m_long_token,\n",
        "          labels=tensor_labels,\n",
        "          diagnostics=tensor_diags\n",
        "      )\n",
        "\n",
        "      return dict_to_return"
      ],
      "execution_count": null,
      "outputs": []
    },
    {
      "cell_type": "markdown",
      "metadata": {
        "id": "1kXynftO6NNr"
      },
      "source": [
        "###Dataloaders"
      ]
    },
    {
      "cell_type": "code",
      "metadata": {
        "colab": {
          "base_uri": "https://localhost:8080/"
        },
        "id": "0m96W-bR1Is2",
        "jupyter": {
          "outputs_hidden": false
        },
        "outputId": "6ac13466-bf32-4ff5-9560-a4cde0532685"
      },
      "source": [
        "TRAIN_BATCH_SIZE=1\n",
        "EPOCH=6\n",
        "CHUNK_LEN=150\n",
        "OVERLAP_LEN=30\n",
        "GRADIENT_ACCUMULATIONS = 16\n",
        "\n",
        "print('Loading BERT tokenizer...')\n",
        "bert_tokenizer = BertTokenizer.from_pretrained(\"dccuchile/bert-base-spanish-wwm-cased\", do_lower_case=True)\n",
        "\n",
        "def my_collate1(batches):\n",
        "  modified_batches = []\n",
        "  for batch in batches:\n",
        "    batch_dict = {}\n",
        "    for key, value in batch.items():\n",
        "      if key == \"text_data\":\n",
        "        new_dict = {}\n",
        "        for sub_key, sub_value in batch[key].items():\n",
        "          new_dict[sub_key] = torch.stack(sub_value)\n",
        "        batch_dict[key] = new_dict\n",
        "      else:\n",
        "        batch_dict[key] = value\n",
        "    modified_batches.append(batch_dict)\n",
        "  return modified_batches\n",
        "\n",
        "transformed_train_dataset=AllJoinedObservationsDataset(\n",
        "    train_dataset,\n",
        "    tokenizer=bert_tokenizer,\n",
        "    chunk_len=CHUNK_LEN,\n",
        "    overlap_len=OVERLAP_LEN)\n",
        "\n",
        "transformed_val_dataset=AllJoinedObservationsDataset(\n",
        "    val_dataset,\n",
        "    tokenizer=bert_tokenizer,\n",
        "    chunk_len=CHUNK_LEN,\n",
        "    overlap_len=OVERLAP_LEN)\n",
        "\n",
        "transformed_test_dataset=AllJoinedObservationsDataset(\n",
        "    test_dataset,\n",
        "    tokenizer=bert_tokenizer,\n",
        "    chunk_len=CHUNK_LEN,\n",
        "    overlap_len=OVERLAP_LEN)\n",
        "\n",
        "train_data_loader=DataLoader(\n",
        "    transformed_train_dataset,\n",
        "    batch_size=TRAIN_BATCH_SIZE,\n",
        "    collate_fn=my_collate1)\n",
        "\n",
        "val_data_loader=DataLoader(\n",
        "    transformed_val_dataset,\n",
        "    batch_size=TRAIN_BATCH_SIZE,\n",
        "    collate_fn=my_collate1)\n",
        "\n",
        "test_data_loader=DataLoader(\n",
        "    transformed_test_dataset,\n",
        "    batch_size=TRAIN_BATCH_SIZE,\n",
        "    collate_fn=my_collate1)\n",
        "\n",
        "############ separated observations ############\n",
        "\n",
        "def my_collate2(batches):\n",
        "  modified_batches = []\n",
        "  for batch in batches:\n",
        "    batch_dict = {}\n",
        "    for key, value in batch.items():\n",
        "      if key == \"text_data_set\" or key == \"text_data_st\" or key == \"text_data_p\" or key == \"text_data_m\":\n",
        "        new_dict = {}\n",
        "        for sub_key, sub_value in batch[key].items():\n",
        "          new_dict[sub_key] = torch.stack(sub_value)\n",
        "        batch_dict[key] = new_dict\n",
        "      else:\n",
        "        batch_dict[key] = value\n",
        "    modified_batches.append(batch_dict)\n",
        "  return modified_batches\n",
        "\n",
        "divided_transformed_train_dataset=SeparatedObservationsDataset(\n",
        "    train_dataset,\n",
        "    tokenizer=bert_tokenizer,\n",
        "    chunk_len=CHUNK_LEN,\n",
        "    overlap_len=OVERLAP_LEN)\n",
        "\n",
        "divided_transformed_val_dataset=SeparatedObservationsDataset(\n",
        "    val_dataset,\n",
        "    tokenizer=bert_tokenizer,\n",
        "    chunk_len=CHUNK_LEN,\n",
        "    overlap_len=OVERLAP_LEN)\n",
        "\n",
        "divided_transformed_test_dataset=SeparatedObservationsDataset(\n",
        "    test_dataset,\n",
        "    tokenizer=bert_tokenizer,\n",
        "    chunk_len=CHUNK_LEN,\n",
        "    overlap_len=OVERLAP_LEN)\n",
        "\n",
        "divided_train_data_loader=DataLoader(\n",
        "    divided_transformed_train_dataset,\n",
        "    batch_size=TRAIN_BATCH_SIZE,\n",
        "    collate_fn=my_collate2)\n",
        "\n",
        "divided_val_data_loader=DataLoader(\n",
        "    divided_transformed_val_dataset,\n",
        "    batch_size=TRAIN_BATCH_SIZE,\n",
        "    collate_fn=my_collate2)\n",
        "\n",
        "divided_test_data_loader=DataLoader(\n",
        "    divided_transformed_test_dataset,\n",
        "    batch_size=TRAIN_BATCH_SIZE,\n",
        "    collate_fn=my_collate2)"
      ],
      "execution_count": null,
      "outputs": [
        {
          "output_type": "stream",
          "text": [
            "Loading BERT tokenizer...\n"
          ],
          "name": "stdout"
        }
      ]
    },
    {
      "cell_type": "markdown",
      "metadata": {
        "id": "-YdpzZB_BXrg"
      },
      "source": [
        "###Fine-tunning BERT"
      ]
    },
    {
      "cell_type": "code",
      "metadata": {
        "id": "obhNNVSeB6f3",
        "jupyter": {
          "outputs_hidden": false
        }
      },
      "source": [
        "class Bert_FT_Model(nn.Module):\n",
        "    \"\"\" A Model for bert fine tuning \"\"\"\n",
        "\n",
        "    def __init__(self, n_classes):\n",
        "        super(Bert_FT_Model, self).__init__()\n",
        "        self.bert_path = \"dccuchile/bert-base-spanish-wwm-cased\"\n",
        "        self.bert = transformers.BertModel.from_pretrained(self.bert_path)\n",
        "        self.out = nn.Linear(768, n_classes)\n",
        "        self.relu = nn.ReLU()\n",
        "        self.dropout = nn.Dropout(0.3)\n",
        "\n",
        "    def forward(self, ids, mask, token_type_ids):\n",
        "        \"\"\" Define how to perfom each call\n",
        "        Parameters\n",
        "        __________\n",
        "        ids: array\n",
        "            -\n",
        "        mask: array\n",
        "            - \n",
        "        token_type_ids: array\n",
        "            -\n",
        "        Returns\n",
        "        _______\n",
        "            - \n",
        "        \"\"\"\n",
        "        _, output = self.bert(\n",
        "            ids, attention_mask=mask, token_type_ids=token_type_ids, return_dict=False)\n",
        "        output = self.relu(output)\n",
        "        output = self.dropout(output)\n",
        "        output = self.out(output)\n",
        "        # output = torch.sigmoid(output)\n",
        "        return output\n",
        "    \n",
        "    \n",
        "class Single_Bert_FT_Model(nn.Module):\n",
        "    \"\"\" A Model for bert fine tuning \"\"\"\n",
        "\n",
        "    def __init__(self):\n",
        "        super(Single_Bert_FT_Model, self).__init__()\n",
        "        self.bert_path = \"dccuchile/bert-base-spanish-wwm-cased\"\n",
        "        self.bert = transformers.BertModel.from_pretrained(self.bert_path)\n",
        "        self.out = nn.Linear(768, 1)\n",
        "        # self.relu = nn.ReLU()\n",
        "        # self.dropout = nn.Dropout(0.3)\n",
        "\n",
        "    def forward(self, ids, mask, token_type_ids, is_eval=False):\n",
        "        \"\"\" Define how to perfom each call\n",
        "        Parameters\n",
        "        __________\n",
        "        ids: array\n",
        "            -\n",
        "        mask: array\n",
        "            - \n",
        "        token_type_ids: array\n",
        "            -\n",
        "        Returns\n",
        "        _______\n",
        "            - \n",
        "        \"\"\"\n",
        "        _, output = self.bert(\n",
        "            ids, attention_mask=mask, token_type_ids=token_type_ids, return_dict=False)\n",
        "        if is_eval:\n",
        "          print('representacion: ', output)\n",
        "        # output = self.relu(output)\n",
        "        # output = self.dropout(output)\n",
        "        output = self.out(output)\n",
        "        # output = torch.sigmoid(output)\n",
        "        return output"
      ],
      "execution_count": null,
      "outputs": []
    },
    {
      "cell_type": "code",
      "metadata": {
        "id": "tLeTRY-vSEig",
        "jupyter": {
          "outputs_hidden": false
        }
      },
      "source": [
        "class Bert_Hierarchical_Model(nn.Module):\n",
        "\n",
        "    def __init__(self, n_classes, pooling_method=\"mean\"):\n",
        "        super(Bert_Hierarchical_Model, self).__init__()\n",
        "\n",
        "        self.pooling_method = pooling_method\n",
        "\n",
        "        self.bert_path = \"dccuchile/bert-base-spanish-wwm-cased\"\n",
        "        self.bert = transformers.BertModel.from_pretrained(self.bert_path)\n",
        "        self.out = nn.Linear(768, n_classes)\n",
        "        self.relu = nn.ReLU()\n",
        "        self.dropout = nn.Dropout(0.3)\n",
        "\n",
        "    def forward(self, ids, mask, token_type_ids, lengt):\n",
        "\n",
        "        _, pooled_out = self.bert(\n",
        "            ids, attention_mask=mask, token_type_ids=token_type_ids, return_dict=False)\n",
        "\n",
        "        chunks_emb = pooled_out.split_with_sizes(lengt)\n",
        "\n",
        "        if self.pooling_method == \"mean\":\n",
        "            emb_pool = torch.stack([torch.mean(x, 0) for x in chunks_emb])\n",
        "        elif self.pooling_method == \"max\":\n",
        "            emb_pool = torch.stack([torch.max(x, 0)[0] for x in chunks_emb])\n",
        "\n",
        "        output = self.relu(emb_pool)\n",
        "        output = self.dropout(output)\n",
        "        output = self.out(output)\n",
        "        # output = torch.sigmoid(output)\n",
        "\n",
        "        return output\n",
        "    \n",
        "\n",
        "class Single_Bert_Hierarchical_Model(nn.Module):\n",
        "\n",
        "    def __init__(self, pooling_method=\"mean\"):\n",
        "        super(Single_Bert_Hierarchical_Model, self).__init__()\n",
        "\n",
        "        self.pooling_method = pooling_method\n",
        "\n",
        "        self.bert_path = \"dccuchile/bert-base-spanish-wwm-cased\"\n",
        "        self.bert = transformers.BertModel.from_pretrained(self.bert_path)\n",
        "        self.out = nn.Linear(768, 1)\n",
        "#         self.relu = nn.ReLU()\n",
        "#         self.dropout = nn.Dropout(0.3)\n",
        "\n",
        "    def forward(self, ids, mask, token_type_ids, lengt):\n",
        "\n",
        "        _, pooled_out = self.bert(\n",
        "            ids, attention_mask=mask, token_type_ids=token_type_ids, return_dict=False)\n",
        "\n",
        "        chunks_emb = pooled_out.split_with_sizes(lengt)\n",
        "\n",
        "        if self.pooling_method == \"mean\":\n",
        "            output = torch.stack([torch.mean(x, 0) for x in chunks_emb])\n",
        "        elif self.pooling_method == \"max\":\n",
        "            output = torch.stack([torch.max(x, 0)[0] for x in chunks_emb])\n",
        "\n",
        "#         output = self.relu(output)\n",
        "#         output = self.dropout(output)\n",
        "        output = self.out(output)\n",
        "        # output = torch.sigmoid(output)\n",
        "\n",
        "        return output"
      ],
      "execution_count": null,
      "outputs": []
    },
    {
      "cell_type": "code",
      "metadata": {
        "id": "Xx2tUod1NMvz",
        "jupyter": {
          "outputs_hidden": false
        }
      },
      "source": [
        "import statistics\n",
        "\n",
        "def get_results(targets, outputs):\n",
        "  TN = 0\n",
        "  TP = 0\n",
        "  FP = 0\n",
        "  FN = 0\n",
        "  for (i, output) in enumerate(outputs):\n",
        "    if output==0:\n",
        "      if targets[i]==0:\n",
        "        TN += 1\n",
        "      else:\n",
        "        FN += 1\n",
        "    else:\n",
        "      if targets[i]==1:\n",
        "        TP += 1\n",
        "      else:\n",
        "        FP += 1\n",
        "  return TP, TN, FP, FN\n",
        "\n",
        "def findMinDiff(arr):\n",
        "    n = len(arr)\n",
        "    arr = sorted(arr)\n",
        "    diff = 0.5\n",
        "    for i in range(n-1):\n",
        "        if arr[i+1] - arr[i] > 0 and arr[i+1] - arr[i] < diff:\n",
        "            diff = arr[i+1] - arr[i]\n",
        "    return diff\n",
        "\n",
        "def get_thresholds(targets, outputs):\n",
        "  best_thresholds = []\n",
        "  for i in range(len(outputs[0])):\n",
        "    real_preds = outputs[:, i]\n",
        "    trues = targets[:, i]\n",
        "    max_g = 0\n",
        "#     max_f1 = 0\n",
        "    delta_threshold = 0.0001 # findMinDiff(real_preds)*0.9\n",
        "    positive_ratio = sum(trues)/len(trues)\n",
        "#     print('pr: ', positive_ratio)\n",
        "    if positive_ratio > 0.6:\n",
        "      local_best = 0\n",
        "      curr_threshold = min(real_preds)\n",
        "#       print(curr_threshold)\n",
        "      while curr_threshold < 1:\n",
        "        preds = [1 if pred > curr_threshold else 0 for pred in real_preds]\n",
        "        tp, tn, fp, fn = get_results(trues, preds)\n",
        "        recall = tp/(tp+fn)\n",
        "        specificity = tn/(tn+fp)\n",
        "        g_mean = np.sqrt(recall*specificity)\n",
        "#         f1 = f1_score(trues, preds)\n",
        "#         print(f1, max_f1, curr_threshold, local_best, tp, tn, fp, fn)\n",
        "        if tp < tn:\n",
        "          break\n",
        "        if g_mean > max_g:\n",
        "#         if f1 > max_f1:\n",
        "          max_g = g_mean\n",
        "#           max_f1 = f1\n",
        "          local_best = curr_threshold\n",
        "        curr_threshold += delta_threshold\n",
        "      best_thresholds.append(local_best)\n",
        "    elif positive_ratio < 0.4:\n",
        "      local_best = 1\n",
        "      curr_threshold = max(real_preds)\n",
        "      while curr_threshold > 0:\n",
        "        preds = [1 if pred > curr_threshold else 0 for pred in real_preds]\n",
        "        tp, tn, fp, fn = get_results(trues, preds)\n",
        "        recall = tp/(tp+fn)\n",
        "        specificity = tn/(tn+fp)\n",
        "        g_mean = np.sqrt(recall*specificity)\n",
        "#         f1 = f1_score(trues, preds)\n",
        "        if tn < tp:\n",
        "          break\n",
        "        if g_mean > max_g:\n",
        "#         if f1 > max_f1:\n",
        "          max_g = g_mean\n",
        "#           max_f1 = f1\n",
        "          local_best = curr_threshold\n",
        "        curr_threshold -= delta_threshold\n",
        "      best_thresholds.append(local_best)\n",
        "    else:\n",
        "      local_best = 0.5\n",
        "      best_thresholds.append(local_best)\n",
        "  return best_thresholds\n",
        "\n",
        "def get_individual_threshold(target, output):\n",
        "    real_preds = output\n",
        "    trues = target\n",
        "    max_g = 0\n",
        "    # max_f1 = 0\n",
        "    delta_threshold = 0.0001 # findMinDiff(real_preds)*0.9\n",
        "    positive_ratio = sum(trues)/len(trues)\n",
        "#     print('pr: ', positive_ratio)\n",
        "    if positive_ratio > 0.5:\n",
        "      local_best = 0\n",
        "      curr_threshold = min(real_preds)\n",
        "#       print(curr_threshold)\n",
        "      while curr_threshold < 1:\n",
        "        preds = [1 if pred > curr_threshold else 0 for pred in real_preds]\n",
        "        tp, tn, fp, fn = get_results(trues, preds)\n",
        "        recall = tp/(tp+fn)\n",
        "        specificity = tn/(tn+fp)\n",
        "        g_mean = np.sqrt(recall*specificity)\n",
        "        # f1 = f1_score(trues, preds)\n",
        "#         print(f1, max_f1, curr_threshold, local_best, tp, tn, fp, fn)\n",
        "        if tp < tn:\n",
        "          break\n",
        "        if g_mean > max_g:\n",
        "        # if f1 > max_f1:\n",
        "          max_g = g_mean\n",
        "          # max_f1 = f1\n",
        "          local_best = curr_threshold\n",
        "        curr_threshold += delta_threshold\n",
        "      return local_best\n",
        "    else:\n",
        "      local_best = 1\n",
        "      curr_threshold = max(real_preds)\n",
        "      while curr_threshold > 0:\n",
        "        preds = [1 if pred > curr_threshold else 0 for pred in real_preds]\n",
        "        tp, tn, fp, fn = get_results(trues, preds)\n",
        "        recall = tp/(tp+fn)\n",
        "        specificity = tn/(tn+fp)\n",
        "        g_mean = np.sqrt(recall*specificity)\n",
        "        # f1 = f1_score(trues, preds)\n",
        "        if tn < tp:\n",
        "          break\n",
        "        if g_mean > max_g:\n",
        "        # if f1 > max_f1:\n",
        "          max_g = g_mean\n",
        "          # max_f1 = f1\n",
        "          local_best = curr_threshold\n",
        "        curr_threshold -= delta_threshold\n",
        "      return local_best\n",
        "    # else:\n",
        "    #   local_best = 0.5\n",
        "    #   return local_best\n",
        "  "
      ],
      "execution_count": null,
      "outputs": []
    },
    {
      "cell_type": "code",
      "metadata": {
        "id": "NjY-9p49FBSB",
        "jupyter": {
          "outputs_hidden": false
        }
      },
      "source": [
        "def loss_fun(outputs, targets):\n",
        "    loss = nn.BCEWithLogitsLoss()\n",
        "    # loss = BinaryFocalLossWithLogits(alpha=0.25, reduction='mean')\n",
        "    try:\n",
        "      return loss(outputs, targets)\n",
        "    except Exception:\n",
        "      print(outputs, targets)\n",
        "      traceback.print_exc()\n",
        "    # return nn.BCEWithLogitsLoss()(outputs, targets)\n",
        "\n",
        "def individual_evaluation(target, predicted):\n",
        "  individual = {}\n",
        "  for i in range(len(target[0])):\n",
        "    temp_t = target[:, i]\n",
        "    temp_p = predicted[:, i]\n",
        "    diction = dict(\n",
        "        accuracy=accuracy_score(temp_t, temp_p),\n",
        "        f1=f1_score(temp_t, temp_p)\n",
        "    )\n",
        "    individual[str(i)] = diction\n",
        "  return individual\n",
        "\n",
        "def evaluate(target, predicted):\n",
        "    thresholds = get_thresholds(target, predicted)\n",
        "    print('thresholds: ', thresholds)\n",
        "    true_predicted = np.array([[1 if val > thresholds[i] else 0 for (i, val) in enumerate(pred)] for pred in predicted])\n",
        "    accuracy = accuracy_score(target, true_predicted)\n",
        "    macro_f1 = f1_score(target, true_predicted, average='macro')\n",
        "    micro_f1 = f1_score(target, true_predicted, average='micro')\n",
        "    weighted_f1 = f1_score(target, true_predicted, average='weighted')\n",
        "    hl = hamming_loss(target, true_predicted)\n",
        "    js = jaccard_score(target, true_predicted)\n",
        "    macro_js = jaccard_score(target, true_predicted, average=\"macro\")\n",
        "    micro_js = jaccard_score(target, true_predicted, average=\"micro\")\n",
        "    individual = individual_evaluation(target, true_predicted)\n",
        "    return {\n",
        "        \"accuracy\": accuracy,\n",
        "        \"jaccard_score_average\": js,\n",
        "        \"jaccard_score_macro\": macro_js,\n",
        "        \"jaccard_score_micro\": micro_js,\n",
        "        \"macro-f1\": macro_f1,\n",
        "        \"micro-f1\": micro_f1,\n",
        "        \"Hamming Loss\": hl,\n",
        "        \"Individual\": individual\n",
        "    }\n",
        "\n",
        "def individual_evaluation(target, predicted):\n",
        "    threshold = get_individual_threshold(target, predicted)\n",
        "    print('threshold: ',threshold)\n",
        "    true_predicted = np.array([1 if val > threshold else 0 for val in predicted])\n",
        "    default_true_predicted = np.array([1 if val > 0.5 else 0 for val in predicted])\n",
        "    accuracy = accuracy_score(target, true_predicted)\n",
        "    f1 = f1_score(target, true_predicted)\n",
        "    tp, tn, fp, fn = get_results(target, true_predicted)\n",
        "    recall = tp/(tp+fn)\n",
        "    specificity = tn/(tn+fp)\n",
        "    g_mean = np.sqrt(recall*specificity)\n",
        "    pr = sum(target)/len(target)\n",
        "\n",
        "    default_accuracy = accuracy_score(target, default_true_predicted)\n",
        "    default_f1 = f1_score(target, default_true_predicted)\n",
        "    tp, tn, fp, fn = get_results(target, default_true_predicted)\n",
        "    default_recall = tp/(tp+fn)\n",
        "    default_specificity = tn/(tn+fp)\n",
        "    default_g_mean = np.sqrt(default_recall*default_specificity)\n",
        "    return {\n",
        "        \"Positive Rate\": pr,\n",
        "        \"accuracy\": accuracy,\n",
        "        \"f1\": f1,\n",
        "        \"recall\": recall,\n",
        "        \"specificity\": specificity,\n",
        "        \"g_mean\": g_mean,\n",
        "        \"default_accuracy\": default_accuracy,\n",
        "        \"default_f1\": default_f1,\n",
        "        \"default_recall\": default_recall,\n",
        "        \"default_specificity\": default_specificity,\n",
        "        \"default_g_mean\": default_g_mean\n",
        "    }"
      ],
      "execution_count": null,
      "outputs": []
    },
    {
      "cell_type": "code",
      "metadata": {
        "id": "uJ6Ao0FkE3jx",
        "jupyter": {
          "outputs_hidden": false
        }
      },
      "source": [
        "def train_loop_fun1(data_loader, model, optimizer, device, grad_accs, scheduler=None):\n",
        "    model.train()\n",
        "    t0 = time.time()\n",
        "    losses = []\n",
        "    optimizer.zero_grad()\n",
        "    for batch_idx, batch in enumerate(data_loader):\n",
        "        ids = [data[\"text_data\"][\"ids\"] for data in batch]\n",
        "        mask = [data[\"text_data\"][\"mask\"] for data in batch]\n",
        "        token_type_ids = [data[\"text_data\"][\"token_type_ids\"] for data in batch]\n",
        "        targets = [data[\"text_data\"][\"labels\"] for data in batch]\n",
        "        lengt = [data[\"text_data\"]['len'] for data in batch]\n",
        "\n",
        "        ids = torch.cat(ids)\n",
        "        mask = torch.cat(mask)\n",
        "        token_type_ids = torch.cat(token_type_ids)\n",
        "        targets = torch.cat(targets)\n",
        "        lengt = torch.cat(lengt)\n",
        "\n",
        "        ids = ids.to(device, dtype=torch.long)\n",
        "        mask = mask.to(device, dtype=torch.long)\n",
        "        token_type_ids = token_type_ids.to(device, dtype=torch.long)\n",
        "        targets = targets.to(device, dtype=torch.float)\n",
        "\n",
        "        outputs = model(ids=ids, mask=mask, token_type_ids=token_type_ids)\n",
        "        loss = loss_fun(outputs, targets)\n",
        "        (loss / grad_accs).backward()\n",
        "        model.float()\n",
        "        if (batch_idx + 1) % grad_accs == 0:\n",
        "            optimizer.step()\n",
        "            optimizer.zero_grad()\n",
        "            if scheduler:\n",
        "                scheduler.step()\n",
        "        losses.append(loss.item())\n",
        "        if batch_idx % 250 == 0:\n",
        "            print(\n",
        "                f\"___ batch index = {batch_idx} / {len(data_loader)} ({100*batch_idx / len(data_loader):.2f}%), loss = {np.mean(losses[-10:]):.4f}, time = {time.time()-t0:.2f} seconds ___\")\n",
        "            t0 = time.time()\n",
        "    return losses\n",
        "\n",
        "\n",
        "def individual_train_loop_fun1(data_loader, model, optimizer, device, grad_accs, scheduler=None, label_index=0):\n",
        "    model.train()\n",
        "    t0 = time.time()\n",
        "    losses = []\n",
        "    optimizer.zero_grad()\n",
        "    for batch_idx, batch in enumerate(data_loader):\n",
        "        ids = [data[\"text_data\"][\"ids\"] for data in batch]\n",
        "        mask = [data[\"text_data\"][\"mask\"] for data in batch]\n",
        "        token_type_ids = [data[\"text_data\"][\"token_type_ids\"] for data in batch]\n",
        "        labels = [data[\"text_data\"][\"labels\"][:, label_index] for data in batch]\n",
        "        targets = []\n",
        "        for label_set in labels:\n",
        "          miniset = []\n",
        "          for label in label_set:\n",
        "            miniset.append(torch.tensor([label]))\n",
        "          targets.append(torch.stack(miniset))\n",
        "        lengt = [data[\"text_data\"]['len'] for data in batch]\n",
        "\n",
        "        ids = torch.cat(ids)\n",
        "        mask = torch.cat(mask)\n",
        "        token_type_ids = torch.cat(token_type_ids)\n",
        "        targets = torch.cat(targets)\n",
        "        lengt = torch.cat(lengt)\n",
        "\n",
        "        ids = ids.to(device, dtype=torch.long)\n",
        "        mask = mask.to(device, dtype=torch.long)\n",
        "        token_type_ids = token_type_ids.to(device, dtype=torch.long)\n",
        "        targets = targets.to(device, dtype=torch.float)\n",
        "\n",
        "        outputs = model(ids=ids, mask=mask, token_type_ids=token_type_ids)\n",
        "        # outputs = torch.cat(torch.unbind(outputs))\n",
        "        loss = loss_fun(outputs, targets)\n",
        "        (loss / grad_accs).backward()\n",
        "        model.float()\n",
        "        if (batch_idx + 1) % grad_accs == 0:\n",
        "            optimizer.step()\n",
        "            optimizer.zero_grad()\n",
        "            if scheduler:\n",
        "                scheduler.step()\n",
        "        losses.append(loss.item())\n",
        "        if batch_idx % 250 == 0:\n",
        "            print(\n",
        "                f\"___ batch index = {batch_idx} / {len(data_loader)} ({100*batch_idx / len(data_loader):.2f}%), loss = {np.mean(losses[-10:]):.4f}, time = {time.time()-t0:.2f} seconds ___\")\n",
        "            t0 = time.time()\n",
        "    return losses"
      ],
      "execution_count": null,
      "outputs": []
    },
    {
      "cell_type": "code",
      "metadata": {
        "id": "2J2zX4Oltoz7",
        "jupyter": {
          "outputs_hidden": false
        }
      },
      "source": [
        "def eval_loop_fun1(data_loader, model, device):\n",
        "    model.eval()\n",
        "    fin_targets = []\n",
        "    fin_outputs = []\n",
        "    losses = []\n",
        "    for batch_idx, batch in enumerate(data_loader):\n",
        "        ids = [data[\"text_data\"][\"ids\"] for data in batch]\n",
        "        mask = [data[\"text_data\"][\"mask\"] for data in batch]\n",
        "        token_type_ids = [data[\"text_data\"][\"token_type_ids\"] for data in batch]\n",
        "        targets = [data[\"text_data\"][\"labels\"] for data in batch]\n",
        "\n",
        "        ids = torch.cat(ids)\n",
        "        mask = torch.cat(mask)\n",
        "        token_type_ids = torch.cat(token_type_ids)\n",
        "        targets = torch.cat(targets)\n",
        "\n",
        "        ids = ids.to(device, dtype=torch.long)\n",
        "        mask = mask.to(device, dtype=torch.long)\n",
        "        token_type_ids = token_type_ids.to(device, dtype=torch.long)\n",
        "        targets = targets.to(device, dtype=torch.float)\n",
        "\n",
        "        with torch.no_grad():\n",
        "            outputs = model(ids=ids, mask=mask, token_type_ids=token_type_ids)\n",
        "            loss = loss_fun(outputs, targets)\n",
        "            losses.append(loss.item())\n",
        "\n",
        "        outputs = torch.sigmoid(outputs)\n",
        "        fin_targets.append(targets.cpu().detach().numpy())\n",
        "        fin_outputs.append(outputs.cpu().detach().numpy())\n",
        "    return np.concatenate(fin_outputs), np.concatenate(fin_targets), losses\n",
        "\n",
        "def individual_eval_loop_fun1(data_loader, model, device, label_index=0):\n",
        "    model.eval()\n",
        "    fin_targets = []\n",
        "    fin_outputs = []\n",
        "    losses = []\n",
        "    for batch_idx, batch in enumerate(data_loader):\n",
        "        ids = [data[\"text_data\"][\"ids\"] for data in batch]\n",
        "        mask = [data[\"text_data\"][\"mask\"] for data in batch]\n",
        "        token_type_ids = [data[\"text_data\"][\"token_type_ids\"] for data in batch]\n",
        "        labels = [data[\"text_data\"][\"labels\"][:, label_index] for data in batch]\n",
        "        targets = []\n",
        "        for label_set in labels:\n",
        "          miniset = []\n",
        "          for label in label_set:\n",
        "            miniset.append(torch.tensor([label]))\n",
        "          targets.append(torch.stack(miniset))\n",
        "\n",
        "        ids = torch.cat(ids)\n",
        "        mask = torch.cat(mask)\n",
        "        token_type_ids = torch.cat(token_type_ids)\n",
        "        targets = torch.cat(targets)\n",
        "\n",
        "        ids = ids.to(device, dtype=torch.long)\n",
        "        mask = mask.to(device, dtype=torch.long)\n",
        "        token_type_ids = token_type_ids.to(device, dtype=torch.long)\n",
        "        targets = targets.to(device, dtype=torch.float)\n",
        "\n",
        "        with torch.no_grad():\n",
        "            outputs = model(ids=ids, mask=mask, token_type_ids=token_type_ids)\n",
        "            # outputs = torch.cat(torch.unbind(outputs))\n",
        "            loss = loss_fun(outputs, targets)\n",
        "            losses.append(loss.item())\n",
        "\n",
        "        outputs = torch.sigmoid(outputs)\n",
        "        fin_targets.append(targets.cpu().detach().numpy())\n",
        "        fin_outputs.append(outputs.cpu().detach().numpy())\n",
        "    # print(fin_outputs)\n",
        "    return np.concatenate(fin_outputs), np.concatenate(fin_targets), losses"
      ],
      "execution_count": null,
      "outputs": []
    },
    {
      "cell_type": "code",
      "metadata": {
        "id": "X4S1UA-2Bbak",
        "jupyter": {
          "outputs_hidden": false
        },
        "scrolled": true,
        "outputId": "ba05323b-8ef5-4bd6-e8bd-4c39e7b66df3"
      },
      "source": [
        "# best_global_f1 = 0\n",
        "# best_global_model = 0\n",
        "# best_i = 0\n",
        "\n",
        "learning_rates_results = {\n",
        "    0: {\n",
        "        \"1_6\": 0.5325153374233128,\n",
        "        \"5_6\": 0.5848269089123497,\n",
        "        \"10_6\": 0.5285329414646093,\n",
        "        \"15_6\": \"destroyed\"\n",
        "  },\n",
        "    1: {\n",
        "        \"1_6\": 0.5084662576687116,\n",
        "        \"5_6\": 0.5188017845761632,\n",
        "        \"10_6\": 0.5148916967509025,\n",
        "        \"15_6\": \"destroyed\",\n",
        "    },\n",
        "    2: {\n",
        "        \"1_6\": 0.19258167526406286,\n",
        "        \"5_6\": 0.18746964545896067,\n",
        "        \"10_6\": \"destroyed\"\n",
        "    },\n",
        "    3: {\n",
        "        \"1_6\": 0.43559488692232046,\n",
        "        \"5_6\": 0.4472324723247232,\n",
        "        \"10_6\": 0.42899408284023666,\n",
        "        \"15_6\": 0.3855297157622739,\n",
        "        \"20_6\": 0.44406196213425125,\n",
        "        \"25_6\": \"destroyed\"\n",
        "    },\n",
        "    4: {\n",
        "        \"1_6\": 0.34560628375061364,\n",
        "        \"5_6\": \"destroyed\"\n",
        "    },\n",
        "    5: {\n",
        "        \"1_6\": 0.19293078055964655,\n",
        "        \"5_6\": \"destroyed\"\n",
        "    },\n",
        "    6: {\n",
        "        \"1_6\": 0.5096980112938866,\n",
        "        \"5_6\": 0.5283757338551859,\n",
        "        \"10_6\": \"destroyed\"\n",
        "    },\n",
        "    7: {\n",
        "        \"1_6\": 0.02995335133808004,\n",
        "        \"5_6\": 0.029568589432864757,\n",
        "        \"10_6\": 0.029872673849167482,\n",
        "        \"15_6\": \"destroyed\"\n",
        "    },\n",
        "    8: {\n",
        "        \"1_6\": 0.0343980343980344,\n",
        "        \"5_6\": 0.034778349253000246,\n",
        "        \"10_6\": 0.034407559970923186,\n",
        "        \"15_6\": 0.03457511565619674,\n",
        "        \"20_6\": \"destroyed\"\n",
        "    },\n",
        "    9: {\n",
        "        \"1_6\": 0.09423312883435583,\n",
        "        \"5_6\": 0.09205819222513711,\n",
        "        \"10_6\": \"destroyed\"\n",
        "    },\n",
        "    10: {\n",
        "        \"1_6\": 0.04637539663168171,\n",
        "        \"5_6\": 0.0464774951076321,\n",
        "        \"10_6\": 0.045820131611016335,\n",
        "        \"15_6\": 0.045728038507821894,\n",
        "        \"20_6\": \"destroyed\"\n",
        "    },\n",
        "    11: {\n",
        "        \"1_6\": 0.5153223829369944,\n",
        "        \"5_6\": 0.5170635894917751,\n",
        "        \"10_6\": 0.5230844793713163,\n",
        "        \"15_6\": 0.4995098039215686,\n",
        "        \"20_6\": 0.5038910505836575,\n",
        "        \"25_6\": \"destroyed\"\n",
        "    },\n",
        "    12: {\n",
        "        \"1_6\": 0.3500491642084562,\n",
        "        \"5_6\": 0.35111876075731496,\n",
        "        \"10_6\": 0.34808259587020646,\n",
        "        \"15_6\": 0.35013523481681824,\n",
        "        \"20_6\": 0.3544739429695182,\n",
        "        \"25_6\": 0.348574237954769\n",
        "    },\n",
        "    13: {\n",
        "        \"1_6\": 0.16213568454567717,\n",
        "        \"5_6\": 0.16129032258064518,\n",
        "        \"10_6\": 0.1601996823235761,\n",
        "        \"15_6\": \"destroyed\"\n",
        "    }\n",
        "\n",
        "}\n",
        "\n",
        "learning_rates_coeffs = {\n",
        "    0: 5,\n",
        "    1: 5,\n",
        "    2: 1,\n",
        "    3: 5,\n",
        "    4: 1,\n",
        "    5: 1,\n",
        "    6: 5,\n",
        "    7: 1,\n",
        "    8: 5,\n",
        "    9: 1,\n",
        "    10: 10,\n",
        "    11: 10,\n",
        "    12: 20,\n",
        "    13: 1\n",
        "}\n",
        "\n",
        "\n",
        "MULTI_LABELS = [1, 2, 3, 4, 5, 6, 7, 8, 9, 10, 11, 12, 13]\n",
        "\n",
        "for lab in MULTI_LABELS:\n",
        "    LABEL_INDEX = lab\n",
        "    i = learning_rates_coeffs[LABEL_INDEX]\n",
        "\n",
        "    print('#################################################### Para label: ', Y_KEYS[LABEL_INDEX], \" (\"+str(LABEL_INDEX)+\") ##############\")\n",
        "    # i = 20\n",
        "\n",
        "    print(\"------------------------------------------- exp: \"+str(i)+\"*1e-6 -----------------------------------------\")\n",
        "    lr=(i)*1e-6 # Algunos lr hacen que BERT se destruya \n",
        "    num_training_steps=int(len(transformed_train_dataset) / TRAIN_BATCH_SIZE * EPOCH)\n",
        "\n",
        "    # Modify according to individual or all\n",
        "    # if i > 0:\n",
        "    #     del model\n",
        "    #     del best_model\n",
        "    model=Single_Bert_FT_Model().to(device) # Bert_FT_Model(len(Y_KEYS)).to(device)\n",
        "    optimizer=AdamW(model.parameters(), lr=lr)\n",
        "    scheduler = get_linear_schedule_with_warmup(optimizer, \n",
        "                                          num_warmup_steps=0,\n",
        "                                          num_training_steps=num_training_steps)\n",
        "    val_losses=[]\n",
        "    batches_losses=[]\n",
        "    val_acc=[]\n",
        "\n",
        "    best_model = None\n",
        "    best_g_mean = 0\n",
        "\n",
        "    for epoch in range(EPOCH):\n",
        "      t0 = time.time()    \n",
        "      print(f\"\\n=============== EPOCH {epoch+1} / {EPOCH} ===============\\n\")\n",
        "      # Modify according to individual or all\n",
        "      batches_losses_tmp=individual_train_loop_fun1(train_data_loader, model, optimizer, device, GRADIENT_ACCUMULATIONS, scheduler=scheduler, label_index=LABEL_INDEX)\n",
        "      epoch_loss=np.mean(batches_losses_tmp)\n",
        "      print(f\"\\n*** avg_loss : {epoch_loss:.2f}, time : ~{(time.time()-t0)//60} min ({time.time()-t0:.2f} sec) ***\\n\")\n",
        "      t1=time.time()\n",
        "      # Modify according to individual or all\n",
        "      output, target, val_losses_tmp=individual_eval_loop_fun1(val_data_loader, model, device, label_index=LABEL_INDEX)\n",
        "      print(f\"==> evaluation : avg_loss = {np.mean(val_losses_tmp):.2f}, time : {time.time()-t1:.2f} sec\\n\")\n",
        "      # Modify according to individual or all\n",
        "      tmp_evaluate=individual_evaluation(target, output)\n",
        "      if tmp_evaluate['g_mean'] > best_g_mean or tmp_evaluate['default_g_mean'] > best_g_mean:# and tmp_evaluate['recall'] != 0 and tmp_evaluate['specificity'] != 0:\n",
        "        del best_model\n",
        "        torch.cuda.empty_cache()\n",
        "        best_model = model\n",
        "        if tmp_evaluate['g_mean'] > tmp_evaluate['default_g_mean']:\n",
        "            best_g_mean = tmp_evaluate['g_mean']\n",
        "        else:\n",
        "            best_g_mean = tmp_evaluate['default_g_mean']\n",
        "      print(f\"=====>\\t{tmp_evaluate}\")\n",
        "      val_acc.append(tmp_evaluate['accuracy'])\n",
        "      val_losses.append(val_losses_tmp)\n",
        "      batches_losses.append(batches_losses_tmp)\n",
        "    torch.save(best_model, f\"/research/jamunoz/models/fine_tuned_bert/model_\"+str(lab)+\".pt\")\n",
        "    del model, optimizer, scheduler, best_model\n",
        "    torch.cuda.empty_cache()\n",
        "    print(\"@@@@@@@@@@@@@@@@@@@@@@@@@@@@@@@@@@@@@@@@@@@@@ END @@@@@@@@@@@@@@@@@@@@@@@@@@@@@@@@@@@@@@@@@\")\n",
        "\n",
        "# if best_model:\n",
        "#     if best_f1 > best_global_f1:\n",
        "#       best_global_f1 = best_f1\n",
        "#       best_global_model = best_model\n",
        "#       best_i = i\n",
        "#       print('hay uno mejor')\n",
        "#     else:\n",
        "#       print('hay uno bueno pero no lo suficiente')\n",
        "# else:\n",
        "#     print('murió para este: ', lr)\n",
        "# if best_global_model:\n",
        "#   torch.save(best_global_model, f\"/research/jamunoz/models/fine_tuned_bert/model_\"+str(LABEL_INDEX)+\"__f1_\"+str(best_global_f1)+\"__lr_\"+str(best_i)+\"_10-6.pt\")\n",
        "#   print(\"\\t§§ model has been saved §§\")\n",
        "# else:\n",
        "#   print(\"como que murió el modelo\")"
      ],
      "execution_count": null,
      "outputs": [
        {
          "output_type": "stream",
          "text": [
            "#################################################### Para label:  Apoyo pedagógico personal  (1) ##############\n",
            "------------------------------------------- exp: 5*1e-6 -----------------------------------------\n"
          ],
          "name": "stdout"
        },
        {
          "output_type": "stream",
          "text": [
            "Some weights of BertModel were not initialized from the model checkpoint at dccuchile/bert-base-spanish-wwm-cased and are newly initialized: ['bert.pooler.dense.weight', 'bert.pooler.dense.bias']\n",
            "You should probably TRAIN this model on a down-stream task to be able to use it for predictions and inference.\n"
          ],
          "name": "stderr"
        },
        {
          "output_type": "stream",
          "text": [
            "Truncation was not explicitly activated but `max_length` is provided a specific value, please use `truncation=True` to explicitly truncate examples to max length. Defaulting to 'longest_first' truncation strategy. If you encode pairs of sequences (GLUE-style) with the tokenizer you can select this strategy more precisely by providing a specific strategy to `truncation`.\n"
          ],
          "name": "stderr"
        },
        {
          "output_type": "stream",
          "text": [
            "\n",
            "=============== EPOCH 1 / 6 ===============\n",
            "\n",
            "___ batch index = 0 / 1836 (0.00%), loss = 0.8387, time = 0.19 seconds ___\n"
          ],
          "name": "stdout"
        },
        {
          "output_type": "stream",
          "text": [
            "/home/jamunoz/anaconda3/lib/python3.8/site-packages/transformers/tokenization_utils_base.py:2016: FutureWarning: The `pad_to_max_length` argument is deprecated and will be removed in a future version, use `padding=True` or `padding='longest'` to pad to the longest sequence in the batch, or use `padding='max_length'` to pad to a max length. In this case, you can give a specific length with `max_length` (e.g. `max_length=45`) or leave max_length to None to pad to the maximal input size of the model (e.g. 512 for Bert).\n",
            "  warnings.warn(\n",
            "<ipython-input-18-5fb9fe6293fb>:32: UserWarning: To copy construct from a tensor, it is recommended to use sourceTensor.clone().detach() or sourceTensor.clone().detach().requires_grad_(True), rather than torch.tensor(sourceTensor).\n",
            "  remain = torch.tensor(remain, dtype=torch.long)\n"
          ],
          "name": "stderr"
        },
        {
          "output_type": "stream",
          "text": [
            "___ batch index = 250 / 1836 (13.62%), loss = 0.6198, time = 29.02 seconds ___\n"
          ],
          "name": "stdout"
        },
        {
          "output_type": "stream",
          "text": [
            "___ batch index = 500 / 1836 (27.23%), loss = 0.5392, time = 27.99 seconds ___\n"
          ],
          "name": "stdout"
        },
        {
          "output_type": "stream",
          "text": [
            "___ batch index = 750 / 1836 (40.85%), loss = 0.6802, time = 25.99 seconds ___\n"
          ],
          "name": "stdout"
        },
        {
          "output_type": "stream",
          "text": [
            "___ batch index = 1000 / 1836 (54.47%), loss = 0.5528, time = 29.75 seconds ___\n"
          ],
          "name": "stdout"
        },
        {
          "output_type": "stream",
          "text": [
            "___ batch index = 1250 / 1836 (68.08%), loss = 0.1488, time = 27.00 seconds ___\n"
          ],
          "name": "stdout"
        },
        {
          "output_type": "stream",
          "text": [
            "___ batch index = 1500 / 1836 (81.70%), loss = 1.0474, time = 27.24 seconds ___\n"
          ],
          "name": "stdout"
        },
        {
          "output_type": "stream",
          "text": [
            "___ batch index = 1750 / 1836 (95.32%), loss = 0.1611, time = 29.72 seconds ___\n"
          ],
          "name": "stdout"
        },
        {
          "output_type": "stream",
          "text": [
            "\n",
            "*** avg_loss : 0.70, time : ~3.0 min (208.25 sec) ***\n",
            "\n"
          ],
          "name": "stdout"
        },
        {
          "output_type": "stream",
          "text": [
            "==> evaluation : avg_loss = 1.07, time : 28.66 sec\n",
            "\n"
          ],
          "name": "stdout"
        },
        {
          "output_type": "stream",
          "text": [
            "threshold:  [0.06533708]\n"
          ],
          "name": "stdout"
        },
        {
          "output_type": "stream",
          "text": [
            "=====>\t{'Positive Rate': array([0.3826493], dtype=float32), 'accuracy': 0.4440894568690096, 'f1': 0.45097087378640777, 'recall': 0.596660244059088, 'specificity': 0.3495222929936306, 'g_mean': 0.45666843184270106, 'default_accuracy': 0.617350700417793, 'default_f1': 0.0, 'default_recall': 0.0, 'default_specificity': 1.0, 'default_g_mean': 0.0}\n",
            "\n",
            "=============== EPOCH 2 / 6 ===============\n",
            "\n",
            "___ batch index = 0 / 1836 (0.00%), loss = 0.1083, time = 0.11 seconds ___\n"
          ],
          "name": "stdout"
        },
        {
          "output_type": "stream",
          "text": [
            "___ batch index = 250 / 1836 (13.62%), loss = 0.6239, time = 29.10 seconds ___\n"
          ],
          "name": "stdout"
        },
        {
          "output_type": "stream",
          "text": [
            "___ batch index = 500 / 1836 (27.23%), loss = 0.6435, time = 28.09 seconds ___\n"
          ],
          "name": "stdout"
        },
        {
          "output_type": "stream",
          "text": [
            "___ batch index = 750 / 1836 (40.85%), loss = 0.6761, time = 26.13 seconds ___\n"
          ],
          "name": "stdout"
        },
        {
          "output_type": "stream",
          "text": [
            "___ batch index = 1000 / 1836 (54.47%), loss = 0.5160, time = 29.81 seconds ___\n"
          ],
          "name": "stdout"
        },
        {
          "output_type": "stream",
          "text": [
            "___ batch index = 1250 / 1836 (68.08%), loss = 0.0708, time = 27.03 seconds ___\n"
          ],
          "name": "stdout"
        },
        {
          "output_type": "stream",
          "text": [
            "___ batch index = 1500 / 1836 (81.70%), loss = 0.5259, time = 27.28 seconds ___\n"
          ],
          "name": "stdout"
        },
        {
          "output_type": "stream",
          "text": [
            "___ batch index = 1750 / 1836 (95.32%), loss = 0.1605, time = 29.76 seconds ___\n"
          ],
          "name": "stdout"
        },
        {
          "output_type": "stream",
          "text": [
            "\n",
            "*** avg_loss : 0.63, time : ~3.0 min (208.67 sec) ***\n",
            "\n"
          ],
          "name": "stdout"
        },
        {
          "output_type": "stream",
          "text": [
            "==> evaluation : avg_loss = 1.05, time : 28.67 sec\n",
            "\n"
          ],
          "name": "stdout"
        },
        {
          "output_type": "stream",
          "text": [
            "threshold:  [0.08426866]\n",
            "=====>\t{'Positive Rate': array([0.3826493], dtype=float32), 'accuracy': 0.46424182845908085, 'f1': 0.5236013986013986, 'recall': 0.7694283879254977, 'specificity': 0.2750796178343949, 'g_mean': 0.46005876461760886, 'default_accuracy': 0.617350700417793, 'default_f1': 0.0, 'default_recall': 0.0, 'default_specificity': 1.0, 'default_g_mean': 0.0}\n",
            "\n",
            "=============== EPOCH 3 / 6 ===============\n",
            "\n"
          ],
          "name": "stdout"
        },
        {
          "output_type": "stream",
          "text": [
            "___ batch index = 0 / 1836 (0.00%), loss = 0.0997, time = 0.07 seconds ___\n"
          ],
          "name": "stdout"
        },
        {
          "output_type": "stream",
          "text": [
            "___ batch index = 250 / 1836 (13.62%), loss = 0.6249, time = 29.09 seconds ___\n"
          ],
          "name": "stdout"
        },
        {
          "output_type": "stream",
          "text": [
            "___ batch index = 500 / 1836 (27.23%), loss = 0.6839, time = 28.09 seconds ___\n"
          ],
          "name": "stdout"
        },
        {
          "output_type": "stream",
          "text": [
            "___ batch index = 750 / 1836 (40.85%), loss = 0.6750, time = 26.14 seconds ___\n"
          ],
          "name": "stdout"
        },
        {
          "output_type": "stream",
          "text": [
            "___ batch index = 1000 / 1836 (54.47%), loss = 0.4109, time = 29.81 seconds ___\n"
          ],
          "name": "stdout"
        },
        {
          "output_type": "stream",
          "text": [
            "___ batch index = 1250 / 1836 (68.08%), loss = 0.0654, time = 27.05 seconds ___\n"
          ],
          "name": "stdout"
        },
        {
          "output_type": "stream",
          "text": [
            "___ batch index = 1500 / 1836 (81.70%), loss = 0.8946, time = 27.28 seconds ___\n"
          ],
          "name": "stdout"
        },
        {
          "output_type": "stream",
          "text": [
            "___ batch index = 1750 / 1836 (95.32%), loss = 0.1585, time = 29.77 seconds ___\n"
          ],
          "name": "stdout"
        },
        {
          "output_type": "stream",
          "text": [
            "\n",
            "*** avg_loss : 0.71, time : ~3.0 min (208.67 sec) ***\n",
            "\n"
          ],
          "name": "stdout"
        },
        {
          "output_type": "stream",
          "text": [
            "==> evaluation : avg_loss = 1.08, time : 28.67 sec\n",
            "\n"
          ],
          "name": "stdout"
        },
        {
          "output_type": "stream",
          "text": [
            "threshold:  [0.07963051]\n",
            "=====>\t{'Positive Rate': array([0.3826493], dtype=float32), 'accuracy': 0.4290980584910297, 'f1': 0.519942136805125, 'recall': 0.8079640333975594, 'specificity': 0.1942675159235669, 'g_mean': 0.39618324765659857, 'default_accuracy': 0.617350700417793, 'default_f1': 0.0, 'default_recall': 0.0, 'default_specificity': 1.0, 'default_g_mean': 0.0}\n",
            "\n",
            "=============== EPOCH 4 / 6 ===============\n",
            "\n",
            "___ batch index = 0 / 1836 (0.00%), loss = 0.1011, time = 0.08 seconds ___\n"
          ],
          "name": "stdout"
        },
        {
          "output_type": "stream",
          "text": [
            "___ batch index = 250 / 1836 (13.62%), loss = 0.6726, time = 29.12 seconds ___\n"
          ],
          "name": "stdout"
        },
        {
          "output_type": "stream",
          "text": [
            "___ batch index = 500 / 1836 (27.23%), loss = 0.6205, time = 28.11 seconds ___\n"
          ],
          "name": "stdout"
        },
        {
          "output_type": "stream",
          "text": [
            "___ batch index = 750 / 1836 (40.85%), loss = 0.6832, time = 26.06 seconds ___\n"
          ],
          "name": "stdout"
        },
        {
          "output_type": "stream",
          "text": [
            "___ batch index = 1000 / 1836 (54.47%), loss = 0.4542, time = 29.81 seconds ___\n"
          ],
          "name": "stdout"
        },
        {
          "output_type": "stream",
          "text": [
            "___ batch index = 1250 / 1836 (68.08%), loss = 0.1047, time = 27.04 seconds ___\n"
          ],
          "name": "stdout"
        },
        {
          "output_type": "stream",
          "text": [
            "___ batch index = 1500 / 1836 (81.70%), loss = 0.4687, time = 27.28 seconds ___\n"
          ],
          "name": "stdout"
        },
        {
          "output_type": "stream",
          "text": [
            "___ batch index = 1750 / 1836 (95.32%), loss = 0.1125, time = 29.76 seconds ___\n"
          ],
          "name": "stdout"
        },
        {
          "output_type": "stream",
          "text": [
            "\n",
            "*** avg_loss : 0.62, time : ~3.0 min (208.58 sec) ***\n",
            "\n"
          ],
          "name": "stdout"
        },
        {
          "output_type": "stream",
          "text": [
            "==> evaluation : avg_loss = 1.17, time : 28.69 sec\n",
            "\n"
          ],
          "name": "stdout"
        },
        {
          "output_type": "stream",
          "text": [
            "threshold:  [0.06193095]\n",
            "=====>\t{'Positive Rate': array([0.3826493], dtype=float32), 'accuracy': 0.3890390759400344, 'f1': 0.5433504775900073, 'recall': 0.9499036608863198, 'specificity': 0.041401273885350316, 'g_mean': 0.19831092160809363, 'default_accuracy': 0.617350700417793, 'default_f1': 0.0, 'default_recall': 0.0, 'default_specificity': 1.0, 'default_g_mean': 0.0}\n",
            "\n",
            "=============== EPOCH 5 / 6 ===============\n",
            "\n",
            "___ batch index = 0 / 1836 (0.00%), loss = 0.0818, time = 0.08 seconds ___\n"
          ],
          "name": "stdout"
        },
        {
          "output_type": "stream",
          "text": [
            "___ batch index = 250 / 1836 (13.62%), loss = 0.7494, time = 29.13 seconds ___\n"
          ],
          "name": "stdout"
        },
        {
          "output_type": "stream",
          "text": [
            "___ batch index = 500 / 1836 (27.23%), loss = 0.5228, time = 28.11 seconds ___\n"
          ],
          "name": "stdout"
        },
        {
          "output_type": "stream",
          "text": [
            "___ batch index = 750 / 1836 (40.85%), loss = 0.6820, time = 26.06 seconds ___\n"
          ],
          "name": "stdout"
        },
        {
          "output_type": "stream",
          "text": [
            "___ batch index = 1000 / 1836 (54.47%), loss = 0.4880, time = 29.82 seconds ___\n"
          ],
          "name": "stdout"
        },
        {
          "output_type": "stream",
          "text": [
            "___ batch index = 1250 / 1836 (68.08%), loss = 0.1145, time = 27.05 seconds ___\n"
          ],
          "name": "stdout"
        },
        {
          "output_type": "stream",
          "text": [
            "___ batch index = 1500 / 1836 (81.70%), loss = 1.1687, time = 27.29 seconds ___\n"
          ],
          "name": "stdout"
        },
        {
          "output_type": "stream",
          "text": [
            "___ batch index = 1750 / 1836 (95.32%), loss = 0.2470, time = 29.77 seconds ___\n"
          ],
          "name": "stdout"
        },
        {
          "output_type": "stream",
          "text": [
            "\n",
            "*** avg_loss : 0.75, time : ~3.0 min (208.64 sec) ***\n",
            "\n"
          ],
          "name": "stdout"
        },
        {
          "output_type": "stream",
          "text": [
            "==> evaluation : avg_loss = 0.88, time : 28.69 sec\n",
            "\n"
          ],
          "name": "stdout"
        },
        {
          "output_type": "stream",
          "text": [
            "threshold:  [0.14306349]\n",
            "=====>\t{'Positive Rate': array([0.3826493], dtype=float32), 'accuracy': 0.4047677562054559, 'f1': 0.53813882532418, 'recall': 0.9062299293513166, 'specificity': 0.09394904458598727, 'g_mean': 0.2917866275856091, 'default_accuracy': 0.617350700417793, 'default_f1': 0.0, 'default_recall': 0.0, 'default_specificity': 1.0, 'default_g_mean': 0.0}\n",
            "\n",
            "=============== EPOCH 6 / 6 ===============\n",
            "\n",
            "___ batch index = 0 / 1836 (0.00%), loss = 0.1679, time = 0.08 seconds ___\n"
          ],
          "name": "stdout"
        },
        {
          "output_type": "stream",
          "text": [
            "___ batch index = 250 / 1836 (13.62%), loss = 0.6781, time = 29.09 seconds ___\n"
          ],
          "name": "stdout"
        },
        {
          "output_type": "stream",
          "text": [
            "___ batch index = 500 / 1836 (27.23%), loss = 0.5134, time = 28.10 seconds ___\n"
          ],
          "name": "stdout"
        },
        {
          "output_type": "stream",
          "text": [
            "___ batch index = 750 / 1836 (40.85%), loss = 0.6640, time = 26.06 seconds ___\n"
          ],
          "name": "stdout"
        },
        {
          "output_type": "stream",
          "text": [
            "___ batch index = 1000 / 1836 (54.47%), loss = 0.4623, time = 29.87 seconds ___\n"
          ],
          "name": "stdout"
        },
        {
          "output_type": "stream",
          "text": [
            "___ batch index = 1250 / 1836 (68.08%), loss = 0.1205, time = 27.11 seconds ___\n"
          ],
          "name": "stdout"
        },
        {
          "output_type": "stream",
          "text": [
            "___ batch index = 1500 / 1836 (81.70%), loss = 0.9374, time = 27.34 seconds ___\n"
          ],
          "name": "stdout"
        },
        {
          "output_type": "stream",
          "text": [
            "___ batch index = 1750 / 1836 (95.32%), loss = 0.2743, time = 29.82 seconds ___\n"
          ],
          "name": "stdout"
        },
        {
          "output_type": "stream",
          "text": [
            "\n",
            "*** avg_loss : 0.70, time : ~3.0 min (208.82 sec) ***\n",
            "\n"
          ],
          "name": "stdout"
        },
        {
          "output_type": "stream",
          "text": [
            "==> evaluation : avg_loss = 0.82, time : 28.79 sec\n",
            "\n"
          ],
          "name": "stdout"
        },
        {
          "output_type": "stream",
          "text": [
            "threshold:  [0.17933957]\n",
            "=====>\t{'Positive Rate': array([0.3826493], dtype=float32), 'accuracy': 0.4698943229294667, 'f1': 0.4778503994190269, 'recall': 0.6339113680154143, 'specificity': 0.3682324840764331, 'g_mean': 0.4831425852981767, 'default_accuracy': 0.617350700417793, 'default_f1': 0.0, 'default_recall': 0.0, 'default_specificity': 1.0, 'default_g_mean': 0.0}\n"
          ],
          "name": "stdout"
        },
        {
          "output_type": "stream",
          "text": [
            "@@@@@@@@@@@@@@@@@@@@@@@@@@@@@@@@@@@@@@@@@@@@@ END @@@@@@@@@@@@@@@@@@@@@@@@@@@@@@@@@@@@@@@@@\n",
            "#################################################### Para label:  Tutoría entre pares  (2) ##############\n",
            "------------------------------------------- exp: 1*1e-6 -----------------------------------------\n"
          ],
          "name": "stdout"
        },
        {
          "output_type": "stream",
          "text": [
            "Some weights of BertModel were not initialized from the model checkpoint at dccuchile/bert-base-spanish-wwm-cased and are newly initialized: ['bert.pooler.dense.weight', 'bert.pooler.dense.bias']\n",
            "You should probably TRAIN this model on a down-stream task to be able to use it for predictions and inference.\n"
          ],
          "name": "stderr"
        },
        {
          "output_type": "stream",
          "text": [
            "\n",
            "=============== EPOCH 1 / 6 ===============\n",
            "\n",
            "___ batch index = 0 / 1836 (0.00%), loss = 0.7729, time = 0.08 seconds ___\n"
          ],
          "name": "stdout"
        },
        {
          "output_type": "stream",
          "text": [
            "___ batch index = 250 / 1836 (13.62%), loss = 0.6321, time = 29.16 seconds ___\n"
          ],
          "name": "stdout"
        },
        {
          "output_type": "stream",
          "text": [
            "___ batch index = 500 / 1836 (27.23%), loss = 0.7733, time = 28.16 seconds ___\n"
          ],
          "name": "stdout"
        },
        {
          "output_type": "stream",
          "text": [
            "___ batch index = 750 / 1836 (40.85%), loss = 0.5329, time = 26.16 seconds ___\n"
          ],
          "name": "stdout"
        },
        {
          "output_type": "stream",
          "text": [
            "___ batch index = 1000 / 1836 (54.47%), loss = 0.4112, time = 29.89 seconds ___\n"
          ],
          "name": "stdout"
        },
        {
          "output_type": "stream",
          "text": [
            "___ batch index = 1250 / 1836 (68.08%), loss = 0.2922, time = 27.13 seconds ___\n"
          ],
          "name": "stdout"
        },
        {
          "output_type": "stream",
          "text": [
            "___ batch index = 1500 / 1836 (81.70%), loss = 0.2209, time = 27.38 seconds ___\n"
          ],
          "name": "stdout"
        },
        {
          "output_type": "stream",
          "text": [
            "___ batch index = 1750 / 1836 (95.32%), loss = 0.1270, time = 29.87 seconds ___\n"
          ],
          "name": "stdout"
        },
        {
          "output_type": "stream",
          "text": [
            "\n",
            "*** avg_loss : 0.46, time : ~3.0 min (209.24 sec) ***\n",
            "\n"
          ],
          "name": "stdout"
        },
        {
          "output_type": "stream",
          "text": [
            "==> evaluation : avg_loss = 0.37, time : 28.81 sec\n",
            "\n"
          ],
          "name": "stdout"
        },
        {
          "output_type": "stream",
          "text": [
            "threshold:  [0.0779504]\n",
            "=====>\t{'Positive Rate': array([0.10444827], dtype=float32), 'accuracy': 0.18702383878102727, 'f1': 0.18762278978389, 'recall': 0.8988235294117647, 'specificity': 0.10400658616904501, 'g_mean': 0.305750824794521, 'default_accuracy': 0.8955517326124355, 'default_f1': 0.0, 'default_recall': 0.0, 'default_specificity': 1.0, 'default_g_mean': 0.0}\n",
            "\n",
            "=============== EPOCH 2 / 6 ===============\n",
            "\n"
          ],
          "name": "stdout"
        },
        {
          "output_type": "stream",
          "text": [
            "___ batch index = 0 / 1836 (0.00%), loss = 0.1496, time = 0.08 seconds ___\n"
          ],
          "name": "stdout"
        },
        {
          "output_type": "stream",
          "text": [
            "___ batch index = 250 / 1836 (13.62%), loss = 0.5700, time = 29.14 seconds ___\n"
          ],
          "name": "stdout"
        },
        {
          "output_type": "stream",
          "text": [
            "___ batch index = 500 / 1836 (27.23%), loss = 1.3457, time = 28.18 seconds ___\n"
          ],
          "name": "stdout"
        },
        {
          "output_type": "stream",
          "text": [
            "___ batch index = 750 / 1836 (40.85%), loss = 0.3000, time = 26.23 seconds ___\n"
          ],
          "name": "stdout"
        },
        {
          "output_type": "stream",
          "text": [
            "___ batch index = 1000 / 1836 (54.47%), loss = 0.2382, time = 29.92 seconds ___\n"
          ],
          "name": "stdout"
        },
        {
          "output_type": "stream",
          "text": [
            "___ batch index = 1250 / 1836 (68.08%), loss = 0.1682, time = 27.15 seconds ___\n"
          ],
          "name": "stdout"
        },
        {
          "output_type": "stream",
          "text": [
            "___ batch index = 1500 / 1836 (81.70%), loss = 0.1403, time = 27.39 seconds ___\n"
          ],
          "name": "stdout"
        },
        {
          "output_type": "stream",
          "text": [
            "___ batch index = 1750 / 1836 (95.32%), loss = 0.1009, time = 29.88 seconds ___\n"
          ],
          "name": "stdout"
        },
        {
          "output_type": "stream",
          "text": [
            "\n",
            "*** avg_loss : 0.40, time : ~3.0 min (209.37 sec) ***\n",
            "\n"
          ],
          "name": "stdout"
        },
        {
          "output_type": "stream",
          "text": [
            "==> evaluation : avg_loss = 0.37, time : 28.82 sec\n",
            "\n"
          ],
          "name": "stdout"
        },
        {
          "output_type": "stream",
          "text": [
            "threshold:  [0.06904939]\n",
            "=====>\t{'Positive Rate': array([0.10444827], dtype=float32), 'accuracy': 0.1850577537478496, 'f1': 0.18725490196078431, 'recall': 0.8988235294117647, 'specificity': 0.1018111964873765, 'g_mean': 0.30250669242252876, 'default_accuracy': 0.8955517326124355, 'default_f1': 0.0, 'default_recall': 0.0, 'default_specificity': 1.0, 'default_g_mean': 0.0}\n",
            "\n",
            "=============== EPOCH 3 / 6 ===============\n",
            "\n",
            "___ batch index = 0 / 1836 (0.00%), loss = 0.1149, time = 0.08 seconds ___\n"
          ],
          "name": "stdout"
        },
        {
          "output_type": "stream",
          "text": [
            "___ batch index = 250 / 1836 (13.62%), loss = 0.5796, time = 29.12 seconds ___\n"
          ],
          "name": "stdout"
        },
        {
          "output_type": "stream",
          "text": [
            "___ batch index = 500 / 1836 (27.23%), loss = 1.6799, time = 28.12 seconds ___\n"
          ],
          "name": "stdout"
        },
        {
          "output_type": "stream",
          "text": [
            "___ batch index = 750 / 1836 (40.85%), loss = 0.1794, time = 26.08 seconds ___\n"
          ],
          "name": "stdout"
        },
        {
          "output_type": "stream",
          "text": [
            "___ batch index = 1000 / 1836 (54.47%), loss = 0.1652, time = 29.87 seconds ___\n"
          ],
          "name": "stdout"
        },
        {
          "output_type": "stream",
          "text": [
            "___ batch index = 1250 / 1836 (68.08%), loss = 0.1368, time = 27.09 seconds ___\n"
          ],
          "name": "stdout"
        },
        {
          "output_type": "stream",
          "text": [
            "___ batch index = 1500 / 1836 (81.70%), loss = 0.1247, time = 27.33 seconds ___\n"
          ],
          "name": "stdout"
        },
        {
          "output_type": "stream",
          "text": [
            "___ batch index = 1750 / 1836 (95.32%), loss = 0.0979, time = 29.81 seconds ___\n"
          ],
          "name": "stdout"
        },
        {
          "output_type": "stream",
          "text": [
            "\n",
            "*** avg_loss : 0.39, time : ~3.0 min (208.83 sec) ***\n",
            "\n"
          ],
          "name": "stdout"
        },
        {
          "output_type": "stream",
          "text": [
            "==> evaluation : avg_loss = 0.36, time : 28.70 sec\n",
            "\n"
          ],
          "name": "stdout"
        },
        {
          "output_type": "stream",
          "text": [
            "threshold:  [0.07075195]\n",
            "=====>\t{'Positive Rate': array([0.10444827], dtype=float32), 'accuracy': 0.18554927500614402, 'f1': 0.18814306712395887, 'recall': 0.9035294117647059, 'specificity': 0.1018111964873765, 'g_mean': 0.30329756094189114, 'default_accuracy': 0.8955517326124355, 'default_f1': 0.0, 'default_recall': 0.0, 'default_specificity': 1.0, 'default_g_mean': 0.0}\n",
            "\n",
            "=============== EPOCH 4 / 6 ===============\n",
            "\n",
            "___ batch index = 0 / 1836 (0.00%), loss = 0.0883, time = 0.08 seconds ___\n"
          ],
          "name": "stdout"
        },
        {
          "output_type": "stream",
          "text": [
            "___ batch index = 250 / 1836 (13.62%), loss = 0.5661, time = 29.12 seconds ___\n"
          ],
          "name": "stdout"
        },
        {
          "output_type": "stream",
          "text": [
            "___ batch index = 500 / 1836 (27.23%), loss = 1.7187, time = 28.12 seconds ___\n"
          ],
          "name": "stdout"
        },
        {
          "output_type": "stream",
          "text": [
            "___ batch index = 750 / 1836 (40.85%), loss = 0.1605, time = 26.06 seconds ___\n"
          ],
          "name": "stdout"
        },
        {
          "output_type": "stream",
          "text": [
            "___ batch index = 1000 / 1836 (54.47%), loss = 0.1561, time = 29.86 seconds ___\n"
          ],
          "name": "stdout"
        },
        {
          "output_type": "stream",
          "text": [
            "___ batch index = 1250 / 1836 (68.08%), loss = 0.1317, time = 27.07 seconds ___\n"
          ],
          "name": "stdout"
        },
        {
          "output_type": "stream",
          "text": [
            "___ batch index = 1500 / 1836 (81.70%), loss = 0.1199, time = 27.32 seconds ___\n"
          ],
          "name": "stdout"
        },
        {
          "output_type": "stream",
          "text": [
            "___ batch index = 1750 / 1836 (95.32%), loss = 0.0988, time = 29.81 seconds ___\n"
          ],
          "name": "stdout"
        },
        {
          "output_type": "stream",
          "text": [
            "\n",
            "*** avg_loss : 0.38, time : ~3.0 min (208.79 sec) ***\n",
            "\n"
          ],
          "name": "stdout"
        },
        {
          "output_type": "stream",
          "text": [
            "==> evaluation : avg_loss = 0.36, time : 28.72 sec\n",
            "\n"
          ],
          "name": "stdout"
        },
        {
          "output_type": "stream",
          "text": [
            "threshold:  [0.07339559]\n",
            "=====>\t{'Positive Rate': array([0.10444827], dtype=float32), 'accuracy': 0.18604079626443842, 'f1': 0.1898238747553816, 'recall': 0.9129411764705883, 'specificity': 0.10126234906695938, 'g_mean': 0.3040502723060206, 'default_accuracy': 0.8955517326124355, 'default_f1': 0.0, 'default_recall': 0.0, 'default_specificity': 1.0, 'default_g_mean': 0.0}\n",
            "\n",
            "=============== EPOCH 5 / 6 ===============\n",
            "\n",
            "___ batch index = 0 / 1836 (0.00%), loss = 0.0885, time = 0.08 seconds ___\n"
          ],
          "name": "stdout"
        },
        {
          "output_type": "stream",
          "text": [
            "___ batch index = 250 / 1836 (13.62%), loss = 0.5635, time = 29.13 seconds ___\n"
          ],
          "name": "stdout"
        },
        {
          "output_type": "stream",
          "text": [
            "___ batch index = 500 / 1836 (27.23%), loss = 1.7128, time = 28.13 seconds ___\n"
          ],
          "name": "stdout"
        },
        {
          "output_type": "stream",
          "text": [
            "___ batch index = 750 / 1836 (40.85%), loss = 0.1523, time = 26.07 seconds ___\n"
          ],
          "name": "stdout"
        },
        {
          "output_type": "stream",
          "text": [
            "___ batch index = 1000 / 1836 (54.47%), loss = 0.1497, time = 29.84 seconds ___\n"
          ],
          "name": "stdout"
        },
        {
          "output_type": "stream",
          "text": [
            "___ batch index = 1250 / 1836 (68.08%), loss = 0.1304, time = 27.06 seconds ___\n"
          ],
          "name": "stdout"
        },
        {
          "output_type": "stream",
          "text": [
            "___ batch index = 1500 / 1836 (81.70%), loss = 0.1194, time = 27.30 seconds ___\n"
          ],
          "name": "stdout"
        },
        {
          "output_type": "stream",
          "text": [
            "___ batch index = 1750 / 1836 (95.32%), loss = 0.0990, time = 29.78 seconds ___\n"
          ],
          "name": "stdout"
        },
        {
          "output_type": "stream",
          "text": [
            "\n",
            "*** avg_loss : 0.38, time : ~3.0 min (208.72 sec) ***\n",
            "\n"
          ],
          "name": "stdout"
        },
        {
          "output_type": "stream",
          "text": [
            "==> evaluation : avg_loss = 0.36, time : 28.70 sec\n",
            "\n"
          ],
          "name": "stdout"
        },
        {
          "output_type": "stream",
          "text": [
            "threshold:  [0.07534228]\n",
            "=====>\t{'Positive Rate': array([0.10444827], dtype=float32), 'accuracy': 0.1872695994101745, 'f1': 0.18766887742569394, 'recall': 0.8988235294117647, 'specificity': 0.10428100987925357, 'g_mean': 0.30615392427714166, 'default_accuracy': 0.8955517326124355, 'default_f1': 0.0, 'default_recall': 0.0, 'default_specificity': 1.0, 'default_g_mean': 0.0}\n",
            "\n",
            "=============== EPOCH 6 / 6 ===============\n",
            "\n"
          ],
          "name": "stdout"
        },
        {
          "output_type": "stream",
          "text": [
            "___ batch index = 0 / 1836 (0.00%), loss = 0.0883, time = 0.08 seconds ___\n"
          ],
          "name": "stdout"
        },
        {
          "output_type": "stream",
          "text": [
            "___ batch index = 250 / 1836 (13.62%), loss = 0.5570, time = 29.13 seconds ___\n"
          ],
          "name": "stdout"
        },
        {
          "output_type": "stream",
          "text": [
            "___ batch index = 500 / 1836 (27.23%), loss = 1.7585, time = 28.11 seconds ___\n"
          ],
          "name": "stdout"
        },
        {
          "output_type": "stream",
          "text": [
            "___ batch index = 750 / 1836 (40.85%), loss = 0.1504, time = 26.18 seconds ___\n"
          ],
          "name": "stdout"
        },
        {
          "output_type": "stream",
          "text": [
            "___ batch index = 1000 / 1836 (54.47%), loss = 0.1487, time = 29.86 seconds ___\n"
          ],
          "name": "stdout"
        },
        {
          "output_type": "stream",
          "text": [
            "___ batch index = 1250 / 1836 (68.08%), loss = 0.1300, time = 27.09 seconds ___\n"
          ],
          "name": "stdout"
        },
        {
          "output_type": "stream",
          "text": [
            "___ batch index = 1500 / 1836 (81.70%), loss = 0.1172, time = 27.34 seconds ___\n"
          ],
          "name": "stdout"
        },
        {
          "output_type": "stream",
          "text": [
            "___ batch index = 1750 / 1836 (95.32%), loss = 0.1021, time = 29.81 seconds ___\n"
          ],
          "name": "stdout"
        },
        {
          "output_type": "stream",
          "text": [
            "\n",
            "*** avg_loss : 0.38, time : ~3.0 min (208.97 sec) ***\n",
            "\n"
          ],
          "name": "stdout"
        },
        {
          "output_type": "stream",
          "text": [
            "==> evaluation : avg_loss = 0.36, time : 28.70 sec\n",
            "\n"
          ],
          "name": "stdout"
        },
        {
          "output_type": "stream",
          "text": [
            "threshold:  [0.07750322]\n",
            "=====>\t{'Positive Rate': array([0.10444827], dtype=float32), 'accuracy': 0.18432047186040795, 'f1': 0.18711731569924075, 'recall': 0.8988235294117647, 'specificity': 0.10098792535675083, 'g_mean': 0.3012811369752953, 'default_accuracy': 0.8955517326124355, 'default_f1': 0.0, 'default_recall': 0.0, 'default_specificity': 1.0, 'default_g_mean': 0.0}\n"
          ],
          "name": "stdout"
        },
        {
          "output_type": "stream",
          "text": [
            "@@@@@@@@@@@@@@@@@@@@@@@@@@@@@@@@@@@@@@@@@@@@@ END @@@@@@@@@@@@@@@@@@@@@@@@@@@@@@@@@@@@@@@@@\n",
            "#################################################### Para label:  Hacer a la familia partícipe del proceso  (3) ##############\n",
            "------------------------------------------- exp: 5*1e-6 -----------------------------------------\n"
          ],
          "name": "stdout"
        },
        {
          "output_type": "stream",
          "text": [
            "Some weights of BertModel were not initialized from the model checkpoint at dccuchile/bert-base-spanish-wwm-cased and are newly initialized: ['bert.pooler.dense.weight', 'bert.pooler.dense.bias']\n",
            "You should probably TRAIN this model on a down-stream task to be able to use it for predictions and inference.\n"
          ],
          "name": "stderr"
        },
        {
          "output_type": "stream",
          "text": [
            "\n",
            "=============== EPOCH 1 / 6 ===============\n",
            "\n",
            "___ batch index = 0 / 1836 (0.00%), loss = 0.5941, time = 0.08 seconds ___\n"
          ],
          "name": "stdout"
        },
        {
          "output_type": "stream",
          "text": [
            "___ batch index = 250 / 1836 (13.62%), loss = 0.6199, time = 29.11 seconds ___\n"
          ],
          "name": "stdout"
        },
        {
          "output_type": "stream",
          "text": [
            "___ batch index = 500 / 1836 (27.23%), loss = 0.6110, time = 28.12 seconds ___\n"
          ],
          "name": "stdout"
        },
        {
          "output_type": "stream",
          "text": [
            "___ batch index = 750 / 1836 (40.85%), loss = 0.5372, time = 26.10 seconds ___\n"
          ],
          "name": "stdout"
        },
        {
          "output_type": "stream",
          "text": [
            "___ batch index = 1000 / 1836 (54.47%), loss = 0.8396, time = 29.84 seconds ___\n"
          ],
          "name": "stdout"
        },
        {
          "output_type": "stream",
          "text": [
            "___ batch index = 1250 / 1836 (68.08%), loss = 0.5613, time = 27.06 seconds ___\n"
          ],
          "name": "stdout"
        },
        {
          "output_type": "stream",
          "text": [
            "___ batch index = 1500 / 1836 (81.70%), loss = 0.4934, time = 27.31 seconds ___\n"
          ],
          "name": "stdout"
        },
        {
          "output_type": "stream",
          "text": [
            "___ batch index = 1750 / 1836 (95.32%), loss = 0.3392, time = 29.79 seconds ___\n"
          ],
          "name": "stdout"
        },
        {
          "output_type": "stream",
          "text": [
            "\n",
            "*** avg_loss : 0.64, time : ~3.0 min (208.76 sec) ***\n",
            "\n"
          ],
          "name": "stdout"
        },
        {
          "output_type": "stream",
          "text": [
            "==> evaluation : avg_loss = 0.68, time : 28.71 sec\n",
            "\n"
          ],
          "name": "stdout"
        },
        {
          "output_type": "stream",
          "text": [
            "threshold:  [0.819729]\n",
            "=====>\t{'Positive Rate': array([0.68444335], dtype=float32), 'accuracy': 0.421233718358319, 'f1': 0.42009357301157346, 'recall': 0.30628366247755834, 'specificity': 0.6705607476635514, 'g_mean': 0.45319069022662234, 'default_accuracy': 0.6844433521749815, 'default_f1': 0.8126641377297928, 'default_recall': 1.0, 'default_specificity': 0.0, 'default_g_mean': 0.0}\n",
            "\n",
            "=============== EPOCH 2 / 6 ===============\n",
            "\n"
          ],
          "name": "stdout"
        },
        {
          "output_type": "stream",
          "text": [
            "___ batch index = 0 / 1836 (0.00%), loss = 1.6456, time = 0.08 seconds ___\n"
          ],
          "name": "stdout"
        },
        {
          "output_type": "stream",
          "text": [
            "___ batch index = 250 / 1836 (13.62%), loss = 0.5953, time = 29.05 seconds ___\n"
          ],
          "name": "stdout"
        },
        {
          "output_type": "stream",
          "text": [
            "___ batch index = 500 / 1836 (27.23%), loss = 0.6317, time = 28.04 seconds ___\n"
          ],
          "name": "stdout"
        },
        {
          "output_type": "stream",
          "text": [
            "___ batch index = 750 / 1836 (40.85%), loss = 0.5422, time = 26.07 seconds ___\n"
          ],
          "name": "stdout"
        },
        {
          "output_type": "stream",
          "text": [
            "___ batch index = 1000 / 1836 (54.47%), loss = 0.8212, time = 29.75 seconds ___\n"
          ],
          "name": "stdout"
        },
        {
          "output_type": "stream",
          "text": [
            "___ batch index = 1250 / 1836 (68.08%), loss = 0.5498, time = 26.98 seconds ___\n"
          ],
          "name": "stdout"
        },
        {
          "output_type": "stream",
          "text": [
            "___ batch index = 1500 / 1836 (81.70%), loss = 0.4783, time = 27.22 seconds ___\n"
          ],
          "name": "stdout"
        },
        {
          "output_type": "stream",
          "text": [
            "___ batch index = 1750 / 1836 (95.32%), loss = 0.3708, time = 29.70 seconds ___\n"
          ],
          "name": "stdout"
        },
        {
          "output_type": "stream",
          "text": [
            "\n",
            "*** avg_loss : 0.65, time : ~3.0 min (208.23 sec) ***\n",
            "\n"
          ],
          "name": "stdout"
        },
        {
          "output_type": "stream",
          "text": [
            "==> evaluation : avg_loss = 0.65, time : 28.55 sec\n",
            "\n"
          ],
          "name": "stdout"
        },
        {
          "output_type": "stream",
          "text": [
            "threshold:  [0.757226]\n",
            "=====>\t{'Positive Rate': array([0.68444335], dtype=float32), 'accuracy': 0.42516588842467434, 'f1': 0.42403348928835266, 'recall': 0.30915619389587073, 'specificity': 0.676791277258567, 'g_mean': 0.4574212668199671, 'default_accuracy': 0.6844433521749815, 'default_f1': 0.8126641377297928, 'default_recall': 1.0, 'default_specificity': 0.0, 'default_g_mean': 0.0}\n",
            "\n",
            "=============== EPOCH 3 / 6 ===============\n",
            "\n"
          ],
          "name": "stdout"
        },
        {
          "output_type": "stream",
          "text": [
            "___ batch index = 0 / 1836 (0.00%), loss = 1.4921, time = 0.08 seconds ___\n"
          ],
          "name": "stdout"
        },
        {
          "output_type": "stream",
          "text": [
            "___ batch index = 250 / 1836 (13.62%), loss = 0.6006, time = 29.05 seconds ___\n"
          ],
          "name": "stdout"
        },
        {
          "output_type": "stream",
          "text": [
            "___ batch index = 500 / 1836 (27.23%), loss = 0.6354, time = 28.04 seconds ___\n"
          ],
          "name": "stdout"
        },
        {
          "output_type": "stream",
          "text": [
            "___ batch index = 750 / 1836 (40.85%), loss = 0.5280, time = 26.08 seconds ___\n"
          ],
          "name": "stdout"
        },
        {
          "output_type": "stream",
          "text": [
            "___ batch index = 1000 / 1836 (54.47%), loss = 0.8028, time = 29.76 seconds ___\n"
          ],
          "name": "stdout"
        },
        {
          "output_type": "stream",
          "text": [
            "___ batch index = 1250 / 1836 (68.08%), loss = 0.5491, time = 26.98 seconds ___\n"
          ],
          "name": "stdout"
        },
        {
          "output_type": "stream",
          "text": [
            "___ batch index = 1500 / 1836 (81.70%), loss = 0.4825, time = 27.23 seconds ___\n"
          ],
          "name": "stdout"
        },
        {
          "output_type": "stream",
          "text": [
            "___ batch index = 1750 / 1836 (95.32%), loss = 0.3674, time = 29.71 seconds ___\n"
          ],
          "name": "stdout"
        },
        {
          "output_type": "stream",
          "text": [
            "\n",
            "*** avg_loss : 0.64, time : ~3.0 min (208.27 sec) ***\n",
            "\n"
          ],
          "name": "stdout"
        },
        {
          "output_type": "stream",
          "text": [
            "==> evaluation : avg_loss = 0.65, time : 28.56 sec\n",
            "\n"
          ],
          "name": "stdout"
        },
        {
          "output_type": "stream",
          "text": [
            "threshold:  [0.75110674]\n",
            "=====>\t{'Positive Rate': array([0.68444335], dtype=float32), 'accuracy': 0.42221676087490784, 'f1': 0.4207932988420794, 'recall': 0.3066427289048474, 'specificity': 0.6728971962616822, 'g_mean': 0.45424556413255474, 'default_accuracy': 0.6844433521749815, 'default_f1': 0.8126641377297928, 'default_recall': 1.0, 'default_specificity': 0.0, 'default_g_mean': 0.0}\n",
            "\n",
            "=============== EPOCH 4 / 6 ===============\n",
            "\n",
            "___ batch index = 0 / 1836 (0.00%), loss = 1.4096, time = 0.08 seconds ___\n"
          ],
          "name": "stdout"
        },
        {
          "output_type": "stream",
          "text": [
            "___ batch index = 250 / 1836 (13.62%), loss = 0.5936, time = 29.05 seconds ___\n"
          ],
          "name": "stdout"
        },
        {
          "output_type": "stream",
          "text": [
            "___ batch index = 500 / 1836 (27.23%), loss = 0.6212, time = 28.03 seconds ___\n"
          ],
          "name": "stdout"
        },
        {
          "output_type": "stream",
          "text": [
            "___ batch index = 750 / 1836 (40.85%), loss = 0.5303, time = 25.97 seconds ___\n"
          ],
          "name": "stdout"
        },
        {
          "output_type": "stream",
          "text": [
            "___ batch index = 1000 / 1836 (54.47%), loss = 0.8060, time = 29.74 seconds ___\n"
          ],
          "name": "stdout"
        },
        {
          "output_type": "stream",
          "text": [
            "___ batch index = 1250 / 1836 (68.08%), loss = 0.5392, time = 26.98 seconds ___\n"
          ],
          "name": "stdout"
        },
        {
          "output_type": "stream",
          "text": [
            "___ batch index = 1500 / 1836 (81.70%), loss = 0.4728, time = 27.22 seconds ___\n"
          ],
          "name": "stdout"
        },
        {
          "output_type": "stream",
          "text": [
            "___ batch index = 1750 / 1836 (95.32%), loss = 0.3771, time = 29.70 seconds ___\n"
          ],
          "name": "stdout"
        },
        {
          "output_type": "stream",
          "text": [
            "\n",
            "*** avg_loss : 0.64, time : ~3.0 min (208.07 sec) ***\n",
            "\n"
          ],
          "name": "stdout"
        },
        {
          "output_type": "stream",
          "text": [
            "==> evaluation : avg_loss = 0.65, time : 28.55 sec\n",
            "\n"
          ],
          "name": "stdout"
        },
        {
          "output_type": "stream",
          "text": [
            "threshold:  [0.75182545]\n",
            "=====>\t{'Positive Rate': array([0.68444335], dtype=float32), 'accuracy': 0.425903170312116, 'f1': 0.4257620452310718, 'recall': 0.31095152603231596, 'specificity': 0.6752336448598131, 'g_mean': 0.45821930589786564, 'default_accuracy': 0.6844433521749815, 'default_f1': 0.8126641377297928, 'default_recall': 1.0, 'default_specificity': 0.0, 'default_g_mean': 0.0}\n",
            "\n",
            "=============== EPOCH 5 / 6 ===============\n",
            "\n"
          ],
          "name": "stdout"
        },
        {
          "output_type": "stream",
          "text": [
            "___ batch index = 0 / 1836 (0.00%), loss = 1.4816, time = 0.08 seconds ___\n"
          ],
          "name": "stdout"
        },
        {
          "output_type": "stream",
          "text": [
            "___ batch index = 250 / 1836 (13.62%), loss = 0.5856, time = 29.02 seconds ___\n"
          ],
          "name": "stdout"
        },
        {
          "output_type": "stream",
          "text": [
            "___ batch index = 500 / 1836 (27.23%), loss = 0.6192, time = 28.07 seconds ___\n"
          ],
          "name": "stdout"
        },
        {
          "output_type": "stream",
          "text": [
            "___ batch index = 750 / 1836 (40.85%), loss = 0.5142, time = 26.23 seconds ___\n"
          ],
          "name": "stdout"
        },
        {
          "output_type": "stream",
          "text": [
            "___ batch index = 1000 / 1836 (54.47%), loss = 0.8023, time = 29.91 seconds ___\n"
          ],
          "name": "stdout"
        },
        {
          "output_type": "stream",
          "text": [
            "___ batch index = 1250 / 1836 (68.08%), loss = 0.5333, time = 27.13 seconds ___\n"
          ],
          "name": "stdout"
        },
        {
          "output_type": "stream",
          "text": [
            "___ batch index = 1500 / 1836 (81.70%), loss = 0.4791, time = 27.37 seconds ___\n"
          ],
          "name": "stdout"
        },
        {
          "output_type": "stream",
          "text": [
            "___ batch index = 1750 / 1836 (95.32%), loss = 0.3686, time = 29.86 seconds ___\n"
          ],
          "name": "stdout"
        },
        {
          "output_type": "stream",
          "text": [
            "\n",
            "*** avg_loss : 0.63, time : ~3.0 min (209.07 sec) ***\n",
            "\n"
          ],
          "name": "stdout"
        },
        {
          "output_type": "stream",
          "text": [
            "==> evaluation : avg_loss = 0.66, time : 28.67 sec\n",
            "\n"
          ],
          "name": "stdout"
        },
        {
          "output_type": "stream",
          "text": [
            "threshold:  [0.76504916]\n",
            "=====>\t{'Positive Rate': array([0.68444335], dtype=float32), 'accuracy': 0.42541164905382156, 'f1': 0.4252704031465093, 'recall': 0.3105924596050269, 'specificity': 0.6744548286604362, 'g_mean': 0.45769048944251817, 'default_accuracy': 0.6841975915458344, 'default_f1': 0.8124361407093854, 'default_recall': 0.9992818671454219, 'default_specificity': 0.000778816199376947, 'default_g_mean': 0.027897256242800955}\n",
            "\n",
            "=============== EPOCH 6 / 6 ===============\n",
            "\n",
            "___ batch index = 0 / 1836 (0.00%), loss = 1.6149, time = 0.08 seconds ___\n"
          ],
          "name": "stdout"
        },
        {
          "output_type": "stream",
          "text": [
            "___ batch index = 250 / 1836 (13.62%), loss = 0.5762, time = 29.13 seconds ___\n"
          ],
          "name": "stdout"
        },
        {
          "output_type": "stream",
          "text": [
            "___ batch index = 500 / 1836 (27.23%), loss = 0.6039, time = 28.20 seconds ___\n"
          ],
          "name": "stdout"
        },
        {
          "output_type": "stream",
          "text": [
            "___ batch index = 750 / 1836 (40.85%), loss = 0.5181, time = 26.13 seconds ___\n"
          ],
          "name": "stdout"
        },
        {
          "output_type": "stream",
          "text": [
            "___ batch index = 1000 / 1836 (54.47%), loss = 0.8172, time = 29.85 seconds ___\n"
          ],
          "name": "stdout"
        },
        {
          "output_type": "stream",
          "text": [
            "___ batch index = 1250 / 1836 (68.08%), loss = 0.5134, time = 27.07 seconds ___\n"
          ],
          "name": "stdout"
        },
        {
          "output_type": "stream",
          "text": [
            "___ batch index = 1500 / 1836 (81.70%), loss = 0.4837, time = 27.31 seconds ___\n"
          ],
          "name": "stdout"
        },
        {
          "output_type": "stream",
          "text": [
            "___ batch index = 1750 / 1836 (95.32%), loss = 0.3549, time = 29.79 seconds ___\n"
          ],
          "name": "stdout"
        },
        {
          "output_type": "stream",
          "text": [
            "\n",
            "*** avg_loss : 0.62, time : ~3.0 min (208.90 sec) ***\n",
            "\n"
          ],
          "name": "stdout"
        },
        {
          "output_type": "stream",
          "text": [
            "==> evaluation : avg_loss = 0.67, time : 28.71 sec\n",
            "\n"
          ],
          "name": "stdout"
        },
        {
          "output_type": "stream",
          "text": [
            "threshold:  [0.78569835]\n"
          ],
          "name": "stdout"
        },
        {
          "output_type": "stream",
          "text": [
            "=====>\t{'Positive Rate': array([0.68444335], dtype=float32), 'accuracy': 0.42639469157041043, 'f1': 0.4262536873156342, 'recall': 0.311310592459605, 'specificity': 0.67601246105919, 'g_mean': 0.4587481223530099, 'default_accuracy': 0.684934873433276, 'default_f1': 0.8127373648846042, 'default_recall': 0.9989228007181329, 'default_specificity': 0.003894080996884735, 'default_g_mean': 0.06236895297847607}\n",
            "@@@@@@@@@@@@@@@@@@@@@@@@@@@@@@@@@@@@@@@@@@@@@ END @@@@@@@@@@@@@@@@@@@@@@@@@@@@@@@@@@@@@@@@@\n",
            "#################################################### Para label:  Apoyo psicóloga(o)  (4) ##############\n",
            "------------------------------------------- exp: 1*1e-6 -----------------------------------------\n"
          ],
          "name": "stdout"
        },
        {
          "output_type": "stream",
          "text": [
            "Some weights of BertModel were not initialized from the model checkpoint at dccuchile/bert-base-spanish-wwm-cased and are newly initialized: ['bert.pooler.dense.weight', 'bert.pooler.dense.bias']\n",
            "You should probably TRAIN this model on a down-stream task to be able to use it for predictions and inference.\n"
          ],
          "name": "stderr"
        },
        {
          "output_type": "stream",
          "text": [
            "\n",
            "=============== EPOCH 1 / 6 ===============\n",
            "\n",
            "___ batch index = 0 / 1836 (0.00%), loss = 0.7060, time = 0.08 seconds ___\n"
          ],
          "name": "stdout"
        },
        {
          "output_type": "stream",
          "text": [
            "___ batch index = 250 / 1836 (13.62%), loss = 0.5288, time = 29.10 seconds ___\n"
          ],
          "name": "stdout"
        },
        {
          "output_type": "stream",
          "text": [
            "___ batch index = 500 / 1836 (27.23%), loss = 0.6899, time = 28.10 seconds ___\n"
          ],
          "name": "stdout"
        },
        {
          "output_type": "stream",
          "text": [
            "___ batch index = 750 / 1836 (40.85%), loss = 1.2218, time = 26.12 seconds ___\n"
          ],
          "name": "stdout"
        },
        {
          "output_type": "stream",
          "text": [
            "___ batch index = 1000 / 1836 (54.47%), loss = 0.4650, time = 29.85 seconds ___\n"
          ],
          "name": "stdout"
        },
        {
          "output_type": "stream",
          "text": [
            "___ batch index = 1250 / 1836 (68.08%), loss = 0.4419, time = 27.07 seconds ___\n"
          ],
          "name": "stdout"
        },
        {
          "output_type": "stream",
          "text": [
            "___ batch index = 1500 / 1836 (81.70%), loss = 0.3525, time = 27.32 seconds ___\n"
          ],
          "name": "stdout"
        },
        {
          "output_type": "stream",
          "text": [
            "___ batch index = 1750 / 1836 (95.32%), loss = 0.2708, time = 29.80 seconds ___\n"
          ],
          "name": "stdout"
        },
        {
          "output_type": "stream",
          "text": [
            "\n",
            "*** avg_loss : 0.56, time : ~3.0 min (208.82 sec) ***\n",
            "\n"
          ],
          "name": "stdout"
        },
        {
          "output_type": "stream",
          "text": [
            "==> evaluation : avg_loss = 0.50, time : 28.71 sec\n",
            "\n"
          ],
          "name": "stdout"
        },
        {
          "output_type": "stream",
          "text": [
            "threshold:  [0.20947737]\n",
            "=====>\t{'Positive Rate': array([0.21995576], dtype=float32), 'accuracy': 0.33054804620299827, 'f1': 0.3313696612665685, 'recall': 0.7541899441340782, 'specificity': 0.21109010712035287, 'g_mean': 0.39900129836424786, 'default_accuracy': 0.7800442369132465, 'default_f1': 0.0, 'default_recall': 0.0, 'default_specificity': 1.0, 'default_g_mean': 0.0}\n",
            "\n",
            "=============== EPOCH 2 / 6 ===============\n",
            "\n"
          ],
          "name": "stdout"
        },
        {
          "output_type": "stream",
          "text": [
            "___ batch index = 0 / 1836 (0.00%), loss = 0.2689, time = 0.08 seconds ___\n"
          ],
          "name": "stdout"
        },
        {
          "output_type": "stream",
          "text": [
            "___ batch index = 250 / 1836 (13.62%), loss = 0.2182, time = 29.14 seconds ___\n"
          ],
          "name": "stdout"
        },
        {
          "output_type": "stream",
          "text": [
            "___ batch index = 500 / 1836 (27.23%), loss = 0.8073, time = 28.12 seconds ___\n"
          ],
          "name": "stdout"
        },
        {
          "output_type": "stream",
          "text": [
            "___ batch index = 750 / 1836 (40.85%), loss = 1.6342, time = 26.17 seconds ___\n"
          ],
          "name": "stdout"
        },
        {
          "output_type": "stream",
          "text": [
            "___ batch index = 1000 / 1836 (54.47%), loss = 0.3298, time = 29.85 seconds ___\n"
          ],
          "name": "stdout"
        },
        {
          "output_type": "stream",
          "text": [
            "___ batch index = 1250 / 1836 (68.08%), loss = 0.3307, time = 27.07 seconds ___\n"
          ],
          "name": "stdout"
        },
        {
          "output_type": "stream",
          "text": [
            "___ batch index = 1500 / 1836 (81.70%), loss = 0.2805, time = 27.31 seconds ___\n"
          ],
          "name": "stdout"
        },
        {
          "output_type": "stream",
          "text": [
            "___ batch index = 1750 / 1836 (95.32%), loss = 0.2338, time = 29.79 seconds ___\n"
          ],
          "name": "stdout"
        },
        {
          "output_type": "stream",
          "text": [
            "\n",
            "*** avg_loss : 0.52, time : ~3.0 min (208.92 sec) ***\n",
            "\n"
          ],
          "name": "stdout"
        },
        {
          "output_type": "stream",
          "text": [
            "==> evaluation : avg_loss = 0.49, time : 28.71 sec\n",
            "\n"
          ],
          "name": "stdout"
        },
        {
          "output_type": "stream",
          "text": [
            "threshold:  [0.18813206]\n",
            "=====>\t{'Positive Rate': array([0.21995576], dtype=float32), 'accuracy': 0.3381666257065618, 'f1': 0.33978916401078696, 'recall': 0.7743016759776536, 'specificity': 0.21518588531821045, 'g_mean': 0.40818965156973974, 'default_accuracy': 0.7800442369132465, 'default_f1': 0.0, 'default_recall': 0.0, 'default_specificity': 1.0, 'default_g_mean': 0.0}\n",
            "\n",
            "=============== EPOCH 3 / 6 ===============\n",
            "\n"
          ],
          "name": "stdout"
        },
        {
          "output_type": "stream",
          "text": [
            "___ batch index = 0 / 1836 (0.00%), loss = 0.2238, time = 0.08 seconds ___\n"
          ],
          "name": "stdout"
        },
        {
          "output_type": "stream",
          "text": [
            "___ batch index = 250 / 1836 (13.62%), loss = 0.1978, time = 29.20 seconds ___\n"
          ],
          "name": "stdout"
        },
        {
          "output_type": "stream",
          "text": [
            "___ batch index = 500 / 1836 (27.23%), loss = 0.8130, time = 28.20 seconds ___\n"
          ],
          "name": "stdout"
        },
        {
          "output_type": "stream",
          "text": [
            "___ batch index = 750 / 1836 (40.85%), loss = 1.7205, time = 26.23 seconds ___\n"
          ],
          "name": "stdout"
        },
        {
          "output_type": "stream",
          "text": [
            "___ batch index = 1000 / 1836 (54.47%), loss = 0.2993, time = 29.92 seconds ___\n"
          ],
          "name": "stdout"
        },
        {
          "output_type": "stream",
          "text": [
            "___ batch index = 1250 / 1836 (68.08%), loss = 0.3033, time = 27.14 seconds ___\n"
          ],
          "name": "stdout"
        },
        {
          "output_type": "stream",
          "text": [
            "___ batch index = 1500 / 1836 (81.70%), loss = 0.2585, time = 27.38 seconds ___\n"
          ],
          "name": "stdout"
        },
        {
          "output_type": "stream",
          "text": [
            "___ batch index = 1750 / 1836 (95.32%), loss = 0.2257, time = 29.87 seconds ___\n"
          ],
          "name": "stdout"
        },
        {
          "output_type": "stream",
          "text": [
            "\n",
            "*** avg_loss : 0.52, time : ~3.0 min (209.42 sec) ***\n",
            "\n"
          ],
          "name": "stdout"
        },
        {
          "output_type": "stream",
          "text": [
            "==> evaluation : avg_loss = 0.49, time : 28.70 sec\n",
            "\n"
          ],
          "name": "stdout"
        },
        {
          "output_type": "stream",
          "text": [
            "threshold:  [0.18344909]\n",
            "=====>\t{'Positive Rate': array([0.21995576], dtype=float32), 'accuracy': 0.34381912017694766, 'f1': 0.3459088682018618, 'recall': 0.788826815642458, 'specificity': 0.21833648393194707, 'g_mean': 0.41500563051434436, 'default_accuracy': 0.7800442369132465, 'default_f1': 0.0, 'default_recall': 0.0, 'default_specificity': 1.0, 'default_g_mean': 0.0}\n",
            "\n",
            "=============== EPOCH 4 / 6 ===============\n",
            "\n"
          ],
          "name": "stdout"
        },
        {
          "output_type": "stream",
          "text": [
            "___ batch index = 0 / 1836 (0.00%), loss = 0.1990, time = 0.08 seconds ___\n"
          ],
          "name": "stdout"
        },
        {
          "output_type": "stream",
          "text": [
            "___ batch index = 250 / 1836 (13.62%), loss = 0.1921, time = 29.18 seconds ___\n"
          ],
          "name": "stdout"
        },
        {
          "output_type": "stream",
          "text": [
            "___ batch index = 500 / 1836 (27.23%), loss = 0.8299, time = 28.18 seconds ___\n"
          ],
          "name": "stdout"
        },
        {
          "output_type": "stream",
          "text": [
            "___ batch index = 750 / 1836 (40.85%), loss = 1.7511, time = 26.24 seconds ___\n"
          ],
          "name": "stdout"
        },
        {
          "output_type": "stream",
          "text": [
            "___ batch index = 1000 / 1836 (54.47%), loss = 0.2845, time = 29.92 seconds ___\n"
          ],
          "name": "stdout"
        },
        {
          "output_type": "stream",
          "text": [
            "___ batch index = 1250 / 1836 (68.08%), loss = 0.2887, time = 27.15 seconds ___\n"
          ],
          "name": "stdout"
        },
        {
          "output_type": "stream",
          "text": [
            "___ batch index = 1500 / 1836 (81.70%), loss = 0.2511, time = 27.39 seconds ___\n"
          ],
          "name": "stdout"
        },
        {
          "output_type": "stream",
          "text": [
            "___ batch index = 1750 / 1836 (95.32%), loss = 0.2206, time = 29.88 seconds ___\n"
          ],
          "name": "stdout"
        },
        {
          "output_type": "stream",
          "text": [
            "\n",
            "*** avg_loss : 0.51, time : ~3.0 min (209.43 sec) ***\n",
            "\n"
          ],
          "name": "stdout"
        },
        {
          "output_type": "stream",
          "text": [
            "==> evaluation : avg_loss = 0.49, time : 28.71 sec\n",
            "\n"
          ],
          "name": "stdout"
        },
        {
          "output_type": "stream",
          "text": [
            "threshold:  [0.18151806]\n",
            "=====>\t{'Positive Rate': array([0.21995576], dtype=float32), 'accuracy': 0.3443106414352421, 'f1': 0.34639882410583045, 'recall': 0.7899441340782123, 'specificity': 0.21865154379332072, 'g_mean': 0.4155989706756732, 'default_accuracy': 0.7800442369132465, 'default_f1': 0.0, 'default_recall': 0.0, 'default_specificity': 1.0, 'default_g_mean': 0.0}\n",
            "\n",
            "=============== EPOCH 5 / 6 ===============\n",
            "\n"
          ],
          "name": "stdout"
        },
        {
          "output_type": "stream",
          "text": [
            "___ batch index = 0 / 1836 (0.00%), loss = 0.2028, time = 0.08 seconds ___\n"
          ],
          "name": "stdout"
        },
        {
          "output_type": "stream",
          "text": [
            "___ batch index = 250 / 1836 (13.62%), loss = 0.1909, time = 29.19 seconds ___\n"
          ],
          "name": "stdout"
        },
        {
          "output_type": "stream",
          "text": [
            "___ batch index = 500 / 1836 (27.23%), loss = 0.8326, time = 28.19 seconds ___\n"
          ],
          "name": "stdout"
        },
        {
          "output_type": "stream",
          "text": [
            "___ batch index = 750 / 1836 (40.85%), loss = 1.7582, time = 26.22 seconds ___\n"
          ],
          "name": "stdout"
        },
        {
          "output_type": "stream",
          "text": [
            "___ batch index = 1000 / 1836 (54.47%), loss = 0.2780, time = 29.91 seconds ___\n"
          ],
          "name": "stdout"
        },
        {
          "output_type": "stream",
          "text": [
            "___ batch index = 1250 / 1836 (68.08%), loss = 0.2845, time = 27.12 seconds ___\n"
          ],
          "name": "stdout"
        },
        {
          "output_type": "stream",
          "text": [
            "___ batch index = 1500 / 1836 (81.70%), loss = 0.2447, time = 27.37 seconds ___\n"
          ],
          "name": "stdout"
        },
        {
          "output_type": "stream",
          "text": [
            "___ batch index = 1750 / 1836 (95.32%), loss = 0.2251, time = 29.85 seconds ___\n"
          ],
          "name": "stdout"
        },
        {
          "output_type": "stream",
          "text": [
            "\n",
            "*** avg_loss : 0.51, time : ~3.0 min (209.32 sec) ***\n",
            "\n"
          ],
          "name": "stdout"
        },
        {
          "output_type": "stream",
          "text": [
            "==> evaluation : avg_loss = 0.49, time : 28.68 sec\n",
            "\n"
          ],
          "name": "stdout"
        },
        {
          "output_type": "stream",
          "text": [
            "threshold:  [0.18494107]\n",
            "=====>\t{'Positive Rate': array([0.21995576], dtype=float32), 'accuracy': 0.34848857213074463, 'f1': 0.3497669855285749, 'recall': 0.7966480446927374, 'specificity': 0.222117202268431, 'g_mean': 0.4206533428843361, 'default_accuracy': 0.7800442369132465, 'default_f1': 0.0, 'default_recall': 0.0, 'default_specificity': 1.0, 'default_g_mean': 0.0}\n",
            "\n",
            "=============== EPOCH 6 / 6 ===============\n",
            "\n"
          ],
          "name": "stdout"
        },
        {
          "output_type": "stream",
          "text": [
            "___ batch index = 0 / 1836 (0.00%), loss = 0.1812, time = 0.08 seconds ___\n"
          ],
          "name": "stdout"
        },
        {
          "output_type": "stream",
          "text": [
            "___ batch index = 250 / 1836 (13.62%), loss = 0.1919, time = 29.21 seconds ___\n"
          ],
          "name": "stdout"
        },
        {
          "output_type": "stream",
          "text": [
            "___ batch index = 500 / 1836 (27.23%), loss = 0.8165, time = 28.18 seconds ___\n"
          ],
          "name": "stdout"
        },
        {
          "output_type": "stream",
          "text": [
            "___ batch index = 750 / 1836 (40.85%), loss = 1.7521, time = 26.22 seconds ___\n"
          ],
          "name": "stdout"
        },
        {
          "output_type": "stream",
          "text": [
            "___ batch index = 1000 / 1836 (54.47%), loss = 0.2705, time = 29.90 seconds ___\n"
          ],
          "name": "stdout"
        },
        {
          "output_type": "stream",
          "text": [
            "___ batch index = 1250 / 1836 (68.08%), loss = 0.2772, time = 27.12 seconds ___\n"
          ],
          "name": "stdout"
        },
        {
          "output_type": "stream",
          "text": [
            "___ batch index = 1500 / 1836 (81.70%), loss = 0.2459, time = 27.36 seconds ___\n"
          ],
          "name": "stdout"
        },
        {
          "output_type": "stream",
          "text": [
            "___ batch index = 1750 / 1836 (95.32%), loss = 0.2215, time = 29.86 seconds ___\n"
          ],
          "name": "stdout"
        },
        {
          "output_type": "stream",
          "text": [
            "\n",
            "*** avg_loss : 0.51, time : ~3.0 min (209.33 sec) ***\n",
            "\n"
          ],
          "name": "stdout"
        },
        {
          "output_type": "stream",
          "text": [
            "==> evaluation : avg_loss = 0.49, time : 28.68 sec\n",
            "\n"
          ],
          "name": "stdout"
        },
        {
          "output_type": "stream",
          "text": [
            "threshold:  [0.18459849]\n",
            "=====>\t{'Positive Rate': array([0.21995576], dtype=float32), 'accuracy': 0.3516834603096584, 'f1': 0.35343137254901963, 'recall': 0.8055865921787709, 'specificity': 0.2236925015752993, 'g_mean': 0.42450404007499115, 'default_accuracy': 0.7800442369132465, 'default_f1': 0.0, 'default_recall': 0.0, 'default_specificity': 1.0, 'default_g_mean': 0.0}\n"
          ],
          "name": "stdout"
        },
        {
          "output_type": "stream",
          "text": [
            "@@@@@@@@@@@@@@@@@@@@@@@@@@@@@@@@@@@@@@@@@@@@@ END @@@@@@@@@@@@@@@@@@@@@@@@@@@@@@@@@@@@@@@@@\n",
            "#################################################### Para label:  Apoyo fonoaudióloga(o)  (5) ##############\n",
            "------------------------------------------- exp: 1*1e-6 -----------------------------------------\n"
          ],
          "name": "stdout"
        },
        {
          "output_type": "stream",
          "text": [
            "Some weights of BertModel were not initialized from the model checkpoint at dccuchile/bert-base-spanish-wwm-cased and are newly initialized: ['bert.pooler.dense.weight', 'bert.pooler.dense.bias']\n",
            "You should probably TRAIN this model on a down-stream task to be able to use it for predictions and inference.\n"
          ],
          "name": "stderr"
        },
        {
          "output_type": "stream",
          "text": [
            "\n",
            "=============== EPOCH 1 / 6 ===============\n",
            "\n",
            "___ batch index = 0 / 1836 (0.00%), loss = 0.5231, time = 0.08 seconds ___\n"
          ],
          "name": "stdout"
        },
        {
          "output_type": "stream",
          "text": [
            "___ batch index = 250 / 1836 (13.62%), loss = 0.4382, time = 29.18 seconds ___\n"
          ],
          "name": "stdout"
        },
        {
          "output_type": "stream",
          "text": [
            "___ batch index = 500 / 1836 (27.23%), loss = 0.6269, time = 28.17 seconds ___\n"
          ],
          "name": "stdout"
        },
        {
          "output_type": "stream",
          "text": [
            "___ batch index = 750 / 1836 (40.85%), loss = 0.3942, time = 26.16 seconds ___\n"
          ],
          "name": "stdout"
        },
        {
          "output_type": "stream",
          "text": [
            "___ batch index = 1000 / 1836 (54.47%), loss = 0.3253, time = 29.89 seconds ___\n"
          ],
          "name": "stdout"
        },
        {
          "output_type": "stream",
          "text": [
            "___ batch index = 1250 / 1836 (68.08%), loss = 0.2653, time = 27.11 seconds ___\n"
          ],
          "name": "stdout"
        },
        {
          "output_type": "stream",
          "text": [
            "___ batch index = 1500 / 1836 (81.70%), loss = 0.2216, time = 27.36 seconds ___\n"
          ],
          "name": "stdout"
        },
        {
          "output_type": "stream",
          "text": [
            "___ batch index = 1750 / 1836 (95.32%), loss = 0.1378, time = 29.86 seconds ___\n"
          ],
          "name": "stdout"
        },
        {
          "output_type": "stream",
          "text": [
            "\n",
            "*** avg_loss : 0.43, time : ~3.0 min (209.21 sec) ***\n",
            "\n"
          ],
          "name": "stdout"
        },
        {
          "output_type": "stream",
          "text": [
            "==> evaluation : avg_loss = 0.37, time : 28.74 sec\n",
            "\n"
          ],
          "name": "stdout"
        },
        {
          "output_type": "stream",
          "text": [
            "threshold:  [0.0835674]\n",
            "=====>\t{'Positive Rate': array([0.10199066], dtype=float32), 'accuracy': 0.18972720570164658, 'f1': 0.1901252763448784, 'recall': 0.9325301204819277, 'specificity': 0.1053639846743295, 'g_mean': 0.3134566785423601, 'default_accuracy': 0.8980093389039076, 'default_f1': 0.0, 'default_recall': 0.0, 'default_specificity': 1.0, 'default_g_mean': 0.0}\n",
            "\n",
            "=============== EPOCH 2 / 6 ===============\n",
            "\n"
          ],
          "name": "stdout"
        },
        {
          "output_type": "stream",
          "text": [
            "___ batch index = 0 / 1836 (0.00%), loss = 0.1513, time = 0.08 seconds ___\n"
          ],
          "name": "stdout"
        },
        {
          "output_type": "stream",
          "text": [
            "___ batch index = 250 / 1836 (13.62%), loss = 0.1193, time = 29.18 seconds ___\n"
          ],
          "name": "stdout"
        },
        {
          "output_type": "stream",
          "text": [
            "___ batch index = 500 / 1836 (27.23%), loss = 0.7631, time = 28.19 seconds ___\n"
          ],
          "name": "stdout"
        },
        {
          "output_type": "stream",
          "text": [
            "___ batch index = 750 / 1836 (40.85%), loss = 0.2361, time = 26.22 seconds ___\n"
          ],
          "name": "stdout"
        },
        {
          "output_type": "stream",
          "text": [
            "___ batch index = 1000 / 1836 (54.47%), loss = 0.2075, time = 29.91 seconds ___\n"
          ],
          "name": "stdout"
        },
        {
          "output_type": "stream",
          "text": [
            "___ batch index = 1250 / 1836 (68.08%), loss = 0.1797, time = 27.14 seconds ___\n"
          ],
          "name": "stdout"
        },
        {
          "output_type": "stream",
          "text": [
            "___ batch index = 1500 / 1836 (81.70%), loss = 0.1558, time = 27.38 seconds ___\n"
          ],
          "name": "stdout"
        },
        {
          "output_type": "stream",
          "text": [
            "___ batch index = 1750 / 1836 (95.32%), loss = 0.1092, time = 29.86 seconds ___\n"
          ],
          "name": "stdout"
        },
        {
          "output_type": "stream",
          "text": [
            "\n",
            "*** avg_loss : 0.40, time : ~3.0 min (209.35 sec) ***\n",
            "\n"
          ],
          "name": "stdout"
        },
        {
          "output_type": "stream",
          "text": [
            "==> evaluation : avg_loss = 0.37, time : 28.72 sec\n",
            "\n"
          ],
          "name": "stdout"
        },
        {
          "output_type": "stream",
          "text": [
            "threshold:  [0.07235788]\n",
            "=====>\t{'Positive Rate': array([0.10199066], dtype=float32), 'accuracy': 0.18579503563529123, 'f1': 0.18898408812729497, 'recall': 0.9301204819277108, 'specificity': 0.10125889436234264, 'g_mean': 0.30689244308677477, 'default_accuracy': 0.8980093389039076, 'default_f1': 0.0, 'default_recall': 0.0, 'default_specificity': 1.0, 'default_g_mean': 0.0}\n",
            "\n",
            "=============== EPOCH 3 / 6 ===============\n",
            "\n",
            "___ batch index = 0 / 1836 (0.00%), loss = 0.1188, time = 0.08 seconds ___\n"
          ],
          "name": "stdout"
        },
        {
          "output_type": "stream",
          "text": [
            "___ batch index = 250 / 1836 (13.62%), loss = 0.1001, time = 29.19 seconds ___\n"
          ],
          "name": "stdout"
        },
        {
          "output_type": "stream",
          "text": [
            "___ batch index = 500 / 1836 (27.23%), loss = 0.7828, time = 28.20 seconds ___\n"
          ],
          "name": "stdout"
        },
        {
          "output_type": "stream",
          "text": [
            "___ batch index = 750 / 1836 (40.85%), loss = 0.1947, time = 26.15 seconds ___\n"
          ],
          "name": "stdout"
        },
        {
          "output_type": "stream",
          "text": [
            "___ batch index = 1000 / 1836 (54.47%), loss = 0.1830, time = 29.91 seconds ___\n"
          ],
          "name": "stdout"
        },
        {
          "output_type": "stream",
          "text": [
            "___ batch index = 1250 / 1836 (68.08%), loss = 0.1648, time = 27.14 seconds ___\n"
          ],
          "name": "stdout"
        },
        {
          "output_type": "stream",
          "text": [
            "___ batch index = 1500 / 1836 (81.70%), loss = 0.1499, time = 27.38 seconds ___\n"
          ],
          "name": "stdout"
        },
        {
          "output_type": "stream",
          "text": [
            "___ batch index = 1750 / 1836 (95.32%), loss = 0.1155, time = 29.86 seconds ___\n"
          ],
          "name": "stdout"
        },
        {
          "output_type": "stream",
          "text": [
            "\n",
            "*** avg_loss : 0.40, time : ~3.0 min (209.27 sec) ***\n",
            "\n"
          ],
          "name": "stdout"
        },
        {
          "output_type": "stream",
          "text": [
            "==> evaluation : avg_loss = 0.37, time : 28.80 sec\n",
            "\n"
          ],
          "name": "stdout"
        },
        {
          "output_type": "stream",
          "text": [
            "threshold:  [0.08490352]\n",
            "=====>\t{'Positive Rate': array([0.10199066], dtype=float32), 'accuracy': 0.18825264192676333, 'f1': 0.190242706545722, 'recall': 0.9349397590361446, 'specificity': 0.10344827586206896, 'g_mean': 0.3109950258560213, 'default_accuracy': 0.8980093389039076, 'default_f1': 0.0, 'default_recall': 0.0, 'default_specificity': 1.0, 'default_g_mean': 0.0}\n",
            "\n",
            "=============== EPOCH 4 / 6 ===============\n",
            "\n",
            "___ batch index = 0 / 1836 (0.00%), loss = 0.1124, time = 0.08 seconds ___\n"
          ],
          "name": "stdout"
        },
        {
          "output_type": "stream",
          "text": [
            "___ batch index = 250 / 1836 (13.62%), loss = 0.1068, time = 29.10 seconds ___\n"
          ],
          "name": "stdout"
        },
        {
          "output_type": "stream",
          "text": [
            "___ batch index = 500 / 1836 (27.23%), loss = 0.7625, time = 28.10 seconds ___\n"
          ],
          "name": "stdout"
        },
        {
          "output_type": "stream",
          "text": [
            "___ batch index = 750 / 1836 (40.85%), loss = 0.1777, time = 26.05 seconds ___\n"
          ],
          "name": "stdout"
        },
        {
          "output_type": "stream",
          "text": [
            "___ batch index = 1000 / 1836 (54.47%), loss = 0.1715, time = 29.84 seconds ___\n"
          ],
          "name": "stdout"
        },
        {
          "output_type": "stream",
          "text": [
            "___ batch index = 1250 / 1836 (68.08%), loss = 0.1578, time = 27.05 seconds ___\n"
          ],
          "name": "stdout"
        },
        {
          "output_type": "stream",
          "text": [
            "___ batch index = 1500 / 1836 (81.70%), loss = 0.1462, time = 27.30 seconds ___\n"
          ],
          "name": "stdout"
        },
        {
          "output_type": "stream",
          "text": [
            "___ batch index = 1750 / 1836 (95.32%), loss = 0.1139, time = 29.79 seconds ___\n"
          ],
          "name": "stdout"
        },
        {
          "output_type": "stream",
          "text": [
            "\n",
            "*** avg_loss : 0.39, time : ~3.0 min (208.65 sec) ***\n",
            "\n"
          ],
          "name": "stdout"
        },
        {
          "output_type": "stream",
          "text": [
            "==> evaluation : avg_loss = 0.37, time : 28.60 sec\n",
            "\n"
          ],
          "name": "stdout"
        },
        {
          "output_type": "stream",
          "text": [
            "threshold:  [0.08430551]\n",
            "=====>\t{'Positive Rate': array([0.10199066], dtype=float32), 'accuracy': 0.19046448758908824, 'f1': 0.19225110348209906, 'recall': 0.944578313253012, 'specificity': 0.10481663929939793, 'g_mean': 0.3146546112013531, 'default_accuracy': 0.8980093389039076, 'default_f1': 0.0, 'default_recall': 0.0, 'default_specificity': 1.0, 'default_g_mean': 0.0}\n",
            "\n",
            "=============== EPOCH 5 / 6 ===============\n",
            "\n"
          ],
          "name": "stdout"
        },
        {
          "output_type": "stream",
          "text": [
            "___ batch index = 0 / 1836 (0.00%), loss = 0.1179, time = 0.08 seconds ___\n"
          ],
          "name": "stdout"
        },
        {
          "output_type": "stream",
          "text": [
            "___ batch index = 250 / 1836 (13.62%), loss = 0.1048, time = 29.11 seconds ___\n"
          ],
          "name": "stdout"
        },
        {
          "output_type": "stream",
          "text": [
            "___ batch index = 500 / 1836 (27.23%), loss = 0.7732, time = 28.11 seconds ___\n"
          ],
          "name": "stdout"
        },
        {
          "output_type": "stream",
          "text": [
            "___ batch index = 750 / 1836 (40.85%), loss = 0.1730, time = 26.15 seconds ___\n"
          ],
          "name": "stdout"
        },
        {
          "output_type": "stream",
          "text": [
            "___ batch index = 1000 / 1836 (54.47%), loss = 0.1657, time = 29.83 seconds ___\n"
          ],
          "name": "stdout"
        },
        {
          "output_type": "stream",
          "text": [
            "___ batch index = 1250 / 1836 (68.08%), loss = 0.1499, time = 27.05 seconds ___\n"
          ],
          "name": "stdout"
        },
        {
          "output_type": "stream",
          "text": [
            "___ batch index = 1500 / 1836 (81.70%), loss = 0.1398, time = 27.29 seconds ___\n"
          ],
          "name": "stdout"
        },
        {
          "output_type": "stream",
          "text": [
            "___ batch index = 1750 / 1836 (95.32%), loss = 0.1119, time = 29.78 seconds ___\n"
          ],
          "name": "stdout"
        },
        {
          "output_type": "stream",
          "text": [
            "\n",
            "*** avg_loss : 0.39, time : ~3.0 min (208.77 sec) ***\n",
            "\n"
          ],
          "name": "stdout"
        },
        {
          "output_type": "stream",
          "text": [
            "==> evaluation : avg_loss = 0.37, time : 28.55 sec\n",
            "\n"
          ],
          "name": "stdout"
        },
        {
          "output_type": "stream",
          "text": [
            "threshold:  [0.08386946]\n",
            "=====>\t{'Positive Rate': array([0.10199066], dtype=float32), 'accuracy': 0.1919390513639715, 'f1': 0.19293078055964655, 'recall': 0.946987951807229, 'specificity': 0.10618500273672687, 'g_mean': 0.3171055317308388, 'default_accuracy': 0.8980093389039076, 'default_f1': 0.0, 'default_recall': 0.0, 'default_specificity': 1.0, 'default_g_mean': 0.0}\n",
            "\n",
            "=============== EPOCH 6 / 6 ===============\n",
            "\n"
          ],
          "name": "stdout"
        },
        {
          "output_type": "stream",
          "text": [
            "___ batch index = 0 / 1836 (0.00%), loss = 0.1163, time = 0.08 seconds ___\n"
          ],
          "name": "stdout"
        },
        {
          "output_type": "stream",
          "text": [
            "___ batch index = 250 / 1836 (13.62%), loss = 0.1043, time = 29.11 seconds ___\n"
          ],
          "name": "stdout"
        },
        {
          "output_type": "stream",
          "text": [
            "___ batch index = 500 / 1836 (27.23%), loss = 0.7610, time = 28.10 seconds ___\n"
          ],
          "name": "stdout"
        },
        {
          "output_type": "stream",
          "text": [
            "___ batch index = 750 / 1836 (40.85%), loss = 0.1743, time = 26.14 seconds ___\n"
          ],
          "name": "stdout"
        },
        {
          "output_type": "stream",
          "text": [
            "___ batch index = 1000 / 1836 (54.47%), loss = 0.1600, time = 29.82 seconds ___\n"
          ],
          "name": "stdout"
        },
        {
          "output_type": "stream",
          "text": [
            "___ batch index = 1250 / 1836 (68.08%), loss = 0.1497, time = 27.05 seconds ___\n"
          ],
          "name": "stdout"
        },
        {
          "output_type": "stream",
          "text": [
            "___ batch index = 1500 / 1836 (81.70%), loss = 0.1421, time = 27.28 seconds ___\n"
          ],
          "name": "stdout"
        },
        {
          "output_type": "stream",
          "text": [
            "___ batch index = 1750 / 1836 (95.32%), loss = 0.1130, time = 29.77 seconds ___\n"
          ],
          "name": "stdout"
        },
        {
          "output_type": "stream",
          "text": [
            "\n",
            "*** avg_loss : 0.39, time : ~3.0 min (208.73 sec) ***\n",
            "\n"
          ],
          "name": "stdout"
        },
        {
          "output_type": "stream",
          "text": [
            "==> evaluation : avg_loss = 0.37, time : 28.55 sec\n",
            "\n"
          ],
          "name": "stdout"
        },
        {
          "output_type": "stream",
          "text": [
            "threshold:  [0.08435322]\n",
            "=====>\t{'Positive Rate': array([0.10199066], dtype=float32), 'accuracy': 0.19120176947652986, 'f1': 0.19278881530537162, 'recall': 0.946987951807229, 'specificity': 0.1053639846743295, 'g_mean': 0.31587722938032675, 'default_accuracy': 0.8980093389039076, 'default_f1': 0.0, 'default_recall': 0.0, 'default_specificity': 1.0, 'default_g_mean': 0.0}\n"
          ],
          "name": "stdout"
        },
        {
          "output_type": "stream",
          "text": [
            "@@@@@@@@@@@@@@@@@@@@@@@@@@@@@@@@@@@@@@@@@@@@@ END @@@@@@@@@@@@@@@@@@@@@@@@@@@@@@@@@@@@@@@@@\n",
            "#################################################### Para label:  Apoyo Educador(a) Diferencial  (6) ##############\n",
            "------------------------------------------- exp: 5*1e-6 -----------------------------------------\n"
          ],
          "name": "stdout"
        },
        {
          "output_type": "stream",
          "text": [
            "Some weights of BertModel were not initialized from the model checkpoint at dccuchile/bert-base-spanish-wwm-cased and are newly initialized: ['bert.pooler.dense.weight', 'bert.pooler.dense.bias']\n",
            "You should probably TRAIN this model on a down-stream task to be able to use it for predictions and inference.\n"
          ],
          "name": "stderr"
        },
        {
          "output_type": "stream",
          "text": [
            "\n",
            "=============== EPOCH 1 / 6 ===============\n",
            "\n",
            "___ batch index = 0 / 1836 (0.00%), loss = 0.7550, time = 0.08 seconds ___\n"
          ],
          "name": "stdout"
        },
        {
          "output_type": "stream",
          "text": [
            "___ batch index = 250 / 1836 (13.62%), loss = 0.6566, time = 29.10 seconds ___\n"
          ],
          "name": "stdout"
        },
        {
          "output_type": "stream",
          "text": [
            "___ batch index = 500 / 1836 (27.23%), loss = 0.6189, time = 28.10 seconds ___\n"
          ],
          "name": "stdout"
        },
        {
          "output_type": "stream",
          "text": [
            "___ batch index = 750 / 1836 (40.85%), loss = 0.6345, time = 26.08 seconds ___\n"
          ],
          "name": "stdout"
        },
        {
          "output_type": "stream",
          "text": [
            "___ batch index = 1000 / 1836 (54.47%), loss = 0.7164, time = 29.81 seconds ___\n"
          ],
          "name": "stdout"
        },
        {
          "output_type": "stream",
          "text": [
            "___ batch index = 1250 / 1836 (68.08%), loss = 0.7535, time = 27.02 seconds ___\n"
          ],
          "name": "stdout"
        },
        {
          "output_type": "stream",
          "text": [
            "___ batch index = 1500 / 1836 (81.70%), loss = 0.4467, time = 27.27 seconds ___\n"
          ],
          "name": "stdout"
        },
        {
          "output_type": "stream",
          "text": [
            "___ batch index = 1750 / 1836 (95.32%), loss = 0.8687, time = 29.76 seconds ___\n"
          ],
          "name": "stdout"
        },
        {
          "output_type": "stream",
          "text": [
            "\n",
            "*** avg_loss : 0.74, time : ~3.0 min (208.56 sec) ***\n",
            "\n"
          ],
          "name": "stdout"
        },
        {
          "output_type": "stream",
          "text": [
            "==> evaluation : avg_loss = 0.69, time : 28.56 sec\n",
            "\n"
          ],
          "name": "stdout"
        },
        {
          "output_type": "stream",
          "text": [
            "threshold:  [0.48655316]\n",
            "=====>\t{'Positive Rate': array([0.41656426], dtype=float32), 'accuracy': 0.49275006144015726, 'f1': 0.49411764705882344, 'recall': 0.5946902654867257, 'specificity': 0.41996630160067394, 'g_mean': 0.4997498087987459, 'default_accuracy': 0.5807323666748587, 'default_f1': 0.11697722567287783, 'default_recall': 0.06666666666666667, 'default_specificity': 0.9477674810446504, 'default_g_mean': 0.25136526955072774}\n",
            "\n",
            "=============== EPOCH 2 / 6 ===============\n",
            "\n"
          ],
          "name": "stdout"
        },
        {
          "output_type": "stream",
          "text": [
            "___ batch index = 0 / 1836 (0.00%), loss = 0.7260, time = 0.08 seconds ___\n"
          ],
          "name": "stdout"
        },
        {
          "output_type": "stream",
          "text": [
            "___ batch index = 250 / 1836 (13.62%), loss = 0.6687, time = 29.11 seconds ___\n"
          ],
          "name": "stdout"
        },
        {
          "output_type": "stream",
          "text": [
            "___ batch index = 500 / 1836 (27.23%), loss = 0.6105, time = 28.08 seconds ___\n"
          ],
          "name": "stdout"
        },
        {
          "output_type": "stream",
          "text": [
            "___ batch index = 750 / 1836 (40.85%), loss = 0.5263, time = 26.13 seconds ___\n"
          ],
          "name": "stdout"
        },
        {
          "output_type": "stream",
          "text": [
            "___ batch index = 1000 / 1836 (54.47%), loss = 0.8092, time = 29.81 seconds ___\n"
          ],
          "name": "stdout"
        },
        {
          "output_type": "stream",
          "text": [
            "___ batch index = 1250 / 1836 (68.08%), loss = 0.7870, time = 27.03 seconds ___\n"
          ],
          "name": "stdout"
        },
        {
          "output_type": "stream",
          "text": [
            "___ batch index = 1500 / 1836 (81.70%), loss = 0.6111, time = 27.28 seconds ___\n"
          ],
          "name": "stdout"
        },
        {
          "output_type": "stream",
          "text": [
            "___ batch index = 1750 / 1836 (95.32%), loss = 0.7710, time = 29.76 seconds ___\n"
          ],
          "name": "stdout"
        },
        {
          "output_type": "stream",
          "text": [
            "\n",
            "*** avg_loss : 0.71, time : ~3.0 min (208.65 sec) ***\n",
            "\n"
          ],
          "name": "stdout"
        },
        {
          "output_type": "stream",
          "text": [
            "==> evaluation : avg_loss = 0.69, time : 28.53 sec\n",
            "\n"
          ],
          "name": "stdout"
        },
        {
          "output_type": "stream",
          "text": [
            "threshold:  [0.48315582]\n",
            "=====>\t{'Positive Rate': array([0.41656426], dtype=float32), 'accuracy': 0.5101990661096092, 'f1': 0.5104396954065341, 'recall': 0.6129793510324484, 'specificity': 0.43681550126368995, 'g_mean': 0.5174542322616854, 'default_accuracy': 0.5804866060457115, 'default_f1': 0.05950413223140496, 'default_recall': 0.03185840707964602, 'default_specificity': 0.9721988205560236, 'default_g_mean': 0.17599064119329053}\n",
            "\n",
            "=============== EPOCH 3 / 6 ===============\n",
            "\n"
          ],
          "name": "stdout"
        },
        {
          "output_type": "stream",
          "text": [
            "___ batch index = 0 / 1836 (0.00%), loss = 0.7305, time = 0.08 seconds ___\n"
          ],
          "name": "stdout"
        },
        {
          "output_type": "stream",
          "text": [
            "___ batch index = 250 / 1836 (13.62%), loss = 0.6637, time = 29.10 seconds ___\n"
          ],
          "name": "stdout"
        },
        {
          "output_type": "stream",
          "text": [
            "___ batch index = 500 / 1836 (27.23%), loss = 0.6175, time = 28.10 seconds ___\n"
          ],
          "name": "stdout"
        },
        {
          "output_type": "stream",
          "text": [
            "___ batch index = 750 / 1836 (40.85%), loss = 0.5394, time = 26.13 seconds ___\n"
          ],
          "name": "stdout"
        },
        {
          "output_type": "stream",
          "text": [
            "___ batch index = 1000 / 1836 (54.47%), loss = 0.8176, time = 29.81 seconds ___\n"
          ],
          "name": "stdout"
        },
        {
          "output_type": "stream",
          "text": [
            "___ batch index = 1250 / 1836 (68.08%), loss = 0.8014, time = 27.03 seconds ___\n"
          ],
          "name": "stdout"
        },
        {
          "output_type": "stream",
          "text": [
            "___ batch index = 1500 / 1836 (81.70%), loss = 0.6502, time = 27.27 seconds ___\n"
          ],
          "name": "stdout"
        },
        {
          "output_type": "stream",
          "text": [
            "___ batch index = 1750 / 1836 (95.32%), loss = 0.7188, time = 29.75 seconds ___\n"
          ],
          "name": "stdout"
        },
        {
          "output_type": "stream",
          "text": [
            "\n",
            "*** avg_loss : 0.70, time : ~3.0 min (208.62 sec) ***\n",
            "\n"
          ],
          "name": "stdout"
        },
        {
          "output_type": "stream",
          "text": [
            "==> evaluation : avg_loss = 0.69, time : 28.53 sec\n",
            "\n"
          ],
          "name": "stdout"
        },
        {
          "output_type": "stream",
          "text": [
            "threshold:  [0.47444606]\n",
            "=====>\t{'Positive Rate': array([0.41656426], dtype=float32), 'accuracy': 0.5141312361759646, 'f1': 0.5155599117863269, 'recall': 0.6206489675516225, 'specificity': 0.43807919123841615, 'g_mean': 0.5214339821568716, 'default_accuracy': 0.5831899729663308, 'default_f1': 0.01738122827346466, 'default_recall': 0.008849557522123894, 'default_specificity': 0.9932603201347936, 'default_g_mean': 0.09375454302313062}\n",
            "\n",
            "=============== EPOCH 4 / 6 ===============\n",
            "\n"
          ],
          "name": "stdout"
        },
        {
          "output_type": "stream",
          "text": [
            "___ batch index = 0 / 1836 (0.00%), loss = 0.7401, time = 0.08 seconds ___\n"
          ],
          "name": "stdout"
        },
        {
          "output_type": "stream",
          "text": [
            "___ batch index = 250 / 1836 (13.62%), loss = 0.6775, time = 29.08 seconds ___\n"
          ],
          "name": "stdout"
        },
        {
          "output_type": "stream",
          "text": [
            "___ batch index = 500 / 1836 (27.23%), loss = 0.6216, time = 28.07 seconds ___\n"
          ],
          "name": "stdout"
        },
        {
          "output_type": "stream",
          "text": [
            "___ batch index = 750 / 1836 (40.85%), loss = 0.5361, time = 26.12 seconds ___\n"
          ],
          "name": "stdout"
        },
        {
          "output_type": "stream",
          "text": [
            "___ batch index = 1000 / 1836 (54.47%), loss = 0.8239, time = 29.79 seconds ___\n"
          ],
          "name": "stdout"
        },
        {
          "output_type": "stream",
          "text": [
            "___ batch index = 1250 / 1836 (68.08%), loss = 0.8044, time = 27.02 seconds ___\n"
          ],
          "name": "stdout"
        },
        {
          "output_type": "stream",
          "text": [
            "___ batch index = 1500 / 1836 (81.70%), loss = 0.6452, time = 27.26 seconds ___\n"
          ],
          "name": "stdout"
        },
        {
          "output_type": "stream",
          "text": [
            "___ batch index = 1750 / 1836 (95.32%), loss = 0.6908, time = 29.74 seconds ___\n"
          ],
          "name": "stdout"
        },
        {
          "output_type": "stream",
          "text": [
            "\n",
            "*** avg_loss : 0.70, time : ~3.0 min (208.51 sec) ***\n",
            "\n"
          ],
          "name": "stdout"
        },
        {
          "output_type": "stream",
          "text": [
            "==> evaluation : avg_loss = 0.69, time : 28.52 sec\n",
            "\n"
          ],
          "name": "stdout"
        },
        {
          "output_type": "stream",
          "text": [
            "threshold:  [0.46852306]\n",
            "=====>\t{'Positive Rate': array([0.41656426], dtype=float32), 'accuracy': 0.5124109117719341, 'f1': 0.5146771037181997, 'recall': 0.6206489675516225, 'specificity': 0.43513058129738835, 'g_mean': 0.5196761934439189, 'default_accuracy': 0.5831899729663308, 'default_f1': 0.009345794392523364, 'default_recall': 0.00471976401179941, 'default_specificity': 0.9962089300758215, 'default_g_mean': 0.06857019072749511}\n",
            "\n",
            "=============== EPOCH 5 / 6 ===============\n",
            "\n",
            "___ batch index = 0 / 1836 (0.00%), loss = 0.7771, time = 0.08 seconds ___\n"
          ],
          "name": "stdout"
        },
        {
          "output_type": "stream",
          "text": [
            "___ batch index = 250 / 1836 (13.62%), loss = 0.6682, time = 29.09 seconds ___\n"
          ],
          "name": "stdout"
        },
        {
          "output_type": "stream",
          "text": [
            "___ batch index = 500 / 1836 (27.23%), loss = 0.6223, time = 28.08 seconds ___\n"
          ],
          "name": "stdout"
        },
        {
          "output_type": "stream",
          "text": [
            "___ batch index = 750 / 1836 (40.85%), loss = 0.5361, time = 26.02 seconds ___\n"
          ],
          "name": "stdout"
        },
        {
          "output_type": "stream",
          "text": [
            "___ batch index = 1000 / 1836 (54.47%), loss = 0.8171, time = 29.79 seconds ___\n"
          ],
          "name": "stdout"
        },
        {
          "output_type": "stream",
          "text": [
            "___ batch index = 1250 / 1836 (68.08%), loss = 0.8056, time = 27.02 seconds ___\n"
          ],
          "name": "stdout"
        },
        {
          "output_type": "stream",
          "text": [
            "___ batch index = 1500 / 1836 (81.70%), loss = 0.6895, time = 27.26 seconds ___\n"
          ],
          "name": "stdout"
        },
        {
          "output_type": "stream",
          "text": [
            "___ batch index = 1750 / 1836 (95.32%), loss = 0.6901, time = 29.75 seconds ___\n"
          ],
          "name": "stdout"
        },
        {
          "output_type": "stream",
          "text": [
            "\n",
            "*** avg_loss : 0.69, time : ~3.0 min (208.41 sec) ***\n",
            "\n"
          ],
          "name": "stdout"
        },
        {
          "output_type": "stream",
          "text": [
            "==> evaluation : avg_loss = 0.69, time : 28.53 sec\n",
            "\n"
          ],
          "name": "stdout"
        },
        {
          "output_type": "stream",
          "text": [
            "threshold:  [0.46684277]\n",
            "=====>\t{'Positive Rate': array([0.41656426], dtype=float32), 'accuracy': 0.504055050380929, 'f1': 0.5063600782778864, 'recall': 0.6106194690265486, 'specificity': 0.42796967144060655, 'g_mean': 0.5112011478219993, 'default_accuracy': 0.5829442123371836, 'default_f1': 0.020773225620311597, 'default_recall': 0.010619469026548672, 'default_specificity': 0.991575400168492, 'default_g_mean': 0.10261580896517314}\n",
            "\n",
            "=============== EPOCH 6 / 6 ===============\n",
            "\n",
            "___ batch index = 0 / 1836 (0.00%), loss = 0.7502, time = 0.08 seconds ___\n"
          ],
          "name": "stdout"
        },
        {
          "output_type": "stream",
          "text": [
            "___ batch index = 250 / 1836 (13.62%), loss = 0.6761, time = 29.06 seconds ___\n"
          ],
          "name": "stdout"
        },
        {
          "output_type": "stream",
          "text": [
            "___ batch index = 500 / 1836 (27.23%), loss = 0.6275, time = 28.08 seconds ___\n"
          ],
          "name": "stdout"
        },
        {
          "output_type": "stream",
          "text": [
            "___ batch index = 750 / 1836 (40.85%), loss = 0.5480, time = 26.03 seconds ___\n"
          ],
          "name": "stdout"
        },
        {
          "output_type": "stream",
          "text": [
            "___ batch index = 1000 / 1836 (54.47%), loss = 0.8177, time = 29.80 seconds ___\n"
          ],
          "name": "stdout"
        },
        {
          "output_type": "stream",
          "text": [
            "___ batch index = 1250 / 1836 (68.08%), loss = 0.8075, time = 27.03 seconds ___\n"
          ],
          "name": "stdout"
        },
        {
          "output_type": "stream",
          "text": [
            "___ batch index = 1500 / 1836 (81.70%), loss = 0.6880, time = 27.26 seconds ___\n"
          ],
          "name": "stdout"
        },
        {
          "output_type": "stream",
          "text": [
            "___ batch index = 1750 / 1836 (95.32%), loss = 0.6799, time = 29.74 seconds ___\n"
          ],
          "name": "stdout"
        },
        {
          "output_type": "stream",
          "text": [
            "\n",
            "*** avg_loss : 0.69, time : ~3.0 min (208.40 sec) ***\n",
            "\n"
          ],
          "name": "stdout"
        },
        {
          "output_type": "stream",
          "text": [
            "==> evaluation : avg_loss = 0.69, time : 28.53 sec\n",
            "\n"
          ],
          "name": "stdout"
        },
        {
          "output_type": "stream",
          "text": [
            "threshold:  [0.46176627]\n",
            "=====>\t{'Positive Rate': array([0.41656426], dtype=float32), 'accuracy': 0.5106905873679036, 'f1': 0.5126070991432068, 'recall': 0.6176991150442478, 'specificity': 0.43428812131423755, 'g_mean': 0.5179376296524838, 'default_accuracy': 0.5802408454165643, 'default_f1': 0.06153846153846154, 'default_recall': 0.03303834808259587, 'default_specificity': 0.9709351305812974, 'default_g_mean': 0.1791035812309893}\n"
          ],
          "name": "stdout"
        },
        {
          "output_type": "stream",
          "text": [
            "@@@@@@@@@@@@@@@@@@@@@@@@@@@@@@@@@@@@@@@@@@@@@ END @@@@@@@@@@@@@@@@@@@@@@@@@@@@@@@@@@@@@@@@@\n",
            "#################################################### Para label:  Apoyo Kinesióloga(o)  (7) ##############\n",
            "------------------------------------------- exp: 1*1e-6 -----------------------------------------\n"
          ],
          "name": "stdout"
        },
        {
          "output_type": "stream",
          "text": [
            "Some weights of BertModel were not initialized from the model checkpoint at dccuchile/bert-base-spanish-wwm-cased and are newly initialized: ['bert.pooler.dense.weight', 'bert.pooler.dense.bias']\n",
            "You should probably TRAIN this model on a down-stream task to be able to use it for predictions and inference.\n"
          ],
          "name": "stderr"
        },
        {
          "output_type": "stream",
          "text": [
            "\n",
            "=============== EPOCH 1 / 6 ===============\n",
            "\n",
            "___ batch index = 0 / 1836 (0.00%), loss = 0.8759, time = 0.08 seconds ___\n"
          ],
          "name": "stdout"
        },
        {
          "output_type": "stream",
          "text": [
            "___ batch index = 250 / 1836 (13.62%), loss = 0.4491, time = 29.08 seconds ___\n"
          ],
          "name": "stdout"
        },
        {
          "output_type": "stream",
          "text": [
            "___ batch index = 500 / 1836 (27.23%), loss = 0.3213, time = 28.09 seconds ___\n"
          ],
          "name": "stdout"
        },
        {
          "output_type": "stream",
          "text": [
            "___ batch index = 750 / 1836 (40.85%), loss = 0.2410, time = 26.07 seconds ___\n"
          ],
          "name": "stdout"
        },
        {
          "output_type": "stream",
          "text": [
            "___ batch index = 1000 / 1836 (54.47%), loss = 0.1398, time = 29.81 seconds ___\n"
          ],
          "name": "stdout"
        },
        {
          "output_type": "stream",
          "text": [
            "___ batch index = 1250 / 1836 (68.08%), loss = 0.1009, time = 27.15 seconds ___\n"
          ],
          "name": "stdout"
        },
        {
          "output_type": "stream",
          "text": [
            "___ batch index = 1500 / 1836 (81.70%), loss = 0.0955, time = 27.27 seconds ___\n"
          ],
          "name": "stdout"
        },
        {
          "output_type": "stream",
          "text": [
            "___ batch index = 1750 / 1836 (95.32%), loss = 0.0616, time = 29.76 seconds ___\n"
          ],
          "name": "stdout"
        },
        {
          "output_type": "stream",
          "text": [
            "\n",
            "*** avg_loss : 0.24, time : ~3.0 min (208.68 sec) ***\n",
            "\n"
          ],
          "name": "stdout"
        },
        {
          "output_type": "stream",
          "text": [
            "==> evaluation : avg_loss = 0.10, time : 28.54 sec\n",
            "\n"
          ],
          "name": "stdout"
        },
        {
          "output_type": "stream",
          "text": [
            "threshold:  [0.0342297]\n",
            "=====>\t{'Positive Rate': array([0.0149914], dtype=float32), 'accuracy': 0.029491275497665274, 'f1': 0.029968066814050603, 'recall': 1.0, 'specificity': 0.01472055888223553, 'g_mean': 0.12132831030816975, 'default_accuracy': 0.9850086016220202, 'default_f1': 0.0, 'default_recall': 0.0, 'default_specificity': 1.0, 'default_g_mean': 0.0}\n",
            "\n",
            "=============== EPOCH 2 / 6 ===============\n",
            "\n"
          ],
          "name": "stdout"
        },
        {
          "output_type": "stream",
          "text": [
            "___ batch index = 0 / 1836 (0.00%), loss = 2.7086, time = 0.08 seconds ___\n"
          ],
          "name": "stdout"
        },
        {
          "output_type": "stream",
          "text": [
            "___ batch index = 250 / 1836 (13.62%), loss = 0.0593, time = 29.09 seconds ___\n"
          ],
          "name": "stdout"
        },
        {
          "output_type": "stream",
          "text": [
            "___ batch index = 500 / 1836 (27.23%), loss = 0.0572, time = 28.10 seconds ___\n"
          ],
          "name": "stdout"
        },
        {
          "output_type": "stream",
          "text": [
            "___ batch index = 750 / 1836 (40.85%), loss = 0.0565, time = 26.13 seconds ___\n"
          ],
          "name": "stdout"
        },
        {
          "output_type": "stream",
          "text": [
            "___ batch index = 1000 / 1836 (54.47%), loss = 0.0376, time = 29.81 seconds ___\n"
          ],
          "name": "stdout"
        },
        {
          "output_type": "stream",
          "text": [
            "___ batch index = 1250 / 1836 (68.08%), loss = 0.0341, time = 27.03 seconds ___\n"
          ],
          "name": "stdout"
        },
        {
          "output_type": "stream",
          "text": [
            "___ batch index = 1500 / 1836 (81.70%), loss = 0.0346, time = 27.27 seconds ___\n"
          ],
          "name": "stdout"
        },
        {
          "output_type": "stream",
          "text": [
            "___ batch index = 1750 / 1836 (95.32%), loss = 0.0269, time = 29.80 seconds ___\n"
          ],
          "name": "stdout"
        },
        {
          "output_type": "stream",
          "text": [
            "\n",
            "*** avg_loss : 0.08, time : ~3.0 min (208.68 sec) ***\n",
            "\n"
          ],
          "name": "stdout"
        },
        {
          "output_type": "stream",
          "text": [
            "==> evaluation : avg_loss = 0.07, time : 28.54 sec\n",
            "\n"
          ],
          "name": "stdout"
        },
        {
          "output_type": "stream",
          "text": [
            "threshold:  [0.01652943]\n",
            "=====>\t{'Positive Rate': array([0.0149914], dtype=float32), 'accuracy': 0.027279429835340378, 'f1': 0.029426189308484552, 'recall': 0.9836065573770492, 'specificity': 0.012724550898203593, 'g_mean': 0.11187471431539422, 'default_accuracy': 0.9850086016220202, 'default_f1': 0.0, 'default_recall': 0.0, 'default_specificity': 1.0, 'default_g_mean': 0.0}\n",
            "\n",
            "=============== EPOCH 3 / 6 ===============\n",
            "\n",
            "___ batch index = 0 / 1836 (0.00%), loss = 3.5319, time = 0.08 seconds ___\n"
          ],
          "name": "stdout"
        },
        {
          "output_type": "stream",
          "text": [
            "___ batch index = 250 / 1836 (13.62%), loss = 0.0284, time = 29.14 seconds ___\n"
          ],
          "name": "stdout"
        },
        {
          "output_type": "stream",
          "text": [
            "___ batch index = 500 / 1836 (27.23%), loss = 0.0294, time = 28.16 seconds ___\n"
          ],
          "name": "stdout"
        },
        {
          "output_type": "stream",
          "text": [
            "___ batch index = 750 / 1836 (40.85%), loss = 0.0293, time = 26.09 seconds ___\n"
          ],
          "name": "stdout"
        },
        {
          "output_type": "stream",
          "text": [
            "___ batch index = 1000 / 1836 (54.47%), loss = 0.0228, time = 29.86 seconds ___\n"
          ],
          "name": "stdout"
        },
        {
          "output_type": "stream",
          "text": [
            "___ batch index = 1250 / 1836 (68.08%), loss = 0.0213, time = 27.09 seconds ___\n"
          ],
          "name": "stdout"
        },
        {
          "output_type": "stream",
          "text": [
            "___ batch index = 1500 / 1836 (81.70%), loss = 0.0230, time = 27.33 seconds ___\n"
          ],
          "name": "stdout"
        },
        {
          "output_type": "stream",
          "text": [
            "___ batch index = 1750 / 1836 (95.32%), loss = 0.0192, time = 29.82 seconds ___\n"
          ],
          "name": "stdout"
        },
        {
          "output_type": "stream",
          "text": [
            "\n",
            "*** avg_loss : 0.06, time : ~3.0 min (208.91 sec) ***\n",
            "\n"
          ],
          "name": "stdout"
        },
        {
          "output_type": "stream",
          "text": [
            "==> evaluation : avg_loss = 0.06, time : 28.54 sec\n",
            "\n"
          ],
          "name": "stdout"
        },
        {
          "output_type": "stream",
          "text": [
            "threshold:  [0.01190946]\n",
            "=====>\t{'Positive Rate': array([0.0149914], dtype=float32), 'accuracy': 0.02875399361022364, 'f1': 0.029469548133595286, 'recall': 0.9836065573770492, 'specificity': 0.014221556886227544, 'g_mean': 0.11827263677370241, 'default_accuracy': 0.9850086016220202, 'default_f1': 0.0, 'default_recall': 0.0, 'default_specificity': 1.0, 'default_g_mean': 0.0}\n",
            "\n",
            "=============== EPOCH 4 / 6 ===============\n",
            "\n",
            "___ batch index = 0 / 1836 (0.00%), loss = 4.0762, time = 0.08 seconds ___\n"
          ],
          "name": "stdout"
        },
        {
          "output_type": "stream",
          "text": [
            "___ batch index = 250 / 1836 (13.62%), loss = 0.0211, time = 29.20 seconds ___\n"
          ],
          "name": "stdout"
        },
        {
          "output_type": "stream",
          "text": [
            "___ batch index = 500 / 1836 (27.23%), loss = 0.0217, time = 28.33 seconds ___\n"
          ],
          "name": "stdout"
        },
        {
          "output_type": "stream",
          "text": [
            "___ batch index = 750 / 1836 (40.85%), loss = 0.0209, time = 26.26 seconds ___\n"
          ],
          "name": "stdout"
        },
        {
          "output_type": "stream",
          "text": [
            "___ batch index = 1000 / 1836 (54.47%), loss = 0.0172, time = 30.04 seconds ___\n"
          ],
          "name": "stdout"
        },
        {
          "output_type": "stream",
          "text": [
            "___ batch index = 1250 / 1836 (68.08%), loss = 0.0171, time = 27.27 seconds ___\n"
          ],
          "name": "stdout"
        },
        {
          "output_type": "stream",
          "text": [
            "___ batch index = 1500 / 1836 (81.70%), loss = 0.0189, time = 27.49 seconds ___\n"
          ],
          "name": "stdout"
        },
        {
          "output_type": "stream",
          "text": [
            "___ batch index = 1750 / 1836 (95.32%), loss = 0.0151, time = 29.92 seconds ___\n"
          ],
          "name": "stdout"
        },
        {
          "output_type": "stream",
          "text": [
            "\n",
            "*** avg_loss : 0.06, time : ~3.0 min (209.99 sec) ***\n",
            "\n"
          ],
          "name": "stdout"
        },
        {
          "output_type": "stream",
          "text": [
            "==> evaluation : avg_loss = 0.06, time : 28.71 sec\n",
            "\n"
          ],
          "name": "stdout"
        },
        {
          "output_type": "stream",
          "text": [
            "threshold:  [0.00984961]\n",
            "=====>\t{'Positive Rate': array([0.0149914], dtype=float32), 'accuracy': 0.026050626689604325, 'f1': 0.029865361077111383, 'recall': 1.0, 'specificity': 0.01122754491017964, 'g_mean': 0.10596010999512807, 'default_accuracy': 0.9850086016220202, 'default_f1': 0.0, 'default_recall': 0.0, 'default_specificity': 1.0, 'default_g_mean': 0.0}\n",
            "\n",
            "=============== EPOCH 5 / 6 ===============\n",
            "\n",
            "___ batch index = 0 / 1836 (0.00%), loss = 4.2428, time = 0.08 seconds ___\n"
          ],
          "name": "stdout"
        },
        {
          "output_type": "stream",
          "text": [
            "___ batch index = 250 / 1836 (13.62%), loss = 0.0167, time = 29.27 seconds ___\n"
          ],
          "name": "stdout"
        },
        {
          "output_type": "stream",
          "text": [
            "___ batch index = 500 / 1836 (27.23%), loss = 0.0187, time = 28.26 seconds ___\n"
          ],
          "name": "stdout"
        },
        {
          "output_type": "stream",
          "text": [
            "___ batch index = 750 / 1836 (40.85%), loss = 0.0179, time = 26.20 seconds ___\n"
          ],
          "name": "stdout"
        },
        {
          "output_type": "stream",
          "text": [
            "___ batch index = 1000 / 1836 (54.47%), loss = 0.0147, time = 29.98 seconds ___\n"
          ],
          "name": "stdout"
        },
        {
          "output_type": "stream",
          "text": [
            "___ batch index = 1250 / 1836 (68.08%), loss = 0.0143, time = 27.19 seconds ___\n"
          ],
          "name": "stdout"
        },
        {
          "output_type": "stream",
          "text": [
            "___ batch index = 1500 / 1836 (81.70%), loss = 0.0157, time = 27.44 seconds ___\n"
          ],
          "name": "stdout"
        },
        {
          "output_type": "stream",
          "text": [
            "___ batch index = 1750 / 1836 (95.32%), loss = 0.0131, time = 29.93 seconds ___\n"
          ],
          "name": "stdout"
        },
        {
          "output_type": "stream",
          "text": [
            "\n",
            "*** avg_loss : 0.06, time : ~3.0 min (209.74 sec) ***\n",
            "\n"
          ],
          "name": "stdout"
        },
        {
          "output_type": "stream",
          "text": [
            "==> evaluation : avg_loss = 0.06, time : 28.71 sec\n",
            "\n"
          ],
          "name": "stdout"
        },
        {
          "output_type": "stream",
          "text": [
            "threshold:  [0.00864391]\n",
            "=====>\t{'Positive Rate': array([0.0149914], dtype=float32), 'accuracy': 0.01867780781518801, 'f1': 0.029647630619684087, 'recall': 1.0, 'specificity': 0.0037425149700598802, 'g_mean': 0.06117609802904955, 'default_accuracy': 0.9850086016220202, 'default_f1': 0.0, 'default_recall': 0.0, 'default_specificity': 1.0, 'default_g_mean': 0.0}\n",
            "\n",
            "=============== EPOCH 6 / 6 ===============\n",
            "\n",
            "___ batch index = 0 / 1836 (0.00%), loss = 4.3035, time = 0.08 seconds ___\n"
          ],
          "name": "stdout"
        },
        {
          "output_type": "stream",
          "text": [
            "___ batch index = 250 / 1836 (13.62%), loss = 0.0148, time = 29.26 seconds ___\n"
          ],
          "name": "stdout"
        },
        {
          "output_type": "stream",
          "text": [
            "___ batch index = 500 / 1836 (27.23%), loss = 0.0158, time = 28.26 seconds ___\n"
          ],
          "name": "stdout"
        },
        {
          "output_type": "stream",
          "text": [
            "___ batch index = 750 / 1836 (40.85%), loss = 0.0166, time = 26.20 seconds ___\n"
          ],
          "name": "stdout"
        },
        {
          "output_type": "stream",
          "text": [
            "___ batch index = 1000 / 1836 (54.47%), loss = 0.0133, time = 29.97 seconds ___\n"
          ],
          "name": "stdout"
        },
        {
          "output_type": "stream",
          "text": [
            "___ batch index = 1250 / 1836 (68.08%), loss = 0.0138, time = 27.20 seconds ___\n"
          ],
          "name": "stdout"
        },
        {
          "output_type": "stream",
          "text": [
            "___ batch index = 1500 / 1836 (81.70%), loss = 0.0144, time = 27.44 seconds ___\n"
          ],
          "name": "stdout"
        },
        {
          "output_type": "stream",
          "text": [
            "___ batch index = 1750 / 1836 (95.32%), loss = 0.0121, time = 29.92 seconds ___\n"
          ],
          "name": "stdout"
        },
        {
          "output_type": "stream",
          "text": [
            "\n",
            "*** avg_loss : 0.06, time : ~3.0 min (209.72 sec) ***\n",
            "\n"
          ],
          "name": "stdout"
        },
        {
          "output_type": "stream",
          "text": [
            "==> evaluation : avg_loss = 0.06, time : 28.72 sec\n",
            "\n"
          ],
          "name": "stdout"
        },
        {
          "output_type": "stream",
          "text": [
            "threshold:  [0.00790898]\n",
            "=====>\t{'Positive Rate': array([0.0149914], dtype=float32), 'accuracy': 0.017940525927746375, 'f1': 0.029626032054395336, 'recall': 1.0, 'specificity': 0.0029940119760479044, 'g_mean': 0.05471756551645828, 'default_accuracy': 0.9850086016220202, 'default_f1': 0.0, 'default_recall': 0.0, 'default_specificity': 1.0, 'default_g_mean': 0.0}\n"
          ],
          "name": "stdout"
        },
        {
          "output_type": "stream",
          "text": [
            "@@@@@@@@@@@@@@@@@@@@@@@@@@@@@@@@@@@@@@@@@@@@@ END @@@@@@@@@@@@@@@@@@@@@@@@@@@@@@@@@@@@@@@@@\n",
            "#################################################### Para label:  Apoyo Médico General  (8) ##############\n",
            "------------------------------------------- exp: 5*1e-6 -----------------------------------------\n"
          ],
          "name": "stdout"
        },
        {
          "output_type": "stream",
          "text": [
            "Some weights of BertModel were not initialized from the model checkpoint at dccuchile/bert-base-spanish-wwm-cased and are newly initialized: ['bert.pooler.dense.weight', 'bert.pooler.dense.bias']\n",
            "You should probably TRAIN this model on a down-stream task to be able to use it for predictions and inference.\n"
          ],
          "name": "stderr"
        },
        {
          "output_type": "stream",
          "text": [
            "\n",
            "=============== EPOCH 1 / 6 ===============\n",
            "\n",
            "___ batch index = 0 / 1836 (0.00%), loss = 0.6266, time = 0.08 seconds ___\n"
          ],
          "name": "stdout"
        },
        {
          "output_type": "stream",
          "text": [
            "___ batch index = 250 / 1836 (13.62%), loss = 0.2965, time = 29.26 seconds ___\n"
          ],
          "name": "stdout"
        },
        {
          "output_type": "stream",
          "text": [
            "___ batch index = 500 / 1836 (27.23%), loss = 0.0726, time = 28.23 seconds ___\n"
          ],
          "name": "stdout"
        },
        {
          "output_type": "stream",
          "text": [
            "___ batch index = 750 / 1836 (40.85%), loss = 0.0323, time = 26.22 seconds ___\n"
          ],
          "name": "stdout"
        },
        {
          "output_type": "stream",
          "text": [
            "___ batch index = 1000 / 1836 (54.47%), loss = 0.0152, time = 29.95 seconds ___\n"
          ],
          "name": "stdout"
        },
        {
          "output_type": "stream",
          "text": [
            "___ batch index = 1250 / 1836 (68.08%), loss = 0.0114, time = 27.24 seconds ___\n"
          ],
          "name": "stdout"
        },
        {
          "output_type": "stream",
          "text": [
            "___ batch index = 1500 / 1836 (81.70%), loss = 0.0106, time = 27.43 seconds ___\n"
          ],
          "name": "stdout"
        },
        {
          "output_type": "stream",
          "text": [
            "___ batch index = 1750 / 1836 (95.32%), loss = 0.0075, time = 29.91 seconds ___\n"
          ],
          "name": "stdout"
        },
        {
          "output_type": "stream",
          "text": [
            "\n",
            "*** avg_loss : 0.11, time : ~3.0 min (209.75 sec) ***\n",
            "\n"
          ],
          "name": "stdout"
        },
        {
          "output_type": "stream",
          "text": [
            "==> evaluation : avg_loss = 0.12, time : 28.72 sec\n",
            "\n"
          ],
          "name": "stdout"
        },
        {
          "output_type": "stream",
          "text": [
            "threshold:  [0.00437623]\n",
            "=====>\t{'Positive Rate': array([0.017449], dtype=float32), 'accuracy': 0.01867780781518801, 'f1': 0.0343409915356711, 'recall': 1.0, 'specificity': 0.0012506253126563281, 'g_mean': 0.03536418121003692, 'default_accuracy': 0.982550995330548, 'default_f1': 0.0, 'default_recall': 0.0, 'default_specificity': 1.0, 'default_g_mean': 0.0}\n",
            "\n",
            "=============== EPOCH 2 / 6 ===============\n",
            "\n"
          ],
          "name": "stdout"
        },
        {
          "output_type": "stream",
          "text": [
            "___ batch index = 0 / 1836 (0.00%), loss = 0.0072, time = 0.08 seconds ___\n"
          ],
          "name": "stdout"
        },
        {
          "output_type": "stream",
          "text": [
            "___ batch index = 250 / 1836 (13.62%), loss = 0.0186, time = 29.25 seconds ___\n"
          ],
          "name": "stdout"
        },
        {
          "output_type": "stream",
          "text": [
            "___ batch index = 500 / 1836 (27.23%), loss = 0.0203, time = 28.23 seconds ___\n"
          ],
          "name": "stdout"
        },
        {
          "output_type": "stream",
          "text": [
            "___ batch index = 750 / 1836 (40.85%), loss = 0.0192, time = 26.28 seconds ___\n"
          ],
          "name": "stdout"
        },
        {
          "output_type": "stream",
          "text": [
            "___ batch index = 1000 / 1836 (54.47%), loss = 0.0127, time = 29.96 seconds ___\n"
          ],
          "name": "stdout"
        },
        {
          "output_type": "stream",
          "text": [
            "___ batch index = 1250 / 1836 (68.08%), loss = 0.0115, time = 27.19 seconds ___\n"
          ],
          "name": "stdout"
        },
        {
          "output_type": "stream",
          "text": [
            "___ batch index = 1500 / 1836 (81.70%), loss = 0.0115, time = 27.43 seconds ___\n"
          ],
          "name": "stdout"
        },
        {
          "output_type": "stream",
          "text": [
            "___ batch index = 1750 / 1836 (95.32%), loss = 0.0090, time = 29.91 seconds ___\n"
          ],
          "name": "stdout"
        },
        {
          "output_type": "stream",
          "text": [
            "\n",
            "*** avg_loss : 0.12, time : ~3.0 min (209.73 sec) ***\n",
            "\n"
          ],
          "name": "stdout"
        },
        {
          "output_type": "stream",
          "text": [
            "==> evaluation : avg_loss = 0.11, time : 28.71 sec\n",
            "\n"
          ],
          "name": "stdout"
        },
        {
          "output_type": "stream",
          "text": [
            "threshold:  [0.00590904]\n",
            "=====>\t{'Positive Rate': array([0.017449], dtype=float32), 'accuracy': 0.028999754239370852, 'f1': 0.03422146174529454, 'recall': 0.9859154929577465, 'specificity': 0.01200600300150075, 'g_mean': 0.1087975384265508, 'default_accuracy': 0.982550995330548, 'default_f1': 0.0, 'default_recall': 0.0, 'default_specificity': 1.0, 'default_g_mean': 0.0}\n",
            "\n",
            "=============== EPOCH 3 / 6 ===============\n",
            "\n"
          ],
          "name": "stdout"
        },
        {
          "output_type": "stream",
          "text": [
            "___ batch index = 0 / 1836 (0.00%), loss = 0.0090, time = 0.08 seconds ___\n"
          ],
          "name": "stdout"
        },
        {
          "output_type": "stream",
          "text": [
            "___ batch index = 250 / 1836 (13.62%), loss = 0.0210, time = 29.29 seconds ___\n"
          ],
          "name": "stdout"
        },
        {
          "output_type": "stream",
          "text": [
            "___ batch index = 500 / 1836 (27.23%), loss = 0.0225, time = 28.26 seconds ___\n"
          ],
          "name": "stdout"
        },
        {
          "output_type": "stream",
          "text": [
            "___ batch index = 750 / 1836 (40.85%), loss = 0.0211, time = 26.29 seconds ___\n"
          ],
          "name": "stdout"
        },
        {
          "output_type": "stream",
          "text": [
            "___ batch index = 1000 / 1836 (54.47%), loss = 0.0146, time = 29.97 seconds ___\n"
          ],
          "name": "stdout"
        },
        {
          "output_type": "stream",
          "text": [
            "___ batch index = 1250 / 1836 (68.08%), loss = 0.0132, time = 27.20 seconds ___\n"
          ],
          "name": "stdout"
        },
        {
          "output_type": "stream",
          "text": [
            "___ batch index = 1500 / 1836 (81.70%), loss = 0.0129, time = 27.44 seconds ___\n"
          ],
          "name": "stdout"
        },
        {
          "output_type": "stream",
          "text": [
            "___ batch index = 1750 / 1836 (95.32%), loss = 0.0104, time = 29.92 seconds ___\n"
          ],
          "name": "stdout"
        },
        {
          "output_type": "stream",
          "text": [
            "\n",
            "*** avg_loss : 0.11, time : ~3.0 min (209.87 sec) ***\n",
            "\n"
          ],
          "name": "stdout"
        },
        {
          "output_type": "stream",
          "text": [
            "==> evaluation : avg_loss = 0.11, time : 28.72 sec\n",
            "\n"
          ],
          "name": "stdout"
        },
        {
          "output_type": "stream",
          "text": [
            "threshold:  [0.00698509]\n",
            "=====>\t{'Positive Rate': array([0.017449], dtype=float32), 'accuracy': 0.02064389284836569, 'f1': 0.034407559970923186, 'recall': 1.0, 'specificity': 0.0032516258129064533, 'g_mean': 0.05702302879457082, 'default_accuracy': 0.982550995330548, 'default_f1': 0.0, 'default_recall': 0.0, 'default_specificity': 1.0, 'default_g_mean': 0.0}\n",
            "\n",
            "=============== EPOCH 4 / 6 ===============\n",
            "\n",
            "___ batch index = 0 / 1836 (0.00%), loss = 0.0099, time = 0.08 seconds ___\n"
          ],
          "name": "stdout"
        },
        {
          "output_type": "stream",
          "text": [
            "___ batch index = 250 / 1836 (13.62%), loss = 0.0224, time = 29.28 seconds ___\n"
          ],
          "name": "stdout"
        },
        {
          "output_type": "stream",
          "text": [
            "___ batch index = 500 / 1836 (27.23%), loss = 0.0238, time = 28.26 seconds ___\n"
          ],
          "name": "stdout"
        },
        {
          "output_type": "stream",
          "text": [
            "___ batch index = 750 / 1836 (40.85%), loss = 0.0218, time = 26.19 seconds ___\n"
          ],
          "name": "stdout"
        },
        {
          "output_type": "stream",
          "text": [
            "___ batch index = 1000 / 1836 (54.47%), loss = 0.0161, time = 29.96 seconds ___\n"
          ],
          "name": "stdout"
        },
        {
          "output_type": "stream",
          "text": [
            "___ batch index = 1250 / 1836 (68.08%), loss = 0.0143, time = 27.20 seconds ___\n"
          ],
          "name": "stdout"
        },
        {
          "output_type": "stream",
          "text": [
            "___ batch index = 1500 / 1836 (81.70%), loss = 0.0136, time = 27.44 seconds ___\n"
          ],
          "name": "stdout"
        },
        {
          "output_type": "stream",
          "text": [
            "___ batch index = 1750 / 1836 (95.32%), loss = 0.0114, time = 29.92 seconds ___\n"
          ],
          "name": "stdout"
        },
        {
          "output_type": "stream",
          "text": [
            "\n",
            "*** avg_loss : 0.11, time : ~3.0 min (209.70 sec) ***\n",
            "\n"
          ],
          "name": "stdout"
        },
        {
          "output_type": "stream",
          "text": [
            "==> evaluation : avg_loss = 0.11, time : 28.70 sec\n",
            "\n"
          ],
          "name": "stdout"
        },
        {
          "output_type": "stream",
          "text": [
            "threshold:  [0.0079015]\n",
            "=====>\t{'Positive Rate': array([0.017449], dtype=float32), 'accuracy': 0.02359302039813222, 'f1': 0.03450789793438639, 'recall': 1.0, 'specificity': 0.00625312656328164, 'g_mean': 0.07907671315426332, 'default_accuracy': 0.982550995330548, 'default_f1': 0.0, 'default_recall': 0.0, 'default_specificity': 1.0, 'default_g_mean': 0.0}\n",
            "\n",
            "=============== EPOCH 5 / 6 ===============\n",
            "\n",
            "___ batch index = 0 / 1836 (0.00%), loss = 0.0112, time = 0.08 seconds ___\n"
          ],
          "name": "stdout"
        },
        {
          "output_type": "stream",
          "text": [
            "___ batch index = 250 / 1836 (13.62%), loss = 0.0240, time = 29.16 seconds ___\n"
          ],
          "name": "stdout"
        },
        {
          "output_type": "stream",
          "text": [
            "___ batch index = 500 / 1836 (27.23%), loss = 0.0242, time = 28.16 seconds ___\n"
          ],
          "name": "stdout"
        },
        {
          "output_type": "stream",
          "text": [
            "___ batch index = 750 / 1836 (40.85%), loss = 0.0229, time = 26.09 seconds ___\n"
          ],
          "name": "stdout"
        },
        {
          "output_type": "stream",
          "text": [
            "___ batch index = 1000 / 1836 (54.47%), loss = 0.0169, time = 29.86 seconds ___\n"
          ],
          "name": "stdout"
        },
        {
          "output_type": "stream",
          "text": [
            "___ batch index = 1250 / 1836 (68.08%), loss = 0.0150, time = 27.09 seconds ___\n"
          ],
          "name": "stdout"
        },
        {
          "output_type": "stream",
          "text": [
            "___ batch index = 1500 / 1836 (81.70%), loss = 0.0148, time = 27.33 seconds ___\n"
          ],
          "name": "stdout"
        },
        {
          "output_type": "stream",
          "text": [
            "___ batch index = 1750 / 1836 (95.32%), loss = 0.0120, time = 29.81 seconds ___\n"
          ],
          "name": "stdout"
        },
        {
          "output_type": "stream",
          "text": [
            "\n",
            "*** avg_loss : 0.11, time : ~3.0 min (208.92 sec) ***\n",
            "\n"
          ],
          "name": "stdout"
        },
        {
          "output_type": "stream",
          "text": [
            "==> evaluation : avg_loss = 0.11, time : 28.71 sec\n",
            "\n"
          ],
          "name": "stdout"
        },
        {
          "output_type": "stream",
          "text": [
            "threshold:  [0.00858384]\n",
            "=====>\t{'Positive Rate': array([0.017449], dtype=float32), 'accuracy': 0.034652248709756694, 'f1': 0.03488943488943489, 'recall': 1.0, 'specificity': 0.017508754377188594, 'g_mean': 0.13232064985174685, 'default_accuracy': 0.982550995330548, 'default_f1': 0.0, 'default_recall': 0.0, 'default_specificity': 1.0, 'default_g_mean': 0.0}\n",
            "\n",
            "=============== EPOCH 6 / 6 ===============\n",
            "\n"
          ],
          "name": "stdout"
        },
        {
          "output_type": "stream",
          "text": [
            "___ batch index = 0 / 1836 (0.00%), loss = 0.0108, time = 0.08 seconds ___\n"
          ],
          "name": "stdout"
        },
        {
          "output_type": "stream",
          "text": [
            "___ batch index = 250 / 1836 (13.62%), loss = 0.0229, time = 29.17 seconds ___\n"
          ],
          "name": "stdout"
        },
        {
          "output_type": "stream",
          "text": [
            "___ batch index = 500 / 1836 (27.23%), loss = 0.0248, time = 28.14 seconds ___\n"
          ],
          "name": "stdout"
        },
        {
          "output_type": "stream",
          "text": [
            "___ batch index = 750 / 1836 (40.85%), loss = 0.0219, time = 26.18 seconds ___\n"
          ],
          "name": "stdout"
        },
        {
          "output_type": "stream",
          "text": [
            "___ batch index = 1000 / 1836 (54.47%), loss = 0.0174, time = 29.87 seconds ___\n"
          ],
          "name": "stdout"
        },
        {
          "output_type": "stream",
          "text": [
            "___ batch index = 1250 / 1836 (68.08%), loss = 0.0156, time = 27.09 seconds ___\n"
          ],
          "name": "stdout"
        },
        {
          "output_type": "stream",
          "text": [
            "___ batch index = 1500 / 1836 (81.70%), loss = 0.0146, time = 27.33 seconds ___\n"
          ],
          "name": "stdout"
        },
        {
          "output_type": "stream",
          "text": [
            "___ batch index = 1750 / 1836 (95.32%), loss = 0.0123, time = 29.82 seconds ___\n"
          ],
          "name": "stdout"
        },
        {
          "output_type": "stream",
          "text": [
            "\n",
            "*** avg_loss : 0.11, time : ~3.0 min (209.06 sec) ***\n",
            "\n"
          ],
          "name": "stdout"
        },
        {
          "output_type": "stream",
          "text": [
            "==> evaluation : avg_loss = 0.11, time : 28.71 sec\n",
            "\n"
          ],
          "name": "stdout"
        },
        {
          "output_type": "stream",
          "text": [
            "threshold:  [0.0090624]\n",
            "=====>\t{'Positive Rate': array([0.017449], dtype=float32), 'accuracy': 0.030228557385106904, 'f1': 0.034263338228095935, 'recall': 0.9859154929577465, 'specificity': 0.013256628314157078, 'g_mean': 0.11432372999211404, 'default_accuracy': 0.982550995330548, 'default_f1': 0.0, 'default_recall': 0.0, 'default_specificity': 1.0, 'default_g_mean': 0.0}\n"
          ],
          "name": "stdout"
        },
        {
          "output_type": "stream",
          "text": [
            "@@@@@@@@@@@@@@@@@@@@@@@@@@@@@@@@@@@@@@@@@@@@@ END @@@@@@@@@@@@@@@@@@@@@@@@@@@@@@@@@@@@@@@@@\n",
            "#################################################### Para label:  Apoyo Terapeuta Ocupacional  (9) ##############\n",
            "------------------------------------------- exp: 1*1e-6 -----------------------------------------\n"
          ],
          "name": "stdout"
        },
        {
          "output_type": "stream",
          "text": [
            "Some weights of BertModel were not initialized from the model checkpoint at dccuchile/bert-base-spanish-wwm-cased and are newly initialized: ['bert.pooler.dense.weight', 'bert.pooler.dense.bias']\n",
            "You should probably TRAIN this model on a down-stream task to be able to use it for predictions and inference.\n"
          ],
          "name": "stderr"
        },
        {
          "output_type": "stream",
          "text": [
            "\n",
            "=============== EPOCH 1 / 6 ===============\n",
            "\n",
            "___ batch index = 0 / 1836 (0.00%), loss = 0.7168, time = 0.08 seconds ___\n"
          ],
          "name": "stdout"
        },
        {
          "output_type": "stream",
          "text": [
            "___ batch index = 250 / 1836 (13.62%), loss = 0.5710, time = 29.14 seconds ___\n"
          ],
          "name": "stdout"
        },
        {
          "output_type": "stream",
          "text": [
            "___ batch index = 500 / 1836 (27.23%), loss = 0.4299, time = 28.13 seconds ___\n"
          ],
          "name": "stdout"
        },
        {
          "output_type": "stream",
          "text": [
            "___ batch index = 750 / 1836 (40.85%), loss = 0.3146, time = 26.12 seconds ___\n"
          ],
          "name": "stdout"
        },
        {
          "output_type": "stream",
          "text": [
            "___ batch index = 1000 / 1836 (54.47%), loss = 0.1663, time = 29.85 seconds ___\n"
          ],
          "name": "stdout"
        },
        {
          "output_type": "stream",
          "text": [
            "___ batch index = 1250 / 1836 (68.08%), loss = 0.1206, time = 27.07 seconds ___\n"
          ],
          "name": "stdout"
        },
        {
          "output_type": "stream",
          "text": [
            "___ batch index = 1500 / 1836 (81.70%), loss = 0.1094, time = 27.32 seconds ___\n"
          ],
          "name": "stdout"
        },
        {
          "output_type": "stream",
          "text": [
            "___ batch index = 1750 / 1836 (95.32%), loss = 0.0687, time = 29.80 seconds ___\n"
          ],
          "name": "stdout"
        },
        {
          "output_type": "stream",
          "text": [
            "\n",
            "*** avg_loss : 0.30, time : ~3.0 min (208.90 sec) ***\n",
            "\n"
          ],
          "name": "stdout"
        },
        {
          "output_type": "stream",
          "text": [
            "==> evaluation : avg_loss = 0.21, time : 28.72 sec\n",
            "\n"
          ],
          "name": "stdout"
        },
        {
          "output_type": "stream",
          "text": [
            "threshold:  [0.03752886]\n",
            "=====>\t{'Positive Rate': array([0.04816908], dtype=float32), 'accuracy': 0.08945686900958466, 'f1': 0.09302325581395347, 'recall': 0.9693877551020408, 'specificity': 0.044926413632842756, 'g_mean': 0.20868903961714702, 'default_accuracy': 0.9518309166871467, 'default_f1': 0.0, 'default_recall': 0.0, 'default_specificity': 1.0, 'default_g_mean': 0.0}\n",
            "\n",
            "=============== EPOCH 2 / 6 ===============\n",
            "\n"
          ],
          "name": "stdout"
        },
        {
          "output_type": "stream",
          "text": [
            "___ batch index = 0 / 1836 (0.00%), loss = 2.4874, time = 0.08 seconds ___\n"
          ],
          "name": "stdout"
        },
        {
          "output_type": "stream",
          "text": [
            "___ batch index = 250 / 1836 (13.62%), loss = 0.0913, time = 29.11 seconds ___\n"
          ],
          "name": "stdout"
        },
        {
          "output_type": "stream",
          "text": [
            "___ batch index = 500 / 1836 (27.23%), loss = 0.0999, time = 28.14 seconds ___\n"
          ],
          "name": "stdout"
        },
        {
          "output_type": "stream",
          "text": [
            "___ batch index = 750 / 1836 (40.85%), loss = 0.0980, time = 26.18 seconds ___\n"
          ],
          "name": "stdout"
        },
        {
          "output_type": "stream",
          "text": [
            "___ batch index = 1000 / 1836 (54.47%), loss = 0.0658, time = 29.86 seconds ___\n"
          ],
          "name": "stdout"
        },
        {
          "output_type": "stream",
          "text": [
            "___ batch index = 1250 / 1836 (68.08%), loss = 0.0599, time = 27.08 seconds ___\n"
          ],
          "name": "stdout"
        },
        {
          "output_type": "stream",
          "text": [
            "___ batch index = 1500 / 1836 (81.70%), loss = 0.0634, time = 27.33 seconds ___\n"
          ],
          "name": "stdout"
        },
        {
          "output_type": "stream",
          "text": [
            "___ batch index = 1750 / 1836 (95.32%), loss = 0.0466, time = 29.82 seconds ___\n"
          ],
          "name": "stdout"
        },
        {
          "output_type": "stream",
          "text": [
            "\n",
            "*** avg_loss : 0.21, time : ~3.0 min (208.97 sec) ***\n",
            "\n"
          ],
          "name": "stdout"
        },
        {
          "output_type": "stream",
          "text": [
            "==> evaluation : avg_loss = 0.20, time : 28.70 sec\n",
            "\n"
          ],
          "name": "stdout"
        },
        {
          "output_type": "stream",
          "text": [
            "threshold:  [0.02992804]\n",
            "=====>\t{'Positive Rate': array([0.04816908], dtype=float32), 'accuracy': 0.09166871467190955, 'f1': 0.09456148946594807, 'recall': 0.9846938775510204, 'specificity': 0.046475600309837335, 'g_mean': 0.21392577937360688, 'default_accuracy': 0.9518309166871467, 'default_f1': 0.0, 'default_recall': 0.0, 'default_specificity': 1.0, 'default_g_mean': 0.0}\n",
            "\n",
            "=============== EPOCH 3 / 6 ===============\n",
            "\n"
          ],
          "name": "stdout"
        },
        {
          "output_type": "stream",
          "text": [
            "___ batch index = 0 / 1836 (0.00%), loss = 2.9521, time = 0.08 seconds ___\n"
          ],
          "name": "stdout"
        },
        {
          "output_type": "stream",
          "text": [
            "___ batch index = 250 / 1836 (13.62%), loss = 0.0665, time = 29.13 seconds ___\n"
          ],
          "name": "stdout"
        },
        {
          "output_type": "stream",
          "text": [
            "___ batch index = 500 / 1836 (27.23%), loss = 0.0737, time = 28.14 seconds ___\n"
          ],
          "name": "stdout"
        },
        {
          "output_type": "stream",
          "text": [
            "___ batch index = 750 / 1836 (40.85%), loss = 0.0728, time = 26.18 seconds ___\n"
          ],
          "name": "stdout"
        },
        {
          "output_type": "stream",
          "text": [
            "___ batch index = 1000 / 1836 (54.47%), loss = 0.0546, time = 29.86 seconds ___\n"
          ],
          "name": "stdout"
        },
        {
          "output_type": "stream",
          "text": [
            "___ batch index = 1250 / 1836 (68.08%), loss = 0.0518, time = 27.09 seconds ___\n"
          ],
          "name": "stdout"
        },
        {
          "output_type": "stream",
          "text": [
            "___ batch index = 1500 / 1836 (81.70%), loss = 0.0518, time = 27.33 seconds ___\n"
          ],
          "name": "stdout"
        },
        {
          "output_type": "stream",
          "text": [
            "___ batch index = 1750 / 1836 (95.32%), loss = 0.0428, time = 29.82 seconds ___\n"
          ],
          "name": "stdout"
        },
        {
          "output_type": "stream",
          "text": [
            "\n",
            "*** avg_loss : 0.21, time : ~3.0 min (209.01 sec) ***\n",
            "\n"
          ],
          "name": "stdout"
        },
        {
          "output_type": "stream",
          "text": [
            "==> evaluation : avg_loss = 0.20, time : 28.70 sec\n",
            "\n"
          ],
          "name": "stdout"
        },
        {
          "output_type": "stream",
          "text": [
            "threshold:  [0.02854995]\n",
            "=====>\t{'Positive Rate': array([0.04816908], dtype=float32), 'accuracy': 0.08675350208896535, 'f1': 0.09410043881033642, 'recall': 0.9846938775510204, 'specificity': 0.041311644719855406, 'g_mean': 0.20169115902092624, 'default_accuracy': 0.9518309166871467, 'default_f1': 0.0, 'default_recall': 0.0, 'default_specificity': 1.0, 'default_g_mean': 0.0}\n",
            "\n",
            "=============== EPOCH 4 / 6 ===============\n",
            "\n",
            "___ batch index = 0 / 1836 (0.00%), loss = 3.0683, time = 0.08 seconds ___\n"
          ],
          "name": "stdout"
        },
        {
          "output_type": "stream",
          "text": [
            "___ batch index = 250 / 1836 (13.62%), loss = 0.0534, time = 29.15 seconds ___\n"
          ],
          "name": "stdout"
        },
        {
          "output_type": "stream",
          "text": [
            "___ batch index = 500 / 1836 (27.23%), loss = 0.0653, time = 28.15 seconds ___\n"
          ],
          "name": "stdout"
        },
        {
          "output_type": "stream",
          "text": [
            "___ batch index = 750 / 1836 (40.85%), loss = 0.0592, time = 26.09 seconds ___\n"
          ],
          "name": "stdout"
        },
        {
          "output_type": "stream",
          "text": [
            "___ batch index = 1000 / 1836 (54.47%), loss = 0.0504, time = 29.87 seconds ___\n"
          ],
          "name": "stdout"
        },
        {
          "output_type": "stream",
          "text": [
            "___ batch index = 1250 / 1836 (68.08%), loss = 0.0492, time = 27.08 seconds ___\n"
          ],
          "name": "stdout"
        },
        {
          "output_type": "stream",
          "text": [
            "___ batch index = 1500 / 1836 (81.70%), loss = 0.0489, time = 27.32 seconds ___\n"
          ],
          "name": "stdout"
        },
        {
          "output_type": "stream",
          "text": [
            "___ batch index = 1750 / 1836 (95.32%), loss = 0.0395, time = 29.83 seconds ___\n"
          ],
          "name": "stdout"
        },
        {
          "output_type": "stream",
          "text": [
            "\n",
            "*** avg_loss : 0.21, time : ~3.0 min (208.92 sec) ***\n",
            "\n"
          ],
          "name": "stdout"
        },
        {
          "output_type": "stream",
          "text": [
            "==> evaluation : avg_loss = 0.20, time : 28.72 sec\n",
            "\n"
          ],
          "name": "stdout"
        },
        {
          "output_type": "stream",
          "text": [
            "threshold:  [0.02881041]\n",
            "=====>\t{'Positive Rate': array([0.04816908], dtype=float32), 'accuracy': 0.09388056033423446, 'f1': 0.09477043947949915, 'recall': 0.9846938775510204, 'specificity': 0.048799380325329204, 'g_mean': 0.21920869288108855, 'default_accuracy': 0.9518309166871467, 'default_f1': 0.0, 'default_recall': 0.0, 'default_specificity': 1.0, 'default_g_mean': 0.0}\n",
            "\n",
            "=============== EPOCH 5 / 6 ===============\n",
            "\n"
          ],
          "name": "stdout"
        },
        {
          "output_type": "stream",
          "text": [
            "___ batch index = 0 / 1836 (0.00%), loss = 3.2097, time = 0.08 seconds ___\n"
          ],
          "name": "stdout"
        },
        {
          "output_type": "stream",
          "text": [
            "___ batch index = 250 / 1836 (13.62%), loss = 0.0548, time = 29.16 seconds ___\n"
          ],
          "name": "stdout"
        },
        {
          "output_type": "stream",
          "text": [
            "___ batch index = 500 / 1836 (27.23%), loss = 0.0643, time = 28.16 seconds ___\n"
          ],
          "name": "stdout"
        },
        {
          "output_type": "stream",
          "text": [
            "___ batch index = 750 / 1836 (40.85%), loss = 0.0561, time = 26.20 seconds ___\n"
          ],
          "name": "stdout"
        },
        {
          "output_type": "stream",
          "text": [
            "___ batch index = 1000 / 1836 (54.47%), loss = 0.0491, time = 29.88 seconds ___\n"
          ],
          "name": "stdout"
        },
        {
          "output_type": "stream",
          "text": [
            "___ batch index = 1250 / 1836 (68.08%), loss = 0.0483, time = 27.10 seconds ___\n"
          ],
          "name": "stdout"
        },
        {
          "output_type": "stream",
          "text": [
            "___ batch index = 1500 / 1836 (81.70%), loss = 0.0451, time = 27.35 seconds ___\n"
          ],
          "name": "stdout"
        },
        {
          "output_type": "stream",
          "text": [
            "___ batch index = 1750 / 1836 (95.32%), loss = 0.0393, time = 29.84 seconds ___\n"
          ],
          "name": "stdout"
        },
        {
          "output_type": "stream",
          "text": [
            "\n",
            "*** avg_loss : 0.21, time : ~3.0 min (209.15 sec) ***\n",
            "\n"
          ],
          "name": "stdout"
        },
        {
          "output_type": "stream",
          "text": [
            "==> evaluation : avg_loss = 0.20, time : 28.71 sec\n",
            "\n"
          ],
          "name": "stdout"
        },
        {
          "output_type": "stream",
          "text": [
            "threshold:  [0.02909566]\n",
            "=====>\t{'Positive Rate': array([0.04816908], dtype=float32), 'accuracy': 0.0879823052347014, 'f1': 0.09244314013206163, 'recall': 0.9642857142857143, 'specificity': 0.043635424735347275, 'g_mean': 0.20512683078789298, 'default_accuracy': 0.9518309166871467, 'default_f1': 0.0, 'default_recall': 0.0, 'default_specificity': 1.0, 'default_g_mean': 0.0}\n",
            "\n",
            "=============== EPOCH 6 / 6 ===============\n",
            "\n",
            "___ batch index = 0 / 1836 (0.00%), loss = 3.3053, time = 0.08 seconds ___\n"
          ],
          "name": "stdout"
        },
        {
          "output_type": "stream",
          "text": [
            "___ batch index = 250 / 1836 (13.62%), loss = 0.0553, time = 29.16 seconds ___\n"
          ],
          "name": "stdout"
        },
        {
          "output_type": "stream",
          "text": [
            "___ batch index = 500 / 1836 (27.23%), loss = 0.0634, time = 28.15 seconds ___\n"
          ],
          "name": "stdout"
        },
        {
          "output_type": "stream",
          "text": [
            "___ batch index = 750 / 1836 (40.85%), loss = 0.0549, time = 26.09 seconds ___\n"
          ],
          "name": "stdout"
        },
        {
          "output_type": "stream",
          "text": [
            "___ batch index = 1000 / 1836 (54.47%), loss = 0.0490, time = 29.86 seconds ___\n"
          ],
          "name": "stdout"
        },
        {
          "output_type": "stream",
          "text": [
            "___ batch index = 1250 / 1836 (68.08%), loss = 0.0481, time = 27.08 seconds ___\n"
          ],
          "name": "stdout"
        },
        {
          "output_type": "stream",
          "text": [
            "___ batch index = 1500 / 1836 (81.70%), loss = 0.0436, time = 27.33 seconds ___\n"
          ],
          "name": "stdout"
        },
        {
          "output_type": "stream",
          "text": [
            "___ batch index = 1750 / 1836 (95.32%), loss = 0.0389, time = 29.81 seconds ___\n"
          ],
          "name": "stdout"
        },
        {
          "output_type": "stream",
          "text": [
            "\n",
            "*** avg_loss : 0.21, time : ~3.0 min (208.89 sec) ***\n",
            "\n"
          ],
          "name": "stdout"
        },
        {
          "output_type": "stream",
          "text": [
            "==> evaluation : avg_loss = 0.20, time : 28.71 sec\n",
            "\n"
          ],
          "name": "stdout"
        },
        {
          "output_type": "stream",
          "text": [
            "threshold:  [0.02980575]\n",
            "=====>\t{'Positive Rate': array([0.04816908], dtype=float32), 'accuracy': 0.09166871467190955, 'f1': 0.09278350515463918, 'recall': 0.9642857142857143, 'specificity': 0.047508391427833724, 'g_mean': 0.21403659304556769, 'default_accuracy': 0.9518309166871467, 'default_f1': 0.0, 'default_recall': 0.0, 'default_specificity': 1.0, 'default_g_mean': 0.0}\n"
          ],
          "name": "stdout"
        },
        {
          "output_type": "stream",
          "text": [
            "@@@@@@@@@@@@@@@@@@@@@@@@@@@@@@@@@@@@@@@@@@@@@ END @@@@@@@@@@@@@@@@@@@@@@@@@@@@@@@@@@@@@@@@@\n",
            "#################################################### Para label:  Control Neurólogo  (10) ##############\n",
            "------------------------------------------- exp: 10*1e-6 -----------------------------------------\n"
          ],
          "name": "stdout"
        },
        {
          "output_type": "stream",
          "text": [
            "Some weights of BertModel were not initialized from the model checkpoint at dccuchile/bert-base-spanish-wwm-cased and are newly initialized: ['bert.pooler.dense.weight', 'bert.pooler.dense.bias']\n",
            "You should probably TRAIN this model on a down-stream task to be able to use it for predictions and inference.\n"
          ],
          "name": "stderr"
        },
        {
          "output_type": "stream",
          "text": [
            "\n",
            "=============== EPOCH 1 / 6 ===============\n",
            "\n",
            "___ batch index = 0 / 1836 (0.00%), loss = 0.5952, time = 0.08 seconds ___\n"
          ],
          "name": "stdout"
        },
        {
          "output_type": "stream",
          "text": [
            "___ batch index = 250 / 1836 (13.62%), loss = 0.2413, time = 29.16 seconds ___\n"
          ],
          "name": "stdout"
        },
        {
          "output_type": "stream",
          "text": [
            "___ batch index = 500 / 1836 (27.23%), loss = 0.0359, time = 28.02 seconds ___\n"
          ],
          "name": "stdout"
        },
        {
          "output_type": "stream",
          "text": [
            "___ batch index = 750 / 1836 (40.85%), loss = 0.0164, time = 26.01 seconds ___\n"
          ],
          "name": "stdout"
        },
        {
          "output_type": "stream",
          "text": [
            "___ batch index = 1000 / 1836 (54.47%), loss = 0.0084, time = 29.75 seconds ___\n"
          ],
          "name": "stdout"
        },
        {
          "output_type": "stream",
          "text": [
            "___ batch index = 1250 / 1836 (68.08%), loss = 0.0065, time = 27.08 seconds ___\n"
          ],
          "name": "stdout"
        },
        {
          "output_type": "stream",
          "text": [
            "___ batch index = 1500 / 1836 (81.70%), loss = 0.0059, time = 27.39 seconds ___\n"
          ],
          "name": "stdout"
        },
        {
          "output_type": "stream",
          "text": [
            "___ batch index = 1750 / 1836 (95.32%), loss = 0.0044, time = 29.86 seconds ___\n"
          ],
          "name": "stdout"
        },
        {
          "output_type": "stream",
          "text": [
            "\n",
            "*** avg_loss : 0.10, time : ~3.0 min (208.74 sec) ***\n",
            "\n"
          ],
          "name": "stdout"
        },
        {
          "output_type": "stream",
          "text": [
            "==> evaluation : avg_loss = 0.12, time : 28.81 sec\n",
            "\n"
          ],
          "name": "stdout"
        },
        {
          "output_type": "stream",
          "text": [
            "threshold:  [0.00287594]\n",
            "=====>\t{'Positive Rate': array([0.02334726], dtype=float32), 'accuracy': 0.02359302039813222, 'f1': 0.04564016334374249, 'recall': 1.0, 'specificity': 0.0002516356316054353, 'g_mean': 0.015863027189204314, 'default_accuracy': 0.976652740231015, 'default_f1': 0.0, 'default_recall': 0.0, 'default_specificity': 1.0, 'default_g_mean': 0.0}\n",
            "\n",
            "=============== EPOCH 2 / 6 ===============\n",
            "\n"
          ],
          "name": "stdout"
        },
        {
          "output_type": "stream",
          "text": [
            "___ batch index = 0 / 1836 (0.00%), loss = 0.0040, time = 0.08 seconds ___\n"
          ],
          "name": "stdout"
        },
        {
          "output_type": "stream",
          "text": [
            "___ batch index = 250 / 1836 (13.62%), loss = 0.0208, time = 29.16 seconds ___\n"
          ],
          "name": "stdout"
        },
        {
          "output_type": "stream",
          "text": [
            "___ batch index = 500 / 1836 (27.23%), loss = 0.0183, time = 28.14 seconds ___\n"
          ],
          "name": "stdout"
        },
        {
          "output_type": "stream",
          "text": [
            "___ batch index = 750 / 1836 (40.85%), loss = 0.0155, time = 26.18 seconds ___\n"
          ],
          "name": "stdout"
        },
        {
          "output_type": "stream",
          "text": [
            "___ batch index = 1000 / 1836 (54.47%), loss = 0.0112, time = 29.86 seconds ___\n"
          ],
          "name": "stdout"
        },
        {
          "output_type": "stream",
          "text": [
            "___ batch index = 1250 / 1836 (68.08%), loss = 0.0097, time = 27.09 seconds ___\n"
          ],
          "name": "stdout"
        },
        {
          "output_type": "stream",
          "text": [
            "___ batch index = 1500 / 1836 (81.70%), loss = 0.0088, time = 27.33 seconds ___\n"
          ],
          "name": "stdout"
        },
        {
          "output_type": "stream",
          "text": [
            "___ batch index = 1750 / 1836 (95.32%), loss = 0.0073, time = 29.82 seconds ___\n"
          ],
          "name": "stdout"
        },
        {
          "output_type": "stream",
          "text": [
            "\n",
            "*** avg_loss : 0.12, time : ~3.0 min (209.03 sec) ***\n",
            "\n"
          ],
          "name": "stdout"
        },
        {
          "output_type": "stream",
          "text": [
            "==> evaluation : avg_loss = 0.12, time : 28.70 sec\n",
            "\n"
          ],
          "name": "stdout"
        },
        {
          "output_type": "stream",
          "text": [
            "threshold:  [0.00526431]\n",
            "=====>\t{'Positive Rate': array([0.02334726], dtype=float32), 'accuracy': 0.03366920619316786, 'f1': 0.04563106796116504, 'recall': 0.9894736842105263, 'specificity': 0.010820332159033719, 'g_mean': 0.10347189920833932, 'default_accuracy': 0.976652740231015, 'default_f1': 0.0, 'default_recall': 0.0, 'default_specificity': 1.0, 'default_g_mean': 0.0}\n",
            "\n",
            "=============== EPOCH 3 / 6 ===============\n",
            "\n",
            "___ batch index = 0 / 1836 (0.00%), loss = 0.0071, time = 0.08 seconds ___\n"
          ],
          "name": "stdout"
        },
        {
          "output_type": "stream",
          "text": [
            "___ batch index = 250 / 1836 (13.62%), loss = 0.0291, time = 29.29 seconds ___\n"
          ],
          "name": "stdout"
        },
        {
          "output_type": "stream",
          "text": [
            "___ batch index = 500 / 1836 (27.23%), loss = 0.0253, time = 28.27 seconds ___\n"
          ],
          "name": "stdout"
        },
        {
          "output_type": "stream",
          "text": [
            "___ batch index = 750 / 1836 (40.85%), loss = 0.0189, time = 26.30 seconds ___\n"
          ],
          "name": "stdout"
        },
        {
          "output_type": "stream",
          "text": [
            "___ batch index = 1000 / 1836 (54.47%), loss = 0.0143, time = 29.97 seconds ___\n"
          ],
          "name": "stdout"
        },
        {
          "output_type": "stream",
          "text": [
            "___ batch index = 1250 / 1836 (68.08%), loss = 0.0123, time = 27.20 seconds ___\n"
          ],
          "name": "stdout"
        },
        {
          "output_type": "stream",
          "text": [
            "___ batch index = 1500 / 1836 (81.70%), loss = 0.0110, time = 27.44 seconds ___\n"
          ],
          "name": "stdout"
        },
        {
          "output_type": "stream",
          "text": [
            "___ batch index = 1750 / 1836 (95.32%), loss = 0.0091, time = 29.93 seconds ___\n"
          ],
          "name": "stdout"
        },
        {
          "output_type": "stream",
          "text": [
            "\n",
            "*** avg_loss : 0.12, time : ~3.0 min (209.90 sec) ***\n",
            "\n"
          ],
          "name": "stdout"
        },
        {
          "output_type": "stream",
          "text": [
            "==> evaluation : avg_loss = 0.11, time : 28.70 sec\n",
            "\n"
          ],
          "name": "stdout"
        },
        {
          "output_type": "stream",
          "text": [
            "threshold:  [0.00679986]\n",
            "=====>\t{'Positive Rate': array([0.02334726], dtype=float32), 'accuracy': 0.034898009338903906, 'f1': 0.04615010930289045, 'recall': 1.0, 'specificity': 0.01182687468545546, 'g_mean': 0.10875143532595541, 'default_accuracy': 0.976652740231015, 'default_f1': 0.0, 'default_recall': 0.0, 'default_specificity': 1.0, 'default_g_mean': 0.0}\n",
            "\n",
            "=============== EPOCH 4 / 6 ===============\n",
            "\n",
            "___ batch index = 0 / 1836 (0.00%), loss = 0.0087, time = 0.08 seconds ___\n"
          ],
          "name": "stdout"
        },
        {
          "output_type": "stream",
          "text": [
            "___ batch index = 250 / 1836 (13.62%), loss = 0.0264, time = 29.19 seconds ___\n"
          ],
          "name": "stdout"
        },
        {
          "output_type": "stream",
          "text": [
            "___ batch index = 500 / 1836 (27.23%), loss = 0.0267, time = 28.16 seconds ___\n"
          ],
          "name": "stdout"
        },
        {
          "output_type": "stream",
          "text": [
            "___ batch index = 750 / 1836 (40.85%), loss = 0.0215, time = 26.20 seconds ___\n"
          ],
          "name": "stdout"
        },
        {
          "output_type": "stream",
          "text": [
            "___ batch index = 1000 / 1836 (54.47%), loss = 0.0161, time = 29.87 seconds ___\n"
          ],
          "name": "stdout"
        },
        {
          "output_type": "stream",
          "text": [
            "___ batch index = 1250 / 1836 (68.08%), loss = 0.0138, time = 27.10 seconds ___\n"
          ],
          "name": "stdout"
        },
        {
          "output_type": "stream",
          "text": [
            "___ batch index = 1500 / 1836 (81.70%), loss = 0.0120, time = 27.34 seconds ___\n"
          ],
          "name": "stdout"
        },
        {
          "output_type": "stream",
          "text": [
            "___ batch index = 1750 / 1836 (95.32%), loss = 0.0105, time = 29.83 seconds ___\n"
          ],
          "name": "stdout"
        },
        {
          "output_type": "stream",
          "text": [
            "\n",
            "*** avg_loss : 0.11, time : ~3.0 min (209.15 sec) ***\n",
            "\n"
          ],
          "name": "stdout"
        },
        {
          "output_type": "stream",
          "text": [
            "==> evaluation : avg_loss = 0.11, time : 28.71 sec\n",
            "\n"
          ],
          "name": "stdout"
        },
        {
          "output_type": "stream",
          "text": [
            "threshold:  [0.00774928]\n",
            "=====>\t{'Positive Rate': array([0.02334726], dtype=float32), 'accuracy': 0.026050626689604325, 'f1': 0.04575006019744763, 'recall': 1.0, 'specificity': 0.0027679919476597888, 'g_mean': 0.05261170922579677, 'default_accuracy': 0.976652740231015, 'default_f1': 0.0, 'default_recall': 0.0, 'default_specificity': 1.0, 'default_g_mean': 0.0}\n",
            "\n",
            "=============== EPOCH 5 / 6 ===============\n",
            "\n",
            "___ batch index = 0 / 1836 (0.00%), loss = 0.0106, time = 0.07 seconds ___\n"
          ],
          "name": "stdout"
        },
        {
          "output_type": "stream",
          "text": [
            "___ batch index = 250 / 1836 (13.62%), loss = 0.0299, time = 29.15 seconds ___\n"
          ],
          "name": "stdout"
        },
        {
          "output_type": "stream",
          "text": [
            "___ batch index = 500 / 1836 (27.23%), loss = 0.0279, time = 28.15 seconds ___\n"
          ],
          "name": "stdout"
        },
        {
          "output_type": "stream",
          "text": [
            "___ batch index = 750 / 1836 (40.85%), loss = 0.0215, time = 26.08 seconds ___\n"
          ],
          "name": "stdout"
        },
        {
          "output_type": "stream",
          "text": [
            "___ batch index = 1000 / 1836 (54.47%), loss = 0.0167, time = 29.85 seconds ___\n"
          ],
          "name": "stdout"
        },
        {
          "output_type": "stream",
          "text": [
            "___ batch index = 1250 / 1836 (68.08%), loss = 0.0148, time = 27.08 seconds ___\n"
          ],
          "name": "stdout"
        },
        {
          "output_type": "stream",
          "text": [
            "___ batch index = 1500 / 1836 (81.70%), loss = 0.0127, time = 27.32 seconds ___\n"
          ],
          "name": "stdout"
        },
        {
          "output_type": "stream",
          "text": [
            "___ batch index = 1750 / 1836 (95.32%), loss = 0.0107, time = 29.81 seconds ___\n"
          ],
          "name": "stdout"
        },
        {
          "output_type": "stream",
          "text": [
            "\n",
            "*** avg_loss : 0.11, time : ~3.0 min (208.85 sec) ***\n",
            "\n"
          ],
          "name": "stdout"
        },
        {
          "output_type": "stream",
          "text": [
            "==> evaluation : avg_loss = 0.11, time : 28.70 sec\n",
            "\n"
          ],
          "name": "stdout"
        },
        {
          "output_type": "stream",
          "text": [
            "threshold:  [0.0082854]\n",
            "=====>\t{'Positive Rate': array([0.02334726], dtype=float32), 'accuracy': 0.02801671172278201, 'f1': 0.04583835946924005, 'recall': 1.0, 'specificity': 0.004781077000503271, 'g_mean': 0.06914533245637966, 'default_accuracy': 0.976652740231015, 'default_f1': 0.0, 'default_recall': 0.0, 'default_specificity': 1.0, 'default_g_mean': 0.0}\n",
            "\n",
            "=============== EPOCH 6 / 6 ===============\n",
            "\n",
            "___ batch index = 0 / 1836 (0.00%), loss = 0.0100, time = 0.07 seconds ___\n"
          ],
          "name": "stdout"
        },
        {
          "output_type": "stream",
          "text": [
            "___ batch index = 250 / 1836 (13.62%), loss = 0.0289, time = 29.14 seconds ___\n"
          ],
          "name": "stdout"
        },
        {
          "output_type": "stream",
          "text": [
            "___ batch index = 500 / 1836 (27.23%), loss = 0.0277, time = 28.15 seconds ___\n"
          ],
          "name": "stdout"
        },
        {
          "output_type": "stream",
          "text": [
            "___ batch index = 750 / 1836 (40.85%), loss = 0.0213, time = 26.09 seconds ___\n"
          ],
          "name": "stdout"
        },
        {
          "output_type": "stream",
          "text": [
            "___ batch index = 1000 / 1836 (54.47%), loss = 0.0173, time = 29.85 seconds ___\n"
          ],
          "name": "stdout"
        },
        {
          "output_type": "stream",
          "text": [
            "___ batch index = 1250 / 1836 (68.08%), loss = 0.0153, time = 27.08 seconds ___\n"
          ],
          "name": "stdout"
        },
        {
          "output_type": "stream",
          "text": [
            "___ batch index = 1500 / 1836 (81.70%), loss = 0.0128, time = 27.32 seconds ___\n"
          ],
          "name": "stdout"
        },
        {
          "output_type": "stream",
          "text": [
            "___ batch index = 1750 / 1836 (95.32%), loss = 0.0114, time = 29.81 seconds ___\n"
          ],
          "name": "stdout"
        },
        {
          "output_type": "stream",
          "text": [
            "\n",
            "*** avg_loss : 0.11, time : ~3.0 min (208.85 sec) ***\n",
            "\n"
          ],
          "name": "stdout"
        },
        {
          "output_type": "stream",
          "text": [
            "==> evaluation : avg_loss = 0.11, time : 28.70 sec\n",
            "\n"
          ],
          "name": "stdout"
        },
        {
          "output_type": "stream",
          "text": [
            "threshold:  [0.00861332]\n",
            "=====>\t{'Positive Rate': array([0.02334726], dtype=float32), 'accuracy': 0.02359302039813222, 'f1': 0.04564016334374249, 'recall': 1.0, 'specificity': 0.0002516356316054353, 'g_mean': 0.015863027189204314, 'default_accuracy': 0.976652740231015, 'default_f1': 0.0, 'default_recall': 0.0, 'default_specificity': 1.0, 'default_g_mean': 0.0}\n"
          ],
          "name": "stdout"
        },
        {
          "output_type": "stream",
          "text": [
            "@@@@@@@@@@@@@@@@@@@@@@@@@@@@@@@@@@@@@@@@@@@@@ END @@@@@@@@@@@@@@@@@@@@@@@@@@@@@@@@@@@@@@@@@\n",
            "#################################################### Para label:  Apoyo Interdisciplinario  (11) ##############\n",
            "------------------------------------------- exp: 10*1e-6 -----------------------------------------\n"
          ],
          "name": "stdout"
        },
        {
          "output_type": "stream",
          "text": [
            "Some weights of BertModel were not initialized from the model checkpoint at dccuchile/bert-base-spanish-wwm-cased and are newly initialized: ['bert.pooler.dense.weight', 'bert.pooler.dense.bias']\n",
            "You should probably TRAIN this model on a down-stream task to be able to use it for predictions and inference.\n"
          ],
          "name": "stderr"
        },
        {
          "output_type": "stream",
          "text": [
            "\n",
            "=============== EPOCH 1 / 6 ===============\n",
            "\n",
            "___ batch index = 0 / 1836 (0.00%), loss = 0.6398, time = 0.08 seconds ___\n"
          ],
          "name": "stdout"
        },
        {
          "output_type": "stream",
          "text": [
            "___ batch index = 250 / 1836 (13.62%), loss = 0.6697, time = 29.15 seconds ___\n"
          ],
          "name": "stdout"
        },
        {
          "output_type": "stream",
          "text": [
            "___ batch index = 500 / 1836 (27.23%), loss = 0.8140, time = 28.13 seconds ___\n"
          ],
          "name": "stdout"
        },
        {
          "output_type": "stream",
          "text": [
            "___ batch index = 750 / 1836 (40.85%), loss = 0.6583, time = 26.12 seconds ___\n"
          ],
          "name": "stdout"
        },
        {
          "output_type": "stream",
          "text": [
            "___ batch index = 1000 / 1836 (54.47%), loss = 0.7124, time = 29.84 seconds ___\n"
          ],
          "name": "stdout"
        },
        {
          "output_type": "stream",
          "text": [
            "___ batch index = 1250 / 1836 (68.08%), loss = 0.6780, time = 27.07 seconds ___\n"
          ],
          "name": "stdout"
        },
        {
          "output_type": "stream",
          "text": [
            "___ batch index = 1500 / 1836 (81.70%), loss = 0.7359, time = 27.32 seconds ___\n"
          ],
          "name": "stdout"
        },
        {
          "output_type": "stream",
          "text": [
            "___ batch index = 1750 / 1836 (95.32%), loss = 1.0360, time = 29.82 seconds ___\n"
          ],
          "name": "stdout"
        },
        {
          "output_type": "stream",
          "text": [
            "\n",
            "*** avg_loss : 0.71, time : ~3.0 min (208.91 sec) ***\n",
            "\n"
          ],
          "name": "stdout"
        },
        {
          "output_type": "stream",
          "text": [
            "==> evaluation : avg_loss = 0.71, time : 28.75 sec\n",
            "\n"
          ],
          "name": "stdout"
        },
        {
          "output_type": "stream",
          "text": [
            "threshold:  [0.5678846]\n",
            "=====>\t{'Positive Rate': array([0.44335216], dtype=float32), 'accuracy': 0.4956991889899238, 'f1': 0.4960707269155206, 'recall': 0.5598669623059866, 'specificity': 0.4445916114790287, 'g_mean': 0.49891096899696163, 'default_accuracy': 0.4433521749815679, 'default_f1': 0.6143367955048528, 'default_recall': 1.0, 'default_specificity': 0.0, 'default_g_mean': 0.0}\n",
            "\n",
            "=============== EPOCH 2 / 6 ===============\n",
            "\n",
            "___ batch index = 0 / 1836 (0.00%), loss = 0.8238, time = 0.08 seconds ___\n"
          ],
          "name": "stdout"
        },
        {
          "output_type": "stream",
          "text": [
            "___ batch index = 250 / 1836 (13.62%), loss = 0.6376, time = 29.19 seconds ___\n"
          ],
          "name": "stdout"
        },
        {
          "output_type": "stream",
          "text": [
            "___ batch index = 500 / 1836 (27.23%), loss = 0.8210, time = 28.15 seconds ___\n"
          ],
          "name": "stdout"
        },
        {
          "output_type": "stream",
          "text": [
            "___ batch index = 750 / 1836 (40.85%), loss = 0.6054, time = 26.19 seconds ___\n"
          ],
          "name": "stdout"
        },
        {
          "output_type": "stream",
          "text": [
            "___ batch index = 1000 / 1836 (54.47%), loss = 0.7251, time = 29.87 seconds ___\n"
          ],
          "name": "stdout"
        },
        {
          "output_type": "stream",
          "text": [
            "___ batch index = 1250 / 1836 (68.08%), loss = 0.6798, time = 27.09 seconds ___\n"
          ],
          "name": "stdout"
        },
        {
          "output_type": "stream",
          "text": [
            "___ batch index = 1500 / 1836 (81.70%), loss = 0.7410, time = 27.33 seconds ___\n"
          ],
          "name": "stdout"
        },
        {
          "output_type": "stream",
          "text": [
            "___ batch index = 1750 / 1836 (95.32%), loss = 0.9756, time = 29.82 seconds ___\n"
          ],
          "name": "stdout"
        },
        {
          "output_type": "stream",
          "text": [
            "\n",
            "*** avg_loss : 0.70, time : ~3.0 min (209.10 sec) ***\n",
            "\n"
          ],
          "name": "stdout"
        },
        {
          "output_type": "stream",
          "text": [
            "==> evaluation : avg_loss = 0.71, time : 28.72 sec\n",
            "\n"
          ],
          "name": "stdout"
        },
        {
          "output_type": "stream",
          "text": [
            "threshold:  [0.56360316]\n",
            "=====>\t{'Positive Rate': array([0.44335216], dtype=float32), 'accuracy': 0.48660604571147703, 'f1': 0.48886713971127965, 'recall': 0.5537694013303769, 'specificity': 0.433112582781457, 'g_mean': 0.4897392119031727, 'default_accuracy': 0.4443352174981568, 'default_f1': 0.6146241690813022, 'default_recall': 0.9994456762749445, 'default_specificity': 0.002207505518763797, 'default_g_mean': 0.04697107456809515}\n",
            "\n",
            "=============== EPOCH 3 / 6 ===============\n",
            "\n",
            "___ batch index = 0 / 1836 (0.00%), loss = 0.7896, time = 0.08 seconds ___\n"
          ],
          "name": "stdout"
        },
        {
          "output_type": "stream",
          "text": [
            "___ batch index = 250 / 1836 (13.62%), loss = 0.6493, time = 29.15 seconds ___\n"
          ],
          "name": "stdout"
        },
        {
          "output_type": "stream",
          "text": [
            "___ batch index = 500 / 1836 (27.23%), loss = 0.8010, time = 28.14 seconds ___\n"
          ],
          "name": "stdout"
        },
        {
          "output_type": "stream",
          "text": [
            "___ batch index = 750 / 1836 (40.85%), loss = 0.5990, time = 26.09 seconds ___\n"
          ],
          "name": "stdout"
        },
        {
          "output_type": "stream",
          "text": [
            "___ batch index = 1000 / 1836 (54.47%), loss = 0.7455, time = 29.85 seconds ___\n"
          ],
          "name": "stdout"
        },
        {
          "output_type": "stream",
          "text": [
            "___ batch index = 1250 / 1836 (68.08%), loss = 0.6931, time = 27.08 seconds ___\n"
          ],
          "name": "stdout"
        },
        {
          "output_type": "stream",
          "text": [
            "___ batch index = 1500 / 1836 (81.70%), loss = 0.7339, time = 27.32 seconds ___\n"
          ],
          "name": "stdout"
        },
        {
          "output_type": "stream",
          "text": [
            "___ batch index = 1750 / 1836 (95.32%), loss = 1.0073, time = 29.80 seconds ___\n"
          ],
          "name": "stdout"
        },
        {
          "output_type": "stream",
          "text": [
            "\n",
            "*** avg_loss : 0.70, time : ~3.0 min (208.84 sec) ***\n",
            "\n"
          ],
          "name": "stdout"
        },
        {
          "output_type": "stream",
          "text": [
            "==> evaluation : avg_loss = 0.70, time : 28.71 sec\n",
            "\n"
          ],
          "name": "stdout"
        },
        {
          "output_type": "stream",
          "text": [
            "threshold:  [0.55810773]\n",
            "=====>\t{'Positive Rate': array([0.44335216], dtype=float32), 'accuracy': 0.48758908822806585, 'f1': 0.48909580985052686, 'recall': 0.5532150776053215, 'specificity': 0.43532008830022073, 'g_mean': 0.4907398867344716, 'default_accuracy': 0.4440894568690096, 'default_f1': 0.6133333333333334, 'default_recall': 0.9944567627494457, 'default_specificity': 0.005739514348785872, 'default_g_mean': 0.07554931408720791}\n",
            "\n",
            "=============== EPOCH 4 / 6 ===============\n",
            "\n",
            "___ batch index = 0 / 1836 (0.00%), loss = 0.7326, time = 0.08 seconds ___\n"
          ],
          "name": "stdout"
        },
        {
          "output_type": "stream",
          "text": [
            "___ batch index = 250 / 1836 (13.62%), loss = 0.6572, time = 29.15 seconds ___\n"
          ],
          "name": "stdout"
        },
        {
          "output_type": "stream",
          "text": [
            "___ batch index = 500 / 1836 (27.23%), loss = 0.7867, time = 28.14 seconds ___\n"
          ],
          "name": "stdout"
        },
        {
          "output_type": "stream",
          "text": [
            "___ batch index = 750 / 1836 (40.85%), loss = 0.5798, time = 26.09 seconds ___\n"
          ],
          "name": "stdout"
        },
        {
          "output_type": "stream",
          "text": [
            "___ batch index = 1000 / 1836 (54.47%), loss = 0.7413, time = 29.85 seconds ___\n"
          ],
          "name": "stdout"
        },
        {
          "output_type": "stream",
          "text": [
            "___ batch index = 1250 / 1836 (68.08%), loss = 0.6849, time = 27.08 seconds ___\n"
          ],
          "name": "stdout"
        },
        {
          "output_type": "stream",
          "text": [
            "___ batch index = 1500 / 1836 (81.70%), loss = 0.7168, time = 27.32 seconds ___\n"
          ],
          "name": "stdout"
        },
        {
          "output_type": "stream",
          "text": [
            "___ batch index = 1750 / 1836 (95.32%), loss = 0.9438, time = 29.81 seconds ___\n"
          ],
          "name": "stdout"
        },
        {
          "output_type": "stream",
          "text": [
            "\n",
            "*** avg_loss : 0.69, time : ~3.0 min (208.84 sec) ***\n",
            "\n"
          ],
          "name": "stdout"
        },
        {
          "output_type": "stream",
          "text": [
            "==> evaluation : avg_loss = 0.71, time : 28.70 sec\n",
            "\n"
          ],
          "name": "stdout"
        },
        {
          "output_type": "stream",
          "text": [
            "threshold:  [0.5585407]\n",
            "=====>\t{'Positive Rate': array([0.44335216], dtype=float32), 'accuracy': 0.5003686409437208, 'f1': 0.5013490311503556, 'recall': 0.5665188470066519, 'specificity': 0.447682119205298, 'g_mean': 0.503607345059303, 'default_accuracy': 0.4465470631604817, 'default_f1': 0.6135895676046671, 'default_recall': 0.991130820399113, 'default_specificity': 0.012803532008830023, 'default_g_mean': 0.11264978998612472}\n",
            "\n",
            "=============== EPOCH 5 / 6 ===============\n",
            "\n"
          ],
          "name": "stdout"
        },
        {
          "output_type": "stream",
          "text": [
            "___ batch index = 0 / 1836 (0.00%), loss = 0.6783, time = 0.08 seconds ___\n"
          ],
          "name": "stdout"
        },
        {
          "output_type": "stream",
          "text": [
            "___ batch index = 250 / 1836 (13.62%), loss = 0.6677, time = 29.14 seconds ___\n"
          ],
          "name": "stdout"
        },
        {
          "output_type": "stream",
          "text": [
            "___ batch index = 500 / 1836 (27.23%), loss = 0.7799, time = 28.14 seconds ___\n"
          ],
          "name": "stdout"
        },
        {
          "output_type": "stream",
          "text": [
            "___ batch index = 750 / 1836 (40.85%), loss = 0.5422, time = 26.19 seconds ___\n"
          ],
          "name": "stdout"
        },
        {
          "output_type": "stream",
          "text": [
            "___ batch index = 1000 / 1836 (54.47%), loss = 0.7480, time = 29.86 seconds ___\n"
          ],
          "name": "stdout"
        },
        {
          "output_type": "stream",
          "text": [
            "___ batch index = 1250 / 1836 (68.08%), loss = 0.6830, time = 27.09 seconds ___\n"
          ],
          "name": "stdout"
        },
        {
          "output_type": "stream",
          "text": [
            "___ batch index = 1500 / 1836 (81.70%), loss = 0.7021, time = 27.33 seconds ___\n"
          ],
          "name": "stdout"
        },
        {
          "output_type": "stream",
          "text": [
            "___ batch index = 1750 / 1836 (95.32%), loss = 0.9439, time = 29.82 seconds ___\n"
          ],
          "name": "stdout"
        },
        {
          "output_type": "stream",
          "text": [
            "\n",
            "*** avg_loss : 0.67, time : ~3.0 min (209.02 sec) ***\n",
            "\n"
          ],
          "name": "stdout"
        },
        {
          "output_type": "stream",
          "text": [
            "==> evaluation : avg_loss = 0.70, time : 28.71 sec\n",
            "\n"
          ],
          "name": "stdout"
        },
        {
          "output_type": "stream",
          "text": [
            "threshold:  [0.55052465]\n",
            "=====>\t{'Positive Rate': array([0.44335216], dtype=float32), 'accuracy': 0.49275006144015726, 'f1': 0.4931237721021611, 'recall': 0.5565410199556541, 'specificity': 0.44194260485651216, 'g_mean': 0.4959427266012698, 'default_accuracy': 0.4578520521012534, 'default_f1': 0.5947832476120499, 'default_recall': 0.897450110864745, 'default_specificity': 0.10772626931567329, 'default_g_mean': 0.31093239191244837}\n",
            "\n",
            "=============== EPOCH 6 / 6 ===============\n",
            "\n",
            "___ batch index = 0 / 1836 (0.00%), loss = 0.5966, time = 0.16 seconds ___\n"
          ],
          "name": "stdout"
        },
        {
          "output_type": "stream",
          "text": [
            "___ batch index = 250 / 1836 (13.62%), loss = 0.5977, time = 29.13 seconds ___\n"
          ],
          "name": "stdout"
        },
        {
          "output_type": "stream",
          "text": [
            "___ batch index = 500 / 1836 (27.23%), loss = 0.6956, time = 28.13 seconds ___\n"
          ],
          "name": "stdout"
        },
        {
          "output_type": "stream",
          "text": [
            "___ batch index = 750 / 1836 (40.85%), loss = 0.5451, time = 26.11 seconds ___\n"
          ],
          "name": "stdout"
        },
        {
          "output_type": "stream",
          "text": [
            "___ batch index = 1000 / 1836 (54.47%), loss = 0.7476, time = 29.88 seconds ___\n"
          ],
          "name": "stdout"
        },
        {
          "output_type": "stream",
          "text": [
            "___ batch index = 1250 / 1836 (68.08%), loss = 0.6700, time = 27.10 seconds ___\n"
          ],
          "name": "stdout"
        },
        {
          "output_type": "stream",
          "text": [
            "___ batch index = 1500 / 1836 (81.70%), loss = 0.6805, time = 27.35 seconds ___\n"
          ],
          "name": "stdout"
        },
        {
          "output_type": "stream",
          "text": [
            "___ batch index = 1750 / 1836 (95.32%), loss = 0.9503, time = 29.83 seconds ___\n"
          ],
          "name": "stdout"
        },
        {
          "output_type": "stream",
          "text": [
            "\n",
            "*** avg_loss : 0.65, time : ~3.0 min (209.04 sec) ***\n",
            "\n"
          ],
          "name": "stdout"
        },
        {
          "output_type": "stream",
          "text": [
            "==> evaluation : avg_loss = 0.72, time : 28.73 sec\n",
            "\n"
          ],
          "name": "stdout"
        },
        {
          "output_type": "stream",
          "text": [
            "threshold:  [0.5632008]\n"
          ],
          "name": "stdout"
        },
        {
          "output_type": "stream",
          "text": [
            "=====>\t{'Positive Rate': array([0.44335216], dtype=float32), 'accuracy': 0.5018432047186041, 'f1': 0.5020879390813067, 'recall': 0.5665188470066519, 'specificity': 0.4503311258278146, 'g_mean': 0.5050951100289737, 'default_accuracy': 0.45932661587613666, 'default_f1': 0.6010155966630395, 'default_recall': 0.9185144124168514, 'default_specificity': 0.09359823399558499, 'default_g_mean': 0.29320867466995193}\n",
            "@@@@@@@@@@@@@@@@@@@@@@@@@@@@@@@@@@@@@@@@@@@@@ END @@@@@@@@@@@@@@@@@@@@@@@@@@@@@@@@@@@@@@@@@\n",
            "#################################################### Para label:  Adecuación curricular de acceso  (12) ##############\n",
            "------------------------------------------- exp: 20*1e-6 -----------------------------------------\n"
          ],
          "name": "stdout"
        },
        {
          "output_type": "stream",
          "text": [
            "Some weights of BertModel were not initialized from the model checkpoint at dccuchile/bert-base-spanish-wwm-cased and are newly initialized: ['bert.pooler.dense.weight', 'bert.pooler.dense.bias']\n",
            "You should probably TRAIN this model on a down-stream task to be able to use it for predictions and inference.\n"
          ],
          "name": "stderr"
        },
        {
          "output_type": "stream",
          "text": [
            "\n",
            "=============== EPOCH 1 / 6 ===============\n",
            "\n",
            "___ batch index = 0 / 1836 (0.00%), loss = 0.6595, time = 0.08 seconds ___\n"
          ],
          "name": "stdout"
        },
        {
          "output_type": "stream",
          "text": [
            "___ batch index = 250 / 1836 (13.62%), loss = 0.4477, time = 29.15 seconds ___\n"
          ],
          "name": "stdout"
        },
        {
          "output_type": "stream",
          "text": [
            "___ batch index = 500 / 1836 (27.23%), loss = 0.7053, time = 28.12 seconds ___\n"
          ],
          "name": "stdout"
        },
        {
          "output_type": "stream",
          "text": [
            "___ batch index = 750 / 1836 (40.85%), loss = 0.6232, time = 26.11 seconds ___\n"
          ],
          "name": "stdout"
        },
        {
          "output_type": "stream",
          "text": [
            "___ batch index = 1000 / 1836 (54.47%), loss = 1.0739, time = 29.85 seconds ___\n"
          ],
          "name": "stdout"
        },
        {
          "output_type": "stream",
          "text": [
            "___ batch index = 1250 / 1836 (68.08%), loss = 0.5144, time = 27.06 seconds ___\n"
          ],
          "name": "stdout"
        },
        {
          "output_type": "stream",
          "text": [
            "___ batch index = 1500 / 1836 (81.70%), loss = 0.5915, time = 27.34 seconds ___\n"
          ],
          "name": "stdout"
        },
        {
          "output_type": "stream",
          "text": [
            "___ batch index = 1750 / 1836 (95.32%), loss = 0.7452, time = 29.83 seconds ___\n"
          ],
          "name": "stdout"
        },
        {
          "output_type": "stream",
          "text": [
            "\n",
            "*** avg_loss : 0.61, time : ~3.0 min (208.92 sec) ***\n",
            "\n"
          ],
          "name": "stdout"
        },
        {
          "output_type": "stream",
          "text": [
            "==> evaluation : avg_loss = 0.53, time : 28.74 sec\n",
            "\n"
          ],
          "name": "stdout"
        },
        {
          "output_type": "stream",
          "text": [
            "threshold:  [0.84333616]\n",
            "=====>\t{'Positive Rate': array([0.7940526], dtype=float32), 'accuracy': 0.3428360776603588, 'f1': 0.3407297830374753, 'recall': 0.21386567626121944, 'specificity': 0.8400954653937948, 'g_mean': 0.4238721326419417, 'default_accuracy': 0.7940525927746375, 'default_f1': 0.8852054794520547, 'default_recall': 1.0, 'default_specificity': 0.0, 'default_g_mean': 0.0}\n",
            "\n",
            "=============== EPOCH 2 / 6 ===============\n",
            "\n"
          ],
          "name": "stdout"
        },
        {
          "output_type": "stream",
          "text": [
            "___ batch index = 0 / 1836 (0.00%), loss = 1.7882, time = 0.08 seconds ___\n"
          ],
          "name": "stdout"
        },
        {
          "output_type": "stream",
          "text": [
            "___ batch index = 250 / 1836 (13.62%), loss = 0.4355, time = 29.08 seconds ___\n"
          ],
          "name": "stdout"
        },
        {
          "output_type": "stream",
          "text": [
            "___ batch index = 500 / 1836 (27.23%), loss = 0.6333, time = 28.06 seconds ___\n"
          ],
          "name": "stdout"
        },
        {
          "output_type": "stream",
          "text": [
            "___ batch index = 750 / 1836 (40.85%), loss = 0.5116, time = 26.09 seconds ___\n"
          ],
          "name": "stdout"
        },
        {
          "output_type": "stream",
          "text": [
            "___ batch index = 1000 / 1836 (54.47%), loss = 0.8562, time = 29.77 seconds ___\n"
          ],
          "name": "stdout"
        },
        {
          "output_type": "stream",
          "text": [
            "___ batch index = 1250 / 1836 (68.08%), loss = 0.5240, time = 26.99 seconds ___\n"
          ],
          "name": "stdout"
        },
        {
          "output_type": "stream",
          "text": [
            "___ batch index = 1500 / 1836 (81.70%), loss = 0.5244, time = 27.24 seconds ___\n"
          ],
          "name": "stdout"
        },
        {
          "output_type": "stream",
          "text": [
            "___ batch index = 1750 / 1836 (95.32%), loss = 0.7211, time = 29.72 seconds ___\n"
          ],
          "name": "stdout"
        },
        {
          "output_type": "stream",
          "text": [
            "\n",
            "*** avg_loss : 0.61, time : ~3.0 min (208.38 sec) ***\n",
            "\n"
          ],
          "name": "stdout"
        },
        {
          "output_type": "stream",
          "text": [
            "==> evaluation : avg_loss = 0.52, time : 28.55 sec\n",
            "\n"
          ],
          "name": "stdout"
        },
        {
          "output_type": "stream",
          "text": [
            "threshold:  [0.79863155]\n",
            "=====>\t{'Positive Rate': array([0.7940526], dtype=float32), 'accuracy': 0.3420987957729172, 'f1': 0.3414514145141451, 'recall': 0.21479418136799752, 'specificity': 0.8329355608591885, 'g_mean': 0.42297720024493435, 'default_accuracy': 0.7940525927746375, 'default_f1': 0.8852054794520547, 'default_recall': 1.0, 'default_specificity': 0.0, 'default_g_mean': 0.0}\n",
            "\n",
            "=============== EPOCH 3 / 6 ===============\n",
            "\n",
            "___ batch index = 0 / 1836 (0.00%), loss = 1.5390, time = 0.08 seconds ___\n"
          ],
          "name": "stdout"
        },
        {
          "output_type": "stream",
          "text": [
            "___ batch index = 250 / 1836 (13.62%), loss = 0.3947, time = 29.03 seconds ___\n"
          ],
          "name": "stdout"
        },
        {
          "output_type": "stream",
          "text": [
            "___ batch index = 500 / 1836 (27.23%), loss = 0.6408, time = 28.06 seconds ___\n"
          ],
          "name": "stdout"
        },
        {
          "output_type": "stream",
          "text": [
            "___ batch index = 750 / 1836 (40.85%), loss = 0.4429, time = 26.01 seconds ___\n"
          ],
          "name": "stdout"
        },
        {
          "output_type": "stream",
          "text": [
            "___ batch index = 1000 / 1836 (54.47%), loss = 0.8733, time = 29.78 seconds ___\n"
          ],
          "name": "stdout"
        },
        {
          "output_type": "stream",
          "text": [
            "___ batch index = 1250 / 1836 (68.08%), loss = 0.5441, time = 27.00 seconds ___\n"
          ],
          "name": "stdout"
        },
        {
          "output_type": "stream",
          "text": [
            "___ batch index = 1500 / 1836 (81.70%), loss = 0.5291, time = 27.25 seconds ___\n"
          ],
          "name": "stdout"
        },
        {
          "output_type": "stream",
          "text": [
            "___ batch index = 1750 / 1836 (95.32%), loss = 0.7112, time = 29.74 seconds ___\n"
          ],
          "name": "stdout"
        },
        {
          "output_type": "stream",
          "text": [
            "\n",
            "*** avg_loss : 0.59, time : ~3.0 min (208.25 sec) ***\n",
            "\n"
          ],
          "name": "stdout"
        },
        {
          "output_type": "stream",
          "text": [
            "==> evaluation : avg_loss = 0.52, time : 28.56 sec\n",
            "\n"
          ],
          "name": "stdout"
        },
        {
          "output_type": "stream",
          "text": [
            "threshold:  [0.80488795]\n",
            "=====>\t{'Positive Rate': array([0.7940526], dtype=float32), 'accuracy': 0.3497173752764807, 'f1': 0.34955752212389385, 'recall': 0.2200557103064067, 'specificity': 0.8496420047732697, 'g_mean': 0.43239862958448566, 'default_accuracy': 0.7940525927746375, 'default_f1': 0.8852054794520547, 'default_recall': 1.0, 'default_specificity': 0.0, 'default_g_mean': 0.0}\n",
            "\n",
            "=============== EPOCH 4 / 6 ===============\n",
            "\n"
          ],
          "name": "stdout"
        },
        {
          "output_type": "stream",
          "text": [
            "___ batch index = 0 / 1836 (0.00%), loss = 1.5980, time = 0.08 seconds ___\n"
          ],
          "name": "stdout"
        },
        {
          "output_type": "stream",
          "text": [
            "___ batch index = 250 / 1836 (13.62%), loss = 0.3747, time = 29.05 seconds ___\n"
          ],
          "name": "stdout"
        },
        {
          "output_type": "stream",
          "text": [
            "___ batch index = 500 / 1836 (27.23%), loss = 0.6437, time = 28.04 seconds ___\n"
          ],
          "name": "stdout"
        },
        {
          "output_type": "stream",
          "text": [
            "___ batch index = 750 / 1836 (40.85%), loss = 0.4611, time = 26.08 seconds ___\n"
          ],
          "name": "stdout"
        },
        {
          "output_type": "stream",
          "text": [
            "___ batch index = 1000 / 1836 (54.47%), loss = 0.8509, time = 29.74 seconds ___\n"
          ],
          "name": "stdout"
        },
        {
          "output_type": "stream",
          "text": [
            "___ batch index = 1250 / 1836 (68.08%), loss = 0.5426, time = 26.98 seconds ___\n"
          ],
          "name": "stdout"
        },
        {
          "output_type": "stream",
          "text": [
            "___ batch index = 1500 / 1836 (81.70%), loss = 0.5099, time = 27.22 seconds ___\n"
          ],
          "name": "stdout"
        },
        {
          "output_type": "stream",
          "text": [
            "___ batch index = 1750 / 1836 (95.32%), loss = 0.6898, time = 29.71 seconds ___\n"
          ],
          "name": "stdout"
        },
        {
          "output_type": "stream",
          "text": [
            "\n",
            "*** avg_loss : 0.59, time : ~3.0 min (208.27 sec) ***\n",
            "\n"
          ],
          "name": "stdout"
        },
        {
          "output_type": "stream",
          "text": [
            "==> evaluation : avg_loss = 0.52, time : 28.60 sec\n",
            "\n"
          ],
          "name": "stdout"
        },
        {
          "output_type": "stream",
          "text": [
            "threshold:  [0.80307037]\n",
            "=====>\t{'Positive Rate': array([0.7940526], dtype=float32), 'accuracy': 0.35094617842221676, 'f1': 0.35062699778706663, 'recall': 0.2206747137109254, 'specificity': 0.8532219570405728, 'g_mean': 0.43391763170192094, 'default_accuracy': 0.7940525927746375, 'default_f1': 0.8852054794520547, 'default_recall': 1.0, 'default_specificity': 0.0, 'default_g_mean': 0.0}\n",
            "\n",
            "=============== EPOCH 5 / 6 ===============\n",
            "\n"
          ],
          "name": "stdout"
        },
        {
          "output_type": "stream",
          "text": [
            "___ batch index = 0 / 1836 (0.00%), loss = 1.4838, time = 0.08 seconds ___\n"
          ],
          "name": "stdout"
        },
        {
          "output_type": "stream",
          "text": [
            "___ batch index = 250 / 1836 (13.62%), loss = 0.3726, time = 29.05 seconds ___\n"
          ],
          "name": "stdout"
        },
        {
          "output_type": "stream",
          "text": [
            "___ batch index = 500 / 1836 (27.23%), loss = 0.6223, time = 28.04 seconds ___\n"
          ],
          "name": "stdout"
        },
        {
          "output_type": "stream",
          "text": [
            "___ batch index = 750 / 1836 (40.85%), loss = 0.4158, time = 26.08 seconds ___\n"
          ],
          "name": "stdout"
        },
        {
          "output_type": "stream",
          "text": [
            "___ batch index = 1000 / 1836 (54.47%), loss = 0.8800, time = 29.75 seconds ___\n"
          ],
          "name": "stdout"
        },
        {
          "output_type": "stream",
          "text": [
            "___ batch index = 1250 / 1836 (68.08%), loss = 0.5478, time = 26.98 seconds ___\n"
          ],
          "name": "stdout"
        },
        {
          "output_type": "stream",
          "text": [
            "___ batch index = 1500 / 1836 (81.70%), loss = 0.5016, time = 27.23 seconds ___\n"
          ],
          "name": "stdout"
        },
        {
          "output_type": "stream",
          "text": [
            "___ batch index = 1750 / 1836 (95.32%), loss = 0.6998, time = 29.71 seconds ___\n"
          ],
          "name": "stdout"
        },
        {
          "output_type": "stream",
          "text": [
            "\n",
            "*** avg_loss : 0.59, time : ~3.0 min (208.26 sec) ***\n",
            "\n"
          ],
          "name": "stdout"
        },
        {
          "output_type": "stream",
          "text": [
            "==> evaluation : avg_loss = 0.52, time : 28.54 sec\n",
            "\n"
          ],
          "name": "stdout"
        },
        {
          "output_type": "stream",
          "text": [
            "threshold:  [0.84598607]\n"
          ],
          "name": "stdout"
        },
        {
          "output_type": "stream",
          "text": [
            "=====>\t{'Positive Rate': array([0.7940526], dtype=float32), 'accuracy': 0.3521749815679528, 'f1': 0.35201573254670604, 'recall': 0.2216032188177035, 'specificity': 0.8556085918854416, 'g_mean': 0.43543727218727696, 'default_accuracy': 0.7950356352912263, 'default_f1': 0.8856907894736842, 'default_recall': 1.0, 'default_specificity': 0.00477326968973747, 'default_g_mean': 0.06908885358534668}\n",
            "\n",
            "=============== EPOCH 6 / 6 ===============\n",
            "\n",
            "___ batch index = 0 / 1836 (0.00%), loss = 1.7273, time = 0.10 seconds ___\n"
          ],
          "name": "stdout"
        },
        {
          "output_type": "stream",
          "text": [
            "___ batch index = 250 / 1836 (13.62%), loss = 0.3806, time = 29.06 seconds ___\n"
          ],
          "name": "stdout"
        },
        {
          "output_type": "stream",
          "text": [
            "___ batch index = 500 / 1836 (27.23%), loss = 0.6570, time = 28.05 seconds ___\n"
          ],
          "name": "stdout"
        },
        {
          "output_type": "stream",
          "text": [
            "___ batch index = 750 / 1836 (40.85%), loss = 0.4155, time = 26.09 seconds ___\n"
          ],
          "name": "stdout"
        },
        {
          "output_type": "stream",
          "text": [
            "___ batch index = 1000 / 1836 (54.47%), loss = 0.8712, time = 29.76 seconds ___\n"
          ],
          "name": "stdout"
        },
        {
          "output_type": "stream",
          "text": [
            "___ batch index = 1250 / 1836 (68.08%), loss = 0.5600, time = 27.06 seconds ___\n"
          ],
          "name": "stdout"
        },
        {
          "output_type": "stream",
          "text": [
            "___ batch index = 1500 / 1836 (81.70%), loss = 0.4992, time = 27.32 seconds ___\n"
          ],
          "name": "stdout"
        },
        {
          "output_type": "stream",
          "text": [
            "___ batch index = 1750 / 1836 (95.32%), loss = 0.6772, time = 29.81 seconds ___\n"
          ],
          "name": "stdout"
        },
        {
          "output_type": "stream",
          "text": [
            "\n",
            "*** avg_loss : 0.58, time : ~3.0 min (208.62 sec) ***\n",
            "\n"
          ],
          "name": "stdout"
        },
        {
          "output_type": "stream",
          "text": [
            "==> evaluation : avg_loss = 0.53, time : 28.68 sec\n",
            "\n"
          ],
          "name": "stdout"
        },
        {
          "output_type": "stream",
          "text": [
            "threshold:  [0.85249984]\n",
            "=====>\t{'Positive Rate': array([0.7940526], dtype=float32), 'accuracy': 0.3516834603096584, 'f1': 0.3515240904621435, 'recall': 0.22129371711544413, 'specificity': 0.8544152744630071, 'g_mean': 0.4348295436675517, 'default_accuracy': 0.7947898746620792, 'default_f1': 0.8855694120871591, 'default_recall': 1.0, 'default_specificity': 0.003579952267303103, 'default_g_mean': 0.05983270232325382}\n"
          ],
          "name": "stdout"
        },
        {
          "output_type": "stream",
          "text": [
            "@@@@@@@@@@@@@@@@@@@@@@@@@@@@@@@@@@@@@@@@@@@@@ END @@@@@@@@@@@@@@@@@@@@@@@@@@@@@@@@@@@@@@@@@\n",
            "#################################################### Para label:  Adecuación curricular de objetivos  (13) ##############\n",
            "------------------------------------------- exp: 1*1e-6 -----------------------------------------\n"
          ],
          "name": "stdout"
        },
        {
          "output_type": "stream",
          "text": [
            "Some weights of BertModel were not initialized from the model checkpoint at dccuchile/bert-base-spanish-wwm-cased and are newly initialized: ['bert.pooler.dense.weight', 'bert.pooler.dense.bias']\n",
            "You should probably TRAIN this model on a down-stream task to be able to use it for predictions and inference.\n"
          ],
          "name": "stderr"
        },
        {
          "output_type": "stream",
          "text": [
            "\n",
            "=============== EPOCH 1 / 6 ===============\n",
            "\n",
            "___ batch index = 0 / 1836 (0.00%), loss = 0.7483, time = 0.08 seconds ___\n"
          ],
          "name": "stdout"
        },
        {
          "output_type": "stream",
          "text": [
            "___ batch index = 250 / 1836 (13.62%), loss = 0.7937, time = 29.10 seconds ___\n"
          ],
          "name": "stdout"
        },
        {
          "output_type": "stream",
          "text": [
            "___ batch index = 500 / 1836 (27.23%), loss = 0.6266, time = 28.10 seconds ___\n"
          ],
          "name": "stdout"
        },
        {
          "output_type": "stream",
          "text": [
            "___ batch index = 750 / 1836 (40.85%), loss = 0.4891, time = 26.12 seconds ___\n"
          ],
          "name": "stdout"
        },
        {
          "output_type": "stream",
          "text": [
            "___ batch index = 1000 / 1836 (54.47%), loss = 0.3306, time = 29.86 seconds ___\n"
          ],
          "name": "stdout"
        },
        {
          "output_type": "stream",
          "text": [
            "___ batch index = 1250 / 1836 (68.08%), loss = 0.2289, time = 27.07 seconds ___\n"
          ],
          "name": "stdout"
        },
        {
          "output_type": "stream",
          "text": [
            "___ batch index = 1500 / 1836 (81.70%), loss = 0.1708, time = 27.32 seconds ___\n"
          ],
          "name": "stdout"
        },
        {
          "output_type": "stream",
          "text": [
            "___ batch index = 1750 / 1836 (95.32%), loss = 0.1062, time = 29.81 seconds ___\n"
          ],
          "name": "stdout"
        },
        {
          "output_type": "stream",
          "text": [
            "\n",
            "*** avg_loss : 0.42, time : ~3.0 min (208.82 sec) ***\n",
            "\n"
          ],
          "name": "stdout"
        },
        {
          "output_type": "stream",
          "text": [
            "==> evaluation : avg_loss = 0.32, time : 28.70 sec\n",
            "\n"
          ],
          "name": "stdout"
        },
        {
          "output_type": "stream",
          "text": [
            "threshold:  [0.06243411]\n",
            "=====>\t{'Positive Rate': array([0.08699926], dtype=float32), 'accuracy': 0.15704104202506758, 'f1': 0.15807560137457047, 'recall': 0.9096045197740112, 'specificity': 0.08532974427994616, 'g_mean': 0.2785970586136896, 'default_accuracy': 0.9130007372818875, 'default_f1': 0.0, 'default_recall': 0.0, 'default_specificity': 1.0, 'default_g_mean': 0.0}\n",
            "\n",
            "=============== EPOCH 2 / 6 ===============\n",
            "\n"
          ],
          "name": "stdout"
        },
        {
          "output_type": "stream",
          "text": [
            "___ batch index = 0 / 1836 (0.00%), loss = 0.1165, time = 0.09 seconds ___\n"
          ],
          "name": "stdout"
        },
        {
          "output_type": "stream",
          "text": [
            "___ batch index = 250 / 1836 (13.62%), loss = 2.3869, time = 29.12 seconds ___\n"
          ],
          "name": "stdout"
        },
        {
          "output_type": "stream",
          "text": [
            "___ batch index = 500 / 1836 (27.23%), loss = 0.1879, time = 28.13 seconds ___\n"
          ],
          "name": "stdout"
        },
        {
          "output_type": "stream",
          "text": [
            "___ batch index = 750 / 1836 (40.85%), loss = 0.1678, time = 26.17 seconds ___\n"
          ],
          "name": "stdout"
        },
        {
          "output_type": "stream",
          "text": [
            "___ batch index = 1000 / 1836 (54.47%), loss = 0.1203, time = 29.85 seconds ___\n"
          ],
          "name": "stdout"
        },
        {
          "output_type": "stream",
          "text": [
            "___ batch index = 1250 / 1836 (68.08%), loss = 0.1025, time = 27.07 seconds ___\n"
          ],
          "name": "stdout"
        },
        {
          "output_type": "stream",
          "text": [
            "___ batch index = 1500 / 1836 (81.70%), loss = 0.1064, time = 27.31 seconds ___\n"
          ],
          "name": "stdout"
        },
        {
          "output_type": "stream",
          "text": [
            "___ batch index = 1750 / 1836 (95.32%), loss = 0.0774, time = 29.80 seconds ___\n"
          ],
          "name": "stdout"
        },
        {
          "output_type": "stream",
          "text": [
            "\n",
            "*** avg_loss : 0.34, time : ~3.0 min (208.91 sec) ***\n",
            "\n"
          ],
          "name": "stdout"
        },
        {
          "output_type": "stream",
          "text": [
            "==> evaluation : avg_loss = 0.32, time : 28.77 sec\n",
            "\n"
          ],
          "name": "stdout"
        },
        {
          "output_type": "stream",
          "text": [
            "threshold:  [0.05173613]\n",
            "=====>\t{'Positive Rate': array([0.08699926], dtype=float32), 'accuracy': 0.152863111329565, 'f1': 0.15576781778104334, 'recall': 0.8983050847457628, 'specificity': 0.08183041722745626, 'g_mean': 0.2711248418760096, 'default_accuracy': 0.9130007372818875, 'default_f1': 0.0, 'default_recall': 0.0, 'default_specificity': 1.0, 'default_g_mean': 0.0}\n",
            "\n",
            "=============== EPOCH 3 / 6 ===============\n",
            "\n",
            "___ batch index = 0 / 1836 (0.00%), loss = 0.0733, time = 0.08 seconds ___\n"
          ],
          "name": "stdout"
        },
        {
          "output_type": "stream",
          "text": [
            "___ batch index = 250 / 1836 (13.62%), loss = 2.5871, time = 29.16 seconds ___\n"
          ],
          "name": "stdout"
        },
        {
          "output_type": "stream",
          "text": [
            "___ batch index = 500 / 1836 (27.23%), loss = 0.1420, time = 28.18 seconds ___\n"
          ],
          "name": "stdout"
        },
        {
          "output_type": "stream",
          "text": [
            "___ batch index = 750 / 1836 (40.85%), loss = 0.1400, time = 26.10 seconds ___\n"
          ],
          "name": "stdout"
        },
        {
          "output_type": "stream",
          "text": [
            "___ batch index = 1000 / 1836 (54.47%), loss = 0.1082, time = 29.88 seconds ___\n"
          ],
          "name": "stdout"
        },
        {
          "output_type": "stream",
          "text": [
            "___ batch index = 1250 / 1836 (68.08%), loss = 0.0938, time = 27.10 seconds ___\n"
          ],
          "name": "stdout"
        },
        {
          "output_type": "stream",
          "text": [
            "___ batch index = 1500 / 1836 (81.70%), loss = 0.0956, time = 27.35 seconds ___\n"
          ],
          "name": "stdout"
        },
        {
          "output_type": "stream",
          "text": [
            "___ batch index = 1750 / 1836 (95.32%), loss = 0.0739, time = 29.83 seconds ___\n"
          ],
          "name": "stdout"
        },
        {
          "output_type": "stream",
          "text": [
            "\n",
            "*** avg_loss : 0.33, time : ~3.0 min (209.03 sec) ***\n",
            "\n"
          ],
          "name": "stdout"
        },
        {
          "output_type": "stream",
          "text": [
            "==> evaluation : avg_loss = 0.32, time : 28.73 sec\n",
            "\n"
          ],
          "name": "stdout"
        },
        {
          "output_type": "stream",
          "text": [
            "threshold:  [0.05203858]\n",
            "=====>\t{'Positive Rate': array([0.08699926], dtype=float32), 'accuracy': 0.15237159007127057, 'f1': 0.15775335775335775, 'recall': 0.9124293785310734, 'specificity': 0.07994616419919247, 'g_mean': 0.27008374426501924, 'default_accuracy': 0.9130007372818875, 'default_f1': 0.0, 'default_recall': 0.0, 'default_specificity': 1.0, 'default_g_mean': 0.0}\n",
            "\n",
            "=============== EPOCH 4 / 6 ===============\n",
            "\n",
            "___ batch index = 0 / 1836 (0.00%), loss = 0.0660, time = 0.08 seconds ___\n"
          ],
          "name": "stdout"
        },
        {
          "output_type": "stream",
          "text": [
            "___ batch index = 250 / 1836 (13.62%), loss = 2.6364, time = 29.17 seconds ___\n"
          ],
          "name": "stdout"
        },
        {
          "output_type": "stream",
          "text": [
            "___ batch index = 500 / 1836 (27.23%), loss = 0.1207, time = 28.17 seconds ___\n"
          ],
          "name": "stdout"
        },
        {
          "output_type": "stream",
          "text": [
            "___ batch index = 750 / 1836 (40.85%), loss = 0.1173, time = 26.11 seconds ___\n"
          ],
          "name": "stdout"
        },
        {
          "output_type": "stream",
          "text": [
            "___ batch index = 1000 / 1836 (54.47%), loss = 0.1046, time = 29.88 seconds ___\n"
          ],
          "name": "stdout"
        },
        {
          "output_type": "stream",
          "text": [
            "___ batch index = 1250 / 1836 (68.08%), loss = 0.0918, time = 27.09 seconds ___\n"
          ],
          "name": "stdout"
        },
        {
          "output_type": "stream",
          "text": [
            "___ batch index = 1500 / 1836 (81.70%), loss = 0.0897, time = 27.33 seconds ___\n"
          ],
          "name": "stdout"
        },
        {
          "output_type": "stream",
          "text": [
            "___ batch index = 1750 / 1836 (95.32%), loss = 0.0742, time = 29.83 seconds ___\n"
          ],
          "name": "stdout"
        },
        {
          "output_type": "stream",
          "text": [
            "\n",
            "*** avg_loss : 0.33, time : ~3.0 min (209.00 sec) ***\n",
            "\n"
          ],
          "name": "stdout"
        },
        {
          "output_type": "stream",
          "text": [
            "==> evaluation : avg_loss = 0.32, time : 28.73 sec\n",
            "\n"
          ],
          "name": "stdout"
        },
        {
          "output_type": "stream",
          "text": [
            "threshold:  [0.05381873]\n",
            "=====>\t{'Positive Rate': array([0.08699926], dtype=float32), 'accuracy': 0.15605799950847873, 'f1': 0.15874571288584025, 'recall': 0.9152542372881356, 'specificity': 0.08371467025572005, 'g_mean': 0.27680355249657984, 'default_accuracy': 0.9130007372818875, 'default_f1': 0.0, 'default_recall': 0.0, 'default_specificity': 1.0, 'default_g_mean': 0.0}\n",
            "\n",
            "=============== EPOCH 5 / 6 ===============\n",
            "\n",
            "___ batch index = 0 / 1836 (0.00%), loss = 0.0689, time = 0.08 seconds ___\n"
          ],
          "name": "stdout"
        },
        {
          "output_type": "stream",
          "text": [
            "___ batch index = 250 / 1836 (13.62%), loss = 2.6055, time = 29.18 seconds ___\n"
          ],
          "name": "stdout"
        },
        {
          "output_type": "stream",
          "text": [
            "___ batch index = 500 / 1836 (27.23%), loss = 0.1187, time = 28.17 seconds ___\n"
          ],
          "name": "stdout"
        },
        {
          "output_type": "stream",
          "text": [
            "___ batch index = 750 / 1836 (40.85%), loss = 0.1157, time = 26.12 seconds ___\n"
          ],
          "name": "stdout"
        },
        {
          "output_type": "stream",
          "text": [
            "___ batch index = 1000 / 1836 (54.47%), loss = 0.1036, time = 29.89 seconds ___\n"
          ],
          "name": "stdout"
        },
        {
          "output_type": "stream",
          "text": [
            "___ batch index = 1250 / 1836 (68.08%), loss = 0.0911, time = 27.10 seconds ___\n"
          ],
          "name": "stdout"
        },
        {
          "output_type": "stream",
          "text": [
            "___ batch index = 1500 / 1836 (81.70%), loss = 0.0882, time = 27.34 seconds ___\n"
          ],
          "name": "stdout"
        },
        {
          "output_type": "stream",
          "text": [
            "___ batch index = 1750 / 1836 (95.32%), loss = 0.0751, time = 29.84 seconds ___\n"
          ],
          "name": "stdout"
        },
        {
          "output_type": "stream",
          "text": [
            "\n",
            "*** avg_loss : 0.33, time : ~3.0 min (209.06 sec) ***\n",
            "\n"
          ],
          "name": "stdout"
        },
        {
          "output_type": "stream",
          "text": [
            "==> evaluation : avg_loss = 0.32, time : 28.74 sec\n",
            "\n"
          ],
          "name": "stdout"
        },
        {
          "output_type": "stream",
          "text": [
            "threshold:  [0.05577895]\n",
            "=====>\t{'Positive Rate': array([0.08699926], dtype=float32), 'accuracy': 0.1577783239125092, 'f1': 0.15860545052786645, 'recall': 0.9124293785310734, 'specificity': 0.08586810228802154, 'g_mean': 0.2799081620930374, 'default_accuracy': 0.9130007372818875, 'default_f1': 0.0, 'default_recall': 0.0, 'default_specificity': 1.0, 'default_g_mean': 0.0}\n",
            "\n",
            "=============== EPOCH 6 / 6 ===============\n",
            "\n"
          ],
          "name": "stdout"
        },
        {
          "output_type": "stream",
          "text": [
            "___ batch index = 0 / 1836 (0.00%), loss = 0.0653, time = 0.08 seconds ___\n"
          ],
          "name": "stdout"
        },
        {
          "output_type": "stream",
          "text": [
            "___ batch index = 250 / 1836 (13.62%), loss = 2.6023, time = 29.17 seconds ___\n"
          ],
          "name": "stdout"
        },
        {
          "output_type": "stream",
          "text": [
            "___ batch index = 500 / 1836 (27.23%), loss = 0.1134, time = 28.15 seconds ___\n"
          ],
          "name": "stdout"
        },
        {
          "output_type": "stream",
          "text": [
            "___ batch index = 750 / 1836 (40.85%), loss = 0.1137, time = 26.19 seconds ___\n"
          ],
          "name": "stdout"
        },
        {
          "output_type": "stream",
          "text": [
            "___ batch index = 1000 / 1836 (54.47%), loss = 0.1037, time = 29.88 seconds ___\n"
          ],
          "name": "stdout"
        },
        {
          "output_type": "stream",
          "text": [
            "___ batch index = 1250 / 1836 (68.08%), loss = 0.0922, time = 27.09 seconds ___\n"
          ],
          "name": "stdout"
        },
        {
          "output_type": "stream",
          "text": [
            "___ batch index = 1500 / 1836 (81.70%), loss = 0.0866, time = 27.33 seconds ___\n"
          ],
          "name": "stdout"
        },
        {
          "output_type": "stream",
          "text": [
            "___ batch index = 1750 / 1836 (95.32%), loss = 0.0752, time = 29.82 seconds ___\n"
          ],
          "name": "stdout"
        },
        {
          "output_type": "stream",
          "text": [
            "\n",
            "*** avg_loss : 0.33, time : ~3.0 min (209.10 sec) ***\n",
            "\n"
          ],
          "name": "stdout"
        },
        {
          "output_type": "stream",
          "text": [
            "==> evaluation : avg_loss = 0.32, time : 28.74 sec\n",
            "\n"
          ],
          "name": "stdout"
        },
        {
          "output_type": "stream",
          "text": [
            "threshold:  [0.05761987]\n",
            "=====>\t{'Positive Rate': array([0.08699926], dtype=float32), 'accuracy': 0.15753256328336201, 'f1': 0.1593918587542913, 'recall': 0.9180790960451978, 'specificity': 0.08506056527590848, 'g_mean': 0.2794500436171009, 'default_accuracy': 0.9130007372818875, 'default_f1': 0.0, 'default_recall': 0.0, 'default_specificity': 1.0, 'default_g_mean': 0.0}\n"
          ],
          "name": "stdout"
        },
        {
          "output_type": "stream",
          "text": [
            "@@@@@@@@@@@@@@@@@@@@@@@@@@@@@@@@@@@@@@@@@@@@@ END @@@@@@@@@@@@@@@@@@@@@@@@@@@@@@@@@@@@@@@@@\n"
          ],
          "name": "stdout"
        }
      ]
    },
    {
      "cell_type": "code",
      "metadata": {
        "id": "QgpkGaz2cI1W",
        "jupyter": {
          "outputs_hidden": false
        }
      },
      "source": [
        "# lista = list(enumerate(val_data_loader))"
      ],
      "execution_count": null,
      "outputs": []
    },
    {
      "cell_type": "code",
      "metadata": {
        "id": "acw97z-TiyOi",
        "jupyter": {
          "outputs_hidden": false
        }
      },
      "source": [
        "# labels = [data[\"labels\"][LABEL_INDEX] for data in lista[0][1]]\n",
        "# targets = []\n",
        "# if len(labels) > 1:\n",
        "#     for label_set in labels:\n",
        "#       miniset = []\n",
        "#       for label in label_set:\n",
        "#         miniset.append(torch.tensor([label]))\n",
        "#       targets.append(torch.stack(miniset))\n",
        "# else:\n",
        "#     miniset = [torch.tensor(labels[0])]\n",
        "#     targets.append(torch.stack(miniset))\n",
        "# print(targets)"
      ],
      "execution_count": null,
      "outputs": []
    },
    {
      "cell_type": "code",
      "metadata": {
        "id": "Vy37VSo0Rzrt",
        "jupyter": {
          "outputs_hidden": false
        }
      },
      "source": [
        "def train_loop_fun2(data_loader, model, optimizer, device, grad_accs, scheduler=None):\n",
        "    model.train()\n",
        "    t0 = time.time()\n",
        "    losses = []\n",
        "    optimizer.zero_grad()\n",
        "    for batch_idx, batch in enumerate(data_loader):\n",
        "        ids = [data[\"text_data\"][\"ids\"] for data in batch]\n",
        "        mask = [data[\"text_data\"][\"mask\"] for data in batch]\n",
        "        token_type_ids = [data[\"text_data\"][\"token_type_ids\"] for data in batch]\n",
        "        targets = [data[\"labels\"] for data in batch]\n",
        "        lengt = [data[\"text_data\"]['len'] for data in batch]\n",
        "\n",
        "        ids = torch.cat(ids)\n",
        "        mask = torch.cat(mask)\n",
        "        token_type_ids = torch.cat(token_type_ids)\n",
        "        targets = torch.stack(targets)\n",
        "        lengt = torch.cat(lengt)\n",
        "        lengt = [x.item() for x in lengt]\n",
        "\n",
        "        ids = ids.to(device, dtype=torch.long)\n",
        "        mask = mask.to(device, dtype=torch.long)\n",
        "        token_type_ids = token_type_ids.to(device, dtype=torch.long)\n",
        "        targets = targets.to(device, dtype=torch.float)\n",
        "\n",
        "        outputs = model(ids=ids, mask=mask, token_type_ids=token_type_ids, lengt=lengt)\n",
        "        loss = loss_fun(outputs, targets)\n",
        "        # print('calcula la loss', loss)\n",
        "        # Gradient accumulation loss\n",
        "        (loss / grad_accs).backward()\n",
        "        model.float()\n",
        "        if (batch_idx + 1) % grad_accs == 0:\n",
        "            optimizer.step()\n",
        "            optimizer.zero_grad()\n",
        "            if scheduler:\n",
        "                scheduler.step()\n",
        "        losses.append(loss.item())\n",
        "        if batch_idx % 250 == 0:\n",
        "            print(\n",
        "                f\"___ batch index = {batch_idx} / {len(data_loader)} ({100*batch_idx / len(data_loader):.2f}%), loss = {np.mean(losses[-10:]):.4f}, time = {time.time()-t0:.2f} seconds ___\")\n",
        "            t0 = time.time()\n",
        "    return losses\n",
        "\n",
        "def individual_train_loop_fun2(data_loader, model, optimizer, device, grad_accs, scheduler=None, label_index=0):\n",
        "    model.train()\n",
        "    t0 = time.time()\n",
        "    losses = []\n",
        "    optimizer.zero_grad()\n",
        "    for batch_idx, batch in enumerate(data_loader):\n",
        "        ids = [data[\"text_data\"][\"ids\"] for data in batch]\n",
        "        mask = [data[\"text_data\"][\"mask\"] for data in batch]\n",
        "        token_type_ids = [data[\"text_data\"][\"token_type_ids\"] for data in batch]\n",
        "        labels = [data[\"labels\"][label_index] for data in batch]\n",
        "        targets = []\n",
        "        if len(labels) > 1:\n",
        "            for label_set in labels:\n",
        "              miniset = []\n",
        "              for label in label_set:\n",
        "                miniset.append(torch.tensor([label]))\n",
        "              targets.append(torch.stack(miniset))\n",
        "        else:\n",
        "            miniset = [torch.tensor([labels[0]])]\n",
        "            targets.append(torch.stack(miniset))\n",
        "        lengt = [data[\"text_data\"]['len'] for data in batch]\n",
        "\n",
        "        ids = torch.cat(ids)\n",
        "        mask = torch.cat(mask)\n",
        "        token_type_ids = torch.cat(token_type_ids)\n",
        "        targets = torch.cat(targets)\n",
        "        lengt = torch.cat(lengt)\n",
        "        lengt = [x.item() for x in lengt]\n",
        "\n",
        "        ids = ids.to(device, dtype=torch.long)\n",
        "        mask = mask.to(device, dtype=torch.long)\n",
        "        token_type_ids = token_type_ids.to(device, dtype=torch.long)\n",
        "        targets = targets.to(device, dtype=torch.float)\n",
        "\n",
        "        outputs = model(ids=ids, mask=mask, token_type_ids=token_type_ids, lengt=lengt)\n",
        "        # outputs = torch.cat(torch.unbind(outputs))\n",
        "        loss = loss_fun(outputs, targets)\n",
        "        (loss / grad_accs).backward()\n",
        "        model.float()\n",
        "        if (batch_idx + 1) % grad_accs == 0:\n",
        "            optimizer.step()\n",
        "            optimizer.zero_grad()\n",
        "            if scheduler:\n",
        "                scheduler.step()\n",
        "        losses.append(loss.item())\n",
        "        if batch_idx % 250 == 0:\n",
        "            print(\n",
        "                f\"___ batch index = {batch_idx} / {len(data_loader)} ({100*batch_idx / len(data_loader):.2f}%), loss = {np.mean(losses[-10:]):.4f}, time = {time.time()-t0:.2f} seconds ___\")\n",
        "            t0 = time.time()\n",
        "    return losses"
      ],
      "execution_count": null,
      "outputs": []
    },
    {
      "cell_type": "code",
      "metadata": {
        "id": "nwmyts7PRzrw",
        "jupyter": {
          "outputs_hidden": false
        }
      },
      "source": [
        "def eval_loop_fun2(data_loader, model, device):\n",
        "    model.eval()\n",
        "    fin_targets = []\n",
        "    fin_outputs = []\n",
        "    losses = []\n",
        "    for batch_idx, batch in enumerate(data_loader):\n",
        "        #         model.half()\n",
        "        ids = [data[\"text_data\"][\"ids\"] for data in batch]\n",
        "        mask = [data[\"text_data\"][\"mask\"] for data in batch]\n",
        "        token_type_ids = [data[\"text_data\"][\"token_type_ids\"] for data in batch]\n",
        "        targets = [data[\"labels\"] for data in batch]\n",
        "        lengt = [data[\"text_data\"]['len'] for data in batch]\n",
        "\n",
        "        ids = torch.cat(ids)\n",
        "        mask = torch.cat(mask)\n",
        "        token_type_ids = torch.cat(token_type_ids)\n",
        "        targets = torch.stack(targets)\n",
        "        lengt = torch.cat(lengt)\n",
        "        lengt = [x.item() for x in lengt]\n",
        "\n",
        "        ids = ids.to(device, dtype=torch.long)\n",
        "        mask = mask.to(device, dtype=torch.long)\n",
        "        token_type_ids = token_type_ids.to(device, dtype=torch.long)\n",
        "        targets = targets.to(device, dtype=torch.float)\n",
        "        with torch.no_grad():\n",
        "            outputs = model(ids=ids, mask=mask, token_type_ids=token_type_ids, lengt=lengt)\n",
        "            loss = loss_fun(outputs, targets)\n",
        "            losses.append(loss.item())\n",
        "\n",
        "        outputs = torch.sigmoid(outputs)\n",
        "        fin_targets.append(targets.cpu().detach().numpy())\n",
        "        fin_outputs.append(outputs.cpu().detach().numpy())\n",
        "    return np.concatenate(fin_outputs), np.concatenate(fin_targets), losses\n",
        "\n",
        "def individual_eval_loop_fun2(data_loader, model, device, label_index=0):\n",
        "    model.eval()\n",
        "    fin_targets = []\n",
        "    fin_outputs = []\n",
        "    losses = []\n",
        "    for batch_idx, batch in enumerate(data_loader):\n",
        "        ids = [data[\"text_data\"][\"ids\"] for data in batch]\n",
        "        mask = [data[\"text_data\"][\"mask\"] for data in batch]\n",
        "        token_type_ids = [data[\"text_data\"][\"token_type_ids\"] for data in batch]\n",
        "        labels = [data[\"labels\"][label_index] for data in batch]\n",
        "        targets = []\n",
        "        if len(labels) > 1:\n",
        "            for label_set in labels:\n",
        "              miniset = []\n",
        "              for label in label_set:\n",
        "                miniset.append(torch.tensor([label]))\n",
        "              targets.append(torch.stack(miniset))\n",
        "        else:\n",
        "            miniset = [torch.tensor([labels[0]])]\n",
        "            targets.append(torch.stack(miniset))\n",
        "        lengt = [data[\"text_data\"]['len'] for data in batch]\n",
        "\n",
        "        ids = torch.cat(ids)\n",
        "        mask = torch.cat(mask)\n",
        "        token_type_ids = torch.cat(token_type_ids)\n",
        "        targets = torch.cat(targets)\n",
        "        lengt = torch.cat(lengt)\n",
        "        lengt = [x.item() for x in lengt]\n",
        "\n",
        "        ids = ids.to(device, dtype=torch.long)\n",
        "        mask = mask.to(device, dtype=torch.long)\n",
        "        token_type_ids = token_type_ids.to(device, dtype=torch.long)\n",
        "        targets = targets.to(device, dtype=torch.float)\n",
        "        with torch.no_grad():\n",
        "            outputs = model(ids=ids, mask=mask, token_type_ids=token_type_ids, lengt=lengt)\n",
        "            loss = loss_fun(outputs, targets)\n",
        "            losses.append(loss.item())\n",
        "\n",
        "        outputs = torch.sigmoid(outputs)\n",
        "        fin_targets.append(targets.cpu().detach().numpy())\n",
        "        fin_outputs.append(outputs.cpu().detach().numpy())\n",
        "    return np.concatenate(fin_outputs), np.concatenate(fin_targets), losses"
      ],
      "execution_count": null,
      "outputs": []
    },
    {
      "cell_type": "code",
      "metadata": {
        "colab": {
          "base_uri": "https://localhost:8080/"
        },
        "id": "seG1ju2gMR1H",
        "jupyter": {
          "outputs_hidden": false
        },
        "scrolled": true,
        "outputId": "3234049b-ae5a-4337-bc44-b839cab3701b"
      },
      "source": [
        "best_global_f1 = 0\n",
        "best_global_model = 0\n",
        "best_i = 0\n",
        "# LABEL_INDEX = 3\n",
        "learning_rates_results = {\n",
        "      0: {\n",
        "          \"1_6\": 0.5433715220949263,\n",
        "          \"5_6\": 0.6085526315789473,\n",
        "          \"10_6\": 0.555921052631579,\n",
        "          \"15_6\": 0.5377049180327869,\n",
        "          \"20_6\": \"destroyed\"\n",
        "    },\n",
        "      1: {\n",
        "          \"1_6\": 0.5361842105263158,\n",
        "          \"5_6\": 0.561038961038961,\n",
        "          \"10_6\": 0.5846153846153846,\n",
        "          \"15_6\": 0.5710659898477157,\n",
        "          \"20_6\": \"destroyed\"\n",
        "      },\n",
        "      2: {\n",
        "          \"1_6\": 0.2039473684210526,\n",
        "          \"5_6\": 0.21533442088091354,\n",
        "          \"10_6\": \"semi-destroyed\",\n",
        "          \"15_6\": \"destroyed\"\n",
        "      },\n",
        "      3: {\n",
        "          \"1_6\": 0.4785478547854785,\n",
        "          \"5_6\": 0.43234323432343236,\n",
        "          \"10_6\": 0.4422442244224422,\n",
        "          \"15_6\": 0.429042904290429,\n",
        "          \"20_6\": 0.42574257425742573,\n",
        "          \"25_6\": 0.42574257425742573,\n",
        "      },\n",
        "        4: {\n",
        "            \"1_6\": 0.3256578947368421,\n",
        "            \"5_6\": 0.3288888888888889,\n",
        "            \"10_6\": \"destroyed\"\n",
        "        },\n",
        "        5: {\n",
        "            \"1_6\": 0.2401315789473684,\n",
        "            \"5_6\": 0.23684210526315788,\n",
        "            \"10_6\": 0.21994134897360704,\n",
        "            \"15_6\": \"destroyed\"\n",
        "        },\n",
        "        6: {\n",
        "            \"1_6\": 0.5155993431855501,\n",
        "            \"5_6\": 0.5415986949429037,\n",
        "            \"10_6\": 0.5237315875613748,\n",
        "            \"15_6\": \"semidestroyed\",\n",
        "            \"20_6\": \"destroyed\"\n",
        "        },\n",
        "        7: {\n",
        "            \"1_6\": 0.023026315789473683,\n",
        "            \"5_6\": \"destroyed\"\n",
        "        },\n",
        "        8: {\n",
        "            \"1_6\": 0.04276315789473684,\n",
        "            \"5_6\": 0.04276315789473684,\n",
        "            \"10_6\": \"destroyed\"\n",
        "        },\n",
        "        9: {\n",
        "            \"1_6\": 0.10180623973727422,\n",
        "            \"5_6\": 0.0980392156862745,\n",
        "            \"10_6\": 0.09733124018838306,\n",
        "            \"15_6\": 0.09733124018838306,\n",
        "            \"20_6\": \"destroyed\"\n",
        "        },\n",
        "      10: {\n",
        "          \"1_6\": 0.04276315789473684,\n",
        "          \"5_6\": 0.042414355628058724,\n",
        "          \"10_6\": 0.042071197411003236,\n",
        "          \"15_6\": 0.04220779220779221,\n",
        "          \"20_6\": 0.042071197411003236,\n",
        "          \"25_6\": \"destroyed\"\n",
        "      },\n",
        "      11: {\n",
        "          \"1_6\": 0.5361842105263158,\n",
        "          \"5_6\": 0.535303776683087,\n",
        "          \"10_6\": 0.5686274509803922,\n",
        "          \"15_6\": 0.5564648117839608,\n",
        "          \"20_6\": 0.5328947368421052,\n",
        "          \"25_6\": 0.5553914327917282\n",
        "      },\n",
        "      12: {\n",
        "          \"1_6\": 0.3834710743801653,\n",
        "          \"5_6\": 0.3531353135313531,\n",
        "          \"10_6\": 0.3564356435643564,\n",
        "          \"15_6\": 0.36363636363636365,\n",
        "          \"20_6\": 0.38283828382838286,\n",
        "          \"25_6\": \"destroyed\"\n",
        "      },\n",
        "      13: {\n",
        "          \"1_6\": 0.17077175697865354,\n",
        "          \"5_6\": 0.1731066460587326,\n",
        "          \"10_6\": 0.17105263157894737,\n",
        "          \"15_6\": \"destroyed\"\n",
        "      }\n",
        "}\n",
        "\n",
        "learning_rates_coeffs = {\n",
        "    0: 5,\n",
        "    1: 10,\n",
        "    2: 5,\n",
        "    3: 1,\n",
        "    4: 5,\n",
        "    5: 1,\n",
        "    6: 5,\n",
        "    7: 1,\n",
        "    8: 1,\n",
        "    9: 1,\n",
        "    10: 1,\n",
        "    11: 10,\n",
        "    12: 1,\n",
        "    13: 5\n",
        "}\n",
        "\n",
        "for lab in MULTI_LABELS:\n",
        "    LABEL_INDEX = lab\n",
        "    print('#################################################### Para label: ', Y_KEYS[LABEL_INDEX], \" (\"+str(LABEL_INDEX)+\") ##############\")\n",
        "    # i = 20\n",
        "    # lrs = [1, 2, 3, 4, 5, 6, 7, 8 ,9 ,10, 15, 20, 25]\n",
        "\n",
        "    i = learning_rates_coeffs[lab]\n",
        "    print(\"------------------------------------------- exp: \"+str(i)+\"*1e-6 -----------------------------------------\")\n",
        "    lr=(i)*1e-6 # Algunos lr hacen que BERT se destruya \n",
        "\n",
        "    num_training_steps=int(len(transformed_train_dataset) / TRAIN_BATCH_SIZE * EPOCH)\n",
        "\n",
        "    # Modify according to individual or all\n",
        "    # if i > 0:\n",
        "    #     del model\n",
        "    #     del best_model\n",
        "    model=Single_Bert_Hierarchical_Model().to(device) # Bert_FT_Model(len(Y_KEYS)).to(device)\n",
        "    optimizer=AdamW(model.parameters(), lr=lr)\n",
        "    scheduler = get_linear_schedule_with_warmup(optimizer, \n",
        "                                        num_warmup_steps=0,\n",
        "                                        num_training_steps=num_training_steps)\n",
        "    val_losses=[]\n",
        "    batches_losses=[]\n",
        "    val_acc=[]\n",
        "\n",
        "    best_model = None\n",
        "    best_g_mean = 0\n",
        "\n",
        "    for epoch in range(EPOCH):\n",
        "        t0 = time.time()    \n",
        "        print(f\"\\n=============== EPOCH {epoch+1} / {EPOCH} ===============\\n\")\n",
        "        # Modify according to individual or all\n",
        "        batches_losses_tmp=individual_train_loop_fun2(train_data_loader, model, optimizer, device, GRADIENT_ACCUMULATIONS, scheduler=scheduler, label_index=LABEL_INDEX)\n",
        "        epoch_loss=np.mean(batches_losses_tmp)\n",
        "        print(f\"\\n*** avg_loss : {epoch_loss:.2f}, time : ~{(time.time()-t0)//60} min ({time.time()-t0:.2f} sec) ***\\n\")\n",
        "        t1=time.time()\n",
        "        # Modify according to individual or all\n",
        "        output, target, val_losses_tmp=individual_eval_loop_fun2(val_data_loader, model, device, label_index=LABEL_INDEX)\n",
        "        print(f\"==> evaluation : avg_loss = {np.mean(val_losses_tmp):.2f}, time : {time.time()-t1:.2f} sec\\n\")\n",
        "        # Modify according to individual or all\n",
        "        tmp_evaluate=individual_evaluation(target, output)\n",
        "        # if tmp_evaluate['f1'] > best_f1 and tmp_evaluate['recall'] != 0 and tmp_evaluate['specificity'] != 0:\n",
        "        #   best_model = model\n",
        "        #   best_f1 = tmp_evaluate['f1']\n",
        "        if tmp_evaluate['g_mean'] > best_g_mean or tmp_evaluate['default_g_mean'] > best_g_mean:# and tmp_evaluate['recall'] != 0 and tmp_evaluate['specificity'] != 0:\n",
        "            del best_model\n",
        "            torch.cuda.empty_cache()\n",
        "            best_model = model\n",
        "            if tmp_evaluate['g_mean'] > tmp_evaluate['default_g_mean']:\n",
        "                best_g_mean = tmp_evaluate['g_mean']\n",
        "            else:\n",
        "                best_g_mean = tmp_evaluate['default_g_mean']\n",
        "        print(f\"=====>\\t{tmp_evaluate}\")\n",
        "        val_acc.append(tmp_evaluate['accuracy'])\n",
        "        val_losses.append(val_losses_tmp)\n",
        "        batches_losses.append(batches_losses_tmp)\n",
        "\n",
        "    torch.save(best_model, f\"/research/jamunoz/models/average_fine_tuned_bert/model_\"+str(lab)+\".pt\")\n",
        "    del model, optimizer, scheduler, best_model\n",
        "    torch.cuda.empty_cache()\n",
        "\n",
        "    print(\"@@@@@@@@@@@@@@@@@@@@@@@@@@@@@@@@@@@@@@@@@@@@@ END @@@@@@@@@@@@@@@@@@@@@@@@@@@@@@@@@@@@@@@@@@@@@@@\") \n",
        "        \n",
        "\n",
        "\n",
        "\n",
        "# lr=1e-3\n",
        "# num_training_steps=int(len(transformed_train_dataset) / TRAIN_BATCH_SIZE * EPOCH)\n",
        "\n",
        "# model=Bert_Hierarchical_Model(len(Y_KEYS)).to(device)\n",
        "# optimizer=AdamW(model.parameters(), lr=lr)\n",
        "# scheduler = get_linear_schedule_with_warmup(optimizer, \n",
        "#                                         num_warmup_steps=0,\n",
        "#                                         num_training_steps=num_training_steps)\n",
        "# val_losses=[]\n",
        "# batches_losses=[]\n",
        "# val_acc=[]\n",
        "# for epoch in range(EPOCH):\n",
        "#     t0 = time.time()    \n",
        "#     print(f\"\\n=============== EPOCH {epoch+1} / {EPOCH} ===============\\n\")\n",
        "#     batches_losses_tmp=train_loop_fun2(train_data_loader, model, optimizer, device, GRADIENT_ACCUMULATIONS, scheduler=scheduler)\n",
        "#     epoch_loss=np.mean(batches_losses_tmp)\n",
        "#     print(f\"\\n*** avg_loss : {epoch_loss:.2f}, time : ~{(time.time()-t0)//60} min ({time.time()-t0:.2f} sec) ***\\n\")\n",
        "#     t1=time.time()\n",
        "#     output, target, val_losses_tmp=eval_loop_fun2(val_data_loader, model, device)\n",
        "#     print(f\"==> evaluation : avg_loss = {np.mean(val_losses_tmp):.2f}, time : {time.time()-t1:.2f} sec\\n\")\n",
        "#     tmp_evaluate=evaluate(target, output)\n",
        "#     print(f\"=====>\\t{tmp_evaluate}\")\n",
        "#     val_acc.append(tmp_evaluate['accuracy'])\n",
        "#     val_losses.append(val_losses_tmp)\n",
        "#     batches_losses.append(batches_losses_tmp)\n",
        "#     print(\"\\t§§ model has been saved §§\")\n",
        "#     # torch.save(model, f\"gdrive/My Drive/magister/models/fine_tuned_bert_hierarchical_mean/model_epoch{epoch+1}.pt\")"
      ],
      "execution_count": null,
      "outputs": [
        {
          "output_type": "stream",
          "text": [
            "#################################################### Para label:  Apoyo pedagógico personal  (1) ##############\n",
            "------------------------------------------- exp: 10*1e-6 -----------------------------------------\n"
          ],
          "name": "stdout"
        },
        {
          "output_type": "stream",
          "text": [
            "Some weights of BertModel were not initialized from the model checkpoint at dccuchile/bert-base-spanish-wwm-cased and are newly initialized: ['bert.pooler.dense.weight', 'bert.pooler.dense.bias']\n",
            "You should probably TRAIN this model on a down-stream task to be able to use it for predictions and inference.\n"
          ],
          "name": "stderr"
        },
        {
          "output_type": "stream",
          "text": [
            "<ipython-input-18-5fb9fe6293fb>:32: UserWarning: To copy construct from a tensor, it is recommended to use sourceTensor.clone().detach() or sourceTensor.clone().detach().requires_grad_(True), rather than torch.tensor(sourceTensor).\n",
            "  remain = torch.tensor(remain, dtype=torch.long)\n"
          ],
          "name": "stderr"
        },
        {
          "output_type": "stream",
          "text": [
            "\n",
            "=============== EPOCH 1 / 6 ===============\n",
            "\n",
            "___ batch index = 0 / 1836 (0.00%), loss = 0.6546, time = 0.08 seconds ___\n"
          ],
          "name": "stdout"
        },
        {
          "output_type": "stream",
          "text": [
            "___ batch index = 250 / 1836 (13.62%), loss = 0.6281, time = 29.13 seconds ___\n"
          ],
          "name": "stdout"
        },
        {
          "output_type": "stream",
          "text": [
            "___ batch index = 500 / 1836 (27.23%), loss = 0.5714, time = 28.12 seconds ___\n"
          ],
          "name": "stdout"
        },
        {
          "output_type": "stream",
          "text": [
            "___ batch index = 750 / 1836 (40.85%), loss = 0.6739, time = 26.12 seconds ___\n"
          ],
          "name": "stdout"
        },
        {
          "output_type": "stream",
          "text": [
            "___ batch index = 1000 / 1836 (54.47%), loss = 0.4649, time = 29.84 seconds ___\n"
          ],
          "name": "stdout"
        },
        {
          "output_type": "stream",
          "text": [
            "___ batch index = 1250 / 1836 (68.08%), loss = 0.0434, time = 27.07 seconds ___\n"
          ],
          "name": "stdout"
        },
        {
          "output_type": "stream",
          "text": [
            "___ batch index = 1500 / 1836 (81.70%), loss = 0.3367, time = 27.31 seconds ___\n"
          ],
          "name": "stdout"
        },
        {
          "output_type": "stream",
          "text": [
            "___ batch index = 1750 / 1836 (95.32%), loss = 0.0284, time = 29.79 seconds ___\n"
          ],
          "name": "stdout"
        },
        {
          "output_type": "stream",
          "text": [
            "\n",
            "*** avg_loss : 0.61, time : ~3.0 min (208.84 sec) ***\n",
            "\n"
          ],
          "name": "stdout"
        },
        {
          "output_type": "stream",
          "text": [
            "==> evaluation : avg_loss = 1.70, time : 28.70 sec\n",
            "\n"
          ],
          "name": "stdout"
        },
        {
          "output_type": "stream",
          "text": [
            "threshold:  [0.01557411]\n",
            "=====>\t{'Positive Rate': array([0.4085667], dtype=float32), 'accuracy': 0.48105436573311366, 'f1': 0.5519203413940256, 'recall': 0.782258064516129, 'specificity': 0.27298050139275765, 'g_mean': 0.46210518139287404, 'default_accuracy': 0.5914332784184514, 'default_f1': 0.0, 'default_recall': 0.0, 'default_specificity': 1.0, 'default_g_mean': 0.0}\n",
            "\n",
            "=============== EPOCH 2 / 6 ===============\n",
            "\n",
            "___ batch index = 0 / 1836 (0.00%), loss = 0.0200, time = 0.08 seconds ___\n"
          ],
          "name": "stdout"
        },
        {
          "output_type": "stream",
          "text": [
            "___ batch index = 250 / 1836 (13.62%), loss = 0.6219, time = 29.14 seconds ___\n"
          ],
          "name": "stdout"
        },
        {
          "output_type": "stream",
          "text": [
            "___ batch index = 500 / 1836 (27.23%), loss = 0.6126, time = 28.13 seconds ___\n"
          ],
          "name": "stdout"
        },
        {
          "output_type": "stream",
          "text": [
            "___ batch index = 750 / 1836 (40.85%), loss = 0.6797, time = 26.17 seconds ___\n"
          ],
          "name": "stdout"
        },
        {
          "output_type": "stream",
          "text": [
            "___ batch index = 1000 / 1836 (54.47%), loss = 0.4423, time = 29.84 seconds ___\n"
          ],
          "name": "stdout"
        },
        {
          "output_type": "stream",
          "text": [
            "___ batch index = 1250 / 1836 (68.08%), loss = 0.0760, time = 27.07 seconds ___\n"
          ],
          "name": "stdout"
        },
        {
          "output_type": "stream",
          "text": [
            "___ batch index = 1500 / 1836 (81.70%), loss = 1.0659, time = 27.30 seconds ___\n"
          ],
          "name": "stdout"
        },
        {
          "output_type": "stream",
          "text": [
            "___ batch index = 1750 / 1836 (95.32%), loss = 0.0635, time = 29.78 seconds ___\n"
          ],
          "name": "stdout"
        },
        {
          "output_type": "stream",
          "text": [
            "\n",
            "*** avg_loss : 0.73, time : ~3.0 min (208.88 sec) ***\n",
            "\n"
          ],
          "name": "stdout"
        },
        {
          "output_type": "stream",
          "text": [
            "==> evaluation : avg_loss = 1.36, time : 28.69 sec\n",
            "\n"
          ],
          "name": "stdout"
        },
        {
          "output_type": "stream",
          "text": [
            "threshold:  [0.0366772]\n",
            "=====>\t{'Positive Rate': array([0.4085667], dtype=float32), 'accuracy': 0.46293245469522243, 'f1': 0.5329512893982808, 'recall': 0.75, 'specificity': 0.2646239554317549, 'g_mean': 0.4454974372247456, 'default_accuracy': 0.5914332784184514, 'default_f1': 0.0, 'default_recall': 0.0, 'default_specificity': 1.0, 'default_g_mean': 0.0}\n",
            "\n",
            "=============== EPOCH 3 / 6 ===============\n",
            "\n",
            "___ batch index = 0 / 1836 (0.00%), loss = 0.0453, time = 0.07 seconds ___\n"
          ],
          "name": "stdout"
        },
        {
          "output_type": "stream",
          "text": [
            "___ batch index = 250 / 1836 (13.62%), loss = 0.6277, time = 29.14 seconds ___\n"
          ],
          "name": "stdout"
        },
        {
          "output_type": "stream",
          "text": [
            "___ batch index = 500 / 1836 (27.23%), loss = 0.5827, time = 28.14 seconds ___\n"
          ],
          "name": "stdout"
        },
        {
          "output_type": "stream",
          "text": [
            "___ batch index = 750 / 1836 (40.85%), loss = 0.6806, time = 26.08 seconds ___\n"
          ],
          "name": "stdout"
        },
        {
          "output_type": "stream",
          "text": [
            "___ batch index = 1000 / 1836 (54.47%), loss = 0.4571, time = 29.85 seconds ___\n"
          ],
          "name": "stdout"
        },
        {
          "output_type": "stream",
          "text": [
            "___ batch index = 1250 / 1836 (68.08%), loss = 0.0826, time = 27.07 seconds ___\n"
          ],
          "name": "stdout"
        },
        {
          "output_type": "stream",
          "text": [
            "___ batch index = 1500 / 1836 (81.70%), loss = 0.5702, time = 27.31 seconds ___\n"
          ],
          "name": "stdout"
        },
        {
          "output_type": "stream",
          "text": [
            "___ batch index = 1750 / 1836 (95.32%), loss = 0.1547, time = 29.79 seconds ___\n"
          ],
          "name": "stdout"
        },
        {
          "output_type": "stream",
          "text": [
            "\n",
            "*** avg_loss : 0.63, time : ~3.0 min (208.78 sec) ***\n",
            "\n"
          ],
          "name": "stdout"
        },
        {
          "output_type": "stream",
          "text": [
            "==> evaluation : avg_loss = 1.05, time : 28.82 sec\n",
            "\n"
          ],
          "name": "stdout"
        },
        {
          "output_type": "stream",
          "text": [
            "threshold:  [0.08533429]\n",
            "=====>\t{'Positive Rate': array([0.4085667], dtype=float32), 'accuracy': 0.4464579901153213, 'f1': 0.504424778761062, 'recall': 0.6895161290322581, 'specificity': 0.2785515320334262, 'g_mean': 0.4382530936612919, 'default_accuracy': 0.5914332784184514, 'default_f1': 0.0, 'default_recall': 0.0, 'default_specificity': 1.0, 'default_g_mean': 0.0}\n",
            "\n",
            "=============== EPOCH 4 / 6 ===============\n",
            "\n",
            "___ batch index = 0 / 1836 (0.00%), loss = 0.1005, time = 0.07 seconds ___\n"
          ],
          "name": "stdout"
        },
        {
          "output_type": "stream",
          "text": [
            "___ batch index = 250 / 1836 (13.62%), loss = 0.6042, time = 29.05 seconds ___\n"
          ],
          "name": "stdout"
        },
        {
          "output_type": "stream",
          "text": [
            "___ batch index = 500 / 1836 (27.23%), loss = 0.6294, time = 28.06 seconds ___\n"
          ],
          "name": "stdout"
        },
        {
          "output_type": "stream",
          "text": [
            "___ batch index = 750 / 1836 (40.85%), loss = 0.6541, time = 26.00 seconds ___\n"
          ],
          "name": "stdout"
        },
        {
          "output_type": "stream",
          "text": [
            "___ batch index = 1000 / 1836 (54.47%), loss = 0.4507, time = 29.77 seconds ___\n"
          ],
          "name": "stdout"
        },
        {
          "output_type": "stream",
          "text": [
            "___ batch index = 1250 / 1836 (68.08%), loss = 0.0826, time = 26.99 seconds ___\n"
          ],
          "name": "stdout"
        },
        {
          "output_type": "stream",
          "text": [
            "___ batch index = 1500 / 1836 (81.70%), loss = 0.3240, time = 27.23 seconds ___\n"
          ],
          "name": "stdout"
        },
        {
          "output_type": "stream",
          "text": [
            "___ batch index = 1750 / 1836 (95.32%), loss = 0.0836, time = 29.72 seconds ___\n"
          ],
          "name": "stdout"
        },
        {
          "output_type": "stream",
          "text": [
            "\n",
            "*** avg_loss : 0.63, time : ~3.0 min (208.20 sec) ***\n",
            "\n"
          ],
          "name": "stdout"
        },
        {
          "output_type": "stream",
          "text": [
            "==> evaluation : avg_loss = 1.27, time : 28.57 sec\n",
            "\n"
          ],
          "name": "stdout"
        },
        {
          "output_type": "stream",
          "text": [
            "threshold:  [0.04726055]\n",
            "=====>\t{'Positive Rate': array([0.4085667], dtype=float32), 'accuracy': 0.41186161449752884, 'f1': 0.5795053003533569, 'recall': 0.9919354838709677, 'specificity': 0.011142061281337047, 'g_mean': 0.10512947231116039, 'default_accuracy': 0.5914332784184514, 'default_f1': 0.0, 'default_recall': 0.0, 'default_specificity': 1.0, 'default_g_mean': 0.0}\n",
            "\n",
            "=============== EPOCH 5 / 6 ===============\n",
            "\n",
            "___ batch index = 0 / 1836 (0.00%), loss = 0.0551, time = 0.07 seconds ___\n"
          ],
          "name": "stdout"
        },
        {
          "output_type": "stream",
          "text": [
            "___ batch index = 250 / 1836 (13.62%), loss = 0.6825, time = 29.05 seconds ___\n"
          ],
          "name": "stdout"
        },
        {
          "output_type": "stream",
          "text": [
            "___ batch index = 500 / 1836 (27.23%), loss = 0.5544, time = 28.05 seconds ___\n"
          ],
          "name": "stdout"
        },
        {
          "output_type": "stream",
          "text": [
            "___ batch index = 750 / 1836 (40.85%), loss = 0.6739, time = 26.00 seconds ___\n"
          ],
          "name": "stdout"
        },
        {
          "output_type": "stream",
          "text": [
            "___ batch index = 1000 / 1836 (54.47%), loss = 0.5420, time = 29.76 seconds ___\n"
          ],
          "name": "stdout"
        },
        {
          "output_type": "stream",
          "text": [
            "___ batch index = 1250 / 1836 (68.08%), loss = 0.1335, time = 26.98 seconds ___\n"
          ],
          "name": "stdout"
        },
        {
          "output_type": "stream",
          "text": [
            "___ batch index = 1500 / 1836 (81.70%), loss = 1.1525, time = 27.22 seconds ___\n"
          ],
          "name": "stdout"
        },
        {
          "output_type": "stream",
          "text": [
            "___ batch index = 1750 / 1836 (95.32%), loss = 0.1383, time = 29.70 seconds ___\n"
          ],
          "name": "stdout"
        },
        {
          "output_type": "stream",
          "text": [
            "\n",
            "*** avg_loss : 0.73, time : ~3.0 min (208.13 sec) ***\n",
            "\n"
          ],
          "name": "stdout"
        },
        {
          "output_type": "stream",
          "text": [
            "==> evaluation : avg_loss = 1.04, time : 28.54 sec\n",
            "\n"
          ],
          "name": "stdout"
        },
        {
          "output_type": "stream",
          "text": [
            "threshold:  [0.09026575]\n",
            "=====>\t{'Positive Rate': array([0.4085667], dtype=float32), 'accuracy': 0.46293245469522243, 'f1': 0.5421348314606741, 'recall': 0.7782258064516129, 'specificity': 0.24512534818941503, 'g_mean': 0.4367640916747162, 'default_accuracy': 0.5914332784184514, 'default_f1': 0.0, 'default_recall': 0.0, 'default_specificity': 1.0, 'default_g_mean': 0.0}\n",
            "\n",
            "=============== EPOCH 6 / 6 ===============\n",
            "\n",
            "___ batch index = 0 / 1836 (0.00%), loss = 0.1024, time = 0.07 seconds ___\n"
          ],
          "name": "stdout"
        },
        {
          "output_type": "stream",
          "text": [
            "___ batch index = 250 / 1836 (13.62%), loss = 0.6788, time = 29.03 seconds ___\n"
          ],
          "name": "stdout"
        },
        {
          "output_type": "stream",
          "text": [
            "___ batch index = 500 / 1836 (27.23%), loss = 0.5769, time = 28.04 seconds ___\n"
          ],
          "name": "stdout"
        },
        {
          "output_type": "stream",
          "text": [
            "___ batch index = 750 / 1836 (40.85%), loss = 0.6778, time = 25.98 seconds ___\n"
          ],
          "name": "stdout"
        },
        {
          "output_type": "stream",
          "text": [
            "___ batch index = 1000 / 1836 (54.47%), loss = 0.5017, time = 29.74 seconds ___\n"
          ],
          "name": "stdout"
        },
        {
          "output_type": "stream",
          "text": [
            "___ batch index = 1250 / 1836 (68.08%), loss = 0.1716, time = 26.97 seconds ___\n"
          ],
          "name": "stdout"
        },
        {
          "output_type": "stream",
          "text": [
            "___ batch index = 1500 / 1836 (81.70%), loss = 1.1344, time = 27.21 seconds ___\n"
          ],
          "name": "stdout"
        },
        {
          "output_type": "stream",
          "text": [
            "___ batch index = 1750 / 1836 (95.32%), loss = 0.1733, time = 29.69 seconds ___\n"
          ],
          "name": "stdout"
        },
        {
          "output_type": "stream",
          "text": [
            "\n",
            "*** avg_loss : 0.68, time : ~3.0 min (208.04 sec) ***\n",
            "\n"
          ],
          "name": "stdout"
        },
        {
          "output_type": "stream",
          "text": [
            "==> evaluation : avg_loss = 0.97, time : 28.57 sec\n",
            "\n"
          ],
          "name": "stdout"
        },
        {
          "output_type": "stream",
          "text": [
            "threshold:  [0.10999854]\n",
            "=====>\t{'Positive Rate': array([0.4085667], dtype=float32), 'accuracy': 0.4612850082372323, 'f1': 0.5281385281385281, 'recall': 0.7379032258064516, 'specificity': 0.27019498607242337, 'g_mean': 0.4465173589229992, 'default_accuracy': 0.5914332784184514, 'default_f1': 0.0, 'default_recall': 0.0, 'default_specificity': 1.0, 'default_g_mean': 0.0}\n"
          ],
          "name": "stdout"
        },
        {
          "output_type": "stream",
          "text": [
            "@@@@@@@@@@@@@@@@@@@@@@@@@@@@@@@@@@@@@@@@@@@@@ END @@@@@@@@@@@@@@@@@@@@@@@@@@@@@@@@@@@@@@@@@@@@@@@\n",
            "#################################################### Para label:  Tutoría entre pares  (2) ##############\n",
            "------------------------------------------- exp: 5*1e-6 -----------------------------------------\n"
          ],
          "name": "stdout"
        },
        {
          "output_type": "stream",
          "text": [
            "Some weights of BertModel were not initialized from the model checkpoint at dccuchile/bert-base-spanish-wwm-cased and are newly initialized: ['bert.pooler.dense.weight', 'bert.pooler.dense.bias']\n",
            "You should probably TRAIN this model on a down-stream task to be able to use it for predictions and inference.\n"
          ],
          "name": "stderr"
        },
        {
          "output_type": "stream",
          "text": [
            "\n",
            "=============== EPOCH 1 / 6 ===============\n",
            "\n",
            "___ batch index = 0 / 1836 (0.00%), loss = 0.7917, time = 0.08 seconds ___\n"
          ],
          "name": "stdout"
        },
        {
          "output_type": "stream",
          "text": [
            "___ batch index = 250 / 1836 (13.62%), loss = 0.5178, time = 29.06 seconds ___\n"
          ],
          "name": "stdout"
        },
        {
          "output_type": "stream",
          "text": [
            "___ batch index = 500 / 1836 (27.23%), loss = 0.8945, time = 28.03 seconds ___\n"
          ],
          "name": "stdout"
        },
        {
          "output_type": "stream",
          "text": [
            "___ batch index = 750 / 1836 (40.85%), loss = 0.3905, time = 26.03 seconds ___\n"
          ],
          "name": "stdout"
        },
        {
          "output_type": "stream",
          "text": [
            "___ batch index = 1000 / 1836 (54.47%), loss = 0.1159, time = 29.75 seconds ___\n"
          ],
          "name": "stdout"
        },
        {
          "output_type": "stream",
          "text": [
            "___ batch index = 1250 / 1836 (68.08%), loss = 0.0594, time = 26.99 seconds ___\n"
          ],
          "name": "stdout"
        },
        {
          "output_type": "stream",
          "text": [
            "___ batch index = 1500 / 1836 (81.70%), loss = 0.0429, time = 27.23 seconds ___\n"
          ],
          "name": "stdout"
        },
        {
          "output_type": "stream",
          "text": [
            "___ batch index = 1750 / 1836 (95.32%), loss = 0.0267, time = 29.71 seconds ___\n"
          ],
          "name": "stdout"
        },
        {
          "output_type": "stream",
          "text": [
            "\n",
            "*** avg_loss : 0.36, time : ~3.0 min (208.22 sec) ***\n",
            "\n"
          ],
          "name": "stdout"
        },
        {
          "output_type": "stream",
          "text": [
            "==> evaluation : avg_loss = 0.47, time : 28.57 sec\n",
            "\n"
          ],
          "name": "stdout"
        },
        {
          "output_type": "stream",
          "text": [
            "threshold:  [0.0162509]\n",
            "=====>\t{'Positive Rate': array([0.11532125], dtype=float32), 'accuracy': 0.17792421746293247, 'f1': 0.2091917591125198, 'recall': 0.9428571428571428, 'specificity': 0.0782122905027933, 'g_mean': 0.2715566547882348, 'default_accuracy': 0.8846787479406919, 'default_f1': 0.0, 'default_recall': 0.0, 'default_specificity': 1.0, 'default_g_mean': 0.0}\n",
            "\n",
            "=============== EPOCH 2 / 6 ===============\n",
            "\n",
            "___ batch index = 0 / 1836 (0.00%), loss = 0.0264, time = 0.08 seconds ___\n"
          ],
          "name": "stdout"
        },
        {
          "output_type": "stream",
          "text": [
            "___ batch index = 250 / 1836 (13.62%), loss = 0.7665, time = 29.07 seconds ___\n"
          ],
          "name": "stdout"
        },
        {
          "output_type": "stream",
          "text": [
            "___ batch index = 500 / 1836 (27.23%), loss = 1.3904, time = 28.05 seconds ___\n"
          ],
          "name": "stdout"
        },
        {
          "output_type": "stream",
          "text": [
            "___ batch index = 750 / 1836 (40.85%), loss = 0.3484, time = 26.09 seconds ___\n"
          ],
          "name": "stdout"
        },
        {
          "output_type": "stream",
          "text": [
            "___ batch index = 1000 / 1836 (54.47%), loss = 0.1955, time = 29.76 seconds ___\n"
          ],
          "name": "stdout"
        },
        {
          "output_type": "stream",
          "text": [
            "___ batch index = 1250 / 1836 (68.08%), loss = 0.1235, time = 27.01 seconds ___\n"
          ],
          "name": "stdout"
        },
        {
          "output_type": "stream",
          "text": [
            "___ batch index = 1500 / 1836 (81.70%), loss = 0.0844, time = 27.25 seconds ___\n"
          ],
          "name": "stdout"
        },
        {
          "output_type": "stream",
          "text": [
            "___ batch index = 1750 / 1836 (95.32%), loss = 0.0619, time = 29.73 seconds ___\n"
          ],
          "name": "stdout"
        },
        {
          "output_type": "stream",
          "text": [
            "\n",
            "*** avg_loss : 0.46, time : ~3.0 min (208.39 sec) ***\n",
            "\n"
          ],
          "name": "stdout"
        },
        {
          "output_type": "stream",
          "text": [
            "==> evaluation : avg_loss = 0.39, time : 28.59 sec\n",
            "\n",
            "threshold:  [0.04724392]\n",
            "=====>\t{'Positive Rate': array([0.11532125], dtype=float32), 'accuracy': 0.1696869851729819, 'f1': 0.2, 'recall': 0.9, 'specificity': 0.074487895716946, 'g_mean': 0.2589191112012619, 'default_accuracy': 0.8846787479406919, 'default_f1': 0.0, 'default_recall': 0.0, 'default_specificity': 1.0, 'default_g_mean': 0.0}\n",
            "\n",
            "=============== EPOCH 3 / 6 ===============\n",
            "\n"
          ],
          "name": "stdout"
        },
        {
          "output_type": "stream",
          "text": [
            "___ batch index = 0 / 1836 (0.00%), loss = 0.0593, time = 0.07 seconds ___\n"
          ],
          "name": "stdout"
        },
        {
          "output_type": "stream",
          "text": [
            "___ batch index = 250 / 1836 (13.62%), loss = 0.6419, time = 29.07 seconds ___\n"
          ],
          "name": "stdout"
        },
        {
          "output_type": "stream",
          "text": [
            "___ batch index = 500 / 1836 (27.23%), loss = 1.6816, time = 28.07 seconds ___\n"
          ],
          "name": "stdout"
        },
        {
          "output_type": "stream",
          "text": [
            "___ batch index = 750 / 1836 (40.85%), loss = 0.2225, time = 26.01 seconds ___\n"
          ],
          "name": "stdout"
        },
        {
          "output_type": "stream",
          "text": [
            "___ batch index = 1000 / 1836 (54.47%), loss = 0.1772, time = 29.77 seconds ___\n"
          ],
          "name": "stdout"
        },
        {
          "output_type": "stream",
          "text": [
            "___ batch index = 1250 / 1836 (68.08%), loss = 0.1315, time = 27.00 seconds ___\n"
          ],
          "name": "stdout"
        },
        {
          "output_type": "stream",
          "text": [
            "___ batch index = 1500 / 1836 (81.70%), loss = 0.0985, time = 27.24 seconds ___\n"
          ],
          "name": "stdout"
        },
        {
          "output_type": "stream",
          "text": [
            "___ batch index = 1750 / 1836 (95.32%), loss = 0.0808, time = 29.73 seconds ___\n"
          ],
          "name": "stdout"
        },
        {
          "output_type": "stream",
          "text": [
            "\n",
            "*** avg_loss : 0.41, time : ~3.0 min (208.25 sec) ***\n",
            "\n"
          ],
          "name": "stdout"
        },
        {
          "output_type": "stream",
          "text": [
            "==> evaluation : avg_loss = 0.38, time : 28.59 sec\n",
            "\n",
            "threshold:  [0.06217444]\n"
          ],
          "name": "stdout"
        },
        {
          "output_type": "stream",
          "text": [
            "=====>\t{'Positive Rate': array([0.11532125], dtype=float32), 'accuracy': 0.19439868204283361, 'f1': 0.20228384991843393, 'recall': 0.8857142857142857, 'specificity': 0.1042830540037244, 'g_mean': 0.3039160915269427, 'default_accuracy': 0.8846787479406919, 'default_f1': 0.0, 'default_recall': 0.0, 'default_specificity': 1.0, 'default_g_mean': 0.0}\n",
            "\n",
            "=============== EPOCH 4 / 6 ===============\n",
            "\n",
            "___ batch index = 0 / 1836 (0.00%), loss = 0.0708, time = 0.08 seconds ___\n"
          ],
          "name": "stdout"
        },
        {
          "output_type": "stream",
          "text": [
            "___ batch index = 250 / 1836 (13.62%), loss = 0.5946, time = 29.07 seconds ___\n"
          ],
          "name": "stdout"
        },
        {
          "output_type": "stream",
          "text": [
            "___ batch index = 500 / 1836 (27.23%), loss = 1.7410, time = 28.05 seconds ___\n"
          ],
          "name": "stdout"
        },
        {
          "output_type": "stream",
          "text": [
            "___ batch index = 750 / 1836 (40.85%), loss = 0.1968, time = 26.10 seconds ___\n"
          ],
          "name": "stdout"
        },
        {
          "output_type": "stream",
          "text": [
            "___ batch index = 1000 / 1836 (54.47%), loss = 0.1718, time = 29.78 seconds ___\n"
          ],
          "name": "stdout"
        },
        {
          "output_type": "stream",
          "text": [
            "___ batch index = 1250 / 1836 (68.08%), loss = 0.1324, time = 27.00 seconds ___\n"
          ],
          "name": "stdout"
        },
        {
          "output_type": "stream",
          "text": [
            "___ batch index = 1500 / 1836 (81.70%), loss = 0.0997, time = 27.24 seconds ___\n"
          ],
          "name": "stdout"
        },
        {
          "output_type": "stream",
          "text": [
            "___ batch index = 1750 / 1836 (95.32%), loss = 0.0862, time = 29.74 seconds ___\n"
          ],
          "name": "stdout"
        },
        {
          "output_type": "stream",
          "text": [
            "\n",
            "*** avg_loss : 0.40, time : ~3.0 min (208.40 sec) ***\n",
            "\n"
          ],
          "name": "stdout"
        },
        {
          "output_type": "stream",
          "text": [
            "==> evaluation : avg_loss = 0.37, time : 28.60 sec\n",
            "\n",
            "threshold:  [0.06604634]\n",
            "=====>\t{'Positive Rate': array([0.11532125], dtype=float32), 'accuracy': 0.19110378912685339, 'f1': 0.19376026272577995, 'recall': 0.8428571428571429, 'specificity': 0.10614525139664804, 'g_mean': 0.2991074778738103, 'default_accuracy': 0.8846787479406919, 'default_f1': 0.0, 'default_recall': 0.0, 'default_specificity': 1.0, 'default_g_mean': 0.0}\n",
            "\n",
            "=============== EPOCH 5 / 6 ===============\n",
            "\n",
            "___ batch index = 0 / 1836 (0.00%), loss = 0.0846, time = 0.07 seconds ___\n"
          ],
          "name": "stdout"
        },
        {
          "output_type": "stream",
          "text": [
            "___ batch index = 250 / 1836 (13.62%), loss = 0.5824, time = 29.15 seconds ___\n"
          ],
          "name": "stdout"
        },
        {
          "output_type": "stream",
          "text": [
            "___ batch index = 500 / 1836 (27.23%), loss = 1.7437, time = 28.15 seconds ___\n"
          ],
          "name": "stdout"
        },
        {
          "output_type": "stream",
          "text": [
            "___ batch index = 750 / 1836 (40.85%), loss = 0.1913, time = 26.09 seconds ___\n"
          ],
          "name": "stdout"
        },
        {
          "output_type": "stream",
          "text": [
            "___ batch index = 1000 / 1836 (54.47%), loss = 0.1682, time = 29.86 seconds ___\n"
          ],
          "name": "stdout"
        },
        {
          "output_type": "stream",
          "text": [
            "___ batch index = 1250 / 1836 (68.08%), loss = 0.1345, time = 27.09 seconds ___\n"
          ],
          "name": "stdout"
        },
        {
          "output_type": "stream",
          "text": [
            "___ batch index = 1500 / 1836 (81.70%), loss = 0.1037, time = 27.33 seconds ___\n"
          ],
          "name": "stdout"
        },
        {
          "output_type": "stream",
          "text": [
            "___ batch index = 1750 / 1836 (95.32%), loss = 0.0871, time = 29.81 seconds ___\n"
          ],
          "name": "stdout"
        },
        {
          "output_type": "stream",
          "text": [
            "\n",
            "*** avg_loss : 0.40, time : ~3.0 min (208.89 sec) ***\n",
            "\n"
          ],
          "name": "stdout"
        },
        {
          "output_type": "stream",
          "text": [
            "==> evaluation : avg_loss = 0.37, time : 28.73 sec\n",
            "\n",
            "threshold:  [0.06800649]\n",
            "=====>\t{'Positive Rate': array([0.11532125], dtype=float32), 'accuracy': 0.1927512355848435, 'f1': 0.19407894736842107, 'recall': 0.8428571428571429, 'specificity': 0.10800744878957169, 'g_mean': 0.3017198198562162, 'default_accuracy': 0.8846787479406919, 'default_f1': 0.0, 'default_recall': 0.0, 'default_specificity': 1.0, 'default_g_mean': 0.0}\n",
            "\n",
            "=============== EPOCH 6 / 6 ===============\n",
            "\n",
            "___ batch index = 0 / 1836 (0.00%), loss = 0.0846, time = 0.07 seconds ___\n"
          ],
          "name": "stdout"
        },
        {
          "output_type": "stream",
          "text": [
            "___ batch index = 250 / 1836 (13.62%), loss = 0.5776, time = 29.16 seconds ___\n"
          ],
          "name": "stdout"
        },
        {
          "output_type": "stream",
          "text": [
            "___ batch index = 500 / 1836 (27.23%), loss = 1.7426, time = 28.15 seconds ___\n"
          ],
          "name": "stdout"
        },
        {
          "output_type": "stream",
          "text": [
            "___ batch index = 750 / 1836 (40.85%), loss = 0.1882, time = 26.11 seconds ___\n"
          ],
          "name": "stdout"
        },
        {
          "output_type": "stream",
          "text": [
            "___ batch index = 1000 / 1836 (54.47%), loss = 0.1654, time = 29.86 seconds ___\n"
          ],
          "name": "stdout"
        },
        {
          "output_type": "stream",
          "text": [
            "___ batch index = 1250 / 1836 (68.08%), loss = 0.1338, time = 27.09 seconds ___\n"
          ],
          "name": "stdout"
        },
        {
          "output_type": "stream",
          "text": [
            "___ batch index = 1500 / 1836 (81.70%), loss = 0.1078, time = 27.33 seconds ___\n"
          ],
          "name": "stdout"
        },
        {
          "output_type": "stream",
          "text": [
            "___ batch index = 1750 / 1836 (95.32%), loss = 0.0913, time = 29.82 seconds ___\n"
          ],
          "name": "stdout"
        },
        {
          "output_type": "stream",
          "text": [
            "\n",
            "*** avg_loss : 0.39, time : ~3.0 min (208.93 sec) ***\n",
            "\n"
          ],
          "name": "stdout"
        },
        {
          "output_type": "stream",
          "text": [
            "==> evaluation : avg_loss = 0.37, time : 28.73 sec\n",
            "\n",
            "threshold:  [0.06947395]\n",
            "=====>\t{'Positive Rate': array([0.11532125], dtype=float32), 'accuracy': 0.1927512355848435, 'f1': 0.19407894736842107, 'recall': 0.8428571428571429, 'specificity': 0.10800744878957169, 'g_mean': 0.3017198198562162, 'default_accuracy': 0.8846787479406919, 'default_f1': 0.0, 'default_recall': 0.0, 'default_specificity': 1.0, 'default_g_mean': 0.0}\n"
          ],
          "name": "stdout"
        },
        {
          "output_type": "stream",
          "text": [
            "@@@@@@@@@@@@@@@@@@@@@@@@@@@@@@@@@@@@@@@@@@@@@ END @@@@@@@@@@@@@@@@@@@@@@@@@@@@@@@@@@@@@@@@@@@@@@@\n",
            "#################################################### Para label:  Hacer a la familia partícipe del proceso  (3) ##############\n",
            "------------------------------------------- exp: 1*1e-6 -----------------------------------------\n"
          ],
          "name": "stdout"
        },
        {
          "output_type": "stream",
          "text": [
            "Some weights of BertModel were not initialized from the model checkpoint at dccuchile/bert-base-spanish-wwm-cased and are newly initialized: ['bert.pooler.dense.weight', 'bert.pooler.dense.bias']\n",
            "You should probably TRAIN this model on a down-stream task to be able to use it for predictions and inference.\n"
          ],
          "name": "stderr"
        },
        {
          "output_type": "stream",
          "text": [
            "\n",
            "=============== EPOCH 1 / 6 ===============\n",
            "\n",
            "___ batch index = 0 / 1836 (0.00%), loss = 0.6185, time = 0.09 seconds ___\n"
          ],
          "name": "stdout"
        },
        {
          "output_type": "stream",
          "text": [
            "___ batch index = 250 / 1836 (13.62%), loss = 0.6733, time = 29.19 seconds ___\n"
          ],
          "name": "stdout"
        },
        {
          "output_type": "stream",
          "text": [
            "___ batch index = 500 / 1836 (27.23%), loss = 0.6452, time = 28.16 seconds ___\n"
          ],
          "name": "stdout"
        },
        {
          "output_type": "stream",
          "text": [
            "___ batch index = 750 / 1836 (40.85%), loss = 0.5398, time = 26.14 seconds ___\n"
          ],
          "name": "stdout"
        },
        {
          "output_type": "stream",
          "text": [
            "___ batch index = 1000 / 1836 (54.47%), loss = 0.7969, time = 29.87 seconds ___\n"
          ],
          "name": "stdout"
        },
        {
          "output_type": "stream",
          "text": [
            "___ batch index = 1250 / 1836 (68.08%), loss = 0.5574, time = 27.09 seconds ___\n"
          ],
          "name": "stdout"
        },
        {
          "output_type": "stream",
          "text": [
            "___ batch index = 1500 / 1836 (81.70%), loss = 0.4713, time = 27.33 seconds ___\n"
          ],
          "name": "stdout"
        },
        {
          "output_type": "stream",
          "text": [
            "___ batch index = 1750 / 1836 (95.32%), loss = 0.3770, time = 29.82 seconds ___\n"
          ],
          "name": "stdout"
        },
        {
          "output_type": "stream",
          "text": [
            "\n",
            "*** avg_loss : 0.64, time : ~3.0 min (209.07 sec) ***\n",
            "\n"
          ],
          "name": "stdout"
        },
        {
          "output_type": "stream",
          "text": [
            "==> evaluation : avg_loss = 0.64, time : 28.73 sec\n",
            "\n"
          ],
          "name": "stdout"
        },
        {
          "output_type": "stream",
          "text": [
            "threshold:  [0.7307405]\n",
            "=====>\t{'Positive Rate': array([0.67545307], dtype=float32), 'accuracy': 0.45634266886326197, 'f1': 0.45544554455445546, 'recall': 0.33658536585365856, 'specificity': 0.7055837563451777, 'g_mean': 0.4873286024540734, 'default_accuracy': 0.6754530477759473, 'default_f1': 0.8062930186823992, 'default_recall': 1.0, 'default_specificity': 0.0, 'default_g_mean': 0.0}\n",
            "\n",
            "=============== EPOCH 2 / 6 ===============\n",
            "\n",
            "___ batch index = 0 / 1836 (0.00%), loss = 1.2630, time = 0.08 seconds ___\n"
          ],
          "name": "stdout"
        },
        {
          "output_type": "stream",
          "text": [
            "___ batch index = 250 / 1836 (13.62%), loss = 0.6084, time = 29.17 seconds ___\n"
          ],
          "name": "stdout"
        },
        {
          "output_type": "stream",
          "text": [
            "___ batch index = 500 / 1836 (27.23%), loss = 0.6152, time = 28.16 seconds ___\n"
          ],
          "name": "stdout"
        },
        {
          "output_type": "stream",
          "text": [
            "___ batch index = 750 / 1836 (40.85%), loss = 0.5084, time = 26.21 seconds ___\n"
          ],
          "name": "stdout"
        },
        {
          "output_type": "stream",
          "text": [
            "___ batch index = 1000 / 1836 (54.47%), loss = 0.7962, time = 29.88 seconds ___\n"
          ],
          "name": "stdout"
        },
        {
          "output_type": "stream",
          "text": [
            "___ batch index = 1250 / 1836 (68.08%), loss = 0.5590, time = 27.11 seconds ___\n"
          ],
          "name": "stdout"
        },
        {
          "output_type": "stream",
          "text": [
            "___ batch index = 1500 / 1836 (81.70%), loss = 0.4767, time = 27.34 seconds ___\n"
          ],
          "name": "stdout"
        },
        {
          "output_type": "stream",
          "text": [
            "___ batch index = 1750 / 1836 (95.32%), loss = 0.3901, time = 29.83 seconds ___\n"
          ],
          "name": "stdout"
        },
        {
          "output_type": "stream",
          "text": [
            "\n",
            "*** avg_loss : 0.64, time : ~3.0 min (209.16 sec) ***\n",
            "\n"
          ],
          "name": "stdout"
        },
        {
          "output_type": "stream",
          "text": [
            "==> evaluation : avg_loss = 0.63, time : 28.73 sec\n",
            "\n"
          ],
          "name": "stdout"
        },
        {
          "output_type": "stream",
          "text": [
            "threshold:  [0.71845293]\n",
            "=====>\t{'Positive Rate': array([0.67545307], dtype=float32), 'accuracy': 0.4546952224052718, 'f1': 0.45289256198347105, 'recall': 0.33414634146341465, 'specificity': 0.7055837563451777, 'g_mean': 0.48555970876788623, 'default_accuracy': 0.6754530477759473, 'default_f1': 0.8062930186823992, 'default_recall': 1.0, 'default_specificity': 0.0, 'default_g_mean': 0.0}\n",
            "\n",
            "=============== EPOCH 3 / 6 ===============\n",
            "\n",
            "___ batch index = 0 / 1836 (0.00%), loss = 1.2746, time = 0.07 seconds ___\n"
          ],
          "name": "stdout"
        },
        {
          "output_type": "stream",
          "text": [
            "___ batch index = 250 / 1836 (13.62%), loss = 0.6052, time = 29.17 seconds ___\n"
          ],
          "name": "stdout"
        },
        {
          "output_type": "stream",
          "text": [
            "___ batch index = 500 / 1836 (27.23%), loss = 0.6165, time = 28.17 seconds ___\n"
          ],
          "name": "stdout"
        },
        {
          "output_type": "stream",
          "text": [
            "___ batch index = 750 / 1836 (40.85%), loss = 0.4947, time = 26.12 seconds ___\n"
          ],
          "name": "stdout"
        },
        {
          "output_type": "stream",
          "text": [
            "___ batch index = 1000 / 1836 (54.47%), loss = 0.8074, time = 29.88 seconds ___\n"
          ],
          "name": "stdout"
        },
        {
          "output_type": "stream",
          "text": [
            "___ batch index = 1250 / 1836 (68.08%), loss = 0.5616, time = 27.10 seconds ___\n"
          ],
          "name": "stdout"
        },
        {
          "output_type": "stream",
          "text": [
            "___ batch index = 1500 / 1836 (81.70%), loss = 0.4720, time = 27.35 seconds ___\n"
          ],
          "name": "stdout"
        },
        {
          "output_type": "stream",
          "text": [
            "___ batch index = 1750 / 1836 (95.32%), loss = 0.3930, time = 29.83 seconds ___\n"
          ],
          "name": "stdout"
        },
        {
          "output_type": "stream",
          "text": [
            "\n",
            "*** avg_loss : 0.64, time : ~3.0 min (209.05 sec) ***\n",
            "\n"
          ],
          "name": "stdout"
        },
        {
          "output_type": "stream",
          "text": [
            "==> evaluation : avg_loss = 0.63, time : 28.75 sec\n",
            "\n"
          ],
          "name": "stdout"
        },
        {
          "output_type": "stream",
          "text": [
            "threshold:  [0.71618813]\n",
            "=====>\t{'Positive Rate': array([0.67545307], dtype=float32), 'accuracy': 0.45634266886326197, 'f1': 0.45364238410596036, 'recall': 0.33414634146341465, 'specificity': 0.7106598984771574, 'g_mean': 0.4873031962761006, 'default_accuracy': 0.6754530477759473, 'default_f1': 0.8062930186823992, 'default_recall': 1.0, 'default_specificity': 0.0, 'default_g_mean': 0.0}\n",
            "\n",
            "=============== EPOCH 4 / 6 ===============\n",
            "\n",
            "___ batch index = 0 / 1836 (0.00%), loss = 1.3354, time = 0.07 seconds ___\n"
          ],
          "name": "stdout"
        },
        {
          "output_type": "stream",
          "text": [
            "___ batch index = 250 / 1836 (13.62%), loss = 0.6053, time = 29.16 seconds ___\n"
          ],
          "name": "stdout"
        },
        {
          "output_type": "stream",
          "text": [
            "___ batch index = 500 / 1836 (27.23%), loss = 0.6204, time = 28.16 seconds ___\n"
          ],
          "name": "stdout"
        },
        {
          "output_type": "stream",
          "text": [
            "___ batch index = 750 / 1836 (40.85%), loss = 0.4784, time = 26.11 seconds ___\n"
          ],
          "name": "stdout"
        },
        {
          "output_type": "stream",
          "text": [
            "___ batch index = 1000 / 1836 (54.47%), loss = 0.7942, time = 29.87 seconds ___\n"
          ],
          "name": "stdout"
        },
        {
          "output_type": "stream",
          "text": [
            "___ batch index = 1250 / 1836 (68.08%), loss = 0.5584, time = 27.10 seconds ___\n"
          ],
          "name": "stdout"
        },
        {
          "output_type": "stream",
          "text": [
            "___ batch index = 1500 / 1836 (81.70%), loss = 0.4912, time = 27.33 seconds ___\n"
          ],
          "name": "stdout"
        },
        {
          "output_type": "stream",
          "text": [
            "___ batch index = 1750 / 1836 (95.32%), loss = 0.3992, time = 29.82 seconds ___\n"
          ],
          "name": "stdout"
        },
        {
          "output_type": "stream",
          "text": [
            "\n",
            "*** avg_loss : 0.63, time : ~3.0 min (208.96 sec) ***\n",
            "\n"
          ],
          "name": "stdout"
        },
        {
          "output_type": "stream",
          "text": [
            "==> evaluation : avg_loss = 0.63, time : 28.75 sec\n",
            "\n"
          ],
          "name": "stdout"
        },
        {
          "output_type": "stream",
          "text": [
            "threshold:  [0.71684635]\n",
            "=====>\t{'Positive Rate': array([0.67545307], dtype=float32), 'accuracy': 0.4514003294892916, 'f1': 0.44776119402985076, 'recall': 0.32926829268292684, 'specificity': 0.7055837563451777, 'g_mean': 0.4820024468782113, 'default_accuracy': 0.6754530477759473, 'default_f1': 0.8062930186823992, 'default_recall': 1.0, 'default_specificity': 0.0, 'default_g_mean': 0.0}\n",
            "\n",
            "=============== EPOCH 5 / 6 ===============\n",
            "\n",
            "___ batch index = 0 / 1836 (0.00%), loss = 1.2872, time = 0.07 seconds ___\n"
          ],
          "name": "stdout"
        },
        {
          "output_type": "stream",
          "text": [
            "___ batch index = 250 / 1836 (13.62%), loss = 0.5982, time = 29.16 seconds ___\n"
          ],
          "name": "stdout"
        },
        {
          "output_type": "stream",
          "text": [
            "___ batch index = 500 / 1836 (27.23%), loss = 0.6271, time = 28.16 seconds ___\n"
          ],
          "name": "stdout"
        },
        {
          "output_type": "stream",
          "text": [
            "___ batch index = 750 / 1836 (40.85%), loss = 0.4765, time = 26.11 seconds ___\n"
          ],
          "name": "stdout"
        },
        {
          "output_type": "stream",
          "text": [
            "___ batch index = 1000 / 1836 (54.47%), loss = 0.8008, time = 29.87 seconds ___\n"
          ],
          "name": "stdout"
        },
        {
          "output_type": "stream",
          "text": [
            "___ batch index = 1250 / 1836 (68.08%), loss = 0.5520, time = 27.10 seconds ___\n"
          ],
          "name": "stdout"
        },
        {
          "output_type": "stream",
          "text": [
            "___ batch index = 1500 / 1836 (81.70%), loss = 0.4806, time = 27.34 seconds ___\n"
          ],
          "name": "stdout"
        },
        {
          "output_type": "stream",
          "text": [
            "___ batch index = 1750 / 1836 (95.32%), loss = 0.4009, time = 29.83 seconds ___\n"
          ],
          "name": "stdout"
        },
        {
          "output_type": "stream",
          "text": [
            "\n",
            "*** avg_loss : 0.63, time : ~3.0 min (208.99 sec) ***\n",
            "\n"
          ],
          "name": "stdout"
        },
        {
          "output_type": "stream",
          "text": [
            "==> evaluation : avg_loss = 0.63, time : 28.75 sec\n",
            "\n"
          ],
          "name": "stdout"
        },
        {
          "output_type": "stream",
          "text": [
            "threshold:  [0.7169265]\n",
            "=====>\t{'Positive Rate': array([0.67545307], dtype=float32), 'accuracy': 0.43986820428336076, 'f1': 0.438943894389439, 'recall': 0.32439024390243903, 'specificity': 0.6802030456852792, 'g_mean': 0.46973527852720365, 'default_accuracy': 0.6754530477759473, 'default_f1': 0.8062930186823992, 'default_recall': 1.0, 'default_specificity': 0.0, 'default_g_mean': 0.0}\n",
            "\n",
            "=============== EPOCH 6 / 6 ===============\n",
            "\n",
            "___ batch index = 0 / 1836 (0.00%), loss = 1.3195, time = 0.07 seconds ___\n"
          ],
          "name": "stdout"
        },
        {
          "output_type": "stream",
          "text": [
            "___ batch index = 250 / 1836 (13.62%), loss = 0.5972, time = 29.16 seconds ___\n"
          ],
          "name": "stdout"
        },
        {
          "output_type": "stream",
          "text": [
            "___ batch index = 500 / 1836 (27.23%), loss = 0.6200, time = 28.17 seconds ___\n"
          ],
          "name": "stdout"
        },
        {
          "output_type": "stream",
          "text": [
            "___ batch index = 750 / 1836 (40.85%), loss = 0.4824, time = 26.12 seconds ___\n"
          ],
          "name": "stdout"
        },
        {
          "output_type": "stream",
          "text": [
            "___ batch index = 1000 / 1836 (54.47%), loss = 0.8004, time = 29.87 seconds ___\n"
          ],
          "name": "stdout"
        },
        {
          "output_type": "stream",
          "text": [
            "___ batch index = 1250 / 1836 (68.08%), loss = 0.5516, time = 27.10 seconds ___\n"
          ],
          "name": "stdout"
        },
        {
          "output_type": "stream",
          "text": [
            "___ batch index = 1500 / 1836 (81.70%), loss = 0.4829, time = 27.34 seconds ___\n"
          ],
          "name": "stdout"
        },
        {
          "output_type": "stream",
          "text": [
            "___ batch index = 1750 / 1836 (95.32%), loss = 0.4029, time = 29.83 seconds ___\n"
          ],
          "name": "stdout"
        },
        {
          "output_type": "stream",
          "text": [
            "\n",
            "*** avg_loss : 0.63, time : ~3.0 min (209.00 sec) ***\n",
            "\n"
          ],
          "name": "stdout"
        },
        {
          "output_type": "stream",
          "text": [
            "==> evaluation : avg_loss = 0.63, time : 28.75 sec\n",
            "\n"
          ],
          "name": "stdout"
        },
        {
          "output_type": "stream",
          "text": [
            "threshold:  [0.7179467]\n",
            "=====>\t{'Positive Rate': array([0.67545307], dtype=float32), 'accuracy': 0.4415156507413509, 'f1': 0.4396694214876033, 'recall': 0.32439024390243903, 'specificity': 0.6852791878172588, 'g_mean': 0.4714847642048531, 'default_accuracy': 0.6754530477759473, 'default_f1': 0.8062930186823992, 'default_recall': 1.0, 'default_specificity': 0.0, 'default_g_mean': 0.0}\n"
          ],
          "name": "stdout"
        },
        {
          "output_type": "stream",
          "text": [
            "@@@@@@@@@@@@@@@@@@@@@@@@@@@@@@@@@@@@@@@@@@@@@ END @@@@@@@@@@@@@@@@@@@@@@@@@@@@@@@@@@@@@@@@@@@@@@@\n",
            "#################################################### Para label:  Apoyo psicóloga(o)  (4) ##############\n",
            "------------------------------------------- exp: 5*1e-6 -----------------------------------------\n"
          ],
          "name": "stdout"
        },
        {
          "output_type": "stream",
          "text": [
            "Some weights of BertModel were not initialized from the model checkpoint at dccuchile/bert-base-spanish-wwm-cased and are newly initialized: ['bert.pooler.dense.weight', 'bert.pooler.dense.bias']\n",
            "You should probably TRAIN this model on a down-stream task to be able to use it for predictions and inference.\n"
          ],
          "name": "stderr"
        },
        {
          "output_type": "stream",
          "text": [
            "\n",
            "=============== EPOCH 1 / 6 ===============\n",
            "\n",
            "___ batch index = 0 / 1836 (0.00%), loss = 0.8093, time = 0.08 seconds ___\n"
          ],
          "name": "stdout"
        },
        {
          "output_type": "stream",
          "text": [
            "___ batch index = 250 / 1836 (13.62%), loss = 0.2268, time = 29.16 seconds ___\n"
          ],
          "name": "stdout"
        },
        {
          "output_type": "stream",
          "text": [
            "___ batch index = 500 / 1836 (27.23%), loss = 0.9728, time = 28.13 seconds ___\n"
          ],
          "name": "stdout"
        },
        {
          "output_type": "stream",
          "text": [
            "___ batch index = 750 / 1836 (40.85%), loss = 1.4735, time = 26.12 seconds ___\n"
          ],
          "name": "stdout"
        },
        {
          "output_type": "stream",
          "text": [
            "___ batch index = 1000 / 1836 (54.47%), loss = 1.0450, time = 29.84 seconds ___\n"
          ],
          "name": "stdout"
        },
        {
          "output_type": "stream",
          "text": [
            "___ batch index = 1250 / 1836 (68.08%), loss = 0.5695, time = 27.07 seconds ___\n"
          ],
          "name": "stdout"
        },
        {
          "output_type": "stream",
          "text": [
            "___ batch index = 1500 / 1836 (81.70%), loss = 0.2293, time = 27.31 seconds ___\n"
          ],
          "name": "stdout"
        },
        {
          "output_type": "stream",
          "text": [
            "___ batch index = 1750 / 1836 (95.32%), loss = 0.0749, time = 29.80 seconds ___\n"
          ],
          "name": "stdout"
        },
        {
          "output_type": "stream",
          "text": [
            "\n",
            "*** avg_loss : 0.55, time : ~3.0 min (208.89 sec) ***\n",
            "\n"
          ],
          "name": "stdout"
        },
        {
          "output_type": "stream",
          "text": [
            "==> evaluation : avg_loss = 0.63, time : 28.74 sec\n",
            "\n"
          ],
          "name": "stdout"
        },
        {
          "output_type": "stream",
          "text": [
            "threshold:  [0.0415308]\n",
            "=====>\t{'Positive Rate': array([0.19439869], dtype=float32), 'accuracy': 0.30971993410214166, 'f1': 0.3119868637110016, 'recall': 0.8050847457627118, 'specificity': 0.1901840490797546, 'g_mean': 0.3912981942221269, 'default_accuracy': 0.8056013179571664, 'default_f1': 0.0, 'default_recall': 0.0, 'default_specificity': 1.0, 'default_g_mean': 0.0}\n",
            "\n",
            "=============== EPOCH 2 / 6 ===============\n",
            "\n",
            "___ batch index = 0 / 1836 (0.00%), loss = 0.0676, time = 0.08 seconds ___\n"
          ],
          "name": "stdout"
        },
        {
          "output_type": "stream",
          "text": [
            "___ batch index = 250 / 1836 (13.62%), loss = 0.0904, time = 29.17 seconds ___\n"
          ],
          "name": "stdout"
        },
        {
          "output_type": "stream",
          "text": [
            "___ batch index = 500 / 1836 (27.23%), loss = 0.8818, time = 28.15 seconds ___\n"
          ],
          "name": "stdout"
        },
        {
          "output_type": "stream",
          "text": [
            "___ batch index = 750 / 1836 (40.85%), loss = 1.2450, time = 26.19 seconds ___\n"
          ],
          "name": "stdout"
        },
        {
          "output_type": "stream",
          "text": [
            "___ batch index = 1000 / 1836 (54.47%), loss = 1.8098, time = 29.87 seconds ___\n"
          ],
          "name": "stdout"
        },
        {
          "output_type": "stream",
          "text": [
            "___ batch index = 1250 / 1836 (68.08%), loss = 0.1508, time = 27.09 seconds ___\n"
          ],
          "name": "stdout"
        },
        {
          "output_type": "stream",
          "text": [
            "___ batch index = 1500 / 1836 (81.70%), loss = 0.0771, time = 27.33 seconds ___\n"
          ],
          "name": "stdout"
        },
        {
          "output_type": "stream",
          "text": [
            "___ batch index = 1750 / 1836 (95.32%), loss = 0.0350, time = 29.82 seconds ___\n"
          ],
          "name": "stdout"
        },
        {
          "output_type": "stream",
          "text": [
            "\n",
            "*** avg_loss : 0.46, time : ~3.0 min (209.08 sec) ***\n",
            "\n"
          ],
          "name": "stdout"
        },
        {
          "output_type": "stream",
          "text": [
            "==> evaluation : avg_loss = 0.74, time : 28.73 sec\n",
            "\n"
          ],
          "name": "stdout"
        },
        {
          "output_type": "stream",
          "text": [
            "threshold:  [0.02138329]\n",
            "=====>\t{'Positive Rate': array([0.19439869], dtype=float32), 'accuracy': 0.22240527182866557, 'f1': 0.3237822349570201, 'recall': 0.9576271186440678, 'specificity': 0.044989775051124746, 'g_mean': 0.20756548039270248, 'default_accuracy': 0.8056013179571664, 'default_f1': 0.0, 'default_recall': 0.0, 'default_specificity': 1.0, 'default_g_mean': 0.0}\n",
            "\n",
            "=============== EPOCH 3 / 6 ===============\n",
            "\n",
            "___ batch index = 0 / 1836 (0.00%), loss = 0.0259, time = 0.07 seconds ___\n"
          ],
          "name": "stdout"
        },
        {
          "output_type": "stream",
          "text": [
            "___ batch index = 250 / 1836 (13.62%), loss = 0.1227, time = 29.16 seconds ___\n"
          ],
          "name": "stdout"
        },
        {
          "output_type": "stream",
          "text": [
            "___ batch index = 500 / 1836 (27.23%), loss = 0.8434, time = 28.15 seconds ___\n"
          ],
          "name": "stdout"
        },
        {
          "output_type": "stream",
          "text": [
            "___ batch index = 750 / 1836 (40.85%), loss = 1.1125, time = 26.09 seconds ___\n"
          ],
          "name": "stdout"
        },
        {
          "output_type": "stream",
          "text": [
            "___ batch index = 1000 / 1836 (54.47%), loss = 1.8339, time = 29.85 seconds ___\n"
          ],
          "name": "stdout"
        },
        {
          "output_type": "stream",
          "text": [
            "___ batch index = 1250 / 1836 (68.08%), loss = 0.2754, time = 27.09 seconds ___\n"
          ],
          "name": "stdout"
        },
        {
          "output_type": "stream",
          "text": [
            "___ batch index = 1500 / 1836 (81.70%), loss = 0.0850, time = 27.32 seconds ___\n"
          ],
          "name": "stdout"
        },
        {
          "output_type": "stream",
          "text": [
            "___ batch index = 1750 / 1836 (95.32%), loss = 0.0411, time = 29.81 seconds ___\n"
          ],
          "name": "stdout"
        },
        {
          "output_type": "stream",
          "text": [
            "\n",
            "*** avg_loss : 0.49, time : ~3.0 min (208.89 sec) ***\n",
            "\n"
          ],
          "name": "stdout"
        },
        {
          "output_type": "stream",
          "text": [
            "==> evaluation : avg_loss = 0.72, time : 28.72 sec\n",
            "\n"
          ],
          "name": "stdout"
        },
        {
          "output_type": "stream",
          "text": [
            "threshold:  [0.02499915]\n",
            "=====>\t{'Positive Rate': array([0.19439869], dtype=float32), 'accuracy': 0.20098846787479407, 'f1': 0.3273231622746186, 'recall': 1.0, 'specificity': 0.0081799591002045, 'g_mean': 0.09044312632922692, 'default_accuracy': 0.8056013179571664, 'default_f1': 0.0, 'default_recall': 0.0, 'default_specificity': 1.0, 'default_g_mean': 0.0}\n",
            "\n",
            "=============== EPOCH 4 / 6 ===============\n",
            "\n",
            "___ batch index = 0 / 1836 (0.00%), loss = 0.0334, time = 0.07 seconds ___\n"
          ],
          "name": "stdout"
        },
        {
          "output_type": "stream",
          "text": [
            "___ batch index = 250 / 1836 (13.62%), loss = 0.0926, time = 29.12 seconds ___\n"
          ],
          "name": "stdout"
        },
        {
          "output_type": "stream",
          "text": [
            "___ batch index = 500 / 1836 (27.23%), loss = 0.8388, time = 28.07 seconds ___\n"
          ],
          "name": "stdout"
        },
        {
          "output_type": "stream",
          "text": [
            "___ batch index = 750 / 1836 (40.85%), loss = 1.2431, time = 26.01 seconds ___\n"
          ],
          "name": "stdout"
        },
        {
          "output_type": "stream",
          "text": [
            "___ batch index = 1000 / 1836 (54.47%), loss = 1.5037, time = 29.77 seconds ___\n"
          ],
          "name": "stdout"
        },
        {
          "output_type": "stream",
          "text": [
            "___ batch index = 1250 / 1836 (68.08%), loss = 0.2194, time = 27.00 seconds ___\n"
          ],
          "name": "stdout"
        },
        {
          "output_type": "stream",
          "text": [
            "___ batch index = 1500 / 1836 (81.70%), loss = 0.0809, time = 27.24 seconds ___\n"
          ],
          "name": "stdout"
        },
        {
          "output_type": "stream",
          "text": [
            "___ batch index = 1750 / 1836 (95.32%), loss = 0.0406, time = 29.72 seconds ___\n"
          ],
          "name": "stdout"
        },
        {
          "output_type": "stream",
          "text": [
            "\n",
            "*** avg_loss : 0.48, time : ~3.0 min (208.33 sec) ***\n",
            "\n"
          ],
          "name": "stdout"
        },
        {
          "output_type": "stream",
          "text": [
            "==> evaluation : avg_loss = 0.73, time : 28.58 sec\n",
            "\n"
          ],
          "name": "stdout"
        },
        {
          "output_type": "stream",
          "text": [
            "threshold:  [0.02453712]\n",
            "=====>\t{'Positive Rate': array([0.19439869], dtype=float32), 'accuracy': 0.19769357495881384, 'f1': 0.326417704011065, 'recall': 1.0, 'specificity': 0.00408997955010225, 'g_mean': 0.06395294793910794, 'default_accuracy': 0.8056013179571664, 'default_f1': 0.0, 'default_recall': 0.0, 'default_specificity': 1.0, 'default_g_mean': 0.0}\n",
            "\n",
            "=============== EPOCH 5 / 6 ===============\n",
            "\n",
            "___ batch index = 0 / 1836 (0.00%), loss = 0.0314, time = 0.07 seconds ___\n"
          ],
          "name": "stdout"
        },
        {
          "output_type": "stream",
          "text": [
            "___ batch index = 250 / 1836 (13.62%), loss = 0.0530, time = 29.07 seconds ___\n"
          ],
          "name": "stdout"
        },
        {
          "output_type": "stream",
          "text": [
            "___ batch index = 500 / 1836 (27.23%), loss = 0.9519, time = 28.07 seconds ___\n"
          ],
          "name": "stdout"
        },
        {
          "output_type": "stream",
          "text": [
            "___ batch index = 750 / 1836 (40.85%), loss = 1.2790, time = 26.01 seconds ___\n"
          ],
          "name": "stdout"
        },
        {
          "output_type": "stream",
          "text": [
            "___ batch index = 1000 / 1836 (54.47%), loss = 0.9033, time = 29.79 seconds ___\n"
          ],
          "name": "stdout"
        },
        {
          "output_type": "stream",
          "text": [
            "___ batch index = 1250 / 1836 (68.08%), loss = 0.4857, time = 27.01 seconds ___\n"
          ],
          "name": "stdout"
        },
        {
          "output_type": "stream",
          "text": [
            "___ batch index = 1500 / 1836 (81.70%), loss = 0.2230, time = 27.25 seconds ___\n"
          ],
          "name": "stdout"
        },
        {
          "output_type": "stream",
          "text": [
            "___ batch index = 1750 / 1836 (95.32%), loss = 0.0988, time = 29.73 seconds ___\n"
          ],
          "name": "stdout"
        },
        {
          "output_type": "stream",
          "text": [
            "\n",
            "*** avg_loss : 0.52, time : ~3.0 min (208.32 sec) ***\n",
            "\n"
          ],
          "name": "stdout"
        },
        {
          "output_type": "stream",
          "text": [
            "==> evaluation : avg_loss = 0.58, time : 28.58 sec\n",
            "\n",
            "threshold:  [0.06494464]\n",
            "=====>\t{'Positive Rate': array([0.19439869], dtype=float32), 'accuracy': 0.19604612850082373, 'f1': 0.3259668508287293, 'recall': 1.0, 'specificity': 0.002044989775051125, 'g_mean': 0.04522156316461346, 'default_accuracy': 0.8056013179571664, 'default_f1': 0.0, 'default_recall': 0.0, 'default_specificity': 1.0, 'default_g_mean': 0.0}\n",
            "\n",
            "=============== EPOCH 6 / 6 ===============\n",
            "\n",
            "___ batch index = 0 / 1836 (0.00%), loss = 0.0756, time = 0.07 seconds ___\n"
          ],
          "name": "stdout"
        },
        {
          "output_type": "stream",
          "text": [
            "___ batch index = 250 / 1836 (13.62%), loss = 0.0951, time = 29.07 seconds ___\n"
          ],
          "name": "stdout"
        },
        {
          "output_type": "stream",
          "text": [
            "___ batch index = 500 / 1836 (27.23%), loss = 0.8844, time = 28.05 seconds ___\n"
          ],
          "name": "stdout"
        },
        {
          "output_type": "stream",
          "text": [
            "___ batch index = 750 / 1836 (40.85%), loss = 0.9945, time = 25.99 seconds ___\n"
          ],
          "name": "stdout"
        },
        {
          "output_type": "stream",
          "text": [
            "___ batch index = 1000 / 1836 (54.47%), loss = 1.6555, time = 29.76 seconds ___\n"
          ],
          "name": "stdout"
        },
        {
          "output_type": "stream",
          "text": [
            "___ batch index = 1250 / 1836 (68.08%), loss = 0.2845, time = 26.98 seconds ___\n"
          ],
          "name": "stdout"
        },
        {
          "output_type": "stream",
          "text": [
            "___ batch index = 1500 / 1836 (81.70%), loss = 0.0837, time = 27.23 seconds ___\n"
          ],
          "name": "stdout"
        },
        {
          "output_type": "stream",
          "text": [
            "___ batch index = 1750 / 1836 (95.32%), loss = 0.0461, time = 29.71 seconds ___\n"
          ],
          "name": "stdout"
        },
        {
          "output_type": "stream",
          "text": [
            "\n",
            "*** avg_loss : 0.46, time : ~3.0 min (208.18 sec) ***\n",
            "\n"
          ],
          "name": "stdout"
        },
        {
          "output_type": "stream",
          "text": [
            "==> evaluation : avg_loss = 0.70, time : 28.55 sec\n",
            "\n",
            "threshold:  [0.0301436]\n",
            "=====>\t{'Positive Rate': array([0.19439869], dtype=float32), 'accuracy': 0.19604612850082373, 'f1': 0.3259668508287293, 'recall': 1.0, 'specificity': 0.002044989775051125, 'g_mean': 0.04522156316461346, 'default_accuracy': 0.8056013179571664, 'default_f1': 0.0, 'default_recall': 0.0, 'default_specificity': 1.0, 'default_g_mean': 0.0}\n"
          ],
          "name": "stdout"
        },
        {
          "output_type": "stream",
          "text": [
            "@@@@@@@@@@@@@@@@@@@@@@@@@@@@@@@@@@@@@@@@@@@@@ END @@@@@@@@@@@@@@@@@@@@@@@@@@@@@@@@@@@@@@@@@@@@@@@\n",
            "#################################################### Para label:  Apoyo fonoaudióloga(o)  (5) ##############\n",
            "------------------------------------------- exp: 1*1e-6 -----------------------------------------\n"
          ],
          "name": "stdout"
        },
        {
          "output_type": "stream",
          "text": [
            "Some weights of BertModel were not initialized from the model checkpoint at dccuchile/bert-base-spanish-wwm-cased and are newly initialized: ['bert.pooler.dense.weight', 'bert.pooler.dense.bias']\n",
            "You should probably TRAIN this model on a down-stream task to be able to use it for predictions and inference.\n"
          ],
          "name": "stderr"
        },
        {
          "output_type": "stream",
          "text": [
            "\n",
            "=============== EPOCH 1 / 6 ===============\n",
            "\n",
            "___ batch index = 0 / 1836 (0.00%), loss = 0.7071, time = 0.08 seconds ___\n"
          ],
          "name": "stdout"
        },
        {
          "output_type": "stream",
          "text": [
            "___ batch index = 250 / 1836 (13.62%), loss = 0.5379, time = 29.08 seconds ___\n"
          ],
          "name": "stdout"
        },
        {
          "output_type": "stream",
          "text": [
            "___ batch index = 500 / 1836 (27.23%), loss = 0.6225, time = 28.03 seconds ___\n"
          ],
          "name": "stdout"
        },
        {
          "output_type": "stream",
          "text": [
            "___ batch index = 750 / 1836 (40.85%), loss = 0.4234, time = 26.02 seconds ___\n"
          ],
          "name": "stdout"
        },
        {
          "output_type": "stream",
          "text": [
            "___ batch index = 1000 / 1836 (54.47%), loss = 0.3695, time = 29.75 seconds ___\n"
          ],
          "name": "stdout"
        },
        {
          "output_type": "stream",
          "text": [
            "___ batch index = 1250 / 1836 (68.08%), loss = 0.2829, time = 26.98 seconds ___\n"
          ],
          "name": "stdout"
        },
        {
          "output_type": "stream",
          "text": [
            "___ batch index = 1500 / 1836 (81.70%), loss = 0.2092, time = 27.22 seconds ___\n"
          ],
          "name": "stdout"
        },
        {
          "output_type": "stream",
          "text": [
            "___ batch index = 1750 / 1836 (95.32%), loss = 0.1256, time = 29.70 seconds ___\n"
          ],
          "name": "stdout"
        },
        {
          "output_type": "stream",
          "text": [
            "\n",
            "*** avg_loss : 0.45, time : ~3.0 min (208.19 sec) ***\n",
            "\n"
          ],
          "name": "stdout"
        },
        {
          "output_type": "stream",
          "text": [
            "==> evaluation : avg_loss = 0.37, time : 28.56 sec\n",
            "\n"
          ],
          "name": "stdout"
        },
        {
          "output_type": "stream",
          "text": [
            "threshold:  [0.09019929]\n",
            "=====>\t{'Positive Rate': array([0.12520593], dtype=float32), 'accuracy': 0.2372322899505766, 'f1': 0.2397372742200328, 'recall': 0.9605263157894737, 'specificity': 0.1337099811676083, 'g_mean': 0.3583740442543275, 'default_accuracy': 0.8747940691927513, 'default_f1': 0.0, 'default_recall': 0.0, 'default_specificity': 1.0, 'default_g_mean': 0.0}\n",
            "\n",
            "=============== EPOCH 2 / 6 ===============\n",
            "\n",
            "___ batch index = 0 / 1836 (0.00%), loss = 0.1486, time = 0.08 seconds ___\n"
          ],
          "name": "stdout"
        },
        {
          "output_type": "stream",
          "text": [
            "___ batch index = 250 / 1836 (13.62%), loss = 0.1117, time = 29.05 seconds ___\n"
          ],
          "name": "stdout"
        },
        {
          "output_type": "stream",
          "text": [
            "___ batch index = 500 / 1836 (27.23%), loss = 0.7857, time = 28.04 seconds ___\n"
          ],
          "name": "stdout"
        },
        {
          "output_type": "stream",
          "text": [
            "___ batch index = 750 / 1836 (40.85%), loss = 0.2345, time = 26.08 seconds ___\n"
          ],
          "name": "stdout"
        },
        {
          "output_type": "stream",
          "text": [
            "___ batch index = 1000 / 1836 (54.47%), loss = 0.2091, time = 29.75 seconds ___\n"
          ],
          "name": "stdout"
        },
        {
          "output_type": "stream",
          "text": [
            "___ batch index = 1250 / 1836 (68.08%), loss = 0.1754, time = 26.99 seconds ___\n"
          ],
          "name": "stdout"
        },
        {
          "output_type": "stream",
          "text": [
            "___ batch index = 1500 / 1836 (81.70%), loss = 0.1479, time = 27.24 seconds ___\n"
          ],
          "name": "stdout"
        },
        {
          "output_type": "stream",
          "text": [
            "___ batch index = 1750 / 1836 (95.32%), loss = 0.0971, time = 29.73 seconds ___\n"
          ],
          "name": "stdout"
        },
        {
          "output_type": "stream",
          "text": [
            "\n",
            "*** avg_loss : 0.40, time : ~3.0 min (208.31 sec) ***\n",
            "\n"
          ],
          "name": "stdout"
        },
        {
          "output_type": "stream",
          "text": [
            "==> evaluation : avg_loss = 0.37, time : 28.58 sec\n",
            "\n"
          ],
          "name": "stdout"
        },
        {
          "output_type": "stream",
          "text": [
            "threshold:  [0.07335423]\n",
            "=====>\t{'Positive Rate': array([0.12520593], dtype=float32), 'accuracy': 0.2372322899505766, 'f1': 0.2397372742200328, 'recall': 0.9605263157894737, 'specificity': 0.1337099811676083, 'g_mean': 0.3583740442543275, 'default_accuracy': 0.8747940691927513, 'default_f1': 0.0, 'default_recall': 0.0, 'default_specificity': 1.0, 'default_g_mean': 0.0}\n",
            "\n",
            "=============== EPOCH 3 / 6 ===============\n",
            "\n",
            "___ batch index = 0 / 1836 (0.00%), loss = 0.1264, time = 0.07 seconds ___\n"
          ],
          "name": "stdout"
        },
        {
          "output_type": "stream",
          "text": [
            "___ batch index = 250 / 1836 (13.62%), loss = 0.0942, time = 29.04 seconds ___\n"
          ],
          "name": "stdout"
        },
        {
          "output_type": "stream",
          "text": [
            "___ batch index = 500 / 1836 (27.23%), loss = 0.7932, time = 28.05 seconds ___\n"
          ],
          "name": "stdout"
        },
        {
          "output_type": "stream",
          "text": [
            "___ batch index = 750 / 1836 (40.85%), loss = 0.1967, time = 25.99 seconds ___\n"
          ],
          "name": "stdout"
        },
        {
          "output_type": "stream",
          "text": [
            "___ batch index = 1000 / 1836 (54.47%), loss = 0.1807, time = 29.75 seconds ___\n"
          ],
          "name": "stdout"
        },
        {
          "output_type": "stream",
          "text": [
            "___ batch index = 1250 / 1836 (68.08%), loss = 0.1583, time = 26.98 seconds ___\n"
          ],
          "name": "stdout"
        },
        {
          "output_type": "stream",
          "text": [
            "___ batch index = 1500 / 1836 (81.70%), loss = 0.1374, time = 27.23 seconds ___\n"
          ],
          "name": "stdout"
        },
        {
          "output_type": "stream",
          "text": [
            "___ batch index = 1750 / 1836 (95.32%), loss = 0.0956, time = 29.70 seconds ___\n"
          ],
          "name": "stdout"
        },
        {
          "output_type": "stream",
          "text": [
            "\n",
            "*** avg_loss : 0.39, time : ~3.0 min (208.13 sec) ***\n",
            "\n"
          ],
          "name": "stdout"
        },
        {
          "output_type": "stream",
          "text": [
            "==> evaluation : avg_loss = 0.37, time : 28.56 sec\n",
            "\n"
          ],
          "name": "stdout"
        },
        {
          "output_type": "stream",
          "text": [
            "threshold:  [0.07406254]\n",
            "=====>\t{'Positive Rate': array([0.12520593], dtype=float32), 'accuracy': 0.23064250411861614, 'f1': 0.2356792144026187, 'recall': 0.9473684210526315, 'specificity': 0.128060263653484, 'g_mean': 0.34831056512397784, 'default_accuracy': 0.8747940691927513, 'default_f1': 0.0, 'default_recall': 0.0, 'default_specificity': 1.0, 'default_g_mean': 0.0}\n",
            "\n",
            "=============== EPOCH 4 / 6 ===============\n",
            "\n",
            "___ batch index = 0 / 1836 (0.00%), loss = 0.1200, time = 0.07 seconds ___\n"
          ],
          "name": "stdout"
        },
        {
          "output_type": "stream",
          "text": [
            "___ batch index = 250 / 1836 (13.62%), loss = 0.0943, time = 29.06 seconds ___\n"
          ],
          "name": "stdout"
        },
        {
          "output_type": "stream",
          "text": [
            "___ batch index = 500 / 1836 (27.23%), loss = 0.7841, time = 28.06 seconds ___\n"
          ],
          "name": "stdout"
        },
        {
          "output_type": "stream",
          "text": [
            "___ batch index = 750 / 1836 (40.85%), loss = 0.1886, time = 26.01 seconds ___\n"
          ],
          "name": "stdout"
        },
        {
          "output_type": "stream",
          "text": [
            "___ batch index = 1000 / 1836 (54.47%), loss = 0.1830, time = 29.77 seconds ___\n"
          ],
          "name": "stdout"
        },
        {
          "output_type": "stream",
          "text": [
            "___ batch index = 1250 / 1836 (68.08%), loss = 0.1593, time = 27.00 seconds ___\n"
          ],
          "name": "stdout"
        },
        {
          "output_type": "stream",
          "text": [
            "___ batch index = 1500 / 1836 (81.70%), loss = 0.1353, time = 27.23 seconds ___\n"
          ],
          "name": "stdout"
        },
        {
          "output_type": "stream",
          "text": [
            "___ batch index = 1750 / 1836 (95.32%), loss = 0.0942, time = 29.78 seconds ___\n"
          ],
          "name": "stdout"
        },
        {
          "output_type": "stream",
          "text": [
            "\n",
            "*** avg_loss : 0.39, time : ~3.0 min (208.53 sec) ***\n",
            "\n"
          ],
          "name": "stdout"
        },
        {
          "output_type": "stream",
          "text": [
            "==> evaluation : avg_loss = 0.37, time : 28.79 sec\n",
            "\n"
          ],
          "name": "stdout"
        },
        {
          "output_type": "stream",
          "text": [
            "threshold:  [0.0732666]\n",
            "=====>\t{'Positive Rate': array([0.12520593], dtype=float32), 'accuracy': 0.23064250411861614, 'f1': 0.2356792144026187, 'recall': 0.9473684210526315, 'specificity': 0.128060263653484, 'g_mean': 0.34831056512397784, 'default_accuracy': 0.8747940691927513, 'default_f1': 0.0, 'default_recall': 0.0, 'default_specificity': 1.0, 'default_g_mean': 0.0}\n",
            "\n",
            "=============== EPOCH 5 / 6 ===============\n",
            "\n",
            "___ batch index = 0 / 1836 (0.00%), loss = 0.1343, time = 0.07 seconds ___\n"
          ],
          "name": "stdout"
        },
        {
          "output_type": "stream",
          "text": [
            "___ batch index = 250 / 1836 (13.62%), loss = 0.0948, time = 29.21 seconds ___\n"
          ],
          "name": "stdout"
        },
        {
          "output_type": "stream",
          "text": [
            "___ batch index = 500 / 1836 (27.23%), loss = 0.7833, time = 28.21 seconds ___\n"
          ],
          "name": "stdout"
        },
        {
          "output_type": "stream",
          "text": [
            "___ batch index = 750 / 1836 (40.85%), loss = 0.1833, time = 26.12 seconds ___\n"
          ],
          "name": "stdout"
        },
        {
          "output_type": "stream",
          "text": [
            "___ batch index = 1000 / 1836 (54.47%), loss = 0.1696, time = 29.89 seconds ___\n"
          ],
          "name": "stdout"
        },
        {
          "output_type": "stream",
          "text": [
            "___ batch index = 1250 / 1836 (68.08%), loss = 0.1510, time = 27.11 seconds ___\n"
          ],
          "name": "stdout"
        },
        {
          "output_type": "stream",
          "text": [
            "___ batch index = 1500 / 1836 (81.70%), loss = 0.1331, time = 27.36 seconds ___\n"
          ],
          "name": "stdout"
        },
        {
          "output_type": "stream",
          "text": [
            "___ batch index = 1750 / 1836 (95.32%), loss = 0.0981, time = 29.84 seconds ___\n"
          ],
          "name": "stdout"
        },
        {
          "output_type": "stream",
          "text": [
            "\n",
            "*** avg_loss : 0.39, time : ~3.0 min (209.17 sec) ***\n",
            "\n"
          ],
          "name": "stdout"
        },
        {
          "output_type": "stream",
          "text": [
            "==> evaluation : avg_loss = 0.37, time : 28.76 sec\n",
            "\n"
          ],
          "name": "stdout"
        },
        {
          "output_type": "stream",
          "text": [
            "threshold:  [0.07538123]\n",
            "=====>\t{'Positive Rate': array([0.12520593], dtype=float32), 'accuracy': 0.23887973640856672, 'f1': 0.2401315789473684, 'recall': 0.9605263157894737, 'specificity': 0.13559322033898305, 'g_mean': 0.36088898068274916, 'default_accuracy': 0.8747940691927513, 'default_f1': 0.0, 'default_recall': 0.0, 'default_specificity': 1.0, 'default_g_mean': 0.0}\n",
            "\n",
            "=============== EPOCH 6 / 6 ===============\n",
            "\n",
            "___ batch index = 0 / 1836 (0.00%), loss = 0.1162, time = 0.08 seconds ___\n"
          ],
          "name": "stdout"
        },
        {
          "output_type": "stream",
          "text": [
            "___ batch index = 250 / 1836 (13.62%), loss = 0.0928, time = 29.20 seconds ___\n"
          ],
          "name": "stdout"
        },
        {
          "output_type": "stream",
          "text": [
            "___ batch index = 500 / 1836 (27.23%), loss = 0.7847, time = 28.17 seconds ___\n"
          ],
          "name": "stdout"
        },
        {
          "output_type": "stream",
          "text": [
            "___ batch index = 750 / 1836 (40.85%), loss = 0.1818, time = 26.21 seconds ___\n"
          ],
          "name": "stdout"
        },
        {
          "output_type": "stream",
          "text": [
            "___ batch index = 1000 / 1836 (54.47%), loss = 0.1708, time = 29.89 seconds ___\n"
          ],
          "name": "stdout"
        },
        {
          "output_type": "stream",
          "text": [
            "___ batch index = 1250 / 1836 (68.08%), loss = 0.1513, time = 27.11 seconds ___\n"
          ],
          "name": "stdout"
        },
        {
          "output_type": "stream",
          "text": [
            "___ batch index = 1500 / 1836 (81.70%), loss = 0.1384, time = 27.35 seconds ___\n"
          ],
          "name": "stdout"
        },
        {
          "output_type": "stream",
          "text": [
            "___ batch index = 1750 / 1836 (95.32%), loss = 0.0973, time = 29.84 seconds ___\n"
          ],
          "name": "stdout"
        },
        {
          "output_type": "stream",
          "text": [
            "\n",
            "*** avg_loss : 0.39, time : ~3.0 min (209.23 sec) ***\n",
            "\n"
          ],
          "name": "stdout"
        },
        {
          "output_type": "stream",
          "text": [
            "==> evaluation : avg_loss = 0.37, time : 28.72 sec\n",
            "\n"
          ],
          "name": "stdout"
        },
        {
          "output_type": "stream",
          "text": [
            "threshold:  [0.07495871]\n",
            "=====>\t{'Positive Rate': array([0.12520593], dtype=float32), 'accuracy': 0.2355848434925865, 'f1': 0.23934426229508196, 'recall': 0.9605263157894737, 'specificity': 0.1318267419962335, 'g_mean': 0.3558413337601067, 'default_accuracy': 0.8747940691927513, 'default_f1': 0.0, 'default_recall': 0.0, 'default_specificity': 1.0, 'default_g_mean': 0.0}\n"
          ],
          "name": "stdout"
        },
        {
          "output_type": "stream",
          "text": [
            "@@@@@@@@@@@@@@@@@@@@@@@@@@@@@@@@@@@@@@@@@@@@@ END @@@@@@@@@@@@@@@@@@@@@@@@@@@@@@@@@@@@@@@@@@@@@@@\n",
            "#################################################### Para label:  Apoyo Educador(a) Diferencial  (6) ##############\n",
            "------------------------------------------- exp: 5*1e-6 -----------------------------------------\n"
          ],
          "name": "stdout"
        },
        {
          "output_type": "stream",
          "text": [
            "Some weights of BertModel were not initialized from the model checkpoint at dccuchile/bert-base-spanish-wwm-cased and are newly initialized: ['bert.pooler.dense.weight', 'bert.pooler.dense.bias']\n",
            "You should probably TRAIN this model on a down-stream task to be able to use it for predictions and inference.\n"
          ],
          "name": "stderr"
        },
        {
          "output_type": "stream",
          "text": [
            "\n",
            "=============== EPOCH 1 / 6 ===============\n",
            "\n",
            "___ batch index = 0 / 1836 (0.00%), loss = 0.5709, time = 0.08 seconds ___\n"
          ],
          "name": "stdout"
        },
        {
          "output_type": "stream",
          "text": [
            "___ batch index = 250 / 1836 (13.62%), loss = 0.6523, time = 29.17 seconds ___\n"
          ],
          "name": "stdout"
        },
        {
          "output_type": "stream",
          "text": [
            "___ batch index = 500 / 1836 (27.23%), loss = 0.6109, time = 28.16 seconds ___\n"
          ],
          "name": "stdout"
        },
        {
          "output_type": "stream",
          "text": [
            "___ batch index = 750 / 1836 (40.85%), loss = 0.6673, time = 26.16 seconds ___\n"
          ],
          "name": "stdout"
        },
        {
          "output_type": "stream",
          "text": [
            "___ batch index = 1000 / 1836 (54.47%), loss = 0.7068, time = 29.89 seconds ___\n"
          ],
          "name": "stdout"
        },
        {
          "output_type": "stream",
          "text": [
            "___ batch index = 1250 / 1836 (68.08%), loss = 0.7818, time = 27.12 seconds ___\n"
          ],
          "name": "stdout"
        },
        {
          "output_type": "stream",
          "text": [
            "___ batch index = 1500 / 1836 (81.70%), loss = 0.4160, time = 27.35 seconds ___\n"
          ],
          "name": "stdout"
        },
        {
          "output_type": "stream",
          "text": [
            "___ batch index = 1750 / 1836 (95.32%), loss = 0.8879, time = 29.84 seconds ___\n"
          ],
          "name": "stdout"
        },
        {
          "output_type": "stream",
          "text": [
            "\n",
            "*** avg_loss : 0.74, time : ~3.0 min (209.15 sec) ***\n",
            "\n"
          ],
          "name": "stdout"
        },
        {
          "output_type": "stream",
          "text": [
            "==> evaluation : avg_loss = 0.69, time : 28.59 sec\n",
            "\n"
          ],
          "name": "stdout"
        },
        {
          "output_type": "stream",
          "text": [
            "threshold:  [0.48235306]\n",
            "=====>\t{'Positive Rate': array([0.43163097], dtype=float32), 'accuracy': 0.528830313014827, 'f1': 0.5311475409836066, 'recall': 0.6183206106870229, 'specificity': 0.4608695652173913, 'g_mean': 0.5338212725363051, 'default_accuracy': 0.5700164744645799, 'default_f1': 0.10309278350515462, 'default_recall': 0.05725190839694656, 'default_specificity': 0.9594202898550724, 'default_g_mean': 0.23436860401716464}\n",
            "\n",
            "=============== EPOCH 2 / 6 ===============\n",
            "\n",
            "___ batch index = 0 / 1836 (0.00%), loss = 0.7114, time = 0.08 seconds ___\n"
          ],
          "name": "stdout"
        },
        {
          "output_type": "stream",
          "text": [
            "___ batch index = 250 / 1836 (13.62%), loss = 0.6637, time = 29.10 seconds ___\n"
          ],
          "name": "stdout"
        },
        {
          "output_type": "stream",
          "text": [
            "___ batch index = 500 / 1836 (27.23%), loss = 0.6029, time = 28.09 seconds ___\n"
          ],
          "name": "stdout"
        },
        {
          "output_type": "stream",
          "text": [
            "___ batch index = 750 / 1836 (40.85%), loss = 0.5447, time = 26.13 seconds ___\n"
          ],
          "name": "stdout"
        },
        {
          "output_type": "stream",
          "text": [
            "___ batch index = 1000 / 1836 (54.47%), loss = 0.7841, time = 29.81 seconds ___\n"
          ],
          "name": "stdout"
        },
        {
          "output_type": "stream",
          "text": [
            "___ batch index = 1250 / 1836 (68.08%), loss = 0.7724, time = 27.02 seconds ___\n"
          ],
          "name": "stdout"
        },
        {
          "output_type": "stream",
          "text": [
            "___ batch index = 1500 / 1836 (81.70%), loss = 0.5822, time = 27.27 seconds ___\n"
          ],
          "name": "stdout"
        },
        {
          "output_type": "stream",
          "text": [
            "___ batch index = 1750 / 1836 (95.32%), loss = 0.7954, time = 29.75 seconds ___\n"
          ],
          "name": "stdout"
        },
        {
          "output_type": "stream",
          "text": [
            "\n",
            "*** avg_loss : 0.71, time : ~3.0 min (208.61 sec) ***\n",
            "\n"
          ],
          "name": "stdout"
        },
        {
          "output_type": "stream",
          "text": [
            "==> evaluation : avg_loss = 0.69, time : 28.59 sec\n",
            "\n"
          ],
          "name": "stdout"
        },
        {
          "output_type": "stream",
          "text": [
            "threshold:  [0.48573062]\n",
            "=====>\t{'Positive Rate': array([0.43163097], dtype=float32), 'accuracy': 0.5387149917627677, 'f1': 0.5409836065573771, 'recall': 0.6297709923664122, 'specificity': 0.46956521739130436, 'g_mean': 0.5438001038408065, 'default_accuracy': 0.5617792421746294, 'default_f1': 0.2528089887640449, 'default_recall': 0.1717557251908397, 'default_specificity': 0.8579710144927536, 'default_g_mean': 0.38387684716185133}\n",
            "\n",
            "=============== EPOCH 3 / 6 ===============\n",
            "\n",
            "___ batch index = 0 / 1836 (0.00%), loss = 0.7441, time = 0.08 seconds ___\n"
          ],
          "name": "stdout"
        },
        {
          "output_type": "stream",
          "text": [
            "___ batch index = 250 / 1836 (13.62%), loss = 0.6532, time = 29.12 seconds ___\n"
          ],
          "name": "stdout"
        },
        {
          "output_type": "stream",
          "text": [
            "___ batch index = 500 / 1836 (27.23%), loss = 0.6029, time = 28.10 seconds ___\n"
          ],
          "name": "stdout"
        },
        {
          "output_type": "stream",
          "text": [
            "___ batch index = 750 / 1836 (40.85%), loss = 0.5437, time = 26.14 seconds ___\n"
          ],
          "name": "stdout"
        },
        {
          "output_type": "stream",
          "text": [
            "___ batch index = 1000 / 1836 (54.47%), loss = 0.8129, time = 29.82 seconds ___\n"
          ],
          "name": "stdout"
        },
        {
          "output_type": "stream",
          "text": [
            "___ batch index = 1250 / 1836 (68.08%), loss = 0.7984, time = 27.03 seconds ___\n"
          ],
          "name": "stdout"
        },
        {
          "output_type": "stream",
          "text": [
            "___ batch index = 1500 / 1836 (81.70%), loss = 0.6107, time = 27.28 seconds ___\n"
          ],
          "name": "stdout"
        },
        {
          "output_type": "stream",
          "text": [
            "___ batch index = 1750 / 1836 (95.32%), loss = 0.7586, time = 29.76 seconds ___\n"
          ],
          "name": "stdout"
        },
        {
          "output_type": "stream",
          "text": [
            "\n",
            "*** avg_loss : 0.71, time : ~3.0 min (208.69 sec) ***\n",
            "\n"
          ],
          "name": "stdout"
        },
        {
          "output_type": "stream",
          "text": [
            "==> evaluation : avg_loss = 0.69, time : 28.60 sec\n",
            "\n"
          ],
          "name": "stdout"
        },
        {
          "output_type": "stream",
          "text": [
            "threshold:  [0.47804838]\n",
            "=====>\t{'Positive Rate': array([0.43163097], dtype=float32), 'accuracy': 0.5387149917627677, 'f1': 0.5394736842105263, 'recall': 0.6259541984732825, 'specificity': 0.47246376811594204, 'g_mean': 0.5438204476467222, 'default_accuracy': 0.5650741350906096, 'default_f1': 0.23699421965317918, 'default_recall': 0.15648854961832062, 'default_specificity': 0.8753623188405797, 'default_g_mean': 0.37011373882347604}\n",
            "\n",
            "=============== EPOCH 4 / 6 ===============\n",
            "\n",
            "___ batch index = 0 / 1836 (0.00%), loss = 0.7496, time = 0.08 seconds ___\n"
          ],
          "name": "stdout"
        },
        {
          "output_type": "stream",
          "text": [
            "___ batch index = 250 / 1836 (13.62%), loss = 0.6568, time = 29.11 seconds ___\n"
          ],
          "name": "stdout"
        },
        {
          "output_type": "stream",
          "text": [
            "___ batch index = 500 / 1836 (27.23%), loss = 0.6094, time = 28.09 seconds ___\n"
          ],
          "name": "stdout"
        },
        {
          "output_type": "stream",
          "text": [
            "___ batch index = 750 / 1836 (40.85%), loss = 0.5412, time = 26.14 seconds ___\n"
          ],
          "name": "stdout"
        },
        {
          "output_type": "stream",
          "text": [
            "___ batch index = 1000 / 1836 (54.47%), loss = 0.8191, time = 29.81 seconds ___\n"
          ],
          "name": "stdout"
        },
        {
          "output_type": "stream",
          "text": [
            "___ batch index = 1250 / 1836 (68.08%), loss = 0.8039, time = 27.04 seconds ___\n"
          ],
          "name": "stdout"
        },
        {
          "output_type": "stream",
          "text": [
            "___ batch index = 1500 / 1836 (81.70%), loss = 0.6596, time = 27.28 seconds ___\n"
          ],
          "name": "stdout"
        },
        {
          "output_type": "stream",
          "text": [
            "___ batch index = 1750 / 1836 (95.32%), loss = 0.7333, time = 29.76 seconds ___\n"
          ],
          "name": "stdout"
        },
        {
          "output_type": "stream",
          "text": [
            "\n",
            "*** avg_loss : 0.70, time : ~3.0 min (208.67 sec) ***\n",
            "\n"
          ],
          "name": "stdout"
        },
        {
          "output_type": "stream",
          "text": [
            "==> evaluation : avg_loss = 0.69, time : 28.61 sec\n",
            "\n"
          ],
          "name": "stdout"
        },
        {
          "output_type": "stream",
          "text": [
            "threshold:  [0.47339377]\n",
            "=====>\t{'Positive Rate': array([0.43163097], dtype=float32), 'accuracy': 0.5420098846787479, 'f1': 0.5472312703583062, 'recall': 0.6412213740458015, 'specificity': 0.4666666666666667, 'g_mean': 0.5470252656151945, 'default_accuracy': 0.5667215815485996, 'default_f1': 0.224188790560472, 'default_recall': 0.1450381679389313, 'default_specificity': 0.8869565217391304, 'default_g_mean': 0.3586677417255842}\n",
            "\n",
            "=============== EPOCH 5 / 6 ===============\n",
            "\n",
            "___ batch index = 0 / 1836 (0.00%), loss = 0.7603, time = 0.08 seconds ___\n"
          ],
          "name": "stdout"
        },
        {
          "output_type": "stream",
          "text": [
            "___ batch index = 250 / 1836 (13.62%), loss = 0.6617, time = 29.12 seconds ___\n"
          ],
          "name": "stdout"
        },
        {
          "output_type": "stream",
          "text": [
            "___ batch index = 500 / 1836 (27.23%), loss = 0.6072, time = 28.10 seconds ___\n"
          ],
          "name": "stdout"
        },
        {
          "output_type": "stream",
          "text": [
            "___ batch index = 750 / 1836 (40.85%), loss = 0.5403, time = 26.13 seconds ___\n"
          ],
          "name": "stdout"
        },
        {
          "output_type": "stream",
          "text": [
            "___ batch index = 1000 / 1836 (54.47%), loss = 0.8287, time = 29.81 seconds ___\n"
          ],
          "name": "stdout"
        },
        {
          "output_type": "stream",
          "text": [
            "___ batch index = 1250 / 1836 (68.08%), loss = 0.8068, time = 27.03 seconds ___\n"
          ],
          "name": "stdout"
        },
        {
          "output_type": "stream",
          "text": [
            "___ batch index = 1500 / 1836 (81.70%), loss = 0.6724, time = 27.28 seconds ___\n"
          ],
          "name": "stdout"
        },
        {
          "output_type": "stream",
          "text": [
            "___ batch index = 1750 / 1836 (95.32%), loss = 0.7090, time = 29.76 seconds ___\n"
          ],
          "name": "stdout"
        },
        {
          "output_type": "stream",
          "text": [
            "\n",
            "*** avg_loss : 0.69, time : ~3.0 min (208.66 sec) ***\n",
            "\n"
          ],
          "name": "stdout"
        },
        {
          "output_type": "stream",
          "text": [
            "==> evaluation : avg_loss = 0.68, time : 28.59 sec\n",
            "\n"
          ],
          "name": "stdout"
        },
        {
          "output_type": "stream",
          "text": [
            "threshold:  [0.4674759]\n",
            "=====>\t{'Positive Rate': array([0.43163097], dtype=float32), 'accuracy': 0.5436573311367381, 'f1': 0.546644844517185, 'recall': 0.6374045801526718, 'specificity': 0.47246376811594204, 'g_mean': 0.548771874054503, 'default_accuracy': 0.5749588138385503, 'default_f1': 0.178343949044586, 'default_recall': 0.10687022900763359, 'default_specificity': 0.9304347826086956, 'default_g_mean': 0.31533439123263907}\n",
            "\n",
            "=============== EPOCH 6 / 6 ===============\n",
            "\n"
          ],
          "name": "stdout"
        },
        {
          "output_type": "stream",
          "text": [
            "___ batch index = 0 / 1836 (0.00%), loss = 0.7432, time = 0.08 seconds ___\n"
          ],
          "name": "stdout"
        },
        {
          "output_type": "stream",
          "text": [
            "___ batch index = 250 / 1836 (13.62%), loss = 0.6546, time = 29.11 seconds ___\n"
          ],
          "name": "stdout"
        },
        {
          "output_type": "stream",
          "text": [
            "___ batch index = 500 / 1836 (27.23%), loss = 0.6097, time = 28.09 seconds ___\n"
          ],
          "name": "stdout"
        },
        {
          "output_type": "stream",
          "text": [
            "___ batch index = 750 / 1836 (40.85%), loss = 0.5498, time = 26.12 seconds ___\n"
          ],
          "name": "stdout"
        },
        {
          "output_type": "stream",
          "text": [
            "___ batch index = 1000 / 1836 (54.47%), loss = 0.8334, time = 29.80 seconds ___\n"
          ],
          "name": "stdout"
        },
        {
          "output_type": "stream",
          "text": [
            "___ batch index = 1250 / 1836 (68.08%), loss = 0.8140, time = 27.02 seconds ___\n"
          ],
          "name": "stdout"
        },
        {
          "output_type": "stream",
          "text": [
            "___ batch index = 1500 / 1836 (81.70%), loss = 0.6997, time = 27.27 seconds ___\n"
          ],
          "name": "stdout"
        },
        {
          "output_type": "stream",
          "text": [
            "___ batch index = 1750 / 1836 (95.32%), loss = 0.6960, time = 29.75 seconds ___\n"
          ],
          "name": "stdout"
        },
        {
          "output_type": "stream",
          "text": [
            "\n",
            "*** avg_loss : 0.69, time : ~3.0 min (208.60 sec) ***\n",
            "\n"
          ],
          "name": "stdout"
        },
        {
          "output_type": "stream",
          "text": [
            "==> evaluation : avg_loss = 0.68, time : 28.59 sec\n",
            "\n"
          ],
          "name": "stdout"
        },
        {
          "output_type": "stream",
          "text": [
            "threshold:  [0.4652005]\n",
            "=====>\t{'Positive Rate': array([0.43163097], dtype=float32), 'accuracy': 0.5321252059308073, 'f1': 0.5344262295081967, 'recall': 0.6221374045801527, 'specificity': 0.463768115942029, 'g_mean': 0.5371475514038961, 'default_accuracy': 0.5733113673805601, 'default_f1': 0.16181229773462785, 'default_recall': 0.09541984732824428, 'default_specificity': 0.936231884057971, 'default_g_mean': 0.29888978477132017}\n"
          ],
          "name": "stdout"
        },
        {
          "output_type": "stream",
          "text": [
            "@@@@@@@@@@@@@@@@@@@@@@@@@@@@@@@@@@@@@@@@@@@@@ END @@@@@@@@@@@@@@@@@@@@@@@@@@@@@@@@@@@@@@@@@@@@@@@\n",
            "#################################################### Para label:  Apoyo Kinesióloga(o)  (7) ##############\n",
            "------------------------------------------- exp: 1*1e-6 -----------------------------------------\n"
          ],
          "name": "stdout"
        },
        {
          "output_type": "stream",
          "text": [
            "Some weights of BertModel were not initialized from the model checkpoint at dccuchile/bert-base-spanish-wwm-cased and are newly initialized: ['bert.pooler.dense.weight', 'bert.pooler.dense.bias']\n",
            "You should probably TRAIN this model on a down-stream task to be able to use it for predictions and inference.\n"
          ],
          "name": "stderr"
        },
        {
          "output_type": "stream",
          "text": [
            "\n",
            "=============== EPOCH 1 / 6 ===============\n",
            "\n",
            "___ batch index = 0 / 1836 (0.00%), loss = 0.7610, time = 0.08 seconds ___\n"
          ],
          "name": "stdout"
        },
        {
          "output_type": "stream",
          "text": [
            "___ batch index = 250 / 1836 (13.62%), loss = 0.5010, time = 29.08 seconds ___\n"
          ],
          "name": "stdout"
        },
        {
          "output_type": "stream",
          "text": [
            "___ batch index = 500 / 1836 (27.23%), loss = 0.3487, time = 28.07 seconds ___\n"
          ],
          "name": "stdout"
        },
        {
          "output_type": "stream",
          "text": [
            "___ batch index = 750 / 1836 (40.85%), loss = 0.2416, time = 26.06 seconds ___\n"
          ],
          "name": "stdout"
        },
        {
          "output_type": "stream",
          "text": [
            "___ batch index = 1000 / 1836 (54.47%), loss = 0.1286, time = 29.78 seconds ___\n"
          ],
          "name": "stdout"
        },
        {
          "output_type": "stream",
          "text": [
            "___ batch index = 1250 / 1836 (68.08%), loss = 0.1016, time = 27.02 seconds ___\n"
          ],
          "name": "stdout"
        },
        {
          "output_type": "stream",
          "text": [
            "___ batch index = 1500 / 1836 (81.70%), loss = 0.0941, time = 27.25 seconds ___\n"
          ],
          "name": "stdout"
        },
        {
          "output_type": "stream",
          "text": [
            "___ batch index = 1750 / 1836 (95.32%), loss = 0.0610, time = 29.74 seconds ___\n"
          ],
          "name": "stdout"
        },
        {
          "output_type": "stream",
          "text": [
            "\n",
            "*** avg_loss : 0.25, time : ~3.0 min (208.43 sec) ***\n",
            "\n"
          ],
          "name": "stdout"
        },
        {
          "output_type": "stream",
          "text": [
            "==> evaluation : avg_loss = 0.09, time : 28.60 sec\n",
            "\n"
          ],
          "name": "stdout"
        },
        {
          "output_type": "stream",
          "text": [
            "threshold:  [0.04179013]\n",
            "=====>\t{'Positive Rate': array([0.01153213], dtype=float32), 'accuracy': 0.0214168039538715, 'f1': 0.023026315789473683, 'recall': 1.0, 'specificity': 0.01, 'g_mean': 0.1, 'default_accuracy': 0.9884678747940692, 'default_f1': 0.0, 'default_recall': 0.0, 'default_specificity': 1.0, 'default_g_mean': 0.0}\n",
            "\n",
            "=============== EPOCH 2 / 6 ===============\n",
            "\n",
            "___ batch index = 0 / 1836 (0.00%), loss = 2.5440, time = 0.08 seconds ___\n"
          ],
          "name": "stdout"
        },
        {
          "output_type": "stream",
          "text": [
            "___ batch index = 250 / 1836 (13.62%), loss = 0.0610, time = 29.11 seconds ___\n"
          ],
          "name": "stdout"
        },
        {
          "output_type": "stream",
          "text": [
            "___ batch index = 500 / 1836 (27.23%), loss = 0.0601, time = 28.09 seconds ___\n"
          ],
          "name": "stdout"
        },
        {
          "output_type": "stream",
          "text": [
            "___ batch index = 750 / 1836 (40.85%), loss = 0.0589, time = 26.12 seconds ___\n"
          ],
          "name": "stdout"
        },
        {
          "output_type": "stream",
          "text": [
            "___ batch index = 1000 / 1836 (54.47%), loss = 0.0380, time = 29.78 seconds ___\n"
          ],
          "name": "stdout"
        },
        {
          "output_type": "stream",
          "text": [
            "___ batch index = 1250 / 1836 (68.08%), loss = 0.0370, time = 27.01 seconds ___\n"
          ],
          "name": "stdout"
        },
        {
          "output_type": "stream",
          "text": [
            "___ batch index = 1500 / 1836 (81.70%), loss = 0.0392, time = 27.28 seconds ___\n"
          ],
          "name": "stdout"
        },
        {
          "output_type": "stream",
          "text": [
            "___ batch index = 1750 / 1836 (95.32%), loss = 0.0292, time = 29.76 seconds ___\n"
          ],
          "name": "stdout"
        },
        {
          "output_type": "stream",
          "text": [
            "\n",
            "*** avg_loss : 0.08, time : ~3.0 min (208.58 sec) ***\n",
            "\n"
          ],
          "name": "stdout"
        },
        {
          "output_type": "stream",
          "text": [
            "==> evaluation : avg_loss = 0.07, time : 28.61 sec\n",
            "\n"
          ],
          "name": "stdout"
        },
        {
          "output_type": "stream",
          "text": [
            "threshold:  [0.02024256]\n",
            "=====>\t{'Positive Rate': array([0.01153213], dtype=float32), 'accuracy': 0.0214168039538715, 'f1': 0.023026315789473683, 'recall': 1.0, 'specificity': 0.01, 'g_mean': 0.1, 'default_accuracy': 0.9884678747940692, 'default_f1': 0.0, 'default_recall': 0.0, 'default_specificity': 1.0, 'default_g_mean': 0.0}\n",
            "\n",
            "=============== EPOCH 3 / 6 ===============\n",
            "\n",
            "___ batch index = 0 / 1836 (0.00%), loss = 3.4402, time = 0.07 seconds ___\n"
          ],
          "name": "stdout"
        },
        {
          "output_type": "stream",
          "text": [
            "___ batch index = 250 / 1836 (13.62%), loss = 0.0319, time = 29.08 seconds ___\n"
          ],
          "name": "stdout"
        },
        {
          "output_type": "stream",
          "text": [
            "___ batch index = 500 / 1836 (27.23%), loss = 0.0323, time = 28.08 seconds ___\n"
          ],
          "name": "stdout"
        },
        {
          "output_type": "stream",
          "text": [
            "___ batch index = 750 / 1836 (40.85%), loss = 0.0343, time = 26.03 seconds ___\n"
          ],
          "name": "stdout"
        },
        {
          "output_type": "stream",
          "text": [
            "___ batch index = 1000 / 1836 (54.47%), loss = 0.0238, time = 29.84 seconds ___\n"
          ],
          "name": "stdout"
        },
        {
          "output_type": "stream",
          "text": [
            "___ batch index = 1250 / 1836 (68.08%), loss = 0.0229, time = 27.07 seconds ___\n"
          ],
          "name": "stdout"
        },
        {
          "output_type": "stream",
          "text": [
            "___ batch index = 1500 / 1836 (81.70%), loss = 0.0268, time = 27.31 seconds ___\n"
          ],
          "name": "stdout"
        },
        {
          "output_type": "stream",
          "text": [
            "___ batch index = 1750 / 1836 (95.32%), loss = 0.0202, time = 29.80 seconds ___\n"
          ],
          "name": "stdout"
        },
        {
          "output_type": "stream",
          "text": [
            "\n",
            "*** avg_loss : 0.07, time : ~3.0 min (208.62 sec) ***\n",
            "\n"
          ],
          "name": "stdout"
        },
        {
          "output_type": "stream",
          "text": [
            "==> evaluation : avg_loss = 0.06, time : 28.60 sec\n",
            "\n"
          ],
          "name": "stdout"
        },
        {
          "output_type": "stream",
          "text": [
            "threshold:  [0.01409788]\n",
            "=====>\t{'Positive Rate': array([0.01153213], dtype=float32), 'accuracy': 0.0214168039538715, 'f1': 0.023026315789473683, 'recall': 1.0, 'specificity': 0.01, 'g_mean': 0.1, 'default_accuracy': 0.9884678747940692, 'default_f1': 0.0, 'default_recall': 0.0, 'default_specificity': 1.0, 'default_g_mean': 0.0}\n",
            "\n",
            "=============== EPOCH 4 / 6 ===============\n",
            "\n",
            "___ batch index = 0 / 1836 (0.00%), loss = 3.7064, time = 0.07 seconds ___\n"
          ],
          "name": "stdout"
        },
        {
          "output_type": "stream",
          "text": [
            "___ batch index = 250 / 1836 (13.62%), loss = 0.0220, time = 29.13 seconds ___\n"
          ],
          "name": "stdout"
        },
        {
          "output_type": "stream",
          "text": [
            "___ batch index = 500 / 1836 (27.23%), loss = 0.0226, time = 28.14 seconds ___\n"
          ],
          "name": "stdout"
        },
        {
          "output_type": "stream",
          "text": [
            "___ batch index = 750 / 1836 (40.85%), loss = 0.0245, time = 26.09 seconds ___\n"
          ],
          "name": "stdout"
        },
        {
          "output_type": "stream",
          "text": [
            "___ batch index = 1000 / 1836 (54.47%), loss = 0.0182, time = 29.85 seconds ___\n"
          ],
          "name": "stdout"
        },
        {
          "output_type": "stream",
          "text": [
            "___ batch index = 1250 / 1836 (68.08%), loss = 0.0187, time = 27.07 seconds ___\n"
          ],
          "name": "stdout"
        },
        {
          "output_type": "stream",
          "text": [
            "___ batch index = 1500 / 1836 (81.70%), loss = 0.0202, time = 27.31 seconds ___\n"
          ],
          "name": "stdout"
        },
        {
          "output_type": "stream",
          "text": [
            "___ batch index = 1750 / 1836 (95.32%), loss = 0.0160, time = 29.80 seconds ___\n"
          ],
          "name": "stdout"
        },
        {
          "output_type": "stream",
          "text": [
            "\n",
            "*** avg_loss : 0.06, time : ~3.0 min (208.81 sec) ***\n",
            "\n"
          ],
          "name": "stdout"
        },
        {
          "output_type": "stream",
          "text": [
            "==> evaluation : avg_loss = 0.06, time : 28.60 sec\n",
            "\n"
          ],
          "name": "stdout"
        },
        {
          "output_type": "stream",
          "text": [
            "threshold:  [0.01127502]\n",
            "=====>\t{'Positive Rate': array([0.01153213], dtype=float32), 'accuracy': 0.019769357495881382, 'f1': 0.022988505747126436, 'recall': 1.0, 'specificity': 0.008333333333333333, 'g_mean': 0.09128709291752768, 'default_accuracy': 0.9884678747940692, 'default_f1': 0.0, 'default_recall': 0.0, 'default_specificity': 1.0, 'default_g_mean': 0.0}\n",
            "\n",
            "=============== EPOCH 5 / 6 ===============\n",
            "\n",
            "___ batch index = 0 / 1836 (0.00%), loss = 3.8351, time = 0.07 seconds ___\n"
          ],
          "name": "stdout"
        },
        {
          "output_type": "stream",
          "text": [
            "___ batch index = 250 / 1836 (13.62%), loss = 0.0181, time = 29.12 seconds ___\n"
          ],
          "name": "stdout"
        },
        {
          "output_type": "stream",
          "text": [
            "___ batch index = 500 / 1836 (27.23%), loss = 0.0193, time = 28.14 seconds ___\n"
          ],
          "name": "stdout"
        },
        {
          "output_type": "stream",
          "text": [
            "___ batch index = 750 / 1836 (40.85%), loss = 0.0195, time = 26.08 seconds ___\n"
          ],
          "name": "stdout"
        },
        {
          "output_type": "stream",
          "text": [
            "___ batch index = 1000 / 1836 (54.47%), loss = 0.0154, time = 29.84 seconds ___\n"
          ],
          "name": "stdout"
        },
        {
          "output_type": "stream",
          "text": [
            "___ batch index = 1250 / 1836 (68.08%), loss = 0.0152, time = 27.07 seconds ___\n"
          ],
          "name": "stdout"
        },
        {
          "output_type": "stream",
          "text": [
            "___ batch index = 1500 / 1836 (81.70%), loss = 0.0168, time = 27.30 seconds ___\n"
          ],
          "name": "stdout"
        },
        {
          "output_type": "stream",
          "text": [
            "___ batch index = 1750 / 1836 (95.32%), loss = 0.0142, time = 29.80 seconds ___\n"
          ],
          "name": "stdout"
        },
        {
          "output_type": "stream",
          "text": [
            "\n",
            "*** avg_loss : 0.06, time : ~3.0 min (208.76 sec) ***\n",
            "\n"
          ],
          "name": "stdout"
        },
        {
          "output_type": "stream",
          "text": [
            "==> evaluation : avg_loss = 0.06, time : 28.59 sec\n",
            "\n"
          ],
          "name": "stdout"
        },
        {
          "output_type": "stream",
          "text": [
            "threshold:  [0.00967198]\n",
            "=====>\t{'Positive Rate': array([0.01153213], dtype=float32), 'accuracy': 0.016474464579901153, 'f1': 0.02291325695581015, 'recall': 1.0, 'specificity': 0.005, 'g_mean': 0.07071067811865475, 'default_accuracy': 0.9884678747940692, 'default_f1': 0.0, 'default_recall': 0.0, 'default_specificity': 1.0, 'default_g_mean': 0.0}\n",
            "\n",
            "=============== EPOCH 6 / 6 ===============\n",
            "\n",
            "___ batch index = 0 / 1836 (0.00%), loss = 4.2459, time = 0.07 seconds ___\n"
          ],
          "name": "stdout"
        },
        {
          "output_type": "stream",
          "text": [
            "___ batch index = 250 / 1836 (13.62%), loss = 0.0159, time = 29.12 seconds ___\n"
          ],
          "name": "stdout"
        },
        {
          "output_type": "stream",
          "text": [
            "___ batch index = 500 / 1836 (27.23%), loss = 0.0172, time = 28.13 seconds ___\n"
          ],
          "name": "stdout"
        },
        {
          "output_type": "stream",
          "text": [
            "___ batch index = 750 / 1836 (40.85%), loss = 0.0173, time = 26.12 seconds ___\n"
          ],
          "name": "stdout"
        },
        {
          "output_type": "stream",
          "text": [
            "___ batch index = 1000 / 1836 (54.47%), loss = 0.0133, time = 29.88 seconds ___\n"
          ],
          "name": "stdout"
        },
        {
          "output_type": "stream",
          "text": [
            "___ batch index = 1250 / 1836 (68.08%), loss = 0.0136, time = 27.10 seconds ___\n"
          ],
          "name": "stdout"
        },
        {
          "output_type": "stream",
          "text": [
            "___ batch index = 1500 / 1836 (81.70%), loss = 0.0152, time = 27.35 seconds ___\n"
          ],
          "name": "stdout"
        },
        {
          "output_type": "stream",
          "text": [
            "___ batch index = 1750 / 1836 (95.32%), loss = 0.0127, time = 29.83 seconds ___\n"
          ],
          "name": "stdout"
        },
        {
          "output_type": "stream",
          "text": [
            "\n",
            "*** avg_loss : 0.06, time : ~3.0 min (208.96 sec) ***\n",
            "\n"
          ],
          "name": "stdout"
        },
        {
          "output_type": "stream",
          "text": [
            "==> evaluation : avg_loss = 0.06, time : 28.59 sec\n",
            "\n"
          ],
          "name": "stdout"
        },
        {
          "output_type": "stream",
          "text": [
            "threshold:  [0.00880949]\n",
            "=====>\t{'Positive Rate': array([0.01153213], dtype=float32), 'accuracy': 0.019769357495881382, 'f1': 0.022988505747126436, 'recall': 1.0, 'specificity': 0.008333333333333333, 'g_mean': 0.09128709291752768, 'default_accuracy': 0.9884678747940692, 'default_f1': 0.0, 'default_recall': 0.0, 'default_specificity': 1.0, 'default_g_mean': 0.0}\n"
          ],
          "name": "stdout"
        },
        {
          "output_type": "stream",
          "text": [
            "@@@@@@@@@@@@@@@@@@@@@@@@@@@@@@@@@@@@@@@@@@@@@ END @@@@@@@@@@@@@@@@@@@@@@@@@@@@@@@@@@@@@@@@@@@@@@@\n",
            "#################################################### Para label:  Apoyo Médico General  (8) ##############\n",
            "------------------------------------------- exp: 1*1e-6 -----------------------------------------\n"
          ],
          "name": "stdout"
        },
        {
          "output_type": "stream",
          "text": [
            "Some weights of BertModel were not initialized from the model checkpoint at dccuchile/bert-base-spanish-wwm-cased and are newly initialized: ['bert.pooler.dense.weight', 'bert.pooler.dense.bias']\n",
            "You should probably TRAIN this model on a down-stream task to be able to use it for predictions and inference.\n"
          ],
          "name": "stderr"
        },
        {
          "output_type": "stream",
          "text": [
            "\n",
            "=============== EPOCH 1 / 6 ===============\n",
            "\n",
            "___ batch index = 0 / 1836 (0.00%), loss = 0.7018, time = 0.08 seconds ___\n"
          ],
          "name": "stdout"
        },
        {
          "output_type": "stream",
          "text": [
            "___ batch index = 250 / 1836 (13.62%), loss = 0.5641, time = 29.20 seconds ___\n"
          ],
          "name": "stdout"
        },
        {
          "output_type": "stream",
          "text": [
            "___ batch index = 500 / 1836 (27.23%), loss = 0.4021, time = 28.15 seconds ___\n"
          ],
          "name": "stdout"
        },
        {
          "output_type": "stream",
          "text": [
            "___ batch index = 750 / 1836 (40.85%), loss = 0.2803, time = 26.15 seconds ___\n"
          ],
          "name": "stdout"
        },
        {
          "output_type": "stream",
          "text": [
            "___ batch index = 1000 / 1836 (54.47%), loss = 0.1554, time = 29.87 seconds ___\n"
          ],
          "name": "stdout"
        },
        {
          "output_type": "stream",
          "text": [
            "___ batch index = 1250 / 1836 (68.08%), loss = 0.1209, time = 27.10 seconds ___\n"
          ],
          "name": "stdout"
        },
        {
          "output_type": "stream",
          "text": [
            "___ batch index = 1500 / 1836 (81.70%), loss = 0.1129, time = 27.34 seconds ___\n"
          ],
          "name": "stdout"
        },
        {
          "output_type": "stream",
          "text": [
            "___ batch index = 1750 / 1836 (95.32%), loss = 0.0720, time = 29.73 seconds ___\n"
          ],
          "name": "stdout"
        },
        {
          "output_type": "stream",
          "text": [
            "\n",
            "*** avg_loss : 0.28, time : ~3.0 min (208.98 sec) ***\n",
            "\n"
          ],
          "name": "stdout"
        },
        {
          "output_type": "stream",
          "text": [
            "==> evaluation : avg_loss = 0.13, time : 28.60 sec\n",
            "\n"
          ],
          "name": "stdout"
        },
        {
          "output_type": "stream",
          "text": [
            "threshold:  [0.04879606]\n",
            "=====>\t{'Positive Rate': array([0.0214168], dtype=float32), 'accuracy': 0.04118616144975288, 'f1': 0.04276315789473684, 'recall': 1.0, 'specificity': 0.020202020202020204, 'g_mean': 0.1421338109037403, 'default_accuracy': 0.9785831960461285, 'default_f1': 0.0, 'default_recall': 0.0, 'default_specificity': 1.0, 'default_g_mean': 0.0}\n",
            "\n",
            "=============== EPOCH 2 / 6 ===============\n",
            "\n",
            "___ batch index = 0 / 1836 (0.00%), loss = 0.0803, time = 0.08 seconds ___\n"
          ],
          "name": "stdout"
        },
        {
          "output_type": "stream",
          "text": [
            "___ batch index = 250 / 1836 (13.62%), loss = 0.0759, time = 29.09 seconds ___\n"
          ],
          "name": "stdout"
        },
        {
          "output_type": "stream",
          "text": [
            "___ batch index = 500 / 1836 (27.23%), loss = 0.0769, time = 28.06 seconds ___\n"
          ],
          "name": "stdout"
        },
        {
          "output_type": "stream",
          "text": [
            "___ batch index = 750 / 1836 (40.85%), loss = 0.0799, time = 26.10 seconds ___\n"
          ],
          "name": "stdout"
        },
        {
          "output_type": "stream",
          "text": [
            "___ batch index = 1000 / 1836 (54.47%), loss = 0.0488, time = 29.78 seconds ___\n"
          ],
          "name": "stdout"
        },
        {
          "output_type": "stream",
          "text": [
            "___ batch index = 1250 / 1836 (68.08%), loss = 0.0484, time = 27.02 seconds ___\n"
          ],
          "name": "stdout"
        },
        {
          "output_type": "stream",
          "text": [
            "___ batch index = 1500 / 1836 (81.70%), loss = 0.0509, time = 27.26 seconds ___\n"
          ],
          "name": "stdout"
        },
        {
          "output_type": "stream",
          "text": [
            "___ batch index = 1750 / 1836 (95.32%), loss = 0.0376, time = 29.75 seconds ___\n"
          ],
          "name": "stdout"
        },
        {
          "output_type": "stream",
          "text": [
            "\n",
            "*** avg_loss : 0.12, time : ~3.0 min (208.48 sec) ***\n",
            "\n"
          ],
          "name": "stdout"
        },
        {
          "output_type": "stream",
          "text": [
            "==> evaluation : avg_loss = 0.11, time : 28.60 sec\n",
            "\n"
          ],
          "name": "stdout"
        },
        {
          "output_type": "stream",
          "text": [
            "threshold:  [0.02569427]\n",
            "=====>\t{'Positive Rate': array([0.0214168], dtype=float32), 'accuracy': 0.03789126853377265, 'f1': 0.042622950819672135, 'recall': 1.0, 'specificity': 0.016835016835016835, 'g_mean': 0.1297498240269205, 'default_accuracy': 0.9785831960461285, 'default_f1': 0.0, 'default_recall': 0.0, 'default_specificity': 1.0, 'default_g_mean': 0.0}\n",
            "\n",
            "=============== EPOCH 3 / 6 ===============\n",
            "\n",
            "___ batch index = 0 / 1836 (0.00%), loss = 0.0368, time = 0.07 seconds ___\n"
          ],
          "name": "stdout"
        },
        {
          "output_type": "stream",
          "text": [
            "___ batch index = 250 / 1836 (13.62%), loss = 0.0427, time = 29.07 seconds ___\n"
          ],
          "name": "stdout"
        },
        {
          "output_type": "stream",
          "text": [
            "___ batch index = 500 / 1836 (27.23%), loss = 0.0455, time = 28.08 seconds ___\n"
          ],
          "name": "stdout"
        },
        {
          "output_type": "stream",
          "text": [
            "___ batch index = 750 / 1836 (40.85%), loss = 0.0459, time = 26.02 seconds ___\n"
          ],
          "name": "stdout"
        },
        {
          "output_type": "stream",
          "text": [
            "___ batch index = 1000 / 1836 (54.47%), loss = 0.0324, time = 29.79 seconds ___\n"
          ],
          "name": "stdout"
        },
        {
          "output_type": "stream",
          "text": [
            "___ batch index = 1250 / 1836 (68.08%), loss = 0.0340, time = 27.01 seconds ___\n"
          ],
          "name": "stdout"
        },
        {
          "output_type": "stream",
          "text": [
            "___ batch index = 1500 / 1836 (81.70%), loss = 0.0348, time = 27.25 seconds ___\n"
          ],
          "name": "stdout"
        },
        {
          "output_type": "stream",
          "text": [
            "___ batch index = 1750 / 1836 (95.32%), loss = 0.0271, time = 29.74 seconds ___\n"
          ],
          "name": "stdout"
        },
        {
          "output_type": "stream",
          "text": [
            "\n",
            "*** avg_loss : 0.11, time : ~3.0 min (208.34 sec) ***\n",
            "\n"
          ],
          "name": "stdout"
        },
        {
          "output_type": "stream",
          "text": [
            "==> evaluation : avg_loss = 0.10, time : 28.61 sec\n",
            "\n"
          ],
          "name": "stdout"
        },
        {
          "output_type": "stream",
          "text": [
            "threshold:  [0.01932181]\n",
            "=====>\t{'Positive Rate': array([0.0214168], dtype=float32), 'accuracy': 0.036243822075782535, 'f1': 0.042553191489361694, 'recall': 1.0, 'specificity': 0.015151515151515152, 'g_mean': 0.12309149097933274, 'default_accuracy': 0.9785831960461285, 'default_f1': 0.0, 'default_recall': 0.0, 'default_specificity': 1.0, 'default_g_mean': 0.0}\n",
            "\n",
            "=============== EPOCH 4 / 6 ===============\n",
            "\n",
            "___ batch index = 0 / 1836 (0.00%), loss = 0.0347, time = 0.07 seconds ___\n"
          ],
          "name": "stdout"
        },
        {
          "output_type": "stream",
          "text": [
            "___ batch index = 250 / 1836 (13.62%), loss = 0.0313, time = 29.07 seconds ___\n"
          ],
          "name": "stdout"
        },
        {
          "output_type": "stream",
          "text": [
            "___ batch index = 500 / 1836 (27.23%), loss = 0.0343, time = 28.08 seconds ___\n"
          ],
          "name": "stdout"
        },
        {
          "output_type": "stream",
          "text": [
            "___ batch index = 750 / 1836 (40.85%), loss = 0.0348, time = 26.02 seconds ___\n"
          ],
          "name": "stdout"
        },
        {
          "output_type": "stream",
          "text": [
            "___ batch index = 1000 / 1836 (54.47%), loss = 0.0272, time = 29.79 seconds ___\n"
          ],
          "name": "stdout"
        },
        {
          "output_type": "stream",
          "text": [
            "___ batch index = 1250 / 1836 (68.08%), loss = 0.0269, time = 27.01 seconds ___\n"
          ],
          "name": "stdout"
        },
        {
          "output_type": "stream",
          "text": [
            "___ batch index = 1500 / 1836 (81.70%), loss = 0.0287, time = 27.25 seconds ___\n"
          ],
          "name": "stdout"
        },
        {
          "output_type": "stream",
          "text": [
            "___ batch index = 1750 / 1836 (95.32%), loss = 0.0228, time = 29.73 seconds ___\n"
          ],
          "name": "stdout"
        },
        {
          "output_type": "stream",
          "text": [
            "\n",
            "*** avg_loss : 0.10, time : ~3.0 min (208.34 sec) ***\n",
            "\n"
          ],
          "name": "stdout"
        },
        {
          "output_type": "stream",
          "text": [
            "==> evaluation : avg_loss = 0.10, time : 28.61 sec\n",
            "\n"
          ],
          "name": "stdout"
        },
        {
          "output_type": "stream",
          "text": [
            "threshold:  [0.01661139]\n",
            "=====>\t{'Positive Rate': array([0.0214168], dtype=float32), 'accuracy': 0.04118616144975288, 'f1': 0.04276315789473684, 'recall': 1.0, 'specificity': 0.020202020202020204, 'g_mean': 0.1421338109037403, 'default_accuracy': 0.9785831960461285, 'default_f1': 0.0, 'default_recall': 0.0, 'default_specificity': 1.0, 'default_g_mean': 0.0}\n",
            "\n",
            "=============== EPOCH 5 / 6 ===============\n",
            "\n",
            "___ batch index = 0 / 1836 (0.00%), loss = 0.0237, time = 0.07 seconds ___\n"
          ],
          "name": "stdout"
        },
        {
          "output_type": "stream",
          "text": [
            "___ batch index = 250 / 1836 (13.62%), loss = 0.0283, time = 29.07 seconds ___\n"
          ],
          "name": "stdout"
        },
        {
          "output_type": "stream",
          "text": [
            "___ batch index = 500 / 1836 (27.23%), loss = 0.0297, time = 28.07 seconds ___\n"
          ],
          "name": "stdout"
        },
        {
          "output_type": "stream",
          "text": [
            "___ batch index = 750 / 1836 (40.85%), loss = 0.0287, time = 26.02 seconds ___\n"
          ],
          "name": "stdout"
        },
        {
          "output_type": "stream",
          "text": [
            "___ batch index = 1000 / 1836 (54.47%), loss = 0.0233, time = 29.79 seconds ___\n"
          ],
          "name": "stdout"
        },
        {
          "output_type": "stream",
          "text": [
            "___ batch index = 1250 / 1836 (68.08%), loss = 0.0249, time = 27.01 seconds ___\n"
          ],
          "name": "stdout"
        },
        {
          "output_type": "stream",
          "text": [
            "___ batch index = 1500 / 1836 (81.70%), loss = 0.0253, time = 27.25 seconds ___\n"
          ],
          "name": "stdout"
        },
        {
          "output_type": "stream",
          "text": [
            "___ batch index = 1750 / 1836 (95.32%), loss = 0.0205, time = 29.73 seconds ___\n"
          ],
          "name": "stdout"
        },
        {
          "output_type": "stream",
          "text": [
            "\n",
            "*** avg_loss : 0.10, time : ~3.0 min (208.33 sec) ***\n",
            "\n"
          ],
          "name": "stdout"
        },
        {
          "output_type": "stream",
          "text": [
            "==> evaluation : avg_loss = 0.10, time : 28.62 sec\n",
            "\n"
          ],
          "name": "stdout"
        },
        {
          "output_type": "stream",
          "text": [
            "threshold:  [0.01509239]\n",
            "=====>\t{'Positive Rate': array([0.0214168], dtype=float32), 'accuracy': 0.03459637561779242, 'f1': 0.042483660130718956, 'recall': 1.0, 'specificity': 0.013468013468013467, 'g_mean': 0.11605177063713189, 'default_accuracy': 0.9785831960461285, 'default_f1': 0.0, 'default_recall': 0.0, 'default_specificity': 1.0, 'default_g_mean': 0.0}\n",
            "\n",
            "=============== EPOCH 6 / 6 ===============\n",
            "\n",
            "___ batch index = 0 / 1836 (0.00%), loss = 0.0217, time = 0.07 seconds ___\n"
          ],
          "name": "stdout"
        },
        {
          "output_type": "stream",
          "text": [
            "___ batch index = 250 / 1836 (13.62%), loss = 0.0246, time = 29.08 seconds ___\n"
          ],
          "name": "stdout"
        },
        {
          "output_type": "stream",
          "text": [
            "___ batch index = 500 / 1836 (27.23%), loss = 0.0270, time = 28.07 seconds ___\n"
          ],
          "name": "stdout"
        },
        {
          "output_type": "stream",
          "text": [
            "___ batch index = 750 / 1836 (40.85%), loss = 0.0267, time = 26.02 seconds ___\n"
          ],
          "name": "stdout"
        },
        {
          "output_type": "stream",
          "text": [
            "___ batch index = 1000 / 1836 (54.47%), loss = 0.0219, time = 29.78 seconds ___\n"
          ],
          "name": "stdout"
        },
        {
          "output_type": "stream",
          "text": [
            "___ batch index = 1250 / 1836 (68.08%), loss = 0.0221, time = 27.01 seconds ___\n"
          ],
          "name": "stdout"
        },
        {
          "output_type": "stream",
          "text": [
            "___ batch index = 1500 / 1836 (81.70%), loss = 0.0234, time = 27.25 seconds ___\n"
          ],
          "name": "stdout"
        },
        {
          "output_type": "stream",
          "text": [
            "___ batch index = 1750 / 1836 (95.32%), loss = 0.0198, time = 29.74 seconds ___\n"
          ],
          "name": "stdout"
        },
        {
          "output_type": "stream",
          "text": [
            "\n",
            "*** avg_loss : 0.10, time : ~3.0 min (208.33 sec) ***\n",
            "\n"
          ],
          "name": "stdout"
        },
        {
          "output_type": "stream",
          "text": [
            "==> evaluation : avg_loss = 0.10, time : 28.62 sec\n",
            "\n"
          ],
          "name": "stdout"
        },
        {
          "output_type": "stream",
          "text": [
            "threshold:  [0.01426498]\n",
            "=====>\t{'Positive Rate': array([0.0214168], dtype=float32), 'accuracy': 0.03459637561779242, 'f1': 0.042483660130718956, 'recall': 1.0, 'specificity': 0.013468013468013467, 'g_mean': 0.11605177063713189, 'default_accuracy': 0.9785831960461285, 'default_f1': 0.0, 'default_recall': 0.0, 'default_specificity': 1.0, 'default_g_mean': 0.0}\n"
          ],
          "name": "stdout"
        },
        {
          "output_type": "stream",
          "text": [
            "@@@@@@@@@@@@@@@@@@@@@@@@@@@@@@@@@@@@@@@@@@@@@ END @@@@@@@@@@@@@@@@@@@@@@@@@@@@@@@@@@@@@@@@@@@@@@@\n",
            "#################################################### Para label:  Apoyo Terapeuta Ocupacional  (9) ##############\n",
            "------------------------------------------- exp: 1*1e-6 -----------------------------------------\n"
          ],
          "name": "stdout"
        },
        {
          "output_type": "stream",
          "text": [
            "Some weights of BertModel were not initialized from the model checkpoint at dccuchile/bert-base-spanish-wwm-cased and are newly initialized: ['bert.pooler.dense.weight', 'bert.pooler.dense.bias']\n",
            "You should probably TRAIN this model on a down-stream task to be able to use it for predictions and inference.\n"
          ],
          "name": "stderr"
        },
        {
          "output_type": "stream",
          "text": [
            "\n",
            "=============== EPOCH 1 / 6 ===============\n",
            "\n",
            "___ batch index = 0 / 1836 (0.00%), loss = 0.7402, time = 0.08 seconds ___\n"
          ],
          "name": "stdout"
        },
        {
          "output_type": "stream",
          "text": [
            "___ batch index = 250 / 1836 (13.62%), loss = 0.6284, time = 29.11 seconds ___\n"
          ],
          "name": "stdout"
        },
        {
          "output_type": "stream",
          "text": [
            "___ batch index = 500 / 1836 (27.23%), loss = 0.4953, time = 28.07 seconds ___\n"
          ],
          "name": "stdout"
        },
        {
          "output_type": "stream",
          "text": [
            "___ batch index = 750 / 1836 (40.85%), loss = 0.3578, time = 26.05 seconds ___\n"
          ],
          "name": "stdout"
        },
        {
          "output_type": "stream",
          "text": [
            "___ batch index = 1000 / 1836 (54.47%), loss = 0.2386, time = 29.79 seconds ___\n"
          ],
          "name": "stdout"
        },
        {
          "output_type": "stream",
          "text": [
            "___ batch index = 1250 / 1836 (68.08%), loss = 0.1610, time = 27.01 seconds ___\n"
          ],
          "name": "stdout"
        },
        {
          "output_type": "stream",
          "text": [
            "___ batch index = 1500 / 1836 (81.70%), loss = 0.1216, time = 27.25 seconds ___\n"
          ],
          "name": "stdout"
        },
        {
          "output_type": "stream",
          "text": [
            "___ batch index = 1750 / 1836 (95.32%), loss = 0.0791, time = 29.79 seconds ___\n"
          ],
          "name": "stdout"
        },
        {
          "output_type": "stream",
          "text": [
            "\n",
            "*** avg_loss : 0.34, time : ~3.0 min (208.55 sec) ***\n",
            "\n"
          ],
          "name": "stdout"
        },
        {
          "output_type": "stream",
          "text": [
            "==> evaluation : avg_loss = 0.21, time : 28.86 sec\n",
            "\n"
          ],
          "name": "stdout"
        },
        {
          "output_type": "stream",
          "text": [
            "threshold:  [0.05527335]\n",
            "=====>\t{'Positive Rate': array([0.05107084], dtype=float32), 'accuracy': 0.09884678747940692, 'f1': 0.10180623973727422, 'recall': 1.0, 'specificity': 0.050347222222222224, 'g_mean': 0.22438186696393767, 'default_accuracy': 0.9489291598023064, 'default_f1': 0.0, 'default_recall': 0.0, 'default_specificity': 1.0, 'default_g_mean': 0.0}\n",
            "\n",
            "=============== EPOCH 2 / 6 ===============\n",
            "\n",
            "___ batch index = 0 / 1836 (0.00%), loss = 2.3977, time = 0.08 seconds ___\n"
          ],
          "name": "stdout"
        },
        {
          "output_type": "stream",
          "text": [
            "___ batch index = 250 / 1836 (13.62%), loss = 0.0945, time = 29.18 seconds ___\n"
          ],
          "name": "stdout"
        },
        {
          "output_type": "stream",
          "text": [
            "___ batch index = 500 / 1836 (27.23%), loss = 0.1068, time = 28.16 seconds ___\n"
          ],
          "name": "stdout"
        },
        {
          "output_type": "stream",
          "text": [
            "___ batch index = 750 / 1836 (40.85%), loss = 0.1003, time = 26.20 seconds ___\n"
          ],
          "name": "stdout"
        },
        {
          "output_type": "stream",
          "text": [
            "___ batch index = 1000 / 1836 (54.47%), loss = 0.0726, time = 29.88 seconds ___\n"
          ],
          "name": "stdout"
        },
        {
          "output_type": "stream",
          "text": [
            "___ batch index = 1250 / 1836 (68.08%), loss = 0.0663, time = 27.10 seconds ___\n"
          ],
          "name": "stdout"
        },
        {
          "output_type": "stream",
          "text": [
            "___ batch index = 1500 / 1836 (81.70%), loss = 0.0646, time = 27.35 seconds ___\n"
          ],
          "name": "stdout"
        },
        {
          "output_type": "stream",
          "text": [
            "___ batch index = 1750 / 1836 (95.32%), loss = 0.0485, time = 29.84 seconds ___\n"
          ],
          "name": "stdout"
        },
        {
          "output_type": "stream",
          "text": [
            "\n",
            "*** avg_loss : 0.21, time : ~3.0 min (209.18 sec) ***\n",
            "\n"
          ],
          "name": "stdout"
        },
        {
          "output_type": "stream",
          "text": [
            "==> evaluation : avg_loss = 0.20, time : 28.74 sec\n",
            "\n"
          ],
          "name": "stdout"
        },
        {
          "output_type": "stream",
          "text": [
            "threshold:  [0.03619793]\n",
            "=====>\t{'Positive Rate': array([0.05107084], dtype=float32), 'accuracy': 0.09390444810543658, 'f1': 0.10130718954248366, 'recall': 1.0, 'specificity': 0.04513888888888889, 'g_mean': 0.21245914639969937, 'default_accuracy': 0.9489291598023064, 'default_f1': 0.0, 'default_recall': 0.0, 'default_specificity': 1.0, 'default_g_mean': 0.0}\n",
            "\n",
            "=============== EPOCH 3 / 6 ===============\n",
            "\n",
            "___ batch index = 0 / 1836 (0.00%), loss = 2.9796, time = 0.07 seconds ___\n"
          ],
          "name": "stdout"
        },
        {
          "output_type": "stream",
          "text": [
            "___ batch index = 250 / 1836 (13.62%), loss = 0.0627, time = 29.17 seconds ___\n"
          ],
          "name": "stdout"
        },
        {
          "output_type": "stream",
          "text": [
            "___ batch index = 500 / 1836 (27.23%), loss = 0.0755, time = 28.18 seconds ___\n"
          ],
          "name": "stdout"
        },
        {
          "output_type": "stream",
          "text": [
            "___ batch index = 750 / 1836 (40.85%), loss = 0.0740, time = 26.12 seconds ___\n"
          ],
          "name": "stdout"
        },
        {
          "output_type": "stream",
          "text": [
            "___ batch index = 1000 / 1836 (54.47%), loss = 0.0572, time = 29.94 seconds ___\n"
          ],
          "name": "stdout"
        },
        {
          "output_type": "stream",
          "text": [
            "___ batch index = 1250 / 1836 (68.08%), loss = 0.0544, time = 27.16 seconds ___\n"
          ],
          "name": "stdout"
        },
        {
          "output_type": "stream",
          "text": [
            "___ batch index = 1500 / 1836 (81.70%), loss = 0.0543, time = 27.40 seconds ___\n"
          ],
          "name": "stdout"
        },
        {
          "output_type": "stream",
          "text": [
            "___ batch index = 1750 / 1836 (95.32%), loss = 0.0422, time = 29.89 seconds ___\n"
          ],
          "name": "stdout"
        },
        {
          "output_type": "stream",
          "text": [
            "\n",
            "*** avg_loss : 0.21, time : ~3.0 min (209.31 sec) ***\n",
            "\n"
          ],
          "name": "stdout"
        },
        {
          "output_type": "stream",
          "text": [
            "==> evaluation : avg_loss = 0.20, time : 28.75 sec\n",
            "\n"
          ],
          "name": "stdout"
        },
        {
          "output_type": "stream",
          "text": [
            "threshold:  [0.03227674]\n",
            "=====>\t{'Positive Rate': array([0.05107084], dtype=float32), 'accuracy': 0.09555189456342669, 'f1': 0.10147299509001638, 'recall': 1.0, 'specificity': 0.046875, 'g_mean': 0.21650635094610965, 'default_accuracy': 0.9489291598023064, 'default_f1': 0.0, 'default_recall': 0.0, 'default_specificity': 1.0, 'default_g_mean': 0.0}\n",
            "\n",
            "=============== EPOCH 4 / 6 ===============\n",
            "\n",
            "___ batch index = 0 / 1836 (0.00%), loss = 3.0189, time = 0.07 seconds ___\n"
          ],
          "name": "stdout"
        },
        {
          "output_type": "stream",
          "text": [
            "___ batch index = 250 / 1836 (13.62%), loss = 0.0566, time = 29.23 seconds ___\n"
          ],
          "name": "stdout"
        },
        {
          "output_type": "stream",
          "text": [
            "___ batch index = 500 / 1836 (27.23%), loss = 0.0669, time = 28.23 seconds ___\n"
          ],
          "name": "stdout"
        },
        {
          "output_type": "stream",
          "text": [
            "___ batch index = 750 / 1836 (40.85%), loss = 0.0635, time = 26.17 seconds ___\n"
          ],
          "name": "stdout"
        },
        {
          "output_type": "stream",
          "text": [
            "___ batch index = 1000 / 1836 (54.47%), loss = 0.0524, time = 29.94 seconds ___\n"
          ],
          "name": "stdout"
        },
        {
          "output_type": "stream",
          "text": [
            "___ batch index = 1250 / 1836 (68.08%), loss = 0.0495, time = 27.16 seconds ___\n"
          ],
          "name": "stdout"
        },
        {
          "output_type": "stream",
          "text": [
            "___ batch index = 1500 / 1836 (81.70%), loss = 0.0479, time = 27.41 seconds ___\n"
          ],
          "name": "stdout"
        },
        {
          "output_type": "stream",
          "text": [
            "___ batch index = 1750 / 1836 (95.32%), loss = 0.0403, time = 29.89 seconds ___\n"
          ],
          "name": "stdout"
        },
        {
          "output_type": "stream",
          "text": [
            "\n",
            "*** avg_loss : 0.21, time : ~3.0 min (209.48 sec) ***\n",
            "\n"
          ],
          "name": "stdout"
        },
        {
          "output_type": "stream",
          "text": [
            "==> evaluation : avg_loss = 0.20, time : 28.74 sec\n",
            "\n"
          ],
          "name": "stdout"
        },
        {
          "output_type": "stream",
          "text": [
            "threshold:  [0.03118055]\n",
            "=====>\t{'Positive Rate': array([0.05107084], dtype=float32), 'accuracy': 0.09719934102141681, 'f1': 0.10163934426229508, 'recall': 1.0, 'specificity': 0.04861111111111111, 'g_mean': 0.22047927592204922, 'default_accuracy': 0.9489291598023064, 'default_f1': 0.0, 'default_recall': 0.0, 'default_specificity': 1.0, 'default_g_mean': 0.0}\n",
            "\n",
            "=============== EPOCH 5 / 6 ===============\n",
            "\n",
            "___ batch index = 0 / 1836 (0.00%), loss = 3.1205, time = 0.07 seconds ___\n"
          ],
          "name": "stdout"
        },
        {
          "output_type": "stream",
          "text": [
            "___ batch index = 250 / 1836 (13.62%), loss = 0.0532, time = 29.22 seconds ___\n"
          ],
          "name": "stdout"
        },
        {
          "output_type": "stream",
          "text": [
            "___ batch index = 500 / 1836 (27.23%), loss = 0.0621, time = 28.22 seconds ___\n"
          ],
          "name": "stdout"
        },
        {
          "output_type": "stream",
          "text": [
            "___ batch index = 750 / 1836 (40.85%), loss = 0.0589, time = 26.17 seconds ___\n"
          ],
          "name": "stdout"
        },
        {
          "output_type": "stream",
          "text": [
            "___ batch index = 1000 / 1836 (54.47%), loss = 0.0502, time = 29.94 seconds ___\n"
          ],
          "name": "stdout"
        },
        {
          "output_type": "stream",
          "text": [
            "___ batch index = 1250 / 1836 (68.08%), loss = 0.0488, time = 27.15 seconds ___\n"
          ],
          "name": "stdout"
        },
        {
          "output_type": "stream",
          "text": [
            "___ batch index = 1500 / 1836 (81.70%), loss = 0.0475, time = 27.40 seconds ___\n"
          ],
          "name": "stdout"
        },
        {
          "output_type": "stream",
          "text": [
            "___ batch index = 1750 / 1836 (95.32%), loss = 0.0395, time = 29.88 seconds ___\n"
          ],
          "name": "stdout"
        },
        {
          "output_type": "stream",
          "text": [
            "\n",
            "*** avg_loss : 0.21, time : ~3.0 min (209.42 sec) ***\n",
            "\n"
          ],
          "name": "stdout"
        },
        {
          "output_type": "stream",
          "text": [
            "==> evaluation : avg_loss = 0.20, time : 28.73 sec\n",
            "\n"
          ],
          "name": "stdout"
        },
        {
          "output_type": "stream",
          "text": [
            "threshold:  [0.03103138]\n",
            "=====>\t{'Positive Rate': array([0.05107084], dtype=float32), 'accuracy': 0.09060955518945635, 'f1': 0.0980392156862745, 'recall': 0.967741935483871, 'specificity': 0.043402777777777776, 'g_mean': 0.20494557368248528, 'default_accuracy': 0.9489291598023064, 'default_f1': 0.0, 'default_recall': 0.0, 'default_specificity': 1.0, 'default_g_mean': 0.0}\n",
            "\n",
            "=============== EPOCH 6 / 6 ===============\n",
            "\n",
            "___ batch index = 0 / 1836 (0.00%), loss = 3.2201, time = 0.07 seconds ___\n"
          ],
          "name": "stdout"
        },
        {
          "output_type": "stream",
          "text": [
            "___ batch index = 250 / 1836 (13.62%), loss = 0.0536, time = 29.22 seconds ___\n"
          ],
          "name": "stdout"
        },
        {
          "output_type": "stream",
          "text": [
            "___ batch index = 500 / 1836 (27.23%), loss = 0.0628, time = 28.22 seconds ___\n"
          ],
          "name": "stdout"
        },
        {
          "output_type": "stream",
          "text": [
            "___ batch index = 750 / 1836 (40.85%), loss = 0.0576, time = 26.17 seconds ___\n"
          ],
          "name": "stdout"
        },
        {
          "output_type": "stream",
          "text": [
            "___ batch index = 1000 / 1836 (54.47%), loss = 0.0506, time = 29.94 seconds ___\n"
          ],
          "name": "stdout"
        },
        {
          "output_type": "stream",
          "text": [
            "___ batch index = 1250 / 1836 (68.08%), loss = 0.0476, time = 27.17 seconds ___\n"
          ],
          "name": "stdout"
        },
        {
          "output_type": "stream",
          "text": [
            "___ batch index = 1500 / 1836 (81.70%), loss = 0.0460, time = 27.44 seconds ___\n"
          ],
          "name": "stdout"
        },
        {
          "output_type": "stream",
          "text": [
            "___ batch index = 1750 / 1836 (95.32%), loss = 0.0398, time = 29.93 seconds ___\n"
          ],
          "name": "stdout"
        },
        {
          "output_type": "stream",
          "text": [
            "\n",
            "*** avg_loss : 0.21, time : ~3.0 min (209.54 sec) ***\n",
            "\n"
          ],
          "name": "stdout"
        },
        {
          "output_type": "stream",
          "text": [
            "==> evaluation : avg_loss = 0.20, time : 28.74 sec\n",
            "\n"
          ],
          "name": "stdout"
        },
        {
          "output_type": "stream",
          "text": [
            "threshold:  [0.03119177]\n",
            "=====>\t{'Positive Rate': array([0.05107084], dtype=float32), 'accuracy': 0.08896210873146623, 'f1': 0.09787928221859706, 'recall': 0.967741935483871, 'specificity': 0.041666666666666664, 'g_mean': 0.2008048322256247, 'default_accuracy': 0.9489291598023064, 'default_f1': 0.0, 'default_recall': 0.0, 'default_specificity': 1.0, 'default_g_mean': 0.0}\n"
          ],
          "name": "stdout"
        },
        {
          "output_type": "stream",
          "text": [
            "@@@@@@@@@@@@@@@@@@@@@@@@@@@@@@@@@@@@@@@@@@@@@ END @@@@@@@@@@@@@@@@@@@@@@@@@@@@@@@@@@@@@@@@@@@@@@@\n",
            "#################################################### Para label:  Control Neurólogo  (10) ##############\n",
            "------------------------------------------- exp: 1*1e-6 -----------------------------------------\n"
          ],
          "name": "stdout"
        },
        {
          "output_type": "stream",
          "text": [
            "Some weights of BertModel were not initialized from the model checkpoint at dccuchile/bert-base-spanish-wwm-cased and are newly initialized: ['bert.pooler.dense.weight', 'bert.pooler.dense.bias']\n",
            "You should probably TRAIN this model on a down-stream task to be able to use it for predictions and inference.\n"
          ],
          "name": "stderr"
        },
        {
          "output_type": "stream",
          "text": [
            "\n",
            "=============== EPOCH 1 / 6 ===============\n",
            "\n",
            "___ batch index = 0 / 1836 (0.00%), loss = 0.6510, time = 0.08 seconds ___\n"
          ],
          "name": "stdout"
        },
        {
          "output_type": "stream",
          "text": [
            "___ batch index = 250 / 1836 (13.62%), loss = 0.5276, time = 29.28 seconds ___\n"
          ],
          "name": "stdout"
        },
        {
          "output_type": "stream",
          "text": [
            "___ batch index = 500 / 1836 (27.23%), loss = 0.3876, time = 28.27 seconds ___\n"
          ],
          "name": "stdout"
        },
        {
          "output_type": "stream",
          "text": [
            "___ batch index = 750 / 1836 (40.85%), loss = 0.2756, time = 26.25 seconds ___\n"
          ],
          "name": "stdout"
        },
        {
          "output_type": "stream",
          "text": [
            "___ batch index = 1000 / 1836 (54.47%), loss = 0.1446, time = 29.98 seconds ___\n"
          ],
          "name": "stdout"
        },
        {
          "output_type": "stream",
          "text": [
            "___ batch index = 1250 / 1836 (68.08%), loss = 0.1137, time = 27.21 seconds ___\n"
          ],
          "name": "stdout"
        },
        {
          "output_type": "stream",
          "text": [
            "___ batch index = 1500 / 1836 (81.70%), loss = 0.0980, time = 27.46 seconds ___\n"
          ],
          "name": "stdout"
        },
        {
          "output_type": "stream",
          "text": [
            "___ batch index = 1750 / 1836 (95.32%), loss = 0.0620, time = 29.94 seconds ___\n"
          ],
          "name": "stdout"
        },
        {
          "output_type": "stream",
          "text": [
            "\n",
            "*** avg_loss : 0.27, time : ~3.0 min (209.88 sec) ***\n",
            "\n"
          ],
          "name": "stdout"
        },
        {
          "output_type": "stream",
          "text": [
            "==> evaluation : avg_loss = 0.12, time : 28.75 sec\n",
            "\n"
          ],
          "name": "stdout"
        },
        {
          "output_type": "stream",
          "text": [
            "threshold:  [0.04351661]\n",
            "=====>\t{'Positive Rate': array([0.0214168], dtype=float32), 'accuracy': 0.03789126853377265, 'f1': 0.03947368421052632, 'recall': 0.9230769230769231, 'specificity': 0.018518518518518517, 'g_mean': 0.1307440900921227, 'default_accuracy': 0.9785831960461285, 'default_f1': 0.0, 'default_recall': 0.0, 'default_specificity': 1.0, 'default_g_mean': 0.0}\n",
            "\n",
            "=============== EPOCH 2 / 6 ===============\n",
            "\n",
            "___ batch index = 0 / 1836 (0.00%), loss = 0.0809, time = 0.08 seconds ___\n"
          ],
          "name": "stdout"
        },
        {
          "output_type": "stream",
          "text": [
            "___ batch index = 250 / 1836 (13.62%), loss = 0.0700, time = 29.28 seconds ___\n"
          ],
          "name": "stdout"
        },
        {
          "output_type": "stream",
          "text": [
            "___ batch index = 500 / 1836 (27.23%), loss = 0.0693, time = 28.27 seconds ___\n"
          ],
          "name": "stdout"
        },
        {
          "output_type": "stream",
          "text": [
            "___ batch index = 750 / 1836 (40.85%), loss = 0.0681, time = 26.31 seconds ___\n"
          ],
          "name": "stdout"
        },
        {
          "output_type": "stream",
          "text": [
            "___ batch index = 1000 / 1836 (54.47%), loss = 0.0446, time = 29.97 seconds ___\n"
          ],
          "name": "stdout"
        },
        {
          "output_type": "stream",
          "text": [
            "___ batch index = 1250 / 1836 (68.08%), loss = 0.0423, time = 27.11 seconds ___\n"
          ],
          "name": "stdout"
        },
        {
          "output_type": "stream",
          "text": [
            "___ batch index = 1500 / 1836 (81.70%), loss = 0.0473, time = 27.35 seconds ___\n"
          ],
          "name": "stdout"
        },
        {
          "output_type": "stream",
          "text": [
            "___ batch index = 1750 / 1836 (95.32%), loss = 0.0338, time = 29.84 seconds ___\n"
          ],
          "name": "stdout"
        },
        {
          "output_type": "stream",
          "text": [
            "\n",
            "*** avg_loss : 0.11, time : ~3.0 min (209.59 sec) ***\n",
            "\n"
          ],
          "name": "stdout"
        },
        {
          "output_type": "stream",
          "text": [
            "==> evaluation : avg_loss = 0.11, time : 28.73 sec\n",
            "\n"
          ],
          "name": "stdout"
        },
        {
          "output_type": "stream",
          "text": [
            "threshold:  [0.02385527]\n",
            "=====>\t{'Positive Rate': array([0.0214168], dtype=float32), 'accuracy': 0.04118616144975288, 'f1': 0.04276315789473684, 'recall': 1.0, 'specificity': 0.020202020202020204, 'g_mean': 0.1421338109037403, 'default_accuracy': 0.9785831960461285, 'default_f1': 0.0, 'default_recall': 0.0, 'default_specificity': 1.0, 'default_g_mean': 0.0}\n",
            "\n",
            "=============== EPOCH 3 / 6 ===============\n",
            "\n",
            "___ batch index = 0 / 1836 (0.00%), loss = 0.0451, time = 0.08 seconds ___\n"
          ],
          "name": "stdout"
        },
        {
          "output_type": "stream",
          "text": [
            "___ batch index = 250 / 1836 (13.62%), loss = 0.0400, time = 29.19 seconds ___\n"
          ],
          "name": "stdout"
        },
        {
          "output_type": "stream",
          "text": [
            "___ batch index = 500 / 1836 (27.23%), loss = 0.0428, time = 28.17 seconds ___\n"
          ],
          "name": "stdout"
        },
        {
          "output_type": "stream",
          "text": [
            "___ batch index = 750 / 1836 (40.85%), loss = 0.0445, time = 26.22 seconds ___\n"
          ],
          "name": "stdout"
        },
        {
          "output_type": "stream",
          "text": [
            "___ batch index = 1000 / 1836 (54.47%), loss = 0.0312, time = 29.88 seconds ___\n"
          ],
          "name": "stdout"
        },
        {
          "output_type": "stream",
          "text": [
            "___ batch index = 1250 / 1836 (68.08%), loss = 0.0298, time = 27.11 seconds ___\n"
          ],
          "name": "stdout"
        },
        {
          "output_type": "stream",
          "text": [
            "___ batch index = 1500 / 1836 (81.70%), loss = 0.0321, time = 27.34 seconds ___\n"
          ],
          "name": "stdout"
        },
        {
          "output_type": "stream",
          "text": [
            "___ batch index = 1750 / 1836 (95.32%), loss = 0.0252, time = 29.83 seconds ___\n"
          ],
          "name": "stdout"
        },
        {
          "output_type": "stream",
          "text": [
            "\n",
            "*** avg_loss : 0.11, time : ~3.0 min (209.19 sec) ***\n",
            "\n"
          ],
          "name": "stdout"
        },
        {
          "output_type": "stream",
          "text": [
            "==> evaluation : avg_loss = 0.10, time : 28.73 sec\n",
            "\n"
          ],
          "name": "stdout"
        },
        {
          "output_type": "stream",
          "text": [
            "threshold:  [0.01846109]\n",
            "=====>\t{'Positive Rate': array([0.0214168], dtype=float32), 'accuracy': 0.032948929159802305, 'f1': 0.042414355628058724, 'recall': 1.0, 'specificity': 0.011784511784511785, 'g_mean': 0.10855649121315493, 'default_accuracy': 0.9785831960461285, 'default_f1': 0.0, 'default_recall': 0.0, 'default_specificity': 1.0, 'default_g_mean': 0.0}\n",
            "\n",
            "=============== EPOCH 4 / 6 ===============\n",
            "\n",
            "___ batch index = 0 / 1836 (0.00%), loss = 0.0346, time = 0.07 seconds ___\n"
          ],
          "name": "stdout"
        },
        {
          "output_type": "stream",
          "text": [
            "___ batch index = 250 / 1836 (13.62%), loss = 0.0316, time = 29.16 seconds ___\n"
          ],
          "name": "stdout"
        },
        {
          "output_type": "stream",
          "text": [
            "___ batch index = 500 / 1836 (27.23%), loss = 0.0337, time = 28.16 seconds ___\n"
          ],
          "name": "stdout"
        },
        {
          "output_type": "stream",
          "text": [
            "___ batch index = 750 / 1836 (40.85%), loss = 0.0331, time = 26.10 seconds ___\n"
          ],
          "name": "stdout"
        },
        {
          "output_type": "stream",
          "text": [
            "___ batch index = 1000 / 1836 (54.47%), loss = 0.0256, time = 29.86 seconds ___\n"
          ],
          "name": "stdout"
        },
        {
          "output_type": "stream",
          "text": [
            "___ batch index = 1250 / 1836 (68.08%), loss = 0.0264, time = 27.09 seconds ___\n"
          ],
          "name": "stdout"
        },
        {
          "output_type": "stream",
          "text": [
            "___ batch index = 1500 / 1836 (81.70%), loss = 0.0277, time = 27.33 seconds ___\n"
          ],
          "name": "stdout"
        },
        {
          "output_type": "stream",
          "text": [
            "___ batch index = 1750 / 1836 (95.32%), loss = 0.0217, time = 29.82 seconds ___\n"
          ],
          "name": "stdout"
        },
        {
          "output_type": "stream",
          "text": [
            "\n",
            "*** avg_loss : 0.10, time : ~3.0 min (208.94 sec) ***\n",
            "\n"
          ],
          "name": "stdout"
        },
        {
          "output_type": "stream",
          "text": [
            "==> evaluation : avg_loss = 0.10, time : 28.73 sec\n",
            "\n"
          ],
          "name": "stdout"
        },
        {
          "output_type": "stream",
          "text": [
            "threshold:  [0.01625927]\n",
            "=====>\t{'Positive Rate': array([0.0214168], dtype=float32), 'accuracy': 0.036243822075782535, 'f1': 0.042553191489361694, 'recall': 1.0, 'specificity': 0.015151515151515152, 'g_mean': 0.12309149097933274, 'default_accuracy': 0.9785831960461285, 'default_f1': 0.0, 'default_recall': 0.0, 'default_specificity': 1.0, 'default_g_mean': 0.0}\n",
            "\n",
            "=============== EPOCH 5 / 6 ===============\n",
            "\n",
            "___ batch index = 0 / 1836 (0.00%), loss = 0.0267, time = 0.07 seconds ___\n"
          ],
          "name": "stdout"
        },
        {
          "output_type": "stream",
          "text": [
            "___ batch index = 250 / 1836 (13.62%), loss = 0.0286, time = 29.16 seconds ___\n"
          ],
          "name": "stdout"
        },
        {
          "output_type": "stream",
          "text": [
            "___ batch index = 500 / 1836 (27.23%), loss = 0.0290, time = 28.16 seconds ___\n"
          ],
          "name": "stdout"
        },
        {
          "output_type": "stream",
          "text": [
            "___ batch index = 750 / 1836 (40.85%), loss = 0.0287, time = 26.11 seconds ___\n"
          ],
          "name": "stdout"
        },
        {
          "output_type": "stream",
          "text": [
            "___ batch index = 1000 / 1836 (54.47%), loss = 0.0236, time = 29.87 seconds ___\n"
          ],
          "name": "stdout"
        },
        {
          "output_type": "stream",
          "text": [
            "___ batch index = 1250 / 1836 (68.08%), loss = 0.0232, time = 27.09 seconds ___\n"
          ],
          "name": "stdout"
        },
        {
          "output_type": "stream",
          "text": [
            "___ batch index = 1500 / 1836 (81.70%), loss = 0.0246, time = 27.33 seconds ___\n"
          ],
          "name": "stdout"
        },
        {
          "output_type": "stream",
          "text": [
            "___ batch index = 1750 / 1836 (95.32%), loss = 0.0202, time = 29.82 seconds ___\n"
          ],
          "name": "stdout"
        },
        {
          "output_type": "stream",
          "text": [
            "\n",
            "*** avg_loss : 0.10, time : ~3.0 min (208.96 sec) ***\n",
            "\n"
          ],
          "name": "stdout"
        },
        {
          "output_type": "stream",
          "text": [
            "==> evaluation : avg_loss = 0.10, time : 28.73 sec\n",
            "\n"
          ],
          "name": "stdout"
        },
        {
          "output_type": "stream",
          "text": [
            "threshold:  [0.01506763]\n",
            "=====>\t{'Positive Rate': array([0.0214168], dtype=float32), 'accuracy': 0.03459637561779242, 'f1': 0.042483660130718956, 'recall': 1.0, 'specificity': 0.013468013468013467, 'g_mean': 0.11605177063713189, 'default_accuracy': 0.9785831960461285, 'default_f1': 0.0, 'default_recall': 0.0, 'default_specificity': 1.0, 'default_g_mean': 0.0}\n",
            "\n",
            "=============== EPOCH 6 / 6 ===============\n",
            "\n",
            "___ batch index = 0 / 1836 (0.00%), loss = 0.0229, time = 0.07 seconds ___\n"
          ],
          "name": "stdout"
        },
        {
          "output_type": "stream",
          "text": [
            "___ batch index = 250 / 1836 (13.62%), loss = 0.0271, time = 29.16 seconds ___\n"
          ],
          "name": "stdout"
        },
        {
          "output_type": "stream",
          "text": [
            "___ batch index = 500 / 1836 (27.23%), loss = 0.0260, time = 28.16 seconds ___\n"
          ],
          "name": "stdout"
        },
        {
          "output_type": "stream",
          "text": [
            "___ batch index = 750 / 1836 (40.85%), loss = 0.0265, time = 26.10 seconds ___\n"
          ],
          "name": "stdout"
        },
        {
          "output_type": "stream",
          "text": [
            "___ batch index = 1000 / 1836 (54.47%), loss = 0.0221, time = 29.86 seconds ___\n"
          ],
          "name": "stdout"
        },
        {
          "output_type": "stream",
          "text": [
            "___ batch index = 1250 / 1836 (68.08%), loss = 0.0216, time = 27.09 seconds ___\n"
          ],
          "name": "stdout"
        },
        {
          "output_type": "stream",
          "text": [
            "___ batch index = 1500 / 1836 (81.70%), loss = 0.0223, time = 27.34 seconds ___\n"
          ],
          "name": "stdout"
        },
        {
          "output_type": "stream",
          "text": [
            "___ batch index = 1750 / 1836 (95.32%), loss = 0.0191, time = 29.81 seconds ___\n"
          ],
          "name": "stdout"
        },
        {
          "output_type": "stream",
          "text": [
            "\n",
            "*** avg_loss : 0.10, time : ~3.0 min (208.93 sec) ***\n",
            "\n"
          ],
          "name": "stdout"
        },
        {
          "output_type": "stream",
          "text": [
            "==> evaluation : avg_loss = 0.10, time : 28.73 sec\n",
            "\n"
          ],
          "name": "stdout"
        },
        {
          "output_type": "stream",
          "text": [
            "threshold:  [0.01444067]\n",
            "=====>\t{'Positive Rate': array([0.0214168], dtype=float32), 'accuracy': 0.03789126853377265, 'f1': 0.03947368421052632, 'recall': 0.9230769230769231, 'specificity': 0.018518518518518517, 'g_mean': 0.1307440900921227, 'default_accuracy': 0.9785831960461285, 'default_f1': 0.0, 'default_recall': 0.0, 'default_specificity': 1.0, 'default_g_mean': 0.0}\n"
          ],
          "name": "stdout"
        },
        {
          "output_type": "stream",
          "text": [
            "@@@@@@@@@@@@@@@@@@@@@@@@@@@@@@@@@@@@@@@@@@@@@ END @@@@@@@@@@@@@@@@@@@@@@@@@@@@@@@@@@@@@@@@@@@@@@@\n",
            "#################################################### Para label:  Apoyo Interdisciplinario  (11) ##############\n",
            "------------------------------------------- exp: 10*1e-6 -----------------------------------------\n"
          ],
          "name": "stdout"
        },
        {
          "output_type": "stream",
          "text": [
            "Some weights of BertModel were not initialized from the model checkpoint at dccuchile/bert-base-spanish-wwm-cased and are newly initialized: ['bert.pooler.dense.weight', 'bert.pooler.dense.bias']\n",
            "You should probably TRAIN this model on a down-stream task to be able to use it for predictions and inference.\n"
          ],
          "name": "stderr"
        },
        {
          "output_type": "stream",
          "text": [
            "\n",
            "=============== EPOCH 1 / 6 ===============\n",
            "\n",
            "___ batch index = 0 / 1836 (0.00%), loss = 0.7475, time = 0.08 seconds ___\n"
          ],
          "name": "stdout"
        },
        {
          "output_type": "stream",
          "text": [
            "___ batch index = 250 / 1836 (13.62%), loss = 0.6634, time = 29.18 seconds ___\n"
          ],
          "name": "stdout"
        },
        {
          "output_type": "stream",
          "text": [
            "___ batch index = 500 / 1836 (27.23%), loss = 0.8211, time = 28.14 seconds ___\n"
          ],
          "name": "stdout"
        },
        {
          "output_type": "stream",
          "text": [
            "___ batch index = 750 / 1836 (40.85%), loss = 0.6459, time = 26.13 seconds ___\n"
          ],
          "name": "stdout"
        },
        {
          "output_type": "stream",
          "text": [
            "___ batch index = 1000 / 1836 (54.47%), loss = 0.6937, time = 29.86 seconds ___\n"
          ],
          "name": "stdout"
        },
        {
          "output_type": "stream",
          "text": [
            "___ batch index = 1250 / 1836 (68.08%), loss = 0.6695, time = 27.09 seconds ___\n"
          ],
          "name": "stdout"
        },
        {
          "output_type": "stream",
          "text": [
            "___ batch index = 1500 / 1836 (81.70%), loss = 0.7554, time = 27.33 seconds ___\n"
          ],
          "name": "stdout"
        },
        {
          "output_type": "stream",
          "text": [
            "___ batch index = 1750 / 1836 (95.32%), loss = 1.0826, time = 29.82 seconds ___\n"
          ],
          "name": "stdout"
        },
        {
          "output_type": "stream",
          "text": [
            "\n",
            "*** avg_loss : 0.71, time : ~3.0 min (209.02 sec) ***\n",
            "\n"
          ],
          "name": "stdout"
        },
        {
          "output_type": "stream",
          "text": [
            "==> evaluation : avg_loss = 0.71, time : 28.74 sec\n",
            "\n",
            "threshold:  [0.56788784]\n"
          ],
          "name": "stdout"
        },
        {
          "output_type": "stream",
          "text": [
            "=====>\t{'Positive Rate': array([0.47446457], dtype=float32), 'accuracy': 0.514003294892916, 'f1': 0.5155993431855501, 'recall': 0.5451388888888888, 'specificity': 0.48589341692789967, 'g_mean': 0.514664354140153, 'default_accuracy': 0.4744645799011532, 'default_f1': 0.6435754189944134, 'default_recall': 1.0, 'default_specificity': 0.0, 'default_g_mean': 0.0}\n",
            "\n",
            "=============== EPOCH 2 / 6 ===============\n",
            "\n",
            "___ batch index = 0 / 1836 (0.00%), loss = 0.7838, time = 0.09 seconds ___\n"
          ],
          "name": "stdout"
        },
        {
          "output_type": "stream",
          "text": [
            "___ batch index = 250 / 1836 (13.62%), loss = 0.6317, time = 29.17 seconds ___\n"
          ],
          "name": "stdout"
        },
        {
          "output_type": "stream",
          "text": [
            "___ batch index = 500 / 1836 (27.23%), loss = 0.8325, time = 28.15 seconds ___\n"
          ],
          "name": "stdout"
        },
        {
          "output_type": "stream",
          "text": [
            "___ batch index = 750 / 1836 (40.85%), loss = 0.6115, time = 26.19 seconds ___\n"
          ],
          "name": "stdout"
        },
        {
          "output_type": "stream",
          "text": [
            "___ batch index = 1000 / 1836 (54.47%), loss = 0.7127, time = 29.87 seconds ___\n"
          ],
          "name": "stdout"
        },
        {
          "output_type": "stream",
          "text": [
            "___ batch index = 1250 / 1836 (68.08%), loss = 0.6693, time = 27.11 seconds ___\n"
          ],
          "name": "stdout"
        },
        {
          "output_type": "stream",
          "text": [
            "___ batch index = 1500 / 1836 (81.70%), loss = 0.7449, time = 27.35 seconds ___\n"
          ],
          "name": "stdout"
        },
        {
          "output_type": "stream",
          "text": [
            "___ batch index = 1750 / 1836 (95.32%), loss = 1.0216, time = 29.84 seconds ___\n"
          ],
          "name": "stdout"
        },
        {
          "output_type": "stream",
          "text": [
            "\n",
            "*** avg_loss : 0.70, time : ~3.0 min (209.16 sec) ***\n",
            "\n"
          ],
          "name": "stdout"
        },
        {
          "output_type": "stream",
          "text": [
            "==> evaluation : avg_loss = 0.71, time : 28.74 sec\n",
            "\n",
            "threshold:  [0.5632591]\n",
            "=====>\t{'Positive Rate': array([0.47446457], dtype=float32), 'accuracy': 0.5024711696869851, 'f1': 0.5049180327868853, 'recall': 0.5347222222222222, 'specificity': 0.47335423197492166, 'g_mean': 0.503103395754713, 'default_accuracy': 0.4744645799011532, 'default_f1': 0.6435754189944134, 'default_recall': 1.0, 'default_specificity': 0.0, 'default_g_mean': 0.0}\n",
            "\n",
            "=============== EPOCH 3 / 6 ===============\n",
            "\n",
            "___ batch index = 0 / 1836 (0.00%), loss = 0.7542, time = 0.07 seconds ___\n"
          ],
          "name": "stdout"
        },
        {
          "output_type": "stream",
          "text": [
            "___ batch index = 250 / 1836 (13.62%), loss = 0.6492, time = 29.17 seconds ___\n"
          ],
          "name": "stdout"
        },
        {
          "output_type": "stream",
          "text": [
            "___ batch index = 500 / 1836 (27.23%), loss = 0.8127, time = 28.17 seconds ___\n"
          ],
          "name": "stdout"
        },
        {
          "output_type": "stream",
          "text": [
            "___ batch index = 750 / 1836 (40.85%), loss = 0.5991, time = 26.12 seconds ___\n"
          ],
          "name": "stdout"
        },
        {
          "output_type": "stream",
          "text": [
            "___ batch index = 1000 / 1836 (54.47%), loss = 0.7303, time = 29.89 seconds ___\n"
          ],
          "name": "stdout"
        },
        {
          "output_type": "stream",
          "text": [
            "___ batch index = 1250 / 1836 (68.08%), loss = 0.6767, time = 27.10 seconds ___\n"
          ],
          "name": "stdout"
        },
        {
          "output_type": "stream",
          "text": [
            "___ batch index = 1500 / 1836 (81.70%), loss = 0.7355, time = 27.34 seconds ___\n"
          ],
          "name": "stdout"
        },
        {
          "output_type": "stream",
          "text": [
            "___ batch index = 1750 / 1836 (95.32%), loss = 1.0637, time = 29.83 seconds ___\n"
          ],
          "name": "stdout"
        },
        {
          "output_type": "stream",
          "text": [
            "\n",
            "*** avg_loss : 0.70, time : ~3.0 min (209.03 sec) ***\n",
            "\n"
          ],
          "name": "stdout"
        },
        {
          "output_type": "stream",
          "text": [
            "==> evaluation : avg_loss = 0.70, time : 28.74 sec\n",
            "\n"
          ],
          "name": "stdout"
        },
        {
          "output_type": "stream",
          "text": [
            "threshold:  [0.5550267]\n",
            "=====>\t{'Positive Rate': array([0.47446457], dtype=float32), 'accuracy': 0.5370675453047776, 'f1': 0.5385878489326765, 'recall': 0.5694444444444444, 'specificity': 0.5078369905956113, 'g_mean': 0.5377591960887851, 'default_accuracy': 0.4744645799011532, 'default_f1': 0.6403607666290868, 'default_recall': 0.9861111111111112, 'default_specificity': 0.012539184952978056, 'default_g_mean': 0.11119815468976506}\n",
            "\n",
            "=============== EPOCH 4 / 6 ===============\n",
            "\n",
            "___ batch index = 0 / 1836 (0.00%), loss = 0.7253, time = 0.08 seconds ___\n"
          ],
          "name": "stdout"
        },
        {
          "output_type": "stream",
          "text": [
            "___ batch index = 250 / 1836 (13.62%), loss = 0.6697, time = 29.16 seconds ___\n"
          ],
          "name": "stdout"
        },
        {
          "output_type": "stream",
          "text": [
            "___ batch index = 500 / 1836 (27.23%), loss = 0.8030, time = 28.15 seconds ___\n"
          ],
          "name": "stdout"
        },
        {
          "output_type": "stream",
          "text": [
            "___ batch index = 750 / 1836 (40.85%), loss = 0.5770, time = 26.19 seconds ___\n"
          ],
          "name": "stdout"
        },
        {
          "output_type": "stream",
          "text": [
            "___ batch index = 1000 / 1836 (54.47%), loss = 0.7186, time = 29.87 seconds ___\n"
          ],
          "name": "stdout"
        },
        {
          "output_type": "stream",
          "text": [
            "___ batch index = 1250 / 1836 (68.08%), loss = 0.6582, time = 27.09 seconds ___\n"
          ],
          "name": "stdout"
        },
        {
          "output_type": "stream",
          "text": [
            "___ batch index = 1500 / 1836 (81.70%), loss = 0.7351, time = 27.33 seconds ___\n"
          ],
          "name": "stdout"
        },
        {
          "output_type": "stream",
          "text": [
            "___ batch index = 1750 / 1836 (95.32%), loss = 0.9800, time = 29.82 seconds ___\n"
          ],
          "name": "stdout"
        },
        {
          "output_type": "stream",
          "text": [
            "\n",
            "*** avg_loss : 0.69, time : ~3.0 min (209.07 sec) ***\n",
            "\n"
          ],
          "name": "stdout"
        },
        {
          "output_type": "stream",
          "text": [
            "==> evaluation : avg_loss = 0.71, time : 28.72 sec\n",
            "\n"
          ],
          "name": "stdout"
        },
        {
          "output_type": "stream",
          "text": [
            "threshold:  [0.56485856]\n",
            "=====>\t{'Positive Rate': array([0.47446457], dtype=float32), 'accuracy': 0.5189456342668863, 'f1': 0.521311475409836, 'recall': 0.5520833333333334, 'specificity': 0.4890282131661442, 'g_mean': 0.5196001597563349, 'default_accuracy': 0.471169686985173, 'default_f1': 0.6372881355932204, 'default_recall': 0.9791666666666666, 'default_specificity': 0.012539184952978056, 'default_g_mean': 0.11080592011767397}\n",
            "\n",
            "=============== EPOCH 5 / 6 ===============\n",
            "\n",
            "___ batch index = 0 / 1836 (0.00%), loss = 0.7108, time = 0.07 seconds ___\n"
          ],
          "name": "stdout"
        },
        {
          "output_type": "stream",
          "text": [
            "___ batch index = 250 / 1836 (13.62%), loss = 0.6544, time = 29.15 seconds ___\n"
          ],
          "name": "stdout"
        },
        {
          "output_type": "stream",
          "text": [
            "___ batch index = 500 / 1836 (27.23%), loss = 0.8174, time = 28.16 seconds ___\n"
          ],
          "name": "stdout"
        },
        {
          "output_type": "stream",
          "text": [
            "___ batch index = 750 / 1836 (40.85%), loss = 0.5440, time = 26.11 seconds ___\n"
          ],
          "name": "stdout"
        },
        {
          "output_type": "stream",
          "text": [
            "___ batch index = 1000 / 1836 (54.47%), loss = 0.7244, time = 29.87 seconds ___\n"
          ],
          "name": "stdout"
        },
        {
          "output_type": "stream",
          "text": [
            "___ batch index = 1250 / 1836 (68.08%), loss = 0.6577, time = 27.10 seconds ___\n"
          ],
          "name": "stdout"
        },
        {
          "output_type": "stream",
          "text": [
            "___ batch index = 1500 / 1836 (81.70%), loss = 0.6787, time = 27.34 seconds ___\n"
          ],
          "name": "stdout"
        },
        {
          "output_type": "stream",
          "text": [
            "___ batch index = 1750 / 1836 (95.32%), loss = 1.0444, time = 29.82 seconds ___\n"
          ],
          "name": "stdout"
        },
        {
          "output_type": "stream",
          "text": [
            "\n",
            "*** avg_loss : 0.67, time : ~3.0 min (208.97 sec) ***\n",
            "\n"
          ],
          "name": "stdout"
        },
        {
          "output_type": "stream",
          "text": [
            "==> evaluation : avg_loss = 0.70, time : 28.77 sec\n",
            "\n"
          ],
          "name": "stdout"
        },
        {
          "output_type": "stream",
          "text": [
            "threshold:  [0.567321]\n",
            "=====>\t{'Positive Rate': array([0.47446457], dtype=float32), 'accuracy': 0.5354200988467874, 'f1': 0.5361842105263158, 'recall': 0.5659722222222222, 'specificity': 0.5078369905956113, 'g_mean': 0.5361171794431175, 'default_accuracy': 0.48599670510708404, 'default_f1': 0.6470588235294118, 'default_recall': 0.9930555555555556, 'default_specificity': 0.02821316614420063, 'default_g_mean': 0.16738351585299655}\n",
            "\n",
            "=============== EPOCH 6 / 6 ===============\n",
            "\n",
            "___ batch index = 0 / 1836 (0.00%), loss = 0.5513, time = 0.08 seconds ___\n"
          ],
          "name": "stdout"
        },
        {
          "output_type": "stream",
          "text": [
            "___ batch index = 250 / 1836 (13.62%), loss = 0.6202, time = 29.20 seconds ___\n"
          ],
          "name": "stdout"
        },
        {
          "output_type": "stream",
          "text": [
            "___ batch index = 500 / 1836 (27.23%), loss = 0.8391, time = 28.16 seconds ___\n"
          ],
          "name": "stdout"
        },
        {
          "output_type": "stream",
          "text": [
            "___ batch index = 750 / 1836 (40.85%), loss = 0.4826, time = 26.11 seconds ___\n"
          ],
          "name": "stdout"
        },
        {
          "output_type": "stream",
          "text": [
            "___ batch index = 1000 / 1836 (54.47%), loss = 0.7123, time = 29.87 seconds ___\n"
          ],
          "name": "stdout"
        },
        {
          "output_type": "stream",
          "text": [
            "___ batch index = 1250 / 1836 (68.08%), loss = 0.6195, time = 27.10 seconds ___\n"
          ],
          "name": "stdout"
        },
        {
          "output_type": "stream",
          "text": [
            "___ batch index = 1500 / 1836 (81.70%), loss = 0.5895, time = 27.33 seconds ___\n"
          ],
          "name": "stdout"
        },
        {
          "output_type": "stream",
          "text": [
            "___ batch index = 1750 / 1836 (95.32%), loss = 1.0578, time = 29.82 seconds ___\n"
          ],
          "name": "stdout"
        },
        {
          "output_type": "stream",
          "text": [
            "\n",
            "*** avg_loss : 0.63, time : ~3.0 min (209.03 sec) ***\n",
            "\n"
          ],
          "name": "stdout"
        },
        {
          "output_type": "stream",
          "text": [
            "==> evaluation : avg_loss = 0.72, time : 28.75 sec\n",
            "\n"
          ],
          "name": "stdout"
        },
        {
          "output_type": "stream",
          "text": [
            "threshold:  [0.57525975]\n",
            "=====>\t{'Positive Rate': array([0.47446457], dtype=float32), 'accuracy': 0.5255354200988468, 'f1': 0.5263157894736842, 'recall': 0.5555555555555556, 'specificity': 0.49843260188087773, 'g_mean': 0.5262195369282027, 'default_accuracy': 0.515650741350906, 'default_f1': 0.6171875, 'default_recall': 0.8229166666666666, 'default_specificity': 0.23824451410658307, 'default_g_mean': 0.44278141492186524}\n"
          ],
          "name": "stdout"
        },
        {
          "output_type": "stream",
          "text": [
            "@@@@@@@@@@@@@@@@@@@@@@@@@@@@@@@@@@@@@@@@@@@@@ END @@@@@@@@@@@@@@@@@@@@@@@@@@@@@@@@@@@@@@@@@@@@@@@\n",
            "#################################################### Para label:  Adecuación curricular de acceso  (12) ##############\n",
            "------------------------------------------- exp: 1*1e-6 -----------------------------------------\n"
          ],
          "name": "stdout"
        },
        {
          "output_type": "stream",
          "text": [
            "Some weights of BertModel were not initialized from the model checkpoint at dccuchile/bert-base-spanish-wwm-cased and are newly initialized: ['bert.pooler.dense.weight', 'bert.pooler.dense.bias']\n",
            "You should probably TRAIN this model on a down-stream task to be able to use it for predictions and inference.\n"
          ],
          "name": "stderr"
        },
        {
          "output_type": "stream",
          "text": [
            "\n",
            "=============== EPOCH 1 / 6 ===============\n",
            "\n",
            "___ batch index = 0 / 1836 (0.00%), loss = 0.7708, time = 0.08 seconds ___\n"
          ],
          "name": "stdout"
        },
        {
          "output_type": "stream",
          "text": [
            "___ batch index = 250 / 1836 (13.62%), loss = 0.5959, time = 29.18 seconds ___\n"
          ],
          "name": "stdout"
        },
        {
          "output_type": "stream",
          "text": [
            "___ batch index = 500 / 1836 (27.23%), loss = 0.6205, time = 28.16 seconds ___\n"
          ],
          "name": "stdout"
        },
        {
          "output_type": "stream",
          "text": [
            "___ batch index = 750 / 1836 (40.85%), loss = 0.4596, time = 26.14 seconds ___\n"
          ],
          "name": "stdout"
        },
        {
          "output_type": "stream",
          "text": [
            "___ batch index = 1000 / 1836 (54.47%), loss = 0.9638, time = 29.88 seconds ___\n"
          ],
          "name": "stdout"
        },
        {
          "output_type": "stream",
          "text": [
            "___ batch index = 1250 / 1836 (68.08%), loss = 0.5504, time = 27.10 seconds ___\n"
          ],
          "name": "stdout"
        },
        {
          "output_type": "stream",
          "text": [
            "___ batch index = 1500 / 1836 (81.70%), loss = 0.5409, time = 27.34 seconds ___\n"
          ],
          "name": "stdout"
        },
        {
          "output_type": "stream",
          "text": [
            "___ batch index = 1750 / 1836 (95.32%), loss = 0.6983, time = 29.83 seconds ___\n"
          ],
          "name": "stdout"
        },
        {
          "output_type": "stream",
          "text": [
            "\n",
            "*** avg_loss : 0.60, time : ~3.0 min (209.10 sec) ***\n",
            "\n"
          ],
          "name": "stdout"
        },
        {
          "output_type": "stream",
          "text": [
            "==> evaluation : avg_loss = 0.53, time : 28.75 sec\n",
            "\n"
          ],
          "name": "stdout"
        },
        {
          "output_type": "stream",
          "text": [
            "threshold:  [0.75516]\n",
            "=====>\t{'Positive Rate': array([0.78088963], dtype=float32), 'accuracy': 0.37397034596375617, 'f1': 0.3708609271523179, 'recall': 0.23628691983122363, 'specificity': 0.8646616541353384, 'g_mean': 0.45200468908166197, 'default_accuracy': 0.7808896210873146, 'default_f1': 0.8769657724329325, 'default_recall': 1.0, 'default_specificity': 0.0, 'default_g_mean': 0.0}\n",
            "\n",
            "=============== EPOCH 2 / 6 ===============\n",
            "\n",
            "___ batch index = 0 / 1836 (0.00%), loss = 1.2459, time = 0.08 seconds ___\n"
          ],
          "name": "stdout"
        },
        {
          "output_type": "stream",
          "text": [
            "___ batch index = 250 / 1836 (13.62%), loss = 0.3913, time = 29.19 seconds ___\n"
          ],
          "name": "stdout"
        },
        {
          "output_type": "stream",
          "text": [
            "___ batch index = 500 / 1836 (27.23%), loss = 0.6408, time = 28.19 seconds ___\n"
          ],
          "name": "stdout"
        },
        {
          "output_type": "stream",
          "text": [
            "___ batch index = 750 / 1836 (40.85%), loss = 0.4202, time = 26.22 seconds ___\n"
          ],
          "name": "stdout"
        },
        {
          "output_type": "stream",
          "text": [
            "___ batch index = 1000 / 1836 (54.47%), loss = 1.0161, time = 29.89 seconds ___\n"
          ],
          "name": "stdout"
        },
        {
          "output_type": "stream",
          "text": [
            "___ batch index = 1250 / 1836 (68.08%), loss = 0.5423, time = 27.11 seconds ___\n"
          ],
          "name": "stdout"
        },
        {
          "output_type": "stream",
          "text": [
            "___ batch index = 1500 / 1836 (81.70%), loss = 0.5231, time = 27.36 seconds ___\n"
          ],
          "name": "stdout"
        },
        {
          "output_type": "stream",
          "text": [
            "___ batch index = 1750 / 1836 (95.32%), loss = 0.6988, time = 29.89 seconds ___\n"
          ],
          "name": "stdout"
        },
        {
          "output_type": "stream",
          "text": [
            "\n",
            "*** avg_loss : 0.59, time : ~3.0 min (209.34 sec) ***\n",
            "\n"
          ],
          "name": "stdout"
        },
        {
          "output_type": "stream",
          "text": [
            "==> evaluation : avg_loss = 0.53, time : 28.74 sec\n",
            "\n"
          ],
          "name": "stdout"
        },
        {
          "output_type": "stream",
          "text": [
            "threshold:  [0.74946684]\n",
            "=====>\t{'Positive Rate': array([0.78088963], dtype=float32), 'accuracy': 0.3542009884678748, 'f1': 0.3531353135313531, 'recall': 0.22573839662447256, 'specificity': 0.8120300751879699, 'g_mean': 0.42814292845238283, 'default_accuracy': 0.7808896210873146, 'default_f1': 0.8769657724329325, 'default_recall': 1.0, 'default_specificity': 0.0, 'default_g_mean': 0.0}\n",
            "\n",
            "=============== EPOCH 3 / 6 ===============\n",
            "\n",
            "___ batch index = 0 / 1836 (0.00%), loss = 1.2958, time = 0.07 seconds ___\n"
          ],
          "name": "stdout"
        },
        {
          "output_type": "stream",
          "text": [
            "___ batch index = 250 / 1836 (13.62%), loss = 0.3969, time = 29.26 seconds ___\n"
          ],
          "name": "stdout"
        },
        {
          "output_type": "stream",
          "text": [
            "___ batch index = 500 / 1836 (27.23%), loss = 0.6384, time = 28.28 seconds ___\n"
          ],
          "name": "stdout"
        },
        {
          "output_type": "stream",
          "text": [
            "___ batch index = 750 / 1836 (40.85%), loss = 0.4050, time = 26.22 seconds ___\n"
          ],
          "name": "stdout"
        },
        {
          "output_type": "stream",
          "text": [
            "___ batch index = 1000 / 1836 (54.47%), loss = 1.0132, time = 29.98 seconds ___\n"
          ],
          "name": "stdout"
        },
        {
          "output_type": "stream",
          "text": [
            "___ batch index = 1250 / 1836 (68.08%), loss = 0.5485, time = 27.10 seconds ___\n"
          ],
          "name": "stdout"
        },
        {
          "output_type": "stream",
          "text": [
            "___ batch index = 1500 / 1836 (81.70%), loss = 0.5278, time = 27.34 seconds ___\n"
          ],
          "name": "stdout"
        },
        {
          "output_type": "stream",
          "text": [
            "___ batch index = 1750 / 1836 (95.32%), loss = 0.6841, time = 29.89 seconds ___\n"
          ],
          "name": "stdout"
        },
        {
          "output_type": "stream",
          "text": [
            "\n",
            "*** avg_loss : 0.59, time : ~3.0 min (209.55 sec) ***\n",
            "\n"
          ],
          "name": "stdout"
        },
        {
          "output_type": "stream",
          "text": [
            "==> evaluation : avg_loss = 0.53, time : 28.73 sec\n",
            "\n"
          ],
          "name": "stdout"
        },
        {
          "output_type": "stream",
          "text": [
            "threshold:  [0.7491873]\n",
            "=====>\t{'Positive Rate': array([0.78088963], dtype=float32), 'accuracy': 0.34596375617792424, 'f1': 0.34380165289256204, 'recall': 0.21940928270042195, 'specificity': 0.7969924812030075, 'g_mean': 0.4181716736202745, 'default_accuracy': 0.7808896210873146, 'default_f1': 0.8769657724329325, 'default_recall': 1.0, 'default_specificity': 0.0, 'default_g_mean': 0.0}\n",
            "\n",
            "=============== EPOCH 4 / 6 ===============\n",
            "\n",
            "___ batch index = 0 / 1836 (0.00%), loss = 1.2912, time = 0.07 seconds ___\n"
          ],
          "name": "stdout"
        },
        {
          "output_type": "stream",
          "text": [
            "___ batch index = 250 / 1836 (13.62%), loss = 0.3884, time = 29.27 seconds ___\n"
          ],
          "name": "stdout"
        },
        {
          "output_type": "stream",
          "text": [
            "___ batch index = 500 / 1836 (27.23%), loss = 0.6349, time = 28.28 seconds ___\n"
          ],
          "name": "stdout"
        },
        {
          "output_type": "stream",
          "text": [
            "___ batch index = 750 / 1836 (40.85%), loss = 0.4082, time = 26.22 seconds ___\n"
          ],
          "name": "stdout"
        },
        {
          "output_type": "stream",
          "text": [
            "___ batch index = 1000 / 1836 (54.47%), loss = 0.9955, time = 29.98 seconds ___\n"
          ],
          "name": "stdout"
        },
        {
          "output_type": "stream",
          "text": [
            "___ batch index = 1250 / 1836 (68.08%), loss = 0.5550, time = 27.21 seconds ___\n"
          ],
          "name": "stdout"
        },
        {
          "output_type": "stream",
          "text": [
            "___ batch index = 1500 / 1836 (81.70%), loss = 0.5181, time = 27.45 seconds ___\n"
          ],
          "name": "stdout"
        },
        {
          "output_type": "stream",
          "text": [
            "___ batch index = 1750 / 1836 (95.32%), loss = 0.6862, time = 29.93 seconds ___\n"
          ],
          "name": "stdout"
        },
        {
          "output_type": "stream",
          "text": [
            "\n",
            "*** avg_loss : 0.58, time : ~3.0 min (209.80 sec) ***\n",
            "\n"
          ],
          "name": "stdout"
        },
        {
          "output_type": "stream",
          "text": [
            "==> evaluation : avg_loss = 0.53, time : 28.73 sec\n",
            "\n"
          ],
          "name": "stdout"
        },
        {
          "output_type": "stream",
          "text": [
            "threshold:  [0.75263864]\n",
            "=====>\t{'Positive Rate': array([0.78088963], dtype=float32), 'accuracy': 0.35090609555189456, 'f1': 0.34983498349834985, 'recall': 0.22362869198312235, 'specificity': 0.8045112781954887, 'g_mean': 0.4241601169706164, 'default_accuracy': 0.7808896210873146, 'default_f1': 0.8769657724329325, 'default_recall': 1.0, 'default_specificity': 0.0, 'default_g_mean': 0.0}\n",
            "\n",
            "=============== EPOCH 5 / 6 ===============\n",
            "\n",
            "___ batch index = 0 / 1836 (0.00%), loss = 1.3524, time = 0.07 seconds ___\n"
          ],
          "name": "stdout"
        },
        {
          "output_type": "stream",
          "text": [
            "___ batch index = 250 / 1836 (13.62%), loss = 0.3857, time = 29.27 seconds ___\n"
          ],
          "name": "stdout"
        },
        {
          "output_type": "stream",
          "text": [
            "___ batch index = 500 / 1836 (27.23%), loss = 0.6283, time = 28.28 seconds ___\n"
          ],
          "name": "stdout"
        },
        {
          "output_type": "stream",
          "text": [
            "___ batch index = 750 / 1836 (40.85%), loss = 0.4068, time = 26.22 seconds ___\n"
          ],
          "name": "stdout"
        },
        {
          "output_type": "stream",
          "text": [
            "___ batch index = 1000 / 1836 (54.47%), loss = 0.9949, time = 29.99 seconds ___\n"
          ],
          "name": "stdout"
        },
        {
          "output_type": "stream",
          "text": [
            "___ batch index = 1250 / 1836 (68.08%), loss = 0.5564, time = 27.21 seconds ___\n"
          ],
          "name": "stdout"
        },
        {
          "output_type": "stream",
          "text": [
            "___ batch index = 1500 / 1836 (81.70%), loss = 0.5224, time = 27.44 seconds ___\n"
          ],
          "name": "stdout"
        },
        {
          "output_type": "stream",
          "text": [
            "___ batch index = 1750 / 1836 (95.32%), loss = 0.6700, time = 29.95 seconds ___\n"
          ],
          "name": "stdout"
        },
        {
          "output_type": "stream",
          "text": [
            "\n",
            "*** avg_loss : 0.58, time : ~3.0 min (209.80 sec) ***\n",
            "\n"
          ],
          "name": "stdout"
        },
        {
          "output_type": "stream",
          "text": [
            "==> evaluation : avg_loss = 0.53, time : 28.74 sec\n",
            "\n"
          ],
          "name": "stdout"
        },
        {
          "output_type": "stream",
          "text": [
            "threshold:  [0.7553893]\n",
            "=====>\t{'Positive Rate': array([0.78088963], dtype=float32), 'accuracy': 0.3542009884678748, 'f1': 0.3531353135313531, 'recall': 0.22573839662447256, 'specificity': 0.8120300751879699, 'g_mean': 0.42814292845238283, 'default_accuracy': 0.7808896210873146, 'default_f1': 0.8769657724329325, 'default_recall': 1.0, 'default_specificity': 0.0, 'default_g_mean': 0.0}\n",
            "\n",
            "=============== EPOCH 6 / 6 ===============\n",
            "\n",
            "___ batch index = 0 / 1836 (0.00%), loss = 1.2345, time = 0.07 seconds ___\n"
          ],
          "name": "stdout"
        },
        {
          "output_type": "stream",
          "text": [
            "___ batch index = 250 / 1836 (13.62%), loss = 0.3745, time = 29.17 seconds ___\n"
          ],
          "name": "stdout"
        },
        {
          "output_type": "stream",
          "text": [
            "___ batch index = 500 / 1836 (27.23%), loss = 0.6282, time = 28.17 seconds ___\n"
          ],
          "name": "stdout"
        },
        {
          "output_type": "stream",
          "text": [
            "___ batch index = 750 / 1836 (40.85%), loss = 0.3994, time = 26.12 seconds ___\n"
          ],
          "name": "stdout"
        },
        {
          "output_type": "stream",
          "text": [
            "___ batch index = 1000 / 1836 (54.47%), loss = 0.9882, time = 29.88 seconds ___\n"
          ],
          "name": "stdout"
        },
        {
          "output_type": "stream",
          "text": [
            "___ batch index = 1250 / 1836 (68.08%), loss = 0.5674, time = 27.02 seconds ___\n"
          ],
          "name": "stdout"
        },
        {
          "output_type": "stream",
          "text": [
            "___ batch index = 1500 / 1836 (81.70%), loss = 0.5131, time = 27.26 seconds ___\n"
          ],
          "name": "stdout"
        },
        {
          "output_type": "stream",
          "text": [
            "___ batch index = 1750 / 1836 (95.32%), loss = 0.6719, time = 29.75 seconds ___\n"
          ],
          "name": "stdout"
        },
        {
          "output_type": "stream",
          "text": [
            "\n",
            "*** avg_loss : 0.58, time : ~3.0 min (208.75 sec) ***\n",
            "\n"
          ],
          "name": "stdout"
        },
        {
          "output_type": "stream",
          "text": [
            "==> evaluation : avg_loss = 0.53, time : 28.59 sec\n",
            "\n"
          ],
          "name": "stdout"
        },
        {
          "output_type": "stream",
          "text": [
            "threshold:  [0.7611381]\n",
            "=====>\t{'Positive Rate': array([0.78088963], dtype=float32), 'accuracy': 0.35090609555189456, 'f1': 0.34983498349834985, 'recall': 0.22362869198312235, 'specificity': 0.8045112781954887, 'g_mean': 0.4241601169706164, 'default_accuracy': 0.7808896210873146, 'default_f1': 0.8769657724329325, 'default_recall': 1.0, 'default_specificity': 0.0, 'default_g_mean': 0.0}\n"
          ],
          "name": "stdout"
        },
        {
          "output_type": "stream",
          "text": [
            "@@@@@@@@@@@@@@@@@@@@@@@@@@@@@@@@@@@@@@@@@@@@@ END @@@@@@@@@@@@@@@@@@@@@@@@@@@@@@@@@@@@@@@@@@@@@@@\n",
            "#################################################### Para label:  Adecuación curricular de objetivos  (13) ##############\n",
            "------------------------------------------- exp: 5*1e-6 -----------------------------------------\n"
          ],
          "name": "stdout"
        },
        {
          "output_type": "stream",
          "text": [
            "Some weights of BertModel were not initialized from the model checkpoint at dccuchile/bert-base-spanish-wwm-cased and are newly initialized: ['bert.pooler.dense.weight', 'bert.pooler.dense.bias']\n",
            "You should probably TRAIN this model on a down-stream task to be able to use it for predictions and inference.\n"
          ],
          "name": "stderr"
        },
        {
          "output_type": "stream",
          "text": [
            "\n",
            "=============== EPOCH 1 / 6 ===============\n",
            "\n",
            "___ batch index = 0 / 1836 (0.00%), loss = 0.5771, time = 0.08 seconds ___\n"
          ],
          "name": "stdout"
        },
        {
          "output_type": "stream",
          "text": [
            "___ batch index = 250 / 1836 (13.62%), loss = 1.5585, time = 29.14 seconds ___\n"
          ],
          "name": "stdout"
        },
        {
          "output_type": "stream",
          "text": [
            "___ batch index = 500 / 1836 (27.23%), loss = 0.4492, time = 28.22 seconds ___\n"
          ],
          "name": "stdout"
        },
        {
          "output_type": "stream",
          "text": [
            "___ batch index = 750 / 1836 (40.85%), loss = 0.2824, time = 26.18 seconds ___\n"
          ],
          "name": "stdout"
        },
        {
          "output_type": "stream",
          "text": [
            "___ batch index = 1000 / 1836 (54.47%), loss = 0.1670, time = 29.88 seconds ___\n"
          ],
          "name": "stdout"
        },
        {
          "output_type": "stream",
          "text": [
            "___ batch index = 1250 / 1836 (68.08%), loss = 0.0909, time = 27.06 seconds ___\n"
          ],
          "name": "stdout"
        },
        {
          "output_type": "stream",
          "text": [
            "___ batch index = 1500 / 1836 (81.70%), loss = 0.0509, time = 27.26 seconds ___\n"
          ],
          "name": "stdout"
        },
        {
          "output_type": "stream",
          "text": [
            "___ batch index = 1750 / 1836 (95.32%), loss = 0.0293, time = 29.74 seconds ___\n"
          ],
          "name": "stdout"
        },
        {
          "output_type": "stream",
          "text": [
            "\n",
            "*** avg_loss : 0.33, time : ~3.0 min (208.92 sec) ***\n",
            "\n"
          ],
          "name": "stdout"
        },
        {
          "output_type": "stream",
          "text": [
            "==> evaluation : avg_loss = 0.37, time : 28.61 sec\n",
            "\n"
          ],
          "name": "stdout"
        },
        {
          "output_type": "stream",
          "text": [
            "threshold:  [0.02069396]\n",
            "=====>\t{'Positive Rate': array([0.092257], dtype=float32), 'accuracy': 0.1614497528830313, 'f1': 0.17235772357723575, 'recall': 0.9464285714285714, 'specificity': 0.08166969147005444, 'g_mean': 0.27801893717338, 'default_accuracy': 0.9077429983525536, 'default_f1': 0.0, 'default_recall': 0.0, 'default_specificity': 1.0, 'default_g_mean': 0.0}\n",
            "\n",
            "=============== EPOCH 2 / 6 ===============\n",
            "\n",
            "___ batch index = 0 / 1836 (0.00%), loss = 0.0242, time = 0.08 seconds ___\n"
          ],
          "name": "stdout"
        },
        {
          "output_type": "stream",
          "text": [
            "___ batch index = 250 / 1836 (13.62%), loss = 3.1537, time = 29.22 seconds ___\n"
          ],
          "name": "stdout"
        },
        {
          "output_type": "stream",
          "text": [
            "___ batch index = 500 / 1836 (27.23%), loss = 0.2426, time = 28.18 seconds ___\n"
          ],
          "name": "stdout"
        },
        {
          "output_type": "stream",
          "text": [
            "___ batch index = 750 / 1836 (40.85%), loss = 0.1602, time = 26.22 seconds ___\n"
          ],
          "name": "stdout"
        },
        {
          "output_type": "stream",
          "text": [
            "___ batch index = 1000 / 1836 (54.47%), loss = 0.0964, time = 29.90 seconds ___\n"
          ],
          "name": "stdout"
        },
        {
          "output_type": "stream",
          "text": [
            "___ batch index = 1250 / 1836 (68.08%), loss = 0.0645, time = 27.12 seconds ___\n"
          ],
          "name": "stdout"
        },
        {
          "output_type": "stream",
          "text": [
            "___ batch index = 1500 / 1836 (81.70%), loss = 0.0478, time = 27.36 seconds ___\n"
          ],
          "name": "stdout"
        },
        {
          "output_type": "stream",
          "text": [
            "___ batch index = 1750 / 1836 (95.32%), loss = 0.0329, time = 29.85 seconds ___\n"
          ],
          "name": "stdout"
        },
        {
          "output_type": "stream",
          "text": [
            "\n",
            "*** avg_loss : 0.38, time : ~3.0 min (209.32 sec) ***\n",
            "\n"
          ],
          "name": "stdout"
        },
        {
          "output_type": "stream",
          "text": [
            "==> evaluation : avg_loss = 0.36, time : 28.79 sec\n",
            "\n"
          ],
          "name": "stdout"
        },
        {
          "output_type": "stream",
          "text": [
            "threshold:  [0.02427705]\n",
            "=====>\t{'Positive Rate': array([0.092257], dtype=float32), 'accuracy': 0.1614497528830313, 'f1': 0.17235772357723575, 'recall': 0.9464285714285714, 'specificity': 0.08166969147005444, 'g_mean': 0.27801893717338, 'default_accuracy': 0.9077429983525536, 'default_f1': 0.0, 'default_recall': 0.0, 'default_specificity': 1.0, 'default_g_mean': 0.0}\n",
            "\n",
            "=============== EPOCH 3 / 6 ===============\n",
            "\n",
            "___ batch index = 0 / 1836 (0.00%), loss = 0.0361, time = 0.07 seconds ___\n"
          ],
          "name": "stdout"
        },
        {
          "output_type": "stream",
          "text": [
            "___ batch index = 250 / 1836 (13.62%), loss = 2.7344, time = 29.16 seconds ___\n"
          ],
          "name": "stdout"
        },
        {
          "output_type": "stream",
          "text": [
            "___ batch index = 500 / 1836 (27.23%), loss = 0.5721, time = 28.17 seconds ___\n"
          ],
          "name": "stdout"
        },
        {
          "output_type": "stream",
          "text": [
            "___ batch index = 750 / 1836 (40.85%), loss = 0.1696, time = 26.12 seconds ___\n"
          ],
          "name": "stdout"
        },
        {
          "output_type": "stream",
          "text": [
            "___ batch index = 1000 / 1836 (54.47%), loss = 0.0719, time = 29.89 seconds ___\n"
          ],
          "name": "stdout"
        },
        {
          "output_type": "stream",
          "text": [
            "___ batch index = 1250 / 1836 (68.08%), loss = 0.0466, time = 27.11 seconds ___\n"
          ],
          "name": "stdout"
        },
        {
          "output_type": "stream",
          "text": [
            "___ batch index = 1500 / 1836 (81.70%), loss = 0.0404, time = 27.34 seconds ___\n"
          ],
          "name": "stdout"
        },
        {
          "output_type": "stream",
          "text": [
            "___ batch index = 1750 / 1836 (95.32%), loss = 0.0279, time = 29.83 seconds ___\n"
          ],
          "name": "stdout"
        },
        {
          "output_type": "stream",
          "text": [
            "\n",
            "*** avg_loss : 0.38, time : ~3.0 min (209.05 sec) ***\n",
            "\n"
          ],
          "name": "stdout"
        },
        {
          "output_type": "stream",
          "text": [
            "==> evaluation : avg_loss = 0.37, time : 28.82 sec\n",
            "\n"
          ],
          "name": "stdout"
        },
        {
          "output_type": "stream",
          "text": [
            "threshold:  [0.01870739]\n",
            "=====>\t{'Positive Rate': array([0.092257], dtype=float32), 'accuracy': 0.16474464579901152, 'f1': 0.16748768472906403, 'recall': 0.9107142857142857, 'specificity': 0.08892921960072596, 'g_mean': 0.28458585823579496, 'default_accuracy': 0.9077429983525536, 'default_f1': 0.0, 'default_recall': 0.0, 'default_specificity': 1.0, 'default_g_mean': 0.0}\n",
            "\n",
            "=============== EPOCH 4 / 6 ===============\n",
            "\n",
            "___ batch index = 0 / 1836 (0.00%), loss = 0.0352, time = 0.08 seconds ___\n"
          ],
          "name": "stdout"
        },
        {
          "output_type": "stream",
          "text": [
            "___ batch index = 250 / 1836 (13.62%), loss = 3.3197, time = 29.23 seconds ___\n"
          ],
          "name": "stdout"
        },
        {
          "output_type": "stream",
          "text": [
            "___ batch index = 500 / 1836 (27.23%), loss = 0.1658, time = 28.18 seconds ___\n"
          ],
          "name": "stdout"
        },
        {
          "output_type": "stream",
          "text": [
            "___ batch index = 750 / 1836 (40.85%), loss = 0.1358, time = 26.14 seconds ___\n"
          ],
          "name": "stdout"
        },
        {
          "output_type": "stream",
          "text": [
            "___ batch index = 1000 / 1836 (54.47%), loss = 0.0910, time = 29.81 seconds ___\n"
          ],
          "name": "stdout"
        },
        {
          "output_type": "stream",
          "text": [
            "___ batch index = 1250 / 1836 (68.08%), loss = 0.0710, time = 27.03 seconds ___\n"
          ],
          "name": "stdout"
        },
        {
          "output_type": "stream",
          "text": [
            "___ batch index = 1500 / 1836 (81.70%), loss = 0.0636, time = 27.27 seconds ___\n"
          ],
          "name": "stdout"
        },
        {
          "output_type": "stream",
          "text": [
            "___ batch index = 1750 / 1836 (95.32%), loss = 0.0464, time = 29.77 seconds ___\n"
          ],
          "name": "stdout"
        },
        {
          "output_type": "stream",
          "text": [
            "\n",
            "*** avg_loss : 0.38, time : ~3.0 min (208.88 sec) ***\n",
            "\n"
          ],
          "name": "stdout"
        },
        {
          "output_type": "stream",
          "text": [
            "==> evaluation : avg_loss = 0.34, time : 28.62 sec\n",
            "\n"
          ],
          "name": "stdout"
        },
        {
          "output_type": "stream",
          "text": [
            "threshold:  [0.03543331]\n",
            "=====>\t{'Positive Rate': array([0.092257], dtype=float32), 'accuracy': 0.1630971993410214, 'f1': 0.16721311475409836, 'recall': 0.9107142857142857, 'specificity': 0.08711433756805807, 'g_mean': 0.2816669517599947, 'default_accuracy': 0.9077429983525536, 'default_f1': 0.0, 'default_recall': 0.0, 'default_specificity': 1.0, 'default_g_mean': 0.0}\n",
            "\n",
            "=============== EPOCH 5 / 6 ===============\n",
            "\n",
            "___ batch index = 0 / 1836 (0.00%), loss = 0.0529, time = 0.07 seconds ___\n"
          ],
          "name": "stdout"
        },
        {
          "output_type": "stream",
          "text": [
            "___ batch index = 250 / 1836 (13.62%), loss = 2.9516, time = 29.09 seconds ___\n"
          ],
          "name": "stdout"
        },
        {
          "output_type": "stream",
          "text": [
            "___ batch index = 500 / 1836 (27.23%), loss = 0.1445, time = 28.10 seconds ___\n"
          ],
          "name": "stdout"
        },
        {
          "output_type": "stream",
          "text": [
            "___ batch index = 750 / 1836 (40.85%), loss = 0.1428, time = 26.03 seconds ___\n"
          ],
          "name": "stdout"
        },
        {
          "output_type": "stream",
          "text": [
            "___ batch index = 1000 / 1836 (54.47%), loss = 0.1041, time = 29.80 seconds ___\n"
          ],
          "name": "stdout"
        },
        {
          "output_type": "stream",
          "text": [
            "___ batch index = 1250 / 1836 (68.08%), loss = 0.0792, time = 27.03 seconds ___\n"
          ],
          "name": "stdout"
        },
        {
          "output_type": "stream",
          "text": [
            "___ batch index = 1500 / 1836 (81.70%), loss = 0.0702, time = 27.27 seconds ___\n"
          ],
          "name": "stdout"
        },
        {
          "output_type": "stream",
          "text": [
            "___ batch index = 1750 / 1836 (95.32%), loss = 0.0542, time = 29.76 seconds ___\n"
          ],
          "name": "stdout"
        },
        {
          "output_type": "stream",
          "text": [
            "\n",
            "*** avg_loss : 0.35, time : ~3.0 min (208.47 sec) ***\n",
            "\n"
          ],
          "name": "stdout"
        },
        {
          "output_type": "stream",
          "text": [
            "==> evaluation : avg_loss = 0.33, time : 28.62 sec\n",
            "\n"
          ],
          "name": "stdout"
        },
        {
          "output_type": "stream",
          "text": [
            "threshold:  [0.04190344]\n",
            "=====>\t{'Positive Rate': array([0.092257], dtype=float32), 'accuracy': 0.16474464579901152, 'f1': 0.16748768472906403, 'recall': 0.9107142857142857, 'specificity': 0.08892921960072596, 'g_mean': 0.28458585823579496, 'default_accuracy': 0.9077429983525536, 'default_f1': 0.0, 'default_recall': 0.0, 'default_specificity': 1.0, 'default_g_mean': 0.0}\n",
            "\n",
            "=============== EPOCH 6 / 6 ===============\n",
            "\n",
            "___ batch index = 0 / 1836 (0.00%), loss = 0.0700, time = 0.07 seconds ___\n"
          ],
          "name": "stdout"
        },
        {
          "output_type": "stream",
          "text": [
            "___ batch index = 250 / 1836 (13.62%), loss = 2.8235, time = 29.10 seconds ___\n"
          ],
          "name": "stdout"
        },
        {
          "output_type": "stream",
          "text": [
            "___ batch index = 500 / 1836 (27.23%), loss = 0.1446, time = 28.10 seconds ___\n"
          ],
          "name": "stdout"
        },
        {
          "output_type": "stream",
          "text": [
            "___ batch index = 750 / 1836 (40.85%), loss = 0.1423, time = 26.04 seconds ___\n"
          ],
          "name": "stdout"
        },
        {
          "output_type": "stream",
          "text": [
            "___ batch index = 1000 / 1836 (54.47%), loss = 0.1049, time = 29.81 seconds ___\n"
          ],
          "name": "stdout"
        },
        {
          "output_type": "stream",
          "text": [
            "___ batch index = 1250 / 1836 (68.08%), loss = 0.0830, time = 27.03 seconds ___\n"
          ],
          "name": "stdout"
        },
        {
          "output_type": "stream",
          "text": [
            "___ batch index = 1500 / 1836 (81.70%), loss = 0.0739, time = 27.31 seconds ___\n"
          ],
          "name": "stdout"
        },
        {
          "output_type": "stream",
          "text": [
            "___ batch index = 1750 / 1836 (95.32%), loss = 0.0578, time = 29.79 seconds ___\n"
          ],
          "name": "stdout"
        },
        {
          "output_type": "stream",
          "text": [
            "\n",
            "*** avg_loss : 0.35, time : ~3.0 min (208.58 sec) ***\n",
            "\n"
          ],
          "name": "stdout"
        },
        {
          "output_type": "stream",
          "text": [
            "==> evaluation : avg_loss = 0.32, time : 28.62 sec\n",
            "\n"
          ],
          "name": "stdout"
        },
        {
          "output_type": "stream",
          "text": [
            "threshold:  [0.04560347]\n",
            "=====>\t{'Positive Rate': array([0.092257], dtype=float32), 'accuracy': 0.1614497528830313, 'f1': 0.1696574225122349, 'recall': 0.9285714285714286, 'specificity': 0.08348457350272233, 'g_mean': 0.27842663249247424, 'default_accuracy': 0.9077429983525536, 'default_f1': 0.0, 'default_recall': 0.0, 'default_specificity': 1.0, 'default_g_mean': 0.0}\n"
          ],
          "name": "stdout"
        },
        {
          "output_type": "stream",
          "text": [
            "@@@@@@@@@@@@@@@@@@@@@@@@@@@@@@@@@@@@@@@@@@@@@ END @@@@@@@@@@@@@@@@@@@@@@@@@@@@@@@@@@@@@@@@@@@@@@@\n"
          ],
          "name": "stdout"
        }
      ]
    }
  ]
}